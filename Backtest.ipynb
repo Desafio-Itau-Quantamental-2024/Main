{
 "cells": [
  {
   "cell_type": "markdown",
   "metadata": {},
   "source": [
    "#### *Instalando as bibliotecas que serão necessárias*"
   ]
  },
  {
   "cell_type": "code",
   "execution_count": 1,
   "metadata": {},
   "outputs": [
    {
     "name": "stdout",
     "output_type": "stream",
     "text": [
      "Defaulting to user installation because normal site-packages is not writeable\n",
      "Requirement already satisfied: pandas in /home/user/.local/lib/python3.10/site-packages (2.0.3)\n",
      "Requirement already satisfied: pytz>=2020.1 in /home/user/.local/lib/python3.10/site-packages (from pandas) (2024.1)\n",
      "Requirement already satisfied: numpy>=1.21.0 in /home/user/.local/lib/python3.10/site-packages (from pandas) (1.24.3)\n",
      "Requirement already satisfied: python-dateutil>=2.8.2 in /home/user/.local/lib/python3.10/site-packages (from pandas) (2.9.0.post0)\n",
      "Requirement already satisfied: tzdata>=2022.1 in /home/user/.local/lib/python3.10/site-packages (from pandas) (2024.1)\n",
      "Requirement already satisfied: six>=1.5 in /usr/lib/python3/dist-packages (from python-dateutil>=2.8.2->pandas) (1.16.0)\n"
     ]
    }
   ],
   "source": [
    "# Instala a biblioteca \"pandas\" que será usada para manipulação de dados.\n",
    "!pip install pandas"
   ]
  },
  {
   "cell_type": "code",
   "execution_count": 2,
   "metadata": {},
   "outputs": [
    {
     "name": "stdout",
     "output_type": "stream",
     "text": [
      "Defaulting to user installation because normal site-packages is not writeable\n",
      "Requirement already satisfied: numpy in /home/user/.local/lib/python3.10/site-packages (1.24.3)\n"
     ]
    }
   ],
   "source": [
    "# Instala a biblioteca \"numpy\" que será usada para operações numéricas.\n",
    "!pip install numpy"
   ]
  },
  {
   "cell_type": "code",
   "execution_count": 3,
   "metadata": {},
   "outputs": [
    {
     "name": "stdout",
     "output_type": "stream",
     "text": [
      "Defaulting to user installation because normal site-packages is not writeable\n",
      "Requirement already satisfied: yfinance in /home/user/.local/lib/python3.10/site-packages (0.2.41)\n",
      "Requirement already satisfied: beautifulsoup4>=4.11.1 in /home/user/.local/lib/python3.10/site-packages (from yfinance) (4.12.3)\n",
      "Requirement already satisfied: html5lib>=1.1 in /home/user/.local/lib/python3.10/site-packages (from yfinance) (1.1)\n",
      "Requirement already satisfied: peewee>=3.16.2 in /home/user/.local/lib/python3.10/site-packages (from yfinance) (3.17.6)\n",
      "Requirement already satisfied: pytz>=2022.5 in /home/user/.local/lib/python3.10/site-packages (from yfinance) (2024.1)\n",
      "Requirement already satisfied: pandas>=1.3.0 in /home/user/.local/lib/python3.10/site-packages (from yfinance) (2.0.3)\n",
      "Requirement already satisfied: platformdirs>=2.0.0 in /home/user/.local/lib/python3.10/site-packages (from yfinance) (4.2.0)\n",
      "Requirement already satisfied: multitasking>=0.0.7 in /home/user/.local/lib/python3.10/site-packages (from yfinance) (0.0.11)\n",
      "Requirement already satisfied: lxml>=4.9.1 in /home/user/.local/lib/python3.10/site-packages (from yfinance) (5.2.2)\n",
      "Requirement already satisfied: frozendict>=2.3.4 in /home/user/.local/lib/python3.10/site-packages (from yfinance) (2.4.4)\n",
      "Requirement already satisfied: requests>=2.31 in /home/user/.local/lib/python3.10/site-packages (from yfinance) (2.31.0)\n",
      "Requirement already satisfied: numpy>=1.16.5 in /home/user/.local/lib/python3.10/site-packages (from yfinance) (1.24.3)\n",
      "Requirement already satisfied: soupsieve>1.2 in /home/user/.local/lib/python3.10/site-packages (from beautifulsoup4>=4.11.1->yfinance) (2.5)\n",
      "Requirement already satisfied: webencodings in /home/user/.local/lib/python3.10/site-packages (from html5lib>=1.1->yfinance) (0.5.1)\n",
      "Requirement already satisfied: six>=1.9 in /usr/lib/python3/dist-packages (from html5lib>=1.1->yfinance) (1.16.0)\n",
      "Requirement already satisfied: python-dateutil>=2.8.2 in /home/user/.local/lib/python3.10/site-packages (from pandas>=1.3.0->yfinance) (2.9.0.post0)\n",
      "Requirement already satisfied: tzdata>=2022.1 in /home/user/.local/lib/python3.10/site-packages (from pandas>=1.3.0->yfinance) (2024.1)\n",
      "Requirement already satisfied: idna<4,>=2.5 in /usr/lib/python3/dist-packages (from requests>=2.31->yfinance) (3.3)\n",
      "Requirement already satisfied: certifi>=2017.4.17 in /usr/lib/python3/dist-packages (from requests>=2.31->yfinance) (2020.6.20)\n",
      "Requirement already satisfied: urllib3<3,>=1.21.1 in /usr/lib/python3/dist-packages (from requests>=2.31->yfinance) (1.26.5)\n",
      "Requirement already satisfied: charset-normalizer<4,>=2 in /home/user/.local/lib/python3.10/site-packages (from requests>=2.31->yfinance) (3.3.2)\n"
     ]
    }
   ],
   "source": [
    "# Instala a biblioteca \"yfinance\" que será usada para obter dados financeiros.\n",
    "!pip install yfinance"
   ]
  },
  {
   "cell_type": "code",
   "execution_count": 4,
   "metadata": {},
   "outputs": [
    {
     "name": "stdout",
     "output_type": "stream",
     "text": [
      "Defaulting to user installation because normal site-packages is not writeable\n",
      "Requirement already satisfied: plotly in /home/user/.local/lib/python3.10/site-packages (5.23.0)\n",
      "Requirement already satisfied: packaging in /home/user/.local/lib/python3.10/site-packages (from plotly) (23.1)\n",
      "Requirement already satisfied: tenacity>=6.2.0 in /home/user/.local/lib/python3.10/site-packages (from plotly) (8.2.3)\n"
     ]
    }
   ],
   "source": [
    "# Instala a biblioteca \"plotly\" que será usada para a exibição de gráficos. \n",
    "!pip install plotly"
   ]
  },
  {
   "cell_type": "markdown",
   "metadata": {},
   "source": [
    "#### *Importando as bibliotecas que serão necessárias*"
   ]
  },
  {
   "cell_type": "code",
   "execution_count": 5,
   "metadata": {},
   "outputs": [
    {
     "name": "stderr",
     "output_type": "stream",
     "text": [
      "2024-11-14 13:12:15.711731: I external/local_xla/xla/tsl/cuda/cudart_stub.cc:32] Could not find cuda drivers on your machine, GPU will not be used.\n",
      "2024-11-14 13:12:15.763972: I external/local_xla/xla/tsl/cuda/cudart_stub.cc:32] Could not find cuda drivers on your machine, GPU will not be used.\n",
      "2024-11-14 13:12:15.802761: E external/local_xla/xla/stream_executor/cuda/cuda_fft.cc:485] Unable to register cuFFT factory: Attempting to register factory for plugin cuFFT when one has already been registered\n",
      "2024-11-14 13:12:15.850248: E external/local_xla/xla/stream_executor/cuda/cuda_dnn.cc:8454] Unable to register cuDNN factory: Attempting to register factory for plugin cuDNN when one has already been registered\n",
      "2024-11-14 13:12:15.863760: E external/local_xla/xla/stream_executor/cuda/cuda_blas.cc:1452] Unable to register cuBLAS factory: Attempting to register factory for plugin cuBLAS when one has already been registered\n",
      "2024-11-14 13:12:15.912735: I tensorflow/core/platform/cpu_feature_guard.cc:210] This TensorFlow binary is optimized to use available CPU instructions in performance-critical operations.\n",
      "To enable the following instructions: AVX2 FMA, in other operations, rebuild TensorFlow with the appropriate compiler flags.\n",
      "2024-11-14 13:12:18.535902: W tensorflow/compiler/tf2tensorrt/utils/py_utils.cc:38] TF-TRT Warning: Could not find TensorRT\n"
     ]
    }
   ],
   "source": [
    "# Importa a biblioteca \"pandas\", que será usada para manipulação de dados.\n",
    "import pandas as pd\n",
    "\n",
    "# Importa a biblioteca \"numpy\", que será usada para operações numéricas.\n",
    "import numpy as np\n",
    "\n",
    "# Importa a biblioteca \"yfinance\" para obter alguns dados de certas ações.\n",
    "import yfinance as yf\n",
    "\n",
    "# Importa o módulo \"graph_objects\" da biblioteca \"plotly\" para lidar com a exibição de gráficos.\n",
    "import plotly.graph_objects as go\n",
    "\n",
    "# Importa o módulo datetime da biblioteca \"datetime\" para lidar com datas.\n",
    "from datetime import datetime, timedelta\n",
    "\n",
    "# Importa a biblioteca \"math\" para lidar com certas operações matemáticas.\n",
    "import math\n",
    "\n",
    "# Importa o módulo Optional da biblioteca \"typing\" para lidar com a padronização dos tipos de parâmetros opcionais das funções.\n",
    "from typing import Optional\n",
    "\n",
    "# Importa a classe Ticker da \"biblioteca\" Ticker para lidar com ativos financeiros. \n",
    "from Ticker import Ticker\n",
    "\n",
    "# Importa a classe Model da \"biblioteca\" Model para lidar com redes neurais do tipo LSTM.\n",
    "from Model import Model\n",
    "\n",
    "# Importa o módulo MinMaxScaler da biblioteca \"sklearn\", que será utilizado para realizar a \"desnormalização\" \n",
    "# das variáveis target que foram usadas no modelo LSTM.\n",
    "from sklearn.preprocessing import MinMaxScaler"
   ]
  },
  {
   "cell_type": "markdown",
   "metadata": {},
   "source": [
    "#### *Definindo funções para processar os arquivos .xlsx*"
   ]
  },
  {
   "cell_type": "code",
   "execution_count": 6,
   "metadata": {},
   "outputs": [],
   "source": [
    "def process_file_and_get_results(filename: str) -> pd.DataFrame:\n",
    "    '''\n",
    "        Description:\n",
    "\n",
    "        Args:\n",
    "\n",
    "        Return:\n",
    "    '''\n",
    "\n",
    "    # Ler todas as planilhas do arquivo Excel\n",
    "    dfs = pd.read_excel(filename, sheet_name=None)\n",
    "    \n",
    "    #\n",
    "    first_trading_day = dfs['Período 1'][dfs['Período 1'].columns[0]][0].split(\" - \")[0]\n",
    "    #\n",
    "    first_trading_day = np.datetime64(first_trading_day)\n",
    "    \n",
    "    #\n",
    "    results = pd.DataFrame({\n",
    "        \"Retorno Long\": 0,\n",
    "        \"Retorno Short\": 0,\n",
    "        \"Retorno Total\": 0\n",
    "    }, index=[first_trading_day])\n",
    "    \n",
    "    # Acessar e trabalhar com cada DataFrame\n",
    "    for period, df in dfs.items():\n",
    "        if not df.empty:\n",
    "            #\n",
    "            period_last_trading_day = df[df.columns[0]][0].split(\" - \")[1]\n",
    "            #\n",
    "            period_last_trading_day = np.datetime64(period_last_trading_day)\n",
    "            #\n",
    "            tickers_to_trade = math.ceil(df.shape[0]*0.1)\n",
    "            #\n",
    "            period_long_return = df.iloc[:tickers_to_trade]['Retorno Real'].mean() # Trocar por um .sum() ?\n",
    "            #\n",
    "            period_short_return = df.iloc[df.shape[0] - tickers_to_trade:]['Retorno Real'].mean()\n",
    "            #\n",
    "            result = pd.DataFrame({\n",
    "                \"Retorno Long\": period_long_return,\n",
    "                \"Retorno Short\": period_short_return*(-1),\n",
    "                \"Retorno Total\": period_long_return + period_short_return*(-1)\n",
    "            },index=[period_last_trading_day])\n",
    "            #\n",
    "            results = pd.concat([results, result])\n",
    "    \n",
    "    return results\n",
    "            "
   ]
  },
  {
   "cell_type": "code",
   "execution_count": 7,
   "metadata": {},
   "outputs": [],
   "source": [
    "def process_files_and_get_results(filesname: list) -> list:\n",
    "    '''\n",
    "        Description:\n",
    "\n",
    "        Args:\n",
    "\n",
    "        Return:\n",
    "    '''\n",
    "    \n",
    "    #\n",
    "    results = []\n",
    "    \n",
    "    #\n",
    "    for xlsx_number, xlsx in enumerate(filesname):\n",
    "        #\n",
    "        result = process_file_and_get_results(xlsx)\n",
    "        #\n",
    "        result.name = f\"Retornos da Estratégia na Previsão {xlsx_number}\"\n",
    "        #\n",
    "        results.append(result)\n",
    "        \n",
    "    return results"
   ]
  },
  {
   "cell_type": "code",
   "execution_count": 8,
   "metadata": {},
   "outputs": [],
   "source": [
    "def get_average_result(results: list) -> pd.Series:\n",
    "    '''\n",
    "        Description:\n",
    "\n",
    "        Args:\n",
    "\n",
    "        Return:\n",
    "\n",
    "    '''\n",
    "    \n",
    "    # Garantir que todos os resultados em results tenham o mesmo tamanho (para poder inicializar o average_result).\n",
    "    \n",
    "    \n",
    "    average_result = np.zeros(len(results[0]))\n",
    "        \n",
    "    for result in results:\n",
    "        average_result += result\n",
    "    \n",
    "    average_result = average_result/len(results)\n",
    "    \n",
    "    average_result.name = \"Retornos da Média das Previsões\"\n",
    "    \n",
    "    return average_result"
   ]
  },
  {
   "cell_type": "code",
   "execution_count": 9,
   "metadata": {},
   "outputs": [],
   "source": [
    "def get_ticker_standardized_returns(symbol, reference_data, strategy_time_period: str, \n",
    "                                    standardized_returns_name=\"\", standardized_cumulative_returns_name=\"\") -> pd.Series:\n",
    "    '''\n",
    "        Description:\n",
    "\n",
    "        Args:\n",
    "\n",
    "        Return:\n",
    "    '''\n",
    "\n",
    "    #\n",
    "    period = 5 if (strategy_time_period == \"W\") else 20\n",
    "    #\n",
    "    periods_number = len(reference_data)\n",
    "    \n",
    "    #\n",
    "    result = np.zeros(periods_number)\n",
    "    \n",
    "    #\n",
    "    data_extraction_initial_day = reference_data.index[0]\n",
    "    #\n",
    "    data_extraction_final_day = reference_data.index[-1] + timedelta(1) # O time delta 1 é por que o yf não inclui o último dia de \n",
    "                                                                        # negociação passado como parâmetro. Logo, somando um timedelta(1),\n",
    "                                                                        # tal dia será incluido na extração de dados do S&P500 index.\n",
    "                                                                            \n",
    "    #\n",
    "    adj_close = yf.download(symbol, data_extraction_initial_day, data_extraction_final_day)['Adj Close']\n",
    "    \n",
    "    #\n",
    "    result[0] = np.log((adj_close[period - 1])/adj_close[0])*100\n",
    "    #\n",
    "    for period_number in range(1, periods_number):\n",
    "        #\n",
    "        result[period_number] = np.log((adj_close[(period)*period_number - 1 + (period)])/(adj_close[(period)*period_number]))*100\n",
    "        \n",
    "    #\n",
    "    result = pd.Series(result, reference_data.index)\n",
    "    #\n",
    "    cumulative_result = result.cumsum()\n",
    "    #\n",
    "    result.name = standardized_returns_name\n",
    "    #\n",
    "    cumulative_result.name = standardized_cumulative_returns_name\n",
    "    \n",
    "    return result, cumulative_result"
   ]
  },
  {
   "cell_type": "markdown",
   "metadata": {},
   "source": [
    "#### *Definindo algumas variáveis que serão importantes para a exibição de resultados*"
   ]
  },
  {
   "cell_type": "code",
   "execution_count": 10,
   "metadata": {},
   "outputs": [],
   "source": [
    "setup = {\n",
    "    #\n",
    "    \"monthly_results_sheets\": ['resultados_portfolio_mensal_full_1.xlsx', 'resultados_portfolio_mensal_full_2.xlsx',\n",
    "                               'resultados_portfolio_mensal_full_3.xlsx', 'resultados_portfolio_mensal_full_4.xlsx',\n",
    "                               'resultados_portfolio_mensal_full_5.xlsx'],\n",
    "    #\n",
    "    \"weekly_results_sheets\": ['resultados_portfolio_semanal_full_1.xlsx']\n",
    "}"
   ]
  },
  {
   "cell_type": "code",
   "execution_count": 11,
   "metadata": {},
   "outputs": [],
   "source": [
    "#\n",
    "monthly_all_results = process_files_and_get_results(setup['monthly_results_sheets'])"
   ]
  },
  {
   "cell_type": "code",
   "execution_count": 12,
   "metadata": {},
   "outputs": [
    {
     "data": {
      "text/plain": [
       "[            Retorno Long  Retorno Short  Retorno Total\n",
       " 2019-02-22      0.000000       0.000000       0.000000\n",
       " 2019-03-21      4.859427      -0.843110       4.016317\n",
       " 2019-04-18      4.864098       4.751421       9.615520\n",
       " 2019-05-17      5.933391       1.608149       7.541540\n",
       " 2019-06-17      5.581319       0.784655       6.365974\n",
       " ...                  ...            ...            ...\n",
       " 2023-08-31      1.373854       5.146577       6.520432\n",
       " 2023-09-29      2.502946       7.393518       9.896464\n",
       " 2023-10-27      4.109963       5.521749       9.631712\n",
       " 2023-11-27      6.950656       3.101948      10.052604\n",
       " 2023-12-26      7.329663       2.823899      10.153562\n",
       " \n",
       " [61 rows x 3 columns],\n",
       "             Retorno Long  Retorno Short  Retorno Total\n",
       " 2019-02-22      0.000000       0.000000       0.000000\n",
       " 2019-03-21      6.267345      -0.100725       6.166620\n",
       " 2019-04-18      4.779837       4.123900       8.903737\n",
       " 2019-05-17      5.699338       1.164150       6.863488\n",
       " 2019-06-17      5.581320      -0.360588       5.220733\n",
       " ...                  ...            ...            ...\n",
       " 2023-08-31      1.373857       5.146580       6.520437\n",
       " 2023-09-29      2.502941       7.054072       9.557013\n",
       " 2023-10-27      4.253324       5.521747       9.775071\n",
       " 2023-11-27      6.746918       1.786716       8.533635\n",
       " 2023-12-26      7.329658       3.541588      10.871246\n",
       " \n",
       " [61 rows x 3 columns],\n",
       "             Retorno Long  Retorno Short  Retorno Total\n",
       " 2019-02-22      0.000000       0.000000       0.000000\n",
       " 2019-03-21      5.314519      -0.100741       5.213778\n",
       " 2019-04-18      4.692802       3.467355       8.160157\n",
       " 2019-05-17      6.400990       1.834995       8.235985\n",
       " 2019-06-17      5.637725       0.784657       6.422383\n",
       " ...                  ...            ...            ...\n",
       " 2023-08-31      1.373850       5.146575       6.520425\n",
       " 2023-09-29      2.502945       7.393518       9.896462\n",
       " 2023-10-27      4.826801       6.032073      10.858874\n",
       " 2023-11-27      6.950660       3.101951      10.052611\n",
       " 2023-12-26      7.329661       3.125437      10.455097\n",
       " \n",
       " [61 rows x 3 columns],\n",
       "             Retorno Long  Retorno Short  Retorno Total\n",
       " 2019-02-22      0.000000       0.000000       0.000000\n",
       " 2019-03-21      6.597265      -0.100745       6.496520\n",
       " 2019-04-18      5.603096       4.751433      10.354528\n",
       " 2019-05-17      4.596370       1.841688       6.438058\n",
       " 2019-06-17      4.739016      -0.038713       4.700302\n",
       " ...                  ...            ...            ...\n",
       " 2023-08-31      1.328703       5.012453       6.341156\n",
       " 2023-09-29      2.502943       7.393509       9.896452\n",
       " 2023-10-27      4.253327       5.521753       9.775080\n",
       " 2023-11-27      6.950658       2.436738       9.387396\n",
       " 2023-12-26      7.329657       3.541581      10.871238\n",
       " \n",
       " [61 rows x 3 columns],\n",
       "             Retorno Long  Retorno Short  Retorno Total\n",
       " 2019-02-22      0.000000       0.000000       0.000000\n",
       " 2019-03-21      4.846456      -0.246316       4.600140\n",
       " 2019-04-18      5.954547       4.315852      10.270399\n",
       " 2019-05-17      6.646773       0.995059       7.641831\n",
       " 2019-06-17      4.920749       1.417364       6.338113\n",
       " ...                  ...            ...            ...\n",
       " 2023-08-31      1.373853       5.146578       6.520430\n",
       " 2023-09-29      2.502946       7.393514       9.896459\n",
       " 2023-10-27      4.379042       8.112374      12.491416\n",
       " 2023-11-27      8.052742       2.436738      10.489480\n",
       " 2023-12-26      8.367501       2.217077      10.584578\n",
       " \n",
       " [61 rows x 3 columns]]"
      ]
     },
     "execution_count": 12,
     "metadata": {},
     "output_type": "execute_result"
    }
   ],
   "source": [
    "monthly_all_results"
   ]
  },
  {
   "cell_type": "code",
   "execution_count": 13,
   "metadata": {},
   "outputs": [],
   "source": [
    "monthly_results = [element['Retorno Total'] for element in monthly_all_results]\n",
    "\n",
    "for index, result  in enumerate(monthly_results): \n",
    "    result.name = f\"Retornos da Estratégia na Previsão {index}\""
   ]
  },
  {
   "cell_type": "code",
   "execution_count": 14,
   "metadata": {},
   "outputs": [
    {
     "data": {
      "text/plain": [
       "[2019-02-22     0.000000\n",
       " 2019-03-21     4.016317\n",
       " 2019-04-18     9.615520\n",
       " 2019-05-17     7.541540\n",
       " 2019-06-17     6.365974\n",
       "                 ...    \n",
       " 2023-08-31     6.520432\n",
       " 2023-09-29     9.896464\n",
       " 2023-10-27     9.631712\n",
       " 2023-11-27    10.052604\n",
       " 2023-12-26    10.153562\n",
       " Name: Retornos da Estratégia na Previsão 0, Length: 61, dtype: float64,\n",
       " 2019-02-22     0.000000\n",
       " 2019-03-21     6.166620\n",
       " 2019-04-18     8.903737\n",
       " 2019-05-17     6.863488\n",
       " 2019-06-17     5.220733\n",
       "                 ...    \n",
       " 2023-08-31     6.520437\n",
       " 2023-09-29     9.557013\n",
       " 2023-10-27     9.775071\n",
       " 2023-11-27     8.533635\n",
       " 2023-12-26    10.871246\n",
       " Name: Retornos da Estratégia na Previsão 1, Length: 61, dtype: float64,\n",
       " 2019-02-22     0.000000\n",
       " 2019-03-21     5.213778\n",
       " 2019-04-18     8.160157\n",
       " 2019-05-17     8.235985\n",
       " 2019-06-17     6.422383\n",
       "                 ...    \n",
       " 2023-08-31     6.520425\n",
       " 2023-09-29     9.896462\n",
       " 2023-10-27    10.858874\n",
       " 2023-11-27    10.052611\n",
       " 2023-12-26    10.455097\n",
       " Name: Retornos da Estratégia na Previsão 2, Length: 61, dtype: float64,\n",
       " 2019-02-22     0.000000\n",
       " 2019-03-21     6.496520\n",
       " 2019-04-18    10.354528\n",
       " 2019-05-17     6.438058\n",
       " 2019-06-17     4.700302\n",
       "                 ...    \n",
       " 2023-08-31     6.341156\n",
       " 2023-09-29     9.896452\n",
       " 2023-10-27     9.775080\n",
       " 2023-11-27     9.387396\n",
       " 2023-12-26    10.871238\n",
       " Name: Retornos da Estratégia na Previsão 3, Length: 61, dtype: float64,\n",
       " 2019-02-22     0.000000\n",
       " 2019-03-21     4.600140\n",
       " 2019-04-18    10.270399\n",
       " 2019-05-17     7.641831\n",
       " 2019-06-17     6.338113\n",
       "                 ...    \n",
       " 2023-08-31     6.520430\n",
       " 2023-09-29     9.896459\n",
       " 2023-10-27    12.491416\n",
       " 2023-11-27    10.489480\n",
       " 2023-12-26    10.584578\n",
       " Name: Retornos da Estratégia na Previsão 4, Length: 61, dtype: float64]"
      ]
     },
     "execution_count": 14,
     "metadata": {},
     "output_type": "execute_result"
    }
   ],
   "source": [
    "monthly_results"
   ]
  },
  {
   "cell_type": "code",
   "execution_count": 15,
   "metadata": {},
   "outputs": [],
   "source": [
    "#\n",
    "weekly_results = process_file_and_get_results(setup['weekly_results_sheets'][0]) # O .xlsx semanal é processado desse jeito pois, por hora,\n",
    "                                                                                 # só possuímos 1 dele."
   ]
  },
  {
   "cell_type": "code",
   "execution_count": 16,
   "metadata": {},
   "outputs": [],
   "source": [
    "#\n",
    "average_monthly_results = get_average_result(monthly_results)"
   ]
  },
  {
   "cell_type": "code",
   "execution_count": 17,
   "metadata": {},
   "outputs": [
    {
     "data": {
      "text/plain": [
       "619.0030838362336"
      ]
     },
     "execution_count": 17,
     "metadata": {},
     "output_type": "execute_result"
    }
   ],
   "source": [
    "average_monthly_results.sum()"
   ]
  },
  {
   "cell_type": "code",
   "execution_count": 18,
   "metadata": {},
   "outputs": [
    {
     "name": "stderr",
     "output_type": "stream",
     "text": [
      "[*********************100%%**********************]  1 of 1 completed\n"
     ]
    }
   ],
   "source": [
    "# Posso usar qualquer \"result\" em \"results\" como reference_data, já que, ambos \"result\" possuem as mesmas datas como índices.\n",
    "\n",
    "sp500_index_period_returns, sp500_index_cumulative_returns = get_ticker_standardized_returns('^GSPC', monthly_results[0], \"M\",\n",
    "                                                                                             \"Retornos do S&P500 Index\",\n",
    "                                                                                             \"Retornos Acumulados do S&P500 Index\")"
   ]
  },
  {
   "cell_type": "code",
   "execution_count": 19,
   "metadata": {},
   "outputs": [],
   "source": [
    "\n",
    "# Exemplo de como exportar para um arquivo Excel com duas planilhas\n",
    "with pd.ExcelWriter('sp500_returns.xlsx') as writer:\n",
    "    sp500_index_period_returns.to_excel(writer, sheet_name='Period Returns')\n",
    "    sp500_index_cumulative_returns.to_excel(writer, sheet_name='Cumulative Returns')\n"
   ]
  },
  {
   "cell_type": "markdown",
   "metadata": {},
   "source": [
    "#### *Exibindo e explicando as variáveis definidas na seção anterior*"
   ]
  },
  {
   "cell_type": "code",
   "execution_count": 20,
   "metadata": {},
   "outputs": [
    {
     "data": {
      "text/plain": [
       "2019-02-22     0.000000\n",
       "2019-03-21     4.016317\n",
       "2019-04-18     9.615520\n",
       "2019-05-17     7.541540\n",
       "2019-06-17     6.365974\n",
       "                ...    \n",
       "2023-08-31     6.520432\n",
       "2023-09-29     9.896464\n",
       "2023-10-27     9.631712\n",
       "2023-11-27    10.052604\n",
       "2023-12-26    10.153562\n",
       "Name: Retornos da Estratégia na Previsão 0, Length: 61, dtype: float64"
      ]
     },
     "execution_count": 20,
     "metadata": {},
     "output_type": "execute_result"
    }
   ],
   "source": [
    "#\n",
    "monthly_results[0]"
   ]
  },
  {
   "cell_type": "code",
   "execution_count": 21,
   "metadata": {},
   "outputs": [
    {
     "data": {
      "text/plain": [
       "2019-02-22     0.000000\n",
       "2019-03-21     4.016317\n",
       "2019-04-18     9.615520\n",
       "2019-05-17     7.541540\n",
       "2019-06-17     6.365974\n",
       "                ...    \n",
       "2023-08-31     6.520432\n",
       "2023-09-29     9.896464\n",
       "2023-10-27     9.631712\n",
       "2023-11-27    10.052604\n",
       "2023-12-26    10.153562\n",
       "Name: Retornos da Estratégia na Previsão 0, Length: 61, dtype: float64"
      ]
     },
     "execution_count": 21,
     "metadata": {},
     "output_type": "execute_result"
    }
   ],
   "source": [
    "#\n",
    "monthly_results[0]"
   ]
  },
  {
   "cell_type": "code",
   "execution_count": 22,
   "metadata": {},
   "outputs": [
    {
     "data": {
      "text/plain": [
       "2019-02-22     0.000000\n",
       "2019-03-21     5.298675\n",
       "2019-04-18     9.460868\n",
       "2019-05-17     7.344180\n",
       "2019-06-17     5.809501\n",
       "                ...    \n",
       "2023-08-31     6.484576\n",
       "2023-09-29     9.828570\n",
       "2023-10-27    10.506431\n",
       "2023-11-27     9.703145\n",
       "2023-12-26    10.587144\n",
       "Name: Retornos da Média das Previsões, Length: 61, dtype: float64"
      ]
     },
     "execution_count": 22,
     "metadata": {},
     "output_type": "execute_result"
    }
   ],
   "source": [
    "#\n",
    "average_monthly_results"
   ]
  },
  {
   "cell_type": "code",
   "execution_count": 23,
   "metadata": {},
   "outputs": [
    {
     "data": {
      "text/html": [
       "<div>\n",
       "<style scoped>\n",
       "    .dataframe tbody tr th:only-of-type {\n",
       "        vertical-align: middle;\n",
       "    }\n",
       "\n",
       "    .dataframe tbody tr th {\n",
       "        vertical-align: top;\n",
       "    }\n",
       "\n",
       "    .dataframe thead th {\n",
       "        text-align: right;\n",
       "    }\n",
       "</style>\n",
       "<table border=\"1\" class=\"dataframe\">\n",
       "  <thead>\n",
       "    <tr style=\"text-align: right;\">\n",
       "      <th></th>\n",
       "      <th>Retorno Long</th>\n",
       "      <th>Retorno Short</th>\n",
       "      <th>Retorno Total</th>\n",
       "    </tr>\n",
       "  </thead>\n",
       "  <tbody>\n",
       "    <tr>\n",
       "      <th>2019-01-31</th>\n",
       "      <td>0.000000</td>\n",
       "      <td>0.000000</td>\n",
       "      <td>0.000000</td>\n",
       "    </tr>\n",
       "    <tr>\n",
       "      <th>2019-02-06</th>\n",
       "      <td>-0.119412</td>\n",
       "      <td>-0.041951</td>\n",
       "      <td>-0.161363</td>\n",
       "    </tr>\n",
       "    <tr>\n",
       "      <th>2019-02-13</th>\n",
       "      <td>-0.023905</td>\n",
       "      <td>-0.602488</td>\n",
       "      <td>-0.626393</td>\n",
       "    </tr>\n",
       "    <tr>\n",
       "      <th>2019-02-21</th>\n",
       "      <td>0.110191</td>\n",
       "      <td>-0.923267</td>\n",
       "      <td>-0.813076</td>\n",
       "    </tr>\n",
       "    <tr>\n",
       "      <th>2019-02-28</th>\n",
       "      <td>0.447097</td>\n",
       "      <td>-0.148401</td>\n",
       "      <td>0.298696</td>\n",
       "    </tr>\n",
       "    <tr>\n",
       "      <th>...</th>\n",
       "      <td>...</td>\n",
       "      <td>...</td>\n",
       "      <td>...</td>\n",
       "    </tr>\n",
       "    <tr>\n",
       "      <th>2023-11-27</th>\n",
       "      <td>-0.243826</td>\n",
       "      <td>0.328808</td>\n",
       "      <td>0.084982</td>\n",
       "    </tr>\n",
       "    <tr>\n",
       "      <th>2023-12-04</th>\n",
       "      <td>0.677020</td>\n",
       "      <td>0.079925</td>\n",
       "      <td>0.756945</td>\n",
       "    </tr>\n",
       "    <tr>\n",
       "      <th>2023-12-11</th>\n",
       "      <td>0.474322</td>\n",
       "      <td>-0.504968</td>\n",
       "      <td>-0.030646</td>\n",
       "    </tr>\n",
       "    <tr>\n",
       "      <th>2023-12-18</th>\n",
       "      <td>-0.061220</td>\n",
       "      <td>-0.433529</td>\n",
       "      <td>-0.494749</td>\n",
       "    </tr>\n",
       "    <tr>\n",
       "      <th>2023-12-26</th>\n",
       "      <td>0.507751</td>\n",
       "      <td>0.080631</td>\n",
       "      <td>0.588381</td>\n",
       "    </tr>\n",
       "  </tbody>\n",
       "</table>\n",
       "<p>244 rows × 3 columns</p>\n",
       "</div>"
      ],
      "text/plain": [
       "            Retorno Long  Retorno Short  Retorno Total\n",
       "2019-01-31      0.000000       0.000000       0.000000\n",
       "2019-02-06     -0.119412      -0.041951      -0.161363\n",
       "2019-02-13     -0.023905      -0.602488      -0.626393\n",
       "2019-02-21      0.110191      -0.923267      -0.813076\n",
       "2019-02-28      0.447097      -0.148401       0.298696\n",
       "...                  ...            ...            ...\n",
       "2023-11-27     -0.243826       0.328808       0.084982\n",
       "2023-12-04      0.677020       0.079925       0.756945\n",
       "2023-12-11      0.474322      -0.504968      -0.030646\n",
       "2023-12-18     -0.061220      -0.433529      -0.494749\n",
       "2023-12-26      0.507751       0.080631       0.588381\n",
       "\n",
       "[244 rows x 3 columns]"
      ]
     },
     "execution_count": 23,
     "metadata": {},
     "output_type": "execute_result"
    }
   ],
   "source": [
    "#\n",
    "weekly_results"
   ]
  },
  {
   "cell_type": "code",
   "execution_count": 24,
   "metadata": {},
   "outputs": [
    {
     "data": {
      "text/plain": [
       "2019-02-22     0.000000\n",
       "2019-03-21     4.016317\n",
       "2019-04-18     9.615520\n",
       "2019-05-17     7.541540\n",
       "2019-06-17     6.365974\n",
       "                ...    \n",
       "2023-08-31     6.520432\n",
       "2023-09-29     9.896464\n",
       "2023-10-27     9.631712\n",
       "2023-11-27    10.052604\n",
       "2023-12-26    10.153562\n",
       "Name: Retornos da Estratégia na Previsão 0, Length: 61, dtype: float64"
      ]
     },
     "execution_count": 24,
     "metadata": {},
     "output_type": "execute_result"
    }
   ],
   "source": [
    "#\n",
    "monthly_results[0]"
   ]
  },
  {
   "cell_type": "code",
   "execution_count": 25,
   "metadata": {},
   "outputs": [
    {
     "data": {
      "text/plain": [
       "2019-02-22    2.203167\n",
       "2019-03-21    3.657078\n",
       "2019-04-18   -1.679795\n",
       "2019-05-17    1.725725\n",
       "2019-06-17    2.914529\n",
       "                ...   \n",
       "2023-08-31    0.659504\n",
       "2023-09-29   -5.174368\n",
       "2023-10-27   -4.069676\n",
       "2023-11-27    8.806866\n",
       "2023-12-26    4.714021\n",
       "Name: Retornos do S&P500 Index, Length: 61, dtype: float64"
      ]
     },
     "execution_count": 25,
     "metadata": {},
     "output_type": "execute_result"
    }
   ],
   "source": [
    "#\n",
    "sp500_index_period_returns"
   ]
  },
  {
   "cell_type": "code",
   "execution_count": 26,
   "metadata": {},
   "outputs": [
    {
     "data": {
      "text/plain": [
       "2019-02-22     2.203167\n",
       "2019-03-21     5.860246\n",
       "2019-04-18     4.180451\n",
       "2019-05-17     5.906176\n",
       "2019-06-17     8.820705\n",
       "                ...    \n",
       "2023-08-31    52.594225\n",
       "2023-09-29    47.419857\n",
       "2023-10-27    43.350180\n",
       "2023-11-27    52.157046\n",
       "2023-12-26    56.871067\n",
       "Name: Retornos Acumulados do S&P500 Index, Length: 61, dtype: float64"
      ]
     },
     "execution_count": 26,
     "metadata": {},
     "output_type": "execute_result"
    }
   ],
   "source": [
    "#\n",
    "sp500_index_cumulative_returns"
   ]
  },
  {
   "cell_type": "markdown",
   "metadata": {},
   "source": [
    "#### *Definindo algumas funções que serão úteis para plotar gráficos*"
   ]
  },
  {
   "cell_type": "code",
   "execution_count": 27,
   "metadata": {},
   "outputs": [],
   "source": [
    "def plot_time_serie_line_graph(serie: pd.Series, serie_title: Optional[str] = \"\", serie_xaxis_title: Optional[str] = \"\", \n",
    "                               serie_yaxis_title: Optional[str] = \"\", annotation_text: Optional[str] = \"\") -> None:\n",
    "    '''\n",
    "        Description:\n",
    "            Essa função é responsável por realizar o plot de uma série temporal.\n",
    "        Args:\n",
    "            serie (pd.Series): Série temporal cujos dados serão utilizados para o plot. Os valores de tal série temporal estarão no eixo y,\n",
    "            enquanto os índices dessa série estarão no eixo x.\n",
    "            title (string):\n",
    "            xaxis_title (string):\n",
    "            yaxis_title (string):\n",
    "            \n",
    "        Return:\n",
    "            Essa função plota a série temporal, mas não retorna nada.\n",
    "    '''\n",
    "    \n",
    "    # Cria a figure onde a série temporal em questão será plotada.\n",
    "    fig = go.Figure()\n",
    "    \n",
    "    # Adiciona o gráfico da série temporal em questão ao plot.\n",
    "    fig.add_trace(go.Scatter(\n",
    "        # Define os valores do eixo x do plot.\n",
    "        x = serie.index,\n",
    "        # Define os valores do eixo y do plot.\n",
    "        y = serie.values,\n",
    "        # Define o tipo do gráfico que será plotado.\n",
    "        mode = \"lines\"\n",
    "    ))\n",
    "        \n",
    "    # Adiciona a anotação ao gráfico\n",
    "    fig.add_annotation(\n",
    "        x=0.95, y=0.95, \n",
    "        text=annotation_text, \n",
    "        showarrow=False, \n",
    "        font=dict(size=12, color=\"black\"), \n",
    "        align=\"center\", \n",
    "        xref=\"paper\", yref=\"paper\", \n",
    "        bgcolor=\"white\", opacity=0.7\n",
    "    )\n",
    "    \n",
    "    # Adiciona algumas legendas ao plot.\n",
    "    fig.update_layout(\n",
    "        # Adiciona um título ao plot.\n",
    "        title = serie_title,\n",
    "        # Adiciona uma legenda ao eixo x do plot.\n",
    "        xaxis_title = serie_xaxis_title,\n",
    "        # Adiciona uma legenda ao eixo y do plot.\n",
    "        yaxis_title = serie_yaxis_title\n",
    "    )\n",
    "    \n",
    "    # Exibe o plot criado.\n",
    "    fig.show()"
   ]
  },
  {
   "cell_type": "code",
   "execution_count": 28,
   "metadata": {},
   "outputs": [],
   "source": [
    "def plot_multiples_time_series_line_graphs(data_list: list, serie_title: Optional[str] = \"\", serie_xaxis_title: Optional[str] = \"\", \n",
    "                               serie_yaxis_title: Optional[str] = \"\", annotation_text: Optional[str] = \"\") -> None:\n",
    "    '''\n",
    "        Description:\n",
    "            Esta função exibe em um mesmo plot múltiplos gráficos de séries temporais. \n",
    "        Args:\n",
    "            data_list (list): Lista contendo as séries temporais cujos gráficos serão exibidos no plot. Os valores de tais séries temporais\n",
    "                              estarão no eixo y, enquanto os índices dessas séries estarão no eixo x.\n",
    "            title (string) [Optional]: Título do plot.\n",
    "            xaxis_title (string) [Optional]: Título do eixo x do plot.\n",
    "            yaxis_title (string) [Optional]: Título do eixo y do plot.\n",
    "        Return:\n",
    "            None: A função exibe os gráficos, mas não retorna nenhum valor.  \n",
    "        Errors:\n",
    "            TypeError: É esperado que todas os elementos da lista \"data_list\" sejam objetos do tipo pd.Series, isto é, que sejam séries temporais.\n",
    "            ValueError: É esperado que todas as séries temporais presentes na variável \"data_list\" possuam os mesmos índices. \n",
    "            TypeError: É esperado que todas as séries temporais presentes na variável data_list possuam um atributo \"name\".\n",
    "    '''    \n",
    "\n",
    "    # Verifica se todos os elementos presentes na lista \"data_list\" são séries temporais.\n",
    "    are_all_data_time_series = all(isinstance(df, pd.Series) for df in data_list)\n",
    "    \n",
    "    # Retorna um erro caso algum dos dados presentes na variável \"data_list\" não seja uma série temporal\n",
    "    if not are_all_data_time_series:\n",
    "        raise TypeError(\"Todos os dados presentes no parâmetro 'data_list' devem ser séries temporais.\")\n",
    "    \n",
    "    # Verifica se as séries temporais presentes na variável \"data_list\" possuem os mesmos índices.\n",
    "    are_all_index_equal = all(df.index.equals(data_list[0].index) for df in data_list)\n",
    "    \n",
    "    # Retorna um erro caso as séries temporais possuam índices diferentes.\n",
    "    if not are_all_index_equal:\n",
    "        raise ValueError(\"Todos as séries temporais devem possuir os mesmos índices.\")\n",
    "    \n",
    "    # Verifica se todas as séries temporais presentes na variável \"data_list\" possuem o atributo \"name\".\n",
    "    all_time_series_have_names = all(hasattr(df,\"name\") for df in data_list)\n",
    "    \n",
    "    # Retorna um erro caso uma das séries temporais presentes na variável \"data_list\" não possua o atributo \"name\".\n",
    "    if not all_time_series_have_names:\n",
    "        raise TypeError(\"Todas as séries temporais devem possuir o atributo 'name'\")\n",
    "    \n",
    "    # Cria uma lista de timestamps que representará o eixo x do gráfico que será plotado.\n",
    "    x_axis = data_list[0].index.tolist() # Observe que só podemos fazer isso pois temos certeza que todas as séries temporais possuem os mesmos índices.\n",
    "    # Cria a figura onde será plotado o gráfico.\n",
    "    fig = go.Figure()\n",
    "\n",
    "    # Adiciona cada série temporal ao gráfico.\n",
    "    for time_serie in data_list:\n",
    "        # Plota o gráfico (Data x Valor da Ação) do ticker em questão.\n",
    "        fig.add_trace(go.Scatter(x=x_axis, y=time_serie.values, mode=\"lines\", name=time_serie.name))\n",
    "    \n",
    "    # Adiciona a anotação ao gráfico\n",
    "    fig.add_annotation(\n",
    "        x=0.95, y=0.95, \n",
    "        text=annotation_text, \n",
    "        showarrow=False, \n",
    "        font=dict(size=12, color=\"black\"), \n",
    "        align=\"center\", \n",
    "        xref=\"paper\", yref=\"paper\", \n",
    "        bgcolor=\"white\", opacity=0.7\n",
    "    )\n",
    "    \n",
    "    # Atualiza o layout para permitir destaque ao clicar na legenda.\n",
    "    fig.update_layout(\n",
    "        # Seta um título para o plot.\n",
    "        title=serie_title,\n",
    "        # Seta um título para o eixo x do plot.\n",
    "        xaxis_title=serie_xaxis_title,\n",
    "        # Seta um título para o eixo y do plot.\n",
    "        yaxis_title=serie_yaxis_title,   \n",
    "    )\n",
    "    \n",
    "    # Exibe o gráfico criado.\n",
    "    fig.show()"
   ]
  },
  {
   "cell_type": "markdown",
   "metadata": {},
   "source": [
    "#### *Exibindo os Resultados*"
   ]
  },
  {
   "cell_type": "markdown",
   "metadata": {},
   "source": [
    "##### **Gráfico de Retornos da Média das Previsões vs. Retornos do S&P 500 Index**"
   ]
  },
  {
   "cell_type": "code",
   "execution_count": 29,
   "metadata": {},
   "outputs": [
    {
     "data": {
      "application/vnd.plotly.v1+json": {
       "config": {
        "plotlyServerURL": "https://plot.ly"
       },
       "data": [
        {
         "mode": "lines",
         "name": "Retornos da Média das Previsões",
         "type": "scatter",
         "x": [
          "2019-02-22T00:00:00",
          "2019-03-21T00:00:00",
          "2019-04-18T00:00:00",
          "2019-05-17T00:00:00",
          "2019-06-17T00:00:00",
          "2019-07-16T00:00:00",
          "2019-08-13T00:00:00",
          "2019-09-11T00:00:00",
          "2019-10-09T00:00:00",
          "2019-11-06T00:00:00",
          "2019-12-05T00:00:00",
          "2020-01-06T00:00:00",
          "2020-02-04T00:00:00",
          "2020-03-04T00:00:00",
          "2020-04-30T00:00:00",
          "2020-05-29T00:00:00",
          "2020-06-26T00:00:00",
          "2020-07-27T00:00:00",
          "2020-08-24T00:00:00",
          "2020-09-22T00:00:00",
          "2020-10-20T00:00:00",
          "2020-11-17T00:00:00",
          "2020-12-16T00:00:00",
          "2021-01-15T00:00:00",
          "2021-02-16T00:00:00",
          "2021-03-16T00:00:00",
          "2021-04-14T00:00:00",
          "2021-05-12T00:00:00",
          "2021-06-10T00:00:00",
          "2021-07-09T00:00:00",
          "2021-08-06T00:00:00",
          "2021-09-03T00:00:00",
          "2021-10-04T00:00:00",
          "2021-11-01T00:00:00",
          "2021-11-30T00:00:00",
          "2021-12-29T00:00:00",
          "2022-01-27T00:00:00",
          "2022-02-25T00:00:00",
          "2022-03-25T00:00:00",
          "2022-04-25T00:00:00",
          "2022-05-23T00:00:00",
          "2022-06-22T00:00:00",
          "2022-07-21T00:00:00",
          "2022-08-18T00:00:00",
          "2022-09-16T00:00:00",
          "2022-10-14T00:00:00",
          "2022-11-11T00:00:00",
          "2022-12-12T00:00:00",
          "2023-01-11T00:00:00",
          "2023-02-09T00:00:00",
          "2023-03-10T00:00:00",
          "2023-04-10T00:00:00",
          "2023-05-08T00:00:00",
          "2023-06-06T00:00:00",
          "2023-07-06T00:00:00",
          "2023-08-03T00:00:00",
          "2023-08-31T00:00:00",
          "2023-09-29T00:00:00",
          "2023-10-27T00:00:00",
          "2023-11-27T00:00:00",
          "2023-12-26T00:00:00"
         ],
         "y": [
          0,
          5.29867507239607,
          9.460868139379281,
          7.344180407410411,
          5.809501063855595,
          9.261593842778392,
          12.095217876070553,
          10.872265138661385,
          8.240552452319957,
          12.958948288602567,
          7.7497291961452675,
          6.941502712481824,
          8.455660438055569,
          10.943851516030874,
          11.328954670223036,
          10.519333963491663,
          18.267376527612026,
          20.853321078926804,
          12.011198944302622,
          10.459144810718145,
          14.785741224436336,
          13.562677735484296,
          8.793466312834672,
          13.030784625334212,
          15.257272517456778,
          9.667006560688305,
          6.508185077136536,
          9.863549734306247,
          10.712365959435436,
          9.767777854719132,
          7.701498226255188,
          6.9895691784909815,
          8.014086735395333,
          8.730191284035444,
          6.947557877101258,
          6.8990212218443165,
          16.30497602035046,
          11.526213694221813,
          5.126830065247681,
          8.74876047152959,
          14.872167932558437,
          14.830243755335738,
          12.304327149504125,
          11.971420203008488,
          7.46361606417584,
          15.808536766497673,
          17.52143244521782,
          10.229453197511573,
          6.167350507211428,
          11.420916511919597,
          9.977737834807531,
          5.3502396347013015,
          9.680995649550438,
          9.854226986829422,
          6.790508659086673,
          9.840635926995237,
          6.4845758865699406,
          9.828570135210194,
          10.506430646996801,
          9.70314513321298,
          10.587144293566414
         ]
        },
        {
         "mode": "lines",
         "name": "Retornos do S&P500 Index",
         "type": "scatter",
         "x": [
          "2019-02-22T00:00:00",
          "2019-03-21T00:00:00",
          "2019-04-18T00:00:00",
          "2019-05-17T00:00:00",
          "2019-06-17T00:00:00",
          "2019-07-16T00:00:00",
          "2019-08-13T00:00:00",
          "2019-09-11T00:00:00",
          "2019-10-09T00:00:00",
          "2019-11-06T00:00:00",
          "2019-12-05T00:00:00",
          "2020-01-06T00:00:00",
          "2020-02-04T00:00:00",
          "2020-03-04T00:00:00",
          "2020-04-30T00:00:00",
          "2020-05-29T00:00:00",
          "2020-06-26T00:00:00",
          "2020-07-27T00:00:00",
          "2020-08-24T00:00:00",
          "2020-09-22T00:00:00",
          "2020-10-20T00:00:00",
          "2020-11-17T00:00:00",
          "2020-12-16T00:00:00",
          "2021-01-15T00:00:00",
          "2021-02-16T00:00:00",
          "2021-03-16T00:00:00",
          "2021-04-14T00:00:00",
          "2021-05-12T00:00:00",
          "2021-06-10T00:00:00",
          "2021-07-09T00:00:00",
          "2021-08-06T00:00:00",
          "2021-09-03T00:00:00",
          "2021-10-04T00:00:00",
          "2021-11-01T00:00:00",
          "2021-11-30T00:00:00",
          "2021-12-29T00:00:00",
          "2022-01-27T00:00:00",
          "2022-02-25T00:00:00",
          "2022-03-25T00:00:00",
          "2022-04-25T00:00:00",
          "2022-05-23T00:00:00",
          "2022-06-22T00:00:00",
          "2022-07-21T00:00:00",
          "2022-08-18T00:00:00",
          "2022-09-16T00:00:00",
          "2022-10-14T00:00:00",
          "2022-11-11T00:00:00",
          "2022-12-12T00:00:00",
          "2023-01-11T00:00:00",
          "2023-02-09T00:00:00",
          "2023-03-10T00:00:00",
          "2023-04-10T00:00:00",
          "2023-05-08T00:00:00",
          "2023-06-06T00:00:00",
          "2023-07-06T00:00:00",
          "2023-08-03T00:00:00",
          "2023-08-31T00:00:00",
          "2023-09-29T00:00:00",
          "2023-10-27T00:00:00",
          "2023-11-27T00:00:00",
          "2023-12-26T00:00:00"
         ],
         "y": [
          2.203167016955355,
          3.6570784839232706,
          -1.6797947266550932,
          1.7257253784573794,
          2.9145291085460574,
          -1.9659712631527295,
          5.490688600501024,
          -3.04191518633287,
          4.611032041784017,
          1.0398942165059932,
          3.1406565876359553,
          1.8489365969256006,
          -6.330832403896731,
          -20.214003817031237,
          14.19945444360034,
          7.274674396387298,
          -1.5394079670934353,
          5.918786865844358,
          6.403662603856873,
          -3.7893702514698737,
          6.175583484835031,
          4.93976209812391,
          3.6702597340330865,
          1.2220595127124094,
          3.458410389814939,
          0.795031389352416,
          3.718026059188602,
          -2.608525991678831,
          3.0338779688359843,
          2.8343549565653663,
          1.176507276972257,
          2.2989996432413284,
          -4.9796598819998525,
          5.983211666659955,
          -1.3840691721496063,
          6.0198057834731165,
          -9.941365851047877,
          -1.070734333560089,
          3.79366153760596,
          -6.3008040684506605,
          -4.945207488338616,
          -4.716660925509215,
          5.215506888071703,
          7.817098735670681,
          -8.77279634602826,
          -8.472832615327256,
          8.216976165956384,
          0.8382247030080929,
          -1.2526929710451613,
          2.438660283843375,
          -5.757838509764697,
          6.363829009450829,
          0.7076533296937205,
          3.9200492973762526,
          3.320226644107447,
          2.3131418487960893,
          0.6595036927254397,
          -5.174368068880059,
          -4.069676452953056,
          8.80686598444981,
          4.71402053914846
         ]
        }
       ],
       "layout": {
        "annotations": [
         {
          "align": "center",
          "bgcolor": "white",
          "font": {
           "color": "black",
           "size": 12
          },
          "opacity": 0.7,
          "showarrow": false,
          "text": "",
          "x": 0.95,
          "xref": "paper",
          "y": 0.95,
          "yref": "paper"
         }
        ],
        "template": {
         "data": {
          "bar": [
           {
            "error_x": {
             "color": "#2a3f5f"
            },
            "error_y": {
             "color": "#2a3f5f"
            },
            "marker": {
             "line": {
              "color": "#E5ECF6",
              "width": 0.5
             },
             "pattern": {
              "fillmode": "overlay",
              "size": 10,
              "solidity": 0.2
             }
            },
            "type": "bar"
           }
          ],
          "barpolar": [
           {
            "marker": {
             "line": {
              "color": "#E5ECF6",
              "width": 0.5
             },
             "pattern": {
              "fillmode": "overlay",
              "size": 10,
              "solidity": 0.2
             }
            },
            "type": "barpolar"
           }
          ],
          "carpet": [
           {
            "aaxis": {
             "endlinecolor": "#2a3f5f",
             "gridcolor": "white",
             "linecolor": "white",
             "minorgridcolor": "white",
             "startlinecolor": "#2a3f5f"
            },
            "baxis": {
             "endlinecolor": "#2a3f5f",
             "gridcolor": "white",
             "linecolor": "white",
             "minorgridcolor": "white",
             "startlinecolor": "#2a3f5f"
            },
            "type": "carpet"
           }
          ],
          "choropleth": [
           {
            "colorbar": {
             "outlinewidth": 0,
             "ticks": ""
            },
            "type": "choropleth"
           }
          ],
          "contour": [
           {
            "colorbar": {
             "outlinewidth": 0,
             "ticks": ""
            },
            "colorscale": [
             [
              0,
              "#0d0887"
             ],
             [
              0.1111111111111111,
              "#46039f"
             ],
             [
              0.2222222222222222,
              "#7201a8"
             ],
             [
              0.3333333333333333,
              "#9c179e"
             ],
             [
              0.4444444444444444,
              "#bd3786"
             ],
             [
              0.5555555555555556,
              "#d8576b"
             ],
             [
              0.6666666666666666,
              "#ed7953"
             ],
             [
              0.7777777777777778,
              "#fb9f3a"
             ],
             [
              0.8888888888888888,
              "#fdca26"
             ],
             [
              1,
              "#f0f921"
             ]
            ],
            "type": "contour"
           }
          ],
          "contourcarpet": [
           {
            "colorbar": {
             "outlinewidth": 0,
             "ticks": ""
            },
            "type": "contourcarpet"
           }
          ],
          "heatmap": [
           {
            "colorbar": {
             "outlinewidth": 0,
             "ticks": ""
            },
            "colorscale": [
             [
              0,
              "#0d0887"
             ],
             [
              0.1111111111111111,
              "#46039f"
             ],
             [
              0.2222222222222222,
              "#7201a8"
             ],
             [
              0.3333333333333333,
              "#9c179e"
             ],
             [
              0.4444444444444444,
              "#bd3786"
             ],
             [
              0.5555555555555556,
              "#d8576b"
             ],
             [
              0.6666666666666666,
              "#ed7953"
             ],
             [
              0.7777777777777778,
              "#fb9f3a"
             ],
             [
              0.8888888888888888,
              "#fdca26"
             ],
             [
              1,
              "#f0f921"
             ]
            ],
            "type": "heatmap"
           }
          ],
          "heatmapgl": [
           {
            "colorbar": {
             "outlinewidth": 0,
             "ticks": ""
            },
            "colorscale": [
             [
              0,
              "#0d0887"
             ],
             [
              0.1111111111111111,
              "#46039f"
             ],
             [
              0.2222222222222222,
              "#7201a8"
             ],
             [
              0.3333333333333333,
              "#9c179e"
             ],
             [
              0.4444444444444444,
              "#bd3786"
             ],
             [
              0.5555555555555556,
              "#d8576b"
             ],
             [
              0.6666666666666666,
              "#ed7953"
             ],
             [
              0.7777777777777778,
              "#fb9f3a"
             ],
             [
              0.8888888888888888,
              "#fdca26"
             ],
             [
              1,
              "#f0f921"
             ]
            ],
            "type": "heatmapgl"
           }
          ],
          "histogram": [
           {
            "marker": {
             "pattern": {
              "fillmode": "overlay",
              "size": 10,
              "solidity": 0.2
             }
            },
            "type": "histogram"
           }
          ],
          "histogram2d": [
           {
            "colorbar": {
             "outlinewidth": 0,
             "ticks": ""
            },
            "colorscale": [
             [
              0,
              "#0d0887"
             ],
             [
              0.1111111111111111,
              "#46039f"
             ],
             [
              0.2222222222222222,
              "#7201a8"
             ],
             [
              0.3333333333333333,
              "#9c179e"
             ],
             [
              0.4444444444444444,
              "#bd3786"
             ],
             [
              0.5555555555555556,
              "#d8576b"
             ],
             [
              0.6666666666666666,
              "#ed7953"
             ],
             [
              0.7777777777777778,
              "#fb9f3a"
             ],
             [
              0.8888888888888888,
              "#fdca26"
             ],
             [
              1,
              "#f0f921"
             ]
            ],
            "type": "histogram2d"
           }
          ],
          "histogram2dcontour": [
           {
            "colorbar": {
             "outlinewidth": 0,
             "ticks": ""
            },
            "colorscale": [
             [
              0,
              "#0d0887"
             ],
             [
              0.1111111111111111,
              "#46039f"
             ],
             [
              0.2222222222222222,
              "#7201a8"
             ],
             [
              0.3333333333333333,
              "#9c179e"
             ],
             [
              0.4444444444444444,
              "#bd3786"
             ],
             [
              0.5555555555555556,
              "#d8576b"
             ],
             [
              0.6666666666666666,
              "#ed7953"
             ],
             [
              0.7777777777777778,
              "#fb9f3a"
             ],
             [
              0.8888888888888888,
              "#fdca26"
             ],
             [
              1,
              "#f0f921"
             ]
            ],
            "type": "histogram2dcontour"
           }
          ],
          "mesh3d": [
           {
            "colorbar": {
             "outlinewidth": 0,
             "ticks": ""
            },
            "type": "mesh3d"
           }
          ],
          "parcoords": [
           {
            "line": {
             "colorbar": {
              "outlinewidth": 0,
              "ticks": ""
             }
            },
            "type": "parcoords"
           }
          ],
          "pie": [
           {
            "automargin": true,
            "type": "pie"
           }
          ],
          "scatter": [
           {
            "fillpattern": {
             "fillmode": "overlay",
             "size": 10,
             "solidity": 0.2
            },
            "type": "scatter"
           }
          ],
          "scatter3d": [
           {
            "line": {
             "colorbar": {
              "outlinewidth": 0,
              "ticks": ""
             }
            },
            "marker": {
             "colorbar": {
              "outlinewidth": 0,
              "ticks": ""
             }
            },
            "type": "scatter3d"
           }
          ],
          "scattercarpet": [
           {
            "marker": {
             "colorbar": {
              "outlinewidth": 0,
              "ticks": ""
             }
            },
            "type": "scattercarpet"
           }
          ],
          "scattergeo": [
           {
            "marker": {
             "colorbar": {
              "outlinewidth": 0,
              "ticks": ""
             }
            },
            "type": "scattergeo"
           }
          ],
          "scattergl": [
           {
            "marker": {
             "colorbar": {
              "outlinewidth": 0,
              "ticks": ""
             }
            },
            "type": "scattergl"
           }
          ],
          "scattermapbox": [
           {
            "marker": {
             "colorbar": {
              "outlinewidth": 0,
              "ticks": ""
             }
            },
            "type": "scattermapbox"
           }
          ],
          "scatterpolar": [
           {
            "marker": {
             "colorbar": {
              "outlinewidth": 0,
              "ticks": ""
             }
            },
            "type": "scatterpolar"
           }
          ],
          "scatterpolargl": [
           {
            "marker": {
             "colorbar": {
              "outlinewidth": 0,
              "ticks": ""
             }
            },
            "type": "scatterpolargl"
           }
          ],
          "scatterternary": [
           {
            "marker": {
             "colorbar": {
              "outlinewidth": 0,
              "ticks": ""
             }
            },
            "type": "scatterternary"
           }
          ],
          "surface": [
           {
            "colorbar": {
             "outlinewidth": 0,
             "ticks": ""
            },
            "colorscale": [
             [
              0,
              "#0d0887"
             ],
             [
              0.1111111111111111,
              "#46039f"
             ],
             [
              0.2222222222222222,
              "#7201a8"
             ],
             [
              0.3333333333333333,
              "#9c179e"
             ],
             [
              0.4444444444444444,
              "#bd3786"
             ],
             [
              0.5555555555555556,
              "#d8576b"
             ],
             [
              0.6666666666666666,
              "#ed7953"
             ],
             [
              0.7777777777777778,
              "#fb9f3a"
             ],
             [
              0.8888888888888888,
              "#fdca26"
             ],
             [
              1,
              "#f0f921"
             ]
            ],
            "type": "surface"
           }
          ],
          "table": [
           {
            "cells": {
             "fill": {
              "color": "#EBF0F8"
             },
             "line": {
              "color": "white"
             }
            },
            "header": {
             "fill": {
              "color": "#C8D4E3"
             },
             "line": {
              "color": "white"
             }
            },
            "type": "table"
           }
          ]
         },
         "layout": {
          "annotationdefaults": {
           "arrowcolor": "#2a3f5f",
           "arrowhead": 0,
           "arrowwidth": 1
          },
          "autotypenumbers": "strict",
          "coloraxis": {
           "colorbar": {
            "outlinewidth": 0,
            "ticks": ""
           }
          },
          "colorscale": {
           "diverging": [
            [
             0,
             "#8e0152"
            ],
            [
             0.1,
             "#c51b7d"
            ],
            [
             0.2,
             "#de77ae"
            ],
            [
             0.3,
             "#f1b6da"
            ],
            [
             0.4,
             "#fde0ef"
            ],
            [
             0.5,
             "#f7f7f7"
            ],
            [
             0.6,
             "#e6f5d0"
            ],
            [
             0.7,
             "#b8e186"
            ],
            [
             0.8,
             "#7fbc41"
            ],
            [
             0.9,
             "#4d9221"
            ],
            [
             1,
             "#276419"
            ]
           ],
           "sequential": [
            [
             0,
             "#0d0887"
            ],
            [
             0.1111111111111111,
             "#46039f"
            ],
            [
             0.2222222222222222,
             "#7201a8"
            ],
            [
             0.3333333333333333,
             "#9c179e"
            ],
            [
             0.4444444444444444,
             "#bd3786"
            ],
            [
             0.5555555555555556,
             "#d8576b"
            ],
            [
             0.6666666666666666,
             "#ed7953"
            ],
            [
             0.7777777777777778,
             "#fb9f3a"
            ],
            [
             0.8888888888888888,
             "#fdca26"
            ],
            [
             1,
             "#f0f921"
            ]
           ],
           "sequentialminus": [
            [
             0,
             "#0d0887"
            ],
            [
             0.1111111111111111,
             "#46039f"
            ],
            [
             0.2222222222222222,
             "#7201a8"
            ],
            [
             0.3333333333333333,
             "#9c179e"
            ],
            [
             0.4444444444444444,
             "#bd3786"
            ],
            [
             0.5555555555555556,
             "#d8576b"
            ],
            [
             0.6666666666666666,
             "#ed7953"
            ],
            [
             0.7777777777777778,
             "#fb9f3a"
            ],
            [
             0.8888888888888888,
             "#fdca26"
            ],
            [
             1,
             "#f0f921"
            ]
           ]
          },
          "colorway": [
           "#636efa",
           "#EF553B",
           "#00cc96",
           "#ab63fa",
           "#FFA15A",
           "#19d3f3",
           "#FF6692",
           "#B6E880",
           "#FF97FF",
           "#FECB52"
          ],
          "font": {
           "color": "#2a3f5f"
          },
          "geo": {
           "bgcolor": "white",
           "lakecolor": "white",
           "landcolor": "#E5ECF6",
           "showlakes": true,
           "showland": true,
           "subunitcolor": "white"
          },
          "hoverlabel": {
           "align": "left"
          },
          "hovermode": "closest",
          "mapbox": {
           "style": "light"
          },
          "paper_bgcolor": "white",
          "plot_bgcolor": "#E5ECF6",
          "polar": {
           "angularaxis": {
            "gridcolor": "white",
            "linecolor": "white",
            "ticks": ""
           },
           "bgcolor": "#E5ECF6",
           "radialaxis": {
            "gridcolor": "white",
            "linecolor": "white",
            "ticks": ""
           }
          },
          "scene": {
           "xaxis": {
            "backgroundcolor": "#E5ECF6",
            "gridcolor": "white",
            "gridwidth": 2,
            "linecolor": "white",
            "showbackground": true,
            "ticks": "",
            "zerolinecolor": "white"
           },
           "yaxis": {
            "backgroundcolor": "#E5ECF6",
            "gridcolor": "white",
            "gridwidth": 2,
            "linecolor": "white",
            "showbackground": true,
            "ticks": "",
            "zerolinecolor": "white"
           },
           "zaxis": {
            "backgroundcolor": "#E5ECF6",
            "gridcolor": "white",
            "gridwidth": 2,
            "linecolor": "white",
            "showbackground": true,
            "ticks": "",
            "zerolinecolor": "white"
           }
          },
          "shapedefaults": {
           "line": {
            "color": "#2a3f5f"
           }
          },
          "ternary": {
           "aaxis": {
            "gridcolor": "white",
            "linecolor": "white",
            "ticks": ""
           },
           "baxis": {
            "gridcolor": "white",
            "linecolor": "white",
            "ticks": ""
           },
           "bgcolor": "#E5ECF6",
           "caxis": {
            "gridcolor": "white",
            "linecolor": "white",
            "ticks": ""
           }
          },
          "title": {
           "x": 0.05
          },
          "xaxis": {
           "automargin": true,
           "gridcolor": "white",
           "linecolor": "white",
           "ticks": "",
           "title": {
            "standoff": 15
           },
           "zerolinecolor": "white",
           "zerolinewidth": 2
          },
          "yaxis": {
           "automargin": true,
           "gridcolor": "white",
           "linecolor": "white",
           "ticks": "",
           "title": {
            "standoff": 15
           },
           "zerolinecolor": "white",
           "zerolinewidth": 2
          }
         }
        },
        "title": {
         "text": "Retornos da Estratégia Vs. Retornos do S&P 500 Index"
        },
        "xaxis": {
         "title": {
          "text": "Período"
         }
        },
        "yaxis": {
         "title": {
          "text": "Retornos (Log.)"
         }
        }
       }
      }
     },
     "metadata": {},
     "output_type": "display_data"
    }
   ],
   "source": [
    "plot_multiples_time_series_line_graphs([average_monthly_results, sp500_index_period_returns], \"Retornos da Estratégia Vs. Retornos do S&P 500 Index\", \"Período\", \"Retornos (Log.)\")"
   ]
  },
  {
   "cell_type": "markdown",
   "metadata": {},
   "source": [
    "##### **Gráfico de Retorno Acumulado da Estratégia vs. Retorno Acumulado do S&P 500 Index**"
   ]
  },
  {
   "cell_type": "code",
   "execution_count": 30,
   "metadata": {},
   "outputs": [
    {
     "data": {
      "application/vnd.plotly.v1+json": {
       "config": {
        "plotlyServerURL": "https://plot.ly"
       },
       "data": [
        {
         "mode": "lines",
         "name": "Retornos Acumulados da Estratégia",
         "type": "scatter",
         "x": [
          "2019-02-22T00:00:00",
          "2019-03-21T00:00:00",
          "2019-04-18T00:00:00",
          "2019-05-17T00:00:00",
          "2019-06-17T00:00:00",
          "2019-07-16T00:00:00",
          "2019-08-13T00:00:00",
          "2019-09-11T00:00:00",
          "2019-10-09T00:00:00",
          "2019-11-06T00:00:00",
          "2019-12-05T00:00:00",
          "2020-01-06T00:00:00",
          "2020-02-04T00:00:00",
          "2020-03-04T00:00:00",
          "2020-04-30T00:00:00",
          "2020-05-29T00:00:00",
          "2020-06-26T00:00:00",
          "2020-07-27T00:00:00",
          "2020-08-24T00:00:00",
          "2020-09-22T00:00:00",
          "2020-10-20T00:00:00",
          "2020-11-17T00:00:00",
          "2020-12-16T00:00:00",
          "2021-01-15T00:00:00",
          "2021-02-16T00:00:00",
          "2021-03-16T00:00:00",
          "2021-04-14T00:00:00",
          "2021-05-12T00:00:00",
          "2021-06-10T00:00:00",
          "2021-07-09T00:00:00",
          "2021-08-06T00:00:00",
          "2021-09-03T00:00:00",
          "2021-10-04T00:00:00",
          "2021-11-01T00:00:00",
          "2021-11-30T00:00:00",
          "2021-12-29T00:00:00",
          "2022-01-27T00:00:00",
          "2022-02-25T00:00:00",
          "2022-03-25T00:00:00",
          "2022-04-25T00:00:00",
          "2022-05-23T00:00:00",
          "2022-06-22T00:00:00",
          "2022-07-21T00:00:00",
          "2022-08-18T00:00:00",
          "2022-09-16T00:00:00",
          "2022-10-14T00:00:00",
          "2022-11-11T00:00:00",
          "2022-12-12T00:00:00",
          "2023-01-11T00:00:00",
          "2023-02-09T00:00:00",
          "2023-03-10T00:00:00",
          "2023-04-10T00:00:00",
          "2023-05-08T00:00:00",
          "2023-06-06T00:00:00",
          "2023-07-06T00:00:00",
          "2023-08-03T00:00:00",
          "2023-08-31T00:00:00",
          "2023-09-29T00:00:00",
          "2023-10-27T00:00:00",
          "2023-11-27T00:00:00",
          "2023-12-26T00:00:00"
         ],
         "y": [
          0,
          5.29867507239607,
          14.759543211775352,
          22.103723619185764,
          27.91322468304136,
          37.17481852581975,
          49.27003640189031,
          60.14230154055169,
          68.38285399287165,
          81.34180228147422,
          89.09153147761948,
          96.0330341901013,
          104.48869462815688,
          115.43254614418775,
          126.7615008144108,
          137.28083477790247,
          155.54821130551449,
          176.40153238444128,
          188.41273132874392,
          198.87187613946207,
          213.6576173638984,
          227.2202950993827,
          236.01376141221738,
          249.04454603755158,
          264.30181855500837,
          273.9688251156967,
          280.47701019283323,
          290.34055992713945,
          301.0529258865749,
          310.82070374129404,
          318.5222019675492,
          325.5117711460402,
          333.5258578814355,
          342.256049165471,
          349.20360704257223,
          356.1026282644165,
          372.407604284767,
          383.9338179789888,
          389.06064804423653,
          397.8094085157661,
          412.68157644832456,
          427.5118202036603,
          439.8161473531644,
          451.7875675561729,
          459.25118362034874,
          475.05972038684644,
          492.5811528320643,
          502.81060602957587,
          508.9779565367873,
          520.398873048707,
          530.3766108835144,
          535.7268505182158,
          545.4078461677663,
          555.2620731545957,
          562.0525818136823,
          571.8932177406775,
          578.3777936272475,
          588.2063637624576,
          598.7127944094544,
          608.4159395426674,
          619.0030838362338
         ]
        },
        {
         "mode": "lines",
         "name": "Retornos Acumulados do S&P500 Index",
         "type": "scatter",
         "x": [
          "2019-02-22T00:00:00",
          "2019-03-21T00:00:00",
          "2019-04-18T00:00:00",
          "2019-05-17T00:00:00",
          "2019-06-17T00:00:00",
          "2019-07-16T00:00:00",
          "2019-08-13T00:00:00",
          "2019-09-11T00:00:00",
          "2019-10-09T00:00:00",
          "2019-11-06T00:00:00",
          "2019-12-05T00:00:00",
          "2020-01-06T00:00:00",
          "2020-02-04T00:00:00",
          "2020-03-04T00:00:00",
          "2020-04-30T00:00:00",
          "2020-05-29T00:00:00",
          "2020-06-26T00:00:00",
          "2020-07-27T00:00:00",
          "2020-08-24T00:00:00",
          "2020-09-22T00:00:00",
          "2020-10-20T00:00:00",
          "2020-11-17T00:00:00",
          "2020-12-16T00:00:00",
          "2021-01-15T00:00:00",
          "2021-02-16T00:00:00",
          "2021-03-16T00:00:00",
          "2021-04-14T00:00:00",
          "2021-05-12T00:00:00",
          "2021-06-10T00:00:00",
          "2021-07-09T00:00:00",
          "2021-08-06T00:00:00",
          "2021-09-03T00:00:00",
          "2021-10-04T00:00:00",
          "2021-11-01T00:00:00",
          "2021-11-30T00:00:00",
          "2021-12-29T00:00:00",
          "2022-01-27T00:00:00",
          "2022-02-25T00:00:00",
          "2022-03-25T00:00:00",
          "2022-04-25T00:00:00",
          "2022-05-23T00:00:00",
          "2022-06-22T00:00:00",
          "2022-07-21T00:00:00",
          "2022-08-18T00:00:00",
          "2022-09-16T00:00:00",
          "2022-10-14T00:00:00",
          "2022-11-11T00:00:00",
          "2022-12-12T00:00:00",
          "2023-01-11T00:00:00",
          "2023-02-09T00:00:00",
          "2023-03-10T00:00:00",
          "2023-04-10T00:00:00",
          "2023-05-08T00:00:00",
          "2023-06-06T00:00:00",
          "2023-07-06T00:00:00",
          "2023-08-03T00:00:00",
          "2023-08-31T00:00:00",
          "2023-09-29T00:00:00",
          "2023-10-27T00:00:00",
          "2023-11-27T00:00:00",
          "2023-12-26T00:00:00"
         ],
         "y": [
          2.203167016955355,
          5.860245500878626,
          4.180450774223532,
          5.906176152680912,
          8.82070526122697,
          6.85473399807424,
          12.345422598575263,
          9.303507412242393,
          13.91453945402641,
          14.954433670532405,
          18.09509025816836,
          19.94402685509396,
          13.613194451197227,
          -6.60080936583401,
          7.59864507776633,
          14.873319474153629,
          13.333911507060193,
          19.25269837290455,
          25.656360976761423,
          21.86699072529155,
          28.04257421012658,
          32.98233630825049,
          36.65259604228358,
          37.87465555499599,
          41.333065944810926,
          42.12809733416334,
          45.846123393351945,
          43.23759740167311,
          46.271475370509094,
          49.10583032707446,
          50.28233760404672,
          52.58133724728805,
          47.6016773652882,
          53.58488903194815,
          52.20081985979854,
          58.22062564327166,
          48.27925979222378,
          47.20852545866369,
          51.00218699626966,
          44.701382927819,
          39.75617543948038,
          35.03951451397116,
          40.255021402042864,
          48.07212013771355,
          39.29932379168529,
          30.826491176358033,
          39.043467342314415,
          39.88169204532251,
          38.628999074277345,
          41.06765935812072,
          35.309820848356026,
          41.67364985780686,
          42.38130318750058,
          46.30135248487683,
          49.62157912898428,
          51.93472097778037,
          52.59422467050581,
          47.41985660162575,
          43.3501801486727,
          52.157046133122506,
          56.87106667227096
         ]
        }
       ],
       "layout": {
        "annotations": [
         {
          "align": "center",
          "bgcolor": "white",
          "font": {
           "color": "black",
           "size": 12
          },
          "opacity": 0.7,
          "showarrow": false,
          "text": "",
          "x": 0.95,
          "xref": "paper",
          "y": 0.95,
          "yref": "paper"
         }
        ],
        "template": {
         "data": {
          "bar": [
           {
            "error_x": {
             "color": "#2a3f5f"
            },
            "error_y": {
             "color": "#2a3f5f"
            },
            "marker": {
             "line": {
              "color": "#E5ECF6",
              "width": 0.5
             },
             "pattern": {
              "fillmode": "overlay",
              "size": 10,
              "solidity": 0.2
             }
            },
            "type": "bar"
           }
          ],
          "barpolar": [
           {
            "marker": {
             "line": {
              "color": "#E5ECF6",
              "width": 0.5
             },
             "pattern": {
              "fillmode": "overlay",
              "size": 10,
              "solidity": 0.2
             }
            },
            "type": "barpolar"
           }
          ],
          "carpet": [
           {
            "aaxis": {
             "endlinecolor": "#2a3f5f",
             "gridcolor": "white",
             "linecolor": "white",
             "minorgridcolor": "white",
             "startlinecolor": "#2a3f5f"
            },
            "baxis": {
             "endlinecolor": "#2a3f5f",
             "gridcolor": "white",
             "linecolor": "white",
             "minorgridcolor": "white",
             "startlinecolor": "#2a3f5f"
            },
            "type": "carpet"
           }
          ],
          "choropleth": [
           {
            "colorbar": {
             "outlinewidth": 0,
             "ticks": ""
            },
            "type": "choropleth"
           }
          ],
          "contour": [
           {
            "colorbar": {
             "outlinewidth": 0,
             "ticks": ""
            },
            "colorscale": [
             [
              0,
              "#0d0887"
             ],
             [
              0.1111111111111111,
              "#46039f"
             ],
             [
              0.2222222222222222,
              "#7201a8"
             ],
             [
              0.3333333333333333,
              "#9c179e"
             ],
             [
              0.4444444444444444,
              "#bd3786"
             ],
             [
              0.5555555555555556,
              "#d8576b"
             ],
             [
              0.6666666666666666,
              "#ed7953"
             ],
             [
              0.7777777777777778,
              "#fb9f3a"
             ],
             [
              0.8888888888888888,
              "#fdca26"
             ],
             [
              1,
              "#f0f921"
             ]
            ],
            "type": "contour"
           }
          ],
          "contourcarpet": [
           {
            "colorbar": {
             "outlinewidth": 0,
             "ticks": ""
            },
            "type": "contourcarpet"
           }
          ],
          "heatmap": [
           {
            "colorbar": {
             "outlinewidth": 0,
             "ticks": ""
            },
            "colorscale": [
             [
              0,
              "#0d0887"
             ],
             [
              0.1111111111111111,
              "#46039f"
             ],
             [
              0.2222222222222222,
              "#7201a8"
             ],
             [
              0.3333333333333333,
              "#9c179e"
             ],
             [
              0.4444444444444444,
              "#bd3786"
             ],
             [
              0.5555555555555556,
              "#d8576b"
             ],
             [
              0.6666666666666666,
              "#ed7953"
             ],
             [
              0.7777777777777778,
              "#fb9f3a"
             ],
             [
              0.8888888888888888,
              "#fdca26"
             ],
             [
              1,
              "#f0f921"
             ]
            ],
            "type": "heatmap"
           }
          ],
          "heatmapgl": [
           {
            "colorbar": {
             "outlinewidth": 0,
             "ticks": ""
            },
            "colorscale": [
             [
              0,
              "#0d0887"
             ],
             [
              0.1111111111111111,
              "#46039f"
             ],
             [
              0.2222222222222222,
              "#7201a8"
             ],
             [
              0.3333333333333333,
              "#9c179e"
             ],
             [
              0.4444444444444444,
              "#bd3786"
             ],
             [
              0.5555555555555556,
              "#d8576b"
             ],
             [
              0.6666666666666666,
              "#ed7953"
             ],
             [
              0.7777777777777778,
              "#fb9f3a"
             ],
             [
              0.8888888888888888,
              "#fdca26"
             ],
             [
              1,
              "#f0f921"
             ]
            ],
            "type": "heatmapgl"
           }
          ],
          "histogram": [
           {
            "marker": {
             "pattern": {
              "fillmode": "overlay",
              "size": 10,
              "solidity": 0.2
             }
            },
            "type": "histogram"
           }
          ],
          "histogram2d": [
           {
            "colorbar": {
             "outlinewidth": 0,
             "ticks": ""
            },
            "colorscale": [
             [
              0,
              "#0d0887"
             ],
             [
              0.1111111111111111,
              "#46039f"
             ],
             [
              0.2222222222222222,
              "#7201a8"
             ],
             [
              0.3333333333333333,
              "#9c179e"
             ],
             [
              0.4444444444444444,
              "#bd3786"
             ],
             [
              0.5555555555555556,
              "#d8576b"
             ],
             [
              0.6666666666666666,
              "#ed7953"
             ],
             [
              0.7777777777777778,
              "#fb9f3a"
             ],
             [
              0.8888888888888888,
              "#fdca26"
             ],
             [
              1,
              "#f0f921"
             ]
            ],
            "type": "histogram2d"
           }
          ],
          "histogram2dcontour": [
           {
            "colorbar": {
             "outlinewidth": 0,
             "ticks": ""
            },
            "colorscale": [
             [
              0,
              "#0d0887"
             ],
             [
              0.1111111111111111,
              "#46039f"
             ],
             [
              0.2222222222222222,
              "#7201a8"
             ],
             [
              0.3333333333333333,
              "#9c179e"
             ],
             [
              0.4444444444444444,
              "#bd3786"
             ],
             [
              0.5555555555555556,
              "#d8576b"
             ],
             [
              0.6666666666666666,
              "#ed7953"
             ],
             [
              0.7777777777777778,
              "#fb9f3a"
             ],
             [
              0.8888888888888888,
              "#fdca26"
             ],
             [
              1,
              "#f0f921"
             ]
            ],
            "type": "histogram2dcontour"
           }
          ],
          "mesh3d": [
           {
            "colorbar": {
             "outlinewidth": 0,
             "ticks": ""
            },
            "type": "mesh3d"
           }
          ],
          "parcoords": [
           {
            "line": {
             "colorbar": {
              "outlinewidth": 0,
              "ticks": ""
             }
            },
            "type": "parcoords"
           }
          ],
          "pie": [
           {
            "automargin": true,
            "type": "pie"
           }
          ],
          "scatter": [
           {
            "fillpattern": {
             "fillmode": "overlay",
             "size": 10,
             "solidity": 0.2
            },
            "type": "scatter"
           }
          ],
          "scatter3d": [
           {
            "line": {
             "colorbar": {
              "outlinewidth": 0,
              "ticks": ""
             }
            },
            "marker": {
             "colorbar": {
              "outlinewidth": 0,
              "ticks": ""
             }
            },
            "type": "scatter3d"
           }
          ],
          "scattercarpet": [
           {
            "marker": {
             "colorbar": {
              "outlinewidth": 0,
              "ticks": ""
             }
            },
            "type": "scattercarpet"
           }
          ],
          "scattergeo": [
           {
            "marker": {
             "colorbar": {
              "outlinewidth": 0,
              "ticks": ""
             }
            },
            "type": "scattergeo"
           }
          ],
          "scattergl": [
           {
            "marker": {
             "colorbar": {
              "outlinewidth": 0,
              "ticks": ""
             }
            },
            "type": "scattergl"
           }
          ],
          "scattermapbox": [
           {
            "marker": {
             "colorbar": {
              "outlinewidth": 0,
              "ticks": ""
             }
            },
            "type": "scattermapbox"
           }
          ],
          "scatterpolar": [
           {
            "marker": {
             "colorbar": {
              "outlinewidth": 0,
              "ticks": ""
             }
            },
            "type": "scatterpolar"
           }
          ],
          "scatterpolargl": [
           {
            "marker": {
             "colorbar": {
              "outlinewidth": 0,
              "ticks": ""
             }
            },
            "type": "scatterpolargl"
           }
          ],
          "scatterternary": [
           {
            "marker": {
             "colorbar": {
              "outlinewidth": 0,
              "ticks": ""
             }
            },
            "type": "scatterternary"
           }
          ],
          "surface": [
           {
            "colorbar": {
             "outlinewidth": 0,
             "ticks": ""
            },
            "colorscale": [
             [
              0,
              "#0d0887"
             ],
             [
              0.1111111111111111,
              "#46039f"
             ],
             [
              0.2222222222222222,
              "#7201a8"
             ],
             [
              0.3333333333333333,
              "#9c179e"
             ],
             [
              0.4444444444444444,
              "#bd3786"
             ],
             [
              0.5555555555555556,
              "#d8576b"
             ],
             [
              0.6666666666666666,
              "#ed7953"
             ],
             [
              0.7777777777777778,
              "#fb9f3a"
             ],
             [
              0.8888888888888888,
              "#fdca26"
             ],
             [
              1,
              "#f0f921"
             ]
            ],
            "type": "surface"
           }
          ],
          "table": [
           {
            "cells": {
             "fill": {
              "color": "#EBF0F8"
             },
             "line": {
              "color": "white"
             }
            },
            "header": {
             "fill": {
              "color": "#C8D4E3"
             },
             "line": {
              "color": "white"
             }
            },
            "type": "table"
           }
          ]
         },
         "layout": {
          "annotationdefaults": {
           "arrowcolor": "#2a3f5f",
           "arrowhead": 0,
           "arrowwidth": 1
          },
          "autotypenumbers": "strict",
          "coloraxis": {
           "colorbar": {
            "outlinewidth": 0,
            "ticks": ""
           }
          },
          "colorscale": {
           "diverging": [
            [
             0,
             "#8e0152"
            ],
            [
             0.1,
             "#c51b7d"
            ],
            [
             0.2,
             "#de77ae"
            ],
            [
             0.3,
             "#f1b6da"
            ],
            [
             0.4,
             "#fde0ef"
            ],
            [
             0.5,
             "#f7f7f7"
            ],
            [
             0.6,
             "#e6f5d0"
            ],
            [
             0.7,
             "#b8e186"
            ],
            [
             0.8,
             "#7fbc41"
            ],
            [
             0.9,
             "#4d9221"
            ],
            [
             1,
             "#276419"
            ]
           ],
           "sequential": [
            [
             0,
             "#0d0887"
            ],
            [
             0.1111111111111111,
             "#46039f"
            ],
            [
             0.2222222222222222,
             "#7201a8"
            ],
            [
             0.3333333333333333,
             "#9c179e"
            ],
            [
             0.4444444444444444,
             "#bd3786"
            ],
            [
             0.5555555555555556,
             "#d8576b"
            ],
            [
             0.6666666666666666,
             "#ed7953"
            ],
            [
             0.7777777777777778,
             "#fb9f3a"
            ],
            [
             0.8888888888888888,
             "#fdca26"
            ],
            [
             1,
             "#f0f921"
            ]
           ],
           "sequentialminus": [
            [
             0,
             "#0d0887"
            ],
            [
             0.1111111111111111,
             "#46039f"
            ],
            [
             0.2222222222222222,
             "#7201a8"
            ],
            [
             0.3333333333333333,
             "#9c179e"
            ],
            [
             0.4444444444444444,
             "#bd3786"
            ],
            [
             0.5555555555555556,
             "#d8576b"
            ],
            [
             0.6666666666666666,
             "#ed7953"
            ],
            [
             0.7777777777777778,
             "#fb9f3a"
            ],
            [
             0.8888888888888888,
             "#fdca26"
            ],
            [
             1,
             "#f0f921"
            ]
           ]
          },
          "colorway": [
           "#636efa",
           "#EF553B",
           "#00cc96",
           "#ab63fa",
           "#FFA15A",
           "#19d3f3",
           "#FF6692",
           "#B6E880",
           "#FF97FF",
           "#FECB52"
          ],
          "font": {
           "color": "#2a3f5f"
          },
          "geo": {
           "bgcolor": "white",
           "lakecolor": "white",
           "landcolor": "#E5ECF6",
           "showlakes": true,
           "showland": true,
           "subunitcolor": "white"
          },
          "hoverlabel": {
           "align": "left"
          },
          "hovermode": "closest",
          "mapbox": {
           "style": "light"
          },
          "paper_bgcolor": "white",
          "plot_bgcolor": "#E5ECF6",
          "polar": {
           "angularaxis": {
            "gridcolor": "white",
            "linecolor": "white",
            "ticks": ""
           },
           "bgcolor": "#E5ECF6",
           "radialaxis": {
            "gridcolor": "white",
            "linecolor": "white",
            "ticks": ""
           }
          },
          "scene": {
           "xaxis": {
            "backgroundcolor": "#E5ECF6",
            "gridcolor": "white",
            "gridwidth": 2,
            "linecolor": "white",
            "showbackground": true,
            "ticks": "",
            "zerolinecolor": "white"
           },
           "yaxis": {
            "backgroundcolor": "#E5ECF6",
            "gridcolor": "white",
            "gridwidth": 2,
            "linecolor": "white",
            "showbackground": true,
            "ticks": "",
            "zerolinecolor": "white"
           },
           "zaxis": {
            "backgroundcolor": "#E5ECF6",
            "gridcolor": "white",
            "gridwidth": 2,
            "linecolor": "white",
            "showbackground": true,
            "ticks": "",
            "zerolinecolor": "white"
           }
          },
          "shapedefaults": {
           "line": {
            "color": "#2a3f5f"
           }
          },
          "ternary": {
           "aaxis": {
            "gridcolor": "white",
            "linecolor": "white",
            "ticks": ""
           },
           "baxis": {
            "gridcolor": "white",
            "linecolor": "white",
            "ticks": ""
           },
           "bgcolor": "#E5ECF6",
           "caxis": {
            "gridcolor": "white",
            "linecolor": "white",
            "ticks": ""
           }
          },
          "title": {
           "x": 0.05
          },
          "xaxis": {
           "automargin": true,
           "gridcolor": "white",
           "linecolor": "white",
           "ticks": "",
           "title": {
            "standoff": 15
           },
           "zerolinecolor": "white",
           "zerolinewidth": 2
          },
          "yaxis": {
           "automargin": true,
           "gridcolor": "white",
           "linecolor": "white",
           "ticks": "",
           "title": {
            "standoff": 15
           },
           "zerolinecolor": "white",
           "zerolinewidth": 2
          }
         }
        },
        "title": {
         "text": "Retorno Acumulado da Estratégia vs. Retorno Acumulado do S&P 500 Index"
        },
        "xaxis": {
         "title": {
          "text": "Período"
         }
        },
        "yaxis": {
         "title": {
          "text": "Retornos Acumulado"
         }
        }
       }
      }
     },
     "metadata": {},
     "output_type": "display_data"
    }
   ],
   "source": [
    "#\n",
    "average_monthly_cumulative_returns = average_monthly_results.cumsum()\n",
    "#\n",
    "average_monthly_cumulative_returns.name = \"Retornos Acumulados da Estratégia\"\n",
    "#\n",
    "plot_multiples_time_series_line_graphs([average_monthly_cumulative_returns, sp500_index_cumulative_returns], \"Retorno Acumulado da Estratégia vs. Retorno Acumulado do S&P 500 Index\", \"Período\", \"Retornos Acumulado\")"
   ]
  },
  {
   "cell_type": "markdown",
   "metadata": {},
   "source": [
    "##### **Gráfico de dispersão (Adicionar área / intervalo de confiança para a linha de tendencia)**"
   ]
  },
  {
   "cell_type": "code",
   "execution_count": 31,
   "metadata": {},
   "outputs": [
    {
     "data": {
      "application/vnd.plotly.v1+json": {
       "config": {
        "plotlyServerURL": "https://plot.ly"
       },
       "data": [
        {
         "mode": "markers",
         "name": "Pontos de Dispersão",
         "type": "scatter",
         "x": [
          2.203167016955355,
          3.6570784839232706,
          -1.6797947266550932,
          1.7257253784573794,
          2.9145291085460574,
          -1.9659712631527295,
          5.490688600501024,
          -3.04191518633287,
          4.611032041784017,
          1.0398942165059932,
          3.1406565876359553,
          1.8489365969256006,
          -6.330832403896731,
          -20.214003817031237,
          14.19945444360034,
          7.274674396387298,
          -1.5394079670934353,
          5.918786865844358,
          6.403662603856873,
          -3.7893702514698737,
          6.175583484835031,
          4.93976209812391,
          3.6702597340330865,
          1.2220595127124094,
          3.458410389814939,
          0.795031389352416,
          3.718026059188602,
          -2.608525991678831,
          3.0338779688359843,
          2.8343549565653663,
          1.176507276972257,
          2.2989996432413284,
          -4.9796598819998525,
          5.983211666659955,
          -1.3840691721496063,
          6.0198057834731165,
          -9.941365851047877,
          -1.070734333560089,
          3.79366153760596,
          -6.3008040684506605,
          -4.945207488338616,
          -4.716660925509215,
          5.215506888071703,
          7.817098735670681,
          -8.77279634602826,
          -8.472832615327256,
          8.216976165956384,
          0.8382247030080929,
          -1.2526929710451613,
          2.438660283843375,
          -5.757838509764697,
          6.363829009450829,
          0.7076533296937205,
          3.9200492973762526,
          3.320226644107447,
          2.3131418487960893,
          0.6595036927254397,
          -5.174368068880059,
          -4.069676452953056,
          8.80686598444981,
          4.71402053914846
         ],
         "y": [
          0,
          5.29867507239607,
          9.460868139379281,
          7.344180407410411,
          5.809501063855595,
          9.261593842778392,
          12.095217876070553,
          10.872265138661385,
          8.240552452319957,
          12.958948288602567,
          7.7497291961452675,
          6.941502712481824,
          8.455660438055569,
          10.943851516030874,
          11.328954670223036,
          10.519333963491663,
          18.267376527612026,
          20.853321078926804,
          12.011198944302622,
          10.459144810718145,
          14.785741224436336,
          13.562677735484296,
          8.793466312834672,
          13.030784625334212,
          15.257272517456778,
          9.667006560688305,
          6.508185077136536,
          9.863549734306247,
          10.712365959435436,
          9.767777854719132,
          7.701498226255188,
          6.9895691784909815,
          8.014086735395333,
          8.730191284035444,
          6.947557877101258,
          6.8990212218443165,
          16.30497602035046,
          11.526213694221813,
          5.126830065247681,
          8.74876047152959,
          14.872167932558437,
          14.830243755335738,
          12.304327149504125,
          11.971420203008488,
          7.46361606417584,
          15.808536766497673,
          17.52143244521782,
          10.229453197511573,
          6.167350507211428,
          11.420916511919597,
          9.977737834807531,
          5.3502396347013015,
          9.680995649550438,
          9.854226986829422,
          6.790508659086673,
          9.840635926995237,
          6.4845758865699406,
          9.828570135210194,
          10.506430646996801,
          9.70314513321298,
          10.587144293566414
         ]
        },
        {
         "line": {
          "color": "red",
          "dash": "dash",
          "width": 2
         },
         "mode": "lines",
         "name": "Linha de Tendência",
         "type": "scatter",
         "x": [
          2.203167016955355,
          3.6570784839232706,
          -1.6797947266550932,
          1.7257253784573794,
          2.9145291085460574,
          -1.9659712631527295,
          5.490688600501024,
          -3.04191518633287,
          4.611032041784017,
          1.0398942165059932,
          3.1406565876359553,
          1.8489365969256006,
          -6.330832403896731,
          -20.214003817031237,
          14.19945444360034,
          7.274674396387298,
          -1.5394079670934353,
          5.918786865844358,
          6.403662603856873,
          -3.7893702514698737,
          6.175583484835031,
          4.93976209812391,
          3.6702597340330865,
          1.2220595127124094,
          3.458410389814939,
          0.795031389352416,
          3.718026059188602,
          -2.608525991678831,
          3.0338779688359843,
          2.8343549565653663,
          1.176507276972257,
          2.2989996432413284,
          -4.9796598819998525,
          5.983211666659955,
          -1.3840691721496063,
          6.0198057834731165,
          -9.941365851047877,
          -1.070734333560089,
          3.79366153760596,
          -6.3008040684506605,
          -4.945207488338616,
          -4.716660925509215,
          5.215506888071703,
          7.817098735670681,
          -8.77279634602826,
          -8.472832615327256,
          8.216976165956384,
          0.8382247030080929,
          -1.2526929710451613,
          2.438660283843375,
          -5.757838509764697,
          6.363829009450829,
          0.7076533296937205,
          3.9200492973762526,
          3.320226644107447,
          2.3131418487960893,
          0.6595036927254397,
          -5.174368068880059,
          -4.069676452953056,
          8.80686598444981,
          4.71402053914846
         ],
         "y": [
          10.106933777637579,
          10.060419572557798,
          10.231159277582151,
          10.1222083103662,
          10.084175554068961,
          10.24031476910285,
          10.001757873453984,
          10.274736862493112,
          10.0299002511032,
          10.14414973667852,
          10.076941179641407,
          10.118266480334478,
          10.379957416442812,
          10.824114228559436,
          9.723143026800022,
          9.944683778466398,
          10.226667959731584,
          9.988061956638633,
          9.972549588775438,
          10.298649789089811,
          9.979846400966295,
          10.019383367782671,
          10.059997871935206,
          10.138321820647404,
          10.06677545369782,
          10.151983500987695,
          10.058469709667646,
          10.260871675831137,
          10.080357290378435,
          10.086740522453939,
          10.139779148746946,
          10.103867856132952,
          10.336730082998127,
          9.986000848747649,
          10.221698289480663,
          9.98483011291343,
          10.495467264892133,
          10.211673937054867,
          10.056049944617063,
          10.37899673610919,
          10.335627866157104,
          10.32831609928873,
          10.010561613500712,
          9.927330289254082,
          10.458081851239804,
          10.448485273454073,
          9.914537226387692,
          10.150601640609604,
          10.217495241565016,
          10.09939976861447,
          10.361625931956551,
          9.973823963468371,
          10.154778940104022,
          10.05200648921342,
          10.071196291714825,
          10.10341541218131,
          10.156319365459584,
          10.342959276962835,
          10.307617474149835,
          9.895665199709823,
          10.026605395676233
         ]
        }
       ],
       "layout": {
        "template": {
         "data": {
          "bar": [
           {
            "error_x": {
             "color": "#2a3f5f"
            },
            "error_y": {
             "color": "#2a3f5f"
            },
            "marker": {
             "line": {
              "color": "#E5ECF6",
              "width": 0.5
             },
             "pattern": {
              "fillmode": "overlay",
              "size": 10,
              "solidity": 0.2
             }
            },
            "type": "bar"
           }
          ],
          "barpolar": [
           {
            "marker": {
             "line": {
              "color": "#E5ECF6",
              "width": 0.5
             },
             "pattern": {
              "fillmode": "overlay",
              "size": 10,
              "solidity": 0.2
             }
            },
            "type": "barpolar"
           }
          ],
          "carpet": [
           {
            "aaxis": {
             "endlinecolor": "#2a3f5f",
             "gridcolor": "white",
             "linecolor": "white",
             "minorgridcolor": "white",
             "startlinecolor": "#2a3f5f"
            },
            "baxis": {
             "endlinecolor": "#2a3f5f",
             "gridcolor": "white",
             "linecolor": "white",
             "minorgridcolor": "white",
             "startlinecolor": "#2a3f5f"
            },
            "type": "carpet"
           }
          ],
          "choropleth": [
           {
            "colorbar": {
             "outlinewidth": 0,
             "ticks": ""
            },
            "type": "choropleth"
           }
          ],
          "contour": [
           {
            "colorbar": {
             "outlinewidth": 0,
             "ticks": ""
            },
            "colorscale": [
             [
              0,
              "#0d0887"
             ],
             [
              0.1111111111111111,
              "#46039f"
             ],
             [
              0.2222222222222222,
              "#7201a8"
             ],
             [
              0.3333333333333333,
              "#9c179e"
             ],
             [
              0.4444444444444444,
              "#bd3786"
             ],
             [
              0.5555555555555556,
              "#d8576b"
             ],
             [
              0.6666666666666666,
              "#ed7953"
             ],
             [
              0.7777777777777778,
              "#fb9f3a"
             ],
             [
              0.8888888888888888,
              "#fdca26"
             ],
             [
              1,
              "#f0f921"
             ]
            ],
            "type": "contour"
           }
          ],
          "contourcarpet": [
           {
            "colorbar": {
             "outlinewidth": 0,
             "ticks": ""
            },
            "type": "contourcarpet"
           }
          ],
          "heatmap": [
           {
            "colorbar": {
             "outlinewidth": 0,
             "ticks": ""
            },
            "colorscale": [
             [
              0,
              "#0d0887"
             ],
             [
              0.1111111111111111,
              "#46039f"
             ],
             [
              0.2222222222222222,
              "#7201a8"
             ],
             [
              0.3333333333333333,
              "#9c179e"
             ],
             [
              0.4444444444444444,
              "#bd3786"
             ],
             [
              0.5555555555555556,
              "#d8576b"
             ],
             [
              0.6666666666666666,
              "#ed7953"
             ],
             [
              0.7777777777777778,
              "#fb9f3a"
             ],
             [
              0.8888888888888888,
              "#fdca26"
             ],
             [
              1,
              "#f0f921"
             ]
            ],
            "type": "heatmap"
           }
          ],
          "heatmapgl": [
           {
            "colorbar": {
             "outlinewidth": 0,
             "ticks": ""
            },
            "colorscale": [
             [
              0,
              "#0d0887"
             ],
             [
              0.1111111111111111,
              "#46039f"
             ],
             [
              0.2222222222222222,
              "#7201a8"
             ],
             [
              0.3333333333333333,
              "#9c179e"
             ],
             [
              0.4444444444444444,
              "#bd3786"
             ],
             [
              0.5555555555555556,
              "#d8576b"
             ],
             [
              0.6666666666666666,
              "#ed7953"
             ],
             [
              0.7777777777777778,
              "#fb9f3a"
             ],
             [
              0.8888888888888888,
              "#fdca26"
             ],
             [
              1,
              "#f0f921"
             ]
            ],
            "type": "heatmapgl"
           }
          ],
          "histogram": [
           {
            "marker": {
             "pattern": {
              "fillmode": "overlay",
              "size": 10,
              "solidity": 0.2
             }
            },
            "type": "histogram"
           }
          ],
          "histogram2d": [
           {
            "colorbar": {
             "outlinewidth": 0,
             "ticks": ""
            },
            "colorscale": [
             [
              0,
              "#0d0887"
             ],
             [
              0.1111111111111111,
              "#46039f"
             ],
             [
              0.2222222222222222,
              "#7201a8"
             ],
             [
              0.3333333333333333,
              "#9c179e"
             ],
             [
              0.4444444444444444,
              "#bd3786"
             ],
             [
              0.5555555555555556,
              "#d8576b"
             ],
             [
              0.6666666666666666,
              "#ed7953"
             ],
             [
              0.7777777777777778,
              "#fb9f3a"
             ],
             [
              0.8888888888888888,
              "#fdca26"
             ],
             [
              1,
              "#f0f921"
             ]
            ],
            "type": "histogram2d"
           }
          ],
          "histogram2dcontour": [
           {
            "colorbar": {
             "outlinewidth": 0,
             "ticks": ""
            },
            "colorscale": [
             [
              0,
              "#0d0887"
             ],
             [
              0.1111111111111111,
              "#46039f"
             ],
             [
              0.2222222222222222,
              "#7201a8"
             ],
             [
              0.3333333333333333,
              "#9c179e"
             ],
             [
              0.4444444444444444,
              "#bd3786"
             ],
             [
              0.5555555555555556,
              "#d8576b"
             ],
             [
              0.6666666666666666,
              "#ed7953"
             ],
             [
              0.7777777777777778,
              "#fb9f3a"
             ],
             [
              0.8888888888888888,
              "#fdca26"
             ],
             [
              1,
              "#f0f921"
             ]
            ],
            "type": "histogram2dcontour"
           }
          ],
          "mesh3d": [
           {
            "colorbar": {
             "outlinewidth": 0,
             "ticks": ""
            },
            "type": "mesh3d"
           }
          ],
          "parcoords": [
           {
            "line": {
             "colorbar": {
              "outlinewidth": 0,
              "ticks": ""
             }
            },
            "type": "parcoords"
           }
          ],
          "pie": [
           {
            "automargin": true,
            "type": "pie"
           }
          ],
          "scatter": [
           {
            "fillpattern": {
             "fillmode": "overlay",
             "size": 10,
             "solidity": 0.2
            },
            "type": "scatter"
           }
          ],
          "scatter3d": [
           {
            "line": {
             "colorbar": {
              "outlinewidth": 0,
              "ticks": ""
             }
            },
            "marker": {
             "colorbar": {
              "outlinewidth": 0,
              "ticks": ""
             }
            },
            "type": "scatter3d"
           }
          ],
          "scattercarpet": [
           {
            "marker": {
             "colorbar": {
              "outlinewidth": 0,
              "ticks": ""
             }
            },
            "type": "scattercarpet"
           }
          ],
          "scattergeo": [
           {
            "marker": {
             "colorbar": {
              "outlinewidth": 0,
              "ticks": ""
             }
            },
            "type": "scattergeo"
           }
          ],
          "scattergl": [
           {
            "marker": {
             "colorbar": {
              "outlinewidth": 0,
              "ticks": ""
             }
            },
            "type": "scattergl"
           }
          ],
          "scattermapbox": [
           {
            "marker": {
             "colorbar": {
              "outlinewidth": 0,
              "ticks": ""
             }
            },
            "type": "scattermapbox"
           }
          ],
          "scatterpolar": [
           {
            "marker": {
             "colorbar": {
              "outlinewidth": 0,
              "ticks": ""
             }
            },
            "type": "scatterpolar"
           }
          ],
          "scatterpolargl": [
           {
            "marker": {
             "colorbar": {
              "outlinewidth": 0,
              "ticks": ""
             }
            },
            "type": "scatterpolargl"
           }
          ],
          "scatterternary": [
           {
            "marker": {
             "colorbar": {
              "outlinewidth": 0,
              "ticks": ""
             }
            },
            "type": "scatterternary"
           }
          ],
          "surface": [
           {
            "colorbar": {
             "outlinewidth": 0,
             "ticks": ""
            },
            "colorscale": [
             [
              0,
              "#0d0887"
             ],
             [
              0.1111111111111111,
              "#46039f"
             ],
             [
              0.2222222222222222,
              "#7201a8"
             ],
             [
              0.3333333333333333,
              "#9c179e"
             ],
             [
              0.4444444444444444,
              "#bd3786"
             ],
             [
              0.5555555555555556,
              "#d8576b"
             ],
             [
              0.6666666666666666,
              "#ed7953"
             ],
             [
              0.7777777777777778,
              "#fb9f3a"
             ],
             [
              0.8888888888888888,
              "#fdca26"
             ],
             [
              1,
              "#f0f921"
             ]
            ],
            "type": "surface"
           }
          ],
          "table": [
           {
            "cells": {
             "fill": {
              "color": "#EBF0F8"
             },
             "line": {
              "color": "white"
             }
            },
            "header": {
             "fill": {
              "color": "#C8D4E3"
             },
             "line": {
              "color": "white"
             }
            },
            "type": "table"
           }
          ]
         },
         "layout": {
          "annotationdefaults": {
           "arrowcolor": "#2a3f5f",
           "arrowhead": 0,
           "arrowwidth": 1
          },
          "autotypenumbers": "strict",
          "coloraxis": {
           "colorbar": {
            "outlinewidth": 0,
            "ticks": ""
           }
          },
          "colorscale": {
           "diverging": [
            [
             0,
             "#8e0152"
            ],
            [
             0.1,
             "#c51b7d"
            ],
            [
             0.2,
             "#de77ae"
            ],
            [
             0.3,
             "#f1b6da"
            ],
            [
             0.4,
             "#fde0ef"
            ],
            [
             0.5,
             "#f7f7f7"
            ],
            [
             0.6,
             "#e6f5d0"
            ],
            [
             0.7,
             "#b8e186"
            ],
            [
             0.8,
             "#7fbc41"
            ],
            [
             0.9,
             "#4d9221"
            ],
            [
             1,
             "#276419"
            ]
           ],
           "sequential": [
            [
             0,
             "#0d0887"
            ],
            [
             0.1111111111111111,
             "#46039f"
            ],
            [
             0.2222222222222222,
             "#7201a8"
            ],
            [
             0.3333333333333333,
             "#9c179e"
            ],
            [
             0.4444444444444444,
             "#bd3786"
            ],
            [
             0.5555555555555556,
             "#d8576b"
            ],
            [
             0.6666666666666666,
             "#ed7953"
            ],
            [
             0.7777777777777778,
             "#fb9f3a"
            ],
            [
             0.8888888888888888,
             "#fdca26"
            ],
            [
             1,
             "#f0f921"
            ]
           ],
           "sequentialminus": [
            [
             0,
             "#0d0887"
            ],
            [
             0.1111111111111111,
             "#46039f"
            ],
            [
             0.2222222222222222,
             "#7201a8"
            ],
            [
             0.3333333333333333,
             "#9c179e"
            ],
            [
             0.4444444444444444,
             "#bd3786"
            ],
            [
             0.5555555555555556,
             "#d8576b"
            ],
            [
             0.6666666666666666,
             "#ed7953"
            ],
            [
             0.7777777777777778,
             "#fb9f3a"
            ],
            [
             0.8888888888888888,
             "#fdca26"
            ],
            [
             1,
             "#f0f921"
            ]
           ]
          },
          "colorway": [
           "#636efa",
           "#EF553B",
           "#00cc96",
           "#ab63fa",
           "#FFA15A",
           "#19d3f3",
           "#FF6692",
           "#B6E880",
           "#FF97FF",
           "#FECB52"
          ],
          "font": {
           "color": "#2a3f5f"
          },
          "geo": {
           "bgcolor": "white",
           "lakecolor": "white",
           "landcolor": "#E5ECF6",
           "showlakes": true,
           "showland": true,
           "subunitcolor": "white"
          },
          "hoverlabel": {
           "align": "left"
          },
          "hovermode": "closest",
          "mapbox": {
           "style": "light"
          },
          "paper_bgcolor": "white",
          "plot_bgcolor": "#E5ECF6",
          "polar": {
           "angularaxis": {
            "gridcolor": "white",
            "linecolor": "white",
            "ticks": ""
           },
           "bgcolor": "#E5ECF6",
           "radialaxis": {
            "gridcolor": "white",
            "linecolor": "white",
            "ticks": ""
           }
          },
          "scene": {
           "xaxis": {
            "backgroundcolor": "#E5ECF6",
            "gridcolor": "white",
            "gridwidth": 2,
            "linecolor": "white",
            "showbackground": true,
            "ticks": "",
            "zerolinecolor": "white"
           },
           "yaxis": {
            "backgroundcolor": "#E5ECF6",
            "gridcolor": "white",
            "gridwidth": 2,
            "linecolor": "white",
            "showbackground": true,
            "ticks": "",
            "zerolinecolor": "white"
           },
           "zaxis": {
            "backgroundcolor": "#E5ECF6",
            "gridcolor": "white",
            "gridwidth": 2,
            "linecolor": "white",
            "showbackground": true,
            "ticks": "",
            "zerolinecolor": "white"
           }
          },
          "shapedefaults": {
           "line": {
            "color": "#2a3f5f"
           }
          },
          "ternary": {
           "aaxis": {
            "gridcolor": "white",
            "linecolor": "white",
            "ticks": ""
           },
           "baxis": {
            "gridcolor": "white",
            "linecolor": "white",
            "ticks": ""
           },
           "bgcolor": "#E5ECF6",
           "caxis": {
            "gridcolor": "white",
            "linecolor": "white",
            "ticks": ""
           }
          },
          "title": {
           "x": 0.05
          },
          "xaxis": {
           "automargin": true,
           "gridcolor": "white",
           "linecolor": "white",
           "ticks": "",
           "title": {
            "standoff": 15
           },
           "zerolinecolor": "white",
           "zerolinewidth": 2
          },
          "yaxis": {
           "automargin": true,
           "gridcolor": "white",
           "linecolor": "white",
           "ticks": "",
           "title": {
            "standoff": 15
           },
           "zerolinecolor": "white",
           "zerolinewidth": 2
          }
         }
        },
        "title": {
         "text": "Gráfico de Dispersão dos Retornos da Estratégia vs. Retornos do S&P 500 Index"
        },
        "xaxis": {
         "title": {
          "text": "Retornos do S&P 500 Index"
         }
        },
        "yaxis": {
         "title": {
          "text": "Retornos da Estratégia"
         }
        }
       }
      }
     },
     "metadata": {},
     "output_type": "display_data"
    }
   ],
   "source": [
    "# \n",
    "fig = go.Figure(data=go.Scatter(\n",
    "    #\n",
    "    x=sp500_index_period_returns,\n",
    "    #\n",
    "    y=average_monthly_results,\n",
    "    #\n",
    "    mode='markers',\n",
    "    name=\"Pontos de Dispersão\"\n",
    "))\n",
    "\n",
    "# Calcula a linha de tendência (regressão linear)\n",
    "slope, intercept = np.polyfit(sp500_index_period_returns, average_monthly_results, 1)  # Retorna o coeficiente angular (slope) e o intercept\n",
    "line = slope * sp500_index_period_returns + intercept  # Equação da linha de tendência\n",
    "\n",
    "# Adiciona a linha de tendência\n",
    "fig.add_trace(go.Scatter(\n",
    "    x= sp500_index_period_returns, \n",
    "    y=line, \n",
    "    mode='lines', \n",
    "    name='Linha de Tendência', \n",
    "    line=dict(color='red', width=2, dash='dash')\n",
    "))\n",
    "\n",
    "# Adiciona títulos e rótulos\n",
    "fig.update_layout(\n",
    "    title=\"Gráfico de Dispersão dos Retornos da Estratégia vs. Retornos do S&P 500 Index\",\n",
    "    xaxis_title=\"Retornos do S&P 500 Index\",\n",
    "    yaxis_title=\"Retornos da Estratégia\"\n",
    ")\n",
    "\n",
    "# Exibe o gráfico\n",
    "fig.show()"
   ]
  },
  {
   "cell_type": "markdown",
   "metadata": {},
   "source": [
    "##### **Gráfico de barras dos Retornos da Estratégia vs. Retornos do S&P 500 Index**"
   ]
  },
  {
   "cell_type": "code",
   "execution_count": 32,
   "metadata": {},
   "outputs": [
    {
     "data": {
      "application/vnd.plotly.v1+json": {
       "config": {
        "plotlyServerURL": "https://plot.ly"
       },
       "data": [
        {
         "name": "Retornos da Média das Previsões",
         "type": "bar",
         "x": [
          "2019-02-22T00:00:00",
          "2019-03-21T00:00:00",
          "2019-04-18T00:00:00",
          "2019-05-17T00:00:00",
          "2019-06-17T00:00:00",
          "2019-07-16T00:00:00",
          "2019-08-13T00:00:00",
          "2019-09-11T00:00:00",
          "2019-10-09T00:00:00",
          "2019-11-06T00:00:00",
          "2019-12-05T00:00:00",
          "2020-01-06T00:00:00",
          "2020-02-04T00:00:00",
          "2020-03-04T00:00:00",
          "2020-04-30T00:00:00",
          "2020-05-29T00:00:00",
          "2020-06-26T00:00:00",
          "2020-07-27T00:00:00",
          "2020-08-24T00:00:00",
          "2020-09-22T00:00:00",
          "2020-10-20T00:00:00",
          "2020-11-17T00:00:00",
          "2020-12-16T00:00:00",
          "2021-01-15T00:00:00",
          "2021-02-16T00:00:00",
          "2021-03-16T00:00:00",
          "2021-04-14T00:00:00",
          "2021-05-12T00:00:00",
          "2021-06-10T00:00:00",
          "2021-07-09T00:00:00",
          "2021-08-06T00:00:00",
          "2021-09-03T00:00:00",
          "2021-10-04T00:00:00",
          "2021-11-01T00:00:00",
          "2021-11-30T00:00:00",
          "2021-12-29T00:00:00",
          "2022-01-27T00:00:00",
          "2022-02-25T00:00:00",
          "2022-03-25T00:00:00",
          "2022-04-25T00:00:00",
          "2022-05-23T00:00:00",
          "2022-06-22T00:00:00",
          "2022-07-21T00:00:00",
          "2022-08-18T00:00:00",
          "2022-09-16T00:00:00",
          "2022-10-14T00:00:00",
          "2022-11-11T00:00:00",
          "2022-12-12T00:00:00",
          "2023-01-11T00:00:00",
          "2023-02-09T00:00:00",
          "2023-03-10T00:00:00",
          "2023-04-10T00:00:00",
          "2023-05-08T00:00:00",
          "2023-06-06T00:00:00",
          "2023-07-06T00:00:00",
          "2023-08-03T00:00:00",
          "2023-08-31T00:00:00",
          "2023-09-29T00:00:00",
          "2023-10-27T00:00:00",
          "2023-11-27T00:00:00",
          "2023-12-26T00:00:00"
         ],
         "y": [
          0,
          5.29867507239607,
          9.460868139379281,
          7.344180407410411,
          5.809501063855595,
          9.261593842778392,
          12.095217876070553,
          10.872265138661385,
          8.240552452319957,
          12.958948288602567,
          7.7497291961452675,
          6.941502712481824,
          8.455660438055569,
          10.943851516030874,
          11.328954670223036,
          10.519333963491663,
          18.267376527612026,
          20.853321078926804,
          12.011198944302622,
          10.459144810718145,
          14.785741224436336,
          13.562677735484296,
          8.793466312834672,
          13.030784625334212,
          15.257272517456778,
          9.667006560688305,
          6.508185077136536,
          9.863549734306247,
          10.712365959435436,
          9.767777854719132,
          7.701498226255188,
          6.9895691784909815,
          8.014086735395333,
          8.730191284035444,
          6.947557877101258,
          6.8990212218443165,
          16.30497602035046,
          11.526213694221813,
          5.126830065247681,
          8.74876047152959,
          14.872167932558437,
          14.830243755335738,
          12.304327149504125,
          11.971420203008488,
          7.46361606417584,
          15.808536766497673,
          17.52143244521782,
          10.229453197511573,
          6.167350507211428,
          11.420916511919597,
          9.977737834807531,
          5.3502396347013015,
          9.680995649550438,
          9.854226986829422,
          6.790508659086673,
          9.840635926995237,
          6.4845758865699406,
          9.828570135210194,
          10.506430646996801,
          9.70314513321298,
          10.587144293566414
         ]
        },
        {
         "name": "Retornos do S&P500 Index",
         "type": "bar",
         "x": [
          "2019-02-22T00:00:00",
          "2019-03-21T00:00:00",
          "2019-04-18T00:00:00",
          "2019-05-17T00:00:00",
          "2019-06-17T00:00:00",
          "2019-07-16T00:00:00",
          "2019-08-13T00:00:00",
          "2019-09-11T00:00:00",
          "2019-10-09T00:00:00",
          "2019-11-06T00:00:00",
          "2019-12-05T00:00:00",
          "2020-01-06T00:00:00",
          "2020-02-04T00:00:00",
          "2020-03-04T00:00:00",
          "2020-04-30T00:00:00",
          "2020-05-29T00:00:00",
          "2020-06-26T00:00:00",
          "2020-07-27T00:00:00",
          "2020-08-24T00:00:00",
          "2020-09-22T00:00:00",
          "2020-10-20T00:00:00",
          "2020-11-17T00:00:00",
          "2020-12-16T00:00:00",
          "2021-01-15T00:00:00",
          "2021-02-16T00:00:00",
          "2021-03-16T00:00:00",
          "2021-04-14T00:00:00",
          "2021-05-12T00:00:00",
          "2021-06-10T00:00:00",
          "2021-07-09T00:00:00",
          "2021-08-06T00:00:00",
          "2021-09-03T00:00:00",
          "2021-10-04T00:00:00",
          "2021-11-01T00:00:00",
          "2021-11-30T00:00:00",
          "2021-12-29T00:00:00",
          "2022-01-27T00:00:00",
          "2022-02-25T00:00:00",
          "2022-03-25T00:00:00",
          "2022-04-25T00:00:00",
          "2022-05-23T00:00:00",
          "2022-06-22T00:00:00",
          "2022-07-21T00:00:00",
          "2022-08-18T00:00:00",
          "2022-09-16T00:00:00",
          "2022-10-14T00:00:00",
          "2022-11-11T00:00:00",
          "2022-12-12T00:00:00",
          "2023-01-11T00:00:00",
          "2023-02-09T00:00:00",
          "2023-03-10T00:00:00",
          "2023-04-10T00:00:00",
          "2023-05-08T00:00:00",
          "2023-06-06T00:00:00",
          "2023-07-06T00:00:00",
          "2023-08-03T00:00:00",
          "2023-08-31T00:00:00",
          "2023-09-29T00:00:00",
          "2023-10-27T00:00:00",
          "2023-11-27T00:00:00",
          "2023-12-26T00:00:00"
         ],
         "y": [
          2.203167016955355,
          3.6570784839232706,
          -1.6797947266550932,
          1.7257253784573794,
          2.9145291085460574,
          -1.9659712631527295,
          5.490688600501024,
          -3.04191518633287,
          4.611032041784017,
          1.0398942165059932,
          3.1406565876359553,
          1.8489365969256006,
          -6.330832403896731,
          -20.214003817031237,
          14.19945444360034,
          7.274674396387298,
          -1.5394079670934353,
          5.918786865844358,
          6.403662603856873,
          -3.7893702514698737,
          6.175583484835031,
          4.93976209812391,
          3.6702597340330865,
          1.2220595127124094,
          3.458410389814939,
          0.795031389352416,
          3.718026059188602,
          -2.608525991678831,
          3.0338779688359843,
          2.8343549565653663,
          1.176507276972257,
          2.2989996432413284,
          -4.9796598819998525,
          5.983211666659955,
          -1.3840691721496063,
          6.0198057834731165,
          -9.941365851047877,
          -1.070734333560089,
          3.79366153760596,
          -6.3008040684506605,
          -4.945207488338616,
          -4.716660925509215,
          5.215506888071703,
          7.817098735670681,
          -8.77279634602826,
          -8.472832615327256,
          8.216976165956384,
          0.8382247030080929,
          -1.2526929710451613,
          2.438660283843375,
          -5.757838509764697,
          6.363829009450829,
          0.7076533296937205,
          3.9200492973762526,
          3.320226644107447,
          2.3131418487960893,
          0.6595036927254397,
          -5.174368068880059,
          -4.069676452953056,
          8.80686598444981,
          4.71402053914846
         ]
        }
       ],
       "layout": {
        "barmode": "stack",
        "template": {
         "data": {
          "bar": [
           {
            "error_x": {
             "color": "#2a3f5f"
            },
            "error_y": {
             "color": "#2a3f5f"
            },
            "marker": {
             "line": {
              "color": "#E5ECF6",
              "width": 0.5
             },
             "pattern": {
              "fillmode": "overlay",
              "size": 10,
              "solidity": 0.2
             }
            },
            "type": "bar"
           }
          ],
          "barpolar": [
           {
            "marker": {
             "line": {
              "color": "#E5ECF6",
              "width": 0.5
             },
             "pattern": {
              "fillmode": "overlay",
              "size": 10,
              "solidity": 0.2
             }
            },
            "type": "barpolar"
           }
          ],
          "carpet": [
           {
            "aaxis": {
             "endlinecolor": "#2a3f5f",
             "gridcolor": "white",
             "linecolor": "white",
             "minorgridcolor": "white",
             "startlinecolor": "#2a3f5f"
            },
            "baxis": {
             "endlinecolor": "#2a3f5f",
             "gridcolor": "white",
             "linecolor": "white",
             "minorgridcolor": "white",
             "startlinecolor": "#2a3f5f"
            },
            "type": "carpet"
           }
          ],
          "choropleth": [
           {
            "colorbar": {
             "outlinewidth": 0,
             "ticks": ""
            },
            "type": "choropleth"
           }
          ],
          "contour": [
           {
            "colorbar": {
             "outlinewidth": 0,
             "ticks": ""
            },
            "colorscale": [
             [
              0,
              "#0d0887"
             ],
             [
              0.1111111111111111,
              "#46039f"
             ],
             [
              0.2222222222222222,
              "#7201a8"
             ],
             [
              0.3333333333333333,
              "#9c179e"
             ],
             [
              0.4444444444444444,
              "#bd3786"
             ],
             [
              0.5555555555555556,
              "#d8576b"
             ],
             [
              0.6666666666666666,
              "#ed7953"
             ],
             [
              0.7777777777777778,
              "#fb9f3a"
             ],
             [
              0.8888888888888888,
              "#fdca26"
             ],
             [
              1,
              "#f0f921"
             ]
            ],
            "type": "contour"
           }
          ],
          "contourcarpet": [
           {
            "colorbar": {
             "outlinewidth": 0,
             "ticks": ""
            },
            "type": "contourcarpet"
           }
          ],
          "heatmap": [
           {
            "colorbar": {
             "outlinewidth": 0,
             "ticks": ""
            },
            "colorscale": [
             [
              0,
              "#0d0887"
             ],
             [
              0.1111111111111111,
              "#46039f"
             ],
             [
              0.2222222222222222,
              "#7201a8"
             ],
             [
              0.3333333333333333,
              "#9c179e"
             ],
             [
              0.4444444444444444,
              "#bd3786"
             ],
             [
              0.5555555555555556,
              "#d8576b"
             ],
             [
              0.6666666666666666,
              "#ed7953"
             ],
             [
              0.7777777777777778,
              "#fb9f3a"
             ],
             [
              0.8888888888888888,
              "#fdca26"
             ],
             [
              1,
              "#f0f921"
             ]
            ],
            "type": "heatmap"
           }
          ],
          "heatmapgl": [
           {
            "colorbar": {
             "outlinewidth": 0,
             "ticks": ""
            },
            "colorscale": [
             [
              0,
              "#0d0887"
             ],
             [
              0.1111111111111111,
              "#46039f"
             ],
             [
              0.2222222222222222,
              "#7201a8"
             ],
             [
              0.3333333333333333,
              "#9c179e"
             ],
             [
              0.4444444444444444,
              "#bd3786"
             ],
             [
              0.5555555555555556,
              "#d8576b"
             ],
             [
              0.6666666666666666,
              "#ed7953"
             ],
             [
              0.7777777777777778,
              "#fb9f3a"
             ],
             [
              0.8888888888888888,
              "#fdca26"
             ],
             [
              1,
              "#f0f921"
             ]
            ],
            "type": "heatmapgl"
           }
          ],
          "histogram": [
           {
            "marker": {
             "pattern": {
              "fillmode": "overlay",
              "size": 10,
              "solidity": 0.2
             }
            },
            "type": "histogram"
           }
          ],
          "histogram2d": [
           {
            "colorbar": {
             "outlinewidth": 0,
             "ticks": ""
            },
            "colorscale": [
             [
              0,
              "#0d0887"
             ],
             [
              0.1111111111111111,
              "#46039f"
             ],
             [
              0.2222222222222222,
              "#7201a8"
             ],
             [
              0.3333333333333333,
              "#9c179e"
             ],
             [
              0.4444444444444444,
              "#bd3786"
             ],
             [
              0.5555555555555556,
              "#d8576b"
             ],
             [
              0.6666666666666666,
              "#ed7953"
             ],
             [
              0.7777777777777778,
              "#fb9f3a"
             ],
             [
              0.8888888888888888,
              "#fdca26"
             ],
             [
              1,
              "#f0f921"
             ]
            ],
            "type": "histogram2d"
           }
          ],
          "histogram2dcontour": [
           {
            "colorbar": {
             "outlinewidth": 0,
             "ticks": ""
            },
            "colorscale": [
             [
              0,
              "#0d0887"
             ],
             [
              0.1111111111111111,
              "#46039f"
             ],
             [
              0.2222222222222222,
              "#7201a8"
             ],
             [
              0.3333333333333333,
              "#9c179e"
             ],
             [
              0.4444444444444444,
              "#bd3786"
             ],
             [
              0.5555555555555556,
              "#d8576b"
             ],
             [
              0.6666666666666666,
              "#ed7953"
             ],
             [
              0.7777777777777778,
              "#fb9f3a"
             ],
             [
              0.8888888888888888,
              "#fdca26"
             ],
             [
              1,
              "#f0f921"
             ]
            ],
            "type": "histogram2dcontour"
           }
          ],
          "mesh3d": [
           {
            "colorbar": {
             "outlinewidth": 0,
             "ticks": ""
            },
            "type": "mesh3d"
           }
          ],
          "parcoords": [
           {
            "line": {
             "colorbar": {
              "outlinewidth": 0,
              "ticks": ""
             }
            },
            "type": "parcoords"
           }
          ],
          "pie": [
           {
            "automargin": true,
            "type": "pie"
           }
          ],
          "scatter": [
           {
            "fillpattern": {
             "fillmode": "overlay",
             "size": 10,
             "solidity": 0.2
            },
            "type": "scatter"
           }
          ],
          "scatter3d": [
           {
            "line": {
             "colorbar": {
              "outlinewidth": 0,
              "ticks": ""
             }
            },
            "marker": {
             "colorbar": {
              "outlinewidth": 0,
              "ticks": ""
             }
            },
            "type": "scatter3d"
           }
          ],
          "scattercarpet": [
           {
            "marker": {
             "colorbar": {
              "outlinewidth": 0,
              "ticks": ""
             }
            },
            "type": "scattercarpet"
           }
          ],
          "scattergeo": [
           {
            "marker": {
             "colorbar": {
              "outlinewidth": 0,
              "ticks": ""
             }
            },
            "type": "scattergeo"
           }
          ],
          "scattergl": [
           {
            "marker": {
             "colorbar": {
              "outlinewidth": 0,
              "ticks": ""
             }
            },
            "type": "scattergl"
           }
          ],
          "scattermapbox": [
           {
            "marker": {
             "colorbar": {
              "outlinewidth": 0,
              "ticks": ""
             }
            },
            "type": "scattermapbox"
           }
          ],
          "scatterpolar": [
           {
            "marker": {
             "colorbar": {
              "outlinewidth": 0,
              "ticks": ""
             }
            },
            "type": "scatterpolar"
           }
          ],
          "scatterpolargl": [
           {
            "marker": {
             "colorbar": {
              "outlinewidth": 0,
              "ticks": ""
             }
            },
            "type": "scatterpolargl"
           }
          ],
          "scatterternary": [
           {
            "marker": {
             "colorbar": {
              "outlinewidth": 0,
              "ticks": ""
             }
            },
            "type": "scatterternary"
           }
          ],
          "surface": [
           {
            "colorbar": {
             "outlinewidth": 0,
             "ticks": ""
            },
            "colorscale": [
             [
              0,
              "#0d0887"
             ],
             [
              0.1111111111111111,
              "#46039f"
             ],
             [
              0.2222222222222222,
              "#7201a8"
             ],
             [
              0.3333333333333333,
              "#9c179e"
             ],
             [
              0.4444444444444444,
              "#bd3786"
             ],
             [
              0.5555555555555556,
              "#d8576b"
             ],
             [
              0.6666666666666666,
              "#ed7953"
             ],
             [
              0.7777777777777778,
              "#fb9f3a"
             ],
             [
              0.8888888888888888,
              "#fdca26"
             ],
             [
              1,
              "#f0f921"
             ]
            ],
            "type": "surface"
           }
          ],
          "table": [
           {
            "cells": {
             "fill": {
              "color": "#EBF0F8"
             },
             "line": {
              "color": "white"
             }
            },
            "header": {
             "fill": {
              "color": "#C8D4E3"
             },
             "line": {
              "color": "white"
             }
            },
            "type": "table"
           }
          ]
         },
         "layout": {
          "annotationdefaults": {
           "arrowcolor": "#2a3f5f",
           "arrowhead": 0,
           "arrowwidth": 1
          },
          "autotypenumbers": "strict",
          "coloraxis": {
           "colorbar": {
            "outlinewidth": 0,
            "ticks": ""
           }
          },
          "colorscale": {
           "diverging": [
            [
             0,
             "#8e0152"
            ],
            [
             0.1,
             "#c51b7d"
            ],
            [
             0.2,
             "#de77ae"
            ],
            [
             0.3,
             "#f1b6da"
            ],
            [
             0.4,
             "#fde0ef"
            ],
            [
             0.5,
             "#f7f7f7"
            ],
            [
             0.6,
             "#e6f5d0"
            ],
            [
             0.7,
             "#b8e186"
            ],
            [
             0.8,
             "#7fbc41"
            ],
            [
             0.9,
             "#4d9221"
            ],
            [
             1,
             "#276419"
            ]
           ],
           "sequential": [
            [
             0,
             "#0d0887"
            ],
            [
             0.1111111111111111,
             "#46039f"
            ],
            [
             0.2222222222222222,
             "#7201a8"
            ],
            [
             0.3333333333333333,
             "#9c179e"
            ],
            [
             0.4444444444444444,
             "#bd3786"
            ],
            [
             0.5555555555555556,
             "#d8576b"
            ],
            [
             0.6666666666666666,
             "#ed7953"
            ],
            [
             0.7777777777777778,
             "#fb9f3a"
            ],
            [
             0.8888888888888888,
             "#fdca26"
            ],
            [
             1,
             "#f0f921"
            ]
           ],
           "sequentialminus": [
            [
             0,
             "#0d0887"
            ],
            [
             0.1111111111111111,
             "#46039f"
            ],
            [
             0.2222222222222222,
             "#7201a8"
            ],
            [
             0.3333333333333333,
             "#9c179e"
            ],
            [
             0.4444444444444444,
             "#bd3786"
            ],
            [
             0.5555555555555556,
             "#d8576b"
            ],
            [
             0.6666666666666666,
             "#ed7953"
            ],
            [
             0.7777777777777778,
             "#fb9f3a"
            ],
            [
             0.8888888888888888,
             "#fdca26"
            ],
            [
             1,
             "#f0f921"
            ]
           ]
          },
          "colorway": [
           "#636efa",
           "#EF553B",
           "#00cc96",
           "#ab63fa",
           "#FFA15A",
           "#19d3f3",
           "#FF6692",
           "#B6E880",
           "#FF97FF",
           "#FECB52"
          ],
          "font": {
           "color": "#2a3f5f"
          },
          "geo": {
           "bgcolor": "white",
           "lakecolor": "white",
           "landcolor": "#E5ECF6",
           "showlakes": true,
           "showland": true,
           "subunitcolor": "white"
          },
          "hoverlabel": {
           "align": "left"
          },
          "hovermode": "closest",
          "mapbox": {
           "style": "light"
          },
          "paper_bgcolor": "white",
          "plot_bgcolor": "#E5ECF6",
          "polar": {
           "angularaxis": {
            "gridcolor": "white",
            "linecolor": "white",
            "ticks": ""
           },
           "bgcolor": "#E5ECF6",
           "radialaxis": {
            "gridcolor": "white",
            "linecolor": "white",
            "ticks": ""
           }
          },
          "scene": {
           "xaxis": {
            "backgroundcolor": "#E5ECF6",
            "gridcolor": "white",
            "gridwidth": 2,
            "linecolor": "white",
            "showbackground": true,
            "ticks": "",
            "zerolinecolor": "white"
           },
           "yaxis": {
            "backgroundcolor": "#E5ECF6",
            "gridcolor": "white",
            "gridwidth": 2,
            "linecolor": "white",
            "showbackground": true,
            "ticks": "",
            "zerolinecolor": "white"
           },
           "zaxis": {
            "backgroundcolor": "#E5ECF6",
            "gridcolor": "white",
            "gridwidth": 2,
            "linecolor": "white",
            "showbackground": true,
            "ticks": "",
            "zerolinecolor": "white"
           }
          },
          "shapedefaults": {
           "line": {
            "color": "#2a3f5f"
           }
          },
          "ternary": {
           "aaxis": {
            "gridcolor": "white",
            "linecolor": "white",
            "ticks": ""
           },
           "baxis": {
            "gridcolor": "white",
            "linecolor": "white",
            "ticks": ""
           },
           "bgcolor": "#E5ECF6",
           "caxis": {
            "gridcolor": "white",
            "linecolor": "white",
            "ticks": ""
           }
          },
          "title": {
           "x": 0.05
          },
          "xaxis": {
           "automargin": true,
           "gridcolor": "white",
           "linecolor": "white",
           "ticks": "",
           "title": {
            "standoff": 15
           },
           "zerolinecolor": "white",
           "zerolinewidth": 2
          },
          "yaxis": {
           "automargin": true,
           "gridcolor": "white",
           "linecolor": "white",
           "ticks": "",
           "title": {
            "standoff": 15
           },
           "zerolinecolor": "white",
           "zerolinewidth": 2
          }
         }
        },
        "title": {
         "text": "Retornos da Estratégia vs. Retornos do S&P 500 Index"
        },
        "xaxis": {
         "title": {
          "text": "Períodos"
         }
        },
        "yaxis": {
         "title": {
          "text": "Retornos"
         }
        }
       }
      }
     },
     "metadata": {},
     "output_type": "display_data"
    }
   ],
   "source": [
    "import plotly.graph_objects as go\n",
    "\n",
    "# Dados de exemplo\n",
    "x_values = average_monthly_results.index\n",
    "y_values_1 = average_monthly_results\n",
    "y_values_2 = sp500_index_period_returns\n",
    "\n",
    "# Criação das barras empilhadas\n",
    "fig = go.Figure()\n",
    "\n",
    "# Primeira barra (base)\n",
    "fig.add_trace(go.Bar(\n",
    "    x=x_values,\n",
    "    y=y_values_1,\n",
    "    name=average_monthly_results.name\n",
    "))\n",
    "\n",
    "# Segunda barra (sobreposta na anterior)\n",
    "fig.add_trace(go.Bar(\n",
    "    x=x_values,\n",
    "    y=y_values_2,\n",
    "    name=sp500_index_period_returns.name\n",
    "))\n",
    "\n",
    "# Configuração do layout para barras empilhadas\n",
    "fig.update_layout(\n",
    "    barmode='stack',\n",
    "    title='Retornos da Estratégia vs. Retornos do S&P 500 Index',\n",
    "    xaxis_title='Períodos',\n",
    "    yaxis_title='Retornos'\n",
    ")\n",
    "\n",
    "# Exibe o gráfico\n",
    "fig.show()\n"
   ]
  },
  {
   "cell_type": "markdown",
   "metadata": {},
   "source": [
    "##### **Histograma dos Retornos da Estratégia com Curva Normal Ajustada**"
   ]
  },
  {
   "cell_type": "code",
   "execution_count": 33,
   "metadata": {},
   "outputs": [
    {
     "data": {
      "application/vnd.plotly.v1+json": {
       "config": {
        "plotlyServerURL": "https://plot.ly"
       },
       "data": [
        {
         "histnorm": "probability",
         "name": "Histograma dos Retornos",
         "nbinsx": 30,
         "opacity": 0.75,
         "type": "histogram",
         "x": [
          0,
          5.29867507239607,
          9.460868139379281,
          7.344180407410411,
          5.809501063855595,
          9.261593842778392,
          12.095217876070553,
          10.872265138661385,
          8.240552452319957,
          12.958948288602567,
          7.7497291961452675,
          6.941502712481824,
          8.455660438055569,
          10.943851516030874,
          11.328954670223036,
          10.519333963491663,
          18.267376527612026,
          20.853321078926804,
          12.011198944302622,
          10.459144810718145,
          14.785741224436336,
          13.562677735484296,
          8.793466312834672,
          13.030784625334212,
          15.257272517456778,
          9.667006560688305,
          6.508185077136536,
          9.863549734306247,
          10.712365959435436,
          9.767777854719132,
          7.701498226255188,
          6.9895691784909815,
          8.014086735395333,
          8.730191284035444,
          6.947557877101258,
          6.8990212218443165,
          16.30497602035046,
          11.526213694221813,
          5.126830065247681,
          8.74876047152959,
          14.872167932558437,
          14.830243755335738,
          12.304327149504125,
          11.971420203008488,
          7.46361606417584,
          15.808536766497673,
          17.52143244521782,
          10.229453197511573,
          6.167350507211428,
          11.420916511919597,
          9.977737834807531,
          5.3502396347013015,
          9.680995649550438,
          9.854226986829422,
          6.790508659086673,
          9.840635926995237,
          6.4845758865699406,
          9.828570135210194,
          10.506430646996801,
          9.70314513321298,
          10.587144293566414
         ]
        },
        {
         "line": {
          "color": "red",
          "width": 2
         },
         "mode": "lines",
         "name": "Curva Normal Ajustada",
         "type": "scatter",
         "x": [
          0,
          0.020874195274201004,
          0.04174839054840201,
          0.06262258582260301,
          0.08349678109680402,
          0.10437097637100502,
          0.12524517164520602,
          0.14611936691940702,
          0.16699356219360803,
          0.18786775746780904,
          0.20874195274201005,
          0.22961614801621105,
          0.25049034329041203,
          0.27136453856461307,
          0.29223873383881405,
          0.3131129291130151,
          0.33398712438721606,
          0.35486131966141704,
          0.3757355149356181,
          0.39660971020981906,
          0.4174839054840201,
          0.43835810075822107,
          0.4592322960324221,
          0.4801064913066231,
          0.5009806865808241,
          0.521854881855025,
          0.5427290771292261,
          0.5636032724034271,
          0.5844774676776281,
          0.6053516629518291,
          0.6262258582260302,
          0.6471000535002311,
          0.6679742487744321,
          0.6888484440486331,
          0.7097226393228341,
          0.7305968345970352,
          0.7514710298712362,
          0.7723452251454371,
          0.7932194204196381,
          0.8140936156938392,
          0.8349678109680402,
          0.8558420062422412,
          0.8767162015164421,
          0.8975903967906431,
          0.9184645920648442,
          0.9393387873390452,
          0.9602129826132462,
          0.9810871778874471,
          1.0019613731616481,
          1.0228355684358492,
          1.04370976371005,
          1.0645839589842512,
          1.0854581542584523,
          1.1063323495326531,
          1.1272065448068542,
          1.1480807400810553,
          1.1689549353552562,
          1.1898291306294573,
          1.2107033259036581,
          1.2315775211778592,
          1.2524517164520603,
          1.2733259117262612,
          1.2942001070004623,
          1.3150743022746632,
          1.3359484975488642,
          1.3568226928230653,
          1.3776968880972662,
          1.3985710833714673,
          1.4194452786456682,
          1.4403194739198693,
          1.4611936691940703,
          1.4820678644682712,
          1.5029420597424723,
          1.5238162550166732,
          1.5446904502908743,
          1.5655646455650754,
          1.5864388408392762,
          1.6073130361134773,
          1.6281872313876784,
          1.6490614266618793,
          1.6699356219360804,
          1.6908098172102812,
          1.7116840124844823,
          1.7325582077586834,
          1.7534324030328843,
          1.7743065983070854,
          1.7951807935812862,
          1.8160549888554873,
          1.8369291841296884,
          1.8578033794038893,
          1.8786775746780904,
          1.8995517699522912,
          1.9204259652264923,
          1.9413001605006934,
          1.9621743557748943,
          1.9830485510490954,
          2.0039227463232963,
          2.0247969415974976,
          2.0456711368716984,
          2.0665453321458993,
          2.0874195274201,
          2.1082937226943015,
          2.1291679179685024,
          2.1500421132427032,
          2.1709163085169045,
          2.1917905037911054,
          2.2126646990653063,
          2.2335388943395076,
          2.2544130896137085,
          2.2752872848879093,
          2.2961614801621106,
          2.3170356754363115,
          2.3379098707105124,
          2.3587840659847132,
          2.3796582612589146,
          2.4005324565331154,
          2.4214066518073163,
          2.4422808470815176,
          2.4631550423557185,
          2.4840292376299193,
          2.5049034329041207,
          2.5257776281783215,
          2.5466518234525224,
          2.5675260187267233,
          2.5884002140009246,
          2.6092744092751254,
          2.6301486045493263,
          2.6510227998235276,
          2.6718969950977285,
          2.6927711903719294,
          2.7136453856461307,
          2.7345195809203315,
          2.7553937761945324,
          2.7762679714687337,
          2.7971421667429346,
          2.8180163620171355,
          2.8388905572913363,
          2.8597647525655376,
          2.8806389478397385,
          2.9015131431139394,
          2.9223873383881407,
          2.9432615336623416,
          2.9641357289365424,
          2.9850099242107437,
          3.0058841194849446,
          3.0267583147591455,
          3.0476325100333463,
          3.0685067053075477,
          3.0893809005817485,
          3.1102550958559494,
          3.1311292911301507,
          3.1520034864043516,
          3.1728776816785524,
          3.1937518769527538,
          3.2146260722269546,
          3.2355002675011555,
          3.256374462775357,
          3.2772486580495577,
          3.2981228533237585,
          3.3189970485979594,
          3.3398712438721607,
          3.3607454391463616,
          3.3816196344205625,
          3.4024938296947638,
          3.4233680249689646,
          3.4442422202431655,
          3.465116415517367,
          3.4859906107915677,
          3.5068648060657686,
          3.5277390013399694,
          3.5486131966141707,
          3.5694873918883716,
          3.5903615871625725,
          3.611235782436774,
          3.6321099777109747,
          3.6529841729851755,
          3.673858368259377,
          3.6947325635335777,
          3.7156067588077786,
          3.73648095408198,
          3.7573551493561808,
          3.7782293446303816,
          3.7991035399045825,
          3.819977735178784,
          3.8408519304529847,
          3.8617261257271855,
          3.882600321001387,
          3.9034745162755877,
          3.9243487115497886,
          3.94522290682399,
          3.9660971020981908,
          3.9869712973723916,
          4.0078454926465925,
          4.028719687920794,
          4.049593883194995,
          4.070468078469196,
          4.091342273743397,
          4.112216469017598,
          4.133090664291799,
          4.153964859566,
          4.1748390548402,
          4.195713250114402,
          4.216587445388603,
          4.237461640662803,
          4.258335835937005,
          4.279210031211206,
          4.3000842264854064,
          4.320958421759608,
          4.341832617033809,
          4.3627068123080095,
          4.383581007582211,
          4.404455202856412,
          4.4253293981306125,
          4.446203593404814,
          4.467077788679015,
          4.487951983953216,
          4.508826179227417,
          4.529700374501618,
          4.550574569775819,
          4.57144876505002,
          4.592322960324221,
          4.613197155598422,
          4.634071350872623,
          4.654945546146823,
          4.675819741421025,
          4.696693936695226,
          4.7175681319694265,
          4.738442327243628,
          4.759316522517829,
          4.7801907177920295,
          4.801064913066231,
          4.821939108340432,
          4.842813303614633,
          4.863687498888834,
          4.884561694163035,
          4.905435889437236,
          4.926310084711437,
          4.947184279985638,
          4.968058475259839,
          4.98893267053404,
          5.009806865808241,
          5.030681061082442,
          5.051555256356643,
          5.072429451630844,
          5.093303646905045,
          5.114177842179246,
          5.1350520374534465,
          5.155926232727648,
          5.176800428001849,
          5.19767462327605,
          5.218548818550251,
          5.239423013824452,
          5.260297209098653,
          5.281171404372854,
          5.302045599647055,
          5.322919794921256,
          5.343793990195457,
          5.364668185469658,
          5.385542380743859,
          5.40641657601806,
          5.427290771292261,
          5.448164966566462,
          5.469039161840663,
          5.489913357114864,
          5.510787552389065,
          5.531661747663266,
          5.552535942937467,
          5.573410138211668,
          5.594284333485869,
          5.61515852876007,
          5.636032724034271,
          5.656906919308472,
          5.677781114582673,
          5.698655309856874,
          5.719529505131075,
          5.740403700405276,
          5.761277895679477,
          5.782152090953678,
          5.803026286227879,
          5.82390048150208,
          5.844774676776281,
          5.865648872050482,
          5.886523067324683,
          5.907397262598884,
          5.928271457873085,
          5.949145653147286,
          5.9700198484214875,
          5.990894043695688,
          6.011768238969889,
          6.0326424342440905,
          6.053516629518291,
          6.074390824792492,
          6.095265020066693,
          6.116139215340894,
          6.137013410615095,
          6.157887605889296,
          6.178761801163497,
          6.199635996437698,
          6.220510191711899,
          6.2413843869861,
          6.262258582260301,
          6.283132777534502,
          6.304006972808703,
          6.3248811680829045,
          6.345755363357105,
          6.366629558631306,
          6.3875037539055075,
          6.408377949179708,
          6.429252144453909,
          6.450126339728111,
          6.471000535002311,
          6.491874730276512,
          6.512748925550714,
          6.533623120824914,
          6.554497316099115,
          6.575371511373316,
          6.596245706647517,
          6.617119901921718,
          6.637994097195919,
          6.65886829247012,
          6.6797424877443214,
          6.700616683018522,
          6.721490878292723,
          6.7423650735669245,
          6.763239268841125,
          6.784113464115326,
          6.8049876593895275,
          6.825861854663728,
          6.846736049937929,
          6.867610245212131,
          6.888484440486331,
          6.909358635760532,
          6.930232831034734,
          6.951107026308934,
          6.971981221583135,
          6.992855416857337,
          7.013729612131537,
          7.034603807405738,
          7.055478002679939,
          7.07635219795414,
          7.0972263932283415,
          7.118100588502542,
          7.138974783776743,
          7.1598489790509445,
          7.180723174325145,
          7.201597369599346,
          7.222471564873548,
          7.243345760147748,
          7.264219955421949,
          7.285094150696151,
          7.305968345970351,
          7.326842541244552,
          7.347716736518754,
          7.368590931792954,
          7.389465127067155,
          7.410339322341357,
          7.431213517615557,
          7.4520877128897585,
          7.47296190816396,
          7.49383610343816,
          7.5147102987123615,
          7.535584493986562,
          7.556458689260763,
          7.577332884534965,
          7.598207079809165,
          7.619081275083366,
          7.639955470357568,
          7.660829665631768,
          7.681703860905969,
          7.702578056180171,
          7.723452251454371,
          7.744326446728572,
          7.765200642002774,
          7.786074837276974,
          7.8069490325511754,
          7.827823227825377,
          7.848697423099577,
          7.8695716183737785,
          7.89044581364798,
          7.91132000892218,
          7.9321942041963815,
          7.953068399470583,
          7.973942594744783,
          7.994816790018985,
          8.015690985293185,
          8.036565180567386,
          8.057439375841588,
          8.078313571115789,
          8.09918776638999,
          8.12006196166419,
          8.140936156938391,
          8.161810352212592,
          8.182684547486794,
          8.203558742760995,
          8.224432938035196,
          8.245307133309396,
          8.266181328583597,
          8.287055523857799,
          8.307929719132,
          8.328803914406201,
          8.3496781096804,
          8.370552304954602,
          8.391426500228803,
          8.412300695503005,
          8.433174890777206,
          8.454049086051407,
          8.474923281325607,
          8.495797476599808,
          8.51667167187401,
          8.53754586714821,
          8.558420062422412,
          8.579294257696613,
          8.600168452970813,
          8.621042648245014,
          8.641916843519216,
          8.662791038793417,
          8.683665234067618,
          8.70453942934182,
          8.725413624616019,
          8.74628781989022,
          8.767162015164422,
          8.788036210438623,
          8.808910405712824,
          8.829784600987024,
          8.850658796261225,
          8.871532991535426,
          8.892407186809628,
          8.913281382083829,
          8.93415557735803,
          8.95502977263223,
          8.975903967906431,
          8.996778163180633,
          9.017652358454834,
          9.038526553729035,
          9.059400749003236,
          9.080274944277436,
          9.101149139551637,
          9.122023334825839,
          9.14289753010004,
          9.163771725374241,
          9.184645920648443,
          9.205520115922642,
          9.226394311196843,
          9.247268506471045,
          9.268142701745246,
          9.289016897019447,
          9.309891092293647,
          9.330765287567848,
          9.35163948284205,
          9.37251367811625,
          9.393387873390452,
          9.414262068664653,
          9.435136263938853,
          9.456010459213054,
          9.476884654487256,
          9.497758849761457,
          9.518633045035658,
          9.53950724030986,
          9.560381435584059,
          9.58125563085826,
          9.602129826132462,
          9.623004021406663,
          9.643878216680864,
          9.664752411955066,
          9.685626607229265,
          9.706500802503466,
          9.727374997777668,
          9.748249193051869,
          9.76912338832607,
          9.78999758360027,
          9.810871778874471,
          9.831745974148673,
          9.852620169422874,
          9.873494364697075,
          9.894368559971277,
          9.915242755245476,
          9.936116950519677,
          9.956991145793879,
          9.97786534106808,
          9.998739536342281,
          10.019613731616483,
          10.040487926890682,
          10.061362122164883,
          10.082236317439085,
          10.103110512713286,
          10.123984707987487,
          10.144858903261689,
          10.165733098535888,
          10.18660729381009,
          10.20748148908429,
          10.228355684358492,
          10.249229879632693,
          10.270104074906893,
          10.290978270181094,
          10.311852465455296,
          10.332726660729497,
          10.353600856003698,
          10.3744750512779,
          10.3953492465521,
          10.4162234418263,
          10.437097637100502,
          10.457971832374703,
          10.478846027648904,
          10.499720222923106,
          10.520594418197305,
          10.541468613471507,
          10.562342808745708,
          10.58321700401991,
          10.60409119929411,
          10.624965394568312,
          10.645839589842511,
          10.666713785116713,
          10.687587980390914,
          10.708462175665115,
          10.729336370939317,
          10.750210566213516,
          10.771084761487717,
          10.791958956761919,
          10.81283315203612,
          10.833707347310321,
          10.854581542584523,
          10.875455737858722,
          10.896329933132924,
          10.917204128407125,
          10.938078323681326,
          10.958952518955527,
          10.979826714229729,
          11.000700909503928,
          11.02157510477813,
          11.042449300052331,
          11.063323495326532,
          11.084197690600734,
          11.105071885874935,
          11.125946081149134,
          11.146820276423336,
          11.167694471697537,
          11.188568666971738,
          11.20944286224594,
          11.23031705752014,
          11.25119125279434,
          11.272065448068542,
          11.292939643342743,
          11.313813838616944,
          11.334688033891146,
          11.355562229165345,
          11.376436424439547,
          11.397310619713748,
          11.41818481498795,
          11.43905901026215,
          11.459933205536352,
          11.480807400810551,
          11.501681596084753,
          11.522555791358954,
          11.543429986633155,
          11.564304181907357,
          11.585178377181558,
          11.606052572455757,
          11.626926767729959,
          11.64780096300416,
          11.668675158278361,
          11.689549353552563,
          11.710423548826762,
          11.731297744100964,
          11.752171939375165,
          11.773046134649366,
          11.793920329923568,
          11.814794525197769,
          11.835668720471968,
          11.85654291574617,
          11.877417111020371,
          11.898291306294572,
          11.919165501568774,
          11.940039696842975,
          11.960913892117174,
          11.981788087391376,
          12.002662282665577,
          12.023536477939778,
          12.04441067321398,
          12.065284868488181,
          12.08615906376238,
          12.107033259036582,
          12.127907454310783,
          12.148781649584985,
          12.169655844859186,
          12.190530040133385,
          12.211404235407587,
          12.232278430681788,
          12.25315262595599,
          12.27402682123019,
          12.294901016504392,
          12.315775211778591,
          12.336649407052793,
          12.357523602326994,
          12.378397797601195,
          12.399271992875397,
          12.420146188149598,
          12.441020383423798,
          12.461894578697999,
          12.4827687739722,
          12.503642969246402,
          12.524517164520603,
          12.545391359794804,
          12.566265555069004,
          12.587139750343205,
          12.608013945617406,
          12.628888140891608,
          12.649762336165809,
          12.670636531440008,
          12.69151072671421,
          12.712384921988411,
          12.733259117262612,
          12.754133312536814,
          12.775007507811015,
          12.795881703085215,
          12.816755898359416,
          12.837630093633617,
          12.858504288907818,
          12.87937848418202,
          12.900252679456221,
          12.92112687473042,
          12.942001070004622,
          12.962875265278823,
          12.983749460553025,
          13.004623655827226,
          13.025497851101427,
          13.046372046375627,
          13.067246241649828,
          13.08812043692403,
          13.10899463219823,
          13.129868827472432,
          13.150743022746632,
          13.171617218020833,
          13.192491413295034,
          13.213365608569235,
          13.234239803843437,
          13.255113999117638,
          13.275988194391838,
          13.296862389666039,
          13.31773658494024,
          13.338610780214442,
          13.359484975488643,
          13.380359170762844,
          13.401233366037044,
          13.422107561311245,
          13.442981756585446,
          13.463855951859648,
          13.484730147133849,
          13.50560434240805,
          13.52647853768225,
          13.547352732956451,
          13.568226928230652,
          13.589101123504854,
          13.609975318779055,
          13.630849514053255,
          13.651723709327456,
          13.672597904601657,
          13.693472099875859,
          13.71434629515006,
          13.735220490424261,
          13.75609468569846,
          13.776968880972662,
          13.797843076246863,
          13.818717271521065,
          13.839591466795266,
          13.860465662069467,
          13.881339857343667,
          13.902214052617868,
          13.92308824789207,
          13.94396244316627,
          13.964836638440472,
          13.985710833714673,
          14.006585028988873,
          14.027459224263074,
          14.048333419537276,
          14.069207614811477,
          14.090081810085678,
          14.110956005359878,
          14.131830200634079,
          14.15270439590828,
          14.173578591182482,
          14.194452786456683,
          14.215326981730884,
          14.236201177005084,
          14.257075372279285,
          14.277949567553486,
          14.298823762827688,
          14.319697958101889,
          14.34057215337609,
          14.36144634865029,
          14.382320543924491,
          14.403194739198693,
          14.424068934472894,
          14.444943129747095,
          14.465817325021296,
          14.486691520295496,
          14.507565715569697,
          14.528439910843899,
          14.5493141061181,
          14.570188301392301,
          14.5910624966665,
          14.611936691940702,
          14.632810887214903,
          14.653685082489105,
          14.674559277763306,
          14.695433473037507,
          14.716307668311707,
          14.737181863585908,
          14.75805605886011,
          14.77893025413431,
          14.799804449408512,
          14.820678644682713,
          14.841552839956913,
          14.862427035231114,
          14.883301230505316,
          14.904175425779517,
          14.925049621053718,
          14.94592381632792,
          14.966798011602119,
          14.98767220687632,
          15.008546402150522,
          15.029420597424723,
          15.050294792698924,
          15.071168987973124,
          15.092043183247325,
          15.112917378521527,
          15.133791573795728,
          15.15466576906993,
          15.17553996434413,
          15.19641415961833,
          15.217288354892531,
          15.238162550166733,
          15.259036745440934,
          15.279910940715135,
          15.300785135989337,
          15.321659331263536,
          15.342533526537737,
          15.363407721811939,
          15.38428191708614,
          15.405156112360341,
          15.426030307634543,
          15.446904502908742,
          15.467778698182943,
          15.488652893457145,
          15.509527088731346,
          15.530401284005547,
          15.551275479279747,
          15.572149674553948,
          15.59302386982815,
          15.613898065102351,
          15.634772260376552,
          15.655646455650754,
          15.676520650924953,
          15.697394846199154,
          15.718269041473356,
          15.739143236747557,
          15.760017432021758,
          15.78089162729596,
          15.80176582257016,
          15.82264001784436,
          15.843514213118562,
          15.864388408392763,
          15.885262603666964,
          15.906136798941166,
          15.927010994215365,
          15.947885189489567,
          15.968759384763768,
          15.98963358003797,
          16.01050777531217,
          16.03138197058637,
          16.052256165860573,
          16.073130361134773,
          16.094004556408972,
          16.114878751683175,
          16.135752946957375,
          16.156627142231578,
          16.177501337505777,
          16.19837553277998,
          16.21924972805418,
          16.24012392332838,
          16.260998118602583,
          16.281872313876782,
          16.302746509150985,
          16.323620704425185,
          16.344494899699384,
          16.365369094973587,
          16.386243290247787,
          16.40711748552199,
          16.42799168079619,
          16.448865876070393,
          16.469740071344592,
          16.490614266618792,
          16.511488461892995,
          16.532362657167194,
          16.553236852441398,
          16.574111047715597,
          16.594985242989797,
          16.615859438264,
          16.6367336335382,
          16.657607828812402,
          16.678482024086602,
          16.6993562193608,
          16.720230414635004,
          16.741104609909204,
          16.761978805183407,
          16.782853000457607,
          16.80372719573181,
          16.82460139100601,
          16.84547558628021,
          16.866349781554412,
          16.88722397682861,
          16.908098172102815,
          16.928972367377014,
          16.949846562651214,
          16.970720757925417,
          16.991594953199616,
          17.01246914847382,
          17.03334334374802,
          17.05421753902222,
          17.07509173429642,
          17.09596592957062,
          17.116840124844824,
          17.137714320119024,
          17.158588515393227,
          17.179462710667426,
          17.200336905941626,
          17.22121110121583,
          17.24208529649003,
          17.26295949176423,
          17.28383368703843,
          17.30470788231263,
          17.325582077586834,
          17.346456272861033,
          17.367330468135236,
          17.388204663409436,
          17.40907885868364,
          17.42995305395784,
          17.450827249232038,
          17.47170144450624,
          17.49257563978044,
          17.513449835054644,
          17.534324030328843,
          17.555198225603043,
          17.576072420877246,
          17.596946616151445,
          17.61782081142565,
          17.638695006699848,
          17.659569201974048,
          17.68044339724825,
          17.70131759252245,
          17.722191787796653,
          17.743065983070853,
          17.763940178345056,
          17.784814373619255,
          17.805688568893455,
          17.826562764167658,
          17.847436959441858,
          17.86831115471606,
          17.88918534999026,
          17.91005954526446,
          17.930933740538663,
          17.951807935812862,
          17.972682131087065,
          17.993556326361265,
          18.014430521635465,
          18.035304716909668,
          18.056178912183867,
          18.07705310745807,
          18.09792730273227,
          18.118801498006473,
          18.139675693280672,
          18.160549888554872,
          18.181424083829075,
          18.202298279103275,
          18.223172474377478,
          18.244046669651677,
          18.264920864925877,
          18.28579506020008,
          18.30666925547428,
          18.327543450748482,
          18.348417646022682,
          18.369291841296885,
          18.390166036571085,
          18.411040231845284,
          18.431914427119487,
          18.452788622393687,
          18.47366281766789,
          18.49453701294209,
          18.51541120821629,
          18.536285403490492,
          18.55715959876469,
          18.578033794038895,
          18.598907989313094,
          18.619782184587294,
          18.640656379861497,
          18.661530575135696,
          18.6824047704099,
          18.7032789656841,
          18.724153160958302,
          18.7450273562325,
          18.7659015515067,
          18.786775746780904,
          18.807649942055104,
          18.828524137329307,
          18.849398332603506,
          18.870272527877706,
          18.89114672315191,
          18.91202091842611,
          18.93289511370031,
          18.95376930897451,
          18.97464350424871,
          18.995517699522914,
          19.016391894797113,
          19.037266090071316,
          19.058140285345516,
          19.07901448061972,
          19.09988867589392,
          19.120762871168118,
          19.14163706644232,
          19.16251126171652,
          19.183385456990724,
          19.204259652264923,
          19.225133847539123,
          19.246008042813326,
          19.266882238087526,
          19.28775643336173,
          19.308630628635928,
          19.32950482391013,
          19.35037901918433,
          19.37125321445853,
          19.392127409732733,
          19.413001605006933,
          19.433875800281136,
          19.454749995555336,
          19.475624190829535,
          19.496498386103738,
          19.517372581377938,
          19.53824677665214,
          19.55912097192634,
          19.57999516720054,
          19.600869362474743,
          19.621743557748943,
          19.642617753023146,
          19.663491948297345,
          19.68436614357155,
          19.705240338845748,
          19.726114534119947,
          19.74698872939415,
          19.76786292466835,
          19.788737119942553,
          19.809611315216753,
          19.830485510490952,
          19.851359705765155,
          19.872233901039355,
          19.893108096313558,
          19.913982291587757,
          19.934856486861957,
          19.95573068213616,
          19.97660487741036,
          19.997479072684563,
          20.018353267958762,
          20.039227463232965,
          20.060101658507165,
          20.080975853781364,
          20.101850049055567,
          20.122724244329767,
          20.14359843960397,
          20.16447263487817,
          20.18534683015237,
          20.206221025426572,
          20.22709522070077,
          20.247969415974975,
          20.268843611249174,
          20.289717806523377,
          20.310592001797577,
          20.331466197071776,
          20.35234039234598,
          20.37321458762018,
          20.394088782894382,
          20.41496297816858,
          20.43583717344278,
          20.456711368716984,
          20.477585563991184,
          20.498459759265387,
          20.519333954539587,
          20.540208149813786,
          20.56108234508799,
          20.58195654036219,
          20.602830735636392,
          20.62370493091059,
          20.644579126184794,
          20.665453321458994,
          20.686327516733193,
          20.707201712007397,
          20.728075907281596,
          20.7489501025558,
          20.76982429783,
          20.7906984931042,
          20.8115726883784,
          20.8324468836526,
          20.853321078926804
         ],
         "y": [
          0.002001259067985267,
          0.0020345981846230806,
          0.0020684223282016233,
          0.0021027372414644716,
          0.002137548712021479,
          0.002172862572298956,
          0.002208684699481395,
          0.002245021015444524,
          0.0022818774866796023,
          0.00231926012420881,
          0.0023571749834916255,
          0.0023956281643220203,
          0.0024346258107163948,
          0.0024741741107920877,
          0.0025142792966363486,
          0.002554947644165626,
          0.002596185472975087,
          0.002637999146178171,
          0.0026803950702361154,
          0.002723379694777297,
          0.002766959512406256,
          0.0028111410585022916,
          0.0028559309110075056,
          0.002901335690204132,
          0.0029473620584810896,
          0.00299401672008958,
          0.003041306420887629,
          0.0030892379480734486,
          0.003137818129907512,
          0.0031870538354231634,
          0.0032369519741257216,
          0.003287519495679902,
          0.0033387633895854522,
          0.003390690684840905,
          0.0034433084495952802,
          0.0034966237907876796,
          0.0035506438537746257,
          0.0036053758219450373,
          0.0036608269163227254,
          0.003717004395156332,
          0.0037739155534965148,
          0.0038315677227603994,
          0.0038899682702830713,
          0.003949124598856077,
          0.0040090441462527875,
          0.004069734384740577,
          0.004131202820579621,
          0.004193456993508326,
          0.004256504476215216,
          0.004320352873797201,
          0.0043850098232041685,
          0.004450482992669721,
          0.004516780081128073,
          0.004583908817616954,
          0.004651876960666436,
          0.004720692297673628,
          0.004790362644263133,
          0.004860895843633216,
          0.004932299765887543,
          0.005004582307352513,
          0.005077751389880005,
          0.0051518149601355616,
          0.0052267809888719065,
          0.00530265747018766,
          0.005379452420771333,
          0.005457173879130426,
          0.0055358299048056,
          0.005615428577569941,
          0.0056959779966131024,
          0.00577748627971045,
          0.005859961562377088,
          0.005943411997006682,
          0.006027845751995125,
          0.006113271010848943,
          0.006199695971278458,
          0.006287128844275593,
          0.00637557785317643,
          0.006465051232708338,
          0.006555557228021785,
          0.0066471040937067525,
          0.006739700092793701,
          0.006833353495739179,
          0.006928072579395975,
          0.007023865625967873,
          0.007120740921948953,
          0.007218706757047525,
          0.007317771423094567,
          0.007417943212936853,
          0.007519230419314648,
          0.0076216413337240555,
          0.007725184245263995,
          0.007829867439467958,
          0.007935699197120326,
          0.0080426877930576,
          0.008150841494954337,
          0.008260168562093927,
          0.008370677244124323,
          0.008482375779798608,
          0.008595272395700636,
          0.00870937530495571,
          0.008824692705926354,
          0.008941232780893345,
          0.009059003694721884,
          0.009178013593513298,
          0.009298270603241994,
          0.00941978282837803,
          0.009542558350495252,
          0.009666605226865207,
          0.009791931489036758,
          0.00991854514140169,
          0.010046454159746344,
          0.010175666489789358,
          0.010306190045705701,
          0.010438032708637099,
          0.010571202325188975,
          0.010705706705914026,
          0.010841553623782639,
          0.010978750812640235,
          0.011117305965651726,
          0.011257226733733156,
          0.011398520723970882,
          0.011541195498028197,
          0.011685258570539767,
          0.011830717407494019,
          0.011977579424603585,
          0.012125851985664071,
          0.012275542400901292,
          0.012426657925307203,
          0.012579205756964678,
          0.012733193035361443,
          0.012888626839693242,
          0.01304551418715655,
          0.013203862031231086,
          0.013363677259952123,
          0.013524966694173225,
          0.013687737085819234,
          0.013851995116130033,
          0.014017747393895266,
          0.014185000453680117,
          0.014353760754042643,
          0.014524034675742793,
          0.014695828519943365,
          0.014869148506403248,
          0.015044000771663138,
          0.015220391367224162,
          0.015398326257719473,
          0.015577811319079342,
          0.015758852336689944,
          0.015941455003546042,
          0.016125624918398095,
          0.016311367583893906,
          0.016498688404715262,
          0.016687592685709806,
          0.016878085630018552,
          0.017070172337199235,
          0.01726385780134603,
          0.017459146909205817,
          0.017656044438291427,
          0.017854555054992186,
          0.018054683312682153,
          0.01825643364982638,
          0.018459810388085498,
          0.018664817730419215,
          0.018871459759188806,
          0.019079740434259244,
          0.019289663591101156,
          0.01950123293889316,
          0.019714452058624755,
          0.019929324401200453,
          0.020145853285545277,
          0.02036404189671228,
          0.020583893283992172,
          0.020805410359025875,
          0.021028595893920036,
          0.0212534525193662,
          0.021479982722763906,
          0.02170818884634823,
          0.021938073085322068,
          0.022169637485993852,
          0.022402883943920773,
          0.022637814202058317,
          0.0228744298489163,
          0.02311273231672201,
          0.0233527228795908,
          0.023594402651704593,
          0.02383777258549888,
          0.024082833469858494,
          0.024329585928322767,
          0.02457803041730044,
          0.02482816722429487,
          0.02507999646613983,
          0.02533351808724672,
          0.025588731857863246,
          0.025845637372344396,
          0.0261042340474359,
          0.026364521120570902,
          0.026626497648180154,
          0.0268901625040163,
          0.027155514377492692,
          0.02742255177203725,
          0.02769127300346184,
          0.027961676198347683,
          0.028233759292447196,
          0.028507520029102874,
          0.02878295595768367,
          0.02906006443203926,
          0.029338842608972803,
          0.029619287446732787,
          0.029901395703523993,
          0.030185163936038734,
          0.03047058849800836,
          0.030757665538775614,
          0.031046391001888555,
          0.03133676062371631,
          0.031628769932087145,
          0.031922414244949494,
          0.03221768866905642,
          0.03251458809867372,
          0.032813107214312576,
          0.03311324048148699,
          0.03341498214949641,
          0.03371832625023427,
          0.034023266597022796,
          0.03432979678347447,
          0.034637910182380875,
          0.03494759994462901,
          0.03525885899814602,
          0.0355716800468725,
          0.03588605556976472,
          0.036201977819826675,
          0.0365194388231721,
          0.036838430378116814,
          0.0371589440543022,
          0.03748097119185012,
          0.0378045029005494,
          0.03812953005907482,
          0.03845604331423888,
          0.038784033080276475,
          0.039113489538163466,
          0.039444402634969074,
          0.039776762083242725,
          0.04011055736043587,
          0.04044577770835904,
          0.04078241213267449,
          0.04112044940242506,
          0.04145987804959947,
          0.041800686368734484,
          0.04214286241655437,
          0.04248639401164796,
          0.042831268734183796,
          0.043177473925663665,
          0.043524996688714804,
          0.0438738238869213,
          0.04422394214469501,
          0.04457533784718611,
          0.04492799714023398,
          0.04528190593035848,
          0.045637049884791954,
          0.04599341443155251,
          0.0463509847595587,
          0.046709745818785675,
          0.04706968232046374,
          0.04743077873731902,
          0.04779301930385657,
          0.048156388016686695,
          0.04852086863489408,
          0.0488864446804504,
          0.04925309943867055,
          0.04962081595871281,
          0.049989577054122825,
          0.050359365303422256,
          0.05073016305074163,
          0.051101952406497994,
          0.051474715248117635,
          0.05184843322080363,
          0.05222308773834876,
          0.052598659983993976,
          0.0529751309113322,
          0.053352481245258015,
          0.05373069148296321,
          0.05410974189497816,
          0.05448961252625946,
          0.05487028319732374,
          0.05525173350542758,
          0.055633942825794064,
          0.05601689031288566,
          0.05640055490172353,
          0.05678491530925345,
          0.05716995003575857,
          0.05755563736631831,
          0.057941955372314384,
          0.05832888191298322,
          0.058716394637015105,
          0.05910447098419997,
          0.05949308818711977,
          0.05988222327288746,
          0.06027185306493255,
          0.06066195418483297,
          0.061052503054193505,
          0.061443475896570524,
          0.061834848739442796,
          0.06222659741622853,
          0.06261869756834847,
          0.0630111246473347,
          0.06340385391698522,
          0.06379686045556428,
          0.06419011915804786,
          0.06458360473841449,
          0.06497729173198119,
          0.06537115449778412,
          0.06576516722100398,
          0.06615930391543569,
          0.06655353842600238,
          0.06694784443131314,
          0.06734219544626466,
          0.06773656482468593,
          0.06813092576202637,
          0.06852525129808654,
          0.0689195143197915,
          0.06931368756400628,
          0.06970774362039316,
          0.0701016549343104,
          0.07049539380975248,
          0.07088893241233053,
          0.07128224277229368,
          0.07167529678759013,
          0.07206806622696786,
          0.07246052273311468,
          0.07285263782583686,
          0.07324438290527614,
          0.07363572925516464,
          0.07402664804611726,
          0.0744171103389608,
          0.07480708708809967,
          0.07519654914491775,
          0.07558546726121526,
          0.07597381209268098,
          0.07636155420239858,
          0.07674866406438718,
          0.0771351120671748,
          0.07752086851740476,
          0.07790590364347444,
          0.07829018759920531,
          0.07867369046754426,
          0.07905638226429505,
          0.07943823294187993,
          0.07981921239313002,
          0.08019929045510443,
          0.08057843691293741,
          0.08095662150371243,
          0.08133381392036294,
          0.08170998381559935,
          0.08208510080586061,
          0.08245913447529093,
          0.08283205437973994,
          0.08320383005078613,
          0.08357443099978262,
          0.08394382672192473,
          0.0843119867003383,
          0.08467888041018844,
          0.08504447732280745,
          0.08540874690984171,
          0.08577165864741625,
          0.08613318202031665,
          0.0864932865261872,
          0.08685194167974467,
          0.0872091170170068,
          0.08756478209953492,
          0.08791890651868953,
          0.08827145989989842,
          0.08862241190693605,
          0.08897173224621409,
          0.0893193906710813,
          0.08966535698613273,
          0.09000960105152712,
          0.09035209278731145,
          0.09069280217775204,
          0.09103169927567138,
          0.09136875420678958,
          0.09170393717406955,
          0.09203721846206553,
          0.09236856844127349,
          0.09269795757248278,
          0.09302535641112826,
          0.09335073561164177,
          0.09367406593180223,
          0.0939953182370835,
          0.09431446350499875,
          0.0946314728294411,
          0.09494631742501883,
          0.0952589686313852,
          0.09556939791756071,
          0.09587757688624836,
          0.09618347727813978,
          0.09648707097621201,
          0.09678833001001379,
          0.09708722655994051,
          0.09738373296149677,
          0.09767782170954585,
          0.0979694654625451,
          0.09825863704676623,
          0.09854530946049975,
          0.09882945587824256,
          0.09911104965486785,
          0.0993900643297763,
          0.09966647363102785,
          0.09994025147945286,
          0.10021137199274222,
          0.10047980948951485,
          0.10074553849336249,
          0.10100853373687009,
          0.10126877016561167,
          0.1015262229421201,
          0.10178086744983043,
          0.10203267929699553,
          0.10228163432057345,
          0.10252770859008545,
          0.10277087841144393,
          0.10301112033074933,
          0.1032484111380553,
          0.10348272787110102,
          0.10371404781901014,
          0.10394234852595535,
          0.10416760779478768,
          0.10438980369062999,
          0.10460891454443336,
          0.10482491895649612,
          0.10503779579994439,
          0.1052475242241733,
          0.10545408365824832,
          0.10565745381426593,
          0.10585761469067238,
          0.1060545465755406,
          0.10624823004980373,
          0.10643864599044503,
          0.1066257755736432,
          0.10680960027787248,
          0.10699010188695676,
          0.10716726249307702,
          0.1073410644997314,
          0.10751149062464732,
          0.1076785239026447,
          0.10784214768844998,
          0.10800234565945997,
          0.10815910181845506,
          0.10831240049626109,
          0.10846222635435941,
          0.1086085643874442,
          0.10875139992592682,
          0.10889071863838629,
          0.10902650653396564,
          0.10915874996471334,
          0.10928743562786913,
          0.10941255056809432,
          0.10953408217964519,
          0.10965201820848966,
          0.10976634675436646,
          0.10987705627278636,
          0.1099841355769748,
          0.11008757383975584,
          0.11018736059537676,
          0.1102834857412727,
          0.11037593953977134,
          0.11046471261973698,
          0.11054979597815341,
          0.11063118098164587,
          0.11070885936794085,
          0.11078282324726409,
          0.11085306510367623,
          0.11091957779634562,
          0.11098235456075825,
          0.1110413890098643,
          0.1110966751351612,
          0.11114820730771287,
          0.11119598027910485,
          0.11123998918233517,
          0.11128022953264087,
          0.1113166972282595,
          0.11134938855112608,
          0.11137830016750484,
          0.11140342912855583,
          0.11142477287083617,
          0.11144232921673591,
          0.1114560963748483,
          0.11146607294027436,
          0.11147225789486204,
          0.11147465060737909,
          0.11147325083362071,
          0.11146805871645092,
          0.1114590747857783,
          0.11144629995846589,
          0.11142973553817521,
          0.11140938321514453,
          0.11138524506590139,
          0.11135732355290959,
          0.11132562152415043,
          0.11129014221263854,
          0.11125088923587247,
          0.1112078665952199,
          0.11116107867523778,
          0.11111053024292773,
          0.11105622644692646,
          0.1109981728166318,
          0.11093637526126432,
          0.11087084006886486,
          0.11080157390522823,
          0.11072858381277316,
          0.11065187720934895,
          0.11057146188697912,
          0.11048734601054219,
          0.11039953811639004,
          0.11030804711090403,
          0.11021288226898956,
          0.11011405323250895,
          0.11001157000865334,
          0.10990544296825391,
          0.10979568284403288,
          0.10968230072879451,
          0.1095653080735568,
          0.10944471668562396,
          0.10932053872660061,
          0.10919278671034778,
          0.1090614735008811,
          0.10892661231021238,
          0.10878821669613395,
          0.10864630055994756,
          0.10850087814413717,
          0.10835196402998724,
          0.10819957313514608,
          0.10804372071113577,
          0.10788442234080847,
          0.1077216939357503,
          0.10755555173363282,
          0.10738601229551326,
          0.10721309250308379,
          0.10703680955587079,
          0.10685718096838416,
          0.10667422456721817,
          0.10648795848810379,
          0.10629840117291349,
          0.10610557136661952,
          0.10590948811420553,
          0.10571017075753314,
          0.10550763893216365,
          0.10530191256413583,
          0.10509301186670028,
          0.10488095733701161,
          0.10466576975277857,
          0.10444747016887337,
          0.10422607991390087,
          0.10400162058672811,
          0.10377411405297542,
          0.10354358244146968,
          0.10331004814066044,
          0.10307353379499995,
          0.10283406230128778,
          0.10259165680498074,
          0.10234634069646915,
          0.10209813760732045,
          0.10184707140649019,
          0.10159316619650237,
          0.10133644630959913,
          0.10107693630386103,
          0.10081466095929863,
          0.10054964527391645,
          0.10028191445974996,
          0.10001149393887646,
          0.09973840933940104,
          0.09946268649141811,
          0.09918435142294975,
          0.09890343035586141,
          0.09861994970175621,
          0.09833393605784843,
          0.09804541620281743,
          0.09775441709264232,
          0.09746096585641917,
          0.0971650897921608,
          0.09686681636258052,
          0.09656617319086058,
          0.09626318805640642,
          0.09595788889058733,
          0.0956503037724647,
          0.09534046092450858,
          0.09502838870830371,
          0.09471411562024551,
          0.09439767028722727,
          0.09407908146231966,
          0.0937583780204427,
          0.0934355889540319,
          0.09311074336869904,
          0.09278387047888866,
          0.09245499960353085,
          0.09212416016169193,
          0.09179138166822305,
          0.09145669372940826,
          0.09112012603861258,
          0.09078170837193121,
          0.09044147058384036,
          0.09009944260285131,
          0.08975565442716765,
          0.08941013612034732,
          0.08906291780696984,
          0.08871402966831012,
          0.08836350193801873,
          0.08801136489781101,
          0.0876576488731642,
          0.08730238422902462,
          0.08694560136552523,
          0.08658733071371445,
          0.08622760273129725,
          0.08586644789838904,
          0.08550389671328348,
          0.08513997968823465,
          0.08477472734525483,
          0.08440817021192816,
          0.08404033881724159,
          0.08367126368743319,
          0.08330097534185926,
          0.08292950428888043,
          0.08255688102176796,
          0.08218313601463054,
          0.08180829971836293,
          0.08143240255661656,
          0.08105547492179307,
          0.08067754717106156,
          0.0802986496224003,
          0.07991881255066303,
          0.07953806618367174,
          0.07915644069833504,
          0.07877396621679425,
          0.07839067280259675,
          0.0780065904568979,
          0.07762174911469202,
          0.07723617864107295,
          0.07684990882752461,
          0.07646296938824296,
          0.07607538995648874,
          0.07568720008097282,
          0.07529842922227377,
          0.07490910674928891,
          0.07451926193571877,
          0.074128923956586,
          0.07373812188478918,
          0.07334688468769156,
          0.07295524122374618,
          0.0725632202391569,
          0.07217085036457628,
          0.07177816011184103,
          0.07138517787074486,
          0.07099193190584975,
          0.0705984503533359,
          0.07020476121789056,
          0.06981089236963656,
          0.06941687154110067,
          0.06902272632422204,
          0.06862848416740186,
          0.06823417237259347,
          0.0678398180924342,
          0.06744544832741899,
          0.06705108992311597,
          0.06665676956742442,
          0.0662625137878757,
          0.06586834894897697,
          0.06547430124959831,
          0.06508039672040343,
          0.06468666122132426,
          0.0642931204390795,
          0.0638997998847378,
          0.06350672489132521,
          0.06311392061147762,
          0.06272141201513809,
          0.062329223887299424,
          0.06193738082579198,
          0.061545907239117244,
          0.06115482734432689,
          0.060764165164947787,
          0.060373944528952846,
          0.05998418906677802,
          0.05959492220938566,
          0.05920616718637383,
          0.05881794702413232,
          0.05843028454404488,
          0.05804320236073813,
          0.057656722880376814,
          0.05727086829900603,
          0.056885660600939796,
          0.05650112155719624,
          0.056117272723979705,
          0.0557341354412093,
          0.05535173083109405,
          0.054970079796754924,
          0.05458920302089318,
          0.05420912096450528,
          0.053829853865644366,
          0.05345142173822806,
          0.05307384437089247,
          0.05269714132589274,
          0.052321331938049366,
          0.05194643531374073,
          0.051572470329941424,
          0.051199455633306364,
          0.0508274096393006,
          0.05045635053137447,
          0.05008629626018403,
          0.049717264542856805,
          0.04934927286230233,
          0.04898233846656739,
          0.0486164783682361,
          0.04825170934387408,
          0.04788804793351683,
          0.047525510440202125,
          0.04716411292954598,
          0.04680387122936195,
          0.04644480092932399,
          0.046086917380671825,
          0.04573023569595919,
          0.04537477074884441,
          0.04502053717392309,
          0.04466754936660248,
          0.04431582148301765,
          0.04396536743998855,
          0.04361620091501809,
          0.04326833534633081,
          0.042921783932951624,
          0.04257655963482476,
          0.04223267517297195,
          0.04189014302969001,
          0.04154897544878719,
          0.04120918443585806,
          0.04087078175859643,
          0.0405337789471462,
          0.04019818729448942,
          0.039864017856871284,
          0.03953128145426195,
          0.039199988670854335,
          0.03887014985559771,
          0.03854177512276691,
          0.038214874352566194,
          0.037889457191767895,
          0.03756553305438513,
          0.03724311112237822,
          0.03692220034639424,
          0.036602809446539784,
          0.03628494691318574,
          0.03596862100780424,
          0.035653839763837056,
          0.03534061098759502,
          0.035028942259188206,
          0.03471884093348613,
          0.03441031414110763,
          0.034103368789440064,
          0.033798011563687266,
          0.033494248927945634,
          0.03319208712630833,
          0.03289153218399658,
          0.032592589908517974,
          0.03229526589085111,
          0.0319995655066562,
          0.03170549391751103,
          0.03141305607217201,
          0.0311222567078596,
          0.030833100351567694,
          0.03054559132139651,
          0.03025973372790867,
          0.029975531475507376,
          0.029692988263837136,
          0.02941210758920565,
          0.029132892746026862,
          0.028855346828284598,
          0.028579472731016117,
          0.02830527315181561,
          0.028032750592356215,
          0.027761907359931046,
          0.027492745569012333,
          0.027225267142827723,
          0.026959473814954324,
          0.026695367130928734,
          0.026432948449873817,
          0.026172218946140587,
          0.025913179610965568,
          0.025655831254142926,
          0.025400174505710287,
          0.02514620981764898,
          0.024893937465596788,
          0.02464335755057395,
          0.02439447000072134,
          0.02414727457305013,
          0.02390177085520329,
          0.023657958267227365,
          0.02341583606335519,
          0.02317540333379801,
          0.02293665900654735,
          0.022699601849185954,
          0.022464230470706763,
          0.02223054332334064,
          0.021998538704391002,
          0.021768214758076148,
          0.021539569477378173,
          0.02131260070589782,
          0.021087306139715684,
          0.020863683329258313,
          0.02064172968116956,
          0.020421442460186456,
          0.020202818791018852,
          0.01998585566023319,
          0.01977054991813903,
          0.019556898280678886,
          0.019344897331320013,
          0.019134543522948477,
          0.018925833179764866,
          0.018718762499180825,
          0.018513327553716902,
          0.01830952429290027,
          0.01810734854516283,
          0.01790679601973889,
          0.017707862308561795,
          0.017510542888159904,
          0.017314833121550532,
          0.01712072826013243,
          0.016928223445575947,
          0.016737313711710264,
          0.016547993986408292,
          0.016360259093467555,
          0.016174103754488144,
          0.01598952259074603,
          0.015806510125062533,
          0.01562506078366899,
          0.015445168898066295,
          0.01526682870687946,
          0.01509003435770621,
          0.014914779908959917,
          0.01474105933170627,
          0.014568866511493249,
          0.014398195250174523,
          0.014229039267725478,
          0.01406139220405212,
          0.013895247620792025,
          0.013730599003107498,
          0.013567439761470576,
          0.013405763233439245,
          0.013245562685425313,
          0.013086831314452882,
          0.01292956224990783,
          0.012773748555277785,
          0.012619383229882123,
          0.012466459210592343,
          0.012314969373541925,
          0.012164906535825921,
          0.012016263457190018,
          0.011869032841708378,
          0.011723207339450882,
          0.011578779548138669,
          0.011435742014788584,
          0.011294087237345663,
          0.011153807666303925,
          0.011014895706315269,
          0.010877343717785776,
          0.010741144018460084,
          0.01060628888499287,
          0.010472770554507767,
          0.010340581226143583,
          0.010209713062587049,
          0.010080158191593015,
          0.0099519087074907,
          0.009824956672677016,
          0.009699294119096114,
          0.009574913049705093,
          0.009451805439926188,
          0.009329963239084704,
          0.00920937837183317,
          0.00909004273956111,
          0.008971948221790645,
          0.008855086677557826,
          0.008739449946779245,
          0.008625029851604415,
          0.008511818197753254,
          0.008399806775838984,
          0.008288987362676296,
          0.008179351722574451,
          0.008070891608615717,
          0.00796359876391855,
          0.007857464922886005,
          0.0077524818124387615,
          0.007648641153233209,
          0.007545934660864321,
          0.0074443540470531195,
          0.007343891020819112,
          0.007244537289637207,
          0.007146284560579423,
          0.007049124541441257,
          0.006953048941852523,
          0.006858049474373,
          0.006764117855572481,
          0.006671245807095535,
          0.006579425056710833,
          0.006488647339344938,
          0.006398904398100853,
          0.0063101879852609614,
          0.006222489863274759,
          0.006135801805730987,
          0.006050115598314552,
          0.005965423039748041,
          0.005881715942717821,
          0.005798986134784987,
          0.005717225459280859,
          0.005636425776187355,
          0.005556578963002152,
          0.005477676915588563,
          0.005399711549010458,
          0.005322674798351927,
          0.005246558619522003,
          0.005171354990044488,
          0.0050970559098325735,
          0.0050236534019489545,
          0.004951139513350746,
          0.0048795063156200245,
          0.00480874590567933,
          0.004738850406492807,
          0.004669811967752694,
          0.004601622766551285,
          0.004534275008038595,
          0.004467760926065589,
          0.004402072783813224,
          0.004337202874407353,
          0.0042731435215194145,
          0.004209887079953292,
          0.004147425936218091,
          0.004085752509087256,
          0.004024859250143803,
          0.003964738644312021,
          0.003905383210375606,
          0.003846785501482284,
          0.0037889381056352045,
          0.0037318336461709518,
          0.003675464782224507,
          0.003619824209181159,
          0.0035649046591154005,
          0.0035106989012171096,
          0.0034571997422048885,
          0.0034044000267268743,
          0.0033522926377490413,
          0.003300870496931029,
          0.003250126564989821,
          0.0032000538420511207,
          0.003150645367988816,
          0.0031018942227523856,
          0.003053793526682577,
          0.003006336440815375,
          0.0029595161671743335,
          0.002913325949051552,
          0.002867759071277207,
          0.0028228088604779493,
          0.0027784686853242063,
          0.0027347319567664423,
          0.0026915921282606855,
          0.002649042695983238,
          0.002607077199034843,
          0.0025656892196344043,
          0.0025248723833022862,
          0.0024846203590335,
          0.0024449268594606997,
          0.0024057856410073203,
          0.002367190504030789,
          0.002329135292956081,
          0.0022916138963997457,
          0.002254620247284343,
          0.0022181483229437495,
          0.0021821921452190906,
          0.0021467457805457455,
          0.0021118033400313765,
          0.002077358979525114,
          0.002043406899678147,
          0.002009941345995683,
          0.001976956608880578,
          0.0019444470236685998,
          0.0019124069706555754,
          0.0018808308751165268,
          0.0018497132073168343,
          0.0018190484825157055,
          0.0017888312609619405,
          0.0017590561478821962,
          0.0017297177934618812,
          0.0017008108928187335,
          0.0016723301859693173,
          0.0016442704577884547,
          0.0016166265379617974,
          0.001589393300931653,
          0.001562565665836107,
          0.0015361385964417142,
          0.0015101071010697209,
          0.0014844662325160882,
          0.0014592110879653045,
          0.001434336808898216,
          0.0014098385809939533,
          0.001385711634026031,
          0.0013619512417528516,
          0.0013385527218025936,
          0.0013155114355527173,
          0.0012928227880041649,
          0.001270482227650321
         ]
        }
       ],
       "layout": {
        "annotations": [
         {
          "align": "center",
          "bgcolor": "white",
          "font": {
           "color": "black",
           "size": 12
          },
          "opacity": 0.7,
          "showarrow": false,
          "text": "Assimetria: 0.44<br>Curtose: 0.94",
          "x": 0.95,
          "xref": "paper",
          "y": 0.95,
          "yref": "paper"
         }
        ],
        "bargap": 0.1,
        "template": {
         "data": {
          "bar": [
           {
            "error_x": {
             "color": "#2a3f5f"
            },
            "error_y": {
             "color": "#2a3f5f"
            },
            "marker": {
             "line": {
              "color": "#E5ECF6",
              "width": 0.5
             },
             "pattern": {
              "fillmode": "overlay",
              "size": 10,
              "solidity": 0.2
             }
            },
            "type": "bar"
           }
          ],
          "barpolar": [
           {
            "marker": {
             "line": {
              "color": "#E5ECF6",
              "width": 0.5
             },
             "pattern": {
              "fillmode": "overlay",
              "size": 10,
              "solidity": 0.2
             }
            },
            "type": "barpolar"
           }
          ],
          "carpet": [
           {
            "aaxis": {
             "endlinecolor": "#2a3f5f",
             "gridcolor": "white",
             "linecolor": "white",
             "minorgridcolor": "white",
             "startlinecolor": "#2a3f5f"
            },
            "baxis": {
             "endlinecolor": "#2a3f5f",
             "gridcolor": "white",
             "linecolor": "white",
             "minorgridcolor": "white",
             "startlinecolor": "#2a3f5f"
            },
            "type": "carpet"
           }
          ],
          "choropleth": [
           {
            "colorbar": {
             "outlinewidth": 0,
             "ticks": ""
            },
            "type": "choropleth"
           }
          ],
          "contour": [
           {
            "colorbar": {
             "outlinewidth": 0,
             "ticks": ""
            },
            "colorscale": [
             [
              0,
              "#0d0887"
             ],
             [
              0.1111111111111111,
              "#46039f"
             ],
             [
              0.2222222222222222,
              "#7201a8"
             ],
             [
              0.3333333333333333,
              "#9c179e"
             ],
             [
              0.4444444444444444,
              "#bd3786"
             ],
             [
              0.5555555555555556,
              "#d8576b"
             ],
             [
              0.6666666666666666,
              "#ed7953"
             ],
             [
              0.7777777777777778,
              "#fb9f3a"
             ],
             [
              0.8888888888888888,
              "#fdca26"
             ],
             [
              1,
              "#f0f921"
             ]
            ],
            "type": "contour"
           }
          ],
          "contourcarpet": [
           {
            "colorbar": {
             "outlinewidth": 0,
             "ticks": ""
            },
            "type": "contourcarpet"
           }
          ],
          "heatmap": [
           {
            "colorbar": {
             "outlinewidth": 0,
             "ticks": ""
            },
            "colorscale": [
             [
              0,
              "#0d0887"
             ],
             [
              0.1111111111111111,
              "#46039f"
             ],
             [
              0.2222222222222222,
              "#7201a8"
             ],
             [
              0.3333333333333333,
              "#9c179e"
             ],
             [
              0.4444444444444444,
              "#bd3786"
             ],
             [
              0.5555555555555556,
              "#d8576b"
             ],
             [
              0.6666666666666666,
              "#ed7953"
             ],
             [
              0.7777777777777778,
              "#fb9f3a"
             ],
             [
              0.8888888888888888,
              "#fdca26"
             ],
             [
              1,
              "#f0f921"
             ]
            ],
            "type": "heatmap"
           }
          ],
          "heatmapgl": [
           {
            "colorbar": {
             "outlinewidth": 0,
             "ticks": ""
            },
            "colorscale": [
             [
              0,
              "#0d0887"
             ],
             [
              0.1111111111111111,
              "#46039f"
             ],
             [
              0.2222222222222222,
              "#7201a8"
             ],
             [
              0.3333333333333333,
              "#9c179e"
             ],
             [
              0.4444444444444444,
              "#bd3786"
             ],
             [
              0.5555555555555556,
              "#d8576b"
             ],
             [
              0.6666666666666666,
              "#ed7953"
             ],
             [
              0.7777777777777778,
              "#fb9f3a"
             ],
             [
              0.8888888888888888,
              "#fdca26"
             ],
             [
              1,
              "#f0f921"
             ]
            ],
            "type": "heatmapgl"
           }
          ],
          "histogram": [
           {
            "marker": {
             "pattern": {
              "fillmode": "overlay",
              "size": 10,
              "solidity": 0.2
             }
            },
            "type": "histogram"
           }
          ],
          "histogram2d": [
           {
            "colorbar": {
             "outlinewidth": 0,
             "ticks": ""
            },
            "colorscale": [
             [
              0,
              "#0d0887"
             ],
             [
              0.1111111111111111,
              "#46039f"
             ],
             [
              0.2222222222222222,
              "#7201a8"
             ],
             [
              0.3333333333333333,
              "#9c179e"
             ],
             [
              0.4444444444444444,
              "#bd3786"
             ],
             [
              0.5555555555555556,
              "#d8576b"
             ],
             [
              0.6666666666666666,
              "#ed7953"
             ],
             [
              0.7777777777777778,
              "#fb9f3a"
             ],
             [
              0.8888888888888888,
              "#fdca26"
             ],
             [
              1,
              "#f0f921"
             ]
            ],
            "type": "histogram2d"
           }
          ],
          "histogram2dcontour": [
           {
            "colorbar": {
             "outlinewidth": 0,
             "ticks": ""
            },
            "colorscale": [
             [
              0,
              "#0d0887"
             ],
             [
              0.1111111111111111,
              "#46039f"
             ],
             [
              0.2222222222222222,
              "#7201a8"
             ],
             [
              0.3333333333333333,
              "#9c179e"
             ],
             [
              0.4444444444444444,
              "#bd3786"
             ],
             [
              0.5555555555555556,
              "#d8576b"
             ],
             [
              0.6666666666666666,
              "#ed7953"
             ],
             [
              0.7777777777777778,
              "#fb9f3a"
             ],
             [
              0.8888888888888888,
              "#fdca26"
             ],
             [
              1,
              "#f0f921"
             ]
            ],
            "type": "histogram2dcontour"
           }
          ],
          "mesh3d": [
           {
            "colorbar": {
             "outlinewidth": 0,
             "ticks": ""
            },
            "type": "mesh3d"
           }
          ],
          "parcoords": [
           {
            "line": {
             "colorbar": {
              "outlinewidth": 0,
              "ticks": ""
             }
            },
            "type": "parcoords"
           }
          ],
          "pie": [
           {
            "automargin": true,
            "type": "pie"
           }
          ],
          "scatter": [
           {
            "fillpattern": {
             "fillmode": "overlay",
             "size": 10,
             "solidity": 0.2
            },
            "type": "scatter"
           }
          ],
          "scatter3d": [
           {
            "line": {
             "colorbar": {
              "outlinewidth": 0,
              "ticks": ""
             }
            },
            "marker": {
             "colorbar": {
              "outlinewidth": 0,
              "ticks": ""
             }
            },
            "type": "scatter3d"
           }
          ],
          "scattercarpet": [
           {
            "marker": {
             "colorbar": {
              "outlinewidth": 0,
              "ticks": ""
             }
            },
            "type": "scattercarpet"
           }
          ],
          "scattergeo": [
           {
            "marker": {
             "colorbar": {
              "outlinewidth": 0,
              "ticks": ""
             }
            },
            "type": "scattergeo"
           }
          ],
          "scattergl": [
           {
            "marker": {
             "colorbar": {
              "outlinewidth": 0,
              "ticks": ""
             }
            },
            "type": "scattergl"
           }
          ],
          "scattermapbox": [
           {
            "marker": {
             "colorbar": {
              "outlinewidth": 0,
              "ticks": ""
             }
            },
            "type": "scattermapbox"
           }
          ],
          "scatterpolar": [
           {
            "marker": {
             "colorbar": {
              "outlinewidth": 0,
              "ticks": ""
             }
            },
            "type": "scatterpolar"
           }
          ],
          "scatterpolargl": [
           {
            "marker": {
             "colorbar": {
              "outlinewidth": 0,
              "ticks": ""
             }
            },
            "type": "scatterpolargl"
           }
          ],
          "scatterternary": [
           {
            "marker": {
             "colorbar": {
              "outlinewidth": 0,
              "ticks": ""
             }
            },
            "type": "scatterternary"
           }
          ],
          "surface": [
           {
            "colorbar": {
             "outlinewidth": 0,
             "ticks": ""
            },
            "colorscale": [
             [
              0,
              "#0d0887"
             ],
             [
              0.1111111111111111,
              "#46039f"
             ],
             [
              0.2222222222222222,
              "#7201a8"
             ],
             [
              0.3333333333333333,
              "#9c179e"
             ],
             [
              0.4444444444444444,
              "#bd3786"
             ],
             [
              0.5555555555555556,
              "#d8576b"
             ],
             [
              0.6666666666666666,
              "#ed7953"
             ],
             [
              0.7777777777777778,
              "#fb9f3a"
             ],
             [
              0.8888888888888888,
              "#fdca26"
             ],
             [
              1,
              "#f0f921"
             ]
            ],
            "type": "surface"
           }
          ],
          "table": [
           {
            "cells": {
             "fill": {
              "color": "#EBF0F8"
             },
             "line": {
              "color": "white"
             }
            },
            "header": {
             "fill": {
              "color": "#C8D4E3"
             },
             "line": {
              "color": "white"
             }
            },
            "type": "table"
           }
          ]
         },
         "layout": {
          "annotationdefaults": {
           "arrowcolor": "#2a3f5f",
           "arrowhead": 0,
           "arrowwidth": 1
          },
          "autotypenumbers": "strict",
          "coloraxis": {
           "colorbar": {
            "outlinewidth": 0,
            "ticks": ""
           }
          },
          "colorscale": {
           "diverging": [
            [
             0,
             "#8e0152"
            ],
            [
             0.1,
             "#c51b7d"
            ],
            [
             0.2,
             "#de77ae"
            ],
            [
             0.3,
             "#f1b6da"
            ],
            [
             0.4,
             "#fde0ef"
            ],
            [
             0.5,
             "#f7f7f7"
            ],
            [
             0.6,
             "#e6f5d0"
            ],
            [
             0.7,
             "#b8e186"
            ],
            [
             0.8,
             "#7fbc41"
            ],
            [
             0.9,
             "#4d9221"
            ],
            [
             1,
             "#276419"
            ]
           ],
           "sequential": [
            [
             0,
             "#0d0887"
            ],
            [
             0.1111111111111111,
             "#46039f"
            ],
            [
             0.2222222222222222,
             "#7201a8"
            ],
            [
             0.3333333333333333,
             "#9c179e"
            ],
            [
             0.4444444444444444,
             "#bd3786"
            ],
            [
             0.5555555555555556,
             "#d8576b"
            ],
            [
             0.6666666666666666,
             "#ed7953"
            ],
            [
             0.7777777777777778,
             "#fb9f3a"
            ],
            [
             0.8888888888888888,
             "#fdca26"
            ],
            [
             1,
             "#f0f921"
            ]
           ],
           "sequentialminus": [
            [
             0,
             "#0d0887"
            ],
            [
             0.1111111111111111,
             "#46039f"
            ],
            [
             0.2222222222222222,
             "#7201a8"
            ],
            [
             0.3333333333333333,
             "#9c179e"
            ],
            [
             0.4444444444444444,
             "#bd3786"
            ],
            [
             0.5555555555555556,
             "#d8576b"
            ],
            [
             0.6666666666666666,
             "#ed7953"
            ],
            [
             0.7777777777777778,
             "#fb9f3a"
            ],
            [
             0.8888888888888888,
             "#fdca26"
            ],
            [
             1,
             "#f0f921"
            ]
           ]
          },
          "colorway": [
           "#636efa",
           "#EF553B",
           "#00cc96",
           "#ab63fa",
           "#FFA15A",
           "#19d3f3",
           "#FF6692",
           "#B6E880",
           "#FF97FF",
           "#FECB52"
          ],
          "font": {
           "color": "#2a3f5f"
          },
          "geo": {
           "bgcolor": "white",
           "lakecolor": "white",
           "landcolor": "#E5ECF6",
           "showlakes": true,
           "showland": true,
           "subunitcolor": "white"
          },
          "hoverlabel": {
           "align": "left"
          },
          "hovermode": "closest",
          "mapbox": {
           "style": "light"
          },
          "paper_bgcolor": "white",
          "plot_bgcolor": "#E5ECF6",
          "polar": {
           "angularaxis": {
            "gridcolor": "white",
            "linecolor": "white",
            "ticks": ""
           },
           "bgcolor": "#E5ECF6",
           "radialaxis": {
            "gridcolor": "white",
            "linecolor": "white",
            "ticks": ""
           }
          },
          "scene": {
           "xaxis": {
            "backgroundcolor": "#E5ECF6",
            "gridcolor": "white",
            "gridwidth": 2,
            "linecolor": "white",
            "showbackground": true,
            "ticks": "",
            "zerolinecolor": "white"
           },
           "yaxis": {
            "backgroundcolor": "#E5ECF6",
            "gridcolor": "white",
            "gridwidth": 2,
            "linecolor": "white",
            "showbackground": true,
            "ticks": "",
            "zerolinecolor": "white"
           },
           "zaxis": {
            "backgroundcolor": "#E5ECF6",
            "gridcolor": "white",
            "gridwidth": 2,
            "linecolor": "white",
            "showbackground": true,
            "ticks": "",
            "zerolinecolor": "white"
           }
          },
          "shapedefaults": {
           "line": {
            "color": "#2a3f5f"
           }
          },
          "ternary": {
           "aaxis": {
            "gridcolor": "white",
            "linecolor": "white",
            "ticks": ""
           },
           "baxis": {
            "gridcolor": "white",
            "linecolor": "white",
            "ticks": ""
           },
           "bgcolor": "#E5ECF6",
           "caxis": {
            "gridcolor": "white",
            "linecolor": "white",
            "ticks": ""
           }
          },
          "title": {
           "x": 0.05
          },
          "xaxis": {
           "automargin": true,
           "gridcolor": "white",
           "linecolor": "white",
           "ticks": "",
           "title": {
            "standoff": 15
           },
           "zerolinecolor": "white",
           "zerolinewidth": 2
          },
          "yaxis": {
           "automargin": true,
           "gridcolor": "white",
           "linecolor": "white",
           "ticks": "",
           "title": {
            "standoff": 15
           },
           "zerolinecolor": "white",
           "zerolinewidth": 2
          }
         }
        },
        "title": {
         "text": "Histograma dos Retornos da Estratégia com Curva Normal Ajustada"
        },
        "xaxis": {
         "title": {
          "text": "Retornos"
         }
        },
        "yaxis": {
         "title": {
          "text": "Frequência (Probabilidade)"
         }
        }
       }
      }
     },
     "metadata": {},
     "output_type": "display_data"
    }
   ],
   "source": [
    "from scipy import stats\n",
    "\n",
    "# Suponha que 'average_monthly_results' seja o seu vetor de retornos da estratégia\n",
    "returns = average_monthly_results  # Substitua com os seus dados de retornos\n",
    "\n",
    "# Ajusta a distribuição normal aos dados (média e desvio padrão)\n",
    "mean, std_dev = stats.norm.fit(returns)\n",
    "\n",
    "# Cria o histograma\n",
    "hist_data = go.Histogram(\n",
    "    x=returns,\n",
    "    nbinsx=30,  # Defina o número de bins conforme necessário\n",
    "    name='Histograma dos Retornos',\n",
    "    opacity=0.75,\n",
    "    histnorm='probability'  # Normaliza o histograma para a probabilidade\n",
    ")\n",
    "\n",
    "# Cria a curva normal ajustada\n",
    "x_range = np.linspace(min(returns), max(returns), 1000)\n",
    "y_range = stats.norm.pdf(x_range, mean, std_dev)  # Calcula a função de densidade da normal\n",
    "\n",
    "# Adiciona a curva normal ao gráfico\n",
    "normal_curve = go.Scatter(\n",
    "    x=x_range,\n",
    "    y=y_range,\n",
    "    mode='lines',\n",
    "    name='Curva Normal Ajustada',\n",
    "    line=dict(color='red', width=2)\n",
    ")\n",
    "\n",
    "# Calcular a assimetria e a curtose\n",
    "skewness = stats.skew(returns)\n",
    "kurtosis = stats.kurtosis(returns)\n",
    "\n",
    "# Cria a figura com histograma e curva normal\n",
    "fig = go.Figure(data=[hist_data, normal_curve])\n",
    "\n",
    "# Adicionar anotações de assimetria e curtose\n",
    "fig.add_annotation(\n",
    "    x=0.95, y=0.95, \n",
    "    text=f'Assimetria: {skewness:.2f}<br>Curtose: {kurtosis:.2f}', \n",
    "    showarrow=False, \n",
    "    font=dict(size=12, color=\"black\"), \n",
    "    align=\"center\", \n",
    "    xref=\"paper\", yref=\"paper\", \n",
    "    bgcolor=\"white\", opacity=0.7\n",
    ")\n",
    "\n",
    "# Atualiza o layout com títulos e rótulos\n",
    "fig.update_layout(\n",
    "    title=\"Histograma dos Retornos da Estratégia com Curva Normal Ajustada\",\n",
    "    xaxis_title=\"Retornos\",\n",
    "    yaxis_title=\"Frequência (Probabilidade)\",\n",
    "    bargap=0.1  # Ajusta o espaçamento entre as barras\n",
    ")\n",
    "\n",
    "# Exibe o gráfico\n",
    "fig.show()\n"
   ]
  },
  {
   "cell_type": "markdown",
   "metadata": {},
   "source": [
    "*Assimetria -> quanto mais próximo de 0, mais \"normal\" é a distribuição*.\n",
    "\n",
    "*Curtose -> quanto mais próximo de 3, mais \"normal\" é a distribuição*."
   ]
  },
  {
   "cell_type": "markdown",
   "metadata": {},
   "source": [
    "A assimetria de 0,37 indica que a distribuição dos retornos é ligeiramente assimétrica para a direita (cauda direita um pouco mais longa ou mais \"gorda\"). Isso significa que, em média, existem algumas observações com retornos maiores, mas não de forma extrema. A assimetria é positiva, mas o valor de 0,37 é relativamente baixo, indicando que a distribuição não é fortemente inclinada, mas apresenta um pequeno desvio da simetria perfeita.\n",
    "\n",
    "A curtose de 1,12 é menor que 3, o que sugere que a distribuição dos retornos tem caudas mais leves do que uma distribuição normal (com curtose = 3). Em outras palavras, essa série tem menos extremos ou valores outliers comparada a uma distribuição normal. Uma curtose de 1,12 indica uma distribuição menos concentrada nas extremidades, com uma forma mais \"achatada\" no centro, em comparação com a distribuição normal.\n",
    "\n",
    "Conclusões:\n",
    "Distribuição levemente assimétrica: A assimetria positiva indica que a distribuição tem uma leve inclinação para a direita, sugerindo que, ocasionalmente, podem ocorrer retornos mais altos, mas não de forma predominante ou extrema.\n",
    "\n",
    "Distribuição com caudas leves: A curtose baixa indica que as caudas da distribuição são mais leves do que uma distribuição normal. Isso pode ser bom para estratégias de risco, pois a probabilidade de grandes perdas (ou ganhos) é menor. Contudo, também significa que a distribuição tende a ser mais concentrada perto da média.\n",
    "\n",
    "Em resumo, a série de retornos tem um comportamento levemente assimétrico para a direita e menos extremos em comparação com uma distribuição normal, o que pode indicar uma estratégia de risco mais controlado, mas também menos propensa a grandes oscilações.\n",
    "\n",
    "**By: ChatGPT**"
   ]
  },
  {
   "cell_type": "markdown",
   "metadata": {},
   "source": [
    "##### **Gráficos relacionados ao modelo MSGARCH e a LSTM**"
   ]
  },
  {
   "cell_type": "markdown",
   "metadata": {},
   "source": [
    "*Vamos utilizar as ações da Coca-Cola Company e do JPMorgan para exemplificar, em um gráfico, como nosso modelo captura a volatilidade condicional. Em seguida, usaremos as ações do JPMorgan para ilustrar, também com um gráfico, como o modelo realiza previsões.*"
   ]
  },
  {
   "cell_type": "code",
   "execution_count": 34,
   "metadata": {},
   "outputs": [],
   "source": [
    "setup = {\n",
    "    # Data inicial para a extração de dados (Deve obrigatoriamente ser um dia de negociação).\n",
    "    \"data_extraction_initial_date\": datetime(2019,1,2).date(), #  Primeiro dia de negociações do S&P500 em 2019.\n",
    "    \n",
    "    # Data final cujos dados serão coletados (Deve obrigatoriamente ser um dia de negociação e \n",
    "    # deve também obrigatoriamente suceder um dia de negociação.).\n",
    "    \"data_extraction_final_date\": datetime(2023,12,30).date(), #(Último dia de negociações do S&P500 em 2023). \n",
    "\n",
    "    # Define os períodos de tempo (janelas móveis) para o cálculo das principais features técnicas a serem usadas no modelo.\n",
    "    \"features_time_period\": {\n",
    "        # Define o período (janela móvel) para o cálculo dos retornos.\n",
    "        \"returns_time_period\": 1,\n",
    "        # Define o período (janela móvel) para o cálculo da média móvel exponencial.\n",
    "        \"exponential_moving_average_time_period\": 14,\n",
    "        # Define o período (janela móvel) para o cálculo do Índice de Força Relativa (RSI).\n",
    "        \"relative_strength_index_time_period\": 14,\n",
    "        # Define o período (janela móvel) para o cálculo da Faixa Média Verdadeira (ATR).\n",
    "        \"average_true_range_time_period\": 14,\n",
    "        # Define o período (janela móvel) para o cálculo do momentum.\n",
    "        \"momemtum_time_period\": 14,\n",
    "        # Frequência para coleta dos dados do VIX. O valor \"1d\" indica que os dados do VIX serão registrados \n",
    "        # em intervalos diários de negociação.\n",
    "        \"vix_time_period\": \"1d\",\n",
    "        # Define o período para o cálculo das mudanças percentuais (Usado no vix e no MSGARCH).\n",
    "        \"pct_change_period\": 1,\n",
    "    },\n",
    "    \n",
    "    # Período da estratégia a ser usada: define a frequência para a análise dos retornos (Ex.: 5 para análise semanal, 20 para mensal).\n",
    "    \"strategy_time_period\": 20, # Observação: São levados em conta como dias na estratégia apenas aqueles onde ocorreram negociações.\n",
    "    \n",
    "    # Define o comprimento das sequências de tempo (janelas móveis) usadas no modelo LSTM.\n",
    "    \"lstm_time_sequences_length\": 3\n",
    "}"
   ]
  },
  {
   "cell_type": "code",
   "execution_count": 35,
   "metadata": {},
   "outputs": [],
   "source": [
    "# Cria um objeto ticker para as ações da Cola Cola Company.\n",
    "coca_cola_data = Ticker(\"KO\", setup['data_extraction_initial_date'], setup['data_extraction_final_date'], setup['features_time_period'],setup['strategy_time_period'])\n",
    "\n",
    "# Cria um objeto ticker para as ações do JPMorgan.\n",
    "jpmorgan_data = Ticker(\"JPM\", setup['data_extraction_initial_date'], setup['data_extraction_final_date'], setup['features_time_period'],setup['strategy_time_period'])"
   ]
  },
  {
   "cell_type": "code",
   "execution_count": 36,
   "metadata": {},
   "outputs": [],
   "source": [
    "# Obtem o resultado da modelagem da volatilidade condicional do ticker \"KO\".\n",
    "coca_cola_conditional_volatility = coca_cola_data.__get_MSGARCH_results__()[1]\n",
    "coca_cola_conditional_volatility.name = \"Coca Cola\" # Seta o nome da série temporal \"coca_cola_conditional_volatility\".\n",
    "\n",
    "# Obtem o resultado da modelagem da volatilidade condicional do ticker \"JPM\".\n",
    "jpmorgan_conditional_volatility = jpmorgan_data.__get_MSGARCH_results__()[1]\n",
    "jpmorgan_conditional_volatility.name = \"JPMorgan\" # Seta o nome da série temporal \"jpmorgan_conditional_volatility\"."
   ]
  },
  {
   "cell_type": "code",
   "execution_count": 37,
   "metadata": {},
   "outputs": [
    {
     "data": {
      "application/vnd.plotly.v1+json": {
       "config": {
        "plotlyServerURL": "https://plot.ly"
       },
       "data": [
        {
         "mode": "lines",
         "name": "Coca Cola",
         "type": "scatter",
         "x": [
          "2019-01-25T00:00:00",
          "2019-01-28T00:00:00",
          "2019-01-29T00:00:00",
          "2019-01-30T00:00:00",
          "2019-01-31T00:00:00",
          "2019-02-01T00:00:00",
          "2019-02-04T00:00:00",
          "2019-02-05T00:00:00",
          "2019-02-06T00:00:00",
          "2019-02-07T00:00:00",
          "2019-02-08T00:00:00",
          "2019-02-11T00:00:00",
          "2019-02-12T00:00:00",
          "2019-02-13T00:00:00",
          "2019-02-14T00:00:00",
          "2019-02-15T00:00:00",
          "2019-02-19T00:00:00",
          "2019-02-20T00:00:00",
          "2019-02-21T00:00:00",
          "2019-02-22T00:00:00",
          "2019-02-25T00:00:00",
          "2019-02-26T00:00:00",
          "2019-02-27T00:00:00",
          "2019-02-28T00:00:00",
          "2019-03-01T00:00:00",
          "2019-03-04T00:00:00",
          "2019-03-05T00:00:00",
          "2019-03-06T00:00:00",
          "2019-03-07T00:00:00",
          "2019-03-08T00:00:00",
          "2019-03-11T00:00:00",
          "2019-03-12T00:00:00",
          "2019-03-13T00:00:00",
          "2019-03-14T00:00:00",
          "2019-03-15T00:00:00",
          "2019-03-18T00:00:00",
          "2019-03-19T00:00:00",
          "2019-03-20T00:00:00",
          "2019-03-21T00:00:00",
          "2019-03-22T00:00:00",
          "2019-03-25T00:00:00",
          "2019-03-26T00:00:00",
          "2019-03-27T00:00:00",
          "2019-03-28T00:00:00",
          "2019-03-29T00:00:00",
          "2019-04-01T00:00:00",
          "2019-04-02T00:00:00",
          "2019-04-03T00:00:00",
          "2019-04-04T00:00:00",
          "2019-04-05T00:00:00",
          "2019-04-08T00:00:00",
          "2019-04-09T00:00:00",
          "2019-04-10T00:00:00",
          "2019-04-11T00:00:00",
          "2019-04-12T00:00:00",
          "2019-04-15T00:00:00",
          "2019-04-16T00:00:00",
          "2019-04-17T00:00:00",
          "2019-04-18T00:00:00",
          "2019-04-22T00:00:00",
          "2019-04-23T00:00:00",
          "2019-04-24T00:00:00",
          "2019-04-25T00:00:00",
          "2019-04-26T00:00:00",
          "2019-04-29T00:00:00",
          "2019-04-30T00:00:00",
          "2019-05-01T00:00:00",
          "2019-05-02T00:00:00",
          "2019-05-03T00:00:00",
          "2019-05-06T00:00:00",
          "2019-05-07T00:00:00",
          "2019-05-08T00:00:00",
          "2019-05-09T00:00:00",
          "2019-05-10T00:00:00",
          "2019-05-13T00:00:00",
          "2019-05-14T00:00:00",
          "2019-05-15T00:00:00",
          "2019-05-16T00:00:00",
          "2019-05-17T00:00:00",
          "2019-05-20T00:00:00",
          "2019-05-21T00:00:00",
          "2019-05-22T00:00:00",
          "2019-05-23T00:00:00",
          "2019-05-24T00:00:00",
          "2019-05-28T00:00:00",
          "2019-05-29T00:00:00",
          "2019-05-30T00:00:00",
          "2019-05-31T00:00:00",
          "2019-06-03T00:00:00",
          "2019-06-04T00:00:00",
          "2019-06-05T00:00:00",
          "2019-06-06T00:00:00",
          "2019-06-07T00:00:00",
          "2019-06-10T00:00:00",
          "2019-06-11T00:00:00",
          "2019-06-12T00:00:00",
          "2019-06-13T00:00:00",
          "2019-06-14T00:00:00",
          "2019-06-17T00:00:00",
          "2019-06-18T00:00:00",
          "2019-06-19T00:00:00",
          "2019-06-20T00:00:00",
          "2019-06-21T00:00:00",
          "2019-06-24T00:00:00",
          "2019-06-25T00:00:00",
          "2019-06-26T00:00:00",
          "2019-06-27T00:00:00",
          "2019-06-28T00:00:00",
          "2019-07-01T00:00:00",
          "2019-07-02T00:00:00",
          "2019-07-03T00:00:00",
          "2019-07-05T00:00:00",
          "2019-07-08T00:00:00",
          "2019-07-09T00:00:00",
          "2019-07-10T00:00:00",
          "2019-07-11T00:00:00",
          "2019-07-12T00:00:00",
          "2019-07-15T00:00:00",
          "2019-07-16T00:00:00",
          "2019-07-17T00:00:00",
          "2019-07-18T00:00:00",
          "2019-07-19T00:00:00",
          "2019-07-22T00:00:00",
          "2019-07-23T00:00:00",
          "2019-07-24T00:00:00",
          "2019-07-25T00:00:00",
          "2019-07-26T00:00:00",
          "2019-07-29T00:00:00",
          "2019-07-30T00:00:00",
          "2019-07-31T00:00:00",
          "2019-08-01T00:00:00",
          "2019-08-02T00:00:00",
          "2019-08-05T00:00:00",
          "2019-08-06T00:00:00",
          "2019-08-07T00:00:00",
          "2019-08-08T00:00:00",
          "2019-08-09T00:00:00",
          "2019-08-12T00:00:00",
          "2019-08-13T00:00:00",
          "2019-08-14T00:00:00",
          "2019-08-15T00:00:00",
          "2019-08-16T00:00:00",
          "2019-08-19T00:00:00",
          "2019-08-20T00:00:00",
          "2019-08-21T00:00:00",
          "2019-08-22T00:00:00",
          "2019-08-23T00:00:00",
          "2019-08-26T00:00:00",
          "2019-08-27T00:00:00",
          "2019-08-28T00:00:00",
          "2019-08-29T00:00:00",
          "2019-08-30T00:00:00",
          "2019-09-03T00:00:00",
          "2019-09-04T00:00:00",
          "2019-09-05T00:00:00",
          "2019-09-06T00:00:00",
          "2019-09-09T00:00:00",
          "2019-09-10T00:00:00",
          "2019-09-11T00:00:00",
          "2019-09-12T00:00:00",
          "2019-09-13T00:00:00",
          "2019-09-16T00:00:00",
          "2019-09-17T00:00:00",
          "2019-09-18T00:00:00",
          "2019-09-19T00:00:00",
          "2019-09-20T00:00:00",
          "2019-09-23T00:00:00",
          "2019-09-24T00:00:00",
          "2019-09-25T00:00:00",
          "2019-09-26T00:00:00",
          "2019-09-27T00:00:00",
          "2019-09-30T00:00:00",
          "2019-10-01T00:00:00",
          "2019-10-02T00:00:00",
          "2019-10-03T00:00:00",
          "2019-10-04T00:00:00",
          "2019-10-07T00:00:00",
          "2019-10-08T00:00:00",
          "2019-10-09T00:00:00",
          "2019-10-10T00:00:00",
          "2019-10-11T00:00:00",
          "2019-10-14T00:00:00",
          "2019-10-15T00:00:00",
          "2019-10-16T00:00:00",
          "2019-10-17T00:00:00",
          "2019-10-18T00:00:00",
          "2019-10-21T00:00:00",
          "2019-10-22T00:00:00",
          "2019-10-23T00:00:00",
          "2019-10-24T00:00:00",
          "2019-10-25T00:00:00",
          "2019-10-28T00:00:00",
          "2019-10-29T00:00:00",
          "2019-10-30T00:00:00",
          "2019-10-31T00:00:00",
          "2019-11-01T00:00:00",
          "2019-11-04T00:00:00",
          "2019-11-05T00:00:00",
          "2019-11-06T00:00:00",
          "2019-11-07T00:00:00",
          "2019-11-08T00:00:00",
          "2019-11-11T00:00:00",
          "2019-11-12T00:00:00",
          "2019-11-13T00:00:00",
          "2019-11-14T00:00:00",
          "2019-11-15T00:00:00",
          "2019-11-18T00:00:00",
          "2019-11-19T00:00:00",
          "2019-11-20T00:00:00",
          "2019-11-21T00:00:00",
          "2019-11-22T00:00:00",
          "2019-11-25T00:00:00",
          "2019-11-26T00:00:00",
          "2019-11-27T00:00:00",
          "2019-11-29T00:00:00",
          "2019-12-02T00:00:00",
          "2019-12-03T00:00:00",
          "2019-12-04T00:00:00",
          "2019-12-05T00:00:00",
          "2019-12-06T00:00:00",
          "2019-12-09T00:00:00",
          "2019-12-10T00:00:00",
          "2019-12-11T00:00:00",
          "2019-12-12T00:00:00",
          "2019-12-13T00:00:00",
          "2019-12-16T00:00:00",
          "2019-12-17T00:00:00",
          "2019-12-18T00:00:00",
          "2019-12-19T00:00:00",
          "2019-12-20T00:00:00",
          "2019-12-23T00:00:00",
          "2019-12-24T00:00:00",
          "2019-12-26T00:00:00",
          "2019-12-27T00:00:00",
          "2019-12-30T00:00:00",
          "2019-12-31T00:00:00",
          "2020-01-02T00:00:00",
          "2020-01-03T00:00:00",
          "2020-01-06T00:00:00",
          "2020-01-07T00:00:00",
          "2020-01-08T00:00:00",
          "2020-01-09T00:00:00",
          "2020-01-10T00:00:00",
          "2020-01-13T00:00:00",
          "2020-01-14T00:00:00",
          "2020-01-15T00:00:00",
          "2020-01-16T00:00:00",
          "2020-01-17T00:00:00",
          "2020-01-21T00:00:00",
          "2020-01-22T00:00:00",
          "2020-01-23T00:00:00",
          "2020-01-24T00:00:00",
          "2020-01-27T00:00:00",
          "2020-01-28T00:00:00",
          "2020-01-29T00:00:00",
          "2020-01-30T00:00:00",
          "2020-01-31T00:00:00",
          "2020-02-03T00:00:00",
          "2020-02-04T00:00:00",
          "2020-02-05T00:00:00",
          "2020-02-06T00:00:00",
          "2020-02-07T00:00:00",
          "2020-02-10T00:00:00",
          "2020-02-11T00:00:00",
          "2020-02-12T00:00:00",
          "2020-02-13T00:00:00",
          "2020-02-14T00:00:00",
          "2020-02-18T00:00:00",
          "2020-02-19T00:00:00",
          "2020-02-20T00:00:00",
          "2020-02-21T00:00:00",
          "2020-02-24T00:00:00",
          "2020-02-25T00:00:00",
          "2020-02-26T00:00:00",
          "2020-02-27T00:00:00",
          "2020-02-28T00:00:00",
          "2020-03-02T00:00:00",
          "2020-03-03T00:00:00",
          "2020-03-04T00:00:00",
          "2020-03-05T00:00:00",
          "2020-03-06T00:00:00",
          "2020-03-09T00:00:00",
          "2020-03-10T00:00:00",
          "2020-03-11T00:00:00",
          "2020-03-12T00:00:00",
          "2020-03-13T00:00:00",
          "2020-03-16T00:00:00",
          "2020-03-17T00:00:00",
          "2020-03-18T00:00:00",
          "2020-03-19T00:00:00",
          "2020-03-20T00:00:00",
          "2020-03-23T00:00:00",
          "2020-03-24T00:00:00",
          "2020-03-25T00:00:00",
          "2020-03-26T00:00:00",
          "2020-03-27T00:00:00",
          "2020-03-30T00:00:00",
          "2020-03-31T00:00:00",
          "2020-04-01T00:00:00",
          "2020-04-02T00:00:00",
          "2020-04-03T00:00:00",
          "2020-04-06T00:00:00",
          "2020-04-07T00:00:00",
          "2020-04-08T00:00:00",
          "2020-04-09T00:00:00",
          "2020-04-13T00:00:00",
          "2020-04-14T00:00:00",
          "2020-04-15T00:00:00",
          "2020-04-16T00:00:00",
          "2020-04-17T00:00:00",
          "2020-04-20T00:00:00",
          "2020-04-21T00:00:00",
          "2020-04-22T00:00:00",
          "2020-04-23T00:00:00",
          "2020-04-24T00:00:00",
          "2020-04-27T00:00:00",
          "2020-04-28T00:00:00",
          "2020-04-29T00:00:00",
          "2020-04-30T00:00:00",
          "2020-05-01T00:00:00",
          "2020-05-04T00:00:00",
          "2020-05-05T00:00:00",
          "2020-05-06T00:00:00",
          "2020-05-07T00:00:00",
          "2020-05-08T00:00:00",
          "2020-05-11T00:00:00",
          "2020-05-12T00:00:00",
          "2020-05-13T00:00:00",
          "2020-05-14T00:00:00",
          "2020-05-15T00:00:00",
          "2020-05-18T00:00:00",
          "2020-05-19T00:00:00",
          "2020-05-20T00:00:00",
          "2020-05-21T00:00:00",
          "2020-05-22T00:00:00",
          "2020-05-26T00:00:00",
          "2020-05-27T00:00:00",
          "2020-05-28T00:00:00",
          "2020-05-29T00:00:00",
          "2020-06-01T00:00:00",
          "2020-06-02T00:00:00",
          "2020-06-03T00:00:00",
          "2020-06-04T00:00:00",
          "2020-06-05T00:00:00",
          "2020-06-08T00:00:00",
          "2020-06-09T00:00:00",
          "2020-06-10T00:00:00",
          "2020-06-11T00:00:00",
          "2020-06-12T00:00:00",
          "2020-06-15T00:00:00",
          "2020-06-16T00:00:00",
          "2020-06-17T00:00:00",
          "2020-06-18T00:00:00",
          "2020-06-19T00:00:00",
          "2020-06-22T00:00:00",
          "2020-06-23T00:00:00",
          "2020-06-24T00:00:00",
          "2020-06-25T00:00:00",
          "2020-06-26T00:00:00",
          "2020-06-29T00:00:00",
          "2020-06-30T00:00:00",
          "2020-07-01T00:00:00",
          "2020-07-02T00:00:00",
          "2020-07-06T00:00:00",
          "2020-07-07T00:00:00",
          "2020-07-08T00:00:00",
          "2020-07-09T00:00:00",
          "2020-07-10T00:00:00",
          "2020-07-13T00:00:00",
          "2020-07-14T00:00:00",
          "2020-07-15T00:00:00",
          "2020-07-16T00:00:00",
          "2020-07-17T00:00:00",
          "2020-07-20T00:00:00",
          "2020-07-21T00:00:00",
          "2020-07-22T00:00:00",
          "2020-07-23T00:00:00",
          "2020-07-24T00:00:00",
          "2020-07-27T00:00:00",
          "2020-07-28T00:00:00",
          "2020-07-29T00:00:00",
          "2020-07-30T00:00:00",
          "2020-07-31T00:00:00",
          "2020-08-03T00:00:00",
          "2020-08-04T00:00:00",
          "2020-08-05T00:00:00",
          "2020-08-06T00:00:00",
          "2020-08-07T00:00:00",
          "2020-08-10T00:00:00",
          "2020-08-11T00:00:00",
          "2020-08-12T00:00:00",
          "2020-08-13T00:00:00",
          "2020-08-14T00:00:00",
          "2020-08-17T00:00:00",
          "2020-08-18T00:00:00",
          "2020-08-19T00:00:00",
          "2020-08-20T00:00:00",
          "2020-08-21T00:00:00",
          "2020-08-24T00:00:00",
          "2020-08-25T00:00:00",
          "2020-08-26T00:00:00",
          "2020-08-27T00:00:00",
          "2020-08-28T00:00:00",
          "2020-08-31T00:00:00",
          "2020-09-01T00:00:00",
          "2020-09-02T00:00:00",
          "2020-09-03T00:00:00",
          "2020-09-04T00:00:00",
          "2020-09-08T00:00:00",
          "2020-09-09T00:00:00",
          "2020-09-10T00:00:00",
          "2020-09-11T00:00:00",
          "2020-09-14T00:00:00",
          "2020-09-15T00:00:00",
          "2020-09-16T00:00:00",
          "2020-09-17T00:00:00",
          "2020-09-18T00:00:00",
          "2020-09-21T00:00:00",
          "2020-09-22T00:00:00",
          "2020-09-23T00:00:00",
          "2020-09-24T00:00:00",
          "2020-09-25T00:00:00",
          "2020-09-28T00:00:00",
          "2020-09-29T00:00:00",
          "2020-09-30T00:00:00",
          "2020-10-01T00:00:00",
          "2020-10-02T00:00:00",
          "2020-10-05T00:00:00",
          "2020-10-06T00:00:00",
          "2020-10-07T00:00:00",
          "2020-10-08T00:00:00",
          "2020-10-09T00:00:00",
          "2020-10-12T00:00:00",
          "2020-10-13T00:00:00",
          "2020-10-14T00:00:00",
          "2020-10-15T00:00:00",
          "2020-10-16T00:00:00",
          "2020-10-19T00:00:00",
          "2020-10-20T00:00:00",
          "2020-10-21T00:00:00",
          "2020-10-22T00:00:00",
          "2020-10-23T00:00:00",
          "2020-10-26T00:00:00",
          "2020-10-27T00:00:00",
          "2020-10-28T00:00:00",
          "2020-10-29T00:00:00",
          "2020-10-30T00:00:00",
          "2020-11-02T00:00:00",
          "2020-11-03T00:00:00",
          "2020-11-04T00:00:00",
          "2020-11-05T00:00:00",
          "2020-11-06T00:00:00",
          "2020-11-09T00:00:00",
          "2020-11-10T00:00:00",
          "2020-11-11T00:00:00",
          "2020-11-12T00:00:00",
          "2020-11-13T00:00:00",
          "2020-11-16T00:00:00",
          "2020-11-17T00:00:00",
          "2020-11-18T00:00:00",
          "2020-11-19T00:00:00",
          "2020-11-20T00:00:00",
          "2020-11-23T00:00:00",
          "2020-11-24T00:00:00",
          "2020-11-25T00:00:00",
          "2020-11-27T00:00:00",
          "2020-11-30T00:00:00",
          "2020-12-01T00:00:00",
          "2020-12-02T00:00:00",
          "2020-12-03T00:00:00",
          "2020-12-04T00:00:00",
          "2020-12-07T00:00:00",
          "2020-12-08T00:00:00",
          "2020-12-09T00:00:00",
          "2020-12-10T00:00:00",
          "2020-12-11T00:00:00",
          "2020-12-14T00:00:00",
          "2020-12-15T00:00:00",
          "2020-12-16T00:00:00",
          "2020-12-17T00:00:00",
          "2020-12-18T00:00:00",
          "2020-12-21T00:00:00",
          "2020-12-22T00:00:00",
          "2020-12-23T00:00:00",
          "2020-12-24T00:00:00",
          "2020-12-28T00:00:00",
          "2020-12-29T00:00:00",
          "2020-12-30T00:00:00",
          "2020-12-31T00:00:00",
          "2021-01-04T00:00:00",
          "2021-01-05T00:00:00",
          "2021-01-06T00:00:00",
          "2021-01-07T00:00:00",
          "2021-01-08T00:00:00",
          "2021-01-11T00:00:00",
          "2021-01-12T00:00:00",
          "2021-01-13T00:00:00",
          "2021-01-14T00:00:00",
          "2021-01-15T00:00:00",
          "2021-01-19T00:00:00",
          "2021-01-20T00:00:00",
          "2021-01-21T00:00:00",
          "2021-01-22T00:00:00",
          "2021-01-25T00:00:00",
          "2021-01-26T00:00:00",
          "2021-01-27T00:00:00",
          "2021-01-28T00:00:00",
          "2021-01-29T00:00:00",
          "2021-02-01T00:00:00",
          "2021-02-02T00:00:00",
          "2021-02-03T00:00:00",
          "2021-02-04T00:00:00",
          "2021-02-05T00:00:00",
          "2021-02-08T00:00:00",
          "2021-02-09T00:00:00",
          "2021-02-10T00:00:00",
          "2021-02-11T00:00:00",
          "2021-02-12T00:00:00",
          "2021-02-16T00:00:00",
          "2021-02-17T00:00:00",
          "2021-02-18T00:00:00",
          "2021-02-19T00:00:00",
          "2021-02-22T00:00:00",
          "2021-02-23T00:00:00",
          "2021-02-24T00:00:00",
          "2021-02-25T00:00:00",
          "2021-02-26T00:00:00",
          "2021-03-01T00:00:00",
          "2021-03-02T00:00:00",
          "2021-03-03T00:00:00",
          "2021-03-04T00:00:00",
          "2021-03-05T00:00:00",
          "2021-03-08T00:00:00",
          "2021-03-09T00:00:00",
          "2021-03-10T00:00:00",
          "2021-03-11T00:00:00",
          "2021-03-12T00:00:00",
          "2021-03-15T00:00:00",
          "2021-03-16T00:00:00",
          "2021-03-17T00:00:00",
          "2021-03-18T00:00:00",
          "2021-03-19T00:00:00",
          "2021-03-22T00:00:00",
          "2021-03-23T00:00:00",
          "2021-03-24T00:00:00",
          "2021-03-25T00:00:00",
          "2021-03-26T00:00:00",
          "2021-03-29T00:00:00",
          "2021-03-30T00:00:00",
          "2021-03-31T00:00:00",
          "2021-04-01T00:00:00",
          "2021-04-05T00:00:00",
          "2021-04-06T00:00:00",
          "2021-04-07T00:00:00",
          "2021-04-08T00:00:00",
          "2021-04-09T00:00:00",
          "2021-04-12T00:00:00",
          "2021-04-13T00:00:00",
          "2021-04-14T00:00:00",
          "2021-04-15T00:00:00",
          "2021-04-16T00:00:00",
          "2021-04-19T00:00:00",
          "2021-04-20T00:00:00",
          "2021-04-21T00:00:00",
          "2021-04-22T00:00:00",
          "2021-04-23T00:00:00",
          "2021-04-26T00:00:00",
          "2021-04-27T00:00:00",
          "2021-04-28T00:00:00",
          "2021-04-29T00:00:00",
          "2021-04-30T00:00:00",
          "2021-05-03T00:00:00",
          "2021-05-04T00:00:00",
          "2021-05-05T00:00:00",
          "2021-05-06T00:00:00",
          "2021-05-07T00:00:00",
          "2021-05-10T00:00:00",
          "2021-05-11T00:00:00",
          "2021-05-12T00:00:00",
          "2021-05-13T00:00:00",
          "2021-05-14T00:00:00",
          "2021-05-17T00:00:00",
          "2021-05-18T00:00:00",
          "2021-05-19T00:00:00",
          "2021-05-20T00:00:00",
          "2021-05-21T00:00:00",
          "2021-05-24T00:00:00",
          "2021-05-25T00:00:00",
          "2021-05-26T00:00:00",
          "2021-05-27T00:00:00",
          "2021-05-28T00:00:00",
          "2021-06-01T00:00:00",
          "2021-06-02T00:00:00",
          "2021-06-03T00:00:00",
          "2021-06-04T00:00:00",
          "2021-06-07T00:00:00",
          "2021-06-08T00:00:00",
          "2021-06-09T00:00:00",
          "2021-06-10T00:00:00",
          "2021-06-11T00:00:00",
          "2021-06-14T00:00:00",
          "2021-06-15T00:00:00",
          "2021-06-16T00:00:00",
          "2021-06-17T00:00:00",
          "2021-06-18T00:00:00",
          "2021-06-21T00:00:00",
          "2021-06-22T00:00:00",
          "2021-06-23T00:00:00",
          "2021-06-24T00:00:00",
          "2021-06-25T00:00:00",
          "2021-06-28T00:00:00",
          "2021-06-29T00:00:00",
          "2021-06-30T00:00:00",
          "2021-07-01T00:00:00",
          "2021-07-02T00:00:00",
          "2021-07-06T00:00:00",
          "2021-07-07T00:00:00",
          "2021-07-08T00:00:00",
          "2021-07-09T00:00:00",
          "2021-07-12T00:00:00",
          "2021-07-13T00:00:00",
          "2021-07-14T00:00:00",
          "2021-07-15T00:00:00",
          "2021-07-16T00:00:00",
          "2021-07-19T00:00:00",
          "2021-07-20T00:00:00",
          "2021-07-21T00:00:00",
          "2021-07-22T00:00:00",
          "2021-07-23T00:00:00",
          "2021-07-26T00:00:00",
          "2021-07-27T00:00:00",
          "2021-07-28T00:00:00",
          "2021-07-29T00:00:00",
          "2021-07-30T00:00:00",
          "2021-08-02T00:00:00",
          "2021-08-03T00:00:00",
          "2021-08-04T00:00:00",
          "2021-08-05T00:00:00",
          "2021-08-06T00:00:00",
          "2021-08-09T00:00:00",
          "2021-08-10T00:00:00",
          "2021-08-11T00:00:00",
          "2021-08-12T00:00:00",
          "2021-08-13T00:00:00",
          "2021-08-16T00:00:00",
          "2021-08-17T00:00:00",
          "2021-08-18T00:00:00",
          "2021-08-19T00:00:00",
          "2021-08-20T00:00:00",
          "2021-08-23T00:00:00",
          "2021-08-24T00:00:00",
          "2021-08-25T00:00:00",
          "2021-08-26T00:00:00",
          "2021-08-27T00:00:00",
          "2021-08-30T00:00:00",
          "2021-08-31T00:00:00",
          "2021-09-01T00:00:00",
          "2021-09-02T00:00:00",
          "2021-09-03T00:00:00",
          "2021-09-07T00:00:00",
          "2021-09-08T00:00:00",
          "2021-09-09T00:00:00",
          "2021-09-10T00:00:00",
          "2021-09-13T00:00:00",
          "2021-09-14T00:00:00",
          "2021-09-15T00:00:00",
          "2021-09-16T00:00:00",
          "2021-09-17T00:00:00",
          "2021-09-20T00:00:00",
          "2021-09-21T00:00:00",
          "2021-09-22T00:00:00",
          "2021-09-23T00:00:00",
          "2021-09-24T00:00:00",
          "2021-09-27T00:00:00",
          "2021-09-28T00:00:00",
          "2021-09-29T00:00:00",
          "2021-09-30T00:00:00",
          "2021-10-01T00:00:00",
          "2021-10-04T00:00:00",
          "2021-10-05T00:00:00",
          "2021-10-06T00:00:00",
          "2021-10-07T00:00:00",
          "2021-10-08T00:00:00",
          "2021-10-11T00:00:00",
          "2021-10-12T00:00:00",
          "2021-10-13T00:00:00",
          "2021-10-14T00:00:00",
          "2021-10-15T00:00:00",
          "2021-10-18T00:00:00",
          "2021-10-19T00:00:00",
          "2021-10-20T00:00:00",
          "2021-10-21T00:00:00",
          "2021-10-22T00:00:00",
          "2021-10-25T00:00:00",
          "2021-10-26T00:00:00",
          "2021-10-27T00:00:00",
          "2021-10-28T00:00:00",
          "2021-10-29T00:00:00",
          "2021-11-01T00:00:00",
          "2021-11-02T00:00:00",
          "2021-11-03T00:00:00",
          "2021-11-04T00:00:00",
          "2021-11-05T00:00:00",
          "2021-11-08T00:00:00",
          "2021-11-09T00:00:00",
          "2021-11-10T00:00:00",
          "2021-11-11T00:00:00",
          "2021-11-12T00:00:00",
          "2021-11-15T00:00:00",
          "2021-11-16T00:00:00",
          "2021-11-17T00:00:00",
          "2021-11-18T00:00:00",
          "2021-11-19T00:00:00",
          "2021-11-22T00:00:00",
          "2021-11-23T00:00:00",
          "2021-11-24T00:00:00",
          "2021-11-26T00:00:00",
          "2021-11-29T00:00:00",
          "2021-11-30T00:00:00",
          "2021-12-01T00:00:00",
          "2021-12-02T00:00:00",
          "2021-12-03T00:00:00",
          "2021-12-06T00:00:00",
          "2021-12-07T00:00:00",
          "2021-12-08T00:00:00",
          "2021-12-09T00:00:00",
          "2021-12-10T00:00:00",
          "2021-12-13T00:00:00",
          "2021-12-14T00:00:00",
          "2021-12-15T00:00:00",
          "2021-12-16T00:00:00",
          "2021-12-17T00:00:00",
          "2021-12-20T00:00:00",
          "2021-12-21T00:00:00",
          "2021-12-22T00:00:00",
          "2021-12-23T00:00:00",
          "2021-12-27T00:00:00",
          "2021-12-28T00:00:00",
          "2021-12-29T00:00:00",
          "2021-12-30T00:00:00",
          "2021-12-31T00:00:00",
          "2022-01-03T00:00:00",
          "2022-01-04T00:00:00",
          "2022-01-05T00:00:00",
          "2022-01-06T00:00:00",
          "2022-01-07T00:00:00",
          "2022-01-10T00:00:00",
          "2022-01-11T00:00:00",
          "2022-01-12T00:00:00",
          "2022-01-13T00:00:00",
          "2022-01-14T00:00:00",
          "2022-01-18T00:00:00",
          "2022-01-19T00:00:00",
          "2022-01-20T00:00:00",
          "2022-01-21T00:00:00",
          "2022-01-24T00:00:00",
          "2022-01-25T00:00:00",
          "2022-01-26T00:00:00",
          "2022-01-27T00:00:00",
          "2022-01-28T00:00:00",
          "2022-01-31T00:00:00",
          "2022-02-01T00:00:00",
          "2022-02-02T00:00:00",
          "2022-02-03T00:00:00",
          "2022-02-04T00:00:00",
          "2022-02-07T00:00:00",
          "2022-02-08T00:00:00",
          "2022-02-09T00:00:00",
          "2022-02-10T00:00:00",
          "2022-02-11T00:00:00",
          "2022-02-14T00:00:00",
          "2022-02-15T00:00:00",
          "2022-02-16T00:00:00",
          "2022-02-17T00:00:00",
          "2022-02-18T00:00:00",
          "2022-02-22T00:00:00",
          "2022-02-23T00:00:00",
          "2022-02-24T00:00:00",
          "2022-02-25T00:00:00",
          "2022-02-28T00:00:00",
          "2022-03-01T00:00:00",
          "2022-03-02T00:00:00",
          "2022-03-03T00:00:00",
          "2022-03-04T00:00:00",
          "2022-03-07T00:00:00",
          "2022-03-08T00:00:00",
          "2022-03-09T00:00:00",
          "2022-03-10T00:00:00",
          "2022-03-11T00:00:00",
          "2022-03-14T00:00:00",
          "2022-03-15T00:00:00",
          "2022-03-16T00:00:00",
          "2022-03-17T00:00:00",
          "2022-03-18T00:00:00",
          "2022-03-21T00:00:00",
          "2022-03-22T00:00:00",
          "2022-03-23T00:00:00",
          "2022-03-24T00:00:00",
          "2022-03-25T00:00:00",
          "2022-03-28T00:00:00",
          "2022-03-29T00:00:00",
          "2022-03-30T00:00:00",
          "2022-03-31T00:00:00",
          "2022-04-01T00:00:00",
          "2022-04-04T00:00:00",
          "2022-04-05T00:00:00",
          "2022-04-06T00:00:00",
          "2022-04-07T00:00:00",
          "2022-04-08T00:00:00",
          "2022-04-11T00:00:00",
          "2022-04-12T00:00:00",
          "2022-04-13T00:00:00",
          "2022-04-14T00:00:00",
          "2022-04-18T00:00:00",
          "2022-04-19T00:00:00",
          "2022-04-20T00:00:00",
          "2022-04-21T00:00:00",
          "2022-04-22T00:00:00",
          "2022-04-25T00:00:00",
          "2022-04-26T00:00:00",
          "2022-04-27T00:00:00",
          "2022-04-28T00:00:00",
          "2022-04-29T00:00:00",
          "2022-05-02T00:00:00",
          "2022-05-03T00:00:00",
          "2022-05-04T00:00:00",
          "2022-05-05T00:00:00",
          "2022-05-06T00:00:00",
          "2022-05-09T00:00:00",
          "2022-05-10T00:00:00",
          "2022-05-11T00:00:00",
          "2022-05-12T00:00:00",
          "2022-05-13T00:00:00",
          "2022-05-16T00:00:00",
          "2022-05-17T00:00:00",
          "2022-05-18T00:00:00",
          "2022-05-19T00:00:00",
          "2022-05-20T00:00:00",
          "2022-05-23T00:00:00",
          "2022-05-24T00:00:00",
          "2022-05-25T00:00:00",
          "2022-05-26T00:00:00",
          "2022-05-27T00:00:00",
          "2022-05-31T00:00:00",
          "2022-06-01T00:00:00",
          "2022-06-02T00:00:00",
          "2022-06-03T00:00:00",
          "2022-06-06T00:00:00",
          "2022-06-07T00:00:00",
          "2022-06-08T00:00:00",
          "2022-06-09T00:00:00",
          "2022-06-10T00:00:00",
          "2022-06-13T00:00:00",
          "2022-06-14T00:00:00",
          "2022-06-15T00:00:00",
          "2022-06-16T00:00:00",
          "2022-06-17T00:00:00",
          "2022-06-21T00:00:00",
          "2022-06-22T00:00:00",
          "2022-06-23T00:00:00",
          "2022-06-24T00:00:00",
          "2022-06-27T00:00:00",
          "2022-06-28T00:00:00",
          "2022-06-29T00:00:00",
          "2022-06-30T00:00:00",
          "2022-07-01T00:00:00",
          "2022-07-05T00:00:00",
          "2022-07-06T00:00:00",
          "2022-07-07T00:00:00",
          "2022-07-08T00:00:00",
          "2022-07-11T00:00:00",
          "2022-07-12T00:00:00",
          "2022-07-13T00:00:00",
          "2022-07-14T00:00:00",
          "2022-07-15T00:00:00",
          "2022-07-18T00:00:00",
          "2022-07-19T00:00:00",
          "2022-07-20T00:00:00",
          "2022-07-21T00:00:00",
          "2022-07-22T00:00:00",
          "2022-07-25T00:00:00",
          "2022-07-26T00:00:00",
          "2022-07-27T00:00:00",
          "2022-07-28T00:00:00",
          "2022-07-29T00:00:00",
          "2022-08-01T00:00:00",
          "2022-08-02T00:00:00",
          "2022-08-03T00:00:00",
          "2022-08-04T00:00:00",
          "2022-08-05T00:00:00",
          "2022-08-08T00:00:00",
          "2022-08-09T00:00:00",
          "2022-08-10T00:00:00",
          "2022-08-11T00:00:00",
          "2022-08-12T00:00:00",
          "2022-08-15T00:00:00",
          "2022-08-16T00:00:00",
          "2022-08-17T00:00:00",
          "2022-08-18T00:00:00",
          "2022-08-19T00:00:00",
          "2022-08-22T00:00:00",
          "2022-08-23T00:00:00",
          "2022-08-24T00:00:00",
          "2022-08-25T00:00:00",
          "2022-08-26T00:00:00",
          "2022-08-29T00:00:00",
          "2022-08-30T00:00:00",
          "2022-08-31T00:00:00",
          "2022-09-01T00:00:00",
          "2022-09-02T00:00:00",
          "2022-09-06T00:00:00",
          "2022-09-07T00:00:00",
          "2022-09-08T00:00:00",
          "2022-09-09T00:00:00",
          "2022-09-12T00:00:00",
          "2022-09-13T00:00:00",
          "2022-09-14T00:00:00",
          "2022-09-15T00:00:00",
          "2022-09-16T00:00:00",
          "2022-09-19T00:00:00",
          "2022-09-20T00:00:00",
          "2022-09-21T00:00:00",
          "2022-09-22T00:00:00",
          "2022-09-23T00:00:00",
          "2022-09-26T00:00:00",
          "2022-09-27T00:00:00",
          "2022-09-28T00:00:00",
          "2022-09-29T00:00:00",
          "2022-09-30T00:00:00",
          "2022-10-03T00:00:00",
          "2022-10-04T00:00:00",
          "2022-10-05T00:00:00",
          "2022-10-06T00:00:00",
          "2022-10-07T00:00:00",
          "2022-10-10T00:00:00",
          "2022-10-11T00:00:00",
          "2022-10-12T00:00:00",
          "2022-10-13T00:00:00",
          "2022-10-14T00:00:00",
          "2022-10-17T00:00:00",
          "2022-10-18T00:00:00",
          "2022-10-19T00:00:00",
          "2022-10-20T00:00:00",
          "2022-10-21T00:00:00",
          "2022-10-24T00:00:00",
          "2022-10-25T00:00:00",
          "2022-10-26T00:00:00",
          "2022-10-27T00:00:00",
          "2022-10-28T00:00:00",
          "2022-10-31T00:00:00",
          "2022-11-01T00:00:00",
          "2022-11-02T00:00:00",
          "2022-11-03T00:00:00",
          "2022-11-04T00:00:00",
          "2022-11-07T00:00:00",
          "2022-11-08T00:00:00",
          "2022-11-09T00:00:00",
          "2022-11-10T00:00:00",
          "2022-11-11T00:00:00",
          "2022-11-14T00:00:00",
          "2022-11-15T00:00:00",
          "2022-11-16T00:00:00",
          "2022-11-17T00:00:00",
          "2022-11-18T00:00:00",
          "2022-11-21T00:00:00",
          "2022-11-22T00:00:00",
          "2022-11-23T00:00:00",
          "2022-11-25T00:00:00",
          "2022-11-28T00:00:00",
          "2022-11-29T00:00:00",
          "2022-11-30T00:00:00",
          "2022-12-01T00:00:00",
          "2022-12-02T00:00:00",
          "2022-12-05T00:00:00",
          "2022-12-06T00:00:00",
          "2022-12-07T00:00:00",
          "2022-12-08T00:00:00",
          "2022-12-09T00:00:00",
          "2022-12-12T00:00:00",
          "2022-12-13T00:00:00",
          "2022-12-14T00:00:00",
          "2022-12-15T00:00:00",
          "2022-12-16T00:00:00",
          "2022-12-19T00:00:00",
          "2022-12-20T00:00:00",
          "2022-12-21T00:00:00",
          "2022-12-22T00:00:00",
          "2022-12-23T00:00:00",
          "2022-12-27T00:00:00",
          "2022-12-28T00:00:00",
          "2022-12-29T00:00:00",
          "2022-12-30T00:00:00",
          "2023-01-03T00:00:00",
          "2023-01-04T00:00:00",
          "2023-01-05T00:00:00",
          "2023-01-06T00:00:00",
          "2023-01-09T00:00:00",
          "2023-01-10T00:00:00",
          "2023-01-11T00:00:00",
          "2023-01-12T00:00:00",
          "2023-01-13T00:00:00",
          "2023-01-17T00:00:00",
          "2023-01-18T00:00:00",
          "2023-01-19T00:00:00",
          "2023-01-20T00:00:00",
          "2023-01-23T00:00:00",
          "2023-01-24T00:00:00",
          "2023-01-25T00:00:00",
          "2023-01-26T00:00:00",
          "2023-01-27T00:00:00",
          "2023-01-30T00:00:00",
          "2023-01-31T00:00:00",
          "2023-02-01T00:00:00",
          "2023-02-02T00:00:00",
          "2023-02-03T00:00:00",
          "2023-02-06T00:00:00",
          "2023-02-07T00:00:00",
          "2023-02-08T00:00:00",
          "2023-02-09T00:00:00",
          "2023-02-10T00:00:00",
          "2023-02-13T00:00:00",
          "2023-02-14T00:00:00",
          "2023-02-15T00:00:00",
          "2023-02-16T00:00:00",
          "2023-02-17T00:00:00",
          "2023-02-21T00:00:00",
          "2023-02-22T00:00:00",
          "2023-02-23T00:00:00",
          "2023-02-24T00:00:00",
          "2023-02-27T00:00:00",
          "2023-02-28T00:00:00",
          "2023-03-01T00:00:00",
          "2023-03-02T00:00:00",
          "2023-03-03T00:00:00",
          "2023-03-06T00:00:00",
          "2023-03-07T00:00:00",
          "2023-03-08T00:00:00",
          "2023-03-09T00:00:00",
          "2023-03-10T00:00:00",
          "2023-03-13T00:00:00",
          "2023-03-14T00:00:00",
          "2023-03-15T00:00:00",
          "2023-03-16T00:00:00",
          "2023-03-17T00:00:00",
          "2023-03-20T00:00:00",
          "2023-03-21T00:00:00",
          "2023-03-22T00:00:00",
          "2023-03-23T00:00:00",
          "2023-03-24T00:00:00",
          "2023-03-27T00:00:00",
          "2023-03-28T00:00:00",
          "2023-03-29T00:00:00",
          "2023-03-30T00:00:00",
          "2023-03-31T00:00:00",
          "2023-04-03T00:00:00",
          "2023-04-04T00:00:00",
          "2023-04-05T00:00:00",
          "2023-04-06T00:00:00",
          "2023-04-10T00:00:00",
          "2023-04-11T00:00:00",
          "2023-04-12T00:00:00",
          "2023-04-13T00:00:00",
          "2023-04-14T00:00:00",
          "2023-04-17T00:00:00",
          "2023-04-18T00:00:00",
          "2023-04-19T00:00:00",
          "2023-04-20T00:00:00",
          "2023-04-21T00:00:00",
          "2023-04-24T00:00:00",
          "2023-04-25T00:00:00",
          "2023-04-26T00:00:00",
          "2023-04-27T00:00:00",
          "2023-04-28T00:00:00",
          "2023-05-01T00:00:00",
          "2023-05-02T00:00:00",
          "2023-05-03T00:00:00",
          "2023-05-04T00:00:00",
          "2023-05-05T00:00:00",
          "2023-05-08T00:00:00",
          "2023-05-09T00:00:00",
          "2023-05-10T00:00:00",
          "2023-05-11T00:00:00",
          "2023-05-12T00:00:00",
          "2023-05-15T00:00:00",
          "2023-05-16T00:00:00",
          "2023-05-17T00:00:00",
          "2023-05-18T00:00:00",
          "2023-05-19T00:00:00",
          "2023-05-22T00:00:00",
          "2023-05-23T00:00:00",
          "2023-05-24T00:00:00",
          "2023-05-25T00:00:00",
          "2023-05-26T00:00:00",
          "2023-05-30T00:00:00",
          "2023-05-31T00:00:00",
          "2023-06-01T00:00:00",
          "2023-06-02T00:00:00",
          "2023-06-05T00:00:00",
          "2023-06-06T00:00:00",
          "2023-06-07T00:00:00",
          "2023-06-08T00:00:00",
          "2023-06-09T00:00:00",
          "2023-06-12T00:00:00",
          "2023-06-13T00:00:00",
          "2023-06-14T00:00:00",
          "2023-06-15T00:00:00",
          "2023-06-16T00:00:00",
          "2023-06-20T00:00:00",
          "2023-06-21T00:00:00",
          "2023-06-22T00:00:00",
          "2023-06-23T00:00:00",
          "2023-06-26T00:00:00",
          "2023-06-27T00:00:00",
          "2023-06-28T00:00:00",
          "2023-06-29T00:00:00",
          "2023-06-30T00:00:00",
          "2023-07-03T00:00:00",
          "2023-07-05T00:00:00",
          "2023-07-06T00:00:00",
          "2023-07-07T00:00:00",
          "2023-07-10T00:00:00",
          "2023-07-11T00:00:00",
          "2023-07-12T00:00:00",
          "2023-07-13T00:00:00",
          "2023-07-14T00:00:00",
          "2023-07-17T00:00:00",
          "2023-07-18T00:00:00",
          "2023-07-19T00:00:00",
          "2023-07-20T00:00:00",
          "2023-07-21T00:00:00",
          "2023-07-24T00:00:00",
          "2023-07-25T00:00:00",
          "2023-07-26T00:00:00",
          "2023-07-27T00:00:00",
          "2023-07-28T00:00:00",
          "2023-07-31T00:00:00",
          "2023-08-01T00:00:00",
          "2023-08-02T00:00:00",
          "2023-08-03T00:00:00",
          "2023-08-04T00:00:00",
          "2023-08-07T00:00:00",
          "2023-08-08T00:00:00",
          "2023-08-09T00:00:00",
          "2023-08-10T00:00:00",
          "2023-08-11T00:00:00",
          "2023-08-14T00:00:00",
          "2023-08-15T00:00:00",
          "2023-08-16T00:00:00",
          "2023-08-17T00:00:00",
          "2023-08-18T00:00:00",
          "2023-08-21T00:00:00",
          "2023-08-22T00:00:00",
          "2023-08-23T00:00:00",
          "2023-08-24T00:00:00",
          "2023-08-25T00:00:00",
          "2023-08-28T00:00:00",
          "2023-08-29T00:00:00",
          "2023-08-30T00:00:00",
          "2023-08-31T00:00:00",
          "2023-09-01T00:00:00",
          "2023-09-05T00:00:00",
          "2023-09-06T00:00:00",
          "2023-09-07T00:00:00",
          "2023-09-08T00:00:00",
          "2023-09-11T00:00:00",
          "2023-09-12T00:00:00",
          "2023-09-13T00:00:00",
          "2023-09-14T00:00:00",
          "2023-09-15T00:00:00",
          "2023-09-18T00:00:00",
          "2023-09-19T00:00:00",
          "2023-09-20T00:00:00",
          "2023-09-21T00:00:00",
          "2023-09-22T00:00:00",
          "2023-09-25T00:00:00",
          "2023-09-26T00:00:00",
          "2023-09-27T00:00:00",
          "2023-09-28T00:00:00",
          "2023-09-29T00:00:00",
          "2023-10-02T00:00:00",
          "2023-10-03T00:00:00",
          "2023-10-04T00:00:00",
          "2023-10-05T00:00:00",
          "2023-10-06T00:00:00",
          "2023-10-09T00:00:00",
          "2023-10-10T00:00:00",
          "2023-10-11T00:00:00",
          "2023-10-12T00:00:00",
          "2023-10-13T00:00:00",
          "2023-10-16T00:00:00",
          "2023-10-17T00:00:00",
          "2023-10-18T00:00:00",
          "2023-10-19T00:00:00",
          "2023-10-20T00:00:00",
          "2023-10-23T00:00:00",
          "2023-10-24T00:00:00",
          "2023-10-25T00:00:00",
          "2023-10-26T00:00:00",
          "2023-10-27T00:00:00",
          "2023-10-30T00:00:00",
          "2023-10-31T00:00:00",
          "2023-11-01T00:00:00",
          "2023-11-02T00:00:00",
          "2023-11-03T00:00:00",
          "2023-11-06T00:00:00",
          "2023-11-07T00:00:00",
          "2023-11-08T00:00:00",
          "2023-11-09T00:00:00",
          "2023-11-10T00:00:00",
          "2023-11-13T00:00:00",
          "2023-11-14T00:00:00",
          "2023-11-15T00:00:00",
          "2023-11-16T00:00:00",
          "2023-11-17T00:00:00",
          "2023-11-20T00:00:00",
          "2023-11-21T00:00:00",
          "2023-11-22T00:00:00",
          "2023-11-24T00:00:00",
          "2023-11-27T00:00:00",
          "2023-11-28T00:00:00",
          "2023-11-29T00:00:00",
          "2023-11-30T00:00:00",
          "2023-12-01T00:00:00",
          "2023-12-04T00:00:00",
          "2023-12-05T00:00:00",
          "2023-12-06T00:00:00",
          "2023-12-07T00:00:00",
          "2023-12-08T00:00:00",
          "2023-12-11T00:00:00",
          "2023-12-12T00:00:00",
          "2023-12-13T00:00:00",
          "2023-12-14T00:00:00",
          "2023-12-15T00:00:00",
          "2023-12-18T00:00:00",
          "2023-12-19T00:00:00",
          "2023-12-20T00:00:00",
          "2023-12-21T00:00:00",
          "2023-12-22T00:00:00",
          "2023-12-26T00:00:00"
         ],
         "y": [
          1.5246481681586674,
          1.480281728431626,
          1.432717549499897,
          1.3870904178842327,
          1.3579772154026495,
          1.3184472164741945,
          1.3038709446392904,
          1.2877765553574905,
          1.2468431606801285,
          1.2084298772733333,
          1.1740441731038511,
          1.1403270157647631,
          1.1091703123678591,
          1.07936109681013,
          1.0525849138328105,
          2.277439437191826,
          2.1919727984063857,
          2.114544128567067,
          2.032643852417725,
          1.989311501983221,
          1.9357245982387905,
          1.8689241822504554,
          1.8015880707679712,
          1.7359886853811421,
          1.681591850987111,
          1.6182904699428295,
          1.56373479201151,
          1.5074146838798985,
          1.4566505376705552,
          1.4096112125375637,
          1.383584335234714,
          1.5099057664747668,
          1.4583218210054858,
          1.4093798752697617,
          1.3634062684270514,
          1.3367351499541207,
          1.29362119226882,
          1.2540113804477433,
          1.2154417570817717,
          1.1791237005565,
          1.1634158139461825,
          1.1307448942802099,
          1.1406276172678143,
          1.1091303974373365,
          1.0796658904478957,
          1.0597581371334341,
          1.0366475526097054,
          1.015618461278759,
          1.0148270245760143,
          1.0013241107799717,
          0.9788350010653236,
          0.9581178760748904,
          0.9396896348104602,
          0.9218071415338753,
          0.9050304625296174,
          0.8892108288920061,
          0.8826840722258478,
          0.869407545393697,
          0.8700867961838892,
          0.8613394461541054,
          0.8505147661951041,
          0.9273115433509458,
          0.9188099707213595,
          0.9058399610355926,
          0.9113832991016361,
          0.8975003179007075,
          0.9327243322728963,
          0.94661591081002,
          0.9345427984502841,
          0.9286915196152883,
          0.921317057101327,
          0.9371204112576019,
          0.923216464957319,
          0.9370123812664096,
          0.9963631905767054,
          0.9775851071252428,
          1.0040514438437964,
          1.0071542552313575,
          1.0005900817517241,
          0.9976493831558174,
          0.9924373686506599,
          0.9798938323187014,
          1.082874253406346,
          1.0579672216168805,
          1.039496221474267,
          1.0469740316731504,
          1.0519836113615064,
          1.0692598199249237,
          1.0444964636531986,
          1.0947625827373562,
          1.065846805735744,
          1.099348439870063,
          1.105790080756906,
          1.0765191567302728,
          1.050793255643346,
          1.0254377273805222,
          1.0096378633577048,
          0.988541891920585,
          0.9693258894497674,
          0.9738205524440189,
          0.9608277283102564,
          0.9648301745608072,
          0.9745048860848803,
          0.9558859730027336,
          0.9496449893344605,
          0.9346945683382589,
          0.9676123778640844,
          0.9478418679894582,
          0.9331415136435339,
          0.9650621326112027,
          0.9588015893403453,
          0.9400169381753795,
          0.9216969607282962,
          0.906933532752936,
          0.913682612231814,
          0.9020345503670439,
          0.890784291804123,
          0.8763233818610144,
          0.8626907365063835,
          0.8500935028680598,
          0.8384275923051755,
          0.8317589324734198,
          0.8774019937153769,
          0.8686217453465165,
          1.6748016762720972,
          1.6320616040426204,
          1.605666227027425,
          1.6200127695872817,
          1.5628404618995677,
          1.5119396974354875,
          1.5411505421165026,
          1.5129548375212276,
          1.4642311318596124,
          1.4498191298449825,
          1.425888869614165,
          1.4346048074256887,
          1.4017597752607012,
          1.3607074272115074,
          1.3202054430698609,
          1.2830518658524594,
          1.2657029474782315,
          1.284747460429914,
          1.2643737698558188,
          1.229702672093703,
          1.247834968064281,
          1.2121999219271427,
          1.1865170152045206,
          1.201789094556031,
          1.2153686205726522,
          1.1806137458623285,
          1.1569000810442636,
          1.124691155118052,
          1.0939801588943705,
          1.0697334992039804,
          1.059581106380836,
          1.073644172593853,
          1.0466595622625419,
          1.0703202509513956,
          1.0451115460237295,
          1.03031507732429,
          1.0146755099956153,
          1.0132200955572181,
          1.000453143242669,
          0.9840680604809139,
          0.9627617048249523,
          0.9496827364075151,
          0.9722819320576251,
          0.9557279861750634,
          0.9379782428550089,
          0.9224973569617464,
          0.9092414584814364,
          0.8944487778444544,
          0.8804903678497112,
          0.8700571135689776,
          1.1073306992243974,
          1.1267086081916875,
          1.1353968933684133,
          1.1459568016474868,
          1.1228265630103709,
          1.0964738108482959,
          1.0711676675493207,
          1.0582460138610668,
          1.03181721035796,
          1.0102895777354548,
          0.9872634599351625,
          0.9730606545637039,
          1.0436490470012574,
          1.0493220127938025,
          1.0393572221692386,
          1.0687785880692922,
          1.0419062431093153,
          1.0889746080374658,
          1.0645752756208424,
          1.0411275436050444,
          1.0401226193401818,
          1.0350675463901502,
          1.0398133425749998,
          1.0736052983056201,
          1.0993353824012644,
          1.0819828787702799,
          1.0819807900165352,
          1.055094267225262,
          1.0449943160426618,
          1.0220224607581245,
          1.0450808532525602,
          1.0231265837952348,
          0.9989759782444618,
          0.9879086964534984,
          0.9662055742110799,
          0.9472699047889681,
          0.937534813976503,
          0.9195231966278101,
          0.9055119739209848,
          0.936398740857017,
          0.9183331469391528,
          0.9051471291811464,
          0.900773269133433,
          0.8853077127027853,
          0.8945980283294205,
          0.8814460214599558,
          0.8718218726650295,
          0.8747011097426507,
          0.8735188795523501,
          0.8626118706948099,
          0.8528991842697491,
          0.848179520963485,
          0.8367607546093587,
          0.8262312373484109,
          0.8504114167264455,
          0.8554380824931658,
          0.8863552783958732,
          0.8728301252922315,
          0.86531554743995,
          0.8611455160683111,
          0.8584986598312038,
          0.8475508592873627,
          0.8363308234222002,
          0.8429193609105733,
          0.8442203661808395,
          0.8332988323905107,
          0.8463201107890603,
          0.8354871659316455,
          0.9267689806151606,
          0.9119343182842435,
          0.9284991336849989,
          0.9135844099878039,
          0.9414743167921255,
          0.9237445909183074,
          0.9073031055086531,
          0.8951693972998462,
          0.8964486077984297,
          0.8846820748197791,
          0.87366769130213,
          0.8656068840805076,
          0.8780822891318077,
          0.8643775544540396,
          1.1434902521072419,
          1.1294197935868786,
          1.0998984126952491,
          1.074632875045457,
          1.0470727307490977,
          1.0222133775104416,
          1.0003909864886409,
          1.00066944927711,
          0.9811341148367315,
          0.9637079957823453,
          0.9460252070144819,
          0.9353311395957767,
          0.9350695944463373,
          0.9207911023461582,
          0.904444927558189,
          0.9013448548442642,
          1.0715109954256061,
          1.1020023269712003,
          1.077713801945476,
          1.5376029764936507,
          1.614979916302248,
          1.889974033854392,
          1.8161215762077136,
          2.1225603197743386,
          2.225865555320137,
          2.227455509112852,
          2.602059162387221,
          2.6220451797665407,
          2.5959056960380766,
          3.406343168396868,
          3.3700396581147674,
          3.597020857409789,
          3.5811164180131323,
          3.6258906382665677,
          3.8279477702645,
          4.185433713629404,
          4.026814576542948,
          4.027539543269302,
          4.060844942803571,
          4.16995323339433,
          4.066044967786467,
          4.069168047715816,
          3.9096413167699646,
          3.9135822404578726,
          3.877891810722342,
          3.7064533068811847,
          3.8615755746651277,
          3.691312844641167,
          3.5892288848379574,
          3.478899465664276,
          3.4800406179216834,
          3.47419922277096,
          3.3851189897884204,
          3.2476466472111514,
          3.1415360049327723,
          3.1030966205779835,
          3.0290830057845115,
          2.901158999817718,
          2.7958065775614727,
          2.681542188534493,
          2.6601272095646658,
          2.546882786975949,
          2.445713299921348,
          2.428348225418431,
          2.3322254224838654,
          2.2496026269978846,
          2.160202811737081,
          2.102214112145958,
          2.0189421533592378,
          2.0951882801509734,
          2.033796475973038,
          1.9908717302037653,
          1.9714233374380397,
          1.898226454556133,
          1.841060472315089,
          1.9999294493300557,
          1.9350163824930504,
          1.989903660282907,
          1.9495057708190948,
          1.874009639278645,
          1.8824864339752232,
          1.836308179827262,
          1.7729366874953219,
          1.7191107387021982,
          1.6601306008491337,
          1.5990885977253135,
          1.6183915687025723,
          1.5585281256990182,
          1.6067642040665011,
          1.5881579983387852,
          1.5870559845987213,
          1.5418564269077284,
          2.1331389169451387,
          2.0596137351783828,
          2.0077606619598543,
          1.9407656309471135,
          1.8669631496020993,
          1.8045196944450612,
          1.8074144437356818,
          1.7446313116745806,
          1.679208903885681,
          1.701639405497031,
          1.6429082431868631,
          1.7455278391012354,
          1.73058378759986,
          1.6721920937311179,
          1.6105511394680996,
          1.5512228523699043,
          1.505042964060785,
          1.4516792978069146,
          1.4038869636170734,
          1.4952094050144795,
          1.5870025951400357,
          1.529369764736234,
          1.5075610837119444,
          1.477430805576664,
          1.432547249073972,
          1.4228151004632397,
          1.423291616252556,
          1.4791775659459732,
          1.5621658375119458,
          1.509599059794132,
          1.4585813772703937,
          1.4077687386172606,
          1.3693434366468167,
          1.326829607909891,
          1.2958512455451916,
          1.2770772325779969,
          1.3303032519674245,
          1.3004578001117686,
          1.2849088843465362,
          1.2497092234236138,
          1.220009493981198,
          1.1843822765208523,
          1.1533893570643987,
          1.145282826389415,
          1.113770076755341,
          1.0838152972715396,
          1.0638632348853825,
          1.0409182484642507,
          1.146845193869541,
          1.1148245354125694,
          1.0857102434681936,
          1.1093746981476742,
          1.0803840427819527,
          1.0582612877639894,
          1.031955863743749,
          1.2741794503810397,
          1.244083598200585,
          1.2242333645326142,
          1.5490341768166183,
          1.532510076806328,
          1.4987157978738574,
          1.5615020082895954,
          1.5142290473325954,
          1.4638678981580302,
          1.4964483816201934,
          1.4434402810740743,
          1.4010795849305924,
          1.36022238396869,
          1.3210662480001139,
          1.2795737767111477,
          1.4034527876438672,
          1.381194146632021,
          1.5130644791468755,
          1.477001115421651,
          1.4250236493704704,
          1.4006266164144539,
          1.3660961083681025,
          1.336543477466372,
          1.2970029566942156,
          1.2576595311581167,
          1.218517776822323,
          1.2033670088361808,
          1.2029167304604387,
          1.2407373261975334,
          1.2122294736699546,
          1.1817875354632341,
          1.2222332541687124,
          1.186836076668219,
          1.1545340999141527,
          1.1217847878630984,
          1.1111138175527857,
          1.1194067643683063,
          1.09754191161731,
          1.1143899877107368,
          1.0878627638064209,
          1.117245920866709,
          1.0874079121523508,
          1.4188911410762166,
          1.37032385251817,
          1.3244902273595849,
          1.3084996830145728,
          1.3126417568159001,
          1.2742024531858294,
          1.2396582063630837,
          1.2016380003122547,
          1.8972043983297942,
          1.9276722725075348,
          1.8610911735141795,
          1.8081978902889713,
          1.747897395611921,
          1.6891223579738874,
          1.62784566125512,
          1.6425211339714805,
          1.5969639108921556,
          1.5540651977512936,
          1.497782031212654,
          1.4630840760131283,
          1.419230807740185,
          1.3755943571792897,
          1.3696854794249211,
          1.3374992042580567,
          1.2937093372184487,
          1.2864542235666023,
          1.331855714183136,
          1.3477578329248594,
          1.3052259515781923,
          1.264363550614195,
          1.2327150046119977,
          1.201264129901923,
          1.1666287965498252,
          1.1587490323106264,
          1.1820369091788008,
          1.1504018446161486,
          1.1352134854205758,
          1.1837511424329141,
          1.1497266298795208,
          1.1249799470137753,
          1.1041533406541129,
          1.1181123995265194,
          1.0880097103775541,
          1.066687496008404,
          1.0521830239028946,
          1.3792297424912152,
          1.3613130834801823,
          1.527369715472489,
          1.4987567763281826,
          1.5372267814987381,
          1.5419023250364656,
          1.4873477119510492,
          1.4348153562132593,
          1.4588425139378955,
          1.4338156680773968,
          1.388431729488397,
          1.3433641434881918,
          1.3045411215934966,
          1.2849319182089525,
          1.2508549627515233,
          1.2349917264730716,
          1.2569377394416839,
          1.2523803150731598,
          1.3128083365625332,
          1.2792158428255664,
          1.258732297267151,
          1.2241694366749674,
          1.1916209364374488,
          1.194529706544174,
          1.1650944250136754,
          1.1379256500906827,
          1.107947339791892,
          1.1258368574228985,
          1.108315496831257,
          1.0991596836092328,
          1.072964352937969,
          1.0854592383787638,
          1.1059451867803693,
          1.1015898473413357,
          1.073696290489883,
          1.0482849197373107,
          1.0571274548772005,
          1.1810733513495344,
          1.224951732866609,
          1.1906435509280298,
          1.1577950992085528,
          1.1253063386182356,
          1.1630822434261805,
          1.194198206477105,
          1.2181950947110824,
          1.2095761701603287,
          1.205008299921034,
          1.170684161966096,
          1.1770461486726942,
          1.1453521045473,
          1.1131806134258249,
          1.1312678144263932,
          1.1045140941356002,
          1.0776261658481188,
          1.063396103849494,
          1.0375926042073118,
          1.0357892187369067,
          1.1087388444911677,
          1.134836873313323,
          1.1501658062272526,
          1.1375849871992196,
          1.1108295833411785,
          1.0878458514300677,
          1.0711720357264518,
          1.0441399777076985,
          1.0221521874928992,
          0.9981467136438824,
          0.9777151110079955,
          0.9655235014698355,
          0.9455205518011779,
          0.9320393472740978,
          0.925426253988215,
          0.9172308724876762,
          0.9026228862681038,
          0.9052070433646995,
          0.8937382618400375,
          0.878753168135661,
          0.9405830757196414,
          0.92349960897586,
          0.9063741591919361,
          0.9351273052303373,
          0.9273247256160381,
          0.9333535800891457,
          0.9298834101776583,
          0.915375819423082,
          0.9266947934482064,
          0.9096875301963363,
          0.9080836432526437,
          0.932271645679811,
          0.9246836702430417,
          0.928034554934421,
          0.9143002772255763,
          0.8993657077300738,
          0.8957978723465999,
          0.8851051683122438,
          0.8930846556057854,
          0.8785581678020794,
          0.867161883142067,
          0.8543662852403495,
          0.8472761709338511,
          0.8563470013324279,
          0.8500867390801297,
          0.8386023283734118,
          0.8318238041580235,
          0.8228926606121779,
          0.8492783028082196,
          0.843472946496823,
          0.8516117537729793,
          0.8442927997535792,
          0.8505990819358872,
          0.8440576757746749,
          0.8382810997333895,
          0.830824508761588,
          0.8857857723888402,
          0.8781719901542954,
          1.0127354271582512,
          1.0201286505402567,
          0.9989437908091949,
          0.998087216074883,
          0.9813509424129164,
          0.9610948286033567,
          0.9420845983762287,
          0.9429478816670458,
          0.9294906574438752,
          0.9153919366424402,
          0.9027172388128673,
          0.8990424402213774,
          0.9021671046957475,
          0.8918951654545139,
          0.8869598635752755,
          0.8724939479017515,
          0.887716714518074,
          1.0192699445961568,
          0.9973557429162667,
          0.9754404315061308,
          1.0000240200654753,
          0.9778802137732733,
          1.0012814490931052,
          0.9797688730077527,
          0.9824511706049212,
          0.9611145449260107,
          0.943861457232452,
          0.9536451857783189,
          0.9416145980151264,
          0.9233994473861117,
          0.9094716032116306,
          0.8933291570307952,
          0.9487411162556824,
          0.9429110461163023,
          0.9254634963574568,
          0.9081978975163209,
          0.8935255604921295,
          0.8796178817733313,
          0.8663068430354943,
          0.8665622815884297,
          0.8584436932095539,
          0.851664343799017,
          0.905956249015425,
          0.9008285487566222,
          0.8916796302263683,
          0.8823331644292377,
          0.890067299414021,
          0.8754368989609526,
          0.8946120294592226,
          0.8802075118825775,
          0.8923437709748532,
          0.8784520928342308,
          0.8771597006361116,
          0.8636491273629934,
          0.8514788442104837,
          0.9579144293434212,
          0.9877833816346246,
          0.9981998292880823,
          0.983198266475444,
          0.9792822644925947,
          0.9581453211547267,
          0.9409459321220759,
          0.9534111785627642,
          1.0190170553162232,
          1.0114266071593647,
          0.9882292163431222,
          0.966707372504765,
          0.9479567883331518,
          0.9324746658906679,
          0.9250172627465486,
          1.0117546694666266,
          0.9971205623576702,
          1.0027123991030158,
          1.0082510519500405,
          0.9854815275505995,
          0.964283110250606,
          0.9821530251147216,
          0.9628119871914248,
          0.9473930630258108,
          0.929157974138876,
          0.9116783433336809,
          0.8954167078106239,
          0.8929258402814977,
          0.8808419010982291,
          0.9024251537210717,
          0.8903522016797626,
          0.8978352575351046,
          0.893023842992581,
          0.8786157091399448,
          0.8717837660901808,
          0.8633872064527703,
          0.9613260655401742,
          0.9646915502652482,
          0.953105884023001,
          0.9390013769289571,
          0.9217382160394127,
          0.9071987741569713,
          0.8990124523564843,
          0.8879876861582588,
          0.9028240563682615,
          0.8888252157503671,
          0.8782098862850604,
          0.86440294249659,
          0.8543807925999948,
          0.8424248304045077,
          0.8512044498760781,
          0.8519907619009,
          0.8704962698547524,
          0.8677696144306876,
          0.865165455637422,
          0.8678203552775632,
          0.8793677229229914,
          1.143829607931793,
          1.170129648506556,
          1.372414078927882,
          1.3289860915254532,
          1.3294446162179054,
          1.3011972762549597,
          1.3945519492878435,
          1.3523718221953533,
          1.3117639056694845,
          1.2715587751218511,
          1.3725524804181874,
          1.4625389130793804,
          1.411380447975013,
          1.3663851926184818,
          1.3405681012996744,
          1.353627654278859,
          1.3120206389483988,
          1.2722518046243556,
          1.2420801808785633,
          1.203882655578469,
          1.179362702868956,
          1.1478401687234066,
          1.1155996328378681,
          1.0884738610736298,
          1.0721805435695613,
          1.0449839808206183,
          1.0899659282989675,
          1.07732701236018,
          1.0588037200312292,
          1.0345587859019527,
          1.0099588223692981,
          0.9867124407442857,
          0.9653009882419707,
          0.953853342018689,
          0.951471268024189,
          0.954512064817563,
          0.9354628803331048,
          0.9242137702505165,
          0.9165326971410503,
          0.9235374809242062,
          0.909030546625698,
          0.8986923822649492,
          0.8833624392924356,
          0.9851892196798168,
          0.965100804474442,
          0.9639182917711401,
          0.971798215985688,
          0.9636524791642754,
          0.9804530899380228,
          0.988221249348318,
          0.9767939748206198,
          1.0302109635982182,
          1.0126619747196546,
          1.0821726563482712,
          1.0634806304479971,
          1.0394714438939603,
          1.0143600083675675,
          1.0948464514321599,
          1.0761634895089967,
          1.0545541954501687,
          1.0654365495853033,
          1.1252804204430265,
          1.4245934885978413,
          1.3974320640108908,
          1.3551160726157634,
          1.3203811919062236,
          1.2774726816750193,
          1.2373719483732322,
          1.3339692027705736,
          1.6095017447642643,
          1.5539306145392306,
          1.5644065953629178,
          1.5075230544598486,
          1.5154388141190993,
          1.522657584688254,
          1.4701688174521848,
          1.4387212774277525,
          1.3889532834221803,
          1.3537058421647115,
          1.3108774348003214,
          1.28003253069972,
          1.2582412644662593,
          1.2357134346764425,
          1.205827490239559,
          1.1725241428753912,
          1.138640896382889,
          1.1109160224955539,
          1.1279434839397633,
          1.1056918350227574,
          1.0768193746166843,
          1.0734992812605346,
          1.0523033557974113,
          1.0348216319092594,
          1.0100924959393276,
          1.0224753091943155,
          0.9995767918989152,
          0.9814936496154508,
          0.9867190802640423,
          0.9898901239272312,
          1.0175740895677738,
          0.9967717139137533,
          1.0390661991358914,
          1.0417206426687966,
          1.070661064038514,
          1.0577242932403708,
          1.0536865648027443,
          1.1824025579206359,
          1.2319221950091435,
          1.2036686086713682,
          1.3752623097770684,
          1.344860939814928,
          1.302476979887303,
          1.2621450972309838,
          1.245293795233553,
          1.2109091742547795,
          1.176191351688615,
          1.2222119019760493,
          1.187518107440553,
          1.1553889642923438,
          2.020905415669631,
          1.9988904056796268,
          1.9555043981106754,
          2.0124956995264083,
          1.978520349064031,
          1.8994568293706229,
          1.825947013667068,
          1.7595315005770444,
          1.762886973225887,
          1.7002248132130278,
          1.6529469433854849,
          1.6190690263651624,
          1.560021585540373,
          1.509074596059479,
          1.4629865585247432,
          1.4754241441219924,
          1.4330353384784327,
          1.384166213284848,
          1.4960052717002743,
          1.4522515605146444,
          1.424577992420233,
          1.3819242074934333,
          1.4251843288344492,
          1.3858687946257808,
          1.3664736688358967,
          1.390651011422957,
          1.3450990299369794,
          1.3251883546201786,
          1.2918483841143025,
          1.2518477430461354,
          1.3301263788221034,
          1.354301103984303,
          1.3098710233148518,
          1.2836531194663807,
          1.245125713596419,
          1.2100559438734275,
          1.179578494437041,
          1.1519839352500165,
          1.1230318419021914,
          1.097752585023925,
          1.121196658078804,
          1.1388174389907992,
          1.1798523745345597,
          1.1475243918050106,
          1.1177947484422313,
          1.109311562189602,
          1.1440189883353533,
          1.11551592036394,
          1.1515836068508836,
          1.1193433608160863,
          1.095080693594825,
          1.1191005214524485,
          1.0924487224303587,
          1.069077745662219,
          1.049044450000956,
          1.03692960219597,
          1.011973758738222,
          1.0114917127721668,
          1.0035745194946186,
          0.9950416277242683,
          1.0142397706002926,
          1.0074431699131663,
          0.9867619961036428,
          0.9715453917800142,
          0.9514836216008707,
          1.0030411195246285,
          0.9803306248738077,
          0.9593188905769102,
          0.9450558164531714,
          1.0988891757128176,
          1.0812797659426046,
          1.0791448187615622,
          1.0670839739865223,
          1.044659635900836,
          1.0748695890646756,
          1.0472513431018728,
          1.107679578813601,
          1.081397953556486,
          1.0552529996726043,
          1.0304246985542875,
          1.2796921851930794,
          1.244352103589532,
          1.2527427050868365,
          1.2139314854159224,
          1.1892729016356425,
          1.155394199020959,
          1.142704053326317,
          1.1129038901496353,
          1.1184989798202107,
          1.1318639653590086,
          1.2681351596441255,
          1.2517805870311915,
          1.2271598949919933,
          1.2151261012304262,
          1.2059567164691232,
          1.1707020117234237,
          1.1622588657710597,
          1.246684737471313,
          1.2317929719428395,
          1.1960657953207838,
          1.1609874184414126,
          1.1611683229768495,
          1.1680298999466228,
          1.2012303977532137,
          1.2024016157736297,
          1.2067871563655406,
          1.1907482261233202,
          1.2197899690786616,
          1.2390982997590319,
          1.377766992409255,
          1.4445016324844746,
          1.4040944808542064,
          1.3569571705280552,
          1.3972576191413904,
          1.4002255058002768,
          1.3561629335503675,
          1.3562450913511017,
          1.3114766812669838,
          1.282048557638471,
          1.2439519458092283,
          1.20602430710099,
          1.220432035212825,
          1.4546840877555016,
          1.41297917920946,
          1.3863040246878497,
          1.3405778449683987,
          1.2977327034953574,
          1.257673846074893,
          1.2284507011111792,
          1.242673705633136,
          1.2078251370131958,
          1.1754767991699635,
          1.1414320254983554,
          1.1095455047057021,
          1.0840730651604384,
          1.2105300174858236,
          1.1755088929746451,
          1.1582061586773809,
          1.1757667833171128,
          1.1419406305403037,
          1.1102377291565577,
          1.0838888261557336,
          1.0884427728644603,
          1.1018359564235707,
          1.0724699644630455,
          1.0450979408660994,
          1.0755829010830293,
          1.058633368398795,
          1.0322939531718798,
          1.0080449019092934,
          1.0525953982170326,
          1.0432212885826,
          1.0314297299077517,
          1.0153996585787382,
          1.0233551361488589,
          1.0075220872714392,
          0.9944690662425515,
          1.0069741133361563,
          0.984235711709984,
          1.0047964307896102,
          1.0793171483855075,
          1.0967187683229696,
          1.0857312852133905,
          1.0590952215942737,
          1.0817240609064727,
          1.056133192821006,
          1.033151336056218,
          1.2504008546014276,
          1.2127132153532476,
          1.183542358053212,
          1.14987826103301,
          1.1231581264435164,
          1.1008957443129683,
          1.0732991684477635,
          1.055069201284063,
          1.0297733942331517,
          1.0369386656894475,
          1.011891778393003,
          1.0754146414070194,
          1.0652786370164922,
          1.0454734910937085,
          1.0212078194463676,
          1.0088740655676451,
          0.9871516887635827,
          0.9655577303437984,
          1.0188092276118261,
          1.077131429106827,
          1.0494519020267425,
          1.0363127559765983,
          1.0701493214063331,
          1.0523461161894978,
          1.0278769661423577,
          1.0038485210060841,
          0.9875248103107239,
          0.966051614592316,
          0.9558153919849248,
          0.9759207266409442,
          1.0124154676826524,
          0.9969711953906971,
          1.037863315256076,
          1.0241265381578175,
          0.9998994834953575,
          1.0075568510683668,
          0.991077541709513,
          0.9957737116925817,
          0.9763203129926128,
          0.9664463782076688,
          0.953535129291574,
          0.9425122539034566,
          0.9492510175119686,
          0.938495193497315,
          0.9281416201655182,
          0.9129872210004963,
          0.972934202640349,
          0.966115844042078,
          0.9459935628729568,
          0.9405306105030298,
          0.9222962552566573,
          0.9069394968335965,
          0.9002797931831295,
          0.8890367029834707,
          0.9000492522536487,
          0.8845972180316014,
          0.873173082136754,
          0.8615333564482028,
          0.8494496951780834,
          0.8533288944383528,
          0.8429819918729152,
          0.8438803915669563,
          0.8330289027970246,
          0.8232803819776621,
          0.8188318965371868,
          0.8098485455302575,
          0.8029624471659846,
          0.7966473387161903,
          0.7992245058186239,
          0.7923541395726293,
          0.8019921107710712,
          0.7952367675277234,
          0.797244156972616,
          0.8035596680990043,
          0.7956534645939194,
          0.79448007713214,
          0.788866614780094,
          0.8103312677042359,
          0.8022632149033969,
          0.8036771169711996,
          0.7996742249867737,
          0.7957342979699756,
          0.8377080046049595,
          0.8279677980560362,
          0.8310083323671595,
          0.8208191271518216,
          0.9619408271798664,
          0.943708692346892,
          0.9500621660068105,
          0.9519082882990517,
          0.9355575293638634,
          0.9400023550433638,
          0.9237051250531708,
          0.9147865704559541,
          1.0042636000638805,
          0.9967277853954106,
          0.9921715837541499,
          0.9713908206620729,
          0.9519082141242395,
          0.9330546425877002,
          0.9225924645861943,
          0.9091657589891053,
          0.9053280984561858,
          0.9436986585060894,
          0.9385196827924255,
          0.9363555706733169,
          0.9197663774075845,
          0.915234907524053,
          0.9370018668761936,
          0.9188723183164136,
          0.904342446243866,
          0.9196511949756726,
          0.9271979651305164,
          0.912152772376559,
          0.9051060836064494,
          0.9042958015434394,
          0.9103350096512758,
          0.9530547490920885,
          0.9536911059363457,
          0.9370475655685888,
          0.9260637293445616,
          0.9284210276432162,
          0.9335565511352868,
          0.9169707728920409,
          0.906750691501614,
          0.9802852969026511,
          0.9984296632960523,
          0.9759735640824097,
          0.9550805286125832,
          0.9403695359222695,
          0.9677010383615604,
          0.9786128496440666,
          0.9575176385230303,
          0.9643826987692695,
          0.9473024196231264,
          0.9303482886140657,
          0.9229548586607133,
          0.9803311256641237,
          0.9750508947926299,
          0.9616364435548246,
          0.9426378942110752,
          0.9266273347789239,
          0.9131491327986807,
          0.9057069895628292,
          0.9068657075007645,
          0.8909626608169116,
          0.8769969255927967,
          0.8716460260835075,
          0.8855554107444921,
          0.8858007291189229,
          0.8742142726869299,
          0.8641527470013007,
          0.8569941663759001,
          0.8464880545560272,
          0.8359260425342745,
          0.8257442572674614,
          0.8585595697288814,
          0.8748038297489585,
          0.8868220300810649,
          0.872867773791168,
          0.8817297421216514,
          0.867750202209342,
          0.8806217886439504,
          0.901821520550732,
          0.8873177724305007,
          0.892093687040569,
          0.9060344846512072,
          0.9003230808212749,
          0.8870877043845712,
          0.8775692462225417,
          0.9446399409990777,
          0.9260123043326303,
          0.9459714162153146,
          0.9509061749687504,
          0.9671742167251438,
          0.9497359674091471,
          0.9325578540464903,
          0.9425998583410743,
          0.9634182131543574,
          0.9450541560551647,
          1.4927921606850465,
          1.4780615605125063,
          1.432007614938456,
          1.4725816028099696,
          1.4293312134744387,
          1.4410667829403931,
          1.3913134067363404,
          1.363897037724056,
          1.3463997462986848,
          1.3021487986159908,
          1.2659450542168695,
          1.2291137588497154,
          1.2134438161693675,
          1.3577272113000136,
          1.3267010824041914,
          1.2931959967630455,
          1.275740865489586,
          1.2928075520112325,
          1.2584043627511987,
          1.2197100685202606,
          1.2115456020887374,
          1.1861235041783749,
          1.1543871855695973,
          1.1241076153294507,
          1.0944918446976426,
          1.083103263425063,
          1.0550062074670286,
          1.0314269007409473,
          1.0083607783500559,
          0.9857398946060716,
          0.9649275175515677,
          0.9453454561926712,
          0.9276825736524122,
          0.9436601686029009,
          0.9366693804102704,
          0.9197858480899958,
          0.9047873211141576,
          0.889689897335925,
          0.8889321810958648,
          0.9132726634083274,
          0.8994369731338822,
          0.885039380423251,
          0.8710091929358166,
          0.8585800646215396,
          0.8473650206239774,
          0.8385527280846634,
          0.8434581994436213,
          0.8440471815226906,
          0.8546272527764941,
          0.9199378529158452,
          0.9232327103910535,
          0.9197297141218729,
          0.907382856787608,
          1.027039187667361,
          1.0129293124586711,
          0.9970193707247121
         ]
        },
        {
         "mode": "lines",
         "name": "JPMorgan",
         "type": "scatter",
         "x": [
          "2019-01-25T00:00:00",
          "2019-01-28T00:00:00",
          "2019-01-29T00:00:00",
          "2019-01-30T00:00:00",
          "2019-01-31T00:00:00",
          "2019-02-01T00:00:00",
          "2019-02-04T00:00:00",
          "2019-02-05T00:00:00",
          "2019-02-06T00:00:00",
          "2019-02-07T00:00:00",
          "2019-02-08T00:00:00",
          "2019-02-11T00:00:00",
          "2019-02-12T00:00:00",
          "2019-02-13T00:00:00",
          "2019-02-14T00:00:00",
          "2019-02-15T00:00:00",
          "2019-02-19T00:00:00",
          "2019-02-20T00:00:00",
          "2019-02-21T00:00:00",
          "2019-02-22T00:00:00",
          "2019-02-25T00:00:00",
          "2019-02-26T00:00:00",
          "2019-02-27T00:00:00",
          "2019-02-28T00:00:00",
          "2019-03-01T00:00:00",
          "2019-03-04T00:00:00",
          "2019-03-05T00:00:00",
          "2019-03-06T00:00:00",
          "2019-03-07T00:00:00",
          "2019-03-08T00:00:00",
          "2019-03-11T00:00:00",
          "2019-03-12T00:00:00",
          "2019-03-13T00:00:00",
          "2019-03-14T00:00:00",
          "2019-03-15T00:00:00",
          "2019-03-18T00:00:00",
          "2019-03-19T00:00:00",
          "2019-03-20T00:00:00",
          "2019-03-21T00:00:00",
          "2019-03-22T00:00:00",
          "2019-03-25T00:00:00",
          "2019-03-26T00:00:00",
          "2019-03-27T00:00:00",
          "2019-03-28T00:00:00",
          "2019-03-29T00:00:00",
          "2019-04-01T00:00:00",
          "2019-04-02T00:00:00",
          "2019-04-03T00:00:00",
          "2019-04-04T00:00:00",
          "2019-04-05T00:00:00",
          "2019-04-08T00:00:00",
          "2019-04-09T00:00:00",
          "2019-04-10T00:00:00",
          "2019-04-11T00:00:00",
          "2019-04-12T00:00:00",
          "2019-04-15T00:00:00",
          "2019-04-16T00:00:00",
          "2019-04-17T00:00:00",
          "2019-04-18T00:00:00",
          "2019-04-22T00:00:00",
          "2019-04-23T00:00:00",
          "2019-04-24T00:00:00",
          "2019-04-25T00:00:00",
          "2019-04-26T00:00:00",
          "2019-04-29T00:00:00",
          "2019-04-30T00:00:00",
          "2019-05-01T00:00:00",
          "2019-05-02T00:00:00",
          "2019-05-03T00:00:00",
          "2019-05-06T00:00:00",
          "2019-05-07T00:00:00",
          "2019-05-08T00:00:00",
          "2019-05-09T00:00:00",
          "2019-05-10T00:00:00",
          "2019-05-13T00:00:00",
          "2019-05-14T00:00:00",
          "2019-05-15T00:00:00",
          "2019-05-16T00:00:00",
          "2019-05-17T00:00:00",
          "2019-05-20T00:00:00",
          "2019-05-21T00:00:00",
          "2019-05-22T00:00:00",
          "2019-05-23T00:00:00",
          "2019-05-24T00:00:00",
          "2019-05-28T00:00:00",
          "2019-05-29T00:00:00",
          "2019-05-30T00:00:00",
          "2019-05-31T00:00:00",
          "2019-06-03T00:00:00",
          "2019-06-04T00:00:00",
          "2019-06-05T00:00:00",
          "2019-06-06T00:00:00",
          "2019-06-07T00:00:00",
          "2019-06-10T00:00:00",
          "2019-06-11T00:00:00",
          "2019-06-12T00:00:00",
          "2019-06-13T00:00:00",
          "2019-06-14T00:00:00",
          "2019-06-17T00:00:00",
          "2019-06-18T00:00:00",
          "2019-06-19T00:00:00",
          "2019-06-20T00:00:00",
          "2019-06-21T00:00:00",
          "2019-06-24T00:00:00",
          "2019-06-25T00:00:00",
          "2019-06-26T00:00:00",
          "2019-06-27T00:00:00",
          "2019-06-28T00:00:00",
          "2019-07-01T00:00:00",
          "2019-07-02T00:00:00",
          "2019-07-03T00:00:00",
          "2019-07-05T00:00:00",
          "2019-07-08T00:00:00",
          "2019-07-09T00:00:00",
          "2019-07-10T00:00:00",
          "2019-07-11T00:00:00",
          "2019-07-12T00:00:00",
          "2019-07-15T00:00:00",
          "2019-07-16T00:00:00",
          "2019-07-17T00:00:00",
          "2019-07-18T00:00:00",
          "2019-07-19T00:00:00",
          "2019-07-22T00:00:00",
          "2019-07-23T00:00:00",
          "2019-07-24T00:00:00",
          "2019-07-25T00:00:00",
          "2019-07-26T00:00:00",
          "2019-07-29T00:00:00",
          "2019-07-30T00:00:00",
          "2019-07-31T00:00:00",
          "2019-08-01T00:00:00",
          "2019-08-02T00:00:00",
          "2019-08-05T00:00:00",
          "2019-08-06T00:00:00",
          "2019-08-07T00:00:00",
          "2019-08-08T00:00:00",
          "2019-08-09T00:00:00",
          "2019-08-12T00:00:00",
          "2019-08-13T00:00:00",
          "2019-08-14T00:00:00",
          "2019-08-15T00:00:00",
          "2019-08-16T00:00:00",
          "2019-08-19T00:00:00",
          "2019-08-20T00:00:00",
          "2019-08-21T00:00:00",
          "2019-08-22T00:00:00",
          "2019-08-23T00:00:00",
          "2019-08-26T00:00:00",
          "2019-08-27T00:00:00",
          "2019-08-28T00:00:00",
          "2019-08-29T00:00:00",
          "2019-08-30T00:00:00",
          "2019-09-03T00:00:00",
          "2019-09-04T00:00:00",
          "2019-09-05T00:00:00",
          "2019-09-06T00:00:00",
          "2019-09-09T00:00:00",
          "2019-09-10T00:00:00",
          "2019-09-11T00:00:00",
          "2019-09-12T00:00:00",
          "2019-09-13T00:00:00",
          "2019-09-16T00:00:00",
          "2019-09-17T00:00:00",
          "2019-09-18T00:00:00",
          "2019-09-19T00:00:00",
          "2019-09-20T00:00:00",
          "2019-09-23T00:00:00",
          "2019-09-24T00:00:00",
          "2019-09-25T00:00:00",
          "2019-09-26T00:00:00",
          "2019-09-27T00:00:00",
          "2019-09-30T00:00:00",
          "2019-10-01T00:00:00",
          "2019-10-02T00:00:00",
          "2019-10-03T00:00:00",
          "2019-10-04T00:00:00",
          "2019-10-07T00:00:00",
          "2019-10-08T00:00:00",
          "2019-10-09T00:00:00",
          "2019-10-10T00:00:00",
          "2019-10-11T00:00:00",
          "2019-10-14T00:00:00",
          "2019-10-15T00:00:00",
          "2019-10-16T00:00:00",
          "2019-10-17T00:00:00",
          "2019-10-18T00:00:00",
          "2019-10-21T00:00:00",
          "2019-10-22T00:00:00",
          "2019-10-23T00:00:00",
          "2019-10-24T00:00:00",
          "2019-10-25T00:00:00",
          "2019-10-28T00:00:00",
          "2019-10-29T00:00:00",
          "2019-10-30T00:00:00",
          "2019-10-31T00:00:00",
          "2019-11-01T00:00:00",
          "2019-11-04T00:00:00",
          "2019-11-05T00:00:00",
          "2019-11-06T00:00:00",
          "2019-11-07T00:00:00",
          "2019-11-08T00:00:00",
          "2019-11-11T00:00:00",
          "2019-11-12T00:00:00",
          "2019-11-13T00:00:00",
          "2019-11-14T00:00:00",
          "2019-11-15T00:00:00",
          "2019-11-18T00:00:00",
          "2019-11-19T00:00:00",
          "2019-11-20T00:00:00",
          "2019-11-21T00:00:00",
          "2019-11-22T00:00:00",
          "2019-11-25T00:00:00",
          "2019-11-26T00:00:00",
          "2019-11-27T00:00:00",
          "2019-11-29T00:00:00",
          "2019-12-02T00:00:00",
          "2019-12-03T00:00:00",
          "2019-12-04T00:00:00",
          "2019-12-05T00:00:00",
          "2019-12-06T00:00:00",
          "2019-12-09T00:00:00",
          "2019-12-10T00:00:00",
          "2019-12-11T00:00:00",
          "2019-12-12T00:00:00",
          "2019-12-13T00:00:00",
          "2019-12-16T00:00:00",
          "2019-12-17T00:00:00",
          "2019-12-18T00:00:00",
          "2019-12-19T00:00:00",
          "2019-12-20T00:00:00",
          "2019-12-23T00:00:00",
          "2019-12-24T00:00:00",
          "2019-12-26T00:00:00",
          "2019-12-27T00:00:00",
          "2019-12-30T00:00:00",
          "2019-12-31T00:00:00",
          "2020-01-02T00:00:00",
          "2020-01-03T00:00:00",
          "2020-01-06T00:00:00",
          "2020-01-07T00:00:00",
          "2020-01-08T00:00:00",
          "2020-01-09T00:00:00",
          "2020-01-10T00:00:00",
          "2020-01-13T00:00:00",
          "2020-01-14T00:00:00",
          "2020-01-15T00:00:00",
          "2020-01-16T00:00:00",
          "2020-01-17T00:00:00",
          "2020-01-21T00:00:00",
          "2020-01-22T00:00:00",
          "2020-01-23T00:00:00",
          "2020-01-24T00:00:00",
          "2020-01-27T00:00:00",
          "2020-01-28T00:00:00",
          "2020-01-29T00:00:00",
          "2020-01-30T00:00:00",
          "2020-01-31T00:00:00",
          "2020-02-03T00:00:00",
          "2020-02-04T00:00:00",
          "2020-02-05T00:00:00",
          "2020-02-06T00:00:00",
          "2020-02-07T00:00:00",
          "2020-02-10T00:00:00",
          "2020-02-11T00:00:00",
          "2020-02-12T00:00:00",
          "2020-02-13T00:00:00",
          "2020-02-14T00:00:00",
          "2020-02-18T00:00:00",
          "2020-02-19T00:00:00",
          "2020-02-20T00:00:00",
          "2020-02-21T00:00:00",
          "2020-02-24T00:00:00",
          "2020-02-25T00:00:00",
          "2020-02-26T00:00:00",
          "2020-02-27T00:00:00",
          "2020-02-28T00:00:00",
          "2020-03-02T00:00:00",
          "2020-03-03T00:00:00",
          "2020-03-04T00:00:00",
          "2020-03-05T00:00:00",
          "2020-03-06T00:00:00",
          "2020-03-09T00:00:00",
          "2020-03-10T00:00:00",
          "2020-03-11T00:00:00",
          "2020-03-12T00:00:00",
          "2020-03-13T00:00:00",
          "2020-03-16T00:00:00",
          "2020-03-17T00:00:00",
          "2020-03-18T00:00:00",
          "2020-03-19T00:00:00",
          "2020-03-20T00:00:00",
          "2020-03-23T00:00:00",
          "2020-03-24T00:00:00",
          "2020-03-25T00:00:00",
          "2020-03-26T00:00:00",
          "2020-03-27T00:00:00",
          "2020-03-30T00:00:00",
          "2020-03-31T00:00:00",
          "2020-04-01T00:00:00",
          "2020-04-02T00:00:00",
          "2020-04-03T00:00:00",
          "2020-04-06T00:00:00",
          "2020-04-07T00:00:00",
          "2020-04-08T00:00:00",
          "2020-04-09T00:00:00",
          "2020-04-13T00:00:00",
          "2020-04-14T00:00:00",
          "2020-04-15T00:00:00",
          "2020-04-16T00:00:00",
          "2020-04-17T00:00:00",
          "2020-04-20T00:00:00",
          "2020-04-21T00:00:00",
          "2020-04-22T00:00:00",
          "2020-04-23T00:00:00",
          "2020-04-24T00:00:00",
          "2020-04-27T00:00:00",
          "2020-04-28T00:00:00",
          "2020-04-29T00:00:00",
          "2020-04-30T00:00:00",
          "2020-05-01T00:00:00",
          "2020-05-04T00:00:00",
          "2020-05-05T00:00:00",
          "2020-05-06T00:00:00",
          "2020-05-07T00:00:00",
          "2020-05-08T00:00:00",
          "2020-05-11T00:00:00",
          "2020-05-12T00:00:00",
          "2020-05-13T00:00:00",
          "2020-05-14T00:00:00",
          "2020-05-15T00:00:00",
          "2020-05-18T00:00:00",
          "2020-05-19T00:00:00",
          "2020-05-20T00:00:00",
          "2020-05-21T00:00:00",
          "2020-05-22T00:00:00",
          "2020-05-26T00:00:00",
          "2020-05-27T00:00:00",
          "2020-05-28T00:00:00",
          "2020-05-29T00:00:00",
          "2020-06-01T00:00:00",
          "2020-06-02T00:00:00",
          "2020-06-03T00:00:00",
          "2020-06-04T00:00:00",
          "2020-06-05T00:00:00",
          "2020-06-08T00:00:00",
          "2020-06-09T00:00:00",
          "2020-06-10T00:00:00",
          "2020-06-11T00:00:00",
          "2020-06-12T00:00:00",
          "2020-06-15T00:00:00",
          "2020-06-16T00:00:00",
          "2020-06-17T00:00:00",
          "2020-06-18T00:00:00",
          "2020-06-19T00:00:00",
          "2020-06-22T00:00:00",
          "2020-06-23T00:00:00",
          "2020-06-24T00:00:00",
          "2020-06-25T00:00:00",
          "2020-06-26T00:00:00",
          "2020-06-29T00:00:00",
          "2020-06-30T00:00:00",
          "2020-07-01T00:00:00",
          "2020-07-02T00:00:00",
          "2020-07-06T00:00:00",
          "2020-07-07T00:00:00",
          "2020-07-08T00:00:00",
          "2020-07-09T00:00:00",
          "2020-07-10T00:00:00",
          "2020-07-13T00:00:00",
          "2020-07-14T00:00:00",
          "2020-07-15T00:00:00",
          "2020-07-16T00:00:00",
          "2020-07-17T00:00:00",
          "2020-07-20T00:00:00",
          "2020-07-21T00:00:00",
          "2020-07-22T00:00:00",
          "2020-07-23T00:00:00",
          "2020-07-24T00:00:00",
          "2020-07-27T00:00:00",
          "2020-07-28T00:00:00",
          "2020-07-29T00:00:00",
          "2020-07-30T00:00:00",
          "2020-07-31T00:00:00",
          "2020-08-03T00:00:00",
          "2020-08-04T00:00:00",
          "2020-08-05T00:00:00",
          "2020-08-06T00:00:00",
          "2020-08-07T00:00:00",
          "2020-08-10T00:00:00",
          "2020-08-11T00:00:00",
          "2020-08-12T00:00:00",
          "2020-08-13T00:00:00",
          "2020-08-14T00:00:00",
          "2020-08-17T00:00:00",
          "2020-08-18T00:00:00",
          "2020-08-19T00:00:00",
          "2020-08-20T00:00:00",
          "2020-08-21T00:00:00",
          "2020-08-24T00:00:00",
          "2020-08-25T00:00:00",
          "2020-08-26T00:00:00",
          "2020-08-27T00:00:00",
          "2020-08-28T00:00:00",
          "2020-08-31T00:00:00",
          "2020-09-01T00:00:00",
          "2020-09-02T00:00:00",
          "2020-09-03T00:00:00",
          "2020-09-04T00:00:00",
          "2020-09-08T00:00:00",
          "2020-09-09T00:00:00",
          "2020-09-10T00:00:00",
          "2020-09-11T00:00:00",
          "2020-09-14T00:00:00",
          "2020-09-15T00:00:00",
          "2020-09-16T00:00:00",
          "2020-09-17T00:00:00",
          "2020-09-18T00:00:00",
          "2020-09-21T00:00:00",
          "2020-09-22T00:00:00",
          "2020-09-23T00:00:00",
          "2020-09-24T00:00:00",
          "2020-09-25T00:00:00",
          "2020-09-28T00:00:00",
          "2020-09-29T00:00:00",
          "2020-09-30T00:00:00",
          "2020-10-01T00:00:00",
          "2020-10-02T00:00:00",
          "2020-10-05T00:00:00",
          "2020-10-06T00:00:00",
          "2020-10-07T00:00:00",
          "2020-10-08T00:00:00",
          "2020-10-09T00:00:00",
          "2020-10-12T00:00:00",
          "2020-10-13T00:00:00",
          "2020-10-14T00:00:00",
          "2020-10-15T00:00:00",
          "2020-10-16T00:00:00",
          "2020-10-19T00:00:00",
          "2020-10-20T00:00:00",
          "2020-10-21T00:00:00",
          "2020-10-22T00:00:00",
          "2020-10-23T00:00:00",
          "2020-10-26T00:00:00",
          "2020-10-27T00:00:00",
          "2020-10-28T00:00:00",
          "2020-10-29T00:00:00",
          "2020-10-30T00:00:00",
          "2020-11-02T00:00:00",
          "2020-11-03T00:00:00",
          "2020-11-04T00:00:00",
          "2020-11-05T00:00:00",
          "2020-11-06T00:00:00",
          "2020-11-09T00:00:00",
          "2020-11-10T00:00:00",
          "2020-11-11T00:00:00",
          "2020-11-12T00:00:00",
          "2020-11-13T00:00:00",
          "2020-11-16T00:00:00",
          "2020-11-17T00:00:00",
          "2020-11-18T00:00:00",
          "2020-11-19T00:00:00",
          "2020-11-20T00:00:00",
          "2020-11-23T00:00:00",
          "2020-11-24T00:00:00",
          "2020-11-25T00:00:00",
          "2020-11-27T00:00:00",
          "2020-11-30T00:00:00",
          "2020-12-01T00:00:00",
          "2020-12-02T00:00:00",
          "2020-12-03T00:00:00",
          "2020-12-04T00:00:00",
          "2020-12-07T00:00:00",
          "2020-12-08T00:00:00",
          "2020-12-09T00:00:00",
          "2020-12-10T00:00:00",
          "2020-12-11T00:00:00",
          "2020-12-14T00:00:00",
          "2020-12-15T00:00:00",
          "2020-12-16T00:00:00",
          "2020-12-17T00:00:00",
          "2020-12-18T00:00:00",
          "2020-12-21T00:00:00",
          "2020-12-22T00:00:00",
          "2020-12-23T00:00:00",
          "2020-12-24T00:00:00",
          "2020-12-28T00:00:00",
          "2020-12-29T00:00:00",
          "2020-12-30T00:00:00",
          "2020-12-31T00:00:00",
          "2021-01-04T00:00:00",
          "2021-01-05T00:00:00",
          "2021-01-06T00:00:00",
          "2021-01-07T00:00:00",
          "2021-01-08T00:00:00",
          "2021-01-11T00:00:00",
          "2021-01-12T00:00:00",
          "2021-01-13T00:00:00",
          "2021-01-14T00:00:00",
          "2021-01-15T00:00:00",
          "2021-01-19T00:00:00",
          "2021-01-20T00:00:00",
          "2021-01-21T00:00:00",
          "2021-01-22T00:00:00",
          "2021-01-25T00:00:00",
          "2021-01-26T00:00:00",
          "2021-01-27T00:00:00",
          "2021-01-28T00:00:00",
          "2021-01-29T00:00:00",
          "2021-02-01T00:00:00",
          "2021-02-02T00:00:00",
          "2021-02-03T00:00:00",
          "2021-02-04T00:00:00",
          "2021-02-05T00:00:00",
          "2021-02-08T00:00:00",
          "2021-02-09T00:00:00",
          "2021-02-10T00:00:00",
          "2021-02-11T00:00:00",
          "2021-02-12T00:00:00",
          "2021-02-16T00:00:00",
          "2021-02-17T00:00:00",
          "2021-02-18T00:00:00",
          "2021-02-19T00:00:00",
          "2021-02-22T00:00:00",
          "2021-02-23T00:00:00",
          "2021-02-24T00:00:00",
          "2021-02-25T00:00:00",
          "2021-02-26T00:00:00",
          "2021-03-01T00:00:00",
          "2021-03-02T00:00:00",
          "2021-03-03T00:00:00",
          "2021-03-04T00:00:00",
          "2021-03-05T00:00:00",
          "2021-03-08T00:00:00",
          "2021-03-09T00:00:00",
          "2021-03-10T00:00:00",
          "2021-03-11T00:00:00",
          "2021-03-12T00:00:00",
          "2021-03-15T00:00:00",
          "2021-03-16T00:00:00",
          "2021-03-17T00:00:00",
          "2021-03-18T00:00:00",
          "2021-03-19T00:00:00",
          "2021-03-22T00:00:00",
          "2021-03-23T00:00:00",
          "2021-03-24T00:00:00",
          "2021-03-25T00:00:00",
          "2021-03-26T00:00:00",
          "2021-03-29T00:00:00",
          "2021-03-30T00:00:00",
          "2021-03-31T00:00:00",
          "2021-04-01T00:00:00",
          "2021-04-05T00:00:00",
          "2021-04-06T00:00:00",
          "2021-04-07T00:00:00",
          "2021-04-08T00:00:00",
          "2021-04-09T00:00:00",
          "2021-04-12T00:00:00",
          "2021-04-13T00:00:00",
          "2021-04-14T00:00:00",
          "2021-04-15T00:00:00",
          "2021-04-16T00:00:00",
          "2021-04-19T00:00:00",
          "2021-04-20T00:00:00",
          "2021-04-21T00:00:00",
          "2021-04-22T00:00:00",
          "2021-04-23T00:00:00",
          "2021-04-26T00:00:00",
          "2021-04-27T00:00:00",
          "2021-04-28T00:00:00",
          "2021-04-29T00:00:00",
          "2021-04-30T00:00:00",
          "2021-05-03T00:00:00",
          "2021-05-04T00:00:00",
          "2021-05-05T00:00:00",
          "2021-05-06T00:00:00",
          "2021-05-07T00:00:00",
          "2021-05-10T00:00:00",
          "2021-05-11T00:00:00",
          "2021-05-12T00:00:00",
          "2021-05-13T00:00:00",
          "2021-05-14T00:00:00",
          "2021-05-17T00:00:00",
          "2021-05-18T00:00:00",
          "2021-05-19T00:00:00",
          "2021-05-20T00:00:00",
          "2021-05-21T00:00:00",
          "2021-05-24T00:00:00",
          "2021-05-25T00:00:00",
          "2021-05-26T00:00:00",
          "2021-05-27T00:00:00",
          "2021-05-28T00:00:00",
          "2021-06-01T00:00:00",
          "2021-06-02T00:00:00",
          "2021-06-03T00:00:00",
          "2021-06-04T00:00:00",
          "2021-06-07T00:00:00",
          "2021-06-08T00:00:00",
          "2021-06-09T00:00:00",
          "2021-06-10T00:00:00",
          "2021-06-11T00:00:00",
          "2021-06-14T00:00:00",
          "2021-06-15T00:00:00",
          "2021-06-16T00:00:00",
          "2021-06-17T00:00:00",
          "2021-06-18T00:00:00",
          "2021-06-21T00:00:00",
          "2021-06-22T00:00:00",
          "2021-06-23T00:00:00",
          "2021-06-24T00:00:00",
          "2021-06-25T00:00:00",
          "2021-06-28T00:00:00",
          "2021-06-29T00:00:00",
          "2021-06-30T00:00:00",
          "2021-07-01T00:00:00",
          "2021-07-02T00:00:00",
          "2021-07-06T00:00:00",
          "2021-07-07T00:00:00",
          "2021-07-08T00:00:00",
          "2021-07-09T00:00:00",
          "2021-07-12T00:00:00",
          "2021-07-13T00:00:00",
          "2021-07-14T00:00:00",
          "2021-07-15T00:00:00",
          "2021-07-16T00:00:00",
          "2021-07-19T00:00:00",
          "2021-07-20T00:00:00",
          "2021-07-21T00:00:00",
          "2021-07-22T00:00:00",
          "2021-07-23T00:00:00",
          "2021-07-26T00:00:00",
          "2021-07-27T00:00:00",
          "2021-07-28T00:00:00",
          "2021-07-29T00:00:00",
          "2021-07-30T00:00:00",
          "2021-08-02T00:00:00",
          "2021-08-03T00:00:00",
          "2021-08-04T00:00:00",
          "2021-08-05T00:00:00",
          "2021-08-06T00:00:00",
          "2021-08-09T00:00:00",
          "2021-08-10T00:00:00",
          "2021-08-11T00:00:00",
          "2021-08-12T00:00:00",
          "2021-08-13T00:00:00",
          "2021-08-16T00:00:00",
          "2021-08-17T00:00:00",
          "2021-08-18T00:00:00",
          "2021-08-19T00:00:00",
          "2021-08-20T00:00:00",
          "2021-08-23T00:00:00",
          "2021-08-24T00:00:00",
          "2021-08-25T00:00:00",
          "2021-08-26T00:00:00",
          "2021-08-27T00:00:00",
          "2021-08-30T00:00:00",
          "2021-08-31T00:00:00",
          "2021-09-01T00:00:00",
          "2021-09-02T00:00:00",
          "2021-09-03T00:00:00",
          "2021-09-07T00:00:00",
          "2021-09-08T00:00:00",
          "2021-09-09T00:00:00",
          "2021-09-10T00:00:00",
          "2021-09-13T00:00:00",
          "2021-09-14T00:00:00",
          "2021-09-15T00:00:00",
          "2021-09-16T00:00:00",
          "2021-09-17T00:00:00",
          "2021-09-20T00:00:00",
          "2021-09-21T00:00:00",
          "2021-09-22T00:00:00",
          "2021-09-23T00:00:00",
          "2021-09-24T00:00:00",
          "2021-09-27T00:00:00",
          "2021-09-28T00:00:00",
          "2021-09-29T00:00:00",
          "2021-09-30T00:00:00",
          "2021-10-01T00:00:00",
          "2021-10-04T00:00:00",
          "2021-10-05T00:00:00",
          "2021-10-06T00:00:00",
          "2021-10-07T00:00:00",
          "2021-10-08T00:00:00",
          "2021-10-11T00:00:00",
          "2021-10-12T00:00:00",
          "2021-10-13T00:00:00",
          "2021-10-14T00:00:00",
          "2021-10-15T00:00:00",
          "2021-10-18T00:00:00",
          "2021-10-19T00:00:00",
          "2021-10-20T00:00:00",
          "2021-10-21T00:00:00",
          "2021-10-22T00:00:00",
          "2021-10-25T00:00:00",
          "2021-10-26T00:00:00",
          "2021-10-27T00:00:00",
          "2021-10-28T00:00:00",
          "2021-10-29T00:00:00",
          "2021-11-01T00:00:00",
          "2021-11-02T00:00:00",
          "2021-11-03T00:00:00",
          "2021-11-04T00:00:00",
          "2021-11-05T00:00:00",
          "2021-11-08T00:00:00",
          "2021-11-09T00:00:00",
          "2021-11-10T00:00:00",
          "2021-11-11T00:00:00",
          "2021-11-12T00:00:00",
          "2021-11-15T00:00:00",
          "2021-11-16T00:00:00",
          "2021-11-17T00:00:00",
          "2021-11-18T00:00:00",
          "2021-11-19T00:00:00",
          "2021-11-22T00:00:00",
          "2021-11-23T00:00:00",
          "2021-11-24T00:00:00",
          "2021-11-26T00:00:00",
          "2021-11-29T00:00:00",
          "2021-11-30T00:00:00",
          "2021-12-01T00:00:00",
          "2021-12-02T00:00:00",
          "2021-12-03T00:00:00",
          "2021-12-06T00:00:00",
          "2021-12-07T00:00:00",
          "2021-12-08T00:00:00",
          "2021-12-09T00:00:00",
          "2021-12-10T00:00:00",
          "2021-12-13T00:00:00",
          "2021-12-14T00:00:00",
          "2021-12-15T00:00:00",
          "2021-12-16T00:00:00",
          "2021-12-17T00:00:00",
          "2021-12-20T00:00:00",
          "2021-12-21T00:00:00",
          "2021-12-22T00:00:00",
          "2021-12-23T00:00:00",
          "2021-12-27T00:00:00",
          "2021-12-28T00:00:00",
          "2021-12-29T00:00:00",
          "2021-12-30T00:00:00",
          "2021-12-31T00:00:00",
          "2022-01-03T00:00:00",
          "2022-01-04T00:00:00",
          "2022-01-05T00:00:00",
          "2022-01-06T00:00:00",
          "2022-01-07T00:00:00",
          "2022-01-10T00:00:00",
          "2022-01-11T00:00:00",
          "2022-01-12T00:00:00",
          "2022-01-13T00:00:00",
          "2022-01-14T00:00:00",
          "2022-01-18T00:00:00",
          "2022-01-19T00:00:00",
          "2022-01-20T00:00:00",
          "2022-01-21T00:00:00",
          "2022-01-24T00:00:00",
          "2022-01-25T00:00:00",
          "2022-01-26T00:00:00",
          "2022-01-27T00:00:00",
          "2022-01-28T00:00:00",
          "2022-01-31T00:00:00",
          "2022-02-01T00:00:00",
          "2022-02-02T00:00:00",
          "2022-02-03T00:00:00",
          "2022-02-04T00:00:00",
          "2022-02-07T00:00:00",
          "2022-02-08T00:00:00",
          "2022-02-09T00:00:00",
          "2022-02-10T00:00:00",
          "2022-02-11T00:00:00",
          "2022-02-14T00:00:00",
          "2022-02-15T00:00:00",
          "2022-02-16T00:00:00",
          "2022-02-17T00:00:00",
          "2022-02-18T00:00:00",
          "2022-02-22T00:00:00",
          "2022-02-23T00:00:00",
          "2022-02-24T00:00:00",
          "2022-02-25T00:00:00",
          "2022-02-28T00:00:00",
          "2022-03-01T00:00:00",
          "2022-03-02T00:00:00",
          "2022-03-03T00:00:00",
          "2022-03-04T00:00:00",
          "2022-03-07T00:00:00",
          "2022-03-08T00:00:00",
          "2022-03-09T00:00:00",
          "2022-03-10T00:00:00",
          "2022-03-11T00:00:00",
          "2022-03-14T00:00:00",
          "2022-03-15T00:00:00",
          "2022-03-16T00:00:00",
          "2022-03-17T00:00:00",
          "2022-03-18T00:00:00",
          "2022-03-21T00:00:00",
          "2022-03-22T00:00:00",
          "2022-03-23T00:00:00",
          "2022-03-24T00:00:00",
          "2022-03-25T00:00:00",
          "2022-03-28T00:00:00",
          "2022-03-29T00:00:00",
          "2022-03-30T00:00:00",
          "2022-03-31T00:00:00",
          "2022-04-01T00:00:00",
          "2022-04-04T00:00:00",
          "2022-04-05T00:00:00",
          "2022-04-06T00:00:00",
          "2022-04-07T00:00:00",
          "2022-04-08T00:00:00",
          "2022-04-11T00:00:00",
          "2022-04-12T00:00:00",
          "2022-04-13T00:00:00",
          "2022-04-14T00:00:00",
          "2022-04-18T00:00:00",
          "2022-04-19T00:00:00",
          "2022-04-20T00:00:00",
          "2022-04-21T00:00:00",
          "2022-04-22T00:00:00",
          "2022-04-25T00:00:00",
          "2022-04-26T00:00:00",
          "2022-04-27T00:00:00",
          "2022-04-28T00:00:00",
          "2022-04-29T00:00:00",
          "2022-05-02T00:00:00",
          "2022-05-03T00:00:00",
          "2022-05-04T00:00:00",
          "2022-05-05T00:00:00",
          "2022-05-06T00:00:00",
          "2022-05-09T00:00:00",
          "2022-05-10T00:00:00",
          "2022-05-11T00:00:00",
          "2022-05-12T00:00:00",
          "2022-05-13T00:00:00",
          "2022-05-16T00:00:00",
          "2022-05-17T00:00:00",
          "2022-05-18T00:00:00",
          "2022-05-19T00:00:00",
          "2022-05-20T00:00:00",
          "2022-05-23T00:00:00",
          "2022-05-24T00:00:00",
          "2022-05-25T00:00:00",
          "2022-05-26T00:00:00",
          "2022-05-27T00:00:00",
          "2022-05-31T00:00:00",
          "2022-06-01T00:00:00",
          "2022-06-02T00:00:00",
          "2022-06-03T00:00:00",
          "2022-06-06T00:00:00",
          "2022-06-07T00:00:00",
          "2022-06-08T00:00:00",
          "2022-06-09T00:00:00",
          "2022-06-10T00:00:00",
          "2022-06-13T00:00:00",
          "2022-06-14T00:00:00",
          "2022-06-15T00:00:00",
          "2022-06-16T00:00:00",
          "2022-06-17T00:00:00",
          "2022-06-21T00:00:00",
          "2022-06-22T00:00:00",
          "2022-06-23T00:00:00",
          "2022-06-24T00:00:00",
          "2022-06-27T00:00:00",
          "2022-06-28T00:00:00",
          "2022-06-29T00:00:00",
          "2022-06-30T00:00:00",
          "2022-07-01T00:00:00",
          "2022-07-05T00:00:00",
          "2022-07-06T00:00:00",
          "2022-07-07T00:00:00",
          "2022-07-08T00:00:00",
          "2022-07-11T00:00:00",
          "2022-07-12T00:00:00",
          "2022-07-13T00:00:00",
          "2022-07-14T00:00:00",
          "2022-07-15T00:00:00",
          "2022-07-18T00:00:00",
          "2022-07-19T00:00:00",
          "2022-07-20T00:00:00",
          "2022-07-21T00:00:00",
          "2022-07-22T00:00:00",
          "2022-07-25T00:00:00",
          "2022-07-26T00:00:00",
          "2022-07-27T00:00:00",
          "2022-07-28T00:00:00",
          "2022-07-29T00:00:00",
          "2022-08-01T00:00:00",
          "2022-08-02T00:00:00",
          "2022-08-03T00:00:00",
          "2022-08-04T00:00:00",
          "2022-08-05T00:00:00",
          "2022-08-08T00:00:00",
          "2022-08-09T00:00:00",
          "2022-08-10T00:00:00",
          "2022-08-11T00:00:00",
          "2022-08-12T00:00:00",
          "2022-08-15T00:00:00",
          "2022-08-16T00:00:00",
          "2022-08-17T00:00:00",
          "2022-08-18T00:00:00",
          "2022-08-19T00:00:00",
          "2022-08-22T00:00:00",
          "2022-08-23T00:00:00",
          "2022-08-24T00:00:00",
          "2022-08-25T00:00:00",
          "2022-08-26T00:00:00",
          "2022-08-29T00:00:00",
          "2022-08-30T00:00:00",
          "2022-08-31T00:00:00",
          "2022-09-01T00:00:00",
          "2022-09-02T00:00:00",
          "2022-09-06T00:00:00",
          "2022-09-07T00:00:00",
          "2022-09-08T00:00:00",
          "2022-09-09T00:00:00",
          "2022-09-12T00:00:00",
          "2022-09-13T00:00:00",
          "2022-09-14T00:00:00",
          "2022-09-15T00:00:00",
          "2022-09-16T00:00:00",
          "2022-09-19T00:00:00",
          "2022-09-20T00:00:00",
          "2022-09-21T00:00:00",
          "2022-09-22T00:00:00",
          "2022-09-23T00:00:00",
          "2022-09-26T00:00:00",
          "2022-09-27T00:00:00",
          "2022-09-28T00:00:00",
          "2022-09-29T00:00:00",
          "2022-09-30T00:00:00",
          "2022-10-03T00:00:00",
          "2022-10-04T00:00:00",
          "2022-10-05T00:00:00",
          "2022-10-06T00:00:00",
          "2022-10-07T00:00:00",
          "2022-10-10T00:00:00",
          "2022-10-11T00:00:00",
          "2022-10-12T00:00:00",
          "2022-10-13T00:00:00",
          "2022-10-14T00:00:00",
          "2022-10-17T00:00:00",
          "2022-10-18T00:00:00",
          "2022-10-19T00:00:00",
          "2022-10-20T00:00:00",
          "2022-10-21T00:00:00",
          "2022-10-24T00:00:00",
          "2022-10-25T00:00:00",
          "2022-10-26T00:00:00",
          "2022-10-27T00:00:00",
          "2022-10-28T00:00:00",
          "2022-10-31T00:00:00",
          "2022-11-01T00:00:00",
          "2022-11-02T00:00:00",
          "2022-11-03T00:00:00",
          "2022-11-04T00:00:00",
          "2022-11-07T00:00:00",
          "2022-11-08T00:00:00",
          "2022-11-09T00:00:00",
          "2022-11-10T00:00:00",
          "2022-11-11T00:00:00",
          "2022-11-14T00:00:00",
          "2022-11-15T00:00:00",
          "2022-11-16T00:00:00",
          "2022-11-17T00:00:00",
          "2022-11-18T00:00:00",
          "2022-11-21T00:00:00",
          "2022-11-22T00:00:00",
          "2022-11-23T00:00:00",
          "2022-11-25T00:00:00",
          "2022-11-28T00:00:00",
          "2022-11-29T00:00:00",
          "2022-11-30T00:00:00",
          "2022-12-01T00:00:00",
          "2022-12-02T00:00:00",
          "2022-12-05T00:00:00",
          "2022-12-06T00:00:00",
          "2022-12-07T00:00:00",
          "2022-12-08T00:00:00",
          "2022-12-09T00:00:00",
          "2022-12-12T00:00:00",
          "2022-12-13T00:00:00",
          "2022-12-14T00:00:00",
          "2022-12-15T00:00:00",
          "2022-12-16T00:00:00",
          "2022-12-19T00:00:00",
          "2022-12-20T00:00:00",
          "2022-12-21T00:00:00",
          "2022-12-22T00:00:00",
          "2022-12-23T00:00:00",
          "2022-12-27T00:00:00",
          "2022-12-28T00:00:00",
          "2022-12-29T00:00:00",
          "2022-12-30T00:00:00",
          "2023-01-03T00:00:00",
          "2023-01-04T00:00:00",
          "2023-01-05T00:00:00",
          "2023-01-06T00:00:00",
          "2023-01-09T00:00:00",
          "2023-01-10T00:00:00",
          "2023-01-11T00:00:00",
          "2023-01-12T00:00:00",
          "2023-01-13T00:00:00",
          "2023-01-17T00:00:00",
          "2023-01-18T00:00:00",
          "2023-01-19T00:00:00",
          "2023-01-20T00:00:00",
          "2023-01-23T00:00:00",
          "2023-01-24T00:00:00",
          "2023-01-25T00:00:00",
          "2023-01-26T00:00:00",
          "2023-01-27T00:00:00",
          "2023-01-30T00:00:00",
          "2023-01-31T00:00:00",
          "2023-02-01T00:00:00",
          "2023-02-02T00:00:00",
          "2023-02-03T00:00:00",
          "2023-02-06T00:00:00",
          "2023-02-07T00:00:00",
          "2023-02-08T00:00:00",
          "2023-02-09T00:00:00",
          "2023-02-10T00:00:00",
          "2023-02-13T00:00:00",
          "2023-02-14T00:00:00",
          "2023-02-15T00:00:00",
          "2023-02-16T00:00:00",
          "2023-02-17T00:00:00",
          "2023-02-21T00:00:00",
          "2023-02-22T00:00:00",
          "2023-02-23T00:00:00",
          "2023-02-24T00:00:00",
          "2023-02-27T00:00:00",
          "2023-02-28T00:00:00",
          "2023-03-01T00:00:00",
          "2023-03-02T00:00:00",
          "2023-03-03T00:00:00",
          "2023-03-06T00:00:00",
          "2023-03-07T00:00:00",
          "2023-03-08T00:00:00",
          "2023-03-09T00:00:00",
          "2023-03-10T00:00:00",
          "2023-03-13T00:00:00",
          "2023-03-14T00:00:00",
          "2023-03-15T00:00:00",
          "2023-03-16T00:00:00",
          "2023-03-17T00:00:00",
          "2023-03-20T00:00:00",
          "2023-03-21T00:00:00",
          "2023-03-22T00:00:00",
          "2023-03-23T00:00:00",
          "2023-03-24T00:00:00",
          "2023-03-27T00:00:00",
          "2023-03-28T00:00:00",
          "2023-03-29T00:00:00",
          "2023-03-30T00:00:00",
          "2023-03-31T00:00:00",
          "2023-04-03T00:00:00",
          "2023-04-04T00:00:00",
          "2023-04-05T00:00:00",
          "2023-04-06T00:00:00",
          "2023-04-10T00:00:00",
          "2023-04-11T00:00:00",
          "2023-04-12T00:00:00",
          "2023-04-13T00:00:00",
          "2023-04-14T00:00:00",
          "2023-04-17T00:00:00",
          "2023-04-18T00:00:00",
          "2023-04-19T00:00:00",
          "2023-04-20T00:00:00",
          "2023-04-21T00:00:00",
          "2023-04-24T00:00:00",
          "2023-04-25T00:00:00",
          "2023-04-26T00:00:00",
          "2023-04-27T00:00:00",
          "2023-04-28T00:00:00",
          "2023-05-01T00:00:00",
          "2023-05-02T00:00:00",
          "2023-05-03T00:00:00",
          "2023-05-04T00:00:00",
          "2023-05-05T00:00:00",
          "2023-05-08T00:00:00",
          "2023-05-09T00:00:00",
          "2023-05-10T00:00:00",
          "2023-05-11T00:00:00",
          "2023-05-12T00:00:00",
          "2023-05-15T00:00:00",
          "2023-05-16T00:00:00",
          "2023-05-17T00:00:00",
          "2023-05-18T00:00:00",
          "2023-05-19T00:00:00",
          "2023-05-22T00:00:00",
          "2023-05-23T00:00:00",
          "2023-05-24T00:00:00",
          "2023-05-25T00:00:00",
          "2023-05-26T00:00:00",
          "2023-05-30T00:00:00",
          "2023-05-31T00:00:00",
          "2023-06-01T00:00:00",
          "2023-06-02T00:00:00",
          "2023-06-05T00:00:00",
          "2023-06-06T00:00:00",
          "2023-06-07T00:00:00",
          "2023-06-08T00:00:00",
          "2023-06-09T00:00:00",
          "2023-06-12T00:00:00",
          "2023-06-13T00:00:00",
          "2023-06-14T00:00:00",
          "2023-06-15T00:00:00",
          "2023-06-16T00:00:00",
          "2023-06-20T00:00:00",
          "2023-06-21T00:00:00",
          "2023-06-22T00:00:00",
          "2023-06-23T00:00:00",
          "2023-06-26T00:00:00",
          "2023-06-27T00:00:00",
          "2023-06-28T00:00:00",
          "2023-06-29T00:00:00",
          "2023-06-30T00:00:00",
          "2023-07-03T00:00:00",
          "2023-07-05T00:00:00",
          "2023-07-06T00:00:00",
          "2023-07-07T00:00:00",
          "2023-07-10T00:00:00",
          "2023-07-11T00:00:00",
          "2023-07-12T00:00:00",
          "2023-07-13T00:00:00",
          "2023-07-14T00:00:00",
          "2023-07-17T00:00:00",
          "2023-07-18T00:00:00",
          "2023-07-19T00:00:00",
          "2023-07-20T00:00:00",
          "2023-07-21T00:00:00",
          "2023-07-24T00:00:00",
          "2023-07-25T00:00:00",
          "2023-07-26T00:00:00",
          "2023-07-27T00:00:00",
          "2023-07-28T00:00:00",
          "2023-07-31T00:00:00",
          "2023-08-01T00:00:00",
          "2023-08-02T00:00:00",
          "2023-08-03T00:00:00",
          "2023-08-04T00:00:00",
          "2023-08-07T00:00:00",
          "2023-08-08T00:00:00",
          "2023-08-09T00:00:00",
          "2023-08-10T00:00:00",
          "2023-08-11T00:00:00",
          "2023-08-14T00:00:00",
          "2023-08-15T00:00:00",
          "2023-08-16T00:00:00",
          "2023-08-17T00:00:00",
          "2023-08-18T00:00:00",
          "2023-08-21T00:00:00",
          "2023-08-22T00:00:00",
          "2023-08-23T00:00:00",
          "2023-08-24T00:00:00",
          "2023-08-25T00:00:00",
          "2023-08-28T00:00:00",
          "2023-08-29T00:00:00",
          "2023-08-30T00:00:00",
          "2023-08-31T00:00:00",
          "2023-09-01T00:00:00",
          "2023-09-05T00:00:00",
          "2023-09-06T00:00:00",
          "2023-09-07T00:00:00",
          "2023-09-08T00:00:00",
          "2023-09-11T00:00:00",
          "2023-09-12T00:00:00",
          "2023-09-13T00:00:00",
          "2023-09-14T00:00:00",
          "2023-09-15T00:00:00",
          "2023-09-18T00:00:00",
          "2023-09-19T00:00:00",
          "2023-09-20T00:00:00",
          "2023-09-21T00:00:00",
          "2023-09-22T00:00:00",
          "2023-09-25T00:00:00",
          "2023-09-26T00:00:00",
          "2023-09-27T00:00:00",
          "2023-09-28T00:00:00",
          "2023-09-29T00:00:00",
          "2023-10-02T00:00:00",
          "2023-10-03T00:00:00",
          "2023-10-04T00:00:00",
          "2023-10-05T00:00:00",
          "2023-10-06T00:00:00",
          "2023-10-09T00:00:00",
          "2023-10-10T00:00:00",
          "2023-10-11T00:00:00",
          "2023-10-12T00:00:00",
          "2023-10-13T00:00:00",
          "2023-10-16T00:00:00",
          "2023-10-17T00:00:00",
          "2023-10-18T00:00:00",
          "2023-10-19T00:00:00",
          "2023-10-20T00:00:00",
          "2023-10-23T00:00:00",
          "2023-10-24T00:00:00",
          "2023-10-25T00:00:00",
          "2023-10-26T00:00:00",
          "2023-10-27T00:00:00",
          "2023-10-30T00:00:00",
          "2023-10-31T00:00:00",
          "2023-11-01T00:00:00",
          "2023-11-02T00:00:00",
          "2023-11-03T00:00:00",
          "2023-11-06T00:00:00",
          "2023-11-07T00:00:00",
          "2023-11-08T00:00:00",
          "2023-11-09T00:00:00",
          "2023-11-10T00:00:00",
          "2023-11-13T00:00:00",
          "2023-11-14T00:00:00",
          "2023-11-15T00:00:00",
          "2023-11-16T00:00:00",
          "2023-11-17T00:00:00",
          "2023-11-20T00:00:00",
          "2023-11-21T00:00:00",
          "2023-11-22T00:00:00",
          "2023-11-24T00:00:00",
          "2023-11-27T00:00:00",
          "2023-11-28T00:00:00",
          "2023-11-29T00:00:00",
          "2023-11-30T00:00:00",
          "2023-12-01T00:00:00",
          "2023-12-04T00:00:00",
          "2023-12-05T00:00:00",
          "2023-12-06T00:00:00",
          "2023-12-07T00:00:00",
          "2023-12-08T00:00:00",
          "2023-12-11T00:00:00",
          "2023-12-12T00:00:00",
          "2023-12-13T00:00:00",
          "2023-12-14T00:00:00",
          "2023-12-15T00:00:00",
          "2023-12-18T00:00:00",
          "2023-12-19T00:00:00",
          "2023-12-20T00:00:00",
          "2023-12-21T00:00:00",
          "2023-12-22T00:00:00",
          "2023-12-26T00:00:00"
         ],
         "y": [
          0.9530091369535304,
          0.9486688493163808,
          0.9371362254508512,
          0.9212267144814368,
          0.9063498029087561,
          0.9484894881777274,
          0.9333406096052985,
          0.9196208519064055,
          0.9222438377192677,
          0.9081282196331906,
          1.007179171100102,
          1.046682943185702,
          1.0355399081725247,
          1.131575115843706,
          1.100146350430742,
          1.094395180896359,
          1.4260889044900735,
          1.3699577945805184,
          1.315648177173605,
          1.2652228951958502,
          1.2286437034885915,
          1.21963822836863,
          1.2079624152730826,
          1.1656425301637372,
          1.160322816076756,
          1.1200235772393754,
          1.0894014999864265,
          1.0578453742331368,
          1.0399639847545072,
          1.047751378687575,
          1.0188560600359768,
          1.0642642579346857,
          1.0421068454145874,
          1.0159385056689227,
          1.0228393712054376,
          1.0508456989184445,
          1.0332403122898977,
          1.0176181496313421,
          1.2320191840112003,
          1.3065495548205215,
          1.6150414860914388,
          1.5652095173673346,
          1.5161131317497143,
          1.4514720184721464,
          1.42344675965013,
          1.36519820999541,
          1.678794574384456,
          1.597349264460115,
          1.5185203372245657,
          1.4719777027645937,
          1.408152664289036,
          1.3467425703250924,
          1.3187267037796278,
          1.2681126159418072,
          1.2401942046073646,
          1.9029473417204477,
          1.8453621649425729,
          1.7726529538358935,
          1.9037022104843628,
          1.8213310643504392,
          1.7242356366898695,
          1.6348586150782691,
          1.5554762382356457,
          1.48004109612251,
          1.4259578934700392,
          1.4275011376996074,
          1.3640044602376296,
          1.3360779276234773,
          1.2797826200080746,
          1.2387109311855489,
          1.234758419425483,
          1.3163935179949298,
          1.2788826290671105,
          1.2290302820107335,
          1.1828132426175688,
          1.4658042144736785,
          1.4149329595409799,
          1.3609621925209576,
          1.3558252449117005,
          1.3120666997948232,
          1.2643864848211261,
          1.2163343318888604,
          1.2090941856243893,
          1.3465011480718072,
          1.3192144116318532,
          1.3229471798019925,
          1.2738797791009575,
          1.2823585634286168,
          1.2854641317089375,
          1.2386590519092158,
          1.530601953209932,
          1.4591275419200513,
          1.3920545882260429,
          1.3875804854416693,
          1.3626415724210454,
          1.3050410419224152,
          1.3302229877459095,
          1.2747346920249931,
          1.2243900971012869,
          1.1974731058097678,
          1.2223409804178542,
          1.2072775443273054,
          1.1632249353406858,
          1.1520778059970478,
          1.1446755486506974,
          1.1476494000101107,
          1.12273260747123,
          1.088182879159776,
          1.3511440547374902,
          1.3890945058188926,
          1.327715876541744,
          1.274950629396825,
          1.2334733687874315,
          1.20557249379473,
          1.165105698785657,
          1.1320458175332917,
          1.127613679304739,
          1.1316862231606717,
          1.1764207627176742,
          1.175856649391575,
          1.188800615771863,
          1.1561231129160672,
          1.172178183630513,
          1.143371525415331,
          1.2363011584256858,
          1.1922991994086676,
          1.2008101365123354,
          1.1612516375026938,
          1.1296619296633212,
          1.097866989171285,
          1.0663360121318128,
          1.3681737087184862,
          1.3092772247502316,
          1.6071997854870923,
          1.5425790399899788,
          1.645718865203161,
          1.6442560701222786,
          1.5630926945422274,
          1.6217917500057009,
          1.608493193427572,
          2.063348389921229,
          1.9494116590247867,
          1.985056800466195,
          1.8923380886879446,
          1.8454987381260093,
          1.7472870100367017,
          1.682384115813313,
          1.8059479732678296,
          1.7243960103136058,
          1.6789345263008721,
          1.6188508592859177,
          1.6886145328589648,
          1.6092823705644523,
          1.586513839417738,
          1.5491711127941867,
          1.6319373392233398,
          1.5503451926292349,
          1.6621000633451346,
          1.6217078180346012,
          1.541472556038026,
          1.4758665000930686,
          1.529677062958033,
          1.4925575708428314,
          1.4361242858277927,
          1.4004544000909296,
          1.3455221135249833,
          1.2990053007511921,
          1.2464104732179067,
          1.2837020655981644,
          1.2404639808785063,
          1.2308934325653105,
          1.1936286216980934,
          1.1509668793222034,
          1.276860629708682,
          1.403671153040458,
          1.3436777642399402,
          1.4478666300260086,
          1.3856904462034259,
          1.5281505326326537,
          1.4680915257034908,
          1.4606486453552319,
          1.4835263473455478,
          1.4148188162015838,
          1.645959032109323,
          1.5670735911259075,
          1.4973965320457898,
          1.4268055878121952,
          1.5630338307533276,
          1.514335324912162,
          1.4429772828721172,
          1.378297201998179,
          1.3362990101959684,
          1.2824177084035218,
          1.2319676082266764,
          1.2046589861277848,
          1.186110648414137,
          1.3457055939480513,
          1.3069151896191444,
          1.2532479011468685,
          1.2041235609066694,
          1.167629784423614,
          1.1279202762624259,
          1.1013127604798825,
          1.0908133174823882,
          1.077727939941376,
          1.045482728362602,
          1.0352849211124033,
          1.0343437923262582,
          1.0076667781665238,
          1.0202450263556297,
          0.99455872233223,
          0.9868137193200933,
          0.9734471453677077,
          0.9520854053479686,
          0.9348242047094657,
          0.9245108356217727,
          0.9151430749853845,
          1.0089396749956367,
          1.1532668047822479,
          1.1220708469908571,
          1.172909998563957,
          1.1470876460289778,
          1.1080709752428644,
          1.0789669591625004,
          1.3741435080173863,
          1.3531657748317425,
          1.297891208828645,
          1.2548875768591135,
          1.2076560383228203,
          1.1799035555985176,
          1.139421130192347,
          1.102064003885977,
          1.068591112508135,
          1.081455137440932,
          1.0489107152595483,
          1.0316389885495927,
          1.0140640960008938,
          1.0502083928634762,
          1.122358629221177,
          1.0875289847007108,
          1.208198478278973,
          1.182884165686923,
          1.1431108570857822,
          1.1621369283643268,
          1.145114846394529,
          1.1572818767346278,
          1.234261628080331,
          1.190055433019669,
          1.161820157277919,
          1.176949185357981,
          1.1374933077238703,
          1.1016156002124875,
          1.3605319153399709,
          1.3383843775474795,
          1.3951602836654144,
          1.3360577591146154,
          1.3298667372616215,
          1.5489945830568883,
          1.4887342236410004,
          1.4821646387548573,
          1.503148226177338,
          1.4323488159414544,
          1.3745723678016937,
          1.3180001197129492,
          1.2631289466579545,
          1.2136423532141154,
          1.1700426846389997,
          1.1369981970538756,
          1.1943861425535014,
          1.219666144842578,
          1.1742319834576522,
          1.2131285705465913,
          1.4808042221437767,
          2.05047898817647,
          1.9365539223833423,
          2.2978164724305246,
          2.602427619446809,
          2.856358149168193,
          2.9620091462504283,
          2.883476140813425,
          3.1607389500029583,
          3.425814621183301,
          5.4756166774811055,
          5.691645747281718,
          5.548340680393935,
          5.855865841877861,
          7.982258201488264,
          8.922569059341697,
          8.56113992206333,
          8.714110484281733,
          8.158452216539118,
          7.6583317475082895,
          7.374418652374916,
          7.881282277847443,
          7.458241020162343,
          7.316450387878662,
          7.231091860687241,
          6.80660561823212,
          6.482965145115108,
          6.4085687333529755,
          6.1052408292675,
          5.7949858976867015,
          5.794144909194303,
          5.4323085915194484,
          5.237753293497901,
          5.679936573804928,
          5.514613758274142,
          5.240380800949751,
          5.168731684135855,
          5.000506057234946,
          5.4932779390127315,
          5.280989424342627,
          5.036034012014274,
          4.711932036345346,
          4.409415092934132,
          4.150965524168695,
          4.118013586333667,
          3.860789110873873,
          3.712109973023451,
          3.5548979412595645,
          3.4483959530412083,
          3.2605014033508737,
          3.0592222815998347,
          2.943234285721359,
          2.7792856358750235,
          2.6567591645289665,
          2.687757714796687,
          2.7545979356556227,
          2.8348489438014366,
          2.9670966805273817,
          2.857649607212309,
          3.1665201045990656,
          3.0467769626096532,
          3.008375895978692,
          2.8593379821397904,
          2.7008155585896385,
          3.401844957725324,
          3.6828876144703924,
          3.4901485628583178,
          3.3845401745096253,
          3.197429341845589,
          3.0001451630997567,
          3.296354464097904,
          3.1562739440924292,
          3.284909820118404,
          3.1403632759875992,
          3.0722893428525606,
          3.1850279871654044,
          4.058450848494627,
          3.894409071361875,
          3.670800358397537,
          3.4467773710360396,
          3.343404036583687,
          3.14239436443491,
          2.9764033263135117,
          2.8210078906433886,
          2.6735803016053246,
          2.751899911112083,
          2.807002640726673,
          3.2023592051061165,
          3.0057530793721385,
          2.8405898139522883,
          2.6862192732318366,
          2.5253445496275173,
          2.50041606245484,
          2.5382106869300998,
          2.406710013283438,
          2.3834019535244892,
          2.836808293286723,
          2.698228191446257,
          2.5398999271695217,
          2.4333634680140572,
          2.2905700821225428,
          2.250257064772735,
          2.1448018712510155,
          2.129476734483787,
          2.0271811040816514,
          1.9149731824927512,
          1.8302683505757376,
          1.8015505914028371,
          1.709080623659818,
          1.7854793093637562,
          1.9178905488445361,
          1.820782477365467,
          1.7376775697766498,
          1.6623994662794754,
          1.6632132297353501,
          1.5790164106482458,
          1.6465956487509248,
          1.6074071219321877,
          1.8187488917941663,
          1.750158482743164,
          1.6729817254438897,
          1.5879452483455296,
          1.7545497899825206,
          1.7336767321515671,
          1.6439712602784164,
          1.6184277270567793,
          1.5386184375780956,
          1.7061537517829712,
          1.6215909051189452,
          1.6177227505859455,
          1.849884608387054,
          1.753109964197888,
          1.867682143717344,
          1.7677903018769228,
          1.7346007454624754,
          1.6503870493717439,
          1.7015071575485514,
          1.9917118732215908,
          1.9006782571135816,
          1.8356664931906832,
          1.7753211226149048,
          1.7314063430560993,
          1.9478957517528666,
          1.8435856770484875,
          1.7921484835430532,
          1.7007600298285646,
          1.9203004483032258,
          1.8574185793656215,
          1.846113211705055,
          1.7483284033928128,
          1.6750894623979213,
          1.8246485561160728,
          1.7552013482149054,
          1.6858926419076812,
          1.6117660866171029,
          1.555061680811311,
          1.6150498685189374,
          1.579129279623205,
          1.5916529895353597,
          1.6385176194509155,
          1.5720226546068603,
          1.5376336830091204,
          1.5685652627395108,
          1.5078349835962928,
          1.50431814238249,
          1.436893334079719,
          1.490964710657354,
          1.4283869098488153,
          1.4107498506313458,
          1.7445704578922925,
          1.6731161174724638,
          1.797240944503256,
          1.8221850901365948,
          1.969320645530585,
          1.8687666933497908,
          1.7858494188811822,
          1.8281067970299079,
          1.9910299641105018,
          2.144401678173521,
          2.398318313916629,
          2.306038999092273,
          4.867478735342117,
          4.556609807369705,
          4.296583321484703,
          4.046044561553773,
          3.7926007631682643,
          3.659854251245136,
          3.449128274955429,
          3.2453970463051234,
          3.044314322291454,
          2.8744729998846283,
          2.8442016994441106,
          3.0452030150485156,
          2.882704378658466,
          2.718738665931001,
          2.7195551653333268,
          2.598935382748468,
          2.5125429455364543,
          2.3766607566026132,
          2.252034549178516,
          2.1280805800970413,
          2.007374298164035,
          1.9180514448683852,
          1.8302080924794764,
          1.7476093393303418,
          1.699481878528874,
          1.6926093860100928,
          1.6067547144252838,
          1.5575432521239472,
          1.4950046481126915,
          1.8497453835142648,
          1.8295470469961839,
          1.937429648745832,
          1.8402043444462484,
          1.7504306204167934,
          1.6635710006242233,
          1.5799632487895314,
          1.5558076880639076,
          1.5198390077882555,
          1.4538241209879557,
          2.0323532976802103,
          2.176671069750191,
          2.0522993865653367,
          1.988008464360819,
          1.9363131085598495,
          1.830260210074377,
          1.73905093868499,
          1.7612388342514083,
          1.6784566744559146,
          1.6770838911947255,
          1.6215121303387268,
          1.5672878080132986,
          1.5552887235214243,
          1.4895670515110966,
          1.7114145561768848,
          1.7082738192193083,
          1.6682466227478805,
          1.596126811788187,
          1.7957680085750005,
          1.733042844362752,
          1.7892364211249896,
          1.6977285360887078,
          1.67758508656534,
          1.6008135326675244,
          1.5215968587920494,
          1.4545776134300927,
          1.450584185990376,
          1.5706576697611818,
          1.4951188676007467,
          1.4263837274378957,
          1.4518053384955854,
          1.4103763507938796,
          1.3653539880597552,
          1.410520586301091,
          1.429837139889056,
          1.6345165681478109,
          1.7012913599910733,
          1.620173720744016,
          1.648109539756746,
          1.654516339530353,
          1.571210123011224,
          1.5448157962218045,
          1.4942748304171156,
          1.572346525260192,
          1.5097306280232377,
          1.4791424356686698,
          1.4241691388383342,
          1.4251737179671817,
          1.3924082853715791,
          1.4206453105907024,
          1.4657002319749532,
          1.668241731111353,
          1.6244581335871293,
          1.5578724252327851,
          1.529413734523052,
          1.5401309033473478,
          1.5630710742151146,
          1.5261874352529916,
          1.540317577109717,
          1.491972291186882,
          1.4279943328879363,
          1.3890392333084856,
          1.4084499619080395,
          1.345376012492085,
          1.3039608130939115,
          1.2547091384193285,
          1.2782779172764995,
          1.3860161224483856,
          1.3354706969099444,
          1.2947834540673708,
          1.2542077023144933,
          1.4230086559457724,
          1.3793178140769569,
          1.5034055048894561,
          1.5461922735367608,
          1.4719675862369244,
          1.4077546399459095,
          1.3556872595563911,
          1.4262417645246226,
          1.4003341056051966,
          1.3445921851028801,
          1.3509498777840854,
          1.3497423441942478,
          1.4306625014413081,
          1.3675965845405036,
          1.3087879546404848,
          1.3812450970389705,
          1.3461935392830537,
          1.514886860241335,
          1.516111917971088,
          1.4467674395522625,
          1.46666718697768,
          1.427568794073362,
          1.3661268196199354,
          1.3480158858276738,
          1.2975313952192,
          1.299226493306248,
          1.2465612224852738,
          1.2858130900427014,
          1.2351073667763042,
          1.2297829423006572,
          1.183336782431145,
          1.1408328587552088,
          1.1023931971954142,
          1.0845014421829695,
          1.064827605636516,
          1.1249996733234322,
          1.2165792325164637,
          1.1723763246638308,
          1.2750557775621887,
          1.333963821270335,
          1.29144959847437,
          1.576484360258203,
          1.7281225159396874,
          1.7166837620346516,
          1.6301739670495556,
          1.5564840455435662,
          1.5034925502011407,
          1.461208338118139,
          1.3937338083043238,
          1.3342439524800396,
          1.3031869940756655,
          1.2810893302373025,
          1.2313171782616636,
          1.3200660911506776,
          1.2648016441077643,
          1.353951799570952,
          1.636826571518594,
          1.6119146890862484,
          1.6178760929111085,
          1.5443216491709224,
          1.4700311976714622,
          1.6038340727104572,
          1.8761108994445648,
          1.8630126557671385,
          1.8767907924805913,
          1.8310374934283526,
          1.7361019863932639,
          1.6555058453926637,
          1.573776335060344,
          1.4967443876482953,
          1.4461084511738787,
          1.4114174444856593,
          1.3586113584629396,
          1.3413712643703257,
          1.3417205916747927,
          1.3371678990574323,
          1.5556189534073666,
          1.4818388238686557,
          1.4575531825604608,
          1.4333385864938684,
          1.3709669317139022,
          1.3712602083568948,
          1.335319260783241,
          1.3492028162232093,
          1.3338232005931758,
          1.3143036182004364,
          1.2607225999679548,
          1.2681793929358,
          1.2284238076846323,
          1.3393123363269261,
          1.2888021467706692,
          1.2562226255888467,
          1.3294915312330033,
          1.2807841669934237,
          1.2320124126110163,
          1.1900802449147658,
          1.1705544027361527,
          1.1331663941040349,
          1.1105796872220512,
          1.0799339405844524,
          1.125361238639077,
          1.1883967033048404,
          1.2951819460718714,
          1.2561395038514986,
          1.2078411115755923,
          1.169330280068314,
          1.5140699892504723,
          1.4423571056692417,
          1.4948373407190745,
          1.7747185548110498,
          1.7145907511352205,
          1.7889382959122107,
          1.707774269941408,
          1.6209743792103586,
          1.6131557677324697,
          1.6624778618575966,
          1.5797888627787975,
          1.5805938761068052,
          1.5032372107907819,
          1.4417521126569652,
          1.3758617914535638,
          1.5002451031002642,
          1.457957338867342,
          1.653263799786407,
          1.6355160638730242,
          1.6598578750903388,
          1.5764742569195211,
          1.5406659235695201,
          1.5195523772991442,
          1.476329696291896,
          1.462662915336253,
          1.4087642396126268,
          1.3465528881150526,
          1.4736560482907892,
          1.4755472065950925,
          1.4124980197272292,
          1.3502148290045113,
          1.2953674698337472,
          1.2426237302802523,
          1.2816382611606634,
          1.2327608878508596,
          1.195788660921836,
          1.1864917289174066,
          1.145661793269914,
          1.1073924883415096,
          1.087753098327562,
          1.058893875594307,
          1.0639418955094386,
          1.0548044875877307,
          1.0732361913626158,
          1.139440837828565,
          1.2803430735004435,
          1.433148922176486,
          1.3989519903528567,
          1.6791105439868832,
          1.6033563971792097,
          1.6105672799500188,
          1.5476735420930996,
          1.6074275184974538,
          1.6509271072001566,
          1.6050084627044625,
          1.5903167874159898,
          1.5663680005999916,
          1.4925217585860697,
          1.4320940921166625,
          1.4312832284392418,
          1.3823228529939682,
          1.3510932617335605,
          1.3755596435016861,
          1.5276578390037807,
          1.5819120351607912,
          1.560310417932602,
          1.4869547468918243,
          1.4192567748525071,
          1.3632333327715178,
          1.3055095645192343,
          1.2527525052928472,
          1.2048590096497802,
          1.1620084887129607,
          1.2953166884067944,
          1.7217016549842508,
          1.7504956815788353,
          1.6870816855176627,
          1.6255575288369337,
          1.5441960162620947,
          1.469560389016448,
          1.4087757219317427,
          1.347979553718478,
          2.4080722825282863,
          2.6636272966135706,
          2.561159945409639,
          2.4289676873649366,
          2.3647136411850145,
          2.2273800472313634,
          2.122774744854078,
          2.0205157811898267,
          2.0034281484384593,
          1.9088954354251804,
          1.8492140048478958,
          1.8251524563628772,
          1.753299080230421,
          1.689679773373897,
          1.7934719310653697,
          1.7000236083651552,
          1.7111317090527367,
          1.625698274086844,
          1.5539783747650953,
          1.5486745923217893,
          1.5123463487993936,
          1.5049962027976882,
          1.4337901319868105,
          1.578134373634489,
          1.504973439286996,
          1.4368330572245005,
          1.5478848738639808,
          1.7484288498386609,
          1.8105960487699522,
          2.208144923734176,
          2.434595327718352,
          2.3774193176784193,
          2.2542447991112833,
          2.3273874018494203,
          2.544100792602437,
          2.4074638954746574,
          2.5936510479271395,
          2.4749313894890106,
          2.4523173015810285,
          2.324934145380907,
          2.254550740811605,
          2.550805032914878,
          2.4275124922023377,
          2.2850865258029804,
          2.1573412539022656,
          2.1363180659099035,
          2.1281281757187283,
          2.0148431214548705,
          1.9184878832374583,
          1.8350535128079095,
          1.7371917841994722,
          1.657190585930096,
          1.8711191968950485,
          1.7919445366987696,
          1.700449022986006,
          1.665783615573471,
          1.6549195561463448,
          1.5771135434682788,
          1.5994232781623465,
          1.5283301268102203,
          1.5075891752830637,
          1.7995574580325966,
          1.7376132051156723,
          1.740989429401656,
          1.7677591454692034,
          1.6766051158204576,
          1.6172745292268749,
          1.8174524446237263,
          1.7213482662113753,
          1.9133795197235681,
          1.8667733171765069,
          1.8288348962244176,
          2.0434276189811627,
          1.9463096958876895,
          1.953223007958194,
          2.1163815695882744,
          2.1701186083468116,
          2.04824867845664,
          2.0039365428823674,
          2.066414429321433,
          1.9654621253411122,
          1.8583068410733943,
          1.7760379446835806,
          1.7031995639965176,
          1.919959991738452,
          1.9097407052275837,
          1.8789571145108863,
          1.803232947069945,
          2.606869431720775,
          2.486575679998374,
          2.346798400740468,
          2.2707688520284526,
          2.1803001071427777,
          2.065263830527557,
          2.0418704379974875,
          1.9874749618531733,
          1.940550006013329,
          1.839919966535043,
          1.741987396090555,
          1.7419346980985997,
          1.8014799186107149,
          2.291716849008667,
          2.3811768743939457,
          2.315034897300712,
          2.2075985968325145,
          2.1643562109790695,
          2.0466215176044313,
          2.0782607667856015,
          1.9736711821789488,
          1.9057683797271252,
          2.02803695067348,
          1.9380286406318061,
          1.8421254548884205,
          1.7530854991015195,
          1.8420706730373515,
          1.7835722102088616,
          1.6971935151977577,
          1.6290940607791458,
          1.7340453661152686,
          1.6498511870399684,
          1.6337841013540584,
          1.5517465040674625,
          1.515766791394522,
          1.8596107927185659,
          2.2795011107772623,
          2.1793807683038446,
          2.192888032471562,
          2.0677675173220416,
          1.9601472842883114,
          1.8625737138620273,
          1.7646248279321264,
          1.75872768448591,
          1.735016474587844,
          1.6524878313902582,
          1.5732746054066131,
          1.5393571826766783,
          1.5629255493609064,
          1.5171358349157038,
          1.4979091881227593,
          1.7109851810751358,
          1.6796311273766324,
          1.613957805810744,
          1.7335357495228372,
          1.7016567625425512,
          1.6895381934099887,
          1.6037129131146923,
          1.548161430256365,
          1.5057367627508207,
          1.4633229001518808,
          1.6296018629843771,
          1.6511058982670583,
          1.6080613320554475,
          1.5286506494888865,
          1.6292127477364338,
          1.8990141285096946,
          1.799683848635031,
          1.7046100289511525,
          1.6332668259343146,
          1.5621583008887507,
          1.5094789656716394,
          1.4380585566863733,
          1.4891703276011987,
          1.5903356628141956,
          1.5164232357657876,
          1.4849009750237283,
          1.8338340089214304,
          1.739470936769843,
          1.7093787034111334,
          1.6412662625341021,
          1.5803092230477467,
          1.6486910531881926,
          1.8438360788576003,
          1.791962263065203,
          1.814729407540693,
          1.8696368362843119,
          1.7981905503608344,
          1.8115286020008148,
          1.8133151784845793,
          1.801545851424961,
          1.9599470779356185,
          2.3707917408128836,
          2.2747699044695042,
          2.2544671083482624,
          2.2324989179978556,
          2.131492253571591,
          2.23448503100775,
          2.161336872653606,
          2.696784501076677,
          2.5834483140981646,
          2.7668922869230284,
          2.7186086617940433,
          2.642116006273094,
          2.487715942343215,
          2.873042817573684,
          2.6978933473033084,
          2.5357140613396223,
          2.4081995230911004,
          2.2684219981054436,
          2.1652062277832616,
          2.043670311467111,
          2.0053766041533456,
          1.9237754894065635,
          1.8187894791436354,
          1.920087805663736,
          1.8201387823819966,
          1.7232368905101358,
          1.6976142189594243,
          2.0680609021298024,
          1.9519432715246299,
          1.8817620670047706,
          1.8008133029648048,
          1.705345799259764,
          1.6274474067914213,
          1.5710627078951802,
          1.5117675426472656,
          1.507656798523533,
          1.468682884170033,
          1.4006132065453212,
          1.4688953134746852,
          1.4856841987744736,
          1.457787924335288,
          1.475615496984106,
          1.4374900210712391,
          1.6678514049609847,
          1.5831041434682005,
          1.5064399285442327,
          1.466452833461368,
          1.414692214845642,
          1.4288832226432573,
          1.3658212945188806,
          1.3217865051860447,
          1.5216486618281844,
          1.4687085123574448,
          1.4089835490691036,
          1.3511002185985668,
          1.3336987980149297,
          1.340415739161962,
          1.2885304555929478,
          1.238410748852462,
          1.1986894987298493,
          1.1640311683228024,
          1.136961111150847,
          1.1184128430774003,
          1.1138881029429313,
          1.078961655002822,
          1.1978468549391248,
          1.1666622780446156,
          1.1535475618688846,
          1.132097939714694,
          1.0967123857158387,
          1.3184899389565023,
          1.3739085619502183,
          1.6593031238261673,
          1.644052210786335,
          1.5617023706827866,
          1.5636447867642527,
          1.5067175606095637,
          1.4401217021049784,
          1.3838509117610922,
          1.3235445508729182,
          1.3061759189432796,
          1.2617504187430846,
          1.2181293712131491,
          1.1874308453480853,
          1.2348509307960864,
          1.1971341071192032,
          1.2072728110134945,
          1.1925504136015996,
          1.271105296385733,
          1.2247840213327554,
          1.2192954436857781,
          1.1779623609735579,
          1.1400348538807605,
          1.203727811195587,
          1.1606033299485106,
          1.2870928544785185,
          1.267742209855068,
          1.237241011371911,
          1.2164441335589686,
          1.196028990828081,
          1.1755821645676694,
          1.1547482574870995,
          1.176352202998983,
          1.2639917301828514,
          1.235074012360312,
          1.5479244452375243,
          1.4908706820225373,
          2.2895591351307294,
          2.295476207992185,
          2.2497044853165735,
          2.264035353928105,
          2.64964875777239,
          2.5598516196445877,
          2.7191977155473275,
          2.5731693705754095,
          2.5586731230683015,
          2.560699033872594,
          2.411259378094275,
          2.3310518211300217,
          2.3694364585358225,
          2.2315438521201574,
          2.1032387001072315,
          1.98908045756746,
          1.9121633064247872,
          1.8095485819231074,
          1.7772724148711807,
          1.6836912014468943,
          1.5992913320978663,
          1.521617690573261,
          1.4539525721245414,
          1.387626491184243,
          1.3291163734171272,
          2.7277061785190986,
          2.572294523278377,
          2.4406418824793517,
          2.298089535177289,
          2.168716936065166,
          2.0474143035514394,
          1.9328219350735,
          1.9727311002009733,
          1.9622574790990432,
          1.8965101652369114,
          1.8099749856373375,
          1.8352489839208075,
          1.8258490870215995,
          1.874391826159873,
          1.8375639198554274,
          1.8383694995158277,
          1.7403915134247498,
          1.6611626872824266,
          1.5770274642319824,
          1.5062278503350055,
          1.520575636775986,
          1.4668785325961504,
          1.4221398595534682,
          1.662718389120348,
          1.5919258591092764,
          1.5175134585597443,
          1.4772635888206074,
          1.4578465922158488,
          1.4303833973139817,
          1.3660153486928333,
          1.3333520982625655,
          1.2797156059538792,
          1.3084939648826899,
          1.3192315038592597,
          1.4183709943305252,
          1.4007512474940118,
          1.3384963522057594,
          1.3109838915921768,
          1.2568743595276517,
          1.2076411588794522,
          1.1634206788179515,
          1.1397537674001743,
          1.112813736137982,
          1.1260577731308423,
          1.0889696258975772,
          1.0750466967865389,
          1.0465956523343858,
          1.2145728759962722,
          1.1873688673583913,
          1.1450944101467333,
          1.1067333495477876,
          1.0866646395400497,
          1.5195741095197295,
          1.505737260763416,
          1.4515148554685962,
          1.4079272224852881,
          1.3920531595096957,
          1.348107740865564,
          1.2983235045127512,
          1.3305058712061584,
          1.2801653679722196,
          1.2342980233131084,
          1.197322547266613,
          1.3724865248725777,
          1.3127264186661662,
          1.2610750465235454,
          1.2639456857285165,
          1.247429201427802,
          1.3407780563413971,
          1.3140062981186358,
          1.2689342435447224,
          1.2811566203668587,
          1.2381444895961655,
          1.203716340164297,
          1.1760516383138153,
          1.2045746225284704,
          1.1709224504967541,
          1.1345260370000119,
          1.1026814037142219,
          1.0904436634247763,
          1.1581259814642024,
          1.1212881931297949,
          1.0949564769152964,
          1.0613424287039555,
          1.345348510810911,
          1.2998071193483205,
          1.3017012514483473,
          1.248607329184051,
          1.2020559347841089,
          1.3588008155093856,
          1.3126418765536472,
          1.2599467662500274,
          1.2126604006843689,
          1.1696125942049325,
          1.1506252075792336,
          1.1239603654366346,
          1.1724692223790423,
          1.1330633245164519,
          1.1648429729512981,
          1.1277453000287931,
          1.135355359293885,
          1.0974397722240412,
          1.0682390550830796,
          1.1057505420471816,
          1.0709115718083393,
          1.1957138932317402,
          1.1596833241165685,
          1.1197047353011131,
          1.086171311748582,
          1.0675950139132102,
          1.0767621106688121,
          1.1014662939708804,
          1.073761483655776,
          1.107395241561408,
          1.0828686438247264,
          1.1115743439498844,
          1.2336309095017335,
          1.228181507604181,
          1.2135167773945847,
          1.1729398522141334,
          1.13558298395175,
          1.19057134976988,
          1.1527264061387794,
          1.1243263329197115,
          1.0898594223000986,
          1.0624826424822116,
          1.1252646328977904,
          1.0905850831325072,
          1.0625814583873268,
          1.1047781433137933,
          1.0842195302332727,
          1.1916553899792348,
          1.2449552757995763,
          1.1965388846697522,
          1.1726087147817943,
          1.131894304436014,
          1.6294718369696959,
          1.5926561792631344,
          1.5536847653751351,
          1.4797361550677484,
          1.5107040539393692,
          1.4749530993850932,
          1.4212719253426809,
          1.358163195798433,
          1.305183784723368,
          1.2585008126584434,
          1.2874508824407707,
          1.2485350261429287,
          1.3214574684692648,
          1.2897229038067917,
          1.2810418211588754,
          1.2555261085256335,
          1.207697130431919,
          1.167592883960658,
          1.1271122099647846,
          1.0899374829263209,
          1.0623902349454823,
          1.0322905794029142,
          1.0126033543123203,
          1.041314007368579,
          1.0198033636880077,
          1.0133397044700776,
          0.9886124308484753,
          1.0374720091685339,
          1.0111719015486507,
          1.0363230557589478,
          1.0114817758418053,
          1.0175602243379045,
          0.994002178079432,
          1.116465536829355,
          1.099984077692484,
          1.0771362785094587,
          1.1171163430032176,
          1.1540984361319475,
          1.1239011102478353,
          1.0885575431849075
         ]
        }
       ],
       "layout": {
        "annotations": [
         {
          "align": "center",
          "bgcolor": "white",
          "font": {
           "color": "black",
           "size": 12
          },
          "opacity": 0.7,
          "showarrow": false,
          "text": "",
          "x": 0.95,
          "xref": "paper",
          "y": 0.95,
          "yref": "paper"
         }
        ],
        "template": {
         "data": {
          "bar": [
           {
            "error_x": {
             "color": "#2a3f5f"
            },
            "error_y": {
             "color": "#2a3f5f"
            },
            "marker": {
             "line": {
              "color": "#E5ECF6",
              "width": 0.5
             },
             "pattern": {
              "fillmode": "overlay",
              "size": 10,
              "solidity": 0.2
             }
            },
            "type": "bar"
           }
          ],
          "barpolar": [
           {
            "marker": {
             "line": {
              "color": "#E5ECF6",
              "width": 0.5
             },
             "pattern": {
              "fillmode": "overlay",
              "size": 10,
              "solidity": 0.2
             }
            },
            "type": "barpolar"
           }
          ],
          "carpet": [
           {
            "aaxis": {
             "endlinecolor": "#2a3f5f",
             "gridcolor": "white",
             "linecolor": "white",
             "minorgridcolor": "white",
             "startlinecolor": "#2a3f5f"
            },
            "baxis": {
             "endlinecolor": "#2a3f5f",
             "gridcolor": "white",
             "linecolor": "white",
             "minorgridcolor": "white",
             "startlinecolor": "#2a3f5f"
            },
            "type": "carpet"
           }
          ],
          "choropleth": [
           {
            "colorbar": {
             "outlinewidth": 0,
             "ticks": ""
            },
            "type": "choropleth"
           }
          ],
          "contour": [
           {
            "colorbar": {
             "outlinewidth": 0,
             "ticks": ""
            },
            "colorscale": [
             [
              0,
              "#0d0887"
             ],
             [
              0.1111111111111111,
              "#46039f"
             ],
             [
              0.2222222222222222,
              "#7201a8"
             ],
             [
              0.3333333333333333,
              "#9c179e"
             ],
             [
              0.4444444444444444,
              "#bd3786"
             ],
             [
              0.5555555555555556,
              "#d8576b"
             ],
             [
              0.6666666666666666,
              "#ed7953"
             ],
             [
              0.7777777777777778,
              "#fb9f3a"
             ],
             [
              0.8888888888888888,
              "#fdca26"
             ],
             [
              1,
              "#f0f921"
             ]
            ],
            "type": "contour"
           }
          ],
          "contourcarpet": [
           {
            "colorbar": {
             "outlinewidth": 0,
             "ticks": ""
            },
            "type": "contourcarpet"
           }
          ],
          "heatmap": [
           {
            "colorbar": {
             "outlinewidth": 0,
             "ticks": ""
            },
            "colorscale": [
             [
              0,
              "#0d0887"
             ],
             [
              0.1111111111111111,
              "#46039f"
             ],
             [
              0.2222222222222222,
              "#7201a8"
             ],
             [
              0.3333333333333333,
              "#9c179e"
             ],
             [
              0.4444444444444444,
              "#bd3786"
             ],
             [
              0.5555555555555556,
              "#d8576b"
             ],
             [
              0.6666666666666666,
              "#ed7953"
             ],
             [
              0.7777777777777778,
              "#fb9f3a"
             ],
             [
              0.8888888888888888,
              "#fdca26"
             ],
             [
              1,
              "#f0f921"
             ]
            ],
            "type": "heatmap"
           }
          ],
          "heatmapgl": [
           {
            "colorbar": {
             "outlinewidth": 0,
             "ticks": ""
            },
            "colorscale": [
             [
              0,
              "#0d0887"
             ],
             [
              0.1111111111111111,
              "#46039f"
             ],
             [
              0.2222222222222222,
              "#7201a8"
             ],
             [
              0.3333333333333333,
              "#9c179e"
             ],
             [
              0.4444444444444444,
              "#bd3786"
             ],
             [
              0.5555555555555556,
              "#d8576b"
             ],
             [
              0.6666666666666666,
              "#ed7953"
             ],
             [
              0.7777777777777778,
              "#fb9f3a"
             ],
             [
              0.8888888888888888,
              "#fdca26"
             ],
             [
              1,
              "#f0f921"
             ]
            ],
            "type": "heatmapgl"
           }
          ],
          "histogram": [
           {
            "marker": {
             "pattern": {
              "fillmode": "overlay",
              "size": 10,
              "solidity": 0.2
             }
            },
            "type": "histogram"
           }
          ],
          "histogram2d": [
           {
            "colorbar": {
             "outlinewidth": 0,
             "ticks": ""
            },
            "colorscale": [
             [
              0,
              "#0d0887"
             ],
             [
              0.1111111111111111,
              "#46039f"
             ],
             [
              0.2222222222222222,
              "#7201a8"
             ],
             [
              0.3333333333333333,
              "#9c179e"
             ],
             [
              0.4444444444444444,
              "#bd3786"
             ],
             [
              0.5555555555555556,
              "#d8576b"
             ],
             [
              0.6666666666666666,
              "#ed7953"
             ],
             [
              0.7777777777777778,
              "#fb9f3a"
             ],
             [
              0.8888888888888888,
              "#fdca26"
             ],
             [
              1,
              "#f0f921"
             ]
            ],
            "type": "histogram2d"
           }
          ],
          "histogram2dcontour": [
           {
            "colorbar": {
             "outlinewidth": 0,
             "ticks": ""
            },
            "colorscale": [
             [
              0,
              "#0d0887"
             ],
             [
              0.1111111111111111,
              "#46039f"
             ],
             [
              0.2222222222222222,
              "#7201a8"
             ],
             [
              0.3333333333333333,
              "#9c179e"
             ],
             [
              0.4444444444444444,
              "#bd3786"
             ],
             [
              0.5555555555555556,
              "#d8576b"
             ],
             [
              0.6666666666666666,
              "#ed7953"
             ],
             [
              0.7777777777777778,
              "#fb9f3a"
             ],
             [
              0.8888888888888888,
              "#fdca26"
             ],
             [
              1,
              "#f0f921"
             ]
            ],
            "type": "histogram2dcontour"
           }
          ],
          "mesh3d": [
           {
            "colorbar": {
             "outlinewidth": 0,
             "ticks": ""
            },
            "type": "mesh3d"
           }
          ],
          "parcoords": [
           {
            "line": {
             "colorbar": {
              "outlinewidth": 0,
              "ticks": ""
             }
            },
            "type": "parcoords"
           }
          ],
          "pie": [
           {
            "automargin": true,
            "type": "pie"
           }
          ],
          "scatter": [
           {
            "fillpattern": {
             "fillmode": "overlay",
             "size": 10,
             "solidity": 0.2
            },
            "type": "scatter"
           }
          ],
          "scatter3d": [
           {
            "line": {
             "colorbar": {
              "outlinewidth": 0,
              "ticks": ""
             }
            },
            "marker": {
             "colorbar": {
              "outlinewidth": 0,
              "ticks": ""
             }
            },
            "type": "scatter3d"
           }
          ],
          "scattercarpet": [
           {
            "marker": {
             "colorbar": {
              "outlinewidth": 0,
              "ticks": ""
             }
            },
            "type": "scattercarpet"
           }
          ],
          "scattergeo": [
           {
            "marker": {
             "colorbar": {
              "outlinewidth": 0,
              "ticks": ""
             }
            },
            "type": "scattergeo"
           }
          ],
          "scattergl": [
           {
            "marker": {
             "colorbar": {
              "outlinewidth": 0,
              "ticks": ""
             }
            },
            "type": "scattergl"
           }
          ],
          "scattermapbox": [
           {
            "marker": {
             "colorbar": {
              "outlinewidth": 0,
              "ticks": ""
             }
            },
            "type": "scattermapbox"
           }
          ],
          "scatterpolar": [
           {
            "marker": {
             "colorbar": {
              "outlinewidth": 0,
              "ticks": ""
             }
            },
            "type": "scatterpolar"
           }
          ],
          "scatterpolargl": [
           {
            "marker": {
             "colorbar": {
              "outlinewidth": 0,
              "ticks": ""
             }
            },
            "type": "scatterpolargl"
           }
          ],
          "scatterternary": [
           {
            "marker": {
             "colorbar": {
              "outlinewidth": 0,
              "ticks": ""
             }
            },
            "type": "scatterternary"
           }
          ],
          "surface": [
           {
            "colorbar": {
             "outlinewidth": 0,
             "ticks": ""
            },
            "colorscale": [
             [
              0,
              "#0d0887"
             ],
             [
              0.1111111111111111,
              "#46039f"
             ],
             [
              0.2222222222222222,
              "#7201a8"
             ],
             [
              0.3333333333333333,
              "#9c179e"
             ],
             [
              0.4444444444444444,
              "#bd3786"
             ],
             [
              0.5555555555555556,
              "#d8576b"
             ],
             [
              0.6666666666666666,
              "#ed7953"
             ],
             [
              0.7777777777777778,
              "#fb9f3a"
             ],
             [
              0.8888888888888888,
              "#fdca26"
             ],
             [
              1,
              "#f0f921"
             ]
            ],
            "type": "surface"
           }
          ],
          "table": [
           {
            "cells": {
             "fill": {
              "color": "#EBF0F8"
             },
             "line": {
              "color": "white"
             }
            },
            "header": {
             "fill": {
              "color": "#C8D4E3"
             },
             "line": {
              "color": "white"
             }
            },
            "type": "table"
           }
          ]
         },
         "layout": {
          "annotationdefaults": {
           "arrowcolor": "#2a3f5f",
           "arrowhead": 0,
           "arrowwidth": 1
          },
          "autotypenumbers": "strict",
          "coloraxis": {
           "colorbar": {
            "outlinewidth": 0,
            "ticks": ""
           }
          },
          "colorscale": {
           "diverging": [
            [
             0,
             "#8e0152"
            ],
            [
             0.1,
             "#c51b7d"
            ],
            [
             0.2,
             "#de77ae"
            ],
            [
             0.3,
             "#f1b6da"
            ],
            [
             0.4,
             "#fde0ef"
            ],
            [
             0.5,
             "#f7f7f7"
            ],
            [
             0.6,
             "#e6f5d0"
            ],
            [
             0.7,
             "#b8e186"
            ],
            [
             0.8,
             "#7fbc41"
            ],
            [
             0.9,
             "#4d9221"
            ],
            [
             1,
             "#276419"
            ]
           ],
           "sequential": [
            [
             0,
             "#0d0887"
            ],
            [
             0.1111111111111111,
             "#46039f"
            ],
            [
             0.2222222222222222,
             "#7201a8"
            ],
            [
             0.3333333333333333,
             "#9c179e"
            ],
            [
             0.4444444444444444,
             "#bd3786"
            ],
            [
             0.5555555555555556,
             "#d8576b"
            ],
            [
             0.6666666666666666,
             "#ed7953"
            ],
            [
             0.7777777777777778,
             "#fb9f3a"
            ],
            [
             0.8888888888888888,
             "#fdca26"
            ],
            [
             1,
             "#f0f921"
            ]
           ],
           "sequentialminus": [
            [
             0,
             "#0d0887"
            ],
            [
             0.1111111111111111,
             "#46039f"
            ],
            [
             0.2222222222222222,
             "#7201a8"
            ],
            [
             0.3333333333333333,
             "#9c179e"
            ],
            [
             0.4444444444444444,
             "#bd3786"
            ],
            [
             0.5555555555555556,
             "#d8576b"
            ],
            [
             0.6666666666666666,
             "#ed7953"
            ],
            [
             0.7777777777777778,
             "#fb9f3a"
            ],
            [
             0.8888888888888888,
             "#fdca26"
            ],
            [
             1,
             "#f0f921"
            ]
           ]
          },
          "colorway": [
           "#636efa",
           "#EF553B",
           "#00cc96",
           "#ab63fa",
           "#FFA15A",
           "#19d3f3",
           "#FF6692",
           "#B6E880",
           "#FF97FF",
           "#FECB52"
          ],
          "font": {
           "color": "#2a3f5f"
          },
          "geo": {
           "bgcolor": "white",
           "lakecolor": "white",
           "landcolor": "#E5ECF6",
           "showlakes": true,
           "showland": true,
           "subunitcolor": "white"
          },
          "hoverlabel": {
           "align": "left"
          },
          "hovermode": "closest",
          "mapbox": {
           "style": "light"
          },
          "paper_bgcolor": "white",
          "plot_bgcolor": "#E5ECF6",
          "polar": {
           "angularaxis": {
            "gridcolor": "white",
            "linecolor": "white",
            "ticks": ""
           },
           "bgcolor": "#E5ECF6",
           "radialaxis": {
            "gridcolor": "white",
            "linecolor": "white",
            "ticks": ""
           }
          },
          "scene": {
           "xaxis": {
            "backgroundcolor": "#E5ECF6",
            "gridcolor": "white",
            "gridwidth": 2,
            "linecolor": "white",
            "showbackground": true,
            "ticks": "",
            "zerolinecolor": "white"
           },
           "yaxis": {
            "backgroundcolor": "#E5ECF6",
            "gridcolor": "white",
            "gridwidth": 2,
            "linecolor": "white",
            "showbackground": true,
            "ticks": "",
            "zerolinecolor": "white"
           },
           "zaxis": {
            "backgroundcolor": "#E5ECF6",
            "gridcolor": "white",
            "gridwidth": 2,
            "linecolor": "white",
            "showbackground": true,
            "ticks": "",
            "zerolinecolor": "white"
           }
          },
          "shapedefaults": {
           "line": {
            "color": "#2a3f5f"
           }
          },
          "ternary": {
           "aaxis": {
            "gridcolor": "white",
            "linecolor": "white",
            "ticks": ""
           },
           "baxis": {
            "gridcolor": "white",
            "linecolor": "white",
            "ticks": ""
           },
           "bgcolor": "#E5ECF6",
           "caxis": {
            "gridcolor": "white",
            "linecolor": "white",
            "ticks": ""
           }
          },
          "title": {
           "x": 0.05
          },
          "xaxis": {
           "automargin": true,
           "gridcolor": "white",
           "linecolor": "white",
           "ticks": "",
           "title": {
            "standoff": 15
           },
           "zerolinecolor": "white",
           "zerolinewidth": 2
          },
          "yaxis": {
           "automargin": true,
           "gridcolor": "white",
           "linecolor": "white",
           "ticks": "",
           "title": {
            "standoff": 15
           },
           "zerolinecolor": "white",
           "zerolinewidth": 2
          }
         }
        },
        "title": {
         "text": "Volatilidade Condicional das Ações da Coca-Cola e JPMorgan"
        },
        "xaxis": {
         "title": {
          "text": "Data"
         }
        },
        "yaxis": {
         "title": {
          "text": "Volatilidade condicional"
         }
        }
       }
      }
     },
     "metadata": {},
     "output_type": "display_data"
    }
   ],
   "source": [
    "plot_multiples_time_series_line_graphs([coca_cola_conditional_volatility, jpmorgan_conditional_volatility], \"Volatilidade Condicional das Ações da Coca-Cola e JPMorgan\", \"Data\", \"Volatilidade condicional\")"
   ]
  },
  {
   "cell_type": "code",
   "execution_count": 38,
   "metadata": {},
   "outputs": [],
   "source": [
    "# Cria uma instância do modelo LSTM, passando o número de features e o comprimento das sequências de tempo (janelas temporais) para \n",
    "# preparar o modelo.\n",
    "model = Model(9,setup['lstm_time_sequences_length'])\n",
    "\n",
    "# Constrói a arquitetura da rede LSTM, configurando as camadas e os parâmetros necessários para o treinamento do modelo.\n",
    "model.create_LSTM_model()"
   ]
  },
  {
   "cell_type": "code",
   "execution_count": 39,
   "metadata": {},
   "outputs": [],
   "source": [
    "def get_ticker_period_results(ticker: Ticker, predicted: pd.Series) -> list: \n",
    "    '''\n",
    "        Description:\n",
    "            ...\n",
    "        Args:\n",
    "            ticker (Ticker): Objeto do tipo Ticker que contém dados e informações relevantes do ativo.\n",
    "            predicted (pd.Series): Série temporal contendo os valores preditos do preço do ativo.\n",
    "        Return:\n",
    "            pd.DataFrame: ... \n",
    "    '''\n",
    "\n",
    "    # Redimensiona y_train para que ele seja bidimensional (Necessário para o MinMaxScaler).\n",
    "    resized_y_train = ticker.__y_train__.values.reshape(-1, 1)  \n",
    "\n",
    "    # Cria uma instancia do MinMaxScaler para o target do ticker em questão.\n",
    "    scaler_target = MinMaxScaler()\n",
    "\n",
    "    # Ajusta a instância criada acima ao conjunto de treino do target do ticker em questão.\n",
    "    scaler_target.fit_transform(resized_y_train)\n",
    "\n",
    "    # Volta os valores de \"y_test_scaled_sequences\" para a escala normal e associa a esses valores as suas datas originais, criando assim\n",
    "    # uma série temporal.\n",
    "    real_y = pd.Series(scaler_target.inverse_transform(ticker.__y_test_scaled_sequences__).flatten(),\n",
    "                    index= ticker.__y_test__.index[len(ticker.__y_test__) - len(ticker.__y_test_scaled_sequences__):]\n",
    "    )\n",
    "    \n",
    "    # Adiciona um nome a série temporal \"real_y\".\n",
    "    real_y.name = f\"Preço real de {ticker.symbol}\" # Útil para eventuais gráficos.\n",
    "\n",
    "    # Volta os valores estimados para a escala normal e associa a esses valores as suas datas originais, criando assim\n",
    "    # uma série temporal.\n",
    "    predicted_y = pd.Series(\n",
    "        scaler_target.inverse_transform(predicted).flatten(),\n",
    "        index=ticker.__y_test__.index[len(ticker.__y_test__) - len(ticker.__y_test_scaled_sequences__):]\n",
    "    )\n",
    "    \n",
    "    # Adiciona um nome a série temporal \"real_y\".\n",
    "    predicted_y.name = f\"Preço predito de {ticker.symbol}\" # Útil para eventuais gráficos.\n",
    "\n",
    "    return real_y, predicted_y"
   ]
  },
  {
   "cell_type": "code",
   "execution_count": 40,
   "metadata": {},
   "outputs": [
    {
     "name": "stdout",
     "output_type": "stream",
     "text": [
      "\u001b[1m1/1\u001b[0m \u001b[32m━━━━━━━━━━━━━━━━━━━━\u001b[0m\u001b[37m\u001b[0m \u001b[1m0s\u001b[0m 461ms/step\n"
     ]
    }
   ],
   "source": [
    "# Define o período a ser predito como sendo o período 61 da estratégia mensal.\n",
    "test_initial_day = datetime(2023,11,28).date()\n",
    "test_final_day = datetime(2023,12,27).date()\n",
    "\n",
    "\n",
    "# Obtem os dados do ticker em questão em formato adequado para que o modelo LSTM possa realizer a predição.\n",
    "X_train_scaled_sequences, X_test_scaled_sequences, y_train_scaled_sequences, y_test_scaled_sequences = jpmorgan_data.prepare_data_for_lstm(\n",
    "    test_initial_day, test_final_day, setup['lstm_time_sequences_length'])\n",
    "#\n",
    "predicted, RMSE = model.train_model_and_get_results(X_train_scaled_sequences, X_test_scaled_sequences, y_train_scaled_sequences, y_test_scaled_sequences)\n",
    "\n",
    "#\n",
    "predicted_time_series, real_time_series = get_ticker_period_results(jpmorgan_data, predicted)\n",
    "\n",
    "#\n",
    "predicted_time_series.name = f\"Valores preditos para {jpmorgan_data.symbol}\"\n",
    "real_time_series.name = f\"Valores reais de {jpmorgan_data.symbol}\"\n",
    "\n",
    "results = {\n",
    "    \"Predicted\": predicted_time_series,\n",
    "    \"Real\": real_time_series,\n",
    "    \"RMSE\": RMSE\n",
    "}\n",
    "    "
   ]
  },
  {
   "cell_type": "code",
   "execution_count": 41,
   "metadata": {},
   "outputs": [
    {
     "data": {
      "application/vnd.plotly.v1+json": {
       "config": {
        "plotlyServerURL": "https://plot.ly"
       },
       "data": [
        {
         "mode": "lines",
         "name": "Valores preditos para JPM",
         "type": "scatter",
         "x": [
          "2023-12-01T00:00:00",
          "2023-12-04T00:00:00",
          "2023-12-05T00:00:00",
          "2023-12-06T00:00:00",
          "2023-12-07T00:00:00",
          "2023-12-08T00:00:00",
          "2023-12-11T00:00:00",
          "2023-12-12T00:00:00",
          "2023-12-13T00:00:00",
          "2023-12-14T00:00:00",
          "2023-12-15T00:00:00",
          "2023-12-18T00:00:00",
          "2023-12-19T00:00:00",
          "2023-12-20T00:00:00",
          "2023-12-21T00:00:00",
          "2023-12-22T00:00:00",
          "2023-12-26T00:00:00"
         ],
         "y": [
          153.18211364746094,
          154.3052978515625,
          154.2857666015625,
          152.6644744873047,
          153.13327026367188,
          154.8229217529297,
          155.389404296875,
          156.7762908935547,
          157.30368041992188,
          160.1653594970703,
          161.37643432617188,
          162.35311889648438,
          164.5213165283203,
          162.6656494140625,
          163.59349060058594,
          163.49581909179688,
          164.4627227783203
         ]
        },
        {
         "mode": "lines",
         "name": "Valores reais de JPM",
         "type": "scatter",
         "x": [
          "2023-12-01T00:00:00",
          "2023-12-04T00:00:00",
          "2023-12-05T00:00:00",
          "2023-12-06T00:00:00",
          "2023-12-07T00:00:00",
          "2023-12-08T00:00:00",
          "2023-12-11T00:00:00",
          "2023-12-12T00:00:00",
          "2023-12-13T00:00:00",
          "2023-12-14T00:00:00",
          "2023-12-15T00:00:00",
          "2023-12-18T00:00:00",
          "2023-12-19T00:00:00",
          "2023-12-20T00:00:00",
          "2023-12-21T00:00:00",
          "2023-12-22T00:00:00",
          "2023-12-26T00:00:00"
         ],
         "y": [
          152.322998046875,
          153.3959503173828,
          154.31539916992188,
          154.95330810546875,
          154.4572296142578,
          154.2104034423828,
          154.8141632080078,
          155.8610076904297,
          157.12461853027344,
          157.43096923828125,
          158.56631469726562,
          159.47134399414062,
          160.95921325683594,
          162.55282592773438,
          162.59286499023438,
          162.9893035888672,
          163.65780639648438
         ]
        }
       ],
       "layout": {
        "annotations": [
         {
          "align": "center",
          "bgcolor": "white",
          "font": {
           "color": "black",
           "size": 12
          },
          "opacity": 0.7,
          "showarrow": false,
          "text": "RMSE: 0.0189",
          "x": 0.95,
          "xref": "paper",
          "y": 0.95,
          "yref": "paper"
         }
        ],
        "template": {
         "data": {
          "bar": [
           {
            "error_x": {
             "color": "#2a3f5f"
            },
            "error_y": {
             "color": "#2a3f5f"
            },
            "marker": {
             "line": {
              "color": "#E5ECF6",
              "width": 0.5
             },
             "pattern": {
              "fillmode": "overlay",
              "size": 10,
              "solidity": 0.2
             }
            },
            "type": "bar"
           }
          ],
          "barpolar": [
           {
            "marker": {
             "line": {
              "color": "#E5ECF6",
              "width": 0.5
             },
             "pattern": {
              "fillmode": "overlay",
              "size": 10,
              "solidity": 0.2
             }
            },
            "type": "barpolar"
           }
          ],
          "carpet": [
           {
            "aaxis": {
             "endlinecolor": "#2a3f5f",
             "gridcolor": "white",
             "linecolor": "white",
             "minorgridcolor": "white",
             "startlinecolor": "#2a3f5f"
            },
            "baxis": {
             "endlinecolor": "#2a3f5f",
             "gridcolor": "white",
             "linecolor": "white",
             "minorgridcolor": "white",
             "startlinecolor": "#2a3f5f"
            },
            "type": "carpet"
           }
          ],
          "choropleth": [
           {
            "colorbar": {
             "outlinewidth": 0,
             "ticks": ""
            },
            "type": "choropleth"
           }
          ],
          "contour": [
           {
            "colorbar": {
             "outlinewidth": 0,
             "ticks": ""
            },
            "colorscale": [
             [
              0,
              "#0d0887"
             ],
             [
              0.1111111111111111,
              "#46039f"
             ],
             [
              0.2222222222222222,
              "#7201a8"
             ],
             [
              0.3333333333333333,
              "#9c179e"
             ],
             [
              0.4444444444444444,
              "#bd3786"
             ],
             [
              0.5555555555555556,
              "#d8576b"
             ],
             [
              0.6666666666666666,
              "#ed7953"
             ],
             [
              0.7777777777777778,
              "#fb9f3a"
             ],
             [
              0.8888888888888888,
              "#fdca26"
             ],
             [
              1,
              "#f0f921"
             ]
            ],
            "type": "contour"
           }
          ],
          "contourcarpet": [
           {
            "colorbar": {
             "outlinewidth": 0,
             "ticks": ""
            },
            "type": "contourcarpet"
           }
          ],
          "heatmap": [
           {
            "colorbar": {
             "outlinewidth": 0,
             "ticks": ""
            },
            "colorscale": [
             [
              0,
              "#0d0887"
             ],
             [
              0.1111111111111111,
              "#46039f"
             ],
             [
              0.2222222222222222,
              "#7201a8"
             ],
             [
              0.3333333333333333,
              "#9c179e"
             ],
             [
              0.4444444444444444,
              "#bd3786"
             ],
             [
              0.5555555555555556,
              "#d8576b"
             ],
             [
              0.6666666666666666,
              "#ed7953"
             ],
             [
              0.7777777777777778,
              "#fb9f3a"
             ],
             [
              0.8888888888888888,
              "#fdca26"
             ],
             [
              1,
              "#f0f921"
             ]
            ],
            "type": "heatmap"
           }
          ],
          "heatmapgl": [
           {
            "colorbar": {
             "outlinewidth": 0,
             "ticks": ""
            },
            "colorscale": [
             [
              0,
              "#0d0887"
             ],
             [
              0.1111111111111111,
              "#46039f"
             ],
             [
              0.2222222222222222,
              "#7201a8"
             ],
             [
              0.3333333333333333,
              "#9c179e"
             ],
             [
              0.4444444444444444,
              "#bd3786"
             ],
             [
              0.5555555555555556,
              "#d8576b"
             ],
             [
              0.6666666666666666,
              "#ed7953"
             ],
             [
              0.7777777777777778,
              "#fb9f3a"
             ],
             [
              0.8888888888888888,
              "#fdca26"
             ],
             [
              1,
              "#f0f921"
             ]
            ],
            "type": "heatmapgl"
           }
          ],
          "histogram": [
           {
            "marker": {
             "pattern": {
              "fillmode": "overlay",
              "size": 10,
              "solidity": 0.2
             }
            },
            "type": "histogram"
           }
          ],
          "histogram2d": [
           {
            "colorbar": {
             "outlinewidth": 0,
             "ticks": ""
            },
            "colorscale": [
             [
              0,
              "#0d0887"
             ],
             [
              0.1111111111111111,
              "#46039f"
             ],
             [
              0.2222222222222222,
              "#7201a8"
             ],
             [
              0.3333333333333333,
              "#9c179e"
             ],
             [
              0.4444444444444444,
              "#bd3786"
             ],
             [
              0.5555555555555556,
              "#d8576b"
             ],
             [
              0.6666666666666666,
              "#ed7953"
             ],
             [
              0.7777777777777778,
              "#fb9f3a"
             ],
             [
              0.8888888888888888,
              "#fdca26"
             ],
             [
              1,
              "#f0f921"
             ]
            ],
            "type": "histogram2d"
           }
          ],
          "histogram2dcontour": [
           {
            "colorbar": {
             "outlinewidth": 0,
             "ticks": ""
            },
            "colorscale": [
             [
              0,
              "#0d0887"
             ],
             [
              0.1111111111111111,
              "#46039f"
             ],
             [
              0.2222222222222222,
              "#7201a8"
             ],
             [
              0.3333333333333333,
              "#9c179e"
             ],
             [
              0.4444444444444444,
              "#bd3786"
             ],
             [
              0.5555555555555556,
              "#d8576b"
             ],
             [
              0.6666666666666666,
              "#ed7953"
             ],
             [
              0.7777777777777778,
              "#fb9f3a"
             ],
             [
              0.8888888888888888,
              "#fdca26"
             ],
             [
              1,
              "#f0f921"
             ]
            ],
            "type": "histogram2dcontour"
           }
          ],
          "mesh3d": [
           {
            "colorbar": {
             "outlinewidth": 0,
             "ticks": ""
            },
            "type": "mesh3d"
           }
          ],
          "parcoords": [
           {
            "line": {
             "colorbar": {
              "outlinewidth": 0,
              "ticks": ""
             }
            },
            "type": "parcoords"
           }
          ],
          "pie": [
           {
            "automargin": true,
            "type": "pie"
           }
          ],
          "scatter": [
           {
            "fillpattern": {
             "fillmode": "overlay",
             "size": 10,
             "solidity": 0.2
            },
            "type": "scatter"
           }
          ],
          "scatter3d": [
           {
            "line": {
             "colorbar": {
              "outlinewidth": 0,
              "ticks": ""
             }
            },
            "marker": {
             "colorbar": {
              "outlinewidth": 0,
              "ticks": ""
             }
            },
            "type": "scatter3d"
           }
          ],
          "scattercarpet": [
           {
            "marker": {
             "colorbar": {
              "outlinewidth": 0,
              "ticks": ""
             }
            },
            "type": "scattercarpet"
           }
          ],
          "scattergeo": [
           {
            "marker": {
             "colorbar": {
              "outlinewidth": 0,
              "ticks": ""
             }
            },
            "type": "scattergeo"
           }
          ],
          "scattergl": [
           {
            "marker": {
             "colorbar": {
              "outlinewidth": 0,
              "ticks": ""
             }
            },
            "type": "scattergl"
           }
          ],
          "scattermapbox": [
           {
            "marker": {
             "colorbar": {
              "outlinewidth": 0,
              "ticks": ""
             }
            },
            "type": "scattermapbox"
           }
          ],
          "scatterpolar": [
           {
            "marker": {
             "colorbar": {
              "outlinewidth": 0,
              "ticks": ""
             }
            },
            "type": "scatterpolar"
           }
          ],
          "scatterpolargl": [
           {
            "marker": {
             "colorbar": {
              "outlinewidth": 0,
              "ticks": ""
             }
            },
            "type": "scatterpolargl"
           }
          ],
          "scatterternary": [
           {
            "marker": {
             "colorbar": {
              "outlinewidth": 0,
              "ticks": ""
             }
            },
            "type": "scatterternary"
           }
          ],
          "surface": [
           {
            "colorbar": {
             "outlinewidth": 0,
             "ticks": ""
            },
            "colorscale": [
             [
              0,
              "#0d0887"
             ],
             [
              0.1111111111111111,
              "#46039f"
             ],
             [
              0.2222222222222222,
              "#7201a8"
             ],
             [
              0.3333333333333333,
              "#9c179e"
             ],
             [
              0.4444444444444444,
              "#bd3786"
             ],
             [
              0.5555555555555556,
              "#d8576b"
             ],
             [
              0.6666666666666666,
              "#ed7953"
             ],
             [
              0.7777777777777778,
              "#fb9f3a"
             ],
             [
              0.8888888888888888,
              "#fdca26"
             ],
             [
              1,
              "#f0f921"
             ]
            ],
            "type": "surface"
           }
          ],
          "table": [
           {
            "cells": {
             "fill": {
              "color": "#EBF0F8"
             },
             "line": {
              "color": "white"
             }
            },
            "header": {
             "fill": {
              "color": "#C8D4E3"
             },
             "line": {
              "color": "white"
             }
            },
            "type": "table"
           }
          ]
         },
         "layout": {
          "annotationdefaults": {
           "arrowcolor": "#2a3f5f",
           "arrowhead": 0,
           "arrowwidth": 1
          },
          "autotypenumbers": "strict",
          "coloraxis": {
           "colorbar": {
            "outlinewidth": 0,
            "ticks": ""
           }
          },
          "colorscale": {
           "diverging": [
            [
             0,
             "#8e0152"
            ],
            [
             0.1,
             "#c51b7d"
            ],
            [
             0.2,
             "#de77ae"
            ],
            [
             0.3,
             "#f1b6da"
            ],
            [
             0.4,
             "#fde0ef"
            ],
            [
             0.5,
             "#f7f7f7"
            ],
            [
             0.6,
             "#e6f5d0"
            ],
            [
             0.7,
             "#b8e186"
            ],
            [
             0.8,
             "#7fbc41"
            ],
            [
             0.9,
             "#4d9221"
            ],
            [
             1,
             "#276419"
            ]
           ],
           "sequential": [
            [
             0,
             "#0d0887"
            ],
            [
             0.1111111111111111,
             "#46039f"
            ],
            [
             0.2222222222222222,
             "#7201a8"
            ],
            [
             0.3333333333333333,
             "#9c179e"
            ],
            [
             0.4444444444444444,
             "#bd3786"
            ],
            [
             0.5555555555555556,
             "#d8576b"
            ],
            [
             0.6666666666666666,
             "#ed7953"
            ],
            [
             0.7777777777777778,
             "#fb9f3a"
            ],
            [
             0.8888888888888888,
             "#fdca26"
            ],
            [
             1,
             "#f0f921"
            ]
           ],
           "sequentialminus": [
            [
             0,
             "#0d0887"
            ],
            [
             0.1111111111111111,
             "#46039f"
            ],
            [
             0.2222222222222222,
             "#7201a8"
            ],
            [
             0.3333333333333333,
             "#9c179e"
            ],
            [
             0.4444444444444444,
             "#bd3786"
            ],
            [
             0.5555555555555556,
             "#d8576b"
            ],
            [
             0.6666666666666666,
             "#ed7953"
            ],
            [
             0.7777777777777778,
             "#fb9f3a"
            ],
            [
             0.8888888888888888,
             "#fdca26"
            ],
            [
             1,
             "#f0f921"
            ]
           ]
          },
          "colorway": [
           "#636efa",
           "#EF553B",
           "#00cc96",
           "#ab63fa",
           "#FFA15A",
           "#19d3f3",
           "#FF6692",
           "#B6E880",
           "#FF97FF",
           "#FECB52"
          ],
          "font": {
           "color": "#2a3f5f"
          },
          "geo": {
           "bgcolor": "white",
           "lakecolor": "white",
           "landcolor": "#E5ECF6",
           "showlakes": true,
           "showland": true,
           "subunitcolor": "white"
          },
          "hoverlabel": {
           "align": "left"
          },
          "hovermode": "closest",
          "mapbox": {
           "style": "light"
          },
          "paper_bgcolor": "white",
          "plot_bgcolor": "#E5ECF6",
          "polar": {
           "angularaxis": {
            "gridcolor": "white",
            "linecolor": "white",
            "ticks": ""
           },
           "bgcolor": "#E5ECF6",
           "radialaxis": {
            "gridcolor": "white",
            "linecolor": "white",
            "ticks": ""
           }
          },
          "scene": {
           "xaxis": {
            "backgroundcolor": "#E5ECF6",
            "gridcolor": "white",
            "gridwidth": 2,
            "linecolor": "white",
            "showbackground": true,
            "ticks": "",
            "zerolinecolor": "white"
           },
           "yaxis": {
            "backgroundcolor": "#E5ECF6",
            "gridcolor": "white",
            "gridwidth": 2,
            "linecolor": "white",
            "showbackground": true,
            "ticks": "",
            "zerolinecolor": "white"
           },
           "zaxis": {
            "backgroundcolor": "#E5ECF6",
            "gridcolor": "white",
            "gridwidth": 2,
            "linecolor": "white",
            "showbackground": true,
            "ticks": "",
            "zerolinecolor": "white"
           }
          },
          "shapedefaults": {
           "line": {
            "color": "#2a3f5f"
           }
          },
          "ternary": {
           "aaxis": {
            "gridcolor": "white",
            "linecolor": "white",
            "ticks": ""
           },
           "baxis": {
            "gridcolor": "white",
            "linecolor": "white",
            "ticks": ""
           },
           "bgcolor": "#E5ECF6",
           "caxis": {
            "gridcolor": "white",
            "linecolor": "white",
            "ticks": ""
           }
          },
          "title": {
           "x": 0.05
          },
          "xaxis": {
           "automargin": true,
           "gridcolor": "white",
           "linecolor": "white",
           "ticks": "",
           "title": {
            "standoff": 15
           },
           "zerolinecolor": "white",
           "zerolinewidth": 2
          },
          "yaxis": {
           "automargin": true,
           "gridcolor": "white",
           "linecolor": "white",
           "ticks": "",
           "title": {
            "standoff": 15
           },
           "zerolinecolor": "white",
           "zerolinewidth": 2
          }
         }
        },
        "title": {
         "text": "Valor Previsto vs. Valor Real das Ações do JPMorgan"
        },
        "xaxis": {
         "title": {
          "text": "Data"
         }
        },
        "yaxis": {
         "title": {
          "text": "Preço de fechamento ajustado"
         }
        }
       }
      }
     },
     "metadata": {},
     "output_type": "display_data"
    }
   ],
   "source": [
    "plot_multiples_time_series_line_graphs([results['Predicted'], results['Real']], \"Valor Previsto vs. Valor Real das Ações do JPMorgan\", \"Data\", \"Preço de fechamento ajustado\", f\"RMSE: {results['RMSE']:.4f}\")"
   ]
  },
  {
   "cell_type": "markdown",
   "metadata": {},
   "source": [
    "#### *Código para gráficos de risco*"
   ]
  },
  {
   "cell_type": "code",
   "execution_count": null,
   "metadata": {},
   "outputs": [],
   "source": [
    "import plotly.graph_objects as go\n",
    "\n",
    "# Funções para cálculo das métricas\n",
    "def calculate_sharpe_ratio(returns, risk_free_rate=0):\n",
    "    excess_returns = returns - risk_free_rate\n",
    "    return excess_returns.mean() / excess_returns.std() if excess_returns.std() != 0 else np.nan\n",
    "\n",
    "def calculate_var(returns, confidence_level=0.95):\n",
    "    return np.percentile(returns, (1 - confidence_level) * 100)\n",
    "\n",
    "def calculate_cvar(returns, confidence_level=0.95):\n",
    "    var = calculate_var(returns, confidence_level)\n",
    "    return returns[returns <= var].mean()\n",
    "\n",
    "# Parâmetros\n",
    "risk_free_rate = 0\n",
    "window_size = 6\n",
    "\n",
    "# Calculando as métricas ao longo do tempo usando uma janela móvel\n",
    "sharpe_ratios = average_monthly_results.rolling(window=window_size).apply(\n",
    "    lambda x: calculate_sharpe_ratio(x, risk_free_rate), raw=False\n",
    ")\n",
    "vars_95 = average_monthly_results.rolling(window=window_size).apply(\n",
    "    lambda x: calculate_var(x, confidence_level=0.95), raw=False\n",
    ")\n",
    "cvars_95 = average_monthly_results.rolling(window=window_size).apply(\n",
    "    lambda x: calculate_cvar(x, confidence_level=0.95), raw=False\n",
    ")\n",
    "\n",
    "# Calculando o Sharpe ratio para o S&P 500\n",
    "sp500_sharpe_ratios = sp500_index_period_returns.rolling(window=window_size).apply(\n",
    "    lambda x: calculate_sharpe_ratio(x, risk_free_rate), raw=False\n",
    ")\n",
    "\n",
    "# Calculando as médias\n",
    "mean_sharpe_ratio = sharpe_ratios.mean()\n",
    "mean_sp500_sharpe_ratio = sp500_sharpe_ratios.mean()\n",
    "mean_var = vars_95.mean()\n",
    "mean_cvar = cvars_95.mean()\n",
    "\n",
    "# Gráfico 1: Sharpe Ratio\n",
    "fig_sharpe = go.Figure()\n",
    "\n",
    "fig_sharpe.add_trace(go.Scatter(\n",
    "    x=average_monthly_results.index,\n",
    "    y=sharpe_ratios,\n",
    "    mode='lines',\n",
    "    name='Sharpe Ratio da Estratégia',\n",
    "    line=dict(color='blue', width=2)\n",
    "))\n",
    "\n",
    "fig_sharpe.add_trace(go.Scatter(\n",
    "    x=average_monthly_results.index,\n",
    "    y=sp500_sharpe_ratios,\n",
    "    mode='lines',\n",
    "    name='Sharpe Ratio do S&P 500',\n",
    "    line=dict(color='green', width=2)\n",
    "))\n",
    "\n",
    "fig_sharpe.add_trace(go.Scatter(\n",
    "    x=[average_monthly_results.index[0], average_monthly_results.index[-1]],\n",
    "    y=[mean_sharpe_ratio, mean_sharpe_ratio],\n",
    "    mode='lines',\n",
    "    name=f'Média Sharpe Ratio (Estratégia): {mean_sharpe_ratio:.2f}',\n",
    "    line=dict(color='blue', width=1, dash='dash')\n",
    "))\n",
    "\n",
    "fig_sharpe.add_trace(go.Scatter(\n",
    "    x=[average_monthly_results.index[0], average_monthly_results.index[-1]],\n",
    "    y=[mean_sp500_sharpe_ratio, mean_sp500_sharpe_ratio],\n",
    "    mode='lines',\n",
    "    name=f'Média Sharpe Ratio (S&P 500): {mean_sp500_sharpe_ratio:.2f}',\n",
    "    line=dict(color='green', width=1, dash='dash')\n",
    "))\n",
    "\n",
    "fig_sharpe.update_layout(\n",
    "    title=\"Sharpe Ratio da Estratégia Vs. Sharpe Ratio do S&P 500 ao longo do tempo\",\n",
    "    xaxis_title=\"Data\",\n",
    "    yaxis_title=\"Sharpe Ratio\",\n",
    "    template=\"plotly_white\",\n",
    "    legend=dict(x=0.02, y=0.98)\n",
    ")\n",
    "\n",
    "fig_sharpe.show()\n",
    "\n",
    "# Gráfico 2: VaR e CVaR\n",
    "fig_var_cvar = go.Figure()\n",
    "\n",
    "fig_var_cvar.add_trace(go.Scatter(\n",
    "    x=average_monthly_results.index,\n",
    "    y=vars_95,\n",
    "    mode='lines',\n",
    "    name='VaR (95%)',\n",
    "    line=dict(color='red', dash='dash', width=2)\n",
    "))\n",
    "\n",
    "fig_var_cvar.add_trace(go.Scatter(\n",
    "    x=average_monthly_results.index,\n",
    "    y=cvars_95,\n",
    "    mode='lines',\n",
    "    name='CVaR (95%)',\n",
    "    line=dict(color='purple', dash='dash', width=2)\n",
    "))\n",
    "\n",
    "fig_var_cvar.add_trace(go.Scatter(\n",
    "    x=[average_monthly_results.index[0], average_monthly_results.index[-1]],\n",
    "    y=[mean_var, mean_var],\n",
    "    mode='lines',\n",
    "    name=f'Média VaR (95%): {mean_var:.2f}',\n",
    "    line=dict(color='red', width=1)\n",
    "))\n",
    "\n",
    "fig_var_cvar.add_trace(go.Scatter(\n",
    "    x=[average_monthly_results.index[0], average_monthly_results.index[-1]],\n",
    "    y=[mean_cvar, mean_cvar],\n",
    "    mode='lines',\n",
    "    name=f'Média CVaR (95%): {mean_cvar:.2f}',\n",
    "    line=dict(color='purple', width=1)\n",
    "))\n",
    "\n",
    "fig_var_cvar.update_layout(\n",
    "    title=\"VaR e CVaR ao longo do tempo\",\n",
    "    xaxis_title=\"Data\",\n",
    "    yaxis_title=\"Valor em Risco\",\n",
    "    template=\"plotly_white\",\n",
    "    legend=dict(x=0.02, y=0.98)\n",
    ")\n",
    "\n",
    "fig_var_cvar.show()"
   ]
  }
 ],
 "metadata": {
  "kernelspec": {
   "display_name": "base",
   "language": "python",
   "name": "python3"
  },
  "language_info": {
   "codemirror_mode": {
    "name": "ipython",
    "version": 3
   },
   "file_extension": ".py",
   "mimetype": "text/x-python",
   "name": "python",
   "nbconvert_exporter": "python",
   "pygments_lexer": "ipython3",
   "version": "3.12.7"
  }
 },
 "nbformat": 4,
 "nbformat_minor": 2
}
