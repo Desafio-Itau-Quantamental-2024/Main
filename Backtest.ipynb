{
 "cells": [
  {
   "cell_type": "markdown",
   "metadata": {},
   "source": [
    "#### *Instalando as bibliotecas que serão necessárias*"
   ]
  },
  {
   "cell_type": "code",
   "execution_count": 1,
   "metadata": {},
   "outputs": [
    {
     "name": "stdout",
     "output_type": "stream",
     "text": [
      "Defaulting to user installation because normal site-packages is not writeable\n",
      "Requirement already satisfied: pandas in /home/user/.local/lib/python3.10/site-packages (2.0.3)\n",
      "Requirement already satisfied: numpy>=1.21.0 in /home/user/.local/lib/python3.10/site-packages (from pandas) (1.24.3)\n",
      "Requirement already satisfied: tzdata>=2022.1 in /home/user/.local/lib/python3.10/site-packages (from pandas) (2024.1)\n",
      "Requirement already satisfied: python-dateutil>=2.8.2 in /home/user/.local/lib/python3.10/site-packages (from pandas) (2.9.0.post0)\n",
      "Requirement already satisfied: pytz>=2020.1 in /home/user/.local/lib/python3.10/site-packages (from pandas) (2024.1)\n",
      "Requirement already satisfied: six>=1.5 in /usr/lib/python3/dist-packages (from python-dateutil>=2.8.2->pandas) (1.16.0)\n"
     ]
    }
   ],
   "source": [
    "# Instala a biblioteca \"pandas\" que será usada para manipulação de dados.\n",
    "!pip install pandas"
   ]
  },
  {
   "cell_type": "code",
   "execution_count": 2,
   "metadata": {},
   "outputs": [
    {
     "name": "stdout",
     "output_type": "stream",
     "text": [
      "Defaulting to user installation because normal site-packages is not writeable\n",
      "Requirement already satisfied: numpy in /home/user/.local/lib/python3.10/site-packages (1.24.3)\n"
     ]
    }
   ],
   "source": [
    "# Instala a biblioteca \"numpy\" que será usada para operações numéricas.\n",
    "!pip install numpy"
   ]
  },
  {
   "cell_type": "code",
   "execution_count": 3,
   "metadata": {},
   "outputs": [
    {
     "name": "stdout",
     "output_type": "stream",
     "text": [
      "Defaulting to user installation because normal site-packages is not writeable\n",
      "Requirement already satisfied: yfinance in /home/user/.local/lib/python3.10/site-packages (0.2.41)\n",
      "Requirement already satisfied: platformdirs>=2.0.0 in /home/user/.local/lib/python3.10/site-packages (from yfinance) (4.2.0)\n",
      "Requirement already satisfied: beautifulsoup4>=4.11.1 in /home/user/.local/lib/python3.10/site-packages (from yfinance) (4.12.3)\n",
      "Requirement already satisfied: html5lib>=1.1 in /home/user/.local/lib/python3.10/site-packages (from yfinance) (1.1)\n",
      "Requirement already satisfied: frozendict>=2.3.4 in /home/user/.local/lib/python3.10/site-packages (from yfinance) (2.4.4)\n",
      "Requirement already satisfied: pytz>=2022.5 in /home/user/.local/lib/python3.10/site-packages (from yfinance) (2024.1)\n",
      "Requirement already satisfied: peewee>=3.16.2 in /home/user/.local/lib/python3.10/site-packages (from yfinance) (3.17.6)\n",
      "Requirement already satisfied: numpy>=1.16.5 in /home/user/.local/lib/python3.10/site-packages (from yfinance) (1.24.3)\n",
      "Requirement already satisfied: pandas>=1.3.0 in /home/user/.local/lib/python3.10/site-packages (from yfinance) (2.0.3)\n",
      "Requirement already satisfied: multitasking>=0.0.7 in /home/user/.local/lib/python3.10/site-packages (from yfinance) (0.0.11)\n",
      "Requirement already satisfied: lxml>=4.9.1 in /home/user/.local/lib/python3.10/site-packages (from yfinance) (5.2.2)\n",
      "Requirement already satisfied: requests>=2.31 in /home/user/.local/lib/python3.10/site-packages (from yfinance) (2.31.0)\n",
      "Requirement already satisfied: soupsieve>1.2 in /home/user/.local/lib/python3.10/site-packages (from beautifulsoup4>=4.11.1->yfinance) (2.5)\n",
      "Requirement already satisfied: six>=1.9 in /usr/lib/python3/dist-packages (from html5lib>=1.1->yfinance) (1.16.0)\n",
      "Requirement already satisfied: webencodings in /home/user/.local/lib/python3.10/site-packages (from html5lib>=1.1->yfinance) (0.5.1)\n",
      "Requirement already satisfied: tzdata>=2022.1 in /home/user/.local/lib/python3.10/site-packages (from pandas>=1.3.0->yfinance) (2024.1)\n",
      "Requirement already satisfied: python-dateutil>=2.8.2 in /home/user/.local/lib/python3.10/site-packages (from pandas>=1.3.0->yfinance) (2.9.0.post0)\n",
      "Requirement already satisfied: certifi>=2017.4.17 in /usr/lib/python3/dist-packages (from requests>=2.31->yfinance) (2020.6.20)\n",
      "Requirement already satisfied: idna<4,>=2.5 in /usr/lib/python3/dist-packages (from requests>=2.31->yfinance) (3.3)\n",
      "Requirement already satisfied: charset-normalizer<4,>=2 in /home/user/.local/lib/python3.10/site-packages (from requests>=2.31->yfinance) (3.3.2)\n",
      "Requirement already satisfied: urllib3<3,>=1.21.1 in /usr/lib/python3/dist-packages (from requests>=2.31->yfinance) (1.26.5)\n"
     ]
    }
   ],
   "source": [
    "# Instala a biblioteca \"yfinance\" que será usada para obter dados financeiros.\n",
    "!pip install yfinance"
   ]
  },
  {
   "cell_type": "code",
   "execution_count": 4,
   "metadata": {},
   "outputs": [
    {
     "name": "stdout",
     "output_type": "stream",
     "text": [
      "Defaulting to user installation because normal site-packages is not writeable\n",
      "Requirement already satisfied: plotly in /home/user/.local/lib/python3.10/site-packages (5.23.0)\n",
      "Requirement already satisfied: packaging in /home/user/.local/lib/python3.10/site-packages (from plotly) (23.1)\n",
      "Requirement already satisfied: tenacity>=6.2.0 in /home/user/.local/lib/python3.10/site-packages (from plotly) (8.2.3)\n"
     ]
    }
   ],
   "source": [
    "# Instala a biblioteca \"plotly\" que será usada para a exibição de gráficos. \n",
    "!pip install plotly"
   ]
  },
  {
   "cell_type": "markdown",
   "metadata": {},
   "source": [
    "#### *Importando as bibliotecas que serão necessárias*"
   ]
  },
  {
   "cell_type": "code",
   "execution_count": 5,
   "metadata": {},
   "outputs": [
    {
     "name": "stderr",
     "output_type": "stream",
     "text": [
      "2024-11-14 22:55:25.072538: I external/local_xla/xla/tsl/cuda/cudart_stub.cc:32] Could not find cuda drivers on your machine, GPU will not be used.\n",
      "2024-11-14 22:55:25.332308: I external/local_xla/xla/tsl/cuda/cudart_stub.cc:32] Could not find cuda drivers on your machine, GPU will not be used.\n",
      "2024-11-14 22:55:25.684238: E external/local_xla/xla/stream_executor/cuda/cuda_fft.cc:485] Unable to register cuFFT factory: Attempting to register factory for plugin cuFFT when one has already been registered\n",
      "2024-11-14 22:55:25.877197: E external/local_xla/xla/stream_executor/cuda/cuda_dnn.cc:8454] Unable to register cuDNN factory: Attempting to register factory for plugin cuDNN when one has already been registered\n",
      "2024-11-14 22:55:25.928703: E external/local_xla/xla/stream_executor/cuda/cuda_blas.cc:1452] Unable to register cuBLAS factory: Attempting to register factory for plugin cuBLAS when one has already been registered\n",
      "2024-11-14 22:55:26.277262: I tensorflow/core/platform/cpu_feature_guard.cc:210] This TensorFlow binary is optimized to use available CPU instructions in performance-critical operations.\n",
      "To enable the following instructions: AVX2 FMA, in other operations, rebuild TensorFlow with the appropriate compiler flags.\n",
      "2024-11-14 22:55:29.228436: W tensorflow/compiler/tf2tensorrt/utils/py_utils.cc:38] TF-TRT Warning: Could not find TensorRT\n"
     ]
    }
   ],
   "source": [
    "# Importa a biblioteca \"pandas\", que será usada para manipulação de dados.\n",
    "import pandas as pd\n",
    "\n",
    "# Importa a biblioteca \"numpy\", que será usada para operações numéricas.\n",
    "import numpy as np\n",
    "\n",
    "# Importa a biblioteca \"yfinance\" para obter alguns dados de certas ações.\n",
    "import yfinance as yf\n",
    "\n",
    "# Importa o módulo \"graph_objects\" da biblioteca \"plotly\" para lidar com a exibição de gráficos.\n",
    "import plotly.graph_objects as go\n",
    "\n",
    "# Importa o módulo datetime da biblioteca \"datetime\" para lidar com datas.\n",
    "from datetime import datetime, timedelta\n",
    "\n",
    "# Importa a biblioteca \"math\" para lidar com certas operações matemáticas.\n",
    "import math\n",
    "\n",
    "# Importa o módulo Optional da biblioteca \"typing\" para lidar com a padronização dos tipos de parâmetros opcionais das funções.\n",
    "from typing import Optional\n",
    "\n",
    "# Importa a classe Ticker da \"biblioteca\" Ticker para lidar com ativos financeiros. \n",
    "from Ticker import Ticker\n",
    "\n",
    "# Importa a classe Model da \"biblioteca\" Model para lidar com redes neurais do tipo LSTM.\n",
    "from Model import Model\n",
    "\n",
    "# Importa o módulo MinMaxScaler da biblioteca \"sklearn\", que será utilizado para realizar a \"desnormalização\" \n",
    "# das variáveis target que foram usadas no modelo LSTM.\n",
    "from sklearn.preprocessing import MinMaxScaler\n",
    "\n",
    "#\n",
    "from scipy import stats\n"
   ]
  },
  {
   "cell_type": "markdown",
   "metadata": {},
   "source": [
    "#### *Definindo funções para processar os arquivos .xlsx*"
   ]
  },
  {
   "cell_type": "code",
   "execution_count": 6,
   "metadata": {},
   "outputs": [],
   "source": [
    "def process_file_and_get_results(filename: str) -> pd.DataFrame:\n",
    "    '''\n",
    "        Description:\n",
    "\n",
    "        Args:\n",
    "\n",
    "        Return:\n",
    "    '''\n",
    "\n",
    "    # Ler todas as planilhas do arquivo Excel\n",
    "    dfs = pd.read_excel(filename, sheet_name=None)\n",
    "    \n",
    "    #\n",
    "    first_trading_day = dfs['Período 1'][dfs['Período 1'].columns[0]][0].split(\" - \")[0]\n",
    "    #\n",
    "    first_trading_day = np.datetime64(first_trading_day)\n",
    "    \n",
    "    #\n",
    "    results = pd.DataFrame({\n",
    "        \"Retorno Long\": 0,\n",
    "        \"Retorno Short\": 0,\n",
    "        \"Retorno Total\": 0\n",
    "    }, index=[first_trading_day])\n",
    "    \n",
    "    # Acessar e trabalhar com cada DataFrame\n",
    "    for period, df in dfs.items():\n",
    "        if not df.empty:\n",
    "            #\n",
    "            period_last_trading_day = df[df.columns[0]][0].split(\" - \")[1]\n",
    "            #\n",
    "            period_last_trading_day = np.datetime64(period_last_trading_day)\n",
    "            #\n",
    "            tickers_to_trade = math.ceil(df.shape[0]*0.1)\n",
    "            #\n",
    "            period_long_return = df.iloc[:tickers_to_trade]['Retorno Real'].mean() # Trocar por um .sum() ?\n",
    "            #\n",
    "            period_short_return = df.iloc[df.shape[0] - tickers_to_trade:]['Retorno Real'].mean()\n",
    "            #\n",
    "            result = pd.DataFrame({\n",
    "                \"Retorno Long\": period_long_return,\n",
    "                \"Retorno Short\": period_short_return*(-1),\n",
    "                \"Retorno Total\": period_long_return + period_short_return*(-1)\n",
    "            },index=[period_last_trading_day])\n",
    "            #\n",
    "            results = pd.concat([results, result])\n",
    "    \n",
    "    return results\n",
    "            "
   ]
  },
  {
   "cell_type": "code",
   "execution_count": 7,
   "metadata": {},
   "outputs": [],
   "source": [
    "def process_files_and_get_results(filesname: list) -> list:\n",
    "    '''\n",
    "        Description:\n",
    "\n",
    "        Args:\n",
    "\n",
    "        Return:\n",
    "    '''\n",
    "    \n",
    "    #\n",
    "    results = []\n",
    "    \n",
    "    #\n",
    "    for xlsx_number, xlsx in enumerate(filesname):\n",
    "        #\n",
    "        result = process_file_and_get_results(xlsx)\n",
    "        #\n",
    "        result.name = f\"Retornos da Estratégia na Previsão {xlsx_number}\"\n",
    "        #\n",
    "        results.append(result)\n",
    "        \n",
    "    return results"
   ]
  },
  {
   "cell_type": "code",
   "execution_count": 8,
   "metadata": {},
   "outputs": [],
   "source": [
    "def get_average_result(results: list) -> pd.Series:\n",
    "    '''\n",
    "        Description:\n",
    "\n",
    "        Args:\n",
    "\n",
    "        Return:\n",
    "\n",
    "    '''\n",
    "    \n",
    "    # Garantir que todos os resultados em results tenham o mesmo tamanho (para poder inicializar o average_result).\n",
    "    \n",
    "    \n",
    "    average_result = np.zeros(len(results[0]))\n",
    "        \n",
    "    for result in results:\n",
    "        average_result += result\n",
    "    \n",
    "    average_result = average_result/len(results)\n",
    "    \n",
    "    average_result.name = \"Retornos da Estratégia\"\n",
    "    \n",
    "    return average_result"
   ]
  },
  {
   "cell_type": "code",
   "execution_count": 9,
   "metadata": {},
   "outputs": [],
   "source": [
    "def get_ticker_standardized_returns(symbol, reference_data, strategy_time_period: str, \n",
    "                                    standardized_returns_name=\"\", standardized_cumulative_returns_name=\"\") -> pd.Series:\n",
    "    '''\n",
    "        Description:\n",
    "\n",
    "        Args:\n",
    "\n",
    "        Return:\n",
    "    '''\n",
    "\n",
    "    #\n",
    "    period = 5 if (strategy_time_period == \"W\") else 20\n",
    "    #\n",
    "    periods_number = len(reference_data)\n",
    "    \n",
    "    #\n",
    "    result = np.zeros(periods_number)\n",
    "    \n",
    "    #\n",
    "    data_extraction_initial_day = reference_data.index[0]\n",
    "    #\n",
    "    data_extraction_final_day = reference_data.index[-1] + timedelta(1) # O time delta 1 é por que o yf não inclui o último dia de \n",
    "                                                                        # negociação passado como parâmetro. Logo, somando um timedelta(1),\n",
    "                                                                        # tal dia será incluido na extração de dados do S&P500 index.\n",
    "                                                                            \n",
    "    #\n",
    "    adj_close = yf.download(symbol, data_extraction_initial_day, data_extraction_final_day)['Adj Close']\n",
    "    \n",
    "    #\n",
    "    result[0] = np.log((adj_close[period - 1])/adj_close[0])*100\n",
    "    #\n",
    "    for period_number in range(1, periods_number):\n",
    "        #\n",
    "        result[period_number] = np.log((adj_close[(period)*period_number - 1 + (period)])/(adj_close[(period)*period_number]))*100\n",
    "        \n",
    "    #\n",
    "    result = pd.Series(result, reference_data.index)\n",
    "    #\n",
    "    cumulative_result = result.cumsum()\n",
    "    #\n",
    "    result.name = standardized_returns_name\n",
    "    #\n",
    "    cumulative_result.name = standardized_cumulative_returns_name\n",
    "    \n",
    "    return result, cumulative_result"
   ]
  },
  {
   "cell_type": "markdown",
   "metadata": {},
   "source": [
    "#### *Definindo algumas variáveis que serão importantes para a exibição de resultados*"
   ]
  },
  {
   "cell_type": "code",
   "execution_count": 10,
   "metadata": {},
   "outputs": [],
   "source": [
    "setup = {\n",
    "    #\n",
    "    \"monthly_results_sheets\": ['resultados_portfolio_mensal_full_1.xlsx', 'resultados_portfolio_mensal_full_2.xlsx',\n",
    "                               'resultados_portfolio_mensal_full_3.xlsx', 'resultados_portfolio_mensal_full_4.xlsx',\n",
    "                               'resultados_portfolio_mensal_full_5.xlsx'],\n",
    "    #\n",
    "    \"weekly_results_sheets\": ['resultados_portfolio_semanal_full_1.xlsx']\n",
    "}"
   ]
  },
  {
   "cell_type": "code",
   "execution_count": 11,
   "metadata": {},
   "outputs": [],
   "source": [
    "#\n",
    "monthly_all_results = process_files_and_get_results(setup['monthly_results_sheets'])"
   ]
  },
  {
   "cell_type": "code",
   "execution_count": 12,
   "metadata": {},
   "outputs": [
    {
     "data": {
      "text/plain": [
       "[            Retorno Long  Retorno Short  Retorno Total\n",
       " 2019-02-22      0.000000       0.000000       0.000000\n",
       " 2019-03-21      4.859427      -0.843110       4.016317\n",
       " 2019-04-18      4.864098       4.751421       9.615520\n",
       " 2019-05-17      5.933391       1.608149       7.541540\n",
       " 2019-06-17      5.581319       0.784655       6.365974\n",
       " ...                  ...            ...            ...\n",
       " 2023-08-31      1.373854       5.146577       6.520432\n",
       " 2023-09-29      2.502946       7.393518       9.896464\n",
       " 2023-10-27      4.109963       5.521749       9.631712\n",
       " 2023-11-27      6.950656       3.101948      10.052604\n",
       " 2023-12-26      7.329663       2.823899      10.153562\n",
       " \n",
       " [61 rows x 3 columns],\n",
       "             Retorno Long  Retorno Short  Retorno Total\n",
       " 2019-02-22      0.000000       0.000000       0.000000\n",
       " 2019-03-21      6.267345      -0.100725       6.166620\n",
       " 2019-04-18      4.779837       4.123900       8.903737\n",
       " 2019-05-17      5.699338       1.164150       6.863488\n",
       " 2019-06-17      5.581320      -0.360588       5.220733\n",
       " ...                  ...            ...            ...\n",
       " 2023-08-31      1.373857       5.146580       6.520437\n",
       " 2023-09-29      2.502941       7.054072       9.557013\n",
       " 2023-10-27      4.253324       5.521747       9.775071\n",
       " 2023-11-27      6.746918       1.786716       8.533635\n",
       " 2023-12-26      7.329658       3.541588      10.871246\n",
       " \n",
       " [61 rows x 3 columns],\n",
       "             Retorno Long  Retorno Short  Retorno Total\n",
       " 2019-02-22      0.000000       0.000000       0.000000\n",
       " 2019-03-21      5.314519      -0.100741       5.213778\n",
       " 2019-04-18      4.692802       3.467355       8.160157\n",
       " 2019-05-17      6.400990       1.834995       8.235985\n",
       " 2019-06-17      5.637725       0.784657       6.422383\n",
       " ...                  ...            ...            ...\n",
       " 2023-08-31      1.373850       5.146575       6.520425\n",
       " 2023-09-29      2.502945       7.393518       9.896462\n",
       " 2023-10-27      4.826801       6.032073      10.858874\n",
       " 2023-11-27      6.950660       3.101951      10.052611\n",
       " 2023-12-26      7.329661       3.125437      10.455097\n",
       " \n",
       " [61 rows x 3 columns],\n",
       "             Retorno Long  Retorno Short  Retorno Total\n",
       " 2019-02-22      0.000000       0.000000       0.000000\n",
       " 2019-03-21      6.597265      -0.100745       6.496520\n",
       " 2019-04-18      5.603096       4.751433      10.354528\n",
       " 2019-05-17      4.596370       1.841688       6.438058\n",
       " 2019-06-17      4.739016      -0.038713       4.700302\n",
       " ...                  ...            ...            ...\n",
       " 2023-08-31      1.328703       5.012453       6.341156\n",
       " 2023-09-29      2.502943       7.393509       9.896452\n",
       " 2023-10-27      4.253327       5.521753       9.775080\n",
       " 2023-11-27      6.950658       2.436738       9.387396\n",
       " 2023-12-26      7.329657       3.541581      10.871238\n",
       " \n",
       " [61 rows x 3 columns],\n",
       "             Retorno Long  Retorno Short  Retorno Total\n",
       " 2019-02-22      0.000000       0.000000       0.000000\n",
       " 2019-03-21      4.846456      -0.246316       4.600140\n",
       " 2019-04-18      5.954547       4.315852      10.270399\n",
       " 2019-05-17      6.646773       0.995059       7.641831\n",
       " 2019-06-17      4.920749       1.417364       6.338113\n",
       " ...                  ...            ...            ...\n",
       " 2023-08-31      1.373853       5.146578       6.520430\n",
       " 2023-09-29      2.502946       7.393514       9.896459\n",
       " 2023-10-27      4.379042       8.112374      12.491416\n",
       " 2023-11-27      8.052742       2.436738      10.489480\n",
       " 2023-12-26      8.367501       2.217077      10.584578\n",
       " \n",
       " [61 rows x 3 columns]]"
      ]
     },
     "execution_count": 12,
     "metadata": {},
     "output_type": "execute_result"
    }
   ],
   "source": [
    "monthly_all_results"
   ]
  },
  {
   "cell_type": "code",
   "execution_count": 13,
   "metadata": {},
   "outputs": [],
   "source": [
    "monthly_results = [element['Retorno Total'] for element in monthly_all_results]\n",
    "\n",
    "for index, result  in enumerate(monthly_results): \n",
    "    result.name = f\"Retornos da Estratégia na Previsão {index}\""
   ]
  },
  {
   "cell_type": "code",
   "execution_count": 14,
   "metadata": {},
   "outputs": [
    {
     "data": {
      "text/plain": [
       "[2019-02-22     0.000000\n",
       " 2019-03-21     4.016317\n",
       " 2019-04-18     9.615520\n",
       " 2019-05-17     7.541540\n",
       " 2019-06-17     6.365974\n",
       "                 ...    \n",
       " 2023-08-31     6.520432\n",
       " 2023-09-29     9.896464\n",
       " 2023-10-27     9.631712\n",
       " 2023-11-27    10.052604\n",
       " 2023-12-26    10.153562\n",
       " Name: Retornos da Estratégia na Previsão 0, Length: 61, dtype: float64,\n",
       " 2019-02-22     0.000000\n",
       " 2019-03-21     6.166620\n",
       " 2019-04-18     8.903737\n",
       " 2019-05-17     6.863488\n",
       " 2019-06-17     5.220733\n",
       "                 ...    \n",
       " 2023-08-31     6.520437\n",
       " 2023-09-29     9.557013\n",
       " 2023-10-27     9.775071\n",
       " 2023-11-27     8.533635\n",
       " 2023-12-26    10.871246\n",
       " Name: Retornos da Estratégia na Previsão 1, Length: 61, dtype: float64,\n",
       " 2019-02-22     0.000000\n",
       " 2019-03-21     5.213778\n",
       " 2019-04-18     8.160157\n",
       " 2019-05-17     8.235985\n",
       " 2019-06-17     6.422383\n",
       "                 ...    \n",
       " 2023-08-31     6.520425\n",
       " 2023-09-29     9.896462\n",
       " 2023-10-27    10.858874\n",
       " 2023-11-27    10.052611\n",
       " 2023-12-26    10.455097\n",
       " Name: Retornos da Estratégia na Previsão 2, Length: 61, dtype: float64,\n",
       " 2019-02-22     0.000000\n",
       " 2019-03-21     6.496520\n",
       " 2019-04-18    10.354528\n",
       " 2019-05-17     6.438058\n",
       " 2019-06-17     4.700302\n",
       "                 ...    \n",
       " 2023-08-31     6.341156\n",
       " 2023-09-29     9.896452\n",
       " 2023-10-27     9.775080\n",
       " 2023-11-27     9.387396\n",
       " 2023-12-26    10.871238\n",
       " Name: Retornos da Estratégia na Previsão 3, Length: 61, dtype: float64,\n",
       " 2019-02-22     0.000000\n",
       " 2019-03-21     4.600140\n",
       " 2019-04-18    10.270399\n",
       " 2019-05-17     7.641831\n",
       " 2019-06-17     6.338113\n",
       "                 ...    \n",
       " 2023-08-31     6.520430\n",
       " 2023-09-29     9.896459\n",
       " 2023-10-27    12.491416\n",
       " 2023-11-27    10.489480\n",
       " 2023-12-26    10.584578\n",
       " Name: Retornos da Estratégia na Previsão 4, Length: 61, dtype: float64]"
      ]
     },
     "execution_count": 14,
     "metadata": {},
     "output_type": "execute_result"
    }
   ],
   "source": [
    "monthly_results"
   ]
  },
  {
   "cell_type": "code",
   "execution_count": 15,
   "metadata": {},
   "outputs": [],
   "source": [
    "#\n",
    "weekly_results = process_file_and_get_results(setup['weekly_results_sheets'][0]) # O .xlsx semanal é processado desse jeito pois, por hora,\n",
    "                                                                                 # só possuímos 1 dele."
   ]
  },
  {
   "cell_type": "code",
   "execution_count": 16,
   "metadata": {},
   "outputs": [],
   "source": [
    "#\n",
    "average_monthly_results = get_average_result(monthly_results)"
   ]
  },
  {
   "cell_type": "code",
   "execution_count": 17,
   "metadata": {},
   "outputs": [
    {
     "data": {
      "text/plain": [
       "619.0030838362336"
      ]
     },
     "execution_count": 17,
     "metadata": {},
     "output_type": "execute_result"
    }
   ],
   "source": [
    "average_monthly_results.sum()"
   ]
  },
  {
   "cell_type": "code",
   "execution_count": 18,
   "metadata": {},
   "outputs": [
    {
     "name": "stderr",
     "output_type": "stream",
     "text": [
      "[*********************100%%**********************]  1 of 1 completed\n"
     ]
    }
   ],
   "source": [
    "# Posso usar qualquer \"result\" em \"results\" como reference_data, já que, ambos \"result\" possuem as mesmas datas como índices.\n",
    "\n",
    "sp500_index_period_returns, sp500_index_cumulative_returns = get_ticker_standardized_returns('^GSPC', monthly_results[0], \"M\",\n",
    "                                                                                             \"Retornos do S&P500 Index\",\n",
    "                                                                                             \"Retorno Acumulado do S&P500 Index\")"
   ]
  },
  {
   "cell_type": "code",
   "execution_count": 19,
   "metadata": {},
   "outputs": [],
   "source": [
    "\n",
    "# Exemplo de como exportar para um arquivo Excel com duas planilhas\n",
    "with pd.ExcelWriter('sp500_returns.xlsx') as writer:\n",
    "    sp500_index_period_returns.to_excel(writer, sheet_name='Period Returns')\n",
    "    sp500_index_cumulative_returns.to_excel(writer, sheet_name='Cumulative Returns')\n"
   ]
  },
  {
   "cell_type": "markdown",
   "metadata": {},
   "source": [
    "#### *Exibindo e explicando as variáveis definidas na seção anterior*"
   ]
  },
  {
   "cell_type": "code",
   "execution_count": 20,
   "metadata": {},
   "outputs": [
    {
     "data": {
      "text/plain": [
       "2019-02-22     0.000000\n",
       "2019-03-21     4.016317\n",
       "2019-04-18     9.615520\n",
       "2019-05-17     7.541540\n",
       "2019-06-17     6.365974\n",
       "                ...    \n",
       "2023-08-31     6.520432\n",
       "2023-09-29     9.896464\n",
       "2023-10-27     9.631712\n",
       "2023-11-27    10.052604\n",
       "2023-12-26    10.153562\n",
       "Name: Retornos da Estratégia na Previsão 0, Length: 61, dtype: float64"
      ]
     },
     "execution_count": 20,
     "metadata": {},
     "output_type": "execute_result"
    }
   ],
   "source": [
    "#\n",
    "monthly_results[0]"
   ]
  },
  {
   "cell_type": "code",
   "execution_count": 21,
   "metadata": {},
   "outputs": [
    {
     "data": {
      "text/plain": [
       "2019-02-22     0.000000\n",
       "2019-03-21     4.016317\n",
       "2019-04-18     9.615520\n",
       "2019-05-17     7.541540\n",
       "2019-06-17     6.365974\n",
       "                ...    \n",
       "2023-08-31     6.520432\n",
       "2023-09-29     9.896464\n",
       "2023-10-27     9.631712\n",
       "2023-11-27    10.052604\n",
       "2023-12-26    10.153562\n",
       "Name: Retornos da Estratégia na Previsão 0, Length: 61, dtype: float64"
      ]
     },
     "execution_count": 21,
     "metadata": {},
     "output_type": "execute_result"
    }
   ],
   "source": [
    "#\n",
    "monthly_results[0]"
   ]
  },
  {
   "cell_type": "code",
   "execution_count": 22,
   "metadata": {},
   "outputs": [
    {
     "data": {
      "text/plain": [
       "2019-02-22     0.000000\n",
       "2019-03-21     5.298675\n",
       "2019-04-18     9.460868\n",
       "2019-05-17     7.344180\n",
       "2019-06-17     5.809501\n",
       "                ...    \n",
       "2023-08-31     6.484576\n",
       "2023-09-29     9.828570\n",
       "2023-10-27    10.506431\n",
       "2023-11-27     9.703145\n",
       "2023-12-26    10.587144\n",
       "Name: Retornos da Estratégia, Length: 61, dtype: float64"
      ]
     },
     "execution_count": 22,
     "metadata": {},
     "output_type": "execute_result"
    }
   ],
   "source": [
    "#\n",
    "average_monthly_results"
   ]
  },
  {
   "cell_type": "code",
   "execution_count": 23,
   "metadata": {},
   "outputs": [
    {
     "data": {
      "text/html": [
       "<div>\n",
       "<style scoped>\n",
       "    .dataframe tbody tr th:only-of-type {\n",
       "        vertical-align: middle;\n",
       "    }\n",
       "\n",
       "    .dataframe tbody tr th {\n",
       "        vertical-align: top;\n",
       "    }\n",
       "\n",
       "    .dataframe thead th {\n",
       "        text-align: right;\n",
       "    }\n",
       "</style>\n",
       "<table border=\"1\" class=\"dataframe\">\n",
       "  <thead>\n",
       "    <tr style=\"text-align: right;\">\n",
       "      <th></th>\n",
       "      <th>Retorno Long</th>\n",
       "      <th>Retorno Short</th>\n",
       "      <th>Retorno Total</th>\n",
       "    </tr>\n",
       "  </thead>\n",
       "  <tbody>\n",
       "    <tr>\n",
       "      <th>2019-01-31</th>\n",
       "      <td>0.000000</td>\n",
       "      <td>0.000000</td>\n",
       "      <td>0.000000</td>\n",
       "    </tr>\n",
       "    <tr>\n",
       "      <th>2019-02-06</th>\n",
       "      <td>-0.119412</td>\n",
       "      <td>-0.041951</td>\n",
       "      <td>-0.161363</td>\n",
       "    </tr>\n",
       "    <tr>\n",
       "      <th>2019-02-13</th>\n",
       "      <td>-0.023905</td>\n",
       "      <td>-0.602488</td>\n",
       "      <td>-0.626393</td>\n",
       "    </tr>\n",
       "    <tr>\n",
       "      <th>2019-02-21</th>\n",
       "      <td>0.110191</td>\n",
       "      <td>-0.923267</td>\n",
       "      <td>-0.813076</td>\n",
       "    </tr>\n",
       "    <tr>\n",
       "      <th>2019-02-28</th>\n",
       "      <td>0.447097</td>\n",
       "      <td>-0.148401</td>\n",
       "      <td>0.298696</td>\n",
       "    </tr>\n",
       "    <tr>\n",
       "      <th>...</th>\n",
       "      <td>...</td>\n",
       "      <td>...</td>\n",
       "      <td>...</td>\n",
       "    </tr>\n",
       "    <tr>\n",
       "      <th>2023-11-27</th>\n",
       "      <td>-0.243826</td>\n",
       "      <td>0.328808</td>\n",
       "      <td>0.084982</td>\n",
       "    </tr>\n",
       "    <tr>\n",
       "      <th>2023-12-04</th>\n",
       "      <td>0.677020</td>\n",
       "      <td>0.079925</td>\n",
       "      <td>0.756945</td>\n",
       "    </tr>\n",
       "    <tr>\n",
       "      <th>2023-12-11</th>\n",
       "      <td>0.474322</td>\n",
       "      <td>-0.504968</td>\n",
       "      <td>-0.030646</td>\n",
       "    </tr>\n",
       "    <tr>\n",
       "      <th>2023-12-18</th>\n",
       "      <td>-0.061220</td>\n",
       "      <td>-0.433529</td>\n",
       "      <td>-0.494749</td>\n",
       "    </tr>\n",
       "    <tr>\n",
       "      <th>2023-12-26</th>\n",
       "      <td>0.507751</td>\n",
       "      <td>0.080631</td>\n",
       "      <td>0.588381</td>\n",
       "    </tr>\n",
       "  </tbody>\n",
       "</table>\n",
       "<p>244 rows × 3 columns</p>\n",
       "</div>"
      ],
      "text/plain": [
       "            Retorno Long  Retorno Short  Retorno Total\n",
       "2019-01-31      0.000000       0.000000       0.000000\n",
       "2019-02-06     -0.119412      -0.041951      -0.161363\n",
       "2019-02-13     -0.023905      -0.602488      -0.626393\n",
       "2019-02-21      0.110191      -0.923267      -0.813076\n",
       "2019-02-28      0.447097      -0.148401       0.298696\n",
       "...                  ...            ...            ...\n",
       "2023-11-27     -0.243826       0.328808       0.084982\n",
       "2023-12-04      0.677020       0.079925       0.756945\n",
       "2023-12-11      0.474322      -0.504968      -0.030646\n",
       "2023-12-18     -0.061220      -0.433529      -0.494749\n",
       "2023-12-26      0.507751       0.080631       0.588381\n",
       "\n",
       "[244 rows x 3 columns]"
      ]
     },
     "execution_count": 23,
     "metadata": {},
     "output_type": "execute_result"
    }
   ],
   "source": [
    "#\n",
    "weekly_results"
   ]
  },
  {
   "cell_type": "code",
   "execution_count": 24,
   "metadata": {},
   "outputs": [
    {
     "data": {
      "text/plain": [
       "2019-02-22     0.000000\n",
       "2019-03-21     4.016317\n",
       "2019-04-18     9.615520\n",
       "2019-05-17     7.541540\n",
       "2019-06-17     6.365974\n",
       "                ...    \n",
       "2023-08-31     6.520432\n",
       "2023-09-29     9.896464\n",
       "2023-10-27     9.631712\n",
       "2023-11-27    10.052604\n",
       "2023-12-26    10.153562\n",
       "Name: Retornos da Estratégia na Previsão 0, Length: 61, dtype: float64"
      ]
     },
     "execution_count": 24,
     "metadata": {},
     "output_type": "execute_result"
    }
   ],
   "source": [
    "#\n",
    "monthly_results[0]"
   ]
  },
  {
   "cell_type": "code",
   "execution_count": 25,
   "metadata": {},
   "outputs": [
    {
     "data": {
      "text/plain": [
       "2019-02-22    2.203167\n",
       "2019-03-21    3.657078\n",
       "2019-04-18   -1.679795\n",
       "2019-05-17    1.725725\n",
       "2019-06-17    2.914529\n",
       "                ...   \n",
       "2023-08-31    0.659504\n",
       "2023-09-29   -5.174368\n",
       "2023-10-27   -4.069676\n",
       "2023-11-27    8.806866\n",
       "2023-12-26    4.714021\n",
       "Name: Retornos do S&P500 Index, Length: 61, dtype: float64"
      ]
     },
     "execution_count": 25,
     "metadata": {},
     "output_type": "execute_result"
    }
   ],
   "source": [
    "#\n",
    "sp500_index_period_returns"
   ]
  },
  {
   "cell_type": "code",
   "execution_count": 26,
   "metadata": {},
   "outputs": [
    {
     "data": {
      "text/plain": [
       "2019-02-22     2.203167\n",
       "2019-03-21     5.860246\n",
       "2019-04-18     4.180451\n",
       "2019-05-17     5.906176\n",
       "2019-06-17     8.820705\n",
       "                ...    \n",
       "2023-08-31    52.594225\n",
       "2023-09-29    47.419857\n",
       "2023-10-27    43.350180\n",
       "2023-11-27    52.157046\n",
       "2023-12-26    56.871067\n",
       "Name: Retorno Acumulado do S&P500 Index, Length: 61, dtype: float64"
      ]
     },
     "execution_count": 26,
     "metadata": {},
     "output_type": "execute_result"
    }
   ],
   "source": [
    "#\n",
    "sp500_index_cumulative_returns"
   ]
  },
  {
   "cell_type": "markdown",
   "metadata": {},
   "source": [
    "#### *Definindo algumas funções que serão úteis para plotar gráficos*"
   ]
  },
  {
   "cell_type": "code",
   "execution_count": 27,
   "metadata": {},
   "outputs": [],
   "source": [
    "def plot_time_serie_line_graph(serie: pd.Series, serie_title: Optional[str] = \"\", serie_xaxis_title: Optional[str] = \"\", \n",
    "                               serie_yaxis_title: Optional[str] = \"\", annotation_text: Optional[str] = \"\") -> None:\n",
    "    '''\n",
    "        Description:\n",
    "            Essa função é responsável por realizar o plot de uma série temporal.\n",
    "        Args:\n",
    "            serie (pd.Series): Série temporal cujos dados serão utilizados para o plot. Os valores de tal série temporal estarão no eixo y,\n",
    "            enquanto os índices dessa série estarão no eixo x.\n",
    "            title (string):\n",
    "            xaxis_title (string):\n",
    "            yaxis_title (string):\n",
    "            \n",
    "        Return:\n",
    "            Essa função plota a série temporal, mas não retorna nada.\n",
    "    '''\n",
    "    \n",
    "    # Cria a figure onde a série temporal em questão será plotada.\n",
    "    fig = go.Figure()\n",
    "    \n",
    "    # Adiciona o gráfico da série temporal em questão ao plot.\n",
    "    fig.add_trace(go.Scatter(\n",
    "        # Define os valores do eixo x do plot.\n",
    "        x = serie.index,\n",
    "        # Define os valores do eixo y do plot.\n",
    "        y = serie.values,\n",
    "        # Define o tipo do gráfico que será plotado.\n",
    "        mode = \"lines\"\n",
    "    ))\n",
    "        \n",
    "    # Adiciona a anotação ao gráfico\n",
    "    fig.add_annotation(\n",
    "        x=1, y=1, \n",
    "        text=annotation_text, \n",
    "        showarrow=False, \n",
    "        font=dict(size=12, color=\"black\"), \n",
    "        align=\"center\", \n",
    "        xref=\"paper\", yref=\"paper\", \n",
    "        bgcolor=\"white\", opacity=0.7\n",
    "    )\n",
    "    \n",
    "    # Adiciona algumas legendas ao plot.\n",
    "    fig.update_layout(\n",
    "        # Adiciona um título ao plot.\n",
    "        title = serie_title,\n",
    "        # Adiciona uma legenda ao eixo x do plot.\n",
    "        xaxis_title = serie_xaxis_title,\n",
    "        # Adiciona uma legenda ao eixo y do plot.\n",
    "        yaxis_title = serie_yaxis_title\n",
    "    )\n",
    "    \n",
    "    # Exibe o plot criado.\n",
    "    fig.show()"
   ]
  },
  {
   "cell_type": "code",
   "execution_count": 28,
   "metadata": {},
   "outputs": [],
   "source": [
    "def plot_multiples_time_series_line_graphs(data_list: list, serie_title: Optional[str] = \"\", serie_xaxis_title: Optional[str] = \"\", \n",
    "                               serie_yaxis_title: Optional[str] = \"\", annotation_text: Optional[str] = \"\") -> None:\n",
    "    '''\n",
    "        Description:\n",
    "            Esta função exibe em um mesmo plot múltiplos gráficos de séries temporais. \n",
    "        Args:\n",
    "            data_list (list): Lista contendo as séries temporais cujos gráficos serão exibidos no plot. Os valores de tais séries temporais\n",
    "                              estarão no eixo y, enquanto os índices dessas séries estarão no eixo x.\n",
    "            title (string) [Optional]: Título do plot.\n",
    "            xaxis_title (string) [Optional]: Título do eixo x do plot.\n",
    "            yaxis_title (string) [Optional]: Título do eixo y do plot.\n",
    "        Return:\n",
    "            None: A função exibe os gráficos, mas não retorna nenhum valor.  \n",
    "        Errors:\n",
    "            TypeError: É esperado que todas os elementos da lista \"data_list\" sejam objetos do tipo pd.Series, isto é, que sejam séries temporais.\n",
    "            ValueError: É esperado que todas as séries temporais presentes na variável \"data_list\" possuam os mesmos índices. \n",
    "            TypeError: É esperado que todas as séries temporais presentes na variável data_list possuam um atributo \"name\".\n",
    "    '''    \n",
    "\n",
    "    # Verifica se todos os elementos presentes na lista \"data_list\" são séries temporais.\n",
    "    are_all_data_time_series = all(isinstance(df, pd.Series) for df in data_list)\n",
    "    \n",
    "    # Retorna um erro caso algum dos dados presentes na variável \"data_list\" não seja uma série temporal\n",
    "    if not are_all_data_time_series:\n",
    "        raise TypeError(\"Todos os dados presentes no parâmetro 'data_list' devem ser séries temporais.\")\n",
    "    \n",
    "    # Verifica se as séries temporais presentes na variável \"data_list\" possuem os mesmos índices.\n",
    "    are_all_index_equal = all(df.index.equals(data_list[0].index) for df in data_list)\n",
    "    \n",
    "    # Retorna um erro caso as séries temporais possuam índices diferentes.\n",
    "    if not are_all_index_equal:\n",
    "        raise ValueError(\"Todos as séries temporais devem possuir os mesmos índices.\")\n",
    "    \n",
    "    # Verifica se todas as séries temporais presentes na variável \"data_list\" possuem o atributo \"name\".\n",
    "    all_time_series_have_names = all(hasattr(df,\"name\") for df in data_list)\n",
    "    \n",
    "    # Retorna um erro caso uma das séries temporais presentes na variável \"data_list\" não possua o atributo \"name\".\n",
    "    if not all_time_series_have_names:\n",
    "        raise TypeError(\"Todas as séries temporais devem possuir o atributo 'name'\")\n",
    "    \n",
    "    # Cria uma lista de timestamps que representará o eixo x do gráfico que será plotado.\n",
    "    x_axis = data_list[0].index.tolist() # Observe que só podemos fazer isso pois temos certeza que todas as séries temporais possuem os mesmos índices.\n",
    "    # Cria a figura onde será plotado o gráfico.\n",
    "    fig = go.Figure()\n",
    "\n",
    "    # Adiciona cada série temporal ao gráfico.\n",
    "    for time_serie in data_list:\n",
    "        # Plota o gráfico (Data x Valor da Ação) do ticker em questão.\n",
    "        fig.add_trace(go.Scatter(x=x_axis, y=time_serie.values, mode=\"lines\", name=time_serie.name))\n",
    "    \n",
    "    # Adiciona a anotação ao gráfico\n",
    "    fig.add_annotation(\n",
    "        x=1, y=1, \n",
    "        text=annotation_text, \n",
    "        showarrow=False, \n",
    "        font=dict(size=12, color=\"black\"), \n",
    "        align=\"center\", \n",
    "        xref=\"paper\", yref=\"paper\", \n",
    "        bgcolor=\"white\", opacity=0.7\n",
    "    )\n",
    "    \n",
    "    # Atualiza o layout para permitir destaque ao clicar na legenda.\n",
    "    fig.update_layout(\n",
    "        # Seta um título para o plot.\n",
    "        title=serie_title,\n",
    "        # Seta um título para o eixo x do plot.\n",
    "        xaxis_title=serie_xaxis_title,\n",
    "        # Seta um título para o eixo y do plot.\n",
    "        yaxis_title=serie_yaxis_title,   \n",
    "        #\n",
    "        legend=dict(\n",
    "            x=0.005,  # Posição horizontal dentro do gráfico (0 = esquerda, 1 = direita)\n",
    "            y=0.995,  # Posição vertical dentro do gráfico (0 = inferior, 1 = superior)\n",
    "            traceorder='normal',  # Ordem de exibição das linhas\n",
    "        )\n",
    "    )\n",
    "\n",
    "    # Exibe o gráfico criado.\n",
    "    fig.show()"
   ]
  },
  {
   "cell_type": "markdown",
   "metadata": {},
   "source": [
    "#### ***Exibindo os Resultados***"
   ]
  },
  {
   "cell_type": "markdown",
   "metadata": {},
   "source": [
    "##### **Retornos Mensais da Estratégia Vs. Retornos Mensais do S&P500 Index**"
   ]
  },
  {
   "cell_type": "code",
   "execution_count": 29,
   "metadata": {},
   "outputs": [
    {
     "data": {
      "application/vnd.plotly.v1+json": {
       "config": {
        "plotlyServerURL": "https://plot.ly"
       },
       "data": [
        {
         "mode": "lines",
         "name": "Retornos da Estratégia",
         "type": "scatter",
         "x": [
          "2019-02-22T00:00:00",
          "2019-03-21T00:00:00",
          "2019-04-18T00:00:00",
          "2019-05-17T00:00:00",
          "2019-06-17T00:00:00",
          "2019-07-16T00:00:00",
          "2019-08-13T00:00:00",
          "2019-09-11T00:00:00",
          "2019-10-09T00:00:00",
          "2019-11-06T00:00:00",
          "2019-12-05T00:00:00",
          "2020-01-06T00:00:00",
          "2020-02-04T00:00:00",
          "2020-03-04T00:00:00",
          "2020-04-30T00:00:00",
          "2020-05-29T00:00:00",
          "2020-06-26T00:00:00",
          "2020-07-27T00:00:00",
          "2020-08-24T00:00:00",
          "2020-09-22T00:00:00",
          "2020-10-20T00:00:00",
          "2020-11-17T00:00:00",
          "2020-12-16T00:00:00",
          "2021-01-15T00:00:00",
          "2021-02-16T00:00:00",
          "2021-03-16T00:00:00",
          "2021-04-14T00:00:00",
          "2021-05-12T00:00:00",
          "2021-06-10T00:00:00",
          "2021-07-09T00:00:00",
          "2021-08-06T00:00:00",
          "2021-09-03T00:00:00",
          "2021-10-04T00:00:00",
          "2021-11-01T00:00:00",
          "2021-11-30T00:00:00",
          "2021-12-29T00:00:00",
          "2022-01-27T00:00:00",
          "2022-02-25T00:00:00",
          "2022-03-25T00:00:00",
          "2022-04-25T00:00:00",
          "2022-05-23T00:00:00",
          "2022-06-22T00:00:00",
          "2022-07-21T00:00:00",
          "2022-08-18T00:00:00",
          "2022-09-16T00:00:00",
          "2022-10-14T00:00:00",
          "2022-11-11T00:00:00",
          "2022-12-12T00:00:00",
          "2023-01-11T00:00:00",
          "2023-02-09T00:00:00",
          "2023-03-10T00:00:00",
          "2023-04-10T00:00:00",
          "2023-05-08T00:00:00",
          "2023-06-06T00:00:00",
          "2023-07-06T00:00:00",
          "2023-08-03T00:00:00",
          "2023-08-31T00:00:00",
          "2023-09-29T00:00:00",
          "2023-10-27T00:00:00",
          "2023-11-27T00:00:00",
          "2023-12-26T00:00:00"
         ],
         "y": [
          0,
          5.29867507239607,
          9.460868139379281,
          7.344180407410411,
          5.809501063855595,
          9.261593842778392,
          12.095217876070553,
          10.872265138661385,
          8.240552452319957,
          12.958948288602567,
          7.7497291961452675,
          6.941502712481824,
          8.455660438055569,
          10.943851516030874,
          11.328954670223036,
          10.519333963491663,
          18.267376527612026,
          20.853321078926804,
          12.011198944302622,
          10.459144810718145,
          14.785741224436336,
          13.562677735484296,
          8.793466312834672,
          13.030784625334212,
          15.257272517456778,
          9.667006560688305,
          6.508185077136536,
          9.863549734306247,
          10.712365959435436,
          9.767777854719132,
          7.701498226255188,
          6.9895691784909815,
          8.014086735395333,
          8.730191284035444,
          6.947557877101258,
          6.8990212218443165,
          16.30497602035046,
          11.526213694221813,
          5.126830065247681,
          8.74876047152959,
          14.872167932558437,
          14.830243755335738,
          12.304327149504125,
          11.971420203008488,
          7.46361606417584,
          15.808536766497673,
          17.52143244521782,
          10.229453197511573,
          6.167350507211428,
          11.420916511919597,
          9.977737834807531,
          5.3502396347013015,
          9.680995649550438,
          9.854226986829422,
          6.790508659086673,
          9.840635926995237,
          6.4845758865699406,
          9.828570135210194,
          10.506430646996801,
          9.70314513321298,
          10.587144293566414
         ]
        },
        {
         "mode": "lines",
         "name": "Retornos do S&P500 Index",
         "type": "scatter",
         "x": [
          "2019-02-22T00:00:00",
          "2019-03-21T00:00:00",
          "2019-04-18T00:00:00",
          "2019-05-17T00:00:00",
          "2019-06-17T00:00:00",
          "2019-07-16T00:00:00",
          "2019-08-13T00:00:00",
          "2019-09-11T00:00:00",
          "2019-10-09T00:00:00",
          "2019-11-06T00:00:00",
          "2019-12-05T00:00:00",
          "2020-01-06T00:00:00",
          "2020-02-04T00:00:00",
          "2020-03-04T00:00:00",
          "2020-04-30T00:00:00",
          "2020-05-29T00:00:00",
          "2020-06-26T00:00:00",
          "2020-07-27T00:00:00",
          "2020-08-24T00:00:00",
          "2020-09-22T00:00:00",
          "2020-10-20T00:00:00",
          "2020-11-17T00:00:00",
          "2020-12-16T00:00:00",
          "2021-01-15T00:00:00",
          "2021-02-16T00:00:00",
          "2021-03-16T00:00:00",
          "2021-04-14T00:00:00",
          "2021-05-12T00:00:00",
          "2021-06-10T00:00:00",
          "2021-07-09T00:00:00",
          "2021-08-06T00:00:00",
          "2021-09-03T00:00:00",
          "2021-10-04T00:00:00",
          "2021-11-01T00:00:00",
          "2021-11-30T00:00:00",
          "2021-12-29T00:00:00",
          "2022-01-27T00:00:00",
          "2022-02-25T00:00:00",
          "2022-03-25T00:00:00",
          "2022-04-25T00:00:00",
          "2022-05-23T00:00:00",
          "2022-06-22T00:00:00",
          "2022-07-21T00:00:00",
          "2022-08-18T00:00:00",
          "2022-09-16T00:00:00",
          "2022-10-14T00:00:00",
          "2022-11-11T00:00:00",
          "2022-12-12T00:00:00",
          "2023-01-11T00:00:00",
          "2023-02-09T00:00:00",
          "2023-03-10T00:00:00",
          "2023-04-10T00:00:00",
          "2023-05-08T00:00:00",
          "2023-06-06T00:00:00",
          "2023-07-06T00:00:00",
          "2023-08-03T00:00:00",
          "2023-08-31T00:00:00",
          "2023-09-29T00:00:00",
          "2023-10-27T00:00:00",
          "2023-11-27T00:00:00",
          "2023-12-26T00:00:00"
         ],
         "y": [
          2.203167016955355,
          3.6570784839232706,
          -1.6797947266550932,
          1.7257253784573794,
          2.9145291085460574,
          -1.9659712631527295,
          5.490688600501024,
          -3.04191518633287,
          4.611032041784017,
          1.0398942165059932,
          3.1406565876359553,
          1.8489365969256006,
          -6.330832403896731,
          -20.214003817031237,
          14.19945444360034,
          7.274674396387298,
          -1.5394079670934353,
          5.918786865844358,
          6.403662603856873,
          -3.7893702514698737,
          6.175583484835031,
          4.93976209812391,
          3.6702597340330865,
          1.2220595127124094,
          3.458410389814939,
          0.795031389352416,
          3.718026059188602,
          -2.608525991678831,
          3.0338779688359843,
          2.8343549565653663,
          1.176507276972257,
          2.2989996432413284,
          -4.9796598819998525,
          5.983211666659955,
          -1.3840691721496063,
          6.0198057834731165,
          -9.941365851047877,
          -1.070734333560089,
          3.79366153760596,
          -6.3008040684506605,
          -4.945207488338616,
          -4.716660925509215,
          5.215506888071703,
          7.817098735670681,
          -8.77279634602826,
          -8.472832615327256,
          8.216976165956384,
          0.8382247030080929,
          -1.2526929710451613,
          2.438660283843375,
          -5.757838509764697,
          6.363829009450829,
          0.7076533296937205,
          3.9200492973762526,
          3.320226644107447,
          2.3131418487960893,
          0.6595036927254397,
          -5.174368068880059,
          -4.069676452953056,
          8.80686598444981,
          4.71402053914846
         ]
        }
       ],
       "layout": {
        "annotations": [
         {
          "align": "center",
          "bgcolor": "white",
          "font": {
           "color": "black",
           "size": 12
          },
          "opacity": 0.7,
          "showarrow": false,
          "text": "",
          "x": 1,
          "xref": "paper",
          "y": 1,
          "yref": "paper"
         }
        ],
        "legend": {
         "traceorder": "normal",
         "x": 0.005,
         "y": 0.995
        },
        "template": {
         "data": {
          "bar": [
           {
            "error_x": {
             "color": "#2a3f5f"
            },
            "error_y": {
             "color": "#2a3f5f"
            },
            "marker": {
             "line": {
              "color": "#E5ECF6",
              "width": 0.5
             },
             "pattern": {
              "fillmode": "overlay",
              "size": 10,
              "solidity": 0.2
             }
            },
            "type": "bar"
           }
          ],
          "barpolar": [
           {
            "marker": {
             "line": {
              "color": "#E5ECF6",
              "width": 0.5
             },
             "pattern": {
              "fillmode": "overlay",
              "size": 10,
              "solidity": 0.2
             }
            },
            "type": "barpolar"
           }
          ],
          "carpet": [
           {
            "aaxis": {
             "endlinecolor": "#2a3f5f",
             "gridcolor": "white",
             "linecolor": "white",
             "minorgridcolor": "white",
             "startlinecolor": "#2a3f5f"
            },
            "baxis": {
             "endlinecolor": "#2a3f5f",
             "gridcolor": "white",
             "linecolor": "white",
             "minorgridcolor": "white",
             "startlinecolor": "#2a3f5f"
            },
            "type": "carpet"
           }
          ],
          "choropleth": [
           {
            "colorbar": {
             "outlinewidth": 0,
             "ticks": ""
            },
            "type": "choropleth"
           }
          ],
          "contour": [
           {
            "colorbar": {
             "outlinewidth": 0,
             "ticks": ""
            },
            "colorscale": [
             [
              0,
              "#0d0887"
             ],
             [
              0.1111111111111111,
              "#46039f"
             ],
             [
              0.2222222222222222,
              "#7201a8"
             ],
             [
              0.3333333333333333,
              "#9c179e"
             ],
             [
              0.4444444444444444,
              "#bd3786"
             ],
             [
              0.5555555555555556,
              "#d8576b"
             ],
             [
              0.6666666666666666,
              "#ed7953"
             ],
             [
              0.7777777777777778,
              "#fb9f3a"
             ],
             [
              0.8888888888888888,
              "#fdca26"
             ],
             [
              1,
              "#f0f921"
             ]
            ],
            "type": "contour"
           }
          ],
          "contourcarpet": [
           {
            "colorbar": {
             "outlinewidth": 0,
             "ticks": ""
            },
            "type": "contourcarpet"
           }
          ],
          "heatmap": [
           {
            "colorbar": {
             "outlinewidth": 0,
             "ticks": ""
            },
            "colorscale": [
             [
              0,
              "#0d0887"
             ],
             [
              0.1111111111111111,
              "#46039f"
             ],
             [
              0.2222222222222222,
              "#7201a8"
             ],
             [
              0.3333333333333333,
              "#9c179e"
             ],
             [
              0.4444444444444444,
              "#bd3786"
             ],
             [
              0.5555555555555556,
              "#d8576b"
             ],
             [
              0.6666666666666666,
              "#ed7953"
             ],
             [
              0.7777777777777778,
              "#fb9f3a"
             ],
             [
              0.8888888888888888,
              "#fdca26"
             ],
             [
              1,
              "#f0f921"
             ]
            ],
            "type": "heatmap"
           }
          ],
          "heatmapgl": [
           {
            "colorbar": {
             "outlinewidth": 0,
             "ticks": ""
            },
            "colorscale": [
             [
              0,
              "#0d0887"
             ],
             [
              0.1111111111111111,
              "#46039f"
             ],
             [
              0.2222222222222222,
              "#7201a8"
             ],
             [
              0.3333333333333333,
              "#9c179e"
             ],
             [
              0.4444444444444444,
              "#bd3786"
             ],
             [
              0.5555555555555556,
              "#d8576b"
             ],
             [
              0.6666666666666666,
              "#ed7953"
             ],
             [
              0.7777777777777778,
              "#fb9f3a"
             ],
             [
              0.8888888888888888,
              "#fdca26"
             ],
             [
              1,
              "#f0f921"
             ]
            ],
            "type": "heatmapgl"
           }
          ],
          "histogram": [
           {
            "marker": {
             "pattern": {
              "fillmode": "overlay",
              "size": 10,
              "solidity": 0.2
             }
            },
            "type": "histogram"
           }
          ],
          "histogram2d": [
           {
            "colorbar": {
             "outlinewidth": 0,
             "ticks": ""
            },
            "colorscale": [
             [
              0,
              "#0d0887"
             ],
             [
              0.1111111111111111,
              "#46039f"
             ],
             [
              0.2222222222222222,
              "#7201a8"
             ],
             [
              0.3333333333333333,
              "#9c179e"
             ],
             [
              0.4444444444444444,
              "#bd3786"
             ],
             [
              0.5555555555555556,
              "#d8576b"
             ],
             [
              0.6666666666666666,
              "#ed7953"
             ],
             [
              0.7777777777777778,
              "#fb9f3a"
             ],
             [
              0.8888888888888888,
              "#fdca26"
             ],
             [
              1,
              "#f0f921"
             ]
            ],
            "type": "histogram2d"
           }
          ],
          "histogram2dcontour": [
           {
            "colorbar": {
             "outlinewidth": 0,
             "ticks": ""
            },
            "colorscale": [
             [
              0,
              "#0d0887"
             ],
             [
              0.1111111111111111,
              "#46039f"
             ],
             [
              0.2222222222222222,
              "#7201a8"
             ],
             [
              0.3333333333333333,
              "#9c179e"
             ],
             [
              0.4444444444444444,
              "#bd3786"
             ],
             [
              0.5555555555555556,
              "#d8576b"
             ],
             [
              0.6666666666666666,
              "#ed7953"
             ],
             [
              0.7777777777777778,
              "#fb9f3a"
             ],
             [
              0.8888888888888888,
              "#fdca26"
             ],
             [
              1,
              "#f0f921"
             ]
            ],
            "type": "histogram2dcontour"
           }
          ],
          "mesh3d": [
           {
            "colorbar": {
             "outlinewidth": 0,
             "ticks": ""
            },
            "type": "mesh3d"
           }
          ],
          "parcoords": [
           {
            "line": {
             "colorbar": {
              "outlinewidth": 0,
              "ticks": ""
             }
            },
            "type": "parcoords"
           }
          ],
          "pie": [
           {
            "automargin": true,
            "type": "pie"
           }
          ],
          "scatter": [
           {
            "fillpattern": {
             "fillmode": "overlay",
             "size": 10,
             "solidity": 0.2
            },
            "type": "scatter"
           }
          ],
          "scatter3d": [
           {
            "line": {
             "colorbar": {
              "outlinewidth": 0,
              "ticks": ""
             }
            },
            "marker": {
             "colorbar": {
              "outlinewidth": 0,
              "ticks": ""
             }
            },
            "type": "scatter3d"
           }
          ],
          "scattercarpet": [
           {
            "marker": {
             "colorbar": {
              "outlinewidth": 0,
              "ticks": ""
             }
            },
            "type": "scattercarpet"
           }
          ],
          "scattergeo": [
           {
            "marker": {
             "colorbar": {
              "outlinewidth": 0,
              "ticks": ""
             }
            },
            "type": "scattergeo"
           }
          ],
          "scattergl": [
           {
            "marker": {
             "colorbar": {
              "outlinewidth": 0,
              "ticks": ""
             }
            },
            "type": "scattergl"
           }
          ],
          "scattermapbox": [
           {
            "marker": {
             "colorbar": {
              "outlinewidth": 0,
              "ticks": ""
             }
            },
            "type": "scattermapbox"
           }
          ],
          "scatterpolar": [
           {
            "marker": {
             "colorbar": {
              "outlinewidth": 0,
              "ticks": ""
             }
            },
            "type": "scatterpolar"
           }
          ],
          "scatterpolargl": [
           {
            "marker": {
             "colorbar": {
              "outlinewidth": 0,
              "ticks": ""
             }
            },
            "type": "scatterpolargl"
           }
          ],
          "scatterternary": [
           {
            "marker": {
             "colorbar": {
              "outlinewidth": 0,
              "ticks": ""
             }
            },
            "type": "scatterternary"
           }
          ],
          "surface": [
           {
            "colorbar": {
             "outlinewidth": 0,
             "ticks": ""
            },
            "colorscale": [
             [
              0,
              "#0d0887"
             ],
             [
              0.1111111111111111,
              "#46039f"
             ],
             [
              0.2222222222222222,
              "#7201a8"
             ],
             [
              0.3333333333333333,
              "#9c179e"
             ],
             [
              0.4444444444444444,
              "#bd3786"
             ],
             [
              0.5555555555555556,
              "#d8576b"
             ],
             [
              0.6666666666666666,
              "#ed7953"
             ],
             [
              0.7777777777777778,
              "#fb9f3a"
             ],
             [
              0.8888888888888888,
              "#fdca26"
             ],
             [
              1,
              "#f0f921"
             ]
            ],
            "type": "surface"
           }
          ],
          "table": [
           {
            "cells": {
             "fill": {
              "color": "#EBF0F8"
             },
             "line": {
              "color": "white"
             }
            },
            "header": {
             "fill": {
              "color": "#C8D4E3"
             },
             "line": {
              "color": "white"
             }
            },
            "type": "table"
           }
          ]
         },
         "layout": {
          "annotationdefaults": {
           "arrowcolor": "#2a3f5f",
           "arrowhead": 0,
           "arrowwidth": 1
          },
          "autotypenumbers": "strict",
          "coloraxis": {
           "colorbar": {
            "outlinewidth": 0,
            "ticks": ""
           }
          },
          "colorscale": {
           "diverging": [
            [
             0,
             "#8e0152"
            ],
            [
             0.1,
             "#c51b7d"
            ],
            [
             0.2,
             "#de77ae"
            ],
            [
             0.3,
             "#f1b6da"
            ],
            [
             0.4,
             "#fde0ef"
            ],
            [
             0.5,
             "#f7f7f7"
            ],
            [
             0.6,
             "#e6f5d0"
            ],
            [
             0.7,
             "#b8e186"
            ],
            [
             0.8,
             "#7fbc41"
            ],
            [
             0.9,
             "#4d9221"
            ],
            [
             1,
             "#276419"
            ]
           ],
           "sequential": [
            [
             0,
             "#0d0887"
            ],
            [
             0.1111111111111111,
             "#46039f"
            ],
            [
             0.2222222222222222,
             "#7201a8"
            ],
            [
             0.3333333333333333,
             "#9c179e"
            ],
            [
             0.4444444444444444,
             "#bd3786"
            ],
            [
             0.5555555555555556,
             "#d8576b"
            ],
            [
             0.6666666666666666,
             "#ed7953"
            ],
            [
             0.7777777777777778,
             "#fb9f3a"
            ],
            [
             0.8888888888888888,
             "#fdca26"
            ],
            [
             1,
             "#f0f921"
            ]
           ],
           "sequentialminus": [
            [
             0,
             "#0d0887"
            ],
            [
             0.1111111111111111,
             "#46039f"
            ],
            [
             0.2222222222222222,
             "#7201a8"
            ],
            [
             0.3333333333333333,
             "#9c179e"
            ],
            [
             0.4444444444444444,
             "#bd3786"
            ],
            [
             0.5555555555555556,
             "#d8576b"
            ],
            [
             0.6666666666666666,
             "#ed7953"
            ],
            [
             0.7777777777777778,
             "#fb9f3a"
            ],
            [
             0.8888888888888888,
             "#fdca26"
            ],
            [
             1,
             "#f0f921"
            ]
           ]
          },
          "colorway": [
           "#636efa",
           "#EF553B",
           "#00cc96",
           "#ab63fa",
           "#FFA15A",
           "#19d3f3",
           "#FF6692",
           "#B6E880",
           "#FF97FF",
           "#FECB52"
          ],
          "font": {
           "color": "#2a3f5f"
          },
          "geo": {
           "bgcolor": "white",
           "lakecolor": "white",
           "landcolor": "#E5ECF6",
           "showlakes": true,
           "showland": true,
           "subunitcolor": "white"
          },
          "hoverlabel": {
           "align": "left"
          },
          "hovermode": "closest",
          "mapbox": {
           "style": "light"
          },
          "paper_bgcolor": "white",
          "plot_bgcolor": "#E5ECF6",
          "polar": {
           "angularaxis": {
            "gridcolor": "white",
            "linecolor": "white",
            "ticks": ""
           },
           "bgcolor": "#E5ECF6",
           "radialaxis": {
            "gridcolor": "white",
            "linecolor": "white",
            "ticks": ""
           }
          },
          "scene": {
           "xaxis": {
            "backgroundcolor": "#E5ECF6",
            "gridcolor": "white",
            "gridwidth": 2,
            "linecolor": "white",
            "showbackground": true,
            "ticks": "",
            "zerolinecolor": "white"
           },
           "yaxis": {
            "backgroundcolor": "#E5ECF6",
            "gridcolor": "white",
            "gridwidth": 2,
            "linecolor": "white",
            "showbackground": true,
            "ticks": "",
            "zerolinecolor": "white"
           },
           "zaxis": {
            "backgroundcolor": "#E5ECF6",
            "gridcolor": "white",
            "gridwidth": 2,
            "linecolor": "white",
            "showbackground": true,
            "ticks": "",
            "zerolinecolor": "white"
           }
          },
          "shapedefaults": {
           "line": {
            "color": "#2a3f5f"
           }
          },
          "ternary": {
           "aaxis": {
            "gridcolor": "white",
            "linecolor": "white",
            "ticks": ""
           },
           "baxis": {
            "gridcolor": "white",
            "linecolor": "white",
            "ticks": ""
           },
           "bgcolor": "#E5ECF6",
           "caxis": {
            "gridcolor": "white",
            "linecolor": "white",
            "ticks": ""
           }
          },
          "title": {
           "x": 0.05
          },
          "xaxis": {
           "automargin": true,
           "gridcolor": "white",
           "linecolor": "white",
           "ticks": "",
           "title": {
            "standoff": 15
           },
           "zerolinecolor": "white",
           "zerolinewidth": 2
          },
          "yaxis": {
           "automargin": true,
           "gridcolor": "white",
           "linecolor": "white",
           "ticks": "",
           "title": {
            "standoff": 15
           },
           "zerolinecolor": "white",
           "zerolinewidth": 2
          }
         }
        },
        "title": {
         "text": "Retornos Mensais da Estratégia Vs. Retornos Mensais do S&P500 Index"
        },
        "xaxis": {
         "title": {
          "text": "Data"
         }
        },
        "yaxis": {
         "title": {
          "text": "Retornos Percentuais   (Log.)"
         }
        }
       }
      }
     },
     "metadata": {},
     "output_type": "display_data"
    }
   ],
   "source": [
    "plot_multiples_time_series_line_graphs([average_monthly_results, sp500_index_period_returns], \"Retornos Mensais da Estratégia Vs. Retornos Mensais do S&P500 Index\", \"Data\", \"Retornos Percentuais   (Log.)\")"
   ]
  },
  {
   "cell_type": "markdown",
   "metadata": {},
   "source": [
    "##### **Retorno Acumulado da Estratégia vs. Retorno Acumulado do S&P500 Index**"
   ]
  },
  {
   "cell_type": "code",
   "execution_count": 30,
   "metadata": {},
   "outputs": [
    {
     "data": {
      "application/vnd.plotly.v1+json": {
       "config": {
        "plotlyServerURL": "https://plot.ly"
       },
       "data": [
        {
         "mode": "lines",
         "name": "Retorno Acumulado da Estratégia",
         "type": "scatter",
         "x": [
          "2019-02-22T00:00:00",
          "2019-03-21T00:00:00",
          "2019-04-18T00:00:00",
          "2019-05-17T00:00:00",
          "2019-06-17T00:00:00",
          "2019-07-16T00:00:00",
          "2019-08-13T00:00:00",
          "2019-09-11T00:00:00",
          "2019-10-09T00:00:00",
          "2019-11-06T00:00:00",
          "2019-12-05T00:00:00",
          "2020-01-06T00:00:00",
          "2020-02-04T00:00:00",
          "2020-03-04T00:00:00",
          "2020-04-30T00:00:00",
          "2020-05-29T00:00:00",
          "2020-06-26T00:00:00",
          "2020-07-27T00:00:00",
          "2020-08-24T00:00:00",
          "2020-09-22T00:00:00",
          "2020-10-20T00:00:00",
          "2020-11-17T00:00:00",
          "2020-12-16T00:00:00",
          "2021-01-15T00:00:00",
          "2021-02-16T00:00:00",
          "2021-03-16T00:00:00",
          "2021-04-14T00:00:00",
          "2021-05-12T00:00:00",
          "2021-06-10T00:00:00",
          "2021-07-09T00:00:00",
          "2021-08-06T00:00:00",
          "2021-09-03T00:00:00",
          "2021-10-04T00:00:00",
          "2021-11-01T00:00:00",
          "2021-11-30T00:00:00",
          "2021-12-29T00:00:00",
          "2022-01-27T00:00:00",
          "2022-02-25T00:00:00",
          "2022-03-25T00:00:00",
          "2022-04-25T00:00:00",
          "2022-05-23T00:00:00",
          "2022-06-22T00:00:00",
          "2022-07-21T00:00:00",
          "2022-08-18T00:00:00",
          "2022-09-16T00:00:00",
          "2022-10-14T00:00:00",
          "2022-11-11T00:00:00",
          "2022-12-12T00:00:00",
          "2023-01-11T00:00:00",
          "2023-02-09T00:00:00",
          "2023-03-10T00:00:00",
          "2023-04-10T00:00:00",
          "2023-05-08T00:00:00",
          "2023-06-06T00:00:00",
          "2023-07-06T00:00:00",
          "2023-08-03T00:00:00",
          "2023-08-31T00:00:00",
          "2023-09-29T00:00:00",
          "2023-10-27T00:00:00",
          "2023-11-27T00:00:00",
          "2023-12-26T00:00:00"
         ],
         "y": [
          0,
          5.29867507239607,
          14.759543211775352,
          22.103723619185764,
          27.91322468304136,
          37.17481852581975,
          49.27003640189031,
          60.14230154055169,
          68.38285399287165,
          81.34180228147422,
          89.09153147761948,
          96.0330341901013,
          104.48869462815688,
          115.43254614418775,
          126.7615008144108,
          137.28083477790247,
          155.54821130551449,
          176.40153238444128,
          188.41273132874392,
          198.87187613946207,
          213.6576173638984,
          227.2202950993827,
          236.01376141221738,
          249.04454603755158,
          264.30181855500837,
          273.9688251156967,
          280.47701019283323,
          290.34055992713945,
          301.0529258865749,
          310.82070374129404,
          318.5222019675492,
          325.5117711460402,
          333.5258578814355,
          342.256049165471,
          349.20360704257223,
          356.1026282644165,
          372.407604284767,
          383.9338179789888,
          389.06064804423653,
          397.8094085157661,
          412.68157644832456,
          427.5118202036603,
          439.8161473531644,
          451.7875675561729,
          459.25118362034874,
          475.05972038684644,
          492.5811528320643,
          502.81060602957587,
          508.9779565367873,
          520.398873048707,
          530.3766108835144,
          535.7268505182158,
          545.4078461677663,
          555.2620731545957,
          562.0525818136823,
          571.8932177406775,
          578.3777936272475,
          588.2063637624576,
          598.7127944094544,
          608.4159395426674,
          619.0030838362338
         ]
        },
        {
         "mode": "lines",
         "name": "Retorno Acumulado do S&P500 Index",
         "type": "scatter",
         "x": [
          "2019-02-22T00:00:00",
          "2019-03-21T00:00:00",
          "2019-04-18T00:00:00",
          "2019-05-17T00:00:00",
          "2019-06-17T00:00:00",
          "2019-07-16T00:00:00",
          "2019-08-13T00:00:00",
          "2019-09-11T00:00:00",
          "2019-10-09T00:00:00",
          "2019-11-06T00:00:00",
          "2019-12-05T00:00:00",
          "2020-01-06T00:00:00",
          "2020-02-04T00:00:00",
          "2020-03-04T00:00:00",
          "2020-04-30T00:00:00",
          "2020-05-29T00:00:00",
          "2020-06-26T00:00:00",
          "2020-07-27T00:00:00",
          "2020-08-24T00:00:00",
          "2020-09-22T00:00:00",
          "2020-10-20T00:00:00",
          "2020-11-17T00:00:00",
          "2020-12-16T00:00:00",
          "2021-01-15T00:00:00",
          "2021-02-16T00:00:00",
          "2021-03-16T00:00:00",
          "2021-04-14T00:00:00",
          "2021-05-12T00:00:00",
          "2021-06-10T00:00:00",
          "2021-07-09T00:00:00",
          "2021-08-06T00:00:00",
          "2021-09-03T00:00:00",
          "2021-10-04T00:00:00",
          "2021-11-01T00:00:00",
          "2021-11-30T00:00:00",
          "2021-12-29T00:00:00",
          "2022-01-27T00:00:00",
          "2022-02-25T00:00:00",
          "2022-03-25T00:00:00",
          "2022-04-25T00:00:00",
          "2022-05-23T00:00:00",
          "2022-06-22T00:00:00",
          "2022-07-21T00:00:00",
          "2022-08-18T00:00:00",
          "2022-09-16T00:00:00",
          "2022-10-14T00:00:00",
          "2022-11-11T00:00:00",
          "2022-12-12T00:00:00",
          "2023-01-11T00:00:00",
          "2023-02-09T00:00:00",
          "2023-03-10T00:00:00",
          "2023-04-10T00:00:00",
          "2023-05-08T00:00:00",
          "2023-06-06T00:00:00",
          "2023-07-06T00:00:00",
          "2023-08-03T00:00:00",
          "2023-08-31T00:00:00",
          "2023-09-29T00:00:00",
          "2023-10-27T00:00:00",
          "2023-11-27T00:00:00",
          "2023-12-26T00:00:00"
         ],
         "y": [
          2.203167016955355,
          5.860245500878626,
          4.180450774223532,
          5.906176152680912,
          8.82070526122697,
          6.85473399807424,
          12.345422598575263,
          9.303507412242393,
          13.91453945402641,
          14.954433670532405,
          18.09509025816836,
          19.94402685509396,
          13.613194451197227,
          -6.60080936583401,
          7.59864507776633,
          14.873319474153629,
          13.333911507060193,
          19.25269837290455,
          25.656360976761423,
          21.86699072529155,
          28.04257421012658,
          32.98233630825049,
          36.65259604228358,
          37.87465555499599,
          41.333065944810926,
          42.12809733416334,
          45.846123393351945,
          43.23759740167311,
          46.271475370509094,
          49.10583032707446,
          50.28233760404672,
          52.58133724728805,
          47.6016773652882,
          53.58488903194815,
          52.20081985979854,
          58.22062564327166,
          48.27925979222378,
          47.20852545866369,
          51.00218699626966,
          44.701382927819,
          39.75617543948038,
          35.03951451397116,
          40.255021402042864,
          48.07212013771355,
          39.29932379168529,
          30.826491176358033,
          39.043467342314415,
          39.88169204532251,
          38.628999074277345,
          41.06765935812072,
          35.309820848356026,
          41.67364985780686,
          42.38130318750058,
          46.30135248487683,
          49.62157912898428,
          51.93472097778037,
          52.59422467050581,
          47.41985660162575,
          43.3501801486727,
          52.157046133122506,
          56.87106667227096
         ]
        }
       ],
       "layout": {
        "annotations": [
         {
          "align": "center",
          "bgcolor": "white",
          "font": {
           "color": "black",
           "size": 12
          },
          "opacity": 0.7,
          "showarrow": false,
          "text": "",
          "x": 1,
          "xref": "paper",
          "y": 1,
          "yref": "paper"
         }
        ],
        "legend": {
         "traceorder": "normal",
         "x": 0.005,
         "y": 0.995
        },
        "template": {
         "data": {
          "bar": [
           {
            "error_x": {
             "color": "#2a3f5f"
            },
            "error_y": {
             "color": "#2a3f5f"
            },
            "marker": {
             "line": {
              "color": "#E5ECF6",
              "width": 0.5
             },
             "pattern": {
              "fillmode": "overlay",
              "size": 10,
              "solidity": 0.2
             }
            },
            "type": "bar"
           }
          ],
          "barpolar": [
           {
            "marker": {
             "line": {
              "color": "#E5ECF6",
              "width": 0.5
             },
             "pattern": {
              "fillmode": "overlay",
              "size": 10,
              "solidity": 0.2
             }
            },
            "type": "barpolar"
           }
          ],
          "carpet": [
           {
            "aaxis": {
             "endlinecolor": "#2a3f5f",
             "gridcolor": "white",
             "linecolor": "white",
             "minorgridcolor": "white",
             "startlinecolor": "#2a3f5f"
            },
            "baxis": {
             "endlinecolor": "#2a3f5f",
             "gridcolor": "white",
             "linecolor": "white",
             "minorgridcolor": "white",
             "startlinecolor": "#2a3f5f"
            },
            "type": "carpet"
           }
          ],
          "choropleth": [
           {
            "colorbar": {
             "outlinewidth": 0,
             "ticks": ""
            },
            "type": "choropleth"
           }
          ],
          "contour": [
           {
            "colorbar": {
             "outlinewidth": 0,
             "ticks": ""
            },
            "colorscale": [
             [
              0,
              "#0d0887"
             ],
             [
              0.1111111111111111,
              "#46039f"
             ],
             [
              0.2222222222222222,
              "#7201a8"
             ],
             [
              0.3333333333333333,
              "#9c179e"
             ],
             [
              0.4444444444444444,
              "#bd3786"
             ],
             [
              0.5555555555555556,
              "#d8576b"
             ],
             [
              0.6666666666666666,
              "#ed7953"
             ],
             [
              0.7777777777777778,
              "#fb9f3a"
             ],
             [
              0.8888888888888888,
              "#fdca26"
             ],
             [
              1,
              "#f0f921"
             ]
            ],
            "type": "contour"
           }
          ],
          "contourcarpet": [
           {
            "colorbar": {
             "outlinewidth": 0,
             "ticks": ""
            },
            "type": "contourcarpet"
           }
          ],
          "heatmap": [
           {
            "colorbar": {
             "outlinewidth": 0,
             "ticks": ""
            },
            "colorscale": [
             [
              0,
              "#0d0887"
             ],
             [
              0.1111111111111111,
              "#46039f"
             ],
             [
              0.2222222222222222,
              "#7201a8"
             ],
             [
              0.3333333333333333,
              "#9c179e"
             ],
             [
              0.4444444444444444,
              "#bd3786"
             ],
             [
              0.5555555555555556,
              "#d8576b"
             ],
             [
              0.6666666666666666,
              "#ed7953"
             ],
             [
              0.7777777777777778,
              "#fb9f3a"
             ],
             [
              0.8888888888888888,
              "#fdca26"
             ],
             [
              1,
              "#f0f921"
             ]
            ],
            "type": "heatmap"
           }
          ],
          "heatmapgl": [
           {
            "colorbar": {
             "outlinewidth": 0,
             "ticks": ""
            },
            "colorscale": [
             [
              0,
              "#0d0887"
             ],
             [
              0.1111111111111111,
              "#46039f"
             ],
             [
              0.2222222222222222,
              "#7201a8"
             ],
             [
              0.3333333333333333,
              "#9c179e"
             ],
             [
              0.4444444444444444,
              "#bd3786"
             ],
             [
              0.5555555555555556,
              "#d8576b"
             ],
             [
              0.6666666666666666,
              "#ed7953"
             ],
             [
              0.7777777777777778,
              "#fb9f3a"
             ],
             [
              0.8888888888888888,
              "#fdca26"
             ],
             [
              1,
              "#f0f921"
             ]
            ],
            "type": "heatmapgl"
           }
          ],
          "histogram": [
           {
            "marker": {
             "pattern": {
              "fillmode": "overlay",
              "size": 10,
              "solidity": 0.2
             }
            },
            "type": "histogram"
           }
          ],
          "histogram2d": [
           {
            "colorbar": {
             "outlinewidth": 0,
             "ticks": ""
            },
            "colorscale": [
             [
              0,
              "#0d0887"
             ],
             [
              0.1111111111111111,
              "#46039f"
             ],
             [
              0.2222222222222222,
              "#7201a8"
             ],
             [
              0.3333333333333333,
              "#9c179e"
             ],
             [
              0.4444444444444444,
              "#bd3786"
             ],
             [
              0.5555555555555556,
              "#d8576b"
             ],
             [
              0.6666666666666666,
              "#ed7953"
             ],
             [
              0.7777777777777778,
              "#fb9f3a"
             ],
             [
              0.8888888888888888,
              "#fdca26"
             ],
             [
              1,
              "#f0f921"
             ]
            ],
            "type": "histogram2d"
           }
          ],
          "histogram2dcontour": [
           {
            "colorbar": {
             "outlinewidth": 0,
             "ticks": ""
            },
            "colorscale": [
             [
              0,
              "#0d0887"
             ],
             [
              0.1111111111111111,
              "#46039f"
             ],
             [
              0.2222222222222222,
              "#7201a8"
             ],
             [
              0.3333333333333333,
              "#9c179e"
             ],
             [
              0.4444444444444444,
              "#bd3786"
             ],
             [
              0.5555555555555556,
              "#d8576b"
             ],
             [
              0.6666666666666666,
              "#ed7953"
             ],
             [
              0.7777777777777778,
              "#fb9f3a"
             ],
             [
              0.8888888888888888,
              "#fdca26"
             ],
             [
              1,
              "#f0f921"
             ]
            ],
            "type": "histogram2dcontour"
           }
          ],
          "mesh3d": [
           {
            "colorbar": {
             "outlinewidth": 0,
             "ticks": ""
            },
            "type": "mesh3d"
           }
          ],
          "parcoords": [
           {
            "line": {
             "colorbar": {
              "outlinewidth": 0,
              "ticks": ""
             }
            },
            "type": "parcoords"
           }
          ],
          "pie": [
           {
            "automargin": true,
            "type": "pie"
           }
          ],
          "scatter": [
           {
            "fillpattern": {
             "fillmode": "overlay",
             "size": 10,
             "solidity": 0.2
            },
            "type": "scatter"
           }
          ],
          "scatter3d": [
           {
            "line": {
             "colorbar": {
              "outlinewidth": 0,
              "ticks": ""
             }
            },
            "marker": {
             "colorbar": {
              "outlinewidth": 0,
              "ticks": ""
             }
            },
            "type": "scatter3d"
           }
          ],
          "scattercarpet": [
           {
            "marker": {
             "colorbar": {
              "outlinewidth": 0,
              "ticks": ""
             }
            },
            "type": "scattercarpet"
           }
          ],
          "scattergeo": [
           {
            "marker": {
             "colorbar": {
              "outlinewidth": 0,
              "ticks": ""
             }
            },
            "type": "scattergeo"
           }
          ],
          "scattergl": [
           {
            "marker": {
             "colorbar": {
              "outlinewidth": 0,
              "ticks": ""
             }
            },
            "type": "scattergl"
           }
          ],
          "scattermapbox": [
           {
            "marker": {
             "colorbar": {
              "outlinewidth": 0,
              "ticks": ""
             }
            },
            "type": "scattermapbox"
           }
          ],
          "scatterpolar": [
           {
            "marker": {
             "colorbar": {
              "outlinewidth": 0,
              "ticks": ""
             }
            },
            "type": "scatterpolar"
           }
          ],
          "scatterpolargl": [
           {
            "marker": {
             "colorbar": {
              "outlinewidth": 0,
              "ticks": ""
             }
            },
            "type": "scatterpolargl"
           }
          ],
          "scatterternary": [
           {
            "marker": {
             "colorbar": {
              "outlinewidth": 0,
              "ticks": ""
             }
            },
            "type": "scatterternary"
           }
          ],
          "surface": [
           {
            "colorbar": {
             "outlinewidth": 0,
             "ticks": ""
            },
            "colorscale": [
             [
              0,
              "#0d0887"
             ],
             [
              0.1111111111111111,
              "#46039f"
             ],
             [
              0.2222222222222222,
              "#7201a8"
             ],
             [
              0.3333333333333333,
              "#9c179e"
             ],
             [
              0.4444444444444444,
              "#bd3786"
             ],
             [
              0.5555555555555556,
              "#d8576b"
             ],
             [
              0.6666666666666666,
              "#ed7953"
             ],
             [
              0.7777777777777778,
              "#fb9f3a"
             ],
             [
              0.8888888888888888,
              "#fdca26"
             ],
             [
              1,
              "#f0f921"
             ]
            ],
            "type": "surface"
           }
          ],
          "table": [
           {
            "cells": {
             "fill": {
              "color": "#EBF0F8"
             },
             "line": {
              "color": "white"
             }
            },
            "header": {
             "fill": {
              "color": "#C8D4E3"
             },
             "line": {
              "color": "white"
             }
            },
            "type": "table"
           }
          ]
         },
         "layout": {
          "annotationdefaults": {
           "arrowcolor": "#2a3f5f",
           "arrowhead": 0,
           "arrowwidth": 1
          },
          "autotypenumbers": "strict",
          "coloraxis": {
           "colorbar": {
            "outlinewidth": 0,
            "ticks": ""
           }
          },
          "colorscale": {
           "diverging": [
            [
             0,
             "#8e0152"
            ],
            [
             0.1,
             "#c51b7d"
            ],
            [
             0.2,
             "#de77ae"
            ],
            [
             0.3,
             "#f1b6da"
            ],
            [
             0.4,
             "#fde0ef"
            ],
            [
             0.5,
             "#f7f7f7"
            ],
            [
             0.6,
             "#e6f5d0"
            ],
            [
             0.7,
             "#b8e186"
            ],
            [
             0.8,
             "#7fbc41"
            ],
            [
             0.9,
             "#4d9221"
            ],
            [
             1,
             "#276419"
            ]
           ],
           "sequential": [
            [
             0,
             "#0d0887"
            ],
            [
             0.1111111111111111,
             "#46039f"
            ],
            [
             0.2222222222222222,
             "#7201a8"
            ],
            [
             0.3333333333333333,
             "#9c179e"
            ],
            [
             0.4444444444444444,
             "#bd3786"
            ],
            [
             0.5555555555555556,
             "#d8576b"
            ],
            [
             0.6666666666666666,
             "#ed7953"
            ],
            [
             0.7777777777777778,
             "#fb9f3a"
            ],
            [
             0.8888888888888888,
             "#fdca26"
            ],
            [
             1,
             "#f0f921"
            ]
           ],
           "sequentialminus": [
            [
             0,
             "#0d0887"
            ],
            [
             0.1111111111111111,
             "#46039f"
            ],
            [
             0.2222222222222222,
             "#7201a8"
            ],
            [
             0.3333333333333333,
             "#9c179e"
            ],
            [
             0.4444444444444444,
             "#bd3786"
            ],
            [
             0.5555555555555556,
             "#d8576b"
            ],
            [
             0.6666666666666666,
             "#ed7953"
            ],
            [
             0.7777777777777778,
             "#fb9f3a"
            ],
            [
             0.8888888888888888,
             "#fdca26"
            ],
            [
             1,
             "#f0f921"
            ]
           ]
          },
          "colorway": [
           "#636efa",
           "#EF553B",
           "#00cc96",
           "#ab63fa",
           "#FFA15A",
           "#19d3f3",
           "#FF6692",
           "#B6E880",
           "#FF97FF",
           "#FECB52"
          ],
          "font": {
           "color": "#2a3f5f"
          },
          "geo": {
           "bgcolor": "white",
           "lakecolor": "white",
           "landcolor": "#E5ECF6",
           "showlakes": true,
           "showland": true,
           "subunitcolor": "white"
          },
          "hoverlabel": {
           "align": "left"
          },
          "hovermode": "closest",
          "mapbox": {
           "style": "light"
          },
          "paper_bgcolor": "white",
          "plot_bgcolor": "#E5ECF6",
          "polar": {
           "angularaxis": {
            "gridcolor": "white",
            "linecolor": "white",
            "ticks": ""
           },
           "bgcolor": "#E5ECF6",
           "radialaxis": {
            "gridcolor": "white",
            "linecolor": "white",
            "ticks": ""
           }
          },
          "scene": {
           "xaxis": {
            "backgroundcolor": "#E5ECF6",
            "gridcolor": "white",
            "gridwidth": 2,
            "linecolor": "white",
            "showbackground": true,
            "ticks": "",
            "zerolinecolor": "white"
           },
           "yaxis": {
            "backgroundcolor": "#E5ECF6",
            "gridcolor": "white",
            "gridwidth": 2,
            "linecolor": "white",
            "showbackground": true,
            "ticks": "",
            "zerolinecolor": "white"
           },
           "zaxis": {
            "backgroundcolor": "#E5ECF6",
            "gridcolor": "white",
            "gridwidth": 2,
            "linecolor": "white",
            "showbackground": true,
            "ticks": "",
            "zerolinecolor": "white"
           }
          },
          "shapedefaults": {
           "line": {
            "color": "#2a3f5f"
           }
          },
          "ternary": {
           "aaxis": {
            "gridcolor": "white",
            "linecolor": "white",
            "ticks": ""
           },
           "baxis": {
            "gridcolor": "white",
            "linecolor": "white",
            "ticks": ""
           },
           "bgcolor": "#E5ECF6",
           "caxis": {
            "gridcolor": "white",
            "linecolor": "white",
            "ticks": ""
           }
          },
          "title": {
           "x": 0.05
          },
          "xaxis": {
           "automargin": true,
           "gridcolor": "white",
           "linecolor": "white",
           "ticks": "",
           "title": {
            "standoff": 15
           },
           "zerolinecolor": "white",
           "zerolinewidth": 2
          },
          "yaxis": {
           "automargin": true,
           "gridcolor": "white",
           "linecolor": "white",
           "ticks": "",
           "title": {
            "standoff": 15
           },
           "zerolinecolor": "white",
           "zerolinewidth": 2
          }
         }
        },
        "title": {
         "text": "Retorno Acumulado da Estratégia vs. Retorno Acumulado do S&P500 Index"
        },
        "xaxis": {
         "title": {
          "text": "Data"
         }
        },
        "yaxis": {
         "title": {
          "text": "Retorno Acumulado    (Log.)"
         }
        }
       }
      }
     },
     "metadata": {},
     "output_type": "display_data"
    }
   ],
   "source": [
    "#\n",
    "average_monthly_cumulative_returns = average_monthly_results.cumsum()\n",
    "#\n",
    "average_monthly_cumulative_returns.name = \"Retorno Acumulado da Estratégia\"\n",
    "#\n",
    "plot_multiples_time_series_line_graphs([average_monthly_cumulative_returns, sp500_index_cumulative_returns], \"Retorno Acumulado da Estratégia vs. Retorno Acumulado do S&P500 Index\", \"Data\", \"Retorno Acumulado    (Log.)\")"
   ]
  },
  {
   "cell_type": "markdown",
   "metadata": {},
   "source": [
    "##### **Relação entre os Retornos da Estratégia e os Retornos do S&P500 Index**"
   ]
  },
  {
   "cell_type": "code",
   "execution_count": 43,
   "metadata": {},
   "outputs": [
    {
     "data": {
      "application/vnd.plotly.v1+json": {
       "config": {
        "plotlyServerURL": "https://plot.ly"
       },
       "data": [
        {
         "mode": "markers",
         "name": "Pontos de Dispersão",
         "type": "scatter",
         "x": [
          2.203167016955355,
          3.6570784839232706,
          -1.6797947266550932,
          1.7257253784573794,
          2.9145291085460574,
          -1.9659712631527295,
          5.490688600501024,
          -3.04191518633287,
          4.611032041784017,
          1.0398942165059932,
          3.1406565876359553,
          1.8489365969256006,
          -6.330832403896731,
          -20.214003817031237,
          14.19945444360034,
          7.274674396387298,
          -1.5394079670934353,
          5.918786865844358,
          6.403662603856873,
          -3.7893702514698737,
          6.175583484835031,
          4.93976209812391,
          3.6702597340330865,
          1.2220595127124094,
          3.458410389814939,
          0.795031389352416,
          3.718026059188602,
          -2.608525991678831,
          3.0338779688359843,
          2.8343549565653663,
          1.176507276972257,
          2.2989996432413284,
          -4.9796598819998525,
          5.983211666659955,
          -1.3840691721496063,
          6.0198057834731165,
          -9.941365851047877,
          -1.070734333560089,
          3.79366153760596,
          -6.3008040684506605,
          -4.945207488338616,
          -4.716660925509215,
          5.215506888071703,
          7.817098735670681,
          -8.77279634602826,
          -8.472832615327256,
          8.216976165956384,
          0.8382247030080929,
          -1.2526929710451613,
          2.438660283843375,
          -5.757838509764697,
          6.363829009450829,
          0.7076533296937205,
          3.9200492973762526,
          3.320226644107447,
          2.3131418487960893,
          0.6595036927254397,
          -5.174368068880059,
          -4.069676452953056,
          8.80686598444981,
          4.71402053914846
         ],
         "y": [
          0,
          5.29867507239607,
          9.460868139379281,
          7.344180407410411,
          5.809501063855595,
          9.261593842778392,
          12.095217876070553,
          10.872265138661385,
          8.240552452319957,
          12.958948288602567,
          7.7497291961452675,
          6.941502712481824,
          8.455660438055569,
          10.943851516030874,
          11.328954670223036,
          10.519333963491663,
          18.267376527612026,
          20.853321078926804,
          12.011198944302622,
          10.459144810718145,
          14.785741224436336,
          13.562677735484296,
          8.793466312834672,
          13.030784625334212,
          15.257272517456778,
          9.667006560688305,
          6.508185077136536,
          9.863549734306247,
          10.712365959435436,
          9.767777854719132,
          7.701498226255188,
          6.9895691784909815,
          8.014086735395333,
          8.730191284035444,
          6.947557877101258,
          6.8990212218443165,
          16.30497602035046,
          11.526213694221813,
          5.126830065247681,
          8.74876047152959,
          14.872167932558437,
          14.830243755335738,
          12.304327149504125,
          11.971420203008488,
          7.46361606417584,
          15.808536766497673,
          17.52143244521782,
          10.229453197511573,
          6.167350507211428,
          11.420916511919597,
          9.977737834807531,
          5.3502396347013015,
          9.680995649550438,
          9.854226986829422,
          6.790508659086673,
          9.840635926995237,
          6.4845758865699406,
          9.828570135210194,
          10.506430646996801,
          9.70314513321298,
          10.587144293566414
         ]
        },
        {
         "line": {
          "color": "red",
          "dash": "dash",
          "width": 2
         },
         "mode": "lines",
         "name": "Linha de Tendência",
         "type": "scatter",
         "x": [
          2.203167016955355,
          3.6570784839232706,
          -1.6797947266550932,
          1.7257253784573794,
          2.9145291085460574,
          -1.9659712631527295,
          5.490688600501024,
          -3.04191518633287,
          4.611032041784017,
          1.0398942165059932,
          3.1406565876359553,
          1.8489365969256006,
          -6.330832403896731,
          -20.214003817031237,
          14.19945444360034,
          7.274674396387298,
          -1.5394079670934353,
          5.918786865844358,
          6.403662603856873,
          -3.7893702514698737,
          6.175583484835031,
          4.93976209812391,
          3.6702597340330865,
          1.2220595127124094,
          3.458410389814939,
          0.795031389352416,
          3.718026059188602,
          -2.608525991678831,
          3.0338779688359843,
          2.8343549565653663,
          1.176507276972257,
          2.2989996432413284,
          -4.9796598819998525,
          5.983211666659955,
          -1.3840691721496063,
          6.0198057834731165,
          -9.941365851047877,
          -1.070734333560089,
          3.79366153760596,
          -6.3008040684506605,
          -4.945207488338616,
          -4.716660925509215,
          5.215506888071703,
          7.817098735670681,
          -8.77279634602826,
          -8.472832615327256,
          8.216976165956384,
          0.8382247030080929,
          -1.2526929710451613,
          2.438660283843375,
          -5.757838509764697,
          6.363829009450829,
          0.7076533296937205,
          3.9200492973762526,
          3.320226644107447,
          2.3131418487960893,
          0.6595036927254397,
          -5.174368068880059,
          -4.069676452953056,
          8.80686598444981,
          4.71402053914846
         ],
         "y": [
          10.106933777637579,
          10.060419572557798,
          10.231159277582151,
          10.1222083103662,
          10.084175554068961,
          10.24031476910285,
          10.001757873453984,
          10.274736862493112,
          10.0299002511032,
          10.14414973667852,
          10.076941179641407,
          10.118266480334478,
          10.379957416442812,
          10.824114228559436,
          9.723143026800022,
          9.944683778466398,
          10.226667959731584,
          9.988061956638633,
          9.972549588775438,
          10.298649789089811,
          9.979846400966295,
          10.019383367782671,
          10.059997871935206,
          10.138321820647404,
          10.06677545369782,
          10.151983500987695,
          10.058469709667646,
          10.260871675831137,
          10.080357290378435,
          10.086740522453939,
          10.139779148746946,
          10.103867856132952,
          10.336730082998127,
          9.986000848747649,
          10.221698289480663,
          9.98483011291343,
          10.495467264892133,
          10.211673937054867,
          10.056049944617063,
          10.37899673610919,
          10.335627866157104,
          10.32831609928873,
          10.010561613500712,
          9.927330289254082,
          10.458081851239804,
          10.448485273454073,
          9.914537226387692,
          10.150601640609604,
          10.217495241565016,
          10.09939976861447,
          10.361625931956551,
          9.973823963468371,
          10.154778940104022,
          10.05200648921342,
          10.071196291714825,
          10.10341541218131,
          10.156319365459584,
          10.342959276962835,
          10.307617474149835,
          9.895665199709823,
          10.026605395676233
         ]
        }
       ],
       "layout": {
        "legend": {
         "traceorder": "normal",
         "x": 0.005,
         "y": 0.995
        },
        "template": {
         "data": {
          "bar": [
           {
            "error_x": {
             "color": "#2a3f5f"
            },
            "error_y": {
             "color": "#2a3f5f"
            },
            "marker": {
             "line": {
              "color": "#E5ECF6",
              "width": 0.5
             },
             "pattern": {
              "fillmode": "overlay",
              "size": 10,
              "solidity": 0.2
             }
            },
            "type": "bar"
           }
          ],
          "barpolar": [
           {
            "marker": {
             "line": {
              "color": "#E5ECF6",
              "width": 0.5
             },
             "pattern": {
              "fillmode": "overlay",
              "size": 10,
              "solidity": 0.2
             }
            },
            "type": "barpolar"
           }
          ],
          "carpet": [
           {
            "aaxis": {
             "endlinecolor": "#2a3f5f",
             "gridcolor": "white",
             "linecolor": "white",
             "minorgridcolor": "white",
             "startlinecolor": "#2a3f5f"
            },
            "baxis": {
             "endlinecolor": "#2a3f5f",
             "gridcolor": "white",
             "linecolor": "white",
             "minorgridcolor": "white",
             "startlinecolor": "#2a3f5f"
            },
            "type": "carpet"
           }
          ],
          "choropleth": [
           {
            "colorbar": {
             "outlinewidth": 0,
             "ticks": ""
            },
            "type": "choropleth"
           }
          ],
          "contour": [
           {
            "colorbar": {
             "outlinewidth": 0,
             "ticks": ""
            },
            "colorscale": [
             [
              0,
              "#0d0887"
             ],
             [
              0.1111111111111111,
              "#46039f"
             ],
             [
              0.2222222222222222,
              "#7201a8"
             ],
             [
              0.3333333333333333,
              "#9c179e"
             ],
             [
              0.4444444444444444,
              "#bd3786"
             ],
             [
              0.5555555555555556,
              "#d8576b"
             ],
             [
              0.6666666666666666,
              "#ed7953"
             ],
             [
              0.7777777777777778,
              "#fb9f3a"
             ],
             [
              0.8888888888888888,
              "#fdca26"
             ],
             [
              1,
              "#f0f921"
             ]
            ],
            "type": "contour"
           }
          ],
          "contourcarpet": [
           {
            "colorbar": {
             "outlinewidth": 0,
             "ticks": ""
            },
            "type": "contourcarpet"
           }
          ],
          "heatmap": [
           {
            "colorbar": {
             "outlinewidth": 0,
             "ticks": ""
            },
            "colorscale": [
             [
              0,
              "#0d0887"
             ],
             [
              0.1111111111111111,
              "#46039f"
             ],
             [
              0.2222222222222222,
              "#7201a8"
             ],
             [
              0.3333333333333333,
              "#9c179e"
             ],
             [
              0.4444444444444444,
              "#bd3786"
             ],
             [
              0.5555555555555556,
              "#d8576b"
             ],
             [
              0.6666666666666666,
              "#ed7953"
             ],
             [
              0.7777777777777778,
              "#fb9f3a"
             ],
             [
              0.8888888888888888,
              "#fdca26"
             ],
             [
              1,
              "#f0f921"
             ]
            ],
            "type": "heatmap"
           }
          ],
          "heatmapgl": [
           {
            "colorbar": {
             "outlinewidth": 0,
             "ticks": ""
            },
            "colorscale": [
             [
              0,
              "#0d0887"
             ],
             [
              0.1111111111111111,
              "#46039f"
             ],
             [
              0.2222222222222222,
              "#7201a8"
             ],
             [
              0.3333333333333333,
              "#9c179e"
             ],
             [
              0.4444444444444444,
              "#bd3786"
             ],
             [
              0.5555555555555556,
              "#d8576b"
             ],
             [
              0.6666666666666666,
              "#ed7953"
             ],
             [
              0.7777777777777778,
              "#fb9f3a"
             ],
             [
              0.8888888888888888,
              "#fdca26"
             ],
             [
              1,
              "#f0f921"
             ]
            ],
            "type": "heatmapgl"
           }
          ],
          "histogram": [
           {
            "marker": {
             "pattern": {
              "fillmode": "overlay",
              "size": 10,
              "solidity": 0.2
             }
            },
            "type": "histogram"
           }
          ],
          "histogram2d": [
           {
            "colorbar": {
             "outlinewidth": 0,
             "ticks": ""
            },
            "colorscale": [
             [
              0,
              "#0d0887"
             ],
             [
              0.1111111111111111,
              "#46039f"
             ],
             [
              0.2222222222222222,
              "#7201a8"
             ],
             [
              0.3333333333333333,
              "#9c179e"
             ],
             [
              0.4444444444444444,
              "#bd3786"
             ],
             [
              0.5555555555555556,
              "#d8576b"
             ],
             [
              0.6666666666666666,
              "#ed7953"
             ],
             [
              0.7777777777777778,
              "#fb9f3a"
             ],
             [
              0.8888888888888888,
              "#fdca26"
             ],
             [
              1,
              "#f0f921"
             ]
            ],
            "type": "histogram2d"
           }
          ],
          "histogram2dcontour": [
           {
            "colorbar": {
             "outlinewidth": 0,
             "ticks": ""
            },
            "colorscale": [
             [
              0,
              "#0d0887"
             ],
             [
              0.1111111111111111,
              "#46039f"
             ],
             [
              0.2222222222222222,
              "#7201a8"
             ],
             [
              0.3333333333333333,
              "#9c179e"
             ],
             [
              0.4444444444444444,
              "#bd3786"
             ],
             [
              0.5555555555555556,
              "#d8576b"
             ],
             [
              0.6666666666666666,
              "#ed7953"
             ],
             [
              0.7777777777777778,
              "#fb9f3a"
             ],
             [
              0.8888888888888888,
              "#fdca26"
             ],
             [
              1,
              "#f0f921"
             ]
            ],
            "type": "histogram2dcontour"
           }
          ],
          "mesh3d": [
           {
            "colorbar": {
             "outlinewidth": 0,
             "ticks": ""
            },
            "type": "mesh3d"
           }
          ],
          "parcoords": [
           {
            "line": {
             "colorbar": {
              "outlinewidth": 0,
              "ticks": ""
             }
            },
            "type": "parcoords"
           }
          ],
          "pie": [
           {
            "automargin": true,
            "type": "pie"
           }
          ],
          "scatter": [
           {
            "fillpattern": {
             "fillmode": "overlay",
             "size": 10,
             "solidity": 0.2
            },
            "type": "scatter"
           }
          ],
          "scatter3d": [
           {
            "line": {
             "colorbar": {
              "outlinewidth": 0,
              "ticks": ""
             }
            },
            "marker": {
             "colorbar": {
              "outlinewidth": 0,
              "ticks": ""
             }
            },
            "type": "scatter3d"
           }
          ],
          "scattercarpet": [
           {
            "marker": {
             "colorbar": {
              "outlinewidth": 0,
              "ticks": ""
             }
            },
            "type": "scattercarpet"
           }
          ],
          "scattergeo": [
           {
            "marker": {
             "colorbar": {
              "outlinewidth": 0,
              "ticks": ""
             }
            },
            "type": "scattergeo"
           }
          ],
          "scattergl": [
           {
            "marker": {
             "colorbar": {
              "outlinewidth": 0,
              "ticks": ""
             }
            },
            "type": "scattergl"
           }
          ],
          "scattermapbox": [
           {
            "marker": {
             "colorbar": {
              "outlinewidth": 0,
              "ticks": ""
             }
            },
            "type": "scattermapbox"
           }
          ],
          "scatterpolar": [
           {
            "marker": {
             "colorbar": {
              "outlinewidth": 0,
              "ticks": ""
             }
            },
            "type": "scatterpolar"
           }
          ],
          "scatterpolargl": [
           {
            "marker": {
             "colorbar": {
              "outlinewidth": 0,
              "ticks": ""
             }
            },
            "type": "scatterpolargl"
           }
          ],
          "scatterternary": [
           {
            "marker": {
             "colorbar": {
              "outlinewidth": 0,
              "ticks": ""
             }
            },
            "type": "scatterternary"
           }
          ],
          "surface": [
           {
            "colorbar": {
             "outlinewidth": 0,
             "ticks": ""
            },
            "colorscale": [
             [
              0,
              "#0d0887"
             ],
             [
              0.1111111111111111,
              "#46039f"
             ],
             [
              0.2222222222222222,
              "#7201a8"
             ],
             [
              0.3333333333333333,
              "#9c179e"
             ],
             [
              0.4444444444444444,
              "#bd3786"
             ],
             [
              0.5555555555555556,
              "#d8576b"
             ],
             [
              0.6666666666666666,
              "#ed7953"
             ],
             [
              0.7777777777777778,
              "#fb9f3a"
             ],
             [
              0.8888888888888888,
              "#fdca26"
             ],
             [
              1,
              "#f0f921"
             ]
            ],
            "type": "surface"
           }
          ],
          "table": [
           {
            "cells": {
             "fill": {
              "color": "#EBF0F8"
             },
             "line": {
              "color": "white"
             }
            },
            "header": {
             "fill": {
              "color": "#C8D4E3"
             },
             "line": {
              "color": "white"
             }
            },
            "type": "table"
           }
          ]
         },
         "layout": {
          "annotationdefaults": {
           "arrowcolor": "#2a3f5f",
           "arrowhead": 0,
           "arrowwidth": 1
          },
          "autotypenumbers": "strict",
          "coloraxis": {
           "colorbar": {
            "outlinewidth": 0,
            "ticks": ""
           }
          },
          "colorscale": {
           "diverging": [
            [
             0,
             "#8e0152"
            ],
            [
             0.1,
             "#c51b7d"
            ],
            [
             0.2,
             "#de77ae"
            ],
            [
             0.3,
             "#f1b6da"
            ],
            [
             0.4,
             "#fde0ef"
            ],
            [
             0.5,
             "#f7f7f7"
            ],
            [
             0.6,
             "#e6f5d0"
            ],
            [
             0.7,
             "#b8e186"
            ],
            [
             0.8,
             "#7fbc41"
            ],
            [
             0.9,
             "#4d9221"
            ],
            [
             1,
             "#276419"
            ]
           ],
           "sequential": [
            [
             0,
             "#0d0887"
            ],
            [
             0.1111111111111111,
             "#46039f"
            ],
            [
             0.2222222222222222,
             "#7201a8"
            ],
            [
             0.3333333333333333,
             "#9c179e"
            ],
            [
             0.4444444444444444,
             "#bd3786"
            ],
            [
             0.5555555555555556,
             "#d8576b"
            ],
            [
             0.6666666666666666,
             "#ed7953"
            ],
            [
             0.7777777777777778,
             "#fb9f3a"
            ],
            [
             0.8888888888888888,
             "#fdca26"
            ],
            [
             1,
             "#f0f921"
            ]
           ],
           "sequentialminus": [
            [
             0,
             "#0d0887"
            ],
            [
             0.1111111111111111,
             "#46039f"
            ],
            [
             0.2222222222222222,
             "#7201a8"
            ],
            [
             0.3333333333333333,
             "#9c179e"
            ],
            [
             0.4444444444444444,
             "#bd3786"
            ],
            [
             0.5555555555555556,
             "#d8576b"
            ],
            [
             0.6666666666666666,
             "#ed7953"
            ],
            [
             0.7777777777777778,
             "#fb9f3a"
            ],
            [
             0.8888888888888888,
             "#fdca26"
            ],
            [
             1,
             "#f0f921"
            ]
           ]
          },
          "colorway": [
           "#636efa",
           "#EF553B",
           "#00cc96",
           "#ab63fa",
           "#FFA15A",
           "#19d3f3",
           "#FF6692",
           "#B6E880",
           "#FF97FF",
           "#FECB52"
          ],
          "font": {
           "color": "#2a3f5f"
          },
          "geo": {
           "bgcolor": "white",
           "lakecolor": "white",
           "landcolor": "#E5ECF6",
           "showlakes": true,
           "showland": true,
           "subunitcolor": "white"
          },
          "hoverlabel": {
           "align": "left"
          },
          "hovermode": "closest",
          "mapbox": {
           "style": "light"
          },
          "paper_bgcolor": "white",
          "plot_bgcolor": "#E5ECF6",
          "polar": {
           "angularaxis": {
            "gridcolor": "white",
            "linecolor": "white",
            "ticks": ""
           },
           "bgcolor": "#E5ECF6",
           "radialaxis": {
            "gridcolor": "white",
            "linecolor": "white",
            "ticks": ""
           }
          },
          "scene": {
           "xaxis": {
            "backgroundcolor": "#E5ECF6",
            "gridcolor": "white",
            "gridwidth": 2,
            "linecolor": "white",
            "showbackground": true,
            "ticks": "",
            "zerolinecolor": "white"
           },
           "yaxis": {
            "backgroundcolor": "#E5ECF6",
            "gridcolor": "white",
            "gridwidth": 2,
            "linecolor": "white",
            "showbackground": true,
            "ticks": "",
            "zerolinecolor": "white"
           },
           "zaxis": {
            "backgroundcolor": "#E5ECF6",
            "gridcolor": "white",
            "gridwidth": 2,
            "linecolor": "white",
            "showbackground": true,
            "ticks": "",
            "zerolinecolor": "white"
           }
          },
          "shapedefaults": {
           "line": {
            "color": "#2a3f5f"
           }
          },
          "ternary": {
           "aaxis": {
            "gridcolor": "white",
            "linecolor": "white",
            "ticks": ""
           },
           "baxis": {
            "gridcolor": "white",
            "linecolor": "white",
            "ticks": ""
           },
           "bgcolor": "#E5ECF6",
           "caxis": {
            "gridcolor": "white",
            "linecolor": "white",
            "ticks": ""
           }
          },
          "title": {
           "x": 0.05
          },
          "xaxis": {
           "automargin": true,
           "gridcolor": "white",
           "linecolor": "white",
           "ticks": "",
           "title": {
            "standoff": 15
           },
           "zerolinecolor": "white",
           "zerolinewidth": 2
          },
          "yaxis": {
           "automargin": true,
           "gridcolor": "white",
           "linecolor": "white",
           "ticks": "",
           "title": {
            "standoff": 15
           },
           "zerolinecolor": "white",
           "zerolinewidth": 2
          }
         }
        },
        "title": {
         "text": "Relação entre os Retornos Mensais da Estratégia e os Retornos Mensais do S&P500 Index"
        },
        "xaxis": {
         "title": {
          "text": "Retornos Percentuais do S&P500 Index    (Log.)"
         }
        },
        "yaxis": {
         "title": {
          "text": "Retornos Percentuais da  Estratégia    (Log.)"
         }
        }
       }
      }
     },
     "metadata": {},
     "output_type": "display_data"
    }
   ],
   "source": [
    "# \n",
    "fig = go.Figure(data=go.Scatter(\n",
    "    #\n",
    "    x=sp500_index_period_returns,\n",
    "    #\n",
    "    y=average_monthly_results,\n",
    "    #\n",
    "    mode='markers',\n",
    "    name=\"Pontos de Dispersão\"\n",
    "))\n",
    "\n",
    "# Calcula a linha de tendência (regressão linear)\n",
    "slope, intercept = np.polyfit(sp500_index_period_returns, average_monthly_results, 1)  # Retorna o coeficiente angular (slope) e o intercept\n",
    "line = slope * sp500_index_period_returns + intercept  # Equação da linha de tendência\n",
    "\n",
    "# Adiciona a linha de tendência\n",
    "fig.add_trace(go.Scatter(\n",
    "    x= sp500_index_period_returns, \n",
    "    y=line, \n",
    "    mode='lines', \n",
    "    name='Linha de Tendência', \n",
    "    line=dict(color='red', width=2, dash='dash')\n",
    "))\n",
    "\n",
    "# Adiciona títulos e rótulos\n",
    "fig.update_layout(\n",
    "    title=\"Relação entre os Retornos Mensais da Estratégia e os Retornos Mensais do S&P500 Index\",\n",
    "    xaxis_title=\"Retornos Percentuais do S&P500 Index    (Log.)\",\n",
    "    yaxis_title=\"Retornos Percentuais da  Estratégia    (Log.)\",\n",
    "    #\n",
    "    legend=dict(\n",
    "        x=0.005,  # Posição horizontal dentro do gráfico (0 = esquerda, 1 = direita)\n",
    "        y=0.995,  # Posição vertical dentro do gráfico (0 = inferior, 1 = superior)\n",
    "        traceorder='normal',  # Ordem de exibição das linhas\n",
    "    )\n",
    ")\n",
    "\n",
    "# Exibe o gráfico\n",
    "fig.show()"
   ]
  },
  {
   "cell_type": "markdown",
   "metadata": {},
   "source": [
    "##### **Gráfico de barras dos Retornos da Estratégia vs. Retornos do S&P500 Index**"
   ]
  },
  {
   "cell_type": "code",
   "execution_count": 44,
   "metadata": {},
   "outputs": [
    {
     "data": {
      "application/vnd.plotly.v1+json": {
       "config": {
        "plotlyServerURL": "https://plot.ly"
       },
       "data": [
        {
         "marker": {
          "color": "#006DAA"
         },
         "name": "Retornos da Estratégia",
         "type": "bar",
         "x": [
          "2019-02-22T00:00:00",
          "2019-03-21T00:00:00",
          "2019-04-18T00:00:00",
          "2019-05-17T00:00:00",
          "2019-06-17T00:00:00",
          "2019-07-16T00:00:00",
          "2019-08-13T00:00:00",
          "2019-09-11T00:00:00",
          "2019-10-09T00:00:00",
          "2019-11-06T00:00:00",
          "2019-12-05T00:00:00",
          "2020-01-06T00:00:00",
          "2020-02-04T00:00:00",
          "2020-03-04T00:00:00",
          "2020-04-30T00:00:00",
          "2020-05-29T00:00:00",
          "2020-06-26T00:00:00",
          "2020-07-27T00:00:00",
          "2020-08-24T00:00:00",
          "2020-09-22T00:00:00",
          "2020-10-20T00:00:00",
          "2020-11-17T00:00:00",
          "2020-12-16T00:00:00",
          "2021-01-15T00:00:00",
          "2021-02-16T00:00:00",
          "2021-03-16T00:00:00",
          "2021-04-14T00:00:00",
          "2021-05-12T00:00:00",
          "2021-06-10T00:00:00",
          "2021-07-09T00:00:00",
          "2021-08-06T00:00:00",
          "2021-09-03T00:00:00",
          "2021-10-04T00:00:00",
          "2021-11-01T00:00:00",
          "2021-11-30T00:00:00",
          "2021-12-29T00:00:00",
          "2022-01-27T00:00:00",
          "2022-02-25T00:00:00",
          "2022-03-25T00:00:00",
          "2022-04-25T00:00:00",
          "2022-05-23T00:00:00",
          "2022-06-22T00:00:00",
          "2022-07-21T00:00:00",
          "2022-08-18T00:00:00",
          "2022-09-16T00:00:00",
          "2022-10-14T00:00:00",
          "2022-11-11T00:00:00",
          "2022-12-12T00:00:00",
          "2023-01-11T00:00:00",
          "2023-02-09T00:00:00",
          "2023-03-10T00:00:00",
          "2023-04-10T00:00:00",
          "2023-05-08T00:00:00",
          "2023-06-06T00:00:00",
          "2023-07-06T00:00:00",
          "2023-08-03T00:00:00",
          "2023-08-31T00:00:00",
          "2023-09-29T00:00:00",
          "2023-10-27T00:00:00",
          "2023-11-27T00:00:00",
          "2023-12-26T00:00:00"
         ],
         "y": [
          0,
          5.29867507239607,
          9.460868139379281,
          7.344180407410411,
          5.809501063855595,
          9.261593842778392,
          12.095217876070553,
          10.872265138661385,
          8.240552452319957,
          12.958948288602567,
          7.7497291961452675,
          6.941502712481824,
          8.455660438055569,
          10.943851516030874,
          11.328954670223036,
          10.519333963491663,
          18.267376527612026,
          20.853321078926804,
          12.011198944302622,
          10.459144810718145,
          14.785741224436336,
          13.562677735484296,
          8.793466312834672,
          13.030784625334212,
          15.257272517456778,
          9.667006560688305,
          6.508185077136536,
          9.863549734306247,
          10.712365959435436,
          9.767777854719132,
          7.701498226255188,
          6.9895691784909815,
          8.014086735395333,
          8.730191284035444,
          6.947557877101258,
          6.8990212218443165,
          16.30497602035046,
          11.526213694221813,
          5.126830065247681,
          8.74876047152959,
          14.872167932558437,
          14.830243755335738,
          12.304327149504125,
          11.971420203008488,
          7.46361606417584,
          15.808536766497673,
          17.52143244521782,
          10.229453197511573,
          6.167350507211428,
          11.420916511919597,
          9.977737834807531,
          5.3502396347013015,
          9.680995649550438,
          9.854226986829422,
          6.790508659086673,
          9.840635926995237,
          6.4845758865699406,
          9.828570135210194,
          10.506430646996801,
          9.70314513321298,
          10.587144293566414
         ]
        },
        {
         "marker": {
          "color": "#E4572E"
         },
         "name": "Retornos do S&P500 Index",
         "type": "bar",
         "x": [
          "2019-02-22T00:00:00",
          "2019-03-21T00:00:00",
          "2019-04-18T00:00:00",
          "2019-05-17T00:00:00",
          "2019-06-17T00:00:00",
          "2019-07-16T00:00:00",
          "2019-08-13T00:00:00",
          "2019-09-11T00:00:00",
          "2019-10-09T00:00:00",
          "2019-11-06T00:00:00",
          "2019-12-05T00:00:00",
          "2020-01-06T00:00:00",
          "2020-02-04T00:00:00",
          "2020-03-04T00:00:00",
          "2020-04-30T00:00:00",
          "2020-05-29T00:00:00",
          "2020-06-26T00:00:00",
          "2020-07-27T00:00:00",
          "2020-08-24T00:00:00",
          "2020-09-22T00:00:00",
          "2020-10-20T00:00:00",
          "2020-11-17T00:00:00",
          "2020-12-16T00:00:00",
          "2021-01-15T00:00:00",
          "2021-02-16T00:00:00",
          "2021-03-16T00:00:00",
          "2021-04-14T00:00:00",
          "2021-05-12T00:00:00",
          "2021-06-10T00:00:00",
          "2021-07-09T00:00:00",
          "2021-08-06T00:00:00",
          "2021-09-03T00:00:00",
          "2021-10-04T00:00:00",
          "2021-11-01T00:00:00",
          "2021-11-30T00:00:00",
          "2021-12-29T00:00:00",
          "2022-01-27T00:00:00",
          "2022-02-25T00:00:00",
          "2022-03-25T00:00:00",
          "2022-04-25T00:00:00",
          "2022-05-23T00:00:00",
          "2022-06-22T00:00:00",
          "2022-07-21T00:00:00",
          "2022-08-18T00:00:00",
          "2022-09-16T00:00:00",
          "2022-10-14T00:00:00",
          "2022-11-11T00:00:00",
          "2022-12-12T00:00:00",
          "2023-01-11T00:00:00",
          "2023-02-09T00:00:00",
          "2023-03-10T00:00:00",
          "2023-04-10T00:00:00",
          "2023-05-08T00:00:00",
          "2023-06-06T00:00:00",
          "2023-07-06T00:00:00",
          "2023-08-03T00:00:00",
          "2023-08-31T00:00:00",
          "2023-09-29T00:00:00",
          "2023-10-27T00:00:00",
          "2023-11-27T00:00:00",
          "2023-12-26T00:00:00"
         ],
         "y": [
          2.203167016955355,
          3.6570784839232706,
          -1.6797947266550932,
          1.7257253784573794,
          2.9145291085460574,
          -1.9659712631527295,
          5.490688600501024,
          -3.04191518633287,
          4.611032041784017,
          1.0398942165059932,
          3.1406565876359553,
          1.8489365969256006,
          -6.330832403896731,
          -20.214003817031237,
          14.19945444360034,
          7.274674396387298,
          -1.5394079670934353,
          5.918786865844358,
          6.403662603856873,
          -3.7893702514698737,
          6.175583484835031,
          4.93976209812391,
          3.6702597340330865,
          1.2220595127124094,
          3.458410389814939,
          0.795031389352416,
          3.718026059188602,
          -2.608525991678831,
          3.0338779688359843,
          2.8343549565653663,
          1.176507276972257,
          2.2989996432413284,
          -4.9796598819998525,
          5.983211666659955,
          -1.3840691721496063,
          6.0198057834731165,
          -9.941365851047877,
          -1.070734333560089,
          3.79366153760596,
          -6.3008040684506605,
          -4.945207488338616,
          -4.716660925509215,
          5.215506888071703,
          7.817098735670681,
          -8.77279634602826,
          -8.472832615327256,
          8.216976165956384,
          0.8382247030080929,
          -1.2526929710451613,
          2.438660283843375,
          -5.757838509764697,
          6.363829009450829,
          0.7076533296937205,
          3.9200492973762526,
          3.320226644107447,
          2.3131418487960893,
          0.6595036927254397,
          -5.174368068880059,
          -4.069676452953056,
          8.80686598444981,
          4.71402053914846
         ]
        }
       ],
       "layout": {
        "annotations": [
         {
          "align": "center",
          "bgcolor": "#006DAA",
          "font": {
           "color": "white",
           "size": 12
          },
          "opacity": 1,
          "showarrow": false,
          "text": "Média: 10.15%<br> Desvio padrão: 3.61% <br> Drawdown máximo 0.00% ",
          "x": 1.205,
          "xref": "paper",
          "y": 0.35,
          "yref": "paper"
         },
         {
          "align": "center",
          "bgcolor": "#E4572E",
          "font": {
           "color": "white",
           "size": 12
          },
          "opacity": 1,
          "showarrow": false,
          "text": "Média: 0.93%<br> Desvio padrão: 5.55% <br> Drawdown máximo -23.96% ",
          "x": 1.215,
          "xref": "paper",
          "y": 0.7,
          "yref": "paper"
         }
        ],
        "barmode": "stack",
        "template": {
         "data": {
          "bar": [
           {
            "error_x": {
             "color": "#2a3f5f"
            },
            "error_y": {
             "color": "#2a3f5f"
            },
            "marker": {
             "line": {
              "color": "#E5ECF6",
              "width": 0.5
             },
             "pattern": {
              "fillmode": "overlay",
              "size": 10,
              "solidity": 0.2
             }
            },
            "type": "bar"
           }
          ],
          "barpolar": [
           {
            "marker": {
             "line": {
              "color": "#E5ECF6",
              "width": 0.5
             },
             "pattern": {
              "fillmode": "overlay",
              "size": 10,
              "solidity": 0.2
             }
            },
            "type": "barpolar"
           }
          ],
          "carpet": [
           {
            "aaxis": {
             "endlinecolor": "#2a3f5f",
             "gridcolor": "white",
             "linecolor": "white",
             "minorgridcolor": "white",
             "startlinecolor": "#2a3f5f"
            },
            "baxis": {
             "endlinecolor": "#2a3f5f",
             "gridcolor": "white",
             "linecolor": "white",
             "minorgridcolor": "white",
             "startlinecolor": "#2a3f5f"
            },
            "type": "carpet"
           }
          ],
          "choropleth": [
           {
            "colorbar": {
             "outlinewidth": 0,
             "ticks": ""
            },
            "type": "choropleth"
           }
          ],
          "contour": [
           {
            "colorbar": {
             "outlinewidth": 0,
             "ticks": ""
            },
            "colorscale": [
             [
              0,
              "#0d0887"
             ],
             [
              0.1111111111111111,
              "#46039f"
             ],
             [
              0.2222222222222222,
              "#7201a8"
             ],
             [
              0.3333333333333333,
              "#9c179e"
             ],
             [
              0.4444444444444444,
              "#bd3786"
             ],
             [
              0.5555555555555556,
              "#d8576b"
             ],
             [
              0.6666666666666666,
              "#ed7953"
             ],
             [
              0.7777777777777778,
              "#fb9f3a"
             ],
             [
              0.8888888888888888,
              "#fdca26"
             ],
             [
              1,
              "#f0f921"
             ]
            ],
            "type": "contour"
           }
          ],
          "contourcarpet": [
           {
            "colorbar": {
             "outlinewidth": 0,
             "ticks": ""
            },
            "type": "contourcarpet"
           }
          ],
          "heatmap": [
           {
            "colorbar": {
             "outlinewidth": 0,
             "ticks": ""
            },
            "colorscale": [
             [
              0,
              "#0d0887"
             ],
             [
              0.1111111111111111,
              "#46039f"
             ],
             [
              0.2222222222222222,
              "#7201a8"
             ],
             [
              0.3333333333333333,
              "#9c179e"
             ],
             [
              0.4444444444444444,
              "#bd3786"
             ],
             [
              0.5555555555555556,
              "#d8576b"
             ],
             [
              0.6666666666666666,
              "#ed7953"
             ],
             [
              0.7777777777777778,
              "#fb9f3a"
             ],
             [
              0.8888888888888888,
              "#fdca26"
             ],
             [
              1,
              "#f0f921"
             ]
            ],
            "type": "heatmap"
           }
          ],
          "heatmapgl": [
           {
            "colorbar": {
             "outlinewidth": 0,
             "ticks": ""
            },
            "colorscale": [
             [
              0,
              "#0d0887"
             ],
             [
              0.1111111111111111,
              "#46039f"
             ],
             [
              0.2222222222222222,
              "#7201a8"
             ],
             [
              0.3333333333333333,
              "#9c179e"
             ],
             [
              0.4444444444444444,
              "#bd3786"
             ],
             [
              0.5555555555555556,
              "#d8576b"
             ],
             [
              0.6666666666666666,
              "#ed7953"
             ],
             [
              0.7777777777777778,
              "#fb9f3a"
             ],
             [
              0.8888888888888888,
              "#fdca26"
             ],
             [
              1,
              "#f0f921"
             ]
            ],
            "type": "heatmapgl"
           }
          ],
          "histogram": [
           {
            "marker": {
             "pattern": {
              "fillmode": "overlay",
              "size": 10,
              "solidity": 0.2
             }
            },
            "type": "histogram"
           }
          ],
          "histogram2d": [
           {
            "colorbar": {
             "outlinewidth": 0,
             "ticks": ""
            },
            "colorscale": [
             [
              0,
              "#0d0887"
             ],
             [
              0.1111111111111111,
              "#46039f"
             ],
             [
              0.2222222222222222,
              "#7201a8"
             ],
             [
              0.3333333333333333,
              "#9c179e"
             ],
             [
              0.4444444444444444,
              "#bd3786"
             ],
             [
              0.5555555555555556,
              "#d8576b"
             ],
             [
              0.6666666666666666,
              "#ed7953"
             ],
             [
              0.7777777777777778,
              "#fb9f3a"
             ],
             [
              0.8888888888888888,
              "#fdca26"
             ],
             [
              1,
              "#f0f921"
             ]
            ],
            "type": "histogram2d"
           }
          ],
          "histogram2dcontour": [
           {
            "colorbar": {
             "outlinewidth": 0,
             "ticks": ""
            },
            "colorscale": [
             [
              0,
              "#0d0887"
             ],
             [
              0.1111111111111111,
              "#46039f"
             ],
             [
              0.2222222222222222,
              "#7201a8"
             ],
             [
              0.3333333333333333,
              "#9c179e"
             ],
             [
              0.4444444444444444,
              "#bd3786"
             ],
             [
              0.5555555555555556,
              "#d8576b"
             ],
             [
              0.6666666666666666,
              "#ed7953"
             ],
             [
              0.7777777777777778,
              "#fb9f3a"
             ],
             [
              0.8888888888888888,
              "#fdca26"
             ],
             [
              1,
              "#f0f921"
             ]
            ],
            "type": "histogram2dcontour"
           }
          ],
          "mesh3d": [
           {
            "colorbar": {
             "outlinewidth": 0,
             "ticks": ""
            },
            "type": "mesh3d"
           }
          ],
          "parcoords": [
           {
            "line": {
             "colorbar": {
              "outlinewidth": 0,
              "ticks": ""
             }
            },
            "type": "parcoords"
           }
          ],
          "pie": [
           {
            "automargin": true,
            "type": "pie"
           }
          ],
          "scatter": [
           {
            "fillpattern": {
             "fillmode": "overlay",
             "size": 10,
             "solidity": 0.2
            },
            "type": "scatter"
           }
          ],
          "scatter3d": [
           {
            "line": {
             "colorbar": {
              "outlinewidth": 0,
              "ticks": ""
             }
            },
            "marker": {
             "colorbar": {
              "outlinewidth": 0,
              "ticks": ""
             }
            },
            "type": "scatter3d"
           }
          ],
          "scattercarpet": [
           {
            "marker": {
             "colorbar": {
              "outlinewidth": 0,
              "ticks": ""
             }
            },
            "type": "scattercarpet"
           }
          ],
          "scattergeo": [
           {
            "marker": {
             "colorbar": {
              "outlinewidth": 0,
              "ticks": ""
             }
            },
            "type": "scattergeo"
           }
          ],
          "scattergl": [
           {
            "marker": {
             "colorbar": {
              "outlinewidth": 0,
              "ticks": ""
             }
            },
            "type": "scattergl"
           }
          ],
          "scattermapbox": [
           {
            "marker": {
             "colorbar": {
              "outlinewidth": 0,
              "ticks": ""
             }
            },
            "type": "scattermapbox"
           }
          ],
          "scatterpolar": [
           {
            "marker": {
             "colorbar": {
              "outlinewidth": 0,
              "ticks": ""
             }
            },
            "type": "scatterpolar"
           }
          ],
          "scatterpolargl": [
           {
            "marker": {
             "colorbar": {
              "outlinewidth": 0,
              "ticks": ""
             }
            },
            "type": "scatterpolargl"
           }
          ],
          "scatterternary": [
           {
            "marker": {
             "colorbar": {
              "outlinewidth": 0,
              "ticks": ""
             }
            },
            "type": "scatterternary"
           }
          ],
          "surface": [
           {
            "colorbar": {
             "outlinewidth": 0,
             "ticks": ""
            },
            "colorscale": [
             [
              0,
              "#0d0887"
             ],
             [
              0.1111111111111111,
              "#46039f"
             ],
             [
              0.2222222222222222,
              "#7201a8"
             ],
             [
              0.3333333333333333,
              "#9c179e"
             ],
             [
              0.4444444444444444,
              "#bd3786"
             ],
             [
              0.5555555555555556,
              "#d8576b"
             ],
             [
              0.6666666666666666,
              "#ed7953"
             ],
             [
              0.7777777777777778,
              "#fb9f3a"
             ],
             [
              0.8888888888888888,
              "#fdca26"
             ],
             [
              1,
              "#f0f921"
             ]
            ],
            "type": "surface"
           }
          ],
          "table": [
           {
            "cells": {
             "fill": {
              "color": "#EBF0F8"
             },
             "line": {
              "color": "white"
             }
            },
            "header": {
             "fill": {
              "color": "#C8D4E3"
             },
             "line": {
              "color": "white"
             }
            },
            "type": "table"
           }
          ]
         },
         "layout": {
          "annotationdefaults": {
           "arrowcolor": "#2a3f5f",
           "arrowhead": 0,
           "arrowwidth": 1
          },
          "autotypenumbers": "strict",
          "coloraxis": {
           "colorbar": {
            "outlinewidth": 0,
            "ticks": ""
           }
          },
          "colorscale": {
           "diverging": [
            [
             0,
             "#8e0152"
            ],
            [
             0.1,
             "#c51b7d"
            ],
            [
             0.2,
             "#de77ae"
            ],
            [
             0.3,
             "#f1b6da"
            ],
            [
             0.4,
             "#fde0ef"
            ],
            [
             0.5,
             "#f7f7f7"
            ],
            [
             0.6,
             "#e6f5d0"
            ],
            [
             0.7,
             "#b8e186"
            ],
            [
             0.8,
             "#7fbc41"
            ],
            [
             0.9,
             "#4d9221"
            ],
            [
             1,
             "#276419"
            ]
           ],
           "sequential": [
            [
             0,
             "#0d0887"
            ],
            [
             0.1111111111111111,
             "#46039f"
            ],
            [
             0.2222222222222222,
             "#7201a8"
            ],
            [
             0.3333333333333333,
             "#9c179e"
            ],
            [
             0.4444444444444444,
             "#bd3786"
            ],
            [
             0.5555555555555556,
             "#d8576b"
            ],
            [
             0.6666666666666666,
             "#ed7953"
            ],
            [
             0.7777777777777778,
             "#fb9f3a"
            ],
            [
             0.8888888888888888,
             "#fdca26"
            ],
            [
             1,
             "#f0f921"
            ]
           ],
           "sequentialminus": [
            [
             0,
             "#0d0887"
            ],
            [
             0.1111111111111111,
             "#46039f"
            ],
            [
             0.2222222222222222,
             "#7201a8"
            ],
            [
             0.3333333333333333,
             "#9c179e"
            ],
            [
             0.4444444444444444,
             "#bd3786"
            ],
            [
             0.5555555555555556,
             "#d8576b"
            ],
            [
             0.6666666666666666,
             "#ed7953"
            ],
            [
             0.7777777777777778,
             "#fb9f3a"
            ],
            [
             0.8888888888888888,
             "#fdca26"
            ],
            [
             1,
             "#f0f921"
            ]
           ]
          },
          "colorway": [
           "#636efa",
           "#EF553B",
           "#00cc96",
           "#ab63fa",
           "#FFA15A",
           "#19d3f3",
           "#FF6692",
           "#B6E880",
           "#FF97FF",
           "#FECB52"
          ],
          "font": {
           "color": "#2a3f5f"
          },
          "geo": {
           "bgcolor": "white",
           "lakecolor": "white",
           "landcolor": "#E5ECF6",
           "showlakes": true,
           "showland": true,
           "subunitcolor": "white"
          },
          "hoverlabel": {
           "align": "left"
          },
          "hovermode": "closest",
          "mapbox": {
           "style": "light"
          },
          "paper_bgcolor": "white",
          "plot_bgcolor": "#E5ECF6",
          "polar": {
           "angularaxis": {
            "gridcolor": "white",
            "linecolor": "white",
            "ticks": ""
           },
           "bgcolor": "#E5ECF6",
           "radialaxis": {
            "gridcolor": "white",
            "linecolor": "white",
            "ticks": ""
           }
          },
          "scene": {
           "xaxis": {
            "backgroundcolor": "#E5ECF6",
            "gridcolor": "white",
            "gridwidth": 2,
            "linecolor": "white",
            "showbackground": true,
            "ticks": "",
            "zerolinecolor": "white"
           },
           "yaxis": {
            "backgroundcolor": "#E5ECF6",
            "gridcolor": "white",
            "gridwidth": 2,
            "linecolor": "white",
            "showbackground": true,
            "ticks": "",
            "zerolinecolor": "white"
           },
           "zaxis": {
            "backgroundcolor": "#E5ECF6",
            "gridcolor": "white",
            "gridwidth": 2,
            "linecolor": "white",
            "showbackground": true,
            "ticks": "",
            "zerolinecolor": "white"
           }
          },
          "shapedefaults": {
           "line": {
            "color": "#2a3f5f"
           }
          },
          "ternary": {
           "aaxis": {
            "gridcolor": "white",
            "linecolor": "white",
            "ticks": ""
           },
           "baxis": {
            "gridcolor": "white",
            "linecolor": "white",
            "ticks": ""
           },
           "bgcolor": "#E5ECF6",
           "caxis": {
            "gridcolor": "white",
            "linecolor": "white",
            "ticks": ""
           }
          },
          "title": {
           "x": 0.05
          },
          "xaxis": {
           "automargin": true,
           "gridcolor": "white",
           "linecolor": "white",
           "ticks": "",
           "title": {
            "standoff": 15
           },
           "zerolinecolor": "white",
           "zerolinewidth": 2
          },
          "yaxis": {
           "automargin": true,
           "gridcolor": "white",
           "linecolor": "white",
           "ticks": "",
           "title": {
            "standoff": 15
           },
           "zerolinecolor": "white",
           "zerolinewidth": 2
          }
         }
        },
        "title": {
         "text": "Retornos Mensais da Estratégia vs. Retornos Mensais do S&P500 Index"
        },
        "xaxis": {
         "title": {
          "text": "Data"
         }
        },
        "yaxis": {
         "title": {
          "text": "Retornos Percentuais    (Log.)"
         }
        }
       }
      }
     },
     "metadata": {},
     "output_type": "display_data"
    }
   ],
   "source": [
    "# Dados de exemplo\n",
    "x_values = average_monthly_results.index\n",
    "y_values_1 = average_monthly_results\n",
    "y_values_2 = sp500_index_period_returns\n",
    "\n",
    "#\n",
    "strategy_cumulated_value = np.exp((average_monthly_results/100).cumsum())\n",
    "strategy_cumulated_peak = strategy_cumulated_value.cummax()\n",
    "strategy_max_drawdown = ((strategy_cumulated_value - strategy_cumulated_peak)/strategy_cumulated_peak).min()*100\n",
    "\n",
    "#\n",
    "sp500_index_cumulated_value = np.exp((sp500_index_period_returns/100).cumsum())\n",
    "sp500_index_cumulated_peak = sp500_index_cumulated_value.cummax()\n",
    "sp500_index_max_drawdown = ((sp500_index_cumulated_value - sp500_index_cumulated_peak)/sp500_index_cumulated_peak).min()*100\n",
    "\n",
    "# Retornos médios da estratégia e do S&P 500\n",
    "strategy_mean = y_values_1.mean()\n",
    "sp500_mean = y_values_2.mean()\n",
    "\n",
    "# Definindo as cores das barras\n",
    "color_strategy = \"#006DAA\"  # Cor das barras para a estratégia\n",
    "color_sp500 = \"#E4572E\"  # Cor das barras para o S&P 500\n",
    "\n",
    "# Criação das barras empilhadas\n",
    "fig = go.Figure()\n",
    "\n",
    "# Primeira barra (base) com cor definida\n",
    "fig.add_trace(go.Bar(\n",
    "    x=x_values,\n",
    "    y=y_values_1,\n",
    "    name=average_monthly_results.name,\n",
    "    marker_color=color_strategy  # Definindo a cor da barra para a estratégia\n",
    "))\n",
    "\n",
    "# Segunda barra (sobreposta na anterior) com cor definida\n",
    "fig.add_trace(go.Bar(\n",
    "    x=x_values,\n",
    "    y=y_values_2,\n",
    "    name=sp500_index_period_returns.name,\n",
    "    marker_color=color_sp500  # Definindo a cor da barra para o S&P 500\n",
    "))\n",
    "\n",
    "# Adiciona a anotação abaixo da legenda com a cor de fundo igual à cor das barras\n",
    "fig.add_annotation(\n",
    "    x=1.205, y=0.35,  # Ajuste y para colocar abaixo da legenda\n",
    "    text=(\n",
    "        f\"Média: {strategy_mean:.2f}%<br>\"\n",
    "        f\" Desvio padrão: {y_values_1.std():.2f}% <br>\"\n",
    "        f\" Drawdown máximo {strategy_max_drawdown:.2f}% \"\n",
    "    ),\n",
    "    showarrow=False,\n",
    "    font=dict(size=12, color=\"white\"),\n",
    "    xref=\"paper\", yref=\"paper\",  # Define a posição em coordenadas relativas\n",
    "    bgcolor=color_strategy,  # Usando a cor das barras da estratégia\n",
    "    opacity=1,\n",
    "    align=\"center\"\n",
    ")\n",
    "\n",
    "# Adiciona a anotação para o S&P 500 abaixo da legenda\n",
    "fig.add_annotation(\n",
    "    x=1.215, y=0.7,  # Ajuste y para colocar abaixo da legenda\n",
    "    text=(\n",
    "        f\"Média: {sp500_mean:.2f}%<br>\"\n",
    "        f\" Desvio padrão: {y_values_2.std():.2f}% <br>\"\n",
    "        f\" Drawdown máximo {sp500_index_max_drawdown:.2f}% \"\n",
    "    ),\n",
    "    showarrow=False,\n",
    "    font=dict(size=12, color=\"white\"),\n",
    "    xref=\"paper\", yref=\"paper\",  # Define a posição em coordenadas relativas\n",
    "    bgcolor=color_sp500,  # Usando a cor das barras do S&P 500\n",
    "    opacity=1,\n",
    "    align=\"center\"\n",
    ")\n",
    "\n",
    "# Configuração do layout para barras empilhadas\n",
    "fig.update_layout(\n",
    "    barmode='stack',\n",
    "    title='Retornos Mensais da Estratégia vs. Retornos Mensais do S&P500 Index',\n",
    "    xaxis_title='Data',\n",
    "    yaxis_title='Retornos Percentuais    (Log.)'\n",
    ")\n",
    "\n",
    "# Exibe o gráfico\n",
    "fig.show()\n"
   ]
  },
  {
   "cell_type": "markdown",
   "metadata": {},
   "source": [
    "##### **Histograma dos Retornos da Estratégia com Curva Normal Ajustada**"
   ]
  },
  {
   "cell_type": "code",
   "execution_count": 46,
   "metadata": {},
   "outputs": [
    {
     "data": {
      "application/vnd.plotly.v1+json": {
       "config": {
        "plotlyServerURL": "https://plot.ly"
       },
       "data": [
        {
         "histnorm": "probability",
         "name": "Histograma dos Retornos",
         "nbinsx": 30,
         "opacity": 0.75,
         "type": "histogram",
         "x": [
          0,
          5.29867507239607,
          9.460868139379281,
          7.344180407410411,
          5.809501063855595,
          9.261593842778392,
          12.095217876070553,
          10.872265138661385,
          8.240552452319957,
          12.958948288602567,
          7.7497291961452675,
          6.941502712481824,
          8.455660438055569,
          10.943851516030874,
          11.328954670223036,
          10.519333963491663,
          18.267376527612026,
          20.853321078926804,
          12.011198944302622,
          10.459144810718145,
          14.785741224436336,
          13.562677735484296,
          8.793466312834672,
          13.030784625334212,
          15.257272517456778,
          9.667006560688305,
          6.508185077136536,
          9.863549734306247,
          10.712365959435436,
          9.767777854719132,
          7.701498226255188,
          6.9895691784909815,
          8.014086735395333,
          8.730191284035444,
          6.947557877101258,
          6.8990212218443165,
          16.30497602035046,
          11.526213694221813,
          5.126830065247681,
          8.74876047152959,
          14.872167932558437,
          14.830243755335738,
          12.304327149504125,
          11.971420203008488,
          7.46361606417584,
          15.808536766497673,
          17.52143244521782,
          10.229453197511573,
          6.167350507211428,
          11.420916511919597,
          9.977737834807531,
          5.3502396347013015,
          9.680995649550438,
          9.854226986829422,
          6.790508659086673,
          9.840635926995237,
          6.4845758865699406,
          9.828570135210194,
          10.506430646996801,
          9.70314513321298,
          10.587144293566414
         ]
        },
        {
         "line": {
          "color": "red",
          "width": 2
         },
         "mode": "lines",
         "name": "Curva Normal Ajustada",
         "type": "scatter",
         "x": [
          0,
          0.020874195274201004,
          0.04174839054840201,
          0.06262258582260301,
          0.08349678109680402,
          0.10437097637100502,
          0.12524517164520602,
          0.14611936691940702,
          0.16699356219360803,
          0.18786775746780904,
          0.20874195274201005,
          0.22961614801621105,
          0.25049034329041203,
          0.27136453856461307,
          0.29223873383881405,
          0.3131129291130151,
          0.33398712438721606,
          0.35486131966141704,
          0.3757355149356181,
          0.39660971020981906,
          0.4174839054840201,
          0.43835810075822107,
          0.4592322960324221,
          0.4801064913066231,
          0.5009806865808241,
          0.521854881855025,
          0.5427290771292261,
          0.5636032724034271,
          0.5844774676776281,
          0.6053516629518291,
          0.6262258582260302,
          0.6471000535002311,
          0.6679742487744321,
          0.6888484440486331,
          0.7097226393228341,
          0.7305968345970352,
          0.7514710298712362,
          0.7723452251454371,
          0.7932194204196381,
          0.8140936156938392,
          0.8349678109680402,
          0.8558420062422412,
          0.8767162015164421,
          0.8975903967906431,
          0.9184645920648442,
          0.9393387873390452,
          0.9602129826132462,
          0.9810871778874471,
          1.0019613731616481,
          1.0228355684358492,
          1.04370976371005,
          1.0645839589842512,
          1.0854581542584523,
          1.1063323495326531,
          1.1272065448068542,
          1.1480807400810553,
          1.1689549353552562,
          1.1898291306294573,
          1.2107033259036581,
          1.2315775211778592,
          1.2524517164520603,
          1.2733259117262612,
          1.2942001070004623,
          1.3150743022746632,
          1.3359484975488642,
          1.3568226928230653,
          1.3776968880972662,
          1.3985710833714673,
          1.4194452786456682,
          1.4403194739198693,
          1.4611936691940703,
          1.4820678644682712,
          1.5029420597424723,
          1.5238162550166732,
          1.5446904502908743,
          1.5655646455650754,
          1.5864388408392762,
          1.6073130361134773,
          1.6281872313876784,
          1.6490614266618793,
          1.6699356219360804,
          1.6908098172102812,
          1.7116840124844823,
          1.7325582077586834,
          1.7534324030328843,
          1.7743065983070854,
          1.7951807935812862,
          1.8160549888554873,
          1.8369291841296884,
          1.8578033794038893,
          1.8786775746780904,
          1.8995517699522912,
          1.9204259652264923,
          1.9413001605006934,
          1.9621743557748943,
          1.9830485510490954,
          2.0039227463232963,
          2.0247969415974976,
          2.0456711368716984,
          2.0665453321458993,
          2.0874195274201,
          2.1082937226943015,
          2.1291679179685024,
          2.1500421132427032,
          2.1709163085169045,
          2.1917905037911054,
          2.2126646990653063,
          2.2335388943395076,
          2.2544130896137085,
          2.2752872848879093,
          2.2961614801621106,
          2.3170356754363115,
          2.3379098707105124,
          2.3587840659847132,
          2.3796582612589146,
          2.4005324565331154,
          2.4214066518073163,
          2.4422808470815176,
          2.4631550423557185,
          2.4840292376299193,
          2.5049034329041207,
          2.5257776281783215,
          2.5466518234525224,
          2.5675260187267233,
          2.5884002140009246,
          2.6092744092751254,
          2.6301486045493263,
          2.6510227998235276,
          2.6718969950977285,
          2.6927711903719294,
          2.7136453856461307,
          2.7345195809203315,
          2.7553937761945324,
          2.7762679714687337,
          2.7971421667429346,
          2.8180163620171355,
          2.8388905572913363,
          2.8597647525655376,
          2.8806389478397385,
          2.9015131431139394,
          2.9223873383881407,
          2.9432615336623416,
          2.9641357289365424,
          2.9850099242107437,
          3.0058841194849446,
          3.0267583147591455,
          3.0476325100333463,
          3.0685067053075477,
          3.0893809005817485,
          3.1102550958559494,
          3.1311292911301507,
          3.1520034864043516,
          3.1728776816785524,
          3.1937518769527538,
          3.2146260722269546,
          3.2355002675011555,
          3.256374462775357,
          3.2772486580495577,
          3.2981228533237585,
          3.3189970485979594,
          3.3398712438721607,
          3.3607454391463616,
          3.3816196344205625,
          3.4024938296947638,
          3.4233680249689646,
          3.4442422202431655,
          3.465116415517367,
          3.4859906107915677,
          3.5068648060657686,
          3.5277390013399694,
          3.5486131966141707,
          3.5694873918883716,
          3.5903615871625725,
          3.611235782436774,
          3.6321099777109747,
          3.6529841729851755,
          3.673858368259377,
          3.6947325635335777,
          3.7156067588077786,
          3.73648095408198,
          3.7573551493561808,
          3.7782293446303816,
          3.7991035399045825,
          3.819977735178784,
          3.8408519304529847,
          3.8617261257271855,
          3.882600321001387,
          3.9034745162755877,
          3.9243487115497886,
          3.94522290682399,
          3.9660971020981908,
          3.9869712973723916,
          4.0078454926465925,
          4.028719687920794,
          4.049593883194995,
          4.070468078469196,
          4.091342273743397,
          4.112216469017598,
          4.133090664291799,
          4.153964859566,
          4.1748390548402,
          4.195713250114402,
          4.216587445388603,
          4.237461640662803,
          4.258335835937005,
          4.279210031211206,
          4.3000842264854064,
          4.320958421759608,
          4.341832617033809,
          4.3627068123080095,
          4.383581007582211,
          4.404455202856412,
          4.4253293981306125,
          4.446203593404814,
          4.467077788679015,
          4.487951983953216,
          4.508826179227417,
          4.529700374501618,
          4.550574569775819,
          4.57144876505002,
          4.592322960324221,
          4.613197155598422,
          4.634071350872623,
          4.654945546146823,
          4.675819741421025,
          4.696693936695226,
          4.7175681319694265,
          4.738442327243628,
          4.759316522517829,
          4.7801907177920295,
          4.801064913066231,
          4.821939108340432,
          4.842813303614633,
          4.863687498888834,
          4.884561694163035,
          4.905435889437236,
          4.926310084711437,
          4.947184279985638,
          4.968058475259839,
          4.98893267053404,
          5.009806865808241,
          5.030681061082442,
          5.051555256356643,
          5.072429451630844,
          5.093303646905045,
          5.114177842179246,
          5.1350520374534465,
          5.155926232727648,
          5.176800428001849,
          5.19767462327605,
          5.218548818550251,
          5.239423013824452,
          5.260297209098653,
          5.281171404372854,
          5.302045599647055,
          5.322919794921256,
          5.343793990195457,
          5.364668185469658,
          5.385542380743859,
          5.40641657601806,
          5.427290771292261,
          5.448164966566462,
          5.469039161840663,
          5.489913357114864,
          5.510787552389065,
          5.531661747663266,
          5.552535942937467,
          5.573410138211668,
          5.594284333485869,
          5.61515852876007,
          5.636032724034271,
          5.656906919308472,
          5.677781114582673,
          5.698655309856874,
          5.719529505131075,
          5.740403700405276,
          5.761277895679477,
          5.782152090953678,
          5.803026286227879,
          5.82390048150208,
          5.844774676776281,
          5.865648872050482,
          5.886523067324683,
          5.907397262598884,
          5.928271457873085,
          5.949145653147286,
          5.9700198484214875,
          5.990894043695688,
          6.011768238969889,
          6.0326424342440905,
          6.053516629518291,
          6.074390824792492,
          6.095265020066693,
          6.116139215340894,
          6.137013410615095,
          6.157887605889296,
          6.178761801163497,
          6.199635996437698,
          6.220510191711899,
          6.2413843869861,
          6.262258582260301,
          6.283132777534502,
          6.304006972808703,
          6.3248811680829045,
          6.345755363357105,
          6.366629558631306,
          6.3875037539055075,
          6.408377949179708,
          6.429252144453909,
          6.450126339728111,
          6.471000535002311,
          6.491874730276512,
          6.512748925550714,
          6.533623120824914,
          6.554497316099115,
          6.575371511373316,
          6.596245706647517,
          6.617119901921718,
          6.637994097195919,
          6.65886829247012,
          6.6797424877443214,
          6.700616683018522,
          6.721490878292723,
          6.7423650735669245,
          6.763239268841125,
          6.784113464115326,
          6.8049876593895275,
          6.825861854663728,
          6.846736049937929,
          6.867610245212131,
          6.888484440486331,
          6.909358635760532,
          6.930232831034734,
          6.951107026308934,
          6.971981221583135,
          6.992855416857337,
          7.013729612131537,
          7.034603807405738,
          7.055478002679939,
          7.07635219795414,
          7.0972263932283415,
          7.118100588502542,
          7.138974783776743,
          7.1598489790509445,
          7.180723174325145,
          7.201597369599346,
          7.222471564873548,
          7.243345760147748,
          7.264219955421949,
          7.285094150696151,
          7.305968345970351,
          7.326842541244552,
          7.347716736518754,
          7.368590931792954,
          7.389465127067155,
          7.410339322341357,
          7.431213517615557,
          7.4520877128897585,
          7.47296190816396,
          7.49383610343816,
          7.5147102987123615,
          7.535584493986562,
          7.556458689260763,
          7.577332884534965,
          7.598207079809165,
          7.619081275083366,
          7.639955470357568,
          7.660829665631768,
          7.681703860905969,
          7.702578056180171,
          7.723452251454371,
          7.744326446728572,
          7.765200642002774,
          7.786074837276974,
          7.8069490325511754,
          7.827823227825377,
          7.848697423099577,
          7.8695716183737785,
          7.89044581364798,
          7.91132000892218,
          7.9321942041963815,
          7.953068399470583,
          7.973942594744783,
          7.994816790018985,
          8.015690985293185,
          8.036565180567386,
          8.057439375841588,
          8.078313571115789,
          8.09918776638999,
          8.12006196166419,
          8.140936156938391,
          8.161810352212592,
          8.182684547486794,
          8.203558742760995,
          8.224432938035196,
          8.245307133309396,
          8.266181328583597,
          8.287055523857799,
          8.307929719132,
          8.328803914406201,
          8.3496781096804,
          8.370552304954602,
          8.391426500228803,
          8.412300695503005,
          8.433174890777206,
          8.454049086051407,
          8.474923281325607,
          8.495797476599808,
          8.51667167187401,
          8.53754586714821,
          8.558420062422412,
          8.579294257696613,
          8.600168452970813,
          8.621042648245014,
          8.641916843519216,
          8.662791038793417,
          8.683665234067618,
          8.70453942934182,
          8.725413624616019,
          8.74628781989022,
          8.767162015164422,
          8.788036210438623,
          8.808910405712824,
          8.829784600987024,
          8.850658796261225,
          8.871532991535426,
          8.892407186809628,
          8.913281382083829,
          8.93415557735803,
          8.95502977263223,
          8.975903967906431,
          8.996778163180633,
          9.017652358454834,
          9.038526553729035,
          9.059400749003236,
          9.080274944277436,
          9.101149139551637,
          9.122023334825839,
          9.14289753010004,
          9.163771725374241,
          9.184645920648443,
          9.205520115922642,
          9.226394311196843,
          9.247268506471045,
          9.268142701745246,
          9.289016897019447,
          9.309891092293647,
          9.330765287567848,
          9.35163948284205,
          9.37251367811625,
          9.393387873390452,
          9.414262068664653,
          9.435136263938853,
          9.456010459213054,
          9.476884654487256,
          9.497758849761457,
          9.518633045035658,
          9.53950724030986,
          9.560381435584059,
          9.58125563085826,
          9.602129826132462,
          9.623004021406663,
          9.643878216680864,
          9.664752411955066,
          9.685626607229265,
          9.706500802503466,
          9.727374997777668,
          9.748249193051869,
          9.76912338832607,
          9.78999758360027,
          9.810871778874471,
          9.831745974148673,
          9.852620169422874,
          9.873494364697075,
          9.894368559971277,
          9.915242755245476,
          9.936116950519677,
          9.956991145793879,
          9.97786534106808,
          9.998739536342281,
          10.019613731616483,
          10.040487926890682,
          10.061362122164883,
          10.082236317439085,
          10.103110512713286,
          10.123984707987487,
          10.144858903261689,
          10.165733098535888,
          10.18660729381009,
          10.20748148908429,
          10.228355684358492,
          10.249229879632693,
          10.270104074906893,
          10.290978270181094,
          10.311852465455296,
          10.332726660729497,
          10.353600856003698,
          10.3744750512779,
          10.3953492465521,
          10.4162234418263,
          10.437097637100502,
          10.457971832374703,
          10.478846027648904,
          10.499720222923106,
          10.520594418197305,
          10.541468613471507,
          10.562342808745708,
          10.58321700401991,
          10.60409119929411,
          10.624965394568312,
          10.645839589842511,
          10.666713785116713,
          10.687587980390914,
          10.708462175665115,
          10.729336370939317,
          10.750210566213516,
          10.771084761487717,
          10.791958956761919,
          10.81283315203612,
          10.833707347310321,
          10.854581542584523,
          10.875455737858722,
          10.896329933132924,
          10.917204128407125,
          10.938078323681326,
          10.958952518955527,
          10.979826714229729,
          11.000700909503928,
          11.02157510477813,
          11.042449300052331,
          11.063323495326532,
          11.084197690600734,
          11.105071885874935,
          11.125946081149134,
          11.146820276423336,
          11.167694471697537,
          11.188568666971738,
          11.20944286224594,
          11.23031705752014,
          11.25119125279434,
          11.272065448068542,
          11.292939643342743,
          11.313813838616944,
          11.334688033891146,
          11.355562229165345,
          11.376436424439547,
          11.397310619713748,
          11.41818481498795,
          11.43905901026215,
          11.459933205536352,
          11.480807400810551,
          11.501681596084753,
          11.522555791358954,
          11.543429986633155,
          11.564304181907357,
          11.585178377181558,
          11.606052572455757,
          11.626926767729959,
          11.64780096300416,
          11.668675158278361,
          11.689549353552563,
          11.710423548826762,
          11.731297744100964,
          11.752171939375165,
          11.773046134649366,
          11.793920329923568,
          11.814794525197769,
          11.835668720471968,
          11.85654291574617,
          11.877417111020371,
          11.898291306294572,
          11.919165501568774,
          11.940039696842975,
          11.960913892117174,
          11.981788087391376,
          12.002662282665577,
          12.023536477939778,
          12.04441067321398,
          12.065284868488181,
          12.08615906376238,
          12.107033259036582,
          12.127907454310783,
          12.148781649584985,
          12.169655844859186,
          12.190530040133385,
          12.211404235407587,
          12.232278430681788,
          12.25315262595599,
          12.27402682123019,
          12.294901016504392,
          12.315775211778591,
          12.336649407052793,
          12.357523602326994,
          12.378397797601195,
          12.399271992875397,
          12.420146188149598,
          12.441020383423798,
          12.461894578697999,
          12.4827687739722,
          12.503642969246402,
          12.524517164520603,
          12.545391359794804,
          12.566265555069004,
          12.587139750343205,
          12.608013945617406,
          12.628888140891608,
          12.649762336165809,
          12.670636531440008,
          12.69151072671421,
          12.712384921988411,
          12.733259117262612,
          12.754133312536814,
          12.775007507811015,
          12.795881703085215,
          12.816755898359416,
          12.837630093633617,
          12.858504288907818,
          12.87937848418202,
          12.900252679456221,
          12.92112687473042,
          12.942001070004622,
          12.962875265278823,
          12.983749460553025,
          13.004623655827226,
          13.025497851101427,
          13.046372046375627,
          13.067246241649828,
          13.08812043692403,
          13.10899463219823,
          13.129868827472432,
          13.150743022746632,
          13.171617218020833,
          13.192491413295034,
          13.213365608569235,
          13.234239803843437,
          13.255113999117638,
          13.275988194391838,
          13.296862389666039,
          13.31773658494024,
          13.338610780214442,
          13.359484975488643,
          13.380359170762844,
          13.401233366037044,
          13.422107561311245,
          13.442981756585446,
          13.463855951859648,
          13.484730147133849,
          13.50560434240805,
          13.52647853768225,
          13.547352732956451,
          13.568226928230652,
          13.589101123504854,
          13.609975318779055,
          13.630849514053255,
          13.651723709327456,
          13.672597904601657,
          13.693472099875859,
          13.71434629515006,
          13.735220490424261,
          13.75609468569846,
          13.776968880972662,
          13.797843076246863,
          13.818717271521065,
          13.839591466795266,
          13.860465662069467,
          13.881339857343667,
          13.902214052617868,
          13.92308824789207,
          13.94396244316627,
          13.964836638440472,
          13.985710833714673,
          14.006585028988873,
          14.027459224263074,
          14.048333419537276,
          14.069207614811477,
          14.090081810085678,
          14.110956005359878,
          14.131830200634079,
          14.15270439590828,
          14.173578591182482,
          14.194452786456683,
          14.215326981730884,
          14.236201177005084,
          14.257075372279285,
          14.277949567553486,
          14.298823762827688,
          14.319697958101889,
          14.34057215337609,
          14.36144634865029,
          14.382320543924491,
          14.403194739198693,
          14.424068934472894,
          14.444943129747095,
          14.465817325021296,
          14.486691520295496,
          14.507565715569697,
          14.528439910843899,
          14.5493141061181,
          14.570188301392301,
          14.5910624966665,
          14.611936691940702,
          14.632810887214903,
          14.653685082489105,
          14.674559277763306,
          14.695433473037507,
          14.716307668311707,
          14.737181863585908,
          14.75805605886011,
          14.77893025413431,
          14.799804449408512,
          14.820678644682713,
          14.841552839956913,
          14.862427035231114,
          14.883301230505316,
          14.904175425779517,
          14.925049621053718,
          14.94592381632792,
          14.966798011602119,
          14.98767220687632,
          15.008546402150522,
          15.029420597424723,
          15.050294792698924,
          15.071168987973124,
          15.092043183247325,
          15.112917378521527,
          15.133791573795728,
          15.15466576906993,
          15.17553996434413,
          15.19641415961833,
          15.217288354892531,
          15.238162550166733,
          15.259036745440934,
          15.279910940715135,
          15.300785135989337,
          15.321659331263536,
          15.342533526537737,
          15.363407721811939,
          15.38428191708614,
          15.405156112360341,
          15.426030307634543,
          15.446904502908742,
          15.467778698182943,
          15.488652893457145,
          15.509527088731346,
          15.530401284005547,
          15.551275479279747,
          15.572149674553948,
          15.59302386982815,
          15.613898065102351,
          15.634772260376552,
          15.655646455650754,
          15.676520650924953,
          15.697394846199154,
          15.718269041473356,
          15.739143236747557,
          15.760017432021758,
          15.78089162729596,
          15.80176582257016,
          15.82264001784436,
          15.843514213118562,
          15.864388408392763,
          15.885262603666964,
          15.906136798941166,
          15.927010994215365,
          15.947885189489567,
          15.968759384763768,
          15.98963358003797,
          16.01050777531217,
          16.03138197058637,
          16.052256165860573,
          16.073130361134773,
          16.094004556408972,
          16.114878751683175,
          16.135752946957375,
          16.156627142231578,
          16.177501337505777,
          16.19837553277998,
          16.21924972805418,
          16.24012392332838,
          16.260998118602583,
          16.281872313876782,
          16.302746509150985,
          16.323620704425185,
          16.344494899699384,
          16.365369094973587,
          16.386243290247787,
          16.40711748552199,
          16.42799168079619,
          16.448865876070393,
          16.469740071344592,
          16.490614266618792,
          16.511488461892995,
          16.532362657167194,
          16.553236852441398,
          16.574111047715597,
          16.594985242989797,
          16.615859438264,
          16.6367336335382,
          16.657607828812402,
          16.678482024086602,
          16.6993562193608,
          16.720230414635004,
          16.741104609909204,
          16.761978805183407,
          16.782853000457607,
          16.80372719573181,
          16.82460139100601,
          16.84547558628021,
          16.866349781554412,
          16.88722397682861,
          16.908098172102815,
          16.928972367377014,
          16.949846562651214,
          16.970720757925417,
          16.991594953199616,
          17.01246914847382,
          17.03334334374802,
          17.05421753902222,
          17.07509173429642,
          17.09596592957062,
          17.116840124844824,
          17.137714320119024,
          17.158588515393227,
          17.179462710667426,
          17.200336905941626,
          17.22121110121583,
          17.24208529649003,
          17.26295949176423,
          17.28383368703843,
          17.30470788231263,
          17.325582077586834,
          17.346456272861033,
          17.367330468135236,
          17.388204663409436,
          17.40907885868364,
          17.42995305395784,
          17.450827249232038,
          17.47170144450624,
          17.49257563978044,
          17.513449835054644,
          17.534324030328843,
          17.555198225603043,
          17.576072420877246,
          17.596946616151445,
          17.61782081142565,
          17.638695006699848,
          17.659569201974048,
          17.68044339724825,
          17.70131759252245,
          17.722191787796653,
          17.743065983070853,
          17.763940178345056,
          17.784814373619255,
          17.805688568893455,
          17.826562764167658,
          17.847436959441858,
          17.86831115471606,
          17.88918534999026,
          17.91005954526446,
          17.930933740538663,
          17.951807935812862,
          17.972682131087065,
          17.993556326361265,
          18.014430521635465,
          18.035304716909668,
          18.056178912183867,
          18.07705310745807,
          18.09792730273227,
          18.118801498006473,
          18.139675693280672,
          18.160549888554872,
          18.181424083829075,
          18.202298279103275,
          18.223172474377478,
          18.244046669651677,
          18.264920864925877,
          18.28579506020008,
          18.30666925547428,
          18.327543450748482,
          18.348417646022682,
          18.369291841296885,
          18.390166036571085,
          18.411040231845284,
          18.431914427119487,
          18.452788622393687,
          18.47366281766789,
          18.49453701294209,
          18.51541120821629,
          18.536285403490492,
          18.55715959876469,
          18.578033794038895,
          18.598907989313094,
          18.619782184587294,
          18.640656379861497,
          18.661530575135696,
          18.6824047704099,
          18.7032789656841,
          18.724153160958302,
          18.7450273562325,
          18.7659015515067,
          18.786775746780904,
          18.807649942055104,
          18.828524137329307,
          18.849398332603506,
          18.870272527877706,
          18.89114672315191,
          18.91202091842611,
          18.93289511370031,
          18.95376930897451,
          18.97464350424871,
          18.995517699522914,
          19.016391894797113,
          19.037266090071316,
          19.058140285345516,
          19.07901448061972,
          19.09988867589392,
          19.120762871168118,
          19.14163706644232,
          19.16251126171652,
          19.183385456990724,
          19.204259652264923,
          19.225133847539123,
          19.246008042813326,
          19.266882238087526,
          19.28775643336173,
          19.308630628635928,
          19.32950482391013,
          19.35037901918433,
          19.37125321445853,
          19.392127409732733,
          19.413001605006933,
          19.433875800281136,
          19.454749995555336,
          19.475624190829535,
          19.496498386103738,
          19.517372581377938,
          19.53824677665214,
          19.55912097192634,
          19.57999516720054,
          19.600869362474743,
          19.621743557748943,
          19.642617753023146,
          19.663491948297345,
          19.68436614357155,
          19.705240338845748,
          19.726114534119947,
          19.74698872939415,
          19.76786292466835,
          19.788737119942553,
          19.809611315216753,
          19.830485510490952,
          19.851359705765155,
          19.872233901039355,
          19.893108096313558,
          19.913982291587757,
          19.934856486861957,
          19.95573068213616,
          19.97660487741036,
          19.997479072684563,
          20.018353267958762,
          20.039227463232965,
          20.060101658507165,
          20.080975853781364,
          20.101850049055567,
          20.122724244329767,
          20.14359843960397,
          20.16447263487817,
          20.18534683015237,
          20.206221025426572,
          20.22709522070077,
          20.247969415974975,
          20.268843611249174,
          20.289717806523377,
          20.310592001797577,
          20.331466197071776,
          20.35234039234598,
          20.37321458762018,
          20.394088782894382,
          20.41496297816858,
          20.43583717344278,
          20.456711368716984,
          20.477585563991184,
          20.498459759265387,
          20.519333954539587,
          20.540208149813786,
          20.56108234508799,
          20.58195654036219,
          20.602830735636392,
          20.62370493091059,
          20.644579126184794,
          20.665453321458994,
          20.686327516733193,
          20.707201712007397,
          20.728075907281596,
          20.7489501025558,
          20.76982429783,
          20.7906984931042,
          20.8115726883784,
          20.8324468836526,
          20.853321078926804
         ],
         "y": [
          0.002001259067985267,
          0.0020345981846230806,
          0.0020684223282016233,
          0.0021027372414644716,
          0.002137548712021479,
          0.002172862572298956,
          0.002208684699481395,
          0.002245021015444524,
          0.0022818774866796023,
          0.00231926012420881,
          0.0023571749834916255,
          0.0023956281643220203,
          0.0024346258107163948,
          0.0024741741107920877,
          0.0025142792966363486,
          0.002554947644165626,
          0.002596185472975087,
          0.002637999146178171,
          0.0026803950702361154,
          0.002723379694777297,
          0.002766959512406256,
          0.0028111410585022916,
          0.0028559309110075056,
          0.002901335690204132,
          0.0029473620584810896,
          0.00299401672008958,
          0.003041306420887629,
          0.0030892379480734486,
          0.003137818129907512,
          0.0031870538354231634,
          0.0032369519741257216,
          0.003287519495679902,
          0.0033387633895854522,
          0.003390690684840905,
          0.0034433084495952802,
          0.0034966237907876796,
          0.0035506438537746257,
          0.0036053758219450373,
          0.0036608269163227254,
          0.003717004395156332,
          0.0037739155534965148,
          0.0038315677227603994,
          0.0038899682702830713,
          0.003949124598856077,
          0.0040090441462527875,
          0.004069734384740577,
          0.004131202820579621,
          0.004193456993508326,
          0.004256504476215216,
          0.004320352873797201,
          0.0043850098232041685,
          0.004450482992669721,
          0.004516780081128073,
          0.004583908817616954,
          0.004651876960666436,
          0.004720692297673628,
          0.004790362644263133,
          0.004860895843633216,
          0.004932299765887543,
          0.005004582307352513,
          0.005077751389880005,
          0.0051518149601355616,
          0.0052267809888719065,
          0.00530265747018766,
          0.005379452420771333,
          0.005457173879130426,
          0.0055358299048056,
          0.005615428577569941,
          0.0056959779966131024,
          0.00577748627971045,
          0.005859961562377088,
          0.005943411997006682,
          0.006027845751995125,
          0.006113271010848943,
          0.006199695971278458,
          0.006287128844275593,
          0.00637557785317643,
          0.006465051232708338,
          0.006555557228021785,
          0.0066471040937067525,
          0.006739700092793701,
          0.006833353495739179,
          0.006928072579395975,
          0.007023865625967873,
          0.007120740921948953,
          0.007218706757047525,
          0.007317771423094567,
          0.007417943212936853,
          0.007519230419314648,
          0.0076216413337240555,
          0.007725184245263995,
          0.007829867439467958,
          0.007935699197120326,
          0.0080426877930576,
          0.008150841494954337,
          0.008260168562093927,
          0.008370677244124323,
          0.008482375779798608,
          0.008595272395700636,
          0.00870937530495571,
          0.008824692705926354,
          0.008941232780893345,
          0.009059003694721884,
          0.009178013593513298,
          0.009298270603241994,
          0.00941978282837803,
          0.009542558350495252,
          0.009666605226865207,
          0.009791931489036758,
          0.00991854514140169,
          0.010046454159746344,
          0.010175666489789358,
          0.010306190045705701,
          0.010438032708637099,
          0.010571202325188975,
          0.010705706705914026,
          0.010841553623782639,
          0.010978750812640235,
          0.011117305965651726,
          0.011257226733733156,
          0.011398520723970882,
          0.011541195498028197,
          0.011685258570539767,
          0.011830717407494019,
          0.011977579424603585,
          0.012125851985664071,
          0.012275542400901292,
          0.012426657925307203,
          0.012579205756964678,
          0.012733193035361443,
          0.012888626839693242,
          0.01304551418715655,
          0.013203862031231086,
          0.013363677259952123,
          0.013524966694173225,
          0.013687737085819234,
          0.013851995116130033,
          0.014017747393895266,
          0.014185000453680117,
          0.014353760754042643,
          0.014524034675742793,
          0.014695828519943365,
          0.014869148506403248,
          0.015044000771663138,
          0.015220391367224162,
          0.015398326257719473,
          0.015577811319079342,
          0.015758852336689944,
          0.015941455003546042,
          0.016125624918398095,
          0.016311367583893906,
          0.016498688404715262,
          0.016687592685709806,
          0.016878085630018552,
          0.017070172337199235,
          0.01726385780134603,
          0.017459146909205817,
          0.017656044438291427,
          0.017854555054992186,
          0.018054683312682153,
          0.01825643364982638,
          0.018459810388085498,
          0.018664817730419215,
          0.018871459759188806,
          0.019079740434259244,
          0.019289663591101156,
          0.01950123293889316,
          0.019714452058624755,
          0.019929324401200453,
          0.020145853285545277,
          0.02036404189671228,
          0.020583893283992172,
          0.020805410359025875,
          0.021028595893920036,
          0.0212534525193662,
          0.021479982722763906,
          0.02170818884634823,
          0.021938073085322068,
          0.022169637485993852,
          0.022402883943920773,
          0.022637814202058317,
          0.0228744298489163,
          0.02311273231672201,
          0.0233527228795908,
          0.023594402651704593,
          0.02383777258549888,
          0.024082833469858494,
          0.024329585928322767,
          0.02457803041730044,
          0.02482816722429487,
          0.02507999646613983,
          0.02533351808724672,
          0.025588731857863246,
          0.025845637372344396,
          0.0261042340474359,
          0.026364521120570902,
          0.026626497648180154,
          0.0268901625040163,
          0.027155514377492692,
          0.02742255177203725,
          0.02769127300346184,
          0.027961676198347683,
          0.028233759292447196,
          0.028507520029102874,
          0.02878295595768367,
          0.02906006443203926,
          0.029338842608972803,
          0.029619287446732787,
          0.029901395703523993,
          0.030185163936038734,
          0.03047058849800836,
          0.030757665538775614,
          0.031046391001888555,
          0.03133676062371631,
          0.031628769932087145,
          0.031922414244949494,
          0.03221768866905642,
          0.03251458809867372,
          0.032813107214312576,
          0.03311324048148699,
          0.03341498214949641,
          0.03371832625023427,
          0.034023266597022796,
          0.03432979678347447,
          0.034637910182380875,
          0.03494759994462901,
          0.03525885899814602,
          0.0355716800468725,
          0.03588605556976472,
          0.036201977819826675,
          0.0365194388231721,
          0.036838430378116814,
          0.0371589440543022,
          0.03748097119185012,
          0.0378045029005494,
          0.03812953005907482,
          0.03845604331423888,
          0.038784033080276475,
          0.039113489538163466,
          0.039444402634969074,
          0.039776762083242725,
          0.04011055736043587,
          0.04044577770835904,
          0.04078241213267449,
          0.04112044940242506,
          0.04145987804959947,
          0.041800686368734484,
          0.04214286241655437,
          0.04248639401164796,
          0.042831268734183796,
          0.043177473925663665,
          0.043524996688714804,
          0.0438738238869213,
          0.04422394214469501,
          0.04457533784718611,
          0.04492799714023398,
          0.04528190593035848,
          0.045637049884791954,
          0.04599341443155251,
          0.0463509847595587,
          0.046709745818785675,
          0.04706968232046374,
          0.04743077873731902,
          0.04779301930385657,
          0.048156388016686695,
          0.04852086863489408,
          0.0488864446804504,
          0.04925309943867055,
          0.04962081595871281,
          0.049989577054122825,
          0.050359365303422256,
          0.05073016305074163,
          0.051101952406497994,
          0.051474715248117635,
          0.05184843322080363,
          0.05222308773834876,
          0.052598659983993976,
          0.0529751309113322,
          0.053352481245258015,
          0.05373069148296321,
          0.05410974189497816,
          0.05448961252625946,
          0.05487028319732374,
          0.05525173350542758,
          0.055633942825794064,
          0.05601689031288566,
          0.05640055490172353,
          0.05678491530925345,
          0.05716995003575857,
          0.05755563736631831,
          0.057941955372314384,
          0.05832888191298322,
          0.058716394637015105,
          0.05910447098419997,
          0.05949308818711977,
          0.05988222327288746,
          0.06027185306493255,
          0.06066195418483297,
          0.061052503054193505,
          0.061443475896570524,
          0.061834848739442796,
          0.06222659741622853,
          0.06261869756834847,
          0.0630111246473347,
          0.06340385391698522,
          0.06379686045556428,
          0.06419011915804786,
          0.06458360473841449,
          0.06497729173198119,
          0.06537115449778412,
          0.06576516722100398,
          0.06615930391543569,
          0.06655353842600238,
          0.06694784443131314,
          0.06734219544626466,
          0.06773656482468593,
          0.06813092576202637,
          0.06852525129808654,
          0.0689195143197915,
          0.06931368756400628,
          0.06970774362039316,
          0.0701016549343104,
          0.07049539380975248,
          0.07088893241233053,
          0.07128224277229368,
          0.07167529678759013,
          0.07206806622696786,
          0.07246052273311468,
          0.07285263782583686,
          0.07324438290527614,
          0.07363572925516464,
          0.07402664804611726,
          0.0744171103389608,
          0.07480708708809967,
          0.07519654914491775,
          0.07558546726121526,
          0.07597381209268098,
          0.07636155420239858,
          0.07674866406438718,
          0.0771351120671748,
          0.07752086851740476,
          0.07790590364347444,
          0.07829018759920531,
          0.07867369046754426,
          0.07905638226429505,
          0.07943823294187993,
          0.07981921239313002,
          0.08019929045510443,
          0.08057843691293741,
          0.08095662150371243,
          0.08133381392036294,
          0.08170998381559935,
          0.08208510080586061,
          0.08245913447529093,
          0.08283205437973994,
          0.08320383005078613,
          0.08357443099978262,
          0.08394382672192473,
          0.0843119867003383,
          0.08467888041018844,
          0.08504447732280745,
          0.08540874690984171,
          0.08577165864741625,
          0.08613318202031665,
          0.0864932865261872,
          0.08685194167974467,
          0.0872091170170068,
          0.08756478209953492,
          0.08791890651868953,
          0.08827145989989842,
          0.08862241190693605,
          0.08897173224621409,
          0.0893193906710813,
          0.08966535698613273,
          0.09000960105152712,
          0.09035209278731145,
          0.09069280217775204,
          0.09103169927567138,
          0.09136875420678958,
          0.09170393717406955,
          0.09203721846206553,
          0.09236856844127349,
          0.09269795757248278,
          0.09302535641112826,
          0.09335073561164177,
          0.09367406593180223,
          0.0939953182370835,
          0.09431446350499875,
          0.0946314728294411,
          0.09494631742501883,
          0.0952589686313852,
          0.09556939791756071,
          0.09587757688624836,
          0.09618347727813978,
          0.09648707097621201,
          0.09678833001001379,
          0.09708722655994051,
          0.09738373296149677,
          0.09767782170954585,
          0.0979694654625451,
          0.09825863704676623,
          0.09854530946049975,
          0.09882945587824256,
          0.09911104965486785,
          0.0993900643297763,
          0.09966647363102785,
          0.09994025147945286,
          0.10021137199274222,
          0.10047980948951485,
          0.10074553849336249,
          0.10100853373687009,
          0.10126877016561167,
          0.1015262229421201,
          0.10178086744983043,
          0.10203267929699553,
          0.10228163432057345,
          0.10252770859008545,
          0.10277087841144393,
          0.10301112033074933,
          0.1032484111380553,
          0.10348272787110102,
          0.10371404781901014,
          0.10394234852595535,
          0.10416760779478768,
          0.10438980369062999,
          0.10460891454443336,
          0.10482491895649612,
          0.10503779579994439,
          0.1052475242241733,
          0.10545408365824832,
          0.10565745381426593,
          0.10585761469067238,
          0.1060545465755406,
          0.10624823004980373,
          0.10643864599044503,
          0.1066257755736432,
          0.10680960027787248,
          0.10699010188695676,
          0.10716726249307702,
          0.1073410644997314,
          0.10751149062464732,
          0.1076785239026447,
          0.10784214768844998,
          0.10800234565945997,
          0.10815910181845506,
          0.10831240049626109,
          0.10846222635435941,
          0.1086085643874442,
          0.10875139992592682,
          0.10889071863838629,
          0.10902650653396564,
          0.10915874996471334,
          0.10928743562786913,
          0.10941255056809432,
          0.10953408217964519,
          0.10965201820848966,
          0.10976634675436646,
          0.10987705627278636,
          0.1099841355769748,
          0.11008757383975584,
          0.11018736059537676,
          0.1102834857412727,
          0.11037593953977134,
          0.11046471261973698,
          0.11054979597815341,
          0.11063118098164587,
          0.11070885936794085,
          0.11078282324726409,
          0.11085306510367623,
          0.11091957779634562,
          0.11098235456075825,
          0.1110413890098643,
          0.1110966751351612,
          0.11114820730771287,
          0.11119598027910485,
          0.11123998918233517,
          0.11128022953264087,
          0.1113166972282595,
          0.11134938855112608,
          0.11137830016750484,
          0.11140342912855583,
          0.11142477287083617,
          0.11144232921673591,
          0.1114560963748483,
          0.11146607294027436,
          0.11147225789486204,
          0.11147465060737909,
          0.11147325083362071,
          0.11146805871645092,
          0.1114590747857783,
          0.11144629995846589,
          0.11142973553817521,
          0.11140938321514453,
          0.11138524506590139,
          0.11135732355290959,
          0.11132562152415043,
          0.11129014221263854,
          0.11125088923587247,
          0.1112078665952199,
          0.11116107867523778,
          0.11111053024292773,
          0.11105622644692646,
          0.1109981728166318,
          0.11093637526126432,
          0.11087084006886486,
          0.11080157390522823,
          0.11072858381277316,
          0.11065187720934895,
          0.11057146188697912,
          0.11048734601054219,
          0.11039953811639004,
          0.11030804711090403,
          0.11021288226898956,
          0.11011405323250895,
          0.11001157000865334,
          0.10990544296825391,
          0.10979568284403288,
          0.10968230072879451,
          0.1095653080735568,
          0.10944471668562396,
          0.10932053872660061,
          0.10919278671034778,
          0.1090614735008811,
          0.10892661231021238,
          0.10878821669613395,
          0.10864630055994756,
          0.10850087814413717,
          0.10835196402998724,
          0.10819957313514608,
          0.10804372071113577,
          0.10788442234080847,
          0.1077216939357503,
          0.10755555173363282,
          0.10738601229551326,
          0.10721309250308379,
          0.10703680955587079,
          0.10685718096838416,
          0.10667422456721817,
          0.10648795848810379,
          0.10629840117291349,
          0.10610557136661952,
          0.10590948811420553,
          0.10571017075753314,
          0.10550763893216365,
          0.10530191256413583,
          0.10509301186670028,
          0.10488095733701161,
          0.10466576975277857,
          0.10444747016887337,
          0.10422607991390087,
          0.10400162058672811,
          0.10377411405297542,
          0.10354358244146968,
          0.10331004814066044,
          0.10307353379499995,
          0.10283406230128778,
          0.10259165680498074,
          0.10234634069646915,
          0.10209813760732045,
          0.10184707140649019,
          0.10159316619650237,
          0.10133644630959913,
          0.10107693630386103,
          0.10081466095929863,
          0.10054964527391645,
          0.10028191445974996,
          0.10001149393887646,
          0.09973840933940104,
          0.09946268649141811,
          0.09918435142294975,
          0.09890343035586141,
          0.09861994970175621,
          0.09833393605784843,
          0.09804541620281743,
          0.09775441709264232,
          0.09746096585641917,
          0.0971650897921608,
          0.09686681636258052,
          0.09656617319086058,
          0.09626318805640642,
          0.09595788889058733,
          0.0956503037724647,
          0.09534046092450858,
          0.09502838870830371,
          0.09471411562024551,
          0.09439767028722727,
          0.09407908146231966,
          0.0937583780204427,
          0.0934355889540319,
          0.09311074336869904,
          0.09278387047888866,
          0.09245499960353085,
          0.09212416016169193,
          0.09179138166822305,
          0.09145669372940826,
          0.09112012603861258,
          0.09078170837193121,
          0.09044147058384036,
          0.09009944260285131,
          0.08975565442716765,
          0.08941013612034732,
          0.08906291780696984,
          0.08871402966831012,
          0.08836350193801873,
          0.08801136489781101,
          0.0876576488731642,
          0.08730238422902462,
          0.08694560136552523,
          0.08658733071371445,
          0.08622760273129725,
          0.08586644789838904,
          0.08550389671328348,
          0.08513997968823465,
          0.08477472734525483,
          0.08440817021192816,
          0.08404033881724159,
          0.08367126368743319,
          0.08330097534185926,
          0.08292950428888043,
          0.08255688102176796,
          0.08218313601463054,
          0.08180829971836293,
          0.08143240255661656,
          0.08105547492179307,
          0.08067754717106156,
          0.0802986496224003,
          0.07991881255066303,
          0.07953806618367174,
          0.07915644069833504,
          0.07877396621679425,
          0.07839067280259675,
          0.0780065904568979,
          0.07762174911469202,
          0.07723617864107295,
          0.07684990882752461,
          0.07646296938824296,
          0.07607538995648874,
          0.07568720008097282,
          0.07529842922227377,
          0.07490910674928891,
          0.07451926193571877,
          0.074128923956586,
          0.07373812188478918,
          0.07334688468769156,
          0.07295524122374618,
          0.0725632202391569,
          0.07217085036457628,
          0.07177816011184103,
          0.07138517787074486,
          0.07099193190584975,
          0.0705984503533359,
          0.07020476121789056,
          0.06981089236963656,
          0.06941687154110067,
          0.06902272632422204,
          0.06862848416740186,
          0.06823417237259347,
          0.0678398180924342,
          0.06744544832741899,
          0.06705108992311597,
          0.06665676956742442,
          0.0662625137878757,
          0.06586834894897697,
          0.06547430124959831,
          0.06508039672040343,
          0.06468666122132426,
          0.0642931204390795,
          0.0638997998847378,
          0.06350672489132521,
          0.06311392061147762,
          0.06272141201513809,
          0.062329223887299424,
          0.06193738082579198,
          0.061545907239117244,
          0.06115482734432689,
          0.060764165164947787,
          0.060373944528952846,
          0.05998418906677802,
          0.05959492220938566,
          0.05920616718637383,
          0.05881794702413232,
          0.05843028454404488,
          0.05804320236073813,
          0.057656722880376814,
          0.05727086829900603,
          0.056885660600939796,
          0.05650112155719624,
          0.056117272723979705,
          0.0557341354412093,
          0.05535173083109405,
          0.054970079796754924,
          0.05458920302089318,
          0.05420912096450528,
          0.053829853865644366,
          0.05345142173822806,
          0.05307384437089247,
          0.05269714132589274,
          0.052321331938049366,
          0.05194643531374073,
          0.051572470329941424,
          0.051199455633306364,
          0.0508274096393006,
          0.05045635053137447,
          0.05008629626018403,
          0.049717264542856805,
          0.04934927286230233,
          0.04898233846656739,
          0.0486164783682361,
          0.04825170934387408,
          0.04788804793351683,
          0.047525510440202125,
          0.04716411292954598,
          0.04680387122936195,
          0.04644480092932399,
          0.046086917380671825,
          0.04573023569595919,
          0.04537477074884441,
          0.04502053717392309,
          0.04466754936660248,
          0.04431582148301765,
          0.04396536743998855,
          0.04361620091501809,
          0.04326833534633081,
          0.042921783932951624,
          0.04257655963482476,
          0.04223267517297195,
          0.04189014302969001,
          0.04154897544878719,
          0.04120918443585806,
          0.04087078175859643,
          0.0405337789471462,
          0.04019818729448942,
          0.039864017856871284,
          0.03953128145426195,
          0.039199988670854335,
          0.03887014985559771,
          0.03854177512276691,
          0.038214874352566194,
          0.037889457191767895,
          0.03756553305438513,
          0.03724311112237822,
          0.03692220034639424,
          0.036602809446539784,
          0.03628494691318574,
          0.03596862100780424,
          0.035653839763837056,
          0.03534061098759502,
          0.035028942259188206,
          0.03471884093348613,
          0.03441031414110763,
          0.034103368789440064,
          0.033798011563687266,
          0.033494248927945634,
          0.03319208712630833,
          0.03289153218399658,
          0.032592589908517974,
          0.03229526589085111,
          0.0319995655066562,
          0.03170549391751103,
          0.03141305607217201,
          0.0311222567078596,
          0.030833100351567694,
          0.03054559132139651,
          0.03025973372790867,
          0.029975531475507376,
          0.029692988263837136,
          0.02941210758920565,
          0.029132892746026862,
          0.028855346828284598,
          0.028579472731016117,
          0.02830527315181561,
          0.028032750592356215,
          0.027761907359931046,
          0.027492745569012333,
          0.027225267142827723,
          0.026959473814954324,
          0.026695367130928734,
          0.026432948449873817,
          0.026172218946140587,
          0.025913179610965568,
          0.025655831254142926,
          0.025400174505710287,
          0.02514620981764898,
          0.024893937465596788,
          0.02464335755057395,
          0.02439447000072134,
          0.02414727457305013,
          0.02390177085520329,
          0.023657958267227365,
          0.02341583606335519,
          0.02317540333379801,
          0.02293665900654735,
          0.022699601849185954,
          0.022464230470706763,
          0.02223054332334064,
          0.021998538704391002,
          0.021768214758076148,
          0.021539569477378173,
          0.02131260070589782,
          0.021087306139715684,
          0.020863683329258313,
          0.02064172968116956,
          0.020421442460186456,
          0.020202818791018852,
          0.01998585566023319,
          0.01977054991813903,
          0.019556898280678886,
          0.019344897331320013,
          0.019134543522948477,
          0.018925833179764866,
          0.018718762499180825,
          0.018513327553716902,
          0.01830952429290027,
          0.01810734854516283,
          0.01790679601973889,
          0.017707862308561795,
          0.017510542888159904,
          0.017314833121550532,
          0.01712072826013243,
          0.016928223445575947,
          0.016737313711710264,
          0.016547993986408292,
          0.016360259093467555,
          0.016174103754488144,
          0.01598952259074603,
          0.015806510125062533,
          0.01562506078366899,
          0.015445168898066295,
          0.01526682870687946,
          0.01509003435770621,
          0.014914779908959917,
          0.01474105933170627,
          0.014568866511493249,
          0.014398195250174523,
          0.014229039267725478,
          0.01406139220405212,
          0.013895247620792025,
          0.013730599003107498,
          0.013567439761470576,
          0.013405763233439245,
          0.013245562685425313,
          0.013086831314452882,
          0.01292956224990783,
          0.012773748555277785,
          0.012619383229882123,
          0.012466459210592343,
          0.012314969373541925,
          0.012164906535825921,
          0.012016263457190018,
          0.011869032841708378,
          0.011723207339450882,
          0.011578779548138669,
          0.011435742014788584,
          0.011294087237345663,
          0.011153807666303925,
          0.011014895706315269,
          0.010877343717785776,
          0.010741144018460084,
          0.01060628888499287,
          0.010472770554507767,
          0.010340581226143583,
          0.010209713062587049,
          0.010080158191593015,
          0.0099519087074907,
          0.009824956672677016,
          0.009699294119096114,
          0.009574913049705093,
          0.009451805439926188,
          0.009329963239084704,
          0.00920937837183317,
          0.00909004273956111,
          0.008971948221790645,
          0.008855086677557826,
          0.008739449946779245,
          0.008625029851604415,
          0.008511818197753254,
          0.008399806775838984,
          0.008288987362676296,
          0.008179351722574451,
          0.008070891608615717,
          0.00796359876391855,
          0.007857464922886005,
          0.0077524818124387615,
          0.007648641153233209,
          0.007545934660864321,
          0.0074443540470531195,
          0.007343891020819112,
          0.007244537289637207,
          0.007146284560579423,
          0.007049124541441257,
          0.006953048941852523,
          0.006858049474373,
          0.006764117855572481,
          0.006671245807095535,
          0.006579425056710833,
          0.006488647339344938,
          0.006398904398100853,
          0.0063101879852609614,
          0.006222489863274759,
          0.006135801805730987,
          0.006050115598314552,
          0.005965423039748041,
          0.005881715942717821,
          0.005798986134784987,
          0.005717225459280859,
          0.005636425776187355,
          0.005556578963002152,
          0.005477676915588563,
          0.005399711549010458,
          0.005322674798351927,
          0.005246558619522003,
          0.005171354990044488,
          0.0050970559098325735,
          0.0050236534019489545,
          0.004951139513350746,
          0.0048795063156200245,
          0.00480874590567933,
          0.004738850406492807,
          0.004669811967752694,
          0.004601622766551285,
          0.004534275008038595,
          0.004467760926065589,
          0.004402072783813224,
          0.004337202874407353,
          0.0042731435215194145,
          0.004209887079953292,
          0.004147425936218091,
          0.004085752509087256,
          0.004024859250143803,
          0.003964738644312021,
          0.003905383210375606,
          0.003846785501482284,
          0.0037889381056352045,
          0.0037318336461709518,
          0.003675464782224507,
          0.003619824209181159,
          0.0035649046591154005,
          0.0035106989012171096,
          0.0034571997422048885,
          0.0034044000267268743,
          0.0033522926377490413,
          0.003300870496931029,
          0.003250126564989821,
          0.0032000538420511207,
          0.003150645367988816,
          0.0031018942227523856,
          0.003053793526682577,
          0.003006336440815375,
          0.0029595161671743335,
          0.002913325949051552,
          0.002867759071277207,
          0.0028228088604779493,
          0.0027784686853242063,
          0.0027347319567664423,
          0.0026915921282606855,
          0.002649042695983238,
          0.002607077199034843,
          0.0025656892196344043,
          0.0025248723833022862,
          0.0024846203590335,
          0.0024449268594606997,
          0.0024057856410073203,
          0.002367190504030789,
          0.002329135292956081,
          0.0022916138963997457,
          0.002254620247284343,
          0.0022181483229437495,
          0.0021821921452190906,
          0.0021467457805457455,
          0.0021118033400313765,
          0.002077358979525114,
          0.002043406899678147,
          0.002009941345995683,
          0.001976956608880578,
          0.0019444470236685998,
          0.0019124069706555754,
          0.0018808308751165268,
          0.0018497132073168343,
          0.0018190484825157055,
          0.0017888312609619405,
          0.0017590561478821962,
          0.0017297177934618812,
          0.0017008108928187335,
          0.0016723301859693173,
          0.0016442704577884547,
          0.0016166265379617974,
          0.001589393300931653,
          0.001562565665836107,
          0.0015361385964417142,
          0.0015101071010697209,
          0.0014844662325160882,
          0.0014592110879653045,
          0.001434336808898216,
          0.0014098385809939533,
          0.001385711634026031,
          0.0013619512417528516,
          0.0013385527218025936,
          0.0013155114355527173,
          0.0012928227880041649,
          0.001270482227650321
         ]
        }
       ],
       "layout": {
        "annotations": [
         {
          "align": "center",
          "bgcolor": "white",
          "font": {
           "color": "black",
           "size": 12
          },
          "opacity": 0.8,
          "showarrow": false,
          "text": "     Assimetria: 0.44<br>Curtose: 0.94",
          "x": 0.995,
          "xref": "paper",
          "y": 0.995,
          "yref": "paper"
         }
        ],
        "bargap": 0.1,
        "showlegend": false,
        "template": {
         "data": {
          "bar": [
           {
            "error_x": {
             "color": "#2a3f5f"
            },
            "error_y": {
             "color": "#2a3f5f"
            },
            "marker": {
             "line": {
              "color": "#E5ECF6",
              "width": 0.5
             },
             "pattern": {
              "fillmode": "overlay",
              "size": 10,
              "solidity": 0.2
             }
            },
            "type": "bar"
           }
          ],
          "barpolar": [
           {
            "marker": {
             "line": {
              "color": "#E5ECF6",
              "width": 0.5
             },
             "pattern": {
              "fillmode": "overlay",
              "size": 10,
              "solidity": 0.2
             }
            },
            "type": "barpolar"
           }
          ],
          "carpet": [
           {
            "aaxis": {
             "endlinecolor": "#2a3f5f",
             "gridcolor": "white",
             "linecolor": "white",
             "minorgridcolor": "white",
             "startlinecolor": "#2a3f5f"
            },
            "baxis": {
             "endlinecolor": "#2a3f5f",
             "gridcolor": "white",
             "linecolor": "white",
             "minorgridcolor": "white",
             "startlinecolor": "#2a3f5f"
            },
            "type": "carpet"
           }
          ],
          "choropleth": [
           {
            "colorbar": {
             "outlinewidth": 0,
             "ticks": ""
            },
            "type": "choropleth"
           }
          ],
          "contour": [
           {
            "colorbar": {
             "outlinewidth": 0,
             "ticks": ""
            },
            "colorscale": [
             [
              0,
              "#0d0887"
             ],
             [
              0.1111111111111111,
              "#46039f"
             ],
             [
              0.2222222222222222,
              "#7201a8"
             ],
             [
              0.3333333333333333,
              "#9c179e"
             ],
             [
              0.4444444444444444,
              "#bd3786"
             ],
             [
              0.5555555555555556,
              "#d8576b"
             ],
             [
              0.6666666666666666,
              "#ed7953"
             ],
             [
              0.7777777777777778,
              "#fb9f3a"
             ],
             [
              0.8888888888888888,
              "#fdca26"
             ],
             [
              1,
              "#f0f921"
             ]
            ],
            "type": "contour"
           }
          ],
          "contourcarpet": [
           {
            "colorbar": {
             "outlinewidth": 0,
             "ticks": ""
            },
            "type": "contourcarpet"
           }
          ],
          "heatmap": [
           {
            "colorbar": {
             "outlinewidth": 0,
             "ticks": ""
            },
            "colorscale": [
             [
              0,
              "#0d0887"
             ],
             [
              0.1111111111111111,
              "#46039f"
             ],
             [
              0.2222222222222222,
              "#7201a8"
             ],
             [
              0.3333333333333333,
              "#9c179e"
             ],
             [
              0.4444444444444444,
              "#bd3786"
             ],
             [
              0.5555555555555556,
              "#d8576b"
             ],
             [
              0.6666666666666666,
              "#ed7953"
             ],
             [
              0.7777777777777778,
              "#fb9f3a"
             ],
             [
              0.8888888888888888,
              "#fdca26"
             ],
             [
              1,
              "#f0f921"
             ]
            ],
            "type": "heatmap"
           }
          ],
          "heatmapgl": [
           {
            "colorbar": {
             "outlinewidth": 0,
             "ticks": ""
            },
            "colorscale": [
             [
              0,
              "#0d0887"
             ],
             [
              0.1111111111111111,
              "#46039f"
             ],
             [
              0.2222222222222222,
              "#7201a8"
             ],
             [
              0.3333333333333333,
              "#9c179e"
             ],
             [
              0.4444444444444444,
              "#bd3786"
             ],
             [
              0.5555555555555556,
              "#d8576b"
             ],
             [
              0.6666666666666666,
              "#ed7953"
             ],
             [
              0.7777777777777778,
              "#fb9f3a"
             ],
             [
              0.8888888888888888,
              "#fdca26"
             ],
             [
              1,
              "#f0f921"
             ]
            ],
            "type": "heatmapgl"
           }
          ],
          "histogram": [
           {
            "marker": {
             "pattern": {
              "fillmode": "overlay",
              "size": 10,
              "solidity": 0.2
             }
            },
            "type": "histogram"
           }
          ],
          "histogram2d": [
           {
            "colorbar": {
             "outlinewidth": 0,
             "ticks": ""
            },
            "colorscale": [
             [
              0,
              "#0d0887"
             ],
             [
              0.1111111111111111,
              "#46039f"
             ],
             [
              0.2222222222222222,
              "#7201a8"
             ],
             [
              0.3333333333333333,
              "#9c179e"
             ],
             [
              0.4444444444444444,
              "#bd3786"
             ],
             [
              0.5555555555555556,
              "#d8576b"
             ],
             [
              0.6666666666666666,
              "#ed7953"
             ],
             [
              0.7777777777777778,
              "#fb9f3a"
             ],
             [
              0.8888888888888888,
              "#fdca26"
             ],
             [
              1,
              "#f0f921"
             ]
            ],
            "type": "histogram2d"
           }
          ],
          "histogram2dcontour": [
           {
            "colorbar": {
             "outlinewidth": 0,
             "ticks": ""
            },
            "colorscale": [
             [
              0,
              "#0d0887"
             ],
             [
              0.1111111111111111,
              "#46039f"
             ],
             [
              0.2222222222222222,
              "#7201a8"
             ],
             [
              0.3333333333333333,
              "#9c179e"
             ],
             [
              0.4444444444444444,
              "#bd3786"
             ],
             [
              0.5555555555555556,
              "#d8576b"
             ],
             [
              0.6666666666666666,
              "#ed7953"
             ],
             [
              0.7777777777777778,
              "#fb9f3a"
             ],
             [
              0.8888888888888888,
              "#fdca26"
             ],
             [
              1,
              "#f0f921"
             ]
            ],
            "type": "histogram2dcontour"
           }
          ],
          "mesh3d": [
           {
            "colorbar": {
             "outlinewidth": 0,
             "ticks": ""
            },
            "type": "mesh3d"
           }
          ],
          "parcoords": [
           {
            "line": {
             "colorbar": {
              "outlinewidth": 0,
              "ticks": ""
             }
            },
            "type": "parcoords"
           }
          ],
          "pie": [
           {
            "automargin": true,
            "type": "pie"
           }
          ],
          "scatter": [
           {
            "fillpattern": {
             "fillmode": "overlay",
             "size": 10,
             "solidity": 0.2
            },
            "type": "scatter"
           }
          ],
          "scatter3d": [
           {
            "line": {
             "colorbar": {
              "outlinewidth": 0,
              "ticks": ""
             }
            },
            "marker": {
             "colorbar": {
              "outlinewidth": 0,
              "ticks": ""
             }
            },
            "type": "scatter3d"
           }
          ],
          "scattercarpet": [
           {
            "marker": {
             "colorbar": {
              "outlinewidth": 0,
              "ticks": ""
             }
            },
            "type": "scattercarpet"
           }
          ],
          "scattergeo": [
           {
            "marker": {
             "colorbar": {
              "outlinewidth": 0,
              "ticks": ""
             }
            },
            "type": "scattergeo"
           }
          ],
          "scattergl": [
           {
            "marker": {
             "colorbar": {
              "outlinewidth": 0,
              "ticks": ""
             }
            },
            "type": "scattergl"
           }
          ],
          "scattermapbox": [
           {
            "marker": {
             "colorbar": {
              "outlinewidth": 0,
              "ticks": ""
             }
            },
            "type": "scattermapbox"
           }
          ],
          "scatterpolar": [
           {
            "marker": {
             "colorbar": {
              "outlinewidth": 0,
              "ticks": ""
             }
            },
            "type": "scatterpolar"
           }
          ],
          "scatterpolargl": [
           {
            "marker": {
             "colorbar": {
              "outlinewidth": 0,
              "ticks": ""
             }
            },
            "type": "scatterpolargl"
           }
          ],
          "scatterternary": [
           {
            "marker": {
             "colorbar": {
              "outlinewidth": 0,
              "ticks": ""
             }
            },
            "type": "scatterternary"
           }
          ],
          "surface": [
           {
            "colorbar": {
             "outlinewidth": 0,
             "ticks": ""
            },
            "colorscale": [
             [
              0,
              "#0d0887"
             ],
             [
              0.1111111111111111,
              "#46039f"
             ],
             [
              0.2222222222222222,
              "#7201a8"
             ],
             [
              0.3333333333333333,
              "#9c179e"
             ],
             [
              0.4444444444444444,
              "#bd3786"
             ],
             [
              0.5555555555555556,
              "#d8576b"
             ],
             [
              0.6666666666666666,
              "#ed7953"
             ],
             [
              0.7777777777777778,
              "#fb9f3a"
             ],
             [
              0.8888888888888888,
              "#fdca26"
             ],
             [
              1,
              "#f0f921"
             ]
            ],
            "type": "surface"
           }
          ],
          "table": [
           {
            "cells": {
             "fill": {
              "color": "#EBF0F8"
             },
             "line": {
              "color": "white"
             }
            },
            "header": {
             "fill": {
              "color": "#C8D4E3"
             },
             "line": {
              "color": "white"
             }
            },
            "type": "table"
           }
          ]
         },
         "layout": {
          "annotationdefaults": {
           "arrowcolor": "#2a3f5f",
           "arrowhead": 0,
           "arrowwidth": 1
          },
          "autotypenumbers": "strict",
          "coloraxis": {
           "colorbar": {
            "outlinewidth": 0,
            "ticks": ""
           }
          },
          "colorscale": {
           "diverging": [
            [
             0,
             "#8e0152"
            ],
            [
             0.1,
             "#c51b7d"
            ],
            [
             0.2,
             "#de77ae"
            ],
            [
             0.3,
             "#f1b6da"
            ],
            [
             0.4,
             "#fde0ef"
            ],
            [
             0.5,
             "#f7f7f7"
            ],
            [
             0.6,
             "#e6f5d0"
            ],
            [
             0.7,
             "#b8e186"
            ],
            [
             0.8,
             "#7fbc41"
            ],
            [
             0.9,
             "#4d9221"
            ],
            [
             1,
             "#276419"
            ]
           ],
           "sequential": [
            [
             0,
             "#0d0887"
            ],
            [
             0.1111111111111111,
             "#46039f"
            ],
            [
             0.2222222222222222,
             "#7201a8"
            ],
            [
             0.3333333333333333,
             "#9c179e"
            ],
            [
             0.4444444444444444,
             "#bd3786"
            ],
            [
             0.5555555555555556,
             "#d8576b"
            ],
            [
             0.6666666666666666,
             "#ed7953"
            ],
            [
             0.7777777777777778,
             "#fb9f3a"
            ],
            [
             0.8888888888888888,
             "#fdca26"
            ],
            [
             1,
             "#f0f921"
            ]
           ],
           "sequentialminus": [
            [
             0,
             "#0d0887"
            ],
            [
             0.1111111111111111,
             "#46039f"
            ],
            [
             0.2222222222222222,
             "#7201a8"
            ],
            [
             0.3333333333333333,
             "#9c179e"
            ],
            [
             0.4444444444444444,
             "#bd3786"
            ],
            [
             0.5555555555555556,
             "#d8576b"
            ],
            [
             0.6666666666666666,
             "#ed7953"
            ],
            [
             0.7777777777777778,
             "#fb9f3a"
            ],
            [
             0.8888888888888888,
             "#fdca26"
            ],
            [
             1,
             "#f0f921"
            ]
           ]
          },
          "colorway": [
           "#636efa",
           "#EF553B",
           "#00cc96",
           "#ab63fa",
           "#FFA15A",
           "#19d3f3",
           "#FF6692",
           "#B6E880",
           "#FF97FF",
           "#FECB52"
          ],
          "font": {
           "color": "#2a3f5f"
          },
          "geo": {
           "bgcolor": "white",
           "lakecolor": "white",
           "landcolor": "#E5ECF6",
           "showlakes": true,
           "showland": true,
           "subunitcolor": "white"
          },
          "hoverlabel": {
           "align": "left"
          },
          "hovermode": "closest",
          "mapbox": {
           "style": "light"
          },
          "paper_bgcolor": "white",
          "plot_bgcolor": "#E5ECF6",
          "polar": {
           "angularaxis": {
            "gridcolor": "white",
            "linecolor": "white",
            "ticks": ""
           },
           "bgcolor": "#E5ECF6",
           "radialaxis": {
            "gridcolor": "white",
            "linecolor": "white",
            "ticks": ""
           }
          },
          "scene": {
           "xaxis": {
            "backgroundcolor": "#E5ECF6",
            "gridcolor": "white",
            "gridwidth": 2,
            "linecolor": "white",
            "showbackground": true,
            "ticks": "",
            "zerolinecolor": "white"
           },
           "yaxis": {
            "backgroundcolor": "#E5ECF6",
            "gridcolor": "white",
            "gridwidth": 2,
            "linecolor": "white",
            "showbackground": true,
            "ticks": "",
            "zerolinecolor": "white"
           },
           "zaxis": {
            "backgroundcolor": "#E5ECF6",
            "gridcolor": "white",
            "gridwidth": 2,
            "linecolor": "white",
            "showbackground": true,
            "ticks": "",
            "zerolinecolor": "white"
           }
          },
          "shapedefaults": {
           "line": {
            "color": "#2a3f5f"
           }
          },
          "ternary": {
           "aaxis": {
            "gridcolor": "white",
            "linecolor": "white",
            "ticks": ""
           },
           "baxis": {
            "gridcolor": "white",
            "linecolor": "white",
            "ticks": ""
           },
           "bgcolor": "#E5ECF6",
           "caxis": {
            "gridcolor": "white",
            "linecolor": "white",
            "ticks": ""
           }
          },
          "title": {
           "x": 0.05
          },
          "xaxis": {
           "automargin": true,
           "gridcolor": "white",
           "linecolor": "white",
           "ticks": "",
           "title": {
            "standoff": 15
           },
           "zerolinecolor": "white",
           "zerolinewidth": 2
          },
          "yaxis": {
           "automargin": true,
           "gridcolor": "white",
           "linecolor": "white",
           "ticks": "",
           "title": {
            "standoff": 15
           },
           "zerolinecolor": "white",
           "zerolinewidth": 2
          }
         }
        },
        "title": {
         "text": "Histograma dos Retornos Mensais da Estratégia com Curva Normal Ajustada"
        },
        "xaxis": {
         "title": {
          "text": "Retornos Percentuais    (Log.)"
         }
        },
        "yaxis": {
         "title": {
          "text": "Frequência (Probabilidade)"
         }
        }
       }
      }
     },
     "metadata": {},
     "output_type": "display_data"
    }
   ],
   "source": [
    "# Suponha que 'average_monthly_results' seja o seu vetor de retornos da estratégia\n",
    "returns = average_monthly_results  # Substitua com os seus dados de retornos\n",
    "\n",
    "# Ajusta a distribuição normal aos dados (média e desvio padrão)\n",
    "mean, std_dev = stats.norm.fit(returns)\n",
    "\n",
    "# Cria o histograma\n",
    "hist_data = go.Histogram(\n",
    "    x=returns,\n",
    "    nbinsx=30,  # Defina o número de bins conforme necessário\n",
    "    name='Histograma dos Retornos',\n",
    "    opacity=0.75,\n",
    "    histnorm='probability'  # Normaliza o histograma para a probabilidade\n",
    ")\n",
    "\n",
    "# Cria a curva normal ajustada\n",
    "x_range = np.linspace(min(returns), max(returns), 1000)\n",
    "y_range = stats.norm.pdf(x_range, mean, std_dev)  # Calcula a função de densidade da normal\n",
    "\n",
    "# Adiciona a curva normal ao gráfico\n",
    "normal_curve = go.Scatter(\n",
    "    x=x_range,\n",
    "    y=y_range,\n",
    "    mode='lines',\n",
    "    name='Curva Normal Ajustada',\n",
    "    line=dict(color='red', width=2)\n",
    ")\n",
    "\n",
    "# Calcular a assimetria e a curtose\n",
    "skewness = stats.skew(returns)\n",
    "kurtosis = stats.kurtosis(returns)\n",
    "\n",
    "# Cria a figura com histograma e curva normal\n",
    "fig = go.Figure(data=[hist_data, normal_curve])\n",
    "\n",
    "# Adicionar anotações de assimetria e curtose\n",
    "fig.add_annotation(\n",
    "    x=0.995, y=0.995, \n",
    "    text=f'     Assimetria: {skewness:.2f}<br>Curtose: {kurtosis:.2f}', \n",
    "    showarrow=False, \n",
    "    font=dict(size=12, color=\"black\"), \n",
    "    align=\"center\", \n",
    "    xref=\"paper\", yref=\"paper\", \n",
    "    bgcolor=\"white\", opacity=0.8\n",
    ")\n",
    "\n",
    "# Atualiza o layout com títulos e rótulos\n",
    "fig.update_layout(\n",
    "    title=\"Histograma dos Retornos Mensais da Estratégia com Curva Normal Ajustada\",\n",
    "    xaxis_title=\"Retornos Percentuais    (Log.)\",\n",
    "    yaxis_title=\"Frequência (Probabilidade)\",\n",
    "    bargap=0.1,  # Ajusta o espaçamento entre as barras\n",
    "    #\n",
    "    showlegend=False\n",
    ")\n",
    "\n",
    "# Exibe o gráfico\n",
    "fig.show()\n"
   ]
  },
  {
   "cell_type": "markdown",
   "metadata": {},
   "source": [
    "*Assimetria -> quanto mais próximo de 0, mais \"normal\" é a distribuição*.\n",
    "\n",
    "*Curtose -> quanto mais próximo de 3, mais \"normal\" é a distribuição*."
   ]
  },
  {
   "cell_type": "markdown",
   "metadata": {},
   "source": [
    "A assimetria de 0,37 indica que a distribuição dos retornos é ligeiramente assimétrica para a direita (cauda direita um pouco mais longa ou mais \"gorda\"). Isso significa que, em média, existem algumas observações com retornos maiores, mas não de forma extrema. A assimetria é positiva, mas o valor de 0,37 é relativamente baixo, indicando que a distribuição não é fortemente inclinada, mas apresenta um pequeno desvio da simetria perfeita.\n",
    "\n",
    "A curtose de 1,12 é menor que 3, o que sugere que a distribuição dos retornos tem caudas mais leves do que uma distribuição normal (com curtose = 3). Em outras palavras, essa série tem menos extremos ou valores outliers comparada a uma distribuição normal. Uma curtose de 1,12 indica uma distribuição menos concentrada nas extremidades, com uma forma mais \"achatada\" no centro, em comparação com a distribuição normal.\n",
    "\n",
    "Conclusões:\n",
    "Distribuição levemente assimétrica: A assimetria positiva indica que a distribuição tem uma leve inclinação para a direita, sugerindo que, ocasionalmente, podem ocorrer retornos mais altos, mas não de forma predominante ou extrema.\n",
    "\n",
    "Distribuição com caudas leves: A curtose baixa indica que as caudas da distribuição são mais leves do que uma distribuição normal. Isso pode ser bom para estratégias de risco, pois a probabilidade de grandes perdas (ou ganhos) é menor. Contudo, também significa que a distribuição tende a ser mais concentrada perto da média.\n",
    "\n",
    "Em resumo, a série de retornos tem um comportamento levemente assimétrico para a direita e menos extremos em comparação com uma distribuição normal, o que pode indicar uma estratégia de risco mais controlado, mas também menos propensa a grandes oscilações.\n",
    "\n",
    "**By: ChatGPT**"
   ]
  },
  {
   "cell_type": "markdown",
   "metadata": {},
   "source": [
    "##### **Gráficos relacionados ao modelo MSGARCH e a LSTM**"
   ]
  },
  {
   "cell_type": "markdown",
   "metadata": {},
   "source": [
    "*Vamos utilizar as ações da Coca-Cola Company e do JPMorgan para exemplificar, em um gráfico, como nosso modelo captura a volatilidade condicional. Em seguida, usaremos as ações do JPMorgan para ilustrar, também com um gráfico, como o modelo realiza previsões.*"
   ]
  },
  {
   "cell_type": "code",
   "execution_count": 34,
   "metadata": {},
   "outputs": [],
   "source": [
    "setup = {\n",
    "    # Data inicial para a extração de dados (Deve obrigatoriamente ser um dia de negociação).\n",
    "    \"data_extraction_initial_date\": datetime(2019,1,2).date(), #  Primeiro dia de negociações do S&P500 em 2019.\n",
    "    \n",
    "    # Data final cujos dados serão coletados (Deve obrigatoriamente ser um dia de negociação e \n",
    "    # deve também obrigatoriamente suceder um dia de negociação.).\n",
    "    \"data_extraction_final_date\": datetime(2023,12,30).date(), #(Último dia de negociações do S&P500 em 2023). \n",
    "\n",
    "    # Define os períodos de tempo (janelas móveis) para o cálculo das principais features técnicas a serem usadas no modelo.\n",
    "    \"features_time_period\": {\n",
    "        # Define o período (janela móvel) para o cálculo dos retornos.\n",
    "        \"returns_time_period\": 1,\n",
    "        # Define o período (janela móvel) para o cálculo da média móvel exponencial.\n",
    "        \"exponential_moving_average_time_period\": 14,\n",
    "        # Define o período (janela móvel) para o cálculo do Índice de Força Relativa (RSI).\n",
    "        \"relative_strength_index_time_period\": 14,\n",
    "        # Define o período (janela móvel) para o cálculo da Faixa Média Verdadeira (ATR).\n",
    "        \"average_true_range_time_period\": 14,\n",
    "        # Define o período (janela móvel) para o cálculo do momentum.\n",
    "        \"momemtum_time_period\": 14,\n",
    "        # Frequência para coleta dos dados do VIX. O valor \"1d\" indica que os dados do VIX serão registrados \n",
    "        # em intervalos diários de negociação.\n",
    "        \"vix_time_period\": \"1d\",\n",
    "        # Define o período para o cálculo das mudanças percentuais (Usado no vix e no MSGARCH).\n",
    "        \"pct_change_period\": 1,\n",
    "    },\n",
    "    \n",
    "    # Período da estratégia a ser usada: define a frequência para a análise dos retornos (Ex.: 5 para análise semanal, 20 para mensal).\n",
    "    \"strategy_time_period\": 20, # Observação: São levados em conta como dias na estratégia apenas aqueles onde ocorreram negociações.\n",
    "    \n",
    "    # Define o comprimento das sequências de tempo (janelas móveis) usadas no modelo LSTM.\n",
    "    \"lstm_time_sequences_length\": 3\n",
    "}"
   ]
  },
  {
   "cell_type": "code",
   "execution_count": 35,
   "metadata": {},
   "outputs": [],
   "source": [
    "# Cria um objeto ticker para as ações da Cola Cola Company.\n",
    "coca_cola_data = Ticker(\"KO\", setup['data_extraction_initial_date'], setup['data_extraction_final_date'], setup['features_time_period'],setup['strategy_time_period'])\n",
    "\n",
    "# Cria um objeto ticker para as ações do JPMorgan.\n",
    "jpmorgan_data = Ticker(\"JPM\", setup['data_extraction_initial_date'], setup['data_extraction_final_date'], setup['features_time_period'],setup['strategy_time_period'])"
   ]
  },
  {
   "cell_type": "code",
   "execution_count": 36,
   "metadata": {},
   "outputs": [],
   "source": [
    "# Obtem o resultado da modelagem da volatilidade condicional do ticker \"KO\".\n",
    "coca_cola_conditional_volatility = coca_cola_data.__get_MSGARCH_results__()[1]\n",
    "coca_cola_conditional_volatility.name = \"Coca Cola\" # Seta o nome da série temporal \"coca_cola_conditional_volatility\".\n",
    "\n",
    "# Obtem o resultado da modelagem da volatilidade condicional do ticker \"JPM\".\n",
    "jpmorgan_conditional_volatility = jpmorgan_data.__get_MSGARCH_results__()[1]\n",
    "jpmorgan_conditional_volatility.name = \"JPMorgan\" # Seta o nome da série temporal \"jpmorgan_conditional_volatility\"."
   ]
  },
  {
   "cell_type": "code",
   "execution_count": 37,
   "metadata": {},
   "outputs": [
    {
     "data": {
      "application/vnd.plotly.v1+json": {
       "config": {
        "plotlyServerURL": "https://plot.ly"
       },
       "data": [
        {
         "mode": "lines",
         "name": "Coca Cola",
         "type": "scatter",
         "x": [
          "2019-01-25T00:00:00",
          "2019-01-28T00:00:00",
          "2019-01-29T00:00:00",
          "2019-01-30T00:00:00",
          "2019-01-31T00:00:00",
          "2019-02-01T00:00:00",
          "2019-02-04T00:00:00",
          "2019-02-05T00:00:00",
          "2019-02-06T00:00:00",
          "2019-02-07T00:00:00",
          "2019-02-08T00:00:00",
          "2019-02-11T00:00:00",
          "2019-02-12T00:00:00",
          "2019-02-13T00:00:00",
          "2019-02-14T00:00:00",
          "2019-02-15T00:00:00",
          "2019-02-19T00:00:00",
          "2019-02-20T00:00:00",
          "2019-02-21T00:00:00",
          "2019-02-22T00:00:00",
          "2019-02-25T00:00:00",
          "2019-02-26T00:00:00",
          "2019-02-27T00:00:00",
          "2019-02-28T00:00:00",
          "2019-03-01T00:00:00",
          "2019-03-04T00:00:00",
          "2019-03-05T00:00:00",
          "2019-03-06T00:00:00",
          "2019-03-07T00:00:00",
          "2019-03-08T00:00:00",
          "2019-03-11T00:00:00",
          "2019-03-12T00:00:00",
          "2019-03-13T00:00:00",
          "2019-03-14T00:00:00",
          "2019-03-15T00:00:00",
          "2019-03-18T00:00:00",
          "2019-03-19T00:00:00",
          "2019-03-20T00:00:00",
          "2019-03-21T00:00:00",
          "2019-03-22T00:00:00",
          "2019-03-25T00:00:00",
          "2019-03-26T00:00:00",
          "2019-03-27T00:00:00",
          "2019-03-28T00:00:00",
          "2019-03-29T00:00:00",
          "2019-04-01T00:00:00",
          "2019-04-02T00:00:00",
          "2019-04-03T00:00:00",
          "2019-04-04T00:00:00",
          "2019-04-05T00:00:00",
          "2019-04-08T00:00:00",
          "2019-04-09T00:00:00",
          "2019-04-10T00:00:00",
          "2019-04-11T00:00:00",
          "2019-04-12T00:00:00",
          "2019-04-15T00:00:00",
          "2019-04-16T00:00:00",
          "2019-04-17T00:00:00",
          "2019-04-18T00:00:00",
          "2019-04-22T00:00:00",
          "2019-04-23T00:00:00",
          "2019-04-24T00:00:00",
          "2019-04-25T00:00:00",
          "2019-04-26T00:00:00",
          "2019-04-29T00:00:00",
          "2019-04-30T00:00:00",
          "2019-05-01T00:00:00",
          "2019-05-02T00:00:00",
          "2019-05-03T00:00:00",
          "2019-05-06T00:00:00",
          "2019-05-07T00:00:00",
          "2019-05-08T00:00:00",
          "2019-05-09T00:00:00",
          "2019-05-10T00:00:00",
          "2019-05-13T00:00:00",
          "2019-05-14T00:00:00",
          "2019-05-15T00:00:00",
          "2019-05-16T00:00:00",
          "2019-05-17T00:00:00",
          "2019-05-20T00:00:00",
          "2019-05-21T00:00:00",
          "2019-05-22T00:00:00",
          "2019-05-23T00:00:00",
          "2019-05-24T00:00:00",
          "2019-05-28T00:00:00",
          "2019-05-29T00:00:00",
          "2019-05-30T00:00:00",
          "2019-05-31T00:00:00",
          "2019-06-03T00:00:00",
          "2019-06-04T00:00:00",
          "2019-06-05T00:00:00",
          "2019-06-06T00:00:00",
          "2019-06-07T00:00:00",
          "2019-06-10T00:00:00",
          "2019-06-11T00:00:00",
          "2019-06-12T00:00:00",
          "2019-06-13T00:00:00",
          "2019-06-14T00:00:00",
          "2019-06-17T00:00:00",
          "2019-06-18T00:00:00",
          "2019-06-19T00:00:00",
          "2019-06-20T00:00:00",
          "2019-06-21T00:00:00",
          "2019-06-24T00:00:00",
          "2019-06-25T00:00:00",
          "2019-06-26T00:00:00",
          "2019-06-27T00:00:00",
          "2019-06-28T00:00:00",
          "2019-07-01T00:00:00",
          "2019-07-02T00:00:00",
          "2019-07-03T00:00:00",
          "2019-07-05T00:00:00",
          "2019-07-08T00:00:00",
          "2019-07-09T00:00:00",
          "2019-07-10T00:00:00",
          "2019-07-11T00:00:00",
          "2019-07-12T00:00:00",
          "2019-07-15T00:00:00",
          "2019-07-16T00:00:00",
          "2019-07-17T00:00:00",
          "2019-07-18T00:00:00",
          "2019-07-19T00:00:00",
          "2019-07-22T00:00:00",
          "2019-07-23T00:00:00",
          "2019-07-24T00:00:00",
          "2019-07-25T00:00:00",
          "2019-07-26T00:00:00",
          "2019-07-29T00:00:00",
          "2019-07-30T00:00:00",
          "2019-07-31T00:00:00",
          "2019-08-01T00:00:00",
          "2019-08-02T00:00:00",
          "2019-08-05T00:00:00",
          "2019-08-06T00:00:00",
          "2019-08-07T00:00:00",
          "2019-08-08T00:00:00",
          "2019-08-09T00:00:00",
          "2019-08-12T00:00:00",
          "2019-08-13T00:00:00",
          "2019-08-14T00:00:00",
          "2019-08-15T00:00:00",
          "2019-08-16T00:00:00",
          "2019-08-19T00:00:00",
          "2019-08-20T00:00:00",
          "2019-08-21T00:00:00",
          "2019-08-22T00:00:00",
          "2019-08-23T00:00:00",
          "2019-08-26T00:00:00",
          "2019-08-27T00:00:00",
          "2019-08-28T00:00:00",
          "2019-08-29T00:00:00",
          "2019-08-30T00:00:00",
          "2019-09-03T00:00:00",
          "2019-09-04T00:00:00",
          "2019-09-05T00:00:00",
          "2019-09-06T00:00:00",
          "2019-09-09T00:00:00",
          "2019-09-10T00:00:00",
          "2019-09-11T00:00:00",
          "2019-09-12T00:00:00",
          "2019-09-13T00:00:00",
          "2019-09-16T00:00:00",
          "2019-09-17T00:00:00",
          "2019-09-18T00:00:00",
          "2019-09-19T00:00:00",
          "2019-09-20T00:00:00",
          "2019-09-23T00:00:00",
          "2019-09-24T00:00:00",
          "2019-09-25T00:00:00",
          "2019-09-26T00:00:00",
          "2019-09-27T00:00:00",
          "2019-09-30T00:00:00",
          "2019-10-01T00:00:00",
          "2019-10-02T00:00:00",
          "2019-10-03T00:00:00",
          "2019-10-04T00:00:00",
          "2019-10-07T00:00:00",
          "2019-10-08T00:00:00",
          "2019-10-09T00:00:00",
          "2019-10-10T00:00:00",
          "2019-10-11T00:00:00",
          "2019-10-14T00:00:00",
          "2019-10-15T00:00:00",
          "2019-10-16T00:00:00",
          "2019-10-17T00:00:00",
          "2019-10-18T00:00:00",
          "2019-10-21T00:00:00",
          "2019-10-22T00:00:00",
          "2019-10-23T00:00:00",
          "2019-10-24T00:00:00",
          "2019-10-25T00:00:00",
          "2019-10-28T00:00:00",
          "2019-10-29T00:00:00",
          "2019-10-30T00:00:00",
          "2019-10-31T00:00:00",
          "2019-11-01T00:00:00",
          "2019-11-04T00:00:00",
          "2019-11-05T00:00:00",
          "2019-11-06T00:00:00",
          "2019-11-07T00:00:00",
          "2019-11-08T00:00:00",
          "2019-11-11T00:00:00",
          "2019-11-12T00:00:00",
          "2019-11-13T00:00:00",
          "2019-11-14T00:00:00",
          "2019-11-15T00:00:00",
          "2019-11-18T00:00:00",
          "2019-11-19T00:00:00",
          "2019-11-20T00:00:00",
          "2019-11-21T00:00:00",
          "2019-11-22T00:00:00",
          "2019-11-25T00:00:00",
          "2019-11-26T00:00:00",
          "2019-11-27T00:00:00",
          "2019-11-29T00:00:00",
          "2019-12-02T00:00:00",
          "2019-12-03T00:00:00",
          "2019-12-04T00:00:00",
          "2019-12-05T00:00:00",
          "2019-12-06T00:00:00",
          "2019-12-09T00:00:00",
          "2019-12-10T00:00:00",
          "2019-12-11T00:00:00",
          "2019-12-12T00:00:00",
          "2019-12-13T00:00:00",
          "2019-12-16T00:00:00",
          "2019-12-17T00:00:00",
          "2019-12-18T00:00:00",
          "2019-12-19T00:00:00",
          "2019-12-20T00:00:00",
          "2019-12-23T00:00:00",
          "2019-12-24T00:00:00",
          "2019-12-26T00:00:00",
          "2019-12-27T00:00:00",
          "2019-12-30T00:00:00",
          "2019-12-31T00:00:00",
          "2020-01-02T00:00:00",
          "2020-01-03T00:00:00",
          "2020-01-06T00:00:00",
          "2020-01-07T00:00:00",
          "2020-01-08T00:00:00",
          "2020-01-09T00:00:00",
          "2020-01-10T00:00:00",
          "2020-01-13T00:00:00",
          "2020-01-14T00:00:00",
          "2020-01-15T00:00:00",
          "2020-01-16T00:00:00",
          "2020-01-17T00:00:00",
          "2020-01-21T00:00:00",
          "2020-01-22T00:00:00",
          "2020-01-23T00:00:00",
          "2020-01-24T00:00:00",
          "2020-01-27T00:00:00",
          "2020-01-28T00:00:00",
          "2020-01-29T00:00:00",
          "2020-01-30T00:00:00",
          "2020-01-31T00:00:00",
          "2020-02-03T00:00:00",
          "2020-02-04T00:00:00",
          "2020-02-05T00:00:00",
          "2020-02-06T00:00:00",
          "2020-02-07T00:00:00",
          "2020-02-10T00:00:00",
          "2020-02-11T00:00:00",
          "2020-02-12T00:00:00",
          "2020-02-13T00:00:00",
          "2020-02-14T00:00:00",
          "2020-02-18T00:00:00",
          "2020-02-19T00:00:00",
          "2020-02-20T00:00:00",
          "2020-02-21T00:00:00",
          "2020-02-24T00:00:00",
          "2020-02-25T00:00:00",
          "2020-02-26T00:00:00",
          "2020-02-27T00:00:00",
          "2020-02-28T00:00:00",
          "2020-03-02T00:00:00",
          "2020-03-03T00:00:00",
          "2020-03-04T00:00:00",
          "2020-03-05T00:00:00",
          "2020-03-06T00:00:00",
          "2020-03-09T00:00:00",
          "2020-03-10T00:00:00",
          "2020-03-11T00:00:00",
          "2020-03-12T00:00:00",
          "2020-03-13T00:00:00",
          "2020-03-16T00:00:00",
          "2020-03-17T00:00:00",
          "2020-03-18T00:00:00",
          "2020-03-19T00:00:00",
          "2020-03-20T00:00:00",
          "2020-03-23T00:00:00",
          "2020-03-24T00:00:00",
          "2020-03-25T00:00:00",
          "2020-03-26T00:00:00",
          "2020-03-27T00:00:00",
          "2020-03-30T00:00:00",
          "2020-03-31T00:00:00",
          "2020-04-01T00:00:00",
          "2020-04-02T00:00:00",
          "2020-04-03T00:00:00",
          "2020-04-06T00:00:00",
          "2020-04-07T00:00:00",
          "2020-04-08T00:00:00",
          "2020-04-09T00:00:00",
          "2020-04-13T00:00:00",
          "2020-04-14T00:00:00",
          "2020-04-15T00:00:00",
          "2020-04-16T00:00:00",
          "2020-04-17T00:00:00",
          "2020-04-20T00:00:00",
          "2020-04-21T00:00:00",
          "2020-04-22T00:00:00",
          "2020-04-23T00:00:00",
          "2020-04-24T00:00:00",
          "2020-04-27T00:00:00",
          "2020-04-28T00:00:00",
          "2020-04-29T00:00:00",
          "2020-04-30T00:00:00",
          "2020-05-01T00:00:00",
          "2020-05-04T00:00:00",
          "2020-05-05T00:00:00",
          "2020-05-06T00:00:00",
          "2020-05-07T00:00:00",
          "2020-05-08T00:00:00",
          "2020-05-11T00:00:00",
          "2020-05-12T00:00:00",
          "2020-05-13T00:00:00",
          "2020-05-14T00:00:00",
          "2020-05-15T00:00:00",
          "2020-05-18T00:00:00",
          "2020-05-19T00:00:00",
          "2020-05-20T00:00:00",
          "2020-05-21T00:00:00",
          "2020-05-22T00:00:00",
          "2020-05-26T00:00:00",
          "2020-05-27T00:00:00",
          "2020-05-28T00:00:00",
          "2020-05-29T00:00:00",
          "2020-06-01T00:00:00",
          "2020-06-02T00:00:00",
          "2020-06-03T00:00:00",
          "2020-06-04T00:00:00",
          "2020-06-05T00:00:00",
          "2020-06-08T00:00:00",
          "2020-06-09T00:00:00",
          "2020-06-10T00:00:00",
          "2020-06-11T00:00:00",
          "2020-06-12T00:00:00",
          "2020-06-15T00:00:00",
          "2020-06-16T00:00:00",
          "2020-06-17T00:00:00",
          "2020-06-18T00:00:00",
          "2020-06-19T00:00:00",
          "2020-06-22T00:00:00",
          "2020-06-23T00:00:00",
          "2020-06-24T00:00:00",
          "2020-06-25T00:00:00",
          "2020-06-26T00:00:00",
          "2020-06-29T00:00:00",
          "2020-06-30T00:00:00",
          "2020-07-01T00:00:00",
          "2020-07-02T00:00:00",
          "2020-07-06T00:00:00",
          "2020-07-07T00:00:00",
          "2020-07-08T00:00:00",
          "2020-07-09T00:00:00",
          "2020-07-10T00:00:00",
          "2020-07-13T00:00:00",
          "2020-07-14T00:00:00",
          "2020-07-15T00:00:00",
          "2020-07-16T00:00:00",
          "2020-07-17T00:00:00",
          "2020-07-20T00:00:00",
          "2020-07-21T00:00:00",
          "2020-07-22T00:00:00",
          "2020-07-23T00:00:00",
          "2020-07-24T00:00:00",
          "2020-07-27T00:00:00",
          "2020-07-28T00:00:00",
          "2020-07-29T00:00:00",
          "2020-07-30T00:00:00",
          "2020-07-31T00:00:00",
          "2020-08-03T00:00:00",
          "2020-08-04T00:00:00",
          "2020-08-05T00:00:00",
          "2020-08-06T00:00:00",
          "2020-08-07T00:00:00",
          "2020-08-10T00:00:00",
          "2020-08-11T00:00:00",
          "2020-08-12T00:00:00",
          "2020-08-13T00:00:00",
          "2020-08-14T00:00:00",
          "2020-08-17T00:00:00",
          "2020-08-18T00:00:00",
          "2020-08-19T00:00:00",
          "2020-08-20T00:00:00",
          "2020-08-21T00:00:00",
          "2020-08-24T00:00:00",
          "2020-08-25T00:00:00",
          "2020-08-26T00:00:00",
          "2020-08-27T00:00:00",
          "2020-08-28T00:00:00",
          "2020-08-31T00:00:00",
          "2020-09-01T00:00:00",
          "2020-09-02T00:00:00",
          "2020-09-03T00:00:00",
          "2020-09-04T00:00:00",
          "2020-09-08T00:00:00",
          "2020-09-09T00:00:00",
          "2020-09-10T00:00:00",
          "2020-09-11T00:00:00",
          "2020-09-14T00:00:00",
          "2020-09-15T00:00:00",
          "2020-09-16T00:00:00",
          "2020-09-17T00:00:00",
          "2020-09-18T00:00:00",
          "2020-09-21T00:00:00",
          "2020-09-22T00:00:00",
          "2020-09-23T00:00:00",
          "2020-09-24T00:00:00",
          "2020-09-25T00:00:00",
          "2020-09-28T00:00:00",
          "2020-09-29T00:00:00",
          "2020-09-30T00:00:00",
          "2020-10-01T00:00:00",
          "2020-10-02T00:00:00",
          "2020-10-05T00:00:00",
          "2020-10-06T00:00:00",
          "2020-10-07T00:00:00",
          "2020-10-08T00:00:00",
          "2020-10-09T00:00:00",
          "2020-10-12T00:00:00",
          "2020-10-13T00:00:00",
          "2020-10-14T00:00:00",
          "2020-10-15T00:00:00",
          "2020-10-16T00:00:00",
          "2020-10-19T00:00:00",
          "2020-10-20T00:00:00",
          "2020-10-21T00:00:00",
          "2020-10-22T00:00:00",
          "2020-10-23T00:00:00",
          "2020-10-26T00:00:00",
          "2020-10-27T00:00:00",
          "2020-10-28T00:00:00",
          "2020-10-29T00:00:00",
          "2020-10-30T00:00:00",
          "2020-11-02T00:00:00",
          "2020-11-03T00:00:00",
          "2020-11-04T00:00:00",
          "2020-11-05T00:00:00",
          "2020-11-06T00:00:00",
          "2020-11-09T00:00:00",
          "2020-11-10T00:00:00",
          "2020-11-11T00:00:00",
          "2020-11-12T00:00:00",
          "2020-11-13T00:00:00",
          "2020-11-16T00:00:00",
          "2020-11-17T00:00:00",
          "2020-11-18T00:00:00",
          "2020-11-19T00:00:00",
          "2020-11-20T00:00:00",
          "2020-11-23T00:00:00",
          "2020-11-24T00:00:00",
          "2020-11-25T00:00:00",
          "2020-11-27T00:00:00",
          "2020-11-30T00:00:00",
          "2020-12-01T00:00:00",
          "2020-12-02T00:00:00",
          "2020-12-03T00:00:00",
          "2020-12-04T00:00:00",
          "2020-12-07T00:00:00",
          "2020-12-08T00:00:00",
          "2020-12-09T00:00:00",
          "2020-12-10T00:00:00",
          "2020-12-11T00:00:00",
          "2020-12-14T00:00:00",
          "2020-12-15T00:00:00",
          "2020-12-16T00:00:00",
          "2020-12-17T00:00:00",
          "2020-12-18T00:00:00",
          "2020-12-21T00:00:00",
          "2020-12-22T00:00:00",
          "2020-12-23T00:00:00",
          "2020-12-24T00:00:00",
          "2020-12-28T00:00:00",
          "2020-12-29T00:00:00",
          "2020-12-30T00:00:00",
          "2020-12-31T00:00:00",
          "2021-01-04T00:00:00",
          "2021-01-05T00:00:00",
          "2021-01-06T00:00:00",
          "2021-01-07T00:00:00",
          "2021-01-08T00:00:00",
          "2021-01-11T00:00:00",
          "2021-01-12T00:00:00",
          "2021-01-13T00:00:00",
          "2021-01-14T00:00:00",
          "2021-01-15T00:00:00",
          "2021-01-19T00:00:00",
          "2021-01-20T00:00:00",
          "2021-01-21T00:00:00",
          "2021-01-22T00:00:00",
          "2021-01-25T00:00:00",
          "2021-01-26T00:00:00",
          "2021-01-27T00:00:00",
          "2021-01-28T00:00:00",
          "2021-01-29T00:00:00",
          "2021-02-01T00:00:00",
          "2021-02-02T00:00:00",
          "2021-02-03T00:00:00",
          "2021-02-04T00:00:00",
          "2021-02-05T00:00:00",
          "2021-02-08T00:00:00",
          "2021-02-09T00:00:00",
          "2021-02-10T00:00:00",
          "2021-02-11T00:00:00",
          "2021-02-12T00:00:00",
          "2021-02-16T00:00:00",
          "2021-02-17T00:00:00",
          "2021-02-18T00:00:00",
          "2021-02-19T00:00:00",
          "2021-02-22T00:00:00",
          "2021-02-23T00:00:00",
          "2021-02-24T00:00:00",
          "2021-02-25T00:00:00",
          "2021-02-26T00:00:00",
          "2021-03-01T00:00:00",
          "2021-03-02T00:00:00",
          "2021-03-03T00:00:00",
          "2021-03-04T00:00:00",
          "2021-03-05T00:00:00",
          "2021-03-08T00:00:00",
          "2021-03-09T00:00:00",
          "2021-03-10T00:00:00",
          "2021-03-11T00:00:00",
          "2021-03-12T00:00:00",
          "2021-03-15T00:00:00",
          "2021-03-16T00:00:00",
          "2021-03-17T00:00:00",
          "2021-03-18T00:00:00",
          "2021-03-19T00:00:00",
          "2021-03-22T00:00:00",
          "2021-03-23T00:00:00",
          "2021-03-24T00:00:00",
          "2021-03-25T00:00:00",
          "2021-03-26T00:00:00",
          "2021-03-29T00:00:00",
          "2021-03-30T00:00:00",
          "2021-03-31T00:00:00",
          "2021-04-01T00:00:00",
          "2021-04-05T00:00:00",
          "2021-04-06T00:00:00",
          "2021-04-07T00:00:00",
          "2021-04-08T00:00:00",
          "2021-04-09T00:00:00",
          "2021-04-12T00:00:00",
          "2021-04-13T00:00:00",
          "2021-04-14T00:00:00",
          "2021-04-15T00:00:00",
          "2021-04-16T00:00:00",
          "2021-04-19T00:00:00",
          "2021-04-20T00:00:00",
          "2021-04-21T00:00:00",
          "2021-04-22T00:00:00",
          "2021-04-23T00:00:00",
          "2021-04-26T00:00:00",
          "2021-04-27T00:00:00",
          "2021-04-28T00:00:00",
          "2021-04-29T00:00:00",
          "2021-04-30T00:00:00",
          "2021-05-03T00:00:00",
          "2021-05-04T00:00:00",
          "2021-05-05T00:00:00",
          "2021-05-06T00:00:00",
          "2021-05-07T00:00:00",
          "2021-05-10T00:00:00",
          "2021-05-11T00:00:00",
          "2021-05-12T00:00:00",
          "2021-05-13T00:00:00",
          "2021-05-14T00:00:00",
          "2021-05-17T00:00:00",
          "2021-05-18T00:00:00",
          "2021-05-19T00:00:00",
          "2021-05-20T00:00:00",
          "2021-05-21T00:00:00",
          "2021-05-24T00:00:00",
          "2021-05-25T00:00:00",
          "2021-05-26T00:00:00",
          "2021-05-27T00:00:00",
          "2021-05-28T00:00:00",
          "2021-06-01T00:00:00",
          "2021-06-02T00:00:00",
          "2021-06-03T00:00:00",
          "2021-06-04T00:00:00",
          "2021-06-07T00:00:00",
          "2021-06-08T00:00:00",
          "2021-06-09T00:00:00",
          "2021-06-10T00:00:00",
          "2021-06-11T00:00:00",
          "2021-06-14T00:00:00",
          "2021-06-15T00:00:00",
          "2021-06-16T00:00:00",
          "2021-06-17T00:00:00",
          "2021-06-18T00:00:00",
          "2021-06-21T00:00:00",
          "2021-06-22T00:00:00",
          "2021-06-23T00:00:00",
          "2021-06-24T00:00:00",
          "2021-06-25T00:00:00",
          "2021-06-28T00:00:00",
          "2021-06-29T00:00:00",
          "2021-06-30T00:00:00",
          "2021-07-01T00:00:00",
          "2021-07-02T00:00:00",
          "2021-07-06T00:00:00",
          "2021-07-07T00:00:00",
          "2021-07-08T00:00:00",
          "2021-07-09T00:00:00",
          "2021-07-12T00:00:00",
          "2021-07-13T00:00:00",
          "2021-07-14T00:00:00",
          "2021-07-15T00:00:00",
          "2021-07-16T00:00:00",
          "2021-07-19T00:00:00",
          "2021-07-20T00:00:00",
          "2021-07-21T00:00:00",
          "2021-07-22T00:00:00",
          "2021-07-23T00:00:00",
          "2021-07-26T00:00:00",
          "2021-07-27T00:00:00",
          "2021-07-28T00:00:00",
          "2021-07-29T00:00:00",
          "2021-07-30T00:00:00",
          "2021-08-02T00:00:00",
          "2021-08-03T00:00:00",
          "2021-08-04T00:00:00",
          "2021-08-05T00:00:00",
          "2021-08-06T00:00:00",
          "2021-08-09T00:00:00",
          "2021-08-10T00:00:00",
          "2021-08-11T00:00:00",
          "2021-08-12T00:00:00",
          "2021-08-13T00:00:00",
          "2021-08-16T00:00:00",
          "2021-08-17T00:00:00",
          "2021-08-18T00:00:00",
          "2021-08-19T00:00:00",
          "2021-08-20T00:00:00",
          "2021-08-23T00:00:00",
          "2021-08-24T00:00:00",
          "2021-08-25T00:00:00",
          "2021-08-26T00:00:00",
          "2021-08-27T00:00:00",
          "2021-08-30T00:00:00",
          "2021-08-31T00:00:00",
          "2021-09-01T00:00:00",
          "2021-09-02T00:00:00",
          "2021-09-03T00:00:00",
          "2021-09-07T00:00:00",
          "2021-09-08T00:00:00",
          "2021-09-09T00:00:00",
          "2021-09-10T00:00:00",
          "2021-09-13T00:00:00",
          "2021-09-14T00:00:00",
          "2021-09-15T00:00:00",
          "2021-09-16T00:00:00",
          "2021-09-17T00:00:00",
          "2021-09-20T00:00:00",
          "2021-09-21T00:00:00",
          "2021-09-22T00:00:00",
          "2021-09-23T00:00:00",
          "2021-09-24T00:00:00",
          "2021-09-27T00:00:00",
          "2021-09-28T00:00:00",
          "2021-09-29T00:00:00",
          "2021-09-30T00:00:00",
          "2021-10-01T00:00:00",
          "2021-10-04T00:00:00",
          "2021-10-05T00:00:00",
          "2021-10-06T00:00:00",
          "2021-10-07T00:00:00",
          "2021-10-08T00:00:00",
          "2021-10-11T00:00:00",
          "2021-10-12T00:00:00",
          "2021-10-13T00:00:00",
          "2021-10-14T00:00:00",
          "2021-10-15T00:00:00",
          "2021-10-18T00:00:00",
          "2021-10-19T00:00:00",
          "2021-10-20T00:00:00",
          "2021-10-21T00:00:00",
          "2021-10-22T00:00:00",
          "2021-10-25T00:00:00",
          "2021-10-26T00:00:00",
          "2021-10-27T00:00:00",
          "2021-10-28T00:00:00",
          "2021-10-29T00:00:00",
          "2021-11-01T00:00:00",
          "2021-11-02T00:00:00",
          "2021-11-03T00:00:00",
          "2021-11-04T00:00:00",
          "2021-11-05T00:00:00",
          "2021-11-08T00:00:00",
          "2021-11-09T00:00:00",
          "2021-11-10T00:00:00",
          "2021-11-11T00:00:00",
          "2021-11-12T00:00:00",
          "2021-11-15T00:00:00",
          "2021-11-16T00:00:00",
          "2021-11-17T00:00:00",
          "2021-11-18T00:00:00",
          "2021-11-19T00:00:00",
          "2021-11-22T00:00:00",
          "2021-11-23T00:00:00",
          "2021-11-24T00:00:00",
          "2021-11-26T00:00:00",
          "2021-11-29T00:00:00",
          "2021-11-30T00:00:00",
          "2021-12-01T00:00:00",
          "2021-12-02T00:00:00",
          "2021-12-03T00:00:00",
          "2021-12-06T00:00:00",
          "2021-12-07T00:00:00",
          "2021-12-08T00:00:00",
          "2021-12-09T00:00:00",
          "2021-12-10T00:00:00",
          "2021-12-13T00:00:00",
          "2021-12-14T00:00:00",
          "2021-12-15T00:00:00",
          "2021-12-16T00:00:00",
          "2021-12-17T00:00:00",
          "2021-12-20T00:00:00",
          "2021-12-21T00:00:00",
          "2021-12-22T00:00:00",
          "2021-12-23T00:00:00",
          "2021-12-27T00:00:00",
          "2021-12-28T00:00:00",
          "2021-12-29T00:00:00",
          "2021-12-30T00:00:00",
          "2021-12-31T00:00:00",
          "2022-01-03T00:00:00",
          "2022-01-04T00:00:00",
          "2022-01-05T00:00:00",
          "2022-01-06T00:00:00",
          "2022-01-07T00:00:00",
          "2022-01-10T00:00:00",
          "2022-01-11T00:00:00",
          "2022-01-12T00:00:00",
          "2022-01-13T00:00:00",
          "2022-01-14T00:00:00",
          "2022-01-18T00:00:00",
          "2022-01-19T00:00:00",
          "2022-01-20T00:00:00",
          "2022-01-21T00:00:00",
          "2022-01-24T00:00:00",
          "2022-01-25T00:00:00",
          "2022-01-26T00:00:00",
          "2022-01-27T00:00:00",
          "2022-01-28T00:00:00",
          "2022-01-31T00:00:00",
          "2022-02-01T00:00:00",
          "2022-02-02T00:00:00",
          "2022-02-03T00:00:00",
          "2022-02-04T00:00:00",
          "2022-02-07T00:00:00",
          "2022-02-08T00:00:00",
          "2022-02-09T00:00:00",
          "2022-02-10T00:00:00",
          "2022-02-11T00:00:00",
          "2022-02-14T00:00:00",
          "2022-02-15T00:00:00",
          "2022-02-16T00:00:00",
          "2022-02-17T00:00:00",
          "2022-02-18T00:00:00",
          "2022-02-22T00:00:00",
          "2022-02-23T00:00:00",
          "2022-02-24T00:00:00",
          "2022-02-25T00:00:00",
          "2022-02-28T00:00:00",
          "2022-03-01T00:00:00",
          "2022-03-02T00:00:00",
          "2022-03-03T00:00:00",
          "2022-03-04T00:00:00",
          "2022-03-07T00:00:00",
          "2022-03-08T00:00:00",
          "2022-03-09T00:00:00",
          "2022-03-10T00:00:00",
          "2022-03-11T00:00:00",
          "2022-03-14T00:00:00",
          "2022-03-15T00:00:00",
          "2022-03-16T00:00:00",
          "2022-03-17T00:00:00",
          "2022-03-18T00:00:00",
          "2022-03-21T00:00:00",
          "2022-03-22T00:00:00",
          "2022-03-23T00:00:00",
          "2022-03-24T00:00:00",
          "2022-03-25T00:00:00",
          "2022-03-28T00:00:00",
          "2022-03-29T00:00:00",
          "2022-03-30T00:00:00",
          "2022-03-31T00:00:00",
          "2022-04-01T00:00:00",
          "2022-04-04T00:00:00",
          "2022-04-05T00:00:00",
          "2022-04-06T00:00:00",
          "2022-04-07T00:00:00",
          "2022-04-08T00:00:00",
          "2022-04-11T00:00:00",
          "2022-04-12T00:00:00",
          "2022-04-13T00:00:00",
          "2022-04-14T00:00:00",
          "2022-04-18T00:00:00",
          "2022-04-19T00:00:00",
          "2022-04-20T00:00:00",
          "2022-04-21T00:00:00",
          "2022-04-22T00:00:00",
          "2022-04-25T00:00:00",
          "2022-04-26T00:00:00",
          "2022-04-27T00:00:00",
          "2022-04-28T00:00:00",
          "2022-04-29T00:00:00",
          "2022-05-02T00:00:00",
          "2022-05-03T00:00:00",
          "2022-05-04T00:00:00",
          "2022-05-05T00:00:00",
          "2022-05-06T00:00:00",
          "2022-05-09T00:00:00",
          "2022-05-10T00:00:00",
          "2022-05-11T00:00:00",
          "2022-05-12T00:00:00",
          "2022-05-13T00:00:00",
          "2022-05-16T00:00:00",
          "2022-05-17T00:00:00",
          "2022-05-18T00:00:00",
          "2022-05-19T00:00:00",
          "2022-05-20T00:00:00",
          "2022-05-23T00:00:00",
          "2022-05-24T00:00:00",
          "2022-05-25T00:00:00",
          "2022-05-26T00:00:00",
          "2022-05-27T00:00:00",
          "2022-05-31T00:00:00",
          "2022-06-01T00:00:00",
          "2022-06-02T00:00:00",
          "2022-06-03T00:00:00",
          "2022-06-06T00:00:00",
          "2022-06-07T00:00:00",
          "2022-06-08T00:00:00",
          "2022-06-09T00:00:00",
          "2022-06-10T00:00:00",
          "2022-06-13T00:00:00",
          "2022-06-14T00:00:00",
          "2022-06-15T00:00:00",
          "2022-06-16T00:00:00",
          "2022-06-17T00:00:00",
          "2022-06-21T00:00:00",
          "2022-06-22T00:00:00",
          "2022-06-23T00:00:00",
          "2022-06-24T00:00:00",
          "2022-06-27T00:00:00",
          "2022-06-28T00:00:00",
          "2022-06-29T00:00:00",
          "2022-06-30T00:00:00",
          "2022-07-01T00:00:00",
          "2022-07-05T00:00:00",
          "2022-07-06T00:00:00",
          "2022-07-07T00:00:00",
          "2022-07-08T00:00:00",
          "2022-07-11T00:00:00",
          "2022-07-12T00:00:00",
          "2022-07-13T00:00:00",
          "2022-07-14T00:00:00",
          "2022-07-15T00:00:00",
          "2022-07-18T00:00:00",
          "2022-07-19T00:00:00",
          "2022-07-20T00:00:00",
          "2022-07-21T00:00:00",
          "2022-07-22T00:00:00",
          "2022-07-25T00:00:00",
          "2022-07-26T00:00:00",
          "2022-07-27T00:00:00",
          "2022-07-28T00:00:00",
          "2022-07-29T00:00:00",
          "2022-08-01T00:00:00",
          "2022-08-02T00:00:00",
          "2022-08-03T00:00:00",
          "2022-08-04T00:00:00",
          "2022-08-05T00:00:00",
          "2022-08-08T00:00:00",
          "2022-08-09T00:00:00",
          "2022-08-10T00:00:00",
          "2022-08-11T00:00:00",
          "2022-08-12T00:00:00",
          "2022-08-15T00:00:00",
          "2022-08-16T00:00:00",
          "2022-08-17T00:00:00",
          "2022-08-18T00:00:00",
          "2022-08-19T00:00:00",
          "2022-08-22T00:00:00",
          "2022-08-23T00:00:00",
          "2022-08-24T00:00:00",
          "2022-08-25T00:00:00",
          "2022-08-26T00:00:00",
          "2022-08-29T00:00:00",
          "2022-08-30T00:00:00",
          "2022-08-31T00:00:00",
          "2022-09-01T00:00:00",
          "2022-09-02T00:00:00",
          "2022-09-06T00:00:00",
          "2022-09-07T00:00:00",
          "2022-09-08T00:00:00",
          "2022-09-09T00:00:00",
          "2022-09-12T00:00:00",
          "2022-09-13T00:00:00",
          "2022-09-14T00:00:00",
          "2022-09-15T00:00:00",
          "2022-09-16T00:00:00",
          "2022-09-19T00:00:00",
          "2022-09-20T00:00:00",
          "2022-09-21T00:00:00",
          "2022-09-22T00:00:00",
          "2022-09-23T00:00:00",
          "2022-09-26T00:00:00",
          "2022-09-27T00:00:00",
          "2022-09-28T00:00:00",
          "2022-09-29T00:00:00",
          "2022-09-30T00:00:00",
          "2022-10-03T00:00:00",
          "2022-10-04T00:00:00",
          "2022-10-05T00:00:00",
          "2022-10-06T00:00:00",
          "2022-10-07T00:00:00",
          "2022-10-10T00:00:00",
          "2022-10-11T00:00:00",
          "2022-10-12T00:00:00",
          "2022-10-13T00:00:00",
          "2022-10-14T00:00:00",
          "2022-10-17T00:00:00",
          "2022-10-18T00:00:00",
          "2022-10-19T00:00:00",
          "2022-10-20T00:00:00",
          "2022-10-21T00:00:00",
          "2022-10-24T00:00:00",
          "2022-10-25T00:00:00",
          "2022-10-26T00:00:00",
          "2022-10-27T00:00:00",
          "2022-10-28T00:00:00",
          "2022-10-31T00:00:00",
          "2022-11-01T00:00:00",
          "2022-11-02T00:00:00",
          "2022-11-03T00:00:00",
          "2022-11-04T00:00:00",
          "2022-11-07T00:00:00",
          "2022-11-08T00:00:00",
          "2022-11-09T00:00:00",
          "2022-11-10T00:00:00",
          "2022-11-11T00:00:00",
          "2022-11-14T00:00:00",
          "2022-11-15T00:00:00",
          "2022-11-16T00:00:00",
          "2022-11-17T00:00:00",
          "2022-11-18T00:00:00",
          "2022-11-21T00:00:00",
          "2022-11-22T00:00:00",
          "2022-11-23T00:00:00",
          "2022-11-25T00:00:00",
          "2022-11-28T00:00:00",
          "2022-11-29T00:00:00",
          "2022-11-30T00:00:00",
          "2022-12-01T00:00:00",
          "2022-12-02T00:00:00",
          "2022-12-05T00:00:00",
          "2022-12-06T00:00:00",
          "2022-12-07T00:00:00",
          "2022-12-08T00:00:00",
          "2022-12-09T00:00:00",
          "2022-12-12T00:00:00",
          "2022-12-13T00:00:00",
          "2022-12-14T00:00:00",
          "2022-12-15T00:00:00",
          "2022-12-16T00:00:00",
          "2022-12-19T00:00:00",
          "2022-12-20T00:00:00",
          "2022-12-21T00:00:00",
          "2022-12-22T00:00:00",
          "2022-12-23T00:00:00",
          "2022-12-27T00:00:00",
          "2022-12-28T00:00:00",
          "2022-12-29T00:00:00",
          "2022-12-30T00:00:00",
          "2023-01-03T00:00:00",
          "2023-01-04T00:00:00",
          "2023-01-05T00:00:00",
          "2023-01-06T00:00:00",
          "2023-01-09T00:00:00",
          "2023-01-10T00:00:00",
          "2023-01-11T00:00:00",
          "2023-01-12T00:00:00",
          "2023-01-13T00:00:00",
          "2023-01-17T00:00:00",
          "2023-01-18T00:00:00",
          "2023-01-19T00:00:00",
          "2023-01-20T00:00:00",
          "2023-01-23T00:00:00",
          "2023-01-24T00:00:00",
          "2023-01-25T00:00:00",
          "2023-01-26T00:00:00",
          "2023-01-27T00:00:00",
          "2023-01-30T00:00:00",
          "2023-01-31T00:00:00",
          "2023-02-01T00:00:00",
          "2023-02-02T00:00:00",
          "2023-02-03T00:00:00",
          "2023-02-06T00:00:00",
          "2023-02-07T00:00:00",
          "2023-02-08T00:00:00",
          "2023-02-09T00:00:00",
          "2023-02-10T00:00:00",
          "2023-02-13T00:00:00",
          "2023-02-14T00:00:00",
          "2023-02-15T00:00:00",
          "2023-02-16T00:00:00",
          "2023-02-17T00:00:00",
          "2023-02-21T00:00:00",
          "2023-02-22T00:00:00",
          "2023-02-23T00:00:00",
          "2023-02-24T00:00:00",
          "2023-02-27T00:00:00",
          "2023-02-28T00:00:00",
          "2023-03-01T00:00:00",
          "2023-03-02T00:00:00",
          "2023-03-03T00:00:00",
          "2023-03-06T00:00:00",
          "2023-03-07T00:00:00",
          "2023-03-08T00:00:00",
          "2023-03-09T00:00:00",
          "2023-03-10T00:00:00",
          "2023-03-13T00:00:00",
          "2023-03-14T00:00:00",
          "2023-03-15T00:00:00",
          "2023-03-16T00:00:00",
          "2023-03-17T00:00:00",
          "2023-03-20T00:00:00",
          "2023-03-21T00:00:00",
          "2023-03-22T00:00:00",
          "2023-03-23T00:00:00",
          "2023-03-24T00:00:00",
          "2023-03-27T00:00:00",
          "2023-03-28T00:00:00",
          "2023-03-29T00:00:00",
          "2023-03-30T00:00:00",
          "2023-03-31T00:00:00",
          "2023-04-03T00:00:00",
          "2023-04-04T00:00:00",
          "2023-04-05T00:00:00",
          "2023-04-06T00:00:00",
          "2023-04-10T00:00:00",
          "2023-04-11T00:00:00",
          "2023-04-12T00:00:00",
          "2023-04-13T00:00:00",
          "2023-04-14T00:00:00",
          "2023-04-17T00:00:00",
          "2023-04-18T00:00:00",
          "2023-04-19T00:00:00",
          "2023-04-20T00:00:00",
          "2023-04-21T00:00:00",
          "2023-04-24T00:00:00",
          "2023-04-25T00:00:00",
          "2023-04-26T00:00:00",
          "2023-04-27T00:00:00",
          "2023-04-28T00:00:00",
          "2023-05-01T00:00:00",
          "2023-05-02T00:00:00",
          "2023-05-03T00:00:00",
          "2023-05-04T00:00:00",
          "2023-05-05T00:00:00",
          "2023-05-08T00:00:00",
          "2023-05-09T00:00:00",
          "2023-05-10T00:00:00",
          "2023-05-11T00:00:00",
          "2023-05-12T00:00:00",
          "2023-05-15T00:00:00",
          "2023-05-16T00:00:00",
          "2023-05-17T00:00:00",
          "2023-05-18T00:00:00",
          "2023-05-19T00:00:00",
          "2023-05-22T00:00:00",
          "2023-05-23T00:00:00",
          "2023-05-24T00:00:00",
          "2023-05-25T00:00:00",
          "2023-05-26T00:00:00",
          "2023-05-30T00:00:00",
          "2023-05-31T00:00:00",
          "2023-06-01T00:00:00",
          "2023-06-02T00:00:00",
          "2023-06-05T00:00:00",
          "2023-06-06T00:00:00",
          "2023-06-07T00:00:00",
          "2023-06-08T00:00:00",
          "2023-06-09T00:00:00",
          "2023-06-12T00:00:00",
          "2023-06-13T00:00:00",
          "2023-06-14T00:00:00",
          "2023-06-15T00:00:00",
          "2023-06-16T00:00:00",
          "2023-06-20T00:00:00",
          "2023-06-21T00:00:00",
          "2023-06-22T00:00:00",
          "2023-06-23T00:00:00",
          "2023-06-26T00:00:00",
          "2023-06-27T00:00:00",
          "2023-06-28T00:00:00",
          "2023-06-29T00:00:00",
          "2023-06-30T00:00:00",
          "2023-07-03T00:00:00",
          "2023-07-05T00:00:00",
          "2023-07-06T00:00:00",
          "2023-07-07T00:00:00",
          "2023-07-10T00:00:00",
          "2023-07-11T00:00:00",
          "2023-07-12T00:00:00",
          "2023-07-13T00:00:00",
          "2023-07-14T00:00:00",
          "2023-07-17T00:00:00",
          "2023-07-18T00:00:00",
          "2023-07-19T00:00:00",
          "2023-07-20T00:00:00",
          "2023-07-21T00:00:00",
          "2023-07-24T00:00:00",
          "2023-07-25T00:00:00",
          "2023-07-26T00:00:00",
          "2023-07-27T00:00:00",
          "2023-07-28T00:00:00",
          "2023-07-31T00:00:00",
          "2023-08-01T00:00:00",
          "2023-08-02T00:00:00",
          "2023-08-03T00:00:00",
          "2023-08-04T00:00:00",
          "2023-08-07T00:00:00",
          "2023-08-08T00:00:00",
          "2023-08-09T00:00:00",
          "2023-08-10T00:00:00",
          "2023-08-11T00:00:00",
          "2023-08-14T00:00:00",
          "2023-08-15T00:00:00",
          "2023-08-16T00:00:00",
          "2023-08-17T00:00:00",
          "2023-08-18T00:00:00",
          "2023-08-21T00:00:00",
          "2023-08-22T00:00:00",
          "2023-08-23T00:00:00",
          "2023-08-24T00:00:00",
          "2023-08-25T00:00:00",
          "2023-08-28T00:00:00",
          "2023-08-29T00:00:00",
          "2023-08-30T00:00:00",
          "2023-08-31T00:00:00",
          "2023-09-01T00:00:00",
          "2023-09-05T00:00:00",
          "2023-09-06T00:00:00",
          "2023-09-07T00:00:00",
          "2023-09-08T00:00:00",
          "2023-09-11T00:00:00",
          "2023-09-12T00:00:00",
          "2023-09-13T00:00:00",
          "2023-09-14T00:00:00",
          "2023-09-15T00:00:00",
          "2023-09-18T00:00:00",
          "2023-09-19T00:00:00",
          "2023-09-20T00:00:00",
          "2023-09-21T00:00:00",
          "2023-09-22T00:00:00",
          "2023-09-25T00:00:00",
          "2023-09-26T00:00:00",
          "2023-09-27T00:00:00",
          "2023-09-28T00:00:00",
          "2023-09-29T00:00:00",
          "2023-10-02T00:00:00",
          "2023-10-03T00:00:00",
          "2023-10-04T00:00:00",
          "2023-10-05T00:00:00",
          "2023-10-06T00:00:00",
          "2023-10-09T00:00:00",
          "2023-10-10T00:00:00",
          "2023-10-11T00:00:00",
          "2023-10-12T00:00:00",
          "2023-10-13T00:00:00",
          "2023-10-16T00:00:00",
          "2023-10-17T00:00:00",
          "2023-10-18T00:00:00",
          "2023-10-19T00:00:00",
          "2023-10-20T00:00:00",
          "2023-10-23T00:00:00",
          "2023-10-24T00:00:00",
          "2023-10-25T00:00:00",
          "2023-10-26T00:00:00",
          "2023-10-27T00:00:00",
          "2023-10-30T00:00:00",
          "2023-10-31T00:00:00",
          "2023-11-01T00:00:00",
          "2023-11-02T00:00:00",
          "2023-11-03T00:00:00",
          "2023-11-06T00:00:00",
          "2023-11-07T00:00:00",
          "2023-11-08T00:00:00",
          "2023-11-09T00:00:00",
          "2023-11-10T00:00:00",
          "2023-11-13T00:00:00",
          "2023-11-14T00:00:00",
          "2023-11-15T00:00:00",
          "2023-11-16T00:00:00",
          "2023-11-17T00:00:00",
          "2023-11-20T00:00:00",
          "2023-11-21T00:00:00",
          "2023-11-22T00:00:00",
          "2023-11-24T00:00:00",
          "2023-11-27T00:00:00",
          "2023-11-28T00:00:00",
          "2023-11-29T00:00:00",
          "2023-11-30T00:00:00",
          "2023-12-01T00:00:00",
          "2023-12-04T00:00:00",
          "2023-12-05T00:00:00",
          "2023-12-06T00:00:00",
          "2023-12-07T00:00:00",
          "2023-12-08T00:00:00",
          "2023-12-11T00:00:00",
          "2023-12-12T00:00:00",
          "2023-12-13T00:00:00",
          "2023-12-14T00:00:00",
          "2023-12-15T00:00:00",
          "2023-12-18T00:00:00",
          "2023-12-19T00:00:00",
          "2023-12-20T00:00:00",
          "2023-12-21T00:00:00",
          "2023-12-22T00:00:00",
          "2023-12-26T00:00:00"
         ],
         "y": [
          1.5246498927984975,
          1.4802830119108568,
          1.4327188645949636,
          1.3870914063909605,
          1.3579780926086462,
          1.3184481773617631,
          1.3038713365172827,
          1.2877768931576796,
          1.2468433756997113,
          1.2084299917461578,
          1.1740441965697628,
          1.1403269981175213,
          1.1091700507012512,
          1.0793607828313345,
          1.0525843276680054,
          2.277445305632501,
          2.191977852515747,
          2.1145483135004546,
          2.0326483631490992,
          1.9893142403749624,
          1.935727511956121,
          1.8689271136289891,
          1.801591360856088,
          1.7359922295313464,
          1.6815954140860314,
          1.61829372248669,
          1.5637385794009009,
          1.5074182394434728,
          1.4566542633297936,
          1.4096141130563637,
          1.3835874140350117,
          1.5099097712288911,
          1.4583253829588236,
          1.4093828980295913,
          1.3634094284002738,
          1.336736467796528,
          1.2936221835356172,
          1.2540119810675836,
          1.2154421191729339,
          1.1791237571743631,
          1.1634158117706055,
          1.130744724382228,
          1.140623702587328,
          1.1091262789564245,
          1.0796620748422028,
          1.0597545283196415,
          1.0366439200380897,
          1.0156152080342455,
          1.0148230378801542,
          1.0013196972805296,
          0.9788307079356842,
          0.9581138568515558,
          0.9396852175766934,
          0.9218030932112061,
          0.9050268978506563,
          0.8892074321941372,
          0.8826799356627262,
          0.8694035207111072,
          0.870082251548138,
          0.8613356463928861,
          0.8505113104820168,
          0.9273078088322478,
          0.9188058400429289,
          0.9058358494898572,
          0.9113795304429847,
          0.897496906481752,
          0.9327198978454935,
          0.9466119082828113,
          0.9345387588074414,
          0.9286870306644183,
          0.92131187750999,
          0.9371169129017097,
          0.923213360832196,
          0.9370095750046188,
          0.9963608900621251,
          0.9775830776524522,
          1.0040510525416788,
          1.007155374544925,
          1.0005894523696075,
          0.9976478986331225,
          0.9924363592210412,
          0.9798937518790517,
          1.0828796225896928,
          1.057971627689391,
          1.039499690461184,
          1.0469771415245097,
          1.0519863995089584,
          1.0692623208553012,
          1.0444991610729173,
          1.094769068944564,
          1.0658527862377198,
          1.0993509141947606,
          1.105793402513376,
          1.0765221724778353,
          1.0507958499982721,
          1.0254400553296767,
          1.0096399419968969,
          0.9885440099041928,
          0.9693280736730817,
          0.9738224873972932,
          0.9608302369334589,
          0.9648333575404113,
          0.9745087629852934,
          0.9558897595621558,
          0.9496477017401552,
          0.9346962150657722,
          0.9676151548003511,
          0.9478443529358724,
          0.933143922678616,
          0.9650622786397182,
          0.9588023786147787,
          0.9400178517197925,
          0.9216977724821162,
          0.9069341905288048,
          0.9136831658597964,
          0.9020354062635552,
          0.8907849931084902,
          0.8763239318494808,
          0.8626911442146087,
          0.8500937557668624,
          0.8384276661394271,
          0.8317574786571338,
          0.8774050853393807,
          0.8686236057184934,
          1.6748020264034105,
          1.6320618921354273,
          1.6056664864265915,
          1.620013092487184,
          1.5628403332724383,
          1.5119395022389766,
          1.5411510783137046,
          1.512954916413261,
          1.4642302557999698,
          1.44981695552944,
          1.4258856352390121,
          1.434603685843385,
          1.4017586838746996,
          1.3607065291061584,
          1.320204183073987,
          1.283050421470067,
          1.2657011930534212,
          1.2847441034653537,
          1.2643713460253179,
          1.2296992742189226,
          1.2478291032207156,
          1.2121942095385971,
          1.18651164453757,
          1.2017831748568146,
          1.2153644417025937,
          1.18060952866869,
          1.1568955682046176,
          1.124686704342045,
          1.0939759686987256,
          1.0697295211013518,
          1.0595770572954588,
          1.07363844742062,
          1.0466538733438078,
          1.0703163894780026,
          1.0451073596699236,
          1.0303111474223714,
          1.014671547344288,
          1.0132152277914848,
          1.0004485829130472,
          0.9840630947667366,
          0.9627569533812629,
          0.9496778011448763,
          0.9722758560786451,
          0.9557215431738292,
          0.9379722973022626,
          0.9224917639485358,
          0.9092365693222049,
          0.8944441582128144,
          0.8804859032026146,
          0.8700527344757406,
          1.1073231205241931,
          1.1267018401220363,
          1.1353897355345686,
          1.145949827132547,
          1.1228202647786656,
          1.0964675065878597,
          1.0711615469987346,
          1.0582399905851783,
          1.0318114957562758,
          1.0102838621867247,
          0.9872580430185088,
          0.9730560736741535,
          1.043646089521136,
          1.0493197796604756,
          1.0393554563888712,
          1.0687801987021888,
          1.0419078562198174,
          1.0889760825247599,
          1.0645767405873896,
          1.0411288225027095,
          1.0401246152887234,
          1.0350693258004104,
          1.0398135291470014,
          1.0736087019288103,
          1.0993378271789735,
          1.0819850785334522,
          1.0819818495168552,
          1.055095360953785,
          1.0449956230311679,
          1.0220232931921553,
          1.0450828308826672,
          1.0231283371837288,
          0.9989774916945229,
          0.9879091024039562,
          0.9662059494178816,
          0.9472700554646049,
          0.9375348743127578,
          0.9195229987501912,
          0.9055123424160532,
          0.9364009471470596,
          0.9183350238592759,
          0.905148242434233,
          0.9007735813987715,
          0.88530790274276,
          0.8945972560238427,
          0.8814449567321413,
          0.8718206068260619,
          0.8746991513409996,
          0.8735173461099511,
          0.8626099085449819,
          0.8528972858981,
          0.8481782105247588,
          0.8367594432714716,
          0.8262299255094508,
          0.8504096856569959,
          0.8554364537236429,
          0.8863544436090159,
          0.8728294307515145,
          0.8653148215998168,
          0.861145321398856,
          0.8584984027336976,
          0.8475507406718678,
          0.8363307083839167,
          0.8429191874327453,
          0.8442211166414454,
          0.8332994220146437,
          0.8463201401017458,
          0.8354868080843317,
          0.9267724364273213,
          0.9119375674611317,
          0.9285025179641612,
          0.9135880179244678,
          0.9414798195231362,
          0.9237493759054445,
          0.9073072923997014,
          0.8951740346073926,
          0.8964517024333237,
          0.8846848391826941,
          0.8736693520525994,
          0.8656083174945585,
          0.8780835167136913,
          0.8643785888334101,
          1.1434876058466286,
          1.129417622711414,
          1.0998962983813556,
          1.0746305140039993,
          1.0470703838898907,
          1.022210947312579,
          1.0003890024030688,
          1.0006672191232926,
          0.9811319561672155,
          0.9637057493097513,
          0.9460227819799848,
          0.93532836515671,
          0.9350666733187533,
          0.9207881559648882,
          0.9044419023392418,
          0.9013417273213942,
          1.0715098922672914,
          1.1020008202492757,
          1.0777124976298507,
          1.5376030789279465,
          1.614978705557305,
          1.8899725574253858,
          1.816120142949967,
          2.1225577295868505,
          2.225862942224425,
          2.227453789574278,
          2.6020576938872533,
          2.622042790824878,
          2.595903125605968,
          3.4063391181996194,
          3.3700354698990056,
          3.597016978008816,
          3.5811117404826875,
          3.6258882466344247,
          3.827944544518727,
          4.185430840818022,
          4.026812442802939,
          4.027538764874917,
          4.060840362107193,
          4.169953704859679,
          4.066045963280165,
          4.069170790638419,
          3.909644091032494,
          3.9135843754624706,
          3.877894634865646,
          3.706456085752813,
          3.8615806999604434,
          3.691317611968579,
          3.589232560991293,
          3.4789036761819134,
          3.4800440854933474,
          3.4742032611067657,
          3.3851240327493852,
          3.247651720930982,
          3.141542133038584,
          3.1031034801413924,
          3.0290885604237867,
          2.901164418137192,
          2.7958124565494917,
          2.6815476874420887,
          2.6601311848700155,
          2.5468863525645697,
          2.445716436809109,
          2.4283517889047395,
          2.3322287230170944,
          2.24960490446885,
          2.160204489174139,
          2.1022160599668185,
          2.0189439180887985,
          2.095192846265599,
          2.0338007197605936,
          1.9908747632936923,
          1.9714272904138128,
          1.8982308432732686,
          1.841064887483272,
          1.9999371511939632,
          1.9350232860490961,
          1.9899091457331708,
          1.9495108769369986,
          1.8740141751857857,
          1.8824899547577438,
          1.8363110521515147,
          1.7729391166327877,
          1.7191126836254227,
          1.6601327603778884,
          1.5990904728698445,
          1.6183933249968974,
          1.558529717001908,
          1.6067665646851832,
          1.588160185162761,
          1.5870585800338346,
          1.5418585280978503,
          2.1331399464033973,
          2.0596149127208343,
          2.0077605332487276,
          1.9407651949257974,
          1.8669622637368597,
          1.8045190438469234,
          1.8074157714044607,
          1.7446324962466038,
          1.6792099425033005,
          1.701638321573626,
          1.6429063759791658,
          1.7455246191157052,
          1.7305802911747172,
          1.6721885141103694,
          1.610548207975974,
          1.551219861270479,
          1.5050406334527646,
          1.4516769759816908,
          1.4038846984674165,
          1.4952115282925873,
          1.5870057063295402,
          1.5293725612287177,
          1.5075660691877109,
          1.4774349911870326,
          1.4325515525037809,
          1.422820640006844,
          1.4232972359599023,
          1.4791826066761704,
          1.5621694623161153,
          1.5096023976085144,
          1.4585843101645424,
          1.4077713911317373,
          1.3693461061571026,
          1.3268323396160666,
          1.2958534385297495,
          1.2770796347625257,
          1.3303046944308747,
          1.3004587692020793,
          1.2849102117465774,
          1.249711018533056,
          1.2200103044307469,
          1.1843828520445567,
          1.1533896427584869,
          1.145282169996999,
          1.1137692259851082,
          1.0838145777445451,
          1.0638635575045043,
          1.0409180924972845,
          1.146841336323824,
          1.1148208343782482,
          1.0857065968305317,
          1.1093701337730473,
          1.0803796004953872,
          1.0582563986715556,
          1.0319513856827423,
          1.274176546366768,
          1.2440816172054205,
          1.2242307626112996,
          1.549031565074951,
          1.5325085951666229,
          1.4987154326811047,
          1.561500303790105,
          1.5142264503571758,
          1.4638649343759251,
          1.4964451395912806,
          1.4434370344922691,
          1.4010771203861845,
          1.3602193997263912,
          1.3210635719745334,
          1.2795714706883492,
          1.4034511991421095,
          1.381193065846414,
          1.5130629363584907,
          1.4769999692019742,
          1.425022471915333,
          1.4006239070517597,
          1.3660932370988335,
          1.33654108628917,
          1.2970006365548659,
          1.2576570258921678,
          1.218515329339824,
          1.2033662895549642,
          1.2029181278412135,
          1.2407386449290438,
          1.2122301252005792,
          1.181788885225163,
          1.222235193349457,
          1.1868378091030778,
          1.1545359068924659,
          1.1217863910271857,
          1.1111156375621658,
          1.1194095022799138,
          1.0975446387555552,
          1.1143918739572485,
          1.0878644404829019,
          1.1172455189720332,
          1.0874073165488183,
          1.4188914254979856,
          1.3703240103289884,
          1.3244903207550198,
          1.3084988742046484,
          1.3126410562572968,
          1.2742017190315285,
          1.2396578466085972,
          1.2016376056643885,
          1.8972088796896271,
          1.9276745108913507,
          1.8610928308373667,
          1.8081999742799622,
          1.747899712915272,
          1.6891244764811835,
          1.6278471627171383,
          1.6425265459864098,
          1.5969694865952149,
          1.5540692617733627,
          1.4977858085460358,
          1.4630878629404742,
          1.4192344865952324,
          1.3755982367107302,
          1.3696881011877742,
          1.3375021607189965,
          1.2937120333882102,
          1.2864539824278145,
          1.3318597922863074,
          1.347762088876837,
          1.305229870338952,
          1.2643670670387925,
          1.232718434126553,
          1.2012672621819864,
          1.1666315640410005,
          1.1587511401657564,
          1.1820388355609357,
          1.1504037013177844,
          1.13521548559717,
          1.1837543424243826,
          1.1497293567557312,
          1.1249819574587516,
          1.1041548806964179,
          1.1181143340199322,
          1.0880114765002422,
          1.0666888452583412,
          1.0521845025819359,
          1.379227707034313,
          1.3613119651832668,
          1.5273721666865796,
          1.4987586596423168,
          1.537231400483719,
          1.5419098693799846,
          1.4873542826393955,
          1.4348214852402499,
          1.4588499642489676,
          1.4338229338648771,
          1.3884384826895693,
          1.3433701954011361,
          1.3045473002524213,
          1.284937590874613,
          1.2508604149852922,
          1.2349955115547537,
          1.2569399257915292,
          1.2523823087261028,
          1.3128109956326541,
          1.279218264233166,
          1.2587348774208094,
          1.2241719558170852,
          1.1916237665644374,
          1.1945312210957202,
          1.1650957648568636,
          1.1379261787217803,
          1.1079483215490475,
          1.1258389656139274,
          1.108317073876832,
          1.0991607001310728,
          1.072965063350828,
          1.0854593269217847,
          1.1059441002499881,
          1.1015879469697551,
          1.0736945337416854,
          1.048282938569382,
          1.0571246433288983,
          1.18107032559094,
          1.2249491736400204,
          1.1906409327382417,
          1.157792439484346,
          1.1253036996305679,
          1.1630792870966788,
          1.1941949972878887,
          1.2181916750769195,
          1.2095730165126526,
          1.205006307480894,
          1.170681895543809,
          1.1770440983273616,
          1.1453499732410921,
          1.113178512357661,
          1.131267079807163,
          1.1045131496764948,
          1.0776250612573184,
          1.0633959831661355,
          1.0375924023338048,
          1.0357881640331283,
          1.1087380994200575,
          1.1348356699670723,
          1.1501631581336296,
          1.1375835692902443,
          1.110827821364602,
          1.0878439227186394,
          1.0711710469179918,
          1.0441387676385163,
          1.0221508185695807,
          0.9981453955791904,
          0.9777134291749834,
          0.9655213641564963,
          0.9455183590958076,
          0.9320368306438589,
          0.9254238763712815,
          0.9172272840107485,
          0.9026199901094526,
          0.9052039879302654,
          0.8937353560657663,
          0.8787503787273584,
          0.9405815166069755,
          0.9234977658327597,
          0.9063724291018985,
          0.9351275457136163,
          0.9273248713058724,
          0.9333540916592876,
          0.9298841366965355,
          0.9153770190357952,
          0.9266972340221904,
          0.909689640603486,
          0.9080855056717902,
          0.9322722147275335,
          0.9246846683599794,
          0.9280354138284888,
          0.9143011518400962,
          0.8993664211709618,
          0.8957990512341542,
          0.8851059776338187,
          0.8930845091299259,
          0.878558046652418,
          0.8671622381924445,
          0.8543665121185601,
          0.8472760910889585,
          0.856347283642905,
          0.8500869086523862,
          0.8386023826539444,
          0.8318237618462717,
          0.8228923146383069,
          0.8492785189512772,
          0.8434730554115504,
          0.8516114119437805,
          0.8442922056315917,
          0.8505988538419998,
          0.8440571757087192,
          0.8382805496843866,
          0.830823906968101,
          0.8857866613533497,
          0.8781729536166231,
          1.0127373664747112,
          1.0201308468073527,
          0.9989457458824318,
          0.9980885685309029,
          0.9813517127198094,
          0.961095279516956,
          0.9420850011838657,
          0.9429485686136014,
          0.9294917970365435,
          0.915393061153678,
          0.9027180145133242,
          0.8990433788428103,
          0.9021686597892837,
          0.8918963059577006,
          0.8869605524772799,
          0.8724944851295813,
          0.8877171608457955,
          1.0192686216007565,
          0.9973546502763232,
          0.975439432963934,
          1.0000236793106463,
          0.9778798577419625,
          1.0012816836319605,
          0.9797689987587394,
          0.9824520301279454,
          0.9611152359700258,
          0.9438618768875606,
          0.9536463833742597,
          0.9416162889786318,
          0.9234010043047023,
          0.9094729508355376,
          0.8933303192843434,
          0.9487441675502252,
          0.9429158736647368,
          0.9254675264948035,
          0.9082015742088093,
          0.8935290647384354,
          0.8796211106338222,
          0.8663096612203132,
          0.8665647803889474,
          0.8584464602952623,
          0.8516671900265302,
          0.9059554346107085,
          0.9008263497773371,
          0.8916773115621313,
          0.8823309430407609,
          0.8900652411864494,
          0.8754348458098923,
          0.894609697077812,
          0.8802052568024582,
          0.8923421459218641,
          0.8784504934779074,
          0.8771578711102276,
          0.8636474190183464,
          0.8514772938726297,
          0.9579141889139006,
          0.9877837662555412,
          0.9982010520302844,
          0.9831995414235476,
          0.9792840684943497,
          0.9581469169607854,
          0.9409473210237377,
          0.9534132978326687,
          1.0190182434500235,
          1.011427310912727,
          0.9882298796949814,
          0.9667080203171953,
          0.9479572962733142,
          0.9324755226821017,
          0.9250165923744439,
          1.0117566709121033,
          0.9971220880865121,
          1.0027133096586278,
          1.0082518516040078,
          0.9854821784392328,
          0.9642836744682849,
          0.9821535199918111,
          0.9628122365917062,
          0.9473932097423206,
          0.9291580154392356,
          0.9116782838680286,
          0.8954165539505813,
          0.8929262501869224,
          0.8808423315065071,
          0.902425511197479,
          0.8903521103519321,
          0.8978355428113048,
          0.8930245866545377,
          0.8786164262729296,
          0.8717843385273838,
          0.8633876448162593,
          0.9613274348909374,
          0.9646919644889781,
          0.9531064312293079,
          0.9390019831479233,
          0.9217387667956549,
          0.9071994577953825,
          0.8990132350209046,
          0.8879879696435085,
          0.9028242805647736,
          0.8888252205054564,
          0.8782099717238806,
          0.8644029208334992,
          0.8543805357733104,
          0.842424451519917,
          0.8512051827792902,
          0.8519907474933338,
          0.8704971550600955,
          0.8677703461747222,
          0.8651663318975369,
          0.8678214275096875,
          0.8793690569239613,
          1.1438298402248774,
          1.170129895791167,
          1.3724146537752038,
          1.3289865510465013,
          1.3294440800051956,
          1.3011975863779175,
          1.3945508041127583,
          1.3523708315905658,
          1.3117630421360063,
          1.27155798825141,
          1.3725536695813,
          1.4625386512398832,
          1.411380119776157,
          1.3663849254487397,
          1.3405669358647307,
          1.35362520281691,
          1.3120183787753001,
          1.2722498262017325,
          1.2420780554875572,
          1.2038805645300223,
          1.1793604666014006,
          1.147838351576466,
          1.1155978196576932,
          1.088472213602125,
          1.0721794709827857,
          1.0449828154242726,
          1.0899655887031157,
          1.0773272129458036,
          1.0588042627154874,
          1.0345592036678524,
          1.0099591197545776,
          0.986712662044548,
          0.9653012865792161,
          0.9538533210256135,
          0.9514708888879607,
          0.9545113302462985,
          0.9354621473716429,
          0.9242132081737998,
          0.9165330443087691,
          0.9235366539500564,
          0.909029436250828,
          0.898691648367533,
          0.883361684506916,
          0.9851856251742391,
          0.9650974646164622,
          0.9639139158035542,
          0.9717938408221006,
          0.9636478777993172,
          0.9804480911694583,
          0.9882155340544481,
          0.9767893479652204,
          1.0302082270581012,
          1.0126595591365726,
          1.0821707125704023,
          1.0634789811954928,
          1.039469581071544,
          1.0143581498101493,
          1.0948457259447677,
          1.0761625314168768,
          1.0545533972487564,
          1.0654354095296592,
          1.125280160552198,
          1.4245939532924268,
          1.3974324616330107,
          1.3551158189511492,
          1.3203804928414387,
          1.2774719317285859,
          1.2373711893119408,
          1.333968094141674,
          1.6095014935590966,
          1.5539303034502185,
          1.5644068663634052,
          1.5075232358524966,
          1.5154370884374175,
          1.522657517857135,
          1.4701687615073853,
          1.4387211900780894,
          1.3889531046257078,
          1.3537058320424489,
          1.310877072030875,
          1.2800314833325634,
          1.258239968736187,
          1.2357121856640445,
          1.20582607359847,
          1.172523057552817,
          1.138639774796979,
          1.110915163603128,
          1.1279436502907167,
          1.105691917499709,
          1.076819421295911,
          1.073499292571599,
          1.0523034618729084,
          1.0348214584098516,
          1.010092305967759,
          1.022475544917729,
          0.9995768461758966,
          0.9814940533868514,
          0.9867197557733549,
          0.9898913834100269,
          1.0175752168586105,
          0.9967724440174199,
          1.0390663710953718,
          1.0417204241052054,
          1.070660900060301,
          1.0577243354705443,
          1.0536862555083129,
          1.1824032894001228,
          1.231921837097013,
          1.2036683996560056,
          1.3752641649679573,
          1.3448628430346756,
          1.302478771475019,
          1.2621469192474377,
          1.245295153205177,
          1.2109102432388834,
          1.1761924278646971,
          1.2222118472859353,
          1.1875182537927977,
          1.1553891195509416,
          2.0209069572281537,
          1.9988922533033233,
          1.9555064359211733,
          2.0124971279418356,
          1.9785213584213608,
          1.8994577090241205,
          1.8259477652972431,
          1.7595322483550597,
          1.7628881378484975,
          1.7002258381928672,
          1.6529474110060887,
          1.6190694427851082,
          1.5600217927332818,
          1.509074312697836,
          1.46298590754876,
          1.4754236149945512,
          1.4330349619813418,
          1.384165679670862,
          1.4960050658026467,
          1.4522513048843166,
          1.4245771337176159,
          1.3819228552590395,
          1.4251844090709995,
          1.3858682354278262,
          1.3664734558940357,
          1.3906504062173954,
          1.3450983780939514,
          1.3251880214555436,
          1.2918485949317693,
          1.2518477207166074,
          1.330127195190681,
          1.3543009519246212,
          1.3098707538930467,
          1.283653302887755,
          1.245125989367953,
          1.210056579281484,
          1.1795785541030035,
          1.15198408505765,
          1.123031900215204,
          1.0977525640996428,
          1.121196200030424,
          1.138816597878902,
          1.1798495559017297,
          1.1475219521262616,
          1.117792494708064,
          1.1093094561586536,
          1.1440161432960567,
          1.1155129350373822,
          1.1515794770764924,
          1.1193394803665404,
          1.0950770095153863,
          1.119096808161738,
          1.0924450509049262,
          1.0690740978905018,
          1.0490409895170538,
          1.0369271043039465,
          1.0119713624083637,
          1.01148982500866,
          1.0035729966081146,
          0.9950406958014412,
          1.0142372029680984,
          1.007441873278623,
          0.9867609115777232,
          0.9715444852463757,
          0.9514827851866803,
          1.0030382633190904,
          0.9803278517931683,
          0.9593161853731411,
          0.9450529089208689,
          1.0988864032938481,
          1.081276685377359,
          1.0791423124091077,
          1.0670816107633927,
          1.044657359260599,
          1.074868109655717,
          1.0472498633429588,
          1.1076771685362152,
          1.081395623452532,
          1.0552507405052713,
          1.030422504949761,
          1.2796901236505354,
          1.2443502472645287,
          1.2527427788959018,
          1.2139314023595607,
          1.1892723043827944,
          1.1553935528215986,
          1.1427031115599118,
          1.1129031303233132,
          1.1184982861362873,
          1.131863355498398,
          1.2681349612193675,
          1.2517803780848409,
          1.2271596469342667,
          1.2151251497153703,
          1.2059554517753421,
          1.1707006796187667,
          1.162256906016509,
          1.2466846939638923,
          1.2317925571170325,
          1.1960654212141628,
          1.1609870598332046,
          1.161167559735759,
          1.1680292171026243,
          1.2012298544503002,
          1.2024006892368406,
          1.206786776621133,
          1.1907478323010128,
          1.2197902292191356,
          1.2390991116272563,
          1.3777679675450263,
          1.4445026551227205,
          1.404094797695336,
          1.3569573859901913,
          1.397259080748917,
          1.4002264431577691,
          1.3561636196344524,
          1.3562465578521108,
          1.3114779760666813,
          1.2820497109991515,
          1.2439528437500322,
          1.2060251465587266,
          1.2204323524223282,
          1.4546828776140113,
          1.412978164164641,
          1.386303046368334,
          1.3405769040340052,
          1.297731453564305,
          1.2576724324502673,
          1.2284491175946528,
          1.2426727692977724,
          1.2078241812068669,
          1.175475826466776,
          1.1414310124962257,
          1.1095444526187401,
          1.0840721427025606,
          1.2105302850673028,
          1.1755089892928638,
          1.1582062005164973,
          1.1757668453144956,
          1.1419406332809037,
          1.1102376757154873,
          1.0838885720760258,
          1.088441425716019,
          1.101834327780791,
          1.0724683506302566,
          1.0450963417749095,
          1.0755815140135347,
          1.0586322330618858,
          1.0322928019136755,
          1.0080436866561577,
          1.0525938561659405,
          1.0432200870696164,
          1.0314285676052906,
          1.0153987114625809,
          1.0233542581645134,
          1.007521008942895,
          0.9944675737710602,
          1.0069731455487099,
          0.9842347557609255,
          1.0047947066668101,
          1.0793145226108196,
          1.0967160000957237,
          1.085728689560631,
          1.0590928872205254,
          1.0817210848384786,
          1.0561302260505503,
          1.033148620226804,
          1.2503992326108972,
          1.2127116738081192,
          1.1835410300073277,
          1.1498768666643413,
          1.1231569150529848,
          1.100894550978879,
          1.0732980564821102,
          1.0550678916234417,
          1.0297720835290398,
          1.0369374657344526,
          1.0118905813315304,
          1.0754124897946036,
          1.0652774714052415,
          1.0454729040750066,
          1.021207098330086,
          1.008874061117832,
          0.9871514175380807,
          0.9655573829077106,
          1.018808996685463,
          1.0771319195443483,
          1.0494522684514114,
          1.03631302936387,
          1.0701490781634448,
          1.0523458210881964,
          1.0278766950367795,
          1.003848128053078,
          0.9875243671909961,
          0.9660510351877964,
          0.9558150158551225,
          0.9759203843584308,
          1.0124146665939304,
          0.9969703793026056,
          1.0378637816612946,
          1.024127136778192,
          0.9998999478689761,
          1.007557634221413,
          0.991078187136038,
          0.995774645264204,
          0.9763212152796327,
          0.966446654687263,
          0.9535355058884167,
          0.942512522178369,
          0.9492512257844353,
          0.9384950974677435,
          0.9281414507440588,
          0.9129869708484633,
          0.9729340618647743,
          0.9661148570979293,
          0.9459926172303456,
          0.9405294188806733,
          0.9222951111062715,
          0.9069385360264145,
          0.9002788374797942,
          0.8890354332461681,
          0.900046975188484,
          0.8845950154164511,
          0.8731712035268618,
          0.861531329131036,
          0.8494476216501906,
          0.8533275342279544,
          0.8429806394691827,
          0.84387908871903,
          0.8330275131309625,
          0.8232790008474228,
          0.8188308789756727,
          0.809847505580134,
          0.8029614854162386,
          0.7966463540351291,
          0.7992230558315881,
          0.7923525039496602,
          0.8019902737982417,
          0.7952350588370833,
          0.7972427481837384,
          0.8035580482763396,
          0.7956518944786263,
          0.7944787435302161,
          0.7888654826879945,
          0.8103294421064448,
          0.8022614331754864,
          0.8036751872497828,
          0.7996722156382485,
          0.7957323625695407,
          0.837705837396425,
          0.8279656275753118,
          0.8310068212980573,
          0.8208176269892998,
          0.9619390691427984,
          0.9437069683025302,
          0.9500612731526095,
          0.9519071025319964,
          0.9355564642109898,
          0.9400006561089423,
          0.923703565077855,
          0.9147852753410552,
          1.004263374042653,
          0.9967280606462285,
          0.9921717805239482,
          0.971390830351908,
          0.951908053822217,
          0.9330543982718855,
          0.9225923580629948,
          0.9091655730430042,
          0.905328642117859,
          0.9436986261249575,
          0.9385193270923756,
          0.9363546167319342,
          0.9197652223940718,
          0.9152335314730792,
          0.9369997676714752,
          0.9188702825648838,
          0.9043404699736044,
          0.9196489970572743,
          0.9271962925130905,
          0.9121511337855763,
          0.9051042808834676,
          0.904294384976236,
          0.9103336789438655,
          0.9530536264892552,
          0.9536900330218503,
          0.9370464826009767,
          0.926062851389668,
          0.9284198544870017,
          0.9335557925777294,
          0.9169701415717922,
          0.9067496543805453,
          0.9802838703924202,
          0.9984283893928675,
          0.9759722749399198,
          0.9550792148295074,
          0.9403683866547483,
          0.9677000359960356,
          0.9786122993677847,
          0.957517033805511,
          0.9643824690192911,
          0.9473021171406143,
          0.9303480161231977,
          0.9229545335679082,
          0.9803303277100035,
          0.9750498258622152,
          0.9616353776476503,
          0.9426367428029653,
          0.926626061976619,
          0.913147725799799,
          0.9057056205810273,
          0.9068641036545588,
          0.8909610932369896,
          0.8769953789918034,
          0.8716445323625408,
          0.8855532702224778,
          0.885799280493892,
          0.874212971385854,
          0.8641515959529448,
          0.8569930244169929,
          0.8464870053172818,
          0.8359249744046943,
          0.825743170439244,
          0.858558611108984,
          0.8748029363792439,
          0.8868211850298043,
          0.8728668376655301,
          0.8817292058853444,
          0.8677496059540963,
          0.8806208258880003,
          0.9018202027042518,
          0.8873164574184698,
          0.8920921095567613,
          0.9060326371344812,
          0.9003213160568397,
          0.8870859793980052,
          0.8775675725292938,
          0.9446386066646847,
          0.9260109488852167,
          0.9459692907613821,
          0.9509049373210542,
          0.967172650631474,
          0.9497342953565354,
          0.9325561053724001,
          0.9425982490742784,
          0.9634162919359422,
          0.9450520782494969,
          1.4927879903538535,
          1.4780573169647262,
          1.4320035560616338,
          1.4725781227001125,
          1.4293282621206085,
          1.4410636748360937,
          1.391310363645766,
          1.363894780688231,
          1.3463972862971638,
          1.3021464281271637,
          1.2659427640014995,
          1.2291117674377354,
          1.2134419383069637,
          1.357725109427868,
          1.3266988281054233,
          1.293193622559324,
          1.275738966613849,
          1.2928064064142515,
          1.258403222530678,
          1.2197089590921752,
          1.2115445718374795,
          1.1861220374757624,
          1.1543854933368844,
          1.1241061705130713,
          1.094490560579822,
          1.0831017372187282,
          1.0550046718608763,
          1.0314255072025946,
          1.0083594871841222,
          0.9857385998995578,
          0.964926219907157,
          0.9453440998942346,
          0.9276812219831077,
          0.9436593767512997,
          0.9366683305076994,
          0.9197847812391968,
          0.904786343708074,
          0.8896889600745203,
          0.8889312584591181,
          0.9132713746936642,
          0.8994358124348613,
          0.8850382092801236,
          0.8710080107613429,
          0.8585789443802538,
          0.8473639711401786,
          0.8385516657579721,
          0.8434571753314702,
          0.844046177809849,
          0.8546263029246299,
          0.9199371215939298,
          0.9232323234858509,
          0.9197295729518584,
          0.907382479577768,
          1.0270398557608331,
          1.0129298618996494,
          0.9970200022695569
         ]
        },
        {
         "mode": "lines",
         "name": "JPMorgan",
         "type": "scatter",
         "x": [
          "2019-01-25T00:00:00",
          "2019-01-28T00:00:00",
          "2019-01-29T00:00:00",
          "2019-01-30T00:00:00",
          "2019-01-31T00:00:00",
          "2019-02-01T00:00:00",
          "2019-02-04T00:00:00",
          "2019-02-05T00:00:00",
          "2019-02-06T00:00:00",
          "2019-02-07T00:00:00",
          "2019-02-08T00:00:00",
          "2019-02-11T00:00:00",
          "2019-02-12T00:00:00",
          "2019-02-13T00:00:00",
          "2019-02-14T00:00:00",
          "2019-02-15T00:00:00",
          "2019-02-19T00:00:00",
          "2019-02-20T00:00:00",
          "2019-02-21T00:00:00",
          "2019-02-22T00:00:00",
          "2019-02-25T00:00:00",
          "2019-02-26T00:00:00",
          "2019-02-27T00:00:00",
          "2019-02-28T00:00:00",
          "2019-03-01T00:00:00",
          "2019-03-04T00:00:00",
          "2019-03-05T00:00:00",
          "2019-03-06T00:00:00",
          "2019-03-07T00:00:00",
          "2019-03-08T00:00:00",
          "2019-03-11T00:00:00",
          "2019-03-12T00:00:00",
          "2019-03-13T00:00:00",
          "2019-03-14T00:00:00",
          "2019-03-15T00:00:00",
          "2019-03-18T00:00:00",
          "2019-03-19T00:00:00",
          "2019-03-20T00:00:00",
          "2019-03-21T00:00:00",
          "2019-03-22T00:00:00",
          "2019-03-25T00:00:00",
          "2019-03-26T00:00:00",
          "2019-03-27T00:00:00",
          "2019-03-28T00:00:00",
          "2019-03-29T00:00:00",
          "2019-04-01T00:00:00",
          "2019-04-02T00:00:00",
          "2019-04-03T00:00:00",
          "2019-04-04T00:00:00",
          "2019-04-05T00:00:00",
          "2019-04-08T00:00:00",
          "2019-04-09T00:00:00",
          "2019-04-10T00:00:00",
          "2019-04-11T00:00:00",
          "2019-04-12T00:00:00",
          "2019-04-15T00:00:00",
          "2019-04-16T00:00:00",
          "2019-04-17T00:00:00",
          "2019-04-18T00:00:00",
          "2019-04-22T00:00:00",
          "2019-04-23T00:00:00",
          "2019-04-24T00:00:00",
          "2019-04-25T00:00:00",
          "2019-04-26T00:00:00",
          "2019-04-29T00:00:00",
          "2019-04-30T00:00:00",
          "2019-05-01T00:00:00",
          "2019-05-02T00:00:00",
          "2019-05-03T00:00:00",
          "2019-05-06T00:00:00",
          "2019-05-07T00:00:00",
          "2019-05-08T00:00:00",
          "2019-05-09T00:00:00",
          "2019-05-10T00:00:00",
          "2019-05-13T00:00:00",
          "2019-05-14T00:00:00",
          "2019-05-15T00:00:00",
          "2019-05-16T00:00:00",
          "2019-05-17T00:00:00",
          "2019-05-20T00:00:00",
          "2019-05-21T00:00:00",
          "2019-05-22T00:00:00",
          "2019-05-23T00:00:00",
          "2019-05-24T00:00:00",
          "2019-05-28T00:00:00",
          "2019-05-29T00:00:00",
          "2019-05-30T00:00:00",
          "2019-05-31T00:00:00",
          "2019-06-03T00:00:00",
          "2019-06-04T00:00:00",
          "2019-06-05T00:00:00",
          "2019-06-06T00:00:00",
          "2019-06-07T00:00:00",
          "2019-06-10T00:00:00",
          "2019-06-11T00:00:00",
          "2019-06-12T00:00:00",
          "2019-06-13T00:00:00",
          "2019-06-14T00:00:00",
          "2019-06-17T00:00:00",
          "2019-06-18T00:00:00",
          "2019-06-19T00:00:00",
          "2019-06-20T00:00:00",
          "2019-06-21T00:00:00",
          "2019-06-24T00:00:00",
          "2019-06-25T00:00:00",
          "2019-06-26T00:00:00",
          "2019-06-27T00:00:00",
          "2019-06-28T00:00:00",
          "2019-07-01T00:00:00",
          "2019-07-02T00:00:00",
          "2019-07-03T00:00:00",
          "2019-07-05T00:00:00",
          "2019-07-08T00:00:00",
          "2019-07-09T00:00:00",
          "2019-07-10T00:00:00",
          "2019-07-11T00:00:00",
          "2019-07-12T00:00:00",
          "2019-07-15T00:00:00",
          "2019-07-16T00:00:00",
          "2019-07-17T00:00:00",
          "2019-07-18T00:00:00",
          "2019-07-19T00:00:00",
          "2019-07-22T00:00:00",
          "2019-07-23T00:00:00",
          "2019-07-24T00:00:00",
          "2019-07-25T00:00:00",
          "2019-07-26T00:00:00",
          "2019-07-29T00:00:00",
          "2019-07-30T00:00:00",
          "2019-07-31T00:00:00",
          "2019-08-01T00:00:00",
          "2019-08-02T00:00:00",
          "2019-08-05T00:00:00",
          "2019-08-06T00:00:00",
          "2019-08-07T00:00:00",
          "2019-08-08T00:00:00",
          "2019-08-09T00:00:00",
          "2019-08-12T00:00:00",
          "2019-08-13T00:00:00",
          "2019-08-14T00:00:00",
          "2019-08-15T00:00:00",
          "2019-08-16T00:00:00",
          "2019-08-19T00:00:00",
          "2019-08-20T00:00:00",
          "2019-08-21T00:00:00",
          "2019-08-22T00:00:00",
          "2019-08-23T00:00:00",
          "2019-08-26T00:00:00",
          "2019-08-27T00:00:00",
          "2019-08-28T00:00:00",
          "2019-08-29T00:00:00",
          "2019-08-30T00:00:00",
          "2019-09-03T00:00:00",
          "2019-09-04T00:00:00",
          "2019-09-05T00:00:00",
          "2019-09-06T00:00:00",
          "2019-09-09T00:00:00",
          "2019-09-10T00:00:00",
          "2019-09-11T00:00:00",
          "2019-09-12T00:00:00",
          "2019-09-13T00:00:00",
          "2019-09-16T00:00:00",
          "2019-09-17T00:00:00",
          "2019-09-18T00:00:00",
          "2019-09-19T00:00:00",
          "2019-09-20T00:00:00",
          "2019-09-23T00:00:00",
          "2019-09-24T00:00:00",
          "2019-09-25T00:00:00",
          "2019-09-26T00:00:00",
          "2019-09-27T00:00:00",
          "2019-09-30T00:00:00",
          "2019-10-01T00:00:00",
          "2019-10-02T00:00:00",
          "2019-10-03T00:00:00",
          "2019-10-04T00:00:00",
          "2019-10-07T00:00:00",
          "2019-10-08T00:00:00",
          "2019-10-09T00:00:00",
          "2019-10-10T00:00:00",
          "2019-10-11T00:00:00",
          "2019-10-14T00:00:00",
          "2019-10-15T00:00:00",
          "2019-10-16T00:00:00",
          "2019-10-17T00:00:00",
          "2019-10-18T00:00:00",
          "2019-10-21T00:00:00",
          "2019-10-22T00:00:00",
          "2019-10-23T00:00:00",
          "2019-10-24T00:00:00",
          "2019-10-25T00:00:00",
          "2019-10-28T00:00:00",
          "2019-10-29T00:00:00",
          "2019-10-30T00:00:00",
          "2019-10-31T00:00:00",
          "2019-11-01T00:00:00",
          "2019-11-04T00:00:00",
          "2019-11-05T00:00:00",
          "2019-11-06T00:00:00",
          "2019-11-07T00:00:00",
          "2019-11-08T00:00:00",
          "2019-11-11T00:00:00",
          "2019-11-12T00:00:00",
          "2019-11-13T00:00:00",
          "2019-11-14T00:00:00",
          "2019-11-15T00:00:00",
          "2019-11-18T00:00:00",
          "2019-11-19T00:00:00",
          "2019-11-20T00:00:00",
          "2019-11-21T00:00:00",
          "2019-11-22T00:00:00",
          "2019-11-25T00:00:00",
          "2019-11-26T00:00:00",
          "2019-11-27T00:00:00",
          "2019-11-29T00:00:00",
          "2019-12-02T00:00:00",
          "2019-12-03T00:00:00",
          "2019-12-04T00:00:00",
          "2019-12-05T00:00:00",
          "2019-12-06T00:00:00",
          "2019-12-09T00:00:00",
          "2019-12-10T00:00:00",
          "2019-12-11T00:00:00",
          "2019-12-12T00:00:00",
          "2019-12-13T00:00:00",
          "2019-12-16T00:00:00",
          "2019-12-17T00:00:00",
          "2019-12-18T00:00:00",
          "2019-12-19T00:00:00",
          "2019-12-20T00:00:00",
          "2019-12-23T00:00:00",
          "2019-12-24T00:00:00",
          "2019-12-26T00:00:00",
          "2019-12-27T00:00:00",
          "2019-12-30T00:00:00",
          "2019-12-31T00:00:00",
          "2020-01-02T00:00:00",
          "2020-01-03T00:00:00",
          "2020-01-06T00:00:00",
          "2020-01-07T00:00:00",
          "2020-01-08T00:00:00",
          "2020-01-09T00:00:00",
          "2020-01-10T00:00:00",
          "2020-01-13T00:00:00",
          "2020-01-14T00:00:00",
          "2020-01-15T00:00:00",
          "2020-01-16T00:00:00",
          "2020-01-17T00:00:00",
          "2020-01-21T00:00:00",
          "2020-01-22T00:00:00",
          "2020-01-23T00:00:00",
          "2020-01-24T00:00:00",
          "2020-01-27T00:00:00",
          "2020-01-28T00:00:00",
          "2020-01-29T00:00:00",
          "2020-01-30T00:00:00",
          "2020-01-31T00:00:00",
          "2020-02-03T00:00:00",
          "2020-02-04T00:00:00",
          "2020-02-05T00:00:00",
          "2020-02-06T00:00:00",
          "2020-02-07T00:00:00",
          "2020-02-10T00:00:00",
          "2020-02-11T00:00:00",
          "2020-02-12T00:00:00",
          "2020-02-13T00:00:00",
          "2020-02-14T00:00:00",
          "2020-02-18T00:00:00",
          "2020-02-19T00:00:00",
          "2020-02-20T00:00:00",
          "2020-02-21T00:00:00",
          "2020-02-24T00:00:00",
          "2020-02-25T00:00:00",
          "2020-02-26T00:00:00",
          "2020-02-27T00:00:00",
          "2020-02-28T00:00:00",
          "2020-03-02T00:00:00",
          "2020-03-03T00:00:00",
          "2020-03-04T00:00:00",
          "2020-03-05T00:00:00",
          "2020-03-06T00:00:00",
          "2020-03-09T00:00:00",
          "2020-03-10T00:00:00",
          "2020-03-11T00:00:00",
          "2020-03-12T00:00:00",
          "2020-03-13T00:00:00",
          "2020-03-16T00:00:00",
          "2020-03-17T00:00:00",
          "2020-03-18T00:00:00",
          "2020-03-19T00:00:00",
          "2020-03-20T00:00:00",
          "2020-03-23T00:00:00",
          "2020-03-24T00:00:00",
          "2020-03-25T00:00:00",
          "2020-03-26T00:00:00",
          "2020-03-27T00:00:00",
          "2020-03-30T00:00:00",
          "2020-03-31T00:00:00",
          "2020-04-01T00:00:00",
          "2020-04-02T00:00:00",
          "2020-04-03T00:00:00",
          "2020-04-06T00:00:00",
          "2020-04-07T00:00:00",
          "2020-04-08T00:00:00",
          "2020-04-09T00:00:00",
          "2020-04-13T00:00:00",
          "2020-04-14T00:00:00",
          "2020-04-15T00:00:00",
          "2020-04-16T00:00:00",
          "2020-04-17T00:00:00",
          "2020-04-20T00:00:00",
          "2020-04-21T00:00:00",
          "2020-04-22T00:00:00",
          "2020-04-23T00:00:00",
          "2020-04-24T00:00:00",
          "2020-04-27T00:00:00",
          "2020-04-28T00:00:00",
          "2020-04-29T00:00:00",
          "2020-04-30T00:00:00",
          "2020-05-01T00:00:00",
          "2020-05-04T00:00:00",
          "2020-05-05T00:00:00",
          "2020-05-06T00:00:00",
          "2020-05-07T00:00:00",
          "2020-05-08T00:00:00",
          "2020-05-11T00:00:00",
          "2020-05-12T00:00:00",
          "2020-05-13T00:00:00",
          "2020-05-14T00:00:00",
          "2020-05-15T00:00:00",
          "2020-05-18T00:00:00",
          "2020-05-19T00:00:00",
          "2020-05-20T00:00:00",
          "2020-05-21T00:00:00",
          "2020-05-22T00:00:00",
          "2020-05-26T00:00:00",
          "2020-05-27T00:00:00",
          "2020-05-28T00:00:00",
          "2020-05-29T00:00:00",
          "2020-06-01T00:00:00",
          "2020-06-02T00:00:00",
          "2020-06-03T00:00:00",
          "2020-06-04T00:00:00",
          "2020-06-05T00:00:00",
          "2020-06-08T00:00:00",
          "2020-06-09T00:00:00",
          "2020-06-10T00:00:00",
          "2020-06-11T00:00:00",
          "2020-06-12T00:00:00",
          "2020-06-15T00:00:00",
          "2020-06-16T00:00:00",
          "2020-06-17T00:00:00",
          "2020-06-18T00:00:00",
          "2020-06-19T00:00:00",
          "2020-06-22T00:00:00",
          "2020-06-23T00:00:00",
          "2020-06-24T00:00:00",
          "2020-06-25T00:00:00",
          "2020-06-26T00:00:00",
          "2020-06-29T00:00:00",
          "2020-06-30T00:00:00",
          "2020-07-01T00:00:00",
          "2020-07-02T00:00:00",
          "2020-07-06T00:00:00",
          "2020-07-07T00:00:00",
          "2020-07-08T00:00:00",
          "2020-07-09T00:00:00",
          "2020-07-10T00:00:00",
          "2020-07-13T00:00:00",
          "2020-07-14T00:00:00",
          "2020-07-15T00:00:00",
          "2020-07-16T00:00:00",
          "2020-07-17T00:00:00",
          "2020-07-20T00:00:00",
          "2020-07-21T00:00:00",
          "2020-07-22T00:00:00",
          "2020-07-23T00:00:00",
          "2020-07-24T00:00:00",
          "2020-07-27T00:00:00",
          "2020-07-28T00:00:00",
          "2020-07-29T00:00:00",
          "2020-07-30T00:00:00",
          "2020-07-31T00:00:00",
          "2020-08-03T00:00:00",
          "2020-08-04T00:00:00",
          "2020-08-05T00:00:00",
          "2020-08-06T00:00:00",
          "2020-08-07T00:00:00",
          "2020-08-10T00:00:00",
          "2020-08-11T00:00:00",
          "2020-08-12T00:00:00",
          "2020-08-13T00:00:00",
          "2020-08-14T00:00:00",
          "2020-08-17T00:00:00",
          "2020-08-18T00:00:00",
          "2020-08-19T00:00:00",
          "2020-08-20T00:00:00",
          "2020-08-21T00:00:00",
          "2020-08-24T00:00:00",
          "2020-08-25T00:00:00",
          "2020-08-26T00:00:00",
          "2020-08-27T00:00:00",
          "2020-08-28T00:00:00",
          "2020-08-31T00:00:00",
          "2020-09-01T00:00:00",
          "2020-09-02T00:00:00",
          "2020-09-03T00:00:00",
          "2020-09-04T00:00:00",
          "2020-09-08T00:00:00",
          "2020-09-09T00:00:00",
          "2020-09-10T00:00:00",
          "2020-09-11T00:00:00",
          "2020-09-14T00:00:00",
          "2020-09-15T00:00:00",
          "2020-09-16T00:00:00",
          "2020-09-17T00:00:00",
          "2020-09-18T00:00:00",
          "2020-09-21T00:00:00",
          "2020-09-22T00:00:00",
          "2020-09-23T00:00:00",
          "2020-09-24T00:00:00",
          "2020-09-25T00:00:00",
          "2020-09-28T00:00:00",
          "2020-09-29T00:00:00",
          "2020-09-30T00:00:00",
          "2020-10-01T00:00:00",
          "2020-10-02T00:00:00",
          "2020-10-05T00:00:00",
          "2020-10-06T00:00:00",
          "2020-10-07T00:00:00",
          "2020-10-08T00:00:00",
          "2020-10-09T00:00:00",
          "2020-10-12T00:00:00",
          "2020-10-13T00:00:00",
          "2020-10-14T00:00:00",
          "2020-10-15T00:00:00",
          "2020-10-16T00:00:00",
          "2020-10-19T00:00:00",
          "2020-10-20T00:00:00",
          "2020-10-21T00:00:00",
          "2020-10-22T00:00:00",
          "2020-10-23T00:00:00",
          "2020-10-26T00:00:00",
          "2020-10-27T00:00:00",
          "2020-10-28T00:00:00",
          "2020-10-29T00:00:00",
          "2020-10-30T00:00:00",
          "2020-11-02T00:00:00",
          "2020-11-03T00:00:00",
          "2020-11-04T00:00:00",
          "2020-11-05T00:00:00",
          "2020-11-06T00:00:00",
          "2020-11-09T00:00:00",
          "2020-11-10T00:00:00",
          "2020-11-11T00:00:00",
          "2020-11-12T00:00:00",
          "2020-11-13T00:00:00",
          "2020-11-16T00:00:00",
          "2020-11-17T00:00:00",
          "2020-11-18T00:00:00",
          "2020-11-19T00:00:00",
          "2020-11-20T00:00:00",
          "2020-11-23T00:00:00",
          "2020-11-24T00:00:00",
          "2020-11-25T00:00:00",
          "2020-11-27T00:00:00",
          "2020-11-30T00:00:00",
          "2020-12-01T00:00:00",
          "2020-12-02T00:00:00",
          "2020-12-03T00:00:00",
          "2020-12-04T00:00:00",
          "2020-12-07T00:00:00",
          "2020-12-08T00:00:00",
          "2020-12-09T00:00:00",
          "2020-12-10T00:00:00",
          "2020-12-11T00:00:00",
          "2020-12-14T00:00:00",
          "2020-12-15T00:00:00",
          "2020-12-16T00:00:00",
          "2020-12-17T00:00:00",
          "2020-12-18T00:00:00",
          "2020-12-21T00:00:00",
          "2020-12-22T00:00:00",
          "2020-12-23T00:00:00",
          "2020-12-24T00:00:00",
          "2020-12-28T00:00:00",
          "2020-12-29T00:00:00",
          "2020-12-30T00:00:00",
          "2020-12-31T00:00:00",
          "2021-01-04T00:00:00",
          "2021-01-05T00:00:00",
          "2021-01-06T00:00:00",
          "2021-01-07T00:00:00",
          "2021-01-08T00:00:00",
          "2021-01-11T00:00:00",
          "2021-01-12T00:00:00",
          "2021-01-13T00:00:00",
          "2021-01-14T00:00:00",
          "2021-01-15T00:00:00",
          "2021-01-19T00:00:00",
          "2021-01-20T00:00:00",
          "2021-01-21T00:00:00",
          "2021-01-22T00:00:00",
          "2021-01-25T00:00:00",
          "2021-01-26T00:00:00",
          "2021-01-27T00:00:00",
          "2021-01-28T00:00:00",
          "2021-01-29T00:00:00",
          "2021-02-01T00:00:00",
          "2021-02-02T00:00:00",
          "2021-02-03T00:00:00",
          "2021-02-04T00:00:00",
          "2021-02-05T00:00:00",
          "2021-02-08T00:00:00",
          "2021-02-09T00:00:00",
          "2021-02-10T00:00:00",
          "2021-02-11T00:00:00",
          "2021-02-12T00:00:00",
          "2021-02-16T00:00:00",
          "2021-02-17T00:00:00",
          "2021-02-18T00:00:00",
          "2021-02-19T00:00:00",
          "2021-02-22T00:00:00",
          "2021-02-23T00:00:00",
          "2021-02-24T00:00:00",
          "2021-02-25T00:00:00",
          "2021-02-26T00:00:00",
          "2021-03-01T00:00:00",
          "2021-03-02T00:00:00",
          "2021-03-03T00:00:00",
          "2021-03-04T00:00:00",
          "2021-03-05T00:00:00",
          "2021-03-08T00:00:00",
          "2021-03-09T00:00:00",
          "2021-03-10T00:00:00",
          "2021-03-11T00:00:00",
          "2021-03-12T00:00:00",
          "2021-03-15T00:00:00",
          "2021-03-16T00:00:00",
          "2021-03-17T00:00:00",
          "2021-03-18T00:00:00",
          "2021-03-19T00:00:00",
          "2021-03-22T00:00:00",
          "2021-03-23T00:00:00",
          "2021-03-24T00:00:00",
          "2021-03-25T00:00:00",
          "2021-03-26T00:00:00",
          "2021-03-29T00:00:00",
          "2021-03-30T00:00:00",
          "2021-03-31T00:00:00",
          "2021-04-01T00:00:00",
          "2021-04-05T00:00:00",
          "2021-04-06T00:00:00",
          "2021-04-07T00:00:00",
          "2021-04-08T00:00:00",
          "2021-04-09T00:00:00",
          "2021-04-12T00:00:00",
          "2021-04-13T00:00:00",
          "2021-04-14T00:00:00",
          "2021-04-15T00:00:00",
          "2021-04-16T00:00:00",
          "2021-04-19T00:00:00",
          "2021-04-20T00:00:00",
          "2021-04-21T00:00:00",
          "2021-04-22T00:00:00",
          "2021-04-23T00:00:00",
          "2021-04-26T00:00:00",
          "2021-04-27T00:00:00",
          "2021-04-28T00:00:00",
          "2021-04-29T00:00:00",
          "2021-04-30T00:00:00",
          "2021-05-03T00:00:00",
          "2021-05-04T00:00:00",
          "2021-05-05T00:00:00",
          "2021-05-06T00:00:00",
          "2021-05-07T00:00:00",
          "2021-05-10T00:00:00",
          "2021-05-11T00:00:00",
          "2021-05-12T00:00:00",
          "2021-05-13T00:00:00",
          "2021-05-14T00:00:00",
          "2021-05-17T00:00:00",
          "2021-05-18T00:00:00",
          "2021-05-19T00:00:00",
          "2021-05-20T00:00:00",
          "2021-05-21T00:00:00",
          "2021-05-24T00:00:00",
          "2021-05-25T00:00:00",
          "2021-05-26T00:00:00",
          "2021-05-27T00:00:00",
          "2021-05-28T00:00:00",
          "2021-06-01T00:00:00",
          "2021-06-02T00:00:00",
          "2021-06-03T00:00:00",
          "2021-06-04T00:00:00",
          "2021-06-07T00:00:00",
          "2021-06-08T00:00:00",
          "2021-06-09T00:00:00",
          "2021-06-10T00:00:00",
          "2021-06-11T00:00:00",
          "2021-06-14T00:00:00",
          "2021-06-15T00:00:00",
          "2021-06-16T00:00:00",
          "2021-06-17T00:00:00",
          "2021-06-18T00:00:00",
          "2021-06-21T00:00:00",
          "2021-06-22T00:00:00",
          "2021-06-23T00:00:00",
          "2021-06-24T00:00:00",
          "2021-06-25T00:00:00",
          "2021-06-28T00:00:00",
          "2021-06-29T00:00:00",
          "2021-06-30T00:00:00",
          "2021-07-01T00:00:00",
          "2021-07-02T00:00:00",
          "2021-07-06T00:00:00",
          "2021-07-07T00:00:00",
          "2021-07-08T00:00:00",
          "2021-07-09T00:00:00",
          "2021-07-12T00:00:00",
          "2021-07-13T00:00:00",
          "2021-07-14T00:00:00",
          "2021-07-15T00:00:00",
          "2021-07-16T00:00:00",
          "2021-07-19T00:00:00",
          "2021-07-20T00:00:00",
          "2021-07-21T00:00:00",
          "2021-07-22T00:00:00",
          "2021-07-23T00:00:00",
          "2021-07-26T00:00:00",
          "2021-07-27T00:00:00",
          "2021-07-28T00:00:00",
          "2021-07-29T00:00:00",
          "2021-07-30T00:00:00",
          "2021-08-02T00:00:00",
          "2021-08-03T00:00:00",
          "2021-08-04T00:00:00",
          "2021-08-05T00:00:00",
          "2021-08-06T00:00:00",
          "2021-08-09T00:00:00",
          "2021-08-10T00:00:00",
          "2021-08-11T00:00:00",
          "2021-08-12T00:00:00",
          "2021-08-13T00:00:00",
          "2021-08-16T00:00:00",
          "2021-08-17T00:00:00",
          "2021-08-18T00:00:00",
          "2021-08-19T00:00:00",
          "2021-08-20T00:00:00",
          "2021-08-23T00:00:00",
          "2021-08-24T00:00:00",
          "2021-08-25T00:00:00",
          "2021-08-26T00:00:00",
          "2021-08-27T00:00:00",
          "2021-08-30T00:00:00",
          "2021-08-31T00:00:00",
          "2021-09-01T00:00:00",
          "2021-09-02T00:00:00",
          "2021-09-03T00:00:00",
          "2021-09-07T00:00:00",
          "2021-09-08T00:00:00",
          "2021-09-09T00:00:00",
          "2021-09-10T00:00:00",
          "2021-09-13T00:00:00",
          "2021-09-14T00:00:00",
          "2021-09-15T00:00:00",
          "2021-09-16T00:00:00",
          "2021-09-17T00:00:00",
          "2021-09-20T00:00:00",
          "2021-09-21T00:00:00",
          "2021-09-22T00:00:00",
          "2021-09-23T00:00:00",
          "2021-09-24T00:00:00",
          "2021-09-27T00:00:00",
          "2021-09-28T00:00:00",
          "2021-09-29T00:00:00",
          "2021-09-30T00:00:00",
          "2021-10-01T00:00:00",
          "2021-10-04T00:00:00",
          "2021-10-05T00:00:00",
          "2021-10-06T00:00:00",
          "2021-10-07T00:00:00",
          "2021-10-08T00:00:00",
          "2021-10-11T00:00:00",
          "2021-10-12T00:00:00",
          "2021-10-13T00:00:00",
          "2021-10-14T00:00:00",
          "2021-10-15T00:00:00",
          "2021-10-18T00:00:00",
          "2021-10-19T00:00:00",
          "2021-10-20T00:00:00",
          "2021-10-21T00:00:00",
          "2021-10-22T00:00:00",
          "2021-10-25T00:00:00",
          "2021-10-26T00:00:00",
          "2021-10-27T00:00:00",
          "2021-10-28T00:00:00",
          "2021-10-29T00:00:00",
          "2021-11-01T00:00:00",
          "2021-11-02T00:00:00",
          "2021-11-03T00:00:00",
          "2021-11-04T00:00:00",
          "2021-11-05T00:00:00",
          "2021-11-08T00:00:00",
          "2021-11-09T00:00:00",
          "2021-11-10T00:00:00",
          "2021-11-11T00:00:00",
          "2021-11-12T00:00:00",
          "2021-11-15T00:00:00",
          "2021-11-16T00:00:00",
          "2021-11-17T00:00:00",
          "2021-11-18T00:00:00",
          "2021-11-19T00:00:00",
          "2021-11-22T00:00:00",
          "2021-11-23T00:00:00",
          "2021-11-24T00:00:00",
          "2021-11-26T00:00:00",
          "2021-11-29T00:00:00",
          "2021-11-30T00:00:00",
          "2021-12-01T00:00:00",
          "2021-12-02T00:00:00",
          "2021-12-03T00:00:00",
          "2021-12-06T00:00:00",
          "2021-12-07T00:00:00",
          "2021-12-08T00:00:00",
          "2021-12-09T00:00:00",
          "2021-12-10T00:00:00",
          "2021-12-13T00:00:00",
          "2021-12-14T00:00:00",
          "2021-12-15T00:00:00",
          "2021-12-16T00:00:00",
          "2021-12-17T00:00:00",
          "2021-12-20T00:00:00",
          "2021-12-21T00:00:00",
          "2021-12-22T00:00:00",
          "2021-12-23T00:00:00",
          "2021-12-27T00:00:00",
          "2021-12-28T00:00:00",
          "2021-12-29T00:00:00",
          "2021-12-30T00:00:00",
          "2021-12-31T00:00:00",
          "2022-01-03T00:00:00",
          "2022-01-04T00:00:00",
          "2022-01-05T00:00:00",
          "2022-01-06T00:00:00",
          "2022-01-07T00:00:00",
          "2022-01-10T00:00:00",
          "2022-01-11T00:00:00",
          "2022-01-12T00:00:00",
          "2022-01-13T00:00:00",
          "2022-01-14T00:00:00",
          "2022-01-18T00:00:00",
          "2022-01-19T00:00:00",
          "2022-01-20T00:00:00",
          "2022-01-21T00:00:00",
          "2022-01-24T00:00:00",
          "2022-01-25T00:00:00",
          "2022-01-26T00:00:00",
          "2022-01-27T00:00:00",
          "2022-01-28T00:00:00",
          "2022-01-31T00:00:00",
          "2022-02-01T00:00:00",
          "2022-02-02T00:00:00",
          "2022-02-03T00:00:00",
          "2022-02-04T00:00:00",
          "2022-02-07T00:00:00",
          "2022-02-08T00:00:00",
          "2022-02-09T00:00:00",
          "2022-02-10T00:00:00",
          "2022-02-11T00:00:00",
          "2022-02-14T00:00:00",
          "2022-02-15T00:00:00",
          "2022-02-16T00:00:00",
          "2022-02-17T00:00:00",
          "2022-02-18T00:00:00",
          "2022-02-22T00:00:00",
          "2022-02-23T00:00:00",
          "2022-02-24T00:00:00",
          "2022-02-25T00:00:00",
          "2022-02-28T00:00:00",
          "2022-03-01T00:00:00",
          "2022-03-02T00:00:00",
          "2022-03-03T00:00:00",
          "2022-03-04T00:00:00",
          "2022-03-07T00:00:00",
          "2022-03-08T00:00:00",
          "2022-03-09T00:00:00",
          "2022-03-10T00:00:00",
          "2022-03-11T00:00:00",
          "2022-03-14T00:00:00",
          "2022-03-15T00:00:00",
          "2022-03-16T00:00:00",
          "2022-03-17T00:00:00",
          "2022-03-18T00:00:00",
          "2022-03-21T00:00:00",
          "2022-03-22T00:00:00",
          "2022-03-23T00:00:00",
          "2022-03-24T00:00:00",
          "2022-03-25T00:00:00",
          "2022-03-28T00:00:00",
          "2022-03-29T00:00:00",
          "2022-03-30T00:00:00",
          "2022-03-31T00:00:00",
          "2022-04-01T00:00:00",
          "2022-04-04T00:00:00",
          "2022-04-05T00:00:00",
          "2022-04-06T00:00:00",
          "2022-04-07T00:00:00",
          "2022-04-08T00:00:00",
          "2022-04-11T00:00:00",
          "2022-04-12T00:00:00",
          "2022-04-13T00:00:00",
          "2022-04-14T00:00:00",
          "2022-04-18T00:00:00",
          "2022-04-19T00:00:00",
          "2022-04-20T00:00:00",
          "2022-04-21T00:00:00",
          "2022-04-22T00:00:00",
          "2022-04-25T00:00:00",
          "2022-04-26T00:00:00",
          "2022-04-27T00:00:00",
          "2022-04-28T00:00:00",
          "2022-04-29T00:00:00",
          "2022-05-02T00:00:00",
          "2022-05-03T00:00:00",
          "2022-05-04T00:00:00",
          "2022-05-05T00:00:00",
          "2022-05-06T00:00:00",
          "2022-05-09T00:00:00",
          "2022-05-10T00:00:00",
          "2022-05-11T00:00:00",
          "2022-05-12T00:00:00",
          "2022-05-13T00:00:00",
          "2022-05-16T00:00:00",
          "2022-05-17T00:00:00",
          "2022-05-18T00:00:00",
          "2022-05-19T00:00:00",
          "2022-05-20T00:00:00",
          "2022-05-23T00:00:00",
          "2022-05-24T00:00:00",
          "2022-05-25T00:00:00",
          "2022-05-26T00:00:00",
          "2022-05-27T00:00:00",
          "2022-05-31T00:00:00",
          "2022-06-01T00:00:00",
          "2022-06-02T00:00:00",
          "2022-06-03T00:00:00",
          "2022-06-06T00:00:00",
          "2022-06-07T00:00:00",
          "2022-06-08T00:00:00",
          "2022-06-09T00:00:00",
          "2022-06-10T00:00:00",
          "2022-06-13T00:00:00",
          "2022-06-14T00:00:00",
          "2022-06-15T00:00:00",
          "2022-06-16T00:00:00",
          "2022-06-17T00:00:00",
          "2022-06-21T00:00:00",
          "2022-06-22T00:00:00",
          "2022-06-23T00:00:00",
          "2022-06-24T00:00:00",
          "2022-06-27T00:00:00",
          "2022-06-28T00:00:00",
          "2022-06-29T00:00:00",
          "2022-06-30T00:00:00",
          "2022-07-01T00:00:00",
          "2022-07-05T00:00:00",
          "2022-07-06T00:00:00",
          "2022-07-07T00:00:00",
          "2022-07-08T00:00:00",
          "2022-07-11T00:00:00",
          "2022-07-12T00:00:00",
          "2022-07-13T00:00:00",
          "2022-07-14T00:00:00",
          "2022-07-15T00:00:00",
          "2022-07-18T00:00:00",
          "2022-07-19T00:00:00",
          "2022-07-20T00:00:00",
          "2022-07-21T00:00:00",
          "2022-07-22T00:00:00",
          "2022-07-25T00:00:00",
          "2022-07-26T00:00:00",
          "2022-07-27T00:00:00",
          "2022-07-28T00:00:00",
          "2022-07-29T00:00:00",
          "2022-08-01T00:00:00",
          "2022-08-02T00:00:00",
          "2022-08-03T00:00:00",
          "2022-08-04T00:00:00",
          "2022-08-05T00:00:00",
          "2022-08-08T00:00:00",
          "2022-08-09T00:00:00",
          "2022-08-10T00:00:00",
          "2022-08-11T00:00:00",
          "2022-08-12T00:00:00",
          "2022-08-15T00:00:00",
          "2022-08-16T00:00:00",
          "2022-08-17T00:00:00",
          "2022-08-18T00:00:00",
          "2022-08-19T00:00:00",
          "2022-08-22T00:00:00",
          "2022-08-23T00:00:00",
          "2022-08-24T00:00:00",
          "2022-08-25T00:00:00",
          "2022-08-26T00:00:00",
          "2022-08-29T00:00:00",
          "2022-08-30T00:00:00",
          "2022-08-31T00:00:00",
          "2022-09-01T00:00:00",
          "2022-09-02T00:00:00",
          "2022-09-06T00:00:00",
          "2022-09-07T00:00:00",
          "2022-09-08T00:00:00",
          "2022-09-09T00:00:00",
          "2022-09-12T00:00:00",
          "2022-09-13T00:00:00",
          "2022-09-14T00:00:00",
          "2022-09-15T00:00:00",
          "2022-09-16T00:00:00",
          "2022-09-19T00:00:00",
          "2022-09-20T00:00:00",
          "2022-09-21T00:00:00",
          "2022-09-22T00:00:00",
          "2022-09-23T00:00:00",
          "2022-09-26T00:00:00",
          "2022-09-27T00:00:00",
          "2022-09-28T00:00:00",
          "2022-09-29T00:00:00",
          "2022-09-30T00:00:00",
          "2022-10-03T00:00:00",
          "2022-10-04T00:00:00",
          "2022-10-05T00:00:00",
          "2022-10-06T00:00:00",
          "2022-10-07T00:00:00",
          "2022-10-10T00:00:00",
          "2022-10-11T00:00:00",
          "2022-10-12T00:00:00",
          "2022-10-13T00:00:00",
          "2022-10-14T00:00:00",
          "2022-10-17T00:00:00",
          "2022-10-18T00:00:00",
          "2022-10-19T00:00:00",
          "2022-10-20T00:00:00",
          "2022-10-21T00:00:00",
          "2022-10-24T00:00:00",
          "2022-10-25T00:00:00",
          "2022-10-26T00:00:00",
          "2022-10-27T00:00:00",
          "2022-10-28T00:00:00",
          "2022-10-31T00:00:00",
          "2022-11-01T00:00:00",
          "2022-11-02T00:00:00",
          "2022-11-03T00:00:00",
          "2022-11-04T00:00:00",
          "2022-11-07T00:00:00",
          "2022-11-08T00:00:00",
          "2022-11-09T00:00:00",
          "2022-11-10T00:00:00",
          "2022-11-11T00:00:00",
          "2022-11-14T00:00:00",
          "2022-11-15T00:00:00",
          "2022-11-16T00:00:00",
          "2022-11-17T00:00:00",
          "2022-11-18T00:00:00",
          "2022-11-21T00:00:00",
          "2022-11-22T00:00:00",
          "2022-11-23T00:00:00",
          "2022-11-25T00:00:00",
          "2022-11-28T00:00:00",
          "2022-11-29T00:00:00",
          "2022-11-30T00:00:00",
          "2022-12-01T00:00:00",
          "2022-12-02T00:00:00",
          "2022-12-05T00:00:00",
          "2022-12-06T00:00:00",
          "2022-12-07T00:00:00",
          "2022-12-08T00:00:00",
          "2022-12-09T00:00:00",
          "2022-12-12T00:00:00",
          "2022-12-13T00:00:00",
          "2022-12-14T00:00:00",
          "2022-12-15T00:00:00",
          "2022-12-16T00:00:00",
          "2022-12-19T00:00:00",
          "2022-12-20T00:00:00",
          "2022-12-21T00:00:00",
          "2022-12-22T00:00:00",
          "2022-12-23T00:00:00",
          "2022-12-27T00:00:00",
          "2022-12-28T00:00:00",
          "2022-12-29T00:00:00",
          "2022-12-30T00:00:00",
          "2023-01-03T00:00:00",
          "2023-01-04T00:00:00",
          "2023-01-05T00:00:00",
          "2023-01-06T00:00:00",
          "2023-01-09T00:00:00",
          "2023-01-10T00:00:00",
          "2023-01-11T00:00:00",
          "2023-01-12T00:00:00",
          "2023-01-13T00:00:00",
          "2023-01-17T00:00:00",
          "2023-01-18T00:00:00",
          "2023-01-19T00:00:00",
          "2023-01-20T00:00:00",
          "2023-01-23T00:00:00",
          "2023-01-24T00:00:00",
          "2023-01-25T00:00:00",
          "2023-01-26T00:00:00",
          "2023-01-27T00:00:00",
          "2023-01-30T00:00:00",
          "2023-01-31T00:00:00",
          "2023-02-01T00:00:00",
          "2023-02-02T00:00:00",
          "2023-02-03T00:00:00",
          "2023-02-06T00:00:00",
          "2023-02-07T00:00:00",
          "2023-02-08T00:00:00",
          "2023-02-09T00:00:00",
          "2023-02-10T00:00:00",
          "2023-02-13T00:00:00",
          "2023-02-14T00:00:00",
          "2023-02-15T00:00:00",
          "2023-02-16T00:00:00",
          "2023-02-17T00:00:00",
          "2023-02-21T00:00:00",
          "2023-02-22T00:00:00",
          "2023-02-23T00:00:00",
          "2023-02-24T00:00:00",
          "2023-02-27T00:00:00",
          "2023-02-28T00:00:00",
          "2023-03-01T00:00:00",
          "2023-03-02T00:00:00",
          "2023-03-03T00:00:00",
          "2023-03-06T00:00:00",
          "2023-03-07T00:00:00",
          "2023-03-08T00:00:00",
          "2023-03-09T00:00:00",
          "2023-03-10T00:00:00",
          "2023-03-13T00:00:00",
          "2023-03-14T00:00:00",
          "2023-03-15T00:00:00",
          "2023-03-16T00:00:00",
          "2023-03-17T00:00:00",
          "2023-03-20T00:00:00",
          "2023-03-21T00:00:00",
          "2023-03-22T00:00:00",
          "2023-03-23T00:00:00",
          "2023-03-24T00:00:00",
          "2023-03-27T00:00:00",
          "2023-03-28T00:00:00",
          "2023-03-29T00:00:00",
          "2023-03-30T00:00:00",
          "2023-03-31T00:00:00",
          "2023-04-03T00:00:00",
          "2023-04-04T00:00:00",
          "2023-04-05T00:00:00",
          "2023-04-06T00:00:00",
          "2023-04-10T00:00:00",
          "2023-04-11T00:00:00",
          "2023-04-12T00:00:00",
          "2023-04-13T00:00:00",
          "2023-04-14T00:00:00",
          "2023-04-17T00:00:00",
          "2023-04-18T00:00:00",
          "2023-04-19T00:00:00",
          "2023-04-20T00:00:00",
          "2023-04-21T00:00:00",
          "2023-04-24T00:00:00",
          "2023-04-25T00:00:00",
          "2023-04-26T00:00:00",
          "2023-04-27T00:00:00",
          "2023-04-28T00:00:00",
          "2023-05-01T00:00:00",
          "2023-05-02T00:00:00",
          "2023-05-03T00:00:00",
          "2023-05-04T00:00:00",
          "2023-05-05T00:00:00",
          "2023-05-08T00:00:00",
          "2023-05-09T00:00:00",
          "2023-05-10T00:00:00",
          "2023-05-11T00:00:00",
          "2023-05-12T00:00:00",
          "2023-05-15T00:00:00",
          "2023-05-16T00:00:00",
          "2023-05-17T00:00:00",
          "2023-05-18T00:00:00",
          "2023-05-19T00:00:00",
          "2023-05-22T00:00:00",
          "2023-05-23T00:00:00",
          "2023-05-24T00:00:00",
          "2023-05-25T00:00:00",
          "2023-05-26T00:00:00",
          "2023-05-30T00:00:00",
          "2023-05-31T00:00:00",
          "2023-06-01T00:00:00",
          "2023-06-02T00:00:00",
          "2023-06-05T00:00:00",
          "2023-06-06T00:00:00",
          "2023-06-07T00:00:00",
          "2023-06-08T00:00:00",
          "2023-06-09T00:00:00",
          "2023-06-12T00:00:00",
          "2023-06-13T00:00:00",
          "2023-06-14T00:00:00",
          "2023-06-15T00:00:00",
          "2023-06-16T00:00:00",
          "2023-06-20T00:00:00",
          "2023-06-21T00:00:00",
          "2023-06-22T00:00:00",
          "2023-06-23T00:00:00",
          "2023-06-26T00:00:00",
          "2023-06-27T00:00:00",
          "2023-06-28T00:00:00",
          "2023-06-29T00:00:00",
          "2023-06-30T00:00:00",
          "2023-07-03T00:00:00",
          "2023-07-05T00:00:00",
          "2023-07-06T00:00:00",
          "2023-07-07T00:00:00",
          "2023-07-10T00:00:00",
          "2023-07-11T00:00:00",
          "2023-07-12T00:00:00",
          "2023-07-13T00:00:00",
          "2023-07-14T00:00:00",
          "2023-07-17T00:00:00",
          "2023-07-18T00:00:00",
          "2023-07-19T00:00:00",
          "2023-07-20T00:00:00",
          "2023-07-21T00:00:00",
          "2023-07-24T00:00:00",
          "2023-07-25T00:00:00",
          "2023-07-26T00:00:00",
          "2023-07-27T00:00:00",
          "2023-07-28T00:00:00",
          "2023-07-31T00:00:00",
          "2023-08-01T00:00:00",
          "2023-08-02T00:00:00",
          "2023-08-03T00:00:00",
          "2023-08-04T00:00:00",
          "2023-08-07T00:00:00",
          "2023-08-08T00:00:00",
          "2023-08-09T00:00:00",
          "2023-08-10T00:00:00",
          "2023-08-11T00:00:00",
          "2023-08-14T00:00:00",
          "2023-08-15T00:00:00",
          "2023-08-16T00:00:00",
          "2023-08-17T00:00:00",
          "2023-08-18T00:00:00",
          "2023-08-21T00:00:00",
          "2023-08-22T00:00:00",
          "2023-08-23T00:00:00",
          "2023-08-24T00:00:00",
          "2023-08-25T00:00:00",
          "2023-08-28T00:00:00",
          "2023-08-29T00:00:00",
          "2023-08-30T00:00:00",
          "2023-08-31T00:00:00",
          "2023-09-01T00:00:00",
          "2023-09-05T00:00:00",
          "2023-09-06T00:00:00",
          "2023-09-07T00:00:00",
          "2023-09-08T00:00:00",
          "2023-09-11T00:00:00",
          "2023-09-12T00:00:00",
          "2023-09-13T00:00:00",
          "2023-09-14T00:00:00",
          "2023-09-15T00:00:00",
          "2023-09-18T00:00:00",
          "2023-09-19T00:00:00",
          "2023-09-20T00:00:00",
          "2023-09-21T00:00:00",
          "2023-09-22T00:00:00",
          "2023-09-25T00:00:00",
          "2023-09-26T00:00:00",
          "2023-09-27T00:00:00",
          "2023-09-28T00:00:00",
          "2023-09-29T00:00:00",
          "2023-10-02T00:00:00",
          "2023-10-03T00:00:00",
          "2023-10-04T00:00:00",
          "2023-10-05T00:00:00",
          "2023-10-06T00:00:00",
          "2023-10-09T00:00:00",
          "2023-10-10T00:00:00",
          "2023-10-11T00:00:00",
          "2023-10-12T00:00:00",
          "2023-10-13T00:00:00",
          "2023-10-16T00:00:00",
          "2023-10-17T00:00:00",
          "2023-10-18T00:00:00",
          "2023-10-19T00:00:00",
          "2023-10-20T00:00:00",
          "2023-10-23T00:00:00",
          "2023-10-24T00:00:00",
          "2023-10-25T00:00:00",
          "2023-10-26T00:00:00",
          "2023-10-27T00:00:00",
          "2023-10-30T00:00:00",
          "2023-10-31T00:00:00",
          "2023-11-01T00:00:00",
          "2023-11-02T00:00:00",
          "2023-11-03T00:00:00",
          "2023-11-06T00:00:00",
          "2023-11-07T00:00:00",
          "2023-11-08T00:00:00",
          "2023-11-09T00:00:00",
          "2023-11-10T00:00:00",
          "2023-11-13T00:00:00",
          "2023-11-14T00:00:00",
          "2023-11-15T00:00:00",
          "2023-11-16T00:00:00",
          "2023-11-17T00:00:00",
          "2023-11-20T00:00:00",
          "2023-11-21T00:00:00",
          "2023-11-22T00:00:00",
          "2023-11-24T00:00:00",
          "2023-11-27T00:00:00",
          "2023-11-28T00:00:00",
          "2023-11-29T00:00:00",
          "2023-11-30T00:00:00",
          "2023-12-01T00:00:00",
          "2023-12-04T00:00:00",
          "2023-12-05T00:00:00",
          "2023-12-06T00:00:00",
          "2023-12-07T00:00:00",
          "2023-12-08T00:00:00",
          "2023-12-11T00:00:00",
          "2023-12-12T00:00:00",
          "2023-12-13T00:00:00",
          "2023-12-14T00:00:00",
          "2023-12-15T00:00:00",
          "2023-12-18T00:00:00",
          "2023-12-19T00:00:00",
          "2023-12-20T00:00:00",
          "2023-12-21T00:00:00",
          "2023-12-22T00:00:00",
          "2023-12-26T00:00:00"
         ],
         "y": [
          0.9530143069092895,
          0.9486732396373209,
          0.9371406644471934,
          0.9212298814320005,
          0.9063524764434291,
          0.9484906701265227,
          0.9333422616386128,
          0.9196221776223036,
          0.9222481857812892,
          0.9081309393258993,
          1.007186363110887,
          1.0466869347112804,
          1.0355433433557149,
          1.1315776960126904,
          1.1001485790817067,
          1.0943990061743745,
          1.4260990701369918,
          1.369967631132713,
          1.3156573284850908,
          1.2652313966508955,
          1.2286500640093017,
          1.219643717802886,
          1.2079671960061604,
          1.1656475459010627,
          1.1603278511198052,
          1.1200280173470034,
          1.0894048310174185,
          1.0578486215330203,
          1.039965056962052,
          1.0477558913891185,
          1.0188598697934128,
          1.0642683291028256,
          1.0421103893686396,
          1.015941768312022,
          1.022843468049938,
          1.0508481218682055,
          1.0332419296101676,
          1.017619491892502,
          1.2320200222308217,
          1.3065513614770645,
          1.6150444906202468,
          1.565211674434284,
          1.5161156185927807,
          1.4514748919903437,
          1.4234492821417992,
          1.3652010305475621,
          1.6787890759958477,
          1.5973444533889545,
          1.5185159864881799,
          1.4719748108197865,
          1.408150702776452,
          1.3467410322992643,
          1.318725315308759,
          1.268110845585017,
          1.240194140617274,
          1.9029426772861846,
          1.8453574654430416,
          1.7726491716815223,
          1.9036978092096426,
          1.8213259628194145,
          1.7242309828877505,
          1.6348543731590448,
          1.5554729837957868,
          1.480038013084025,
          1.425954706826447,
          1.4274983032326731,
          1.3640017563746065,
          1.3360755007195217,
          1.2797802500821285,
          1.2387090688909608,
          1.2347560903899253,
          1.3163948203954758,
          1.2788833551778507,
          1.2290303624788557,
          1.1828134450876064,
          1.4658042351290343,
          1.41493377340185,
          1.3609644846257336,
          1.3558286792619494,
          1.3120705552837348,
          1.2643902027067326,
          1.2163373407345,
          1.2090954961659535,
          1.3465008279175783,
          1.3192152109736783,
          1.3229486153168588,
          1.2738815898456675,
          1.2823576831454897,
          1.2854648888052418,
          1.2386596861562902,
          1.5306056475271528,
          1.459130361142068,
          1.39205721652438,
          1.3875827820854654,
          1.3626453979883475,
          1.305043872254744,
          1.3302209585936369,
          1.274732722148368,
          1.2243880680308745,
          1.1974698265747137,
          1.2223380499052814,
          1.2072766848592607,
          1.1632239954125592,
          1.1520769315485269,
          1.1446741077108824,
          1.1476445169395568,
          1.1227268689942036,
          1.0881772906775953,
          1.3511399778319322,
          1.389093825558165,
          1.3277152507797987,
          1.274950213691781,
          1.233472618962207,
          1.2055713335719445,
          1.1651048044210806,
          1.1320449558009957,
          1.1276128215502732,
          1.1316846927182331,
          1.176417590145364,
          1.1758524448494267,
          1.188796192812382,
          1.1561207692884758,
          1.1721799177601737,
          1.1433733724786244,
          1.23630022050257,
          1.1922986781617233,
          1.200808911796178,
          1.161249788524962,
          1.1296592798556033,
          1.097864542204004,
          1.0663326460300586,
          1.3681649938367288,
          1.3092694209550673,
          1.6071942720540564,
          1.542575144343423,
          1.6457156519615819,
          1.6442523933263498,
          1.5630891004988432,
          1.6217907955078,
          1.6084946367879376,
          2.06335440397759,
          1.9494172912214036,
          1.9850626373225702,
          1.8923434823480392,
          1.8455029702809012,
          1.7472908788872241,
          1.6823871590050423,
          1.8059504557458754,
          1.7243986604612926,
          1.6789381626988986,
          1.6188551259387882,
          1.6886157853788184,
          1.6092837873524668,
          1.5865144177555428,
          1.5491722099135106,
          1.631935870008403,
          1.5503437609475448,
          1.6621035932941968,
          1.6217097952696395,
          1.541474305834766,
          1.4758686268041035,
          1.529678760654102,
          1.492560148282861,
          1.436126293950293,
          1.4004566566007364,
          1.3455241490617418,
          1.2990071171369828,
          1.2464121734870228,
          1.2837043388062517,
          1.2404662709147514,
          1.2308960126446427,
          1.1936315091482748,
          1.1509694330234863,
          1.2768649648918304,
          1.4036721391258373,
          1.343678969361988,
          1.4478640081313074,
          1.3856870709179405,
          1.5281490531716995,
          1.4680894853271396,
          1.4606461037366867,
          1.4835267303060062,
          1.414818991244543,
          1.6459619138243395,
          1.5670764331923943,
          1.497399585124936,
          1.4268083490565635,
          1.563038247816307,
          1.5143383984472947,
          1.4429800188705137,
          1.3782994876574886,
          1.3363002628291045,
          1.2824191112422512,
          1.2319688433245901,
          1.2046596340052917,
          1.1861121191806956,
          1.3457041547781456,
          1.306914610233087,
          1.253247334703782,
          1.2041229976787513,
          1.167628946675863,
          1.1279197794832188,
          1.1013122483759368,
          1.0908123312374223,
          1.0777282806820792,
          1.0454829815058928,
          1.0352854556911304,
          1.0343456434294787,
          1.007668549997679,
          1.0202458735425768,
          0.9945592922980899,
          0.9868144859718311,
          0.973448304267226,
          0.9520863363717547,
          0.9348243656314468,
          0.9245113859335533,
          0.9151426592362989,
          1.0089382424557876,
          1.153264334926171,
          1.1220682825987425,
          1.1729028394877836,
          1.1470787631557682,
          1.1080627896081228,
          1.0789602367539066,
          1.3741372770445617,
          1.353159748313145,
          1.2978854125081163,
          1.254882297572884,
          1.2076518218961423,
          1.1798976408354716,
          1.1394158467470628,
          1.1020589892911299,
          1.0685866159331083,
          1.0814464176899545,
          1.048902611819296,
          1.0316307779684064,
          1.014056692743527,
          1.0502006003236952,
          1.1223504945824805,
          1.0875219542276053,
          1.2081969042112255,
          1.1828842170177338,
          1.1431117064758785,
          1.162140781256001,
          1.145118161899981,
          1.1572827947028974,
          1.2342606054984393,
          1.1900544486901277,
          1.1618198629526775,
          1.1769507416262042,
          1.1374946526681204,
          1.1016168780407072,
          1.360526336264556,
          1.3383808932616998,
          1.3951547203856172,
          1.3360524039409412,
          1.3298642968667045,
          1.5489949949917545,
          1.4887339821399896,
          1.4821668574551954,
          1.5031507563918989,
          1.4323511816873178,
          1.3745753641236664,
          1.31800342135705,
          1.263131614947469,
          1.2136447315652494,
          1.1700441982453533,
          1.1369994977300086,
          1.1943936468097125,
          1.2196787770117037,
          1.1742433735001199,
          1.2131410895666526,
          1.480809336518505,
          2.0504821145290726,
          1.9365569587698237,
          2.297817276570951,
          2.602429456298824,
          2.856358263687954,
          2.9620113534898125,
          2.8834815046331386,
          3.1607455687621036,
          3.4258212397995544,
          5.475615726835695,
          5.691636990546131,
          5.548330222952285,
          5.855856093943512,
          7.982248856725174,
          8.922562005189784,
          8.561133449731493,
          8.714101976462146,
          8.158444185111092,
          7.6583246831828005,
          7.374414535516684,
          7.881288506887401,
          7.458245835340125,
          7.316455219011823,
          7.231095758829318,
          6.806610188086481,
          6.482971606064649,
          6.40857295900299,
          6.105245178526282,
          5.794989828644441,
          5.794147392433286,
          5.432311371827118,
          5.237756930584683,
          5.679936461040218,
          5.514614109663129,
          5.24038106996874,
          5.168731347259891,
          5.000507687600331,
          5.493282845313635,
          5.280995638327705,
          5.036040722982225,
          4.711938834717024,
          4.4094218204780455,
          4.150972085698992,
          4.118020589042283,
          3.860795788003709,
          3.712116932384012,
          3.554905721243152,
          3.4484009350017,
          3.260506631821211,
          3.05922754645419,
          2.9432392704811274,
          2.7792900849021573,
          2.6567645264581987,
          2.687762465126443,
          2.7546020998092318,
          2.834852596861718,
          2.967098287038384,
          2.8576498268779913,
          3.166514950163194,
          3.0467697629135344,
          3.00836763036689,
          2.859331084990949,
          2.7008080388350266,
          3.401824495090441,
          3.6828803160796775,
          3.490144181083098,
          3.384532914382373,
          3.1974224981425956,
          3.000139154658847,
          3.29634649570375,
          3.156266321641944,
          3.284905791227149,
          3.1403587917785187,
          3.072284837992232,
          3.1850253779124076,
          4.05844183472351,
          3.8944004372559147,
          3.6707920041926427,
          3.446769874038742,
          3.343399633614948,
          3.1423905215262566,
          2.9764000140946343,
          2.821003061738254,
          2.6735748363527714,
          2.751896569954951,
          2.8070010446268205,
          3.202353141677936,
          3.0057473427533457,
          2.840584350048923,
          2.686215122730205,
          2.525341101468671,
          2.5004131001851526,
          2.538208254276425,
          2.406707519926527,
          2.383399895339197,
          2.8368123861195587,
          2.698231170281744,
          2.5399030113087977,
          2.4333663811737627,
          2.290572976135614,
          2.250262086515041,
          2.1448061575278095,
          2.1294823237022156,
          2.027188209271339,
          1.9149801563792797,
          1.8302751940775777,
          1.8015567093366758,
          1.7090862894374654,
          1.7854839879469087,
          1.9178943672508928,
          1.8207860554231579,
          1.737680896797699,
          1.6624029352758383,
          1.6632190074338358,
          1.5790218488897723,
          1.646601308946645,
          1.6074115097366308,
          1.8187536668725308,
          1.7501633441315547,
          1.6729855018618038,
          1.5879489236130642,
          1.7545499819304902,
          1.7336761541503167,
          1.6439706991915977,
          1.618426513323504,
          1.5386174484720418,
          1.7061528695562103,
          1.621589942960855,
          1.6177202525671055,
          1.849877841928625,
          1.753103788205369,
          1.867673454234838,
          1.767782269825924,
          1.7345914159494435,
          1.650378075073798,
          1.7014994944069184,
          1.9917045110054834,
          1.900670785249135,
          1.8356598142487446,
          1.7753151231125883,
          1.731400331308393,
          1.9478867418228145,
          1.8435771361159126,
          1.7921396031985697,
          1.7007517405813906,
          1.9202985071634846,
          1.8574168995331826,
          1.8461136028616074,
          1.7483285931077421,
          1.6750878945166967,
          1.82465177847757,
          1.7552033025372211,
          1.6858949077326024,
          1.6117674541118872,
          1.5550624146866852,
          1.61505044444635,
          1.5791298260965894,
          1.59165530479547,
          1.6385184420374859,
          1.572022661608096,
          1.537633014739231,
          1.568564683140661,
          1.5078344743869831,
          1.5043176403460357,
          1.4368932784831907,
          1.4909668066885622,
          1.4283896632545041,
          1.4107515721932207,
          1.7445661456128325,
          1.6731130415733224,
          1.7972372103579592,
          1.8221828755489866,
          1.9693215611911739,
          1.8687675998631283,
          1.7858510957943277,
          1.8281103328487387,
          1.9910285551714992,
          2.1443967654261185,
          2.3983128165189673,
          2.306034675950072,
          4.867478763278312,
          4.55661022748798,
          4.296584931663798,
          4.0460456160777065,
          3.792602260763476,
          3.6598528783108657,
          3.449126780591315,
          3.245395912838487,
          3.0443134934922633,
          2.874472179154989,
          2.844201821561554,
          3.045203027256571,
          2.8827045908352793,
          2.7187390494891095,
          2.7195587222802255,
          2.5989400593818557,
          2.512545652260131,
          2.3766638807366975,
          2.252038839951978,
          2.128084994378406,
          2.0073784663590146,
          1.9180553327771124,
          1.8302111002960029,
          1.7476127458422548,
          1.699487563956229,
          1.6926193854337637,
          1.6067639281132489,
          1.5575515591027764,
          1.4950122093024045,
          1.8497474786468973,
          1.8295476498867214,
          1.9374300398833377,
          1.8402049923513122,
          1.7504312550743057,
          1.6635717916879234,
          1.5799639250885003,
          1.555809414246476,
          1.51984105420473,
          1.453825979006994,
          2.032359015148268,
          2.176672638111058,
          2.052300935281417,
          1.9880085431462677,
          1.9363127453322289,
          1.8302598811395074,
          1.739050335557652,
          1.7612390092440624,
          1.6784570924218658,
          1.677086152296236,
          1.6215118995540871,
          1.5672879933864663,
          1.5552923942781913,
          1.4895699372094424,
          1.7114132908766881,
          1.7082740205652913,
          1.6682483319859889,
          1.5961283821136012,
          1.7957702497924044,
          1.7330437015582452,
          1.789239551563181,
          1.6977309879677505,
          1.677586081748434,
          1.6008148855963724,
          1.5215980408960414,
          1.4545785247158027,
          1.450579723830416,
          1.5706577355251055,
          1.4951189350093452,
          1.4263837823742966,
          1.4518040113334902,
          1.410375832540319,
          1.3653528873935734,
          1.4105168461393922,
          1.4298303668653096,
          1.6345153570438662,
          1.7012964537300177,
          1.6201787453667045,
          1.6481150852157807,
          1.6545223112074023,
          1.57121562962054,
          1.5448215642031944,
          1.494283247681353,
          1.57235658576348,
          1.509738814389623,
          1.4791505136430982,
          1.4241764542058162,
          1.425179004659217,
          1.3924106640008707,
          1.4206485066031689,
          1.46570553548681,
          1.6682438875656875,
          1.6244592877901183,
          1.5578744802830153,
          1.5294101084791711,
          1.5401312882229425,
          1.5630726412034253,
          1.5261896332282838,
          1.5403206619506655,
          1.4919757265874525,
          1.4279971169091503,
          1.389041729853236,
          1.4084520561977796,
          1.3453779144244498,
          1.3039624728581578,
          1.2547109077026941,
          1.2782817219234939,
          1.3860159114464508,
          1.3354704703821345,
          1.2947837615765792,
          1.254208944232403,
          1.4230058015714064,
          1.3793152050635875,
          1.5034050909884318,
          1.5461890702148464,
          1.4719646566837383,
          1.4077528087107403,
          1.3556851095280813,
          1.4262428614634648,
          1.4003342408357942,
          1.3445936981101794,
          1.3509500538939576,
          1.3497454751424691,
          1.4306649462107899,
          1.3675993368308381,
          1.3087908780056436,
          1.3812474810783062,
          1.3461963277920639,
          1.5148889370815857,
          1.5161157728937762,
          1.4467707452433778,
          1.466667789211722,
          1.427569999081322,
          1.3661283779073594,
          1.3480188786664744,
          1.2975333559737607,
          1.2992262655758309,
          1.2465610939868588,
          1.2858153257857243,
          1.2351098427849254,
          1.2297850356469504,
          1.1833385280302637,
          1.1408343757203439,
          1.1023944065977118,
          1.0845018742198462,
          1.0648289521719103,
          1.1249981540143306,
          1.2165764693849883,
          1.1723735964779163,
          1.2750535061046222,
          1.3339632472958634,
          1.2914485175101,
          1.5764835858935822,
          1.7281183645985587,
          1.716675686775821,
          1.6301662089735178,
          1.556476971464627,
          1.503486780441839,
          1.4612038426385192,
          1.3937296363650973,
          1.334240343472718,
          1.3031823309320512,
          1.281087473360614,
          1.2313156514016652,
          1.3200617592339323,
          1.2647976682722855,
          1.3539469876410135,
          1.6368229371242378,
          1.6119105326326173,
          1.6178714142336224,
          1.5443167285630182,
          1.4700264602215958,
          1.6038286127746018,
          1.876102641958963,
          1.8630020018030098,
          1.8767803442449724,
          1.8310265031930002,
          1.7360919341731123,
          1.6554962880576913,
          1.5737674122710543,
          1.4967362164624545,
          1.4461016462456555,
          1.4114113571546558,
          1.3586058325939914,
          1.3413645451251417,
          1.3417126711426124,
          1.3371588962861514,
          1.5556121144989772,
          1.48183240493577,
          1.4575474530510928,
          1.4333326355682234,
          1.3709614873383755,
          1.3712544768062922,
          1.3353153887581393,
          1.3491962150147385,
          1.333819944031596,
          1.3143007288380935,
          1.2607199341905988,
          1.2681791043038722,
          1.2284230309102049,
          1.3393148542713624,
          1.2888040486207049,
          1.2562236725063696,
          1.329492376030077,
          1.2807841824030477,
          1.2320126228727972,
          1.1900803725511921,
          1.1705531124893724,
          1.1331657427731443,
          1.11058072750869,
          1.07993544002708,
          1.1253611918169266,
          1.1883937657077785,
          1.2951780127878851,
          1.2561374543043393,
          1.2078395076842545,
          1.169327707223033,
          1.5140748396765673,
          1.4423614656494637,
          1.4948367593834315,
          1.7747243442534684,
          1.7145959859261977,
          1.7889425882754417,
          1.7077790523848606,
          1.620978424801173,
          1.6131612554458261,
          1.6624850167364187,
          1.5797959101226815,
          1.5806010081144557,
          1.5032436959630895,
          1.441758367985958,
          1.375867591047778,
          1.5002422048184345,
          1.4579572876238753,
          1.6532585384965215,
          1.6355104519430763,
          1.6598506898473682,
          1.5764674824355978,
          1.5406591123957878,
          1.519547172487161,
          1.4763237843794605,
          1.4626567786461895,
          1.4087586816548405,
          1.3465475667387032,
          1.473650282904178,
          1.4755450757239783,
          1.412497795061477,
          1.3502143498218349,
          1.2953669996322297,
          1.242623196589086,
          1.281637770303338,
          1.2327601859439172,
          1.1957879608723436,
          1.186493348981733,
          1.1456630047376408,
          1.1073932785537322,
          1.0877542704391325,
          1.0588954367616978,
          1.0639431849798648,
          1.054804892697535,
          1.073235497373525,
          1.1394401946084018,
          1.280345835629252,
          1.433145795910582,
          1.3989491993436685,
          1.6791085239734325,
          1.603354589533249,
          1.6105657464162821,
          1.5476721790543666,
          1.6074304386525016,
          1.6509333583723012,
          1.6050148050269688,
          1.5903242463475604,
          1.5663772065620831,
          1.4925299999233315,
          1.4321011943495636,
          1.4312924061016739,
          1.3823321551999381,
          1.3511029579168092,
          1.3755702327725199,
          1.527666121568115,
          1.5819203649311344,
          1.560317769423203,
          1.4869618893333605,
          1.4192632915427417,
          1.3632395905481522,
          1.3055144473847855,
          1.252756315791424,
          1.2048625744738137,
          1.1620118481861574,
          1.295320905925931,
          1.7217042147237296,
          1.7505002258134776,
          1.6870870134373666,
          1.625563485870476,
          1.5442015512160907,
          1.4695654564408396,
          1.408780975745204,
          1.3479845146283225,
          2.408079725594987,
          2.663631508981485,
          2.5611631783093767,
          2.428970809096095,
          2.364718406576465,
          2.2273843627934,
          2.1227787741116173,
          2.020519056513804,
          2.003432208719785,
          1.9089001890684627,
          1.849217509769366,
          1.8251535123486364,
          1.7532989017396325,
          1.6896790111668305,
          1.7934711993858568,
          1.7000226877292839,
          1.7111332470649496,
          1.6256990988550541,
          1.5539780149844054,
          1.5486753001779172,
          1.512346996849488,
          1.5049967284223416,
          1.433790710136479,
          1.5781347285422591,
          1.5049729637328115,
          1.4368321579326346,
          1.5478857287561698,
          1.7484294901263586,
          1.8105965470479688,
          2.2081406856930976,
          2.4345948065357965,
          2.377416302673755,
          2.2542412458937275,
          2.3273860639037505,
          2.5440968224179725,
          2.4074606158851553,
          2.593649391312841,
          2.47493071157634,
          2.452315569134492,
          2.324932160645857,
          2.2545495319744813,
          2.550801795356674,
          2.427508471114602,
          2.285082600660936,
          2.1573374932984293,
          2.1363112321418067,
          2.1281198877917027,
          2.014835569124222,
          1.918480537340679,
          1.8350474592787225,
          1.7371861865056457,
          1.6571846679199038,
          1.8711146157425125,
          1.79193981856427,
          1.7004447258264206,
          1.6657808008426012,
          1.6549159388904942,
          1.5771104387386732,
          1.5994191397611641,
          1.5283263731812253,
          1.5075837819195692,
          1.7995557941315967,
          1.737611752701817,
          1.7409874517339832,
          1.7677551941815923,
          1.6766016131119195,
          1.6172717664764213,
          1.817443860012434,
          1.7213405916269287,
          1.9133745934981894,
          1.8667689882277196,
          1.82883163518219,
          2.0434262260048537,
          1.9463093740296082,
          1.9532219584196584,
          2.1163806355190453,
          2.170118684170557,
          2.0482490413357857,
          2.0039358382989647,
          2.0664138912356353,
          1.9654614469814105,
          1.858306289721841,
          1.7760371597908318,
          1.7031992480041156,
          1.9199621161208515,
          1.9097439709824269,
          1.8789594712683821,
          1.8032351545077716,
          2.6068688038367642,
          2.486575598379639,
          2.3467982872191944,
          2.27076883971605,
          2.1803017675644054,
          2.065264663986298,
          2.0418718635893156,
          1.9874767948453715,
          1.9405507085038536,
          1.8399210084977158,
          1.7419883521518291,
          1.7419349409133031,
          1.801479339510676,
          2.291717815249805,
          2.3811768556818524,
          2.3150338592295614,
          2.2075973693116313,
          2.164355209160662,
          2.0466208714229714,
          2.0782593501174254,
          1.9736697193020976,
          1.9057661834925186,
          2.0280307611977326,
          1.9380223864115873,
          1.8421197903702653,
          1.7530806091586217,
          1.842064671590976,
          1.7835663227869625,
          1.6971877261940769,
          1.6290899073553722,
          1.7340408561020257,
          1.6498463168803217,
          1.6337817872456255,
          1.5517443810157272,
          1.515765434894797,
          1.8596068106456358,
          2.279493339181137,
          2.1793741991372797,
          2.192883228189001,
          2.0677630803755243,
          1.9601428472530167,
          1.8625697195894084,
          1.7646212033126063,
          1.7587245668966365,
          1.735013725188968,
          1.6524849172763052,
          1.5732717813106236,
          1.5393557589049542,
          1.5629219506861756,
          1.5171330474143374,
          1.4979079468416054,
          1.7109854026020117,
          1.6796319438826302,
          1.6139581935327363,
          1.7335381428562628,
          1.7016577231259087,
          1.6895403278075163,
          1.603714702584129,
          1.5481634259164214,
          1.5057376905728308,
          1.4633245899020493,
          1.6296009534826565,
          1.6511058967538494,
          1.6080618655844727,
          1.5286512141932322,
          1.6292141495735573,
          1.899015111153525,
          1.799684969362075,
          1.704611065848536,
          1.6332678080613776,
          1.5621586562013927,
          1.509478499319578,
          1.43805808420002,
          1.489169818357053,
          1.5903320333351505,
          1.516420440283185,
          1.4848963848744812,
          1.8338280316139433,
          1.7394654984245868,
          1.7093744723953261,
          1.6412631553273547,
          1.5803067857779807,
          1.6486899406301336,
          1.8438352385122976,
          1.7919610415429221,
          1.8147267199504797,
          1.8696364622380273,
          1.7981907200927498,
          1.8115295993813836,
          1.8133160950114062,
          1.80154745781647,
          1.9599458525817244,
          2.3707970461253414,
          2.2747757504252317,
          2.2544709023578435,
          2.2325045739859366,
          2.1314963553831525,
          2.234490644274252,
          2.1613420127913807,
          2.696788036628023,
          2.5834521347562616,
          2.7668953980011164,
          2.718610209055415,
          2.642116453901511,
          2.4877167787251966,
          2.873047422924757,
          2.6978978071206132,
          2.535718362741195,
          2.408204193083372,
          2.2684263641024422,
          2.165210641771584,
          2.0436747649309335,
          2.0053823138447604,
          1.923781116760782,
          1.8187947578796193,
          1.9200884612032796,
          1.820140029098075,
          1.7232380904839564,
          1.6976153144931327,
          2.0680602249804156,
          1.95194273110876,
          1.8817597468038758,
          1.8008127246354912,
          1.7053453012921547,
          1.627446126622725,
          1.5710611910339487,
          1.5117679658582823,
          1.5076600778767242,
          1.468686603046451,
          1.4006165992201558,
          1.4688988772213263,
          1.48568785016551,
          1.4577902135628538,
          1.4756174667368838,
          1.4374933651192194,
          1.6678485110768515,
          1.583101470700701,
          1.5064373359603551,
          1.466450070553348,
          1.414689718878479,
          1.4288797158761826,
          1.3658180854957038,
          1.3217830089683549,
          1.5216437958602989,
          1.468705108763991,
          1.408981326032914,
          1.351097461386506,
          1.3336967965458661,
          1.3404139808225464,
          1.288529000019023,
          1.2384090177812448,
          1.1986885676898087,
          1.1640307582712468,
          1.1369600478650126,
          1.1184114402058631,
          1.113884934810167,
          1.078958565142865,
          1.1978443034800994,
          1.166658834331487,
          1.1535435994850995,
          1.132094328875695,
          1.0967090651969988,
          1.3184851446328698,
          1.3739031187950184,
          1.659299138650695,
          1.6440498205616516,
          1.5617003999292611,
          1.5636418137043488,
          1.5067148602953495,
          1.440118921304163,
          1.3838496768792248,
          1.3235432860985588,
          1.30617565797002,
          1.261749674181979,
          1.2181286605183896,
          1.1874301668868912,
          1.2348530708597962,
          1.1971354957000337,
          1.207272832336105,
          1.192550392448436,
          1.2711036978943693,
          1.2247825214922061,
          1.2192940433334827,
          1.1779613567820444,
          1.1400335647344375,
          1.2037266864869722,
          1.1606022491430115,
          1.287091943058953,
          1.2677405324827935,
          1.2372381009702547,
          1.2164422589297463,
          1.196027248139233,
          1.1755798113599856,
          1.1547461187709367,
          1.1763491683451264,
          1.2639891351371488,
          1.2350709946152076,
          1.5479198735060242,
          1.490867706817134,
          2.2895573101389535,
          2.2954760217029717,
          2.2497044110975546,
          2.264033899473158,
          2.6496476817747743,
          2.559852164813507,
          2.7192009119072136,
          2.573172467007163,
          2.558676576464925,
          2.5607035104627274,
          2.4112635706063568,
          2.331055732612001,
          2.369440625922457,
          2.231547779078067,
          2.1032424401411043,
          1.9890841391341072,
          1.9121674460774687,
          1.809552463984135,
          1.7772759072629725,
          1.6836944721051053,
          1.5992944611426836,
          1.5216203881547343,
          1.4539551970979594,
          1.3876288205884446,
          1.329118337446405,
          2.7277101406544437,
          2.5722983425770742,
          2.4406450268069495,
          2.298092584001733,
          2.168720096340996,
          2.0474167876764073,
          1.9328243022912706,
          1.9727345261045806,
          1.9622628880552113,
          1.8965175039056847,
          1.809981227353568,
          1.835251671128417,
          1.8258481649146285,
          1.8743939184783953,
          1.8375638704343162,
          1.8383681840113817,
          1.7403902664511022,
          1.6611607159648003,
          1.5770257325084005,
          1.5062262875923484,
          1.5205742918271117,
          1.466876070402616,
          1.4221355962348197,
          1.6627127891643518,
          1.5919207690696042,
          1.5175093701059592,
          1.477256882541321,
          1.4578425764834024,
          1.4303798288983953,
          1.3660120738180774,
          1.33334912229301,
          1.2797131125281926,
          1.3084904981286083,
          1.3192236941495052,
          1.4183680100584788,
          1.4007486061783365,
          1.33849392128115,
          1.3109816701731514,
          1.2568722196477229,
          1.2076390877387566,
          1.1634187488426715,
          1.1397519626245527,
          1.1128125798338109,
          1.1260587950540262,
          1.088970470965947,
          1.075048047411839,
          1.046597671329674,
          1.2145685021508446,
          1.1873655658491453,
          1.1450914921823605,
          1.106730647279032,
          1.0866615555668262,
          1.5195745315018419,
          1.5057355824035552,
          1.4515127762148707,
          1.407924088294771,
          1.3920503781792741,
          1.3481051921982592,
          1.2983203698356747,
          1.3305043731846338,
          1.280164298992307,
          1.234297002289923,
          1.1973215603569372,
          1.3724818761858115,
          1.3127222073356266,
          1.2610711806772326,
          1.2639422375990452,
          1.2474253656578398,
          1.3407718401672681,
          1.3140000612055995,
          1.268928963099649,
          1.2811530165452034,
          1.2381404063288237,
          1.2037130998245713,
          1.1760487005798441,
          1.2045709870223198,
          1.1709195650328763,
          1.1345236879390657,
          1.1026795541422911,
          1.0904432777362438,
          1.1581242730641113,
          1.1212865912597512,
          1.094954954590976,
          1.0613409726590894,
          1.3453474146069824,
          1.299806567757926,
          1.3017007539248748,
          1.2486069349553959,
          1.2020555226636294,
          1.3588004392805277,
          1.3126419761568136,
          1.2599470152080667,
          1.212660361155674,
          1.1696120540014043,
          1.1506253243031879,
          1.123960926325844,
          1.172468353251901,
          1.1330624685046347,
          1.16484455523078,
          1.1277460909743005,
          1.1353569638135343,
          1.097441102794286,
          1.0682404994098182,
          1.1057516085884915,
          1.0709124527161762,
          1.1957109344488794,
          1.159680216817336,
          1.1197018576449618,
          1.0861686524684897,
          1.0675931440601272,
          1.0767594913142067,
          1.1014639887861597,
          1.0737597259495073,
          1.1073948522512425,
          1.0828682011919917,
          1.111572690670419,
          1.2336295703727904,
          1.2281793902539573,
          1.2135164932028624,
          1.1729398599869663,
          1.135583536107269,
          1.1905689100959618,
          1.152723814818926,
          1.1243239308399315,
          1.089856944587784,
          1.0624799779256473,
          1.1252636819223498,
          1.0905846034906148,
          1.0625806020231912,
          1.1047773500309628,
          1.0842187548909434,
          1.191656344853487,
          1.2449560418701882,
          1.1965395343959428,
          1.1726099001284402,
          1.1318954490554576,
          1.6294723198940952,
          1.5926565860123858,
          1.553684273941454,
          1.4797360440026672,
          1.510705249290749,
          1.4749557238919613,
          1.4212732426738024,
          1.3581642458351288,
          1.305184372720574,
          1.2585005649023957,
          1.287449347935767,
          1.2485336144292185,
          1.3214547328274273,
          1.2897210593185455,
          1.2810410057723893,
          1.2555246294537485,
          1.2076957369054346,
          1.1675918764095914,
          1.1271112300217865,
          1.0899365593926678,
          1.0623893306930905,
          1.0322896724122124,
          1.01260243376815,
          1.0413130723703516,
          1.0198016577846072,
          1.0133380881559377,
          0.9886108849228971,
          1.037469471159005,
          1.0111695265988532,
          1.0363208936357273,
          1.0114799919985886,
          1.0175585385460242,
          0.994000337018855,
          1.116465486353387,
          1.0999827652189147,
          1.0771350144095433,
          1.1171173186095211,
          1.1541012942427629,
          1.123903986106037,
          1.0885600599397462
         ]
        }
       ],
       "layout": {
        "annotations": [
         {
          "align": "center",
          "bgcolor": "white",
          "font": {
           "color": "black",
           "size": 12
          },
          "opacity": 0.7,
          "showarrow": false,
          "text": "",
          "x": 1,
          "xref": "paper",
          "y": 1,
          "yref": "paper"
         }
        ],
        "legend": {
         "traceorder": "normal",
         "x": 0.005,
         "y": 0.995
        },
        "template": {
         "data": {
          "bar": [
           {
            "error_x": {
             "color": "#2a3f5f"
            },
            "error_y": {
             "color": "#2a3f5f"
            },
            "marker": {
             "line": {
              "color": "#E5ECF6",
              "width": 0.5
             },
             "pattern": {
              "fillmode": "overlay",
              "size": 10,
              "solidity": 0.2
             }
            },
            "type": "bar"
           }
          ],
          "barpolar": [
           {
            "marker": {
             "line": {
              "color": "#E5ECF6",
              "width": 0.5
             },
             "pattern": {
              "fillmode": "overlay",
              "size": 10,
              "solidity": 0.2
             }
            },
            "type": "barpolar"
           }
          ],
          "carpet": [
           {
            "aaxis": {
             "endlinecolor": "#2a3f5f",
             "gridcolor": "white",
             "linecolor": "white",
             "minorgridcolor": "white",
             "startlinecolor": "#2a3f5f"
            },
            "baxis": {
             "endlinecolor": "#2a3f5f",
             "gridcolor": "white",
             "linecolor": "white",
             "minorgridcolor": "white",
             "startlinecolor": "#2a3f5f"
            },
            "type": "carpet"
           }
          ],
          "choropleth": [
           {
            "colorbar": {
             "outlinewidth": 0,
             "ticks": ""
            },
            "type": "choropleth"
           }
          ],
          "contour": [
           {
            "colorbar": {
             "outlinewidth": 0,
             "ticks": ""
            },
            "colorscale": [
             [
              0,
              "#0d0887"
             ],
             [
              0.1111111111111111,
              "#46039f"
             ],
             [
              0.2222222222222222,
              "#7201a8"
             ],
             [
              0.3333333333333333,
              "#9c179e"
             ],
             [
              0.4444444444444444,
              "#bd3786"
             ],
             [
              0.5555555555555556,
              "#d8576b"
             ],
             [
              0.6666666666666666,
              "#ed7953"
             ],
             [
              0.7777777777777778,
              "#fb9f3a"
             ],
             [
              0.8888888888888888,
              "#fdca26"
             ],
             [
              1,
              "#f0f921"
             ]
            ],
            "type": "contour"
           }
          ],
          "contourcarpet": [
           {
            "colorbar": {
             "outlinewidth": 0,
             "ticks": ""
            },
            "type": "contourcarpet"
           }
          ],
          "heatmap": [
           {
            "colorbar": {
             "outlinewidth": 0,
             "ticks": ""
            },
            "colorscale": [
             [
              0,
              "#0d0887"
             ],
             [
              0.1111111111111111,
              "#46039f"
             ],
             [
              0.2222222222222222,
              "#7201a8"
             ],
             [
              0.3333333333333333,
              "#9c179e"
             ],
             [
              0.4444444444444444,
              "#bd3786"
             ],
             [
              0.5555555555555556,
              "#d8576b"
             ],
             [
              0.6666666666666666,
              "#ed7953"
             ],
             [
              0.7777777777777778,
              "#fb9f3a"
             ],
             [
              0.8888888888888888,
              "#fdca26"
             ],
             [
              1,
              "#f0f921"
             ]
            ],
            "type": "heatmap"
           }
          ],
          "heatmapgl": [
           {
            "colorbar": {
             "outlinewidth": 0,
             "ticks": ""
            },
            "colorscale": [
             [
              0,
              "#0d0887"
             ],
             [
              0.1111111111111111,
              "#46039f"
             ],
             [
              0.2222222222222222,
              "#7201a8"
             ],
             [
              0.3333333333333333,
              "#9c179e"
             ],
             [
              0.4444444444444444,
              "#bd3786"
             ],
             [
              0.5555555555555556,
              "#d8576b"
             ],
             [
              0.6666666666666666,
              "#ed7953"
             ],
             [
              0.7777777777777778,
              "#fb9f3a"
             ],
             [
              0.8888888888888888,
              "#fdca26"
             ],
             [
              1,
              "#f0f921"
             ]
            ],
            "type": "heatmapgl"
           }
          ],
          "histogram": [
           {
            "marker": {
             "pattern": {
              "fillmode": "overlay",
              "size": 10,
              "solidity": 0.2
             }
            },
            "type": "histogram"
           }
          ],
          "histogram2d": [
           {
            "colorbar": {
             "outlinewidth": 0,
             "ticks": ""
            },
            "colorscale": [
             [
              0,
              "#0d0887"
             ],
             [
              0.1111111111111111,
              "#46039f"
             ],
             [
              0.2222222222222222,
              "#7201a8"
             ],
             [
              0.3333333333333333,
              "#9c179e"
             ],
             [
              0.4444444444444444,
              "#bd3786"
             ],
             [
              0.5555555555555556,
              "#d8576b"
             ],
             [
              0.6666666666666666,
              "#ed7953"
             ],
             [
              0.7777777777777778,
              "#fb9f3a"
             ],
             [
              0.8888888888888888,
              "#fdca26"
             ],
             [
              1,
              "#f0f921"
             ]
            ],
            "type": "histogram2d"
           }
          ],
          "histogram2dcontour": [
           {
            "colorbar": {
             "outlinewidth": 0,
             "ticks": ""
            },
            "colorscale": [
             [
              0,
              "#0d0887"
             ],
             [
              0.1111111111111111,
              "#46039f"
             ],
             [
              0.2222222222222222,
              "#7201a8"
             ],
             [
              0.3333333333333333,
              "#9c179e"
             ],
             [
              0.4444444444444444,
              "#bd3786"
             ],
             [
              0.5555555555555556,
              "#d8576b"
             ],
             [
              0.6666666666666666,
              "#ed7953"
             ],
             [
              0.7777777777777778,
              "#fb9f3a"
             ],
             [
              0.8888888888888888,
              "#fdca26"
             ],
             [
              1,
              "#f0f921"
             ]
            ],
            "type": "histogram2dcontour"
           }
          ],
          "mesh3d": [
           {
            "colorbar": {
             "outlinewidth": 0,
             "ticks": ""
            },
            "type": "mesh3d"
           }
          ],
          "parcoords": [
           {
            "line": {
             "colorbar": {
              "outlinewidth": 0,
              "ticks": ""
             }
            },
            "type": "parcoords"
           }
          ],
          "pie": [
           {
            "automargin": true,
            "type": "pie"
           }
          ],
          "scatter": [
           {
            "fillpattern": {
             "fillmode": "overlay",
             "size": 10,
             "solidity": 0.2
            },
            "type": "scatter"
           }
          ],
          "scatter3d": [
           {
            "line": {
             "colorbar": {
              "outlinewidth": 0,
              "ticks": ""
             }
            },
            "marker": {
             "colorbar": {
              "outlinewidth": 0,
              "ticks": ""
             }
            },
            "type": "scatter3d"
           }
          ],
          "scattercarpet": [
           {
            "marker": {
             "colorbar": {
              "outlinewidth": 0,
              "ticks": ""
             }
            },
            "type": "scattercarpet"
           }
          ],
          "scattergeo": [
           {
            "marker": {
             "colorbar": {
              "outlinewidth": 0,
              "ticks": ""
             }
            },
            "type": "scattergeo"
           }
          ],
          "scattergl": [
           {
            "marker": {
             "colorbar": {
              "outlinewidth": 0,
              "ticks": ""
             }
            },
            "type": "scattergl"
           }
          ],
          "scattermapbox": [
           {
            "marker": {
             "colorbar": {
              "outlinewidth": 0,
              "ticks": ""
             }
            },
            "type": "scattermapbox"
           }
          ],
          "scatterpolar": [
           {
            "marker": {
             "colorbar": {
              "outlinewidth": 0,
              "ticks": ""
             }
            },
            "type": "scatterpolar"
           }
          ],
          "scatterpolargl": [
           {
            "marker": {
             "colorbar": {
              "outlinewidth": 0,
              "ticks": ""
             }
            },
            "type": "scatterpolargl"
           }
          ],
          "scatterternary": [
           {
            "marker": {
             "colorbar": {
              "outlinewidth": 0,
              "ticks": ""
             }
            },
            "type": "scatterternary"
           }
          ],
          "surface": [
           {
            "colorbar": {
             "outlinewidth": 0,
             "ticks": ""
            },
            "colorscale": [
             [
              0,
              "#0d0887"
             ],
             [
              0.1111111111111111,
              "#46039f"
             ],
             [
              0.2222222222222222,
              "#7201a8"
             ],
             [
              0.3333333333333333,
              "#9c179e"
             ],
             [
              0.4444444444444444,
              "#bd3786"
             ],
             [
              0.5555555555555556,
              "#d8576b"
             ],
             [
              0.6666666666666666,
              "#ed7953"
             ],
             [
              0.7777777777777778,
              "#fb9f3a"
             ],
             [
              0.8888888888888888,
              "#fdca26"
             ],
             [
              1,
              "#f0f921"
             ]
            ],
            "type": "surface"
           }
          ],
          "table": [
           {
            "cells": {
             "fill": {
              "color": "#EBF0F8"
             },
             "line": {
              "color": "white"
             }
            },
            "header": {
             "fill": {
              "color": "#C8D4E3"
             },
             "line": {
              "color": "white"
             }
            },
            "type": "table"
           }
          ]
         },
         "layout": {
          "annotationdefaults": {
           "arrowcolor": "#2a3f5f",
           "arrowhead": 0,
           "arrowwidth": 1
          },
          "autotypenumbers": "strict",
          "coloraxis": {
           "colorbar": {
            "outlinewidth": 0,
            "ticks": ""
           }
          },
          "colorscale": {
           "diverging": [
            [
             0,
             "#8e0152"
            ],
            [
             0.1,
             "#c51b7d"
            ],
            [
             0.2,
             "#de77ae"
            ],
            [
             0.3,
             "#f1b6da"
            ],
            [
             0.4,
             "#fde0ef"
            ],
            [
             0.5,
             "#f7f7f7"
            ],
            [
             0.6,
             "#e6f5d0"
            ],
            [
             0.7,
             "#b8e186"
            ],
            [
             0.8,
             "#7fbc41"
            ],
            [
             0.9,
             "#4d9221"
            ],
            [
             1,
             "#276419"
            ]
           ],
           "sequential": [
            [
             0,
             "#0d0887"
            ],
            [
             0.1111111111111111,
             "#46039f"
            ],
            [
             0.2222222222222222,
             "#7201a8"
            ],
            [
             0.3333333333333333,
             "#9c179e"
            ],
            [
             0.4444444444444444,
             "#bd3786"
            ],
            [
             0.5555555555555556,
             "#d8576b"
            ],
            [
             0.6666666666666666,
             "#ed7953"
            ],
            [
             0.7777777777777778,
             "#fb9f3a"
            ],
            [
             0.8888888888888888,
             "#fdca26"
            ],
            [
             1,
             "#f0f921"
            ]
           ],
           "sequentialminus": [
            [
             0,
             "#0d0887"
            ],
            [
             0.1111111111111111,
             "#46039f"
            ],
            [
             0.2222222222222222,
             "#7201a8"
            ],
            [
             0.3333333333333333,
             "#9c179e"
            ],
            [
             0.4444444444444444,
             "#bd3786"
            ],
            [
             0.5555555555555556,
             "#d8576b"
            ],
            [
             0.6666666666666666,
             "#ed7953"
            ],
            [
             0.7777777777777778,
             "#fb9f3a"
            ],
            [
             0.8888888888888888,
             "#fdca26"
            ],
            [
             1,
             "#f0f921"
            ]
           ]
          },
          "colorway": [
           "#636efa",
           "#EF553B",
           "#00cc96",
           "#ab63fa",
           "#FFA15A",
           "#19d3f3",
           "#FF6692",
           "#B6E880",
           "#FF97FF",
           "#FECB52"
          ],
          "font": {
           "color": "#2a3f5f"
          },
          "geo": {
           "bgcolor": "white",
           "lakecolor": "white",
           "landcolor": "#E5ECF6",
           "showlakes": true,
           "showland": true,
           "subunitcolor": "white"
          },
          "hoverlabel": {
           "align": "left"
          },
          "hovermode": "closest",
          "mapbox": {
           "style": "light"
          },
          "paper_bgcolor": "white",
          "plot_bgcolor": "#E5ECF6",
          "polar": {
           "angularaxis": {
            "gridcolor": "white",
            "linecolor": "white",
            "ticks": ""
           },
           "bgcolor": "#E5ECF6",
           "radialaxis": {
            "gridcolor": "white",
            "linecolor": "white",
            "ticks": ""
           }
          },
          "scene": {
           "xaxis": {
            "backgroundcolor": "#E5ECF6",
            "gridcolor": "white",
            "gridwidth": 2,
            "linecolor": "white",
            "showbackground": true,
            "ticks": "",
            "zerolinecolor": "white"
           },
           "yaxis": {
            "backgroundcolor": "#E5ECF6",
            "gridcolor": "white",
            "gridwidth": 2,
            "linecolor": "white",
            "showbackground": true,
            "ticks": "",
            "zerolinecolor": "white"
           },
           "zaxis": {
            "backgroundcolor": "#E5ECF6",
            "gridcolor": "white",
            "gridwidth": 2,
            "linecolor": "white",
            "showbackground": true,
            "ticks": "",
            "zerolinecolor": "white"
           }
          },
          "shapedefaults": {
           "line": {
            "color": "#2a3f5f"
           }
          },
          "ternary": {
           "aaxis": {
            "gridcolor": "white",
            "linecolor": "white",
            "ticks": ""
           },
           "baxis": {
            "gridcolor": "white",
            "linecolor": "white",
            "ticks": ""
           },
           "bgcolor": "#E5ECF6",
           "caxis": {
            "gridcolor": "white",
            "linecolor": "white",
            "ticks": ""
           }
          },
          "title": {
           "x": 0.05
          },
          "xaxis": {
           "automargin": true,
           "gridcolor": "white",
           "linecolor": "white",
           "ticks": "",
           "title": {
            "standoff": 15
           },
           "zerolinecolor": "white",
           "zerolinewidth": 2
          },
          "yaxis": {
           "automargin": true,
           "gridcolor": "white",
           "linecolor": "white",
           "ticks": "",
           "title": {
            "standoff": 15
           },
           "zerolinecolor": "white",
           "zerolinewidth": 2
          }
         }
        },
        "title": {
         "text": "Volatilidade Condicional das Ações da Coca-Cola e JPMorgan"
        },
        "xaxis": {
         "title": {
          "text": "Data"
         }
        },
        "yaxis": {
         "title": {
          "text": "Volatilidade condicional"
         }
        }
       }
      }
     },
     "metadata": {},
     "output_type": "display_data"
    }
   ],
   "source": [
    "plot_multiples_time_series_line_graphs([coca_cola_conditional_volatility, jpmorgan_conditional_volatility], \"Volatilidade Condicional das Ações da Coca-Cola e JPMorgan\", \"Data\", \"Volatilidade condicional\")"
   ]
  },
  {
   "cell_type": "code",
   "execution_count": 38,
   "metadata": {},
   "outputs": [],
   "source": [
    "# Cria uma instância do modelo LSTM, passando o número de features e o comprimento das sequências de tempo (janelas temporais) para \n",
    "# preparar o modelo.\n",
    "model = Model(9,setup['lstm_time_sequences_length'])\n",
    "\n",
    "# Constrói a arquitetura da rede LSTM, configurando as camadas e os parâmetros necessários para o treinamento do modelo.\n",
    "model.create_LSTM_model()"
   ]
  },
  {
   "cell_type": "code",
   "execution_count": 39,
   "metadata": {},
   "outputs": [],
   "source": [
    "def get_ticker_period_results(ticker: Ticker, predicted: pd.Series) -> list: \n",
    "    '''\n",
    "        Description:\n",
    "            ...\n",
    "        Args:\n",
    "            ticker (Ticker): Objeto do tipo Ticker que contém dados e informações relevantes do ativo.\n",
    "            predicted (pd.Series): Série temporal contendo os valores preditos do preço do ativo.\n",
    "        Return:\n",
    "            pd.DataFrame: ... \n",
    "    '''\n",
    "\n",
    "    # Redimensiona y_train para que ele seja bidimensional (Necessário para o MinMaxScaler).\n",
    "    resized_y_train = ticker.__y_train__.values.reshape(-1, 1)  \n",
    "\n",
    "    # Cria uma instancia do MinMaxScaler para o target do ticker em questão.\n",
    "    scaler_target = MinMaxScaler()\n",
    "\n",
    "    # Ajusta a instância criada acima ao conjunto de treino do target do ticker em questão.\n",
    "    scaler_target.fit_transform(resized_y_train)\n",
    "\n",
    "    # Volta os valores de \"y_test_scaled_sequences\" para a escala normal e associa a esses valores as suas datas originais, criando assim\n",
    "    # uma série temporal.\n",
    "    real_y = pd.Series(scaler_target.inverse_transform(ticker.__y_test_scaled_sequences__).flatten(),\n",
    "                    index= ticker.__y_test__.index[len(ticker.__y_test__) - len(ticker.__y_test_scaled_sequences__):]\n",
    "    )\n",
    "    \n",
    "    # Adiciona um nome a série temporal \"real_y\".\n",
    "    real_y.name = f\"Preço real de {ticker.symbol}\" # Útil para eventuais gráficos.\n",
    "\n",
    "    # Volta os valores estimados para a escala normal e associa a esses valores as suas datas originais, criando assim\n",
    "    # uma série temporal.\n",
    "    predicted_y = pd.Series(\n",
    "        scaler_target.inverse_transform(predicted).flatten(),\n",
    "        index=ticker.__y_test__.index[len(ticker.__y_test__) - len(ticker.__y_test_scaled_sequences__):]\n",
    "    )\n",
    "    \n",
    "    # Adiciona um nome a série temporal \"real_y\".\n",
    "    predicted_y.name = f\"Preço predito de {ticker.symbol}\" # Útil para eventuais gráficos.\n",
    "\n",
    "    return real_y, predicted_y"
   ]
  },
  {
   "cell_type": "code",
   "execution_count": 40,
   "metadata": {},
   "outputs": [
    {
     "name": "stdout",
     "output_type": "stream",
     "text": [
      "\u001b[1m1/1\u001b[0m \u001b[32m━━━━━━━━━━━━━━━━━━━━\u001b[0m\u001b[37m\u001b[0m \u001b[1m1s\u001b[0m 537ms/step\n"
     ]
    }
   ],
   "source": [
    "# Define o período a ser predito como sendo o período 61 da estratégia mensal.\n",
    "test_initial_day = datetime(2023,11,28).date()\n",
    "test_final_day = datetime(2023,12,27).date()\n",
    "\n",
    "\n",
    "# Obtem os dados do ticker em questão em formato adequado para que o modelo LSTM possa realizer a predição.\n",
    "X_train_scaled_sequences, X_test_scaled_sequences, y_train_scaled_sequences, y_test_scaled_sequences = jpmorgan_data.prepare_data_for_lstm(\n",
    "    test_initial_day, test_final_day, setup['lstm_time_sequences_length'])\n",
    "#\n",
    "predicted, RMSE = model.train_model_and_get_results(X_train_scaled_sequences, X_test_scaled_sequences, y_train_scaled_sequences, y_test_scaled_sequences)\n",
    "\n",
    "#\n",
    "predicted_time_series, real_time_series = get_ticker_period_results(jpmorgan_data, predicted)\n",
    "\n",
    "#\n",
    "predicted_time_series.name = f\"Valores preditos para {jpmorgan_data.symbol}\"\n",
    "real_time_series.name = f\"Valores reais de {jpmorgan_data.symbol}\"\n",
    "\n",
    "results = {\n",
    "    \"Predicted\": predicted_time_series,\n",
    "    \"Real\": real_time_series,\n",
    "    \"RMSE\": RMSE\n",
    "}\n",
    "    "
   ]
  },
  {
   "cell_type": "code",
   "execution_count": 41,
   "metadata": {},
   "outputs": [
    {
     "data": {
      "application/vnd.plotly.v1+json": {
       "config": {
        "plotlyServerURL": "https://plot.ly"
       },
       "data": [
        {
         "mode": "lines",
         "name": "Valores preditos para JPM",
         "type": "scatter",
         "x": [
          "2023-12-01T00:00:00",
          "2023-12-04T00:00:00",
          "2023-12-05T00:00:00",
          "2023-12-06T00:00:00",
          "2023-12-07T00:00:00",
          "2023-12-08T00:00:00",
          "2023-12-11T00:00:00",
          "2023-12-12T00:00:00",
          "2023-12-13T00:00:00",
          "2023-12-14T00:00:00",
          "2023-12-15T00:00:00",
          "2023-12-18T00:00:00",
          "2023-12-19T00:00:00",
          "2023-12-20T00:00:00",
          "2023-12-21T00:00:00",
          "2023-12-22T00:00:00",
          "2023-12-26T00:00:00"
         ],
         "y": [
          153.18209838867188,
          154.30528259277344,
          154.28575134277344,
          152.6644744873047,
          153.13327026367188,
          154.8229217529297,
          155.38941955566406,
          156.77630615234375,
          157.30368041992188,
          160.16537475585938,
          161.3764190673828,
          162.35310363769528,
          164.52133178710938,
          162.66563415527344,
          163.5934906005859,
          163.49581909179685,
          164.46273803710935
         ]
        },
        {
         "mode": "lines",
         "name": "Valores reais de JPM",
         "type": "scatter",
         "x": [
          "2023-12-01T00:00:00",
          "2023-12-04T00:00:00",
          "2023-12-05T00:00:00",
          "2023-12-06T00:00:00",
          "2023-12-07T00:00:00",
          "2023-12-08T00:00:00",
          "2023-12-11T00:00:00",
          "2023-12-12T00:00:00",
          "2023-12-13T00:00:00",
          "2023-12-14T00:00:00",
          "2023-12-15T00:00:00",
          "2023-12-18T00:00:00",
          "2023-12-19T00:00:00",
          "2023-12-20T00:00:00",
          "2023-12-21T00:00:00",
          "2023-12-22T00:00:00",
          "2023-12-26T00:00:00"
         ],
         "y": [
          152.650634765625,
          153.826416015625,
          154.61505126953125,
          155.28683471679688,
          154.54833984375,
          154.285400390625,
          155.39907836914062,
          156.235107421875,
          157.51258850097656,
          157.91087341308594,
          158.99652099609375,
          160.2363739013672,
          161.47805786132812,
          162.9903106689453,
          162.31210327148438,
          162.81715393066406,
          163.91302490234375
         ]
        }
       ],
       "layout": {
        "annotations": [
         {
          "align": "center",
          "bgcolor": "white",
          "font": {
           "color": "black",
           "size": 12
          },
          "opacity": 0.7,
          "showarrow": false,
          "text": "RMSE: 0.0166",
          "x": 1,
          "xref": "paper",
          "y": 1,
          "yref": "paper"
         }
        ],
        "legend": {
         "traceorder": "normal",
         "x": 0.005,
         "y": 0.995
        },
        "template": {
         "data": {
          "bar": [
           {
            "error_x": {
             "color": "#2a3f5f"
            },
            "error_y": {
             "color": "#2a3f5f"
            },
            "marker": {
             "line": {
              "color": "#E5ECF6",
              "width": 0.5
             },
             "pattern": {
              "fillmode": "overlay",
              "size": 10,
              "solidity": 0.2
             }
            },
            "type": "bar"
           }
          ],
          "barpolar": [
           {
            "marker": {
             "line": {
              "color": "#E5ECF6",
              "width": 0.5
             },
             "pattern": {
              "fillmode": "overlay",
              "size": 10,
              "solidity": 0.2
             }
            },
            "type": "barpolar"
           }
          ],
          "carpet": [
           {
            "aaxis": {
             "endlinecolor": "#2a3f5f",
             "gridcolor": "white",
             "linecolor": "white",
             "minorgridcolor": "white",
             "startlinecolor": "#2a3f5f"
            },
            "baxis": {
             "endlinecolor": "#2a3f5f",
             "gridcolor": "white",
             "linecolor": "white",
             "minorgridcolor": "white",
             "startlinecolor": "#2a3f5f"
            },
            "type": "carpet"
           }
          ],
          "choropleth": [
           {
            "colorbar": {
             "outlinewidth": 0,
             "ticks": ""
            },
            "type": "choropleth"
           }
          ],
          "contour": [
           {
            "colorbar": {
             "outlinewidth": 0,
             "ticks": ""
            },
            "colorscale": [
             [
              0,
              "#0d0887"
             ],
             [
              0.1111111111111111,
              "#46039f"
             ],
             [
              0.2222222222222222,
              "#7201a8"
             ],
             [
              0.3333333333333333,
              "#9c179e"
             ],
             [
              0.4444444444444444,
              "#bd3786"
             ],
             [
              0.5555555555555556,
              "#d8576b"
             ],
             [
              0.6666666666666666,
              "#ed7953"
             ],
             [
              0.7777777777777778,
              "#fb9f3a"
             ],
             [
              0.8888888888888888,
              "#fdca26"
             ],
             [
              1,
              "#f0f921"
             ]
            ],
            "type": "contour"
           }
          ],
          "contourcarpet": [
           {
            "colorbar": {
             "outlinewidth": 0,
             "ticks": ""
            },
            "type": "contourcarpet"
           }
          ],
          "heatmap": [
           {
            "colorbar": {
             "outlinewidth": 0,
             "ticks": ""
            },
            "colorscale": [
             [
              0,
              "#0d0887"
             ],
             [
              0.1111111111111111,
              "#46039f"
             ],
             [
              0.2222222222222222,
              "#7201a8"
             ],
             [
              0.3333333333333333,
              "#9c179e"
             ],
             [
              0.4444444444444444,
              "#bd3786"
             ],
             [
              0.5555555555555556,
              "#d8576b"
             ],
             [
              0.6666666666666666,
              "#ed7953"
             ],
             [
              0.7777777777777778,
              "#fb9f3a"
             ],
             [
              0.8888888888888888,
              "#fdca26"
             ],
             [
              1,
              "#f0f921"
             ]
            ],
            "type": "heatmap"
           }
          ],
          "heatmapgl": [
           {
            "colorbar": {
             "outlinewidth": 0,
             "ticks": ""
            },
            "colorscale": [
             [
              0,
              "#0d0887"
             ],
             [
              0.1111111111111111,
              "#46039f"
             ],
             [
              0.2222222222222222,
              "#7201a8"
             ],
             [
              0.3333333333333333,
              "#9c179e"
             ],
             [
              0.4444444444444444,
              "#bd3786"
             ],
             [
              0.5555555555555556,
              "#d8576b"
             ],
             [
              0.6666666666666666,
              "#ed7953"
             ],
             [
              0.7777777777777778,
              "#fb9f3a"
             ],
             [
              0.8888888888888888,
              "#fdca26"
             ],
             [
              1,
              "#f0f921"
             ]
            ],
            "type": "heatmapgl"
           }
          ],
          "histogram": [
           {
            "marker": {
             "pattern": {
              "fillmode": "overlay",
              "size": 10,
              "solidity": 0.2
             }
            },
            "type": "histogram"
           }
          ],
          "histogram2d": [
           {
            "colorbar": {
             "outlinewidth": 0,
             "ticks": ""
            },
            "colorscale": [
             [
              0,
              "#0d0887"
             ],
             [
              0.1111111111111111,
              "#46039f"
             ],
             [
              0.2222222222222222,
              "#7201a8"
             ],
             [
              0.3333333333333333,
              "#9c179e"
             ],
             [
              0.4444444444444444,
              "#bd3786"
             ],
             [
              0.5555555555555556,
              "#d8576b"
             ],
             [
              0.6666666666666666,
              "#ed7953"
             ],
             [
              0.7777777777777778,
              "#fb9f3a"
             ],
             [
              0.8888888888888888,
              "#fdca26"
             ],
             [
              1,
              "#f0f921"
             ]
            ],
            "type": "histogram2d"
           }
          ],
          "histogram2dcontour": [
           {
            "colorbar": {
             "outlinewidth": 0,
             "ticks": ""
            },
            "colorscale": [
             [
              0,
              "#0d0887"
             ],
             [
              0.1111111111111111,
              "#46039f"
             ],
             [
              0.2222222222222222,
              "#7201a8"
             ],
             [
              0.3333333333333333,
              "#9c179e"
             ],
             [
              0.4444444444444444,
              "#bd3786"
             ],
             [
              0.5555555555555556,
              "#d8576b"
             ],
             [
              0.6666666666666666,
              "#ed7953"
             ],
             [
              0.7777777777777778,
              "#fb9f3a"
             ],
             [
              0.8888888888888888,
              "#fdca26"
             ],
             [
              1,
              "#f0f921"
             ]
            ],
            "type": "histogram2dcontour"
           }
          ],
          "mesh3d": [
           {
            "colorbar": {
             "outlinewidth": 0,
             "ticks": ""
            },
            "type": "mesh3d"
           }
          ],
          "parcoords": [
           {
            "line": {
             "colorbar": {
              "outlinewidth": 0,
              "ticks": ""
             }
            },
            "type": "parcoords"
           }
          ],
          "pie": [
           {
            "automargin": true,
            "type": "pie"
           }
          ],
          "scatter": [
           {
            "fillpattern": {
             "fillmode": "overlay",
             "size": 10,
             "solidity": 0.2
            },
            "type": "scatter"
           }
          ],
          "scatter3d": [
           {
            "line": {
             "colorbar": {
              "outlinewidth": 0,
              "ticks": ""
             }
            },
            "marker": {
             "colorbar": {
              "outlinewidth": 0,
              "ticks": ""
             }
            },
            "type": "scatter3d"
           }
          ],
          "scattercarpet": [
           {
            "marker": {
             "colorbar": {
              "outlinewidth": 0,
              "ticks": ""
             }
            },
            "type": "scattercarpet"
           }
          ],
          "scattergeo": [
           {
            "marker": {
             "colorbar": {
              "outlinewidth": 0,
              "ticks": ""
             }
            },
            "type": "scattergeo"
           }
          ],
          "scattergl": [
           {
            "marker": {
             "colorbar": {
              "outlinewidth": 0,
              "ticks": ""
             }
            },
            "type": "scattergl"
           }
          ],
          "scattermapbox": [
           {
            "marker": {
             "colorbar": {
              "outlinewidth": 0,
              "ticks": ""
             }
            },
            "type": "scattermapbox"
           }
          ],
          "scatterpolar": [
           {
            "marker": {
             "colorbar": {
              "outlinewidth": 0,
              "ticks": ""
             }
            },
            "type": "scatterpolar"
           }
          ],
          "scatterpolargl": [
           {
            "marker": {
             "colorbar": {
              "outlinewidth": 0,
              "ticks": ""
             }
            },
            "type": "scatterpolargl"
           }
          ],
          "scatterternary": [
           {
            "marker": {
             "colorbar": {
              "outlinewidth": 0,
              "ticks": ""
             }
            },
            "type": "scatterternary"
           }
          ],
          "surface": [
           {
            "colorbar": {
             "outlinewidth": 0,
             "ticks": ""
            },
            "colorscale": [
             [
              0,
              "#0d0887"
             ],
             [
              0.1111111111111111,
              "#46039f"
             ],
             [
              0.2222222222222222,
              "#7201a8"
             ],
             [
              0.3333333333333333,
              "#9c179e"
             ],
             [
              0.4444444444444444,
              "#bd3786"
             ],
             [
              0.5555555555555556,
              "#d8576b"
             ],
             [
              0.6666666666666666,
              "#ed7953"
             ],
             [
              0.7777777777777778,
              "#fb9f3a"
             ],
             [
              0.8888888888888888,
              "#fdca26"
             ],
             [
              1,
              "#f0f921"
             ]
            ],
            "type": "surface"
           }
          ],
          "table": [
           {
            "cells": {
             "fill": {
              "color": "#EBF0F8"
             },
             "line": {
              "color": "white"
             }
            },
            "header": {
             "fill": {
              "color": "#C8D4E3"
             },
             "line": {
              "color": "white"
             }
            },
            "type": "table"
           }
          ]
         },
         "layout": {
          "annotationdefaults": {
           "arrowcolor": "#2a3f5f",
           "arrowhead": 0,
           "arrowwidth": 1
          },
          "autotypenumbers": "strict",
          "coloraxis": {
           "colorbar": {
            "outlinewidth": 0,
            "ticks": ""
           }
          },
          "colorscale": {
           "diverging": [
            [
             0,
             "#8e0152"
            ],
            [
             0.1,
             "#c51b7d"
            ],
            [
             0.2,
             "#de77ae"
            ],
            [
             0.3,
             "#f1b6da"
            ],
            [
             0.4,
             "#fde0ef"
            ],
            [
             0.5,
             "#f7f7f7"
            ],
            [
             0.6,
             "#e6f5d0"
            ],
            [
             0.7,
             "#b8e186"
            ],
            [
             0.8,
             "#7fbc41"
            ],
            [
             0.9,
             "#4d9221"
            ],
            [
             1,
             "#276419"
            ]
           ],
           "sequential": [
            [
             0,
             "#0d0887"
            ],
            [
             0.1111111111111111,
             "#46039f"
            ],
            [
             0.2222222222222222,
             "#7201a8"
            ],
            [
             0.3333333333333333,
             "#9c179e"
            ],
            [
             0.4444444444444444,
             "#bd3786"
            ],
            [
             0.5555555555555556,
             "#d8576b"
            ],
            [
             0.6666666666666666,
             "#ed7953"
            ],
            [
             0.7777777777777778,
             "#fb9f3a"
            ],
            [
             0.8888888888888888,
             "#fdca26"
            ],
            [
             1,
             "#f0f921"
            ]
           ],
           "sequentialminus": [
            [
             0,
             "#0d0887"
            ],
            [
             0.1111111111111111,
             "#46039f"
            ],
            [
             0.2222222222222222,
             "#7201a8"
            ],
            [
             0.3333333333333333,
             "#9c179e"
            ],
            [
             0.4444444444444444,
             "#bd3786"
            ],
            [
             0.5555555555555556,
             "#d8576b"
            ],
            [
             0.6666666666666666,
             "#ed7953"
            ],
            [
             0.7777777777777778,
             "#fb9f3a"
            ],
            [
             0.8888888888888888,
             "#fdca26"
            ],
            [
             1,
             "#f0f921"
            ]
           ]
          },
          "colorway": [
           "#636efa",
           "#EF553B",
           "#00cc96",
           "#ab63fa",
           "#FFA15A",
           "#19d3f3",
           "#FF6692",
           "#B6E880",
           "#FF97FF",
           "#FECB52"
          ],
          "font": {
           "color": "#2a3f5f"
          },
          "geo": {
           "bgcolor": "white",
           "lakecolor": "white",
           "landcolor": "#E5ECF6",
           "showlakes": true,
           "showland": true,
           "subunitcolor": "white"
          },
          "hoverlabel": {
           "align": "left"
          },
          "hovermode": "closest",
          "mapbox": {
           "style": "light"
          },
          "paper_bgcolor": "white",
          "plot_bgcolor": "#E5ECF6",
          "polar": {
           "angularaxis": {
            "gridcolor": "white",
            "linecolor": "white",
            "ticks": ""
           },
           "bgcolor": "#E5ECF6",
           "radialaxis": {
            "gridcolor": "white",
            "linecolor": "white",
            "ticks": ""
           }
          },
          "scene": {
           "xaxis": {
            "backgroundcolor": "#E5ECF6",
            "gridcolor": "white",
            "gridwidth": 2,
            "linecolor": "white",
            "showbackground": true,
            "ticks": "",
            "zerolinecolor": "white"
           },
           "yaxis": {
            "backgroundcolor": "#E5ECF6",
            "gridcolor": "white",
            "gridwidth": 2,
            "linecolor": "white",
            "showbackground": true,
            "ticks": "",
            "zerolinecolor": "white"
           },
           "zaxis": {
            "backgroundcolor": "#E5ECF6",
            "gridcolor": "white",
            "gridwidth": 2,
            "linecolor": "white",
            "showbackground": true,
            "ticks": "",
            "zerolinecolor": "white"
           }
          },
          "shapedefaults": {
           "line": {
            "color": "#2a3f5f"
           }
          },
          "ternary": {
           "aaxis": {
            "gridcolor": "white",
            "linecolor": "white",
            "ticks": ""
           },
           "baxis": {
            "gridcolor": "white",
            "linecolor": "white",
            "ticks": ""
           },
           "bgcolor": "#E5ECF6",
           "caxis": {
            "gridcolor": "white",
            "linecolor": "white",
            "ticks": ""
           }
          },
          "title": {
           "x": 0.05
          },
          "xaxis": {
           "automargin": true,
           "gridcolor": "white",
           "linecolor": "white",
           "ticks": "",
           "title": {
            "standoff": 15
           },
           "zerolinecolor": "white",
           "zerolinewidth": 2
          },
          "yaxis": {
           "automargin": true,
           "gridcolor": "white",
           "linecolor": "white",
           "ticks": "",
           "title": {
            "standoff": 15
           },
           "zerolinecolor": "white",
           "zerolinewidth": 2
          }
         }
        },
        "title": {
         "text": "Valor Previsto vs. Valor Real das Ações do JPMorgan"
        },
        "xaxis": {
         "title": {
          "text": "Data"
         }
        },
        "yaxis": {
         "title": {
          "text": "Preço de fechamento ajustado"
         }
        }
       }
      }
     },
     "metadata": {},
     "output_type": "display_data"
    }
   ],
   "source": [
    "plot_multiples_time_series_line_graphs([results['Predicted'], results['Real']], \"Valor Previsto vs. Valor Real das Ações do JPMorgan\", \"Data\", \"Preço de fechamento ajustado\", f\"RMSE: {results['RMSE']:.4f}\")"
   ]
  },
  {
   "cell_type": "markdown",
   "metadata": {},
   "source": [
    "#### *Código para gráficos de risco*"
   ]
  },
  {
   "cell_type": "code",
   "execution_count": null,
   "metadata": {},
   "outputs": [],
   "source": [
    "import plotly.graph_objects as go\n",
    "\n",
    "# Funções para cálculo das métricas\n",
    "def calculate_sharpe_ratio(returns, risk_free_rate=0):\n",
    "    excess_returns = returns - risk_free_rate\n",
    "    return excess_returns.mean() / excess_returns.std() if excess_returns.std() != 0 else np.nan\n",
    "\n",
    "def calculate_var(returns, confidence_level=0.95):\n",
    "    return np.percentile(returns, (1 - confidence_level) * 100)\n",
    "\n",
    "def calculate_cvar(returns, confidence_level=0.95):\n",
    "    var = calculate_var(returns, confidence_level)\n",
    "    return returns[returns <= var].mean()\n",
    "\n",
    "# Parâmetros\n",
    "risk_free_rate = 0\n",
    "window_size = 6\n",
    "\n",
    "# Calculando as métricas ao longo do tempo usando uma janela móvel\n",
    "sharpe_ratios = average_monthly_results.rolling(window=window_size).apply(\n",
    "    lambda x: calculate_sharpe_ratio(x, risk_free_rate), raw=False\n",
    ")\n",
    "vars_95 = average_monthly_results.rolling(window=window_size).apply(\n",
    "    lambda x: calculate_var(x, confidence_level=0.95), raw=False\n",
    ")\n",
    "cvars_95 = average_monthly_results.rolling(window=window_size).apply(\n",
    "    lambda x: calculate_cvar(x, confidence_level=0.95), raw=False\n",
    ")\n",
    "\n",
    "# Calculando o Sharpe ratio para o S&P 500\n",
    "sp500_sharpe_ratios = sp500_index_period_returns.rolling(window=window_size).apply(\n",
    "    lambda x: calculate_sharpe_ratio(x, risk_free_rate), raw=False\n",
    ")\n",
    "\n",
    "# Calculando as médias\n",
    "mean_sharpe_ratio = sharpe_ratios.mean()\n",
    "mean_sp500_sharpe_ratio = sp500_sharpe_ratios.mean()\n",
    "mean_var = vars_95.mean()\n",
    "mean_cvar = cvars_95.mean()\n",
    "\n",
    "# Gráfico 1: Sharpe Ratio\n",
    "fig_sharpe = go.Figure()\n",
    "\n",
    "fig_sharpe.add_trace(go.Scatter(\n",
    "    x=average_monthly_results.index,\n",
    "    y=sharpe_ratios,\n",
    "    mode='lines',\n",
    "    name='Sharpe Ratio da Estratégia',\n",
    "    line=dict(color='blue', width=2)\n",
    "))\n",
    "\n",
    "fig_sharpe.add_trace(go.Scatter(\n",
    "    x=average_monthly_results.index,\n",
    "    y=sp500_sharpe_ratios,\n",
    "    mode='lines',\n",
    "    name='Sharpe Ratio do S&P 500',\n",
    "    line=dict(color='green', width=2)\n",
    "))\n",
    "\n",
    "fig_sharpe.add_trace(go.Scatter(\n",
    "    x=[average_monthly_results.index[0], average_monthly_results.index[-1]],\n",
    "    y=[mean_sharpe_ratio, mean_sharpe_ratio],\n",
    "    mode='lines',\n",
    "    name=f'Média Sharpe Ratio (Estratégia): {mean_sharpe_ratio:.2f}',\n",
    "    line=dict(color='blue', width=1, dash='dash')\n",
    "))\n",
    "\n",
    "fig_sharpe.add_trace(go.Scatter(\n",
    "    x=[average_monthly_results.index[0], average_monthly_results.index[-1]],\n",
    "    y=[mean_sp500_sharpe_ratio, mean_sp500_sharpe_ratio],\n",
    "    mode='lines',\n",
    "    name=f'Média Sharpe Ratio (S&P 500): {mean_sp500_sharpe_ratio:.2f}',\n",
    "    line=dict(color='green', width=1, dash='dash')\n",
    "))\n",
    "\n",
    "fig_sharpe.update_layout(\n",
    "    title=\"Sharpe Ratio da Estratégia Vs. Sharpe Ratio do S&P 500 ao longo do tempo\",\n",
    "    xaxis_title=\"Data\",\n",
    "    yaxis_title=\"Sharpe Ratio\",\n",
    "    template=\"plotly_white\",\n",
    "    legend=dict(x=0.02, y=0.98)\n",
    ")\n",
    "\n",
    "fig_sharpe.show()\n",
    "\n",
    "# Gráfico 2: VaR e CVaR\n",
    "fig_var_cvar = go.Figure()\n",
    "\n",
    "fig_var_cvar.add_trace(go.Scatter(\n",
    "    x=average_monthly_results.index,\n",
    "    y=vars_95,\n",
    "    mode='lines',\n",
    "    name='VaR (95%)',\n",
    "    line=dict(color='red', dash='dash', width=2)\n",
    "))\n",
    "\n",
    "fig_var_cvar.add_trace(go.Scatter(\n",
    "    x=average_monthly_results.index,\n",
    "    y=cvars_95,\n",
    "    mode='lines',\n",
    "    name='CVaR (95%)',\n",
    "    line=dict(color='purple', dash='dash', width=2)\n",
    "))\n",
    "\n",
    "fig_var_cvar.add_trace(go.Scatter(\n",
    "    x=[average_monthly_results.index[0], average_monthly_results.index[-1]],\n",
    "    y=[mean_var, mean_var],\n",
    "    mode='lines',\n",
    "    name=f'Média VaR (95%): {mean_var:.2f}',\n",
    "    line=dict(color='red', width=1)\n",
    "))\n",
    "\n",
    "fig_var_cvar.add_trace(go.Scatter(\n",
    "    x=[average_monthly_results.index[0], average_monthly_results.index[-1]],\n",
    "    y=[mean_cvar, mean_cvar],\n",
    "    mode='lines',\n",
    "    name=f'Média CVaR (95%): {mean_cvar:.2f}',\n",
    "    line=dict(color='purple', width=1)\n",
    "))\n",
    "\n",
    "fig_var_cvar.update_layout(\n",
    "    title=\"VaR e CVaR ao longo do tempo\",\n",
    "    xaxis_title=\"Data\",\n",
    "    yaxis_title=\"Valor em Risco\",\n",
    "    template=\"plotly_white\",\n",
    "    legend=dict(x=0.02, y=0.98)\n",
    ")\n",
    "\n",
    "fig_var_cvar.show()"
   ]
  },
  {
   "cell_type": "markdown",
   "metadata": {},
   "source": [
    "#### *Código para criação da tabela*"
   ]
  },
  {
   "cell_type": "code",
   "execution_count": null,
   "metadata": {},
   "outputs": [],
   "source": [
    "# Carrega todos os arquivos e os combina em um único DataFrame usando o setup\n",
    "dataframes = [pd.read_excel(file) for file in setup['monthly_results_sheets']]\n",
    "combined_df = pd.concat(dataframes, ignore_index=True)\n",
    "\n",
    "# Calcula a margem de erro como a diferença absoluta entre o retorno previsto e o retorno real\n",
    "combined_df[\"Error Margin (%)\"] = abs(combined_df[\"Retorno Predito\"] - combined_df[\"Retorno Real\"])\n",
    "\n",
    "# Define os intervalos de erro e os rótulos para categorização\n",
    "bins = [0, 1, 2, 5, 10, 20, 50, 100]\n",
    "labels = [\"0-1%\", \"1-2%\", \"2-5%\", \"5-10%\", \"10-20%\", \"20-50%\", \"50-100%\"]\n",
    "combined_df[\"Error Interval\"] = pd.cut(combined_df[\"Error Margin (%)\"], bins=bins, labels=labels, right=False)\n",
    "\n",
    "# Conta a quantidade de ocorrências em cada intervalo de erro\n",
    "error_margin_counts = combined_df[\"Error Interval\"].value_counts().sort_index()\n",
    "\n",
    "# Cria uma tabela de resumo\n",
    "error_margin_table = pd.DataFrame({\n",
    "    \"Intervalo de Margem de Erro\": error_margin_counts.index,\n",
    "    \"Quantidade de Resultados\": error_margin_counts.values\n",
    "})\n",
    "\n",
    "# Exibe a tabela de erro\n",
    "print(error_margin_table)"
   ]
  }
 ],
 "metadata": {
  "kernelspec": {
   "display_name": "base",
   "language": "python",
   "name": "python3"
  },
  "language_info": {
   "codemirror_mode": {
    "name": "ipython",
    "version": 3
   },
   "file_extension": ".py",
   "mimetype": "text/x-python",
   "name": "python",
   "nbconvert_exporter": "python",
   "pygments_lexer": "ipython3",
   "version": "3.12.7"
  }
 },
 "nbformat": 4,
 "nbformat_minor": 2
}
