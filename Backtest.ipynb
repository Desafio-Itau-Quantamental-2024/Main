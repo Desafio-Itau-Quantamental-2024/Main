{
 "cells": [
  {
   "cell_type": "markdown",
   "metadata": {},
   "source": [
    "#### *Instalando as bibliotecas que serão necessárias*"
   ]
  },
  {
   "cell_type": "code",
   "execution_count": 2,
   "metadata": {},
   "outputs": [
    {
     "name": "stdout",
     "output_type": "stream",
     "text": [
      "Defaulting to user installation because normal site-packages is not writeable\n",
      "Requirement already satisfied: pandas in /home/user/.local/lib/python3.10/site-packages (2.0.3)\n",
      "Requirement already satisfied: python-dateutil>=2.8.2 in /home/user/.local/lib/python3.10/site-packages (from pandas) (2.9.0.post0)\n",
      "Requirement already satisfied: tzdata>=2022.1 in /home/user/.local/lib/python3.10/site-packages (from pandas) (2024.1)\n",
      "Requirement already satisfied: pytz>=2020.1 in /home/user/.local/lib/python3.10/site-packages (from pandas) (2024.1)\n",
      "Requirement already satisfied: numpy>=1.21.0 in /home/user/.local/lib/python3.10/site-packages (from pandas) (1.24.3)\n",
      "Requirement already satisfied: six>=1.5 in /usr/lib/python3/dist-packages (from python-dateutil>=2.8.2->pandas) (1.16.0)\n"
     ]
    }
   ],
   "source": [
    "# Instala a biblioteca \"pandas\" que será usada para manipulação de dados.\n",
    "!pip install pandas"
   ]
  },
  {
   "cell_type": "code",
   "execution_count": 3,
   "metadata": {},
   "outputs": [
    {
     "name": "stdout",
     "output_type": "stream",
     "text": [
      "Defaulting to user installation because normal site-packages is not writeable\n",
      "Requirement already satisfied: numpy in /home/user/.local/lib/python3.10/site-packages (1.24.3)\n"
     ]
    }
   ],
   "source": [
    "# Instala a biblioteca \"numpy\" que será usada para operações numéricas.\n",
    "!pip install numpy"
   ]
  },
  {
   "cell_type": "code",
   "execution_count": 4,
   "metadata": {},
   "outputs": [
    {
     "name": "stdout",
     "output_type": "stream",
     "text": [
      "Defaulting to user installation because normal site-packages is not writeable\n",
      "Requirement already satisfied: yfinance in /home/user/.local/lib/python3.10/site-packages (0.2.41)\n",
      "Requirement already satisfied: requests>=2.31 in /home/user/.local/lib/python3.10/site-packages (from yfinance) (2.31.0)\n",
      "Requirement already satisfied: frozendict>=2.3.4 in /home/user/.local/lib/python3.10/site-packages (from yfinance) (2.4.4)\n",
      "Requirement already satisfied: pytz>=2022.5 in /home/user/.local/lib/python3.10/site-packages (from yfinance) (2024.1)\n",
      "Requirement already satisfied: numpy>=1.16.5 in /home/user/.local/lib/python3.10/site-packages (from yfinance) (1.24.3)\n",
      "Requirement already satisfied: lxml>=4.9.1 in /home/user/.local/lib/python3.10/site-packages (from yfinance) (5.2.2)\n",
      "Requirement already satisfied: beautifulsoup4>=4.11.1 in /home/user/.local/lib/python3.10/site-packages (from yfinance) (4.12.3)\n",
      "Requirement already satisfied: multitasking>=0.0.7 in /home/user/.local/lib/python3.10/site-packages (from yfinance) (0.0.11)\n",
      "Requirement already satisfied: peewee>=3.16.2 in /home/user/.local/lib/python3.10/site-packages (from yfinance) (3.17.6)\n",
      "Requirement already satisfied: platformdirs>=2.0.0 in /home/user/.local/lib/python3.10/site-packages (from yfinance) (4.2.0)\n",
      "Requirement already satisfied: pandas>=1.3.0 in /home/user/.local/lib/python3.10/site-packages (from yfinance) (2.0.3)\n",
      "Requirement already satisfied: html5lib>=1.1 in /home/user/.local/lib/python3.10/site-packages (from yfinance) (1.1)\n",
      "Requirement already satisfied: soupsieve>1.2 in /home/user/.local/lib/python3.10/site-packages (from beautifulsoup4>=4.11.1->yfinance) (2.5)\n",
      "Requirement already satisfied: webencodings in /home/user/.local/lib/python3.10/site-packages (from html5lib>=1.1->yfinance) (0.5.1)\n",
      "Requirement already satisfied: six>=1.9 in /usr/lib/python3/dist-packages (from html5lib>=1.1->yfinance) (1.16.0)\n",
      "Requirement already satisfied: python-dateutil>=2.8.2 in /home/user/.local/lib/python3.10/site-packages (from pandas>=1.3.0->yfinance) (2.9.0.post0)\n",
      "Requirement already satisfied: tzdata>=2022.1 in /home/user/.local/lib/python3.10/site-packages (from pandas>=1.3.0->yfinance) (2024.1)\n",
      "Requirement already satisfied: idna<4,>=2.5 in /usr/lib/python3/dist-packages (from requests>=2.31->yfinance) (3.3)\n",
      "Requirement already satisfied: charset-normalizer<4,>=2 in /home/user/.local/lib/python3.10/site-packages (from requests>=2.31->yfinance) (3.3.2)\n",
      "Requirement already satisfied: urllib3<3,>=1.21.1 in /usr/lib/python3/dist-packages (from requests>=2.31->yfinance) (1.26.5)\n",
      "Requirement already satisfied: certifi>=2017.4.17 in /usr/lib/python3/dist-packages (from requests>=2.31->yfinance) (2020.6.20)\n"
     ]
    }
   ],
   "source": [
    "# Instala a biblioteca \"yfinance\" que será usada para obter dados financeiros.\n",
    "!pip install yfinance"
   ]
  },
  {
   "cell_type": "code",
   "execution_count": 5,
   "metadata": {},
   "outputs": [
    {
     "name": "stdout",
     "output_type": "stream",
     "text": [
      "Defaulting to user installation because normal site-packages is not writeable\n",
      "Requirement already satisfied: plotly in /home/user/.local/lib/python3.10/site-packages (5.23.0)\n",
      "Requirement already satisfied: packaging in /home/user/.local/lib/python3.10/site-packages (from plotly) (23.1)\n",
      "Requirement already satisfied: tenacity>=6.2.0 in /home/user/.local/lib/python3.10/site-packages (from plotly) (8.2.3)\n"
     ]
    }
   ],
   "source": [
    "# Instala a biblioteca \"plotly\" que será usada para a exibição de gráficos. \n",
    "!pip install plotly"
   ]
  },
  {
   "cell_type": "markdown",
   "metadata": {},
   "source": [
    "#### *Importando as bibliotecas que serão necessárias*"
   ]
  },
  {
   "cell_type": "code",
   "execution_count": null,
   "metadata": {},
   "outputs": [],
   "source": [
    "# Importa a biblioteca \"pandas\", que será usada para manipulação de dados.\n",
    "import pandas as pd\n",
    "# Importa a biblioteca \"numpy\", que será usada para operações numéricas.\n",
    "import numpy as np\n",
    "# Importa a biblioteca \"yfinance\" para obter alguns dados de certas ações.\n",
    "import yfinance as yf\n",
    "# Importa o módulo \"graph_objects\" da biblioteca \"plotly\" para lidar com a exibição de gráficos.\n",
    "import plotly.graph_objects as go\n",
    "# Importa o módulo datetime da biblioteca \"datetime\" para lidar com datas.\n",
    "from datetime import datetime, timedelta\n",
    "# Importa a biblioteca \"math\" para lidar com certas operações matemáticas.\n",
    "import math\n",
    "# Importa o módulo Optional da biblioteca \"typing\" para lidar com a padronização dos tipos de parâmetros opcionais das funções.\n",
    "from typing import Optional"
   ]
  },
  {
   "cell_type": "markdown",
   "metadata": {},
   "source": [
    "# Código do backtest"
   ]
  },
  {
   "cell_type": "markdown",
   "metadata": {},
   "source": [
    "PRIMEIRO TESTE PARA O BACKTEST\n",
    "Cálculo do S&P ta errado"
   ]
  },
  {
   "cell_type": "code",
   "execution_count": null,
   "metadata": {},
   "outputs": [
    {
     "name": "stdout",
     "output_type": "stream",
     "text": [
      "Período: 2019-02-22 - 2019-03-21\n",
      "Ações compradas: ['AMT', 'SO', 'MCD', 'WMT', 'XEL']\n",
      "Retorno de cada ação:\n",
      " - AMT: 11.70644120100242%\n",
      " - SO: 4.33944426916547%\n",
      " - MCD: 2.262881295990945%\n",
      " - WMT: 1.500255889162151%\n",
      " - XEL: 4.488114776519038%\n",
      "Valor do portfólio ao final do período: $104859.43\n",
      "\n",
      "Período: 2019-03-22 - 2019-04-18\n",
      "Ações compradas: ['WRB', 'SYY', 'WMT', 'L', 'YUM']\n",
      "Retorno de cada ação:\n",
      " - WRB: 3.387195385279303%\n",
      " - SYY: 8.42385272730434%\n",
      " - WMT: 5.960145210909561%\n",
      " - L: 2.258000103301393%\n",
      " - YUM: 4.291298434993405%\n",
      "Valor do portfólio ao final do período: $109959.89\n",
      "\n",
      "Período: 2019-04-22 - 2019-05-17\n",
      "Ações compradas: ['SBAC', 'AFL', 'SYY', 'TRV', 'AMT']\n",
      "Retorno de cada ação:\n",
      " - SBAC: 5.104769925604463%\n",
      " - AFL: 5.921211468510501%\n",
      " - SYY: 7.709974903555966%\n",
      " - TRV: 5.792061200895203%\n",
      " - AMT: 5.138936845215272%\n",
      "Valor do portfólio ao final do período: $116484.24\n",
      "\n",
      "Período: 2019-05-20 - 2019-06-17\n",
      "Ações compradas: ['PPL', 'MDLZ', 'WRB', 'ALL', 'YUM']\n",
      "Retorno de cada ação:\n",
      " - PPL: 3.211322334444775%\n",
      " - MDLZ: 5.076467944762025%\n",
      " - WRB: 6.338923467192192%\n",
      " - ALL: 5.895864065978122%\n",
      " - YUM: 7.384015700782273%\n",
      "Valor do portfólio ao final do período: $122985.60\n",
      "\n",
      "Período: 2019-06-18 - 2019-07-16\n",
      "Ações compradas: ['MMC', 'JPM', 'SYY', 'MCD', 'COST']\n",
      "Retorno de cada ação:\n",
      " - MMC: 6.029310243810902%\n",
      " - JPM: 5.76532419651751%\n",
      " - SYY: 3.339082855858148%\n",
      " - MCD: 4.527290259182932%\n",
      " - COST: 5.312303592792366%\n",
      "Valor do portfólio ao final do período: $129128.32\n",
      "\n",
      "Período: 2019-07-17 - 2019-08-13\n",
      "Ações compradas: ['CCI', 'AMT', 'SO', 'PSA', 'SBAC']\n",
      "Retorno de cada ação:\n",
      " - CCI: 11.58651705139902%\n",
      " - AMT: 6.734680386118767%\n",
      " - SO: 3.053146652238721%\n",
      " - PSA: 6.258896697593149%\n",
      " - SBAC: 12.04136596472127%\n",
      "Valor do portfólio ao final do período: $139374.55\n",
      "\n",
      "Período: 2019-08-14 - 2019-09-11\n",
      "Ações compradas: ['PNC', 'JPM', 'USB', 'VICI', 'PEG']\n",
      "Retorno de cada ação:\n",
      " - PNC: 5.781598145191975%\n",
      " - JPM: 7.529683123027006%\n",
      " - USB: 6.041264895086602%\n",
      " - VICI: 3.94758543841134%\n",
      " - PEG: 6.355192702670822%\n",
      "Valor do portfólio ao final do período: $147640.94\n",
      "\n",
      "Período: 2019-09-12 - 2019-10-09\n",
      "Ações compradas: ['HSY', 'VICI', 'SRE', 'CMS', 'AVB']\n",
      "Retorno de cada ação:\n",
      " - HSY: 2.445492707892814%\n",
      " - VICI: 4.126376978258278%\n",
      " - SRE: 3.178460191880016%\n",
      " - CMS: 3.512999922734254%\n",
      " - AVB: 4.073292472410143%\n",
      "Valor do portfólio ao final do período: $152760.13\n",
      "\n",
      "Período: 2019-10-10 - 2019-11-06\n",
      "Ações compradas: ['USB', 'MET', 'JPM', 'PPL', 'CNP']\n",
      "Retorno de cada ação:\n",
      " - USB: 8.893159419991989%\n",
      " - MET: 6.021434989203913%\n",
      " - JPM: 7.497673985004201%\n",
      " - PPL: 4.262486002382893%\n",
      " - CNP: 2.072053299103589%\n",
      "Valor do portfólio ao final do período: $161542.86\n",
      "\n",
      "Período: 2019-11-07 - 2019-12-05\n",
      "Ações compradas: ['VRSK', 'HSY', 'AWK', 'JNJ', 'AMT']\n",
      "Retorno de cada ação:\n",
      " - VRSK: 5.583805182994976%\n",
      " - HSY: 5.38370653316616%\n",
      " - AWK: 6.7038027301709%\n",
      " - JNJ: 6.753337540317671%\n",
      " - AMT: 3.226699596781463%\n",
      "Valor do portfólio ao final do período: $170476.62\n",
      "\n",
      "Período: 2019-12-06 - 2020-01-06\n",
      "Ações compradas: ['AMT', 'CNP', 'SO', 'L', 'ATO']\n",
      "Retorno de cada ação:\n",
      " - AMT: 8.17041551267005%\n",
      " - CNP: 6.326813398384523%\n",
      " - SO: 3.433523775592092%\n",
      " - L: 4.095798046202806%\n",
      " - ATO: 3.44735424778083%\n",
      "Valor do portfólio ao final do período: $179162.03\n",
      "\n",
      "Período: 2020-01-07 - 2020-02-04\n",
      "Ações compradas: ['PNW', 'ED', 'NDAQ', 'DUK', 'CPT']\n",
      "Retorno de cada ação:\n",
      " - PNW: 8.302811617268892%\n",
      " - ED: 5.611666028649233%\n",
      " - NDAQ: 10.50142529945581%\n",
      " - DUK: 6.589192879305195%\n",
      " - CPT: 5.530517915377822%\n",
      "Valor do portfólio ao final do período: $192253.62\n",
      "\n",
      "Período: 2020-02-05 - 2020-03-04\n",
      "Ações compradas: ['HES']\n",
      "Retorno de cada ação:\n",
      " - HES: 3.662737656606216%\n",
      "Valor do portfólio ao final do período: $199295.37\n",
      "\n",
      "Período: 2020-04-02 - 2020-04-30\n",
      "Ações compradas: ['SMCI']\n",
      "Retorno de cada ação:\n",
      " - SMCI: 12.15016578082063%\n",
      "Valor do portfólio ao final do período: $223510.08\n",
      "\n",
      "Período: 2020-05-01 - 2020-05-29\n",
      "Ações compradas: ['LOW', 'EMN', 'AZO', 'ROP', 'AAPL']\n",
      "Retorno de cada ação:\n",
      " - LOW: 17.32032517861525%\n",
      " - EMN: 13.42032629582731%\n",
      " - AZO: 10.60518972298414%\n",
      " - ROP: 11.46011617586897%\n",
      " - AAPL: 5.868562548519869%\n",
      "Valor do portfólio ao final do período: $249738.78\n",
      "\n",
      "Período: 2020-06-01 - 2020-06-26\n",
      "Ações compradas: ['EPAM', 'CLX', 'PYPL', 'DLR', 'HRL']\n",
      "Retorno de cada ação:\n",
      " - EPAM: 8.533880421312249%\n",
      " - CLX: 5.268760472721707%\n",
      " - PYPL: 10.00618292512746%\n",
      " - DLR: 3.455661454946128%\n",
      " - HRL: 0.4990389921334391%\n",
      "Valor do portfólio ao final do período: $263606.03\n",
      "\n",
      "Período: 2020-06-29 - 2020-07-27\n",
      "Ações compradas: ['WRB', 'AEE', 'YUM', 'AWK', 'LNT']\n",
      "Retorno de cada ação:\n",
      " - WRB: 10.73596348621115%\n",
      " - AEE: 7.596928711787247%\n",
      " - YUM: 7.573231500397705%\n",
      " - AWK: 9.644708235627853%\n",
      " - LNT: 6.748096756011693%\n",
      "Valor do portfólio ao final do período: $285906.54\n",
      "\n",
      "Período: 2020-07-28 - 2020-08-24\n",
      "Ações compradas: ['MCD', 'ICE', 'COST', 'AFL', 'YUM']\n",
      "Retorno de cada ação:\n",
      " - MCD: 9.020611962125182%\n",
      " - ICE: 8.920470000406565%\n",
      " - COST: 5.556481690057269%\n",
      " - AFL: 5.713577590454102%\n",
      " - YUM: 5.875571438808552%\n",
      "Valor do portfólio ao final do período: $305969.58\n",
      "\n",
      "Período: 2020-08-25 - 2020-09-22\n",
      "Ações compradas: ['DUK', 'WEC', 'RSG', 'D', 'MCD']\n",
      "Retorno de cada ação:\n",
      " - DUK: 3.670381691834386%\n",
      " - WEC: 1.883442745279159%\n",
      " - RSG: 2.29795104238698%\n",
      " - D: 0.5191813259310809%\n",
      " - MCD: 1.278879757195045%\n",
      "Valor do portfólio ao final do período: $311874.69\n",
      "\n",
      "Período: 2020-09-23 - 2020-10-20\n",
      "Ações compradas: ['EXC', 'CNP', 'AEP', 'ES', 'COST']\n",
      "Retorno de cada ação:\n",
      " - EXC: 17.08778346787077%\n",
      " - CNP: 11.50920767783196%\n",
      " - AEP: 11.72181439401794%\n",
      " - ES: 10.97792717085812%\n",
      " - COST: 7.886734448303264%\n",
      "Valor do portfólio ao final do período: $348790.35\n",
      "\n",
      "Período: 2020-10-21 - 2020-11-17\n",
      "Ações compradas: ['MAA', 'FAST', 'PAYX', 'GWW', 'FTV']\n",
      "Retorno de cada ação:\n",
      " - MAA: 11.12256037998041%\n",
      " - FAST: 7.310764170800772%\n",
      " - PAYX: 12.22009858099705%\n",
      " - GWW: 13.16721022279343%\n",
      " - FTV: 10.48180685261289%\n",
      "Valor do portfólio ao final do período: $386670.68\n",
      "\n",
      "Período: 2020-11-18 - 2020-12-16\n",
      "Ações compradas: ['AXP', 'ICE', 'YUM', 'FRT', 'AJG']\n",
      "Retorno de cada ação:\n",
      " - AXP: 2.475769578269442%\n",
      " - ICE: 8.66121270063602%\n",
      " - YUM: 2.7272304001807%\n",
      " - FRT: -2.557405607444775%\n",
      " - AJG: 9.522842624732682%\n",
      "Valor do portfólio ao final do período: $402779.11\n",
      "\n",
      "Período: 2020-12-17 - 2021-01-15\n",
      "Ações compradas: ['KMI', 'HIG', 'AWK', 'ES', 'AXP']\n",
      "Retorno de cada ação:\n",
      " - KMI: 11.69762872712931%\n",
      " - HIG: 8.120465456531539%\n",
      " - AWK: 7.58044484353629%\n",
      " - ES: 5.810861238600956%\n",
      " - AXP: 6.77386003428008%\n",
      "Valor do portfólio ao final do período: $434987.95\n",
      "\n",
      "Período: 2021-01-19 - 2021-02-16\n",
      "Ações compradas: ['FRT', 'REG', 'ESS', 'EQR', 'AVB']\n",
      "Retorno de cada ação:\n",
      " - FRT: 13.67174106486274%\n",
      " - REG: 10.699990350355%\n",
      " - ESS: 9.659788130900564%\n",
      " - EQR: 8.736341717086098%\n",
      " - AVB: 8.061692768235517%\n",
      "Valor do portfólio ao final do período: $479208.44\n",
      "\n",
      "Período: 2021-02-17 - 2021-03-16\n",
      "Ações compradas: ['ALL', 'WRB', 'HIG', 'FRT', 'EQR']\n",
      "Retorno de cada ação:\n",
      " - ALL: 10.26593557722269%\n",
      " - WRB: 11.28029170310253%\n",
      " - HIG: 11.21283727527159%\n",
      " - FRT: 6.598578389250803%\n",
      " - EQR: 9.818777471708803%\n",
      "Valor do portfólio ao final do período: $526339.95\n",
      "\n",
      "Período: 2021-03-17 - 2021-04-14\n",
      "Ações compradas: ['AWK', 'COST', 'AJG', 'XEL', 'O']\n",
      "Retorno de cada ação:\n",
      " - AWK: 11.50741283507968%\n",
      " - COST: 8.226440785048307%\n",
      " - AJG: 8.576796622213587%\n",
      " - XEL: 7.44889056070354%\n",
      " - O: 4.905586762100404%\n",
      "Valor do portfólio ao final do período: $569147.31\n",
      "\n",
      "Período: 2021-04-15 - 2021-05-12\n",
      "Ações compradas: ['MDLZ', 'AVB', 'L', 'AJG', 'WM']\n",
      "Retorno de cada ação:\n",
      " - MDLZ: 3.892172885004371%\n",
      " - AVB: 0.0829864028408223%\n",
      " - L: 4.938152050934859%\n",
      " - AJG: 5.427566331083598%\n",
      " - WM: 2.424601180506462%\n",
      "Valor do portfólio ao final do período: $588231.37\n",
      "\n",
      "Período: 2021-05-13 - 2021-06-10\n",
      "Ações compradas: ['BXP', 'O', 'EQR', 'ESS', 'AVB']\n",
      "Retorno de cada ação:\n",
      " - BXP: 8.75078292285977%\n",
      " - O: 8.551274654161855%\n",
      " - EQR: 8.13120930673878%\n",
      " - ESS: 7.671272098692847%\n",
      " - AVB: 7.575067723869757%\n",
      "Valor do portfólio ao final do período: $636089.41\n",
      "\n",
      "Período: 2021-06-11 - 2021-07-09\n",
      "Ações compradas: ['KMB', 'COST', 'NEE', 'PAYX', 'JNJ']\n",
      "Retorno de cada ação:\n",
      " - KMB: 4.646357078064784%\n",
      " - COST: 8.33036470337535%\n",
      " - NEE: 2.279434885696627%\n",
      " - PAYX: 7.494706787108152%\n",
      " - JNJ: 3.184179334372921%\n",
      "Valor do portfólio ao final do período: $669083.42\n",
      "\n",
      "Período: 2021-07-12 - 2021-08-06\n",
      "Ações compradas: ['ES', 'NEE', 'CMS', 'SO', 'EXC']\n",
      "Retorno de cada ação:\n",
      " - ES: 3.256103908311127%\n",
      " - NEE: 4.815784518051842%\n",
      " - CMS: 3.511197115288176%\n",
      " - SO: 3.187859263198847%\n",
      " - EXC: 4.007810621826157%\n",
      "Valor do portfólio ao final do período: $694212.53\n",
      "\n",
      "Período: 2021-08-09 - 2021-09-03\n",
      "Ações compradas: ['ETR', 'ESS', 'CPT', 'MAA', 'NEE']\n",
      "Retorno de cada ação:\n",
      " - ETR: 3.498660797613085%\n",
      " - ESS: 6.363693726476292%\n",
      " - CPT: 5.643758872467016%\n",
      " - MAA: 5.109463251730763%\n",
      " - NEE: 3.646060824940061%\n",
      "Valor do portfólio ao final do período: $727898.00\n",
      "\n",
      "Período: 2021-09-07 - 2021-10-04\n",
      "Ações compradas: ['PAYX', 'WRB', 'MCD', 'HIG', 'EQR']\n",
      "Retorno de cada ação:\n",
      " - PAYX: 4.181520183963619%\n",
      " - WRB: 3.254589501498877%\n",
      " - MCD: 1.617426404034425%\n",
      " - HIG: 1.768429120670324%\n",
      " - EQR: 2.656395731291385%\n",
      "Valor do portfólio ao final do período: $747519.74\n",
      "\n",
      "Período: 2021-10-05 - 2021-11-01\n",
      "Ações compradas: ['WMT', 'ROP', 'FE', 'INVH', 'NEE']\n",
      "Retorno de cada ação:\n",
      " - WMT: 7.002328510260111%\n",
      " - ROP: 5.932255068824582%\n",
      " - FE: 6.880899158211585%\n",
      " - INVH: 6.531704203053616%\n",
      " - NEE: 6.492021952053216%\n",
      "Valor do portfólio ao final do período: $796615.65\n",
      "\n",
      "Período: 2021-11-02 - 2021-11-30\n",
      "Ações compradas: ['PNW', 'ED', 'SBAC', 'XEL', 'EVRG']\n",
      "Retorno de cada ação:\n",
      " - PNW: 2.050388860760321%\n",
      " - ED: 0.2572818238776401%\n",
      " - SBAC: 0.04792604271072028%\n",
      " - XEL: -0.1097730566033025%\n",
      " - EVRG: -1.589431076294387%\n",
      "Valor do portfólio ao final do período: $797661.44\n",
      "\n",
      "Período: 2021-12-01 - 2021-12-29\n",
      "Ações compradas: ['ATO', 'NI', 'CL', 'ETR', 'PAYX']\n",
      "Retorno de cada ação:\n",
      " - ATO: 10.31053737062036%\n",
      " - NI: 7.572001897345797%\n",
      " - CL: 7.747458073188486%\n",
      " - ETR: 6.966615764437613%\n",
      " - PAYX: 11.93037165756504%\n",
      "Valor do portfólio ao final do período: $868696.36\n",
      "\n",
      "Período: 2021-12-30 - 2022-01-27\n",
      "Ações compradas: ['KMI', 'SRE', 'AFL', 'ALL', 'ACGL']\n",
      "Retorno de cada ação:\n",
      " - KMI: 5.286031508336497%\n",
      " - SRE: 1.176371446727519%\n",
      " - AFL: 2.80184576340528%\n",
      " - ALL: -0.7291384237383151%\n",
      " - ACGL: -0.7785653595829636%\n",
      "Valor do portfólio ao final do período: $882172.52\n",
      "\n",
      "Período: 2022-01-28 - 2022-02-25\n",
      "Ações compradas: ['SYY', 'BXP', 'DRI', 'HOLX', 'ALL']\n",
      "Retorno de cada ação:\n",
      " - SYY: 8.687603002844549%\n",
      " - BXP: 6.638687653285468%\n",
      " - DRI: 2.959001957209407%\n",
      " - HOLX: 0.3182233369395679%\n",
      " - ALL: 6.065764456198273%\n",
      "Valor do portfólio ao final do período: $925697.64\n",
      "\n",
      "Período: 2022-02-28 - 2022-03-25\n",
      "Ações compradas: ['PLD', 'WRB', 'EVRG', 'PSA', 'AWK']\n",
      "Retorno de cada ação:\n",
      " - PLD: 5.563831000850186%\n",
      " - WRB: 9.236781853169111%\n",
      " - EVRG: 7.79494938667581%\n",
      " - PSA: 1.368828489743946%\n",
      " - AWK: 2.931940038333948%\n",
      "Valor do portfólio ao final do período: $975493.38\n",
      "\n",
      "Período: 2022-03-28 - 2022-04-25\n",
      "Ações compradas: ['PM', 'CL', 'AMT', 'PPL', 'CCI']\n",
      "Retorno de cada ação:\n",
      " - PM: 8.749897769002555%\n",
      " - CL: 8.175328073108842%\n",
      " - AMT: 3.783584204853031%\n",
      " - PPL: 4.11579719376612%\n",
      " - CCI: 4.382493816591609%\n",
      "Valor do portfólio ao final do período: $1032476.05\n",
      "\n"
     ]
    },
    {
     "name": "stderr",
     "output_type": "stream",
     "text": [
      "[*********************100%***********************]  1 of 1 completed"
     ]
    },
    {
     "name": "stdout",
     "output_type": "stream",
     "text": [
      "Período: 2022-04-26 - 2022-05-23\n",
      "Ações compradas: ['HOLX', 'GILD', 'NI', 'KMI', 'PNW']\n",
      "Retorno de cada ação:\n",
      " - HOLX: 9.051267057995403%\n",
      " - GILD: 7.027302884126526%\n",
      " - NI: 5.446473265168865%\n",
      " - KMI: 5.415419361546443%\n",
      " - PNW: 5.452546782698813%\n",
      "Valor do portfólio ao final do período: $1099366.06\n",
      "\n",
      "Período: 2022-05-24 - 2022-06-22\n",
      "Ações compradas: ['NDAQ', 'CBOE', 'IBM', 'K', 'HII']\n",
      "Retorno de cada ação:\n",
      " - NDAQ: -0.9222760468970544%\n",
      " - CBOE: -2.233061398944542%\n",
      " - IBM: -1.585003305208495%\n",
      " - K: -1.910382958613686%\n",
      " - HII: -2.335836710470279%\n",
      "Valor do portfólio ao final do período: $1079607.02\n",
      "\n",
      "Período: 2022-06-23 - 2022-07-21\n",
      "Ações compradas: ['HD', 'VICI', 'CBOE', 'WMT', 'VRSK']\n",
      "Retorno de cada ação:\n",
      " - HD: 12.13344957732011%\n",
      " - VICI: 7.847793077436845%\n",
      " - CBOE: 8.346929275840708%\n",
      " - WMT: 7.991087168387426%\n",
      " - VRSK: 8.924345484247887%\n",
      "Valor do portfólio ao final do período: $1177297.65\n",
      "\n",
      "Período: 2022-07-22 - 2022-08-18\n",
      "Ações compradas: ['AFL', 'TJX', 'ALL', 'WRB', 'ECL']\n",
      "Retorno de cada ação:\n",
      " - AFL: 14.20882830113481%\n",
      " - TJX: 11.67809866993204%\n",
      " - ALL: 12.84963822068831%\n",
      " - WRB: 6.743089112564267%\n",
      " - ECL: 8.778927127622849%\n",
      "Valor do portfólio ao final do período: $1305054.65\n",
      "\n",
      "Período: 2022-08-19 - 2022-09-16\n",
      "Ações compradas: ['WRB', 'ACGL', 'WMT', 'YUM', 'CNP']\n",
      "Retorno de cada ação:\n",
      " - WRB: 0.9455726118680547%\n",
      " - ACGL: -0.3433476465357038%\n",
      " - WMT: -1.32758461789767%\n",
      " - YUM: 1.400640595682244%\n",
      " - CNP: -0.7152938855780259%\n",
      "Valor do portfólio ao final do período: $1304950.21\n",
      "\n",
      "Período: 2022-09-19 - 2022-10-14\n",
      "Ações compradas: ['PCAR', 'CINF', 'CPB', 'ORLY', 'HIG']\n",
      "Retorno de cada ação:\n",
      " - PCAR: 3.892629158281333%\n",
      " - CINF: 6.313262121738051%\n",
      " - CPB: 3.163732842099003%\n",
      " - ORLY: 5.381976873389304%\n",
      " - HIG: 3.712866326060631%\n",
      "Valor do portfólio ao final do período: $1363580.24\n",
      "\n",
      "Período: 2022-10-17 - 2022-11-11\n",
      "Ações compradas: ['SPG', 'AME', 'NDAQ', 'KIM', 'ETN']\n",
      "Retorno de cada ação:\n",
      " - SPG: 20.1031395951396%\n",
      " - AME: 18.75930186036527%\n",
      " - NDAQ: 15.54567498358672%\n",
      " - KIM: 14.32397415713208%\n",
      " - ETN: 18.30586146593714%\n",
      "Valor do portfólio ao final do período: $1600946.70\n",
      "\n",
      "Período: 2022-11-14 - 2022-12-12\n",
      "Ações compradas: ['EXC', 'AEP', 'KMB', 'PG', 'ES']\n",
      "Retorno de cada ação:\n",
      " - EXC: 12.56966597048334%\n",
      " - AEP: 10.11414958998444%\n",
      " - KMB: 7.668174662550486%\n",
      " - PG: 7.913024308355814%\n",
      " - ES: 9.28628301074013%\n",
      "Valor do portfólio ao final do período: $1753200.88\n",
      "\n",
      "Período: 2022-12-13 - 2023-01-11\n",
      "Ações compradas: ['CINF', 'V', 'ALL', 'PEG', 'ECL']\n",
      "Retorno de cada ação:\n",
      " - CINF: 7.23524182009648%\n",
      " - V: 7.094052834261348%\n",
      " - ALL: 5.227224255855869%\n",
      " - PEG: 7.681711563737265%\n",
      " - ECL: 7.210025694179794%\n",
      "Valor do portfólio ao final do período: $1873990.31\n",
      "\n",
      "Período: 2023-01-12 - 2023-02-09\n",
      "Ações compradas: ['MAA', 'AVB', 'CPT', 'INVH', 'EQR']\n",
      "Retorno de cada ação:\n",
      " - MAA: 8.41220057031469%\n",
      " - AVB: 6.718458599019067%\n",
      " - CPT: 5.756796911626381%\n",
      " - INVH: 5.253605152198068%\n",
      " - EQR: 5.774371354038265%\n",
      "Valor do portfólio ao final do período: $1993608.73\n",
      "\n",
      "Período: 2023-02-10 - 2023-03-10\n",
      "Ações compradas: ['WM', 'ACGL', 'KO', 'ED', 'ROP']\n",
      "Retorno de cada ação:\n",
      " - WM: -1.39618427196065%\n",
      " - ACGL: -2.0358868061013%\n",
      " - KO: -0.6397406329298195%\n",
      " - ED: -0.6379754674849848%\n",
      " - ROP: -0.2993062578220398%\n",
      "Valor do portfólio ao final do período: $1973636.39\n",
      "\n",
      "Período: 2023-03-13 - 2023-04-10\n",
      "Ações compradas: ['XOM', 'MSFT', 'KMB', 'DGX', 'PG']\n",
      "Retorno de cada ação:\n",
      " - XOM: 12.55065255858482%\n",
      " - MSFT: 4.66500404807569%\n",
      " - KMB: 6.601004652263269%\n",
      " - DGX: 7.262525586069795%\n",
      " - PG: 5.493969241612273%\n",
      "Valor do portfólio ao final do período: $2118000.61\n",
      "\n",
      "Período: 2023-04-11 - 2023-05-08\n",
      "Ações compradas: ['INVH', 'CPT', 'AVB', 'HSY', 'EQR']\n",
      "Retorno de cada ação:\n",
      " - INVH: 6.550844187106962%\n",
      " - CPT: 6.927656882495116%\n",
      " - AVB: 5.998019398892583%\n",
      " - HSY: 6.966391378299982%\n",
      " - EQR: 4.780616087318296%\n",
      "Valor do portfólio ao final do período: $2250263.52\n",
      "\n",
      "Período: 2023-05-09 - 2023-06-06\n",
      "Ações compradas: ['PAYX', 'ESS', 'INVH', 'HIG', 'KMI']\n",
      "Retorno de cada ação:\n",
      " - PAYX: 4.14168345398839%\n",
      " - ESS: 4.699278196358271%\n",
      " - INVH: 0.5571030666459847%\n",
      " - HIG: 2.147147924055122%\n",
      " - KMI: 0.2971817961905269%\n",
      "Valor do portfólio ao final do período: $2303560.53\n",
      "\n",
      "Período: 2023-06-07 - 2023-07-06\n",
      "Ações compradas: ['V', 'ROP', 'WRB', 'PG', 'VZ']\n",
      "Retorno de cada ação:\n",
      " - V: 5.467447904444412%\n",
      " - ROP: 4.939724615947991%\n",
      " - WRB: 4.318797911378935%\n",
      " - PG: 4.425736399123982%\n",
      " - VZ: 4.179872297350613%\n",
      "Valor do portfólio ao final do período: $2411051.94\n",
      "\n",
      "Período: 2023-07-07 - 2023-08-03\n",
      "Ações compradas: ['BXP', 'PAYX', 'PG', 'WRB', 'ETR']\n",
      "Retorno de cada ação:\n",
      " - BXP: 9.498219247503851%\n",
      " - PAYX: 5.025104932036456%\n",
      " - PG: 5.958765860244241%\n",
      " - WRB: 4.461229770853969%\n",
      " - ETR: -0.05085543223723261%\n",
      "Valor do portfólio ao final do período: $2531085.99\n",
      "\n",
      "Período: 2023-08-04 - 2023-08-31\n",
      "Ações compradas: ['MMC', 'ATO', 'V', 'KMB', 'MSFT']\n",
      "Retorno de cada ação:\n",
      " - MMC: 2.208948197120341%\n",
      " - ATO: -0.6746805510026656%\n",
      " - V: 2.627013105902471%\n",
      " - KMB: 0.7948968296766069%\n",
      " - MSFT: 1.91309446205883%\n",
      "Valor do portfólio ao final do período: $2565859.43\n",
      "\n",
      "Período: 2023-09-01 - 2023-09-29\n",
      "Ações compradas: ['WRB', 'CB', 'TRV', 'L', 'AFL']\n",
      "Retorno de cada ação:\n",
      " - WRB: 3.671269341211639%\n",
      " - CB: 2.429127397248309%\n",
      " - TRV: 1.629781264629835%\n",
      " - L: 2.010279428638911%\n",
      " - AFL: 2.77427239767192%\n",
      "Valor do portfólio ao final do período: $2630081.50\n",
      "\n",
      "Período: 2023-10-02 - 2023-10-27\n",
      "Ações compradas: ['OKE', 'SRE', 'ED', 'WMB', 'GIS']\n",
      "Retorno de cada ação:\n",
      " - OKE: 4.692764454551781%\n",
      " - SRE: 5.105163095013236%\n",
      " - ED: 3.147212132583678%\n",
      " - WMB: 2.047249425950352%\n",
      " - GIS: 5.557427892723161%\n",
      "Valor do portfólio ao final do período: $2738176.89\n",
      "\n",
      "Período: 2023-10-30 - 2023-11-27\n",
      "Ações compradas: ['ACN', 'SYY', 'PAYX', 'AME', 'VRSK']\n",
      "Retorno de cada ação:\n",
      " - ACN: 7.593988552101896%\n",
      " - SYY: 9.09386902977344%\n",
      " - PAYX: 6.375685353141416%\n",
      " - AME: 6.961437384910771%\n",
      " - VRSK: 4.728297936316914%\n",
      "Valor do portfólio ao final do período: $2928498.14\n",
      "\n",
      "Período: 2023-11-28 - 2023-12-26\n",
      "Ações compradas: ['PSA', 'ICE', 'ACN', 'VICI', 'DTE']\n",
      "Retorno de cada ação:\n",
      " - PSA: 13.74293359044671%\n",
      " - ICE: 10.66936931099485%\n",
      " - ACN: 4.446214725179948%\n",
      " - VICI: 5.046362975334779%\n",
      " - DTE: 2.743433752293285%\n",
      "Valor do portfólio ao final do período: $3143147.18\n",
      "\n",
      "Colunas disponíveis em sp500: MultiIndex([('Adj Close', '^GSPC'),\n",
      "            (    'Close', '^GSPC'),\n",
      "            (     'High', '^GSPC'),\n",
      "            (      'Low', '^GSPC'),\n",
      "            (     'Open', '^GSPC'),\n",
      "            (   'Volume', '^GSPC')],\n",
      "           names=['Price', 'Ticker'])\n",
      "dtype de sp500['Date']: datetime64[ns]\n",
      "dtype de df_portfolio['Data']: datetime64[ns]\n",
      "Colunas de sp500_interp após reset_index: MultiIndex([(             'Data', ''),\n",
      "            ('Retorno Acumulado', '')],\n",
      "           names=['Price', 'Ticker'])\n",
      "Primeiras linhas de sp500_interp:\n",
      "Price        Data Retorno Acumulado\n",
      "Ticker                             \n",
      "0      2019-03-21          1.007745\n",
      "1      2019-04-18          1.025447\n",
      "2      2019-05-17          1.009386\n",
      "3      2019-06-17          1.020025\n",
      "4      2019-07-16          1.060397\n"
     ]
    },
    {
     "name": "stderr",
     "output_type": "stream",
     "text": [
      "\n"
     ]
    },
    {
     "data": {
      "application/vnd.plotly.v1+json": {
       "config": {
        "plotlyServerURL": "https://plot.ly"
       },
       "data": [
        {
         "mode": "lines+markers",
         "name": "Retorno Acumulado da Estratégia",
         "type": "scatter",
         "x": [
          "2019-03-21T00:00:00",
          "2019-04-18T00:00:00",
          "2019-05-17T00:00:00",
          "2019-06-17T00:00:00",
          "2019-07-16T00:00:00",
          "2019-08-13T00:00:00",
          "2019-09-11T00:00:00",
          "2019-10-09T00:00:00",
          "2019-11-06T00:00:00",
          "2019-12-05T00:00:00",
          "2020-01-06T00:00:00",
          "2020-02-04T00:00:00",
          "2020-03-04T00:00:00",
          "2020-04-30T00:00:00",
          "2020-05-29T00:00:00",
          "2020-06-26T00:00:00",
          "2020-07-27T00:00:00",
          "2020-08-24T00:00:00",
          "2020-09-22T00:00:00",
          "2020-10-20T00:00:00",
          "2020-11-17T00:00:00",
          "2020-12-16T00:00:00",
          "2021-01-15T00:00:00",
          "2021-02-16T00:00:00",
          "2021-03-16T00:00:00",
          "2021-04-14T00:00:00",
          "2021-05-12T00:00:00",
          "2021-06-10T00:00:00",
          "2021-07-09T00:00:00",
          "2021-08-06T00:00:00",
          "2021-09-03T00:00:00",
          "2021-10-04T00:00:00",
          "2021-11-01T00:00:00",
          "2021-11-30T00:00:00",
          "2021-12-29T00:00:00",
          "2022-01-27T00:00:00",
          "2022-02-25T00:00:00",
          "2022-03-25T00:00:00",
          "2022-04-25T00:00:00",
          "2022-05-23T00:00:00",
          "2022-06-22T00:00:00",
          "2022-07-21T00:00:00",
          "2022-08-18T00:00:00",
          "2022-09-16T00:00:00",
          "2022-10-14T00:00:00",
          "2022-11-11T00:00:00",
          "2022-12-12T00:00:00",
          "2023-01-11T00:00:00",
          "2023-02-09T00:00:00",
          "2023-03-10T00:00:00",
          "2023-04-10T00:00:00",
          "2023-05-08T00:00:00",
          "2023-06-06T00:00:00",
          "2023-07-06T00:00:00",
          "2023-08-03T00:00:00",
          "2023-08-31T00:00:00",
          "2023-09-29T00:00:00",
          "2023-10-27T00:00:00",
          "2023-11-27T00:00:00",
          "2023-12-26T00:00:00"
         ],
         "y": [
          1,
          1.048640983723576,
          1.1108609520978667,
          1.1728616421775395,
          1.231442119625227,
          1.329156083293362,
          1.407989192695791,
          1.4568087462927517,
          1.5405659480508958,
          1.6257634093849302,
          1.7085924946082447,
          1.8334414454525791,
          1.900595595686996,
          2.131521111385941,
          2.3816530672135103,
          2.513899232664209,
          2.726569721417007,
          2.917902458261797,
          2.9742170219176227,
          3.3262659727977217,
          3.6875146909998033,
          3.8411339695273217,
          4.148296088229489,
          4.5700081685396325,
          5.0194814545460344,
          5.427717161866027,
          5.609713716432138,
          6.066115611871187,
          6.380765547780351,
          6.620411219093807,
          6.941655252936487,
          7.128779522996987,
          7.596986482804154,
          7.606959694139067,
          8.28438965092883,
          8.412906132104238,
          8.827986812916743,
          9.302867719601894,
          9.846287314820518,
          10.484189068954302,
          10.295755471905768,
          11.227389650818893,
          12.4457541220931,
          12.444758139605955,
          13.003887864709952,
          15.267551401890632,
          16.71953516079228,
          17.871452821254366,
          19.012203116758375,
          18.821735313074907,
          20.19847583992665,
          21.459811189155563,
          21.968082286456838,
          22.993182386781406,
          24.13789633379949,
          24.46951588676117,
          25.081974647519253,
          26.11283462557082,
          27.927847841174334,
          29.974864935016345
         ],
         "yaxis": "y"
        },
        {
         "mode": "lines+markers",
         "name": "Retorno Acumulado do S&P500",
         "type": "scatter",
         "x": [
          "2019-03-21T00:00:00",
          "2019-04-18T00:00:00",
          "2019-05-17T00:00:00",
          "2019-06-17T00:00:00",
          "2019-07-16T00:00:00",
          "2019-08-13T00:00:00",
          "2019-09-11T00:00:00",
          "2019-10-09T00:00:00",
          "2019-11-06T00:00:00",
          "2019-12-05T00:00:00",
          "2020-01-06T00:00:00",
          "2020-02-04T00:00:00",
          "2020-03-04T00:00:00",
          "2020-04-30T00:00:00",
          "2020-05-29T00:00:00",
          "2020-06-26T00:00:00",
          "2020-07-27T00:00:00",
          "2020-08-24T00:00:00",
          "2020-09-22T00:00:00",
          "2020-10-20T00:00:00",
          "2020-11-17T00:00:00",
          "2020-12-16T00:00:00",
          "2021-01-15T00:00:00",
          "2021-02-16T00:00:00",
          "2021-03-16T00:00:00",
          "2021-04-14T00:00:00",
          "2021-05-12T00:00:00",
          "2021-06-10T00:00:00",
          "2021-07-09T00:00:00",
          "2021-08-06T00:00:00",
          "2021-09-03T00:00:00",
          "2021-10-04T00:00:00",
          "2021-11-01T00:00:00",
          "2021-11-30T00:00:00",
          "2021-12-29T00:00:00",
          "2022-01-27T00:00:00",
          "2022-02-25T00:00:00",
          "2022-03-25T00:00:00",
          "2022-04-25T00:00:00",
          "2022-05-23T00:00:00",
          "2022-06-22T00:00:00",
          "2022-07-21T00:00:00",
          "2022-08-18T00:00:00",
          "2022-09-16T00:00:00",
          "2022-10-14T00:00:00",
          "2022-11-11T00:00:00",
          "2022-12-12T00:00:00",
          "2023-01-11T00:00:00",
          "2023-02-09T00:00:00",
          "2023-03-10T00:00:00",
          "2023-04-10T00:00:00",
          "2023-05-08T00:00:00",
          "2023-06-06T00:00:00",
          "2023-07-06T00:00:00",
          "2023-08-03T00:00:00",
          "2023-08-31T00:00:00",
          "2023-09-29T00:00:00",
          "2023-10-27T00:00:00",
          "2023-11-27T00:00:00",
          "2023-12-26T00:00:00"
         ],
         "y": [
          1.0077445840222645,
          1.0254470936135835,
          1.009386040099892,
          1.0200251264206435,
          1.060396655486921,
          1.0329622684859228,
          1.059298818086128,
          1.0305195177892064,
          1.0860731582504306,
          1.1004221748849203,
          1.1459049949662699,
          1.1640169421501132,
          1.1049016858556238,
          1.0280591865265285,
          1.0746115772163438,
          1.0621651397715306,
          1.1434799110147569,
          1.2112081795823761,
          1.1703636988200825,
          1.215387614422335,
          1.2741286804354646,
          1.3064766632637328,
          1.3301552725927055,
          1.388165710967565,
          1.398797730590234,
          1.4559645603367586,
          1.4342132636407505,
          1.4963890034594047,
          1.5424082031610182,
          1.5660480318297847,
          1.6009623463919576,
          1.518020166288022,
          1.6285802090053496,
          1.6121061845500932,
          1.691903166932125,
          1.5272154917189482,
          1.5477383894581394,
          1.6036556201536005,
          1.516488244030664,
          1.4026947560446537,
          1.3272042367095644,
          1.4115900915240798,
          1.5121182668802282,
          1.3672475090320133,
          1.2647885738731046,
          1.4094650837033127,
          1.4086285417730593,
          1.4012334145888679,
          1.440729448706196,
          1.3631034076824626,
          1.4504754595120388,
          1.4607157944666338,
          1.5121570475404316,
          1.5572479244159718,
          1.5891230417274687,
          1.5911598020014568,
          1.513639502911217,
          1.4533912480840159,
          1.6062571991986658,
          1.6854398959230434
         ],
         "yaxis": "y"
        },
        {
         "mode": "lines+markers",
         "name": "Capital do Portfólio",
         "type": "scatter",
         "x": [
          "2019-03-21T00:00:00",
          "2019-04-18T00:00:00",
          "2019-05-17T00:00:00",
          "2019-06-17T00:00:00",
          "2019-07-16T00:00:00",
          "2019-08-13T00:00:00",
          "2019-09-11T00:00:00",
          "2019-10-09T00:00:00",
          "2019-11-06T00:00:00",
          "2019-12-05T00:00:00",
          "2020-01-06T00:00:00",
          "2020-02-04T00:00:00",
          "2020-03-04T00:00:00",
          "2020-04-30T00:00:00",
          "2020-05-29T00:00:00",
          "2020-06-26T00:00:00",
          "2020-07-27T00:00:00",
          "2020-08-24T00:00:00",
          "2020-09-22T00:00:00",
          "2020-10-20T00:00:00",
          "2020-11-17T00:00:00",
          "2020-12-16T00:00:00",
          "2021-01-15T00:00:00",
          "2021-02-16T00:00:00",
          "2021-03-16T00:00:00",
          "2021-04-14T00:00:00",
          "2021-05-12T00:00:00",
          "2021-06-10T00:00:00",
          "2021-07-09T00:00:00",
          "2021-08-06T00:00:00",
          "2021-09-03T00:00:00",
          "2021-10-04T00:00:00",
          "2021-11-01T00:00:00",
          "2021-11-30T00:00:00",
          "2021-12-29T00:00:00",
          "2022-01-27T00:00:00",
          "2022-02-25T00:00:00",
          "2022-03-25T00:00:00",
          "2022-04-25T00:00:00",
          "2022-05-23T00:00:00",
          "2022-06-22T00:00:00",
          "2022-07-21T00:00:00",
          "2022-08-18T00:00:00",
          "2022-09-16T00:00:00",
          "2022-10-14T00:00:00",
          "2022-11-11T00:00:00",
          "2022-12-12T00:00:00",
          "2023-01-11T00:00:00",
          "2023-02-09T00:00:00",
          "2023-03-10T00:00:00",
          "2023-04-10T00:00:00",
          "2023-05-08T00:00:00",
          "2023-06-06T00:00:00",
          "2023-07-06T00:00:00",
          "2023-08-03T00:00:00",
          "2023-08-31T00:00:00",
          "2023-09-29T00:00:00",
          "2023-10-27T00:00:00",
          "2023-11-27T00:00:00",
          "2023-12-26T00:00:00"
         ],
         "y": [
          104859.427486368,
          109959.89319199593,
          116484.24345394397,
          122985.60031945819,
          129128.31564650079,
          139374.5459341652,
          147640.9406530741,
          152760.13109339145,
          161542.86331761064,
          170476.62033638946,
          179162.0307921258,
          192253.62029993642,
          199295.36604685092,
          223510.08341503658,
          249738.777099161,
          263606.0342955888,
          285906.5399894532,
          305969.5812343978,
          311874.6941384923,
          348790.3455749559,
          386670.6793458105,
          402779.10894307494,
          434987.95285568404,
          479208.4401610909,
          526339.9516021388,
          569147.3141512057,
          588231.3686674996,
          636089.4101269316,
          669083.4222649889,
          694212.5301585043,
          727897.9956306592,
          747519.7394580077,
          796615.6532085203,
          797661.4384392998,
          868696.3558703894,
          882172.5205090053,
          925697.6430596563,
          975493.3830588685,
          1032476.0506983673,
          1099366.063429386,
          1079607.0243236795,
          1177297.6509512423,
          1305054.651878787,
          1304950.2137253985,
          1363580.236590414,
          1600946.699120947,
          1753200.8847988783,
          1873990.311186369,
          1993608.7340778245,
          1973636.38922899,
          2118000.6126719443,
          2250263.515260406,
          2303560.531531286,
          2411051.941167539,
          2531085.9902875153,
          2565859.4267543624,
          2630081.5017664656,
          2738176.8888835628,
          2928498.135551939,
          3143147.176067021
         ],
         "yaxis": "y2"
        }
       ],
       "layout": {
        "legend": {
         "x": 0.01,
         "y": 0.99
        },
        "template": {
         "data": {
          "bar": [
           {
            "error_x": {
             "color": "#2a3f5f"
            },
            "error_y": {
             "color": "#2a3f5f"
            },
            "marker": {
             "line": {
              "color": "#E5ECF6",
              "width": 0.5
             },
             "pattern": {
              "fillmode": "overlay",
              "size": 10,
              "solidity": 0.2
             }
            },
            "type": "bar"
           }
          ],
          "barpolar": [
           {
            "marker": {
             "line": {
              "color": "#E5ECF6",
              "width": 0.5
             },
             "pattern": {
              "fillmode": "overlay",
              "size": 10,
              "solidity": 0.2
             }
            },
            "type": "barpolar"
           }
          ],
          "carpet": [
           {
            "aaxis": {
             "endlinecolor": "#2a3f5f",
             "gridcolor": "white",
             "linecolor": "white",
             "minorgridcolor": "white",
             "startlinecolor": "#2a3f5f"
            },
            "baxis": {
             "endlinecolor": "#2a3f5f",
             "gridcolor": "white",
             "linecolor": "white",
             "minorgridcolor": "white",
             "startlinecolor": "#2a3f5f"
            },
            "type": "carpet"
           }
          ],
          "choropleth": [
           {
            "colorbar": {
             "outlinewidth": 0,
             "ticks": ""
            },
            "type": "choropleth"
           }
          ],
          "contour": [
           {
            "colorbar": {
             "outlinewidth": 0,
             "ticks": ""
            },
            "colorscale": [
             [
              0,
              "#0d0887"
             ],
             [
              0.1111111111111111,
              "#46039f"
             ],
             [
              0.2222222222222222,
              "#7201a8"
             ],
             [
              0.3333333333333333,
              "#9c179e"
             ],
             [
              0.4444444444444444,
              "#bd3786"
             ],
             [
              0.5555555555555556,
              "#d8576b"
             ],
             [
              0.6666666666666666,
              "#ed7953"
             ],
             [
              0.7777777777777778,
              "#fb9f3a"
             ],
             [
              0.8888888888888888,
              "#fdca26"
             ],
             [
              1,
              "#f0f921"
             ]
            ],
            "type": "contour"
           }
          ],
          "contourcarpet": [
           {
            "colorbar": {
             "outlinewidth": 0,
             "ticks": ""
            },
            "type": "contourcarpet"
           }
          ],
          "heatmap": [
           {
            "colorbar": {
             "outlinewidth": 0,
             "ticks": ""
            },
            "colorscale": [
             [
              0,
              "#0d0887"
             ],
             [
              0.1111111111111111,
              "#46039f"
             ],
             [
              0.2222222222222222,
              "#7201a8"
             ],
             [
              0.3333333333333333,
              "#9c179e"
             ],
             [
              0.4444444444444444,
              "#bd3786"
             ],
             [
              0.5555555555555556,
              "#d8576b"
             ],
             [
              0.6666666666666666,
              "#ed7953"
             ],
             [
              0.7777777777777778,
              "#fb9f3a"
             ],
             [
              0.8888888888888888,
              "#fdca26"
             ],
             [
              1,
              "#f0f921"
             ]
            ],
            "type": "heatmap"
           }
          ],
          "heatmapgl": [
           {
            "colorbar": {
             "outlinewidth": 0,
             "ticks": ""
            },
            "colorscale": [
             [
              0,
              "#0d0887"
             ],
             [
              0.1111111111111111,
              "#46039f"
             ],
             [
              0.2222222222222222,
              "#7201a8"
             ],
             [
              0.3333333333333333,
              "#9c179e"
             ],
             [
              0.4444444444444444,
              "#bd3786"
             ],
             [
              0.5555555555555556,
              "#d8576b"
             ],
             [
              0.6666666666666666,
              "#ed7953"
             ],
             [
              0.7777777777777778,
              "#fb9f3a"
             ],
             [
              0.8888888888888888,
              "#fdca26"
             ],
             [
              1,
              "#f0f921"
             ]
            ],
            "type": "heatmapgl"
           }
          ],
          "histogram": [
           {
            "marker": {
             "pattern": {
              "fillmode": "overlay",
              "size": 10,
              "solidity": 0.2
             }
            },
            "type": "histogram"
           }
          ],
          "histogram2d": [
           {
            "colorbar": {
             "outlinewidth": 0,
             "ticks": ""
            },
            "colorscale": [
             [
              0,
              "#0d0887"
             ],
             [
              0.1111111111111111,
              "#46039f"
             ],
             [
              0.2222222222222222,
              "#7201a8"
             ],
             [
              0.3333333333333333,
              "#9c179e"
             ],
             [
              0.4444444444444444,
              "#bd3786"
             ],
             [
              0.5555555555555556,
              "#d8576b"
             ],
             [
              0.6666666666666666,
              "#ed7953"
             ],
             [
              0.7777777777777778,
              "#fb9f3a"
             ],
             [
              0.8888888888888888,
              "#fdca26"
             ],
             [
              1,
              "#f0f921"
             ]
            ],
            "type": "histogram2d"
           }
          ],
          "histogram2dcontour": [
           {
            "colorbar": {
             "outlinewidth": 0,
             "ticks": ""
            },
            "colorscale": [
             [
              0,
              "#0d0887"
             ],
             [
              0.1111111111111111,
              "#46039f"
             ],
             [
              0.2222222222222222,
              "#7201a8"
             ],
             [
              0.3333333333333333,
              "#9c179e"
             ],
             [
              0.4444444444444444,
              "#bd3786"
             ],
             [
              0.5555555555555556,
              "#d8576b"
             ],
             [
              0.6666666666666666,
              "#ed7953"
             ],
             [
              0.7777777777777778,
              "#fb9f3a"
             ],
             [
              0.8888888888888888,
              "#fdca26"
             ],
             [
              1,
              "#f0f921"
             ]
            ],
            "type": "histogram2dcontour"
           }
          ],
          "mesh3d": [
           {
            "colorbar": {
             "outlinewidth": 0,
             "ticks": ""
            },
            "type": "mesh3d"
           }
          ],
          "parcoords": [
           {
            "line": {
             "colorbar": {
              "outlinewidth": 0,
              "ticks": ""
             }
            },
            "type": "parcoords"
           }
          ],
          "pie": [
           {
            "automargin": true,
            "type": "pie"
           }
          ],
          "scatter": [
           {
            "fillpattern": {
             "fillmode": "overlay",
             "size": 10,
             "solidity": 0.2
            },
            "type": "scatter"
           }
          ],
          "scatter3d": [
           {
            "line": {
             "colorbar": {
              "outlinewidth": 0,
              "ticks": ""
             }
            },
            "marker": {
             "colorbar": {
              "outlinewidth": 0,
              "ticks": ""
             }
            },
            "type": "scatter3d"
           }
          ],
          "scattercarpet": [
           {
            "marker": {
             "colorbar": {
              "outlinewidth": 0,
              "ticks": ""
             }
            },
            "type": "scattercarpet"
           }
          ],
          "scattergeo": [
           {
            "marker": {
             "colorbar": {
              "outlinewidth": 0,
              "ticks": ""
             }
            },
            "type": "scattergeo"
           }
          ],
          "scattergl": [
           {
            "marker": {
             "colorbar": {
              "outlinewidth": 0,
              "ticks": ""
             }
            },
            "type": "scattergl"
           }
          ],
          "scattermapbox": [
           {
            "marker": {
             "colorbar": {
              "outlinewidth": 0,
              "ticks": ""
             }
            },
            "type": "scattermapbox"
           }
          ],
          "scatterpolar": [
           {
            "marker": {
             "colorbar": {
              "outlinewidth": 0,
              "ticks": ""
             }
            },
            "type": "scatterpolar"
           }
          ],
          "scatterpolargl": [
           {
            "marker": {
             "colorbar": {
              "outlinewidth": 0,
              "ticks": ""
             }
            },
            "type": "scatterpolargl"
           }
          ],
          "scatterternary": [
           {
            "marker": {
             "colorbar": {
              "outlinewidth": 0,
              "ticks": ""
             }
            },
            "type": "scatterternary"
           }
          ],
          "surface": [
           {
            "colorbar": {
             "outlinewidth": 0,
             "ticks": ""
            },
            "colorscale": [
             [
              0,
              "#0d0887"
             ],
             [
              0.1111111111111111,
              "#46039f"
             ],
             [
              0.2222222222222222,
              "#7201a8"
             ],
             [
              0.3333333333333333,
              "#9c179e"
             ],
             [
              0.4444444444444444,
              "#bd3786"
             ],
             [
              0.5555555555555556,
              "#d8576b"
             ],
             [
              0.6666666666666666,
              "#ed7953"
             ],
             [
              0.7777777777777778,
              "#fb9f3a"
             ],
             [
              0.8888888888888888,
              "#fdca26"
             ],
             [
              1,
              "#f0f921"
             ]
            ],
            "type": "surface"
           }
          ],
          "table": [
           {
            "cells": {
             "fill": {
              "color": "#EBF0F8"
             },
             "line": {
              "color": "white"
             }
            },
            "header": {
             "fill": {
              "color": "#C8D4E3"
             },
             "line": {
              "color": "white"
             }
            },
            "type": "table"
           }
          ]
         },
         "layout": {
          "annotationdefaults": {
           "arrowcolor": "#2a3f5f",
           "arrowhead": 0,
           "arrowwidth": 1
          },
          "autotypenumbers": "strict",
          "coloraxis": {
           "colorbar": {
            "outlinewidth": 0,
            "ticks": ""
           }
          },
          "colorscale": {
           "diverging": [
            [
             0,
             "#8e0152"
            ],
            [
             0.1,
             "#c51b7d"
            ],
            [
             0.2,
             "#de77ae"
            ],
            [
             0.3,
             "#f1b6da"
            ],
            [
             0.4,
             "#fde0ef"
            ],
            [
             0.5,
             "#f7f7f7"
            ],
            [
             0.6,
             "#e6f5d0"
            ],
            [
             0.7,
             "#b8e186"
            ],
            [
             0.8,
             "#7fbc41"
            ],
            [
             0.9,
             "#4d9221"
            ],
            [
             1,
             "#276419"
            ]
           ],
           "sequential": [
            [
             0,
             "#0d0887"
            ],
            [
             0.1111111111111111,
             "#46039f"
            ],
            [
             0.2222222222222222,
             "#7201a8"
            ],
            [
             0.3333333333333333,
             "#9c179e"
            ],
            [
             0.4444444444444444,
             "#bd3786"
            ],
            [
             0.5555555555555556,
             "#d8576b"
            ],
            [
             0.6666666666666666,
             "#ed7953"
            ],
            [
             0.7777777777777778,
             "#fb9f3a"
            ],
            [
             0.8888888888888888,
             "#fdca26"
            ],
            [
             1,
             "#f0f921"
            ]
           ],
           "sequentialminus": [
            [
             0,
             "#0d0887"
            ],
            [
             0.1111111111111111,
             "#46039f"
            ],
            [
             0.2222222222222222,
             "#7201a8"
            ],
            [
             0.3333333333333333,
             "#9c179e"
            ],
            [
             0.4444444444444444,
             "#bd3786"
            ],
            [
             0.5555555555555556,
             "#d8576b"
            ],
            [
             0.6666666666666666,
             "#ed7953"
            ],
            [
             0.7777777777777778,
             "#fb9f3a"
            ],
            [
             0.8888888888888888,
             "#fdca26"
            ],
            [
             1,
             "#f0f921"
            ]
           ]
          },
          "colorway": [
           "#636efa",
           "#EF553B",
           "#00cc96",
           "#ab63fa",
           "#FFA15A",
           "#19d3f3",
           "#FF6692",
           "#B6E880",
           "#FF97FF",
           "#FECB52"
          ],
          "font": {
           "color": "#2a3f5f"
          },
          "geo": {
           "bgcolor": "white",
           "lakecolor": "white",
           "landcolor": "#E5ECF6",
           "showlakes": true,
           "showland": true,
           "subunitcolor": "white"
          },
          "hoverlabel": {
           "align": "left"
          },
          "hovermode": "closest",
          "mapbox": {
           "style": "light"
          },
          "paper_bgcolor": "white",
          "plot_bgcolor": "#E5ECF6",
          "polar": {
           "angularaxis": {
            "gridcolor": "white",
            "linecolor": "white",
            "ticks": ""
           },
           "bgcolor": "#E5ECF6",
           "radialaxis": {
            "gridcolor": "white",
            "linecolor": "white",
            "ticks": ""
           }
          },
          "scene": {
           "xaxis": {
            "backgroundcolor": "#E5ECF6",
            "gridcolor": "white",
            "gridwidth": 2,
            "linecolor": "white",
            "showbackground": true,
            "ticks": "",
            "zerolinecolor": "white"
           },
           "yaxis": {
            "backgroundcolor": "#E5ECF6",
            "gridcolor": "white",
            "gridwidth": 2,
            "linecolor": "white",
            "showbackground": true,
            "ticks": "",
            "zerolinecolor": "white"
           },
           "zaxis": {
            "backgroundcolor": "#E5ECF6",
            "gridcolor": "white",
            "gridwidth": 2,
            "linecolor": "white",
            "showbackground": true,
            "ticks": "",
            "zerolinecolor": "white"
           }
          },
          "shapedefaults": {
           "line": {
            "color": "#2a3f5f"
           }
          },
          "ternary": {
           "aaxis": {
            "gridcolor": "white",
            "linecolor": "white",
            "ticks": ""
           },
           "baxis": {
            "gridcolor": "white",
            "linecolor": "white",
            "ticks": ""
           },
           "bgcolor": "#E5ECF6",
           "caxis": {
            "gridcolor": "white",
            "linecolor": "white",
            "ticks": ""
           }
          },
          "title": {
           "x": 0.05
          },
          "xaxis": {
           "automargin": true,
           "gridcolor": "white",
           "linecolor": "white",
           "ticks": "",
           "title": {
            "standoff": 15
           },
           "zerolinecolor": "white",
           "zerolinewidth": 2
          },
          "yaxis": {
           "automargin": true,
           "gridcolor": "white",
           "linecolor": "white",
           "ticks": "",
           "title": {
            "standoff": 15
           },
           "zerolinecolor": "white",
           "zerolinewidth": 2
          }
         }
        },
        "title": {
         "text": "Comparação de Retorno Acumulado e Capital do Portfólio"
        },
        "xaxis": {
         "title": {
          "text": "Data"
         }
        },
        "yaxis": {
         "showgrid": false,
         "side": "left",
         "title": {
          "text": "Retorno Acumulado"
         },
         "zeroline": false
        },
        "yaxis2": {
         "overlaying": "y",
         "showgrid": false,
         "side": "right",
         "title": {
          "text": "Capital do Portfólio"
         },
         "zeroline": false
        }
       }
      }
     },
     "metadata": {},
     "output_type": "display_data"
    },
    {
     "data": {
      "application/vnd.plotly.v1+json": {
       "config": {
        "plotlyServerURL": "https://plot.ly"
       },
       "data": [
        {
         "marker": {
          "color": "blue"
         },
         "opacity": 0.75,
         "type": "histogram",
         "x": [
          0,
          4.864098372357595,
          5.933390868756283,
          5.581318702631877,
          4.994662229632363,
          7.934921350414181,
          5.931064860877555,
          3.4673244546351123,
          5.749361539137321,
          5.5302703166862255,
          5.094780996126058,
          7.3071227480113965,
          3.6627376566062075,
          12.150165780820622,
          11.734903984363099,
          5.5527048532481915,
          8.459785738007142,
          7.017342536370341,
          1.929967312525327,
          11.836693431776402,
          10.860488041436911,
          4.165929939274826,
          7.996652060015652,
          10.165910806287993,
          9.835284083311247,
          8.133025513029079,
          3.3530957700740105,
          8.135921341264595,
          5.18700855772356,
          3.7557510853352127,
          4.8523274946454364,
          2.69567218829172,
          6.567841778480621,
          0.1312785188901877,
          8.905396952631438,
          1.5513089870295982,
          4.933856081295462,
          5.379266153754614,
          5.841420211464432,
          6.478601870307221,
          -1.7973120840268253,
          9.048720916646612,
          10.851716286388458,
          -0.008002588492217466,
          4.492893464313652,
          17.40759041243216,
          9.510259508422836,
          6.889651233626171,
          6.383086517439285,
          -1.001818687259759,
          7.314631217321188,
          6.2447055868225965,
          2.368478887447645,
          4.666315825649181,
          4.978492875680263,
          1.3738544087511295,
          2.502945965880121,
          4.109963400164451,
          6.950655651248883,
          7.329662870849907
         ],
         "xbins": {
          "end": 17.40759041243216,
          "size": 1,
          "start": -1.7973120840268253
         }
        }
       ],
       "layout": {
        "bargap": 0.2,
        "bargroupgap": 0.1,
        "template": {
         "data": {
          "bar": [
           {
            "error_x": {
             "color": "#2a3f5f"
            },
            "error_y": {
             "color": "#2a3f5f"
            },
            "marker": {
             "line": {
              "color": "#E5ECF6",
              "width": 0.5
             },
             "pattern": {
              "fillmode": "overlay",
              "size": 10,
              "solidity": 0.2
             }
            },
            "type": "bar"
           }
          ],
          "barpolar": [
           {
            "marker": {
             "line": {
              "color": "#E5ECF6",
              "width": 0.5
             },
             "pattern": {
              "fillmode": "overlay",
              "size": 10,
              "solidity": 0.2
             }
            },
            "type": "barpolar"
           }
          ],
          "carpet": [
           {
            "aaxis": {
             "endlinecolor": "#2a3f5f",
             "gridcolor": "white",
             "linecolor": "white",
             "minorgridcolor": "white",
             "startlinecolor": "#2a3f5f"
            },
            "baxis": {
             "endlinecolor": "#2a3f5f",
             "gridcolor": "white",
             "linecolor": "white",
             "minorgridcolor": "white",
             "startlinecolor": "#2a3f5f"
            },
            "type": "carpet"
           }
          ],
          "choropleth": [
           {
            "colorbar": {
             "outlinewidth": 0,
             "ticks": ""
            },
            "type": "choropleth"
           }
          ],
          "contour": [
           {
            "colorbar": {
             "outlinewidth": 0,
             "ticks": ""
            },
            "colorscale": [
             [
              0,
              "#0d0887"
             ],
             [
              0.1111111111111111,
              "#46039f"
             ],
             [
              0.2222222222222222,
              "#7201a8"
             ],
             [
              0.3333333333333333,
              "#9c179e"
             ],
             [
              0.4444444444444444,
              "#bd3786"
             ],
             [
              0.5555555555555556,
              "#d8576b"
             ],
             [
              0.6666666666666666,
              "#ed7953"
             ],
             [
              0.7777777777777778,
              "#fb9f3a"
             ],
             [
              0.8888888888888888,
              "#fdca26"
             ],
             [
              1,
              "#f0f921"
             ]
            ],
            "type": "contour"
           }
          ],
          "contourcarpet": [
           {
            "colorbar": {
             "outlinewidth": 0,
             "ticks": ""
            },
            "type": "contourcarpet"
           }
          ],
          "heatmap": [
           {
            "colorbar": {
             "outlinewidth": 0,
             "ticks": ""
            },
            "colorscale": [
             [
              0,
              "#0d0887"
             ],
             [
              0.1111111111111111,
              "#46039f"
             ],
             [
              0.2222222222222222,
              "#7201a8"
             ],
             [
              0.3333333333333333,
              "#9c179e"
             ],
             [
              0.4444444444444444,
              "#bd3786"
             ],
             [
              0.5555555555555556,
              "#d8576b"
             ],
             [
              0.6666666666666666,
              "#ed7953"
             ],
             [
              0.7777777777777778,
              "#fb9f3a"
             ],
             [
              0.8888888888888888,
              "#fdca26"
             ],
             [
              1,
              "#f0f921"
             ]
            ],
            "type": "heatmap"
           }
          ],
          "heatmapgl": [
           {
            "colorbar": {
             "outlinewidth": 0,
             "ticks": ""
            },
            "colorscale": [
             [
              0,
              "#0d0887"
             ],
             [
              0.1111111111111111,
              "#46039f"
             ],
             [
              0.2222222222222222,
              "#7201a8"
             ],
             [
              0.3333333333333333,
              "#9c179e"
             ],
             [
              0.4444444444444444,
              "#bd3786"
             ],
             [
              0.5555555555555556,
              "#d8576b"
             ],
             [
              0.6666666666666666,
              "#ed7953"
             ],
             [
              0.7777777777777778,
              "#fb9f3a"
             ],
             [
              0.8888888888888888,
              "#fdca26"
             ],
             [
              1,
              "#f0f921"
             ]
            ],
            "type": "heatmapgl"
           }
          ],
          "histogram": [
           {
            "marker": {
             "pattern": {
              "fillmode": "overlay",
              "size": 10,
              "solidity": 0.2
             }
            },
            "type": "histogram"
           }
          ],
          "histogram2d": [
           {
            "colorbar": {
             "outlinewidth": 0,
             "ticks": ""
            },
            "colorscale": [
             [
              0,
              "#0d0887"
             ],
             [
              0.1111111111111111,
              "#46039f"
             ],
             [
              0.2222222222222222,
              "#7201a8"
             ],
             [
              0.3333333333333333,
              "#9c179e"
             ],
             [
              0.4444444444444444,
              "#bd3786"
             ],
             [
              0.5555555555555556,
              "#d8576b"
             ],
             [
              0.6666666666666666,
              "#ed7953"
             ],
             [
              0.7777777777777778,
              "#fb9f3a"
             ],
             [
              0.8888888888888888,
              "#fdca26"
             ],
             [
              1,
              "#f0f921"
             ]
            ],
            "type": "histogram2d"
           }
          ],
          "histogram2dcontour": [
           {
            "colorbar": {
             "outlinewidth": 0,
             "ticks": ""
            },
            "colorscale": [
             [
              0,
              "#0d0887"
             ],
             [
              0.1111111111111111,
              "#46039f"
             ],
             [
              0.2222222222222222,
              "#7201a8"
             ],
             [
              0.3333333333333333,
              "#9c179e"
             ],
             [
              0.4444444444444444,
              "#bd3786"
             ],
             [
              0.5555555555555556,
              "#d8576b"
             ],
             [
              0.6666666666666666,
              "#ed7953"
             ],
             [
              0.7777777777777778,
              "#fb9f3a"
             ],
             [
              0.8888888888888888,
              "#fdca26"
             ],
             [
              1,
              "#f0f921"
             ]
            ],
            "type": "histogram2dcontour"
           }
          ],
          "mesh3d": [
           {
            "colorbar": {
             "outlinewidth": 0,
             "ticks": ""
            },
            "type": "mesh3d"
           }
          ],
          "parcoords": [
           {
            "line": {
             "colorbar": {
              "outlinewidth": 0,
              "ticks": ""
             }
            },
            "type": "parcoords"
           }
          ],
          "pie": [
           {
            "automargin": true,
            "type": "pie"
           }
          ],
          "scatter": [
           {
            "fillpattern": {
             "fillmode": "overlay",
             "size": 10,
             "solidity": 0.2
            },
            "type": "scatter"
           }
          ],
          "scatter3d": [
           {
            "line": {
             "colorbar": {
              "outlinewidth": 0,
              "ticks": ""
             }
            },
            "marker": {
             "colorbar": {
              "outlinewidth": 0,
              "ticks": ""
             }
            },
            "type": "scatter3d"
           }
          ],
          "scattercarpet": [
           {
            "marker": {
             "colorbar": {
              "outlinewidth": 0,
              "ticks": ""
             }
            },
            "type": "scattercarpet"
           }
          ],
          "scattergeo": [
           {
            "marker": {
             "colorbar": {
              "outlinewidth": 0,
              "ticks": ""
             }
            },
            "type": "scattergeo"
           }
          ],
          "scattergl": [
           {
            "marker": {
             "colorbar": {
              "outlinewidth": 0,
              "ticks": ""
             }
            },
            "type": "scattergl"
           }
          ],
          "scattermapbox": [
           {
            "marker": {
             "colorbar": {
              "outlinewidth": 0,
              "ticks": ""
             }
            },
            "type": "scattermapbox"
           }
          ],
          "scatterpolar": [
           {
            "marker": {
             "colorbar": {
              "outlinewidth": 0,
              "ticks": ""
             }
            },
            "type": "scatterpolar"
           }
          ],
          "scatterpolargl": [
           {
            "marker": {
             "colorbar": {
              "outlinewidth": 0,
              "ticks": ""
             }
            },
            "type": "scatterpolargl"
           }
          ],
          "scatterternary": [
           {
            "marker": {
             "colorbar": {
              "outlinewidth": 0,
              "ticks": ""
             }
            },
            "type": "scatterternary"
           }
          ],
          "surface": [
           {
            "colorbar": {
             "outlinewidth": 0,
             "ticks": ""
            },
            "colorscale": [
             [
              0,
              "#0d0887"
             ],
             [
              0.1111111111111111,
              "#46039f"
             ],
             [
              0.2222222222222222,
              "#7201a8"
             ],
             [
              0.3333333333333333,
              "#9c179e"
             ],
             [
              0.4444444444444444,
              "#bd3786"
             ],
             [
              0.5555555555555556,
              "#d8576b"
             ],
             [
              0.6666666666666666,
              "#ed7953"
             ],
             [
              0.7777777777777778,
              "#fb9f3a"
             ],
             [
              0.8888888888888888,
              "#fdca26"
             ],
             [
              1,
              "#f0f921"
             ]
            ],
            "type": "surface"
           }
          ],
          "table": [
           {
            "cells": {
             "fill": {
              "color": "#EBF0F8"
             },
             "line": {
              "color": "white"
             }
            },
            "header": {
             "fill": {
              "color": "#C8D4E3"
             },
             "line": {
              "color": "white"
             }
            },
            "type": "table"
           }
          ]
         },
         "layout": {
          "annotationdefaults": {
           "arrowcolor": "#2a3f5f",
           "arrowhead": 0,
           "arrowwidth": 1
          },
          "autotypenumbers": "strict",
          "coloraxis": {
           "colorbar": {
            "outlinewidth": 0,
            "ticks": ""
           }
          },
          "colorscale": {
           "diverging": [
            [
             0,
             "#8e0152"
            ],
            [
             0.1,
             "#c51b7d"
            ],
            [
             0.2,
             "#de77ae"
            ],
            [
             0.3,
             "#f1b6da"
            ],
            [
             0.4,
             "#fde0ef"
            ],
            [
             0.5,
             "#f7f7f7"
            ],
            [
             0.6,
             "#e6f5d0"
            ],
            [
             0.7,
             "#b8e186"
            ],
            [
             0.8,
             "#7fbc41"
            ],
            [
             0.9,
             "#4d9221"
            ],
            [
             1,
             "#276419"
            ]
           ],
           "sequential": [
            [
             0,
             "#0d0887"
            ],
            [
             0.1111111111111111,
             "#46039f"
            ],
            [
             0.2222222222222222,
             "#7201a8"
            ],
            [
             0.3333333333333333,
             "#9c179e"
            ],
            [
             0.4444444444444444,
             "#bd3786"
            ],
            [
             0.5555555555555556,
             "#d8576b"
            ],
            [
             0.6666666666666666,
             "#ed7953"
            ],
            [
             0.7777777777777778,
             "#fb9f3a"
            ],
            [
             0.8888888888888888,
             "#fdca26"
            ],
            [
             1,
             "#f0f921"
            ]
           ],
           "sequentialminus": [
            [
             0,
             "#0d0887"
            ],
            [
             0.1111111111111111,
             "#46039f"
            ],
            [
             0.2222222222222222,
             "#7201a8"
            ],
            [
             0.3333333333333333,
             "#9c179e"
            ],
            [
             0.4444444444444444,
             "#bd3786"
            ],
            [
             0.5555555555555556,
             "#d8576b"
            ],
            [
             0.6666666666666666,
             "#ed7953"
            ],
            [
             0.7777777777777778,
             "#fb9f3a"
            ],
            [
             0.8888888888888888,
             "#fdca26"
            ],
            [
             1,
             "#f0f921"
            ]
           ]
          },
          "colorway": [
           "#636efa",
           "#EF553B",
           "#00cc96",
           "#ab63fa",
           "#FFA15A",
           "#19d3f3",
           "#FF6692",
           "#B6E880",
           "#FF97FF",
           "#FECB52"
          ],
          "font": {
           "color": "#2a3f5f"
          },
          "geo": {
           "bgcolor": "white",
           "lakecolor": "white",
           "landcolor": "#E5ECF6",
           "showlakes": true,
           "showland": true,
           "subunitcolor": "white"
          },
          "hoverlabel": {
           "align": "left"
          },
          "hovermode": "closest",
          "mapbox": {
           "style": "light"
          },
          "paper_bgcolor": "white",
          "plot_bgcolor": "#E5ECF6",
          "polar": {
           "angularaxis": {
            "gridcolor": "white",
            "linecolor": "white",
            "ticks": ""
           },
           "bgcolor": "#E5ECF6",
           "radialaxis": {
            "gridcolor": "white",
            "linecolor": "white",
            "ticks": ""
           }
          },
          "scene": {
           "xaxis": {
            "backgroundcolor": "#E5ECF6",
            "gridcolor": "white",
            "gridwidth": 2,
            "linecolor": "white",
            "showbackground": true,
            "ticks": "",
            "zerolinecolor": "white"
           },
           "yaxis": {
            "backgroundcolor": "#E5ECF6",
            "gridcolor": "white",
            "gridwidth": 2,
            "linecolor": "white",
            "showbackground": true,
            "ticks": "",
            "zerolinecolor": "white"
           },
           "zaxis": {
            "backgroundcolor": "#E5ECF6",
            "gridcolor": "white",
            "gridwidth": 2,
            "linecolor": "white",
            "showbackground": true,
            "ticks": "",
            "zerolinecolor": "white"
           }
          },
          "shapedefaults": {
           "line": {
            "color": "#2a3f5f"
           }
          },
          "ternary": {
           "aaxis": {
            "gridcolor": "white",
            "linecolor": "white",
            "ticks": ""
           },
           "baxis": {
            "gridcolor": "white",
            "linecolor": "white",
            "ticks": ""
           },
           "bgcolor": "#E5ECF6",
           "caxis": {
            "gridcolor": "white",
            "linecolor": "white",
            "ticks": ""
           }
          },
          "title": {
           "x": 0.05
          },
          "xaxis": {
           "automargin": true,
           "gridcolor": "white",
           "linecolor": "white",
           "ticks": "",
           "title": {
            "standoff": 15
           },
           "zerolinecolor": "white",
           "zerolinewidth": 2
          },
          "yaxis": {
           "automargin": true,
           "gridcolor": "white",
           "linecolor": "white",
           "ticks": "",
           "title": {
            "standoff": 15
           },
           "zerolinecolor": "white",
           "zerolinewidth": 2
          }
         }
        },
        "title": {
         "text": "Distribuição dos Retornos da Estratégia"
        },
        "xaxis": {
         "title": {
          "text": "Retorno (%)"
         }
        },
        "yaxis": {
         "title": {
          "text": "Frequência"
         }
        }
       }
      }
     },
     "metadata": {},
     "output_type": "display_data"
    }
   ],
   "source": [
    "# Valor inicial do portfólio\n",
    "valor_portfolio_inicial = 100000\n",
    "\n",
    "# Listas para armazenar o histórico do portfólio e as datas correspondentes\n",
    "historico_portfolio = []\n",
    "datas_portfolio = []\n",
    "\n",
    "# Ler todas as planilhas do arquivo Excel\n",
    "sheets = pd.read_excel('resultados_portfolio_mensal_full_modified.xlsx', sheet_name=None, header=0)\n",
    "\n",
    "for nome_sheet, df in sheets.items():\n",
    "    # Verificar se o DataFrame está vazio\n",
    "    if df.empty:\n",
    "        print(f\"A planilha '{nome_sheet}' está vazia. Pulando este período.\")\n",
    "        continue\n",
    "\n",
    "    # Verificar se as colunas esperadas estão presentes\n",
    "    colunas_esperadas = ['Acao', 'Retorno Predito', 'Retorno Real']\n",
    "    if not all(col in df.columns for col in colunas_esperadas):\n",
    "        print(f\"A planilha '{nome_sheet}' não contém as colunas esperadas. Pulando este período.\")\n",
    "        continue\n",
    "\n",
    "    # Extrair o ticker, data de início e data de fim da coluna 'Acao'\n",
    "    try:\n",
    "        # Aplicar a extração em cada linha\n",
    "        def extrair_dados(row):\n",
    "            acao_periodo = row['Acao']\n",
    "            if pd.isnull(acao_periodo):\n",
    "                return pd.Series([np.nan, np.nan, np.nan])\n",
    "            parts = acao_periodo.split(':')\n",
    "            simbolo = parts[0].strip()\n",
    "            datas = parts[1].strip().split(' - ')\n",
    "            data_inicio = pd.to_datetime(datas[0].strip(), format='%Y-%m-%d')\n",
    "            data_fim = pd.to_datetime(datas[1].strip(), format='%Y-%m-%d')\n",
    "            return pd.Series([simbolo, data_inicio, data_fim])\n",
    "\n",
    "        df[['Simbolo', 'Data_Inicio', 'Data_Fim']] = df.apply(extrair_dados, axis=1)\n",
    "        # Remover linhas com dados ausentes\n",
    "        df.dropna(subset=['Simbolo', 'Data_Inicio', 'Data_Fim'], inplace=True)\n",
    "    except Exception as e:\n",
    "        print(f\"Erro ao extrair os dados da planilha '{nome_sheet}': {e}\")\n",
    "        continue\n",
    "\n",
    "    # Obter a data de início e fim do período a partir da primeira linha\n",
    "    data_inicio = df['Data_Inicio'].iloc[0]\n",
    "    data_fim = df['Data_Fim'].iloc[0]\n",
    "\n",
    "    # Ordenar pelo retorno predito\n",
    "    df = df.sort_values(by='Retorno Predito', ascending=False)\n",
    "\n",
    "    # Selecionar top 10%\n",
    "    n_acoes = max(int(len(df) * 0.10), 1)\n",
    "    acoes_compradas = df.head(n_acoes)\n",
    "\n",
    "    # Alocar capital igualmente entre as ações\n",
    "    valor_portfolio = valor_portfolio_inicial if not historico_portfolio else historico_portfolio[-1]\n",
    "    alocacao_por_acao = valor_portfolio / n_acoes\n",
    "\n",
    "    # Calcular o retorno real\n",
    "    retornos = acoes_compradas['Retorno Real'] / 100  # Converter porcentagem para decimal\n",
    "    valor_final = alocacao_por_acao * (1 + retornos)\n",
    "\n",
    "    # Atualizar o valor do portfólio\n",
    "    valor_portfolio = valor_final.sum()\n",
    "    historico_portfolio.append(valor_portfolio)\n",
    "    datas_portfolio.append(data_fim)\n",
    "\n",
    "    # Imprimir os resultados do período\n",
    "    print(f\"Período: {data_inicio.date()} - {data_fim.date()}\")\n",
    "    print(f\"Ações compradas: {acoes_compradas['Simbolo'].tolist()}\")\n",
    "    print(\"Retorno de cada ação:\")\n",
    "    for index, row in acoes_compradas.iterrows():\n",
    "        print(f\" - {row['Simbolo']}: {row['Retorno Real']}%\")\n",
    "    print(f\"Valor do portfólio ao final do período: ${valor_portfolio:.2f}\\n\")\n",
    "\n",
    "# Verificar se o histórico do portfólio está vazio\n",
    "if not historico_portfolio or not datas_portfolio:\n",
    "    print(\"Nenhum período foi processado com sucesso. Verifique os dados e tente novamente.\")\n",
    "else:\n",
    "    # Criar DataFrame com o histórico do portfólio\n",
    "    df_portfolio = pd.DataFrame({\n",
    "        'Data': datas_portfolio,\n",
    "        'Valor': historico_portfolio\n",
    "    })\n",
    "    # Ordenar por data\n",
    "    df_portfolio.sort_values(by='Data', inplace=True)\n",
    "    df_portfolio.reset_index(drop=True, inplace=True)\n",
    "\n",
    "    # 5. Obter dados do S&P500\n",
    "    data_inicio_total = df_portfolio['Data'].iloc[0] - timedelta(days=5)\n",
    "    data_fim_total = df_portfolio['Data'].iloc[-1] + timedelta(days=5)\n",
    "    sp500 = yf.download('^GSPC', start=data_inicio_total, end=data_fim_total)\n",
    "    print(\"Colunas disponíveis em sp500:\", sp500.columns)\n",
    "\n",
    "    # Determinar a coluna de preço a ser usada\n",
    "    if 'Adj Close' in sp500.columns:\n",
    "        price_column = 'Adj Close'\n",
    "    elif 'Close' in sp500.columns:\n",
    "        price_column = 'Close'\n",
    "    else:\n",
    "        raise KeyError(\"Nenhuma coluna de preço ('Adj Close' ou 'Close') encontrada em sp500\")\n",
    "\n",
    "    # Resetar o índice para ter a coluna 'Date'\n",
    "    sp500.reset_index(inplace=True)\n",
    "\n",
    "    # Remover informações de fuso horário da coluna 'Date'\n",
    "    sp500['Date'] = sp500['Date'].dt.tz_localize(None)\n",
    "\n",
    "    # Verificar os tipos de dados das colunas de datas\n",
    "    print(\"dtype de sp500['Date']:\", sp500['Date'].dtype)\n",
    "    print(\"dtype de df_portfolio['Data']:\", df_portfolio['Data'].dtype)\n",
    "\n",
    "    # Calcular retorno acumulado do S&P500\n",
    "    sp500['Retorno'] = sp500[price_column].pct_change().fillna(0)\n",
    "    sp500['Retorno Acumulado'] = (1 + sp500['Retorno']).cumprod()\n",
    "\n",
    "    # Interpolar o retorno acumulado do S&P500 nas datas do portfólio\n",
    "    sp500_interp = sp500[['Date', 'Retorno Acumulado']].set_index('Date').reindex(\n",
    "        df_portfolio['Data'], method='ffill')\n",
    "\n",
    "    # Após reindexar, resetamos o índice\n",
    "    sp500_interp.reset_index(inplace=True)\n",
    "\n",
    "    # Verificar as colunas e as primeiras linhas\n",
    "    print(\"Colunas de sp500_interp após reset_index:\", sp500_interp.columns)\n",
    "    print(\"Primeiras linhas de sp500_interp:\")\n",
    "    print(sp500_interp.head())\n",
    "\n",
    "    # Ajustar o acesso à coluna de datas de sp500_interp\n",
    "    if 'Date' in sp500_interp.columns:\n",
    "        date_column = 'Date'\n",
    "    elif 'index' in sp500_interp.columns:\n",
    "        date_column = 'index'\n",
    "    elif 'Data' in sp500_interp.columns:\n",
    "        date_column = 'Data'\n",
    "    else:\n",
    "        print(\"A coluna de datas não foi encontrada em sp500_interp.\")\n",
    "        print(\"Colunas disponíveis:\", sp500_interp.columns)\n",
    "        raise KeyError(\"Coluna de datas não encontrada em sp500_interp\")\n",
    "\n",
    "    # Calcular retorno acumulado da estratégia\n",
    "    df_portfolio['Retorno'] = df_portfolio['Valor'].pct_change().fillna(0)\n",
    "    df_portfolio['Retorno Acumulado'] = (1 + df_portfolio['Retorno']).cumprod()\n",
    "\n",
    "    # 6. Plotar o gráfico comparativo usando Plotly\n",
    "    trace_estrategia = go.Scatter(\n",
    "        x=df_portfolio['Data'],\n",
    "        y=df_portfolio['Retorno Acumulado'],\n",
    "        mode='lines+markers',\n",
    "        name='Retorno Acumulado da Estratégia',\n",
    "        yaxis='y1'\n",
    "    )\n",
    "\n",
    "    trace_sp500 = go.Scatter(\n",
    "        x=sp500_interp[date_column],\n",
    "        y=sp500_interp['Retorno Acumulado'],\n",
    "        mode='lines+markers',\n",
    "        name='Retorno Acumulado do S&P500',\n",
    "        yaxis='y1'\n",
    "    )\n",
    "\n",
    "    trace_capital = go.Scatter(\n",
    "        x=df_portfolio['Data'],\n",
    "        y=df_portfolio['Valor'],\n",
    "        mode='lines+markers',\n",
    "        name='Capital do Portfólio',\n",
    "        yaxis='y2'\n",
    "    )\n",
    "\n",
    "    data = [trace_estrategia, trace_sp500, trace_capital]\n",
    "\n",
    "    layout = go.Layout(\n",
    "        title='Comparação de Retorno Acumulado e Capital do Portfólio',\n",
    "        xaxis=dict(title='Data'),\n",
    "        yaxis=dict(\n",
    "            title='Retorno Acumulado',\n",
    "            side='left',\n",
    "            showgrid=False,\n",
    "            zeroline=False\n",
    "        ),\n",
    "        yaxis2=dict(\n",
    "            title='Capital do Portfólio',\n",
    "            overlaying='y',\n",
    "            side='right',\n",
    "            showgrid=False,\n",
    "            zeroline=False\n",
    "        ),\n",
    "        legend=dict(x=0.01, y=0.99)\n",
    "    )\n",
    "\n",
    "    fig = go.Figure(data=data, layout=layout)\n",
    "    fig.show()\n",
    "\n",
    "# 7. Plotar o histograma da distribuição dos retornos da estratégia\n",
    "\n",
    "# Remover possíveis NaNs ou valores infinitos\n",
    "retornos = df_portfolio['Retorno'].dropna().replace([np.inf, -np.inf], np.nan).dropna()\n",
    "\n",
    "# Criar o histograma dos retornos\n",
    "histograma = go.Figure(data=[go.Histogram(\n",
    "    x=retornos * 100,  # Converter para porcentagem\n",
    "    xbins=dict(\n",
    "        start=retornos.min() * 100,\n",
    "        end=retornos.max() * 100,\n",
    "        size=1  # Intervalo de 1% entre as barras\n",
    "    ),\n",
    "    marker_color='blue',\n",
    "    opacity=0.75\n",
    ")])\n",
    "\n",
    "histograma.update_layout(\n",
    "    title='Distribuição dos Retornos da Estratégia',\n",
    "    xaxis_title='Retorno (%)',\n",
    "    yaxis_title='Frequência',\n",
    "    bargap=0.2,\n",
    "    bargroupgap=0.1\n",
    ")"
   ]
  },
  {
   "cell_type": "markdown",
   "metadata": {},
   "source": [
    "TESTE 2 pq o primeiro tava dando problema com o S&P500\n",
    "\n",
    "Tudo fragmentado pra facilitar identificação de erro"
   ]
  },
  {
   "cell_type": "code",
   "execution_count": 3,
   "metadata": {},
   "outputs": [
    {
     "name": "stdout",
     "output_type": "stream",
     "text": [
      "Arquivo 'resultados_portfolio_mensal_full_modified.xlsx' lido com sucesso.\n",
      "\n",
      "Processando a planilha: Período 1\n",
      "Linhas processadas: 50 (removidas 0 linhas com dados ausentes)\n",
      "Período: 2019-02-22 - 2019-03-21\n",
      "Selecionadas 5 ações para o portfólio.\n",
      "Ações compradas: ['AMT', 'SO', 'MCD', 'WMT', 'XEL']\n",
      "Retorno de cada ação:\n",
      " - AMT: 11.70644120100242%\n",
      " - SO: 4.33944426916547%\n",
      " - MCD: 2.262881295990945%\n",
      " - WMT: 1.500255889162151%\n",
      " - XEL: 4.488114776519038%\n",
      "Retorno do período: 4.86%\n",
      "Valor do portfólio ao final do período: $104859.43\n",
      "\n",
      "\n",
      "Processando a planilha: Período 2\n",
      "Linhas processadas: 50 (removidas 0 linhas com dados ausentes)\n",
      "Período: 2019-03-22 - 2019-04-18\n",
      "Selecionadas 5 ações para o portfólio.\n",
      "Ações compradas: ['WRB', 'SYY', 'WMT', 'L', 'YUM']\n",
      "Retorno de cada ação:\n",
      " - WRB: 3.387195385279303%\n",
      " - SYY: 8.42385272730434%\n",
      " - WMT: 5.960145210909561%\n",
      " - L: 2.258000103301393%\n",
      " - YUM: 4.291298434993405%\n",
      "Retorno do período: 4.86%\n",
      "Valor do portfólio ao final do período: $109959.89\n",
      "\n",
      "\n",
      "Processando a planilha: Período 3\n",
      "Linhas processadas: 50 (removidas 0 linhas com dados ausentes)\n",
      "Período: 2019-04-22 - 2019-05-17\n",
      "Selecionadas 5 ações para o portfólio.\n",
      "Ações compradas: ['SBAC', 'AFL', 'SYY', 'TRV', 'AMT']\n",
      "Retorno de cada ação:\n",
      " - SBAC: 5.104769925604463%\n",
      " - AFL: 5.921211468510501%\n",
      " - SYY: 7.709974903555966%\n",
      " - TRV: 5.792061200895203%\n",
      " - AMT: 5.138936845215272%\n",
      "Retorno do período: 5.93%\n",
      "Valor do portfólio ao final do período: $116484.24\n",
      "\n",
      "\n",
      "Processando a planilha: Período 4\n",
      "Linhas processadas: 50 (removidas 0 linhas com dados ausentes)\n",
      "Período: 2019-05-20 - 2019-06-17\n",
      "Selecionadas 5 ações para o portfólio.\n",
      "Ações compradas: ['PPL', 'MDLZ', 'WRB', 'ALL', 'YUM']\n",
      "Retorno de cada ação:\n",
      " - PPL: 3.211322334444775%\n",
      " - MDLZ: 5.076467944762025%\n",
      " - WRB: 6.338923467192192%\n",
      " - ALL: 5.895864065978122%\n",
      " - YUM: 7.384015700782273%\n",
      "Retorno do período: 5.58%\n",
      "Valor do portfólio ao final do período: $122985.60\n",
      "\n",
      "\n",
      "Processando a planilha: Período 5\n",
      "Linhas processadas: 50 (removidas 0 linhas com dados ausentes)\n",
      "Período: 2019-06-18 - 2019-07-16\n",
      "Selecionadas 5 ações para o portfólio.\n",
      "Ações compradas: ['MMC', 'JPM', 'SYY', 'MCD', 'COST']\n",
      "Retorno de cada ação:\n",
      " - MMC: 6.029310243810902%\n",
      " - JPM: 5.76532419651751%\n",
      " - SYY: 3.339082855858148%\n",
      " - MCD: 4.527290259182932%\n",
      " - COST: 5.312303592792366%\n",
      "Retorno do período: 4.99%\n",
      "Valor do portfólio ao final do período: $129128.32\n",
      "\n",
      "\n",
      "Processando a planilha: Período 6\n",
      "Linhas processadas: 50 (removidas 0 linhas com dados ausentes)\n",
      "Período: 2019-07-17 - 2019-08-13\n",
      "Selecionadas 5 ações para o portfólio.\n",
      "Ações compradas: ['CCI', 'AMT', 'SO', 'PSA', 'SBAC']\n",
      "Retorno de cada ação:\n",
      " - CCI: 11.58651705139902%\n",
      " - AMT: 6.734680386118767%\n",
      " - SO: 3.053146652238721%\n",
      " - PSA: 6.258896697593149%\n",
      " - SBAC: 12.04136596472127%\n",
      "Retorno do período: 7.93%\n",
      "Valor do portfólio ao final do período: $139374.55\n",
      "\n",
      "\n",
      "Processando a planilha: Período 7\n",
      "Linhas processadas: 50 (removidas 0 linhas com dados ausentes)\n",
      "Período: 2019-08-14 - 2019-11-09\n",
      "Selecionadas 5 ações para o portfólio.\n",
      "Ações compradas: ['PNC', 'JPM', 'USB', 'VICI', 'PEG']\n",
      "Retorno de cada ação:\n",
      " - PNC: 5.781598145191975%\n",
      " - JPM: 7.529683123027006%\n",
      " - USB: 6.041264895086602%\n",
      " - VICI: 3.94758543841134%\n",
      " - PEG: 6.355192702670822%\n",
      "Retorno do período: 5.93%\n",
      "Valor do portfólio ao final do período: $147640.94\n",
      "\n",
      "\n",
      "Processando a planilha: Período 8\n",
      "Linhas processadas: 50 (removidas 0 linhas com dados ausentes)\n",
      "Período: 2019-12-09 - 2019-09-10\n",
      "Selecionadas 5 ações para o portfólio.\n",
      "Ações compradas: ['HSY', 'VICI', 'SRE', 'CMS', 'AVB']\n",
      "Retorno de cada ação:\n",
      " - HSY: 2.445492707892814%\n",
      " - VICI: 4.126376978258278%\n",
      " - SRE: 3.178460191880016%\n",
      " - CMS: 3.512999922734254%\n",
      " - AVB: 4.073292472410143%\n",
      "Retorno do período: 3.47%\n",
      "Valor do portfólio ao final do período: $152760.13\n",
      "\n",
      "\n",
      "Processando a planilha: Período 9\n",
      "Linhas processadas: 50 (removidas 0 linhas com dados ausentes)\n",
      "Período: 2019-10-10 - 2019-06-11\n",
      "Selecionadas 5 ações para o portfólio.\n",
      "Ações compradas: ['USB', 'MET', 'JPM', 'PPL', 'CNP']\n",
      "Retorno de cada ação:\n",
      " - USB: 8.893159419991989%\n",
      " - MET: 6.021434989203913%\n",
      " - JPM: 7.497673985004201%\n",
      " - PPL: 4.262486002382893%\n",
      " - CNP: 2.072053299103589%\n",
      "Retorno do período: 5.75%\n",
      "Valor do portfólio ao final do período: $161542.86\n",
      "\n",
      "\n",
      "Processando a planilha: Período 10\n"
     ]
    },
    {
     "name": "stderr",
     "output_type": "stream",
     "text": [
      "C:\\Users\\Usuario\\AppData\\Local\\Temp\\ipykernel_34352\\791043141.py:41: UserWarning: Parsing dates in %Y-%m-%d format when dayfirst=True was specified. Pass `dayfirst=False` or specify a format to silence this warning.\n",
      "  data_inicio = pd.to_datetime(datas[0].strip(), dayfirst=True).normalize()\n",
      "C:\\Users\\Usuario\\AppData\\Local\\Temp\\ipykernel_34352\\791043141.py:42: UserWarning: Parsing dates in %Y-%m-%d format when dayfirst=True was specified. Pass `dayfirst=False` or specify a format to silence this warning.\n",
      "  data_fim = pd.to_datetime(datas[1].strip(), dayfirst=True).normalize()\n",
      "C:\\Users\\Usuario\\AppData\\Local\\Temp\\ipykernel_34352\\791043141.py:41: UserWarning: Parsing dates in %Y-%m-%d format when dayfirst=True was specified. Pass `dayfirst=False` or specify a format to silence this warning.\n",
      "  data_inicio = pd.to_datetime(datas[0].strip(), dayfirst=True).normalize()\n",
      "C:\\Users\\Usuario\\AppData\\Local\\Temp\\ipykernel_34352\\791043141.py:42: UserWarning: Parsing dates in %Y-%m-%d format when dayfirst=True was specified. Pass `dayfirst=False` or specify a format to silence this warning.\n",
      "  data_fim = pd.to_datetime(datas[1].strip(), dayfirst=True).normalize()\n",
      "C:\\Users\\Usuario\\AppData\\Local\\Temp\\ipykernel_34352\\791043141.py:41: UserWarning: Parsing dates in %Y-%m-%d format when dayfirst=True was specified. Pass `dayfirst=False` or specify a format to silence this warning.\n",
      "  data_inicio = pd.to_datetime(datas[0].strip(), dayfirst=True).normalize()\n",
      "C:\\Users\\Usuario\\AppData\\Local\\Temp\\ipykernel_34352\\791043141.py:42: UserWarning: Parsing dates in %Y-%m-%d format when dayfirst=True was specified. Pass `dayfirst=False` or specify a format to silence this warning.\n",
      "  data_fim = pd.to_datetime(datas[1].strip(), dayfirst=True).normalize()\n",
      "C:\\Users\\Usuario\\AppData\\Local\\Temp\\ipykernel_34352\\791043141.py:41: UserWarning: Parsing dates in %Y-%m-%d format when dayfirst=True was specified. Pass `dayfirst=False` or specify a format to silence this warning.\n",
      "  data_inicio = pd.to_datetime(datas[0].strip(), dayfirst=True).normalize()\n",
      "C:\\Users\\Usuario\\AppData\\Local\\Temp\\ipykernel_34352\\791043141.py:42: UserWarning: Parsing dates in %Y-%m-%d format when dayfirst=True was specified. Pass `dayfirst=False` or specify a format to silence this warning.\n",
      "  data_fim = pd.to_datetime(datas[1].strip(), dayfirst=True).normalize()\n",
      "C:\\Users\\Usuario\\AppData\\Local\\Temp\\ipykernel_34352\\791043141.py:41: UserWarning: Parsing dates in %Y-%m-%d format when dayfirst=True was specified. Pass `dayfirst=False` or specify a format to silence this warning.\n",
      "  data_inicio = pd.to_datetime(datas[0].strip(), dayfirst=True).normalize()\n",
      "C:\\Users\\Usuario\\AppData\\Local\\Temp\\ipykernel_34352\\791043141.py:42: UserWarning: Parsing dates in %Y-%m-%d format when dayfirst=True was specified. Pass `dayfirst=False` or specify a format to silence this warning.\n",
      "  data_fim = pd.to_datetime(datas[1].strip(), dayfirst=True).normalize()\n",
      "C:\\Users\\Usuario\\AppData\\Local\\Temp\\ipykernel_34352\\791043141.py:41: UserWarning: Parsing dates in %Y-%m-%d format when dayfirst=True was specified. Pass `dayfirst=False` or specify a format to silence this warning.\n",
      "  data_inicio = pd.to_datetime(datas[0].strip(), dayfirst=True).normalize()\n",
      "C:\\Users\\Usuario\\AppData\\Local\\Temp\\ipykernel_34352\\791043141.py:42: UserWarning: Parsing dates in %Y-%m-%d format when dayfirst=True was specified. Pass `dayfirst=False` or specify a format to silence this warning.\n",
      "  data_fim = pd.to_datetime(datas[1].strip(), dayfirst=True).normalize()\n",
      "C:\\Users\\Usuario\\AppData\\Local\\Temp\\ipykernel_34352\\791043141.py:41: UserWarning: Parsing dates in %Y-%m-%d format when dayfirst=True was specified. Pass `dayfirst=False` or specify a format to silence this warning.\n",
      "  data_inicio = pd.to_datetime(datas[0].strip(), dayfirst=True).normalize()\n"
     ]
    },
    {
     "name": "stdout",
     "output_type": "stream",
     "text": [
      "Linhas processadas: 50 (removidas 0 linhas com dados ausentes)\n",
      "Período: 2019-07-11 - 2019-05-12\n",
      "Selecionadas 5 ações para o portfólio.\n",
      "Ações compradas: ['VRSK', 'HSY', 'AWK', 'JNJ', 'AMT']\n",
      "Retorno de cada ação:\n",
      " - VRSK: 5.583805182994976%\n",
      " - HSY: 5.38370653316616%\n",
      " - AWK: 6.7038027301709%\n",
      " - JNJ: 6.753337540317671%\n",
      " - AMT: 3.226699596781463%\n",
      "Retorno do período: 5.53%\n",
      "Valor do portfólio ao final do período: $170476.62\n",
      "\n",
      "\n",
      "Processando a planilha: Período 11\n",
      "Linhas processadas: 50 (removidas 0 linhas com dados ausentes)\n",
      "Período: 2019-06-12 - 2020-06-01\n",
      "Selecionadas 5 ações para o portfólio.\n",
      "Ações compradas: ['AMT', 'CNP', 'SO', 'L', 'ATO']\n",
      "Retorno de cada ação:\n",
      " - AMT: 8.17041551267005%\n",
      " - CNP: 6.326813398384523%\n",
      " - SO: 3.433523775592092%\n",
      " - L: 4.095798046202806%\n",
      " - ATO: 3.44735424778083%\n",
      "Retorno do período: 5.09%\n",
      "Valor do portfólio ao final do período: $179162.03\n",
      "\n",
      "\n",
      "Processando a planilha: Período 12\n",
      "Linhas processadas: 50 (removidas 0 linhas com dados ausentes)\n",
      "Período: 2020-07-01 - 2020-04-02\n",
      "Selecionadas 5 ações para o portfólio.\n",
      "Ações compradas: ['PNW', 'ED', 'NDAQ', 'DUK', 'CPT']\n",
      "Retorno de cada ação:\n",
      " - PNW: 8.302811617268892%\n",
      " - ED: 5.611666028649233%\n",
      " - NDAQ: 10.50142529945581%\n",
      " - DUK: 6.589192879305195%\n",
      " - CPT: 5.530517915377822%\n",
      "Retorno do período: 7.31%\n",
      "Valor do portfólio ao final do período: $192253.62\n",
      "\n",
      "\n",
      "Processando a planilha: Período 13\n",
      "Linhas processadas: 14 (removidas 0 linhas com dados ausentes)\n",
      "Período: 2020-05-02 - 2020-04-03\n",
      "Selecionadas 1 ações para o portfólio.\n",
      "Ações compradas: ['HES']\n",
      "Retorno de cada ação:\n",
      " - HES: 3.662737656606216%\n",
      "Retorno do período: 3.66%\n",
      "Valor do portfólio ao final do período: $199295.37\n",
      "\n",
      "\n",
      "Processando a planilha: Período 15\n",
      "Linhas processadas: 3 (removidas 0 linhas com dados ausentes)\n",
      "Período: 2020-02-04 - 2020-04-30\n",
      "Selecionadas 1 ações para o portfólio.\n",
      "Ações compradas: ['SMCI']\n",
      "Retorno de cada ação:\n",
      " - SMCI: 12.15016578082063%\n",
      "Retorno do período: 12.15%\n",
      "Valor do portfólio ao final do período: $223510.08\n",
      "\n",
      "\n",
      "Processando a planilha: Período 16\n",
      "Linhas processadas: 50 (removidas 0 linhas com dados ausentes)\n",
      "Período: 2020-01-05 - 2020-05-29\n",
      "Selecionadas 5 ações para o portfólio.\n",
      "Ações compradas: ['LOW', 'EMN', 'AZO', 'ROP', 'AAPL']\n",
      "Retorno de cada ação:\n",
      " - LOW: 17.32032517861525%\n",
      " - EMN: 13.42032629582731%\n",
      " - AZO: 10.60518972298414%\n",
      " - ROP: 11.46011617586897%\n",
      " - AAPL: 5.868562548519869%\n",
      "Retorno do período: 11.73%\n",
      "Valor do portfólio ao final do período: $249738.78\n",
      "\n",
      "\n",
      "Processando a planilha: Período 17\n",
      "Linhas processadas: 50 (removidas 0 linhas com dados ausentes)\n",
      "Período: 2020-01-06 - 2020-06-26\n",
      "Selecionadas 5 ações para o portfólio.\n",
      "Ações compradas: ['EPAM', 'CLX', 'PYPL', 'DLR', 'HRL']\n",
      "Retorno de cada ação:\n",
      " - EPAM: 8.533880421312249%\n",
      " - CLX: 5.268760472721707%\n",
      " - PYPL: 10.00618292512746%\n",
      " - DLR: 3.455661454946128%\n",
      " - HRL: 0.4990389921334391%\n",
      "Retorno do período: 5.55%\n",
      "Valor do portfólio ao final do período: $263606.03\n",
      "\n",
      "\n",
      "Processando a planilha: Período 18\n",
      "Linhas processadas: 50 (removidas 0 linhas com dados ausentes)\n",
      "Período: 2020-06-29 - 2020-07-27\n",
      "Selecionadas 5 ações para o portfólio.\n",
      "Ações compradas: ['WRB', 'AEE', 'YUM', 'AWK', 'LNT']\n",
      "Retorno de cada ação:\n",
      " - WRB: 10.73596348621115%\n",
      " - AEE: 7.596928711787247%\n",
      " - YUM: 7.573231500397705%\n",
      " - AWK: 9.644708235627853%\n",
      " - LNT: 6.748096756011693%\n",
      "Retorno do período: 8.46%\n",
      "Valor do portfólio ao final do período: $285906.54\n",
      "\n",
      "\n",
      "Processando a planilha: Período 19\n",
      "Linhas processadas: 50 (removidas 0 linhas com dados ausentes)\n",
      "Período: 2020-07-28 - 2020-08-24\n",
      "Selecionadas 5 ações para o portfólio.\n",
      "Ações compradas: ['MCD', 'ICE', 'COST', 'AFL', 'YUM']\n",
      "Retorno de cada ação:\n",
      " - MCD: 9.020611962125182%\n",
      " - ICE: 8.920470000406565%\n",
      " - COST: 5.556481690057269%\n",
      " - AFL: 5.713577590454102%\n",
      " - YUM: 5.875571438808552%\n",
      "Retorno do período: 7.02%\n",
      "Valor do portfólio ao final do período: $305969.58\n",
      "\n",
      "\n",
      "Processando a planilha: Período 20\n",
      "Linhas processadas: 50 (removidas 0 linhas com dados ausentes)\n",
      "Período: 2020-08-25 - 2020-09-22\n",
      "Selecionadas 5 ações para o portfólio.\n",
      "Ações compradas: ['DUK', 'WEC', 'RSG', 'D', 'MCD']\n",
      "Retorno de cada ação:\n",
      " - DUK: 3.670381691834386%\n",
      " - WEC: 1.883442745279159%\n",
      " - RSG: 2.29795104238698%\n",
      " - D: 0.5191813259310809%\n",
      " - MCD: 1.278879757195045%\n",
      "Retorno do período: 1.93%\n",
      "Valor do portfólio ao final do período: $311874.69\n",
      "\n",
      "\n",
      "Processando a planilha: Período 21\n",
      "Linhas processadas: 50 (removidas 0 linhas com dados ausentes)\n",
      "Período: 2020-09-23 - 2020-10-20\n",
      "Selecionadas 5 ações para o portfólio.\n",
      "Ações compradas: ['EXC', 'CNP', 'AEP', 'ES', 'COST']\n",
      "Retorno de cada ação:\n",
      " - EXC: 17.08778346787077%\n",
      " - CNP: 11.50920767783196%\n",
      " - AEP: 11.72181439401794%\n",
      " - ES: 10.97792717085812%\n",
      " - COST: 7.886734448303264%\n",
      "Retorno do período: 11.84%\n",
      "Valor do portfólio ao final do período: $348790.35\n",
      "\n",
      "\n",
      "Processando a planilha: Período 22\n",
      "Linhas processadas: 50 (removidas 0 linhas com dados ausentes)\n",
      "Período: 2020-10-21 - 2020-11-17\n",
      "Selecionadas 5 ações para o portfólio.\n",
      "Ações compradas: ['MAA', 'FAST', 'PAYX', 'GWW', 'FTV']\n",
      "Retorno de cada ação:\n",
      " - MAA: 11.12256037998041%\n",
      " - FAST: 7.310764170800772%\n",
      " - PAYX: 12.22009858099705%\n",
      " - GWW: 13.16721022279343%\n",
      " - FTV: 10.48180685261289%\n",
      "Retorno do período: 10.86%\n",
      "Valor do portfólio ao final do período: $386670.68\n",
      "\n",
      "\n",
      "Processando a planilha: Período 23\n",
      "Linhas processadas: 50 (removidas 0 linhas com dados ausentes)\n",
      "Período: 2020-11-18 - 2020-12-16\n",
      "Selecionadas 5 ações para o portfólio.\n",
      "Ações compradas: ['AXP', 'ICE', 'YUM', 'FRT', 'AJG']\n",
      "Retorno de cada ação:\n",
      " - AXP: 2.475769578269442%\n",
      " - ICE: 8.66121270063602%\n",
      " - YUM: 2.7272304001807%\n",
      " - FRT: -2.557405607444775%\n",
      " - AJG: 9.522842624732682%\n",
      "Retorno do período: 4.17%\n",
      "Valor do portfólio ao final do período: $402779.11\n",
      "\n",
      "\n",
      "Processando a planilha: Período 24\n",
      "Linhas processadas: 50 (removidas 0 linhas com dados ausentes)\n",
      "Período: 2020-12-17 - 2021-01-15\n",
      "Selecionadas 5 ações para o portfólio.\n",
      "Ações compradas: ['KMI', 'HIG', 'AWK', 'ES', 'AXP']\n",
      "Retorno de cada ação:\n",
      " - KMI: 11.69762872712931%\n",
      " - HIG: 8.120465456531539%\n",
      " - AWK: 7.58044484353629%\n",
      " - ES: 5.810861238600956%\n",
      " - AXP: 6.77386003428008%\n",
      "Retorno do período: 8.00%\n",
      "Valor do portfólio ao final do período: $434987.95\n",
      "\n",
      "\n",
      "Processando a planilha: Período 25\n",
      "Linhas processadas: 50 (removidas 0 linhas com dados ausentes)\n",
      "Período: 2021-01-19 - 2021-02-16\n",
      "Selecionadas 5 ações para o portfólio.\n",
      "Ações compradas: ['FRT', 'REG', 'ESS', 'EQR', 'AVB']\n",
      "Retorno de cada ação:\n",
      " - FRT: 13.67174106486274%\n",
      " - REG: 10.699990350355%\n",
      " - ESS: 9.659788130900564%\n",
      " - EQR: 8.736341717086098%\n",
      " - AVB: 8.061692768235517%\n",
      "Retorno do período: 10.17%\n",
      "Valor do portfólio ao final do período: $479208.44\n",
      "\n",
      "\n",
      "Processando a planilha: Período 26\n",
      "Linhas processadas: 50 (removidas 0 linhas com dados ausentes)\n",
      "Período: 2021-02-17 - 2021-03-16\n",
      "Selecionadas 5 ações para o portfólio.\n",
      "Ações compradas: ['ALL', 'WRB', 'HIG', 'FRT', 'EQR']\n",
      "Retorno de cada ação:\n",
      " - ALL: 10.26593557722269%\n",
      " - WRB: 11.28029170310253%\n",
      " - HIG: 11.21283727527159%\n",
      " - FRT: 6.598578389250803%\n",
      " - EQR: 9.818777471708803%\n",
      "Retorno do período: 9.84%\n",
      "Valor do portfólio ao final do período: $526339.95\n",
      "\n",
      "\n",
      "Processando a planilha: Período 27\n"
     ]
    },
    {
     "name": "stderr",
     "output_type": "stream",
     "text": [
      "C:\\Users\\Usuario\\AppData\\Local\\Temp\\ipykernel_34352\\791043141.py:42: UserWarning: Parsing dates in %Y-%m-%d format when dayfirst=True was specified. Pass `dayfirst=False` or specify a format to silence this warning.\n",
      "  data_fim = pd.to_datetime(datas[1].strip(), dayfirst=True).normalize()\n",
      "C:\\Users\\Usuario\\AppData\\Local\\Temp\\ipykernel_34352\\791043141.py:42: UserWarning: Parsing dates in %Y-%m-%d format when dayfirst=True was specified. Pass `dayfirst=False` or specify a format to silence this warning.\n",
      "  data_fim = pd.to_datetime(datas[1].strip(), dayfirst=True).normalize()\n",
      "C:\\Users\\Usuario\\AppData\\Local\\Temp\\ipykernel_34352\\791043141.py:42: UserWarning: Parsing dates in %Y-%m-%d format when dayfirst=True was specified. Pass `dayfirst=False` or specify a format to silence this warning.\n",
      "  data_fim = pd.to_datetime(datas[1].strip(), dayfirst=True).normalize()\n",
      "C:\\Users\\Usuario\\AppData\\Local\\Temp\\ipykernel_34352\\791043141.py:41: UserWarning: Parsing dates in %Y-%m-%d format when dayfirst=True was specified. Pass `dayfirst=False` or specify a format to silence this warning.\n",
      "  data_inicio = pd.to_datetime(datas[0].strip(), dayfirst=True).normalize()\n",
      "C:\\Users\\Usuario\\AppData\\Local\\Temp\\ipykernel_34352\\791043141.py:42: UserWarning: Parsing dates in %Y-%m-%d format when dayfirst=True was specified. Pass `dayfirst=False` or specify a format to silence this warning.\n",
      "  data_fim = pd.to_datetime(datas[1].strip(), dayfirst=True).normalize()\n",
      "C:\\Users\\Usuario\\AppData\\Local\\Temp\\ipykernel_34352\\791043141.py:41: UserWarning: Parsing dates in %Y-%m-%d format when dayfirst=True was specified. Pass `dayfirst=False` or specify a format to silence this warning.\n",
      "  data_inicio = pd.to_datetime(datas[0].strip(), dayfirst=True).normalize()\n",
      "C:\\Users\\Usuario\\AppData\\Local\\Temp\\ipykernel_34352\\791043141.py:42: UserWarning: Parsing dates in %Y-%m-%d format when dayfirst=True was specified. Pass `dayfirst=False` or specify a format to silence this warning.\n",
      "  data_fim = pd.to_datetime(datas[1].strip(), dayfirst=True).normalize()\n",
      "C:\\Users\\Usuario\\AppData\\Local\\Temp\\ipykernel_34352\\791043141.py:41: UserWarning: Parsing dates in %Y-%m-%d format when dayfirst=True was specified. Pass `dayfirst=False` or specify a format to silence this warning.\n",
      "  data_inicio = pd.to_datetime(datas[0].strip(), dayfirst=True).normalize()\n",
      "C:\\Users\\Usuario\\AppData\\Local\\Temp\\ipykernel_34352\\791043141.py:42: UserWarning: Parsing dates in %Y-%m-%d format when dayfirst=True was specified. Pass `dayfirst=False` or specify a format to silence this warning.\n",
      "  data_fim = pd.to_datetime(datas[1].strip(), dayfirst=True).normalize()\n",
      "C:\\Users\\Usuario\\AppData\\Local\\Temp\\ipykernel_34352\\791043141.py:41: UserWarning: Parsing dates in %Y-%m-%d format when dayfirst=True was specified. Pass `dayfirst=False` or specify a format to silence this warning.\n",
      "  data_inicio = pd.to_datetime(datas[0].strip(), dayfirst=True).normalize()\n",
      "C:\\Users\\Usuario\\AppData\\Local\\Temp\\ipykernel_34352\\791043141.py:42: UserWarning: Parsing dates in %Y-%m-%d format when dayfirst=True was specified. Pass `dayfirst=False` or specify a format to silence this warning.\n",
      "  data_fim = pd.to_datetime(datas[1].strip(), dayfirst=True).normalize()\n",
      "C:\\Users\\Usuario\\AppData\\Local\\Temp\\ipykernel_34352\\791043141.py:41: UserWarning: Parsing dates in %Y-%m-%d format when dayfirst=True was specified. Pass `dayfirst=False` or specify a format to silence this warning.\n",
      "  data_inicio = pd.to_datetime(datas[0].strip(), dayfirst=True).normalize()\n",
      "C:\\Users\\Usuario\\AppData\\Local\\Temp\\ipykernel_34352\\791043141.py:42: UserWarning: Parsing dates in %Y-%m-%d format when dayfirst=True was specified. Pass `dayfirst=False` or specify a format to silence this warning.\n",
      "  data_fim = pd.to_datetime(datas[1].strip(), dayfirst=True).normalize()\n",
      "C:\\Users\\Usuario\\AppData\\Local\\Temp\\ipykernel_34352\\791043141.py:41: UserWarning: Parsing dates in %Y-%m-%d format when dayfirst=True was specified. Pass `dayfirst=False` or specify a format to silence this warning.\n",
      "  data_inicio = pd.to_datetime(datas[0].strip(), dayfirst=True).normalize()\n",
      "C:\\Users\\Usuario\\AppData\\Local\\Temp\\ipykernel_34352\\791043141.py:42: UserWarning: Parsing dates in %Y-%m-%d format when dayfirst=True was specified. Pass `dayfirst=False` or specify a format to silence this warning.\n",
      "  data_fim = pd.to_datetime(datas[1].strip(), dayfirst=True).normalize()\n",
      "C:\\Users\\Usuario\\AppData\\Local\\Temp\\ipykernel_34352\\791043141.py:41: UserWarning: Parsing dates in %Y-%m-%d format when dayfirst=True was specified. Pass `dayfirst=False` or specify a format to silence this warning.\n",
      "  data_inicio = pd.to_datetime(datas[0].strip(), dayfirst=True).normalize()\n",
      "C:\\Users\\Usuario\\AppData\\Local\\Temp\\ipykernel_34352\\791043141.py:42: UserWarning: Parsing dates in %Y-%m-%d format when dayfirst=True was specified. Pass `dayfirst=False` or specify a format to silence this warning.\n",
      "  data_fim = pd.to_datetime(datas[1].strip(), dayfirst=True).normalize()\n",
      "C:\\Users\\Usuario\\AppData\\Local\\Temp\\ipykernel_34352\\791043141.py:41: UserWarning: Parsing dates in %Y-%m-%d format when dayfirst=True was specified. Pass `dayfirst=False` or specify a format to silence this warning.\n",
      "  data_inicio = pd.to_datetime(datas[0].strip(), dayfirst=True).normalize()\n",
      "C:\\Users\\Usuario\\AppData\\Local\\Temp\\ipykernel_34352\\791043141.py:42: UserWarning: Parsing dates in %Y-%m-%d format when dayfirst=True was specified. Pass `dayfirst=False` or specify a format to silence this warning.\n",
      "  data_fim = pd.to_datetime(datas[1].strip(), dayfirst=True).normalize()\n",
      "C:\\Users\\Usuario\\AppData\\Local\\Temp\\ipykernel_34352\\791043141.py:41: UserWarning: Parsing dates in %Y-%m-%d format when dayfirst=True was specified. Pass `dayfirst=False` or specify a format to silence this warning.\n",
      "  data_inicio = pd.to_datetime(datas[0].strip(), dayfirst=True).normalize()\n",
      "C:\\Users\\Usuario\\AppData\\Local\\Temp\\ipykernel_34352\\791043141.py:42: UserWarning: Parsing dates in %Y-%m-%d format when dayfirst=True was specified. Pass `dayfirst=False` or specify a format to silence this warning.\n",
      "  data_fim = pd.to_datetime(datas[1].strip(), dayfirst=True).normalize()\n",
      "C:\\Users\\Usuario\\AppData\\Local\\Temp\\ipykernel_34352\\791043141.py:41: UserWarning: Parsing dates in %Y-%m-%d format when dayfirst=True was specified. Pass `dayfirst=False` or specify a format to silence this warning.\n",
      "  data_inicio = pd.to_datetime(datas[0].strip(), dayfirst=True).normalize()\n",
      "C:\\Users\\Usuario\\AppData\\Local\\Temp\\ipykernel_34352\\791043141.py:42: UserWarning: Parsing dates in %Y-%m-%d format when dayfirst=True was specified. Pass `dayfirst=False` or specify a format to silence this warning.\n",
      "  data_fim = pd.to_datetime(datas[1].strip(), dayfirst=True).normalize()\n",
      "C:\\Users\\Usuario\\AppData\\Local\\Temp\\ipykernel_34352\\791043141.py:41: UserWarning: Parsing dates in %Y-%m-%d format when dayfirst=True was specified. Pass `dayfirst=False` or specify a format to silence this warning.\n",
      "  data_inicio = pd.to_datetime(datas[0].strip(), dayfirst=True).normalize()\n",
      "C:\\Users\\Usuario\\AppData\\Local\\Temp\\ipykernel_34352\\791043141.py:41: UserWarning: Parsing dates in %Y-%m-%d format when dayfirst=True was specified. Pass `dayfirst=False` or specify a format to silence this warning.\n",
      "  data_inicio = pd.to_datetime(datas[0].strip(), dayfirst=True).normalize()\n",
      "C:\\Users\\Usuario\\AppData\\Local\\Temp\\ipykernel_34352\\791043141.py:42: UserWarning: Parsing dates in %Y-%m-%d format when dayfirst=True was specified. Pass `dayfirst=False` or specify a format to silence this warning.\n",
      "  data_fim = pd.to_datetime(datas[1].strip(), dayfirst=True).normalize()\n",
      "C:\\Users\\Usuario\\AppData\\Local\\Temp\\ipykernel_34352\\791043141.py:42: UserWarning: Parsing dates in %Y-%m-%d format when dayfirst=True was specified. Pass `dayfirst=False` or specify a format to silence this warning.\n",
      "  data_fim = pd.to_datetime(datas[1].strip(), dayfirst=True).normalize()\n",
      "C:\\Users\\Usuario\\AppData\\Local\\Temp\\ipykernel_34352\\791043141.py:41: UserWarning: Parsing dates in %Y-%m-%d format when dayfirst=True was specified. Pass `dayfirst=False` or specify a format to silence this warning.\n",
      "  data_inicio = pd.to_datetime(datas[0].strip(), dayfirst=True).normalize()\n",
      "C:\\Users\\Usuario\\AppData\\Local\\Temp\\ipykernel_34352\\791043141.py:42: UserWarning: Parsing dates in %Y-%m-%d format when dayfirst=True was specified. Pass `dayfirst=False` or specify a format to silence this warning.\n",
      "  data_fim = pd.to_datetime(datas[1].strip(), dayfirst=True).normalize()\n"
     ]
    },
    {
     "name": "stdout",
     "output_type": "stream",
     "text": [
      "Linhas processadas: 50 (removidas 0 linhas com dados ausentes)\n",
      "Período: 2021-03-17 - 2021-04-14\n",
      "Selecionadas 5 ações para o portfólio.\n",
      "Ações compradas: ['AWK', 'COST', 'AJG', 'XEL', 'O']\n",
      "Retorno de cada ação:\n",
      " - AWK: 11.50741283507968%\n",
      " - COST: 8.226440785048307%\n",
      " - AJG: 8.576796622213587%\n",
      " - XEL: 7.44889056070354%\n",
      " - O: 4.905586762100404%\n",
      "Retorno do período: 8.13%\n",
      "Valor do portfólio ao final do período: $569147.31\n",
      "\n",
      "\n",
      "Processando a planilha: Período 28\n",
      "Linhas processadas: 50 (removidas 0 linhas com dados ausentes)\n",
      "Período: 2021-04-15 - 2021-12-05\n",
      "Selecionadas 5 ações para o portfólio.\n",
      "Ações compradas: ['MDLZ', 'AVB', 'L', 'AJG', 'WM']\n",
      "Retorno de cada ação:\n",
      " - MDLZ: 3.892172885004371%\n",
      " - AVB: 0.0829864028408223%\n",
      " - L: 4.938152050934859%\n",
      " - AJG: 5.427566331083598%\n",
      " - WM: 2.424601180506462%\n",
      "Retorno do período: 3.35%\n",
      "Valor do portfólio ao final do período: $588231.37\n",
      "\n",
      "\n",
      "Processando a planilha: Período 29\n",
      "Linhas processadas: 50 (removidas 0 linhas com dados ausentes)\n",
      "Período: 2021-05-13 - 2021-10-06\n",
      "Selecionadas 5 ações para o portfólio.\n",
      "Ações compradas: ['BXP', 'O', 'EQR', 'ESS', 'AVB']\n",
      "Retorno de cada ação:\n",
      " - BXP: 8.75078292285977%\n",
      " - O: 8.551274654161855%\n",
      " - EQR: 8.13120930673878%\n",
      " - ESS: 7.671272098692847%\n",
      " - AVB: 7.575067723869757%\n",
      "Retorno do período: 8.14%\n",
      "Valor do portfólio ao final do período: $636089.41\n",
      "\n",
      "\n",
      "Processando a planilha: Período 30\n",
      "Linhas processadas: 50 (removidas 0 linhas com dados ausentes)\n",
      "Período: 2021-11-06 - 2021-09-07\n",
      "Selecionadas 5 ações para o portfólio.\n",
      "Ações compradas: ['KMB', 'COST', 'NEE', 'PAYX', 'JNJ']\n",
      "Retorno de cada ação:\n",
      " - KMB: 4.646357078064784%\n",
      " - COST: 8.33036470337535%\n",
      " - NEE: 2.279434885696627%\n",
      " - PAYX: 7.494706787108152%\n",
      " - JNJ: 3.184179334372921%\n",
      "Retorno do período: 5.19%\n",
      "Valor do portfólio ao final do período: $669083.42\n",
      "\n",
      "\n",
      "Processando a planilha: Período 31\n",
      "Linhas processadas: 50 (removidas 0 linhas com dados ausentes)\n",
      "Período: 2021-12-07 - 2021-06-08\n",
      "Selecionadas 5 ações para o portfólio.\n",
      "Ações compradas: ['ES', 'NEE', 'CMS', 'SO', 'EXC']\n",
      "Retorno de cada ação:\n",
      " - ES: 3.256103908311127%\n",
      " - NEE: 4.815784518051842%\n",
      " - CMS: 3.511197115288176%\n",
      " - SO: 3.187859263198847%\n",
      " - EXC: 4.007810621826157%\n",
      "Retorno do período: 3.76%\n",
      "Valor do portfólio ao final do período: $694212.53\n",
      "\n",
      "\n",
      "Processando a planilha: Período 32\n",
      "Linhas processadas: 50 (removidas 0 linhas com dados ausentes)\n",
      "Período: 2021-09-08 - 2021-03-09\n",
      "Selecionadas 5 ações para o portfólio.\n",
      "Ações compradas: ['ETR', 'ESS', 'CPT', 'MAA', 'NEE']\n",
      "Retorno de cada ação:\n",
      " - ETR: 3.498660797613085%\n",
      " - ESS: 6.363693726476292%\n",
      " - CPT: 5.643758872467016%\n",
      " - MAA: 5.109463251730763%\n",
      " - NEE: 3.646060824940061%\n",
      "Retorno do período: 4.85%\n",
      "Valor do portfólio ao final do período: $727898.00\n",
      "\n",
      "\n",
      "Processando a planilha: Período 33\n",
      "Linhas processadas: 50 (removidas 0 linhas com dados ausentes)\n",
      "Período: 2021-07-09 - 2021-04-10\n",
      "Selecionadas 5 ações para o portfólio.\n",
      "Ações compradas: ['PAYX', 'WRB', 'MCD', 'HIG', 'EQR']\n",
      "Retorno de cada ação:\n",
      " - PAYX: 4.181520183963619%\n",
      " - WRB: 3.254589501498877%\n",
      " - MCD: 1.617426404034425%\n",
      " - HIG: 1.768429120670324%\n",
      " - EQR: 2.656395731291385%\n",
      "Retorno do período: 2.70%\n",
      "Valor do portfólio ao final do período: $747519.74\n",
      "\n",
      "\n",
      "Processando a planilha: Período 34\n",
      "Linhas processadas: 50 (removidas 0 linhas com dados ausentes)\n",
      "Período: 2021-05-10 - 2021-01-11\n",
      "Selecionadas 5 ações para o portfólio.\n",
      "Ações compradas: ['WMT', 'ROP', 'FE', 'INVH', 'NEE']\n",
      "Retorno de cada ação:\n",
      " - WMT: 7.002328510260111%\n",
      " - ROP: 5.932255068824582%\n",
      " - FE: 6.880899158211585%\n",
      " - INVH: 6.531704203053616%\n",
      " - NEE: 6.492021952053216%\n",
      "Retorno do período: 6.57%\n",
      "Valor do portfólio ao final do período: $796615.65\n",
      "\n",
      "\n",
      "Processando a planilha: Período 35\n",
      "Linhas processadas: 50 (removidas 0 linhas com dados ausentes)\n",
      "Período: 2021-02-11 - 2021-11-30\n",
      "Selecionadas 5 ações para o portfólio.\n",
      "Ações compradas: ['PNW', 'ED', 'SBAC', 'XEL', 'EVRG']\n",
      "Retorno de cada ação:\n",
      " - PNW: 2.050388860760321%\n",
      " - ED: 0.2572818238776401%\n",
      " - SBAC: 0.04792604271072028%\n",
      " - XEL: -0.1097730566033025%\n",
      " - EVRG: -1.589431076294387%\n",
      "Retorno do período: 0.13%\n",
      "Valor do portfólio ao final do período: $797661.44\n",
      "\n",
      "\n",
      "Processando a planilha: Período 36\n",
      "Linhas processadas: 50 (removidas 0 linhas com dados ausentes)\n",
      "Período: 2021-01-12 - 2021-12-29\n",
      "Selecionadas 5 ações para o portfólio.\n",
      "Ações compradas: ['ATO', 'NI', 'CL', 'ETR', 'PAYX']\n",
      "Retorno de cada ação:\n",
      " - ATO: 10.31053737062036%\n",
      " - NI: 7.572001897345797%\n",
      " - CL: 7.747458073188486%\n",
      " - ETR: 6.966615764437613%\n",
      " - PAYX: 11.93037165756504%\n",
      "Retorno do período: 8.91%\n",
      "Valor do portfólio ao final do período: $868696.36\n",
      "\n",
      "\n",
      "Processando a planilha: Período 37\n",
      "Linhas processadas: 50 (removidas 0 linhas com dados ausentes)\n",
      "Período: 2021-12-30 - 2022-01-27\n",
      "Selecionadas 5 ações para o portfólio.\n",
      "Ações compradas: ['KMI', 'SRE', 'AFL', 'ALL', 'ACGL']\n",
      "Retorno de cada ação:\n",
      " - KMI: 5.286031508336497%\n",
      " - SRE: 1.176371446727519%\n",
      " - AFL: 2.80184576340528%\n",
      " - ALL: -0.7291384237383151%\n",
      " - ACGL: -0.7785653595829636%\n",
      "Retorno do período: 1.55%\n",
      "Valor do portfólio ao final do período: $882172.52\n",
      "\n",
      "\n",
      "Processando a planilha: Período 38\n",
      "Linhas processadas: 50 (removidas 0 linhas com dados ausentes)\n",
      "Período: 2022-01-28 - 2022-02-25\n",
      "Selecionadas 5 ações para o portfólio.\n",
      "Ações compradas: ['SYY', 'BXP', 'DRI', 'HOLX', 'ALL']\n",
      "Retorno de cada ação:\n",
      " - SYY: 8.687603002844549%\n",
      " - BXP: 6.638687653285468%\n",
      " - DRI: 2.959001957209407%\n",
      " - HOLX: 0.3182233369395679%\n",
      " - ALL: 6.065764456198273%\n",
      "Retorno do período: 4.93%\n",
      "Valor do portfólio ao final do período: $925697.64\n",
      "\n",
      "\n",
      "Processando a planilha: Período 39\n",
      "Linhas processadas: 50 (removidas 0 linhas com dados ausentes)\n",
      "Período: 2022-02-28 - 2022-03-25\n",
      "Selecionadas 5 ações para o portfólio.\n",
      "Ações compradas: ['PLD', 'WRB', 'EVRG', 'PSA', 'AWK']\n",
      "Retorno de cada ação:\n",
      " - PLD: 5.563831000850186%\n",
      " - WRB: 9.236781853169111%\n",
      " - EVRG: 7.79494938667581%\n",
      " - PSA: 1.368828489743946%\n",
      " - AWK: 2.931940038333948%\n",
      "Retorno do período: 5.38%\n",
      "Valor do portfólio ao final do período: $975493.38\n",
      "\n",
      "\n",
      "Processando a planilha: Período 40\n",
      "Linhas processadas: 50 (removidas 0 linhas com dados ausentes)\n",
      "Período: 2022-03-28 - 2022-04-25\n",
      "Selecionadas 5 ações para o portfólio.\n",
      "Ações compradas: ['PM', 'CL', 'AMT', 'PPL', 'CCI']\n",
      "Retorno de cada ação:\n",
      " - PM: 8.749897769002555%\n",
      " - CL: 8.175328073108842%\n",
      " - AMT: 3.783584204853031%\n",
      " - PPL: 4.11579719376612%\n",
      " - CCI: 4.382493816591609%\n",
      "Retorno do período: 5.84%\n",
      "Valor do portfólio ao final do período: $1032476.05\n",
      "\n",
      "\n",
      "Processando a planilha: Período 41\n",
      "Linhas processadas: 50 (removidas 0 linhas com dados ausentes)\n",
      "Período: 2022-04-26 - 2022-05-23\n",
      "Selecionadas 5 ações para o portfólio.\n",
      "Ações compradas: ['HOLX', 'GILD', 'NI', 'KMI', 'PNW']\n",
      "Retorno de cada ação:\n",
      " - HOLX: 9.051267057995403%\n",
      " - GILD: 7.027302884126526%\n",
      " - NI: 5.446473265168865%\n",
      " - KMI: 5.415419361546443%\n",
      " - PNW: 5.452546782698813%\n",
      "Retorno do período: 6.48%\n",
      "Valor do portfólio ao final do período: $1099366.06\n",
      "\n",
      "\n",
      "Processando a planilha: Período 42\n",
      "Linhas processadas: 50 (removidas 0 linhas com dados ausentes)\n",
      "Período: 2022-05-24 - 2022-06-22\n",
      "Selecionadas 5 ações para o portfólio.\n",
      "Ações compradas: ['NDAQ', 'CBOE', 'IBM', 'K', 'HII']\n",
      "Retorno de cada ação:\n",
      " - NDAQ: -0.9222760468970544%\n",
      " - CBOE: -2.233061398944542%\n",
      " - IBM: -1.585003305208495%\n",
      " - K: -1.910382958613686%\n",
      " - HII: -2.335836710470279%\n",
      "Retorno do período: -1.80%\n",
      "Valor do portfólio ao final do período: $1079607.02\n",
      "\n",
      "\n",
      "Processando a planilha: Período 43\n",
      "Linhas processadas: 50 (removidas 0 linhas com dados ausentes)\n",
      "Período: 2022-06-23 - 2022-07-21\n",
      "Selecionadas 5 ações para o portfólio.\n",
      "Ações compradas: ['HD', 'VICI', 'CBOE', 'WMT', 'VRSK']\n",
      "Retorno de cada ação:\n",
      " - HD: 12.13344957732011%\n",
      " - VICI: 7.847793077436845%\n",
      " - CBOE: 8.346929275840708%\n",
      " - WMT: 7.991087168387426%\n",
      " - VRSK: 8.924345484247887%\n",
      "Retorno do período: 9.05%\n",
      "Valor do portfólio ao final do período: $1177297.65\n",
      "\n",
      "\n",
      "Processando a planilha: Período 44\n"
     ]
    },
    {
     "name": "stderr",
     "output_type": "stream",
     "text": [
      "C:\\Users\\Usuario\\AppData\\Local\\Temp\\ipykernel_34352\\791043141.py:41: UserWarning: Parsing dates in %Y-%m-%d format when dayfirst=True was specified. Pass `dayfirst=False` or specify a format to silence this warning.\n",
      "  data_inicio = pd.to_datetime(datas[0].strip(), dayfirst=True).normalize()\n",
      "C:\\Users\\Usuario\\AppData\\Local\\Temp\\ipykernel_34352\\791043141.py:42: UserWarning: Parsing dates in %Y-%m-%d format when dayfirst=True was specified. Pass `dayfirst=False` or specify a format to silence this warning.\n",
      "  data_fim = pd.to_datetime(datas[1].strip(), dayfirst=True).normalize()\n",
      "C:\\Users\\Usuario\\AppData\\Local\\Temp\\ipykernel_34352\\791043141.py:41: UserWarning: Parsing dates in %Y-%m-%d format when dayfirst=True was specified. Pass `dayfirst=False` or specify a format to silence this warning.\n",
      "  data_inicio = pd.to_datetime(datas[0].strip(), dayfirst=True).normalize()\n",
      "C:\\Users\\Usuario\\AppData\\Local\\Temp\\ipykernel_34352\\791043141.py:42: UserWarning: Parsing dates in %Y-%m-%d format when dayfirst=True was specified. Pass `dayfirst=False` or specify a format to silence this warning.\n",
      "  data_fim = pd.to_datetime(datas[1].strip(), dayfirst=True).normalize()\n",
      "C:\\Users\\Usuario\\AppData\\Local\\Temp\\ipykernel_34352\\791043141.py:41: UserWarning: Parsing dates in %Y-%m-%d format when dayfirst=True was specified. Pass `dayfirst=False` or specify a format to silence this warning.\n",
      "  data_inicio = pd.to_datetime(datas[0].strip(), dayfirst=True).normalize()\n",
      "C:\\Users\\Usuario\\AppData\\Local\\Temp\\ipykernel_34352\\791043141.py:42: UserWarning: Parsing dates in %Y-%m-%d format when dayfirst=True was specified. Pass `dayfirst=False` or specify a format to silence this warning.\n",
      "  data_fim = pd.to_datetime(datas[1].strip(), dayfirst=True).normalize()\n",
      "C:\\Users\\Usuario\\AppData\\Local\\Temp\\ipykernel_34352\\791043141.py:41: UserWarning: Parsing dates in %Y-%m-%d format when dayfirst=True was specified. Pass `dayfirst=False` or specify a format to silence this warning.\n",
      "  data_inicio = pd.to_datetime(datas[0].strip(), dayfirst=True).normalize()\n",
      "C:\\Users\\Usuario\\AppData\\Local\\Temp\\ipykernel_34352\\791043141.py:42: UserWarning: Parsing dates in %Y-%m-%d format when dayfirst=True was specified. Pass `dayfirst=False` or specify a format to silence this warning.\n",
      "  data_fim = pd.to_datetime(datas[1].strip(), dayfirst=True).normalize()\n",
      "C:\\Users\\Usuario\\AppData\\Local\\Temp\\ipykernel_34352\\791043141.py:41: UserWarning: Parsing dates in %Y-%m-%d format when dayfirst=True was specified. Pass `dayfirst=False` or specify a format to silence this warning.\n",
      "  data_inicio = pd.to_datetime(datas[0].strip(), dayfirst=True).normalize()\n",
      "C:\\Users\\Usuario\\AppData\\Local\\Temp\\ipykernel_34352\\791043141.py:42: UserWarning: Parsing dates in %Y-%m-%d format when dayfirst=True was specified. Pass `dayfirst=False` or specify a format to silence this warning.\n",
      "  data_fim = pd.to_datetime(datas[1].strip(), dayfirst=True).normalize()\n",
      "C:\\Users\\Usuario\\AppData\\Local\\Temp\\ipykernel_34352\\791043141.py:41: UserWarning: Parsing dates in %Y-%m-%d format when dayfirst=True was specified. Pass `dayfirst=False` or specify a format to silence this warning.\n",
      "  data_inicio = pd.to_datetime(datas[0].strip(), dayfirst=True).normalize()\n",
      "C:\\Users\\Usuario\\AppData\\Local\\Temp\\ipykernel_34352\\791043141.py:42: UserWarning: Parsing dates in %Y-%m-%d format when dayfirst=True was specified. Pass `dayfirst=False` or specify a format to silence this warning.\n",
      "  data_fim = pd.to_datetime(datas[1].strip(), dayfirst=True).normalize()\n",
      "C:\\Users\\Usuario\\AppData\\Local\\Temp\\ipykernel_34352\\791043141.py:41: UserWarning: Parsing dates in %Y-%m-%d format when dayfirst=True was specified. Pass `dayfirst=False` or specify a format to silence this warning.\n",
      "  data_inicio = pd.to_datetime(datas[0].strip(), dayfirst=True).normalize()\n",
      "C:\\Users\\Usuario\\AppData\\Local\\Temp\\ipykernel_34352\\791043141.py:42: UserWarning: Parsing dates in %Y-%m-%d format when dayfirst=True was specified. Pass `dayfirst=False` or specify a format to silence this warning.\n",
      "  data_fim = pd.to_datetime(datas[1].strip(), dayfirst=True).normalize()\n",
      "C:\\Users\\Usuario\\AppData\\Local\\Temp\\ipykernel_34352\\791043141.py:41: UserWarning: Parsing dates in %Y-%m-%d format when dayfirst=True was specified. Pass `dayfirst=False` or specify a format to silence this warning.\n",
      "  data_inicio = pd.to_datetime(datas[0].strip(), dayfirst=True).normalize()\n",
      "C:\\Users\\Usuario\\AppData\\Local\\Temp\\ipykernel_34352\\791043141.py:42: UserWarning: Parsing dates in %Y-%m-%d format when dayfirst=True was specified. Pass `dayfirst=False` or specify a format to silence this warning.\n",
      "  data_fim = pd.to_datetime(datas[1].strip(), dayfirst=True).normalize()\n",
      "C:\\Users\\Usuario\\AppData\\Local\\Temp\\ipykernel_34352\\791043141.py:41: UserWarning: Parsing dates in %Y-%m-%d format when dayfirst=True was specified. Pass `dayfirst=False` or specify a format to silence this warning.\n",
      "  data_inicio = pd.to_datetime(datas[0].strip(), dayfirst=True).normalize()\n",
      "C:\\Users\\Usuario\\AppData\\Local\\Temp\\ipykernel_34352\\791043141.py:42: UserWarning: Parsing dates in %Y-%m-%d format when dayfirst=True was specified. Pass `dayfirst=False` or specify a format to silence this warning.\n",
      "  data_fim = pd.to_datetime(datas[1].strip(), dayfirst=True).normalize()\n",
      "C:\\Users\\Usuario\\AppData\\Local\\Temp\\ipykernel_34352\\791043141.py:41: UserWarning: Parsing dates in %Y-%m-%d format when dayfirst=True was specified. Pass `dayfirst=False` or specify a format to silence this warning.\n",
      "  data_inicio = pd.to_datetime(datas[0].strip(), dayfirst=True).normalize()\n",
      "C:\\Users\\Usuario\\AppData\\Local\\Temp\\ipykernel_34352\\791043141.py:41: UserWarning: Parsing dates in %Y-%m-%d format when dayfirst=True was specified. Pass `dayfirst=False` or specify a format to silence this warning.\n",
      "  data_inicio = pd.to_datetime(datas[0].strip(), dayfirst=True).normalize()\n",
      "C:\\Users\\Usuario\\AppData\\Local\\Temp\\ipykernel_34352\\791043141.py:41: UserWarning: Parsing dates in %Y-%m-%d format when dayfirst=True was specified. Pass `dayfirst=False` or specify a format to silence this warning.\n",
      "  data_inicio = pd.to_datetime(datas[0].strip(), dayfirst=True).normalize()\n",
      "C:\\Users\\Usuario\\AppData\\Local\\Temp\\ipykernel_34352\\791043141.py:41: UserWarning: Parsing dates in %Y-%m-%d format when dayfirst=True was specified. Pass `dayfirst=False` or specify a format to silence this warning.\n",
      "  data_inicio = pd.to_datetime(datas[0].strip(), dayfirst=True).normalize()\n"
     ]
    },
    {
     "name": "stdout",
     "output_type": "stream",
     "text": [
      "Linhas processadas: 50 (removidas 0 linhas com dados ausentes)\n",
      "Período: 2022-07-22 - 2022-08-18\n",
      "Selecionadas 5 ações para o portfólio.\n",
      "Ações compradas: ['AFL', 'TJX', 'ALL', 'WRB', 'ECL']\n",
      "Retorno de cada ação:\n",
      " - AFL: 14.20882830113481%\n",
      " - TJX: 11.67809866993204%\n",
      " - ALL: 12.84963822068831%\n",
      " - WRB: 6.743089112564267%\n",
      " - ECL: 8.778927127622849%\n",
      "Retorno do período: 10.85%\n",
      "Valor do portfólio ao final do período: $1305054.65\n",
      "\n",
      "\n",
      "Processando a planilha: Período 45\n",
      "Linhas processadas: 50 (removidas 0 linhas com dados ausentes)\n",
      "Período: 2022-08-19 - 2022-09-16\n",
      "Selecionadas 5 ações para o portfólio.\n",
      "Ações compradas: ['WRB', 'ACGL', 'WMT', 'YUM', 'CNP']\n",
      "Retorno de cada ação:\n",
      " - WRB: 0.9455726118680547%\n",
      " - ACGL: -0.3433476465357038%\n",
      " - WMT: -1.32758461789767%\n",
      " - YUM: 1.400640595682244%\n",
      " - CNP: -0.7152938855780259%\n",
      "Retorno do período: -0.01%\n",
      "Valor do portfólio ao final do período: $1304950.21\n",
      "\n",
      "\n",
      "Processando a planilha: Período 46\n",
      "Linhas processadas: 50 (removidas 0 linhas com dados ausentes)\n",
      "Período: 2022-09-19 - 2022-10-14\n",
      "Selecionadas 5 ações para o portfólio.\n",
      "Ações compradas: ['PCAR', 'CINF', 'CPB', 'ORLY', 'HIG']\n",
      "Retorno de cada ação:\n",
      " - PCAR: 3.892629158281333%\n",
      " - CINF: 6.313262121738051%\n",
      " - CPB: 3.163732842099003%\n",
      " - ORLY: 5.381976873389304%\n",
      " - HIG: 3.712866326060631%\n",
      "Retorno do período: 4.49%\n",
      "Valor do portfólio ao final do período: $1363580.24\n",
      "\n",
      "\n",
      "Processando a planilha: Período 47\n",
      "Linhas processadas: 50 (removidas 0 linhas com dados ausentes)\n",
      "Período: 2022-10-17 - 2022-11-11\n",
      "Selecionadas 5 ações para o portfólio.\n",
      "Ações compradas: ['SPG', 'AME', 'NDAQ', 'KIM', 'ETN']\n",
      "Retorno de cada ação:\n",
      " - SPG: 20.1031395951396%\n",
      " - AME: 18.75930186036527%\n",
      " - NDAQ: 15.54567498358672%\n",
      " - KIM: 14.32397415713208%\n",
      " - ETN: 18.30586146593714%\n",
      "Retorno do período: 17.41%\n",
      "Valor do portfólio ao final do período: $1600946.70\n",
      "\n",
      "\n",
      "Processando a planilha: Período 48\n",
      "Linhas processadas: 50 (removidas 0 linhas com dados ausentes)\n",
      "Período: 2022-11-14 - 2022-12-12\n",
      "Selecionadas 5 ações para o portfólio.\n",
      "Ações compradas: ['EXC', 'AEP', 'KMB', 'PG', 'ES']\n",
      "Retorno de cada ação:\n",
      " - EXC: 12.56966597048334%\n",
      " - AEP: 10.11414958998444%\n",
      " - KMB: 7.668174662550486%\n",
      " - PG: 7.913024308355814%\n",
      " - ES: 9.28628301074013%\n",
      "Retorno do período: 9.51%\n",
      "Valor do portfólio ao final do período: $1753200.88\n",
      "\n",
      "\n",
      "Processando a planilha: Período 49\n",
      "Linhas processadas: 50 (removidas 0 linhas com dados ausentes)\n",
      "Período: 2022-12-13 - 2023-11-01\n",
      "Selecionadas 5 ações para o portfólio.\n",
      "Ações compradas: ['CINF', 'V', 'ALL', 'PEG', 'ECL']\n",
      "Retorno de cada ação:\n",
      " - CINF: 7.23524182009648%\n",
      " - V: 7.094052834261348%\n",
      " - ALL: 5.227224255855869%\n",
      " - PEG: 7.681711563737265%\n",
      " - ECL: 7.210025694179794%\n",
      "Retorno do período: 6.89%\n",
      "Valor do portfólio ao final do período: $1873990.31\n",
      "\n",
      "\n",
      "Processando a planilha: Período 50\n",
      "Linhas processadas: 50 (removidas 0 linhas com dados ausentes)\n",
      "Período: 2023-12-01 - 2023-09-02\n",
      "Selecionadas 5 ações para o portfólio.\n",
      "Ações compradas: ['MAA', 'AVB', 'CPT', 'INVH', 'EQR']\n",
      "Retorno de cada ação:\n",
      " - MAA: 8.41220057031469%\n",
      " - AVB: 6.718458599019067%\n",
      " - CPT: 5.756796911626381%\n",
      " - INVH: 5.253605152198068%\n",
      " - EQR: 5.774371354038265%\n",
      "Retorno do período: 6.38%\n",
      "Valor do portfólio ao final do período: $1993608.73\n",
      "\n",
      "\n",
      "Processando a planilha: Período 51\n",
      "Linhas processadas: 50 (removidas 0 linhas com dados ausentes)\n",
      "Período: 2023-10-02 - 2023-10-03\n",
      "Selecionadas 5 ações para o portfólio.\n",
      "Ações compradas: ['WM', 'ACGL', 'KO', 'ED', 'ROP']\n",
      "Retorno de cada ação:\n",
      " - WM: -1.39618427196065%\n",
      " - ACGL: -2.0358868061013%\n",
      " - KO: -0.6397406329298195%\n",
      " - ED: -0.6379754674849848%\n",
      " - ROP: -0.2993062578220398%\n",
      "Retorno do período: -1.00%\n",
      "Valor do portfólio ao final do período: $1973636.39\n",
      "\n",
      "\n",
      "Processando a planilha: Período 52\n",
      "Linhas processadas: 50 (removidas 0 linhas com dados ausentes)\n",
      "Período: 2023-03-13 - 2023-10-04\n",
      "Selecionadas 5 ações para o portfólio.\n",
      "Ações compradas: ['XOM', 'MSFT', 'KMB', 'DGX', 'PG']\n",
      "Retorno de cada ação:\n",
      " - XOM: 12.55065255858482%\n",
      " - MSFT: 4.66500404807569%\n",
      " - KMB: 6.601004652263269%\n",
      " - DGX: 7.262525586069795%\n",
      " - PG: 5.493969241612273%\n",
      "Retorno do período: 7.31%\n",
      "Valor do portfólio ao final do período: $2118000.61\n",
      "\n",
      "\n",
      "Processando a planilha: Período 53\n",
      "Linhas processadas: 50 (removidas 0 linhas com dados ausentes)\n",
      "Período: 2023-11-04 - 2023-08-05\n",
      "Selecionadas 5 ações para o portfólio.\n",
      "Ações compradas: ['INVH', 'CPT', 'AVB', 'HSY', 'EQR']\n",
      "Retorno de cada ação:\n",
      " - INVH: 6.550844187106962%\n",
      " - CPT: 6.927656882495116%\n",
      " - AVB: 5.998019398892583%\n",
      " - HSY: 6.966391378299982%\n",
      " - EQR: 4.780616087318296%\n",
      "Retorno do período: 6.24%\n",
      "Valor do portfólio ao final do período: $2250263.52\n",
      "\n",
      "\n",
      "Processando a planilha: Período 54\n",
      "Linhas processadas: 50 (removidas 0 linhas com dados ausentes)\n",
      "Período: 2023-09-05 - 2023-06-06\n",
      "Selecionadas 5 ações para o portfólio.\n",
      "Ações compradas: ['PAYX', 'ESS', 'INVH', 'HIG', 'KMI']\n",
      "Retorno de cada ação:\n",
      " - PAYX: 4.14168345398839%\n",
      " - ESS: 4.699278196358271%\n",
      " - INVH: 0.5571030666459847%\n",
      " - HIG: 2.147147924055122%\n",
      " - KMI: 0.2971817961905269%\n",
      "Retorno do período: 2.37%\n",
      "Valor do portfólio ao final do período: $2303560.53\n",
      "\n",
      "\n",
      "Processando a planilha: Período 55\n",
      "Linhas processadas: 50 (removidas 0 linhas com dados ausentes)\n",
      "Período: 2023-07-06 - 2023-06-07\n",
      "Selecionadas 5 ações para o portfólio.\n",
      "Ações compradas: ['V', 'ROP', 'WRB', 'PG', 'VZ']\n",
      "Retorno de cada ação:\n",
      " - V: 5.467447904444412%\n",
      " - ROP: 4.939724615947991%\n",
      " - WRB: 4.318797911378935%\n",
      " - PG: 4.425736399123982%\n",
      " - VZ: 4.179872297350613%\n",
      "Retorno do período: 4.67%\n",
      "Valor do portfólio ao final do período: $2411051.94\n",
      "\n",
      "\n",
      "Processando a planilha: Período 56\n",
      "Linhas processadas: 50 (removidas 0 linhas com dados ausentes)\n",
      "Período: 2023-07-07 - 2023-03-08\n",
      "Selecionadas 5 ações para o portfólio.\n",
      "Ações compradas: ['BXP', 'PAYX', 'PG', 'WRB', 'ETR']\n",
      "Retorno de cada ação:\n",
      " - BXP: 9.498219247503851%\n",
      " - PAYX: 5.025104932036456%\n",
      " - PG: 5.958765860244241%\n",
      " - WRB: 4.461229770853969%\n",
      " - ETR: -0.05085543223723261%\n",
      "Retorno do período: 4.98%\n",
      "Valor do portfólio ao final do período: $2531085.99\n",
      "\n",
      "\n",
      "Processando a planilha: Período 57\n",
      "Linhas processadas: 50 (removidas 0 linhas com dados ausentes)\n",
      "Período: 2023-04-08 - 2023-08-31\n",
      "Selecionadas 5 ações para o portfólio.\n",
      "Ações compradas: ['MMC', 'ATO', 'V', 'KMB', 'MSFT']\n",
      "Retorno de cada ação:\n",
      " - MMC: 2.208948197120341%\n",
      " - ATO: -0.6746805510026656%\n",
      " - V: 2.627013105902471%\n",
      " - KMB: 0.7948968296766069%\n",
      " - MSFT: 1.91309446205883%\n",
      "Retorno do período: 1.37%\n",
      "Valor do portfólio ao final do período: $2565859.43\n",
      "\n",
      "\n",
      "Processando a planilha: Período 58\n",
      "Linhas processadas: 50 (removidas 0 linhas com dados ausentes)\n",
      "Período: 2023-01-09 - 2023-09-29\n",
      "Selecionadas 5 ações para o portfólio.\n",
      "Ações compradas: ['WRB', 'CB', 'TRV', 'L', 'AFL']\n",
      "Retorno de cada ação:\n",
      " - WRB: 3.671269341211639%\n",
      " - CB: 2.429127397248309%\n",
      " - TRV: 1.629781264629835%\n",
      " - L: 2.010279428638911%\n",
      " - AFL: 2.77427239767192%\n",
      "Retorno do período: 2.50%\n",
      "Valor do portfólio ao final do período: $2630081.50\n",
      "\n",
      "\n",
      "Processando a planilha: Período 59\n",
      "Linhas processadas: 50 (removidas 0 linhas com dados ausentes)\n",
      "Período: 2023-02-10 - 2023-10-27\n",
      "Selecionadas 5 ações para o portfólio.\n",
      "Ações compradas: ['OKE', 'SRE', 'ED', 'WMB', 'GIS']\n",
      "Retorno de cada ação:\n",
      " - OKE: 4.692764454551781%\n",
      " - SRE: 5.105163095013236%\n",
      " - ED: 3.147212132583678%\n",
      " - WMB: 2.047249425950352%\n",
      " - GIS: 5.557427892723161%\n",
      "Retorno do período: 4.11%\n",
      "Valor do portfólio ao final do período: $2738176.89\n",
      "\n",
      "\n",
      "Processando a planilha: Período 60\n",
      "Linhas processadas: 50 (removidas 0 linhas com dados ausentes)\n",
      "Período: 2023-10-30 - 2023-11-27\n",
      "Selecionadas 5 ações para o portfólio.\n",
      "Ações compradas: ['ACN', 'SYY', 'PAYX', 'AME', 'VRSK']\n",
      "Retorno de cada ação:\n",
      " - ACN: 7.593988552101896%\n",
      " - SYY: 9.09386902977344%\n",
      " - PAYX: 6.375685353141416%\n",
      " - AME: 6.961437384910771%\n",
      " - VRSK: 4.728297936316914%\n",
      "Retorno do período: 6.95%\n",
      "Valor do portfólio ao final do período: $2928498.14\n",
      "\n",
      "\n",
      "Processando a planilha: Período 61\n",
      "Linhas processadas: 50 (removidas 0 linhas com dados ausentes)\n",
      "Período: 2023-11-28 - 2023-12-26\n",
      "Selecionadas 5 ações para o portfólio.\n",
      "Ações compradas: ['PSA', 'ICE', 'ACN', 'VICI', 'DTE']\n",
      "Retorno de cada ação:\n",
      " - PSA: 13.74293359044671%\n",
      " - ICE: 10.66936931099485%\n",
      " - ACN: 4.446214725179948%\n",
      " - VICI: 5.046362975334779%\n",
      " - DTE: 2.743433752293285%\n",
      "Retorno do período: 7.33%\n",
      "Valor do portfólio ao final do período: $3143147.18\n",
      "\n"
     ]
    },
    {
     "name": "stderr",
     "output_type": "stream",
     "text": [
      "C:\\Users\\Usuario\\AppData\\Local\\Temp\\ipykernel_34352\\791043141.py:42: UserWarning: Parsing dates in %Y-%m-%d format when dayfirst=True was specified. Pass `dayfirst=False` or specify a format to silence this warning.\n",
      "  data_fim = pd.to_datetime(datas[1].strip(), dayfirst=True).normalize()\n",
      "C:\\Users\\Usuario\\AppData\\Local\\Temp\\ipykernel_34352\\791043141.py:42: UserWarning: Parsing dates in %Y-%m-%d format when dayfirst=True was specified. Pass `dayfirst=False` or specify a format to silence this warning.\n",
      "  data_fim = pd.to_datetime(datas[1].strip(), dayfirst=True).normalize()\n",
      "C:\\Users\\Usuario\\AppData\\Local\\Temp\\ipykernel_34352\\791043141.py:42: UserWarning: Parsing dates in %Y-%m-%d format when dayfirst=True was specified. Pass `dayfirst=False` or specify a format to silence this warning.\n",
      "  data_fim = pd.to_datetime(datas[1].strip(), dayfirst=True).normalize()\n",
      "C:\\Users\\Usuario\\AppData\\Local\\Temp\\ipykernel_34352\\791043141.py:41: UserWarning: Parsing dates in %Y-%m-%d format when dayfirst=True was specified. Pass `dayfirst=False` or specify a format to silence this warning.\n",
      "  data_inicio = pd.to_datetime(datas[0].strip(), dayfirst=True).normalize()\n",
      "C:\\Users\\Usuario\\AppData\\Local\\Temp\\ipykernel_34352\\791043141.py:42: UserWarning: Parsing dates in %Y-%m-%d format when dayfirst=True was specified. Pass `dayfirst=False` or specify a format to silence this warning.\n",
      "  data_fim = pd.to_datetime(datas[1].strip(), dayfirst=True).normalize()\n",
      "C:\\Users\\Usuario\\AppData\\Local\\Temp\\ipykernel_34352\\791043141.py:41: UserWarning: Parsing dates in %Y-%m-%d format when dayfirst=True was specified. Pass `dayfirst=False` or specify a format to silence this warning.\n",
      "  data_inicio = pd.to_datetime(datas[0].strip(), dayfirst=True).normalize()\n",
      "C:\\Users\\Usuario\\AppData\\Local\\Temp\\ipykernel_34352\\791043141.py:42: UserWarning: Parsing dates in %Y-%m-%d format when dayfirst=True was specified. Pass `dayfirst=False` or specify a format to silence this warning.\n",
      "  data_fim = pd.to_datetime(datas[1].strip(), dayfirst=True).normalize()\n"
     ]
    }
   ],
   "source": [
    "import pandas as pd\n",
    "import numpy as np\n",
    "import yfinance as yf\n",
    "from datetime import timedelta\n",
    "import plotly.graph_objs as go\n",
    "\n",
    "# Valor inicial do portfólio\n",
    "valor_portfolio_inicial = 100000\n",
    "\n",
    "# Listas para armazenar o histórico do portfólio e as datas correspondentes\n",
    "historico_portfolio = []\n",
    "datas_portfolio = []\n",
    "datas_inicio_portfolio = []\n",
    "retornos_estrategia_periodo = []\n",
    "retornos_sp500_periodo = []\n",
    "\n",
    "# Nome do arquivo Excel\n",
    "arquivo_excel = 'resultados_portfolio_mensal_full_modified.xlsx'\n",
    "\n",
    "# Tentar ler o arquivo Excel\n",
    "try:\n",
    "    sheets = pd.read_excel(arquivo_excel, sheet_name=None, header=0)\n",
    "    print(f\"Arquivo '{arquivo_excel}' lido com sucesso.\")\n",
    "except FileNotFoundError:\n",
    "    print(f\"Arquivo '{arquivo_excel}' não encontrado. Verifique o caminho e o nome do arquivo.\")\n",
    "    exit()\n",
    "\n",
    "# Função para extrair dados de cada linha\n",
    "def extrair_dados(row):\n",
    "    acao_periodo = row['Acao']\n",
    "    if pd.isnull(acao_periodo):\n",
    "        return pd.Series([np.nan, np.nan, np.nan])\n",
    "    parts = acao_periodo.split(':')\n",
    "    if len(parts) != 2:\n",
    "        return pd.Series([np.nan, np.nan, np.nan])\n",
    "    simbolo = parts[0].strip()\n",
    "    datas = parts[1].strip().split(' - ')\n",
    "    if len(datas) != 2:\n",
    "        return pd.Series([np.nan, np.nan, np.nan])\n",
    "    try:\n",
    "        data_inicio = pd.to_datetime(datas[0].strip(), dayfirst=True).normalize()\n",
    "        data_fim = pd.to_datetime(datas[1].strip(), dayfirst=True).normalize()\n",
    "    except ValueError:\n",
    "        return pd.Series([np.nan, np.nan, np.nan])\n",
    "    return pd.Series([simbolo, data_inicio, data_fim])\n",
    "\n",
    "# Processar cada planilha\n",
    "for nome_sheet, df in sheets.items():\n",
    "    print(f\"\\nProcessando a planilha: {nome_sheet}\")\n",
    "    \n",
    "    # Verificar se o DataFrame está vazio\n",
    "    if df.empty:\n",
    "        print(f\"A planilha '{nome_sheet}' está vazia. Pulando este período.\")\n",
    "        continue\n",
    "\n",
    "    # Verificar se as colunas esperadas estão presentes\n",
    "    colunas_esperadas = ['Acao', 'Retorno Predito', 'Retorno Real']\n",
    "    if not all(col in df.columns for col in colunas_esperadas):\n",
    "        print(f\"A planilha '{nome_sheet}' não contém as colunas esperadas: {colunas_esperadas}. Pulando este período.\")\n",
    "        continue\n",
    "\n",
    "    # Aplicar a extração em cada linha\n",
    "    df[['Simbolo', 'Data_Inicio', 'Data_Fim']] = df.apply(extrair_dados, axis=1)\n",
    "\n",
    "    # Remover linhas com dados ausentes\n",
    "    linhas_antes = len(df)\n",
    "    df.dropna(subset=['Simbolo', 'Data_Inicio', 'Data_Fim'], inplace=True)\n",
    "    linhas_depois = len(df)\n",
    "    print(f\"Linhas processadas: {linhas_depois} (removidas {linhas_antes - linhas_depois} linhas com dados ausentes)\")\n",
    "\n",
    "    # Verificar se após a extração o DataFrame está vazio\n",
    "    if df.empty:\n",
    "        print(f\"A planilha '{nome_sheet}' não possui dados válidos após a extração. Pulando este período.\")\n",
    "        continue\n",
    "\n",
    "    # Obter a data de início e fim do período a partir da primeira linha\n",
    "    data_inicio = df['Data_Inicio'].iloc[0]\n",
    "    data_fim = df['Data_Fim'].iloc[0]\n",
    "\n",
    "    print(f\"Período: {data_inicio.date()} - {data_fim.date()}\")\n",
    "\n",
    "    # Ordenar pelo retorno predito\n",
    "    df = df.sort_values(by='Retorno Predito', ascending=False)\n",
    "\n",
    "    # Selecionar top 10%\n",
    "    n_acoes = max(int(len(df) * 0.10), 1)\n",
    "    acoes_compradas = df.head(n_acoes)\n",
    "    print(f\"Selecionadas {n_acoes} ações para o portfólio.\")\n",
    "\n",
    "    # Alocar capital igualmente entre as ações\n",
    "    if not historico_portfolio:\n",
    "        valor_portfolio_anterior = valor_portfolio_inicial\n",
    "    else:\n",
    "        valor_portfolio_anterior = historico_portfolio[-1]\n",
    "    valor_portfolio = valor_portfolio_anterior\n",
    "    alocacao_por_acao = valor_portfolio / n_acoes\n",
    "\n",
    "    # Calcular o retorno real\n",
    "    retornos = acoes_compradas['Retorno Real'] / 100  # Converter porcentagem para decimal\n",
    "    valor_final = alocacao_por_acao * (1 + retornos)\n",
    "\n",
    "    # Atualizar o valor do portfólio\n",
    "    valor_portfolio = valor_final.sum()\n",
    "    historico_portfolio.append(valor_portfolio)\n",
    "    datas_portfolio.append(data_fim)\n",
    "    datas_inicio_portfolio.append(data_inicio)\n",
    "\n",
    "    # Calcular o retorno do período\n",
    "    retorno_periodo = (valor_portfolio - valor_portfolio_anterior) / valor_portfolio_anterior * 100  # Em porcentagem\n",
    "    retornos_estrategia_periodo.append(retorno_periodo)\n",
    "\n",
    "    # Imprimir os resultados do período\n",
    "    print(f\"Ações compradas: {acoes_compradas['Simbolo'].tolist()}\")\n",
    "    print(\"Retorno de cada ação:\")\n",
    "    for index, row in acoes_compradas.iterrows():\n",
    "        print(f\" - {row['Simbolo']}: {row['Retorno Real']}%\")\n",
    "    print(f\"Retorno do período: {retorno_periodo:.2f}%\")\n",
    "    print(f\"Valor do portfólio ao final do período: ${valor_portfolio:.2f}\\n\")\n"
   ]
  },
  {
   "cell_type": "code",
   "execution_count": 5,
   "metadata": {},
   "outputs": [
    {
     "name": "stdout",
     "output_type": "stream",
     "text": [
      "\n",
      "Histórico do Portfólio:\n",
      "         Data         Valor\n",
      "0  2019-03-21  1.048594e+05\n",
      "1  2019-04-18  1.099599e+05\n",
      "2  2019-05-12  1.704766e+05\n",
      "3  2019-05-17  1.164842e+05\n",
      "4  2019-06-11  1.615429e+05\n",
      "5  2019-06-17  1.229856e+05\n",
      "6  2019-07-16  1.291283e+05\n",
      "7  2019-08-13  1.393745e+05\n",
      "8  2019-09-10  1.527601e+05\n",
      "9  2019-11-09  1.476409e+05\n",
      "10 2020-04-02  1.922536e+05\n",
      "11 2020-04-03  1.992954e+05\n",
      "12 2020-04-30  2.235101e+05\n",
      "13 2020-05-29  2.497388e+05\n",
      "14 2020-06-01  1.791620e+05\n",
      "15 2020-06-26  2.636060e+05\n",
      "16 2020-07-27  2.859065e+05\n",
      "17 2020-08-24  3.059696e+05\n",
      "18 2020-09-22  3.118747e+05\n",
      "19 2020-10-20  3.487903e+05\n",
      "20 2020-11-17  3.866707e+05\n",
      "21 2020-12-16  4.027791e+05\n",
      "22 2021-01-11  7.966157e+05\n",
      "23 2021-01-15  4.349880e+05\n",
      "24 2021-02-16  4.792084e+05\n",
      "25 2021-03-09  7.278980e+05\n",
      "26 2021-03-16  5.263400e+05\n",
      "27 2021-04-10  7.475197e+05\n",
      "28 2021-04-14  5.691473e+05\n",
      "29 2021-06-08  6.942125e+05\n",
      "30 2021-09-07  6.690834e+05\n",
      "31 2021-10-06  6.360894e+05\n",
      "32 2021-11-30  7.976614e+05\n",
      "33 2021-12-05  5.882314e+05\n",
      "34 2021-12-29  8.686964e+05\n",
      "35 2022-01-27  8.821725e+05\n",
      "36 2022-02-25  9.256976e+05\n",
      "37 2022-03-25  9.754934e+05\n",
      "38 2022-04-25  1.032476e+06\n",
      "39 2022-05-23  1.099366e+06\n",
      "40 2022-06-22  1.079607e+06\n",
      "41 2022-07-21  1.177298e+06\n",
      "42 2022-08-18  1.305055e+06\n",
      "43 2022-09-16  1.304950e+06\n",
      "44 2022-10-14  1.363580e+06\n",
      "45 2022-11-11  1.600947e+06\n",
      "46 2022-12-12  1.753201e+06\n",
      "47 2023-03-08  2.531086e+06\n",
      "48 2023-06-06  2.303561e+06\n",
      "49 2023-06-07  2.411052e+06\n",
      "50 2023-08-05  2.250264e+06\n",
      "51 2023-08-31  2.565859e+06\n",
      "52 2023-09-02  1.993609e+06\n",
      "53 2023-09-29  2.630082e+06\n",
      "54 2023-10-03  1.973636e+06\n",
      "55 2023-10-04  2.118001e+06\n",
      "56 2023-10-27  2.738177e+06\n",
      "57 2023-11-01  1.873990e+06\n",
      "58 2023-11-27  2.928498e+06\n",
      "59 2023-12-26  3.143147e+06\n"
     ]
    }
   ],
   "source": [
    "# Verificar se o histórico do portfólio está vazio\n",
    "if not historico_portfolio or not datas_portfolio:\n",
    "    print(\"Nenhum período foi processado com sucesso. Verifique os dados e tente novamente.\")\n",
    "    exit()\n",
    "else:\n",
    "    # Criar DataFrame com o histórico do portfólio\n",
    "    df_portfolio = pd.DataFrame({\n",
    "        'Data': datas_portfolio,\n",
    "        'Valor': historico_portfolio\n",
    "    })\n",
    "    # Ordenar por data\n",
    "    df_portfolio.sort_values(by='Data', inplace=True)\n",
    "    df_portfolio.reset_index(drop=True, inplace=True)\n",
    "\n",
    "    print(\"\\nHistórico do Portfólio:\")\n",
    "    print(df_portfolio)\n"
   ]
  },
  {
   "cell_type": "code",
   "execution_count": 6,
   "metadata": {},
   "outputs": [
    {
     "name": "stderr",
     "output_type": "stream",
     "text": [
      "[*********************100%***********************]  1 of 1 completed"
     ]
    },
    {
     "name": "stdout",
     "output_type": "stream",
     "text": [
      "\n",
      "Baixando dados do S&P500 de 2019-02-17 a 2023-12-31.\n",
      "Dados do S&P500 baixados com sucesso.\n",
      "Ajustando colunas de MultiIndex para nível único.\n",
      "Colunas em sp500 após conversão para minúsculas: ['date', 'adj close ^gspc', 'close ^gspc', 'high ^gspc', 'low ^gspc', 'open ^gspc', 'volume ^gspc']\n",
      "Coluna de preço selecionada: 'adj close ^gspc'\n",
      "Colunas em sp500_prices: ['date', 'Price']\n",
      "'Retorno' criado com sucesso em sp500_prices.\n",
      "        date        Price   Retorno\n",
      "0 2019-02-19  2779.760010  0.000000\n",
      "1 2019-02-20  2784.699951  0.001777\n",
      "2 2019-02-21  2774.879883 -0.003526\n",
      "3 2019-02-22  2792.669922  0.006411\n",
      "4 2019-02-25  2796.110107  0.001232\n"
     ]
    },
    {
     "name": "stderr",
     "output_type": "stream",
     "text": [
      "\n"
     ]
    }
   ],
   "source": [
    "# Obter dados do S&P500\n",
    "data_inicio_total = min(datas_inicio_portfolio) - timedelta(days=5)\n",
    "data_fim_total = max(datas_portfolio) + timedelta(days=5)\n",
    "print(f\"\\nBaixando dados do S&P500 de {data_inicio_total.date()} a {data_fim_total.date()}.\")\n",
    "    \n",
    "try:\n",
    "    # Baixar dados do S&P500 sem o parâmetro 'group_by'\n",
    "    sp500 = yf.download('^GSPC', start=data_inicio_total, end=data_fim_total)\n",
    "    print(\"Dados do S&P500 baixados com sucesso.\")\n",
    "except Exception as e:\n",
    "    print(f\"Erro ao baixar dados do S&P500: {e}\")\n",
    "    exit()\n",
    "\n",
    "# Resetar o índice para transformar o índice em coluna\n",
    "sp500.reset_index(inplace=True)\n",
    "\n",
    "# Verificar se as colunas são MultiIndex\n",
    "if isinstance(sp500.columns, pd.MultiIndex):\n",
    "    # Achatar as colunas combinando os níveis\n",
    "    sp500.columns = [' '.join(col).strip() for col in sp500.columns.values]\n",
    "    print(\"Ajustando colunas de MultiIndex para nível único.\")\n",
    "else:\n",
    "    print(\"Colunas de sp500 são de nível único.\")\n",
    "\n",
    "# Converter os nomes das colunas para minúsculas para facilitar a comparação\n",
    "sp500.columns = [col.lower() for col in sp500.columns]\n",
    "print(f\"Colunas em sp500 após conversão para minúsculas: {sp500.columns.tolist()}\")\n",
    "\n",
    "# Verificar o nome da coluna de data\n",
    "date_column_name = None\n",
    "for col in sp500.columns:\n",
    "    if 'date' in col:\n",
    "        date_column_name = col\n",
    "        break\n",
    "\n",
    "if date_column_name is None:\n",
    "    print(\"Nenhuma coluna de data encontrada em sp500.\")\n",
    "    exit()\n",
    "\n",
    "if date_column_name != 'date':\n",
    "    sp500.rename(columns={date_column_name: 'date'}, inplace=True)\n",
    "    print(f\"Renomeada a coluna de data para 'date'.\")\n",
    "\n",
    "# Remover informações de fuso horário e normalizar a data\n",
    "sp500['date'] = pd.to_datetime(sp500['date']).dt.tz_localize(None).dt.normalize()\n",
    "\n",
    "# Determinar a coluna de preço a ser usada\n",
    "price_column = None\n",
    "for col in sp500.columns:\n",
    "    if 'adj close' in col.lower():\n",
    "        price_column = col\n",
    "        break\n",
    "if price_column is None:\n",
    "    for col in sp500.columns:\n",
    "        if 'close' in col.lower():\n",
    "            price_column = col\n",
    "            break\n",
    "\n",
    "if price_column is None:\n",
    "    raise KeyError(f\"Nenhuma coluna de preço ('Adj Close' ou 'Close') encontrada em sp500. Colunas disponíveis: {sp500.columns.tolist()}\")\n",
    "\n",
    "print(f\"Coluna de preço selecionada: '{price_column}'\")\n",
    "\n",
    "# Criar sp500_prices com 'date' como coluna\n",
    "sp500_prices = sp500[['date', price_column]].rename(columns={price_column: 'Price'})\n",
    "\n",
    "print(f\"Colunas em sp500_prices: {sp500_prices.columns.tolist()}\")\n",
    "\n",
    "# Calcular Retorno do S&P500 (não acumulado)\n",
    "sp500_prices['Retorno'] = sp500_prices['Price'].pct_change().fillna(0)\n",
    "\n",
    "# Verificar se 'Retorno' foi criado\n",
    "if 'Retorno' not in sp500_prices.columns:\n",
    "    print(\"Erro: A coluna 'Retorno' não foi criada em sp500_prices.\")\n",
    "    print(f\"Colunas disponíveis em sp500_prices: {sp500_prices.columns.tolist()}\")\n",
    "    exit()\n",
    "else:\n",
    "    print(\"'Retorno' criado com sucesso em sp500_prices.\")\n",
    "    print(sp500_prices[['date', 'Price', 'Retorno']].head())\n"
   ]
  },
  {
   "cell_type": "code",
   "execution_count": 7,
   "metadata": {},
   "outputs": [],
   "source": [
    "# Preparar required_dates\n",
    "required_dates = pd.Series(datas_inicio_portfolio + datas_portfolio).drop_duplicates()\n",
    "required_dates = pd.to_datetime(required_dates).dt.normalize()\n",
    "required_dates = required_dates.to_frame(name='date')\n",
    "required_dates.sort_values('date', inplace=True)\n",
    "required_dates.reset_index(drop=True, inplace=True)\n",
    "\n",
    "# Garantir que não há duplicatas em required_dates\n",
    "required_dates.drop_duplicates(subset='date', inplace=True)\n",
    "\n",
    "# Realizar o merge_asof para alinhar os preços do S&P500 com as datas do portfólio\n",
    "prices_at_required_dates = pd.merge_asof(\n",
    "    required_dates.sort_values('date'),\n",
    "    sp500_prices.sort_values('date'),\n",
    "    on='date',\n",
    "    direction='backward'\n",
    ")\n",
    "\n",
    "# Verificar se há NaNs após o merge\n",
    "na_prices = prices_at_required_dates['Price'].isna().sum()\n",
    "if na_prices > 0:\n",
    "    print(f\"Atenção: {na_prices} datas no portfólio não têm correspondência no S&P500.\")\n",
    "\n",
    "# Criar um dicionário mapeando datas a preços\n",
    "date_price_dict = dict(zip(prices_at_required_dates['date'], prices_at_required_dates['Price']))\n"
   ]
  },
  {
   "cell_type": "code",
   "execution_count": 8,
   "metadata": {},
   "outputs": [
    {
     "name": "stdout",
     "output_type": "stream",
     "text": [
      "Retorno do S&P500 no período 2019-02-22 - 2019-03-21: 2.23%\n",
      "Retorno do S&P500 no período 2019-03-22 - 2019-04-18: 3.72%\n",
      "Retorno do S&P500 no período 2019-04-22 - 2019-05-17: -1.67%\n",
      "Retorno do S&P500 no período 2019-05-20 - 2019-06-17: 1.74%\n",
      "Retorno do S&P500 no período 2019-06-18 - 2019-07-16: 2.96%\n",
      "Retorno do S&P500 no período 2019-07-17 - 2019-08-13: -1.95%\n",
      "Retorno do S&P500 no período 2019-08-14 - 2019-11-09: 8.89%\n",
      "Retorno do S&P500 no período 2019-12-09 - 2019-09-10: -4.99%\n",
      "Retorno do S&P500 no período 2019-10-10 - 2019-06-11: -1.78%\n",
      "Retorno do S&P500 no período 2019-07-11 - 2019-05-12: -3.95%\n",
      "Retorno do S&P500 no período 2019-06-12 - 2020-06-01: 6.11%\n",
      "Retorno do S&P500 no período 2020-07-01 - 2020-04-02: -18.90%\n",
      "Retorno do S&P500 no período 2020-05-02 - 2020-04-03: -12.08%\n",
      "Retorno do S&P500 no período 2020-02-04 - 2020-04-30: -11.68%\n",
      "Retorno do S&P500 no período 2020-01-05 - 2020-05-29: -5.89%\n",
      "Retorno do S&P500 no período 2020-01-06 - 2020-06-26: -7.31%\n",
      "Retorno do S&P500 no período 2020-06-29 - 2020-07-27: 6.10%\n",
      "Retorno do S&P500 no período 2020-07-28 - 2020-08-24: 6.61%\n",
      "Retorno do S&P500 no período 2020-08-25 - 2020-09-22: -3.72%\n",
      "Retorno do S&P500 no período 2020-09-23 - 2020-10-20: 6.37%\n",
      "Retorno do S&P500 no período 2020-10-21 - 2020-11-17: 5.06%\n",
      "Retorno do S&P500 no período 2020-11-18 - 2020-12-16: 3.74%\n",
      "Retorno do S&P500 no período 2020-12-17 - 2021-01-15: 1.23%\n",
      "Retorno do S&P500 no período 2021-01-19 - 2021-02-16: 3.52%\n",
      "Retorno do S&P500 no período 2021-02-17 - 2021-03-16: 0.80%\n",
      "Retorno do S&P500 no período 2021-03-17 - 2021-04-14: 3.79%\n",
      "Retorno do S&P500 no período 2021-04-15 - 2021-12-05: 8.82%\n",
      "Retorno do S&P500 no período 2021-05-13 - 2021-10-06: 6.10%\n",
      "Retorno do S&P500 no período 2021-11-06 - 2021-09-07: -3.78%\n",
      "Retorno do S&P500 no período 2021-12-07 - 2021-06-08: -9.80%\n",
      "Retorno do S&P500 no período 2021-09-08 - 2021-03-09: -14.15%\n",
      "Retorno do S&P500 no período 2021-07-09 - 2021-04-10: -5.51%\n",
      "Retorno do S&P500 no período 2021-05-10 - 2021-01-11: -9.28%\n",
      "Retorno do S&P500 no período 2021-02-11 - 2021-11-30: 16.61%\n",
      "Retorno do S&P500 no período 2021-01-12 - 2021-12-29: 26.09%\n",
      "Retorno do S&P500 no período 2021-12-30 - 2022-01-27: -9.46%\n",
      "Retorno do S&P500 no período 2022-01-28 - 2022-02-25: -1.07%\n",
      "Retorno do S&P500 no período 2022-02-28 - 2022-03-25: 3.87%\n",
      "Retorno do S&P500 no período 2022-03-28 - 2022-04-25: -6.11%\n",
      "Retorno do S&P500 no período 2022-04-26 - 2022-05-23: -4.82%\n",
      "Retorno do S&P500 no período 2022-05-24 - 2022-06-22: -4.61%\n",
      "Retorno do S&P500 no período 2022-06-23 - 2022-07-21: 5.35%\n",
      "Retorno do S&P500 no período 2022-07-22 - 2022-08-18: 8.13%\n",
      "Retorno do S&P500 no período 2022-08-19 - 2022-09-16: -8.40%\n",
      "Retorno do S&P500 no período 2022-09-19 - 2022-10-14: -8.12%\n",
      "Retorno do S&P500 no período 2022-10-17 - 2022-11-11: 8.56%\n",
      "Retorno do S&P500 no período 2022-11-14 - 2022-12-12: 0.84%\n",
      "Retorno do S&P500 no período 2022-12-13 - 2023-11-01: 5.43%\n",
      "Retorno do S&P500 no período 2023-12-01 - 2023-09-02: -1.72%\n",
      "Retorno do S&P500 no período 2023-10-02 - 2023-10-03: -1.37%\n",
      "Retorno do S&P500 no período 2023-03-13 - 2023-10-04: 10.58%\n",
      "Retorno do S&P500 no período 2023-11-04 - 2023-08-05: 2.75%\n",
      "Retorno do S&P500 no período 2023-09-05 - 2023-06-06: -4.74%\n",
      "Retorno do S&P500 no período 2023-07-06 - 2023-06-07: -3.27%\n",
      "Retorno do S&P500 no período 2023-07-07 - 2023-03-08: -9.25%\n",
      "Retorno do S&P500 no período 2023-04-08 - 2023-08-31: 9.81%\n",
      "Retorno do S&P500 no período 2023-01-09 - 2023-09-29: 10.17%\n",
      "Retorno do S&P500 no período 2023-02-10 - 2023-10-27: 0.66%\n",
      "Retorno do S&P500 no período 2023-10-30 - 2023-11-27: 9.21%\n",
      "Retorno do S&P500 no período 2023-11-28 - 2023-12-26: 4.83%\n"
     ]
    }
   ],
   "source": [
    "# Calcular os retornos do S&P500 para cada período\n",
    "for i in range(len(datas_inicio_portfolio)):\n",
    "    data_inicio = datas_inicio_portfolio[i].normalize()\n",
    "    data_fim = datas_portfolio[i].normalize()\n",
    "\n",
    "    price_inicio = date_price_dict.get(data_inicio)\n",
    "    price_fim = date_price_dict.get(data_fim)\n",
    "\n",
    "    if pd.isna(price_inicio) or pd.isna(price_fim):\n",
    "        print(f\"Não foi possível obter preços para o período {data_inicio.date()} - {data_fim.date()}\")\n",
    "        retorno_sp500_periodo = np.nan\n",
    "    else:\n",
    "        retorno_sp500_periodo = (price_fim - price_inicio) / price_inicio * 100\n",
    "        print(f\"Retorno do S&P500 no período {data_inicio.date()} - {data_fim.date()}: {retorno_sp500_periodo:.2f}%\")\n",
    "    retornos_sp500_periodo.append(retorno_sp500_periodo)\n"
   ]
  },
  {
   "cell_type": "code",
   "execution_count": 9,
   "metadata": {},
   "outputs": [
    {
     "name": "stdout",
     "output_type": "stream",
     "text": [
      "\n",
      "DataFrame com Retornos por Período:\n",
      "   Data_Inicio   Data_Fim  Retorno_Estrategia  Retorno_SP500     Período\n",
      "0   2019-02-22 2019-03-21            4.859427       2.227616  2019-03-21\n",
      "1   2019-03-22 2019-04-18            4.864098       3.724772  2019-04-18\n",
      "2   2019-04-22 2019-05-17            5.933391      -1.665765  2019-05-17\n",
      "3   2019-05-20 2019-06-17            5.581319       1.740702  2019-06-17\n",
      "4   2019-06-18 2019-07-16            4.994662       2.957417  2019-07-16\n",
      "5   2019-07-17 2019-08-13            7.934921      -1.946772  2019-08-13\n",
      "6   2019-08-14 2019-11-09            5.931065       8.888262  2019-11-09\n",
      "7   2019-12-09 2019-09-10            3.467324      -4.992732  2019-09-10\n",
      "8   2019-10-10 2019-06-11            5.749362      -1.783785  2019-06-11\n",
      "9   2019-07-11 2019-05-12            5.530270      -3.950452  2019-05-12\n",
      "10  2019-06-12 2020-06-01            5.094781       6.107627  2020-06-01\n",
      "11  2020-07-01 2020-04-02            7.307123     -18.902011  2020-04-02\n",
      "12  2020-05-02 2020-04-03            3.662738     -12.083896  2020-04-03\n",
      "13  2020-02-04 2020-04-30           12.150166     -11.680050  2020-04-30\n",
      "14  2020-01-05 2020-05-29           11.734904      -5.890228  2020-05-29\n",
      "15  2020-01-06 2020-06-26            5.552705      -7.307749  2020-06-26\n",
      "16  2020-06-29 2020-07-27            8.459786       6.097455  2020-07-27\n",
      "17  2020-07-28 2020-08-24            7.017343       6.613145  2020-08-24\n",
      "18  2020-08-25 2020-09-22            1.929967      -3.718472  2020-09-22\n",
      "19  2020-09-23 2020-10-20           11.836693       6.370259  2020-10-20\n",
      "20  2020-10-21 2020-11-17           10.860488       5.063802  2020-11-17\n",
      "21  2020-11-18 2020-12-16            4.165930       3.738445  2020-12-16\n",
      "22  2020-12-17 2021-01-15            7.996652       1.229557  2021-01-15\n",
      "23  2021-01-19 2021-02-16           10.165911       3.518909  2021-02-16\n",
      "24  2021-02-17 2021-03-16            9.835284       0.798200  2021-03-16\n",
      "25  2021-03-17 2021-04-14            8.133026       3.788009  2021-04-14\n",
      "26  2021-04-15 2021-12-05            3.353096       8.824297  2021-12-05\n",
      "27  2021-05-13 2021-10-06            8.135921       6.104555  2021-10-06\n",
      "28  2021-11-06 2021-09-07            5.187009      -3.778582  2021-09-07\n",
      "29  2021-12-07 2021-06-08            3.755751      -9.804027  2021-06-08\n",
      "30  2021-09-08 2021-03-09            4.852327     -14.147541  2021-03-09\n",
      "31  2021-07-09 2021-04-10            2.695672      -5.509721  2021-04-10\n",
      "32  2021-05-10 2021-01-11            6.567842      -9.283193  2021-01-11\n",
      "33  2021-02-11 2021-11-30            0.131279      16.612794  2021-11-30\n",
      "34  2021-01-12 2021-12-29            8.905397      26.093674  2021-12-29\n",
      "35  2021-12-30 2022-01-27            1.551309      -9.463188  2022-01-27\n",
      "36  2022-01-28 2022-02-25            4.933856      -1.065022  2022-02-25\n",
      "37  2022-02-28 2022-03-25            5.379266       3.866540  2022-03-25\n",
      "38  2022-03-28 2022-04-25            5.841420      -6.106408  2022-04-25\n",
      "39  2022-04-26 2022-05-23            6.478602      -4.824923  2022-05-23\n",
      "40  2022-05-24 2022-06-22           -1.797312      -4.607155  2022-06-22\n",
      "41  2022-06-23 2022-07-21            9.048721       5.353910  2022-07-21\n",
      "42  2022-07-22 2022-08-18           10.851716       8.130753  2022-08-18\n",
      "43  2022-08-19 2022-09-16           -0.008003      -8.398997  2022-09-16\n",
      "44  2022-09-19 2022-10-14            4.492893      -8.123815  2022-10-14\n",
      "45  2022-10-17 2022-11-11           17.407590       8.564009  2022-11-11\n",
      "46  2022-11-14 2022-12-12            9.510260       0.841748  2022-12-12\n",
      "47  2022-12-13 2023-11-01            6.889651       5.428581  2023-11-01\n",
      "48  2023-12-01 2023-09-02            6.383087      -1.716349  2023-09-02\n",
      "49  2023-10-02 2023-10-03           -1.001819      -1.374407  2023-10-03\n",
      "50  2023-03-13 2023-10-04            7.314631      10.581312  2023-10-04\n",
      "51  2023-11-04 2023-08-05            6.244706       2.746228  2023-08-05\n",
      "52  2023-09-05 2023-06-06            2.368479      -4.736225  2023-06-06\n",
      "53  2023-07-06 2023-06-07            4.666316      -3.265712  2023-06-07\n",
      "54  2023-07-07 2023-03-08            4.978493      -9.250848  2023-03-08\n",
      "55  2023-04-08 2023-08-31            1.373854       9.808482  2023-08-31\n",
      "56  2023-01-09 2023-09-29            2.502946      10.173447  2023-09-29\n",
      "57  2023-02-10 2023-10-27            4.109963       0.657876  2023-10-27\n",
      "58  2023-10-30 2023-11-27            6.950656       9.206310  2023-11-27\n",
      "59  2023-11-28 2023-12-26            7.329663       4.826897  2023-12-26\n"
     ]
    }
   ],
   "source": [
    "# Criar DataFrame com os retornos por período\n",
    "df_returns = pd.DataFrame({\n",
    "    'Data_Inicio': datas_inicio_portfolio,\n",
    "    'Data_Fim': datas_portfolio,\n",
    "    'Retorno_Estrategia': retornos_estrategia_periodo,\n",
    "    'Retorno_SP500': retornos_sp500_periodo\n",
    "})\n",
    "\n",
    "# Remover períodos onde o retorno do S&P500 é NaN\n",
    "df_returns.dropna(subset=['Retorno_SP500'], inplace=True)\n",
    "\n",
    "# Formatar as datas para serem usadas como rótulos no gráfico\n",
    "df_returns['Período'] = df_returns['Data_Fim'].dt.strftime('%Y-%m-%d')\n",
    "\n",
    "print(\"\\nDataFrame com Retornos por Período:\")\n",
    "print(df_returns)\n"
   ]
  },
  {
   "cell_type": "code",
   "execution_count": 10,
   "metadata": {},
   "outputs": [
    {
     "data": {
      "application/vnd.plotly.v1+json": {
       "config": {
        "plotlyServerURL": "https://plot.ly"
       },
       "data": [
        {
         "name": "Estratégia",
         "type": "bar",
         "x": [
          "2019-03-21",
          "2019-04-18",
          "2019-05-17",
          "2019-06-17",
          "2019-07-16",
          "2019-08-13",
          "2019-11-09",
          "2019-09-10",
          "2019-06-11",
          "2019-05-12",
          "2020-06-01",
          "2020-04-02",
          "2020-04-03",
          "2020-04-30",
          "2020-05-29",
          "2020-06-26",
          "2020-07-27",
          "2020-08-24",
          "2020-09-22",
          "2020-10-20",
          "2020-11-17",
          "2020-12-16",
          "2021-01-15",
          "2021-02-16",
          "2021-03-16",
          "2021-04-14",
          "2021-12-05",
          "2021-10-06",
          "2021-09-07",
          "2021-06-08",
          "2021-03-09",
          "2021-04-10",
          "2021-01-11",
          "2021-11-30",
          "2021-12-29",
          "2022-01-27",
          "2022-02-25",
          "2022-03-25",
          "2022-04-25",
          "2022-05-23",
          "2022-06-22",
          "2022-07-21",
          "2022-08-18",
          "2022-09-16",
          "2022-10-14",
          "2022-11-11",
          "2022-12-12",
          "2023-11-01",
          "2023-09-02",
          "2023-10-03",
          "2023-10-04",
          "2023-08-05",
          "2023-06-06",
          "2023-06-07",
          "2023-03-08",
          "2023-08-31",
          "2023-09-29",
          "2023-10-27",
          "2023-11-27",
          "2023-12-26"
         ],
         "y": [
          4.859427486368004,
          4.864098372357601,
          5.933390868756278,
          5.5813187026318705,
          4.994662229632371,
          7.934921350414172,
          5.931064860877548,
          3.4673244546351145,
          5.749361539137313,
          5.5302703166862255,
          5.094780996126053,
          7.307122748011407,
          3.6627376566062146,
          12.150165780820615,
          11.7349039843631,
          5.552704853248189,
          8.459785738007138,
          7.017342536370333,
          1.9299673125253287,
          11.836693431776395,
          10.860488041436914,
          4.165929939274817,
          7.996652060015654,
          10.16591080628799,
          9.83528408331125,
          8.133025513029086,
          3.3530957700740114,
          8.135921341264607,
          5.187008557723562,
          3.755751085335224,
          4.852327494645444,
          2.6956721882917223,
          6.567841778480623,
          0.13127851889018963,
          8.905396952631445,
          1.5513089870295915,
          4.933856081295456,
          5.379266153754606,
          5.841420211464425,
          6.478601870307224,
          -1.7973120840268266,
          9.048720916646607,
          10.851716286388454,
          -0.008002588492220823,
          4.492893464313658,
          17.40759041243217,
          9.510259508422838,
          6.889651233626163,
          6.383086517439277,
          -1.0018186872597632,
          7.31463121732118,
          6.244705586822587,
          2.3684788874476537,
          4.666315825649192,
          4.978492875680252,
          1.3738544087511242,
          2.502945965880124,
          4.109963400164446,
          6.950655651248877,
          7.329662870849914
         ]
        },
        {
         "name": "S&P500",
         "type": "bar",
         "x": [
          "2019-03-21",
          "2019-04-18",
          "2019-05-17",
          "2019-06-17",
          "2019-07-16",
          "2019-08-13",
          "2019-11-09",
          "2019-09-10",
          "2019-06-11",
          "2019-05-12",
          "2020-06-01",
          "2020-04-02",
          "2020-04-03",
          "2020-04-30",
          "2020-05-29",
          "2020-06-26",
          "2020-07-27",
          "2020-08-24",
          "2020-09-22",
          "2020-10-20",
          "2020-11-17",
          "2020-12-16",
          "2021-01-15",
          "2021-02-16",
          "2021-03-16",
          "2021-04-14",
          "2021-12-05",
          "2021-10-06",
          "2021-09-07",
          "2021-06-08",
          "2021-03-09",
          "2021-04-10",
          "2021-01-11",
          "2021-11-30",
          "2021-12-29",
          "2022-01-27",
          "2022-02-25",
          "2022-03-25",
          "2022-04-25",
          "2022-05-23",
          "2022-06-22",
          "2022-07-21",
          "2022-08-18",
          "2022-09-16",
          "2022-10-14",
          "2022-11-11",
          "2022-12-12",
          "2023-11-01",
          "2023-09-02",
          "2023-10-03",
          "2023-10-04",
          "2023-08-05",
          "2023-06-06",
          "2023-06-07",
          "2023-03-08",
          "2023-08-31",
          "2023-09-29",
          "2023-10-27",
          "2023-11-27",
          "2023-12-26"
         ],
         "y": [
          2.227615961707791,
          3.724772283255466,
          -1.665764842631356,
          1.7407020468846137,
          2.9574171557707136,
          -1.9467720708392477,
          8.888262049877019,
          -4.9927317411465975,
          -1.7837847270116614,
          -3.9504522881587185,
          6.107627062965074,
          -18.90201051309208,
          -12.083896383381626,
          -11.680049550863856,
          -5.890227779041514,
          -7.3077485099192945,
          6.097454588255577,
          6.6131446217892655,
          -3.7184719705002487,
          6.3702593913122705,
          5.063802341861394,
          3.7384454060404275,
          1.2295571707946822,
          3.5189088152665096,
          0.7982001558990502,
          3.788009285663911,
          8.824297332168756,
          6.1045545212765955,
          -3.778581682672523,
          -9.804026977649757,
          -14.147541081135751,
          -5.50972092689576,
          -9.283193273882143,
          16.61279387229068,
          26.09367415143053,
          -9.463188267427308,
          -1.065022378294371,
          3.8665395376491336,
          -6.10640760287557,
          -4.824923018988844,
          -4.607154895888345,
          5.353910097631037,
          8.130753278088223,
          -8.398996896856058,
          -8.123814593373249,
          8.56400942509809,
          0.8417476427759175,
          5.428581250577759,
          -1.716348548035336,
          -1.3744071674259501,
          10.58131183478857,
          2.7462278229149395,
          -4.736224779868805,
          -3.265712120152262,
          -9.250847758642697,
          9.808481683476108,
          10.173446859023532,
          0.6578760458966187,
          9.206310033681966,
          4.826897173850005
         ]
        }
       ],
       "layout": {
        "barmode": "group",
        "legend": {
         "x": 0.01,
         "y": 0.99
        },
        "template": {
         "data": {
          "bar": [
           {
            "error_x": {
             "color": "#2a3f5f"
            },
            "error_y": {
             "color": "#2a3f5f"
            },
            "marker": {
             "line": {
              "color": "#E5ECF6",
              "width": 0.5
             },
             "pattern": {
              "fillmode": "overlay",
              "size": 10,
              "solidity": 0.2
             }
            },
            "type": "bar"
           }
          ],
          "barpolar": [
           {
            "marker": {
             "line": {
              "color": "#E5ECF6",
              "width": 0.5
             },
             "pattern": {
              "fillmode": "overlay",
              "size": 10,
              "solidity": 0.2
             }
            },
            "type": "barpolar"
           }
          ],
          "carpet": [
           {
            "aaxis": {
             "endlinecolor": "#2a3f5f",
             "gridcolor": "white",
             "linecolor": "white",
             "minorgridcolor": "white",
             "startlinecolor": "#2a3f5f"
            },
            "baxis": {
             "endlinecolor": "#2a3f5f",
             "gridcolor": "white",
             "linecolor": "white",
             "minorgridcolor": "white",
             "startlinecolor": "#2a3f5f"
            },
            "type": "carpet"
           }
          ],
          "choropleth": [
           {
            "colorbar": {
             "outlinewidth": 0,
             "ticks": ""
            },
            "type": "choropleth"
           }
          ],
          "contour": [
           {
            "colorbar": {
             "outlinewidth": 0,
             "ticks": ""
            },
            "colorscale": [
             [
              0,
              "#0d0887"
             ],
             [
              0.1111111111111111,
              "#46039f"
             ],
             [
              0.2222222222222222,
              "#7201a8"
             ],
             [
              0.3333333333333333,
              "#9c179e"
             ],
             [
              0.4444444444444444,
              "#bd3786"
             ],
             [
              0.5555555555555556,
              "#d8576b"
             ],
             [
              0.6666666666666666,
              "#ed7953"
             ],
             [
              0.7777777777777778,
              "#fb9f3a"
             ],
             [
              0.8888888888888888,
              "#fdca26"
             ],
             [
              1,
              "#f0f921"
             ]
            ],
            "type": "contour"
           }
          ],
          "contourcarpet": [
           {
            "colorbar": {
             "outlinewidth": 0,
             "ticks": ""
            },
            "type": "contourcarpet"
           }
          ],
          "heatmap": [
           {
            "colorbar": {
             "outlinewidth": 0,
             "ticks": ""
            },
            "colorscale": [
             [
              0,
              "#0d0887"
             ],
             [
              0.1111111111111111,
              "#46039f"
             ],
             [
              0.2222222222222222,
              "#7201a8"
             ],
             [
              0.3333333333333333,
              "#9c179e"
             ],
             [
              0.4444444444444444,
              "#bd3786"
             ],
             [
              0.5555555555555556,
              "#d8576b"
             ],
             [
              0.6666666666666666,
              "#ed7953"
             ],
             [
              0.7777777777777778,
              "#fb9f3a"
             ],
             [
              0.8888888888888888,
              "#fdca26"
             ],
             [
              1,
              "#f0f921"
             ]
            ],
            "type": "heatmap"
           }
          ],
          "heatmapgl": [
           {
            "colorbar": {
             "outlinewidth": 0,
             "ticks": ""
            },
            "colorscale": [
             [
              0,
              "#0d0887"
             ],
             [
              0.1111111111111111,
              "#46039f"
             ],
             [
              0.2222222222222222,
              "#7201a8"
             ],
             [
              0.3333333333333333,
              "#9c179e"
             ],
             [
              0.4444444444444444,
              "#bd3786"
             ],
             [
              0.5555555555555556,
              "#d8576b"
             ],
             [
              0.6666666666666666,
              "#ed7953"
             ],
             [
              0.7777777777777778,
              "#fb9f3a"
             ],
             [
              0.8888888888888888,
              "#fdca26"
             ],
             [
              1,
              "#f0f921"
             ]
            ],
            "type": "heatmapgl"
           }
          ],
          "histogram": [
           {
            "marker": {
             "pattern": {
              "fillmode": "overlay",
              "size": 10,
              "solidity": 0.2
             }
            },
            "type": "histogram"
           }
          ],
          "histogram2d": [
           {
            "colorbar": {
             "outlinewidth": 0,
             "ticks": ""
            },
            "colorscale": [
             [
              0,
              "#0d0887"
             ],
             [
              0.1111111111111111,
              "#46039f"
             ],
             [
              0.2222222222222222,
              "#7201a8"
             ],
             [
              0.3333333333333333,
              "#9c179e"
             ],
             [
              0.4444444444444444,
              "#bd3786"
             ],
             [
              0.5555555555555556,
              "#d8576b"
             ],
             [
              0.6666666666666666,
              "#ed7953"
             ],
             [
              0.7777777777777778,
              "#fb9f3a"
             ],
             [
              0.8888888888888888,
              "#fdca26"
             ],
             [
              1,
              "#f0f921"
             ]
            ],
            "type": "histogram2d"
           }
          ],
          "histogram2dcontour": [
           {
            "colorbar": {
             "outlinewidth": 0,
             "ticks": ""
            },
            "colorscale": [
             [
              0,
              "#0d0887"
             ],
             [
              0.1111111111111111,
              "#46039f"
             ],
             [
              0.2222222222222222,
              "#7201a8"
             ],
             [
              0.3333333333333333,
              "#9c179e"
             ],
             [
              0.4444444444444444,
              "#bd3786"
             ],
             [
              0.5555555555555556,
              "#d8576b"
             ],
             [
              0.6666666666666666,
              "#ed7953"
             ],
             [
              0.7777777777777778,
              "#fb9f3a"
             ],
             [
              0.8888888888888888,
              "#fdca26"
             ],
             [
              1,
              "#f0f921"
             ]
            ],
            "type": "histogram2dcontour"
           }
          ],
          "mesh3d": [
           {
            "colorbar": {
             "outlinewidth": 0,
             "ticks": ""
            },
            "type": "mesh3d"
           }
          ],
          "parcoords": [
           {
            "line": {
             "colorbar": {
              "outlinewidth": 0,
              "ticks": ""
             }
            },
            "type": "parcoords"
           }
          ],
          "pie": [
           {
            "automargin": true,
            "type": "pie"
           }
          ],
          "scatter": [
           {
            "fillpattern": {
             "fillmode": "overlay",
             "size": 10,
             "solidity": 0.2
            },
            "type": "scatter"
           }
          ],
          "scatter3d": [
           {
            "line": {
             "colorbar": {
              "outlinewidth": 0,
              "ticks": ""
             }
            },
            "marker": {
             "colorbar": {
              "outlinewidth": 0,
              "ticks": ""
             }
            },
            "type": "scatter3d"
           }
          ],
          "scattercarpet": [
           {
            "marker": {
             "colorbar": {
              "outlinewidth": 0,
              "ticks": ""
             }
            },
            "type": "scattercarpet"
           }
          ],
          "scattergeo": [
           {
            "marker": {
             "colorbar": {
              "outlinewidth": 0,
              "ticks": ""
             }
            },
            "type": "scattergeo"
           }
          ],
          "scattergl": [
           {
            "marker": {
             "colorbar": {
              "outlinewidth": 0,
              "ticks": ""
             }
            },
            "type": "scattergl"
           }
          ],
          "scattermapbox": [
           {
            "marker": {
             "colorbar": {
              "outlinewidth": 0,
              "ticks": ""
             }
            },
            "type": "scattermapbox"
           }
          ],
          "scatterpolar": [
           {
            "marker": {
             "colorbar": {
              "outlinewidth": 0,
              "ticks": ""
             }
            },
            "type": "scatterpolar"
           }
          ],
          "scatterpolargl": [
           {
            "marker": {
             "colorbar": {
              "outlinewidth": 0,
              "ticks": ""
             }
            },
            "type": "scatterpolargl"
           }
          ],
          "scatterternary": [
           {
            "marker": {
             "colorbar": {
              "outlinewidth": 0,
              "ticks": ""
             }
            },
            "type": "scatterternary"
           }
          ],
          "surface": [
           {
            "colorbar": {
             "outlinewidth": 0,
             "ticks": ""
            },
            "colorscale": [
             [
              0,
              "#0d0887"
             ],
             [
              0.1111111111111111,
              "#46039f"
             ],
             [
              0.2222222222222222,
              "#7201a8"
             ],
             [
              0.3333333333333333,
              "#9c179e"
             ],
             [
              0.4444444444444444,
              "#bd3786"
             ],
             [
              0.5555555555555556,
              "#d8576b"
             ],
             [
              0.6666666666666666,
              "#ed7953"
             ],
             [
              0.7777777777777778,
              "#fb9f3a"
             ],
             [
              0.8888888888888888,
              "#fdca26"
             ],
             [
              1,
              "#f0f921"
             ]
            ],
            "type": "surface"
           }
          ],
          "table": [
           {
            "cells": {
             "fill": {
              "color": "#EBF0F8"
             },
             "line": {
              "color": "white"
             }
            },
            "header": {
             "fill": {
              "color": "#C8D4E3"
             },
             "line": {
              "color": "white"
             }
            },
            "type": "table"
           }
          ]
         },
         "layout": {
          "annotationdefaults": {
           "arrowcolor": "#2a3f5f",
           "arrowhead": 0,
           "arrowwidth": 1
          },
          "autotypenumbers": "strict",
          "coloraxis": {
           "colorbar": {
            "outlinewidth": 0,
            "ticks": ""
           }
          },
          "colorscale": {
           "diverging": [
            [
             0,
             "#8e0152"
            ],
            [
             0.1,
             "#c51b7d"
            ],
            [
             0.2,
             "#de77ae"
            ],
            [
             0.3,
             "#f1b6da"
            ],
            [
             0.4,
             "#fde0ef"
            ],
            [
             0.5,
             "#f7f7f7"
            ],
            [
             0.6,
             "#e6f5d0"
            ],
            [
             0.7,
             "#b8e186"
            ],
            [
             0.8,
             "#7fbc41"
            ],
            [
             0.9,
             "#4d9221"
            ],
            [
             1,
             "#276419"
            ]
           ],
           "sequential": [
            [
             0,
             "#0d0887"
            ],
            [
             0.1111111111111111,
             "#46039f"
            ],
            [
             0.2222222222222222,
             "#7201a8"
            ],
            [
             0.3333333333333333,
             "#9c179e"
            ],
            [
             0.4444444444444444,
             "#bd3786"
            ],
            [
             0.5555555555555556,
             "#d8576b"
            ],
            [
             0.6666666666666666,
             "#ed7953"
            ],
            [
             0.7777777777777778,
             "#fb9f3a"
            ],
            [
             0.8888888888888888,
             "#fdca26"
            ],
            [
             1,
             "#f0f921"
            ]
           ],
           "sequentialminus": [
            [
             0,
             "#0d0887"
            ],
            [
             0.1111111111111111,
             "#46039f"
            ],
            [
             0.2222222222222222,
             "#7201a8"
            ],
            [
             0.3333333333333333,
             "#9c179e"
            ],
            [
             0.4444444444444444,
             "#bd3786"
            ],
            [
             0.5555555555555556,
             "#d8576b"
            ],
            [
             0.6666666666666666,
             "#ed7953"
            ],
            [
             0.7777777777777778,
             "#fb9f3a"
            ],
            [
             0.8888888888888888,
             "#fdca26"
            ],
            [
             1,
             "#f0f921"
            ]
           ]
          },
          "colorway": [
           "#636efa",
           "#EF553B",
           "#00cc96",
           "#ab63fa",
           "#FFA15A",
           "#19d3f3",
           "#FF6692",
           "#B6E880",
           "#FF97FF",
           "#FECB52"
          ],
          "font": {
           "color": "#2a3f5f"
          },
          "geo": {
           "bgcolor": "white",
           "lakecolor": "white",
           "landcolor": "#E5ECF6",
           "showlakes": true,
           "showland": true,
           "subunitcolor": "white"
          },
          "hoverlabel": {
           "align": "left"
          },
          "hovermode": "closest",
          "mapbox": {
           "style": "light"
          },
          "paper_bgcolor": "white",
          "plot_bgcolor": "#E5ECF6",
          "polar": {
           "angularaxis": {
            "gridcolor": "white",
            "linecolor": "white",
            "ticks": ""
           },
           "bgcolor": "#E5ECF6",
           "radialaxis": {
            "gridcolor": "white",
            "linecolor": "white",
            "ticks": ""
           }
          },
          "scene": {
           "xaxis": {
            "backgroundcolor": "#E5ECF6",
            "gridcolor": "white",
            "gridwidth": 2,
            "linecolor": "white",
            "showbackground": true,
            "ticks": "",
            "zerolinecolor": "white"
           },
           "yaxis": {
            "backgroundcolor": "#E5ECF6",
            "gridcolor": "white",
            "gridwidth": 2,
            "linecolor": "white",
            "showbackground": true,
            "ticks": "",
            "zerolinecolor": "white"
           },
           "zaxis": {
            "backgroundcolor": "#E5ECF6",
            "gridcolor": "white",
            "gridwidth": 2,
            "linecolor": "white",
            "showbackground": true,
            "ticks": "",
            "zerolinecolor": "white"
           }
          },
          "shapedefaults": {
           "line": {
            "color": "#2a3f5f"
           }
          },
          "ternary": {
           "aaxis": {
            "gridcolor": "white",
            "linecolor": "white",
            "ticks": ""
           },
           "baxis": {
            "gridcolor": "white",
            "linecolor": "white",
            "ticks": ""
           },
           "bgcolor": "#E5ECF6",
           "caxis": {
            "gridcolor": "white",
            "linecolor": "white",
            "ticks": ""
           }
          },
          "title": {
           "x": 0.05
          },
          "xaxis": {
           "automargin": true,
           "gridcolor": "white",
           "linecolor": "white",
           "ticks": "",
           "title": {
            "standoff": 15
           },
           "zerolinecolor": "white",
           "zerolinewidth": 2
          },
          "yaxis": {
           "automargin": true,
           "gridcolor": "white",
           "linecolor": "white",
           "ticks": "",
           "title": {
            "standoff": 15
           },
           "zerolinecolor": "white",
           "zerolinewidth": 2
          }
         }
        },
        "title": {
         "text": "Retornos por Período: Estratégia vs S&P500"
        },
        "xaxis": {
         "title": {
          "text": "Período"
         }
        },
        "yaxis": {
         "title": {
          "text": "Retorno (%)"
         }
        }
       }
      }
     },
     "metadata": {},
     "output_type": "display_data"
    }
   ],
   "source": [
    "# Plotar o gráfico de barras duplo dos retornos por período\n",
    "fig_bar = go.Figure(data=[\n",
    "    go.Bar(name='Estratégia', x=df_returns['Período'], y=df_returns['Retorno_Estrategia']),\n",
    "    go.Bar(name='S&P500', x=df_returns['Período'], y=df_returns['Retorno_SP500'])\n",
    "])\n",
    "\n",
    "fig_bar.update_layout(\n",
    "    barmode='group',\n",
    "    title='Retornos por Período: Estratégia vs S&P500',\n",
    "    xaxis_title='Período',\n",
    "    yaxis_title='Retorno (%)',\n",
    "    legend=dict(x=0.01, y=0.99)\n",
    ")\n",
    "\n",
    "fig_bar.show()\n"
   ]
  },
  {
   "cell_type": "markdown",
   "metadata": {},
   "source": [
    "AJEITAR O GRÁFICO QUE FICOU RUIM(provavelmente por conta da escala)"
   ]
  },
  {
   "cell_type": "markdown",
   "metadata": {},
   "source": [
    "# Exemplos"
   ]
  },
  {
   "cell_type": "markdown",
   "metadata": {},
   "source": [
    "## Gráfico de barras verticais sobrepostas "
   ]
  },
  {
   "cell_type": "code",
   "execution_count": 1,
   "metadata": {},
   "outputs": [
    {
     "data": {
      "application/vnd.plotly.v1+json": {
       "config": {
        "plotlyServerURL": "https://plot.ly"
       },
       "data": [
        {
         "name": "Série 1",
         "type": "bar",
         "x": [
          "Categoria A",
          "Categoria B",
          "Categoria C"
         ],
         "y": [
          10,
          20,
          15
         ]
        },
        {
         "name": "Série 2",
         "type": "bar",
         "x": [
          "Categoria A",
          "Categoria B",
          "Categoria C"
         ],
         "y": [
          5,
          15,
          10
         ]
        }
       ],
       "layout": {
        "barmode": "stack",
        "template": {
         "data": {
          "bar": [
           {
            "error_x": {
             "color": "#2a3f5f"
            },
            "error_y": {
             "color": "#2a3f5f"
            },
            "marker": {
             "line": {
              "color": "#E5ECF6",
              "width": 0.5
             },
             "pattern": {
              "fillmode": "overlay",
              "size": 10,
              "solidity": 0.2
             }
            },
            "type": "bar"
           }
          ],
          "barpolar": [
           {
            "marker": {
             "line": {
              "color": "#E5ECF6",
              "width": 0.5
             },
             "pattern": {
              "fillmode": "overlay",
              "size": 10,
              "solidity": 0.2
             }
            },
            "type": "barpolar"
           }
          ],
          "carpet": [
           {
            "aaxis": {
             "endlinecolor": "#2a3f5f",
             "gridcolor": "white",
             "linecolor": "white",
             "minorgridcolor": "white",
             "startlinecolor": "#2a3f5f"
            },
            "baxis": {
             "endlinecolor": "#2a3f5f",
             "gridcolor": "white",
             "linecolor": "white",
             "minorgridcolor": "white",
             "startlinecolor": "#2a3f5f"
            },
            "type": "carpet"
           }
          ],
          "choropleth": [
           {
            "colorbar": {
             "outlinewidth": 0,
             "ticks": ""
            },
            "type": "choropleth"
           }
          ],
          "contour": [
           {
            "colorbar": {
             "outlinewidth": 0,
             "ticks": ""
            },
            "colorscale": [
             [
              0,
              "#0d0887"
             ],
             [
              0.1111111111111111,
              "#46039f"
             ],
             [
              0.2222222222222222,
              "#7201a8"
             ],
             [
              0.3333333333333333,
              "#9c179e"
             ],
             [
              0.4444444444444444,
              "#bd3786"
             ],
             [
              0.5555555555555556,
              "#d8576b"
             ],
             [
              0.6666666666666666,
              "#ed7953"
             ],
             [
              0.7777777777777778,
              "#fb9f3a"
             ],
             [
              0.8888888888888888,
              "#fdca26"
             ],
             [
              1,
              "#f0f921"
             ]
            ],
            "type": "contour"
           }
          ],
          "contourcarpet": [
           {
            "colorbar": {
             "outlinewidth": 0,
             "ticks": ""
            },
            "type": "contourcarpet"
           }
          ],
          "heatmap": [
           {
            "colorbar": {
             "outlinewidth": 0,
             "ticks": ""
            },
            "colorscale": [
             [
              0,
              "#0d0887"
             ],
             [
              0.1111111111111111,
              "#46039f"
             ],
             [
              0.2222222222222222,
              "#7201a8"
             ],
             [
              0.3333333333333333,
              "#9c179e"
             ],
             [
              0.4444444444444444,
              "#bd3786"
             ],
             [
              0.5555555555555556,
              "#d8576b"
             ],
             [
              0.6666666666666666,
              "#ed7953"
             ],
             [
              0.7777777777777778,
              "#fb9f3a"
             ],
             [
              0.8888888888888888,
              "#fdca26"
             ],
             [
              1,
              "#f0f921"
             ]
            ],
            "type": "heatmap"
           }
          ],
          "heatmapgl": [
           {
            "colorbar": {
             "outlinewidth": 0,
             "ticks": ""
            },
            "colorscale": [
             [
              0,
              "#0d0887"
             ],
             [
              0.1111111111111111,
              "#46039f"
             ],
             [
              0.2222222222222222,
              "#7201a8"
             ],
             [
              0.3333333333333333,
              "#9c179e"
             ],
             [
              0.4444444444444444,
              "#bd3786"
             ],
             [
              0.5555555555555556,
              "#d8576b"
             ],
             [
              0.6666666666666666,
              "#ed7953"
             ],
             [
              0.7777777777777778,
              "#fb9f3a"
             ],
             [
              0.8888888888888888,
              "#fdca26"
             ],
             [
              1,
              "#f0f921"
             ]
            ],
            "type": "heatmapgl"
           }
          ],
          "histogram": [
           {
            "marker": {
             "pattern": {
              "fillmode": "overlay",
              "size": 10,
              "solidity": 0.2
             }
            },
            "type": "histogram"
           }
          ],
          "histogram2d": [
           {
            "colorbar": {
             "outlinewidth": 0,
             "ticks": ""
            },
            "colorscale": [
             [
              0,
              "#0d0887"
             ],
             [
              0.1111111111111111,
              "#46039f"
             ],
             [
              0.2222222222222222,
              "#7201a8"
             ],
             [
              0.3333333333333333,
              "#9c179e"
             ],
             [
              0.4444444444444444,
              "#bd3786"
             ],
             [
              0.5555555555555556,
              "#d8576b"
             ],
             [
              0.6666666666666666,
              "#ed7953"
             ],
             [
              0.7777777777777778,
              "#fb9f3a"
             ],
             [
              0.8888888888888888,
              "#fdca26"
             ],
             [
              1,
              "#f0f921"
             ]
            ],
            "type": "histogram2d"
           }
          ],
          "histogram2dcontour": [
           {
            "colorbar": {
             "outlinewidth": 0,
             "ticks": ""
            },
            "colorscale": [
             [
              0,
              "#0d0887"
             ],
             [
              0.1111111111111111,
              "#46039f"
             ],
             [
              0.2222222222222222,
              "#7201a8"
             ],
             [
              0.3333333333333333,
              "#9c179e"
             ],
             [
              0.4444444444444444,
              "#bd3786"
             ],
             [
              0.5555555555555556,
              "#d8576b"
             ],
             [
              0.6666666666666666,
              "#ed7953"
             ],
             [
              0.7777777777777778,
              "#fb9f3a"
             ],
             [
              0.8888888888888888,
              "#fdca26"
             ],
             [
              1,
              "#f0f921"
             ]
            ],
            "type": "histogram2dcontour"
           }
          ],
          "mesh3d": [
           {
            "colorbar": {
             "outlinewidth": 0,
             "ticks": ""
            },
            "type": "mesh3d"
           }
          ],
          "parcoords": [
           {
            "line": {
             "colorbar": {
              "outlinewidth": 0,
              "ticks": ""
             }
            },
            "type": "parcoords"
           }
          ],
          "pie": [
           {
            "automargin": true,
            "type": "pie"
           }
          ],
          "scatter": [
           {
            "fillpattern": {
             "fillmode": "overlay",
             "size": 10,
             "solidity": 0.2
            },
            "type": "scatter"
           }
          ],
          "scatter3d": [
           {
            "line": {
             "colorbar": {
              "outlinewidth": 0,
              "ticks": ""
             }
            },
            "marker": {
             "colorbar": {
              "outlinewidth": 0,
              "ticks": ""
             }
            },
            "type": "scatter3d"
           }
          ],
          "scattercarpet": [
           {
            "marker": {
             "colorbar": {
              "outlinewidth": 0,
              "ticks": ""
             }
            },
            "type": "scattercarpet"
           }
          ],
          "scattergeo": [
           {
            "marker": {
             "colorbar": {
              "outlinewidth": 0,
              "ticks": ""
             }
            },
            "type": "scattergeo"
           }
          ],
          "scattergl": [
           {
            "marker": {
             "colorbar": {
              "outlinewidth": 0,
              "ticks": ""
             }
            },
            "type": "scattergl"
           }
          ],
          "scattermapbox": [
           {
            "marker": {
             "colorbar": {
              "outlinewidth": 0,
              "ticks": ""
             }
            },
            "type": "scattermapbox"
           }
          ],
          "scatterpolar": [
           {
            "marker": {
             "colorbar": {
              "outlinewidth": 0,
              "ticks": ""
             }
            },
            "type": "scatterpolar"
           }
          ],
          "scatterpolargl": [
           {
            "marker": {
             "colorbar": {
              "outlinewidth": 0,
              "ticks": ""
             }
            },
            "type": "scatterpolargl"
           }
          ],
          "scatterternary": [
           {
            "marker": {
             "colorbar": {
              "outlinewidth": 0,
              "ticks": ""
             }
            },
            "type": "scatterternary"
           }
          ],
          "surface": [
           {
            "colorbar": {
             "outlinewidth": 0,
             "ticks": ""
            },
            "colorscale": [
             [
              0,
              "#0d0887"
             ],
             [
              0.1111111111111111,
              "#46039f"
             ],
             [
              0.2222222222222222,
              "#7201a8"
             ],
             [
              0.3333333333333333,
              "#9c179e"
             ],
             [
              0.4444444444444444,
              "#bd3786"
             ],
             [
              0.5555555555555556,
              "#d8576b"
             ],
             [
              0.6666666666666666,
              "#ed7953"
             ],
             [
              0.7777777777777778,
              "#fb9f3a"
             ],
             [
              0.8888888888888888,
              "#fdca26"
             ],
             [
              1,
              "#f0f921"
             ]
            ],
            "type": "surface"
           }
          ],
          "table": [
           {
            "cells": {
             "fill": {
              "color": "#EBF0F8"
             },
             "line": {
              "color": "white"
             }
            },
            "header": {
             "fill": {
              "color": "#C8D4E3"
             },
             "line": {
              "color": "white"
             }
            },
            "type": "table"
           }
          ]
         },
         "layout": {
          "annotationdefaults": {
           "arrowcolor": "#2a3f5f",
           "arrowhead": 0,
           "arrowwidth": 1
          },
          "autotypenumbers": "strict",
          "coloraxis": {
           "colorbar": {
            "outlinewidth": 0,
            "ticks": ""
           }
          },
          "colorscale": {
           "diverging": [
            [
             0,
             "#8e0152"
            ],
            [
             0.1,
             "#c51b7d"
            ],
            [
             0.2,
             "#de77ae"
            ],
            [
             0.3,
             "#f1b6da"
            ],
            [
             0.4,
             "#fde0ef"
            ],
            [
             0.5,
             "#f7f7f7"
            ],
            [
             0.6,
             "#e6f5d0"
            ],
            [
             0.7,
             "#b8e186"
            ],
            [
             0.8,
             "#7fbc41"
            ],
            [
             0.9,
             "#4d9221"
            ],
            [
             1,
             "#276419"
            ]
           ],
           "sequential": [
            [
             0,
             "#0d0887"
            ],
            [
             0.1111111111111111,
             "#46039f"
            ],
            [
             0.2222222222222222,
             "#7201a8"
            ],
            [
             0.3333333333333333,
             "#9c179e"
            ],
            [
             0.4444444444444444,
             "#bd3786"
            ],
            [
             0.5555555555555556,
             "#d8576b"
            ],
            [
             0.6666666666666666,
             "#ed7953"
            ],
            [
             0.7777777777777778,
             "#fb9f3a"
            ],
            [
             0.8888888888888888,
             "#fdca26"
            ],
            [
             1,
             "#f0f921"
            ]
           ],
           "sequentialminus": [
            [
             0,
             "#0d0887"
            ],
            [
             0.1111111111111111,
             "#46039f"
            ],
            [
             0.2222222222222222,
             "#7201a8"
            ],
            [
             0.3333333333333333,
             "#9c179e"
            ],
            [
             0.4444444444444444,
             "#bd3786"
            ],
            [
             0.5555555555555556,
             "#d8576b"
            ],
            [
             0.6666666666666666,
             "#ed7953"
            ],
            [
             0.7777777777777778,
             "#fb9f3a"
            ],
            [
             0.8888888888888888,
             "#fdca26"
            ],
            [
             1,
             "#f0f921"
            ]
           ]
          },
          "colorway": [
           "#636efa",
           "#EF553B",
           "#00cc96",
           "#ab63fa",
           "#FFA15A",
           "#19d3f3",
           "#FF6692",
           "#B6E880",
           "#FF97FF",
           "#FECB52"
          ],
          "font": {
           "color": "#2a3f5f"
          },
          "geo": {
           "bgcolor": "white",
           "lakecolor": "white",
           "landcolor": "#E5ECF6",
           "showlakes": true,
           "showland": true,
           "subunitcolor": "white"
          },
          "hoverlabel": {
           "align": "left"
          },
          "hovermode": "closest",
          "mapbox": {
           "style": "light"
          },
          "paper_bgcolor": "white",
          "plot_bgcolor": "#E5ECF6",
          "polar": {
           "angularaxis": {
            "gridcolor": "white",
            "linecolor": "white",
            "ticks": ""
           },
           "bgcolor": "#E5ECF6",
           "radialaxis": {
            "gridcolor": "white",
            "linecolor": "white",
            "ticks": ""
           }
          },
          "scene": {
           "xaxis": {
            "backgroundcolor": "#E5ECF6",
            "gridcolor": "white",
            "gridwidth": 2,
            "linecolor": "white",
            "showbackground": true,
            "ticks": "",
            "zerolinecolor": "white"
           },
           "yaxis": {
            "backgroundcolor": "#E5ECF6",
            "gridcolor": "white",
            "gridwidth": 2,
            "linecolor": "white",
            "showbackground": true,
            "ticks": "",
            "zerolinecolor": "white"
           },
           "zaxis": {
            "backgroundcolor": "#E5ECF6",
            "gridcolor": "white",
            "gridwidth": 2,
            "linecolor": "white",
            "showbackground": true,
            "ticks": "",
            "zerolinecolor": "white"
           }
          },
          "shapedefaults": {
           "line": {
            "color": "#2a3f5f"
           }
          },
          "ternary": {
           "aaxis": {
            "gridcolor": "white",
            "linecolor": "white",
            "ticks": ""
           },
           "baxis": {
            "gridcolor": "white",
            "linecolor": "white",
            "ticks": ""
           },
           "bgcolor": "#E5ECF6",
           "caxis": {
            "gridcolor": "white",
            "linecolor": "white",
            "ticks": ""
           }
          },
          "title": {
           "x": 0.05
          },
          "xaxis": {
           "automargin": true,
           "gridcolor": "white",
           "linecolor": "white",
           "ticks": "",
           "title": {
            "standoff": 15
           },
           "zerolinecolor": "white",
           "zerolinewidth": 2
          },
          "yaxis": {
           "automargin": true,
           "gridcolor": "white",
           "linecolor": "white",
           "ticks": "",
           "title": {
            "standoff": 15
           },
           "zerolinecolor": "white",
           "zerolinewidth": 2
          }
         }
        },
        "title": {
         "text": "Gráfico de Barras Verticalmente Sobrepostas"
        },
        "xaxis": {
         "title": {
          "text": "Categorias"
         }
        },
        "yaxis": {
         "title": {
          "text": "Valores"
         }
        }
       }
      }
     },
     "metadata": {},
     "output_type": "display_data"
    }
   ],
   "source": [
    "import plotly.graph_objects as go\n",
    "\n",
    "# Dados de exemplo\n",
    "x_values = [\"Categoria A\", \"Categoria B\", \"Categoria C\"]\n",
    "y_values_1 = [10, 20, 15]\n",
    "y_values_2 = [5, 15, 10]\n",
    "\n",
    "# Criação das barras empilhadas\n",
    "fig = go.Figure()\n",
    "\n",
    "# Primeira barra (base)\n",
    "fig.add_trace(go.Bar(\n",
    "    x=x_values,\n",
    "    y=y_values_1,\n",
    "    name='Série 1'\n",
    "))\n",
    "\n",
    "# Segunda barra (sobreposta na anterior)\n",
    "fig.add_trace(go.Bar(\n",
    "    x=x_values,\n",
    "    y=y_values_2,\n",
    "    name='Série 2'\n",
    "))\n",
    "\n",
    "# Configuração do layout para barras empilhadas\n",
    "fig.update_layout(\n",
    "    barmode='stack',\n",
    "    title='Gráfico de Barras Verticalmente Sobrepostas',\n",
    "    xaxis_title='Categorias',\n",
    "    yaxis_title='Valores'\n",
    ")\n",
    "\n",
    "# Exibe o gráfico\n",
    "fig.show()\n"
   ]
  },
  {
   "cell_type": "code",
   "execution_count": null,
   "metadata": {},
   "outputs": [],
   "source": [
    "def plot_time_serie_line_graph(serie: pd.Series, serie_title: Optional[str] = \"\", serie_xaxis_title: Optional[str] = \"\", \n",
    "                               serie_yaxis_title: Optional[str] = \"\") -> None:\n",
    "    '''\n",
    "        Description:\n",
    "            Essa função é responsável por realizar o plot de uma série temporal.\n",
    "        Args:\n",
    "            serie (pd.Series): Série temporal cujos dados serão utilizados para o plot. Os valores de tal série temporal estarão no eixo y,\n",
    "            enquanto os índices dessa série estarão no eixo x.\n",
    "            title (string):\n",
    "            xaxis_title (string):\n",
    "            yaxis_title (string):\n",
    "            \n",
    "        Return:\n",
    "            Essa função plota a série temporal, mas não retorna nada.\n",
    "    '''\n",
    "    \n",
    "    # Cria a figure onde a série temporal em questão será plotada.\n",
    "    fig = go.Figure()\n",
    "    \n",
    "    # Adiciona o gráfico da série temporal em questão ao plot.\n",
    "    fig.add_trace(go.Scatter(\n",
    "        # Define os valores do eixo x do plot.\n",
    "        x = serie.index,\n",
    "        # Define os valores do eixo y do plot.\n",
    "        y = serie.values,\n",
    "        # Define o tipo do gráfico que será plotado.\n",
    "        mode = \"lines\"\n",
    "    ))\n",
    "    \n",
    "    # Adiciona algumas legendas ao plot.\n",
    "    fig.update_layout(\n",
    "        # Adiciona um título ao plot.\n",
    "        title = serie_title,\n",
    "        # Adiciona uma legenda ao eixo x do plot.\n",
    "        xaxis_title = serie_xaxis_title,\n",
    "        # Adiciona uma legenda ao eixo y do plot.\n",
    "        yaxis_title = serie_yaxis_title\n",
    "    )\n",
    "    \n",
    "    # Exibe o plot criado.\n",
    "    fig.show()"
   ]
  },
  {
   "cell_type": "code",
   "execution_count": null,
   "metadata": {},
   "outputs": [],
   "source": [
    "'''\n",
    "# Cria um título para o plot.\n",
    "title = f\"Retornos logarítmicos diários de {ticker1}\"\n",
    "# Cria uma legenda para o eixo x do plot.\n",
    "xaxis_title = \"Data\"\n",
    "# Cria uma legenda para o eixo y do plot.\n",
    "yaxis_title = \"Valor\"\n",
    "\n",
    "# Cria o plot da série temporal dos log retornos diários do \"ticker1\".\n",
    "plot_time_serie_line_graph(ticker1_daily_logarithmic_return, title, xaxis_title, yaxis_title)\n",
    "'''"
   ]
  },
  {
   "cell_type": "code",
   "execution_count": null,
   "metadata": {},
   "outputs": [],
   "source": [
    "def plot_multiples_time_series_line_graphs(data_list: list, serie_title: Optional[str] = \"\", serie_xaxis_title: Optional[str] = \"\", \n",
    "                               serie_yaxis_title: Optional[str] = \"\") -> None:\n",
    "    '''\n",
    "        Description:\n",
    "            Esta função exibe em um mesmo plot múltiplos gráficos de séries temporais. \n",
    "        Args:\n",
    "            data_list (list): Lista contendo as séries temporais cujos gráficos serão exibidos no plot. Os valores de tais séries temporais\n",
    "                              estarão no eixo y, enquanto os índices dessas séries estarão no eixo x.\n",
    "            title (string) [Optional]: Título do plot.\n",
    "            xaxis_title (string) [Optional]: Título do eixo x do plot.\n",
    "            yaxis_title (string) [Optional]: Título do eixo y do plot.\n",
    "        Return:\n",
    "            None: A função exibe os gráficos, mas não retorna nenhum valor.  \n",
    "        Errors:\n",
    "            TypeError: É esperado que todas os elementos da lista \"data_list\" sejam objetos do tipo pd.Series, isto é, que sejam séries temporais.\n",
    "            ValueError: É esperado que todas as séries temporais presentes na variável \"data_list\" possuam os mesmos índices. \n",
    "            TypeError: É esperado que todas as séries temporais presentes na variável data_list possuam um atributo \"name\".\n",
    "    '''    \n",
    "\n",
    "    # Verifica se todos os elementos presentes na lista \"data_list\" são séries temporais.\n",
    "    are_all_data_time_series = all(isinstance(df, pd.Series) for df in data_list)\n",
    "    \n",
    "    # Retorna um erro caso algum dos dados presentes na variável \"data_list\" não seja uma série temporal\n",
    "    if not are_all_data_time_series:\n",
    "        raise TypeError(\"Todos os dados presentes no parâmetro 'data_list' devem ser séries temporais.\")\n",
    "    \n",
    "    # Verifica se as séries temporais presentes na variável \"data_list\" possuem os mesmos índices.\n",
    "    are_all_index_equal = all(df.index.equals(data_list[0].index) for df in data_list)\n",
    "    \n",
    "    # Retorna um erro caso as séries temporais possuam índices diferentes.\n",
    "    if not are_all_index_equal:\n",
    "        raise ValueError(\"Todos as séries temporais devem possuir os mesmos índices.\")\n",
    "    \n",
    "    # Verifica se todas as séries temporais presentes na variável \"data_list\" possuem o atributo \"name\".\n",
    "    all_time_series_have_names = all(hasattr(df,\"name\") for df in data_list)\n",
    "    \n",
    "    # Retorna um erro caso uma das séries temporais presentes na variável \"data_list\" não possua o atributo \"name\".\n",
    "    if not all_time_series_have_names:\n",
    "        raise TypeError(\"Todas as séries temporais devem possuir o atributo 'name'\")\n",
    "    \n",
    "    # Cria uma lista de timestamps que representará o eixo x do gráfico que será plotado.\n",
    "    x_axis = data_list[0].index.tolist() # Observe que só podemos fazer isso pois temos certeza que todas as séries temporais possuem os mesmos índices.\n",
    "    # Cria a figura onde será plotado o gráfico.\n",
    "    fig = go.Figure()\n",
    "\n",
    "    # Adiciona cada série temporal ao gráfico.\n",
    "    for time_serie in data_list:\n",
    "        # Plota o gráfico (Data x Valor da Ação) do ticker em questão.\n",
    "        fig.add_trace(go.Scatter(x=x_axis, y=time_serie.values, mode=\"lines\", name=time_serie.name))\n",
    "    \n",
    "    # Atualiza o layout para permitir destaque ao clicar na legenda.\n",
    "    fig.update_layout(\n",
    "        # Seta um título para o plot.\n",
    "        title=serie_title,\n",
    "        # Seta um título para o eixo x do plot.\n",
    "        xaxis_title=serie_xaxis_title,\n",
    "        # Seta um título para o eixo y do plot.\n",
    "        yaxis_title=serie_yaxis_title,   \n",
    "    )\n",
    "    \n",
    "    # Exibe o gráfico criado.\n",
    "    fig.show()"
   ]
  },
  {
   "cell_type": "markdown",
   "metadata": {},
   "source": [
    "#"
   ]
  },
  {
   "cell_type": "code",
   "execution_count": 7,
   "metadata": {},
   "outputs": [],
   "source": [
    "setup = {\n",
    "    #\n",
    "    \"monthly_results_sheets\": ['resultados_portfolio_mensal_full_1.xlsx', 'resultados_portfolio_mensal_full_2.xlsx',\n",
    "                               'resultados_portfolio_mensal_full_3.xlsx', 'resultados_portfolio_mensal_full_4.xlsx'],\n",
    "    #\n",
    "    \"weekly_results_sheets\": ['resultados_portfolio_semanal_full_1.xlsx']\n",
    "}"
   ]
  },
  {
   "cell_type": "code",
   "execution_count": 15,
   "metadata": {},
   "outputs": [],
   "source": [
    "def process_file_and_get_results(filename: str) -> pd.DataFrame:\n",
    "    '''\n",
    "        Description:\n",
    "\n",
    "        Args:\n",
    "\n",
    "        Return:\n",
    "    '''\n",
    "\n",
    "    # Ler todas as planilhas do arquivo Excel\n",
    "    dfs = pd.read_excel(filename, sheet_name=None)\n",
    "    \n",
    "    #\n",
    "    first_trading_day = dfs['Período 1'][dfs['Período 1'].columns[0]][0].split(\" - \")[0]\n",
    "    #\n",
    "    first_trading_day = np.datetime64(first_trading_day)\n",
    "    \n",
    "    #\n",
    "    results = pd.DataFrame({\n",
    "        \"Retorno\": 0\n",
    "    }, index=[first_trading_day])\n",
    "    \n",
    "    # Acessar e trabalhar com cada DataFrame\n",
    "    for period, df in dfs.items():\n",
    "        if not df.empty:\n",
    "            #\n",
    "            period_last_trading_day = df[df.columns[0]][0].split(\" - \")[1]\n",
    "            #\n",
    "            period_last_trading_day = np.datetime64(period_last_trading_day)\n",
    "            #\n",
    "            tickers_to_trade = math.ceil(df.shape[0]*0.1)\n",
    "            #\n",
    "            period_return = df.iloc[:tickers_to_trade]['Retorno Real'].mean() # Trocar por um .sum() ?\n",
    "            #\n",
    "            result = pd.DataFrame({\n",
    "                \"Retorno\": period_return,\n",
    "            },index=[period_last_trading_day])\n",
    "            #\n",
    "            results = pd.concat([results, result])\n",
    "    \n",
    "    return results\n",
    "            "
   ]
  },
  {
   "cell_type": "code",
   "execution_count": 16,
   "metadata": {},
   "outputs": [
    {
     "data": {
      "text/html": [
       "<div>\n",
       "<style scoped>\n",
       "    .dataframe tbody tr th:only-of-type {\n",
       "        vertical-align: middle;\n",
       "    }\n",
       "\n",
       "    .dataframe tbody tr th {\n",
       "        vertical-align: top;\n",
       "    }\n",
       "\n",
       "    .dataframe thead th {\n",
       "        text-align: right;\n",
       "    }\n",
       "</style>\n",
       "<table border=\"1\" class=\"dataframe\">\n",
       "  <thead>\n",
       "    <tr style=\"text-align: right;\">\n",
       "      <th></th>\n",
       "      <th>Retorno</th>\n",
       "    </tr>\n",
       "  </thead>\n",
       "  <tbody>\n",
       "    <tr>\n",
       "      <th>2019-01-31</th>\n",
       "      <td>0.000000</td>\n",
       "    </tr>\n",
       "    <tr>\n",
       "      <th>2019-02-06</th>\n",
       "      <td>-0.119412</td>\n",
       "    </tr>\n",
       "    <tr>\n",
       "      <th>2019-02-13</th>\n",
       "      <td>-0.023905</td>\n",
       "    </tr>\n",
       "    <tr>\n",
       "      <th>2019-02-21</th>\n",
       "      <td>0.110191</td>\n",
       "    </tr>\n",
       "    <tr>\n",
       "      <th>2019-02-28</th>\n",
       "      <td>0.447097</td>\n",
       "    </tr>\n",
       "    <tr>\n",
       "      <th>...</th>\n",
       "      <td>...</td>\n",
       "    </tr>\n",
       "    <tr>\n",
       "      <th>2023-11-27</th>\n",
       "      <td>-0.243826</td>\n",
       "    </tr>\n",
       "    <tr>\n",
       "      <th>2023-12-04</th>\n",
       "      <td>0.677020</td>\n",
       "    </tr>\n",
       "    <tr>\n",
       "      <th>2023-12-11</th>\n",
       "      <td>0.474322</td>\n",
       "    </tr>\n",
       "    <tr>\n",
       "      <th>2023-12-18</th>\n",
       "      <td>-0.061220</td>\n",
       "    </tr>\n",
       "    <tr>\n",
       "      <th>2023-12-26</th>\n",
       "      <td>0.507751</td>\n",
       "    </tr>\n",
       "  </tbody>\n",
       "</table>\n",
       "<p>244 rows × 1 columns</p>\n",
       "</div>"
      ],
      "text/plain": [
       "             Retorno\n",
       "2019-01-31  0.000000\n",
       "2019-02-06 -0.119412\n",
       "2019-02-13 -0.023905\n",
       "2019-02-21  0.110191\n",
       "2019-02-28  0.447097\n",
       "...              ...\n",
       "2023-11-27 -0.243826\n",
       "2023-12-04  0.677020\n",
       "2023-12-11  0.474322\n",
       "2023-12-18 -0.061220\n",
       "2023-12-26  0.507751\n",
       "\n",
       "[244 rows x 1 columns]"
      ]
     },
     "execution_count": 16,
     "metadata": {},
     "output_type": "execute_result"
    }
   ],
   "source": [
    "process_file_and_get_results(setup['weekly_results_sheets'][0])"
   ]
  },
  {
   "cell_type": "markdown",
   "metadata": {},
   "source": [
    "## **Sugestões**"
   ]
  },
  {
   "cell_type": "markdown",
   "metadata": {},
   "source": [
    "**Gŕaficos a serem feitos:** *(Ver em quais gráficos deve ser plotada uma região de confiança)*\n",
    "\n",
    "    - Gráfico de série temporal com o maior retorno acumulado, menor retorno acumulado e retorno médio acumulado da estratégia.\n",
    "  \n",
    "    - Gráfico de série temporal com o retorno médio acumulado da estratégia (logarítmico) x retorno médio acumulado do S&P500 (logarítmico).\n",
    "  \n",
    "    - Gráfico de série temporal com o retorno médio por período da estratégia x sharpe ratio por período da estratégia x sortino ratio por  período da estratégia.\n",
    "  \n",
    "    - Histograma com a distribuição dos retornos médios por período da estratégia *(plotar sobre os histogramas uma linha de distribuição normal ajustada)*. Para esse histograma, é importante calcular a assimetria (quanto mais próximo de 0, mais \"normal\" é a distribuição) e a kurtosis (quanto mais próximo de 3, mais \"normal\" é a distribuição).\n",
    "  \n",
    "    - Gráfico de barras com os retornos médios por período da estratégia x retornos por período do S&P 500."
   ]
  }
 ],
 "metadata": {
  "kernelspec": {
   "display_name": "Python 3",
   "language": "python",
   "name": "python3"
  },
  "language_info": {
   "codemirror_mode": {
    "name": "ipython",
    "version": 3
   },
   "file_extension": ".py",
   "mimetype": "text/x-python",
   "name": "python",
   "nbconvert_exporter": "python",
   "pygments_lexer": "ipython3",
   "version": "3.10.12"
  }
 },
 "nbformat": 4,
 "nbformat_minor": 2
}
