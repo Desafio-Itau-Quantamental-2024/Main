{
 "cells": [
  {
   "cell_type": "markdown",
   "metadata": {},
   "source": [
    "#### *Instalando as bibliotecas que serão necessárias*"
   ]
  },
  {
   "cell_type": "code",
   "execution_count": 2,
   "metadata": {},
   "outputs": [
    {
     "name": "stdout",
     "output_type": "stream",
     "text": [
      "Defaulting to user installation because normal site-packages is not writeable\n",
      "Requirement already satisfied: pandas in /home/user/.local/lib/python3.10/site-packages (2.0.3)\n",
      "Requirement already satisfied: tzdata>=2022.1 in /home/user/.local/lib/python3.10/site-packages (from pandas) (2024.1)\n",
      "Requirement already satisfied: numpy>=1.21.0 in /home/user/.local/lib/python3.10/site-packages (from pandas) (1.24.3)\n",
      "Requirement already satisfied: python-dateutil>=2.8.2 in /home/user/.local/lib/python3.10/site-packages (from pandas) (2.9.0.post0)\n",
      "Requirement already satisfied: pytz>=2020.1 in /home/user/.local/lib/python3.10/site-packages (from pandas) (2024.1)\n",
      "Requirement already satisfied: six>=1.5 in /usr/lib/python3/dist-packages (from python-dateutil>=2.8.2->pandas) (1.16.0)\n"
     ]
    }
   ],
   "source": [
    "# Instala a biblioteca \"pandas\" que será usada para manipulação de dados.\n",
    "!pip install pandas"
   ]
  },
  {
   "cell_type": "code",
   "execution_count": 3,
   "metadata": {},
   "outputs": [
    {
     "name": "stdout",
     "output_type": "stream",
     "text": [
      "Defaulting to user installation because normal site-packages is not writeable\n",
      "Requirement already satisfied: numpy in /home/user/.local/lib/python3.10/site-packages (1.24.3)\n"
     ]
    }
   ],
   "source": [
    "# Instala a biblioteca \"numpy\" que será usada para operações numéricas.\n",
    "!pip install numpy"
   ]
  },
  {
   "cell_type": "code",
   "execution_count": 4,
   "metadata": {},
   "outputs": [
    {
     "name": "stdout",
     "output_type": "stream",
     "text": [
      "Defaulting to user installation because normal site-packages is not writeable\n",
      "Requirement already satisfied: yfinance in /home/user/.local/lib/python3.10/site-packages (0.2.41)\n",
      "Requirement already satisfied: requests>=2.31 in /home/user/.local/lib/python3.10/site-packages (from yfinance) (2.31.0)\n",
      "Requirement already satisfied: html5lib>=1.1 in /home/user/.local/lib/python3.10/site-packages (from yfinance) (1.1)\n",
      "Requirement already satisfied: numpy>=1.16.5 in /home/user/.local/lib/python3.10/site-packages (from yfinance) (1.24.3)\n",
      "Requirement already satisfied: multitasking>=0.0.7 in /home/user/.local/lib/python3.10/site-packages (from yfinance) (0.0.11)\n",
      "Requirement already satisfied: lxml>=4.9.1 in /home/user/.local/lib/python3.10/site-packages (from yfinance) (5.2.2)\n",
      "Requirement already satisfied: pytz>=2022.5 in /home/user/.local/lib/python3.10/site-packages (from yfinance) (2024.1)\n",
      "Requirement already satisfied: platformdirs>=2.0.0 in /home/user/.local/lib/python3.10/site-packages (from yfinance) (4.2.0)\n",
      "Requirement already satisfied: frozendict>=2.3.4 in /home/user/.local/lib/python3.10/site-packages (from yfinance) (2.4.4)\n",
      "Requirement already satisfied: peewee>=3.16.2 in /home/user/.local/lib/python3.10/site-packages (from yfinance) (3.17.6)\n",
      "Requirement already satisfied: pandas>=1.3.0 in /home/user/.local/lib/python3.10/site-packages (from yfinance) (2.0.3)\n",
      "Requirement already satisfied: beautifulsoup4>=4.11.1 in /home/user/.local/lib/python3.10/site-packages (from yfinance) (4.12.3)\n",
      "Requirement already satisfied: soupsieve>1.2 in /home/user/.local/lib/python3.10/site-packages (from beautifulsoup4>=4.11.1->yfinance) (2.5)\n",
      "Requirement already satisfied: webencodings in /home/user/.local/lib/python3.10/site-packages (from html5lib>=1.1->yfinance) (0.5.1)\n",
      "Requirement already satisfied: six>=1.9 in /usr/lib/python3/dist-packages (from html5lib>=1.1->yfinance) (1.16.0)\n",
      "Requirement already satisfied: tzdata>=2022.1 in /home/user/.local/lib/python3.10/site-packages (from pandas>=1.3.0->yfinance) (2024.1)\n",
      "Requirement already satisfied: python-dateutil>=2.8.2 in /home/user/.local/lib/python3.10/site-packages (from pandas>=1.3.0->yfinance) (2.9.0.post0)\n",
      "Requirement already satisfied: idna<4,>=2.5 in /usr/lib/python3/dist-packages (from requests>=2.31->yfinance) (3.3)\n",
      "Requirement already satisfied: charset-normalizer<4,>=2 in /home/user/.local/lib/python3.10/site-packages (from requests>=2.31->yfinance) (3.3.2)\n",
      "Requirement already satisfied: urllib3<3,>=1.21.1 in /usr/lib/python3/dist-packages (from requests>=2.31->yfinance) (1.26.5)\n",
      "Requirement already satisfied: certifi>=2017.4.17 in /usr/lib/python3/dist-packages (from requests>=2.31->yfinance) (2020.6.20)\n"
     ]
    }
   ],
   "source": [
    "# Instala a biblioteca \"yfinance\" que será usada para obter dados financeiros.\n",
    "!pip install yfinance"
   ]
  },
  {
   "cell_type": "code",
   "execution_count": 5,
   "metadata": {},
   "outputs": [
    {
     "name": "stdout",
     "output_type": "stream",
     "text": [
      "Defaulting to user installation because normal site-packages is not writeable\n",
      "Requirement already satisfied: plotly in /home/user/.local/lib/python3.10/site-packages (5.23.0)\n",
      "Requirement already satisfied: tenacity>=6.2.0 in /home/user/.local/lib/python3.10/site-packages (from plotly) (8.2.3)\n",
      "Requirement already satisfied: packaging in /home/user/.local/lib/python3.10/site-packages (from plotly) (23.1)\n"
     ]
    }
   ],
   "source": [
    "# Instala a biblioteca \"plotly\" que será usada para a exibição de gráficos. \n",
    "!pip install plotly"
   ]
  },
  {
   "cell_type": "markdown",
   "metadata": {},
   "source": [
    "#### *Importando as bibliotecas que serão necessárias*"
   ]
  },
  {
   "cell_type": "code",
   "execution_count": 6,
   "metadata": {},
   "outputs": [
    {
     "name": "stderr",
     "output_type": "stream",
     "text": [
      "2024-11-15 00:36:01.281730: I external/local_xla/xla/tsl/cuda/cudart_stub.cc:32] Could not find cuda drivers on your machine, GPU will not be used.\n",
      "2024-11-15 00:36:01.538563: I external/local_xla/xla/tsl/cuda/cudart_stub.cc:32] Could not find cuda drivers on your machine, GPU will not be used.\n",
      "2024-11-15 00:36:01.774722: E external/local_xla/xla/stream_executor/cuda/cuda_fft.cc:485] Unable to register cuFFT factory: Attempting to register factory for plugin cuFFT when one has already been registered\n",
      "2024-11-15 00:36:01.966085: E external/local_xla/xla/stream_executor/cuda/cuda_dnn.cc:8454] Unable to register cuDNN factory: Attempting to register factory for plugin cuDNN when one has already been registered\n",
      "2024-11-15 00:36:02.017621: E external/local_xla/xla/stream_executor/cuda/cuda_blas.cc:1452] Unable to register cuBLAS factory: Attempting to register factory for plugin cuBLAS when one has already been registered\n",
      "2024-11-15 00:36:02.475840: I tensorflow/core/platform/cpu_feature_guard.cc:210] This TensorFlow binary is optimized to use available CPU instructions in performance-critical operations.\n",
      "To enable the following instructions: AVX2 FMA, in other operations, rebuild TensorFlow with the appropriate compiler flags.\n",
      "2024-11-15 00:36:06.041357: W tensorflow/compiler/tf2tensorrt/utils/py_utils.cc:38] TF-TRT Warning: Could not find TensorRT\n"
     ]
    }
   ],
   "source": [
    "# Importa a biblioteca \"pandas\", que será usada para manipulação de dados.\n",
    "import pandas as pd\n",
    "\n",
    "# Importa a biblioteca \"numpy\", que será usada para operações numéricas.\n",
    "import numpy as np\n",
    "\n",
    "# Importa a biblioteca \"yfinance\" para obter alguns dados de certas ações.\n",
    "import yfinance as yf\n",
    "\n",
    "# Importa o módulo \"graph_objects\" da biblioteca \"plotly\" para lidar com a exibição de gráficos.\n",
    "import plotly.graph_objects as go\n",
    "\n",
    "# Importa o módulo datetime da biblioteca \"datetime\" para lidar com datas.\n",
    "from datetime import datetime, timedelta\n",
    "\n",
    "# Importa a biblioteca \"math\" para lidar com certas operações matemáticas.\n",
    "import math\n",
    "\n",
    "# Importa o módulo Optional da biblioteca \"typing\" para lidar com a padronização dos tipos de parâmetros opcionais das funções.\n",
    "from typing import Optional\n",
    "\n",
    "# Importa a classe Ticker da \"biblioteca\" Ticker para lidar com ativos financeiros. \n",
    "from Ticker import Ticker\n",
    "\n",
    "# Importa a classe Model da \"biblioteca\" Model para lidar com redes neurais do tipo LSTM.\n",
    "from Model import Model\n",
    "\n",
    "# Importa o módulo MinMaxScaler da biblioteca \"sklearn\", que será utilizado para realizar a \"desnormalização\" \n",
    "# das variáveis target que foram usadas no modelo LSTM.\n",
    "from sklearn.preprocessing import MinMaxScaler\n",
    "\n",
    "#\n",
    "from scipy import stats\n"
   ]
  },
  {
   "cell_type": "markdown",
   "metadata": {},
   "source": [
    "#### *Definindo funções para processar os arquivos .xlsx*"
   ]
  },
  {
   "cell_type": "code",
   "execution_count": 7,
   "metadata": {},
   "outputs": [],
   "source": [
    "def process_file_and_get_results(filename: str) -> pd.DataFrame:\n",
    "    '''\n",
    "        Description:\n",
    "\n",
    "        Args:\n",
    "\n",
    "        Return:\n",
    "    '''\n",
    "\n",
    "    # Ler todas as planilhas do arquivo Excel\n",
    "    dfs = pd.read_excel(filename, sheet_name=None)\n",
    "    \n",
    "    #\n",
    "    first_trading_day = dfs['Período 1'][dfs['Período 1'].columns[0]][0].split(\" - \")[0]\n",
    "    #\n",
    "    first_trading_day = np.datetime64(first_trading_day)\n",
    "    \n",
    "    #\n",
    "    results = pd.DataFrame({\n",
    "        \"Retorno Long\": 0,\n",
    "        \"Retorno Short\": 0,\n",
    "        \"Retorno Total\": 0\n",
    "    }, index=[first_trading_day])\n",
    "    \n",
    "    # Acessar e trabalhar com cada DataFrame\n",
    "    for period, df in dfs.items():\n",
    "        if not df.empty:\n",
    "            #\n",
    "            period_last_trading_day = df[df.columns[0]][0].split(\" - \")[1]\n",
    "            #\n",
    "            period_last_trading_day = np.datetime64(period_last_trading_day)\n",
    "            #\n",
    "            tickers_to_trade = math.ceil(df.shape[0]*0.1)\n",
    "            #\n",
    "            period_long_return = df.iloc[:tickers_to_trade]['Retorno Real'].mean() # Trocar por um .sum() ?\n",
    "            #\n",
    "            period_short_return = df.iloc[df.shape[0] - tickers_to_trade:]['Retorno Real'].mean()\n",
    "            #\n",
    "            result = pd.DataFrame({\n",
    "                \"Retorno Long\": period_long_return,\n",
    "                \"Retorno Short\": period_short_return*(-1),\n",
    "                \"Retorno Total\": period_long_return + period_short_return*(-1)\n",
    "            },index=[period_last_trading_day])\n",
    "            #\n",
    "            results = pd.concat([results, result])\n",
    "    \n",
    "    return results\n",
    "            "
   ]
  },
  {
   "cell_type": "code",
   "execution_count": 8,
   "metadata": {},
   "outputs": [],
   "source": [
    "def process_files_and_get_results(filesname: list) -> list:\n",
    "    '''\n",
    "        Description:\n",
    "\n",
    "        Args:\n",
    "\n",
    "        Return:\n",
    "    '''\n",
    "    \n",
    "    #\n",
    "    results = []\n",
    "    \n",
    "    #\n",
    "    for xlsx_number, xlsx in enumerate(filesname):\n",
    "        #\n",
    "        result = process_file_and_get_results(xlsx)\n",
    "        #\n",
    "        result.name = f\"Retornos da Estratégia na Previsão {xlsx_number}\"\n",
    "        #\n",
    "        results.append(result)\n",
    "        \n",
    "    return results"
   ]
  },
  {
   "cell_type": "code",
   "execution_count": 9,
   "metadata": {},
   "outputs": [],
   "source": [
    "def get_average_result(results: list) -> pd.Series:\n",
    "    '''\n",
    "        Description:\n",
    "\n",
    "        Args:\n",
    "\n",
    "        Return:\n",
    "\n",
    "    '''\n",
    "    \n",
    "    # Garantir que todos os resultados em results tenham o mesmo tamanho (para poder inicializar o average_result).\n",
    "    \n",
    "    \n",
    "    average_result = np.zeros(len(results[0]))\n",
    "        \n",
    "    for result in results:\n",
    "        average_result += result\n",
    "    \n",
    "    average_result = average_result/len(results)\n",
    "    \n",
    "    average_result.name = \"Retornos da Estratégia\"\n",
    "    \n",
    "    return average_result"
   ]
  },
  {
   "cell_type": "code",
   "execution_count": 10,
   "metadata": {},
   "outputs": [],
   "source": [
    "def get_ticker_standardized_returns(symbol, reference_data, strategy_time_period: str, \n",
    "                                    standardized_returns_name=\"\", standardized_cumulative_returns_name=\"\") -> pd.Series:\n",
    "    '''\n",
    "        Description:\n",
    "\n",
    "        Args:\n",
    "\n",
    "        Return:\n",
    "    '''\n",
    "\n",
    "    #\n",
    "    period = 5 if (strategy_time_period == \"W\") else 20\n",
    "    #\n",
    "    periods_number = len(reference_data)\n",
    "    \n",
    "    #\n",
    "    result = np.zeros(periods_number)\n",
    "    \n",
    "    #\n",
    "    data_extraction_initial_day = reference_data.index[0]\n",
    "    #\n",
    "    data_extraction_final_day = reference_data.index[-1] + timedelta(1) # O time delta 1 é por que o yf não inclui o último dia de \n",
    "                                                                        # negociação passado como parâmetro. Logo, somando um timedelta(1),\n",
    "                                                                        # tal dia será incluido na extração de dados do S&P500 index.\n",
    "                                                                            \n",
    "    #\n",
    "    adj_close = yf.download(symbol, data_extraction_initial_day, data_extraction_final_day)['Adj Close']\n",
    "    \n",
    "    #\n",
    "    result[0] = np.log((adj_close[period - 1])/adj_close[0])*100\n",
    "    #\n",
    "    for period_number in range(1, periods_number):\n",
    "        #\n",
    "        result[period_number] = np.log((adj_close[(period)*period_number - 1 + (period)])/(adj_close[(period)*period_number]))*100\n",
    "        \n",
    "    #\n",
    "    result = pd.Series(result, reference_data.index)\n",
    "    #\n",
    "    cumulative_result = result.cumsum()\n",
    "    #\n",
    "    result.name = standardized_returns_name\n",
    "    #\n",
    "    cumulative_result.name = standardized_cumulative_returns_name\n",
    "    \n",
    "    return result, cumulative_result"
   ]
  },
  {
   "cell_type": "markdown",
   "metadata": {},
   "source": [
    "#### *Definindo algumas variáveis que serão importantes para a exibição de resultados*"
   ]
  },
  {
   "cell_type": "code",
   "execution_count": 48,
   "metadata": {},
   "outputs": [],
   "source": [
    "setup = {\n",
    "    #\n",
    "    \"monthly_results_sheets\": ['resultados_portfolio_mensal_full_1.xlsx', 'resultados_portfolio_mensal_full_2.xlsx',\n",
    "                               'resultados_portfolio_mensal_full_3.xlsx', 'resultados_portfolio_mensal_full_4.xlsx',\n",
    "                               'resultados_portfolio_mensal_full_5.xlsx'],\n",
    "    #\n",
    "    \"weekly_results_sheets\": ['resultados_portfolio_semanal_full_1.xlsx']\n",
    "}"
   ]
  },
  {
   "cell_type": "code",
   "execution_count": 12,
   "metadata": {},
   "outputs": [],
   "source": [
    "#\n",
    "monthly_all_results = process_files_and_get_results(setup['monthly_results_sheets'])"
   ]
  },
  {
   "cell_type": "code",
   "execution_count": 13,
   "metadata": {},
   "outputs": [
    {
     "data": {
      "text/plain": [
       "[            Retorno Long  Retorno Short  Retorno Total\n",
       " 2019-02-22      0.000000       0.000000       0.000000\n",
       " 2019-03-21      4.859427      -0.843110       4.016317\n",
       " 2019-04-18      4.864098       4.751421       9.615520\n",
       " 2019-05-17      5.933391       1.608149       7.541540\n",
       " 2019-06-17      5.581319       0.784655       6.365974\n",
       " ...                  ...            ...            ...\n",
       " 2023-08-31      1.373854       5.146577       6.520432\n",
       " 2023-09-29      2.502946       7.393518       9.896464\n",
       " 2023-10-27      4.109963       5.521749       9.631712\n",
       " 2023-11-27      6.950656       3.101948      10.052604\n",
       " 2023-12-26      7.329663       2.823899      10.153562\n",
       " \n",
       " [61 rows x 3 columns],\n",
       "             Retorno Long  Retorno Short  Retorno Total\n",
       " 2019-02-22      0.000000       0.000000       0.000000\n",
       " 2019-03-21      6.267345      -0.100725       6.166620\n",
       " 2019-04-18      4.779837       4.123900       8.903737\n",
       " 2019-05-17      5.699338       1.164150       6.863488\n",
       " 2019-06-17      5.581320      -0.360588       5.220733\n",
       " ...                  ...            ...            ...\n",
       " 2023-08-31      1.373857       5.146580       6.520437\n",
       " 2023-09-29      2.502941       7.054072       9.557013\n",
       " 2023-10-27      4.253324       5.521747       9.775071\n",
       " 2023-11-27      6.746918       1.786716       8.533635\n",
       " 2023-12-26      7.329658       3.541588      10.871246\n",
       " \n",
       " [61 rows x 3 columns],\n",
       "             Retorno Long  Retorno Short  Retorno Total\n",
       " 2019-02-22      0.000000       0.000000       0.000000\n",
       " 2019-03-21      5.314519      -0.100741       5.213778\n",
       " 2019-04-18      4.692802       3.467355       8.160157\n",
       " 2019-05-17      6.400990       1.834995       8.235985\n",
       " 2019-06-17      5.637725       0.784657       6.422383\n",
       " ...                  ...            ...            ...\n",
       " 2023-08-31      1.373850       5.146575       6.520425\n",
       " 2023-09-29      2.502945       7.393518       9.896462\n",
       " 2023-10-27      4.826801       6.032073      10.858874\n",
       " 2023-11-27      6.950660       3.101951      10.052611\n",
       " 2023-12-26      7.329661       3.125437      10.455097\n",
       " \n",
       " [61 rows x 3 columns],\n",
       "             Retorno Long  Retorno Short  Retorno Total\n",
       " 2019-02-22      0.000000       0.000000       0.000000\n",
       " 2019-03-21      6.597265      -0.100745       6.496520\n",
       " 2019-04-18      5.603096       4.751433      10.354528\n",
       " 2019-05-17      4.596370       1.841688       6.438058\n",
       " 2019-06-17      4.739016      -0.038713       4.700302\n",
       " ...                  ...            ...            ...\n",
       " 2023-08-31      1.328703       5.012453       6.341156\n",
       " 2023-09-29      2.502943       7.393509       9.896452\n",
       " 2023-10-27      4.253327       5.521753       9.775080\n",
       " 2023-11-27      6.950658       2.436738       9.387396\n",
       " 2023-12-26      7.329657       3.541581      10.871238\n",
       " \n",
       " [61 rows x 3 columns],\n",
       "             Retorno Long  Retorno Short  Retorno Total\n",
       " 2019-02-22      0.000000       0.000000       0.000000\n",
       " 2019-03-21      4.846456      -0.246316       4.600140\n",
       " 2019-04-18      5.954547       4.315852      10.270399\n",
       " 2019-05-17      6.646773       0.995059       7.641831\n",
       " 2019-06-17      4.920749       1.417364       6.338113\n",
       " ...                  ...            ...            ...\n",
       " 2023-08-31      1.373853       5.146578       6.520430\n",
       " 2023-09-29      2.502946       7.393514       9.896459\n",
       " 2023-10-27      4.379042       8.112374      12.491416\n",
       " 2023-11-27      8.052742       2.436738      10.489480\n",
       " 2023-12-26      8.367501       2.217077      10.584578\n",
       " \n",
       " [61 rows x 3 columns]]"
      ]
     },
     "execution_count": 13,
     "metadata": {},
     "output_type": "execute_result"
    }
   ],
   "source": [
    "monthly_all_results"
   ]
  },
  {
   "cell_type": "code",
   "execution_count": 14,
   "metadata": {},
   "outputs": [],
   "source": [
    "monthly_results = [element['Retorno Total'] for element in monthly_all_results]\n",
    "\n",
    "for index, result  in enumerate(monthly_results): \n",
    "    result.name = f\"Retornos da Estratégia na Previsão {index}\""
   ]
  },
  {
   "cell_type": "code",
   "execution_count": 15,
   "metadata": {},
   "outputs": [
    {
     "data": {
      "text/plain": [
       "[2019-02-22     0.000000\n",
       " 2019-03-21     4.016317\n",
       " 2019-04-18     9.615520\n",
       " 2019-05-17     7.541540\n",
       " 2019-06-17     6.365974\n",
       "                 ...    \n",
       " 2023-08-31     6.520432\n",
       " 2023-09-29     9.896464\n",
       " 2023-10-27     9.631712\n",
       " 2023-11-27    10.052604\n",
       " 2023-12-26    10.153562\n",
       " Name: Retornos da Estratégia na Previsão 0, Length: 61, dtype: float64,\n",
       " 2019-02-22     0.000000\n",
       " 2019-03-21     6.166620\n",
       " 2019-04-18     8.903737\n",
       " 2019-05-17     6.863488\n",
       " 2019-06-17     5.220733\n",
       "                 ...    \n",
       " 2023-08-31     6.520437\n",
       " 2023-09-29     9.557013\n",
       " 2023-10-27     9.775071\n",
       " 2023-11-27     8.533635\n",
       " 2023-12-26    10.871246\n",
       " Name: Retornos da Estratégia na Previsão 1, Length: 61, dtype: float64,\n",
       " 2019-02-22     0.000000\n",
       " 2019-03-21     5.213778\n",
       " 2019-04-18     8.160157\n",
       " 2019-05-17     8.235985\n",
       " 2019-06-17     6.422383\n",
       "                 ...    \n",
       " 2023-08-31     6.520425\n",
       " 2023-09-29     9.896462\n",
       " 2023-10-27    10.858874\n",
       " 2023-11-27    10.052611\n",
       " 2023-12-26    10.455097\n",
       " Name: Retornos da Estratégia na Previsão 2, Length: 61, dtype: float64,\n",
       " 2019-02-22     0.000000\n",
       " 2019-03-21     6.496520\n",
       " 2019-04-18    10.354528\n",
       " 2019-05-17     6.438058\n",
       " 2019-06-17     4.700302\n",
       "                 ...    \n",
       " 2023-08-31     6.341156\n",
       " 2023-09-29     9.896452\n",
       " 2023-10-27     9.775080\n",
       " 2023-11-27     9.387396\n",
       " 2023-12-26    10.871238\n",
       " Name: Retornos da Estratégia na Previsão 3, Length: 61, dtype: float64,\n",
       " 2019-02-22     0.000000\n",
       " 2019-03-21     4.600140\n",
       " 2019-04-18    10.270399\n",
       " 2019-05-17     7.641831\n",
       " 2019-06-17     6.338113\n",
       "                 ...    \n",
       " 2023-08-31     6.520430\n",
       " 2023-09-29     9.896459\n",
       " 2023-10-27    12.491416\n",
       " 2023-11-27    10.489480\n",
       " 2023-12-26    10.584578\n",
       " Name: Retornos da Estratégia na Previsão 4, Length: 61, dtype: float64]"
      ]
     },
     "execution_count": 15,
     "metadata": {},
     "output_type": "execute_result"
    }
   ],
   "source": [
    "monthly_results"
   ]
  },
  {
   "cell_type": "code",
   "execution_count": 16,
   "metadata": {},
   "outputs": [],
   "source": [
    "#\n",
    "weekly_results = process_file_and_get_results(setup['weekly_results_sheets'][0]) # O .xlsx semanal é processado desse jeito pois, por hora,\n",
    "                                                                                 # só possuímos 1 dele."
   ]
  },
  {
   "cell_type": "code",
   "execution_count": 17,
   "metadata": {},
   "outputs": [],
   "source": [
    "#\n",
    "average_monthly_results = get_average_result(monthly_results)"
   ]
  },
  {
   "cell_type": "code",
   "execution_count": 18,
   "metadata": {},
   "outputs": [
    {
     "data": {
      "text/plain": [
       "619.0030838362336"
      ]
     },
     "execution_count": 18,
     "metadata": {},
     "output_type": "execute_result"
    }
   ],
   "source": [
    "average_monthly_results.sum()"
   ]
  },
  {
   "cell_type": "code",
   "execution_count": 19,
   "metadata": {},
   "outputs": [
    {
     "name": "stderr",
     "output_type": "stream",
     "text": [
      "[*********************100%%**********************]  1 of 1 completed\n"
     ]
    }
   ],
   "source": [
    "# Posso usar qualquer \"result\" em \"results\" como reference_data, já que, ambos \"result\" possuem as mesmas datas como índices.\n",
    "\n",
    "sp500_index_period_returns, sp500_index_cumulative_returns = get_ticker_standardized_returns('^GSPC', monthly_results[0], \"M\",\n",
    "                                                                                             \"Retornos do S&P500 Index\",\n",
    "                                                                                             \"Retorno Acumulado do S&P500 Index\")"
   ]
  },
  {
   "cell_type": "code",
   "execution_count": 20,
   "metadata": {},
   "outputs": [],
   "source": [
    "\n",
    "# Exemplo de como exportar para um arquivo Excel com duas planilhas\n",
    "with pd.ExcelWriter('sp500_returns.xlsx') as writer:\n",
    "    sp500_index_period_returns.to_excel(writer, sheet_name='Period Returns')\n",
    "    sp500_index_cumulative_returns.to_excel(writer, sheet_name='Cumulative Returns')\n"
   ]
  },
  {
   "cell_type": "markdown",
   "metadata": {},
   "source": [
    "#### *Exibindo e explicando as variáveis definidas na seção anterior*"
   ]
  },
  {
   "cell_type": "code",
   "execution_count": 21,
   "metadata": {},
   "outputs": [
    {
     "data": {
      "text/plain": [
       "2019-02-22     0.000000\n",
       "2019-03-21     4.016317\n",
       "2019-04-18     9.615520\n",
       "2019-05-17     7.541540\n",
       "2019-06-17     6.365974\n",
       "                ...    \n",
       "2023-08-31     6.520432\n",
       "2023-09-29     9.896464\n",
       "2023-10-27     9.631712\n",
       "2023-11-27    10.052604\n",
       "2023-12-26    10.153562\n",
       "Name: Retornos da Estratégia na Previsão 0, Length: 61, dtype: float64"
      ]
     },
     "execution_count": 21,
     "metadata": {},
     "output_type": "execute_result"
    }
   ],
   "source": [
    "#\n",
    "monthly_results[0]"
   ]
  },
  {
   "cell_type": "code",
   "execution_count": 22,
   "metadata": {},
   "outputs": [
    {
     "data": {
      "text/plain": [
       "2019-02-22     0.000000\n",
       "2019-03-21     4.016317\n",
       "2019-04-18     9.615520\n",
       "2019-05-17     7.541540\n",
       "2019-06-17     6.365974\n",
       "                ...    \n",
       "2023-08-31     6.520432\n",
       "2023-09-29     9.896464\n",
       "2023-10-27     9.631712\n",
       "2023-11-27    10.052604\n",
       "2023-12-26    10.153562\n",
       "Name: Retornos da Estratégia na Previsão 0, Length: 61, dtype: float64"
      ]
     },
     "execution_count": 22,
     "metadata": {},
     "output_type": "execute_result"
    }
   ],
   "source": [
    "#\n",
    "monthly_results[0]"
   ]
  },
  {
   "cell_type": "code",
   "execution_count": 23,
   "metadata": {},
   "outputs": [
    {
     "data": {
      "text/plain": [
       "2019-02-22     0.000000\n",
       "2019-03-21     5.298675\n",
       "2019-04-18     9.460868\n",
       "2019-05-17     7.344180\n",
       "2019-06-17     5.809501\n",
       "                ...    \n",
       "2023-08-31     6.484576\n",
       "2023-09-29     9.828570\n",
       "2023-10-27    10.506431\n",
       "2023-11-27     9.703145\n",
       "2023-12-26    10.587144\n",
       "Name: Retornos da Estratégia, Length: 61, dtype: float64"
      ]
     },
     "execution_count": 23,
     "metadata": {},
     "output_type": "execute_result"
    }
   ],
   "source": [
    "#\n",
    "average_monthly_results"
   ]
  },
  {
   "cell_type": "code",
   "execution_count": 24,
   "metadata": {},
   "outputs": [
    {
     "data": {
      "text/html": [
       "<div>\n",
       "<style scoped>\n",
       "    .dataframe tbody tr th:only-of-type {\n",
       "        vertical-align: middle;\n",
       "    }\n",
       "\n",
       "    .dataframe tbody tr th {\n",
       "        vertical-align: top;\n",
       "    }\n",
       "\n",
       "    .dataframe thead th {\n",
       "        text-align: right;\n",
       "    }\n",
       "</style>\n",
       "<table border=\"1\" class=\"dataframe\">\n",
       "  <thead>\n",
       "    <tr style=\"text-align: right;\">\n",
       "      <th></th>\n",
       "      <th>Retorno Long</th>\n",
       "      <th>Retorno Short</th>\n",
       "      <th>Retorno Total</th>\n",
       "    </tr>\n",
       "  </thead>\n",
       "  <tbody>\n",
       "    <tr>\n",
       "      <th>2019-01-31</th>\n",
       "      <td>0.000000</td>\n",
       "      <td>0.000000</td>\n",
       "      <td>0.000000</td>\n",
       "    </tr>\n",
       "    <tr>\n",
       "      <th>2019-02-06</th>\n",
       "      <td>-0.119412</td>\n",
       "      <td>-0.041951</td>\n",
       "      <td>-0.161363</td>\n",
       "    </tr>\n",
       "    <tr>\n",
       "      <th>2019-02-13</th>\n",
       "      <td>-0.023905</td>\n",
       "      <td>-0.602488</td>\n",
       "      <td>-0.626393</td>\n",
       "    </tr>\n",
       "    <tr>\n",
       "      <th>2019-02-21</th>\n",
       "      <td>0.110191</td>\n",
       "      <td>-0.923267</td>\n",
       "      <td>-0.813076</td>\n",
       "    </tr>\n",
       "    <tr>\n",
       "      <th>2019-02-28</th>\n",
       "      <td>0.447097</td>\n",
       "      <td>-0.148401</td>\n",
       "      <td>0.298696</td>\n",
       "    </tr>\n",
       "    <tr>\n",
       "      <th>...</th>\n",
       "      <td>...</td>\n",
       "      <td>...</td>\n",
       "      <td>...</td>\n",
       "    </tr>\n",
       "    <tr>\n",
       "      <th>2023-11-27</th>\n",
       "      <td>-0.243826</td>\n",
       "      <td>0.328808</td>\n",
       "      <td>0.084982</td>\n",
       "    </tr>\n",
       "    <tr>\n",
       "      <th>2023-12-04</th>\n",
       "      <td>0.677020</td>\n",
       "      <td>0.079925</td>\n",
       "      <td>0.756945</td>\n",
       "    </tr>\n",
       "    <tr>\n",
       "      <th>2023-12-11</th>\n",
       "      <td>0.474322</td>\n",
       "      <td>-0.504968</td>\n",
       "      <td>-0.030646</td>\n",
       "    </tr>\n",
       "    <tr>\n",
       "      <th>2023-12-18</th>\n",
       "      <td>-0.061220</td>\n",
       "      <td>-0.433529</td>\n",
       "      <td>-0.494749</td>\n",
       "    </tr>\n",
       "    <tr>\n",
       "      <th>2023-12-26</th>\n",
       "      <td>0.507751</td>\n",
       "      <td>0.080631</td>\n",
       "      <td>0.588381</td>\n",
       "    </tr>\n",
       "  </tbody>\n",
       "</table>\n",
       "<p>244 rows × 3 columns</p>\n",
       "</div>"
      ],
      "text/plain": [
       "            Retorno Long  Retorno Short  Retorno Total\n",
       "2019-01-31      0.000000       0.000000       0.000000\n",
       "2019-02-06     -0.119412      -0.041951      -0.161363\n",
       "2019-02-13     -0.023905      -0.602488      -0.626393\n",
       "2019-02-21      0.110191      -0.923267      -0.813076\n",
       "2019-02-28      0.447097      -0.148401       0.298696\n",
       "...                  ...            ...            ...\n",
       "2023-11-27     -0.243826       0.328808       0.084982\n",
       "2023-12-04      0.677020       0.079925       0.756945\n",
       "2023-12-11      0.474322      -0.504968      -0.030646\n",
       "2023-12-18     -0.061220      -0.433529      -0.494749\n",
       "2023-12-26      0.507751       0.080631       0.588381\n",
       "\n",
       "[244 rows x 3 columns]"
      ]
     },
     "execution_count": 24,
     "metadata": {},
     "output_type": "execute_result"
    }
   ],
   "source": [
    "#\n",
    "weekly_results"
   ]
  },
  {
   "cell_type": "code",
   "execution_count": 25,
   "metadata": {},
   "outputs": [
    {
     "data": {
      "text/plain": [
       "2019-02-22     0.000000\n",
       "2019-03-21     4.016317\n",
       "2019-04-18     9.615520\n",
       "2019-05-17     7.541540\n",
       "2019-06-17     6.365974\n",
       "                ...    \n",
       "2023-08-31     6.520432\n",
       "2023-09-29     9.896464\n",
       "2023-10-27     9.631712\n",
       "2023-11-27    10.052604\n",
       "2023-12-26    10.153562\n",
       "Name: Retornos da Estratégia na Previsão 0, Length: 61, dtype: float64"
      ]
     },
     "execution_count": 25,
     "metadata": {},
     "output_type": "execute_result"
    }
   ],
   "source": [
    "#\n",
    "monthly_results[0]"
   ]
  },
  {
   "cell_type": "code",
   "execution_count": 26,
   "metadata": {},
   "outputs": [
    {
     "data": {
      "text/plain": [
       "2019-02-22    2.203167\n",
       "2019-03-21    3.657078\n",
       "2019-04-18   -1.679795\n",
       "2019-05-17    1.725725\n",
       "2019-06-17    2.914529\n",
       "                ...   \n",
       "2023-08-31    0.659504\n",
       "2023-09-29   -5.174368\n",
       "2023-10-27   -4.069676\n",
       "2023-11-27    8.806866\n",
       "2023-12-26    4.714021\n",
       "Name: Retornos do S&P500 Index, Length: 61, dtype: float64"
      ]
     },
     "execution_count": 26,
     "metadata": {},
     "output_type": "execute_result"
    }
   ],
   "source": [
    "#\n",
    "sp500_index_period_returns"
   ]
  },
  {
   "cell_type": "code",
   "execution_count": 27,
   "metadata": {},
   "outputs": [
    {
     "data": {
      "text/plain": [
       "2019-02-22     2.203167\n",
       "2019-03-21     5.860246\n",
       "2019-04-18     4.180451\n",
       "2019-05-17     5.906176\n",
       "2019-06-17     8.820705\n",
       "                ...    \n",
       "2023-08-31    52.594225\n",
       "2023-09-29    47.419857\n",
       "2023-10-27    43.350180\n",
       "2023-11-27    52.157046\n",
       "2023-12-26    56.871067\n",
       "Name: Retorno Acumulado do S&P500 Index, Length: 61, dtype: float64"
      ]
     },
     "execution_count": 27,
     "metadata": {},
     "output_type": "execute_result"
    }
   ],
   "source": [
    "#\n",
    "sp500_index_cumulative_returns"
   ]
  },
  {
   "cell_type": "markdown",
   "metadata": {},
   "source": [
    "#### *Definindo algumas funções que serão úteis para plotar gráficos*"
   ]
  },
  {
   "cell_type": "code",
   "execution_count": 28,
   "metadata": {},
   "outputs": [],
   "source": [
    "def plot_time_serie_line_graph(serie: pd.Series, serie_title: Optional[str] = \"\", serie_xaxis_title: Optional[str] = \"\", \n",
    "                               serie_yaxis_title: Optional[str] = \"\", annotation_text: Optional[str] = \"\") -> None:\n",
    "    '''\n",
    "        Description:\n",
    "            Essa função é responsável por realizar o plot de uma série temporal.\n",
    "        Args:\n",
    "            serie (pd.Series): Série temporal cujos dados serão utilizados para o plot. Os valores de tal série temporal estarão no eixo y,\n",
    "            enquanto os índices dessa série estarão no eixo x.\n",
    "            title (string):\n",
    "            xaxis_title (string):\n",
    "            yaxis_title (string):\n",
    "            \n",
    "        Return:\n",
    "            Essa função plota a série temporal, mas não retorna nada.\n",
    "    '''\n",
    "    \n",
    "    # Cria a figure onde a série temporal em questão será plotada.\n",
    "    fig = go.Figure()\n",
    "    \n",
    "    # Adiciona o gráfico da série temporal em questão ao plot.\n",
    "    fig.add_trace(go.Scatter(\n",
    "        # Define os valores do eixo x do plot.\n",
    "        x = serie.index,\n",
    "        # Define os valores do eixo y do plot.\n",
    "        y = serie.values,\n",
    "        # Define o tipo do gráfico que será plotado.\n",
    "        mode = \"lines\"\n",
    "    ))\n",
    "        \n",
    "    # Adiciona a anotação ao gráfico\n",
    "    fig.add_annotation(\n",
    "        x=1, y=1, \n",
    "        text=annotation_text, \n",
    "        showarrow=False, \n",
    "        font=dict(size=12, color=\"black\"), \n",
    "        align=\"center\", \n",
    "        xref=\"paper\", yref=\"paper\", \n",
    "        bgcolor=\"white\", opacity=0.7\n",
    "    )\n",
    "    \n",
    "    # Adiciona algumas legendas ao plot.\n",
    "    fig.update_layout(\n",
    "        # Adiciona um título ao plot.\n",
    "        title = serie_title,\n",
    "        # Adiciona uma legenda ao eixo x do plot.\n",
    "        xaxis_title = serie_xaxis_title,\n",
    "        # Adiciona uma legenda ao eixo y do plot.\n",
    "        yaxis_title = serie_yaxis_title\n",
    "    )\n",
    "    \n",
    "    # Exibe o plot criado.\n",
    "    fig.show()"
   ]
  },
  {
   "cell_type": "code",
   "execution_count": 29,
   "metadata": {},
   "outputs": [],
   "source": [
    "def plot_multiples_time_series_line_graphs(data_list: list, serie_title: Optional[str] = \"\", serie_xaxis_title: Optional[str] = \"\", \n",
    "                               serie_yaxis_title: Optional[str] = \"\", annotation_text: Optional[str] = \"\") -> None:\n",
    "    '''\n",
    "        Description:\n",
    "            Esta função exibe em um mesmo plot múltiplos gráficos de séries temporais. \n",
    "        Args:\n",
    "            data_list (list): Lista contendo as séries temporais cujos gráficos serão exibidos no plot. Os valores de tais séries temporais\n",
    "                              estarão no eixo y, enquanto os índices dessas séries estarão no eixo x.\n",
    "            title (string) [Optional]: Título do plot.\n",
    "            xaxis_title (string) [Optional]: Título do eixo x do plot.\n",
    "            yaxis_title (string) [Optional]: Título do eixo y do plot.\n",
    "        Return:\n",
    "            None: A função exibe os gráficos, mas não retorna nenhum valor.  \n",
    "        Errors:\n",
    "            TypeError: É esperado que todas os elementos da lista \"data_list\" sejam objetos do tipo pd.Series, isto é, que sejam séries temporais.\n",
    "            ValueError: É esperado que todas as séries temporais presentes na variável \"data_list\" possuam os mesmos índices. \n",
    "            TypeError: É esperado que todas as séries temporais presentes na variável data_list possuam um atributo \"name\".\n",
    "    '''    \n",
    "\n",
    "    # Verifica se todos os elementos presentes na lista \"data_list\" são séries temporais.\n",
    "    are_all_data_time_series = all(isinstance(df, pd.Series) for df in data_list)\n",
    "    \n",
    "    # Retorna um erro caso algum dos dados presentes na variável \"data_list\" não seja uma série temporal\n",
    "    if not are_all_data_time_series:\n",
    "        raise TypeError(\"Todos os dados presentes no parâmetro 'data_list' devem ser séries temporais.\")\n",
    "    \n",
    "    # Verifica se as séries temporais presentes na variável \"data_list\" possuem os mesmos índices.\n",
    "    are_all_index_equal = all(df.index.equals(data_list[0].index) for df in data_list)\n",
    "    \n",
    "    # Retorna um erro caso as séries temporais possuam índices diferentes.\n",
    "    if not are_all_index_equal:\n",
    "        raise ValueError(\"Todos as séries temporais devem possuir os mesmos índices.\")\n",
    "    \n",
    "    # Verifica se todas as séries temporais presentes na variável \"data_list\" possuem o atributo \"name\".\n",
    "    all_time_series_have_names = all(hasattr(df,\"name\") for df in data_list)\n",
    "    \n",
    "    # Retorna um erro caso uma das séries temporais presentes na variável \"data_list\" não possua o atributo \"name\".\n",
    "    if not all_time_series_have_names:\n",
    "        raise TypeError(\"Todas as séries temporais devem possuir o atributo 'name'\")\n",
    "    \n",
    "    # Cria uma lista de timestamps que representará o eixo x do gráfico que será plotado.\n",
    "    x_axis = data_list[0].index.tolist() # Observe que só podemos fazer isso pois temos certeza que todas as séries temporais possuem os mesmos índices.\n",
    "    # Cria a figura onde será plotado o gráfico.\n",
    "    fig = go.Figure()\n",
    "\n",
    "    # Adiciona cada série temporal ao gráfico.\n",
    "    for time_serie in data_list:\n",
    "        # Plota o gráfico (Data x Valor da Ação) do ticker em questão.\n",
    "        fig.add_trace(go.Scatter(x=x_axis, y=time_serie.values, mode=\"lines\", name=time_serie.name))\n",
    "    \n",
    "    # Adiciona a anotação ao gráfico\n",
    "    fig.add_annotation(\n",
    "        x=1, y=1, \n",
    "        text=annotation_text, \n",
    "        showarrow=False, \n",
    "        font=dict(size=12, color=\"black\"), \n",
    "        align=\"center\", \n",
    "        xref=\"paper\", yref=\"paper\", \n",
    "        bgcolor=\"white\", opacity=0.7\n",
    "    )\n",
    "    \n",
    "    # Atualiza o layout para permitir destaque ao clicar na legenda.\n",
    "    fig.update_layout(\n",
    "        # Seta um título para o plot.\n",
    "        title=serie_title,\n",
    "        # Seta um título para o eixo x do plot.\n",
    "        xaxis_title=serie_xaxis_title,\n",
    "        # Seta um título para o eixo y do plot.\n",
    "        yaxis_title=serie_yaxis_title,   \n",
    "        #\n",
    "        legend=dict(\n",
    "            x=0.005,  # Posição horizontal dentro do gráfico (0 = esquerda, 1 = direita)\n",
    "            y=0.995,  # Posição vertical dentro do gráfico (0 = inferior, 1 = superior)\n",
    "            traceorder='normal',  # Ordem de exibição das linhas\n",
    "        )\n",
    "    )\n",
    "\n",
    "    # Exibe o gráfico criado.\n",
    "    fig.show()"
   ]
  },
  {
   "cell_type": "markdown",
   "metadata": {},
   "source": [
    "#### ***Exibindo os Resultados***"
   ]
  },
  {
   "cell_type": "markdown",
   "metadata": {},
   "source": [
    "##### **Retornos Mensais da Estratégia Vs. Retornos Mensais do S&P500 Index**"
   ]
  },
  {
   "cell_type": "code",
   "execution_count": 30,
   "metadata": {},
   "outputs": [
    {
     "data": {
      "application/vnd.plotly.v1+json": {
       "config": {
        "plotlyServerURL": "https://plot.ly"
       },
       "data": [
        {
         "mode": "lines",
         "name": "Retornos da Estratégia",
         "type": "scatter",
         "x": [
          "2019-02-22T00:00:00",
          "2019-03-21T00:00:00",
          "2019-04-18T00:00:00",
          "2019-05-17T00:00:00",
          "2019-06-17T00:00:00",
          "2019-07-16T00:00:00",
          "2019-08-13T00:00:00",
          "2019-09-11T00:00:00",
          "2019-10-09T00:00:00",
          "2019-11-06T00:00:00",
          "2019-12-05T00:00:00",
          "2020-01-06T00:00:00",
          "2020-02-04T00:00:00",
          "2020-03-04T00:00:00",
          "2020-04-30T00:00:00",
          "2020-05-29T00:00:00",
          "2020-06-26T00:00:00",
          "2020-07-27T00:00:00",
          "2020-08-24T00:00:00",
          "2020-09-22T00:00:00",
          "2020-10-20T00:00:00",
          "2020-11-17T00:00:00",
          "2020-12-16T00:00:00",
          "2021-01-15T00:00:00",
          "2021-02-16T00:00:00",
          "2021-03-16T00:00:00",
          "2021-04-14T00:00:00",
          "2021-05-12T00:00:00",
          "2021-06-10T00:00:00",
          "2021-07-09T00:00:00",
          "2021-08-06T00:00:00",
          "2021-09-03T00:00:00",
          "2021-10-04T00:00:00",
          "2021-11-01T00:00:00",
          "2021-11-30T00:00:00",
          "2021-12-29T00:00:00",
          "2022-01-27T00:00:00",
          "2022-02-25T00:00:00",
          "2022-03-25T00:00:00",
          "2022-04-25T00:00:00",
          "2022-05-23T00:00:00",
          "2022-06-22T00:00:00",
          "2022-07-21T00:00:00",
          "2022-08-18T00:00:00",
          "2022-09-16T00:00:00",
          "2022-10-14T00:00:00",
          "2022-11-11T00:00:00",
          "2022-12-12T00:00:00",
          "2023-01-11T00:00:00",
          "2023-02-09T00:00:00",
          "2023-03-10T00:00:00",
          "2023-04-10T00:00:00",
          "2023-05-08T00:00:00",
          "2023-06-06T00:00:00",
          "2023-07-06T00:00:00",
          "2023-08-03T00:00:00",
          "2023-08-31T00:00:00",
          "2023-09-29T00:00:00",
          "2023-10-27T00:00:00",
          "2023-11-27T00:00:00",
          "2023-12-26T00:00:00"
         ],
         "y": [
          0,
          5.29867507239607,
          9.460868139379281,
          7.344180407410411,
          5.809501063855595,
          9.261593842778392,
          12.095217876070553,
          10.872265138661385,
          8.240552452319957,
          12.958948288602567,
          7.7497291961452675,
          6.941502712481824,
          8.455660438055569,
          10.943851516030874,
          11.328954670223036,
          10.519333963491663,
          18.267376527612026,
          20.853321078926804,
          12.011198944302622,
          10.459144810718145,
          14.785741224436336,
          13.562677735484296,
          8.793466312834672,
          13.030784625334212,
          15.257272517456778,
          9.667006560688305,
          6.508185077136536,
          9.863549734306247,
          10.712365959435436,
          9.767777854719132,
          7.701498226255188,
          6.9895691784909815,
          8.014086735395333,
          8.730191284035444,
          6.947557877101258,
          6.8990212218443165,
          16.30497602035046,
          11.526213694221813,
          5.126830065247681,
          8.74876047152959,
          14.872167932558437,
          14.830243755335738,
          12.304327149504125,
          11.971420203008488,
          7.46361606417584,
          15.808536766497673,
          17.52143244521782,
          10.229453197511573,
          6.167350507211428,
          11.420916511919597,
          9.977737834807531,
          5.3502396347013015,
          9.680995649550438,
          9.854226986829422,
          6.790508659086673,
          9.840635926995237,
          6.4845758865699406,
          9.828570135210194,
          10.506430646996801,
          9.70314513321298,
          10.587144293566414
         ]
        },
        {
         "mode": "lines",
         "name": "Retornos do S&P500 Index",
         "type": "scatter",
         "x": [
          "2019-02-22T00:00:00",
          "2019-03-21T00:00:00",
          "2019-04-18T00:00:00",
          "2019-05-17T00:00:00",
          "2019-06-17T00:00:00",
          "2019-07-16T00:00:00",
          "2019-08-13T00:00:00",
          "2019-09-11T00:00:00",
          "2019-10-09T00:00:00",
          "2019-11-06T00:00:00",
          "2019-12-05T00:00:00",
          "2020-01-06T00:00:00",
          "2020-02-04T00:00:00",
          "2020-03-04T00:00:00",
          "2020-04-30T00:00:00",
          "2020-05-29T00:00:00",
          "2020-06-26T00:00:00",
          "2020-07-27T00:00:00",
          "2020-08-24T00:00:00",
          "2020-09-22T00:00:00",
          "2020-10-20T00:00:00",
          "2020-11-17T00:00:00",
          "2020-12-16T00:00:00",
          "2021-01-15T00:00:00",
          "2021-02-16T00:00:00",
          "2021-03-16T00:00:00",
          "2021-04-14T00:00:00",
          "2021-05-12T00:00:00",
          "2021-06-10T00:00:00",
          "2021-07-09T00:00:00",
          "2021-08-06T00:00:00",
          "2021-09-03T00:00:00",
          "2021-10-04T00:00:00",
          "2021-11-01T00:00:00",
          "2021-11-30T00:00:00",
          "2021-12-29T00:00:00",
          "2022-01-27T00:00:00",
          "2022-02-25T00:00:00",
          "2022-03-25T00:00:00",
          "2022-04-25T00:00:00",
          "2022-05-23T00:00:00",
          "2022-06-22T00:00:00",
          "2022-07-21T00:00:00",
          "2022-08-18T00:00:00",
          "2022-09-16T00:00:00",
          "2022-10-14T00:00:00",
          "2022-11-11T00:00:00",
          "2022-12-12T00:00:00",
          "2023-01-11T00:00:00",
          "2023-02-09T00:00:00",
          "2023-03-10T00:00:00",
          "2023-04-10T00:00:00",
          "2023-05-08T00:00:00",
          "2023-06-06T00:00:00",
          "2023-07-06T00:00:00",
          "2023-08-03T00:00:00",
          "2023-08-31T00:00:00",
          "2023-09-29T00:00:00",
          "2023-10-27T00:00:00",
          "2023-11-27T00:00:00",
          "2023-12-26T00:00:00"
         ],
         "y": [
          2.203167016955355,
          3.6570784839232706,
          -1.6797947266550932,
          1.7257253784573794,
          2.9145291085460574,
          -1.9659712631527295,
          5.490688600501024,
          -3.04191518633287,
          4.611032041784017,
          1.0398942165059932,
          3.1406565876359553,
          1.8489365969256006,
          -6.330832403896731,
          -20.214003817031237,
          14.19945444360034,
          7.274674396387298,
          -1.5394079670934353,
          5.918786865844358,
          6.403662603856873,
          -3.7893702514698737,
          6.175583484835031,
          4.93976209812391,
          3.6702597340330865,
          1.2220595127124094,
          3.458410389814939,
          0.795031389352416,
          3.718026059188602,
          -2.608525991678831,
          3.0338779688359843,
          2.8343549565653663,
          1.176507276972257,
          2.2989996432413284,
          -4.9796598819998525,
          5.983211666659955,
          -1.3840691721496063,
          6.0198057834731165,
          -9.941365851047877,
          -1.070734333560089,
          3.79366153760596,
          -6.3008040684506605,
          -4.945207488338616,
          -4.716660925509215,
          5.215506888071703,
          7.817098735670681,
          -8.77279634602826,
          -8.472832615327256,
          8.216976165956384,
          0.8382247030080929,
          -1.2526929710451613,
          2.438660283843375,
          -5.757838509764697,
          6.363829009450829,
          0.7076533296937205,
          3.9200492973762526,
          3.320226644107447,
          2.3131418487960893,
          0.6595036927254397,
          -5.174368068880059,
          -4.069676452953056,
          8.80686598444981,
          4.71402053914846
         ]
        }
       ],
       "layout": {
        "annotations": [
         {
          "align": "center",
          "bgcolor": "white",
          "font": {
           "color": "black",
           "size": 12
          },
          "opacity": 0.7,
          "showarrow": false,
          "text": "",
          "x": 1,
          "xref": "paper",
          "y": 1,
          "yref": "paper"
         }
        ],
        "legend": {
         "traceorder": "normal",
         "x": 0.005,
         "y": 0.995
        },
        "template": {
         "data": {
          "bar": [
           {
            "error_x": {
             "color": "#2a3f5f"
            },
            "error_y": {
             "color": "#2a3f5f"
            },
            "marker": {
             "line": {
              "color": "#E5ECF6",
              "width": 0.5
             },
             "pattern": {
              "fillmode": "overlay",
              "size": 10,
              "solidity": 0.2
             }
            },
            "type": "bar"
           }
          ],
          "barpolar": [
           {
            "marker": {
             "line": {
              "color": "#E5ECF6",
              "width": 0.5
             },
             "pattern": {
              "fillmode": "overlay",
              "size": 10,
              "solidity": 0.2
             }
            },
            "type": "barpolar"
           }
          ],
          "carpet": [
           {
            "aaxis": {
             "endlinecolor": "#2a3f5f",
             "gridcolor": "white",
             "linecolor": "white",
             "minorgridcolor": "white",
             "startlinecolor": "#2a3f5f"
            },
            "baxis": {
             "endlinecolor": "#2a3f5f",
             "gridcolor": "white",
             "linecolor": "white",
             "minorgridcolor": "white",
             "startlinecolor": "#2a3f5f"
            },
            "type": "carpet"
           }
          ],
          "choropleth": [
           {
            "colorbar": {
             "outlinewidth": 0,
             "ticks": ""
            },
            "type": "choropleth"
           }
          ],
          "contour": [
           {
            "colorbar": {
             "outlinewidth": 0,
             "ticks": ""
            },
            "colorscale": [
             [
              0,
              "#0d0887"
             ],
             [
              0.1111111111111111,
              "#46039f"
             ],
             [
              0.2222222222222222,
              "#7201a8"
             ],
             [
              0.3333333333333333,
              "#9c179e"
             ],
             [
              0.4444444444444444,
              "#bd3786"
             ],
             [
              0.5555555555555556,
              "#d8576b"
             ],
             [
              0.6666666666666666,
              "#ed7953"
             ],
             [
              0.7777777777777778,
              "#fb9f3a"
             ],
             [
              0.8888888888888888,
              "#fdca26"
             ],
             [
              1,
              "#f0f921"
             ]
            ],
            "type": "contour"
           }
          ],
          "contourcarpet": [
           {
            "colorbar": {
             "outlinewidth": 0,
             "ticks": ""
            },
            "type": "contourcarpet"
           }
          ],
          "heatmap": [
           {
            "colorbar": {
             "outlinewidth": 0,
             "ticks": ""
            },
            "colorscale": [
             [
              0,
              "#0d0887"
             ],
             [
              0.1111111111111111,
              "#46039f"
             ],
             [
              0.2222222222222222,
              "#7201a8"
             ],
             [
              0.3333333333333333,
              "#9c179e"
             ],
             [
              0.4444444444444444,
              "#bd3786"
             ],
             [
              0.5555555555555556,
              "#d8576b"
             ],
             [
              0.6666666666666666,
              "#ed7953"
             ],
             [
              0.7777777777777778,
              "#fb9f3a"
             ],
             [
              0.8888888888888888,
              "#fdca26"
             ],
             [
              1,
              "#f0f921"
             ]
            ],
            "type": "heatmap"
           }
          ],
          "heatmapgl": [
           {
            "colorbar": {
             "outlinewidth": 0,
             "ticks": ""
            },
            "colorscale": [
             [
              0,
              "#0d0887"
             ],
             [
              0.1111111111111111,
              "#46039f"
             ],
             [
              0.2222222222222222,
              "#7201a8"
             ],
             [
              0.3333333333333333,
              "#9c179e"
             ],
             [
              0.4444444444444444,
              "#bd3786"
             ],
             [
              0.5555555555555556,
              "#d8576b"
             ],
             [
              0.6666666666666666,
              "#ed7953"
             ],
             [
              0.7777777777777778,
              "#fb9f3a"
             ],
             [
              0.8888888888888888,
              "#fdca26"
             ],
             [
              1,
              "#f0f921"
             ]
            ],
            "type": "heatmapgl"
           }
          ],
          "histogram": [
           {
            "marker": {
             "pattern": {
              "fillmode": "overlay",
              "size": 10,
              "solidity": 0.2
             }
            },
            "type": "histogram"
           }
          ],
          "histogram2d": [
           {
            "colorbar": {
             "outlinewidth": 0,
             "ticks": ""
            },
            "colorscale": [
             [
              0,
              "#0d0887"
             ],
             [
              0.1111111111111111,
              "#46039f"
             ],
             [
              0.2222222222222222,
              "#7201a8"
             ],
             [
              0.3333333333333333,
              "#9c179e"
             ],
             [
              0.4444444444444444,
              "#bd3786"
             ],
             [
              0.5555555555555556,
              "#d8576b"
             ],
             [
              0.6666666666666666,
              "#ed7953"
             ],
             [
              0.7777777777777778,
              "#fb9f3a"
             ],
             [
              0.8888888888888888,
              "#fdca26"
             ],
             [
              1,
              "#f0f921"
             ]
            ],
            "type": "histogram2d"
           }
          ],
          "histogram2dcontour": [
           {
            "colorbar": {
             "outlinewidth": 0,
             "ticks": ""
            },
            "colorscale": [
             [
              0,
              "#0d0887"
             ],
             [
              0.1111111111111111,
              "#46039f"
             ],
             [
              0.2222222222222222,
              "#7201a8"
             ],
             [
              0.3333333333333333,
              "#9c179e"
             ],
             [
              0.4444444444444444,
              "#bd3786"
             ],
             [
              0.5555555555555556,
              "#d8576b"
             ],
             [
              0.6666666666666666,
              "#ed7953"
             ],
             [
              0.7777777777777778,
              "#fb9f3a"
             ],
             [
              0.8888888888888888,
              "#fdca26"
             ],
             [
              1,
              "#f0f921"
             ]
            ],
            "type": "histogram2dcontour"
           }
          ],
          "mesh3d": [
           {
            "colorbar": {
             "outlinewidth": 0,
             "ticks": ""
            },
            "type": "mesh3d"
           }
          ],
          "parcoords": [
           {
            "line": {
             "colorbar": {
              "outlinewidth": 0,
              "ticks": ""
             }
            },
            "type": "parcoords"
           }
          ],
          "pie": [
           {
            "automargin": true,
            "type": "pie"
           }
          ],
          "scatter": [
           {
            "fillpattern": {
             "fillmode": "overlay",
             "size": 10,
             "solidity": 0.2
            },
            "type": "scatter"
           }
          ],
          "scatter3d": [
           {
            "line": {
             "colorbar": {
              "outlinewidth": 0,
              "ticks": ""
             }
            },
            "marker": {
             "colorbar": {
              "outlinewidth": 0,
              "ticks": ""
             }
            },
            "type": "scatter3d"
           }
          ],
          "scattercarpet": [
           {
            "marker": {
             "colorbar": {
              "outlinewidth": 0,
              "ticks": ""
             }
            },
            "type": "scattercarpet"
           }
          ],
          "scattergeo": [
           {
            "marker": {
             "colorbar": {
              "outlinewidth": 0,
              "ticks": ""
             }
            },
            "type": "scattergeo"
           }
          ],
          "scattergl": [
           {
            "marker": {
             "colorbar": {
              "outlinewidth": 0,
              "ticks": ""
             }
            },
            "type": "scattergl"
           }
          ],
          "scattermapbox": [
           {
            "marker": {
             "colorbar": {
              "outlinewidth": 0,
              "ticks": ""
             }
            },
            "type": "scattermapbox"
           }
          ],
          "scatterpolar": [
           {
            "marker": {
             "colorbar": {
              "outlinewidth": 0,
              "ticks": ""
             }
            },
            "type": "scatterpolar"
           }
          ],
          "scatterpolargl": [
           {
            "marker": {
             "colorbar": {
              "outlinewidth": 0,
              "ticks": ""
             }
            },
            "type": "scatterpolargl"
           }
          ],
          "scatterternary": [
           {
            "marker": {
             "colorbar": {
              "outlinewidth": 0,
              "ticks": ""
             }
            },
            "type": "scatterternary"
           }
          ],
          "surface": [
           {
            "colorbar": {
             "outlinewidth": 0,
             "ticks": ""
            },
            "colorscale": [
             [
              0,
              "#0d0887"
             ],
             [
              0.1111111111111111,
              "#46039f"
             ],
             [
              0.2222222222222222,
              "#7201a8"
             ],
             [
              0.3333333333333333,
              "#9c179e"
             ],
             [
              0.4444444444444444,
              "#bd3786"
             ],
             [
              0.5555555555555556,
              "#d8576b"
             ],
             [
              0.6666666666666666,
              "#ed7953"
             ],
             [
              0.7777777777777778,
              "#fb9f3a"
             ],
             [
              0.8888888888888888,
              "#fdca26"
             ],
             [
              1,
              "#f0f921"
             ]
            ],
            "type": "surface"
           }
          ],
          "table": [
           {
            "cells": {
             "fill": {
              "color": "#EBF0F8"
             },
             "line": {
              "color": "white"
             }
            },
            "header": {
             "fill": {
              "color": "#C8D4E3"
             },
             "line": {
              "color": "white"
             }
            },
            "type": "table"
           }
          ]
         },
         "layout": {
          "annotationdefaults": {
           "arrowcolor": "#2a3f5f",
           "arrowhead": 0,
           "arrowwidth": 1
          },
          "autotypenumbers": "strict",
          "coloraxis": {
           "colorbar": {
            "outlinewidth": 0,
            "ticks": ""
           }
          },
          "colorscale": {
           "diverging": [
            [
             0,
             "#8e0152"
            ],
            [
             0.1,
             "#c51b7d"
            ],
            [
             0.2,
             "#de77ae"
            ],
            [
             0.3,
             "#f1b6da"
            ],
            [
             0.4,
             "#fde0ef"
            ],
            [
             0.5,
             "#f7f7f7"
            ],
            [
             0.6,
             "#e6f5d0"
            ],
            [
             0.7,
             "#b8e186"
            ],
            [
             0.8,
             "#7fbc41"
            ],
            [
             0.9,
             "#4d9221"
            ],
            [
             1,
             "#276419"
            ]
           ],
           "sequential": [
            [
             0,
             "#0d0887"
            ],
            [
             0.1111111111111111,
             "#46039f"
            ],
            [
             0.2222222222222222,
             "#7201a8"
            ],
            [
             0.3333333333333333,
             "#9c179e"
            ],
            [
             0.4444444444444444,
             "#bd3786"
            ],
            [
             0.5555555555555556,
             "#d8576b"
            ],
            [
             0.6666666666666666,
             "#ed7953"
            ],
            [
             0.7777777777777778,
             "#fb9f3a"
            ],
            [
             0.8888888888888888,
             "#fdca26"
            ],
            [
             1,
             "#f0f921"
            ]
           ],
           "sequentialminus": [
            [
             0,
             "#0d0887"
            ],
            [
             0.1111111111111111,
             "#46039f"
            ],
            [
             0.2222222222222222,
             "#7201a8"
            ],
            [
             0.3333333333333333,
             "#9c179e"
            ],
            [
             0.4444444444444444,
             "#bd3786"
            ],
            [
             0.5555555555555556,
             "#d8576b"
            ],
            [
             0.6666666666666666,
             "#ed7953"
            ],
            [
             0.7777777777777778,
             "#fb9f3a"
            ],
            [
             0.8888888888888888,
             "#fdca26"
            ],
            [
             1,
             "#f0f921"
            ]
           ]
          },
          "colorway": [
           "#636efa",
           "#EF553B",
           "#00cc96",
           "#ab63fa",
           "#FFA15A",
           "#19d3f3",
           "#FF6692",
           "#B6E880",
           "#FF97FF",
           "#FECB52"
          ],
          "font": {
           "color": "#2a3f5f"
          },
          "geo": {
           "bgcolor": "white",
           "lakecolor": "white",
           "landcolor": "#E5ECF6",
           "showlakes": true,
           "showland": true,
           "subunitcolor": "white"
          },
          "hoverlabel": {
           "align": "left"
          },
          "hovermode": "closest",
          "mapbox": {
           "style": "light"
          },
          "paper_bgcolor": "white",
          "plot_bgcolor": "#E5ECF6",
          "polar": {
           "angularaxis": {
            "gridcolor": "white",
            "linecolor": "white",
            "ticks": ""
           },
           "bgcolor": "#E5ECF6",
           "radialaxis": {
            "gridcolor": "white",
            "linecolor": "white",
            "ticks": ""
           }
          },
          "scene": {
           "xaxis": {
            "backgroundcolor": "#E5ECF6",
            "gridcolor": "white",
            "gridwidth": 2,
            "linecolor": "white",
            "showbackground": true,
            "ticks": "",
            "zerolinecolor": "white"
           },
           "yaxis": {
            "backgroundcolor": "#E5ECF6",
            "gridcolor": "white",
            "gridwidth": 2,
            "linecolor": "white",
            "showbackground": true,
            "ticks": "",
            "zerolinecolor": "white"
           },
           "zaxis": {
            "backgroundcolor": "#E5ECF6",
            "gridcolor": "white",
            "gridwidth": 2,
            "linecolor": "white",
            "showbackground": true,
            "ticks": "",
            "zerolinecolor": "white"
           }
          },
          "shapedefaults": {
           "line": {
            "color": "#2a3f5f"
           }
          },
          "ternary": {
           "aaxis": {
            "gridcolor": "white",
            "linecolor": "white",
            "ticks": ""
           },
           "baxis": {
            "gridcolor": "white",
            "linecolor": "white",
            "ticks": ""
           },
           "bgcolor": "#E5ECF6",
           "caxis": {
            "gridcolor": "white",
            "linecolor": "white",
            "ticks": ""
           }
          },
          "title": {
           "x": 0.05
          },
          "xaxis": {
           "automargin": true,
           "gridcolor": "white",
           "linecolor": "white",
           "ticks": "",
           "title": {
            "standoff": 15
           },
           "zerolinecolor": "white",
           "zerolinewidth": 2
          },
          "yaxis": {
           "automargin": true,
           "gridcolor": "white",
           "linecolor": "white",
           "ticks": "",
           "title": {
            "standoff": 15
           },
           "zerolinecolor": "white",
           "zerolinewidth": 2
          }
         }
        },
        "title": {
         "text": "Retornos Mensais da Estratégia Vs. Retornos Mensais do S&P500 Index"
        },
        "xaxis": {
         "title": {
          "text": "Data"
         }
        },
        "yaxis": {
         "title": {
          "text": "Retornos Percentuais   (Log.)"
         }
        }
       }
      }
     },
     "metadata": {},
     "output_type": "display_data"
    }
   ],
   "source": [
    "plot_multiples_time_series_line_graphs([average_monthly_results, sp500_index_period_returns], \"Retornos Mensais da Estratégia Vs. Retornos Mensais do S&P500 Index\", \"Data\", \"Retornos Percentuais   (Log.)\")"
   ]
  },
  {
   "cell_type": "markdown",
   "metadata": {},
   "source": [
    "##### **Retorno Acumulado da Estratégia vs. Retorno Acumulado do S&P500 Index**"
   ]
  },
  {
   "cell_type": "code",
   "execution_count": 31,
   "metadata": {},
   "outputs": [
    {
     "data": {
      "application/vnd.plotly.v1+json": {
       "config": {
        "plotlyServerURL": "https://plot.ly"
       },
       "data": [
        {
         "mode": "lines",
         "name": "Retorno Acumulado da Estratégia",
         "type": "scatter",
         "x": [
          "2019-02-22T00:00:00",
          "2019-03-21T00:00:00",
          "2019-04-18T00:00:00",
          "2019-05-17T00:00:00",
          "2019-06-17T00:00:00",
          "2019-07-16T00:00:00",
          "2019-08-13T00:00:00",
          "2019-09-11T00:00:00",
          "2019-10-09T00:00:00",
          "2019-11-06T00:00:00",
          "2019-12-05T00:00:00",
          "2020-01-06T00:00:00",
          "2020-02-04T00:00:00",
          "2020-03-04T00:00:00",
          "2020-04-30T00:00:00",
          "2020-05-29T00:00:00",
          "2020-06-26T00:00:00",
          "2020-07-27T00:00:00",
          "2020-08-24T00:00:00",
          "2020-09-22T00:00:00",
          "2020-10-20T00:00:00",
          "2020-11-17T00:00:00",
          "2020-12-16T00:00:00",
          "2021-01-15T00:00:00",
          "2021-02-16T00:00:00",
          "2021-03-16T00:00:00",
          "2021-04-14T00:00:00",
          "2021-05-12T00:00:00",
          "2021-06-10T00:00:00",
          "2021-07-09T00:00:00",
          "2021-08-06T00:00:00",
          "2021-09-03T00:00:00",
          "2021-10-04T00:00:00",
          "2021-11-01T00:00:00",
          "2021-11-30T00:00:00",
          "2021-12-29T00:00:00",
          "2022-01-27T00:00:00",
          "2022-02-25T00:00:00",
          "2022-03-25T00:00:00",
          "2022-04-25T00:00:00",
          "2022-05-23T00:00:00",
          "2022-06-22T00:00:00",
          "2022-07-21T00:00:00",
          "2022-08-18T00:00:00",
          "2022-09-16T00:00:00",
          "2022-10-14T00:00:00",
          "2022-11-11T00:00:00",
          "2022-12-12T00:00:00",
          "2023-01-11T00:00:00",
          "2023-02-09T00:00:00",
          "2023-03-10T00:00:00",
          "2023-04-10T00:00:00",
          "2023-05-08T00:00:00",
          "2023-06-06T00:00:00",
          "2023-07-06T00:00:00",
          "2023-08-03T00:00:00",
          "2023-08-31T00:00:00",
          "2023-09-29T00:00:00",
          "2023-10-27T00:00:00",
          "2023-11-27T00:00:00",
          "2023-12-26T00:00:00"
         ],
         "y": [
          0,
          5.29867507239607,
          14.759543211775352,
          22.103723619185764,
          27.91322468304136,
          37.17481852581975,
          49.27003640189031,
          60.14230154055169,
          68.38285399287165,
          81.34180228147422,
          89.09153147761948,
          96.0330341901013,
          104.48869462815688,
          115.43254614418775,
          126.7615008144108,
          137.28083477790247,
          155.54821130551449,
          176.40153238444128,
          188.41273132874392,
          198.87187613946207,
          213.6576173638984,
          227.2202950993827,
          236.01376141221738,
          249.04454603755158,
          264.30181855500837,
          273.9688251156967,
          280.47701019283323,
          290.34055992713945,
          301.0529258865749,
          310.82070374129404,
          318.5222019675492,
          325.5117711460402,
          333.5258578814355,
          342.256049165471,
          349.20360704257223,
          356.1026282644165,
          372.407604284767,
          383.9338179789888,
          389.06064804423653,
          397.8094085157661,
          412.68157644832456,
          427.5118202036603,
          439.8161473531644,
          451.7875675561729,
          459.25118362034874,
          475.05972038684644,
          492.5811528320643,
          502.81060602957587,
          508.9779565367873,
          520.398873048707,
          530.3766108835144,
          535.7268505182158,
          545.4078461677663,
          555.2620731545957,
          562.0525818136823,
          571.8932177406775,
          578.3777936272475,
          588.2063637624576,
          598.7127944094544,
          608.4159395426674,
          619.0030838362338
         ]
        },
        {
         "mode": "lines",
         "name": "Retorno Acumulado do S&P500 Index",
         "type": "scatter",
         "x": [
          "2019-02-22T00:00:00",
          "2019-03-21T00:00:00",
          "2019-04-18T00:00:00",
          "2019-05-17T00:00:00",
          "2019-06-17T00:00:00",
          "2019-07-16T00:00:00",
          "2019-08-13T00:00:00",
          "2019-09-11T00:00:00",
          "2019-10-09T00:00:00",
          "2019-11-06T00:00:00",
          "2019-12-05T00:00:00",
          "2020-01-06T00:00:00",
          "2020-02-04T00:00:00",
          "2020-03-04T00:00:00",
          "2020-04-30T00:00:00",
          "2020-05-29T00:00:00",
          "2020-06-26T00:00:00",
          "2020-07-27T00:00:00",
          "2020-08-24T00:00:00",
          "2020-09-22T00:00:00",
          "2020-10-20T00:00:00",
          "2020-11-17T00:00:00",
          "2020-12-16T00:00:00",
          "2021-01-15T00:00:00",
          "2021-02-16T00:00:00",
          "2021-03-16T00:00:00",
          "2021-04-14T00:00:00",
          "2021-05-12T00:00:00",
          "2021-06-10T00:00:00",
          "2021-07-09T00:00:00",
          "2021-08-06T00:00:00",
          "2021-09-03T00:00:00",
          "2021-10-04T00:00:00",
          "2021-11-01T00:00:00",
          "2021-11-30T00:00:00",
          "2021-12-29T00:00:00",
          "2022-01-27T00:00:00",
          "2022-02-25T00:00:00",
          "2022-03-25T00:00:00",
          "2022-04-25T00:00:00",
          "2022-05-23T00:00:00",
          "2022-06-22T00:00:00",
          "2022-07-21T00:00:00",
          "2022-08-18T00:00:00",
          "2022-09-16T00:00:00",
          "2022-10-14T00:00:00",
          "2022-11-11T00:00:00",
          "2022-12-12T00:00:00",
          "2023-01-11T00:00:00",
          "2023-02-09T00:00:00",
          "2023-03-10T00:00:00",
          "2023-04-10T00:00:00",
          "2023-05-08T00:00:00",
          "2023-06-06T00:00:00",
          "2023-07-06T00:00:00",
          "2023-08-03T00:00:00",
          "2023-08-31T00:00:00",
          "2023-09-29T00:00:00",
          "2023-10-27T00:00:00",
          "2023-11-27T00:00:00",
          "2023-12-26T00:00:00"
         ],
         "y": [
          2.203167016955355,
          5.860245500878626,
          4.180450774223532,
          5.906176152680912,
          8.82070526122697,
          6.85473399807424,
          12.345422598575263,
          9.303507412242393,
          13.91453945402641,
          14.954433670532405,
          18.09509025816836,
          19.94402685509396,
          13.613194451197227,
          -6.60080936583401,
          7.59864507776633,
          14.873319474153629,
          13.333911507060193,
          19.25269837290455,
          25.656360976761423,
          21.86699072529155,
          28.04257421012658,
          32.98233630825049,
          36.65259604228358,
          37.87465555499599,
          41.333065944810926,
          42.12809733416334,
          45.846123393351945,
          43.23759740167311,
          46.271475370509094,
          49.10583032707446,
          50.28233760404672,
          52.58133724728805,
          47.6016773652882,
          53.58488903194815,
          52.20081985979854,
          58.22062564327166,
          48.27925979222378,
          47.20852545866369,
          51.00218699626966,
          44.701382927819,
          39.75617543948038,
          35.03951451397116,
          40.255021402042864,
          48.07212013771355,
          39.29932379168529,
          30.826491176358033,
          39.043467342314415,
          39.88169204532251,
          38.628999074277345,
          41.06765935812072,
          35.309820848356026,
          41.67364985780686,
          42.38130318750058,
          46.30135248487683,
          49.62157912898428,
          51.93472097778037,
          52.59422467050581,
          47.41985660162575,
          43.3501801486727,
          52.157046133122506,
          56.87106667227096
         ]
        }
       ],
       "layout": {
        "annotations": [
         {
          "align": "center",
          "bgcolor": "white",
          "font": {
           "color": "black",
           "size": 12
          },
          "opacity": 0.7,
          "showarrow": false,
          "text": "",
          "x": 1,
          "xref": "paper",
          "y": 1,
          "yref": "paper"
         }
        ],
        "legend": {
         "traceorder": "normal",
         "x": 0.005,
         "y": 0.995
        },
        "template": {
         "data": {
          "bar": [
           {
            "error_x": {
             "color": "#2a3f5f"
            },
            "error_y": {
             "color": "#2a3f5f"
            },
            "marker": {
             "line": {
              "color": "#E5ECF6",
              "width": 0.5
             },
             "pattern": {
              "fillmode": "overlay",
              "size": 10,
              "solidity": 0.2
             }
            },
            "type": "bar"
           }
          ],
          "barpolar": [
           {
            "marker": {
             "line": {
              "color": "#E5ECF6",
              "width": 0.5
             },
             "pattern": {
              "fillmode": "overlay",
              "size": 10,
              "solidity": 0.2
             }
            },
            "type": "barpolar"
           }
          ],
          "carpet": [
           {
            "aaxis": {
             "endlinecolor": "#2a3f5f",
             "gridcolor": "white",
             "linecolor": "white",
             "minorgridcolor": "white",
             "startlinecolor": "#2a3f5f"
            },
            "baxis": {
             "endlinecolor": "#2a3f5f",
             "gridcolor": "white",
             "linecolor": "white",
             "minorgridcolor": "white",
             "startlinecolor": "#2a3f5f"
            },
            "type": "carpet"
           }
          ],
          "choropleth": [
           {
            "colorbar": {
             "outlinewidth": 0,
             "ticks": ""
            },
            "type": "choropleth"
           }
          ],
          "contour": [
           {
            "colorbar": {
             "outlinewidth": 0,
             "ticks": ""
            },
            "colorscale": [
             [
              0,
              "#0d0887"
             ],
             [
              0.1111111111111111,
              "#46039f"
             ],
             [
              0.2222222222222222,
              "#7201a8"
             ],
             [
              0.3333333333333333,
              "#9c179e"
             ],
             [
              0.4444444444444444,
              "#bd3786"
             ],
             [
              0.5555555555555556,
              "#d8576b"
             ],
             [
              0.6666666666666666,
              "#ed7953"
             ],
             [
              0.7777777777777778,
              "#fb9f3a"
             ],
             [
              0.8888888888888888,
              "#fdca26"
             ],
             [
              1,
              "#f0f921"
             ]
            ],
            "type": "contour"
           }
          ],
          "contourcarpet": [
           {
            "colorbar": {
             "outlinewidth": 0,
             "ticks": ""
            },
            "type": "contourcarpet"
           }
          ],
          "heatmap": [
           {
            "colorbar": {
             "outlinewidth": 0,
             "ticks": ""
            },
            "colorscale": [
             [
              0,
              "#0d0887"
             ],
             [
              0.1111111111111111,
              "#46039f"
             ],
             [
              0.2222222222222222,
              "#7201a8"
             ],
             [
              0.3333333333333333,
              "#9c179e"
             ],
             [
              0.4444444444444444,
              "#bd3786"
             ],
             [
              0.5555555555555556,
              "#d8576b"
             ],
             [
              0.6666666666666666,
              "#ed7953"
             ],
             [
              0.7777777777777778,
              "#fb9f3a"
             ],
             [
              0.8888888888888888,
              "#fdca26"
             ],
             [
              1,
              "#f0f921"
             ]
            ],
            "type": "heatmap"
           }
          ],
          "heatmapgl": [
           {
            "colorbar": {
             "outlinewidth": 0,
             "ticks": ""
            },
            "colorscale": [
             [
              0,
              "#0d0887"
             ],
             [
              0.1111111111111111,
              "#46039f"
             ],
             [
              0.2222222222222222,
              "#7201a8"
             ],
             [
              0.3333333333333333,
              "#9c179e"
             ],
             [
              0.4444444444444444,
              "#bd3786"
             ],
             [
              0.5555555555555556,
              "#d8576b"
             ],
             [
              0.6666666666666666,
              "#ed7953"
             ],
             [
              0.7777777777777778,
              "#fb9f3a"
             ],
             [
              0.8888888888888888,
              "#fdca26"
             ],
             [
              1,
              "#f0f921"
             ]
            ],
            "type": "heatmapgl"
           }
          ],
          "histogram": [
           {
            "marker": {
             "pattern": {
              "fillmode": "overlay",
              "size": 10,
              "solidity": 0.2
             }
            },
            "type": "histogram"
           }
          ],
          "histogram2d": [
           {
            "colorbar": {
             "outlinewidth": 0,
             "ticks": ""
            },
            "colorscale": [
             [
              0,
              "#0d0887"
             ],
             [
              0.1111111111111111,
              "#46039f"
             ],
             [
              0.2222222222222222,
              "#7201a8"
             ],
             [
              0.3333333333333333,
              "#9c179e"
             ],
             [
              0.4444444444444444,
              "#bd3786"
             ],
             [
              0.5555555555555556,
              "#d8576b"
             ],
             [
              0.6666666666666666,
              "#ed7953"
             ],
             [
              0.7777777777777778,
              "#fb9f3a"
             ],
             [
              0.8888888888888888,
              "#fdca26"
             ],
             [
              1,
              "#f0f921"
             ]
            ],
            "type": "histogram2d"
           }
          ],
          "histogram2dcontour": [
           {
            "colorbar": {
             "outlinewidth": 0,
             "ticks": ""
            },
            "colorscale": [
             [
              0,
              "#0d0887"
             ],
             [
              0.1111111111111111,
              "#46039f"
             ],
             [
              0.2222222222222222,
              "#7201a8"
             ],
             [
              0.3333333333333333,
              "#9c179e"
             ],
             [
              0.4444444444444444,
              "#bd3786"
             ],
             [
              0.5555555555555556,
              "#d8576b"
             ],
             [
              0.6666666666666666,
              "#ed7953"
             ],
             [
              0.7777777777777778,
              "#fb9f3a"
             ],
             [
              0.8888888888888888,
              "#fdca26"
             ],
             [
              1,
              "#f0f921"
             ]
            ],
            "type": "histogram2dcontour"
           }
          ],
          "mesh3d": [
           {
            "colorbar": {
             "outlinewidth": 0,
             "ticks": ""
            },
            "type": "mesh3d"
           }
          ],
          "parcoords": [
           {
            "line": {
             "colorbar": {
              "outlinewidth": 0,
              "ticks": ""
             }
            },
            "type": "parcoords"
           }
          ],
          "pie": [
           {
            "automargin": true,
            "type": "pie"
           }
          ],
          "scatter": [
           {
            "fillpattern": {
             "fillmode": "overlay",
             "size": 10,
             "solidity": 0.2
            },
            "type": "scatter"
           }
          ],
          "scatter3d": [
           {
            "line": {
             "colorbar": {
              "outlinewidth": 0,
              "ticks": ""
             }
            },
            "marker": {
             "colorbar": {
              "outlinewidth": 0,
              "ticks": ""
             }
            },
            "type": "scatter3d"
           }
          ],
          "scattercarpet": [
           {
            "marker": {
             "colorbar": {
              "outlinewidth": 0,
              "ticks": ""
             }
            },
            "type": "scattercarpet"
           }
          ],
          "scattergeo": [
           {
            "marker": {
             "colorbar": {
              "outlinewidth": 0,
              "ticks": ""
             }
            },
            "type": "scattergeo"
           }
          ],
          "scattergl": [
           {
            "marker": {
             "colorbar": {
              "outlinewidth": 0,
              "ticks": ""
             }
            },
            "type": "scattergl"
           }
          ],
          "scattermapbox": [
           {
            "marker": {
             "colorbar": {
              "outlinewidth": 0,
              "ticks": ""
             }
            },
            "type": "scattermapbox"
           }
          ],
          "scatterpolar": [
           {
            "marker": {
             "colorbar": {
              "outlinewidth": 0,
              "ticks": ""
             }
            },
            "type": "scatterpolar"
           }
          ],
          "scatterpolargl": [
           {
            "marker": {
             "colorbar": {
              "outlinewidth": 0,
              "ticks": ""
             }
            },
            "type": "scatterpolargl"
           }
          ],
          "scatterternary": [
           {
            "marker": {
             "colorbar": {
              "outlinewidth": 0,
              "ticks": ""
             }
            },
            "type": "scatterternary"
           }
          ],
          "surface": [
           {
            "colorbar": {
             "outlinewidth": 0,
             "ticks": ""
            },
            "colorscale": [
             [
              0,
              "#0d0887"
             ],
             [
              0.1111111111111111,
              "#46039f"
             ],
             [
              0.2222222222222222,
              "#7201a8"
             ],
             [
              0.3333333333333333,
              "#9c179e"
             ],
             [
              0.4444444444444444,
              "#bd3786"
             ],
             [
              0.5555555555555556,
              "#d8576b"
             ],
             [
              0.6666666666666666,
              "#ed7953"
             ],
             [
              0.7777777777777778,
              "#fb9f3a"
             ],
             [
              0.8888888888888888,
              "#fdca26"
             ],
             [
              1,
              "#f0f921"
             ]
            ],
            "type": "surface"
           }
          ],
          "table": [
           {
            "cells": {
             "fill": {
              "color": "#EBF0F8"
             },
             "line": {
              "color": "white"
             }
            },
            "header": {
             "fill": {
              "color": "#C8D4E3"
             },
             "line": {
              "color": "white"
             }
            },
            "type": "table"
           }
          ]
         },
         "layout": {
          "annotationdefaults": {
           "arrowcolor": "#2a3f5f",
           "arrowhead": 0,
           "arrowwidth": 1
          },
          "autotypenumbers": "strict",
          "coloraxis": {
           "colorbar": {
            "outlinewidth": 0,
            "ticks": ""
           }
          },
          "colorscale": {
           "diverging": [
            [
             0,
             "#8e0152"
            ],
            [
             0.1,
             "#c51b7d"
            ],
            [
             0.2,
             "#de77ae"
            ],
            [
             0.3,
             "#f1b6da"
            ],
            [
             0.4,
             "#fde0ef"
            ],
            [
             0.5,
             "#f7f7f7"
            ],
            [
             0.6,
             "#e6f5d0"
            ],
            [
             0.7,
             "#b8e186"
            ],
            [
             0.8,
             "#7fbc41"
            ],
            [
             0.9,
             "#4d9221"
            ],
            [
             1,
             "#276419"
            ]
           ],
           "sequential": [
            [
             0,
             "#0d0887"
            ],
            [
             0.1111111111111111,
             "#46039f"
            ],
            [
             0.2222222222222222,
             "#7201a8"
            ],
            [
             0.3333333333333333,
             "#9c179e"
            ],
            [
             0.4444444444444444,
             "#bd3786"
            ],
            [
             0.5555555555555556,
             "#d8576b"
            ],
            [
             0.6666666666666666,
             "#ed7953"
            ],
            [
             0.7777777777777778,
             "#fb9f3a"
            ],
            [
             0.8888888888888888,
             "#fdca26"
            ],
            [
             1,
             "#f0f921"
            ]
           ],
           "sequentialminus": [
            [
             0,
             "#0d0887"
            ],
            [
             0.1111111111111111,
             "#46039f"
            ],
            [
             0.2222222222222222,
             "#7201a8"
            ],
            [
             0.3333333333333333,
             "#9c179e"
            ],
            [
             0.4444444444444444,
             "#bd3786"
            ],
            [
             0.5555555555555556,
             "#d8576b"
            ],
            [
             0.6666666666666666,
             "#ed7953"
            ],
            [
             0.7777777777777778,
             "#fb9f3a"
            ],
            [
             0.8888888888888888,
             "#fdca26"
            ],
            [
             1,
             "#f0f921"
            ]
           ]
          },
          "colorway": [
           "#636efa",
           "#EF553B",
           "#00cc96",
           "#ab63fa",
           "#FFA15A",
           "#19d3f3",
           "#FF6692",
           "#B6E880",
           "#FF97FF",
           "#FECB52"
          ],
          "font": {
           "color": "#2a3f5f"
          },
          "geo": {
           "bgcolor": "white",
           "lakecolor": "white",
           "landcolor": "#E5ECF6",
           "showlakes": true,
           "showland": true,
           "subunitcolor": "white"
          },
          "hoverlabel": {
           "align": "left"
          },
          "hovermode": "closest",
          "mapbox": {
           "style": "light"
          },
          "paper_bgcolor": "white",
          "plot_bgcolor": "#E5ECF6",
          "polar": {
           "angularaxis": {
            "gridcolor": "white",
            "linecolor": "white",
            "ticks": ""
           },
           "bgcolor": "#E5ECF6",
           "radialaxis": {
            "gridcolor": "white",
            "linecolor": "white",
            "ticks": ""
           }
          },
          "scene": {
           "xaxis": {
            "backgroundcolor": "#E5ECF6",
            "gridcolor": "white",
            "gridwidth": 2,
            "linecolor": "white",
            "showbackground": true,
            "ticks": "",
            "zerolinecolor": "white"
           },
           "yaxis": {
            "backgroundcolor": "#E5ECF6",
            "gridcolor": "white",
            "gridwidth": 2,
            "linecolor": "white",
            "showbackground": true,
            "ticks": "",
            "zerolinecolor": "white"
           },
           "zaxis": {
            "backgroundcolor": "#E5ECF6",
            "gridcolor": "white",
            "gridwidth": 2,
            "linecolor": "white",
            "showbackground": true,
            "ticks": "",
            "zerolinecolor": "white"
           }
          },
          "shapedefaults": {
           "line": {
            "color": "#2a3f5f"
           }
          },
          "ternary": {
           "aaxis": {
            "gridcolor": "white",
            "linecolor": "white",
            "ticks": ""
           },
           "baxis": {
            "gridcolor": "white",
            "linecolor": "white",
            "ticks": ""
           },
           "bgcolor": "#E5ECF6",
           "caxis": {
            "gridcolor": "white",
            "linecolor": "white",
            "ticks": ""
           }
          },
          "title": {
           "x": 0.05
          },
          "xaxis": {
           "automargin": true,
           "gridcolor": "white",
           "linecolor": "white",
           "ticks": "",
           "title": {
            "standoff": 15
           },
           "zerolinecolor": "white",
           "zerolinewidth": 2
          },
          "yaxis": {
           "automargin": true,
           "gridcolor": "white",
           "linecolor": "white",
           "ticks": "",
           "title": {
            "standoff": 15
           },
           "zerolinecolor": "white",
           "zerolinewidth": 2
          }
         }
        },
        "title": {
         "text": "Retorno Acumulado da Estratégia vs. Retorno Acumulado do S&P500 Index"
        },
        "xaxis": {
         "title": {
          "text": "Data"
         }
        },
        "yaxis": {
         "title": {
          "text": "Retorno Acumulado    (Log.)"
         }
        }
       }
      }
     },
     "metadata": {},
     "output_type": "display_data"
    }
   ],
   "source": [
    "#\n",
    "average_monthly_cumulative_returns = average_monthly_results.cumsum()\n",
    "#\n",
    "average_monthly_cumulative_returns.name = \"Retorno Acumulado da Estratégia\"\n",
    "#\n",
    "plot_multiples_time_series_line_graphs([average_monthly_cumulative_returns, sp500_index_cumulative_returns], \"Retorno Acumulado da Estratégia vs. Retorno Acumulado do S&P500 Index\", \"Data\", \"Retorno Acumulado    (Log.)\")"
   ]
  },
  {
   "cell_type": "markdown",
   "metadata": {},
   "source": [
    "##### **Relação entre os Retornos da Estratégia e os Retornos do S&P500 Index**"
   ]
  },
  {
   "cell_type": "code",
   "execution_count": 32,
   "metadata": {},
   "outputs": [
    {
     "data": {
      "application/vnd.plotly.v1+json": {
       "config": {
        "plotlyServerURL": "https://plot.ly"
       },
       "data": [
        {
         "mode": "markers",
         "name": "Pontos de Dispersão",
         "type": "scatter",
         "x": [
          2.203167016955355,
          3.6570784839232706,
          -1.6797947266550932,
          1.7257253784573794,
          2.9145291085460574,
          -1.9659712631527295,
          5.490688600501024,
          -3.04191518633287,
          4.611032041784017,
          1.0398942165059932,
          3.1406565876359553,
          1.8489365969256006,
          -6.330832403896731,
          -20.214003817031237,
          14.19945444360034,
          7.274674396387298,
          -1.5394079670934353,
          5.918786865844358,
          6.403662603856873,
          -3.7893702514698737,
          6.175583484835031,
          4.93976209812391,
          3.6702597340330865,
          1.2220595127124094,
          3.458410389814939,
          0.795031389352416,
          3.718026059188602,
          -2.608525991678831,
          3.0338779688359843,
          2.8343549565653663,
          1.176507276972257,
          2.2989996432413284,
          -4.9796598819998525,
          5.983211666659955,
          -1.3840691721496063,
          6.0198057834731165,
          -9.941365851047877,
          -1.070734333560089,
          3.79366153760596,
          -6.3008040684506605,
          -4.945207488338616,
          -4.716660925509215,
          5.215506888071703,
          7.817098735670681,
          -8.77279634602826,
          -8.472832615327256,
          8.216976165956384,
          0.8382247030080929,
          -1.2526929710451613,
          2.438660283843375,
          -5.757838509764697,
          6.363829009450829,
          0.7076533296937205,
          3.9200492973762526,
          3.320226644107447,
          2.3131418487960893,
          0.6595036927254397,
          -5.174368068880059,
          -4.069676452953056,
          8.80686598444981,
          4.71402053914846
         ],
         "y": [
          0,
          5.29867507239607,
          9.460868139379281,
          7.344180407410411,
          5.809501063855595,
          9.261593842778392,
          12.095217876070553,
          10.872265138661385,
          8.240552452319957,
          12.958948288602567,
          7.7497291961452675,
          6.941502712481824,
          8.455660438055569,
          10.943851516030874,
          11.328954670223036,
          10.519333963491663,
          18.267376527612026,
          20.853321078926804,
          12.011198944302622,
          10.459144810718145,
          14.785741224436336,
          13.562677735484296,
          8.793466312834672,
          13.030784625334212,
          15.257272517456778,
          9.667006560688305,
          6.508185077136536,
          9.863549734306247,
          10.712365959435436,
          9.767777854719132,
          7.701498226255188,
          6.9895691784909815,
          8.014086735395333,
          8.730191284035444,
          6.947557877101258,
          6.8990212218443165,
          16.30497602035046,
          11.526213694221813,
          5.126830065247681,
          8.74876047152959,
          14.872167932558437,
          14.830243755335738,
          12.304327149504125,
          11.971420203008488,
          7.46361606417584,
          15.808536766497673,
          17.52143244521782,
          10.229453197511573,
          6.167350507211428,
          11.420916511919597,
          9.977737834807531,
          5.3502396347013015,
          9.680995649550438,
          9.854226986829422,
          6.790508659086673,
          9.840635926995237,
          6.4845758865699406,
          9.828570135210194,
          10.506430646996801,
          9.70314513321298,
          10.587144293566414
         ]
        },
        {
         "line": {
          "color": "red",
          "dash": "dash",
          "width": 2
         },
         "mode": "lines",
         "name": "Linha de Tendência",
         "type": "scatter",
         "x": [
          2.203167016955355,
          3.6570784839232706,
          -1.6797947266550932,
          1.7257253784573794,
          2.9145291085460574,
          -1.9659712631527295,
          5.490688600501024,
          -3.04191518633287,
          4.611032041784017,
          1.0398942165059932,
          3.1406565876359553,
          1.8489365969256006,
          -6.330832403896731,
          -20.214003817031237,
          14.19945444360034,
          7.274674396387298,
          -1.5394079670934353,
          5.918786865844358,
          6.403662603856873,
          -3.7893702514698737,
          6.175583484835031,
          4.93976209812391,
          3.6702597340330865,
          1.2220595127124094,
          3.458410389814939,
          0.795031389352416,
          3.718026059188602,
          -2.608525991678831,
          3.0338779688359843,
          2.8343549565653663,
          1.176507276972257,
          2.2989996432413284,
          -4.9796598819998525,
          5.983211666659955,
          -1.3840691721496063,
          6.0198057834731165,
          -9.941365851047877,
          -1.070734333560089,
          3.79366153760596,
          -6.3008040684506605,
          -4.945207488338616,
          -4.716660925509215,
          5.215506888071703,
          7.817098735670681,
          -8.77279634602826,
          -8.472832615327256,
          8.216976165956384,
          0.8382247030080929,
          -1.2526929710451613,
          2.438660283843375,
          -5.757838509764697,
          6.363829009450829,
          0.7076533296937205,
          3.9200492973762526,
          3.320226644107447,
          2.3131418487960893,
          0.6595036927254397,
          -5.174368068880059,
          -4.069676452953056,
          8.80686598444981,
          4.71402053914846
         ],
         "y": [
          10.106933777637579,
          10.060419572557798,
          10.231159277582151,
          10.1222083103662,
          10.084175554068961,
          10.24031476910285,
          10.001757873453984,
          10.274736862493112,
          10.0299002511032,
          10.14414973667852,
          10.076941179641407,
          10.118266480334478,
          10.379957416442812,
          10.824114228559436,
          9.723143026800022,
          9.944683778466398,
          10.226667959731584,
          9.988061956638633,
          9.972549588775438,
          10.298649789089811,
          9.979846400966295,
          10.019383367782671,
          10.059997871935206,
          10.138321820647404,
          10.06677545369782,
          10.151983500987695,
          10.058469709667646,
          10.260871675831137,
          10.080357290378435,
          10.086740522453939,
          10.139779148746946,
          10.103867856132952,
          10.336730082998127,
          9.986000848747649,
          10.221698289480663,
          9.98483011291343,
          10.495467264892133,
          10.211673937054867,
          10.056049944617063,
          10.37899673610919,
          10.335627866157104,
          10.32831609928873,
          10.010561613500712,
          9.927330289254082,
          10.458081851239804,
          10.448485273454073,
          9.914537226387692,
          10.150601640609604,
          10.217495241565016,
          10.09939976861447,
          10.361625931956551,
          9.973823963468371,
          10.154778940104022,
          10.05200648921342,
          10.071196291714825,
          10.10341541218131,
          10.156319365459584,
          10.342959276962835,
          10.307617474149835,
          9.895665199709823,
          10.026605395676233
         ]
        }
       ],
       "layout": {
        "legend": {
         "traceorder": "normal",
         "x": 0.005,
         "y": 0.995
        },
        "template": {
         "data": {
          "bar": [
           {
            "error_x": {
             "color": "#2a3f5f"
            },
            "error_y": {
             "color": "#2a3f5f"
            },
            "marker": {
             "line": {
              "color": "#E5ECF6",
              "width": 0.5
             },
             "pattern": {
              "fillmode": "overlay",
              "size": 10,
              "solidity": 0.2
             }
            },
            "type": "bar"
           }
          ],
          "barpolar": [
           {
            "marker": {
             "line": {
              "color": "#E5ECF6",
              "width": 0.5
             },
             "pattern": {
              "fillmode": "overlay",
              "size": 10,
              "solidity": 0.2
             }
            },
            "type": "barpolar"
           }
          ],
          "carpet": [
           {
            "aaxis": {
             "endlinecolor": "#2a3f5f",
             "gridcolor": "white",
             "linecolor": "white",
             "minorgridcolor": "white",
             "startlinecolor": "#2a3f5f"
            },
            "baxis": {
             "endlinecolor": "#2a3f5f",
             "gridcolor": "white",
             "linecolor": "white",
             "minorgridcolor": "white",
             "startlinecolor": "#2a3f5f"
            },
            "type": "carpet"
           }
          ],
          "choropleth": [
           {
            "colorbar": {
             "outlinewidth": 0,
             "ticks": ""
            },
            "type": "choropleth"
           }
          ],
          "contour": [
           {
            "colorbar": {
             "outlinewidth": 0,
             "ticks": ""
            },
            "colorscale": [
             [
              0,
              "#0d0887"
             ],
             [
              0.1111111111111111,
              "#46039f"
             ],
             [
              0.2222222222222222,
              "#7201a8"
             ],
             [
              0.3333333333333333,
              "#9c179e"
             ],
             [
              0.4444444444444444,
              "#bd3786"
             ],
             [
              0.5555555555555556,
              "#d8576b"
             ],
             [
              0.6666666666666666,
              "#ed7953"
             ],
             [
              0.7777777777777778,
              "#fb9f3a"
             ],
             [
              0.8888888888888888,
              "#fdca26"
             ],
             [
              1,
              "#f0f921"
             ]
            ],
            "type": "contour"
           }
          ],
          "contourcarpet": [
           {
            "colorbar": {
             "outlinewidth": 0,
             "ticks": ""
            },
            "type": "contourcarpet"
           }
          ],
          "heatmap": [
           {
            "colorbar": {
             "outlinewidth": 0,
             "ticks": ""
            },
            "colorscale": [
             [
              0,
              "#0d0887"
             ],
             [
              0.1111111111111111,
              "#46039f"
             ],
             [
              0.2222222222222222,
              "#7201a8"
             ],
             [
              0.3333333333333333,
              "#9c179e"
             ],
             [
              0.4444444444444444,
              "#bd3786"
             ],
             [
              0.5555555555555556,
              "#d8576b"
             ],
             [
              0.6666666666666666,
              "#ed7953"
             ],
             [
              0.7777777777777778,
              "#fb9f3a"
             ],
             [
              0.8888888888888888,
              "#fdca26"
             ],
             [
              1,
              "#f0f921"
             ]
            ],
            "type": "heatmap"
           }
          ],
          "heatmapgl": [
           {
            "colorbar": {
             "outlinewidth": 0,
             "ticks": ""
            },
            "colorscale": [
             [
              0,
              "#0d0887"
             ],
             [
              0.1111111111111111,
              "#46039f"
             ],
             [
              0.2222222222222222,
              "#7201a8"
             ],
             [
              0.3333333333333333,
              "#9c179e"
             ],
             [
              0.4444444444444444,
              "#bd3786"
             ],
             [
              0.5555555555555556,
              "#d8576b"
             ],
             [
              0.6666666666666666,
              "#ed7953"
             ],
             [
              0.7777777777777778,
              "#fb9f3a"
             ],
             [
              0.8888888888888888,
              "#fdca26"
             ],
             [
              1,
              "#f0f921"
             ]
            ],
            "type": "heatmapgl"
           }
          ],
          "histogram": [
           {
            "marker": {
             "pattern": {
              "fillmode": "overlay",
              "size": 10,
              "solidity": 0.2
             }
            },
            "type": "histogram"
           }
          ],
          "histogram2d": [
           {
            "colorbar": {
             "outlinewidth": 0,
             "ticks": ""
            },
            "colorscale": [
             [
              0,
              "#0d0887"
             ],
             [
              0.1111111111111111,
              "#46039f"
             ],
             [
              0.2222222222222222,
              "#7201a8"
             ],
             [
              0.3333333333333333,
              "#9c179e"
             ],
             [
              0.4444444444444444,
              "#bd3786"
             ],
             [
              0.5555555555555556,
              "#d8576b"
             ],
             [
              0.6666666666666666,
              "#ed7953"
             ],
             [
              0.7777777777777778,
              "#fb9f3a"
             ],
             [
              0.8888888888888888,
              "#fdca26"
             ],
             [
              1,
              "#f0f921"
             ]
            ],
            "type": "histogram2d"
           }
          ],
          "histogram2dcontour": [
           {
            "colorbar": {
             "outlinewidth": 0,
             "ticks": ""
            },
            "colorscale": [
             [
              0,
              "#0d0887"
             ],
             [
              0.1111111111111111,
              "#46039f"
             ],
             [
              0.2222222222222222,
              "#7201a8"
             ],
             [
              0.3333333333333333,
              "#9c179e"
             ],
             [
              0.4444444444444444,
              "#bd3786"
             ],
             [
              0.5555555555555556,
              "#d8576b"
             ],
             [
              0.6666666666666666,
              "#ed7953"
             ],
             [
              0.7777777777777778,
              "#fb9f3a"
             ],
             [
              0.8888888888888888,
              "#fdca26"
             ],
             [
              1,
              "#f0f921"
             ]
            ],
            "type": "histogram2dcontour"
           }
          ],
          "mesh3d": [
           {
            "colorbar": {
             "outlinewidth": 0,
             "ticks": ""
            },
            "type": "mesh3d"
           }
          ],
          "parcoords": [
           {
            "line": {
             "colorbar": {
              "outlinewidth": 0,
              "ticks": ""
             }
            },
            "type": "parcoords"
           }
          ],
          "pie": [
           {
            "automargin": true,
            "type": "pie"
           }
          ],
          "scatter": [
           {
            "fillpattern": {
             "fillmode": "overlay",
             "size": 10,
             "solidity": 0.2
            },
            "type": "scatter"
           }
          ],
          "scatter3d": [
           {
            "line": {
             "colorbar": {
              "outlinewidth": 0,
              "ticks": ""
             }
            },
            "marker": {
             "colorbar": {
              "outlinewidth": 0,
              "ticks": ""
             }
            },
            "type": "scatter3d"
           }
          ],
          "scattercarpet": [
           {
            "marker": {
             "colorbar": {
              "outlinewidth": 0,
              "ticks": ""
             }
            },
            "type": "scattercarpet"
           }
          ],
          "scattergeo": [
           {
            "marker": {
             "colorbar": {
              "outlinewidth": 0,
              "ticks": ""
             }
            },
            "type": "scattergeo"
           }
          ],
          "scattergl": [
           {
            "marker": {
             "colorbar": {
              "outlinewidth": 0,
              "ticks": ""
             }
            },
            "type": "scattergl"
           }
          ],
          "scattermapbox": [
           {
            "marker": {
             "colorbar": {
              "outlinewidth": 0,
              "ticks": ""
             }
            },
            "type": "scattermapbox"
           }
          ],
          "scatterpolar": [
           {
            "marker": {
             "colorbar": {
              "outlinewidth": 0,
              "ticks": ""
             }
            },
            "type": "scatterpolar"
           }
          ],
          "scatterpolargl": [
           {
            "marker": {
             "colorbar": {
              "outlinewidth": 0,
              "ticks": ""
             }
            },
            "type": "scatterpolargl"
           }
          ],
          "scatterternary": [
           {
            "marker": {
             "colorbar": {
              "outlinewidth": 0,
              "ticks": ""
             }
            },
            "type": "scatterternary"
           }
          ],
          "surface": [
           {
            "colorbar": {
             "outlinewidth": 0,
             "ticks": ""
            },
            "colorscale": [
             [
              0,
              "#0d0887"
             ],
             [
              0.1111111111111111,
              "#46039f"
             ],
             [
              0.2222222222222222,
              "#7201a8"
             ],
             [
              0.3333333333333333,
              "#9c179e"
             ],
             [
              0.4444444444444444,
              "#bd3786"
             ],
             [
              0.5555555555555556,
              "#d8576b"
             ],
             [
              0.6666666666666666,
              "#ed7953"
             ],
             [
              0.7777777777777778,
              "#fb9f3a"
             ],
             [
              0.8888888888888888,
              "#fdca26"
             ],
             [
              1,
              "#f0f921"
             ]
            ],
            "type": "surface"
           }
          ],
          "table": [
           {
            "cells": {
             "fill": {
              "color": "#EBF0F8"
             },
             "line": {
              "color": "white"
             }
            },
            "header": {
             "fill": {
              "color": "#C8D4E3"
             },
             "line": {
              "color": "white"
             }
            },
            "type": "table"
           }
          ]
         },
         "layout": {
          "annotationdefaults": {
           "arrowcolor": "#2a3f5f",
           "arrowhead": 0,
           "arrowwidth": 1
          },
          "autotypenumbers": "strict",
          "coloraxis": {
           "colorbar": {
            "outlinewidth": 0,
            "ticks": ""
           }
          },
          "colorscale": {
           "diverging": [
            [
             0,
             "#8e0152"
            ],
            [
             0.1,
             "#c51b7d"
            ],
            [
             0.2,
             "#de77ae"
            ],
            [
             0.3,
             "#f1b6da"
            ],
            [
             0.4,
             "#fde0ef"
            ],
            [
             0.5,
             "#f7f7f7"
            ],
            [
             0.6,
             "#e6f5d0"
            ],
            [
             0.7,
             "#b8e186"
            ],
            [
             0.8,
             "#7fbc41"
            ],
            [
             0.9,
             "#4d9221"
            ],
            [
             1,
             "#276419"
            ]
           ],
           "sequential": [
            [
             0,
             "#0d0887"
            ],
            [
             0.1111111111111111,
             "#46039f"
            ],
            [
             0.2222222222222222,
             "#7201a8"
            ],
            [
             0.3333333333333333,
             "#9c179e"
            ],
            [
             0.4444444444444444,
             "#bd3786"
            ],
            [
             0.5555555555555556,
             "#d8576b"
            ],
            [
             0.6666666666666666,
             "#ed7953"
            ],
            [
             0.7777777777777778,
             "#fb9f3a"
            ],
            [
             0.8888888888888888,
             "#fdca26"
            ],
            [
             1,
             "#f0f921"
            ]
           ],
           "sequentialminus": [
            [
             0,
             "#0d0887"
            ],
            [
             0.1111111111111111,
             "#46039f"
            ],
            [
             0.2222222222222222,
             "#7201a8"
            ],
            [
             0.3333333333333333,
             "#9c179e"
            ],
            [
             0.4444444444444444,
             "#bd3786"
            ],
            [
             0.5555555555555556,
             "#d8576b"
            ],
            [
             0.6666666666666666,
             "#ed7953"
            ],
            [
             0.7777777777777778,
             "#fb9f3a"
            ],
            [
             0.8888888888888888,
             "#fdca26"
            ],
            [
             1,
             "#f0f921"
            ]
           ]
          },
          "colorway": [
           "#636efa",
           "#EF553B",
           "#00cc96",
           "#ab63fa",
           "#FFA15A",
           "#19d3f3",
           "#FF6692",
           "#B6E880",
           "#FF97FF",
           "#FECB52"
          ],
          "font": {
           "color": "#2a3f5f"
          },
          "geo": {
           "bgcolor": "white",
           "lakecolor": "white",
           "landcolor": "#E5ECF6",
           "showlakes": true,
           "showland": true,
           "subunitcolor": "white"
          },
          "hoverlabel": {
           "align": "left"
          },
          "hovermode": "closest",
          "mapbox": {
           "style": "light"
          },
          "paper_bgcolor": "white",
          "plot_bgcolor": "#E5ECF6",
          "polar": {
           "angularaxis": {
            "gridcolor": "white",
            "linecolor": "white",
            "ticks": ""
           },
           "bgcolor": "#E5ECF6",
           "radialaxis": {
            "gridcolor": "white",
            "linecolor": "white",
            "ticks": ""
           }
          },
          "scene": {
           "xaxis": {
            "backgroundcolor": "#E5ECF6",
            "gridcolor": "white",
            "gridwidth": 2,
            "linecolor": "white",
            "showbackground": true,
            "ticks": "",
            "zerolinecolor": "white"
           },
           "yaxis": {
            "backgroundcolor": "#E5ECF6",
            "gridcolor": "white",
            "gridwidth": 2,
            "linecolor": "white",
            "showbackground": true,
            "ticks": "",
            "zerolinecolor": "white"
           },
           "zaxis": {
            "backgroundcolor": "#E5ECF6",
            "gridcolor": "white",
            "gridwidth": 2,
            "linecolor": "white",
            "showbackground": true,
            "ticks": "",
            "zerolinecolor": "white"
           }
          },
          "shapedefaults": {
           "line": {
            "color": "#2a3f5f"
           }
          },
          "ternary": {
           "aaxis": {
            "gridcolor": "white",
            "linecolor": "white",
            "ticks": ""
           },
           "baxis": {
            "gridcolor": "white",
            "linecolor": "white",
            "ticks": ""
           },
           "bgcolor": "#E5ECF6",
           "caxis": {
            "gridcolor": "white",
            "linecolor": "white",
            "ticks": ""
           }
          },
          "title": {
           "x": 0.05
          },
          "xaxis": {
           "automargin": true,
           "gridcolor": "white",
           "linecolor": "white",
           "ticks": "",
           "title": {
            "standoff": 15
           },
           "zerolinecolor": "white",
           "zerolinewidth": 2
          },
          "yaxis": {
           "automargin": true,
           "gridcolor": "white",
           "linecolor": "white",
           "ticks": "",
           "title": {
            "standoff": 15
           },
           "zerolinecolor": "white",
           "zerolinewidth": 2
          }
         }
        },
        "title": {
         "text": "Relação entre os Retornos Mensais da Estratégia e os Retornos Mensais do S&P500 Index"
        },
        "xaxis": {
         "title": {
          "text": "Retornos Percentuais do S&P500 Index    (Log.)"
         }
        },
        "yaxis": {
         "title": {
          "text": "Retornos Percentuais da  Estratégia    (Log.)"
         }
        }
       }
      }
     },
     "metadata": {},
     "output_type": "display_data"
    }
   ],
   "source": [
    "# \n",
    "fig = go.Figure(data=go.Scatter(\n",
    "    #\n",
    "    x=sp500_index_period_returns,\n",
    "    #\n",
    "    y=average_monthly_results,\n",
    "    #\n",
    "    mode='markers',\n",
    "    name=\"Pontos de Dispersão\"\n",
    "))\n",
    "\n",
    "# Calcula a linha de tendência (regressão linear)\n",
    "slope, intercept = np.polyfit(sp500_index_period_returns, average_monthly_results, 1)  # Retorna o coeficiente angular (slope) e o intercept\n",
    "line = slope * sp500_index_period_returns + intercept  # Equação da linha de tendência\n",
    "\n",
    "# Adiciona a linha de tendência\n",
    "fig.add_trace(go.Scatter(\n",
    "    x= sp500_index_period_returns, \n",
    "    y=line, \n",
    "    mode='lines', \n",
    "    name='Linha de Tendência', \n",
    "    line=dict(color='red', width=2, dash='dash')\n",
    "))\n",
    "\n",
    "# Adiciona títulos e rótulos\n",
    "fig.update_layout(\n",
    "    title=\"Relação entre os Retornos Mensais da Estratégia e os Retornos Mensais do S&P500 Index\",\n",
    "    xaxis_title=\"Retornos Percentuais do S&P500 Index    (Log.)\",\n",
    "    yaxis_title=\"Retornos Percentuais da  Estratégia    (Log.)\",\n",
    "    #\n",
    "    legend=dict(\n",
    "        x=0.005,  # Posição horizontal dentro do gráfico (0 = esquerda, 1 = direita)\n",
    "        y=0.995,  # Posição vertical dentro do gráfico (0 = inferior, 1 = superior)\n",
    "        traceorder='normal',  # Ordem de exibição das linhas\n",
    "    )\n",
    ")\n",
    "\n",
    "# Exibe o gráfico\n",
    "fig.show()"
   ]
  },
  {
   "cell_type": "markdown",
   "metadata": {},
   "source": [
    "##### **Gráfico de barras dos Retornos da Estratégia vs. Retornos do S&P500 Index**"
   ]
  },
  {
   "cell_type": "code",
   "execution_count": 33,
   "metadata": {},
   "outputs": [
    {
     "data": {
      "application/vnd.plotly.v1+json": {
       "config": {
        "plotlyServerURL": "https://plot.ly"
       },
       "data": [
        {
         "marker": {
          "color": "#006DAA"
         },
         "name": "Retornos da Estratégia",
         "type": "bar",
         "x": [
          "2019-02-22T00:00:00",
          "2019-03-21T00:00:00",
          "2019-04-18T00:00:00",
          "2019-05-17T00:00:00",
          "2019-06-17T00:00:00",
          "2019-07-16T00:00:00",
          "2019-08-13T00:00:00",
          "2019-09-11T00:00:00",
          "2019-10-09T00:00:00",
          "2019-11-06T00:00:00",
          "2019-12-05T00:00:00",
          "2020-01-06T00:00:00",
          "2020-02-04T00:00:00",
          "2020-03-04T00:00:00",
          "2020-04-30T00:00:00",
          "2020-05-29T00:00:00",
          "2020-06-26T00:00:00",
          "2020-07-27T00:00:00",
          "2020-08-24T00:00:00",
          "2020-09-22T00:00:00",
          "2020-10-20T00:00:00",
          "2020-11-17T00:00:00",
          "2020-12-16T00:00:00",
          "2021-01-15T00:00:00",
          "2021-02-16T00:00:00",
          "2021-03-16T00:00:00",
          "2021-04-14T00:00:00",
          "2021-05-12T00:00:00",
          "2021-06-10T00:00:00",
          "2021-07-09T00:00:00",
          "2021-08-06T00:00:00",
          "2021-09-03T00:00:00",
          "2021-10-04T00:00:00",
          "2021-11-01T00:00:00",
          "2021-11-30T00:00:00",
          "2021-12-29T00:00:00",
          "2022-01-27T00:00:00",
          "2022-02-25T00:00:00",
          "2022-03-25T00:00:00",
          "2022-04-25T00:00:00",
          "2022-05-23T00:00:00",
          "2022-06-22T00:00:00",
          "2022-07-21T00:00:00",
          "2022-08-18T00:00:00",
          "2022-09-16T00:00:00",
          "2022-10-14T00:00:00",
          "2022-11-11T00:00:00",
          "2022-12-12T00:00:00",
          "2023-01-11T00:00:00",
          "2023-02-09T00:00:00",
          "2023-03-10T00:00:00",
          "2023-04-10T00:00:00",
          "2023-05-08T00:00:00",
          "2023-06-06T00:00:00",
          "2023-07-06T00:00:00",
          "2023-08-03T00:00:00",
          "2023-08-31T00:00:00",
          "2023-09-29T00:00:00",
          "2023-10-27T00:00:00",
          "2023-11-27T00:00:00",
          "2023-12-26T00:00:00"
         ],
         "y": [
          0,
          5.29867507239607,
          9.460868139379281,
          7.344180407410411,
          5.809501063855595,
          9.261593842778392,
          12.095217876070553,
          10.872265138661385,
          8.240552452319957,
          12.958948288602567,
          7.7497291961452675,
          6.941502712481824,
          8.455660438055569,
          10.943851516030874,
          11.328954670223036,
          10.519333963491663,
          18.267376527612026,
          20.853321078926804,
          12.011198944302622,
          10.459144810718145,
          14.785741224436336,
          13.562677735484296,
          8.793466312834672,
          13.030784625334212,
          15.257272517456778,
          9.667006560688305,
          6.508185077136536,
          9.863549734306247,
          10.712365959435436,
          9.767777854719132,
          7.701498226255188,
          6.9895691784909815,
          8.014086735395333,
          8.730191284035444,
          6.947557877101258,
          6.8990212218443165,
          16.30497602035046,
          11.526213694221813,
          5.126830065247681,
          8.74876047152959,
          14.872167932558437,
          14.830243755335738,
          12.304327149504125,
          11.971420203008488,
          7.46361606417584,
          15.808536766497673,
          17.52143244521782,
          10.229453197511573,
          6.167350507211428,
          11.420916511919597,
          9.977737834807531,
          5.3502396347013015,
          9.680995649550438,
          9.854226986829422,
          6.790508659086673,
          9.840635926995237,
          6.4845758865699406,
          9.828570135210194,
          10.506430646996801,
          9.70314513321298,
          10.587144293566414
         ]
        },
        {
         "marker": {
          "color": "#E4572E"
         },
         "name": "Retornos do S&P500 Index",
         "type": "bar",
         "x": [
          "2019-02-22T00:00:00",
          "2019-03-21T00:00:00",
          "2019-04-18T00:00:00",
          "2019-05-17T00:00:00",
          "2019-06-17T00:00:00",
          "2019-07-16T00:00:00",
          "2019-08-13T00:00:00",
          "2019-09-11T00:00:00",
          "2019-10-09T00:00:00",
          "2019-11-06T00:00:00",
          "2019-12-05T00:00:00",
          "2020-01-06T00:00:00",
          "2020-02-04T00:00:00",
          "2020-03-04T00:00:00",
          "2020-04-30T00:00:00",
          "2020-05-29T00:00:00",
          "2020-06-26T00:00:00",
          "2020-07-27T00:00:00",
          "2020-08-24T00:00:00",
          "2020-09-22T00:00:00",
          "2020-10-20T00:00:00",
          "2020-11-17T00:00:00",
          "2020-12-16T00:00:00",
          "2021-01-15T00:00:00",
          "2021-02-16T00:00:00",
          "2021-03-16T00:00:00",
          "2021-04-14T00:00:00",
          "2021-05-12T00:00:00",
          "2021-06-10T00:00:00",
          "2021-07-09T00:00:00",
          "2021-08-06T00:00:00",
          "2021-09-03T00:00:00",
          "2021-10-04T00:00:00",
          "2021-11-01T00:00:00",
          "2021-11-30T00:00:00",
          "2021-12-29T00:00:00",
          "2022-01-27T00:00:00",
          "2022-02-25T00:00:00",
          "2022-03-25T00:00:00",
          "2022-04-25T00:00:00",
          "2022-05-23T00:00:00",
          "2022-06-22T00:00:00",
          "2022-07-21T00:00:00",
          "2022-08-18T00:00:00",
          "2022-09-16T00:00:00",
          "2022-10-14T00:00:00",
          "2022-11-11T00:00:00",
          "2022-12-12T00:00:00",
          "2023-01-11T00:00:00",
          "2023-02-09T00:00:00",
          "2023-03-10T00:00:00",
          "2023-04-10T00:00:00",
          "2023-05-08T00:00:00",
          "2023-06-06T00:00:00",
          "2023-07-06T00:00:00",
          "2023-08-03T00:00:00",
          "2023-08-31T00:00:00",
          "2023-09-29T00:00:00",
          "2023-10-27T00:00:00",
          "2023-11-27T00:00:00",
          "2023-12-26T00:00:00"
         ],
         "y": [
          2.203167016955355,
          3.6570784839232706,
          -1.6797947266550932,
          1.7257253784573794,
          2.9145291085460574,
          -1.9659712631527295,
          5.490688600501024,
          -3.04191518633287,
          4.611032041784017,
          1.0398942165059932,
          3.1406565876359553,
          1.8489365969256006,
          -6.330832403896731,
          -20.214003817031237,
          14.19945444360034,
          7.274674396387298,
          -1.5394079670934353,
          5.918786865844358,
          6.403662603856873,
          -3.7893702514698737,
          6.175583484835031,
          4.93976209812391,
          3.6702597340330865,
          1.2220595127124094,
          3.458410389814939,
          0.795031389352416,
          3.718026059188602,
          -2.608525991678831,
          3.0338779688359843,
          2.8343549565653663,
          1.176507276972257,
          2.2989996432413284,
          -4.9796598819998525,
          5.983211666659955,
          -1.3840691721496063,
          6.0198057834731165,
          -9.941365851047877,
          -1.070734333560089,
          3.79366153760596,
          -6.3008040684506605,
          -4.945207488338616,
          -4.716660925509215,
          5.215506888071703,
          7.817098735670681,
          -8.77279634602826,
          -8.472832615327256,
          8.216976165956384,
          0.8382247030080929,
          -1.2526929710451613,
          2.438660283843375,
          -5.757838509764697,
          6.363829009450829,
          0.7076533296937205,
          3.9200492973762526,
          3.320226644107447,
          2.3131418487960893,
          0.6595036927254397,
          -5.174368068880059,
          -4.069676452953056,
          8.80686598444981,
          4.71402053914846
         ]
        }
       ],
       "layout": {
        "annotations": [
         {
          "align": "center",
          "bgcolor": "#006DAA",
          "font": {
           "color": "white",
           "size": 12
          },
          "opacity": 1,
          "showarrow": false,
          "text": "Média: 10.15%<br> Desvio padrão: 3.61% <br> Drawdown máximo 0.00% ",
          "x": 1.205,
          "xref": "paper",
          "y": 0.35,
          "yref": "paper"
         },
         {
          "align": "center",
          "bgcolor": "#E4572E",
          "font": {
           "color": "white",
           "size": 12
          },
          "opacity": 1,
          "showarrow": false,
          "text": "Média: 0.93%<br> Desvio padrão: 5.55% <br> Drawdown máximo -23.96% ",
          "x": 1.215,
          "xref": "paper",
          "y": 0.7,
          "yref": "paper"
         }
        ],
        "barmode": "stack",
        "template": {
         "data": {
          "bar": [
           {
            "error_x": {
             "color": "#2a3f5f"
            },
            "error_y": {
             "color": "#2a3f5f"
            },
            "marker": {
             "line": {
              "color": "#E5ECF6",
              "width": 0.5
             },
             "pattern": {
              "fillmode": "overlay",
              "size": 10,
              "solidity": 0.2
             }
            },
            "type": "bar"
           }
          ],
          "barpolar": [
           {
            "marker": {
             "line": {
              "color": "#E5ECF6",
              "width": 0.5
             },
             "pattern": {
              "fillmode": "overlay",
              "size": 10,
              "solidity": 0.2
             }
            },
            "type": "barpolar"
           }
          ],
          "carpet": [
           {
            "aaxis": {
             "endlinecolor": "#2a3f5f",
             "gridcolor": "white",
             "linecolor": "white",
             "minorgridcolor": "white",
             "startlinecolor": "#2a3f5f"
            },
            "baxis": {
             "endlinecolor": "#2a3f5f",
             "gridcolor": "white",
             "linecolor": "white",
             "minorgridcolor": "white",
             "startlinecolor": "#2a3f5f"
            },
            "type": "carpet"
           }
          ],
          "choropleth": [
           {
            "colorbar": {
             "outlinewidth": 0,
             "ticks": ""
            },
            "type": "choropleth"
           }
          ],
          "contour": [
           {
            "colorbar": {
             "outlinewidth": 0,
             "ticks": ""
            },
            "colorscale": [
             [
              0,
              "#0d0887"
             ],
             [
              0.1111111111111111,
              "#46039f"
             ],
             [
              0.2222222222222222,
              "#7201a8"
             ],
             [
              0.3333333333333333,
              "#9c179e"
             ],
             [
              0.4444444444444444,
              "#bd3786"
             ],
             [
              0.5555555555555556,
              "#d8576b"
             ],
             [
              0.6666666666666666,
              "#ed7953"
             ],
             [
              0.7777777777777778,
              "#fb9f3a"
             ],
             [
              0.8888888888888888,
              "#fdca26"
             ],
             [
              1,
              "#f0f921"
             ]
            ],
            "type": "contour"
           }
          ],
          "contourcarpet": [
           {
            "colorbar": {
             "outlinewidth": 0,
             "ticks": ""
            },
            "type": "contourcarpet"
           }
          ],
          "heatmap": [
           {
            "colorbar": {
             "outlinewidth": 0,
             "ticks": ""
            },
            "colorscale": [
             [
              0,
              "#0d0887"
             ],
             [
              0.1111111111111111,
              "#46039f"
             ],
             [
              0.2222222222222222,
              "#7201a8"
             ],
             [
              0.3333333333333333,
              "#9c179e"
             ],
             [
              0.4444444444444444,
              "#bd3786"
             ],
             [
              0.5555555555555556,
              "#d8576b"
             ],
             [
              0.6666666666666666,
              "#ed7953"
             ],
             [
              0.7777777777777778,
              "#fb9f3a"
             ],
             [
              0.8888888888888888,
              "#fdca26"
             ],
             [
              1,
              "#f0f921"
             ]
            ],
            "type": "heatmap"
           }
          ],
          "heatmapgl": [
           {
            "colorbar": {
             "outlinewidth": 0,
             "ticks": ""
            },
            "colorscale": [
             [
              0,
              "#0d0887"
             ],
             [
              0.1111111111111111,
              "#46039f"
             ],
             [
              0.2222222222222222,
              "#7201a8"
             ],
             [
              0.3333333333333333,
              "#9c179e"
             ],
             [
              0.4444444444444444,
              "#bd3786"
             ],
             [
              0.5555555555555556,
              "#d8576b"
             ],
             [
              0.6666666666666666,
              "#ed7953"
             ],
             [
              0.7777777777777778,
              "#fb9f3a"
             ],
             [
              0.8888888888888888,
              "#fdca26"
             ],
             [
              1,
              "#f0f921"
             ]
            ],
            "type": "heatmapgl"
           }
          ],
          "histogram": [
           {
            "marker": {
             "pattern": {
              "fillmode": "overlay",
              "size": 10,
              "solidity": 0.2
             }
            },
            "type": "histogram"
           }
          ],
          "histogram2d": [
           {
            "colorbar": {
             "outlinewidth": 0,
             "ticks": ""
            },
            "colorscale": [
             [
              0,
              "#0d0887"
             ],
             [
              0.1111111111111111,
              "#46039f"
             ],
             [
              0.2222222222222222,
              "#7201a8"
             ],
             [
              0.3333333333333333,
              "#9c179e"
             ],
             [
              0.4444444444444444,
              "#bd3786"
             ],
             [
              0.5555555555555556,
              "#d8576b"
             ],
             [
              0.6666666666666666,
              "#ed7953"
             ],
             [
              0.7777777777777778,
              "#fb9f3a"
             ],
             [
              0.8888888888888888,
              "#fdca26"
             ],
             [
              1,
              "#f0f921"
             ]
            ],
            "type": "histogram2d"
           }
          ],
          "histogram2dcontour": [
           {
            "colorbar": {
             "outlinewidth": 0,
             "ticks": ""
            },
            "colorscale": [
             [
              0,
              "#0d0887"
             ],
             [
              0.1111111111111111,
              "#46039f"
             ],
             [
              0.2222222222222222,
              "#7201a8"
             ],
             [
              0.3333333333333333,
              "#9c179e"
             ],
             [
              0.4444444444444444,
              "#bd3786"
             ],
             [
              0.5555555555555556,
              "#d8576b"
             ],
             [
              0.6666666666666666,
              "#ed7953"
             ],
             [
              0.7777777777777778,
              "#fb9f3a"
             ],
             [
              0.8888888888888888,
              "#fdca26"
             ],
             [
              1,
              "#f0f921"
             ]
            ],
            "type": "histogram2dcontour"
           }
          ],
          "mesh3d": [
           {
            "colorbar": {
             "outlinewidth": 0,
             "ticks": ""
            },
            "type": "mesh3d"
           }
          ],
          "parcoords": [
           {
            "line": {
             "colorbar": {
              "outlinewidth": 0,
              "ticks": ""
             }
            },
            "type": "parcoords"
           }
          ],
          "pie": [
           {
            "automargin": true,
            "type": "pie"
           }
          ],
          "scatter": [
           {
            "fillpattern": {
             "fillmode": "overlay",
             "size": 10,
             "solidity": 0.2
            },
            "type": "scatter"
           }
          ],
          "scatter3d": [
           {
            "line": {
             "colorbar": {
              "outlinewidth": 0,
              "ticks": ""
             }
            },
            "marker": {
             "colorbar": {
              "outlinewidth": 0,
              "ticks": ""
             }
            },
            "type": "scatter3d"
           }
          ],
          "scattercarpet": [
           {
            "marker": {
             "colorbar": {
              "outlinewidth": 0,
              "ticks": ""
             }
            },
            "type": "scattercarpet"
           }
          ],
          "scattergeo": [
           {
            "marker": {
             "colorbar": {
              "outlinewidth": 0,
              "ticks": ""
             }
            },
            "type": "scattergeo"
           }
          ],
          "scattergl": [
           {
            "marker": {
             "colorbar": {
              "outlinewidth": 0,
              "ticks": ""
             }
            },
            "type": "scattergl"
           }
          ],
          "scattermapbox": [
           {
            "marker": {
             "colorbar": {
              "outlinewidth": 0,
              "ticks": ""
             }
            },
            "type": "scattermapbox"
           }
          ],
          "scatterpolar": [
           {
            "marker": {
             "colorbar": {
              "outlinewidth": 0,
              "ticks": ""
             }
            },
            "type": "scatterpolar"
           }
          ],
          "scatterpolargl": [
           {
            "marker": {
             "colorbar": {
              "outlinewidth": 0,
              "ticks": ""
             }
            },
            "type": "scatterpolargl"
           }
          ],
          "scatterternary": [
           {
            "marker": {
             "colorbar": {
              "outlinewidth": 0,
              "ticks": ""
             }
            },
            "type": "scatterternary"
           }
          ],
          "surface": [
           {
            "colorbar": {
             "outlinewidth": 0,
             "ticks": ""
            },
            "colorscale": [
             [
              0,
              "#0d0887"
             ],
             [
              0.1111111111111111,
              "#46039f"
             ],
             [
              0.2222222222222222,
              "#7201a8"
             ],
             [
              0.3333333333333333,
              "#9c179e"
             ],
             [
              0.4444444444444444,
              "#bd3786"
             ],
             [
              0.5555555555555556,
              "#d8576b"
             ],
             [
              0.6666666666666666,
              "#ed7953"
             ],
             [
              0.7777777777777778,
              "#fb9f3a"
             ],
             [
              0.8888888888888888,
              "#fdca26"
             ],
             [
              1,
              "#f0f921"
             ]
            ],
            "type": "surface"
           }
          ],
          "table": [
           {
            "cells": {
             "fill": {
              "color": "#EBF0F8"
             },
             "line": {
              "color": "white"
             }
            },
            "header": {
             "fill": {
              "color": "#C8D4E3"
             },
             "line": {
              "color": "white"
             }
            },
            "type": "table"
           }
          ]
         },
         "layout": {
          "annotationdefaults": {
           "arrowcolor": "#2a3f5f",
           "arrowhead": 0,
           "arrowwidth": 1
          },
          "autotypenumbers": "strict",
          "coloraxis": {
           "colorbar": {
            "outlinewidth": 0,
            "ticks": ""
           }
          },
          "colorscale": {
           "diverging": [
            [
             0,
             "#8e0152"
            ],
            [
             0.1,
             "#c51b7d"
            ],
            [
             0.2,
             "#de77ae"
            ],
            [
             0.3,
             "#f1b6da"
            ],
            [
             0.4,
             "#fde0ef"
            ],
            [
             0.5,
             "#f7f7f7"
            ],
            [
             0.6,
             "#e6f5d0"
            ],
            [
             0.7,
             "#b8e186"
            ],
            [
             0.8,
             "#7fbc41"
            ],
            [
             0.9,
             "#4d9221"
            ],
            [
             1,
             "#276419"
            ]
           ],
           "sequential": [
            [
             0,
             "#0d0887"
            ],
            [
             0.1111111111111111,
             "#46039f"
            ],
            [
             0.2222222222222222,
             "#7201a8"
            ],
            [
             0.3333333333333333,
             "#9c179e"
            ],
            [
             0.4444444444444444,
             "#bd3786"
            ],
            [
             0.5555555555555556,
             "#d8576b"
            ],
            [
             0.6666666666666666,
             "#ed7953"
            ],
            [
             0.7777777777777778,
             "#fb9f3a"
            ],
            [
             0.8888888888888888,
             "#fdca26"
            ],
            [
             1,
             "#f0f921"
            ]
           ],
           "sequentialminus": [
            [
             0,
             "#0d0887"
            ],
            [
             0.1111111111111111,
             "#46039f"
            ],
            [
             0.2222222222222222,
             "#7201a8"
            ],
            [
             0.3333333333333333,
             "#9c179e"
            ],
            [
             0.4444444444444444,
             "#bd3786"
            ],
            [
             0.5555555555555556,
             "#d8576b"
            ],
            [
             0.6666666666666666,
             "#ed7953"
            ],
            [
             0.7777777777777778,
             "#fb9f3a"
            ],
            [
             0.8888888888888888,
             "#fdca26"
            ],
            [
             1,
             "#f0f921"
            ]
           ]
          },
          "colorway": [
           "#636efa",
           "#EF553B",
           "#00cc96",
           "#ab63fa",
           "#FFA15A",
           "#19d3f3",
           "#FF6692",
           "#B6E880",
           "#FF97FF",
           "#FECB52"
          ],
          "font": {
           "color": "#2a3f5f"
          },
          "geo": {
           "bgcolor": "white",
           "lakecolor": "white",
           "landcolor": "#E5ECF6",
           "showlakes": true,
           "showland": true,
           "subunitcolor": "white"
          },
          "hoverlabel": {
           "align": "left"
          },
          "hovermode": "closest",
          "mapbox": {
           "style": "light"
          },
          "paper_bgcolor": "white",
          "plot_bgcolor": "#E5ECF6",
          "polar": {
           "angularaxis": {
            "gridcolor": "white",
            "linecolor": "white",
            "ticks": ""
           },
           "bgcolor": "#E5ECF6",
           "radialaxis": {
            "gridcolor": "white",
            "linecolor": "white",
            "ticks": ""
           }
          },
          "scene": {
           "xaxis": {
            "backgroundcolor": "#E5ECF6",
            "gridcolor": "white",
            "gridwidth": 2,
            "linecolor": "white",
            "showbackground": true,
            "ticks": "",
            "zerolinecolor": "white"
           },
           "yaxis": {
            "backgroundcolor": "#E5ECF6",
            "gridcolor": "white",
            "gridwidth": 2,
            "linecolor": "white",
            "showbackground": true,
            "ticks": "",
            "zerolinecolor": "white"
           },
           "zaxis": {
            "backgroundcolor": "#E5ECF6",
            "gridcolor": "white",
            "gridwidth": 2,
            "linecolor": "white",
            "showbackground": true,
            "ticks": "",
            "zerolinecolor": "white"
           }
          },
          "shapedefaults": {
           "line": {
            "color": "#2a3f5f"
           }
          },
          "ternary": {
           "aaxis": {
            "gridcolor": "white",
            "linecolor": "white",
            "ticks": ""
           },
           "baxis": {
            "gridcolor": "white",
            "linecolor": "white",
            "ticks": ""
           },
           "bgcolor": "#E5ECF6",
           "caxis": {
            "gridcolor": "white",
            "linecolor": "white",
            "ticks": ""
           }
          },
          "title": {
           "x": 0.05
          },
          "xaxis": {
           "automargin": true,
           "gridcolor": "white",
           "linecolor": "white",
           "ticks": "",
           "title": {
            "standoff": 15
           },
           "zerolinecolor": "white",
           "zerolinewidth": 2
          },
          "yaxis": {
           "automargin": true,
           "gridcolor": "white",
           "linecolor": "white",
           "ticks": "",
           "title": {
            "standoff": 15
           },
           "zerolinecolor": "white",
           "zerolinewidth": 2
          }
         }
        },
        "title": {
         "text": "Retornos Mensais da Estratégia vs. Retornos Mensais do S&P500 Index"
        },
        "xaxis": {
         "title": {
          "text": "Data"
         }
        },
        "yaxis": {
         "title": {
          "text": "Retornos Percentuais    (Log.)"
         }
        }
       }
      }
     },
     "metadata": {},
     "output_type": "display_data"
    }
   ],
   "source": [
    "# Dados de exemplo\n",
    "x_values = average_monthly_results.index\n",
    "y_values_1 = average_monthly_results\n",
    "y_values_2 = sp500_index_period_returns\n",
    "\n",
    "#\n",
    "strategy_cumulated_value = np.exp((average_monthly_results/100).cumsum())\n",
    "strategy_cumulated_peak = strategy_cumulated_value.cummax()\n",
    "strategy_max_drawdown = ((strategy_cumulated_value - strategy_cumulated_peak)/strategy_cumulated_peak).min()*100\n",
    "\n",
    "#\n",
    "sp500_index_cumulated_value = np.exp((sp500_index_period_returns/100).cumsum())\n",
    "sp500_index_cumulated_peak = sp500_index_cumulated_value.cummax()\n",
    "sp500_index_max_drawdown = ((sp500_index_cumulated_value - sp500_index_cumulated_peak)/sp500_index_cumulated_peak).min()*100\n",
    "\n",
    "# Retornos médios da estratégia e do S&P 500\n",
    "strategy_mean = y_values_1.mean()\n",
    "sp500_mean = y_values_2.mean()\n",
    "\n",
    "# Definindo as cores das barras\n",
    "color_strategy = \"#006DAA\"  # Cor das barras para a estratégia\n",
    "color_sp500 = \"#E4572E\"  # Cor das barras para o S&P 500\n",
    "\n",
    "# Criação das barras empilhadas\n",
    "fig = go.Figure()\n",
    "\n",
    "# Primeira barra (base) com cor definida\n",
    "fig.add_trace(go.Bar(\n",
    "    x=x_values,\n",
    "    y=y_values_1,\n",
    "    name=average_monthly_results.name,\n",
    "    marker_color=color_strategy  # Definindo a cor da barra para a estratégia\n",
    "))\n",
    "\n",
    "# Segunda barra (sobreposta na anterior) com cor definida\n",
    "fig.add_trace(go.Bar(\n",
    "    x=x_values,\n",
    "    y=y_values_2,\n",
    "    name=sp500_index_period_returns.name,\n",
    "    marker_color=color_sp500  # Definindo a cor da barra para o S&P 500\n",
    "))\n",
    "\n",
    "# Adiciona a anotação abaixo da legenda com a cor de fundo igual à cor das barras\n",
    "fig.add_annotation(\n",
    "    x=1.205, y=0.35,  # Ajuste y para colocar abaixo da legenda\n",
    "    text=(\n",
    "        f\"Média: {strategy_mean:.2f}%<br>\"\n",
    "        f\" Desvio padrão: {y_values_1.std():.2f}% <br>\"\n",
    "        f\" Drawdown máximo {strategy_max_drawdown:.2f}% \"\n",
    "    ),\n",
    "    showarrow=False,\n",
    "    font=dict(size=12, color=\"white\"),\n",
    "    xref=\"paper\", yref=\"paper\",  # Define a posição em coordenadas relativas\n",
    "    bgcolor=color_strategy,  # Usando a cor das barras da estratégia\n",
    "    opacity=1,\n",
    "    align=\"center\"\n",
    ")\n",
    "\n",
    "# Adiciona a anotação para o S&P 500 abaixo da legenda\n",
    "fig.add_annotation(\n",
    "    x=1.215, y=0.7,  # Ajuste y para colocar abaixo da legenda\n",
    "    text=(\n",
    "        f\"Média: {sp500_mean:.2f}%<br>\"\n",
    "        f\" Desvio padrão: {y_values_2.std():.2f}% <br>\"\n",
    "        f\" Drawdown máximo {sp500_index_max_drawdown:.2f}% \"\n",
    "    ),\n",
    "    showarrow=False,\n",
    "    font=dict(size=12, color=\"white\"),\n",
    "    xref=\"paper\", yref=\"paper\",  # Define a posição em coordenadas relativas\n",
    "    bgcolor=color_sp500,  # Usando a cor das barras do S&P 500\n",
    "    opacity=1,\n",
    "    align=\"center\"\n",
    ")\n",
    "\n",
    "# Configuração do layout para barras empilhadas\n",
    "fig.update_layout(\n",
    "    barmode='stack',\n",
    "    title='Retornos Mensais da Estratégia vs. Retornos Mensais do S&P500 Index',\n",
    "    xaxis_title='Data',\n",
    "    yaxis_title='Retornos Percentuais    (Log.)'\n",
    ")\n",
    "\n",
    "# Exibe o gráfico\n",
    "fig.show()\n"
   ]
  },
  {
   "cell_type": "markdown",
   "metadata": {},
   "source": [
    "##### **Histograma dos Retornos da Estratégia com Curva Normal Ajustada**"
   ]
  },
  {
   "cell_type": "code",
   "execution_count": 34,
   "metadata": {},
   "outputs": [
    {
     "data": {
      "application/vnd.plotly.v1+json": {
       "config": {
        "plotlyServerURL": "https://plot.ly"
       },
       "data": [
        {
         "histnorm": "probability",
         "name": "Histograma dos Retornos",
         "nbinsx": 30,
         "opacity": 0.75,
         "type": "histogram",
         "x": [
          0,
          5.29867507239607,
          9.460868139379281,
          7.344180407410411,
          5.809501063855595,
          9.261593842778392,
          12.095217876070553,
          10.872265138661385,
          8.240552452319957,
          12.958948288602567,
          7.7497291961452675,
          6.941502712481824,
          8.455660438055569,
          10.943851516030874,
          11.328954670223036,
          10.519333963491663,
          18.267376527612026,
          20.853321078926804,
          12.011198944302622,
          10.459144810718145,
          14.785741224436336,
          13.562677735484296,
          8.793466312834672,
          13.030784625334212,
          15.257272517456778,
          9.667006560688305,
          6.508185077136536,
          9.863549734306247,
          10.712365959435436,
          9.767777854719132,
          7.701498226255188,
          6.9895691784909815,
          8.014086735395333,
          8.730191284035444,
          6.947557877101258,
          6.8990212218443165,
          16.30497602035046,
          11.526213694221813,
          5.126830065247681,
          8.74876047152959,
          14.872167932558437,
          14.830243755335738,
          12.304327149504125,
          11.971420203008488,
          7.46361606417584,
          15.808536766497673,
          17.52143244521782,
          10.229453197511573,
          6.167350507211428,
          11.420916511919597,
          9.977737834807531,
          5.3502396347013015,
          9.680995649550438,
          9.854226986829422,
          6.790508659086673,
          9.840635926995237,
          6.4845758865699406,
          9.828570135210194,
          10.506430646996801,
          9.70314513321298,
          10.587144293566414
         ]
        },
        {
         "line": {
          "color": "red",
          "width": 2
         },
         "mode": "lines",
         "name": "Curva Normal Ajustada",
         "type": "scatter",
         "x": [
          0,
          0.020874195274201004,
          0.04174839054840201,
          0.06262258582260301,
          0.08349678109680402,
          0.10437097637100502,
          0.12524517164520602,
          0.14611936691940702,
          0.16699356219360803,
          0.18786775746780904,
          0.20874195274201005,
          0.22961614801621105,
          0.25049034329041203,
          0.27136453856461307,
          0.29223873383881405,
          0.3131129291130151,
          0.33398712438721606,
          0.35486131966141704,
          0.3757355149356181,
          0.39660971020981906,
          0.4174839054840201,
          0.43835810075822107,
          0.4592322960324221,
          0.4801064913066231,
          0.5009806865808241,
          0.521854881855025,
          0.5427290771292261,
          0.5636032724034271,
          0.5844774676776281,
          0.6053516629518291,
          0.6262258582260302,
          0.6471000535002311,
          0.6679742487744321,
          0.6888484440486331,
          0.7097226393228341,
          0.7305968345970352,
          0.7514710298712362,
          0.7723452251454371,
          0.7932194204196381,
          0.8140936156938392,
          0.8349678109680402,
          0.8558420062422412,
          0.8767162015164421,
          0.8975903967906431,
          0.9184645920648442,
          0.9393387873390452,
          0.9602129826132462,
          0.9810871778874471,
          1.0019613731616481,
          1.0228355684358492,
          1.04370976371005,
          1.0645839589842512,
          1.0854581542584523,
          1.1063323495326531,
          1.1272065448068542,
          1.1480807400810553,
          1.1689549353552562,
          1.1898291306294573,
          1.2107033259036581,
          1.2315775211778592,
          1.2524517164520603,
          1.2733259117262612,
          1.2942001070004623,
          1.3150743022746632,
          1.3359484975488642,
          1.3568226928230653,
          1.3776968880972662,
          1.3985710833714673,
          1.4194452786456682,
          1.4403194739198693,
          1.4611936691940703,
          1.4820678644682712,
          1.5029420597424723,
          1.5238162550166732,
          1.5446904502908743,
          1.5655646455650754,
          1.5864388408392762,
          1.6073130361134773,
          1.6281872313876784,
          1.6490614266618793,
          1.6699356219360804,
          1.6908098172102812,
          1.7116840124844823,
          1.7325582077586834,
          1.7534324030328843,
          1.7743065983070854,
          1.7951807935812862,
          1.8160549888554873,
          1.8369291841296884,
          1.8578033794038893,
          1.8786775746780904,
          1.8995517699522912,
          1.9204259652264923,
          1.9413001605006934,
          1.9621743557748943,
          1.9830485510490954,
          2.0039227463232963,
          2.0247969415974976,
          2.0456711368716984,
          2.0665453321458993,
          2.0874195274201,
          2.1082937226943015,
          2.1291679179685024,
          2.1500421132427032,
          2.1709163085169045,
          2.1917905037911054,
          2.2126646990653063,
          2.2335388943395076,
          2.2544130896137085,
          2.2752872848879093,
          2.2961614801621106,
          2.3170356754363115,
          2.3379098707105124,
          2.3587840659847132,
          2.3796582612589146,
          2.4005324565331154,
          2.4214066518073163,
          2.4422808470815176,
          2.4631550423557185,
          2.4840292376299193,
          2.5049034329041207,
          2.5257776281783215,
          2.5466518234525224,
          2.5675260187267233,
          2.5884002140009246,
          2.6092744092751254,
          2.6301486045493263,
          2.6510227998235276,
          2.6718969950977285,
          2.6927711903719294,
          2.7136453856461307,
          2.7345195809203315,
          2.7553937761945324,
          2.7762679714687337,
          2.7971421667429346,
          2.8180163620171355,
          2.8388905572913363,
          2.8597647525655376,
          2.8806389478397385,
          2.9015131431139394,
          2.9223873383881407,
          2.9432615336623416,
          2.9641357289365424,
          2.9850099242107437,
          3.0058841194849446,
          3.0267583147591455,
          3.0476325100333463,
          3.0685067053075477,
          3.0893809005817485,
          3.1102550958559494,
          3.1311292911301507,
          3.1520034864043516,
          3.1728776816785524,
          3.1937518769527538,
          3.2146260722269546,
          3.2355002675011555,
          3.256374462775357,
          3.2772486580495577,
          3.2981228533237585,
          3.3189970485979594,
          3.3398712438721607,
          3.3607454391463616,
          3.3816196344205625,
          3.4024938296947638,
          3.4233680249689646,
          3.4442422202431655,
          3.465116415517367,
          3.4859906107915677,
          3.5068648060657686,
          3.5277390013399694,
          3.5486131966141707,
          3.5694873918883716,
          3.5903615871625725,
          3.611235782436774,
          3.6321099777109747,
          3.6529841729851755,
          3.673858368259377,
          3.6947325635335777,
          3.7156067588077786,
          3.73648095408198,
          3.7573551493561808,
          3.7782293446303816,
          3.7991035399045825,
          3.819977735178784,
          3.8408519304529847,
          3.8617261257271855,
          3.882600321001387,
          3.9034745162755877,
          3.9243487115497886,
          3.94522290682399,
          3.9660971020981908,
          3.9869712973723916,
          4.0078454926465925,
          4.028719687920794,
          4.049593883194995,
          4.070468078469196,
          4.091342273743397,
          4.112216469017598,
          4.133090664291799,
          4.153964859566,
          4.1748390548402,
          4.195713250114402,
          4.216587445388603,
          4.237461640662803,
          4.258335835937005,
          4.279210031211206,
          4.3000842264854064,
          4.320958421759608,
          4.341832617033809,
          4.3627068123080095,
          4.383581007582211,
          4.404455202856412,
          4.4253293981306125,
          4.446203593404814,
          4.467077788679015,
          4.487951983953216,
          4.508826179227417,
          4.529700374501618,
          4.550574569775819,
          4.57144876505002,
          4.592322960324221,
          4.613197155598422,
          4.634071350872623,
          4.654945546146823,
          4.675819741421025,
          4.696693936695226,
          4.7175681319694265,
          4.738442327243628,
          4.759316522517829,
          4.7801907177920295,
          4.801064913066231,
          4.821939108340432,
          4.842813303614633,
          4.863687498888834,
          4.884561694163035,
          4.905435889437236,
          4.926310084711437,
          4.947184279985638,
          4.968058475259839,
          4.98893267053404,
          5.009806865808241,
          5.030681061082442,
          5.051555256356643,
          5.072429451630844,
          5.093303646905045,
          5.114177842179246,
          5.1350520374534465,
          5.155926232727648,
          5.176800428001849,
          5.19767462327605,
          5.218548818550251,
          5.239423013824452,
          5.260297209098653,
          5.281171404372854,
          5.302045599647055,
          5.322919794921256,
          5.343793990195457,
          5.364668185469658,
          5.385542380743859,
          5.40641657601806,
          5.427290771292261,
          5.448164966566462,
          5.469039161840663,
          5.489913357114864,
          5.510787552389065,
          5.531661747663266,
          5.552535942937467,
          5.573410138211668,
          5.594284333485869,
          5.61515852876007,
          5.636032724034271,
          5.656906919308472,
          5.677781114582673,
          5.698655309856874,
          5.719529505131075,
          5.740403700405276,
          5.761277895679477,
          5.782152090953678,
          5.803026286227879,
          5.82390048150208,
          5.844774676776281,
          5.865648872050482,
          5.886523067324683,
          5.907397262598884,
          5.928271457873085,
          5.949145653147286,
          5.9700198484214875,
          5.990894043695688,
          6.011768238969889,
          6.0326424342440905,
          6.053516629518291,
          6.074390824792492,
          6.095265020066693,
          6.116139215340894,
          6.137013410615095,
          6.157887605889296,
          6.178761801163497,
          6.199635996437698,
          6.220510191711899,
          6.2413843869861,
          6.262258582260301,
          6.283132777534502,
          6.304006972808703,
          6.3248811680829045,
          6.345755363357105,
          6.366629558631306,
          6.3875037539055075,
          6.408377949179708,
          6.429252144453909,
          6.450126339728111,
          6.471000535002311,
          6.491874730276512,
          6.512748925550714,
          6.533623120824914,
          6.554497316099115,
          6.575371511373316,
          6.596245706647517,
          6.617119901921718,
          6.637994097195919,
          6.65886829247012,
          6.6797424877443214,
          6.700616683018522,
          6.721490878292723,
          6.7423650735669245,
          6.763239268841125,
          6.784113464115326,
          6.8049876593895275,
          6.825861854663728,
          6.846736049937929,
          6.867610245212131,
          6.888484440486331,
          6.909358635760532,
          6.930232831034734,
          6.951107026308934,
          6.971981221583135,
          6.992855416857337,
          7.013729612131537,
          7.034603807405738,
          7.055478002679939,
          7.07635219795414,
          7.0972263932283415,
          7.118100588502542,
          7.138974783776743,
          7.1598489790509445,
          7.180723174325145,
          7.201597369599346,
          7.222471564873548,
          7.243345760147748,
          7.264219955421949,
          7.285094150696151,
          7.305968345970351,
          7.326842541244552,
          7.347716736518754,
          7.368590931792954,
          7.389465127067155,
          7.410339322341357,
          7.431213517615557,
          7.4520877128897585,
          7.47296190816396,
          7.49383610343816,
          7.5147102987123615,
          7.535584493986562,
          7.556458689260763,
          7.577332884534965,
          7.598207079809165,
          7.619081275083366,
          7.639955470357568,
          7.660829665631768,
          7.681703860905969,
          7.702578056180171,
          7.723452251454371,
          7.744326446728572,
          7.765200642002774,
          7.786074837276974,
          7.8069490325511754,
          7.827823227825377,
          7.848697423099577,
          7.8695716183737785,
          7.89044581364798,
          7.91132000892218,
          7.9321942041963815,
          7.953068399470583,
          7.973942594744783,
          7.994816790018985,
          8.015690985293185,
          8.036565180567386,
          8.057439375841588,
          8.078313571115789,
          8.09918776638999,
          8.12006196166419,
          8.140936156938391,
          8.161810352212592,
          8.182684547486794,
          8.203558742760995,
          8.224432938035196,
          8.245307133309396,
          8.266181328583597,
          8.287055523857799,
          8.307929719132,
          8.328803914406201,
          8.3496781096804,
          8.370552304954602,
          8.391426500228803,
          8.412300695503005,
          8.433174890777206,
          8.454049086051407,
          8.474923281325607,
          8.495797476599808,
          8.51667167187401,
          8.53754586714821,
          8.558420062422412,
          8.579294257696613,
          8.600168452970813,
          8.621042648245014,
          8.641916843519216,
          8.662791038793417,
          8.683665234067618,
          8.70453942934182,
          8.725413624616019,
          8.74628781989022,
          8.767162015164422,
          8.788036210438623,
          8.808910405712824,
          8.829784600987024,
          8.850658796261225,
          8.871532991535426,
          8.892407186809628,
          8.913281382083829,
          8.93415557735803,
          8.95502977263223,
          8.975903967906431,
          8.996778163180633,
          9.017652358454834,
          9.038526553729035,
          9.059400749003236,
          9.080274944277436,
          9.101149139551637,
          9.122023334825839,
          9.14289753010004,
          9.163771725374241,
          9.184645920648443,
          9.205520115922642,
          9.226394311196843,
          9.247268506471045,
          9.268142701745246,
          9.289016897019447,
          9.309891092293647,
          9.330765287567848,
          9.35163948284205,
          9.37251367811625,
          9.393387873390452,
          9.414262068664653,
          9.435136263938853,
          9.456010459213054,
          9.476884654487256,
          9.497758849761457,
          9.518633045035658,
          9.53950724030986,
          9.560381435584059,
          9.58125563085826,
          9.602129826132462,
          9.623004021406663,
          9.643878216680864,
          9.664752411955066,
          9.685626607229265,
          9.706500802503466,
          9.727374997777668,
          9.748249193051869,
          9.76912338832607,
          9.78999758360027,
          9.810871778874471,
          9.831745974148673,
          9.852620169422874,
          9.873494364697075,
          9.894368559971277,
          9.915242755245476,
          9.936116950519677,
          9.956991145793879,
          9.97786534106808,
          9.998739536342281,
          10.019613731616483,
          10.040487926890682,
          10.061362122164883,
          10.082236317439085,
          10.103110512713286,
          10.123984707987487,
          10.144858903261689,
          10.165733098535888,
          10.18660729381009,
          10.20748148908429,
          10.228355684358492,
          10.249229879632693,
          10.270104074906893,
          10.290978270181094,
          10.311852465455296,
          10.332726660729497,
          10.353600856003698,
          10.3744750512779,
          10.3953492465521,
          10.4162234418263,
          10.437097637100502,
          10.457971832374703,
          10.478846027648904,
          10.499720222923106,
          10.520594418197305,
          10.541468613471507,
          10.562342808745708,
          10.58321700401991,
          10.60409119929411,
          10.624965394568312,
          10.645839589842511,
          10.666713785116713,
          10.687587980390914,
          10.708462175665115,
          10.729336370939317,
          10.750210566213516,
          10.771084761487717,
          10.791958956761919,
          10.81283315203612,
          10.833707347310321,
          10.854581542584523,
          10.875455737858722,
          10.896329933132924,
          10.917204128407125,
          10.938078323681326,
          10.958952518955527,
          10.979826714229729,
          11.000700909503928,
          11.02157510477813,
          11.042449300052331,
          11.063323495326532,
          11.084197690600734,
          11.105071885874935,
          11.125946081149134,
          11.146820276423336,
          11.167694471697537,
          11.188568666971738,
          11.20944286224594,
          11.23031705752014,
          11.25119125279434,
          11.272065448068542,
          11.292939643342743,
          11.313813838616944,
          11.334688033891146,
          11.355562229165345,
          11.376436424439547,
          11.397310619713748,
          11.41818481498795,
          11.43905901026215,
          11.459933205536352,
          11.480807400810551,
          11.501681596084753,
          11.522555791358954,
          11.543429986633155,
          11.564304181907357,
          11.585178377181558,
          11.606052572455757,
          11.626926767729959,
          11.64780096300416,
          11.668675158278361,
          11.689549353552563,
          11.710423548826762,
          11.731297744100964,
          11.752171939375165,
          11.773046134649366,
          11.793920329923568,
          11.814794525197769,
          11.835668720471968,
          11.85654291574617,
          11.877417111020371,
          11.898291306294572,
          11.919165501568774,
          11.940039696842975,
          11.960913892117174,
          11.981788087391376,
          12.002662282665577,
          12.023536477939778,
          12.04441067321398,
          12.065284868488181,
          12.08615906376238,
          12.107033259036582,
          12.127907454310783,
          12.148781649584985,
          12.169655844859186,
          12.190530040133385,
          12.211404235407587,
          12.232278430681788,
          12.25315262595599,
          12.27402682123019,
          12.294901016504392,
          12.315775211778591,
          12.336649407052793,
          12.357523602326994,
          12.378397797601195,
          12.399271992875397,
          12.420146188149598,
          12.441020383423798,
          12.461894578697999,
          12.4827687739722,
          12.503642969246402,
          12.524517164520603,
          12.545391359794804,
          12.566265555069004,
          12.587139750343205,
          12.608013945617406,
          12.628888140891608,
          12.649762336165809,
          12.670636531440008,
          12.69151072671421,
          12.712384921988411,
          12.733259117262612,
          12.754133312536814,
          12.775007507811015,
          12.795881703085215,
          12.816755898359416,
          12.837630093633617,
          12.858504288907818,
          12.87937848418202,
          12.900252679456221,
          12.92112687473042,
          12.942001070004622,
          12.962875265278823,
          12.983749460553025,
          13.004623655827226,
          13.025497851101427,
          13.046372046375627,
          13.067246241649828,
          13.08812043692403,
          13.10899463219823,
          13.129868827472432,
          13.150743022746632,
          13.171617218020833,
          13.192491413295034,
          13.213365608569235,
          13.234239803843437,
          13.255113999117638,
          13.275988194391838,
          13.296862389666039,
          13.31773658494024,
          13.338610780214442,
          13.359484975488643,
          13.380359170762844,
          13.401233366037044,
          13.422107561311245,
          13.442981756585446,
          13.463855951859648,
          13.484730147133849,
          13.50560434240805,
          13.52647853768225,
          13.547352732956451,
          13.568226928230652,
          13.589101123504854,
          13.609975318779055,
          13.630849514053255,
          13.651723709327456,
          13.672597904601657,
          13.693472099875859,
          13.71434629515006,
          13.735220490424261,
          13.75609468569846,
          13.776968880972662,
          13.797843076246863,
          13.818717271521065,
          13.839591466795266,
          13.860465662069467,
          13.881339857343667,
          13.902214052617868,
          13.92308824789207,
          13.94396244316627,
          13.964836638440472,
          13.985710833714673,
          14.006585028988873,
          14.027459224263074,
          14.048333419537276,
          14.069207614811477,
          14.090081810085678,
          14.110956005359878,
          14.131830200634079,
          14.15270439590828,
          14.173578591182482,
          14.194452786456683,
          14.215326981730884,
          14.236201177005084,
          14.257075372279285,
          14.277949567553486,
          14.298823762827688,
          14.319697958101889,
          14.34057215337609,
          14.36144634865029,
          14.382320543924491,
          14.403194739198693,
          14.424068934472894,
          14.444943129747095,
          14.465817325021296,
          14.486691520295496,
          14.507565715569697,
          14.528439910843899,
          14.5493141061181,
          14.570188301392301,
          14.5910624966665,
          14.611936691940702,
          14.632810887214903,
          14.653685082489105,
          14.674559277763306,
          14.695433473037507,
          14.716307668311707,
          14.737181863585908,
          14.75805605886011,
          14.77893025413431,
          14.799804449408512,
          14.820678644682713,
          14.841552839956913,
          14.862427035231114,
          14.883301230505316,
          14.904175425779517,
          14.925049621053718,
          14.94592381632792,
          14.966798011602119,
          14.98767220687632,
          15.008546402150522,
          15.029420597424723,
          15.050294792698924,
          15.071168987973124,
          15.092043183247325,
          15.112917378521527,
          15.133791573795728,
          15.15466576906993,
          15.17553996434413,
          15.19641415961833,
          15.217288354892531,
          15.238162550166733,
          15.259036745440934,
          15.279910940715135,
          15.300785135989337,
          15.321659331263536,
          15.342533526537737,
          15.363407721811939,
          15.38428191708614,
          15.405156112360341,
          15.426030307634543,
          15.446904502908742,
          15.467778698182943,
          15.488652893457145,
          15.509527088731346,
          15.530401284005547,
          15.551275479279747,
          15.572149674553948,
          15.59302386982815,
          15.613898065102351,
          15.634772260376552,
          15.655646455650754,
          15.676520650924953,
          15.697394846199154,
          15.718269041473356,
          15.739143236747557,
          15.760017432021758,
          15.78089162729596,
          15.80176582257016,
          15.82264001784436,
          15.843514213118562,
          15.864388408392763,
          15.885262603666964,
          15.906136798941166,
          15.927010994215365,
          15.947885189489567,
          15.968759384763768,
          15.98963358003797,
          16.01050777531217,
          16.03138197058637,
          16.052256165860573,
          16.073130361134773,
          16.094004556408972,
          16.114878751683175,
          16.135752946957375,
          16.156627142231578,
          16.177501337505777,
          16.19837553277998,
          16.21924972805418,
          16.24012392332838,
          16.260998118602583,
          16.281872313876782,
          16.302746509150985,
          16.323620704425185,
          16.344494899699384,
          16.365369094973587,
          16.386243290247787,
          16.40711748552199,
          16.42799168079619,
          16.448865876070393,
          16.469740071344592,
          16.490614266618792,
          16.511488461892995,
          16.532362657167194,
          16.553236852441398,
          16.574111047715597,
          16.594985242989797,
          16.615859438264,
          16.6367336335382,
          16.657607828812402,
          16.678482024086602,
          16.6993562193608,
          16.720230414635004,
          16.741104609909204,
          16.761978805183407,
          16.782853000457607,
          16.80372719573181,
          16.82460139100601,
          16.84547558628021,
          16.866349781554412,
          16.88722397682861,
          16.908098172102815,
          16.928972367377014,
          16.949846562651214,
          16.970720757925417,
          16.991594953199616,
          17.01246914847382,
          17.03334334374802,
          17.05421753902222,
          17.07509173429642,
          17.09596592957062,
          17.116840124844824,
          17.137714320119024,
          17.158588515393227,
          17.179462710667426,
          17.200336905941626,
          17.22121110121583,
          17.24208529649003,
          17.26295949176423,
          17.28383368703843,
          17.30470788231263,
          17.325582077586834,
          17.346456272861033,
          17.367330468135236,
          17.388204663409436,
          17.40907885868364,
          17.42995305395784,
          17.450827249232038,
          17.47170144450624,
          17.49257563978044,
          17.513449835054644,
          17.534324030328843,
          17.555198225603043,
          17.576072420877246,
          17.596946616151445,
          17.61782081142565,
          17.638695006699848,
          17.659569201974048,
          17.68044339724825,
          17.70131759252245,
          17.722191787796653,
          17.743065983070853,
          17.763940178345056,
          17.784814373619255,
          17.805688568893455,
          17.826562764167658,
          17.847436959441858,
          17.86831115471606,
          17.88918534999026,
          17.91005954526446,
          17.930933740538663,
          17.951807935812862,
          17.972682131087065,
          17.993556326361265,
          18.014430521635465,
          18.035304716909668,
          18.056178912183867,
          18.07705310745807,
          18.09792730273227,
          18.118801498006473,
          18.139675693280672,
          18.160549888554872,
          18.181424083829075,
          18.202298279103275,
          18.223172474377478,
          18.244046669651677,
          18.264920864925877,
          18.28579506020008,
          18.30666925547428,
          18.327543450748482,
          18.348417646022682,
          18.369291841296885,
          18.390166036571085,
          18.411040231845284,
          18.431914427119487,
          18.452788622393687,
          18.47366281766789,
          18.49453701294209,
          18.51541120821629,
          18.536285403490492,
          18.55715959876469,
          18.578033794038895,
          18.598907989313094,
          18.619782184587294,
          18.640656379861497,
          18.661530575135696,
          18.6824047704099,
          18.7032789656841,
          18.724153160958302,
          18.7450273562325,
          18.7659015515067,
          18.786775746780904,
          18.807649942055104,
          18.828524137329307,
          18.849398332603506,
          18.870272527877706,
          18.89114672315191,
          18.91202091842611,
          18.93289511370031,
          18.95376930897451,
          18.97464350424871,
          18.995517699522914,
          19.016391894797113,
          19.037266090071316,
          19.058140285345516,
          19.07901448061972,
          19.09988867589392,
          19.120762871168118,
          19.14163706644232,
          19.16251126171652,
          19.183385456990724,
          19.204259652264923,
          19.225133847539123,
          19.246008042813326,
          19.266882238087526,
          19.28775643336173,
          19.308630628635928,
          19.32950482391013,
          19.35037901918433,
          19.37125321445853,
          19.392127409732733,
          19.413001605006933,
          19.433875800281136,
          19.454749995555336,
          19.475624190829535,
          19.496498386103738,
          19.517372581377938,
          19.53824677665214,
          19.55912097192634,
          19.57999516720054,
          19.600869362474743,
          19.621743557748943,
          19.642617753023146,
          19.663491948297345,
          19.68436614357155,
          19.705240338845748,
          19.726114534119947,
          19.74698872939415,
          19.76786292466835,
          19.788737119942553,
          19.809611315216753,
          19.830485510490952,
          19.851359705765155,
          19.872233901039355,
          19.893108096313558,
          19.913982291587757,
          19.934856486861957,
          19.95573068213616,
          19.97660487741036,
          19.997479072684563,
          20.018353267958762,
          20.039227463232965,
          20.060101658507165,
          20.080975853781364,
          20.101850049055567,
          20.122724244329767,
          20.14359843960397,
          20.16447263487817,
          20.18534683015237,
          20.206221025426572,
          20.22709522070077,
          20.247969415974975,
          20.268843611249174,
          20.289717806523377,
          20.310592001797577,
          20.331466197071776,
          20.35234039234598,
          20.37321458762018,
          20.394088782894382,
          20.41496297816858,
          20.43583717344278,
          20.456711368716984,
          20.477585563991184,
          20.498459759265387,
          20.519333954539587,
          20.540208149813786,
          20.56108234508799,
          20.58195654036219,
          20.602830735636392,
          20.62370493091059,
          20.644579126184794,
          20.665453321458994,
          20.686327516733193,
          20.707201712007397,
          20.728075907281596,
          20.7489501025558,
          20.76982429783,
          20.7906984931042,
          20.8115726883784,
          20.8324468836526,
          20.853321078926804
         ],
         "y": [
          0.002001259067985267,
          0.0020345981846230806,
          0.0020684223282016233,
          0.0021027372414644716,
          0.002137548712021479,
          0.002172862572298956,
          0.002208684699481395,
          0.002245021015444524,
          0.0022818774866796023,
          0.00231926012420881,
          0.0023571749834916255,
          0.0023956281643220203,
          0.0024346258107163948,
          0.0024741741107920877,
          0.0025142792966363486,
          0.002554947644165626,
          0.002596185472975087,
          0.002637999146178171,
          0.0026803950702361154,
          0.002723379694777297,
          0.002766959512406256,
          0.0028111410585022916,
          0.0028559309110075056,
          0.002901335690204132,
          0.0029473620584810896,
          0.00299401672008958,
          0.003041306420887629,
          0.0030892379480734486,
          0.003137818129907512,
          0.0031870538354231634,
          0.0032369519741257216,
          0.003287519495679902,
          0.0033387633895854522,
          0.003390690684840905,
          0.0034433084495952802,
          0.0034966237907876796,
          0.0035506438537746257,
          0.0036053758219450373,
          0.0036608269163227254,
          0.003717004395156332,
          0.0037739155534965148,
          0.0038315677227603994,
          0.0038899682702830713,
          0.003949124598856077,
          0.0040090441462527875,
          0.004069734384740577,
          0.004131202820579621,
          0.004193456993508326,
          0.004256504476215216,
          0.004320352873797201,
          0.0043850098232041685,
          0.004450482992669721,
          0.004516780081128073,
          0.004583908817616954,
          0.004651876960666436,
          0.004720692297673628,
          0.004790362644263133,
          0.004860895843633216,
          0.004932299765887543,
          0.005004582307352513,
          0.005077751389880005,
          0.0051518149601355616,
          0.0052267809888719065,
          0.00530265747018766,
          0.005379452420771333,
          0.005457173879130426,
          0.0055358299048056,
          0.005615428577569941,
          0.0056959779966131024,
          0.00577748627971045,
          0.005859961562377088,
          0.005943411997006682,
          0.006027845751995125,
          0.006113271010848943,
          0.006199695971278458,
          0.006287128844275593,
          0.00637557785317643,
          0.006465051232708338,
          0.006555557228021785,
          0.0066471040937067525,
          0.006739700092793701,
          0.006833353495739179,
          0.006928072579395975,
          0.007023865625967873,
          0.007120740921948953,
          0.007218706757047525,
          0.007317771423094567,
          0.007417943212936853,
          0.007519230419314648,
          0.0076216413337240555,
          0.007725184245263995,
          0.007829867439467958,
          0.007935699197120326,
          0.0080426877930576,
          0.008150841494954337,
          0.008260168562093927,
          0.008370677244124323,
          0.008482375779798608,
          0.008595272395700636,
          0.00870937530495571,
          0.008824692705926354,
          0.008941232780893345,
          0.009059003694721884,
          0.009178013593513298,
          0.009298270603241994,
          0.00941978282837803,
          0.009542558350495252,
          0.009666605226865207,
          0.009791931489036758,
          0.00991854514140169,
          0.010046454159746344,
          0.010175666489789358,
          0.010306190045705701,
          0.010438032708637099,
          0.010571202325188975,
          0.010705706705914026,
          0.010841553623782639,
          0.010978750812640235,
          0.011117305965651726,
          0.011257226733733156,
          0.011398520723970882,
          0.011541195498028197,
          0.011685258570539767,
          0.011830717407494019,
          0.011977579424603585,
          0.012125851985664071,
          0.012275542400901292,
          0.012426657925307203,
          0.012579205756964678,
          0.012733193035361443,
          0.012888626839693242,
          0.01304551418715655,
          0.013203862031231086,
          0.013363677259952123,
          0.013524966694173225,
          0.013687737085819234,
          0.013851995116130033,
          0.014017747393895266,
          0.014185000453680117,
          0.014353760754042643,
          0.014524034675742793,
          0.014695828519943365,
          0.014869148506403248,
          0.015044000771663138,
          0.015220391367224162,
          0.015398326257719473,
          0.015577811319079342,
          0.015758852336689944,
          0.015941455003546042,
          0.016125624918398095,
          0.016311367583893906,
          0.016498688404715262,
          0.016687592685709806,
          0.016878085630018552,
          0.017070172337199235,
          0.01726385780134603,
          0.017459146909205817,
          0.017656044438291427,
          0.017854555054992186,
          0.018054683312682153,
          0.01825643364982638,
          0.018459810388085498,
          0.018664817730419215,
          0.018871459759188806,
          0.019079740434259244,
          0.019289663591101156,
          0.01950123293889316,
          0.019714452058624755,
          0.019929324401200453,
          0.020145853285545277,
          0.02036404189671228,
          0.020583893283992172,
          0.020805410359025875,
          0.021028595893920036,
          0.0212534525193662,
          0.021479982722763906,
          0.02170818884634823,
          0.021938073085322068,
          0.022169637485993852,
          0.022402883943920773,
          0.022637814202058317,
          0.0228744298489163,
          0.02311273231672201,
          0.0233527228795908,
          0.023594402651704593,
          0.02383777258549888,
          0.024082833469858494,
          0.024329585928322767,
          0.02457803041730044,
          0.02482816722429487,
          0.02507999646613983,
          0.02533351808724672,
          0.025588731857863246,
          0.025845637372344396,
          0.0261042340474359,
          0.026364521120570902,
          0.026626497648180154,
          0.0268901625040163,
          0.027155514377492692,
          0.02742255177203725,
          0.02769127300346184,
          0.027961676198347683,
          0.028233759292447196,
          0.028507520029102874,
          0.02878295595768367,
          0.02906006443203926,
          0.029338842608972803,
          0.029619287446732787,
          0.029901395703523993,
          0.030185163936038734,
          0.03047058849800836,
          0.030757665538775614,
          0.031046391001888555,
          0.03133676062371631,
          0.031628769932087145,
          0.031922414244949494,
          0.03221768866905642,
          0.03251458809867372,
          0.032813107214312576,
          0.03311324048148699,
          0.03341498214949641,
          0.03371832625023427,
          0.034023266597022796,
          0.03432979678347447,
          0.034637910182380875,
          0.03494759994462901,
          0.03525885899814602,
          0.0355716800468725,
          0.03588605556976472,
          0.036201977819826675,
          0.0365194388231721,
          0.036838430378116814,
          0.0371589440543022,
          0.03748097119185012,
          0.0378045029005494,
          0.03812953005907482,
          0.03845604331423888,
          0.038784033080276475,
          0.039113489538163466,
          0.039444402634969074,
          0.039776762083242725,
          0.04011055736043587,
          0.04044577770835904,
          0.04078241213267449,
          0.04112044940242506,
          0.04145987804959947,
          0.041800686368734484,
          0.04214286241655437,
          0.04248639401164796,
          0.042831268734183796,
          0.043177473925663665,
          0.043524996688714804,
          0.0438738238869213,
          0.04422394214469501,
          0.04457533784718611,
          0.04492799714023398,
          0.04528190593035848,
          0.045637049884791954,
          0.04599341443155251,
          0.0463509847595587,
          0.046709745818785675,
          0.04706968232046374,
          0.04743077873731902,
          0.04779301930385657,
          0.048156388016686695,
          0.04852086863489408,
          0.0488864446804504,
          0.04925309943867055,
          0.04962081595871281,
          0.049989577054122825,
          0.050359365303422256,
          0.05073016305074163,
          0.051101952406497994,
          0.051474715248117635,
          0.05184843322080363,
          0.05222308773834876,
          0.052598659983993976,
          0.0529751309113322,
          0.053352481245258015,
          0.05373069148296321,
          0.05410974189497816,
          0.05448961252625946,
          0.05487028319732374,
          0.05525173350542758,
          0.055633942825794064,
          0.05601689031288566,
          0.05640055490172353,
          0.05678491530925345,
          0.05716995003575857,
          0.05755563736631831,
          0.057941955372314384,
          0.05832888191298322,
          0.058716394637015105,
          0.05910447098419997,
          0.05949308818711977,
          0.05988222327288746,
          0.06027185306493255,
          0.06066195418483297,
          0.061052503054193505,
          0.061443475896570524,
          0.061834848739442796,
          0.06222659741622853,
          0.06261869756834847,
          0.0630111246473347,
          0.06340385391698522,
          0.06379686045556428,
          0.06419011915804786,
          0.06458360473841449,
          0.06497729173198119,
          0.06537115449778412,
          0.06576516722100398,
          0.06615930391543569,
          0.06655353842600238,
          0.06694784443131314,
          0.06734219544626466,
          0.06773656482468593,
          0.06813092576202637,
          0.06852525129808654,
          0.0689195143197915,
          0.06931368756400628,
          0.06970774362039316,
          0.0701016549343104,
          0.07049539380975248,
          0.07088893241233053,
          0.07128224277229368,
          0.07167529678759013,
          0.07206806622696786,
          0.07246052273311468,
          0.07285263782583686,
          0.07324438290527614,
          0.07363572925516464,
          0.07402664804611726,
          0.0744171103389608,
          0.07480708708809967,
          0.07519654914491775,
          0.07558546726121526,
          0.07597381209268098,
          0.07636155420239858,
          0.07674866406438718,
          0.0771351120671748,
          0.07752086851740476,
          0.07790590364347444,
          0.07829018759920531,
          0.07867369046754426,
          0.07905638226429505,
          0.07943823294187993,
          0.07981921239313002,
          0.08019929045510443,
          0.08057843691293741,
          0.08095662150371243,
          0.08133381392036294,
          0.08170998381559935,
          0.08208510080586061,
          0.08245913447529093,
          0.08283205437973994,
          0.08320383005078613,
          0.08357443099978262,
          0.08394382672192473,
          0.0843119867003383,
          0.08467888041018844,
          0.08504447732280745,
          0.08540874690984171,
          0.08577165864741625,
          0.08613318202031665,
          0.0864932865261872,
          0.08685194167974467,
          0.0872091170170068,
          0.08756478209953492,
          0.08791890651868953,
          0.08827145989989842,
          0.08862241190693605,
          0.08897173224621409,
          0.0893193906710813,
          0.08966535698613273,
          0.09000960105152712,
          0.09035209278731145,
          0.09069280217775204,
          0.09103169927567138,
          0.09136875420678958,
          0.09170393717406955,
          0.09203721846206553,
          0.09236856844127349,
          0.09269795757248278,
          0.09302535641112826,
          0.09335073561164177,
          0.09367406593180223,
          0.0939953182370835,
          0.09431446350499875,
          0.0946314728294411,
          0.09494631742501883,
          0.0952589686313852,
          0.09556939791756071,
          0.09587757688624836,
          0.09618347727813978,
          0.09648707097621201,
          0.09678833001001379,
          0.09708722655994051,
          0.09738373296149677,
          0.09767782170954585,
          0.0979694654625451,
          0.09825863704676623,
          0.09854530946049975,
          0.09882945587824256,
          0.09911104965486785,
          0.0993900643297763,
          0.09966647363102785,
          0.09994025147945286,
          0.10021137199274222,
          0.10047980948951485,
          0.10074553849336249,
          0.10100853373687009,
          0.10126877016561167,
          0.1015262229421201,
          0.10178086744983043,
          0.10203267929699553,
          0.10228163432057345,
          0.10252770859008545,
          0.10277087841144393,
          0.10301112033074933,
          0.1032484111380553,
          0.10348272787110102,
          0.10371404781901014,
          0.10394234852595535,
          0.10416760779478768,
          0.10438980369062999,
          0.10460891454443336,
          0.10482491895649612,
          0.10503779579994439,
          0.1052475242241733,
          0.10545408365824832,
          0.10565745381426593,
          0.10585761469067238,
          0.1060545465755406,
          0.10624823004980373,
          0.10643864599044503,
          0.1066257755736432,
          0.10680960027787248,
          0.10699010188695676,
          0.10716726249307702,
          0.1073410644997314,
          0.10751149062464732,
          0.1076785239026447,
          0.10784214768844998,
          0.10800234565945997,
          0.10815910181845506,
          0.10831240049626109,
          0.10846222635435941,
          0.1086085643874442,
          0.10875139992592682,
          0.10889071863838629,
          0.10902650653396564,
          0.10915874996471334,
          0.10928743562786913,
          0.10941255056809432,
          0.10953408217964519,
          0.10965201820848966,
          0.10976634675436646,
          0.10987705627278636,
          0.1099841355769748,
          0.11008757383975584,
          0.11018736059537676,
          0.1102834857412727,
          0.11037593953977134,
          0.11046471261973698,
          0.11054979597815341,
          0.11063118098164587,
          0.11070885936794085,
          0.11078282324726409,
          0.11085306510367623,
          0.11091957779634562,
          0.11098235456075825,
          0.1110413890098643,
          0.1110966751351612,
          0.11114820730771287,
          0.11119598027910485,
          0.11123998918233517,
          0.11128022953264087,
          0.1113166972282595,
          0.11134938855112608,
          0.11137830016750484,
          0.11140342912855583,
          0.11142477287083617,
          0.11144232921673591,
          0.1114560963748483,
          0.11146607294027436,
          0.11147225789486204,
          0.11147465060737909,
          0.11147325083362071,
          0.11146805871645092,
          0.1114590747857783,
          0.11144629995846589,
          0.11142973553817521,
          0.11140938321514453,
          0.11138524506590139,
          0.11135732355290959,
          0.11132562152415043,
          0.11129014221263854,
          0.11125088923587247,
          0.1112078665952199,
          0.11116107867523778,
          0.11111053024292773,
          0.11105622644692646,
          0.1109981728166318,
          0.11093637526126432,
          0.11087084006886486,
          0.11080157390522823,
          0.11072858381277316,
          0.11065187720934895,
          0.11057146188697912,
          0.11048734601054219,
          0.11039953811639004,
          0.11030804711090403,
          0.11021288226898956,
          0.11011405323250895,
          0.11001157000865334,
          0.10990544296825391,
          0.10979568284403288,
          0.10968230072879451,
          0.1095653080735568,
          0.10944471668562396,
          0.10932053872660061,
          0.10919278671034778,
          0.1090614735008811,
          0.10892661231021238,
          0.10878821669613395,
          0.10864630055994756,
          0.10850087814413717,
          0.10835196402998724,
          0.10819957313514608,
          0.10804372071113577,
          0.10788442234080847,
          0.1077216939357503,
          0.10755555173363282,
          0.10738601229551326,
          0.10721309250308379,
          0.10703680955587079,
          0.10685718096838416,
          0.10667422456721817,
          0.10648795848810379,
          0.10629840117291349,
          0.10610557136661952,
          0.10590948811420553,
          0.10571017075753314,
          0.10550763893216365,
          0.10530191256413583,
          0.10509301186670028,
          0.10488095733701161,
          0.10466576975277857,
          0.10444747016887337,
          0.10422607991390087,
          0.10400162058672811,
          0.10377411405297542,
          0.10354358244146968,
          0.10331004814066044,
          0.10307353379499995,
          0.10283406230128778,
          0.10259165680498074,
          0.10234634069646915,
          0.10209813760732045,
          0.10184707140649019,
          0.10159316619650237,
          0.10133644630959913,
          0.10107693630386103,
          0.10081466095929863,
          0.10054964527391645,
          0.10028191445974996,
          0.10001149393887646,
          0.09973840933940104,
          0.09946268649141811,
          0.09918435142294975,
          0.09890343035586141,
          0.09861994970175621,
          0.09833393605784843,
          0.09804541620281743,
          0.09775441709264232,
          0.09746096585641917,
          0.0971650897921608,
          0.09686681636258052,
          0.09656617319086058,
          0.09626318805640642,
          0.09595788889058733,
          0.0956503037724647,
          0.09534046092450858,
          0.09502838870830371,
          0.09471411562024551,
          0.09439767028722727,
          0.09407908146231966,
          0.0937583780204427,
          0.0934355889540319,
          0.09311074336869904,
          0.09278387047888866,
          0.09245499960353085,
          0.09212416016169193,
          0.09179138166822305,
          0.09145669372940826,
          0.09112012603861258,
          0.09078170837193121,
          0.09044147058384036,
          0.09009944260285131,
          0.08975565442716765,
          0.08941013612034732,
          0.08906291780696984,
          0.08871402966831012,
          0.08836350193801873,
          0.08801136489781101,
          0.0876576488731642,
          0.08730238422902462,
          0.08694560136552523,
          0.08658733071371445,
          0.08622760273129725,
          0.08586644789838904,
          0.08550389671328348,
          0.08513997968823465,
          0.08477472734525483,
          0.08440817021192816,
          0.08404033881724159,
          0.08367126368743319,
          0.08330097534185926,
          0.08292950428888043,
          0.08255688102176796,
          0.08218313601463054,
          0.08180829971836293,
          0.08143240255661656,
          0.08105547492179307,
          0.08067754717106156,
          0.0802986496224003,
          0.07991881255066303,
          0.07953806618367174,
          0.07915644069833504,
          0.07877396621679425,
          0.07839067280259675,
          0.0780065904568979,
          0.07762174911469202,
          0.07723617864107295,
          0.07684990882752461,
          0.07646296938824296,
          0.07607538995648874,
          0.07568720008097282,
          0.07529842922227377,
          0.07490910674928891,
          0.07451926193571877,
          0.074128923956586,
          0.07373812188478918,
          0.07334688468769156,
          0.07295524122374618,
          0.0725632202391569,
          0.07217085036457628,
          0.07177816011184103,
          0.07138517787074486,
          0.07099193190584975,
          0.0705984503533359,
          0.07020476121789056,
          0.06981089236963656,
          0.06941687154110067,
          0.06902272632422204,
          0.06862848416740186,
          0.06823417237259347,
          0.0678398180924342,
          0.06744544832741899,
          0.06705108992311597,
          0.06665676956742442,
          0.0662625137878757,
          0.06586834894897697,
          0.06547430124959831,
          0.06508039672040343,
          0.06468666122132426,
          0.0642931204390795,
          0.0638997998847378,
          0.06350672489132521,
          0.06311392061147762,
          0.06272141201513809,
          0.062329223887299424,
          0.06193738082579198,
          0.061545907239117244,
          0.06115482734432689,
          0.060764165164947787,
          0.060373944528952846,
          0.05998418906677802,
          0.05959492220938566,
          0.05920616718637383,
          0.05881794702413232,
          0.05843028454404488,
          0.05804320236073813,
          0.057656722880376814,
          0.05727086829900603,
          0.056885660600939796,
          0.05650112155719624,
          0.056117272723979705,
          0.0557341354412093,
          0.05535173083109405,
          0.054970079796754924,
          0.05458920302089318,
          0.05420912096450528,
          0.053829853865644366,
          0.05345142173822806,
          0.05307384437089247,
          0.05269714132589274,
          0.052321331938049366,
          0.05194643531374073,
          0.051572470329941424,
          0.051199455633306364,
          0.0508274096393006,
          0.05045635053137447,
          0.05008629626018403,
          0.049717264542856805,
          0.04934927286230233,
          0.04898233846656739,
          0.0486164783682361,
          0.04825170934387408,
          0.04788804793351683,
          0.047525510440202125,
          0.04716411292954598,
          0.04680387122936195,
          0.04644480092932399,
          0.046086917380671825,
          0.04573023569595919,
          0.04537477074884441,
          0.04502053717392309,
          0.04466754936660248,
          0.04431582148301765,
          0.04396536743998855,
          0.04361620091501809,
          0.04326833534633081,
          0.042921783932951624,
          0.04257655963482476,
          0.04223267517297195,
          0.04189014302969001,
          0.04154897544878719,
          0.04120918443585806,
          0.04087078175859643,
          0.0405337789471462,
          0.04019818729448942,
          0.039864017856871284,
          0.03953128145426195,
          0.039199988670854335,
          0.03887014985559771,
          0.03854177512276691,
          0.038214874352566194,
          0.037889457191767895,
          0.03756553305438513,
          0.03724311112237822,
          0.03692220034639424,
          0.036602809446539784,
          0.03628494691318574,
          0.03596862100780424,
          0.035653839763837056,
          0.03534061098759502,
          0.035028942259188206,
          0.03471884093348613,
          0.03441031414110763,
          0.034103368789440064,
          0.033798011563687266,
          0.033494248927945634,
          0.03319208712630833,
          0.03289153218399658,
          0.032592589908517974,
          0.03229526589085111,
          0.0319995655066562,
          0.03170549391751103,
          0.03141305607217201,
          0.0311222567078596,
          0.030833100351567694,
          0.03054559132139651,
          0.03025973372790867,
          0.029975531475507376,
          0.029692988263837136,
          0.02941210758920565,
          0.029132892746026862,
          0.028855346828284598,
          0.028579472731016117,
          0.02830527315181561,
          0.028032750592356215,
          0.027761907359931046,
          0.027492745569012333,
          0.027225267142827723,
          0.026959473814954324,
          0.026695367130928734,
          0.026432948449873817,
          0.026172218946140587,
          0.025913179610965568,
          0.025655831254142926,
          0.025400174505710287,
          0.02514620981764898,
          0.024893937465596788,
          0.02464335755057395,
          0.02439447000072134,
          0.02414727457305013,
          0.02390177085520329,
          0.023657958267227365,
          0.02341583606335519,
          0.02317540333379801,
          0.02293665900654735,
          0.022699601849185954,
          0.022464230470706763,
          0.02223054332334064,
          0.021998538704391002,
          0.021768214758076148,
          0.021539569477378173,
          0.02131260070589782,
          0.021087306139715684,
          0.020863683329258313,
          0.02064172968116956,
          0.020421442460186456,
          0.020202818791018852,
          0.01998585566023319,
          0.01977054991813903,
          0.019556898280678886,
          0.019344897331320013,
          0.019134543522948477,
          0.018925833179764866,
          0.018718762499180825,
          0.018513327553716902,
          0.01830952429290027,
          0.01810734854516283,
          0.01790679601973889,
          0.017707862308561795,
          0.017510542888159904,
          0.017314833121550532,
          0.01712072826013243,
          0.016928223445575947,
          0.016737313711710264,
          0.016547993986408292,
          0.016360259093467555,
          0.016174103754488144,
          0.01598952259074603,
          0.015806510125062533,
          0.01562506078366899,
          0.015445168898066295,
          0.01526682870687946,
          0.01509003435770621,
          0.014914779908959917,
          0.01474105933170627,
          0.014568866511493249,
          0.014398195250174523,
          0.014229039267725478,
          0.01406139220405212,
          0.013895247620792025,
          0.013730599003107498,
          0.013567439761470576,
          0.013405763233439245,
          0.013245562685425313,
          0.013086831314452882,
          0.01292956224990783,
          0.012773748555277785,
          0.012619383229882123,
          0.012466459210592343,
          0.012314969373541925,
          0.012164906535825921,
          0.012016263457190018,
          0.011869032841708378,
          0.011723207339450882,
          0.011578779548138669,
          0.011435742014788584,
          0.011294087237345663,
          0.011153807666303925,
          0.011014895706315269,
          0.010877343717785776,
          0.010741144018460084,
          0.01060628888499287,
          0.010472770554507767,
          0.010340581226143583,
          0.010209713062587049,
          0.010080158191593015,
          0.0099519087074907,
          0.009824956672677016,
          0.009699294119096114,
          0.009574913049705093,
          0.009451805439926188,
          0.009329963239084704,
          0.00920937837183317,
          0.00909004273956111,
          0.008971948221790645,
          0.008855086677557826,
          0.008739449946779245,
          0.008625029851604415,
          0.008511818197753254,
          0.008399806775838984,
          0.008288987362676296,
          0.008179351722574451,
          0.008070891608615717,
          0.00796359876391855,
          0.007857464922886005,
          0.0077524818124387615,
          0.007648641153233209,
          0.007545934660864321,
          0.0074443540470531195,
          0.007343891020819112,
          0.007244537289637207,
          0.007146284560579423,
          0.007049124541441257,
          0.006953048941852523,
          0.006858049474373,
          0.006764117855572481,
          0.006671245807095535,
          0.006579425056710833,
          0.006488647339344938,
          0.006398904398100853,
          0.0063101879852609614,
          0.006222489863274759,
          0.006135801805730987,
          0.006050115598314552,
          0.005965423039748041,
          0.005881715942717821,
          0.005798986134784987,
          0.005717225459280859,
          0.005636425776187355,
          0.005556578963002152,
          0.005477676915588563,
          0.005399711549010458,
          0.005322674798351927,
          0.005246558619522003,
          0.005171354990044488,
          0.0050970559098325735,
          0.0050236534019489545,
          0.004951139513350746,
          0.0048795063156200245,
          0.00480874590567933,
          0.004738850406492807,
          0.004669811967752694,
          0.004601622766551285,
          0.004534275008038595,
          0.004467760926065589,
          0.004402072783813224,
          0.004337202874407353,
          0.0042731435215194145,
          0.004209887079953292,
          0.004147425936218091,
          0.004085752509087256,
          0.004024859250143803,
          0.003964738644312021,
          0.003905383210375606,
          0.003846785501482284,
          0.0037889381056352045,
          0.0037318336461709518,
          0.003675464782224507,
          0.003619824209181159,
          0.0035649046591154005,
          0.0035106989012171096,
          0.0034571997422048885,
          0.0034044000267268743,
          0.0033522926377490413,
          0.003300870496931029,
          0.003250126564989821,
          0.0032000538420511207,
          0.003150645367988816,
          0.0031018942227523856,
          0.003053793526682577,
          0.003006336440815375,
          0.0029595161671743335,
          0.002913325949051552,
          0.002867759071277207,
          0.0028228088604779493,
          0.0027784686853242063,
          0.0027347319567664423,
          0.0026915921282606855,
          0.002649042695983238,
          0.002607077199034843,
          0.0025656892196344043,
          0.0025248723833022862,
          0.0024846203590335,
          0.0024449268594606997,
          0.0024057856410073203,
          0.002367190504030789,
          0.002329135292956081,
          0.0022916138963997457,
          0.002254620247284343,
          0.0022181483229437495,
          0.0021821921452190906,
          0.0021467457805457455,
          0.0021118033400313765,
          0.002077358979525114,
          0.002043406899678147,
          0.002009941345995683,
          0.001976956608880578,
          0.0019444470236685998,
          0.0019124069706555754,
          0.0018808308751165268,
          0.0018497132073168343,
          0.0018190484825157055,
          0.0017888312609619405,
          0.0017590561478821962,
          0.0017297177934618812,
          0.0017008108928187335,
          0.0016723301859693173,
          0.0016442704577884547,
          0.0016166265379617974,
          0.001589393300931653,
          0.001562565665836107,
          0.0015361385964417142,
          0.0015101071010697209,
          0.0014844662325160882,
          0.0014592110879653045,
          0.001434336808898216,
          0.0014098385809939533,
          0.001385711634026031,
          0.0013619512417528516,
          0.0013385527218025936,
          0.0013155114355527173,
          0.0012928227880041649,
          0.001270482227650321
         ]
        }
       ],
       "layout": {
        "annotations": [
         {
          "align": "center",
          "bgcolor": "white",
          "font": {
           "color": "black",
           "size": 12
          },
          "opacity": 0.8,
          "showarrow": false,
          "text": "     Assimetria: 0.44<br>Curtose: 0.94",
          "x": 0.995,
          "xref": "paper",
          "y": 0.995,
          "yref": "paper"
         }
        ],
        "bargap": 0.1,
        "showlegend": false,
        "template": {
         "data": {
          "bar": [
           {
            "error_x": {
             "color": "#2a3f5f"
            },
            "error_y": {
             "color": "#2a3f5f"
            },
            "marker": {
             "line": {
              "color": "#E5ECF6",
              "width": 0.5
             },
             "pattern": {
              "fillmode": "overlay",
              "size": 10,
              "solidity": 0.2
             }
            },
            "type": "bar"
           }
          ],
          "barpolar": [
           {
            "marker": {
             "line": {
              "color": "#E5ECF6",
              "width": 0.5
             },
             "pattern": {
              "fillmode": "overlay",
              "size": 10,
              "solidity": 0.2
             }
            },
            "type": "barpolar"
           }
          ],
          "carpet": [
           {
            "aaxis": {
             "endlinecolor": "#2a3f5f",
             "gridcolor": "white",
             "linecolor": "white",
             "minorgridcolor": "white",
             "startlinecolor": "#2a3f5f"
            },
            "baxis": {
             "endlinecolor": "#2a3f5f",
             "gridcolor": "white",
             "linecolor": "white",
             "minorgridcolor": "white",
             "startlinecolor": "#2a3f5f"
            },
            "type": "carpet"
           }
          ],
          "choropleth": [
           {
            "colorbar": {
             "outlinewidth": 0,
             "ticks": ""
            },
            "type": "choropleth"
           }
          ],
          "contour": [
           {
            "colorbar": {
             "outlinewidth": 0,
             "ticks": ""
            },
            "colorscale": [
             [
              0,
              "#0d0887"
             ],
             [
              0.1111111111111111,
              "#46039f"
             ],
             [
              0.2222222222222222,
              "#7201a8"
             ],
             [
              0.3333333333333333,
              "#9c179e"
             ],
             [
              0.4444444444444444,
              "#bd3786"
             ],
             [
              0.5555555555555556,
              "#d8576b"
             ],
             [
              0.6666666666666666,
              "#ed7953"
             ],
             [
              0.7777777777777778,
              "#fb9f3a"
             ],
             [
              0.8888888888888888,
              "#fdca26"
             ],
             [
              1,
              "#f0f921"
             ]
            ],
            "type": "contour"
           }
          ],
          "contourcarpet": [
           {
            "colorbar": {
             "outlinewidth": 0,
             "ticks": ""
            },
            "type": "contourcarpet"
           }
          ],
          "heatmap": [
           {
            "colorbar": {
             "outlinewidth": 0,
             "ticks": ""
            },
            "colorscale": [
             [
              0,
              "#0d0887"
             ],
             [
              0.1111111111111111,
              "#46039f"
             ],
             [
              0.2222222222222222,
              "#7201a8"
             ],
             [
              0.3333333333333333,
              "#9c179e"
             ],
             [
              0.4444444444444444,
              "#bd3786"
             ],
             [
              0.5555555555555556,
              "#d8576b"
             ],
             [
              0.6666666666666666,
              "#ed7953"
             ],
             [
              0.7777777777777778,
              "#fb9f3a"
             ],
             [
              0.8888888888888888,
              "#fdca26"
             ],
             [
              1,
              "#f0f921"
             ]
            ],
            "type": "heatmap"
           }
          ],
          "heatmapgl": [
           {
            "colorbar": {
             "outlinewidth": 0,
             "ticks": ""
            },
            "colorscale": [
             [
              0,
              "#0d0887"
             ],
             [
              0.1111111111111111,
              "#46039f"
             ],
             [
              0.2222222222222222,
              "#7201a8"
             ],
             [
              0.3333333333333333,
              "#9c179e"
             ],
             [
              0.4444444444444444,
              "#bd3786"
             ],
             [
              0.5555555555555556,
              "#d8576b"
             ],
             [
              0.6666666666666666,
              "#ed7953"
             ],
             [
              0.7777777777777778,
              "#fb9f3a"
             ],
             [
              0.8888888888888888,
              "#fdca26"
             ],
             [
              1,
              "#f0f921"
             ]
            ],
            "type": "heatmapgl"
           }
          ],
          "histogram": [
           {
            "marker": {
             "pattern": {
              "fillmode": "overlay",
              "size": 10,
              "solidity": 0.2
             }
            },
            "type": "histogram"
           }
          ],
          "histogram2d": [
           {
            "colorbar": {
             "outlinewidth": 0,
             "ticks": ""
            },
            "colorscale": [
             [
              0,
              "#0d0887"
             ],
             [
              0.1111111111111111,
              "#46039f"
             ],
             [
              0.2222222222222222,
              "#7201a8"
             ],
             [
              0.3333333333333333,
              "#9c179e"
             ],
             [
              0.4444444444444444,
              "#bd3786"
             ],
             [
              0.5555555555555556,
              "#d8576b"
             ],
             [
              0.6666666666666666,
              "#ed7953"
             ],
             [
              0.7777777777777778,
              "#fb9f3a"
             ],
             [
              0.8888888888888888,
              "#fdca26"
             ],
             [
              1,
              "#f0f921"
             ]
            ],
            "type": "histogram2d"
           }
          ],
          "histogram2dcontour": [
           {
            "colorbar": {
             "outlinewidth": 0,
             "ticks": ""
            },
            "colorscale": [
             [
              0,
              "#0d0887"
             ],
             [
              0.1111111111111111,
              "#46039f"
             ],
             [
              0.2222222222222222,
              "#7201a8"
             ],
             [
              0.3333333333333333,
              "#9c179e"
             ],
             [
              0.4444444444444444,
              "#bd3786"
             ],
             [
              0.5555555555555556,
              "#d8576b"
             ],
             [
              0.6666666666666666,
              "#ed7953"
             ],
             [
              0.7777777777777778,
              "#fb9f3a"
             ],
             [
              0.8888888888888888,
              "#fdca26"
             ],
             [
              1,
              "#f0f921"
             ]
            ],
            "type": "histogram2dcontour"
           }
          ],
          "mesh3d": [
           {
            "colorbar": {
             "outlinewidth": 0,
             "ticks": ""
            },
            "type": "mesh3d"
           }
          ],
          "parcoords": [
           {
            "line": {
             "colorbar": {
              "outlinewidth": 0,
              "ticks": ""
             }
            },
            "type": "parcoords"
           }
          ],
          "pie": [
           {
            "automargin": true,
            "type": "pie"
           }
          ],
          "scatter": [
           {
            "fillpattern": {
             "fillmode": "overlay",
             "size": 10,
             "solidity": 0.2
            },
            "type": "scatter"
           }
          ],
          "scatter3d": [
           {
            "line": {
             "colorbar": {
              "outlinewidth": 0,
              "ticks": ""
             }
            },
            "marker": {
             "colorbar": {
              "outlinewidth": 0,
              "ticks": ""
             }
            },
            "type": "scatter3d"
           }
          ],
          "scattercarpet": [
           {
            "marker": {
             "colorbar": {
              "outlinewidth": 0,
              "ticks": ""
             }
            },
            "type": "scattercarpet"
           }
          ],
          "scattergeo": [
           {
            "marker": {
             "colorbar": {
              "outlinewidth": 0,
              "ticks": ""
             }
            },
            "type": "scattergeo"
           }
          ],
          "scattergl": [
           {
            "marker": {
             "colorbar": {
              "outlinewidth": 0,
              "ticks": ""
             }
            },
            "type": "scattergl"
           }
          ],
          "scattermapbox": [
           {
            "marker": {
             "colorbar": {
              "outlinewidth": 0,
              "ticks": ""
             }
            },
            "type": "scattermapbox"
           }
          ],
          "scatterpolar": [
           {
            "marker": {
             "colorbar": {
              "outlinewidth": 0,
              "ticks": ""
             }
            },
            "type": "scatterpolar"
           }
          ],
          "scatterpolargl": [
           {
            "marker": {
             "colorbar": {
              "outlinewidth": 0,
              "ticks": ""
             }
            },
            "type": "scatterpolargl"
           }
          ],
          "scatterternary": [
           {
            "marker": {
             "colorbar": {
              "outlinewidth": 0,
              "ticks": ""
             }
            },
            "type": "scatterternary"
           }
          ],
          "surface": [
           {
            "colorbar": {
             "outlinewidth": 0,
             "ticks": ""
            },
            "colorscale": [
             [
              0,
              "#0d0887"
             ],
             [
              0.1111111111111111,
              "#46039f"
             ],
             [
              0.2222222222222222,
              "#7201a8"
             ],
             [
              0.3333333333333333,
              "#9c179e"
             ],
             [
              0.4444444444444444,
              "#bd3786"
             ],
             [
              0.5555555555555556,
              "#d8576b"
             ],
             [
              0.6666666666666666,
              "#ed7953"
             ],
             [
              0.7777777777777778,
              "#fb9f3a"
             ],
             [
              0.8888888888888888,
              "#fdca26"
             ],
             [
              1,
              "#f0f921"
             ]
            ],
            "type": "surface"
           }
          ],
          "table": [
           {
            "cells": {
             "fill": {
              "color": "#EBF0F8"
             },
             "line": {
              "color": "white"
             }
            },
            "header": {
             "fill": {
              "color": "#C8D4E3"
             },
             "line": {
              "color": "white"
             }
            },
            "type": "table"
           }
          ]
         },
         "layout": {
          "annotationdefaults": {
           "arrowcolor": "#2a3f5f",
           "arrowhead": 0,
           "arrowwidth": 1
          },
          "autotypenumbers": "strict",
          "coloraxis": {
           "colorbar": {
            "outlinewidth": 0,
            "ticks": ""
           }
          },
          "colorscale": {
           "diverging": [
            [
             0,
             "#8e0152"
            ],
            [
             0.1,
             "#c51b7d"
            ],
            [
             0.2,
             "#de77ae"
            ],
            [
             0.3,
             "#f1b6da"
            ],
            [
             0.4,
             "#fde0ef"
            ],
            [
             0.5,
             "#f7f7f7"
            ],
            [
             0.6,
             "#e6f5d0"
            ],
            [
             0.7,
             "#b8e186"
            ],
            [
             0.8,
             "#7fbc41"
            ],
            [
             0.9,
             "#4d9221"
            ],
            [
             1,
             "#276419"
            ]
           ],
           "sequential": [
            [
             0,
             "#0d0887"
            ],
            [
             0.1111111111111111,
             "#46039f"
            ],
            [
             0.2222222222222222,
             "#7201a8"
            ],
            [
             0.3333333333333333,
             "#9c179e"
            ],
            [
             0.4444444444444444,
             "#bd3786"
            ],
            [
             0.5555555555555556,
             "#d8576b"
            ],
            [
             0.6666666666666666,
             "#ed7953"
            ],
            [
             0.7777777777777778,
             "#fb9f3a"
            ],
            [
             0.8888888888888888,
             "#fdca26"
            ],
            [
             1,
             "#f0f921"
            ]
           ],
           "sequentialminus": [
            [
             0,
             "#0d0887"
            ],
            [
             0.1111111111111111,
             "#46039f"
            ],
            [
             0.2222222222222222,
             "#7201a8"
            ],
            [
             0.3333333333333333,
             "#9c179e"
            ],
            [
             0.4444444444444444,
             "#bd3786"
            ],
            [
             0.5555555555555556,
             "#d8576b"
            ],
            [
             0.6666666666666666,
             "#ed7953"
            ],
            [
             0.7777777777777778,
             "#fb9f3a"
            ],
            [
             0.8888888888888888,
             "#fdca26"
            ],
            [
             1,
             "#f0f921"
            ]
           ]
          },
          "colorway": [
           "#636efa",
           "#EF553B",
           "#00cc96",
           "#ab63fa",
           "#FFA15A",
           "#19d3f3",
           "#FF6692",
           "#B6E880",
           "#FF97FF",
           "#FECB52"
          ],
          "font": {
           "color": "#2a3f5f"
          },
          "geo": {
           "bgcolor": "white",
           "lakecolor": "white",
           "landcolor": "#E5ECF6",
           "showlakes": true,
           "showland": true,
           "subunitcolor": "white"
          },
          "hoverlabel": {
           "align": "left"
          },
          "hovermode": "closest",
          "mapbox": {
           "style": "light"
          },
          "paper_bgcolor": "white",
          "plot_bgcolor": "#E5ECF6",
          "polar": {
           "angularaxis": {
            "gridcolor": "white",
            "linecolor": "white",
            "ticks": ""
           },
           "bgcolor": "#E5ECF6",
           "radialaxis": {
            "gridcolor": "white",
            "linecolor": "white",
            "ticks": ""
           }
          },
          "scene": {
           "xaxis": {
            "backgroundcolor": "#E5ECF6",
            "gridcolor": "white",
            "gridwidth": 2,
            "linecolor": "white",
            "showbackground": true,
            "ticks": "",
            "zerolinecolor": "white"
           },
           "yaxis": {
            "backgroundcolor": "#E5ECF6",
            "gridcolor": "white",
            "gridwidth": 2,
            "linecolor": "white",
            "showbackground": true,
            "ticks": "",
            "zerolinecolor": "white"
           },
           "zaxis": {
            "backgroundcolor": "#E5ECF6",
            "gridcolor": "white",
            "gridwidth": 2,
            "linecolor": "white",
            "showbackground": true,
            "ticks": "",
            "zerolinecolor": "white"
           }
          },
          "shapedefaults": {
           "line": {
            "color": "#2a3f5f"
           }
          },
          "ternary": {
           "aaxis": {
            "gridcolor": "white",
            "linecolor": "white",
            "ticks": ""
           },
           "baxis": {
            "gridcolor": "white",
            "linecolor": "white",
            "ticks": ""
           },
           "bgcolor": "#E5ECF6",
           "caxis": {
            "gridcolor": "white",
            "linecolor": "white",
            "ticks": ""
           }
          },
          "title": {
           "x": 0.05
          },
          "xaxis": {
           "automargin": true,
           "gridcolor": "white",
           "linecolor": "white",
           "ticks": "",
           "title": {
            "standoff": 15
           },
           "zerolinecolor": "white",
           "zerolinewidth": 2
          },
          "yaxis": {
           "automargin": true,
           "gridcolor": "white",
           "linecolor": "white",
           "ticks": "",
           "title": {
            "standoff": 15
           },
           "zerolinecolor": "white",
           "zerolinewidth": 2
          }
         }
        },
        "title": {
         "text": "Histograma dos Retornos Mensais da Estratégia com Curva Normal Ajustada"
        },
        "xaxis": {
         "title": {
          "text": "Retornos Percentuais    (Log.)"
         }
        },
        "yaxis": {
         "title": {
          "text": "Frequência (Probabilidade)"
         }
        }
       }
      }
     },
     "metadata": {},
     "output_type": "display_data"
    }
   ],
   "source": [
    "# Suponha que 'average_monthly_results' seja o seu vetor de retornos da estratégia\n",
    "returns = average_monthly_results  # Substitua com os seus dados de retornos\n",
    "\n",
    "# Ajusta a distribuição normal aos dados (média e desvio padrão)\n",
    "mean, std_dev = stats.norm.fit(returns)\n",
    "\n",
    "# Cria o histograma\n",
    "hist_data = go.Histogram(\n",
    "    x=returns,\n",
    "    nbinsx=30,  # Defina o número de bins conforme necessário\n",
    "    name='Histograma dos Retornos',\n",
    "    opacity=0.75,\n",
    "    histnorm='probability'  # Normaliza o histograma para a probabilidade\n",
    ")\n",
    "\n",
    "# Cria a curva normal ajustada\n",
    "x_range = np.linspace(min(returns), max(returns), 1000)\n",
    "y_range = stats.norm.pdf(x_range, mean, std_dev)  # Calcula a função de densidade da normal\n",
    "\n",
    "# Adiciona a curva normal ao gráfico\n",
    "normal_curve = go.Scatter(\n",
    "    x=x_range,\n",
    "    y=y_range,\n",
    "    mode='lines',\n",
    "    name='Curva Normal Ajustada',\n",
    "    line=dict(color='red', width=2)\n",
    ")\n",
    "\n",
    "# Calcular a assimetria e a curtose\n",
    "skewness = stats.skew(returns)\n",
    "kurtosis = stats.kurtosis(returns)\n",
    "\n",
    "# Cria a figura com histograma e curva normal\n",
    "fig = go.Figure(data=[hist_data, normal_curve])\n",
    "\n",
    "# Adicionar anotações de assimetria e curtose\n",
    "fig.add_annotation(\n",
    "    x=0.995, y=0.995, \n",
    "    text=f'     Assimetria: {skewness:.2f}<br>Curtose: {kurtosis:.2f}', \n",
    "    showarrow=False, \n",
    "    font=dict(size=12, color=\"black\"), \n",
    "    align=\"center\", \n",
    "    xref=\"paper\", yref=\"paper\", \n",
    "    bgcolor=\"white\", opacity=0.8\n",
    ")\n",
    "\n",
    "# Atualiza o layout com títulos e rótulos\n",
    "fig.update_layout(\n",
    "    title=\"Histograma dos Retornos Mensais da Estratégia com Curva Normal Ajustada\",\n",
    "    xaxis_title=\"Retornos Percentuais    (Log.)\",\n",
    "    yaxis_title=\"Frequência (Probabilidade)\",\n",
    "    bargap=0.1,  # Ajusta o espaçamento entre as barras\n",
    "    #\n",
    "    showlegend=False\n",
    ")\n",
    "\n",
    "# Exibe o gráfico\n",
    "fig.show()\n"
   ]
  },
  {
   "cell_type": "markdown",
   "metadata": {},
   "source": [
    "*Assimetria -> quanto mais próximo de 0, mais \"normal\" é a distribuição*.\n",
    "\n",
    "*Curtose -> quanto mais próximo de 3, mais \"normal\" é a distribuição*."
   ]
  },
  {
   "cell_type": "markdown",
   "metadata": {},
   "source": [
    "A assimetria de 0,37 indica que a distribuição dos retornos é ligeiramente assimétrica para a direita (cauda direita um pouco mais longa ou mais \"gorda\"). Isso significa que, em média, existem algumas observações com retornos maiores, mas não de forma extrema. A assimetria é positiva, mas o valor de 0,37 é relativamente baixo, indicando que a distribuição não é fortemente inclinada, mas apresenta um pequeno desvio da simetria perfeita.\n",
    "\n",
    "A curtose de 1,12 é menor que 3, o que sugere que a distribuição dos retornos tem caudas mais leves do que uma distribuição normal (com curtose = 3). Em outras palavras, essa série tem menos extremos ou valores outliers comparada a uma distribuição normal. Uma curtose de 1,12 indica uma distribuição menos concentrada nas extremidades, com uma forma mais \"achatada\" no centro, em comparação com a distribuição normal.\n",
    "\n",
    "Conclusões:\n",
    "Distribuição levemente assimétrica: A assimetria positiva indica que a distribuição tem uma leve inclinação para a direita, sugerindo que, ocasionalmente, podem ocorrer retornos mais altos, mas não de forma predominante ou extrema.\n",
    "\n",
    "Distribuição com caudas leves: A curtose baixa indica que as caudas da distribuição são mais leves do que uma distribuição normal. Isso pode ser bom para estratégias de risco, pois a probabilidade de grandes perdas (ou ganhos) é menor. Contudo, também significa que a distribuição tende a ser mais concentrada perto da média.\n",
    "\n",
    "Em resumo, a série de retornos tem um comportamento levemente assimétrico para a direita e menos extremos em comparação com uma distribuição normal, o que pode indicar uma estratégia de risco mais controlado, mas também menos propensa a grandes oscilações.\n",
    "\n",
    "**By: ChatGPT**"
   ]
  },
  {
   "cell_type": "markdown",
   "metadata": {},
   "source": [
    "##### **Gráficos relacionados ao modelo MSGARCH e a LSTM**"
   ]
  },
  {
   "cell_type": "markdown",
   "metadata": {},
   "source": [
    "*Vamos utilizar as ações da Coca-Cola Company e do JPMorgan para exemplificar, em um gráfico, como nosso modelo captura a volatilidade condicional. Em seguida, usaremos as ações do JPMorgan para ilustrar, também com um gráfico, como o modelo realiza previsões.*"
   ]
  },
  {
   "cell_type": "code",
   "execution_count": 35,
   "metadata": {},
   "outputs": [],
   "source": [
    "setup = {\n",
    "    # Data inicial para a extração de dados (Deve obrigatoriamente ser um dia de negociação).\n",
    "    \"data_extraction_initial_date\": datetime(2019,1,2).date(), #  Primeiro dia de negociações do S&P500 em 2019.\n",
    "    \n",
    "    # Data final cujos dados serão coletados (Deve obrigatoriamente ser um dia de negociação e \n",
    "    # deve também obrigatoriamente suceder um dia de negociação.).\n",
    "    \"data_extraction_final_date\": datetime(2023,12,30).date(), #(Último dia de negociações do S&P500 em 2023). \n",
    "\n",
    "    # Define os períodos de tempo (janelas móveis) para o cálculo das principais features técnicas a serem usadas no modelo.\n",
    "    \"features_time_period\": {\n",
    "        # Define o período (janela móvel) para o cálculo dos retornos.\n",
    "        \"returns_time_period\": 1,\n",
    "        # Define o período (janela móvel) para o cálculo da média móvel exponencial.\n",
    "        \"exponential_moving_average_time_period\": 14,\n",
    "        # Define o período (janela móvel) para o cálculo do Índice de Força Relativa (RSI).\n",
    "        \"relative_strength_index_time_period\": 14,\n",
    "        # Define o período (janela móvel) para o cálculo da Faixa Média Verdadeira (ATR).\n",
    "        \"average_true_range_time_period\": 14,\n",
    "        # Define o período (janela móvel) para o cálculo do momentum.\n",
    "        \"momemtum_time_period\": 14,\n",
    "        # Frequência para coleta dos dados do VIX. O valor \"1d\" indica que os dados do VIX serão registrados \n",
    "        # em intervalos diários de negociação.\n",
    "        \"vix_time_period\": \"1d\",\n",
    "        # Define o período para o cálculo das mudanças percentuais (Usado no vix e no MSGARCH).\n",
    "        \"pct_change_period\": 1,\n",
    "    },\n",
    "    \n",
    "    # Período da estratégia a ser usada: define a frequência para a análise dos retornos (Ex.: 5 para análise semanal, 20 para mensal).\n",
    "    \"strategy_time_period\": 20, # Observação: São levados em conta como dias na estratégia apenas aqueles onde ocorreram negociações.\n",
    "    \n",
    "    # Define o comprimento das sequências de tempo (janelas móveis) usadas no modelo LSTM.\n",
    "    \"lstm_time_sequences_length\": 3\n",
    "}"
   ]
  },
  {
   "cell_type": "code",
   "execution_count": 36,
   "metadata": {},
   "outputs": [],
   "source": [
    "# Cria um objeto ticker para as ações da Cola Cola Company.\n",
    "coca_cola_data = Ticker(\"KO\", setup['data_extraction_initial_date'], setup['data_extraction_final_date'], setup['features_time_period'],setup['strategy_time_period'])\n",
    "\n",
    "# Cria um objeto ticker para as ações do JPMorgan.\n",
    "jpmorgan_data = Ticker(\"JPM\", setup['data_extraction_initial_date'], setup['data_extraction_final_date'], setup['features_time_period'],setup['strategy_time_period'])"
   ]
  },
  {
   "cell_type": "code",
   "execution_count": 37,
   "metadata": {},
   "outputs": [],
   "source": [
    "# Obtem o resultado da modelagem da volatilidade condicional do ticker \"KO\".\n",
    "coca_cola_conditional_volatility = coca_cola_data.__get_MSGARCH_results__()[1]\n",
    "coca_cola_conditional_volatility.name = \"Coca Cola\" # Seta o nome da série temporal \"coca_cola_conditional_volatility\".\n",
    "\n",
    "# Obtem o resultado da modelagem da volatilidade condicional do ticker \"JPM\".\n",
    "jpmorgan_conditional_volatility = jpmorgan_data.__get_MSGARCH_results__()[1]\n",
    "jpmorgan_conditional_volatility.name = \"JPMorgan\" # Seta o nome da série temporal \"jpmorgan_conditional_volatility\"."
   ]
  },
  {
   "cell_type": "code",
   "execution_count": 38,
   "metadata": {},
   "outputs": [
    {
     "data": {
      "application/vnd.plotly.v1+json": {
       "config": {
        "plotlyServerURL": "https://plot.ly"
       },
       "data": [
        {
         "mode": "lines",
         "name": "Coca Cola",
         "type": "scatter",
         "x": [
          "2019-01-25T00:00:00",
          "2019-01-28T00:00:00",
          "2019-01-29T00:00:00",
          "2019-01-30T00:00:00",
          "2019-01-31T00:00:00",
          "2019-02-01T00:00:00",
          "2019-02-04T00:00:00",
          "2019-02-05T00:00:00",
          "2019-02-06T00:00:00",
          "2019-02-07T00:00:00",
          "2019-02-08T00:00:00",
          "2019-02-11T00:00:00",
          "2019-02-12T00:00:00",
          "2019-02-13T00:00:00",
          "2019-02-14T00:00:00",
          "2019-02-15T00:00:00",
          "2019-02-19T00:00:00",
          "2019-02-20T00:00:00",
          "2019-02-21T00:00:00",
          "2019-02-22T00:00:00",
          "2019-02-25T00:00:00",
          "2019-02-26T00:00:00",
          "2019-02-27T00:00:00",
          "2019-02-28T00:00:00",
          "2019-03-01T00:00:00",
          "2019-03-04T00:00:00",
          "2019-03-05T00:00:00",
          "2019-03-06T00:00:00",
          "2019-03-07T00:00:00",
          "2019-03-08T00:00:00",
          "2019-03-11T00:00:00",
          "2019-03-12T00:00:00",
          "2019-03-13T00:00:00",
          "2019-03-14T00:00:00",
          "2019-03-15T00:00:00",
          "2019-03-18T00:00:00",
          "2019-03-19T00:00:00",
          "2019-03-20T00:00:00",
          "2019-03-21T00:00:00",
          "2019-03-22T00:00:00",
          "2019-03-25T00:00:00",
          "2019-03-26T00:00:00",
          "2019-03-27T00:00:00",
          "2019-03-28T00:00:00",
          "2019-03-29T00:00:00",
          "2019-04-01T00:00:00",
          "2019-04-02T00:00:00",
          "2019-04-03T00:00:00",
          "2019-04-04T00:00:00",
          "2019-04-05T00:00:00",
          "2019-04-08T00:00:00",
          "2019-04-09T00:00:00",
          "2019-04-10T00:00:00",
          "2019-04-11T00:00:00",
          "2019-04-12T00:00:00",
          "2019-04-15T00:00:00",
          "2019-04-16T00:00:00",
          "2019-04-17T00:00:00",
          "2019-04-18T00:00:00",
          "2019-04-22T00:00:00",
          "2019-04-23T00:00:00",
          "2019-04-24T00:00:00",
          "2019-04-25T00:00:00",
          "2019-04-26T00:00:00",
          "2019-04-29T00:00:00",
          "2019-04-30T00:00:00",
          "2019-05-01T00:00:00",
          "2019-05-02T00:00:00",
          "2019-05-03T00:00:00",
          "2019-05-06T00:00:00",
          "2019-05-07T00:00:00",
          "2019-05-08T00:00:00",
          "2019-05-09T00:00:00",
          "2019-05-10T00:00:00",
          "2019-05-13T00:00:00",
          "2019-05-14T00:00:00",
          "2019-05-15T00:00:00",
          "2019-05-16T00:00:00",
          "2019-05-17T00:00:00",
          "2019-05-20T00:00:00",
          "2019-05-21T00:00:00",
          "2019-05-22T00:00:00",
          "2019-05-23T00:00:00",
          "2019-05-24T00:00:00",
          "2019-05-28T00:00:00",
          "2019-05-29T00:00:00",
          "2019-05-30T00:00:00",
          "2019-05-31T00:00:00",
          "2019-06-03T00:00:00",
          "2019-06-04T00:00:00",
          "2019-06-05T00:00:00",
          "2019-06-06T00:00:00",
          "2019-06-07T00:00:00",
          "2019-06-10T00:00:00",
          "2019-06-11T00:00:00",
          "2019-06-12T00:00:00",
          "2019-06-13T00:00:00",
          "2019-06-14T00:00:00",
          "2019-06-17T00:00:00",
          "2019-06-18T00:00:00",
          "2019-06-19T00:00:00",
          "2019-06-20T00:00:00",
          "2019-06-21T00:00:00",
          "2019-06-24T00:00:00",
          "2019-06-25T00:00:00",
          "2019-06-26T00:00:00",
          "2019-06-27T00:00:00",
          "2019-06-28T00:00:00",
          "2019-07-01T00:00:00",
          "2019-07-02T00:00:00",
          "2019-07-03T00:00:00",
          "2019-07-05T00:00:00",
          "2019-07-08T00:00:00",
          "2019-07-09T00:00:00",
          "2019-07-10T00:00:00",
          "2019-07-11T00:00:00",
          "2019-07-12T00:00:00",
          "2019-07-15T00:00:00",
          "2019-07-16T00:00:00",
          "2019-07-17T00:00:00",
          "2019-07-18T00:00:00",
          "2019-07-19T00:00:00",
          "2019-07-22T00:00:00",
          "2019-07-23T00:00:00",
          "2019-07-24T00:00:00",
          "2019-07-25T00:00:00",
          "2019-07-26T00:00:00",
          "2019-07-29T00:00:00",
          "2019-07-30T00:00:00",
          "2019-07-31T00:00:00",
          "2019-08-01T00:00:00",
          "2019-08-02T00:00:00",
          "2019-08-05T00:00:00",
          "2019-08-06T00:00:00",
          "2019-08-07T00:00:00",
          "2019-08-08T00:00:00",
          "2019-08-09T00:00:00",
          "2019-08-12T00:00:00",
          "2019-08-13T00:00:00",
          "2019-08-14T00:00:00",
          "2019-08-15T00:00:00",
          "2019-08-16T00:00:00",
          "2019-08-19T00:00:00",
          "2019-08-20T00:00:00",
          "2019-08-21T00:00:00",
          "2019-08-22T00:00:00",
          "2019-08-23T00:00:00",
          "2019-08-26T00:00:00",
          "2019-08-27T00:00:00",
          "2019-08-28T00:00:00",
          "2019-08-29T00:00:00",
          "2019-08-30T00:00:00",
          "2019-09-03T00:00:00",
          "2019-09-04T00:00:00",
          "2019-09-05T00:00:00",
          "2019-09-06T00:00:00",
          "2019-09-09T00:00:00",
          "2019-09-10T00:00:00",
          "2019-09-11T00:00:00",
          "2019-09-12T00:00:00",
          "2019-09-13T00:00:00",
          "2019-09-16T00:00:00",
          "2019-09-17T00:00:00",
          "2019-09-18T00:00:00",
          "2019-09-19T00:00:00",
          "2019-09-20T00:00:00",
          "2019-09-23T00:00:00",
          "2019-09-24T00:00:00",
          "2019-09-25T00:00:00",
          "2019-09-26T00:00:00",
          "2019-09-27T00:00:00",
          "2019-09-30T00:00:00",
          "2019-10-01T00:00:00",
          "2019-10-02T00:00:00",
          "2019-10-03T00:00:00",
          "2019-10-04T00:00:00",
          "2019-10-07T00:00:00",
          "2019-10-08T00:00:00",
          "2019-10-09T00:00:00",
          "2019-10-10T00:00:00",
          "2019-10-11T00:00:00",
          "2019-10-14T00:00:00",
          "2019-10-15T00:00:00",
          "2019-10-16T00:00:00",
          "2019-10-17T00:00:00",
          "2019-10-18T00:00:00",
          "2019-10-21T00:00:00",
          "2019-10-22T00:00:00",
          "2019-10-23T00:00:00",
          "2019-10-24T00:00:00",
          "2019-10-25T00:00:00",
          "2019-10-28T00:00:00",
          "2019-10-29T00:00:00",
          "2019-10-30T00:00:00",
          "2019-10-31T00:00:00",
          "2019-11-01T00:00:00",
          "2019-11-04T00:00:00",
          "2019-11-05T00:00:00",
          "2019-11-06T00:00:00",
          "2019-11-07T00:00:00",
          "2019-11-08T00:00:00",
          "2019-11-11T00:00:00",
          "2019-11-12T00:00:00",
          "2019-11-13T00:00:00",
          "2019-11-14T00:00:00",
          "2019-11-15T00:00:00",
          "2019-11-18T00:00:00",
          "2019-11-19T00:00:00",
          "2019-11-20T00:00:00",
          "2019-11-21T00:00:00",
          "2019-11-22T00:00:00",
          "2019-11-25T00:00:00",
          "2019-11-26T00:00:00",
          "2019-11-27T00:00:00",
          "2019-11-29T00:00:00",
          "2019-12-02T00:00:00",
          "2019-12-03T00:00:00",
          "2019-12-04T00:00:00",
          "2019-12-05T00:00:00",
          "2019-12-06T00:00:00",
          "2019-12-09T00:00:00",
          "2019-12-10T00:00:00",
          "2019-12-11T00:00:00",
          "2019-12-12T00:00:00",
          "2019-12-13T00:00:00",
          "2019-12-16T00:00:00",
          "2019-12-17T00:00:00",
          "2019-12-18T00:00:00",
          "2019-12-19T00:00:00",
          "2019-12-20T00:00:00",
          "2019-12-23T00:00:00",
          "2019-12-24T00:00:00",
          "2019-12-26T00:00:00",
          "2019-12-27T00:00:00",
          "2019-12-30T00:00:00",
          "2019-12-31T00:00:00",
          "2020-01-02T00:00:00",
          "2020-01-03T00:00:00",
          "2020-01-06T00:00:00",
          "2020-01-07T00:00:00",
          "2020-01-08T00:00:00",
          "2020-01-09T00:00:00",
          "2020-01-10T00:00:00",
          "2020-01-13T00:00:00",
          "2020-01-14T00:00:00",
          "2020-01-15T00:00:00",
          "2020-01-16T00:00:00",
          "2020-01-17T00:00:00",
          "2020-01-21T00:00:00",
          "2020-01-22T00:00:00",
          "2020-01-23T00:00:00",
          "2020-01-24T00:00:00",
          "2020-01-27T00:00:00",
          "2020-01-28T00:00:00",
          "2020-01-29T00:00:00",
          "2020-01-30T00:00:00",
          "2020-01-31T00:00:00",
          "2020-02-03T00:00:00",
          "2020-02-04T00:00:00",
          "2020-02-05T00:00:00",
          "2020-02-06T00:00:00",
          "2020-02-07T00:00:00",
          "2020-02-10T00:00:00",
          "2020-02-11T00:00:00",
          "2020-02-12T00:00:00",
          "2020-02-13T00:00:00",
          "2020-02-14T00:00:00",
          "2020-02-18T00:00:00",
          "2020-02-19T00:00:00",
          "2020-02-20T00:00:00",
          "2020-02-21T00:00:00",
          "2020-02-24T00:00:00",
          "2020-02-25T00:00:00",
          "2020-02-26T00:00:00",
          "2020-02-27T00:00:00",
          "2020-02-28T00:00:00",
          "2020-03-02T00:00:00",
          "2020-03-03T00:00:00",
          "2020-03-04T00:00:00",
          "2020-03-05T00:00:00",
          "2020-03-06T00:00:00",
          "2020-03-09T00:00:00",
          "2020-03-10T00:00:00",
          "2020-03-11T00:00:00",
          "2020-03-12T00:00:00",
          "2020-03-13T00:00:00",
          "2020-03-16T00:00:00",
          "2020-03-17T00:00:00",
          "2020-03-18T00:00:00",
          "2020-03-19T00:00:00",
          "2020-03-20T00:00:00",
          "2020-03-23T00:00:00",
          "2020-03-24T00:00:00",
          "2020-03-25T00:00:00",
          "2020-03-26T00:00:00",
          "2020-03-27T00:00:00",
          "2020-03-30T00:00:00",
          "2020-03-31T00:00:00",
          "2020-04-01T00:00:00",
          "2020-04-02T00:00:00",
          "2020-04-03T00:00:00",
          "2020-04-06T00:00:00",
          "2020-04-07T00:00:00",
          "2020-04-08T00:00:00",
          "2020-04-09T00:00:00",
          "2020-04-13T00:00:00",
          "2020-04-14T00:00:00",
          "2020-04-15T00:00:00",
          "2020-04-16T00:00:00",
          "2020-04-17T00:00:00",
          "2020-04-20T00:00:00",
          "2020-04-21T00:00:00",
          "2020-04-22T00:00:00",
          "2020-04-23T00:00:00",
          "2020-04-24T00:00:00",
          "2020-04-27T00:00:00",
          "2020-04-28T00:00:00",
          "2020-04-29T00:00:00",
          "2020-04-30T00:00:00",
          "2020-05-01T00:00:00",
          "2020-05-04T00:00:00",
          "2020-05-05T00:00:00",
          "2020-05-06T00:00:00",
          "2020-05-07T00:00:00",
          "2020-05-08T00:00:00",
          "2020-05-11T00:00:00",
          "2020-05-12T00:00:00",
          "2020-05-13T00:00:00",
          "2020-05-14T00:00:00",
          "2020-05-15T00:00:00",
          "2020-05-18T00:00:00",
          "2020-05-19T00:00:00",
          "2020-05-20T00:00:00",
          "2020-05-21T00:00:00",
          "2020-05-22T00:00:00",
          "2020-05-26T00:00:00",
          "2020-05-27T00:00:00",
          "2020-05-28T00:00:00",
          "2020-05-29T00:00:00",
          "2020-06-01T00:00:00",
          "2020-06-02T00:00:00",
          "2020-06-03T00:00:00",
          "2020-06-04T00:00:00",
          "2020-06-05T00:00:00",
          "2020-06-08T00:00:00",
          "2020-06-09T00:00:00",
          "2020-06-10T00:00:00",
          "2020-06-11T00:00:00",
          "2020-06-12T00:00:00",
          "2020-06-15T00:00:00",
          "2020-06-16T00:00:00",
          "2020-06-17T00:00:00",
          "2020-06-18T00:00:00",
          "2020-06-19T00:00:00",
          "2020-06-22T00:00:00",
          "2020-06-23T00:00:00",
          "2020-06-24T00:00:00",
          "2020-06-25T00:00:00",
          "2020-06-26T00:00:00",
          "2020-06-29T00:00:00",
          "2020-06-30T00:00:00",
          "2020-07-01T00:00:00",
          "2020-07-02T00:00:00",
          "2020-07-06T00:00:00",
          "2020-07-07T00:00:00",
          "2020-07-08T00:00:00",
          "2020-07-09T00:00:00",
          "2020-07-10T00:00:00",
          "2020-07-13T00:00:00",
          "2020-07-14T00:00:00",
          "2020-07-15T00:00:00",
          "2020-07-16T00:00:00",
          "2020-07-17T00:00:00",
          "2020-07-20T00:00:00",
          "2020-07-21T00:00:00",
          "2020-07-22T00:00:00",
          "2020-07-23T00:00:00",
          "2020-07-24T00:00:00",
          "2020-07-27T00:00:00",
          "2020-07-28T00:00:00",
          "2020-07-29T00:00:00",
          "2020-07-30T00:00:00",
          "2020-07-31T00:00:00",
          "2020-08-03T00:00:00",
          "2020-08-04T00:00:00",
          "2020-08-05T00:00:00",
          "2020-08-06T00:00:00",
          "2020-08-07T00:00:00",
          "2020-08-10T00:00:00",
          "2020-08-11T00:00:00",
          "2020-08-12T00:00:00",
          "2020-08-13T00:00:00",
          "2020-08-14T00:00:00",
          "2020-08-17T00:00:00",
          "2020-08-18T00:00:00",
          "2020-08-19T00:00:00",
          "2020-08-20T00:00:00",
          "2020-08-21T00:00:00",
          "2020-08-24T00:00:00",
          "2020-08-25T00:00:00",
          "2020-08-26T00:00:00",
          "2020-08-27T00:00:00",
          "2020-08-28T00:00:00",
          "2020-08-31T00:00:00",
          "2020-09-01T00:00:00",
          "2020-09-02T00:00:00",
          "2020-09-03T00:00:00",
          "2020-09-04T00:00:00",
          "2020-09-08T00:00:00",
          "2020-09-09T00:00:00",
          "2020-09-10T00:00:00",
          "2020-09-11T00:00:00",
          "2020-09-14T00:00:00",
          "2020-09-15T00:00:00",
          "2020-09-16T00:00:00",
          "2020-09-17T00:00:00",
          "2020-09-18T00:00:00",
          "2020-09-21T00:00:00",
          "2020-09-22T00:00:00",
          "2020-09-23T00:00:00",
          "2020-09-24T00:00:00",
          "2020-09-25T00:00:00",
          "2020-09-28T00:00:00",
          "2020-09-29T00:00:00",
          "2020-09-30T00:00:00",
          "2020-10-01T00:00:00",
          "2020-10-02T00:00:00",
          "2020-10-05T00:00:00",
          "2020-10-06T00:00:00",
          "2020-10-07T00:00:00",
          "2020-10-08T00:00:00",
          "2020-10-09T00:00:00",
          "2020-10-12T00:00:00",
          "2020-10-13T00:00:00",
          "2020-10-14T00:00:00",
          "2020-10-15T00:00:00",
          "2020-10-16T00:00:00",
          "2020-10-19T00:00:00",
          "2020-10-20T00:00:00",
          "2020-10-21T00:00:00",
          "2020-10-22T00:00:00",
          "2020-10-23T00:00:00",
          "2020-10-26T00:00:00",
          "2020-10-27T00:00:00",
          "2020-10-28T00:00:00",
          "2020-10-29T00:00:00",
          "2020-10-30T00:00:00",
          "2020-11-02T00:00:00",
          "2020-11-03T00:00:00",
          "2020-11-04T00:00:00",
          "2020-11-05T00:00:00",
          "2020-11-06T00:00:00",
          "2020-11-09T00:00:00",
          "2020-11-10T00:00:00",
          "2020-11-11T00:00:00",
          "2020-11-12T00:00:00",
          "2020-11-13T00:00:00",
          "2020-11-16T00:00:00",
          "2020-11-17T00:00:00",
          "2020-11-18T00:00:00",
          "2020-11-19T00:00:00",
          "2020-11-20T00:00:00",
          "2020-11-23T00:00:00",
          "2020-11-24T00:00:00",
          "2020-11-25T00:00:00",
          "2020-11-27T00:00:00",
          "2020-11-30T00:00:00",
          "2020-12-01T00:00:00",
          "2020-12-02T00:00:00",
          "2020-12-03T00:00:00",
          "2020-12-04T00:00:00",
          "2020-12-07T00:00:00",
          "2020-12-08T00:00:00",
          "2020-12-09T00:00:00",
          "2020-12-10T00:00:00",
          "2020-12-11T00:00:00",
          "2020-12-14T00:00:00",
          "2020-12-15T00:00:00",
          "2020-12-16T00:00:00",
          "2020-12-17T00:00:00",
          "2020-12-18T00:00:00",
          "2020-12-21T00:00:00",
          "2020-12-22T00:00:00",
          "2020-12-23T00:00:00",
          "2020-12-24T00:00:00",
          "2020-12-28T00:00:00",
          "2020-12-29T00:00:00",
          "2020-12-30T00:00:00",
          "2020-12-31T00:00:00",
          "2021-01-04T00:00:00",
          "2021-01-05T00:00:00",
          "2021-01-06T00:00:00",
          "2021-01-07T00:00:00",
          "2021-01-08T00:00:00",
          "2021-01-11T00:00:00",
          "2021-01-12T00:00:00",
          "2021-01-13T00:00:00",
          "2021-01-14T00:00:00",
          "2021-01-15T00:00:00",
          "2021-01-19T00:00:00",
          "2021-01-20T00:00:00",
          "2021-01-21T00:00:00",
          "2021-01-22T00:00:00",
          "2021-01-25T00:00:00",
          "2021-01-26T00:00:00",
          "2021-01-27T00:00:00",
          "2021-01-28T00:00:00",
          "2021-01-29T00:00:00",
          "2021-02-01T00:00:00",
          "2021-02-02T00:00:00",
          "2021-02-03T00:00:00",
          "2021-02-04T00:00:00",
          "2021-02-05T00:00:00",
          "2021-02-08T00:00:00",
          "2021-02-09T00:00:00",
          "2021-02-10T00:00:00",
          "2021-02-11T00:00:00",
          "2021-02-12T00:00:00",
          "2021-02-16T00:00:00",
          "2021-02-17T00:00:00",
          "2021-02-18T00:00:00",
          "2021-02-19T00:00:00",
          "2021-02-22T00:00:00",
          "2021-02-23T00:00:00",
          "2021-02-24T00:00:00",
          "2021-02-25T00:00:00",
          "2021-02-26T00:00:00",
          "2021-03-01T00:00:00",
          "2021-03-02T00:00:00",
          "2021-03-03T00:00:00",
          "2021-03-04T00:00:00",
          "2021-03-05T00:00:00",
          "2021-03-08T00:00:00",
          "2021-03-09T00:00:00",
          "2021-03-10T00:00:00",
          "2021-03-11T00:00:00",
          "2021-03-12T00:00:00",
          "2021-03-15T00:00:00",
          "2021-03-16T00:00:00",
          "2021-03-17T00:00:00",
          "2021-03-18T00:00:00",
          "2021-03-19T00:00:00",
          "2021-03-22T00:00:00",
          "2021-03-23T00:00:00",
          "2021-03-24T00:00:00",
          "2021-03-25T00:00:00",
          "2021-03-26T00:00:00",
          "2021-03-29T00:00:00",
          "2021-03-30T00:00:00",
          "2021-03-31T00:00:00",
          "2021-04-01T00:00:00",
          "2021-04-05T00:00:00",
          "2021-04-06T00:00:00",
          "2021-04-07T00:00:00",
          "2021-04-08T00:00:00",
          "2021-04-09T00:00:00",
          "2021-04-12T00:00:00",
          "2021-04-13T00:00:00",
          "2021-04-14T00:00:00",
          "2021-04-15T00:00:00",
          "2021-04-16T00:00:00",
          "2021-04-19T00:00:00",
          "2021-04-20T00:00:00",
          "2021-04-21T00:00:00",
          "2021-04-22T00:00:00",
          "2021-04-23T00:00:00",
          "2021-04-26T00:00:00",
          "2021-04-27T00:00:00",
          "2021-04-28T00:00:00",
          "2021-04-29T00:00:00",
          "2021-04-30T00:00:00",
          "2021-05-03T00:00:00",
          "2021-05-04T00:00:00",
          "2021-05-05T00:00:00",
          "2021-05-06T00:00:00",
          "2021-05-07T00:00:00",
          "2021-05-10T00:00:00",
          "2021-05-11T00:00:00",
          "2021-05-12T00:00:00",
          "2021-05-13T00:00:00",
          "2021-05-14T00:00:00",
          "2021-05-17T00:00:00",
          "2021-05-18T00:00:00",
          "2021-05-19T00:00:00",
          "2021-05-20T00:00:00",
          "2021-05-21T00:00:00",
          "2021-05-24T00:00:00",
          "2021-05-25T00:00:00",
          "2021-05-26T00:00:00",
          "2021-05-27T00:00:00",
          "2021-05-28T00:00:00",
          "2021-06-01T00:00:00",
          "2021-06-02T00:00:00",
          "2021-06-03T00:00:00",
          "2021-06-04T00:00:00",
          "2021-06-07T00:00:00",
          "2021-06-08T00:00:00",
          "2021-06-09T00:00:00",
          "2021-06-10T00:00:00",
          "2021-06-11T00:00:00",
          "2021-06-14T00:00:00",
          "2021-06-15T00:00:00",
          "2021-06-16T00:00:00",
          "2021-06-17T00:00:00",
          "2021-06-18T00:00:00",
          "2021-06-21T00:00:00",
          "2021-06-22T00:00:00",
          "2021-06-23T00:00:00",
          "2021-06-24T00:00:00",
          "2021-06-25T00:00:00",
          "2021-06-28T00:00:00",
          "2021-06-29T00:00:00",
          "2021-06-30T00:00:00",
          "2021-07-01T00:00:00",
          "2021-07-02T00:00:00",
          "2021-07-06T00:00:00",
          "2021-07-07T00:00:00",
          "2021-07-08T00:00:00",
          "2021-07-09T00:00:00",
          "2021-07-12T00:00:00",
          "2021-07-13T00:00:00",
          "2021-07-14T00:00:00",
          "2021-07-15T00:00:00",
          "2021-07-16T00:00:00",
          "2021-07-19T00:00:00",
          "2021-07-20T00:00:00",
          "2021-07-21T00:00:00",
          "2021-07-22T00:00:00",
          "2021-07-23T00:00:00",
          "2021-07-26T00:00:00",
          "2021-07-27T00:00:00",
          "2021-07-28T00:00:00",
          "2021-07-29T00:00:00",
          "2021-07-30T00:00:00",
          "2021-08-02T00:00:00",
          "2021-08-03T00:00:00",
          "2021-08-04T00:00:00",
          "2021-08-05T00:00:00",
          "2021-08-06T00:00:00",
          "2021-08-09T00:00:00",
          "2021-08-10T00:00:00",
          "2021-08-11T00:00:00",
          "2021-08-12T00:00:00",
          "2021-08-13T00:00:00",
          "2021-08-16T00:00:00",
          "2021-08-17T00:00:00",
          "2021-08-18T00:00:00",
          "2021-08-19T00:00:00",
          "2021-08-20T00:00:00",
          "2021-08-23T00:00:00",
          "2021-08-24T00:00:00",
          "2021-08-25T00:00:00",
          "2021-08-26T00:00:00",
          "2021-08-27T00:00:00",
          "2021-08-30T00:00:00",
          "2021-08-31T00:00:00",
          "2021-09-01T00:00:00",
          "2021-09-02T00:00:00",
          "2021-09-03T00:00:00",
          "2021-09-07T00:00:00",
          "2021-09-08T00:00:00",
          "2021-09-09T00:00:00",
          "2021-09-10T00:00:00",
          "2021-09-13T00:00:00",
          "2021-09-14T00:00:00",
          "2021-09-15T00:00:00",
          "2021-09-16T00:00:00",
          "2021-09-17T00:00:00",
          "2021-09-20T00:00:00",
          "2021-09-21T00:00:00",
          "2021-09-22T00:00:00",
          "2021-09-23T00:00:00",
          "2021-09-24T00:00:00",
          "2021-09-27T00:00:00",
          "2021-09-28T00:00:00",
          "2021-09-29T00:00:00",
          "2021-09-30T00:00:00",
          "2021-10-01T00:00:00",
          "2021-10-04T00:00:00",
          "2021-10-05T00:00:00",
          "2021-10-06T00:00:00",
          "2021-10-07T00:00:00",
          "2021-10-08T00:00:00",
          "2021-10-11T00:00:00",
          "2021-10-12T00:00:00",
          "2021-10-13T00:00:00",
          "2021-10-14T00:00:00",
          "2021-10-15T00:00:00",
          "2021-10-18T00:00:00",
          "2021-10-19T00:00:00",
          "2021-10-20T00:00:00",
          "2021-10-21T00:00:00",
          "2021-10-22T00:00:00",
          "2021-10-25T00:00:00",
          "2021-10-26T00:00:00",
          "2021-10-27T00:00:00",
          "2021-10-28T00:00:00",
          "2021-10-29T00:00:00",
          "2021-11-01T00:00:00",
          "2021-11-02T00:00:00",
          "2021-11-03T00:00:00",
          "2021-11-04T00:00:00",
          "2021-11-05T00:00:00",
          "2021-11-08T00:00:00",
          "2021-11-09T00:00:00",
          "2021-11-10T00:00:00",
          "2021-11-11T00:00:00",
          "2021-11-12T00:00:00",
          "2021-11-15T00:00:00",
          "2021-11-16T00:00:00",
          "2021-11-17T00:00:00",
          "2021-11-18T00:00:00",
          "2021-11-19T00:00:00",
          "2021-11-22T00:00:00",
          "2021-11-23T00:00:00",
          "2021-11-24T00:00:00",
          "2021-11-26T00:00:00",
          "2021-11-29T00:00:00",
          "2021-11-30T00:00:00",
          "2021-12-01T00:00:00",
          "2021-12-02T00:00:00",
          "2021-12-03T00:00:00",
          "2021-12-06T00:00:00",
          "2021-12-07T00:00:00",
          "2021-12-08T00:00:00",
          "2021-12-09T00:00:00",
          "2021-12-10T00:00:00",
          "2021-12-13T00:00:00",
          "2021-12-14T00:00:00",
          "2021-12-15T00:00:00",
          "2021-12-16T00:00:00",
          "2021-12-17T00:00:00",
          "2021-12-20T00:00:00",
          "2021-12-21T00:00:00",
          "2021-12-22T00:00:00",
          "2021-12-23T00:00:00",
          "2021-12-27T00:00:00",
          "2021-12-28T00:00:00",
          "2021-12-29T00:00:00",
          "2021-12-30T00:00:00",
          "2021-12-31T00:00:00",
          "2022-01-03T00:00:00",
          "2022-01-04T00:00:00",
          "2022-01-05T00:00:00",
          "2022-01-06T00:00:00",
          "2022-01-07T00:00:00",
          "2022-01-10T00:00:00",
          "2022-01-11T00:00:00",
          "2022-01-12T00:00:00",
          "2022-01-13T00:00:00",
          "2022-01-14T00:00:00",
          "2022-01-18T00:00:00",
          "2022-01-19T00:00:00",
          "2022-01-20T00:00:00",
          "2022-01-21T00:00:00",
          "2022-01-24T00:00:00",
          "2022-01-25T00:00:00",
          "2022-01-26T00:00:00",
          "2022-01-27T00:00:00",
          "2022-01-28T00:00:00",
          "2022-01-31T00:00:00",
          "2022-02-01T00:00:00",
          "2022-02-02T00:00:00",
          "2022-02-03T00:00:00",
          "2022-02-04T00:00:00",
          "2022-02-07T00:00:00",
          "2022-02-08T00:00:00",
          "2022-02-09T00:00:00",
          "2022-02-10T00:00:00",
          "2022-02-11T00:00:00",
          "2022-02-14T00:00:00",
          "2022-02-15T00:00:00",
          "2022-02-16T00:00:00",
          "2022-02-17T00:00:00",
          "2022-02-18T00:00:00",
          "2022-02-22T00:00:00",
          "2022-02-23T00:00:00",
          "2022-02-24T00:00:00",
          "2022-02-25T00:00:00",
          "2022-02-28T00:00:00",
          "2022-03-01T00:00:00",
          "2022-03-02T00:00:00",
          "2022-03-03T00:00:00",
          "2022-03-04T00:00:00",
          "2022-03-07T00:00:00",
          "2022-03-08T00:00:00",
          "2022-03-09T00:00:00",
          "2022-03-10T00:00:00",
          "2022-03-11T00:00:00",
          "2022-03-14T00:00:00",
          "2022-03-15T00:00:00",
          "2022-03-16T00:00:00",
          "2022-03-17T00:00:00",
          "2022-03-18T00:00:00",
          "2022-03-21T00:00:00",
          "2022-03-22T00:00:00",
          "2022-03-23T00:00:00",
          "2022-03-24T00:00:00",
          "2022-03-25T00:00:00",
          "2022-03-28T00:00:00",
          "2022-03-29T00:00:00",
          "2022-03-30T00:00:00",
          "2022-03-31T00:00:00",
          "2022-04-01T00:00:00",
          "2022-04-04T00:00:00",
          "2022-04-05T00:00:00",
          "2022-04-06T00:00:00",
          "2022-04-07T00:00:00",
          "2022-04-08T00:00:00",
          "2022-04-11T00:00:00",
          "2022-04-12T00:00:00",
          "2022-04-13T00:00:00",
          "2022-04-14T00:00:00",
          "2022-04-18T00:00:00",
          "2022-04-19T00:00:00",
          "2022-04-20T00:00:00",
          "2022-04-21T00:00:00",
          "2022-04-22T00:00:00",
          "2022-04-25T00:00:00",
          "2022-04-26T00:00:00",
          "2022-04-27T00:00:00",
          "2022-04-28T00:00:00",
          "2022-04-29T00:00:00",
          "2022-05-02T00:00:00",
          "2022-05-03T00:00:00",
          "2022-05-04T00:00:00",
          "2022-05-05T00:00:00",
          "2022-05-06T00:00:00",
          "2022-05-09T00:00:00",
          "2022-05-10T00:00:00",
          "2022-05-11T00:00:00",
          "2022-05-12T00:00:00",
          "2022-05-13T00:00:00",
          "2022-05-16T00:00:00",
          "2022-05-17T00:00:00",
          "2022-05-18T00:00:00",
          "2022-05-19T00:00:00",
          "2022-05-20T00:00:00",
          "2022-05-23T00:00:00",
          "2022-05-24T00:00:00",
          "2022-05-25T00:00:00",
          "2022-05-26T00:00:00",
          "2022-05-27T00:00:00",
          "2022-05-31T00:00:00",
          "2022-06-01T00:00:00",
          "2022-06-02T00:00:00",
          "2022-06-03T00:00:00",
          "2022-06-06T00:00:00",
          "2022-06-07T00:00:00",
          "2022-06-08T00:00:00",
          "2022-06-09T00:00:00",
          "2022-06-10T00:00:00",
          "2022-06-13T00:00:00",
          "2022-06-14T00:00:00",
          "2022-06-15T00:00:00",
          "2022-06-16T00:00:00",
          "2022-06-17T00:00:00",
          "2022-06-21T00:00:00",
          "2022-06-22T00:00:00",
          "2022-06-23T00:00:00",
          "2022-06-24T00:00:00",
          "2022-06-27T00:00:00",
          "2022-06-28T00:00:00",
          "2022-06-29T00:00:00",
          "2022-06-30T00:00:00",
          "2022-07-01T00:00:00",
          "2022-07-05T00:00:00",
          "2022-07-06T00:00:00",
          "2022-07-07T00:00:00",
          "2022-07-08T00:00:00",
          "2022-07-11T00:00:00",
          "2022-07-12T00:00:00",
          "2022-07-13T00:00:00",
          "2022-07-14T00:00:00",
          "2022-07-15T00:00:00",
          "2022-07-18T00:00:00",
          "2022-07-19T00:00:00",
          "2022-07-20T00:00:00",
          "2022-07-21T00:00:00",
          "2022-07-22T00:00:00",
          "2022-07-25T00:00:00",
          "2022-07-26T00:00:00",
          "2022-07-27T00:00:00",
          "2022-07-28T00:00:00",
          "2022-07-29T00:00:00",
          "2022-08-01T00:00:00",
          "2022-08-02T00:00:00",
          "2022-08-03T00:00:00",
          "2022-08-04T00:00:00",
          "2022-08-05T00:00:00",
          "2022-08-08T00:00:00",
          "2022-08-09T00:00:00",
          "2022-08-10T00:00:00",
          "2022-08-11T00:00:00",
          "2022-08-12T00:00:00",
          "2022-08-15T00:00:00",
          "2022-08-16T00:00:00",
          "2022-08-17T00:00:00",
          "2022-08-18T00:00:00",
          "2022-08-19T00:00:00",
          "2022-08-22T00:00:00",
          "2022-08-23T00:00:00",
          "2022-08-24T00:00:00",
          "2022-08-25T00:00:00",
          "2022-08-26T00:00:00",
          "2022-08-29T00:00:00",
          "2022-08-30T00:00:00",
          "2022-08-31T00:00:00",
          "2022-09-01T00:00:00",
          "2022-09-02T00:00:00",
          "2022-09-06T00:00:00",
          "2022-09-07T00:00:00",
          "2022-09-08T00:00:00",
          "2022-09-09T00:00:00",
          "2022-09-12T00:00:00",
          "2022-09-13T00:00:00",
          "2022-09-14T00:00:00",
          "2022-09-15T00:00:00",
          "2022-09-16T00:00:00",
          "2022-09-19T00:00:00",
          "2022-09-20T00:00:00",
          "2022-09-21T00:00:00",
          "2022-09-22T00:00:00",
          "2022-09-23T00:00:00",
          "2022-09-26T00:00:00",
          "2022-09-27T00:00:00",
          "2022-09-28T00:00:00",
          "2022-09-29T00:00:00",
          "2022-09-30T00:00:00",
          "2022-10-03T00:00:00",
          "2022-10-04T00:00:00",
          "2022-10-05T00:00:00",
          "2022-10-06T00:00:00",
          "2022-10-07T00:00:00",
          "2022-10-10T00:00:00",
          "2022-10-11T00:00:00",
          "2022-10-12T00:00:00",
          "2022-10-13T00:00:00",
          "2022-10-14T00:00:00",
          "2022-10-17T00:00:00",
          "2022-10-18T00:00:00",
          "2022-10-19T00:00:00",
          "2022-10-20T00:00:00",
          "2022-10-21T00:00:00",
          "2022-10-24T00:00:00",
          "2022-10-25T00:00:00",
          "2022-10-26T00:00:00",
          "2022-10-27T00:00:00",
          "2022-10-28T00:00:00",
          "2022-10-31T00:00:00",
          "2022-11-01T00:00:00",
          "2022-11-02T00:00:00",
          "2022-11-03T00:00:00",
          "2022-11-04T00:00:00",
          "2022-11-07T00:00:00",
          "2022-11-08T00:00:00",
          "2022-11-09T00:00:00",
          "2022-11-10T00:00:00",
          "2022-11-11T00:00:00",
          "2022-11-14T00:00:00",
          "2022-11-15T00:00:00",
          "2022-11-16T00:00:00",
          "2022-11-17T00:00:00",
          "2022-11-18T00:00:00",
          "2022-11-21T00:00:00",
          "2022-11-22T00:00:00",
          "2022-11-23T00:00:00",
          "2022-11-25T00:00:00",
          "2022-11-28T00:00:00",
          "2022-11-29T00:00:00",
          "2022-11-30T00:00:00",
          "2022-12-01T00:00:00",
          "2022-12-02T00:00:00",
          "2022-12-05T00:00:00",
          "2022-12-06T00:00:00",
          "2022-12-07T00:00:00",
          "2022-12-08T00:00:00",
          "2022-12-09T00:00:00",
          "2022-12-12T00:00:00",
          "2022-12-13T00:00:00",
          "2022-12-14T00:00:00",
          "2022-12-15T00:00:00",
          "2022-12-16T00:00:00",
          "2022-12-19T00:00:00",
          "2022-12-20T00:00:00",
          "2022-12-21T00:00:00",
          "2022-12-22T00:00:00",
          "2022-12-23T00:00:00",
          "2022-12-27T00:00:00",
          "2022-12-28T00:00:00",
          "2022-12-29T00:00:00",
          "2022-12-30T00:00:00",
          "2023-01-03T00:00:00",
          "2023-01-04T00:00:00",
          "2023-01-05T00:00:00",
          "2023-01-06T00:00:00",
          "2023-01-09T00:00:00",
          "2023-01-10T00:00:00",
          "2023-01-11T00:00:00",
          "2023-01-12T00:00:00",
          "2023-01-13T00:00:00",
          "2023-01-17T00:00:00",
          "2023-01-18T00:00:00",
          "2023-01-19T00:00:00",
          "2023-01-20T00:00:00",
          "2023-01-23T00:00:00",
          "2023-01-24T00:00:00",
          "2023-01-25T00:00:00",
          "2023-01-26T00:00:00",
          "2023-01-27T00:00:00",
          "2023-01-30T00:00:00",
          "2023-01-31T00:00:00",
          "2023-02-01T00:00:00",
          "2023-02-02T00:00:00",
          "2023-02-03T00:00:00",
          "2023-02-06T00:00:00",
          "2023-02-07T00:00:00",
          "2023-02-08T00:00:00",
          "2023-02-09T00:00:00",
          "2023-02-10T00:00:00",
          "2023-02-13T00:00:00",
          "2023-02-14T00:00:00",
          "2023-02-15T00:00:00",
          "2023-02-16T00:00:00",
          "2023-02-17T00:00:00",
          "2023-02-21T00:00:00",
          "2023-02-22T00:00:00",
          "2023-02-23T00:00:00",
          "2023-02-24T00:00:00",
          "2023-02-27T00:00:00",
          "2023-02-28T00:00:00",
          "2023-03-01T00:00:00",
          "2023-03-02T00:00:00",
          "2023-03-03T00:00:00",
          "2023-03-06T00:00:00",
          "2023-03-07T00:00:00",
          "2023-03-08T00:00:00",
          "2023-03-09T00:00:00",
          "2023-03-10T00:00:00",
          "2023-03-13T00:00:00",
          "2023-03-14T00:00:00",
          "2023-03-15T00:00:00",
          "2023-03-16T00:00:00",
          "2023-03-17T00:00:00",
          "2023-03-20T00:00:00",
          "2023-03-21T00:00:00",
          "2023-03-22T00:00:00",
          "2023-03-23T00:00:00",
          "2023-03-24T00:00:00",
          "2023-03-27T00:00:00",
          "2023-03-28T00:00:00",
          "2023-03-29T00:00:00",
          "2023-03-30T00:00:00",
          "2023-03-31T00:00:00",
          "2023-04-03T00:00:00",
          "2023-04-04T00:00:00",
          "2023-04-05T00:00:00",
          "2023-04-06T00:00:00",
          "2023-04-10T00:00:00",
          "2023-04-11T00:00:00",
          "2023-04-12T00:00:00",
          "2023-04-13T00:00:00",
          "2023-04-14T00:00:00",
          "2023-04-17T00:00:00",
          "2023-04-18T00:00:00",
          "2023-04-19T00:00:00",
          "2023-04-20T00:00:00",
          "2023-04-21T00:00:00",
          "2023-04-24T00:00:00",
          "2023-04-25T00:00:00",
          "2023-04-26T00:00:00",
          "2023-04-27T00:00:00",
          "2023-04-28T00:00:00",
          "2023-05-01T00:00:00",
          "2023-05-02T00:00:00",
          "2023-05-03T00:00:00",
          "2023-05-04T00:00:00",
          "2023-05-05T00:00:00",
          "2023-05-08T00:00:00",
          "2023-05-09T00:00:00",
          "2023-05-10T00:00:00",
          "2023-05-11T00:00:00",
          "2023-05-12T00:00:00",
          "2023-05-15T00:00:00",
          "2023-05-16T00:00:00",
          "2023-05-17T00:00:00",
          "2023-05-18T00:00:00",
          "2023-05-19T00:00:00",
          "2023-05-22T00:00:00",
          "2023-05-23T00:00:00",
          "2023-05-24T00:00:00",
          "2023-05-25T00:00:00",
          "2023-05-26T00:00:00",
          "2023-05-30T00:00:00",
          "2023-05-31T00:00:00",
          "2023-06-01T00:00:00",
          "2023-06-02T00:00:00",
          "2023-06-05T00:00:00",
          "2023-06-06T00:00:00",
          "2023-06-07T00:00:00",
          "2023-06-08T00:00:00",
          "2023-06-09T00:00:00",
          "2023-06-12T00:00:00",
          "2023-06-13T00:00:00",
          "2023-06-14T00:00:00",
          "2023-06-15T00:00:00",
          "2023-06-16T00:00:00",
          "2023-06-20T00:00:00",
          "2023-06-21T00:00:00",
          "2023-06-22T00:00:00",
          "2023-06-23T00:00:00",
          "2023-06-26T00:00:00",
          "2023-06-27T00:00:00",
          "2023-06-28T00:00:00",
          "2023-06-29T00:00:00",
          "2023-06-30T00:00:00",
          "2023-07-03T00:00:00",
          "2023-07-05T00:00:00",
          "2023-07-06T00:00:00",
          "2023-07-07T00:00:00",
          "2023-07-10T00:00:00",
          "2023-07-11T00:00:00",
          "2023-07-12T00:00:00",
          "2023-07-13T00:00:00",
          "2023-07-14T00:00:00",
          "2023-07-17T00:00:00",
          "2023-07-18T00:00:00",
          "2023-07-19T00:00:00",
          "2023-07-20T00:00:00",
          "2023-07-21T00:00:00",
          "2023-07-24T00:00:00",
          "2023-07-25T00:00:00",
          "2023-07-26T00:00:00",
          "2023-07-27T00:00:00",
          "2023-07-28T00:00:00",
          "2023-07-31T00:00:00",
          "2023-08-01T00:00:00",
          "2023-08-02T00:00:00",
          "2023-08-03T00:00:00",
          "2023-08-04T00:00:00",
          "2023-08-07T00:00:00",
          "2023-08-08T00:00:00",
          "2023-08-09T00:00:00",
          "2023-08-10T00:00:00",
          "2023-08-11T00:00:00",
          "2023-08-14T00:00:00",
          "2023-08-15T00:00:00",
          "2023-08-16T00:00:00",
          "2023-08-17T00:00:00",
          "2023-08-18T00:00:00",
          "2023-08-21T00:00:00",
          "2023-08-22T00:00:00",
          "2023-08-23T00:00:00",
          "2023-08-24T00:00:00",
          "2023-08-25T00:00:00",
          "2023-08-28T00:00:00",
          "2023-08-29T00:00:00",
          "2023-08-30T00:00:00",
          "2023-08-31T00:00:00",
          "2023-09-01T00:00:00",
          "2023-09-05T00:00:00",
          "2023-09-06T00:00:00",
          "2023-09-07T00:00:00",
          "2023-09-08T00:00:00",
          "2023-09-11T00:00:00",
          "2023-09-12T00:00:00",
          "2023-09-13T00:00:00",
          "2023-09-14T00:00:00",
          "2023-09-15T00:00:00",
          "2023-09-18T00:00:00",
          "2023-09-19T00:00:00",
          "2023-09-20T00:00:00",
          "2023-09-21T00:00:00",
          "2023-09-22T00:00:00",
          "2023-09-25T00:00:00",
          "2023-09-26T00:00:00",
          "2023-09-27T00:00:00",
          "2023-09-28T00:00:00",
          "2023-09-29T00:00:00",
          "2023-10-02T00:00:00",
          "2023-10-03T00:00:00",
          "2023-10-04T00:00:00",
          "2023-10-05T00:00:00",
          "2023-10-06T00:00:00",
          "2023-10-09T00:00:00",
          "2023-10-10T00:00:00",
          "2023-10-11T00:00:00",
          "2023-10-12T00:00:00",
          "2023-10-13T00:00:00",
          "2023-10-16T00:00:00",
          "2023-10-17T00:00:00",
          "2023-10-18T00:00:00",
          "2023-10-19T00:00:00",
          "2023-10-20T00:00:00",
          "2023-10-23T00:00:00",
          "2023-10-24T00:00:00",
          "2023-10-25T00:00:00",
          "2023-10-26T00:00:00",
          "2023-10-27T00:00:00",
          "2023-10-30T00:00:00",
          "2023-10-31T00:00:00",
          "2023-11-01T00:00:00",
          "2023-11-02T00:00:00",
          "2023-11-03T00:00:00",
          "2023-11-06T00:00:00",
          "2023-11-07T00:00:00",
          "2023-11-08T00:00:00",
          "2023-11-09T00:00:00",
          "2023-11-10T00:00:00",
          "2023-11-13T00:00:00",
          "2023-11-14T00:00:00",
          "2023-11-15T00:00:00",
          "2023-11-16T00:00:00",
          "2023-11-17T00:00:00",
          "2023-11-20T00:00:00",
          "2023-11-21T00:00:00",
          "2023-11-22T00:00:00",
          "2023-11-24T00:00:00",
          "2023-11-27T00:00:00",
          "2023-11-28T00:00:00",
          "2023-11-29T00:00:00",
          "2023-11-30T00:00:00",
          "2023-12-01T00:00:00",
          "2023-12-04T00:00:00",
          "2023-12-05T00:00:00",
          "2023-12-06T00:00:00",
          "2023-12-07T00:00:00",
          "2023-12-08T00:00:00",
          "2023-12-11T00:00:00",
          "2023-12-12T00:00:00",
          "2023-12-13T00:00:00",
          "2023-12-14T00:00:00",
          "2023-12-15T00:00:00",
          "2023-12-18T00:00:00",
          "2023-12-19T00:00:00",
          "2023-12-20T00:00:00",
          "2023-12-21T00:00:00",
          "2023-12-22T00:00:00",
          "2023-12-26T00:00:00"
         ],
         "y": [
          1.5246503580021342,
          1.4802833547670498,
          1.4327192811779015,
          1.387092061361999,
          1.3579790186251073,
          1.3184489848639167,
          1.303870643779715,
          1.2877775844442092,
          1.2468440129123985,
          1.2084305585889343,
          1.174045071971473,
          1.140327760746277,
          1.1091706879272876,
          1.0793613913265157,
          1.05258512353551,
          2.277446428649736,
          2.1919784240707307,
          2.1145491242135126,
          2.0326482590222437,
          1.9893144572733137,
          1.9357259829235238,
          1.8689257231405465,
          1.8015894654138487,
          1.735989923295971,
          1.6815925186627096,
          1.6182908561069131,
          1.5637357495302358,
          1.507415448337291,
          1.4566518371571349,
          1.409611218105634,
          1.3835855317973105,
          1.509909459689992,
          1.4583251179658265,
          1.4093830598682402,
          1.3634100332721146,
          1.3367369895585717,
          1.2936227800616742,
          1.2540127440441653,
          1.2154430327008692,
          1.1791245439646494,
          1.1634165424402638,
          1.1307453230993556,
          1.140624917818234,
          1.1091275410793449,
          1.079663268518098,
          1.059756237898277,
          1.036645735450539,
          1.0156163193068413,
          1.014825094763563,
          1.0013209839352293,
          0.9788318231716779,
          0.9581145522341683,
          0.9396867639783121,
          0.9218047505957088,
          0.9050283456721264,
          0.8892088672771433,
          0.8826826095137948,
          0.869406507022366,
          0.8700863153046953,
          0.8613392553939038,
          0.8505146033104756,
          0.9273097472109673,
          0.9188077118434539,
          0.9058380827717661,
          0.9113836144104656,
          0.8975002752907664,
          0.9327237145114602,
          0.946614876680487,
          0.934542110424037,
          0.9286912687639174,
          0.9213168419365253,
          0.9371220640938289,
          0.9232179869649095,
          0.9370126908774813,
          0.9963627979747496,
          0.9775845231447294,
          1.0040510448059523,
          1.007154936718121,
          1.00058991213575,
          0.997648389166246,
          0.9924381013835034,
          0.979894811319017,
          1.0828827286276004,
          1.0579743726994615,
          1.0395022726175724,
          1.046980625466006,
          1.0519880414641996,
          1.0692613325802265,
          1.0444975135751702,
          1.0947660851154504,
          1.0658500313974744,
          1.099350699083032,
          1.1057937779919744,
          1.0765223713555745,
          1.0507960625508572,
          1.0254403640025422,
          1.0096400037292188,
          0.9885439813875049,
          0.9693287166395997,
          0.9738259731255678,
          0.9608324558229078,
          0.9648359177157189,
          0.97450960064761,
          0.9558907427040445,
          0.9496490323131129,
          0.934697716594243,
          0.9676139647654303,
          0.9478435282822928,
          0.9331424395127184,
          0.9650603950916532,
          0.958801075970645,
          0.9400162528817385,
          0.9216963638888443,
          0.9069328284855392,
          0.9136806798803395,
          0.9020329863856359,
          0.8907828550188792,
          0.8763220491953899,
          0.8626895494151927,
          0.8500923909649877,
          0.8384265545372681,
          0.8317573987928101,
          0.8774023103234746,
          0.8686220550616799,
          1.6748039816070233,
          1.6320626677888093,
          1.6056675066643329,
          1.6200133395993952,
          1.5628406723820567,
          1.5119393598586677,
          1.541150938432641,
          1.5129554785334038,
          1.464231209091923,
          1.4498177752176113,
          1.4258859242622832,
          1.4346033417279147,
          1.4017586061040153,
          1.3607063880969987,
          1.3202041630228203,
          1.2830503542151028,
          1.265700736158933,
          1.2847443159202074,
          1.264370086407554,
          1.2296991188141415,
          1.247830132623198,
          1.2121955574989778,
          1.1865123459732627,
          1.2017843953603387,
          1.2153638679912064,
          1.1806090795305944,
          1.1568959487986281,
          1.1246874031222354,
          1.0939765016203036,
          1.0697294931520684,
          1.0595781205941208,
          1.073642095925244,
          1.0466576854168512,
          1.0703192709887042,
          1.0451104494489363,
          1.0303140427820112,
          1.0146747911673628,
          1.0132194643196037,
          1.0004522625427812,
          0.984066776742605,
          0.9627604739438479,
          0.9496811197297366,
          0.9722789214367078,
          0.9557246288260385,
          0.9379751080233798,
          0.9224941427329778,
          0.9092384869467051,
          0.8944463440708849,
          0.880488407711492,
          0.8700549650653252,
          1.1073262701623214,
          1.126704721601698,
          1.135393423533491,
          1.1459531970591563,
          1.122823154244225,
          1.0964702085761289,
          1.071164250616757,
          1.0582428495276721,
          1.0318141951221378,
          1.0102862532320418,
          0.9872602271339365,
          0.9730586443920562,
          1.0436467421836422,
          1.0493209074267273,
          1.0393562019626839,
          1.0687803075744358,
          1.0419079350947176,
          1.0889776530002,
          1.064578228662919,
          1.0411300781213855,
          1.0401249560018977,
          1.0350696972597357,
          1.0398144116297192,
          1.073607018342458,
          1.0993388727179971,
          1.0819878794927564,
          1.0819862677755743,
          1.055099119773416,
          1.0449994784815269,
          1.0220272161398358,
          1.0450857928298745,
          1.0231313011174097,
          0.9989802884126404,
          0.9879129672821715,
          0.966209528299372,
          0.9472734430633496,
          0.9375375159695482,
          0.9195256045453788,
          0.9055141936413379,
          0.9364014595409009,
          0.9183356492053493,
          0.9051492611385425,
          0.9007739819591097,
          0.8853084411695883,
          0.8945983008527385,
          0.8814462740276369,
          0.8718221175726317,
          0.8747006413394133,
          0.8735191473696566,
          0.8626118241266528,
          0.8528986704013438,
          0.8481803574898151,
          0.8367615387309023,
          0.8262319769364541,
          0.8504121975501515,
          0.855438850599473,
          0.8863566913693232,
          0.8728314317207242,
          0.8653174420009085,
          0.861147831061946,
          0.8585005190199677,
          0.8475525860714135,
          0.8363324289551759,
          0.8429205003812017,
          0.8442217845103414,
          0.8333002069298694,
          0.8463214412158949,
          0.835488335820974,
          0.9267720788417717,
          0.9119368874668131,
          0.9285020378252122,
          0.9135870878041973,
          0.9414779648281151,
          0.9237479542565622,
          0.9073059808928874,
          0.8951723976125836,
          0.8964520857059121,
          0.8846846400396237,
          0.8736692718711949,
          0.8656081496446792,
          0.8780848170464471,
          0.8643798925988353,
          1.1434901876875294,
          1.1294193901274463,
          1.0998981544564095,
          1.074631948587486,
          1.0470718149119949,
          1.0222125448239174,
          1.0003904118982891,
          1.0006689582897412,
          0.9811332055708676,
          0.9637069704069505,
          0.946023979907802,
          0.9353295430499522,
          0.9350685230438138,
          0.9207901043506076,
          0.9044437259256661,
          0.9013431906502687,
          1.0715112466771957,
          1.102003252649612,
          1.0777147840310255,
          1.537606388796535,
          1.6149793514055497,
          1.8899687014133857,
          1.8161163880310016,
          2.1225561220893465,
          2.22586005773382,
          2.2274509742541753,
          2.602058865249766,
          2.6220436599114936,
          2.595902680609024,
          3.4063433994078665,
          3.3700408005750258,
          3.5970242671983232,
          3.581118074440804,
          3.6258915091282584,
          3.8279461590284267,
          4.185435634326766,
          4.026815720186838,
          4.027540458521552,
          4.060842354713937,
          4.169956027962501,
          4.066049447275745,
          4.069175068525566,
          3.9096475410859677,
          3.9135871209385487,
          3.8778967093880854,
          3.7064574676268687,
          3.861581693435163,
          3.6913179095735074,
          3.5892319199489067,
          3.478902949361442,
          3.4800436891551123,
          3.4742018973182356,
          3.3851210833431042,
          3.2476486136147966,
          3.1415387640140104,
          3.103098927653942,
          3.029084807985434,
          2.901160188755647,
          2.7958078065515073,
          2.681543352531978,
          2.660126281294161,
          2.5468813885617725,
          2.4457112317933793,
          2.428345643896389,
          2.3322225905531955,
          2.2495988380069734,
          2.1601983291386224,
          2.102209293291974,
          2.01893726104926,
          2.095185093401148,
          2.0337942739031503,
          1.990867245936244,
          1.9714196561867725,
          1.8982234158077347,
          1.841056738879587,
          1.9999256675705737,
          1.9350116941087503,
          1.9898979194202522,
          1.9494998097751723,
          1.8740039220601754,
          1.882482626992112,
          1.83630324958879,
          1.7729320157087345,
          1.7191058623741213,
          1.6601259798181747,
          1.599084089611907,
          1.6183889353152876,
          1.558525423655628,
          1.6067619436765854,
          1.5881563113496828,
          1.587055532211094,
          1.5418558377657998,
          2.133143311048949,
          2.059618642138326,
          2.007763809174941,
          1.9407683312626829,
          1.8669650240219409,
          1.804520969092416,
          1.8074168173202956,
          1.7446328991871891,
          1.6792103386079604,
          1.7016393395205067,
          1.6429077663473914,
          1.745527747597556,
          1.7305836290009593,
          1.6721912780486423,
          1.6105504953350942,
          1.5512219724754255,
          1.5050425031860795,
          1.4516787125084565,
          1.40388610263748,
          1.4952128005827308,
          1.5870098006096853,
          1.5293762419385935,
          1.507567937627808,
          1.4774366472237823,
          1.4325527967889446,
          1.4228217322284424,
          1.423299363375683,
          1.4791870272136571,
          1.5621714892112875,
          1.5096040334114766,
          1.4585857465160383,
          1.407772681642255,
          1.3693477558688287,
          1.326833524416412,
          1.29585450455399,
          1.2770797858223097,
          1.3303056815856644,
          1.3004596431036337,
          1.2849114392958747,
          1.249711710610362,
          1.2200117205567436,
          1.184384256672391,
          1.1533909446887993,
          1.1452833772307625,
          1.1137704316066164,
          1.0838156332283557,
          1.0638645707478513,
          1.0409198177699417,
          1.1468428853419976,
          1.1148225196804191,
          1.085707986379676,
          1.109370781372082,
          1.0803803077141307,
          1.0582575417829008,
          1.0319524828546873,
          1.274178981623865,
          1.2440838599802018,
          1.2242328283292079,
          1.5490333440850166,
          1.5325097038572264,
          1.4987153298358018,
          1.5615010464058978,
          1.5142282050811926,
          1.4638670735270047,
          1.4964477467719248,
          1.443439494837969,
          1.401078700035655,
          1.3602214160772388,
          1.3210652113712396,
          1.279572570296808,
          1.4034540829887427,
          1.3811944682124162,
          1.5130623189413448,
          1.4769999677929522,
          1.4250223960078525,
          1.40062418008144,
          1.3660931449568272,
          1.3365409475708205,
          1.2970004540636046,
          1.2576570552731512,
          1.218515342473552,
          1.2033643380637429,
          1.2029148166949846,
          1.2407357593857855,
          1.212226899418477,
          1.181785858002732,
          1.222233306824227,
          1.186835595068766,
          1.1545336905126158,
          1.1217842822928938,
          1.111113342576906,
          1.1194069281555499,
          1.0975414979320037,
          1.1143885042797772,
          1.0878613139974536,
          1.1172460540191123,
          1.0874080888319364,
          1.4188908822117043,
          1.3703233653561389,
          1.3244896552520697,
          1.3084986604753013,
          1.3126402795194032,
          1.2742012757063572,
          1.2396571976601376,
          1.201636951534912,
          1.897209179840233,
          1.9276753437010572,
          1.8610932244666456,
          1.8081998865199402,
          1.7478988374570914,
          1.6891234942690896,
          1.6278460872497085,
          1.642523814703372,
          1.5969667985208755,
          1.5540674619749197,
          1.497783991149036,
          1.4630857765385414,
          1.4192322503644674,
          1.375595896044399,
          1.369685938960931,
          1.3375003714887,
          1.2937102065484523,
          1.2864541024056033,
          1.3318585339704767,
          1.3477615255812094,
          1.3052293873270895,
          1.264366646127595,
          1.2327186642046855,
          1.201267846963087,
          1.1666320963477321,
          1.1587528489650174,
          1.1820427114534287,
          1.1504074522944183,
          1.1352189580104368,
          1.1837574622625517,
          1.1497322693569985,
          1.1249846711630036,
          1.1041576713647347,
          1.1181163579486129,
          1.0880133330642467,
          1.0666910296012002,
          1.052185099813392,
          1.3792260724677223,
          1.3613104212059164,
          1.5273680812581445,
          1.498755533037008,
          1.5372272035109296,
          1.541904365948733,
          1.4873488994105264,
          1.4348162190187619,
          1.4588427238214647,
          1.4338161636618094,
          1.38843187692449,
          1.3433639085550106,
          1.3045411577542088,
          1.284933054088699,
          1.250856574607408,
          1.234992360178911,
          1.256937768495876,
          1.2523803343524895,
          1.3128085607004139,
          1.2792159437050632,
          1.2587323286658565,
          1.2241691777464752,
          1.1916205956870056,
          1.1945288905616638,
          1.1650931667574866,
          1.137923761995069,
          1.107945838828597,
          1.125835608415318,
          1.108314939054966,
          1.0991591644091685,
          1.072963347139509,
          1.085458376815649,
          1.1059433025048184,
          1.1015868041630446,
          1.0736940134548383,
          1.0482829968554421,
          1.0571252756343343,
          1.1810710199836054,
          1.224952047196457,
          1.1906430316649008,
          1.1577942681128495,
          1.1253054093802184,
          1.163079473280194,
          1.1941965420135894,
          1.2181912720079773,
          1.2095717714481837,
          1.2050060871514914,
          1.1706813581092872,
          1.1770415384425625,
          1.1453478332953464,
          1.113176516808409,
          1.1312647924633674,
          1.1045108440045268,
          1.0776232075666967,
          1.063393988092449,
          1.0375905701931525,
          1.0357865500443744,
          1.1087360477053902,
          1.134836289194414,
          1.1501653461975634,
          1.1375856052443476,
          1.1108295476348056,
          1.0878453240377441,
          1.0711723709566456,
          1.0441400295321557,
          1.0221518728635695,
          0.9981463959815916,
          0.9777145344926677,
          0.9655229665617848,
          0.9455199139429636,
          0.9320381398910718,
          0.9254251661247596,
          0.9172298876845764,
          0.9026222253048133,
          0.9052057426168193,
          0.8937368855291948,
          0.8787518899619805,
          0.9405837079205229,
          0.923499773337813,
          0.9063743728716641,
          0.9351293835733265,
          0.9273266475586792,
          0.9333557954130937,
          0.9298857877150897,
          0.915378164834018,
          0.9266965257074382,
          0.9096890105538871,
          0.9080853607796325,
          0.9322738218144779,
          0.9246854055835539,
          0.9280357817049208,
          0.9143014046891775,
          0.899366524805917,
          0.8958001528781206,
          0.8851065322595362,
          0.8930847032689605,
          0.8785583786565019,
          0.8671627861435087,
          0.8543671247926697,
          0.847276368707827,
          0.8563488729858795,
          0.8500891284951059,
          0.8386044263631108,
          0.8318255766484349,
          0.8228941061663765,
          0.8492802496515108,
          0.843474974077453,
          0.8516132814839584,
          0.8442942287593075,
          0.8506008146873694,
          0.8440594930631278,
          0.8382827964793176,
          0.8308260936550556,
          0.8857887123168534,
          0.8781749379347134,
          1.0127372581077176,
          1.0201303534638615,
          0.9989453323827162,
          0.9980886480240689,
          0.9813520427231635,
          0.9610958184197402,
          0.9420855700817888,
          0.9429484361510393,
          0.9294915546494171,
          0.9153927587889599,
          0.9027176483903909,
          0.8990434513050217,
          0.9021688335670057,
          0.8918965644504284,
          0.8869608920043034,
          0.8724949071056777,
          0.8877181371239513,
          1.0192724605954009,
          0.9973582655402141,
          0.9754430193167181,
          1.0000259140667356,
          0.9778819892229241,
          1.0012831358388479,
          0.9797705757641277,
          0.982454718844022,
          0.9611177688941636,
          0.9438644238585352,
          0.9536483559553971,
          0.9416172973123164,
          0.9234019731915418,
          0.9094734869009057,
          0.8933308912890381,
          0.9487428247570402,
          0.9429126281887414,
          0.9254651194728828,
          0.9081994604271073,
          0.8935273958420948,
          0.8796198382534404,
          0.8663086529040837,
          0.8665642854422718,
          0.8584455543338959,
          0.8516658784929196,
          0.9059584357346614,
          0.9008308498172519,
          0.8916815477966449,
          0.8823347430501145,
          0.8900695729092637,
          0.8754389743602972,
          0.8946139877123007,
          0.8802092501065961,
          0.8923454191671208,
          0.8784537000748396,
          0.8771612062251243,
          0.8636505618461671,
          0.8514803037881017,
          0.9579168607733897,
          0.9877862396913533,
          0.9982015780024531,
          0.9832007512878671,
          0.9792855860522168,
          0.9581483751004438,
          0.9409488713599603,
          0.9534143467968287,
          1.0190192791961545,
          1.011427665693677,
          0.9882302921095497,
          0.9667083768325636,
          0.947957694296455,
          0.9324759678686224,
          0.9250176453558072,
          1.011756111511244,
          0.9971218758259267,
          1.0027131974160903,
          1.0082509219620126,
          0.9854813103055777,
          0.9642828186995991,
          0.9821539002244013,
          0.9628124089424263,
          0.9473939852937759,
          0.9291587376588734,
          0.9116790337911939,
          0.8954173742092216,
          0.892927104876284,
          0.8808432196211956,
          0.9024254264440955,
          0.8903522898850695,
          0.8978358127324962,
          0.8930252168088093,
          0.8786171037147298,
          0.8717850695576713,
          0.8633882259276934,
          0.9613281184885214,
          0.9646926723872464,
          0.9531073937869876,
          0.9390031355168577,
          0.9217396606438694,
          0.9072003669970742,
          0.899013694068324,
          0.8879884868361768,
          0.9028244263893891,
          0.8888257710982609,
          0.8782097305242748,
          0.8644027668267283,
          0.8543806458187125,
          0.842424704704112,
          0.8512051726632385,
          0.851991169691967,
          0.8704967436662053,
          0.8677706459360904,
          0.8651672805966646,
          0.8678220636771898,
          0.8793693400932963,
          1.1438326975507538,
          1.1701330800973548,
          1.3724173482791178,
          1.3289892524144016,
          1.3294475028650543,
          1.3012001560463362,
          1.3945539013156016,
          1.3523736678584068,
          1.311765790275343,
          1.2715603093786945,
          1.3725549204082534,
          1.4625420265616194,
          1.4113832057413185,
          1.3663876303305007,
          1.340569395555496,
          1.3536279113004357,
          1.3120206214725096,
          1.2722515475517524,
          1.2420798474544033,
          1.2038822206644733,
          1.1793619957255963,
          1.1478396542416252,
          1.1155990835942973,
          1.0884734073124105,
          1.0721808550911698,
          1.0449841694509683,
          1.0899650590270185,
          1.0773270392519392,
          1.0588043514260563,
          1.034559320078348,
          1.009959267080042,
          0.9867128282322623,
          0.9653014604374852,
          0.9538533296396738,
          0.951470978645885,
          0.9545115071104514,
          0.9354623362657333,
          0.9242132719555267,
          0.9165327260154709,
          0.9235364712040107,
          0.9090294792265531,
          0.8986925336120223,
          0.8833626444571779,
          0.9851857989749717,
          0.9650976838773739,
          0.9639145233794703,
          0.9717948704775206,
          0.9636491541657305,
          0.9804506453282613,
          0.9882191042800147,
          0.9767924634284645,
          1.0302110517764465,
          1.0126622196711765,
          1.082173119603669,
          1.0634808023540012,
          1.0394717922514294,
          1.0143603063240212,
          1.0948483718330329,
          1.0761645652391807,
          1.0545549784697348,
          1.0654377359723997,
          1.1252816736558875,
          1.4245942812068635,
          1.3974324339707853,
          1.355116139016346,
          1.3203809395770658,
          1.2774723041901253,
          1.2373714979758152,
          1.333969144124477,
          1.6095025428211653,
          1.553931281537074,
          1.5644072143951455,
          1.5075234309607346,
          1.5154391709265094,
          1.5226579210130295,
          1.4701689477111268,
          1.4387215619709448,
          1.388953391035503,
          1.3537062523960723,
          1.3108774047053047,
          1.2800319735493486,
          1.258240399576708,
          1.2357130944419412,
          1.205826897629458,
          1.1725235963370804,
          1.1386402635411255,
          1.1109150903428326,
          1.1279422639736367,
          1.1056908463799626,
          1.0768183173801822,
          1.0734983285096846,
          1.0523025959522132,
          1.0348204954104936,
          1.0100913828216729,
          1.0224739793390212,
          0.9995756582774231,
          0.9814927155857366,
          0.9867182842973663,
          0.9898894411543037,
          1.0175740661741093,
          0.9967714215293181,
          1.0390645658990518,
          1.0417167572345656,
          1.0706563638333457,
          1.0577206933033394,
          1.0536829736065267,
          1.1824000585118575,
          1.2319201796130455,
          1.2036662621947203,
          1.3752600823510173,
          1.3448589934123962,
          1.3024749260825583,
          1.2621429642526398,
          1.24529235646643,
          1.2109078476296034,
          1.1761900839002113,
          1.2222098572299975,
          1.18751636667417,
          1.155387345160649,
          2.020906757973873,
          1.9988915226375514,
          1.9555049309521924,
          2.012495159107718,
          1.978519707898788,
          1.8994559285065846,
          1.8259457570071718,
          1.7595302830700181,
          1.7628862748867633,
          1.700223918010395,
          1.6529459243339866,
          1.6190679490712305,
          1.5600203524139218,
          1.5090732511774987,
          1.4629848133347347,
          1.4754230454697044,
          1.4330343424084084,
          1.384165106263757,
          1.4960046992349285,
          1.4522510542456395,
          1.4245771306926707,
          1.3819227749376928,
          1.4251837905381575,
          1.385868344975137,
          1.3664728654524048,
          1.3906503716046146,
          1.3450982011973613,
          1.325188117611285,
          1.2918484425995405,
          1.2518476695121843,
          1.330126559548023,
          1.3543013425049706,
          1.3098710578339894,
          1.283652826886235,
          1.245125223946643,
          1.2100554928138703,
          1.1795776791009036,
          1.151983267142147,
          1.123031139783881,
          1.0977517100287995,
          1.1211955127318,
          1.1388164892541586,
          1.1798506134541287,
          1.147522745496483,
          1.1177931283111646,
          1.109310064979152,
          1.1440167498087779,
          1.1155135072531877,
          1.1515805692574455,
          1.1193404638921374,
          1.0950779378795013,
          1.1190981704799488,
          1.0924464619055188,
          1.0690752823278142,
          1.0490423027859639,
          1.0369283638048683,
          1.011972651762209,
          1.011490070474696,
          1.0035730190619057,
          0.9950405142268279,
          1.014237128100213,
          1.0074415884981212,
          0.986760594905815,
          0.9715445998388895,
          0.9514830059816324,
          1.0030396942248274,
          0.9803292347602461,
          0.9593174993443842,
          0.9450546847811647,
          1.0988880072212306,
          1.0812784241250433,
          1.0791439499319733,
          1.0670834298591092,
          1.0446595304931081,
          1.074870111250702,
          1.047251769601756,
          1.1076801758168564,
          1.0813981936030617,
          1.0552530654638583,
          1.0304246192068613,
          1.279691965200514,
          1.2443519327180363,
          1.2527434543936973,
          1.2139320423481197,
          1.1892731176219242,
          1.155394302787697,
          1.142703822785295,
          1.1129040056370392,
          1.1184979084057323,
          1.1318635244641484,
          1.2681344382979192,
          1.2517802060851624,
          1.2271602419386507,
          1.2151253561978748,
          1.2059560100089661,
          1.1707010631698767,
          1.162257282813333,
          1.2466844151543999,
          1.2317916097957278,
          1.196064607482267,
          1.160986201081538,
          1.161167655279913,
          1.168028871104608,
          1.2012296140042023,
          1.202400919287866,
          1.206786997012298,
          1.1907483512454036,
          1.2197901916961844,
          1.2390985729783452,
          1.377765960472479,
          1.4445035962988564,
          1.4040954019733012,
          1.3569579287575317,
          1.397259554219606,
          1.4002276917535657,
          1.3561648382195686,
          1.3562476605370015,
          1.3114788851333192,
          1.2820498129248346,
          1.2439532118500463,
          1.2060254196764082,
          1.2204330983120926,
          1.454685620601463,
          1.4129810082513437,
          1.3863061799185072,
          1.3405797189183852,
          1.2977343240487202,
          1.2576751604103664,
          1.2284518363419752,
          1.2426743310412018,
          1.2078256161283034,
          1.1754772762718537,
          1.1414323743932115,
          1.1095457435131175,
          1.0840732248667189,
          1.2105313232700992,
          1.175509872554237,
          1.1582075354042247,
          1.175768522690516,
          1.1419421963477299,
          1.1102391403687786,
          1.0838900749139102,
          1.0884439451319,
          1.1018374929561485,
          1.072471334192202,
          1.0450991539797507,
          1.0755836224440252,
          1.058634220287463,
          1.0322946867530478,
          1.0080455340905008,
          1.0525961217837132,
          1.0432222198174919,
          1.0314308242041672,
          1.0154006453631892,
          1.0233560855004609,
          1.0075229414838396,
          0.9944696294856461,
          1.0069754791561207,
          0.9842369005655125,
          1.0047971547810024,
          1.079316085666731,
          1.0967166134247939,
          1.0857295691297901,
          1.0590937313650342,
          1.081721920359868,
          1.0561311359621868,
          1.0331493721141216,
          1.25040098707312,
          1.2127132892246533,
          1.183542877669182,
          1.1498785855260674,
          1.1231583570199264,
          1.1008957065814409,
          1.0732990640771023,
          1.0550690710408503,
          1.0297732151663108,
          1.0369393400460993,
          1.0118923829426296,
          1.0754141684232408,
          1.0652784813754244,
          1.0454734944128512,
          1.0212077696247557,
          1.0088747390652293,
          0.9871520113023189,
          0.965557992450162,
          1.0188084427298978,
          1.07713037377158,
          1.0494508485904108,
          1.0363115165602934,
          1.070147292609754,
          1.0523435619753356,
          1.0278742564330943,
          1.003845993528072,
          0.9875224504941862,
          0.9660493815685345,
          0.9558133408908767,
          0.9759194588008452,
          1.0124139703443187,
          0.9969693864610788,
          1.0378618959184767,
          1.0241252129420755,
          0.999898200159872,
          1.0075553644278163,
          0.9910763307596553,
          0.9957726657188966,
          0.9763195555570698,
          0.9664451971558127,
          0.9535342306630841,
          0.9425112181034354,
          0.9492494065696838,
          0.9384935055741328,
          0.9281400724024033,
          0.912985779444936,
          0.9729338206731661,
          0.966114973241444,
          0.9459927449756035,
          0.940529880841716,
          0.9222955859443188,
          0.906938771907173,
          0.9002795929448723,
          0.8890363761018878,
          0.9000483053058861,
          0.88459633616184,
          0.87317240061232,
          0.8615325394838924,
          0.8494488470741169,
          0.8533287681365547,
          0.8429818909058867,
          0.8438800953270894,
          0.8330286007944405,
          0.8232802386493984,
          0.8188316346249418,
          0.8098484024170252,
          0.8029625382467672,
          0.7966475539040264,
          0.7992245318039287,
          0.7923542640982006,
          0.8019920025637478,
          0.7952366226192232,
          0.7972438639136021,
          0.8035594817042357,
          0.7956533231389786,
          0.7944798135361283,
          0.7888663157667826,
          0.8103311309828293,
          0.8022631174862522,
          0.8036770880681,
          0.7996740908497154,
          0.7957342197645906,
          0.83770762891036,
          0.8279673981893633,
          0.8310085650755581,
          0.8208193518254842,
          0.961941467142304,
          0.9437093552413411,
          0.9500628257229213,
          0.9519089324646068,
          0.9355581096745923,
          0.9400029357614424,
          0.9237057550865012,
          0.9147873760526298,
          1.0042652992380827,
          0.9967296229269345,
          0.9921735793170972,
          0.9713925595650326,
          0.9519097229101346,
          0.9330560624081861,
          0.9225937772461213,
          0.9091668244262895,
          0.9053298817769283,
          0.9436998398779254,
          0.9385207822550289,
          0.936356320598028,
          0.9197668780818666,
          0.915235643672213,
          0.9370026304027533,
          0.91887301596199,
          0.9043430850037815,
          0.9196518606858798,
          0.9271989907060871,
          0.9121537115867915,
          0.9051071895358508,
          0.9042968479061829,
          0.9103360194787842,
          0.953055807835153,
          0.95369210946103,
          0.937048598097973,
          0.9260644832497712,
          0.9284217587566256,
          0.9335569239358598,
          0.9169710199996725,
          0.9067509273693387,
          0.980285766987946,
          0.9984306029205346,
          0.9759743796165115,
          0.9550812429737113,
          0.9403701852882017,
          0.967701737734036,
          0.9786139291059216,
          0.9575186096804659,
          0.9643839904021243,
          0.9473035966529935,
          0.930349361095204,
          0.9229556322560055,
          0.9803320138901048,
          0.9750520048022449,
          0.9616374583443211,
          0.9426387410984288,
          0.9266279897819798,
          0.9131495881358234,
          0.9057074255700333,
          0.9068661514322179,
          0.8909630621663724,
          0.8769972948326367,
          0.8716466085071697,
          0.8855564057028457,
          0.8858016813713508,
          0.874215283770284,
          0.8641541137702504,
          0.8569958062314224,
          0.846489579297711,
          0.8359275335252094,
          0.8257456006201968,
          0.85856090500048,
          0.8748051249031397,
          0.8868236611862361,
          0.8728691703977566,
          0.8817314350559453,
          0.8677517674039573,
          0.8806228881353716,
          0.9018226178756685,
          0.887318862940943,
          0.8920943975736052,
          0.9060348131475763,
          0.900323404628562,
          0.8870880036182892,
          0.8775695344703087,
          0.9446397925049432,
          0.9260121230177367,
          0.9459713613420252,
          0.9509065474674296,
          0.9671742001368502,
          0.9497359305062278,
          0.9325579073587518,
          0.9426003823836523,
          0.963418787424749,
          0.9450546638070824,
          1.4927926245091157,
          1.4780615171185196,
          1.4320072508435362,
          1.4725807816282932,
          1.4293304816354728,
          1.4410656634539682,
          1.3913121790888454,
          1.363895804376759,
          1.346398193535297,
          1.3021471908706108,
          1.2659434336489936,
          1.2291123591468782,
          1.2134431335795732,
          1.35772801040761,
          1.3267019693300972,
          1.293196921810959,
          1.2757416683858838,
          1.2928088370269997,
          1.2584054535553606,
          1.219711019661495,
          1.211546457397713,
          1.1861240050067878,
          1.1543873221459071,
          1.1241078785135796,
          1.094492089522848,
          1.08310347501261,
          1.055006335402102,
          1.0314269676596064,
          1.008360887392267,
          0.9857399520313647,
          0.964927601988238,
          0.9453455054905322,
          0.9276825987553657,
          0.9436602813952577,
          0.9366694981589007,
          0.9197859401732771,
          0.9047875024432075,
          0.8896901221608932,
          0.8889321457095813,
          0.9132718135395301,
          0.8994361838568669,
          0.8850385706526275,
          0.8710084428539755,
          0.8585793783597624,
          0.847364399077492,
          0.8385521779547926,
          0.8434577674294611,
          0.8440468398745445,
          0.8546273815342902,
          0.9199388348477477,
          0.9232336539023293,
          0.9197306041470908,
          0.9073835204796425,
          1.0270409079070901,
          1.0129306509970581,
          0.9970207848940245
         ]
        },
        {
         "mode": "lines",
         "name": "JPMorgan",
         "type": "scatter",
         "x": [
          "2019-01-25T00:00:00",
          "2019-01-28T00:00:00",
          "2019-01-29T00:00:00",
          "2019-01-30T00:00:00",
          "2019-01-31T00:00:00",
          "2019-02-01T00:00:00",
          "2019-02-04T00:00:00",
          "2019-02-05T00:00:00",
          "2019-02-06T00:00:00",
          "2019-02-07T00:00:00",
          "2019-02-08T00:00:00",
          "2019-02-11T00:00:00",
          "2019-02-12T00:00:00",
          "2019-02-13T00:00:00",
          "2019-02-14T00:00:00",
          "2019-02-15T00:00:00",
          "2019-02-19T00:00:00",
          "2019-02-20T00:00:00",
          "2019-02-21T00:00:00",
          "2019-02-22T00:00:00",
          "2019-02-25T00:00:00",
          "2019-02-26T00:00:00",
          "2019-02-27T00:00:00",
          "2019-02-28T00:00:00",
          "2019-03-01T00:00:00",
          "2019-03-04T00:00:00",
          "2019-03-05T00:00:00",
          "2019-03-06T00:00:00",
          "2019-03-07T00:00:00",
          "2019-03-08T00:00:00",
          "2019-03-11T00:00:00",
          "2019-03-12T00:00:00",
          "2019-03-13T00:00:00",
          "2019-03-14T00:00:00",
          "2019-03-15T00:00:00",
          "2019-03-18T00:00:00",
          "2019-03-19T00:00:00",
          "2019-03-20T00:00:00",
          "2019-03-21T00:00:00",
          "2019-03-22T00:00:00",
          "2019-03-25T00:00:00",
          "2019-03-26T00:00:00",
          "2019-03-27T00:00:00",
          "2019-03-28T00:00:00",
          "2019-03-29T00:00:00",
          "2019-04-01T00:00:00",
          "2019-04-02T00:00:00",
          "2019-04-03T00:00:00",
          "2019-04-04T00:00:00",
          "2019-04-05T00:00:00",
          "2019-04-08T00:00:00",
          "2019-04-09T00:00:00",
          "2019-04-10T00:00:00",
          "2019-04-11T00:00:00",
          "2019-04-12T00:00:00",
          "2019-04-15T00:00:00",
          "2019-04-16T00:00:00",
          "2019-04-17T00:00:00",
          "2019-04-18T00:00:00",
          "2019-04-22T00:00:00",
          "2019-04-23T00:00:00",
          "2019-04-24T00:00:00",
          "2019-04-25T00:00:00",
          "2019-04-26T00:00:00",
          "2019-04-29T00:00:00",
          "2019-04-30T00:00:00",
          "2019-05-01T00:00:00",
          "2019-05-02T00:00:00",
          "2019-05-03T00:00:00",
          "2019-05-06T00:00:00",
          "2019-05-07T00:00:00",
          "2019-05-08T00:00:00",
          "2019-05-09T00:00:00",
          "2019-05-10T00:00:00",
          "2019-05-13T00:00:00",
          "2019-05-14T00:00:00",
          "2019-05-15T00:00:00",
          "2019-05-16T00:00:00",
          "2019-05-17T00:00:00",
          "2019-05-20T00:00:00",
          "2019-05-21T00:00:00",
          "2019-05-22T00:00:00",
          "2019-05-23T00:00:00",
          "2019-05-24T00:00:00",
          "2019-05-28T00:00:00",
          "2019-05-29T00:00:00",
          "2019-05-30T00:00:00",
          "2019-05-31T00:00:00",
          "2019-06-03T00:00:00",
          "2019-06-04T00:00:00",
          "2019-06-05T00:00:00",
          "2019-06-06T00:00:00",
          "2019-06-07T00:00:00",
          "2019-06-10T00:00:00",
          "2019-06-11T00:00:00",
          "2019-06-12T00:00:00",
          "2019-06-13T00:00:00",
          "2019-06-14T00:00:00",
          "2019-06-17T00:00:00",
          "2019-06-18T00:00:00",
          "2019-06-19T00:00:00",
          "2019-06-20T00:00:00",
          "2019-06-21T00:00:00",
          "2019-06-24T00:00:00",
          "2019-06-25T00:00:00",
          "2019-06-26T00:00:00",
          "2019-06-27T00:00:00",
          "2019-06-28T00:00:00",
          "2019-07-01T00:00:00",
          "2019-07-02T00:00:00",
          "2019-07-03T00:00:00",
          "2019-07-05T00:00:00",
          "2019-07-08T00:00:00",
          "2019-07-09T00:00:00",
          "2019-07-10T00:00:00",
          "2019-07-11T00:00:00",
          "2019-07-12T00:00:00",
          "2019-07-15T00:00:00",
          "2019-07-16T00:00:00",
          "2019-07-17T00:00:00",
          "2019-07-18T00:00:00",
          "2019-07-19T00:00:00",
          "2019-07-22T00:00:00",
          "2019-07-23T00:00:00",
          "2019-07-24T00:00:00",
          "2019-07-25T00:00:00",
          "2019-07-26T00:00:00",
          "2019-07-29T00:00:00",
          "2019-07-30T00:00:00",
          "2019-07-31T00:00:00",
          "2019-08-01T00:00:00",
          "2019-08-02T00:00:00",
          "2019-08-05T00:00:00",
          "2019-08-06T00:00:00",
          "2019-08-07T00:00:00",
          "2019-08-08T00:00:00",
          "2019-08-09T00:00:00",
          "2019-08-12T00:00:00",
          "2019-08-13T00:00:00",
          "2019-08-14T00:00:00",
          "2019-08-15T00:00:00",
          "2019-08-16T00:00:00",
          "2019-08-19T00:00:00",
          "2019-08-20T00:00:00",
          "2019-08-21T00:00:00",
          "2019-08-22T00:00:00",
          "2019-08-23T00:00:00",
          "2019-08-26T00:00:00",
          "2019-08-27T00:00:00",
          "2019-08-28T00:00:00",
          "2019-08-29T00:00:00",
          "2019-08-30T00:00:00",
          "2019-09-03T00:00:00",
          "2019-09-04T00:00:00",
          "2019-09-05T00:00:00",
          "2019-09-06T00:00:00",
          "2019-09-09T00:00:00",
          "2019-09-10T00:00:00",
          "2019-09-11T00:00:00",
          "2019-09-12T00:00:00",
          "2019-09-13T00:00:00",
          "2019-09-16T00:00:00",
          "2019-09-17T00:00:00",
          "2019-09-18T00:00:00",
          "2019-09-19T00:00:00",
          "2019-09-20T00:00:00",
          "2019-09-23T00:00:00",
          "2019-09-24T00:00:00",
          "2019-09-25T00:00:00",
          "2019-09-26T00:00:00",
          "2019-09-27T00:00:00",
          "2019-09-30T00:00:00",
          "2019-10-01T00:00:00",
          "2019-10-02T00:00:00",
          "2019-10-03T00:00:00",
          "2019-10-04T00:00:00",
          "2019-10-07T00:00:00",
          "2019-10-08T00:00:00",
          "2019-10-09T00:00:00",
          "2019-10-10T00:00:00",
          "2019-10-11T00:00:00",
          "2019-10-14T00:00:00",
          "2019-10-15T00:00:00",
          "2019-10-16T00:00:00",
          "2019-10-17T00:00:00",
          "2019-10-18T00:00:00",
          "2019-10-21T00:00:00",
          "2019-10-22T00:00:00",
          "2019-10-23T00:00:00",
          "2019-10-24T00:00:00",
          "2019-10-25T00:00:00",
          "2019-10-28T00:00:00",
          "2019-10-29T00:00:00",
          "2019-10-30T00:00:00",
          "2019-10-31T00:00:00",
          "2019-11-01T00:00:00",
          "2019-11-04T00:00:00",
          "2019-11-05T00:00:00",
          "2019-11-06T00:00:00",
          "2019-11-07T00:00:00",
          "2019-11-08T00:00:00",
          "2019-11-11T00:00:00",
          "2019-11-12T00:00:00",
          "2019-11-13T00:00:00",
          "2019-11-14T00:00:00",
          "2019-11-15T00:00:00",
          "2019-11-18T00:00:00",
          "2019-11-19T00:00:00",
          "2019-11-20T00:00:00",
          "2019-11-21T00:00:00",
          "2019-11-22T00:00:00",
          "2019-11-25T00:00:00",
          "2019-11-26T00:00:00",
          "2019-11-27T00:00:00",
          "2019-11-29T00:00:00",
          "2019-12-02T00:00:00",
          "2019-12-03T00:00:00",
          "2019-12-04T00:00:00",
          "2019-12-05T00:00:00",
          "2019-12-06T00:00:00",
          "2019-12-09T00:00:00",
          "2019-12-10T00:00:00",
          "2019-12-11T00:00:00",
          "2019-12-12T00:00:00",
          "2019-12-13T00:00:00",
          "2019-12-16T00:00:00",
          "2019-12-17T00:00:00",
          "2019-12-18T00:00:00",
          "2019-12-19T00:00:00",
          "2019-12-20T00:00:00",
          "2019-12-23T00:00:00",
          "2019-12-24T00:00:00",
          "2019-12-26T00:00:00",
          "2019-12-27T00:00:00",
          "2019-12-30T00:00:00",
          "2019-12-31T00:00:00",
          "2020-01-02T00:00:00",
          "2020-01-03T00:00:00",
          "2020-01-06T00:00:00",
          "2020-01-07T00:00:00",
          "2020-01-08T00:00:00",
          "2020-01-09T00:00:00",
          "2020-01-10T00:00:00",
          "2020-01-13T00:00:00",
          "2020-01-14T00:00:00",
          "2020-01-15T00:00:00",
          "2020-01-16T00:00:00",
          "2020-01-17T00:00:00",
          "2020-01-21T00:00:00",
          "2020-01-22T00:00:00",
          "2020-01-23T00:00:00",
          "2020-01-24T00:00:00",
          "2020-01-27T00:00:00",
          "2020-01-28T00:00:00",
          "2020-01-29T00:00:00",
          "2020-01-30T00:00:00",
          "2020-01-31T00:00:00",
          "2020-02-03T00:00:00",
          "2020-02-04T00:00:00",
          "2020-02-05T00:00:00",
          "2020-02-06T00:00:00",
          "2020-02-07T00:00:00",
          "2020-02-10T00:00:00",
          "2020-02-11T00:00:00",
          "2020-02-12T00:00:00",
          "2020-02-13T00:00:00",
          "2020-02-14T00:00:00",
          "2020-02-18T00:00:00",
          "2020-02-19T00:00:00",
          "2020-02-20T00:00:00",
          "2020-02-21T00:00:00",
          "2020-02-24T00:00:00",
          "2020-02-25T00:00:00",
          "2020-02-26T00:00:00",
          "2020-02-27T00:00:00",
          "2020-02-28T00:00:00",
          "2020-03-02T00:00:00",
          "2020-03-03T00:00:00",
          "2020-03-04T00:00:00",
          "2020-03-05T00:00:00",
          "2020-03-06T00:00:00",
          "2020-03-09T00:00:00",
          "2020-03-10T00:00:00",
          "2020-03-11T00:00:00",
          "2020-03-12T00:00:00",
          "2020-03-13T00:00:00",
          "2020-03-16T00:00:00",
          "2020-03-17T00:00:00",
          "2020-03-18T00:00:00",
          "2020-03-19T00:00:00",
          "2020-03-20T00:00:00",
          "2020-03-23T00:00:00",
          "2020-03-24T00:00:00",
          "2020-03-25T00:00:00",
          "2020-03-26T00:00:00",
          "2020-03-27T00:00:00",
          "2020-03-30T00:00:00",
          "2020-03-31T00:00:00",
          "2020-04-01T00:00:00",
          "2020-04-02T00:00:00",
          "2020-04-03T00:00:00",
          "2020-04-06T00:00:00",
          "2020-04-07T00:00:00",
          "2020-04-08T00:00:00",
          "2020-04-09T00:00:00",
          "2020-04-13T00:00:00",
          "2020-04-14T00:00:00",
          "2020-04-15T00:00:00",
          "2020-04-16T00:00:00",
          "2020-04-17T00:00:00",
          "2020-04-20T00:00:00",
          "2020-04-21T00:00:00",
          "2020-04-22T00:00:00",
          "2020-04-23T00:00:00",
          "2020-04-24T00:00:00",
          "2020-04-27T00:00:00",
          "2020-04-28T00:00:00",
          "2020-04-29T00:00:00",
          "2020-04-30T00:00:00",
          "2020-05-01T00:00:00",
          "2020-05-04T00:00:00",
          "2020-05-05T00:00:00",
          "2020-05-06T00:00:00",
          "2020-05-07T00:00:00",
          "2020-05-08T00:00:00",
          "2020-05-11T00:00:00",
          "2020-05-12T00:00:00",
          "2020-05-13T00:00:00",
          "2020-05-14T00:00:00",
          "2020-05-15T00:00:00",
          "2020-05-18T00:00:00",
          "2020-05-19T00:00:00",
          "2020-05-20T00:00:00",
          "2020-05-21T00:00:00",
          "2020-05-22T00:00:00",
          "2020-05-26T00:00:00",
          "2020-05-27T00:00:00",
          "2020-05-28T00:00:00",
          "2020-05-29T00:00:00",
          "2020-06-01T00:00:00",
          "2020-06-02T00:00:00",
          "2020-06-03T00:00:00",
          "2020-06-04T00:00:00",
          "2020-06-05T00:00:00",
          "2020-06-08T00:00:00",
          "2020-06-09T00:00:00",
          "2020-06-10T00:00:00",
          "2020-06-11T00:00:00",
          "2020-06-12T00:00:00",
          "2020-06-15T00:00:00",
          "2020-06-16T00:00:00",
          "2020-06-17T00:00:00",
          "2020-06-18T00:00:00",
          "2020-06-19T00:00:00",
          "2020-06-22T00:00:00",
          "2020-06-23T00:00:00",
          "2020-06-24T00:00:00",
          "2020-06-25T00:00:00",
          "2020-06-26T00:00:00",
          "2020-06-29T00:00:00",
          "2020-06-30T00:00:00",
          "2020-07-01T00:00:00",
          "2020-07-02T00:00:00",
          "2020-07-06T00:00:00",
          "2020-07-07T00:00:00",
          "2020-07-08T00:00:00",
          "2020-07-09T00:00:00",
          "2020-07-10T00:00:00",
          "2020-07-13T00:00:00",
          "2020-07-14T00:00:00",
          "2020-07-15T00:00:00",
          "2020-07-16T00:00:00",
          "2020-07-17T00:00:00",
          "2020-07-20T00:00:00",
          "2020-07-21T00:00:00",
          "2020-07-22T00:00:00",
          "2020-07-23T00:00:00",
          "2020-07-24T00:00:00",
          "2020-07-27T00:00:00",
          "2020-07-28T00:00:00",
          "2020-07-29T00:00:00",
          "2020-07-30T00:00:00",
          "2020-07-31T00:00:00",
          "2020-08-03T00:00:00",
          "2020-08-04T00:00:00",
          "2020-08-05T00:00:00",
          "2020-08-06T00:00:00",
          "2020-08-07T00:00:00",
          "2020-08-10T00:00:00",
          "2020-08-11T00:00:00",
          "2020-08-12T00:00:00",
          "2020-08-13T00:00:00",
          "2020-08-14T00:00:00",
          "2020-08-17T00:00:00",
          "2020-08-18T00:00:00",
          "2020-08-19T00:00:00",
          "2020-08-20T00:00:00",
          "2020-08-21T00:00:00",
          "2020-08-24T00:00:00",
          "2020-08-25T00:00:00",
          "2020-08-26T00:00:00",
          "2020-08-27T00:00:00",
          "2020-08-28T00:00:00",
          "2020-08-31T00:00:00",
          "2020-09-01T00:00:00",
          "2020-09-02T00:00:00",
          "2020-09-03T00:00:00",
          "2020-09-04T00:00:00",
          "2020-09-08T00:00:00",
          "2020-09-09T00:00:00",
          "2020-09-10T00:00:00",
          "2020-09-11T00:00:00",
          "2020-09-14T00:00:00",
          "2020-09-15T00:00:00",
          "2020-09-16T00:00:00",
          "2020-09-17T00:00:00",
          "2020-09-18T00:00:00",
          "2020-09-21T00:00:00",
          "2020-09-22T00:00:00",
          "2020-09-23T00:00:00",
          "2020-09-24T00:00:00",
          "2020-09-25T00:00:00",
          "2020-09-28T00:00:00",
          "2020-09-29T00:00:00",
          "2020-09-30T00:00:00",
          "2020-10-01T00:00:00",
          "2020-10-02T00:00:00",
          "2020-10-05T00:00:00",
          "2020-10-06T00:00:00",
          "2020-10-07T00:00:00",
          "2020-10-08T00:00:00",
          "2020-10-09T00:00:00",
          "2020-10-12T00:00:00",
          "2020-10-13T00:00:00",
          "2020-10-14T00:00:00",
          "2020-10-15T00:00:00",
          "2020-10-16T00:00:00",
          "2020-10-19T00:00:00",
          "2020-10-20T00:00:00",
          "2020-10-21T00:00:00",
          "2020-10-22T00:00:00",
          "2020-10-23T00:00:00",
          "2020-10-26T00:00:00",
          "2020-10-27T00:00:00",
          "2020-10-28T00:00:00",
          "2020-10-29T00:00:00",
          "2020-10-30T00:00:00",
          "2020-11-02T00:00:00",
          "2020-11-03T00:00:00",
          "2020-11-04T00:00:00",
          "2020-11-05T00:00:00",
          "2020-11-06T00:00:00",
          "2020-11-09T00:00:00",
          "2020-11-10T00:00:00",
          "2020-11-11T00:00:00",
          "2020-11-12T00:00:00",
          "2020-11-13T00:00:00",
          "2020-11-16T00:00:00",
          "2020-11-17T00:00:00",
          "2020-11-18T00:00:00",
          "2020-11-19T00:00:00",
          "2020-11-20T00:00:00",
          "2020-11-23T00:00:00",
          "2020-11-24T00:00:00",
          "2020-11-25T00:00:00",
          "2020-11-27T00:00:00",
          "2020-11-30T00:00:00",
          "2020-12-01T00:00:00",
          "2020-12-02T00:00:00",
          "2020-12-03T00:00:00",
          "2020-12-04T00:00:00",
          "2020-12-07T00:00:00",
          "2020-12-08T00:00:00",
          "2020-12-09T00:00:00",
          "2020-12-10T00:00:00",
          "2020-12-11T00:00:00",
          "2020-12-14T00:00:00",
          "2020-12-15T00:00:00",
          "2020-12-16T00:00:00",
          "2020-12-17T00:00:00",
          "2020-12-18T00:00:00",
          "2020-12-21T00:00:00",
          "2020-12-22T00:00:00",
          "2020-12-23T00:00:00",
          "2020-12-24T00:00:00",
          "2020-12-28T00:00:00",
          "2020-12-29T00:00:00",
          "2020-12-30T00:00:00",
          "2020-12-31T00:00:00",
          "2021-01-04T00:00:00",
          "2021-01-05T00:00:00",
          "2021-01-06T00:00:00",
          "2021-01-07T00:00:00",
          "2021-01-08T00:00:00",
          "2021-01-11T00:00:00",
          "2021-01-12T00:00:00",
          "2021-01-13T00:00:00",
          "2021-01-14T00:00:00",
          "2021-01-15T00:00:00",
          "2021-01-19T00:00:00",
          "2021-01-20T00:00:00",
          "2021-01-21T00:00:00",
          "2021-01-22T00:00:00",
          "2021-01-25T00:00:00",
          "2021-01-26T00:00:00",
          "2021-01-27T00:00:00",
          "2021-01-28T00:00:00",
          "2021-01-29T00:00:00",
          "2021-02-01T00:00:00",
          "2021-02-02T00:00:00",
          "2021-02-03T00:00:00",
          "2021-02-04T00:00:00",
          "2021-02-05T00:00:00",
          "2021-02-08T00:00:00",
          "2021-02-09T00:00:00",
          "2021-02-10T00:00:00",
          "2021-02-11T00:00:00",
          "2021-02-12T00:00:00",
          "2021-02-16T00:00:00",
          "2021-02-17T00:00:00",
          "2021-02-18T00:00:00",
          "2021-02-19T00:00:00",
          "2021-02-22T00:00:00",
          "2021-02-23T00:00:00",
          "2021-02-24T00:00:00",
          "2021-02-25T00:00:00",
          "2021-02-26T00:00:00",
          "2021-03-01T00:00:00",
          "2021-03-02T00:00:00",
          "2021-03-03T00:00:00",
          "2021-03-04T00:00:00",
          "2021-03-05T00:00:00",
          "2021-03-08T00:00:00",
          "2021-03-09T00:00:00",
          "2021-03-10T00:00:00",
          "2021-03-11T00:00:00",
          "2021-03-12T00:00:00",
          "2021-03-15T00:00:00",
          "2021-03-16T00:00:00",
          "2021-03-17T00:00:00",
          "2021-03-18T00:00:00",
          "2021-03-19T00:00:00",
          "2021-03-22T00:00:00",
          "2021-03-23T00:00:00",
          "2021-03-24T00:00:00",
          "2021-03-25T00:00:00",
          "2021-03-26T00:00:00",
          "2021-03-29T00:00:00",
          "2021-03-30T00:00:00",
          "2021-03-31T00:00:00",
          "2021-04-01T00:00:00",
          "2021-04-05T00:00:00",
          "2021-04-06T00:00:00",
          "2021-04-07T00:00:00",
          "2021-04-08T00:00:00",
          "2021-04-09T00:00:00",
          "2021-04-12T00:00:00",
          "2021-04-13T00:00:00",
          "2021-04-14T00:00:00",
          "2021-04-15T00:00:00",
          "2021-04-16T00:00:00",
          "2021-04-19T00:00:00",
          "2021-04-20T00:00:00",
          "2021-04-21T00:00:00",
          "2021-04-22T00:00:00",
          "2021-04-23T00:00:00",
          "2021-04-26T00:00:00",
          "2021-04-27T00:00:00",
          "2021-04-28T00:00:00",
          "2021-04-29T00:00:00",
          "2021-04-30T00:00:00",
          "2021-05-03T00:00:00",
          "2021-05-04T00:00:00",
          "2021-05-05T00:00:00",
          "2021-05-06T00:00:00",
          "2021-05-07T00:00:00",
          "2021-05-10T00:00:00",
          "2021-05-11T00:00:00",
          "2021-05-12T00:00:00",
          "2021-05-13T00:00:00",
          "2021-05-14T00:00:00",
          "2021-05-17T00:00:00",
          "2021-05-18T00:00:00",
          "2021-05-19T00:00:00",
          "2021-05-20T00:00:00",
          "2021-05-21T00:00:00",
          "2021-05-24T00:00:00",
          "2021-05-25T00:00:00",
          "2021-05-26T00:00:00",
          "2021-05-27T00:00:00",
          "2021-05-28T00:00:00",
          "2021-06-01T00:00:00",
          "2021-06-02T00:00:00",
          "2021-06-03T00:00:00",
          "2021-06-04T00:00:00",
          "2021-06-07T00:00:00",
          "2021-06-08T00:00:00",
          "2021-06-09T00:00:00",
          "2021-06-10T00:00:00",
          "2021-06-11T00:00:00",
          "2021-06-14T00:00:00",
          "2021-06-15T00:00:00",
          "2021-06-16T00:00:00",
          "2021-06-17T00:00:00",
          "2021-06-18T00:00:00",
          "2021-06-21T00:00:00",
          "2021-06-22T00:00:00",
          "2021-06-23T00:00:00",
          "2021-06-24T00:00:00",
          "2021-06-25T00:00:00",
          "2021-06-28T00:00:00",
          "2021-06-29T00:00:00",
          "2021-06-30T00:00:00",
          "2021-07-01T00:00:00",
          "2021-07-02T00:00:00",
          "2021-07-06T00:00:00",
          "2021-07-07T00:00:00",
          "2021-07-08T00:00:00",
          "2021-07-09T00:00:00",
          "2021-07-12T00:00:00",
          "2021-07-13T00:00:00",
          "2021-07-14T00:00:00",
          "2021-07-15T00:00:00",
          "2021-07-16T00:00:00",
          "2021-07-19T00:00:00",
          "2021-07-20T00:00:00",
          "2021-07-21T00:00:00",
          "2021-07-22T00:00:00",
          "2021-07-23T00:00:00",
          "2021-07-26T00:00:00",
          "2021-07-27T00:00:00",
          "2021-07-28T00:00:00",
          "2021-07-29T00:00:00",
          "2021-07-30T00:00:00",
          "2021-08-02T00:00:00",
          "2021-08-03T00:00:00",
          "2021-08-04T00:00:00",
          "2021-08-05T00:00:00",
          "2021-08-06T00:00:00",
          "2021-08-09T00:00:00",
          "2021-08-10T00:00:00",
          "2021-08-11T00:00:00",
          "2021-08-12T00:00:00",
          "2021-08-13T00:00:00",
          "2021-08-16T00:00:00",
          "2021-08-17T00:00:00",
          "2021-08-18T00:00:00",
          "2021-08-19T00:00:00",
          "2021-08-20T00:00:00",
          "2021-08-23T00:00:00",
          "2021-08-24T00:00:00",
          "2021-08-25T00:00:00",
          "2021-08-26T00:00:00",
          "2021-08-27T00:00:00",
          "2021-08-30T00:00:00",
          "2021-08-31T00:00:00",
          "2021-09-01T00:00:00",
          "2021-09-02T00:00:00",
          "2021-09-03T00:00:00",
          "2021-09-07T00:00:00",
          "2021-09-08T00:00:00",
          "2021-09-09T00:00:00",
          "2021-09-10T00:00:00",
          "2021-09-13T00:00:00",
          "2021-09-14T00:00:00",
          "2021-09-15T00:00:00",
          "2021-09-16T00:00:00",
          "2021-09-17T00:00:00",
          "2021-09-20T00:00:00",
          "2021-09-21T00:00:00",
          "2021-09-22T00:00:00",
          "2021-09-23T00:00:00",
          "2021-09-24T00:00:00",
          "2021-09-27T00:00:00",
          "2021-09-28T00:00:00",
          "2021-09-29T00:00:00",
          "2021-09-30T00:00:00",
          "2021-10-01T00:00:00",
          "2021-10-04T00:00:00",
          "2021-10-05T00:00:00",
          "2021-10-06T00:00:00",
          "2021-10-07T00:00:00",
          "2021-10-08T00:00:00",
          "2021-10-11T00:00:00",
          "2021-10-12T00:00:00",
          "2021-10-13T00:00:00",
          "2021-10-14T00:00:00",
          "2021-10-15T00:00:00",
          "2021-10-18T00:00:00",
          "2021-10-19T00:00:00",
          "2021-10-20T00:00:00",
          "2021-10-21T00:00:00",
          "2021-10-22T00:00:00",
          "2021-10-25T00:00:00",
          "2021-10-26T00:00:00",
          "2021-10-27T00:00:00",
          "2021-10-28T00:00:00",
          "2021-10-29T00:00:00",
          "2021-11-01T00:00:00",
          "2021-11-02T00:00:00",
          "2021-11-03T00:00:00",
          "2021-11-04T00:00:00",
          "2021-11-05T00:00:00",
          "2021-11-08T00:00:00",
          "2021-11-09T00:00:00",
          "2021-11-10T00:00:00",
          "2021-11-11T00:00:00",
          "2021-11-12T00:00:00",
          "2021-11-15T00:00:00",
          "2021-11-16T00:00:00",
          "2021-11-17T00:00:00",
          "2021-11-18T00:00:00",
          "2021-11-19T00:00:00",
          "2021-11-22T00:00:00",
          "2021-11-23T00:00:00",
          "2021-11-24T00:00:00",
          "2021-11-26T00:00:00",
          "2021-11-29T00:00:00",
          "2021-11-30T00:00:00",
          "2021-12-01T00:00:00",
          "2021-12-02T00:00:00",
          "2021-12-03T00:00:00",
          "2021-12-06T00:00:00",
          "2021-12-07T00:00:00",
          "2021-12-08T00:00:00",
          "2021-12-09T00:00:00",
          "2021-12-10T00:00:00",
          "2021-12-13T00:00:00",
          "2021-12-14T00:00:00",
          "2021-12-15T00:00:00",
          "2021-12-16T00:00:00",
          "2021-12-17T00:00:00",
          "2021-12-20T00:00:00",
          "2021-12-21T00:00:00",
          "2021-12-22T00:00:00",
          "2021-12-23T00:00:00",
          "2021-12-27T00:00:00",
          "2021-12-28T00:00:00",
          "2021-12-29T00:00:00",
          "2021-12-30T00:00:00",
          "2021-12-31T00:00:00",
          "2022-01-03T00:00:00",
          "2022-01-04T00:00:00",
          "2022-01-05T00:00:00",
          "2022-01-06T00:00:00",
          "2022-01-07T00:00:00",
          "2022-01-10T00:00:00",
          "2022-01-11T00:00:00",
          "2022-01-12T00:00:00",
          "2022-01-13T00:00:00",
          "2022-01-14T00:00:00",
          "2022-01-18T00:00:00",
          "2022-01-19T00:00:00",
          "2022-01-20T00:00:00",
          "2022-01-21T00:00:00",
          "2022-01-24T00:00:00",
          "2022-01-25T00:00:00",
          "2022-01-26T00:00:00",
          "2022-01-27T00:00:00",
          "2022-01-28T00:00:00",
          "2022-01-31T00:00:00",
          "2022-02-01T00:00:00",
          "2022-02-02T00:00:00",
          "2022-02-03T00:00:00",
          "2022-02-04T00:00:00",
          "2022-02-07T00:00:00",
          "2022-02-08T00:00:00",
          "2022-02-09T00:00:00",
          "2022-02-10T00:00:00",
          "2022-02-11T00:00:00",
          "2022-02-14T00:00:00",
          "2022-02-15T00:00:00",
          "2022-02-16T00:00:00",
          "2022-02-17T00:00:00",
          "2022-02-18T00:00:00",
          "2022-02-22T00:00:00",
          "2022-02-23T00:00:00",
          "2022-02-24T00:00:00",
          "2022-02-25T00:00:00",
          "2022-02-28T00:00:00",
          "2022-03-01T00:00:00",
          "2022-03-02T00:00:00",
          "2022-03-03T00:00:00",
          "2022-03-04T00:00:00",
          "2022-03-07T00:00:00",
          "2022-03-08T00:00:00",
          "2022-03-09T00:00:00",
          "2022-03-10T00:00:00",
          "2022-03-11T00:00:00",
          "2022-03-14T00:00:00",
          "2022-03-15T00:00:00",
          "2022-03-16T00:00:00",
          "2022-03-17T00:00:00",
          "2022-03-18T00:00:00",
          "2022-03-21T00:00:00",
          "2022-03-22T00:00:00",
          "2022-03-23T00:00:00",
          "2022-03-24T00:00:00",
          "2022-03-25T00:00:00",
          "2022-03-28T00:00:00",
          "2022-03-29T00:00:00",
          "2022-03-30T00:00:00",
          "2022-03-31T00:00:00",
          "2022-04-01T00:00:00",
          "2022-04-04T00:00:00",
          "2022-04-05T00:00:00",
          "2022-04-06T00:00:00",
          "2022-04-07T00:00:00",
          "2022-04-08T00:00:00",
          "2022-04-11T00:00:00",
          "2022-04-12T00:00:00",
          "2022-04-13T00:00:00",
          "2022-04-14T00:00:00",
          "2022-04-18T00:00:00",
          "2022-04-19T00:00:00",
          "2022-04-20T00:00:00",
          "2022-04-21T00:00:00",
          "2022-04-22T00:00:00",
          "2022-04-25T00:00:00",
          "2022-04-26T00:00:00",
          "2022-04-27T00:00:00",
          "2022-04-28T00:00:00",
          "2022-04-29T00:00:00",
          "2022-05-02T00:00:00",
          "2022-05-03T00:00:00",
          "2022-05-04T00:00:00",
          "2022-05-05T00:00:00",
          "2022-05-06T00:00:00",
          "2022-05-09T00:00:00",
          "2022-05-10T00:00:00",
          "2022-05-11T00:00:00",
          "2022-05-12T00:00:00",
          "2022-05-13T00:00:00",
          "2022-05-16T00:00:00",
          "2022-05-17T00:00:00",
          "2022-05-18T00:00:00",
          "2022-05-19T00:00:00",
          "2022-05-20T00:00:00",
          "2022-05-23T00:00:00",
          "2022-05-24T00:00:00",
          "2022-05-25T00:00:00",
          "2022-05-26T00:00:00",
          "2022-05-27T00:00:00",
          "2022-05-31T00:00:00",
          "2022-06-01T00:00:00",
          "2022-06-02T00:00:00",
          "2022-06-03T00:00:00",
          "2022-06-06T00:00:00",
          "2022-06-07T00:00:00",
          "2022-06-08T00:00:00",
          "2022-06-09T00:00:00",
          "2022-06-10T00:00:00",
          "2022-06-13T00:00:00",
          "2022-06-14T00:00:00",
          "2022-06-15T00:00:00",
          "2022-06-16T00:00:00",
          "2022-06-17T00:00:00",
          "2022-06-21T00:00:00",
          "2022-06-22T00:00:00",
          "2022-06-23T00:00:00",
          "2022-06-24T00:00:00",
          "2022-06-27T00:00:00",
          "2022-06-28T00:00:00",
          "2022-06-29T00:00:00",
          "2022-06-30T00:00:00",
          "2022-07-01T00:00:00",
          "2022-07-05T00:00:00",
          "2022-07-06T00:00:00",
          "2022-07-07T00:00:00",
          "2022-07-08T00:00:00",
          "2022-07-11T00:00:00",
          "2022-07-12T00:00:00",
          "2022-07-13T00:00:00",
          "2022-07-14T00:00:00",
          "2022-07-15T00:00:00",
          "2022-07-18T00:00:00",
          "2022-07-19T00:00:00",
          "2022-07-20T00:00:00",
          "2022-07-21T00:00:00",
          "2022-07-22T00:00:00",
          "2022-07-25T00:00:00",
          "2022-07-26T00:00:00",
          "2022-07-27T00:00:00",
          "2022-07-28T00:00:00",
          "2022-07-29T00:00:00",
          "2022-08-01T00:00:00",
          "2022-08-02T00:00:00",
          "2022-08-03T00:00:00",
          "2022-08-04T00:00:00",
          "2022-08-05T00:00:00",
          "2022-08-08T00:00:00",
          "2022-08-09T00:00:00",
          "2022-08-10T00:00:00",
          "2022-08-11T00:00:00",
          "2022-08-12T00:00:00",
          "2022-08-15T00:00:00",
          "2022-08-16T00:00:00",
          "2022-08-17T00:00:00",
          "2022-08-18T00:00:00",
          "2022-08-19T00:00:00",
          "2022-08-22T00:00:00",
          "2022-08-23T00:00:00",
          "2022-08-24T00:00:00",
          "2022-08-25T00:00:00",
          "2022-08-26T00:00:00",
          "2022-08-29T00:00:00",
          "2022-08-30T00:00:00",
          "2022-08-31T00:00:00",
          "2022-09-01T00:00:00",
          "2022-09-02T00:00:00",
          "2022-09-06T00:00:00",
          "2022-09-07T00:00:00",
          "2022-09-08T00:00:00",
          "2022-09-09T00:00:00",
          "2022-09-12T00:00:00",
          "2022-09-13T00:00:00",
          "2022-09-14T00:00:00",
          "2022-09-15T00:00:00",
          "2022-09-16T00:00:00",
          "2022-09-19T00:00:00",
          "2022-09-20T00:00:00",
          "2022-09-21T00:00:00",
          "2022-09-22T00:00:00",
          "2022-09-23T00:00:00",
          "2022-09-26T00:00:00",
          "2022-09-27T00:00:00",
          "2022-09-28T00:00:00",
          "2022-09-29T00:00:00",
          "2022-09-30T00:00:00",
          "2022-10-03T00:00:00",
          "2022-10-04T00:00:00",
          "2022-10-05T00:00:00",
          "2022-10-06T00:00:00",
          "2022-10-07T00:00:00",
          "2022-10-10T00:00:00",
          "2022-10-11T00:00:00",
          "2022-10-12T00:00:00",
          "2022-10-13T00:00:00",
          "2022-10-14T00:00:00",
          "2022-10-17T00:00:00",
          "2022-10-18T00:00:00",
          "2022-10-19T00:00:00",
          "2022-10-20T00:00:00",
          "2022-10-21T00:00:00",
          "2022-10-24T00:00:00",
          "2022-10-25T00:00:00",
          "2022-10-26T00:00:00",
          "2022-10-27T00:00:00",
          "2022-10-28T00:00:00",
          "2022-10-31T00:00:00",
          "2022-11-01T00:00:00",
          "2022-11-02T00:00:00",
          "2022-11-03T00:00:00",
          "2022-11-04T00:00:00",
          "2022-11-07T00:00:00",
          "2022-11-08T00:00:00",
          "2022-11-09T00:00:00",
          "2022-11-10T00:00:00",
          "2022-11-11T00:00:00",
          "2022-11-14T00:00:00",
          "2022-11-15T00:00:00",
          "2022-11-16T00:00:00",
          "2022-11-17T00:00:00",
          "2022-11-18T00:00:00",
          "2022-11-21T00:00:00",
          "2022-11-22T00:00:00",
          "2022-11-23T00:00:00",
          "2022-11-25T00:00:00",
          "2022-11-28T00:00:00",
          "2022-11-29T00:00:00",
          "2022-11-30T00:00:00",
          "2022-12-01T00:00:00",
          "2022-12-02T00:00:00",
          "2022-12-05T00:00:00",
          "2022-12-06T00:00:00",
          "2022-12-07T00:00:00",
          "2022-12-08T00:00:00",
          "2022-12-09T00:00:00",
          "2022-12-12T00:00:00",
          "2022-12-13T00:00:00",
          "2022-12-14T00:00:00",
          "2022-12-15T00:00:00",
          "2022-12-16T00:00:00",
          "2022-12-19T00:00:00",
          "2022-12-20T00:00:00",
          "2022-12-21T00:00:00",
          "2022-12-22T00:00:00",
          "2022-12-23T00:00:00",
          "2022-12-27T00:00:00",
          "2022-12-28T00:00:00",
          "2022-12-29T00:00:00",
          "2022-12-30T00:00:00",
          "2023-01-03T00:00:00",
          "2023-01-04T00:00:00",
          "2023-01-05T00:00:00",
          "2023-01-06T00:00:00",
          "2023-01-09T00:00:00",
          "2023-01-10T00:00:00",
          "2023-01-11T00:00:00",
          "2023-01-12T00:00:00",
          "2023-01-13T00:00:00",
          "2023-01-17T00:00:00",
          "2023-01-18T00:00:00",
          "2023-01-19T00:00:00",
          "2023-01-20T00:00:00",
          "2023-01-23T00:00:00",
          "2023-01-24T00:00:00",
          "2023-01-25T00:00:00",
          "2023-01-26T00:00:00",
          "2023-01-27T00:00:00",
          "2023-01-30T00:00:00",
          "2023-01-31T00:00:00",
          "2023-02-01T00:00:00",
          "2023-02-02T00:00:00",
          "2023-02-03T00:00:00",
          "2023-02-06T00:00:00",
          "2023-02-07T00:00:00",
          "2023-02-08T00:00:00",
          "2023-02-09T00:00:00",
          "2023-02-10T00:00:00",
          "2023-02-13T00:00:00",
          "2023-02-14T00:00:00",
          "2023-02-15T00:00:00",
          "2023-02-16T00:00:00",
          "2023-02-17T00:00:00",
          "2023-02-21T00:00:00",
          "2023-02-22T00:00:00",
          "2023-02-23T00:00:00",
          "2023-02-24T00:00:00",
          "2023-02-27T00:00:00",
          "2023-02-28T00:00:00",
          "2023-03-01T00:00:00",
          "2023-03-02T00:00:00",
          "2023-03-03T00:00:00",
          "2023-03-06T00:00:00",
          "2023-03-07T00:00:00",
          "2023-03-08T00:00:00",
          "2023-03-09T00:00:00",
          "2023-03-10T00:00:00",
          "2023-03-13T00:00:00",
          "2023-03-14T00:00:00",
          "2023-03-15T00:00:00",
          "2023-03-16T00:00:00",
          "2023-03-17T00:00:00",
          "2023-03-20T00:00:00",
          "2023-03-21T00:00:00",
          "2023-03-22T00:00:00",
          "2023-03-23T00:00:00",
          "2023-03-24T00:00:00",
          "2023-03-27T00:00:00",
          "2023-03-28T00:00:00",
          "2023-03-29T00:00:00",
          "2023-03-30T00:00:00",
          "2023-03-31T00:00:00",
          "2023-04-03T00:00:00",
          "2023-04-04T00:00:00",
          "2023-04-05T00:00:00",
          "2023-04-06T00:00:00",
          "2023-04-10T00:00:00",
          "2023-04-11T00:00:00",
          "2023-04-12T00:00:00",
          "2023-04-13T00:00:00",
          "2023-04-14T00:00:00",
          "2023-04-17T00:00:00",
          "2023-04-18T00:00:00",
          "2023-04-19T00:00:00",
          "2023-04-20T00:00:00",
          "2023-04-21T00:00:00",
          "2023-04-24T00:00:00",
          "2023-04-25T00:00:00",
          "2023-04-26T00:00:00",
          "2023-04-27T00:00:00",
          "2023-04-28T00:00:00",
          "2023-05-01T00:00:00",
          "2023-05-02T00:00:00",
          "2023-05-03T00:00:00",
          "2023-05-04T00:00:00",
          "2023-05-05T00:00:00",
          "2023-05-08T00:00:00",
          "2023-05-09T00:00:00",
          "2023-05-10T00:00:00",
          "2023-05-11T00:00:00",
          "2023-05-12T00:00:00",
          "2023-05-15T00:00:00",
          "2023-05-16T00:00:00",
          "2023-05-17T00:00:00",
          "2023-05-18T00:00:00",
          "2023-05-19T00:00:00",
          "2023-05-22T00:00:00",
          "2023-05-23T00:00:00",
          "2023-05-24T00:00:00",
          "2023-05-25T00:00:00",
          "2023-05-26T00:00:00",
          "2023-05-30T00:00:00",
          "2023-05-31T00:00:00",
          "2023-06-01T00:00:00",
          "2023-06-02T00:00:00",
          "2023-06-05T00:00:00",
          "2023-06-06T00:00:00",
          "2023-06-07T00:00:00",
          "2023-06-08T00:00:00",
          "2023-06-09T00:00:00",
          "2023-06-12T00:00:00",
          "2023-06-13T00:00:00",
          "2023-06-14T00:00:00",
          "2023-06-15T00:00:00",
          "2023-06-16T00:00:00",
          "2023-06-20T00:00:00",
          "2023-06-21T00:00:00",
          "2023-06-22T00:00:00",
          "2023-06-23T00:00:00",
          "2023-06-26T00:00:00",
          "2023-06-27T00:00:00",
          "2023-06-28T00:00:00",
          "2023-06-29T00:00:00",
          "2023-06-30T00:00:00",
          "2023-07-03T00:00:00",
          "2023-07-05T00:00:00",
          "2023-07-06T00:00:00",
          "2023-07-07T00:00:00",
          "2023-07-10T00:00:00",
          "2023-07-11T00:00:00",
          "2023-07-12T00:00:00",
          "2023-07-13T00:00:00",
          "2023-07-14T00:00:00",
          "2023-07-17T00:00:00",
          "2023-07-18T00:00:00",
          "2023-07-19T00:00:00",
          "2023-07-20T00:00:00",
          "2023-07-21T00:00:00",
          "2023-07-24T00:00:00",
          "2023-07-25T00:00:00",
          "2023-07-26T00:00:00",
          "2023-07-27T00:00:00",
          "2023-07-28T00:00:00",
          "2023-07-31T00:00:00",
          "2023-08-01T00:00:00",
          "2023-08-02T00:00:00",
          "2023-08-03T00:00:00",
          "2023-08-04T00:00:00",
          "2023-08-07T00:00:00",
          "2023-08-08T00:00:00",
          "2023-08-09T00:00:00",
          "2023-08-10T00:00:00",
          "2023-08-11T00:00:00",
          "2023-08-14T00:00:00",
          "2023-08-15T00:00:00",
          "2023-08-16T00:00:00",
          "2023-08-17T00:00:00",
          "2023-08-18T00:00:00",
          "2023-08-21T00:00:00",
          "2023-08-22T00:00:00",
          "2023-08-23T00:00:00",
          "2023-08-24T00:00:00",
          "2023-08-25T00:00:00",
          "2023-08-28T00:00:00",
          "2023-08-29T00:00:00",
          "2023-08-30T00:00:00",
          "2023-08-31T00:00:00",
          "2023-09-01T00:00:00",
          "2023-09-05T00:00:00",
          "2023-09-06T00:00:00",
          "2023-09-07T00:00:00",
          "2023-09-08T00:00:00",
          "2023-09-11T00:00:00",
          "2023-09-12T00:00:00",
          "2023-09-13T00:00:00",
          "2023-09-14T00:00:00",
          "2023-09-15T00:00:00",
          "2023-09-18T00:00:00",
          "2023-09-19T00:00:00",
          "2023-09-20T00:00:00",
          "2023-09-21T00:00:00",
          "2023-09-22T00:00:00",
          "2023-09-25T00:00:00",
          "2023-09-26T00:00:00",
          "2023-09-27T00:00:00",
          "2023-09-28T00:00:00",
          "2023-09-29T00:00:00",
          "2023-10-02T00:00:00",
          "2023-10-03T00:00:00",
          "2023-10-04T00:00:00",
          "2023-10-05T00:00:00",
          "2023-10-06T00:00:00",
          "2023-10-09T00:00:00",
          "2023-10-10T00:00:00",
          "2023-10-11T00:00:00",
          "2023-10-12T00:00:00",
          "2023-10-13T00:00:00",
          "2023-10-16T00:00:00",
          "2023-10-17T00:00:00",
          "2023-10-18T00:00:00",
          "2023-10-19T00:00:00",
          "2023-10-20T00:00:00",
          "2023-10-23T00:00:00",
          "2023-10-24T00:00:00",
          "2023-10-25T00:00:00",
          "2023-10-26T00:00:00",
          "2023-10-27T00:00:00",
          "2023-10-30T00:00:00",
          "2023-10-31T00:00:00",
          "2023-11-01T00:00:00",
          "2023-11-02T00:00:00",
          "2023-11-03T00:00:00",
          "2023-11-06T00:00:00",
          "2023-11-07T00:00:00",
          "2023-11-08T00:00:00",
          "2023-11-09T00:00:00",
          "2023-11-10T00:00:00",
          "2023-11-13T00:00:00",
          "2023-11-14T00:00:00",
          "2023-11-15T00:00:00",
          "2023-11-16T00:00:00",
          "2023-11-17T00:00:00",
          "2023-11-20T00:00:00",
          "2023-11-21T00:00:00",
          "2023-11-22T00:00:00",
          "2023-11-24T00:00:00",
          "2023-11-27T00:00:00",
          "2023-11-28T00:00:00",
          "2023-11-29T00:00:00",
          "2023-11-30T00:00:00",
          "2023-12-01T00:00:00",
          "2023-12-04T00:00:00",
          "2023-12-05T00:00:00",
          "2023-12-06T00:00:00",
          "2023-12-07T00:00:00",
          "2023-12-08T00:00:00",
          "2023-12-11T00:00:00",
          "2023-12-12T00:00:00",
          "2023-12-13T00:00:00",
          "2023-12-14T00:00:00",
          "2023-12-15T00:00:00",
          "2023-12-18T00:00:00",
          "2023-12-19T00:00:00",
          "2023-12-20T00:00:00",
          "2023-12-21T00:00:00",
          "2023-12-22T00:00:00",
          "2023-12-26T00:00:00"
         ],
         "y": [
          0.953011629562965,
          0.9486714921670785,
          0.9371381652664225,
          0.9212275964635582,
          0.9063507749964366,
          0.9484922579949864,
          0.9333442501396463,
          0.9196240338483893,
          0.9222493639836591,
          0.908131744699312,
          1.0071910716449661,
          1.0466910209777704,
          1.0355475448028055,
          1.1315786360483289,
          1.1001506564257597,
          1.09439958641687,
          1.4260920944589597,
          1.3699606049512651,
          1.3156506322998307,
          1.265225275346723,
          1.2286445463944757,
          1.219636142088173,
          1.2079586065671968,
          1.165639020553608,
          1.1603210925487177,
          1.1200219525491415,
          1.0893997043627595,
          1.0578437092192567,
          1.0399611812055822,
          1.047752619808058,
          1.0188571941993723,
          1.06426627014584,
          1.0421075153474255,
          1.0159392457895817,
          1.0228378546064776,
          1.0508461759035426,
          1.033241513867547,
          1.0176200224751897,
          1.232017478662193,
          1.3065529004597334,
          1.6150370333767419,
          1.5652077311669992,
          1.5161119842531479,
          1.4514705746731902,
          1.4234433435985687,
          1.365196103697341,
          1.6787841016787923,
          1.5973401471033453,
          1.5185117994318682,
          1.471970965754788,
          1.4081473252010877,
          1.3467381443481012,
          1.3187232924526835,
          1.268108963471807,
          1.2401924574272642,
          1.9029467495266703,
          1.8453626917400068,
          1.772654206891282,
          1.9037007895788458,
          1.8213288745505345,
          1.7242334687314393,
          1.6348564790827051,
          1.5554741591485883,
          1.4800391092055833,
          1.4259563656726353,
          1.4274982270508039,
          1.3640014923930215,
          1.3360757786586528,
          1.2797805069622263,
          1.2387089487505278,
          1.2347547024757735,
          1.316390550002523,
          1.2788803268433864,
          1.2290279790589314,
          1.1828109011089636,
          1.4658059744728003,
          1.4149344457619266,
          1.3609634566028546,
          1.3558233377097215,
          1.3120637514167741,
          1.2643840005458484,
          1.216331684046102,
          1.2090918525592356,
          1.3464968633256935,
          1.319210516587594,
          1.3229453434983895,
          1.2738775029294576,
          1.2823590118575248,
          1.285462180267988,
          1.2386566901255147,
          1.53060911924357,
          1.4591332794528984,
          1.3920597856596366,
          1.387584270148801,
          1.3626430210775076,
          1.3050425132934633,
          1.3302242699293205,
          1.2747358532268402,
          1.224391161931003,
          1.1974740078333144,
          1.2223399435386075,
          1.2072754168523023,
          1.1632227308503187,
          1.1520782179525701,
          1.144675913316123,
          1.1476475933278305,
          1.122731793796137,
          1.0881817393905895,
          1.3511418173325804,
          1.3890964188790558,
          1.3277175314731067,
          1.2749522303346232,
          1.2334747293744128,
          1.205573664102214,
          1.1651071155242276,
          1.1320482299488952,
          1.1276182171398355,
          1.1316874060233604,
          1.1764218281373904,
          1.1758582141238176,
          1.1887989749398657,
          1.1561212247048989,
          1.1721780970019018,
          1.1433713806704946,
          1.236301080222579,
          1.1922988552004712,
          1.2008091320624574,
          1.1612508807381932,
          1.1296602667759543,
          1.0978664527457518,
          1.0663343904521312,
          1.3681650498749676,
          1.309269401619894,
          1.6071946775580443,
          1.542575396470292,
          1.6457171727272573,
          1.6442553742990866,
          1.5630919317969958,
          1.6217911645312324,
          1.608491835948073,
          2.063344443753377,
          1.949407716038294,
          1.9850544081364438,
          1.892336096309407,
          1.845497509774766,
          1.7472857236119261,
          1.6823823481190137,
          1.8059441801262204,
          1.7243913481647903,
          1.6789290570629447,
          1.6188453058729335,
          1.6886110098684692,
          1.6092787621152373,
          1.5865120032367264,
          1.5491693931884547,
          1.6319371123163817,
          1.5503448548686478,
          1.6620975039734094,
          1.6217094988647691,
          1.54147340259433,
          1.4758676974975606,
          1.5296761637307523,
          1.4925567219285218,
          1.436122429178519,
          1.4004546497073442,
          1.3455230119668762,
          1.2990063539700119,
          1.2464111762089298,
          1.283704421857579,
          1.2404654406579656,
          1.2308959186901531,
          1.1936323676269778,
          1.150970297272828,
          1.2768598383455243,
          1.4036730249523257,
          1.3436793765180262,
          1.4478632705275527,
          1.3856867009078957,
          1.5281477227673246,
          1.4680892069177895,
          1.4606458148889847,
          1.4835221598053336,
          1.4148149593365207,
          1.6459535333496287,
          1.567068088132219,
          1.4973918485793563,
          1.4268011578221231,
          1.5630327033641942,
          1.5143341978942126,
          1.4429759089371654,
          1.3782956422804964,
          1.3362971363062675,
          1.2824162136139723,
          1.2319661712106698,
          1.2046584764555464,
          1.186109691775789,
          1.3457025106645253,
          1.3069130951876515,
          1.253245906605222,
          1.2041216466779268,
          1.1676274678757363,
          1.1279183341651118,
          1.101310069770567,
          1.0908123040639701,
          1.077726593168594,
          1.0454815296616944,
          1.0352846723655904,
          1.0343440421164254,
          1.0076667455911563,
          1.0202467718505206,
          0.994560233111029,
          0.986815008674076,
          0.9734488511960685,
          0.9520868977170118,
          0.9348249508312565,
          0.9245112123368806,
          0.9151428679084379,
          1.0089396108773918,
          1.1532679699207296,
          1.1220718209980698,
          1.1729042678047679,
          1.1470811026710015,
          1.1080649062837093,
          1.0789610206955098,
          1.3741395347902154,
          1.3531622073543876,
          1.2978874453398237,
          1.2548835654632111,
          1.207652573056886,
          1.1798976067276488,
          1.1394162806452028,
          1.1020592983416488,
          1.0685864146240946,
          1.081450483982923,
          1.048906327005649,
          1.0316334986054636,
          1.014056853317328,
          1.05020298925613,
          1.1223526178133967,
          1.087523880884865,
          1.208196634992602,
          1.1828836056565297,
          1.143111005523707,
          1.1621396195499707,
          1.1451175885130618,
          1.1572811506391427,
          1.2342568065203678,
          1.190051143035996,
          1.1618155858836963,
          1.1769458832722752,
          1.1374902649438392,
          1.1016134781316294,
          1.3605205158019473,
          1.3383762089941211,
          1.395152614586219,
          1.3360502725261347,
          1.3298595359450565,
          1.5489882320709851,
          1.488728044254715,
          1.482161013747988,
          1.5031428823295132,
          1.4323437174944647,
          1.3745672177699204,
          1.31799533475941,
          1.2631243143042237,
          1.2136380691634288,
          1.1700388570756304,
          1.1369939650789382,
          1.1943859261801641,
          1.2196673547502916,
          1.1742330058138202,
          1.213128744027884,
          1.4808046267569814,
          2.0504782286071688,
          1.93655290494016,
          2.2978134233881997,
          2.6024281103739577,
          2.856358756979379,
          2.962010759670388,
          2.883480014077904,
          3.1607433877650206,
          3.4258196097270637,
          5.475616899281947,
          5.691643129847045,
          5.548339653540285,
          5.855862690934835,
          7.982253264884865,
          8.922561951538968,
          8.56113058296691,
          8.714103914199034,
          8.158445683366741,
          7.658324927908218,
          7.374412851955175,
          7.881280010121258,
          7.458238268782229,
          7.316449524930285,
          7.231092662424993,
          6.806606814664179,
          6.482967430614353,
          6.4085726462925425,
          6.105245267997532,
          5.794988948210093,
          5.794146211659162,
          5.432310605175081,
          5.237752331863415,
          5.679935817736577,
          5.51461418102369,
          5.240380759551846,
          5.168731461342503,
          5.000507141542597,
          5.493284511466964,
          5.280996374552021,
          5.036041189994499,
          4.711938373222077,
          4.409420513956172,
          4.150968124210762,
          4.11801895919623,
          3.860794158589658,
          3.7121142386613832,
          3.554902144055056,
          3.4484017983046558,
          3.2605057333046354,
          3.059226090589584,
          2.9432368900874404,
          2.7792874422933753,
          2.656761175581021,
          2.687759443780701,
          2.7546019369998396,
          2.8348511534969085,
          2.9671015755370322,
          2.8576538492798447,
          3.1665183410900566,
          3.0467731237275446,
          3.0083693758371233,
          2.8593308132384947,
          2.7008087011365776,
          3.4018344870989954,
          3.682882540901137,
          3.4901427755883168,
          3.3845347679770597,
          3.197422981970718,
          3.0001393524955433,
          3.296346767360184,
          3.1562644810721583,
          3.284905452594972,
          3.140359517362441,
          3.0722865282897316,
          3.1850267322952814,
          4.058443616533265,
          3.8944002363660157,
          3.670791825510547,
          3.4467689201642235,
          3.343396967025279,
          3.1423873108486213,
          2.9763969709852907,
          2.821000618203467,
          2.6735725795343184,
          2.75189458771922,
          2.806995776607772,
          3.202348076975788,
          3.0057424382476876,
          2.8405793707700693,
          2.686209759925287,
          2.5253355579642514,
          2.5004070909516276,
          2.5382019152116166,
          2.406701728267275,
          2.3833973826919257,
          2.836809331635854,
          2.6982293730041036,
          2.5399009411086455,
          2.4333636478469587,
          2.290570093213314,
          2.250258563438327,
          2.1448022320648876,
          2.1294769404084204,
          2.0271811356285108,
          1.9149727839330384,
          1.8302662163010202,
          1.8015525127677,
          1.7090827593298643,
          1.7854823020501667,
          1.9178930737947166,
          1.8207846494196231,
          1.7376797918491558,
          1.662401378184485,
          1.663214834893422,
          1.5790177031484498,
          1.6465967079716297,
          1.6074079616503518,
          1.8187481248991313,
          1.75015768269423,
          1.6729808790358334,
          1.5879442947706326,
          1.754547785932396,
          1.7336764809188985,
          1.6439710170797168,
          1.6184304314330844,
          1.5386205907075752,
          1.7061540736299177,
          1.6215907045875346,
          1.6177208992879193,
          1.8498834028549518,
          1.753108847669966,
          1.8676813418839575,
          1.7677893245291538,
          1.7346004924293434,
          1.6503869220060576,
          1.7015059416703489,
          1.9917096828040026,
          1.9006756964223541,
          1.8356657635892182,
          1.7753220818529836,
          1.7314084030787913,
          1.9479004049544746,
          1.8435896479824654,
          1.7921506931089404,
          1.700761563764092,
          1.920309397812077,
          1.8574259450863346,
          1.846119655793417,
          1.748334074379317,
          1.6750936106691803,
          1.8246535035723943,
          1.7552052169233425,
          1.6858955485431308,
          1.611768965399162,
          1.5550636723731055,
          1.615050421126281,
          1.5791297270372169,
          1.5916542956799669,
          1.6385208569581438,
          1.5720254945993783,
          1.5376361162573116,
          1.5685663819096618,
          1.5078374919959447,
          1.5043219379217458,
          1.4368966962633691,
          1.4909686576100576,
          1.4283903939017528,
          1.4107500803926951,
          1.744565383470764,
          1.6731113721688096,
          1.7972384624544004,
          1.8221859058912897,
          1.9693175768107127,
          1.8687639750467275,
          1.7858463906148692,
          1.8281042158240584,
          1.9910293902785865,
          2.1444026433087937,
          2.398323734717422,
          2.3060453767663835,
          4.867481189401869,
          4.556611478026034,
          4.2965850491819975,
          4.04604526991137,
          3.792601458690115,
          3.659851073246676,
          3.449124519783127,
          3.245393259714844,
          3.0443103805322624,
          2.8744688471569004,
          2.844200234629286,
          3.045199623545543,
          2.882700717957738,
          2.7187354569665727,
          2.7195523701374693,
          2.598934339695488,
          2.5125407343124575,
          2.37665923078004,
          2.2520337244215427,
          2.128079632417292,
          2.007373229668584,
          1.9180506751333724,
          1.8302069479631595,
          1.7476084697038143,
          1.6994820554579169,
          1.6926109178870152,
          1.6067561447278302,
          1.5575458094941457,
          1.49500657230391,
          1.8497455233231959,
          1.8295458358123158,
          1.9374286590255814,
          1.840203505578834,
          1.7504299232364469,
          1.6635707206935018,
          1.5799630786795613,
          1.5558068751578187,
          1.519838223957723,
          1.4538235004006783,
          2.0323548748535334,
          2.1766743229225898,
          2.0523022174129673,
          1.9880108833331642,
          1.9363166114467043,
          1.8302633050082426,
          1.7390539694336238,
          1.7612414408272017,
          1.6784589339393898,
          1.6770864582863283,
          1.6215132018975118,
          1.567288682851068,
          1.5552917795814902,
          1.489570212100562,
          1.71141379309944,
          1.7082744231551796,
          1.6682485913861085,
          1.5961282118373858,
          1.7957715521784412,
          1.7330463156741016,
          1.7892401275179441,
          1.6977320408770973,
          1.6775897662220127,
          1.6008185124264824,
          1.5216012020212062,
          1.4545821684055589,
          1.450590988801095,
          1.5706612807633198,
          1.4951220526279188,
          1.4263863360035896,
          1.451807542681854,
          1.410378237325703,
          1.3653567893991259,
          1.4105187675787547,
          1.4298368032955524,
          1.634516631829088,
          1.701294532403041,
          1.6201761792956035,
          1.6481128941764283,
          1.6545227026964242,
          1.5712158343355138,
          1.5448235545890399,
          1.4942836650014568,
          1.5723523648486555,
          1.5097343825947964,
          1.4791440180804203,
          1.4241685139109845,
          1.4251752406495866,
          1.3924087946695651,
          1.420645718692527,
          1.4657006207334302,
          1.6682441698950523,
          1.6244586328400652,
          1.5578727542085185,
          1.5294130315955423,
          1.5401302467504843,
          1.5630705249152246,
          1.5261868516637855,
          1.5403170776233015,
          1.4919697320949374,
          1.427992896729103,
          1.3890385660872666,
          1.4084493714876511,
          1.3453753797346013,
          1.3039607034598415,
          1.2547092585539108,
          1.2782803553713107,
          1.3860149399446053,
          1.3354681701879654,
          1.2947833463366774,
          1.2542085364683708,
          1.4230113792492523,
          1.3793208063946938,
          1.503408031688332,
          1.5461957929595438,
          1.4719705879218625,
          1.4077572671133802,
          1.355688626477477,
          1.4262489201605528,
          1.4003412239767061,
          1.344598564016374,
          1.3509531952816425,
          1.3497462068059518,
          1.4306671888855478,
          1.3676009349903488,
          1.3087922642133698,
          1.3812473688355995,
          1.3461968577036407,
          1.5148914944899659,
          1.5161200820217502,
          1.4467739355049356,
          1.4666694646976797,
          1.4275714418483862,
          1.3661293726034252,
          1.3480197472732618,
          1.2975344443066623,
          1.29922626722101,
          1.246561505455121,
          1.2858182481756721,
          1.23511245338089,
          1.2297873552330296,
          1.1833406057738574,
          1.140836295180338,
          1.1023962744764528,
          1.084504141022904,
          1.0648294528073787,
          1.1250038571691108,
          1.21658273422324,
          1.17237924727164,
          1.2750582363047531,
          1.333968686476436,
          1.2914554484036167,
          1.5764952446713567,
          1.7281314220716246,
          1.7166904432033727,
          1.630179399391499,
          1.5564885117571678,
          1.5034989778458063,
          1.4612118659822793,
          1.3937369252322147,
          1.334246906924527,
          1.3031895603407166,
          1.2810907713959592,
          1.231318211852981,
          1.32006552115008,
          1.2648010353978638,
          1.3539514015124094,
          1.636828679996849,
          1.6119146183112851,
          1.6178738313529075,
          1.5443198060292171,
          1.470029311995095,
          1.6038327445772158,
          1.876104014667144,
          1.863003121165715,
          1.8767825096208337,
          1.8310300241590807,
          1.7360949725822314,
          1.6555000748157918,
          1.573770731636941,
          1.4967391635438054,
          1.4461018416601221,
          1.4114099922756445,
          1.3586058536532235,
          1.341366344735652,
          1.341716305601902,
          1.3371641056807173,
          1.555620332326975,
          1.4818399725753844,
          1.4575541121409596,
          1.4333393235435463,
          1.370967062883735,
          1.3712603251359143,
          1.3353193137289032,
          1.3492050598288527,
          1.3338234469879304,
          1.3143038099148983,
          1.2607226836409753,
          1.2681794372144999,
          1.2284242270300665,
          1.3393111059188203,
          1.288801615239596,
          1.256220288197217,
          1.3294869407016152,
          1.2807792113148961,
          1.2320080764770922,
          1.1900768878452965,
          1.1705534126892374,
          1.1331651569043601,
          1.1105785478508632,
          1.0799328538216524,
          1.1253591229088291,
          1.1883921584220014,
          1.2951800115768317,
          1.256138712267823,
          1.2078404661065607,
          1.1693292791632635,
          1.514071890961931,
          1.4423587345926638,
          1.4948373229699041,
          1.7747229571935756,
          1.7145945951610233,
          1.788940096566476,
          1.7077753871466044,
          1.6209751441547506,
          1.613157360088964,
          1.6624791684627622,
          1.5797900855596447,
          1.580594883188583,
          1.5032380764687525,
          1.4417516787637066,
          1.37586132159819,
          1.5002403938072542,
          1.4579524092215246,
          1.6532601665728583,
          1.6355127679482273,
          1.6598538208046443,
          1.5764703030368208,
          1.540661547855478,
          1.5195484304539926,
          1.4763260862416927,
          1.4626596689929574,
          1.4087607795717751,
          1.3465496280305402,
          1.4736550789138139,
          1.4755482696861923,
          1.41249974940314,
          1.3502165707400204,
          1.2953693996217401,
          1.2426254683819469,
          1.281636366186065,
          1.2327593126628458,
          1.1957871679830256,
          1.1864919248131616,
          1.1456620993751934,
          1.1073922335101358,
          1.0877539228859867,
          1.0588948627120198,
          1.0639402848712922,
          1.0548043667542686,
          1.073235144267102,
          1.1394413955078209,
          1.2803470405203008,
          1.4331503743219047,
          1.3989532336523816,
          1.679115641608182,
          1.6033602002012495,
          1.6105705763594005,
          1.547676438346736,
          1.6074326822327978,
          1.650935285551835,
          1.6050164347623832,
          1.590324681644562,
          1.566378403883791,
          1.4925303697212975,
          1.4321018253939584,
          1.431290952311567,
          1.3823302492497902,
          1.3511005105607543,
          1.3755623332378772,
          1.5276551067463322,
          1.581915192209765,
          1.5603178343354869,
          1.4869614116839502,
          1.4192627511889497,
          1.3632386552180835,
          1.30551431364963,
          1.2527567378844249,
          1.2048629254930996,
          1.1620121511448125,
          1.2953247710556783,
          1.7217024907305325,
          1.7504987322480126,
          1.68708552209149,
          1.6255614450592268,
          1.5441995447655668,
          1.4695634813749505,
          1.4087794211421696,
          1.347983388312283,
          2.408075236011406,
          2.6636281604689844,
          2.5611590725843683,
          2.4289666772690564,
          2.3647163074004465,
          2.2273821962510385,
          2.1227781835040265,
          2.0205172861040332,
          2.00342834317567,
          1.908896424398461,
          1.8492139523166642,
          1.8251512774606087,
          1.753297297944785,
          1.689678057617369,
          1.7934689003962683,
          1.7000206712234787,
          1.7111291114625264,
          1.6256957507448737,
          1.5539759641410187,
          1.5486714417150045,
          1.512344251301803,
          1.504994300551233,
          1.4337883258305484,
          1.57813477591822,
          1.5049739518508574,
          1.436833420493041,
          1.5478885215423432,
          1.7484299873217444,
          1.810597001353442,
          2.2081437167248215,
          2.4345964753132163,
          2.3774191530813638,
          2.2542435477323117,
          2.327388727584826,
          2.544102093692138,
          2.407464890587248,
          2.5936540229798015,
          2.474933922420493,
          2.4523194548697065,
          2.3249351524439987,
          2.2545534743557187,
          2.5508005322269227,
          2.4275081726301555,
          2.2850822245104845,
          2.1573360784266176,
          2.1363086555477744,
          2.128117509152405,
          2.014832782022522,
          1.918478249162135,
          1.8350451752354704,
          1.7371840950067972,
          1.657183858417661,
          1.8711162816094222,
          1.7919414608326185,
          1.7004461714609107,
          1.6657800340028954,
          1.6549157786598598,
          1.5771103184977704,
          1.5994183399173536,
          1.5283253085207857,
          1.5075838369473342,
          1.799556252218157,
          1.7376120239275448,
          1.7409890350994528,
          1.7677587678204498,
          1.6766043489230424,
          1.6172744777034445,
          1.817447330838626,
          1.7213433510432103,
          1.9133780135084772,
          1.866772432579354,
          1.8288351584678555,
          2.043426893637206,
          1.9463088628728737,
          1.9532214621262334,
          2.116381467849921,
          2.1701218141419654,
          2.048251171557237,
          2.003939251408157,
          2.0664176647082853,
          1.9654641137600002,
          1.858308671350593,
          1.776039789722639,
          1.7032011314147728,
          1.9199601297604687,
          1.9097401280433783,
          1.8789559327447065,
          1.8032321339739126,
          2.6068678598235753,
          2.486574398907248,
          2.346796826833775,
          2.270768245993238,
          2.1802993821077066,
          2.0652625841250347,
          2.041869296178587,
          1.9874733223265433,
          1.9405469482729627,
          1.8399173248376826,
          1.7419848088547185,
          1.7419317838756772,
          1.8014766825691142,
          2.291719291014566,
          2.3811790500880754,
          2.31503503876966,
          2.207598170376145,
          2.164357018086899,
          2.046621736024116,
          2.0782609116050805,
          1.973671414118027,
          1.9057670591361144,
          2.028032642164794,
          1.938024226237956,
          1.8421212602899797,
          1.75308176197123,
          1.8420676788376977,
          1.783569396316317,
          1.6971905846029967,
          1.6290912949635703,
          1.7340410130876076,
          1.6498464854030024,
          1.6337818804629618,
          1.5517443365070214,
          1.5157637529827241,
          1.8596060119429696,
          2.279494783899134,
          2.179375241901876,
          2.1928840218200256,
          2.0677636665692543,
          1.9601437816586103,
          1.862570833031339,
          1.764622139885131,
          1.7587260276334276,
          1.7350162345333644,
          1.6524872663064984,
          1.5732737846957596,
          1.5393569323221974,
          1.562926165655953,
          1.517137231221295,
          1.497909773340945,
          1.7109831417017696,
          1.6796280926325193,
          1.6139542001304166,
          1.733532901728681,
          1.7016541463604669,
          1.689537127150034,
          1.6037117966036667,
          1.5481599293793935,
          1.5057344690937644,
          1.4633224720558302,
          1.6295984027693973,
          1.6511029181538295,
          1.608060098975896,
          1.5286494517347005,
          1.629212850867892,
          1.8990106164711118,
          1.7996807656454659,
          1.704607043996463,
          1.6332643252717733,
          1.5621556226124007,
          1.509475662545626,
          1.438055373210867,
          1.4891658071388147,
          1.5903289316836402,
          1.5164178193143554,
          1.4848945088708208,
          1.833829843341901,
          1.739466668507631,
          1.7093742151337805,
          1.6412624310295545,
          1.5803052671575446,
          1.6486860139624064,
          1.8438323488128487,
          1.7919588324778872,
          1.8147256229863833,
          1.8696327050868393,
          1.7981875762139103,
          1.8115268225978678,
          1.8133135979947095,
          1.8015451711546098,
          1.959945375940047,
          2.3707954747309987,
          2.2747740398505147,
          2.254469958847934,
          2.2325035857264,
          2.131495186582281,
          2.2344875289470933,
          2.161338387567748,
          2.6967859770842013,
          2.5834489885122687,
          2.76689409956533,
          2.7186101281961235,
          2.642117751613112,
          2.4877171971798213,
          2.8730453518600614,
          2.697895431463722,
          2.5357157863097677,
          2.408200896930127,
          2.268423053352056,
          2.165207015040548,
          2.0436707640186578,
          2.0053774610278112,
          1.9237761402849256,
          1.8187899164197994,
          1.9200845392312473,
          1.8201360557917858,
          1.7232342508326774,
          1.6976113022227526,
          2.0680565646413904,
          1.9519391134087214,
          1.8817574339642802,
          1.8008098422815548,
          1.7053424573529512,
          1.6274433704294076,
          1.5710575375166176,
          1.511762473511131,
          1.5076517314169176,
          1.4686782639954052,
          1.4006089360517295,
          1.4688918331754905,
          1.485681157675297,
          1.4577833209817048,
          1.4756077815921713,
          1.4374854129502213,
          1.667843910322148,
          1.5830971041168338,
          1.5064331196700107,
          1.4664454039118358,
          1.414685718898263,
          1.4288775928839617,
          1.3658159610273728,
          1.3217816330414203,
          1.5216397850051449,
          1.4687023743137617,
          1.4089785308276637,
          1.3510953754210626,
          1.333693473314935,
          1.3404093341315615,
          1.2885247300074214,
          1.238405343863689,
          1.1986845487710067,
          1.1640266486242612,
          1.1369570081215676,
          1.1184087819857278,
          1.1138817501651588,
          1.0789553923918778,
          1.1978438613437827,
          1.1666589910650078,
          1.1535445928029986,
          1.132094560421548,
          1.0967095258604334,
          1.318485815117725,
          1.3739037666168548,
          1.6593022042651897,
          1.644051382008835,
          1.5617015800972742,
          1.5636440410554842,
          1.5067173784685028,
          1.440120803324588,
          1.3838504325799588,
          1.323544014315097,
          1.3061763015250967,
          1.2617511387767968,
          1.2181303315239191,
          1.187431066836975,
          1.2348525146978475,
          1.1971349836007654,
          1.2072713703823013,
          1.1925475146752453,
          1.2711045663928024,
          1.2247835934313438,
          1.219294071728621,
          1.1779616943432158,
          1.1400338690405043,
          1.2037270703523233,
          1.160602583142282,
          1.2870906134101838,
          1.267740186797809,
          1.2372371134883424,
          1.216442953997597,
          1.196027874475298,
          1.1755789344225243,
          1.1547439892067346,
          1.1763497316226685,
          1.2639897871016317,
          1.2350709037200767,
          1.5479202081520387,
          1.4908684853182494,
          2.2895587776793698,
          2.2954758569105307,
          2.2497025006457587,
          2.264034244347795,
          2.6496481965734326,
          2.5598495128024,
          2.7191943151967326,
          2.5731659966376377,
          2.558670043264873,
          2.5606976560801287,
          2.4112577715608783,
          2.331050242073287,
          2.3694342790299685,
          2.2315417842280683,
          2.1032365631177057,
          1.9890784520164484,
          1.912160967479058,
          1.8095461039778284,
          1.7772706785597356,
          1.6836894691395954,
          1.599289705556787,
          1.5216160735340567,
          1.4539508126203553,
          1.3876247170580374,
          1.3291147864737416,
          2.7277081490219595,
          2.5722964125684604,
          2.440641915045326,
          2.29808935001985,
          2.1687165706905587,
          2.047413603523524,
          1.9328211118502099,
          1.9727331782406439,
          1.9622593071737156,
          1.8965140988852502,
          1.809977920425773,
          1.835250134622091,
          1.82584896101543,
          1.8743931887300755,
          1.837563094875243,
          1.838366204240188,
          1.7403884106493508,
          1.6611601724424259,
          1.5770250233036378,
          1.50622586704036,
          1.5205727129519835,
          1.4668751742027,
          1.422135405595149,
          1.6627174413039858,
          1.5919238959574145,
          1.51751154981599,
          1.4772610551251388,
          1.4578452812385532,
          1.4303813117552298,
          1.3660131119459276,
          1.3333507878560211,
          1.279714322817868,
          1.3084903326075759,
          1.3192259561787358,
          1.4183682657171712,
          1.4007478721007274,
          1.33849306007811,
          1.3109824472696443,
          1.256873043875885,
          1.207639961079758,
          1.1634193952641634,
          1.1397519239160367,
          1.1128130831216152,
          1.1260593135156796,
          1.088970950327988,
          1.0750485238570806,
          1.0465975397974294,
          1.2145686371527868,
          1.1873656857816983,
          1.1450915917927686,
          1.106730742914437,
          1.0866635174380008,
          1.5195818478957357,
          1.505741989593851,
          1.4515184855876464,
          1.4079285204372887,
          1.392055168083856,
          1.348109453804481,
          1.2983245687604068,
          1.3305067562604567,
          1.280166409542157,
          1.2342988783403803,
          1.1973223316056687,
          1.372484666598972,
          1.3127247328529565,
          1.2610734253827975,
          1.2639442294889562,
          1.2474278863496517,
          1.340777025668294,
          1.3140053379890673,
          1.2689332889945981,
          1.281154802514013,
          1.2381419867843202,
          1.2037140228918608,
          1.1760489830634548,
          1.2045734872184386,
          1.1709218113271824,
          1.1345250963620295,
          1.1026804918188724,
          1.0904441528036606,
          1.1581224599973965,
          1.1212857337977817,
          1.0949551309111916,
          1.0613410662425378,
          1.3453478716427472,
          1.2998064727333363,
          1.3017016643231645,
          1.248607813203263,
          1.2020564974201942,
          1.358804925569954,
          1.312645014329942,
          1.2599493442099987,
          1.2126624387899836,
          1.1696139176493576,
          1.1506263263655956,
          1.1239608071806435,
          1.1724683554091846,
          1.1330622522056115,
          1.1648420985375714,
          1.1277447403052603,
          1.1353548880951512,
          1.0974392827620842,
          1.06823924658738,
          1.1057506793786012,
          1.0709117106246673,
          1.1957123447699913,
          1.159681480994968,
          1.1197030003651975,
          1.086169446151521,
          1.0675938903982134,
          1.0767620822858075,
          1.1014652068766895,
          1.0737604497952054,
          1.1073955879855764,
          1.0828698850761624,
          1.1115742186558415,
          1.2336309487570496,
          1.228182441066194,
          1.213518394880723,
          1.172941891475409,
          1.1355850577633388,
          1.1905716837285796,
          1.1527269875311519,
          1.1243272851521524,
          1.0898602129538788,
          1.0624829336933554,
          1.125263478039004,
          1.090583987493223,
          1.0625804323970265,
          1.1047785602505324,
          1.084219305023855,
          1.1916569773807224,
          1.2449539372492489,
          1.1965375876403201,
          1.1726075226484127,
          1.1318931550162707,
          1.6294716231365194,
          1.592656773928223,
          1.5536843622615424,
          1.4797358354891355,
          1.5107037769033582,
          1.4749535591279834,
          1.4212722381866179,
          1.35816338273223,
          1.3051838590247662,
          1.2585008079406228,
          1.2874508561766487,
          1.2485344366497322,
          1.3214540582745562,
          1.2897197843838992,
          1.2810407920777915,
          1.255524435153165,
          1.2076955297603602,
          1.1675913770692135,
          1.1271106652852532,
          1.0899360437872179,
          1.0623889028146796,
          1.0322893268377051,
          1.0126021894318469,
          1.0413140530745664,
          1.0198029682804544,
          1.0133393155520767,
          0.9886121773429747,
          1.0374706958840858,
          1.011170672526764,
          1.036321993634343,
          1.0114810273668977,
          1.0175587494324196,
          0.9940008102527077,
          1.116464542541782,
          1.099982560517479,
          1.0771353219769493,
          1.117117690139282,
          1.1541017012463763,
          1.1239043648915596,
          1.0885605761171901
         ]
        }
       ],
       "layout": {
        "annotations": [
         {
          "align": "center",
          "bgcolor": "white",
          "font": {
           "color": "black",
           "size": 12
          },
          "opacity": 0.7,
          "showarrow": false,
          "text": "",
          "x": 1,
          "xref": "paper",
          "y": 1,
          "yref": "paper"
         }
        ],
        "legend": {
         "traceorder": "normal",
         "x": 0.005,
         "y": 0.995
        },
        "template": {
         "data": {
          "bar": [
           {
            "error_x": {
             "color": "#2a3f5f"
            },
            "error_y": {
             "color": "#2a3f5f"
            },
            "marker": {
             "line": {
              "color": "#E5ECF6",
              "width": 0.5
             },
             "pattern": {
              "fillmode": "overlay",
              "size": 10,
              "solidity": 0.2
             }
            },
            "type": "bar"
           }
          ],
          "barpolar": [
           {
            "marker": {
             "line": {
              "color": "#E5ECF6",
              "width": 0.5
             },
             "pattern": {
              "fillmode": "overlay",
              "size": 10,
              "solidity": 0.2
             }
            },
            "type": "barpolar"
           }
          ],
          "carpet": [
           {
            "aaxis": {
             "endlinecolor": "#2a3f5f",
             "gridcolor": "white",
             "linecolor": "white",
             "minorgridcolor": "white",
             "startlinecolor": "#2a3f5f"
            },
            "baxis": {
             "endlinecolor": "#2a3f5f",
             "gridcolor": "white",
             "linecolor": "white",
             "minorgridcolor": "white",
             "startlinecolor": "#2a3f5f"
            },
            "type": "carpet"
           }
          ],
          "choropleth": [
           {
            "colorbar": {
             "outlinewidth": 0,
             "ticks": ""
            },
            "type": "choropleth"
           }
          ],
          "contour": [
           {
            "colorbar": {
             "outlinewidth": 0,
             "ticks": ""
            },
            "colorscale": [
             [
              0,
              "#0d0887"
             ],
             [
              0.1111111111111111,
              "#46039f"
             ],
             [
              0.2222222222222222,
              "#7201a8"
             ],
             [
              0.3333333333333333,
              "#9c179e"
             ],
             [
              0.4444444444444444,
              "#bd3786"
             ],
             [
              0.5555555555555556,
              "#d8576b"
             ],
             [
              0.6666666666666666,
              "#ed7953"
             ],
             [
              0.7777777777777778,
              "#fb9f3a"
             ],
             [
              0.8888888888888888,
              "#fdca26"
             ],
             [
              1,
              "#f0f921"
             ]
            ],
            "type": "contour"
           }
          ],
          "contourcarpet": [
           {
            "colorbar": {
             "outlinewidth": 0,
             "ticks": ""
            },
            "type": "contourcarpet"
           }
          ],
          "heatmap": [
           {
            "colorbar": {
             "outlinewidth": 0,
             "ticks": ""
            },
            "colorscale": [
             [
              0,
              "#0d0887"
             ],
             [
              0.1111111111111111,
              "#46039f"
             ],
             [
              0.2222222222222222,
              "#7201a8"
             ],
             [
              0.3333333333333333,
              "#9c179e"
             ],
             [
              0.4444444444444444,
              "#bd3786"
             ],
             [
              0.5555555555555556,
              "#d8576b"
             ],
             [
              0.6666666666666666,
              "#ed7953"
             ],
             [
              0.7777777777777778,
              "#fb9f3a"
             ],
             [
              0.8888888888888888,
              "#fdca26"
             ],
             [
              1,
              "#f0f921"
             ]
            ],
            "type": "heatmap"
           }
          ],
          "heatmapgl": [
           {
            "colorbar": {
             "outlinewidth": 0,
             "ticks": ""
            },
            "colorscale": [
             [
              0,
              "#0d0887"
             ],
             [
              0.1111111111111111,
              "#46039f"
             ],
             [
              0.2222222222222222,
              "#7201a8"
             ],
             [
              0.3333333333333333,
              "#9c179e"
             ],
             [
              0.4444444444444444,
              "#bd3786"
             ],
             [
              0.5555555555555556,
              "#d8576b"
             ],
             [
              0.6666666666666666,
              "#ed7953"
             ],
             [
              0.7777777777777778,
              "#fb9f3a"
             ],
             [
              0.8888888888888888,
              "#fdca26"
             ],
             [
              1,
              "#f0f921"
             ]
            ],
            "type": "heatmapgl"
           }
          ],
          "histogram": [
           {
            "marker": {
             "pattern": {
              "fillmode": "overlay",
              "size": 10,
              "solidity": 0.2
             }
            },
            "type": "histogram"
           }
          ],
          "histogram2d": [
           {
            "colorbar": {
             "outlinewidth": 0,
             "ticks": ""
            },
            "colorscale": [
             [
              0,
              "#0d0887"
             ],
             [
              0.1111111111111111,
              "#46039f"
             ],
             [
              0.2222222222222222,
              "#7201a8"
             ],
             [
              0.3333333333333333,
              "#9c179e"
             ],
             [
              0.4444444444444444,
              "#bd3786"
             ],
             [
              0.5555555555555556,
              "#d8576b"
             ],
             [
              0.6666666666666666,
              "#ed7953"
             ],
             [
              0.7777777777777778,
              "#fb9f3a"
             ],
             [
              0.8888888888888888,
              "#fdca26"
             ],
             [
              1,
              "#f0f921"
             ]
            ],
            "type": "histogram2d"
           }
          ],
          "histogram2dcontour": [
           {
            "colorbar": {
             "outlinewidth": 0,
             "ticks": ""
            },
            "colorscale": [
             [
              0,
              "#0d0887"
             ],
             [
              0.1111111111111111,
              "#46039f"
             ],
             [
              0.2222222222222222,
              "#7201a8"
             ],
             [
              0.3333333333333333,
              "#9c179e"
             ],
             [
              0.4444444444444444,
              "#bd3786"
             ],
             [
              0.5555555555555556,
              "#d8576b"
             ],
             [
              0.6666666666666666,
              "#ed7953"
             ],
             [
              0.7777777777777778,
              "#fb9f3a"
             ],
             [
              0.8888888888888888,
              "#fdca26"
             ],
             [
              1,
              "#f0f921"
             ]
            ],
            "type": "histogram2dcontour"
           }
          ],
          "mesh3d": [
           {
            "colorbar": {
             "outlinewidth": 0,
             "ticks": ""
            },
            "type": "mesh3d"
           }
          ],
          "parcoords": [
           {
            "line": {
             "colorbar": {
              "outlinewidth": 0,
              "ticks": ""
             }
            },
            "type": "parcoords"
           }
          ],
          "pie": [
           {
            "automargin": true,
            "type": "pie"
           }
          ],
          "scatter": [
           {
            "fillpattern": {
             "fillmode": "overlay",
             "size": 10,
             "solidity": 0.2
            },
            "type": "scatter"
           }
          ],
          "scatter3d": [
           {
            "line": {
             "colorbar": {
              "outlinewidth": 0,
              "ticks": ""
             }
            },
            "marker": {
             "colorbar": {
              "outlinewidth": 0,
              "ticks": ""
             }
            },
            "type": "scatter3d"
           }
          ],
          "scattercarpet": [
           {
            "marker": {
             "colorbar": {
              "outlinewidth": 0,
              "ticks": ""
             }
            },
            "type": "scattercarpet"
           }
          ],
          "scattergeo": [
           {
            "marker": {
             "colorbar": {
              "outlinewidth": 0,
              "ticks": ""
             }
            },
            "type": "scattergeo"
           }
          ],
          "scattergl": [
           {
            "marker": {
             "colorbar": {
              "outlinewidth": 0,
              "ticks": ""
             }
            },
            "type": "scattergl"
           }
          ],
          "scattermapbox": [
           {
            "marker": {
             "colorbar": {
              "outlinewidth": 0,
              "ticks": ""
             }
            },
            "type": "scattermapbox"
           }
          ],
          "scatterpolar": [
           {
            "marker": {
             "colorbar": {
              "outlinewidth": 0,
              "ticks": ""
             }
            },
            "type": "scatterpolar"
           }
          ],
          "scatterpolargl": [
           {
            "marker": {
             "colorbar": {
              "outlinewidth": 0,
              "ticks": ""
             }
            },
            "type": "scatterpolargl"
           }
          ],
          "scatterternary": [
           {
            "marker": {
             "colorbar": {
              "outlinewidth": 0,
              "ticks": ""
             }
            },
            "type": "scatterternary"
           }
          ],
          "surface": [
           {
            "colorbar": {
             "outlinewidth": 0,
             "ticks": ""
            },
            "colorscale": [
             [
              0,
              "#0d0887"
             ],
             [
              0.1111111111111111,
              "#46039f"
             ],
             [
              0.2222222222222222,
              "#7201a8"
             ],
             [
              0.3333333333333333,
              "#9c179e"
             ],
             [
              0.4444444444444444,
              "#bd3786"
             ],
             [
              0.5555555555555556,
              "#d8576b"
             ],
             [
              0.6666666666666666,
              "#ed7953"
             ],
             [
              0.7777777777777778,
              "#fb9f3a"
             ],
             [
              0.8888888888888888,
              "#fdca26"
             ],
             [
              1,
              "#f0f921"
             ]
            ],
            "type": "surface"
           }
          ],
          "table": [
           {
            "cells": {
             "fill": {
              "color": "#EBF0F8"
             },
             "line": {
              "color": "white"
             }
            },
            "header": {
             "fill": {
              "color": "#C8D4E3"
             },
             "line": {
              "color": "white"
             }
            },
            "type": "table"
           }
          ]
         },
         "layout": {
          "annotationdefaults": {
           "arrowcolor": "#2a3f5f",
           "arrowhead": 0,
           "arrowwidth": 1
          },
          "autotypenumbers": "strict",
          "coloraxis": {
           "colorbar": {
            "outlinewidth": 0,
            "ticks": ""
           }
          },
          "colorscale": {
           "diverging": [
            [
             0,
             "#8e0152"
            ],
            [
             0.1,
             "#c51b7d"
            ],
            [
             0.2,
             "#de77ae"
            ],
            [
             0.3,
             "#f1b6da"
            ],
            [
             0.4,
             "#fde0ef"
            ],
            [
             0.5,
             "#f7f7f7"
            ],
            [
             0.6,
             "#e6f5d0"
            ],
            [
             0.7,
             "#b8e186"
            ],
            [
             0.8,
             "#7fbc41"
            ],
            [
             0.9,
             "#4d9221"
            ],
            [
             1,
             "#276419"
            ]
           ],
           "sequential": [
            [
             0,
             "#0d0887"
            ],
            [
             0.1111111111111111,
             "#46039f"
            ],
            [
             0.2222222222222222,
             "#7201a8"
            ],
            [
             0.3333333333333333,
             "#9c179e"
            ],
            [
             0.4444444444444444,
             "#bd3786"
            ],
            [
             0.5555555555555556,
             "#d8576b"
            ],
            [
             0.6666666666666666,
             "#ed7953"
            ],
            [
             0.7777777777777778,
             "#fb9f3a"
            ],
            [
             0.8888888888888888,
             "#fdca26"
            ],
            [
             1,
             "#f0f921"
            ]
           ],
           "sequentialminus": [
            [
             0,
             "#0d0887"
            ],
            [
             0.1111111111111111,
             "#46039f"
            ],
            [
             0.2222222222222222,
             "#7201a8"
            ],
            [
             0.3333333333333333,
             "#9c179e"
            ],
            [
             0.4444444444444444,
             "#bd3786"
            ],
            [
             0.5555555555555556,
             "#d8576b"
            ],
            [
             0.6666666666666666,
             "#ed7953"
            ],
            [
             0.7777777777777778,
             "#fb9f3a"
            ],
            [
             0.8888888888888888,
             "#fdca26"
            ],
            [
             1,
             "#f0f921"
            ]
           ]
          },
          "colorway": [
           "#636efa",
           "#EF553B",
           "#00cc96",
           "#ab63fa",
           "#FFA15A",
           "#19d3f3",
           "#FF6692",
           "#B6E880",
           "#FF97FF",
           "#FECB52"
          ],
          "font": {
           "color": "#2a3f5f"
          },
          "geo": {
           "bgcolor": "white",
           "lakecolor": "white",
           "landcolor": "#E5ECF6",
           "showlakes": true,
           "showland": true,
           "subunitcolor": "white"
          },
          "hoverlabel": {
           "align": "left"
          },
          "hovermode": "closest",
          "mapbox": {
           "style": "light"
          },
          "paper_bgcolor": "white",
          "plot_bgcolor": "#E5ECF6",
          "polar": {
           "angularaxis": {
            "gridcolor": "white",
            "linecolor": "white",
            "ticks": ""
           },
           "bgcolor": "#E5ECF6",
           "radialaxis": {
            "gridcolor": "white",
            "linecolor": "white",
            "ticks": ""
           }
          },
          "scene": {
           "xaxis": {
            "backgroundcolor": "#E5ECF6",
            "gridcolor": "white",
            "gridwidth": 2,
            "linecolor": "white",
            "showbackground": true,
            "ticks": "",
            "zerolinecolor": "white"
           },
           "yaxis": {
            "backgroundcolor": "#E5ECF6",
            "gridcolor": "white",
            "gridwidth": 2,
            "linecolor": "white",
            "showbackground": true,
            "ticks": "",
            "zerolinecolor": "white"
           },
           "zaxis": {
            "backgroundcolor": "#E5ECF6",
            "gridcolor": "white",
            "gridwidth": 2,
            "linecolor": "white",
            "showbackground": true,
            "ticks": "",
            "zerolinecolor": "white"
           }
          },
          "shapedefaults": {
           "line": {
            "color": "#2a3f5f"
           }
          },
          "ternary": {
           "aaxis": {
            "gridcolor": "white",
            "linecolor": "white",
            "ticks": ""
           },
           "baxis": {
            "gridcolor": "white",
            "linecolor": "white",
            "ticks": ""
           },
           "bgcolor": "#E5ECF6",
           "caxis": {
            "gridcolor": "white",
            "linecolor": "white",
            "ticks": ""
           }
          },
          "title": {
           "x": 0.05
          },
          "xaxis": {
           "automargin": true,
           "gridcolor": "white",
           "linecolor": "white",
           "ticks": "",
           "title": {
            "standoff": 15
           },
           "zerolinecolor": "white",
           "zerolinewidth": 2
          },
          "yaxis": {
           "automargin": true,
           "gridcolor": "white",
           "linecolor": "white",
           "ticks": "",
           "title": {
            "standoff": 15
           },
           "zerolinecolor": "white",
           "zerolinewidth": 2
          }
         }
        },
        "title": {
         "text": "Volatilidade Condicional das Ações da Coca-Cola e JPMorgan"
        },
        "xaxis": {
         "title": {
          "text": "Data"
         }
        },
        "yaxis": {
         "title": {
          "text": "Volatilidade condicional"
         }
        }
       }
      }
     },
     "metadata": {},
     "output_type": "display_data"
    }
   ],
   "source": [
    "plot_multiples_time_series_line_graphs([coca_cola_conditional_volatility, jpmorgan_conditional_volatility], \"Volatilidade Condicional das Ações da Coca-Cola e JPMorgan\", \"Data\", \"Volatilidade condicional\")"
   ]
  },
  {
   "cell_type": "code",
   "execution_count": 39,
   "metadata": {},
   "outputs": [],
   "source": [
    "# Cria uma instância do modelo LSTM, passando o número de features e o comprimento das sequências de tempo (janelas temporais) para \n",
    "# preparar o modelo.\n",
    "model = Model(9,setup['lstm_time_sequences_length'])\n",
    "\n",
    "# Constrói a arquitetura da rede LSTM, configurando as camadas e os parâmetros necessários para o treinamento do modelo.\n",
    "model.create_LSTM_model()"
   ]
  },
  {
   "cell_type": "code",
   "execution_count": 40,
   "metadata": {},
   "outputs": [],
   "source": [
    "def get_ticker_period_results(ticker: Ticker, predicted: pd.Series) -> list: \n",
    "    '''\n",
    "        Description:\n",
    "            ...\n",
    "        Args:\n",
    "            ticker (Ticker): Objeto do tipo Ticker que contém dados e informações relevantes do ativo.\n",
    "            predicted (pd.Series): Série temporal contendo os valores preditos do preço do ativo.\n",
    "        Return:\n",
    "            pd.DataFrame: ... \n",
    "    '''\n",
    "\n",
    "    # Redimensiona y_train para que ele seja bidimensional (Necessário para o MinMaxScaler).\n",
    "    resized_y_train = ticker.__y_train__.values.reshape(-1, 1)  \n",
    "\n",
    "    # Cria uma instancia do MinMaxScaler para o target do ticker em questão.\n",
    "    scaler_target = MinMaxScaler()\n",
    "\n",
    "    # Ajusta a instância criada acima ao conjunto de treino do target do ticker em questão.\n",
    "    scaler_target.fit_transform(resized_y_train)\n",
    "\n",
    "    # Volta os valores de \"y_test_scaled_sequences\" para a escala normal e associa a esses valores as suas datas originais, criando assim\n",
    "    # uma série temporal.\n",
    "    real_y = pd.Series(scaler_target.inverse_transform(ticker.__y_test_scaled_sequences__).flatten(),\n",
    "                    index= ticker.__y_test__.index[len(ticker.__y_test__) - len(ticker.__y_test_scaled_sequences__):]\n",
    "    )\n",
    "    \n",
    "    # Adiciona um nome a série temporal \"real_y\".\n",
    "    real_y.name = f\"Preço real de {ticker.symbol}\" # Útil para eventuais gráficos.\n",
    "\n",
    "    # Volta os valores estimados para a escala normal e associa a esses valores as suas datas originais, criando assim\n",
    "    # uma série temporal.\n",
    "    predicted_y = pd.Series(\n",
    "        scaler_target.inverse_transform(predicted).flatten(),\n",
    "        index=ticker.__y_test__.index[len(ticker.__y_test__) - len(ticker.__y_test_scaled_sequences__):]\n",
    "    )\n",
    "    \n",
    "    # Adiciona um nome a série temporal \"real_y\".\n",
    "    predicted_y.name = f\"Preço predito de {ticker.symbol}\" # Útil para eventuais gráficos.\n",
    "\n",
    "    return real_y, predicted_y"
   ]
  },
  {
   "cell_type": "code",
   "execution_count": 41,
   "metadata": {},
   "outputs": [
    {
     "name": "stdout",
     "output_type": "stream",
     "text": [
      "\u001b[1m1/1\u001b[0m \u001b[32m━━━━━━━━━━━━━━━━━━━━\u001b[0m\u001b[37m\u001b[0m \u001b[1m0s\u001b[0m 460ms/step\n"
     ]
    }
   ],
   "source": [
    "# Define o período a ser predito como sendo o período 61 da estratégia mensal.\n",
    "test_initial_day = datetime(2023,11,28).date()\n",
    "test_final_day = datetime(2023,12,27).date()\n",
    "\n",
    "\n",
    "# Obtem os dados do ticker em questão em formato adequado para que o modelo LSTM possa realizer a predição.\n",
    "X_train_scaled_sequences, X_test_scaled_sequences, y_train_scaled_sequences, y_test_scaled_sequences = jpmorgan_data.prepare_data_for_lstm(\n",
    "    test_initial_day, test_final_day, setup['lstm_time_sequences_length'])\n",
    "#\n",
    "predicted, RMSE = model.train_model_and_get_results(X_train_scaled_sequences, X_test_scaled_sequences, y_train_scaled_sequences, y_test_scaled_sequences)\n",
    "\n",
    "#\n",
    "predicted_time_series, real_time_series = get_ticker_period_results(jpmorgan_data, predicted)\n",
    "\n",
    "#\n",
    "predicted_time_series.name = f\"Valores preditos para {jpmorgan_data.symbol}\"\n",
    "real_time_series.name = f\"Valores reais de {jpmorgan_data.symbol}\"\n",
    "\n",
    "results = {\n",
    "    \"Predicted\": predicted_time_series,\n",
    "    \"Real\": real_time_series,\n",
    "    \"RMSE\": RMSE\n",
    "}\n",
    "    "
   ]
  },
  {
   "cell_type": "code",
   "execution_count": 42,
   "metadata": {},
   "outputs": [
    {
     "data": {
      "application/vnd.plotly.v1+json": {
       "config": {
        "plotlyServerURL": "https://plot.ly"
       },
       "data": [
        {
         "mode": "lines",
         "name": "Valores preditos para JPM",
         "type": "scatter",
         "x": [
          "2023-12-01T00:00:00",
          "2023-12-04T00:00:00",
          "2023-12-05T00:00:00",
          "2023-12-06T00:00:00",
          "2023-12-07T00:00:00",
          "2023-12-08T00:00:00",
          "2023-12-11T00:00:00",
          "2023-12-12T00:00:00",
          "2023-12-13T00:00:00",
          "2023-12-14T00:00:00",
          "2023-12-15T00:00:00",
          "2023-12-18T00:00:00",
          "2023-12-19T00:00:00",
          "2023-12-20T00:00:00",
          "2023-12-21T00:00:00",
          "2023-12-22T00:00:00",
          "2023-12-26T00:00:00"
         ],
         "y": [
          153.18211364746094,
          154.3052978515625,
          154.28575134277344,
          152.6644744873047,
          153.13327026367188,
          154.8229217529297,
          155.38941955566406,
          156.7762908935547,
          157.30368041992188,
          160.1653594970703,
          161.3764190673828,
          162.35311889648438,
          164.52134704589844,
          162.6656494140625,
          163.593505859375,
          163.49581909179688,
          164.4627227783203
         ]
        },
        {
         "mode": "lines",
         "name": "Valores reais de JPM",
         "type": "scatter",
         "x": [
          "2023-12-01T00:00:00",
          "2023-12-04T00:00:00",
          "2023-12-05T00:00:00",
          "2023-12-06T00:00:00",
          "2023-12-07T00:00:00",
          "2023-12-08T00:00:00",
          "2023-12-11T00:00:00",
          "2023-12-12T00:00:00",
          "2023-12-13T00:00:00",
          "2023-12-14T00:00:00",
          "2023-12-15T00:00:00",
          "2023-12-18T00:00:00",
          "2023-12-19T00:00:00",
          "2023-12-20T00:00:00",
          "2023-12-21T00:00:00",
          "2023-12-22T00:00:00",
          "2023-12-26T00:00:00"
         ],
         "y": [
          151.7952423095703,
          152.95370483398438,
          153.45611572265625,
          154.10008239746094,
          153.1974639892578,
          152.9491729736328,
          154.62411499023438,
          155.3502960205078,
          156.47157287597656,
          156.84332275390625,
          157.7489013671875,
          158.97177124023438,
          160.03103637695312,
          161.38906860351562,
          160.3973846435547,
          161.1130828857422,
          162.66883850097656
         ]
        }
       ],
       "layout": {
        "annotations": [
         {
          "align": "center",
          "bgcolor": "white",
          "font": {
           "color": "black",
           "size": 12
          },
          "opacity": 0.7,
          "showarrow": false,
          "text": "RMSE: 0.0258",
          "x": 1,
          "xref": "paper",
          "y": 1,
          "yref": "paper"
         }
        ],
        "legend": {
         "traceorder": "normal",
         "x": 0.005,
         "y": 0.995
        },
        "template": {
         "data": {
          "bar": [
           {
            "error_x": {
             "color": "#2a3f5f"
            },
            "error_y": {
             "color": "#2a3f5f"
            },
            "marker": {
             "line": {
              "color": "#E5ECF6",
              "width": 0.5
             },
             "pattern": {
              "fillmode": "overlay",
              "size": 10,
              "solidity": 0.2
             }
            },
            "type": "bar"
           }
          ],
          "barpolar": [
           {
            "marker": {
             "line": {
              "color": "#E5ECF6",
              "width": 0.5
             },
             "pattern": {
              "fillmode": "overlay",
              "size": 10,
              "solidity": 0.2
             }
            },
            "type": "barpolar"
           }
          ],
          "carpet": [
           {
            "aaxis": {
             "endlinecolor": "#2a3f5f",
             "gridcolor": "white",
             "linecolor": "white",
             "minorgridcolor": "white",
             "startlinecolor": "#2a3f5f"
            },
            "baxis": {
             "endlinecolor": "#2a3f5f",
             "gridcolor": "white",
             "linecolor": "white",
             "minorgridcolor": "white",
             "startlinecolor": "#2a3f5f"
            },
            "type": "carpet"
           }
          ],
          "choropleth": [
           {
            "colorbar": {
             "outlinewidth": 0,
             "ticks": ""
            },
            "type": "choropleth"
           }
          ],
          "contour": [
           {
            "colorbar": {
             "outlinewidth": 0,
             "ticks": ""
            },
            "colorscale": [
             [
              0,
              "#0d0887"
             ],
             [
              0.1111111111111111,
              "#46039f"
             ],
             [
              0.2222222222222222,
              "#7201a8"
             ],
             [
              0.3333333333333333,
              "#9c179e"
             ],
             [
              0.4444444444444444,
              "#bd3786"
             ],
             [
              0.5555555555555556,
              "#d8576b"
             ],
             [
              0.6666666666666666,
              "#ed7953"
             ],
             [
              0.7777777777777778,
              "#fb9f3a"
             ],
             [
              0.8888888888888888,
              "#fdca26"
             ],
             [
              1,
              "#f0f921"
             ]
            ],
            "type": "contour"
           }
          ],
          "contourcarpet": [
           {
            "colorbar": {
             "outlinewidth": 0,
             "ticks": ""
            },
            "type": "contourcarpet"
           }
          ],
          "heatmap": [
           {
            "colorbar": {
             "outlinewidth": 0,
             "ticks": ""
            },
            "colorscale": [
             [
              0,
              "#0d0887"
             ],
             [
              0.1111111111111111,
              "#46039f"
             ],
             [
              0.2222222222222222,
              "#7201a8"
             ],
             [
              0.3333333333333333,
              "#9c179e"
             ],
             [
              0.4444444444444444,
              "#bd3786"
             ],
             [
              0.5555555555555556,
              "#d8576b"
             ],
             [
              0.6666666666666666,
              "#ed7953"
             ],
             [
              0.7777777777777778,
              "#fb9f3a"
             ],
             [
              0.8888888888888888,
              "#fdca26"
             ],
             [
              1,
              "#f0f921"
             ]
            ],
            "type": "heatmap"
           }
          ],
          "heatmapgl": [
           {
            "colorbar": {
             "outlinewidth": 0,
             "ticks": ""
            },
            "colorscale": [
             [
              0,
              "#0d0887"
             ],
             [
              0.1111111111111111,
              "#46039f"
             ],
             [
              0.2222222222222222,
              "#7201a8"
             ],
             [
              0.3333333333333333,
              "#9c179e"
             ],
             [
              0.4444444444444444,
              "#bd3786"
             ],
             [
              0.5555555555555556,
              "#d8576b"
             ],
             [
              0.6666666666666666,
              "#ed7953"
             ],
             [
              0.7777777777777778,
              "#fb9f3a"
             ],
             [
              0.8888888888888888,
              "#fdca26"
             ],
             [
              1,
              "#f0f921"
             ]
            ],
            "type": "heatmapgl"
           }
          ],
          "histogram": [
           {
            "marker": {
             "pattern": {
              "fillmode": "overlay",
              "size": 10,
              "solidity": 0.2
             }
            },
            "type": "histogram"
           }
          ],
          "histogram2d": [
           {
            "colorbar": {
             "outlinewidth": 0,
             "ticks": ""
            },
            "colorscale": [
             [
              0,
              "#0d0887"
             ],
             [
              0.1111111111111111,
              "#46039f"
             ],
             [
              0.2222222222222222,
              "#7201a8"
             ],
             [
              0.3333333333333333,
              "#9c179e"
             ],
             [
              0.4444444444444444,
              "#bd3786"
             ],
             [
              0.5555555555555556,
              "#d8576b"
             ],
             [
              0.6666666666666666,
              "#ed7953"
             ],
             [
              0.7777777777777778,
              "#fb9f3a"
             ],
             [
              0.8888888888888888,
              "#fdca26"
             ],
             [
              1,
              "#f0f921"
             ]
            ],
            "type": "histogram2d"
           }
          ],
          "histogram2dcontour": [
           {
            "colorbar": {
             "outlinewidth": 0,
             "ticks": ""
            },
            "colorscale": [
             [
              0,
              "#0d0887"
             ],
             [
              0.1111111111111111,
              "#46039f"
             ],
             [
              0.2222222222222222,
              "#7201a8"
             ],
             [
              0.3333333333333333,
              "#9c179e"
             ],
             [
              0.4444444444444444,
              "#bd3786"
             ],
             [
              0.5555555555555556,
              "#d8576b"
             ],
             [
              0.6666666666666666,
              "#ed7953"
             ],
             [
              0.7777777777777778,
              "#fb9f3a"
             ],
             [
              0.8888888888888888,
              "#fdca26"
             ],
             [
              1,
              "#f0f921"
             ]
            ],
            "type": "histogram2dcontour"
           }
          ],
          "mesh3d": [
           {
            "colorbar": {
             "outlinewidth": 0,
             "ticks": ""
            },
            "type": "mesh3d"
           }
          ],
          "parcoords": [
           {
            "line": {
             "colorbar": {
              "outlinewidth": 0,
              "ticks": ""
             }
            },
            "type": "parcoords"
           }
          ],
          "pie": [
           {
            "automargin": true,
            "type": "pie"
           }
          ],
          "scatter": [
           {
            "fillpattern": {
             "fillmode": "overlay",
             "size": 10,
             "solidity": 0.2
            },
            "type": "scatter"
           }
          ],
          "scatter3d": [
           {
            "line": {
             "colorbar": {
              "outlinewidth": 0,
              "ticks": ""
             }
            },
            "marker": {
             "colorbar": {
              "outlinewidth": 0,
              "ticks": ""
             }
            },
            "type": "scatter3d"
           }
          ],
          "scattercarpet": [
           {
            "marker": {
             "colorbar": {
              "outlinewidth": 0,
              "ticks": ""
             }
            },
            "type": "scattercarpet"
           }
          ],
          "scattergeo": [
           {
            "marker": {
             "colorbar": {
              "outlinewidth": 0,
              "ticks": ""
             }
            },
            "type": "scattergeo"
           }
          ],
          "scattergl": [
           {
            "marker": {
             "colorbar": {
              "outlinewidth": 0,
              "ticks": ""
             }
            },
            "type": "scattergl"
           }
          ],
          "scattermapbox": [
           {
            "marker": {
             "colorbar": {
              "outlinewidth": 0,
              "ticks": ""
             }
            },
            "type": "scattermapbox"
           }
          ],
          "scatterpolar": [
           {
            "marker": {
             "colorbar": {
              "outlinewidth": 0,
              "ticks": ""
             }
            },
            "type": "scatterpolar"
           }
          ],
          "scatterpolargl": [
           {
            "marker": {
             "colorbar": {
              "outlinewidth": 0,
              "ticks": ""
             }
            },
            "type": "scatterpolargl"
           }
          ],
          "scatterternary": [
           {
            "marker": {
             "colorbar": {
              "outlinewidth": 0,
              "ticks": ""
             }
            },
            "type": "scatterternary"
           }
          ],
          "surface": [
           {
            "colorbar": {
             "outlinewidth": 0,
             "ticks": ""
            },
            "colorscale": [
             [
              0,
              "#0d0887"
             ],
             [
              0.1111111111111111,
              "#46039f"
             ],
             [
              0.2222222222222222,
              "#7201a8"
             ],
             [
              0.3333333333333333,
              "#9c179e"
             ],
             [
              0.4444444444444444,
              "#bd3786"
             ],
             [
              0.5555555555555556,
              "#d8576b"
             ],
             [
              0.6666666666666666,
              "#ed7953"
             ],
             [
              0.7777777777777778,
              "#fb9f3a"
             ],
             [
              0.8888888888888888,
              "#fdca26"
             ],
             [
              1,
              "#f0f921"
             ]
            ],
            "type": "surface"
           }
          ],
          "table": [
           {
            "cells": {
             "fill": {
              "color": "#EBF0F8"
             },
             "line": {
              "color": "white"
             }
            },
            "header": {
             "fill": {
              "color": "#C8D4E3"
             },
             "line": {
              "color": "white"
             }
            },
            "type": "table"
           }
          ]
         },
         "layout": {
          "annotationdefaults": {
           "arrowcolor": "#2a3f5f",
           "arrowhead": 0,
           "arrowwidth": 1
          },
          "autotypenumbers": "strict",
          "coloraxis": {
           "colorbar": {
            "outlinewidth": 0,
            "ticks": ""
           }
          },
          "colorscale": {
           "diverging": [
            [
             0,
             "#8e0152"
            ],
            [
             0.1,
             "#c51b7d"
            ],
            [
             0.2,
             "#de77ae"
            ],
            [
             0.3,
             "#f1b6da"
            ],
            [
             0.4,
             "#fde0ef"
            ],
            [
             0.5,
             "#f7f7f7"
            ],
            [
             0.6,
             "#e6f5d0"
            ],
            [
             0.7,
             "#b8e186"
            ],
            [
             0.8,
             "#7fbc41"
            ],
            [
             0.9,
             "#4d9221"
            ],
            [
             1,
             "#276419"
            ]
           ],
           "sequential": [
            [
             0,
             "#0d0887"
            ],
            [
             0.1111111111111111,
             "#46039f"
            ],
            [
             0.2222222222222222,
             "#7201a8"
            ],
            [
             0.3333333333333333,
             "#9c179e"
            ],
            [
             0.4444444444444444,
             "#bd3786"
            ],
            [
             0.5555555555555556,
             "#d8576b"
            ],
            [
             0.6666666666666666,
             "#ed7953"
            ],
            [
             0.7777777777777778,
             "#fb9f3a"
            ],
            [
             0.8888888888888888,
             "#fdca26"
            ],
            [
             1,
             "#f0f921"
            ]
           ],
           "sequentialminus": [
            [
             0,
             "#0d0887"
            ],
            [
             0.1111111111111111,
             "#46039f"
            ],
            [
             0.2222222222222222,
             "#7201a8"
            ],
            [
             0.3333333333333333,
             "#9c179e"
            ],
            [
             0.4444444444444444,
             "#bd3786"
            ],
            [
             0.5555555555555556,
             "#d8576b"
            ],
            [
             0.6666666666666666,
             "#ed7953"
            ],
            [
             0.7777777777777778,
             "#fb9f3a"
            ],
            [
             0.8888888888888888,
             "#fdca26"
            ],
            [
             1,
             "#f0f921"
            ]
           ]
          },
          "colorway": [
           "#636efa",
           "#EF553B",
           "#00cc96",
           "#ab63fa",
           "#FFA15A",
           "#19d3f3",
           "#FF6692",
           "#B6E880",
           "#FF97FF",
           "#FECB52"
          ],
          "font": {
           "color": "#2a3f5f"
          },
          "geo": {
           "bgcolor": "white",
           "lakecolor": "white",
           "landcolor": "#E5ECF6",
           "showlakes": true,
           "showland": true,
           "subunitcolor": "white"
          },
          "hoverlabel": {
           "align": "left"
          },
          "hovermode": "closest",
          "mapbox": {
           "style": "light"
          },
          "paper_bgcolor": "white",
          "plot_bgcolor": "#E5ECF6",
          "polar": {
           "angularaxis": {
            "gridcolor": "white",
            "linecolor": "white",
            "ticks": ""
           },
           "bgcolor": "#E5ECF6",
           "radialaxis": {
            "gridcolor": "white",
            "linecolor": "white",
            "ticks": ""
           }
          },
          "scene": {
           "xaxis": {
            "backgroundcolor": "#E5ECF6",
            "gridcolor": "white",
            "gridwidth": 2,
            "linecolor": "white",
            "showbackground": true,
            "ticks": "",
            "zerolinecolor": "white"
           },
           "yaxis": {
            "backgroundcolor": "#E5ECF6",
            "gridcolor": "white",
            "gridwidth": 2,
            "linecolor": "white",
            "showbackground": true,
            "ticks": "",
            "zerolinecolor": "white"
           },
           "zaxis": {
            "backgroundcolor": "#E5ECF6",
            "gridcolor": "white",
            "gridwidth": 2,
            "linecolor": "white",
            "showbackground": true,
            "ticks": "",
            "zerolinecolor": "white"
           }
          },
          "shapedefaults": {
           "line": {
            "color": "#2a3f5f"
           }
          },
          "ternary": {
           "aaxis": {
            "gridcolor": "white",
            "linecolor": "white",
            "ticks": ""
           },
           "baxis": {
            "gridcolor": "white",
            "linecolor": "white",
            "ticks": ""
           },
           "bgcolor": "#E5ECF6",
           "caxis": {
            "gridcolor": "white",
            "linecolor": "white",
            "ticks": ""
           }
          },
          "title": {
           "x": 0.05
          },
          "xaxis": {
           "automargin": true,
           "gridcolor": "white",
           "linecolor": "white",
           "ticks": "",
           "title": {
            "standoff": 15
           },
           "zerolinecolor": "white",
           "zerolinewidth": 2
          },
          "yaxis": {
           "automargin": true,
           "gridcolor": "white",
           "linecolor": "white",
           "ticks": "",
           "title": {
            "standoff": 15
           },
           "zerolinecolor": "white",
           "zerolinewidth": 2
          }
         }
        },
        "title": {
         "text": "Valor Previsto vs. Valor Real das Ações do JPMorgan"
        },
        "xaxis": {
         "title": {
          "text": "Data"
         }
        },
        "yaxis": {
         "title": {
          "text": "Preço de Fechamento Ajustado"
         }
        }
       }
      }
     },
     "metadata": {},
     "output_type": "display_data"
    }
   ],
   "source": [
    "plot_multiples_time_series_line_graphs([results['Predicted'], results['Real']], \"Valor Previsto vs. Valor Real das Ações do JPMorgan\", \"Data\", \"Preço de Fechamento Ajustado\", f\"RMSE: {results['RMSE']:.4f}\")"
   ]
  },
  {
   "cell_type": "markdown",
   "metadata": {},
   "source": [
    "#### *Código para gráficos de risco*"
   ]
  },
  {
   "cell_type": "code",
   "execution_count": 43,
   "metadata": {},
   "outputs": [
    {
     "data": {
      "application/vnd.plotly.v1+json": {
       "config": {
        "plotlyServerURL": "https://plot.ly"
       },
       "data": [
        {
         "line": {
          "color": "blue",
          "width": 2
         },
         "mode": "lines",
         "name": "Sharpe Ratio da Estratégia",
         "type": "scatter",
         "x": [
          "2019-02-22T00:00:00",
          "2019-03-21T00:00:00",
          "2019-04-18T00:00:00",
          "2019-05-17T00:00:00",
          "2019-06-17T00:00:00",
          "2019-07-16T00:00:00",
          "2019-08-13T00:00:00",
          "2019-09-11T00:00:00",
          "2019-10-09T00:00:00",
          "2019-11-06T00:00:00",
          "2019-12-05T00:00:00",
          "2020-01-06T00:00:00",
          "2020-02-04T00:00:00",
          "2020-03-04T00:00:00",
          "2020-04-30T00:00:00",
          "2020-05-29T00:00:00",
          "2020-06-26T00:00:00",
          "2020-07-27T00:00:00",
          "2020-08-24T00:00:00",
          "2020-09-22T00:00:00",
          "2020-10-20T00:00:00",
          "2020-11-17T00:00:00",
          "2020-12-16T00:00:00",
          "2021-01-15T00:00:00",
          "2021-02-16T00:00:00",
          "2021-03-16T00:00:00",
          "2021-04-14T00:00:00",
          "2021-05-12T00:00:00",
          "2021-06-10T00:00:00",
          "2021-07-09T00:00:00",
          "2021-08-06T00:00:00",
          "2021-09-03T00:00:00",
          "2021-10-04T00:00:00",
          "2021-11-01T00:00:00",
          "2021-11-30T00:00:00",
          "2021-12-29T00:00:00",
          "2022-01-27T00:00:00",
          "2022-02-25T00:00:00",
          "2022-03-25T00:00:00",
          "2022-04-25T00:00:00",
          "2022-05-23T00:00:00",
          "2022-06-22T00:00:00",
          "2022-07-21T00:00:00",
          "2022-08-18T00:00:00",
          "2022-09-16T00:00:00",
          "2022-10-14T00:00:00",
          "2022-11-11T00:00:00",
          "2022-12-12T00:00:00",
          "2023-01-11T00:00:00",
          "2023-02-09T00:00:00",
          "2023-03-10T00:00:00",
          "2023-04-10T00:00:00",
          "2023-05-08T00:00:00",
          "2023-06-06T00:00:00",
          "2023-07-06T00:00:00",
          "2023-08-03T00:00:00",
          "2023-08-31T00:00:00",
          "2023-09-29T00:00:00",
          "2023-10-27T00:00:00",
          "2023-11-27T00:00:00",
          "2023-12-26T00:00:00"
         ],
         "y": [
          null,
          null,
          null,
          null,
          null,
          1.77793060918026,
          3.208405703126258,
          3.9954570992155745,
          3.8727149452100273,
          3.731083991621589,
          4.819558052285957,
          3.9268564770537795,
          4.0668585357744265,
          4.052924781466555,
          4.128027037071502,
          5.058995567397618,
          2.839702908855645,
          2.708251307105912,
          3.1639015353640434,
          3.0961822036845073,
          3.357983972136774,
          3.829727970033682,
          3.1734289165061247,
          5.543243144131519,
          4.998858092616912,
          4.664441144205529,
          3.3418606316893262,
          3.3611945424871434,
          3.5964583638867205,
          3.6403409781920684,
          5.6927295238346725,
          4.927261174008475,
          6.011248995892177,
          6.254163302338992,
          7.405094043510871,
          10.20997817022074,
          2.452045486502302,
          2.6768453232138576,
          2.2710254092078968,
          2.2720478616141544,
          2.3808089858130734,
          2.763023858372842,
          2.9840405995632255,
          2.9947897383374884,
          3.8173633904969755,
          4.206433035306177,
          3.743420758007767,
          3.428738785425612,
          2.5598696867172905,
          2.5424649743781975,
          2.8509736590156636,
          2.3211395921411384,
          3.59996561146098,
          3.6326841986698972,
          3.8739046299525786,
          4.289874654923092,
          3.957541021204886,
          5.340724846119941,
          5.0424596040208,
          5.0731631335569585,
          6.244459421705527
         ]
        },
        {
         "line": {
          "color": "green",
          "width": 2
         },
         "mode": "lines",
         "name": "Sharpe Ratio do S&P 500",
         "type": "scatter",
         "x": [
          "2019-02-22T00:00:00",
          "2019-03-21T00:00:00",
          "2019-04-18T00:00:00",
          "2019-05-17T00:00:00",
          "2019-06-17T00:00:00",
          "2019-07-16T00:00:00",
          "2019-08-13T00:00:00",
          "2019-09-11T00:00:00",
          "2019-10-09T00:00:00",
          "2019-11-06T00:00:00",
          "2019-12-05T00:00:00",
          "2020-01-06T00:00:00",
          "2020-02-04T00:00:00",
          "2020-03-04T00:00:00",
          "2020-04-30T00:00:00",
          "2020-05-29T00:00:00",
          "2020-06-26T00:00:00",
          "2020-07-27T00:00:00",
          "2020-08-24T00:00:00",
          "2020-09-22T00:00:00",
          "2020-10-20T00:00:00",
          "2020-11-17T00:00:00",
          "2020-12-16T00:00:00",
          "2021-01-15T00:00:00",
          "2021-02-16T00:00:00",
          "2021-03-16T00:00:00",
          "2021-04-14T00:00:00",
          "2021-05-12T00:00:00",
          "2021-06-10T00:00:00",
          "2021-07-09T00:00:00",
          "2021-08-06T00:00:00",
          "2021-09-03T00:00:00",
          "2021-10-04T00:00:00",
          "2021-11-01T00:00:00",
          "2021-11-30T00:00:00",
          "2021-12-29T00:00:00",
          "2022-01-27T00:00:00",
          "2022-02-25T00:00:00",
          "2022-03-25T00:00:00",
          "2022-04-25T00:00:00",
          "2022-05-23T00:00:00",
          "2022-06-22T00:00:00",
          "2022-07-21T00:00:00",
          "2022-08-18T00:00:00",
          "2022-09-16T00:00:00",
          "2022-10-14T00:00:00",
          "2022-11-11T00:00:00",
          "2022-12-12T00:00:00",
          "2023-01-11T00:00:00",
          "2023-02-09T00:00:00",
          "2023-03-10T00:00:00",
          "2023-04-10T00:00:00",
          "2023-05-08T00:00:00",
          "2023-06-06T00:00:00",
          "2023-07-06T00:00:00",
          "2023-08-03T00:00:00",
          "2023-08-31T00:00:00",
          "2023-09-29T00:00:00",
          "2023-10-27T00:00:00",
          "2023-11-27T00:00:00",
          "2023-12-26T00:00:00"
         ],
         "y": [
          null,
          null,
          null,
          null,
          null,
          0.4780500780700933,
          0.5663797534679837,
          0.1721186332693051,
          0.4675215154872669,
          0.43368145697197447,
          0.442045442699015,
          0.7155791693768838,
          0.05134031576906629,
          -0.28187890920460423,
          -0.09175872391917222,
          -0.0011293248756703703,
          -0.06681584503685611,
          -0.009467605335512498,
          0.16757053982121214,
          0.7282320485511644,
          0.7130606369023779,
          0.6726970144429667,
          0.9982900834969498,
          0.8009700066580687,
          0.7368678431028479,
          1.6217906015502919,
          1.8434689304260414,
          0.6902686995678048,
          0.6715057039885194,
          0.7714764922033065,
          0.6474693045328513,
          0.7592922112137623,
          0.08822366720307034,
          0.47231431835093346,
          0.26159409278799384,
          0.3549752434427687,
          -0.052498179337177826,
          -0.1437901115158579,
          0.09282422935032852,
          -0.24740390553690347,
          -0.3373974799542276,
          -0.8192095795507387,
          -0.27481622734577593,
          0.023411963646315006,
          -0.28830608427512056,
          -0.32594364645672097,
          -0.014694136790927318,
          0.10394948437920667,
          -0.03626573623026682,
          -0.17748790541230774,
          -0.11143206501596938,
          0.3548529042046402,
          0.13863196931020502,
          0.25195552822279416,
          0.44086133206622363,
          0.436178932145478,
          1.3320870448644981,
          0.29155966358266056,
          0.041595179498345916,
          0.18994966406452676,
          0.22821873447683508
         ]
        },
        {
         "line": {
          "color": "blue",
          "dash": "dash",
          "width": 1
         },
         "mode": "lines",
         "name": "Média Sharpe Ratio (Estratégia): 3.96",
         "type": "scatter",
         "x": [
          "2019-02-22T00:00:00",
          "2023-12-26T00:00:00"
         ],
         "y": [
          3.96026199974703,
          3.96026199974703
         ]
        },
        {
         "line": {
          "color": "green",
          "dash": "dash",
          "width": 1
         },
         "mode": "lines",
         "name": "Média Sharpe Ratio (S&P 500): 0.30",
         "type": "scatter",
         "x": [
          "2019-02-22T00:00:00",
          "2023-12-26T00:00:00"
         ],
         "y": [
          0.3030815172745137,
          0.3030815172745137
         ]
        }
       ],
       "layout": {
        "legend": {
         "x": 0.02,
         "y": 0.98
        },
        "template": {
         "data": {
          "bar": [
           {
            "error_x": {
             "color": "#2a3f5f"
            },
            "error_y": {
             "color": "#2a3f5f"
            },
            "marker": {
             "line": {
              "color": "white",
              "width": 0.5
             },
             "pattern": {
              "fillmode": "overlay",
              "size": 10,
              "solidity": 0.2
             }
            },
            "type": "bar"
           }
          ],
          "barpolar": [
           {
            "marker": {
             "line": {
              "color": "white",
              "width": 0.5
             },
             "pattern": {
              "fillmode": "overlay",
              "size": 10,
              "solidity": 0.2
             }
            },
            "type": "barpolar"
           }
          ],
          "carpet": [
           {
            "aaxis": {
             "endlinecolor": "#2a3f5f",
             "gridcolor": "#C8D4E3",
             "linecolor": "#C8D4E3",
             "minorgridcolor": "#C8D4E3",
             "startlinecolor": "#2a3f5f"
            },
            "baxis": {
             "endlinecolor": "#2a3f5f",
             "gridcolor": "#C8D4E3",
             "linecolor": "#C8D4E3",
             "minorgridcolor": "#C8D4E3",
             "startlinecolor": "#2a3f5f"
            },
            "type": "carpet"
           }
          ],
          "choropleth": [
           {
            "colorbar": {
             "outlinewidth": 0,
             "ticks": ""
            },
            "type": "choropleth"
           }
          ],
          "contour": [
           {
            "colorbar": {
             "outlinewidth": 0,
             "ticks": ""
            },
            "colorscale": [
             [
              0,
              "#0d0887"
             ],
             [
              0.1111111111111111,
              "#46039f"
             ],
             [
              0.2222222222222222,
              "#7201a8"
             ],
             [
              0.3333333333333333,
              "#9c179e"
             ],
             [
              0.4444444444444444,
              "#bd3786"
             ],
             [
              0.5555555555555556,
              "#d8576b"
             ],
             [
              0.6666666666666666,
              "#ed7953"
             ],
             [
              0.7777777777777778,
              "#fb9f3a"
             ],
             [
              0.8888888888888888,
              "#fdca26"
             ],
             [
              1,
              "#f0f921"
             ]
            ],
            "type": "contour"
           }
          ],
          "contourcarpet": [
           {
            "colorbar": {
             "outlinewidth": 0,
             "ticks": ""
            },
            "type": "contourcarpet"
           }
          ],
          "heatmap": [
           {
            "colorbar": {
             "outlinewidth": 0,
             "ticks": ""
            },
            "colorscale": [
             [
              0,
              "#0d0887"
             ],
             [
              0.1111111111111111,
              "#46039f"
             ],
             [
              0.2222222222222222,
              "#7201a8"
             ],
             [
              0.3333333333333333,
              "#9c179e"
             ],
             [
              0.4444444444444444,
              "#bd3786"
             ],
             [
              0.5555555555555556,
              "#d8576b"
             ],
             [
              0.6666666666666666,
              "#ed7953"
             ],
             [
              0.7777777777777778,
              "#fb9f3a"
             ],
             [
              0.8888888888888888,
              "#fdca26"
             ],
             [
              1,
              "#f0f921"
             ]
            ],
            "type": "heatmap"
           }
          ],
          "heatmapgl": [
           {
            "colorbar": {
             "outlinewidth": 0,
             "ticks": ""
            },
            "colorscale": [
             [
              0,
              "#0d0887"
             ],
             [
              0.1111111111111111,
              "#46039f"
             ],
             [
              0.2222222222222222,
              "#7201a8"
             ],
             [
              0.3333333333333333,
              "#9c179e"
             ],
             [
              0.4444444444444444,
              "#bd3786"
             ],
             [
              0.5555555555555556,
              "#d8576b"
             ],
             [
              0.6666666666666666,
              "#ed7953"
             ],
             [
              0.7777777777777778,
              "#fb9f3a"
             ],
             [
              0.8888888888888888,
              "#fdca26"
             ],
             [
              1,
              "#f0f921"
             ]
            ],
            "type": "heatmapgl"
           }
          ],
          "histogram": [
           {
            "marker": {
             "pattern": {
              "fillmode": "overlay",
              "size": 10,
              "solidity": 0.2
             }
            },
            "type": "histogram"
           }
          ],
          "histogram2d": [
           {
            "colorbar": {
             "outlinewidth": 0,
             "ticks": ""
            },
            "colorscale": [
             [
              0,
              "#0d0887"
             ],
             [
              0.1111111111111111,
              "#46039f"
             ],
             [
              0.2222222222222222,
              "#7201a8"
             ],
             [
              0.3333333333333333,
              "#9c179e"
             ],
             [
              0.4444444444444444,
              "#bd3786"
             ],
             [
              0.5555555555555556,
              "#d8576b"
             ],
             [
              0.6666666666666666,
              "#ed7953"
             ],
             [
              0.7777777777777778,
              "#fb9f3a"
             ],
             [
              0.8888888888888888,
              "#fdca26"
             ],
             [
              1,
              "#f0f921"
             ]
            ],
            "type": "histogram2d"
           }
          ],
          "histogram2dcontour": [
           {
            "colorbar": {
             "outlinewidth": 0,
             "ticks": ""
            },
            "colorscale": [
             [
              0,
              "#0d0887"
             ],
             [
              0.1111111111111111,
              "#46039f"
             ],
             [
              0.2222222222222222,
              "#7201a8"
             ],
             [
              0.3333333333333333,
              "#9c179e"
             ],
             [
              0.4444444444444444,
              "#bd3786"
             ],
             [
              0.5555555555555556,
              "#d8576b"
             ],
             [
              0.6666666666666666,
              "#ed7953"
             ],
             [
              0.7777777777777778,
              "#fb9f3a"
             ],
             [
              0.8888888888888888,
              "#fdca26"
             ],
             [
              1,
              "#f0f921"
             ]
            ],
            "type": "histogram2dcontour"
           }
          ],
          "mesh3d": [
           {
            "colorbar": {
             "outlinewidth": 0,
             "ticks": ""
            },
            "type": "mesh3d"
           }
          ],
          "parcoords": [
           {
            "line": {
             "colorbar": {
              "outlinewidth": 0,
              "ticks": ""
             }
            },
            "type": "parcoords"
           }
          ],
          "pie": [
           {
            "automargin": true,
            "type": "pie"
           }
          ],
          "scatter": [
           {
            "fillpattern": {
             "fillmode": "overlay",
             "size": 10,
             "solidity": 0.2
            },
            "type": "scatter"
           }
          ],
          "scatter3d": [
           {
            "line": {
             "colorbar": {
              "outlinewidth": 0,
              "ticks": ""
             }
            },
            "marker": {
             "colorbar": {
              "outlinewidth": 0,
              "ticks": ""
             }
            },
            "type": "scatter3d"
           }
          ],
          "scattercarpet": [
           {
            "marker": {
             "colorbar": {
              "outlinewidth": 0,
              "ticks": ""
             }
            },
            "type": "scattercarpet"
           }
          ],
          "scattergeo": [
           {
            "marker": {
             "colorbar": {
              "outlinewidth": 0,
              "ticks": ""
             }
            },
            "type": "scattergeo"
           }
          ],
          "scattergl": [
           {
            "marker": {
             "colorbar": {
              "outlinewidth": 0,
              "ticks": ""
             }
            },
            "type": "scattergl"
           }
          ],
          "scattermapbox": [
           {
            "marker": {
             "colorbar": {
              "outlinewidth": 0,
              "ticks": ""
             }
            },
            "type": "scattermapbox"
           }
          ],
          "scatterpolar": [
           {
            "marker": {
             "colorbar": {
              "outlinewidth": 0,
              "ticks": ""
             }
            },
            "type": "scatterpolar"
           }
          ],
          "scatterpolargl": [
           {
            "marker": {
             "colorbar": {
              "outlinewidth": 0,
              "ticks": ""
             }
            },
            "type": "scatterpolargl"
           }
          ],
          "scatterternary": [
           {
            "marker": {
             "colorbar": {
              "outlinewidth": 0,
              "ticks": ""
             }
            },
            "type": "scatterternary"
           }
          ],
          "surface": [
           {
            "colorbar": {
             "outlinewidth": 0,
             "ticks": ""
            },
            "colorscale": [
             [
              0,
              "#0d0887"
             ],
             [
              0.1111111111111111,
              "#46039f"
             ],
             [
              0.2222222222222222,
              "#7201a8"
             ],
             [
              0.3333333333333333,
              "#9c179e"
             ],
             [
              0.4444444444444444,
              "#bd3786"
             ],
             [
              0.5555555555555556,
              "#d8576b"
             ],
             [
              0.6666666666666666,
              "#ed7953"
             ],
             [
              0.7777777777777778,
              "#fb9f3a"
             ],
             [
              0.8888888888888888,
              "#fdca26"
             ],
             [
              1,
              "#f0f921"
             ]
            ],
            "type": "surface"
           }
          ],
          "table": [
           {
            "cells": {
             "fill": {
              "color": "#EBF0F8"
             },
             "line": {
              "color": "white"
             }
            },
            "header": {
             "fill": {
              "color": "#C8D4E3"
             },
             "line": {
              "color": "white"
             }
            },
            "type": "table"
           }
          ]
         },
         "layout": {
          "annotationdefaults": {
           "arrowcolor": "#2a3f5f",
           "arrowhead": 0,
           "arrowwidth": 1
          },
          "autotypenumbers": "strict",
          "coloraxis": {
           "colorbar": {
            "outlinewidth": 0,
            "ticks": ""
           }
          },
          "colorscale": {
           "diverging": [
            [
             0,
             "#8e0152"
            ],
            [
             0.1,
             "#c51b7d"
            ],
            [
             0.2,
             "#de77ae"
            ],
            [
             0.3,
             "#f1b6da"
            ],
            [
             0.4,
             "#fde0ef"
            ],
            [
             0.5,
             "#f7f7f7"
            ],
            [
             0.6,
             "#e6f5d0"
            ],
            [
             0.7,
             "#b8e186"
            ],
            [
             0.8,
             "#7fbc41"
            ],
            [
             0.9,
             "#4d9221"
            ],
            [
             1,
             "#276419"
            ]
           ],
           "sequential": [
            [
             0,
             "#0d0887"
            ],
            [
             0.1111111111111111,
             "#46039f"
            ],
            [
             0.2222222222222222,
             "#7201a8"
            ],
            [
             0.3333333333333333,
             "#9c179e"
            ],
            [
             0.4444444444444444,
             "#bd3786"
            ],
            [
             0.5555555555555556,
             "#d8576b"
            ],
            [
             0.6666666666666666,
             "#ed7953"
            ],
            [
             0.7777777777777778,
             "#fb9f3a"
            ],
            [
             0.8888888888888888,
             "#fdca26"
            ],
            [
             1,
             "#f0f921"
            ]
           ],
           "sequentialminus": [
            [
             0,
             "#0d0887"
            ],
            [
             0.1111111111111111,
             "#46039f"
            ],
            [
             0.2222222222222222,
             "#7201a8"
            ],
            [
             0.3333333333333333,
             "#9c179e"
            ],
            [
             0.4444444444444444,
             "#bd3786"
            ],
            [
             0.5555555555555556,
             "#d8576b"
            ],
            [
             0.6666666666666666,
             "#ed7953"
            ],
            [
             0.7777777777777778,
             "#fb9f3a"
            ],
            [
             0.8888888888888888,
             "#fdca26"
            ],
            [
             1,
             "#f0f921"
            ]
           ]
          },
          "colorway": [
           "#636efa",
           "#EF553B",
           "#00cc96",
           "#ab63fa",
           "#FFA15A",
           "#19d3f3",
           "#FF6692",
           "#B6E880",
           "#FF97FF",
           "#FECB52"
          ],
          "font": {
           "color": "#2a3f5f"
          },
          "geo": {
           "bgcolor": "white",
           "lakecolor": "white",
           "landcolor": "white",
           "showlakes": true,
           "showland": true,
           "subunitcolor": "#C8D4E3"
          },
          "hoverlabel": {
           "align": "left"
          },
          "hovermode": "closest",
          "mapbox": {
           "style": "light"
          },
          "paper_bgcolor": "white",
          "plot_bgcolor": "white",
          "polar": {
           "angularaxis": {
            "gridcolor": "#EBF0F8",
            "linecolor": "#EBF0F8",
            "ticks": ""
           },
           "bgcolor": "white",
           "radialaxis": {
            "gridcolor": "#EBF0F8",
            "linecolor": "#EBF0F8",
            "ticks": ""
           }
          },
          "scene": {
           "xaxis": {
            "backgroundcolor": "white",
            "gridcolor": "#DFE8F3",
            "gridwidth": 2,
            "linecolor": "#EBF0F8",
            "showbackground": true,
            "ticks": "",
            "zerolinecolor": "#EBF0F8"
           },
           "yaxis": {
            "backgroundcolor": "white",
            "gridcolor": "#DFE8F3",
            "gridwidth": 2,
            "linecolor": "#EBF0F8",
            "showbackground": true,
            "ticks": "",
            "zerolinecolor": "#EBF0F8"
           },
           "zaxis": {
            "backgroundcolor": "white",
            "gridcolor": "#DFE8F3",
            "gridwidth": 2,
            "linecolor": "#EBF0F8",
            "showbackground": true,
            "ticks": "",
            "zerolinecolor": "#EBF0F8"
           }
          },
          "shapedefaults": {
           "line": {
            "color": "#2a3f5f"
           }
          },
          "ternary": {
           "aaxis": {
            "gridcolor": "#DFE8F3",
            "linecolor": "#A2B1C6",
            "ticks": ""
           },
           "baxis": {
            "gridcolor": "#DFE8F3",
            "linecolor": "#A2B1C6",
            "ticks": ""
           },
           "bgcolor": "white",
           "caxis": {
            "gridcolor": "#DFE8F3",
            "linecolor": "#A2B1C6",
            "ticks": ""
           }
          },
          "title": {
           "x": 0.05
          },
          "xaxis": {
           "automargin": true,
           "gridcolor": "#EBF0F8",
           "linecolor": "#EBF0F8",
           "ticks": "",
           "title": {
            "standoff": 15
           },
           "zerolinecolor": "#EBF0F8",
           "zerolinewidth": 2
          },
          "yaxis": {
           "automargin": true,
           "gridcolor": "#EBF0F8",
           "linecolor": "#EBF0F8",
           "ticks": "",
           "title": {
            "standoff": 15
           },
           "zerolinecolor": "#EBF0F8",
           "zerolinewidth": 2
          }
         }
        },
        "title": {
         "text": "Sharpe Ratio da Estratégia Vs. Sharpe Ratio do S&P 500 ao longo do tempo"
        },
        "xaxis": {
         "title": {
          "text": "Data"
         }
        },
        "yaxis": {
         "title": {
          "text": "Sharpe Ratio"
         }
        }
       }
      }
     },
     "metadata": {},
     "output_type": "display_data"
    },
    {
     "data": {
      "application/vnd.plotly.v1+json": {
       "config": {
        "plotlyServerURL": "https://plot.ly"
       },
       "data": [
        {
         "line": {
          "color": "red",
          "dash": "dash",
          "width": 2
         },
         "mode": "lines",
         "name": "VaR (95%)",
         "type": "scatter",
         "x": [
          "2019-02-22T00:00:00",
          "2019-03-21T00:00:00",
          "2019-04-18T00:00:00",
          "2019-05-17T00:00:00",
          "2019-06-17T00:00:00",
          "2019-07-16T00:00:00",
          "2019-08-13T00:00:00",
          "2019-09-11T00:00:00",
          "2019-10-09T00:00:00",
          "2019-11-06T00:00:00",
          "2019-12-05T00:00:00",
          "2020-01-06T00:00:00",
          "2020-02-04T00:00:00",
          "2020-03-04T00:00:00",
          "2020-04-30T00:00:00",
          "2020-05-29T00:00:00",
          "2020-06-26T00:00:00",
          "2020-07-27T00:00:00",
          "2020-08-24T00:00:00",
          "2020-09-22T00:00:00",
          "2020-10-20T00:00:00",
          "2020-11-17T00:00:00",
          "2020-12-16T00:00:00",
          "2021-01-15T00:00:00",
          "2021-02-16T00:00:00",
          "2021-03-16T00:00:00",
          "2021-04-14T00:00:00",
          "2021-05-12T00:00:00",
          "2021-06-10T00:00:00",
          "2021-07-09T00:00:00",
          "2021-08-06T00:00:00",
          "2021-09-03T00:00:00",
          "2021-10-04T00:00:00",
          "2021-11-01T00:00:00",
          "2021-11-30T00:00:00",
          "2021-12-29T00:00:00",
          "2022-01-27T00:00:00",
          "2022-02-25T00:00:00",
          "2022-03-25T00:00:00",
          "2022-04-25T00:00:00",
          "2022-05-23T00:00:00",
          "2022-06-22T00:00:00",
          "2022-07-21T00:00:00",
          "2022-08-18T00:00:00",
          "2022-09-16T00:00:00",
          "2022-10-14T00:00:00",
          "2022-11-11T00:00:00",
          "2022-12-12T00:00:00",
          "2023-01-11T00:00:00",
          "2023-02-09T00:00:00",
          "2023-03-10T00:00:00",
          "2023-04-10T00:00:00",
          "2023-05-08T00:00:00",
          "2023-06-06T00:00:00",
          "2023-07-06T00:00:00",
          "2023-08-03T00:00:00",
          "2023-08-31T00:00:00",
          "2023-09-29T00:00:00",
          "2023-10-27T00:00:00",
          "2023-11-27T00:00:00",
          "2023-12-26T00:00:00"
         ],
         "y": [
          null,
          null,
          null,
          null,
          null,
          1.3246687680990186,
          5.4263815702609515,
          6.193170899744299,
          6.193170899744299,
          6.417263910971686,
          7.87243501018894,
          7.143559333397684,
          7.143559333397684,
          7.143559333397684,
          7.143559333397684,
          7.143559333397684,
          7.32004214387526,
          8.971578819414592,
          10.625463351626466,
          10.474192098911525,
          10.474192098911525,
          10.847158344114264,
          9.209885937305542,
          9.209885937305542,
          9.209885937305542,
          9.01185137479808,
          7.079505386061071,
          7.079505386061071,
          7.2978904480244795,
          7.2978904480244795,
          6.806513364416199,
          6.628531102475148,
          7.1675514404320335,
          7.1675514404320335,
          6.958060702448689,
          6.911155385658552,
          6.911155385658552,
          6.911155385658552,
          5.56987785439684,
          5.56987785439684,
          5.56987785439684,
          6.032312666818159,
          6.032312666818159,
          6.032312666818159,
          7.784902166014278,
          8.590567098884003,
          8.590567098884003,
          8.155075347509774,
          6.491416896452532,
          6.491416896452532,
          7.119947339110455,
          5.554517352828833,
          5.554517352828833,
          5.554517352828833,
          5.710306890797645,
          5.710306890797645,
          5.633823697668461,
          6.561059079699124,
          6.561059079699124,
          6.561059079699124,
          7.289218198230701
         ]
        },
        {
         "line": {
          "color": "purple",
          "dash": "dash",
          "width": 2
         },
         "mode": "lines",
         "name": "CVaR (95%)",
         "type": "scatter",
         "x": [
          "2019-02-22T00:00:00",
          "2019-03-21T00:00:00",
          "2019-04-18T00:00:00",
          "2019-05-17T00:00:00",
          "2019-06-17T00:00:00",
          "2019-07-16T00:00:00",
          "2019-08-13T00:00:00",
          "2019-09-11T00:00:00",
          "2019-10-09T00:00:00",
          "2019-11-06T00:00:00",
          "2019-12-05T00:00:00",
          "2020-01-06T00:00:00",
          "2020-02-04T00:00:00",
          "2020-03-04T00:00:00",
          "2020-04-30T00:00:00",
          "2020-05-29T00:00:00",
          "2020-06-26T00:00:00",
          "2020-07-27T00:00:00",
          "2020-08-24T00:00:00",
          "2020-09-22T00:00:00",
          "2020-10-20T00:00:00",
          "2020-11-17T00:00:00",
          "2020-12-16T00:00:00",
          "2021-01-15T00:00:00",
          "2021-02-16T00:00:00",
          "2021-03-16T00:00:00",
          "2021-04-14T00:00:00",
          "2021-05-12T00:00:00",
          "2021-06-10T00:00:00",
          "2021-07-09T00:00:00",
          "2021-08-06T00:00:00",
          "2021-09-03T00:00:00",
          "2021-10-04T00:00:00",
          "2021-11-01T00:00:00",
          "2021-11-30T00:00:00",
          "2021-12-29T00:00:00",
          "2022-01-27T00:00:00",
          "2022-02-25T00:00:00",
          "2022-03-25T00:00:00",
          "2022-04-25T00:00:00",
          "2022-05-23T00:00:00",
          "2022-06-22T00:00:00",
          "2022-07-21T00:00:00",
          "2022-08-18T00:00:00",
          "2022-09-16T00:00:00",
          "2022-10-14T00:00:00",
          "2022-11-11T00:00:00",
          "2022-12-12T00:00:00",
          "2023-01-11T00:00:00",
          "2023-02-09T00:00:00",
          "2023-03-10T00:00:00",
          "2023-04-10T00:00:00",
          "2023-05-08T00:00:00",
          "2023-06-06T00:00:00",
          "2023-07-06T00:00:00",
          "2023-08-03T00:00:00",
          "2023-08-31T00:00:00",
          "2023-09-29T00:00:00",
          "2023-10-27T00:00:00",
          "2023-11-27T00:00:00",
          "2023-12-26T00:00:00"
         ],
         "y": [
          null,
          null,
          null,
          null,
          null,
          0,
          5.29867507239607,
          5.809501063855595,
          5.809501063855595,
          5.809501063855595,
          7.7497291961452675,
          6.941502712481824,
          6.941502712481824,
          6.941502712481824,
          6.941502712481824,
          6.941502712481824,
          6.941502712481824,
          8.455660438055569,
          10.519333963491663,
          10.459144810718145,
          10.459144810718145,
          10.459144810718145,
          8.793466312834672,
          8.793466312834672,
          8.793466312834672,
          8.793466312834672,
          6.508185077136536,
          6.508185077136536,
          6.508185077136536,
          6.508185077136536,
          6.508185077136536,
          6.508185077136536,
          6.9895691784909815,
          6.9895691784909815,
          6.947557877101258,
          6.8990212218443165,
          6.8990212218443165,
          6.8990212218443165,
          5.126830065247681,
          5.126830065247681,
          5.126830065247681,
          5.126830065247681,
          5.126830065247681,
          5.126830065247681,
          7.46361606417584,
          7.46361606417584,
          7.46361606417584,
          7.46361606417584,
          6.167350507211428,
          6.167350507211428,
          6.167350507211428,
          5.3502396347013015,
          5.3502396347013015,
          5.3502396347013015,
          5.3502396347013015,
          5.3502396347013015,
          5.3502396347013015,
          6.4845758865699406,
          6.4845758865699406,
          6.4845758865699406,
          6.4845758865699406
         ]
        },
        {
         "line": {
          "color": "red",
          "width": 1
         },
         "mode": "lines",
         "name": "Média VaR (95%): 7.10",
         "type": "scatter",
         "x": [
          "2019-02-22T00:00:00",
          "2023-12-26T00:00:00"
         ],
         "y": [
          7.097077482624067,
          7.097077482624067
         ]
        },
        {
         "line": {
          "color": "purple",
          "width": 1
         },
         "mode": "lines",
         "name": "Média CVaR (95%): 6.71",
         "type": "scatter",
         "x": [
          "2019-02-22T00:00:00",
          "2023-12-26T00:00:00"
         ],
         "y": [
          6.705041530478324,
          6.705041530478324
         ]
        }
       ],
       "layout": {
        "legend": {
         "x": 0.02,
         "y": 0.98
        },
        "template": {
         "data": {
          "bar": [
           {
            "error_x": {
             "color": "#2a3f5f"
            },
            "error_y": {
             "color": "#2a3f5f"
            },
            "marker": {
             "line": {
              "color": "white",
              "width": 0.5
             },
             "pattern": {
              "fillmode": "overlay",
              "size": 10,
              "solidity": 0.2
             }
            },
            "type": "bar"
           }
          ],
          "barpolar": [
           {
            "marker": {
             "line": {
              "color": "white",
              "width": 0.5
             },
             "pattern": {
              "fillmode": "overlay",
              "size": 10,
              "solidity": 0.2
             }
            },
            "type": "barpolar"
           }
          ],
          "carpet": [
           {
            "aaxis": {
             "endlinecolor": "#2a3f5f",
             "gridcolor": "#C8D4E3",
             "linecolor": "#C8D4E3",
             "minorgridcolor": "#C8D4E3",
             "startlinecolor": "#2a3f5f"
            },
            "baxis": {
             "endlinecolor": "#2a3f5f",
             "gridcolor": "#C8D4E3",
             "linecolor": "#C8D4E3",
             "minorgridcolor": "#C8D4E3",
             "startlinecolor": "#2a3f5f"
            },
            "type": "carpet"
           }
          ],
          "choropleth": [
           {
            "colorbar": {
             "outlinewidth": 0,
             "ticks": ""
            },
            "type": "choropleth"
           }
          ],
          "contour": [
           {
            "colorbar": {
             "outlinewidth": 0,
             "ticks": ""
            },
            "colorscale": [
             [
              0,
              "#0d0887"
             ],
             [
              0.1111111111111111,
              "#46039f"
             ],
             [
              0.2222222222222222,
              "#7201a8"
             ],
             [
              0.3333333333333333,
              "#9c179e"
             ],
             [
              0.4444444444444444,
              "#bd3786"
             ],
             [
              0.5555555555555556,
              "#d8576b"
             ],
             [
              0.6666666666666666,
              "#ed7953"
             ],
             [
              0.7777777777777778,
              "#fb9f3a"
             ],
             [
              0.8888888888888888,
              "#fdca26"
             ],
             [
              1,
              "#f0f921"
             ]
            ],
            "type": "contour"
           }
          ],
          "contourcarpet": [
           {
            "colorbar": {
             "outlinewidth": 0,
             "ticks": ""
            },
            "type": "contourcarpet"
           }
          ],
          "heatmap": [
           {
            "colorbar": {
             "outlinewidth": 0,
             "ticks": ""
            },
            "colorscale": [
             [
              0,
              "#0d0887"
             ],
             [
              0.1111111111111111,
              "#46039f"
             ],
             [
              0.2222222222222222,
              "#7201a8"
             ],
             [
              0.3333333333333333,
              "#9c179e"
             ],
             [
              0.4444444444444444,
              "#bd3786"
             ],
             [
              0.5555555555555556,
              "#d8576b"
             ],
             [
              0.6666666666666666,
              "#ed7953"
             ],
             [
              0.7777777777777778,
              "#fb9f3a"
             ],
             [
              0.8888888888888888,
              "#fdca26"
             ],
             [
              1,
              "#f0f921"
             ]
            ],
            "type": "heatmap"
           }
          ],
          "heatmapgl": [
           {
            "colorbar": {
             "outlinewidth": 0,
             "ticks": ""
            },
            "colorscale": [
             [
              0,
              "#0d0887"
             ],
             [
              0.1111111111111111,
              "#46039f"
             ],
             [
              0.2222222222222222,
              "#7201a8"
             ],
             [
              0.3333333333333333,
              "#9c179e"
             ],
             [
              0.4444444444444444,
              "#bd3786"
             ],
             [
              0.5555555555555556,
              "#d8576b"
             ],
             [
              0.6666666666666666,
              "#ed7953"
             ],
             [
              0.7777777777777778,
              "#fb9f3a"
             ],
             [
              0.8888888888888888,
              "#fdca26"
             ],
             [
              1,
              "#f0f921"
             ]
            ],
            "type": "heatmapgl"
           }
          ],
          "histogram": [
           {
            "marker": {
             "pattern": {
              "fillmode": "overlay",
              "size": 10,
              "solidity": 0.2
             }
            },
            "type": "histogram"
           }
          ],
          "histogram2d": [
           {
            "colorbar": {
             "outlinewidth": 0,
             "ticks": ""
            },
            "colorscale": [
             [
              0,
              "#0d0887"
             ],
             [
              0.1111111111111111,
              "#46039f"
             ],
             [
              0.2222222222222222,
              "#7201a8"
             ],
             [
              0.3333333333333333,
              "#9c179e"
             ],
             [
              0.4444444444444444,
              "#bd3786"
             ],
             [
              0.5555555555555556,
              "#d8576b"
             ],
             [
              0.6666666666666666,
              "#ed7953"
             ],
             [
              0.7777777777777778,
              "#fb9f3a"
             ],
             [
              0.8888888888888888,
              "#fdca26"
             ],
             [
              1,
              "#f0f921"
             ]
            ],
            "type": "histogram2d"
           }
          ],
          "histogram2dcontour": [
           {
            "colorbar": {
             "outlinewidth": 0,
             "ticks": ""
            },
            "colorscale": [
             [
              0,
              "#0d0887"
             ],
             [
              0.1111111111111111,
              "#46039f"
             ],
             [
              0.2222222222222222,
              "#7201a8"
             ],
             [
              0.3333333333333333,
              "#9c179e"
             ],
             [
              0.4444444444444444,
              "#bd3786"
             ],
             [
              0.5555555555555556,
              "#d8576b"
             ],
             [
              0.6666666666666666,
              "#ed7953"
             ],
             [
              0.7777777777777778,
              "#fb9f3a"
             ],
             [
              0.8888888888888888,
              "#fdca26"
             ],
             [
              1,
              "#f0f921"
             ]
            ],
            "type": "histogram2dcontour"
           }
          ],
          "mesh3d": [
           {
            "colorbar": {
             "outlinewidth": 0,
             "ticks": ""
            },
            "type": "mesh3d"
           }
          ],
          "parcoords": [
           {
            "line": {
             "colorbar": {
              "outlinewidth": 0,
              "ticks": ""
             }
            },
            "type": "parcoords"
           }
          ],
          "pie": [
           {
            "automargin": true,
            "type": "pie"
           }
          ],
          "scatter": [
           {
            "fillpattern": {
             "fillmode": "overlay",
             "size": 10,
             "solidity": 0.2
            },
            "type": "scatter"
           }
          ],
          "scatter3d": [
           {
            "line": {
             "colorbar": {
              "outlinewidth": 0,
              "ticks": ""
             }
            },
            "marker": {
             "colorbar": {
              "outlinewidth": 0,
              "ticks": ""
             }
            },
            "type": "scatter3d"
           }
          ],
          "scattercarpet": [
           {
            "marker": {
             "colorbar": {
              "outlinewidth": 0,
              "ticks": ""
             }
            },
            "type": "scattercarpet"
           }
          ],
          "scattergeo": [
           {
            "marker": {
             "colorbar": {
              "outlinewidth": 0,
              "ticks": ""
             }
            },
            "type": "scattergeo"
           }
          ],
          "scattergl": [
           {
            "marker": {
             "colorbar": {
              "outlinewidth": 0,
              "ticks": ""
             }
            },
            "type": "scattergl"
           }
          ],
          "scattermapbox": [
           {
            "marker": {
             "colorbar": {
              "outlinewidth": 0,
              "ticks": ""
             }
            },
            "type": "scattermapbox"
           }
          ],
          "scatterpolar": [
           {
            "marker": {
             "colorbar": {
              "outlinewidth": 0,
              "ticks": ""
             }
            },
            "type": "scatterpolar"
           }
          ],
          "scatterpolargl": [
           {
            "marker": {
             "colorbar": {
              "outlinewidth": 0,
              "ticks": ""
             }
            },
            "type": "scatterpolargl"
           }
          ],
          "scatterternary": [
           {
            "marker": {
             "colorbar": {
              "outlinewidth": 0,
              "ticks": ""
             }
            },
            "type": "scatterternary"
           }
          ],
          "surface": [
           {
            "colorbar": {
             "outlinewidth": 0,
             "ticks": ""
            },
            "colorscale": [
             [
              0,
              "#0d0887"
             ],
             [
              0.1111111111111111,
              "#46039f"
             ],
             [
              0.2222222222222222,
              "#7201a8"
             ],
             [
              0.3333333333333333,
              "#9c179e"
             ],
             [
              0.4444444444444444,
              "#bd3786"
             ],
             [
              0.5555555555555556,
              "#d8576b"
             ],
             [
              0.6666666666666666,
              "#ed7953"
             ],
             [
              0.7777777777777778,
              "#fb9f3a"
             ],
             [
              0.8888888888888888,
              "#fdca26"
             ],
             [
              1,
              "#f0f921"
             ]
            ],
            "type": "surface"
           }
          ],
          "table": [
           {
            "cells": {
             "fill": {
              "color": "#EBF0F8"
             },
             "line": {
              "color": "white"
             }
            },
            "header": {
             "fill": {
              "color": "#C8D4E3"
             },
             "line": {
              "color": "white"
             }
            },
            "type": "table"
           }
          ]
         },
         "layout": {
          "annotationdefaults": {
           "arrowcolor": "#2a3f5f",
           "arrowhead": 0,
           "arrowwidth": 1
          },
          "autotypenumbers": "strict",
          "coloraxis": {
           "colorbar": {
            "outlinewidth": 0,
            "ticks": ""
           }
          },
          "colorscale": {
           "diverging": [
            [
             0,
             "#8e0152"
            ],
            [
             0.1,
             "#c51b7d"
            ],
            [
             0.2,
             "#de77ae"
            ],
            [
             0.3,
             "#f1b6da"
            ],
            [
             0.4,
             "#fde0ef"
            ],
            [
             0.5,
             "#f7f7f7"
            ],
            [
             0.6,
             "#e6f5d0"
            ],
            [
             0.7,
             "#b8e186"
            ],
            [
             0.8,
             "#7fbc41"
            ],
            [
             0.9,
             "#4d9221"
            ],
            [
             1,
             "#276419"
            ]
           ],
           "sequential": [
            [
             0,
             "#0d0887"
            ],
            [
             0.1111111111111111,
             "#46039f"
            ],
            [
             0.2222222222222222,
             "#7201a8"
            ],
            [
             0.3333333333333333,
             "#9c179e"
            ],
            [
             0.4444444444444444,
             "#bd3786"
            ],
            [
             0.5555555555555556,
             "#d8576b"
            ],
            [
             0.6666666666666666,
             "#ed7953"
            ],
            [
             0.7777777777777778,
             "#fb9f3a"
            ],
            [
             0.8888888888888888,
             "#fdca26"
            ],
            [
             1,
             "#f0f921"
            ]
           ],
           "sequentialminus": [
            [
             0,
             "#0d0887"
            ],
            [
             0.1111111111111111,
             "#46039f"
            ],
            [
             0.2222222222222222,
             "#7201a8"
            ],
            [
             0.3333333333333333,
             "#9c179e"
            ],
            [
             0.4444444444444444,
             "#bd3786"
            ],
            [
             0.5555555555555556,
             "#d8576b"
            ],
            [
             0.6666666666666666,
             "#ed7953"
            ],
            [
             0.7777777777777778,
             "#fb9f3a"
            ],
            [
             0.8888888888888888,
             "#fdca26"
            ],
            [
             1,
             "#f0f921"
            ]
           ]
          },
          "colorway": [
           "#636efa",
           "#EF553B",
           "#00cc96",
           "#ab63fa",
           "#FFA15A",
           "#19d3f3",
           "#FF6692",
           "#B6E880",
           "#FF97FF",
           "#FECB52"
          ],
          "font": {
           "color": "#2a3f5f"
          },
          "geo": {
           "bgcolor": "white",
           "lakecolor": "white",
           "landcolor": "white",
           "showlakes": true,
           "showland": true,
           "subunitcolor": "#C8D4E3"
          },
          "hoverlabel": {
           "align": "left"
          },
          "hovermode": "closest",
          "mapbox": {
           "style": "light"
          },
          "paper_bgcolor": "white",
          "plot_bgcolor": "white",
          "polar": {
           "angularaxis": {
            "gridcolor": "#EBF0F8",
            "linecolor": "#EBF0F8",
            "ticks": ""
           },
           "bgcolor": "white",
           "radialaxis": {
            "gridcolor": "#EBF0F8",
            "linecolor": "#EBF0F8",
            "ticks": ""
           }
          },
          "scene": {
           "xaxis": {
            "backgroundcolor": "white",
            "gridcolor": "#DFE8F3",
            "gridwidth": 2,
            "linecolor": "#EBF0F8",
            "showbackground": true,
            "ticks": "",
            "zerolinecolor": "#EBF0F8"
           },
           "yaxis": {
            "backgroundcolor": "white",
            "gridcolor": "#DFE8F3",
            "gridwidth": 2,
            "linecolor": "#EBF0F8",
            "showbackground": true,
            "ticks": "",
            "zerolinecolor": "#EBF0F8"
           },
           "zaxis": {
            "backgroundcolor": "white",
            "gridcolor": "#DFE8F3",
            "gridwidth": 2,
            "linecolor": "#EBF0F8",
            "showbackground": true,
            "ticks": "",
            "zerolinecolor": "#EBF0F8"
           }
          },
          "shapedefaults": {
           "line": {
            "color": "#2a3f5f"
           }
          },
          "ternary": {
           "aaxis": {
            "gridcolor": "#DFE8F3",
            "linecolor": "#A2B1C6",
            "ticks": ""
           },
           "baxis": {
            "gridcolor": "#DFE8F3",
            "linecolor": "#A2B1C6",
            "ticks": ""
           },
           "bgcolor": "white",
           "caxis": {
            "gridcolor": "#DFE8F3",
            "linecolor": "#A2B1C6",
            "ticks": ""
           }
          },
          "title": {
           "x": 0.05
          },
          "xaxis": {
           "automargin": true,
           "gridcolor": "#EBF0F8",
           "linecolor": "#EBF0F8",
           "ticks": "",
           "title": {
            "standoff": 15
           },
           "zerolinecolor": "#EBF0F8",
           "zerolinewidth": 2
          },
          "yaxis": {
           "automargin": true,
           "gridcolor": "#EBF0F8",
           "linecolor": "#EBF0F8",
           "ticks": "",
           "title": {
            "standoff": 15
           },
           "zerolinecolor": "#EBF0F8",
           "zerolinewidth": 2
          }
         }
        },
        "title": {
         "text": "VaR e CVaR ao longo do tempo"
        },
        "xaxis": {
         "title": {
          "text": "Data"
         }
        },
        "yaxis": {
         "title": {
          "text": "Valor em Risco"
         }
        }
       }
      }
     },
     "metadata": {},
     "output_type": "display_data"
    }
   ],
   "source": [
    "# Funções para cálculo das métricas\n",
    "def calculate_sharpe_ratio(returns, risk_free_rate=0):\n",
    "    excess_returns = returns - risk_free_rate\n",
    "    return excess_returns.mean() / excess_returns.std() if excess_returns.std() != 0 else np.nan\n",
    "\n",
    "def calculate_var(returns, confidence_level=0.95):\n",
    "    return np.percentile(returns, (1 - confidence_level) * 100)\n",
    "\n",
    "def calculate_cvar(returns, confidence_level=0.95):\n",
    "    var = calculate_var(returns, confidence_level)\n",
    "    return returns[returns <= var].mean()\n",
    "\n",
    "# Parâmetros\n",
    "risk_free_rate = 0\n",
    "window_size = 6\n",
    "\n",
    "# Calculando as métricas ao longo do tempo usando uma janela móvel\n",
    "sharpe_ratios = average_monthly_results.rolling(window=window_size).apply(\n",
    "    lambda x: calculate_sharpe_ratio(x, risk_free_rate), raw=False\n",
    ")\n",
    "vars_95 = average_monthly_results.rolling(window=window_size).apply(\n",
    "    lambda x: calculate_var(x, confidence_level=0.95), raw=False\n",
    ")\n",
    "cvars_95 = average_monthly_results.rolling(window=window_size).apply(\n",
    "    lambda x: calculate_cvar(x, confidence_level=0.95), raw=False\n",
    ")\n",
    "\n",
    "# Calculando o Sharpe ratio para o S&P 500\n",
    "sp500_sharpe_ratios = sp500_index_period_returns.rolling(window=window_size).apply(\n",
    "    lambda x: calculate_sharpe_ratio(x, risk_free_rate), raw=False\n",
    ")\n",
    "\n",
    "# Calculando as médias\n",
    "mean_sharpe_ratio = sharpe_ratios.mean()\n",
    "mean_sp500_sharpe_ratio = sp500_sharpe_ratios.mean()\n",
    "mean_var = vars_95.mean()\n",
    "mean_cvar = cvars_95.mean()\n",
    "\n",
    "# Gráfico 1: Sharpe Ratio\n",
    "fig_sharpe = go.Figure()\n",
    "\n",
    "fig_sharpe.add_trace(go.Scatter(\n",
    "    x=average_monthly_results.index,\n",
    "    y=sharpe_ratios,\n",
    "    mode='lines',\n",
    "    name='Sharpe Ratio da Estratégia',\n",
    "    line=dict(color='blue', width=2)\n",
    "))\n",
    "\n",
    "fig_sharpe.add_trace(go.Scatter(\n",
    "    x=average_monthly_results.index,\n",
    "    y=sp500_sharpe_ratios,\n",
    "    mode='lines',\n",
    "    name='Sharpe Ratio do S&P 500',\n",
    "    line=dict(color='green', width=2)\n",
    "))\n",
    "\n",
    "fig_sharpe.add_trace(go.Scatter(\n",
    "    x=[average_monthly_results.index[0], average_monthly_results.index[-1]],\n",
    "    y=[mean_sharpe_ratio, mean_sharpe_ratio],\n",
    "    mode='lines',\n",
    "    name=f'Média Sharpe Ratio (Estratégia): {mean_sharpe_ratio:.2f}',\n",
    "    line=dict(color='blue', width=1, dash='dash')\n",
    "))\n",
    "\n",
    "fig_sharpe.add_trace(go.Scatter(\n",
    "    x=[average_monthly_results.index[0], average_monthly_results.index[-1]],\n",
    "    y=[mean_sp500_sharpe_ratio, mean_sp500_sharpe_ratio],\n",
    "    mode='lines',\n",
    "    name=f'Média Sharpe Ratio (S&P 500): {mean_sp500_sharpe_ratio:.2f}',\n",
    "    line=dict(color='green', width=1, dash='dash')\n",
    "))\n",
    "\n",
    "fig_sharpe.update_layout(\n",
    "    title=\"Sharpe Ratio da Estratégia Vs. Sharpe Ratio do S&P 500 ao longo do tempo\",\n",
    "    xaxis_title=\"Data\",\n",
    "    yaxis_title=\"Sharpe Ratio\",\n",
    "    template=\"plotly_white\",\n",
    "    legend=dict(x=0.02, y=0.98)\n",
    ")\n",
    "\n",
    "fig_sharpe.show()\n",
    "\n",
    "# Gráfico 2: VaR e CVaR\n",
    "fig_var_cvar = go.Figure()\n",
    "\n",
    "fig_var_cvar.add_trace(go.Scatter(\n",
    "    x=average_monthly_results.index,\n",
    "    y=vars_95,\n",
    "    mode='lines',\n",
    "    name='VaR (95%)',\n",
    "    line=dict(color='red', dash='dash', width=2)\n",
    "))\n",
    "\n",
    "fig_var_cvar.add_trace(go.Scatter(\n",
    "    x=average_monthly_results.index,\n",
    "    y=cvars_95,\n",
    "    mode='lines',\n",
    "    name='CVaR (95%)',\n",
    "    line=dict(color='purple', dash='dash', width=2)\n",
    "))\n",
    "\n",
    "fig_var_cvar.add_trace(go.Scatter(\n",
    "    x=[average_monthly_results.index[0], average_monthly_results.index[-1]],\n",
    "    y=[mean_var, mean_var],\n",
    "    mode='lines',\n",
    "    name=f'Média VaR (95%): {mean_var:.2f}',\n",
    "    line=dict(color='red', width=1)\n",
    "))\n",
    "\n",
    "fig_var_cvar.add_trace(go.Scatter(\n",
    "    x=[average_monthly_results.index[0], average_monthly_results.index[-1]],\n",
    "    y=[mean_cvar, mean_cvar],\n",
    "    mode='lines',\n",
    "    name=f'Média CVaR (95%): {mean_cvar:.2f}',\n",
    "    line=dict(color='purple', width=1)\n",
    "))\n",
    "\n",
    "fig_var_cvar.update_layout(\n",
    "    title=\"VaR e CVaR ao longo do tempo\",\n",
    "    xaxis_title=\"Data\",\n",
    "    yaxis_title=\"Valor em Risco\",\n",
    "    template=\"plotly_white\",\n",
    "    legend=dict(x=0.02, y=0.98)\n",
    ")\n",
    "\n",
    "fig_var_cvar.show()"
   ]
  },
  {
   "cell_type": "markdown",
   "metadata": {},
   "source": [
    "#### *Código para criação de tabela*"
   ]
  },
  {
   "cell_type": "code",
   "execution_count": 50,
   "metadata": {},
   "outputs": [
    {
     "data": {
      "text/html": [
       "<div>\n",
       "<style scoped>\n",
       "    .dataframe tbody tr th:only-of-type {\n",
       "        vertical-align: middle;\n",
       "    }\n",
       "\n",
       "    .dataframe tbody tr th {\n",
       "        vertical-align: top;\n",
       "    }\n",
       "\n",
       "    .dataframe thead th {\n",
       "        text-align: right;\n",
       "    }\n",
       "</style>\n",
       "<table border=\"1\" class=\"dataframe\">\n",
       "  <thead>\n",
       "    <tr style=\"text-align: right;\">\n",
       "      <th></th>\n",
       "      <th>Intervalo de Margem de Erro</th>\n",
       "      <th>Quantidade de Resultados</th>\n",
       "    </tr>\n",
       "  </thead>\n",
       "  <tbody>\n",
       "    <tr>\n",
       "      <th>0</th>\n",
       "      <td>0-1%</td>\n",
       "      <td>37</td>\n",
       "    </tr>\n",
       "    <tr>\n",
       "      <th>1</th>\n",
       "      <td>1-2%</td>\n",
       "      <td>52</td>\n",
       "    </tr>\n",
       "    <tr>\n",
       "      <th>2</th>\n",
       "      <td>2-5%</td>\n",
       "      <td>124</td>\n",
       "    </tr>\n",
       "    <tr>\n",
       "      <th>3</th>\n",
       "      <td>5-10%</td>\n",
       "      <td>34</td>\n",
       "    </tr>\n",
       "    <tr>\n",
       "      <th>4</th>\n",
       "      <td>10-20%</td>\n",
       "      <td>3</td>\n",
       "    </tr>\n",
       "    <tr>\n",
       "      <th>5</th>\n",
       "      <td>20-50%</td>\n",
       "      <td>0</td>\n",
       "    </tr>\n",
       "    <tr>\n",
       "      <th>6</th>\n",
       "      <td>50-100%</td>\n",
       "      <td>0</td>\n",
       "    </tr>\n",
       "  </tbody>\n",
       "</table>\n",
       "</div>"
      ],
      "text/plain": [
       "  Intervalo de Margem de Erro  Quantidade de Resultados\n",
       "0                        0-1%                        37\n",
       "1                        1-2%                        52\n",
       "2                        2-5%                       124\n",
       "3                       5-10%                        34\n",
       "4                      10-20%                         3\n",
       "5                      20-50%                         0\n",
       "6                     50-100%                         0"
      ]
     },
     "execution_count": 50,
     "metadata": {},
     "output_type": "execute_result"
    }
   ],
   "source": [
    "# Carrega todos os arquivos e os combina em um único DataFrame usando o setup\n",
    "dataframes = [pd.read_excel(file) for file in setup['monthly_results_sheets']]\n",
    "combined_df = pd.concat(dataframes, ignore_index=True)\n",
    "\n",
    "# Calcula a margem de erro como a diferença absoluta entre o retorno previsto e o retorno real\n",
    "combined_df[\"Error Margin (%)\"] = abs(combined_df[\"Retorno Predito\"] - combined_df[\"Retorno Real\"])\n",
    "\n",
    "# Define os intervalos de erro e os rótulos para categorização\n",
    "bins = [0, 1, 2, 5, 10, 20, 50, 100]\n",
    "labels = [\"0-1%\", \"1-2%\", \"2-5%\", \"5-10%\", \"10-20%\", \"20-50%\", \"50-100%\"]\n",
    "combined_df[\"Error Interval\"] = pd.cut(combined_df[\"Error Margin (%)\"], bins=bins, labels=labels, right=False)\n",
    "\n",
    "# Conta a quantidade de ocorrências em cada intervalo de erro\n",
    "error_margin_counts = combined_df[\"Error Interval\"].value_counts().sort_index()\n",
    "\n",
    "# Cria uma tabela de resumo\n",
    "error_margin_table = pd.DataFrame({\n",
    "    \"Intervalo de Margem de Erro\": error_margin_counts.index,\n",
    "    \"Quantidade de Resultados\": error_margin_counts.values\n",
    "})\n",
    "\n",
    "# Exibe a tabela de erro\n",
    "error_margin_table"
   ]
  }
 ],
 "metadata": {
  "kernelspec": {
   "display_name": "base",
   "language": "python",
   "name": "python3"
  },
  "language_info": {
   "codemirror_mode": {
    "name": "ipython",
    "version": 3
   },
   "file_extension": ".py",
   "mimetype": "text/x-python",
   "name": "python",
   "nbconvert_exporter": "python",
   "pygments_lexer": "ipython3",
   "version": "3.12.7"
  }
 },
 "nbformat": 4,
 "nbformat_minor": 2
}
