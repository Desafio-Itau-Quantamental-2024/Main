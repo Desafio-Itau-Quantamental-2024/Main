{
 "cells": [
  {
   "cell_type": "markdown",
   "metadata": {},
   "source": [
    "#### *Instalando as bibliotecas que serão necessárias*"
   ]
  },
  {
   "cell_type": "code",
   "execution_count": null,
   "metadata": {},
   "outputs": [],
   "source": [
    "# Instala a biblioteca \"pandas\" que será usada para manipulação de dados.\n",
    "!pip install pandas"
   ]
  },
  {
   "cell_type": "code",
   "execution_count": null,
   "metadata": {},
   "outputs": [],
   "source": [
    "# Instala a biblioteca \"numpy\" que será usada para operações numéricas.\n",
    "!pip install numpy"
   ]
  },
  {
   "cell_type": "code",
   "execution_count": null,
   "metadata": {},
   "outputs": [],
   "source": [
    "# Instala a biblioteca \"yfinance\" que será usada para obter dados financeiros.\n",
    "!pip install yfinance"
   ]
  },
  {
   "cell_type": "code",
   "execution_count": null,
   "metadata": {},
   "outputs": [],
   "source": [
    "# Instala a biblioteca \"plotly\" que será usada para a exibição de gráficos. \n",
    "!pip install plotly"
   ]
  },
  {
   "cell_type": "markdown",
   "metadata": {},
   "source": [
    "#### *Importando as bibliotecas que serão necessárias*"
   ]
  },
  {
   "cell_type": "code",
   "execution_count": 1,
   "metadata": {},
   "outputs": [],
   "source": [
    "# Importa a biblioteca \"pandas\", que será usada para manipulação de dados.\n",
    "import pandas as pd\n",
    "# Importa a biblioteca \"numpy\", que será usada para operações numéricas.\n",
    "import numpy as np\n",
    "# Importa a biblioteca \"yfinance\" para obter alguns dados de certas ações.\n",
    "import yfinance as yf\n",
    "# Importa o módulo \"graph_objects\" da biblioteca \"plotly\" para lidar com a exibição de gráficos.\n",
    "import plotly.graph_objects as go\n",
    "# Importa o módulo datetime da biblioteca \"datetime\" para lidar com datas.\n",
    "from datetime import datetime, timedelta\n",
    "# Importa a biblioteca \"math\" para lidar com certas operações matemáticas.\n",
    "import math\n",
    "# Importa o módulo Optional da biblioteca \"typing\" para lidar com a padronização dos tipos de parâmetros opcionais das funções.\n",
    "from typing import Optional"
   ]
  },
  {
   "cell_type": "markdown",
   "metadata": {},
   "source": [
    "# Código do backtest"
   ]
  },
  {
   "cell_type": "markdown",
   "metadata": {},
   "source": [
    "PRIMEIRO TESTE PARA O BACKTEST\n",
    "Cálculo do S&P ta errado"
   ]
  },
  {
   "cell_type": "code",
   "execution_count": null,
   "metadata": {},
   "outputs": [],
   "source": [
    "# Valor inicial do portfólio\n",
    "valor_portfolio_inicial = 100000\n",
    "\n",
    "# Listas para armazenar o histórico do portfólio e as datas correspondentes\n",
    "historico_portfolio = []\n",
    "datas_portfolio = []\n",
    "\n",
    "# Ler todas as planilhas do arquivo Excel\n",
    "sheets = pd.read_excel('resultados_portfolio_mensal_full_modified.xlsx', sheet_name=None, header=0)\n",
    "\n",
    "for nome_sheet, df in sheets.items():\n",
    "    # Verificar se o DataFrame está vazio\n",
    "    if df.empty:\n",
    "        print(f\"A planilha '{nome_sheet}' está vazia. Pulando este período.\")\n",
    "        continue\n",
    "\n",
    "    # Verificar se as colunas esperadas estão presentes\n",
    "    colunas_esperadas = ['Acao', 'Retorno Predito', 'Retorno Real']\n",
    "    if not all(col in df.columns for col in colunas_esperadas):\n",
    "        print(f\"A planilha '{nome_sheet}' não contém as colunas esperadas. Pulando este período.\")\n",
    "        continue\n",
    "\n",
    "    # Extrair o ticker, data de início e data de fim da coluna 'Acao'\n",
    "    try:\n",
    "        # Aplicar a extração em cada linha\n",
    "        def extrair_dados(row):\n",
    "            acao_periodo = row['Acao']\n",
    "            if pd.isnull(acao_periodo):\n",
    "                return pd.Series([np.nan, np.nan, np.nan])\n",
    "            parts = acao_periodo.split(':')\n",
    "            simbolo = parts[0].strip()\n",
    "            datas = parts[1].strip().split(' - ')\n",
    "            data_inicio = pd.to_datetime(datas[0].strip(), format='%Y-%m-%d')\n",
    "            data_fim = pd.to_datetime(datas[1].strip(), format='%Y-%m-%d')\n",
    "            return pd.Series([simbolo, data_inicio, data_fim])\n",
    "\n",
    "        df[['Simbolo', 'Data_Inicio', 'Data_Fim']] = df.apply(extrair_dados, axis=1)\n",
    "        # Remover linhas com dados ausentes\n",
    "        df.dropna(subset=['Simbolo', 'Data_Inicio', 'Data_Fim'], inplace=True)\n",
    "    except Exception as e:\n",
    "        print(f\"Erro ao extrair os dados da planilha '{nome_sheet}': {e}\")\n",
    "        continue\n",
    "\n",
    "    # Obter a data de início e fim do período a partir da primeira linha\n",
    "    data_inicio = df['Data_Inicio'].iloc[0]\n",
    "    data_fim = df['Data_Fim'].iloc[0]\n",
    "\n",
    "    # Ordenar pelo retorno predito\n",
    "    df = df.sort_values(by='Retorno Predito', ascending=False)\n",
    "\n",
    "    # Selecionar top 10%\n",
    "    n_acoes = max(int(len(df) * 0.10), 1)\n",
    "    acoes_compradas = df.head(n_acoes)\n",
    "\n",
    "    # Alocar capital igualmente entre as ações\n",
    "    valor_portfolio = valor_portfolio_inicial if not historico_portfolio else historico_portfolio[-1]\n",
    "    alocacao_por_acao = valor_portfolio / n_acoes\n",
    "\n",
    "    # Calcular o retorno real\n",
    "    retornos = acoes_compradas['Retorno Real'] / 100  # Converter porcentagem para decimal\n",
    "    valor_final = alocacao_por_acao * (1 + retornos)\n",
    "\n",
    "    # Atualizar o valor do portfólio\n",
    "    valor_portfolio = valor_final.sum()\n",
    "    historico_portfolio.append(valor_portfolio)\n",
    "    datas_portfolio.append(data_fim)\n",
    "\n",
    "    # Imprimir os resultados do período\n",
    "    print(f\"Período: {data_inicio.date()} - {data_fim.date()}\")\n",
    "    print(f\"Ações compradas: {acoes_compradas['Simbolo'].tolist()}\")\n",
    "    print(\"Retorno de cada ação:\")\n",
    "    for index, row in acoes_compradas.iterrows():\n",
    "        print(f\" - {row['Simbolo']}: {row['Retorno Real']}%\")\n",
    "    print(f\"Valor do portfólio ao final do período: ${valor_portfolio:.2f}\\n\")\n",
    "\n",
    "# Verificar se o histórico do portfólio está vazio\n",
    "if not historico_portfolio or not datas_portfolio:\n",
    "    print(\"Nenhum período foi processado com sucesso. Verifique os dados e tente novamente.\")\n",
    "else:\n",
    "    # Criar DataFrame com o histórico do portfólio\n",
    "    df_portfolio = pd.DataFrame({\n",
    "        'Data': datas_portfolio,\n",
    "        'Valor': historico_portfolio\n",
    "    })\n",
    "    # Ordenar por data\n",
    "    df_portfolio.sort_values(by='Data', inplace=True)\n",
    "    df_portfolio.reset_index(drop=True, inplace=True)\n",
    "\n",
    "    # 5. Obter dados do S&P500\n",
    "    data_inicio_total = df_portfolio['Data'].iloc[0] - timedelta(days=5)\n",
    "    data_fim_total = df_portfolio['Data'].iloc[-1] + timedelta(days=5)\n",
    "    sp500 = yf.download('^GSPC', start=data_inicio_total, end=data_fim_total)\n",
    "    print(\"Colunas disponíveis em sp500:\", sp500.columns)\n",
    "\n",
    "    # Determinar a coluna de preço a ser usada\n",
    "    if 'Adj Close' in sp500.columns:\n",
    "        price_column = 'Adj Close'\n",
    "    elif 'Close' in sp500.columns:\n",
    "        price_column = 'Close'\n",
    "    else:\n",
    "        raise KeyError(\"Nenhuma coluna de preço ('Adj Close' ou 'Close') encontrada em sp500\")\n",
    "\n",
    "    # Resetar o índice para ter a coluna 'Date'\n",
    "    sp500.reset_index(inplace=True)\n",
    "\n",
    "    # Remover informações de fuso horário da coluna 'Date'\n",
    "    sp500['Date'] = sp500['Date'].dt.tz_localize(None)\n",
    "\n",
    "    # Verificar os tipos de dados das colunas de datas\n",
    "    print(\"dtype de sp500['Date']:\", sp500['Date'].dtype)\n",
    "    print(\"dtype de df_portfolio['Data']:\", df_portfolio['Data'].dtype)\n",
    "\n",
    "    # Calcular retorno acumulado do S&P500\n",
    "    sp500['Retorno'] = sp500[price_column].pct_change().fillna(0)\n",
    "    sp500['Retorno Acumulado'] = (1 + sp500['Retorno']).cumprod()\n",
    "\n",
    "    # Interpolar o retorno acumulado do S&P500 nas datas do portfólio\n",
    "    sp500_interp = sp500[['Date', 'Retorno Acumulado']].set_index('Date').reindex(\n",
    "        df_portfolio['Data'], method='ffill')\n",
    "\n",
    "    # Após reindexar, resetamos o índice\n",
    "    sp500_interp.reset_index(inplace=True)\n",
    "\n",
    "    # Verificar as colunas e as primeiras linhas\n",
    "    print(\"Colunas de sp500_interp após reset_index:\", sp500_interp.columns)\n",
    "    print(\"Primeiras linhas de sp500_interp:\")\n",
    "    print(sp500_interp.head())\n",
    "\n",
    "    # Ajustar o acesso à coluna de datas de sp500_interp\n",
    "    if 'Date' in sp500_interp.columns:\n",
    "        date_column = 'Date'\n",
    "    elif 'index' in sp500_interp.columns:\n",
    "        date_column = 'index'\n",
    "    elif 'Data' in sp500_interp.columns:\n",
    "        date_column = 'Data'\n",
    "    else:\n",
    "        print(\"A coluna de datas não foi encontrada em sp500_interp.\")\n",
    "        print(\"Colunas disponíveis:\", sp500_interp.columns)\n",
    "        raise KeyError(\"Coluna de datas não encontrada em sp500_interp\")\n",
    "\n",
    "    # Calcular retorno acumulado da estratégia\n",
    "    df_portfolio['Retorno'] = df_portfolio['Valor'].pct_change().fillna(0)\n",
    "    df_portfolio['Retorno Acumulado'] = (1 + df_portfolio['Retorno']).cumprod()\n",
    "\n",
    "    # 6. Plotar o gráfico comparativo usando Plotly\n",
    "    trace_estrategia = go.Scatter(\n",
    "        x=df_portfolio['Data'],\n",
    "        y=df_portfolio['Retorno Acumulado'],\n",
    "        mode='lines+markers',\n",
    "        name='Retorno Acumulado da Estratégia',\n",
    "        yaxis='y1'\n",
    "    )\n",
    "\n",
    "    trace_sp500 = go.Scatter(\n",
    "        x=sp500_interp[date_column],\n",
    "        y=sp500_interp['Retorno Acumulado'],\n",
    "        mode='lines+markers',\n",
    "        name='Retorno Acumulado do S&P500',\n",
    "        yaxis='y1'\n",
    "    )\n",
    "\n",
    "    trace_capital = go.Scatter(\n",
    "        x=df_portfolio['Data'],\n",
    "        y=df_portfolio['Valor'],\n",
    "        mode='lines+markers',\n",
    "        name='Capital do Portfólio',\n",
    "        yaxis='y2'\n",
    "    )\n",
    "\n",
    "    data = [trace_estrategia, trace_sp500, trace_capital]\n",
    "\n",
    "    layout = go.Layout(\n",
    "        title='Comparação de Retorno Acumulado e Capital do Portfólio',\n",
    "        xaxis=dict(title='Data'),\n",
    "        yaxis=dict(\n",
    "            title='Retorno Acumulado',\n",
    "            side='left',\n",
    "            showgrid=False,\n",
    "            zeroline=False\n",
    "        ),\n",
    "        yaxis2=dict(\n",
    "            title='Capital do Portfólio',\n",
    "            overlaying='y',\n",
    "            side='right',\n",
    "            showgrid=False,\n",
    "            zeroline=False\n",
    "        ),\n",
    "        legend=dict(x=0.01, y=0.99)\n",
    "    )\n",
    "\n",
    "    fig = go.Figure(data=data, layout=layout)\n",
    "    fig.show()\n",
    "\n",
    "# 7. Plotar o histograma da distribuição dos retornos da estratégia\n",
    "\n",
    "# Remover possíveis NaNs ou valores infinitos\n",
    "retornos = df_portfolio['Retorno'].dropna().replace([np.inf, -np.inf], np.nan).dropna()\n",
    "\n",
    "# Criar o histograma dos retornos\n",
    "histograma = go.Figure(data=[go.Histogram(\n",
    "    x=retornos * 100,  # Converter para porcentagem\n",
    "    xbins=dict(\n",
    "        start=retornos.min() * 100,\n",
    "        end=retornos.max() * 100,\n",
    "        size=1  # Intervalo de 1% entre as barras\n",
    "    ),\n",
    "    marker_color='blue',\n",
    "    opacity=0.75\n",
    ")])\n",
    "\n",
    "histograma.update_layout(\n",
    "    title='Distribuição dos Retornos da Estratégia',\n",
    "    xaxis_title='Retorno (%)',\n",
    "    yaxis_title='Frequência',\n",
    "    bargap=0.2,\n",
    "    bargroupgap=0.1\n",
    ")"
   ]
  },
  {
   "cell_type": "markdown",
   "metadata": {},
   "source": [
    "TESTE 2 pq o primeiro tava dando problema com o S&P500\n",
    "\n",
    "Tudo fragmentado pra facilitar identificação de erro"
   ]
  },
  {
   "cell_type": "code",
   "execution_count": null,
   "metadata": {},
   "outputs": [],
   "source": [
    "import pandas as pd\n",
    "import numpy as np\n",
    "import yfinance as yf\n",
    "from datetime import timedelta\n",
    "import plotly.graph_objs as go\n",
    "\n",
    "# Valor inicial do portfólio\n",
    "valor_portfolio_inicial = 100000\n",
    "\n",
    "# Listas para armazenar o histórico do portfólio e as datas correspondentes\n",
    "historico_portfolio = []\n",
    "datas_portfolio = []\n",
    "datas_inicio_portfolio = []\n",
    "retornos_estrategia_periodo = []\n",
    "retornos_sp500_periodo = []\n",
    "\n",
    "# Nome do arquivo Excel\n",
    "arquivo_excel = 'resultados_portfolio_mensal_full_modified.xlsx'\n",
    "\n",
    "# Tentar ler o arquivo Excel\n",
    "try:\n",
    "    sheets = pd.read_excel(arquivo_excel, sheet_name=None, header=0)\n",
    "    print(f\"Arquivo '{arquivo_excel}' lido com sucesso.\")\n",
    "except FileNotFoundError:\n",
    "    print(f\"Arquivo '{arquivo_excel}' não encontrado. Verifique o caminho e o nome do arquivo.\")\n",
    "    exit()\n",
    "\n",
    "# Função para extrair dados de cada linha\n",
    "def extrair_dados(row):\n",
    "    acao_periodo = row['Acao']\n",
    "    if pd.isnull(acao_periodo):\n",
    "        return pd.Series([np.nan, np.nan, np.nan])\n",
    "    parts = acao_periodo.split(':')\n",
    "    if len(parts) != 2:\n",
    "        return pd.Series([np.nan, np.nan, np.nan])\n",
    "    simbolo = parts[0].strip()\n",
    "    datas = parts[1].strip().split(' - ')\n",
    "    if len(datas) != 2:\n",
    "        return pd.Series([np.nan, np.nan, np.nan])\n",
    "    try:\n",
    "        data_inicio = pd.to_datetime(datas[0].strip(), dayfirst=True).normalize()\n",
    "        data_fim = pd.to_datetime(datas[1].strip(), dayfirst=True).normalize()\n",
    "    except ValueError:\n",
    "        return pd.Series([np.nan, np.nan, np.nan])\n",
    "    return pd.Series([simbolo, data_inicio, data_fim])\n",
    "\n",
    "# Processar cada planilha\n",
    "for nome_sheet, df in sheets.items():\n",
    "    print(f\"\\nProcessando a planilha: {nome_sheet}\")\n",
    "    \n",
    "    # Verificar se o DataFrame está vazio\n",
    "    if df.empty:\n",
    "        print(f\"A planilha '{nome_sheet}' está vazia. Pulando este período.\")\n",
    "        continue\n",
    "\n",
    "    # Verificar se as colunas esperadas estão presentes\n",
    "    colunas_esperadas = ['Acao', 'Retorno Predito', 'Retorno Real']\n",
    "    if not all(col in df.columns for col in colunas_esperadas):\n",
    "        print(f\"A planilha '{nome_sheet}' não contém as colunas esperadas: {colunas_esperadas}. Pulando este período.\")\n",
    "        continue\n",
    "\n",
    "    # Aplicar a extração em cada linha\n",
    "    df[['Simbolo', 'Data_Inicio', 'Data_Fim']] = df.apply(extrair_dados, axis=1)\n",
    "\n",
    "    # Remover linhas com dados ausentes\n",
    "    linhas_antes = len(df)\n",
    "    df.dropna(subset=['Simbolo', 'Data_Inicio', 'Data_Fim'], inplace=True)\n",
    "    linhas_depois = len(df)\n",
    "    print(f\"Linhas processadas: {linhas_depois} (removidas {linhas_antes - linhas_depois} linhas com dados ausentes)\")\n",
    "\n",
    "    # Verificar se após a extração o DataFrame está vazio\n",
    "    if df.empty:\n",
    "        print(f\"A planilha '{nome_sheet}' não possui dados válidos após a extração. Pulando este período.\")\n",
    "        continue\n",
    "\n",
    "    # Obter a data de início e fim do período a partir da primeira linha\n",
    "    data_inicio = df['Data_Inicio'].iloc[0]\n",
    "    data_fim = df['Data_Fim'].iloc[0]\n",
    "\n",
    "    print(f\"Período: {data_inicio.date()} - {data_fim.date()}\")\n",
    "\n",
    "    # Ordenar pelo retorno predito\n",
    "    df = df.sort_values(by='Retorno Predito', ascending=False)\n",
    "\n",
    "    # Selecionar top 10%\n",
    "    n_acoes = max(int(len(df) * 0.10), 1)\n",
    "    acoes_compradas = df.head(n_acoes)\n",
    "    print(f\"Selecionadas {n_acoes} ações para o portfólio.\")\n",
    "\n",
    "    # Alocar capital igualmente entre as ações\n",
    "    if not historico_portfolio:\n",
    "        valor_portfolio_anterior = valor_portfolio_inicial\n",
    "    else:\n",
    "        valor_portfolio_anterior = historico_portfolio[-1]\n",
    "    valor_portfolio = valor_portfolio_anterior\n",
    "    alocacao_por_acao = valor_portfolio / n_acoes\n",
    "\n",
    "    # Calcular o retorno real\n",
    "    retornos = acoes_compradas['Retorno Real'] / 100  # Converter porcentagem para decimal\n",
    "    valor_final = alocacao_por_acao * (1 + retornos)\n",
    "\n",
    "    # Atualizar o valor do portfólio\n",
    "    valor_portfolio = valor_final.sum()\n",
    "    historico_portfolio.append(valor_portfolio)\n",
    "    datas_portfolio.append(data_fim)\n",
    "    datas_inicio_portfolio.append(data_inicio)\n",
    "\n",
    "    # Calcular o retorno do período\n",
    "    retorno_periodo = (valor_portfolio - valor_portfolio_anterior) / valor_portfolio_anterior * 100  # Em porcentagem\n",
    "    retornos_estrategia_periodo.append(retorno_periodo)\n",
    "\n",
    "    # Imprimir os resultados do período\n",
    "    print(f\"Ações compradas: {acoes_compradas['Simbolo'].tolist()}\")\n",
    "    print(\"Retorno de cada ação:\")\n",
    "    for index, row in acoes_compradas.iterrows():\n",
    "        print(f\" - {row['Simbolo']}: {row['Retorno Real']}%\")\n",
    "    print(f\"Retorno do período: {retorno_periodo:.2f}%\")\n",
    "    print(f\"Valor do portfólio ao final do período: ${valor_portfolio:.2f}\\n\")\n"
   ]
  },
  {
   "cell_type": "code",
   "execution_count": null,
   "metadata": {},
   "outputs": [],
   "source": [
    "# Verificar se o histórico do portfólio está vazio\n",
    "if not historico_portfolio or not datas_portfolio:\n",
    "    print(\"Nenhum período foi processado com sucesso. Verifique os dados e tente novamente.\")\n",
    "    exit()\n",
    "else:\n",
    "    # Criar DataFrame com o histórico do portfólio\n",
    "    df_portfolio = pd.DataFrame({\n",
    "        'Data': datas_portfolio,\n",
    "        'Valor': historico_portfolio\n",
    "    })\n",
    "    # Ordenar por data\n",
    "    df_portfolio.sort_values(by='Data', inplace=True)\n",
    "    df_portfolio.reset_index(drop=True, inplace=True)\n",
    "\n",
    "    print(\"\\nHistórico do Portfólio:\")\n",
    "    print(df_portfolio)\n"
   ]
  },
  {
   "cell_type": "code",
   "execution_count": null,
   "metadata": {},
   "outputs": [],
   "source": [
    "# Obter dados do S&P500\n",
    "data_inicio_total = min(datas_inicio_portfolio) - timedelta(days=5)\n",
    "data_fim_total = max(datas_portfolio) + timedelta(days=5)\n",
    "print(f\"\\nBaixando dados do S&P500 de {data_inicio_total.date()} a {data_fim_total.date()}.\")\n",
    "    \n",
    "try:\n",
    "    # Baixar dados do S&P500 sem o parâmetro 'group_by'\n",
    "    sp500 = yf.download('^GSPC', start=data_inicio_total, end=data_fim_total)\n",
    "    print(\"Dados do S&P500 baixados com sucesso.\")\n",
    "except Exception as e:\n",
    "    print(f\"Erro ao baixar dados do S&P500: {e}\")\n",
    "    exit()\n",
    "\n",
    "# Resetar o índice para transformar o índice em coluna\n",
    "sp500.reset_index(inplace=True)\n",
    "\n",
    "# Verificar se as colunas são MultiIndex\n",
    "if isinstance(sp500.columns, pd.MultiIndex):\n",
    "    # Achatar as colunas combinando os níveis\n",
    "    sp500.columns = [' '.join(col).strip() for col in sp500.columns.values]\n",
    "    print(\"Ajustando colunas de MultiIndex para nível único.\")\n",
    "else:\n",
    "    print(\"Colunas de sp500 são de nível único.\")\n",
    "\n",
    "# Converter os nomes das colunas para minúsculas para facilitar a comparação\n",
    "sp500.columns = [col.lower() for col in sp500.columns]\n",
    "print(f\"Colunas em sp500 após conversão para minúsculas: {sp500.columns.tolist()}\")\n",
    "\n",
    "# Verificar o nome da coluna de data\n",
    "date_column_name = None\n",
    "for col in sp500.columns:\n",
    "    if 'date' in col:\n",
    "        date_column_name = col\n",
    "        break\n",
    "\n",
    "if date_column_name is None:\n",
    "    print(\"Nenhuma coluna de data encontrada em sp500.\")\n",
    "    exit()\n",
    "\n",
    "if date_column_name != 'date':\n",
    "    sp500.rename(columns={date_column_name: 'date'}, inplace=True)\n",
    "    print(f\"Renomeada a coluna de data para 'date'.\")\n",
    "\n",
    "# Remover informações de fuso horário e normalizar a data\n",
    "sp500['date'] = pd.to_datetime(sp500['date']).dt.tz_localize(None).dt.normalize()\n",
    "\n",
    "# Determinar a coluna de preço a ser usada\n",
    "price_column = None\n",
    "for col in sp500.columns:\n",
    "    if 'adj close' in col.lower():\n",
    "        price_column = col\n",
    "        break\n",
    "if price_column is None:\n",
    "    for col in sp500.columns:\n",
    "        if 'close' in col.lower():\n",
    "            price_column = col\n",
    "            break\n",
    "\n",
    "if price_column is None:\n",
    "    raise KeyError(f\"Nenhuma coluna de preço ('Adj Close' ou 'Close') encontrada em sp500. Colunas disponíveis: {sp500.columns.tolist()}\")\n",
    "\n",
    "print(f\"Coluna de preço selecionada: '{price_column}'\")\n",
    "\n",
    "# Criar sp500_prices com 'date' como coluna\n",
    "sp500_prices = sp500[['date', price_column]].rename(columns={price_column: 'Price'})\n",
    "\n",
    "print(f\"Colunas em sp500_prices: {sp500_prices.columns.tolist()}\")\n",
    "\n",
    "# Calcular Retorno do S&P500 (não acumulado)\n",
    "sp500_prices['Retorno'] = sp500_prices['Price'].pct_change().fillna(0)\n",
    "\n",
    "# Verificar se 'Retorno' foi criado\n",
    "if 'Retorno' not in sp500_prices.columns:\n",
    "    print(\"Erro: A coluna 'Retorno' não foi criada em sp500_prices.\")\n",
    "    print(f\"Colunas disponíveis em sp500_prices: {sp500_prices.columns.tolist()}\")\n",
    "    exit()\n",
    "else:\n",
    "    print(\"'Retorno' criado com sucesso em sp500_prices.\")\n",
    "    print(sp500_prices[['date', 'Price', 'Retorno']].head())\n"
   ]
  },
  {
   "cell_type": "code",
   "execution_count": null,
   "metadata": {},
   "outputs": [],
   "source": [
    "# Preparar required_dates\n",
    "required_dates = pd.Series(datas_inicio_portfolio + datas_portfolio).drop_duplicates()\n",
    "required_dates = pd.to_datetime(required_dates).dt.normalize()\n",
    "required_dates = required_dates.to_frame(name='date')\n",
    "required_dates.sort_values('date', inplace=True)\n",
    "required_dates.reset_index(drop=True, inplace=True)\n",
    "\n",
    "# Garantir que não há duplicatas em required_dates\n",
    "required_dates.drop_duplicates(subset='date', inplace=True)\n",
    "\n",
    "# Realizar o merge_asof para alinhar os preços do S&P500 com as datas do portfólio\n",
    "prices_at_required_dates = pd.merge_asof(\n",
    "    required_dates.sort_values('date'),\n",
    "    sp500_prices.sort_values('date'),\n",
    "    on='date',\n",
    "    direction='backward'\n",
    ")\n",
    "\n",
    "# Verificar se há NaNs após o merge\n",
    "na_prices = prices_at_required_dates['Price'].isna().sum()\n",
    "if na_prices > 0:\n",
    "    print(f\"Atenção: {na_prices} datas no portfólio não têm correspondência no S&P500.\")\n",
    "\n",
    "# Criar um dicionário mapeando datas a preços\n",
    "date_price_dict = dict(zip(prices_at_required_dates['date'], prices_at_required_dates['Price']))\n"
   ]
  },
  {
   "cell_type": "code",
   "execution_count": null,
   "metadata": {},
   "outputs": [],
   "source": [
    "# Calcular os retornos do S&P500 para cada período\n",
    "for i in range(len(datas_inicio_portfolio)):\n",
    "    data_inicio = datas_inicio_portfolio[i].normalize()\n",
    "    data_fim = datas_portfolio[i].normalize()\n",
    "\n",
    "    price_inicio = date_price_dict.get(data_inicio)\n",
    "    price_fim = date_price_dict.get(data_fim)\n",
    "\n",
    "    if pd.isna(price_inicio) or pd.isna(price_fim):\n",
    "        print(f\"Não foi possível obter preços para o período {data_inicio.date()} - {data_fim.date()}\")\n",
    "        retorno_sp500_periodo = np.nan\n",
    "    else:\n",
    "        retorno_sp500_periodo = (price_fim - price_inicio) / price_inicio * 100\n",
    "        print(f\"Retorno do S&P500 no período {data_inicio.date()} - {data_fim.date()}: {retorno_sp500_periodo:.2f}%\")\n",
    "    retornos_sp500_periodo.append(retorno_sp500_periodo)\n"
   ]
  },
  {
   "cell_type": "code",
   "execution_count": null,
   "metadata": {},
   "outputs": [],
   "source": [
    "# Criar DataFrame com os retornos por período\n",
    "df_returns = pd.DataFrame({\n",
    "    'Data_Inicio': datas_inicio_portfolio,\n",
    "    'Data_Fim': datas_portfolio,\n",
    "    'Retorno_Estrategia': retornos_estrategia_periodo,\n",
    "    'Retorno_SP500': retornos_sp500_periodo\n",
    "})\n",
    "\n",
    "# Remover períodos onde o retorno do S&P500 é NaN\n",
    "df_returns.dropna(subset=['Retorno_SP500'], inplace=True)\n",
    "\n",
    "# Formatar as datas para serem usadas como rótulos no gráfico\n",
    "df_returns['Período'] = df_returns['Data_Fim'].dt.strftime('%Y-%m-%d')\n",
    "\n",
    "print(\"\\nDataFrame com Retornos por Período:\")\n",
    "print(df_returns)\n"
   ]
  },
  {
   "cell_type": "code",
   "execution_count": null,
   "metadata": {},
   "outputs": [],
   "source": [
    "# Plotar o gráfico de barras duplo dos retornos por período\n",
    "fig_bar = go.Figure(data=[\n",
    "    go.Bar(name='Estratégia', x=df_returns['Período'], y=df_returns['Retorno_Estrategia']),\n",
    "    go.Bar(name='S&P500', x=df_returns['Período'], y=df_returns['Retorno_SP500'])\n",
    "])\n",
    "\n",
    "fig_bar.update_layout(\n",
    "    barmode='group',\n",
    "    title='Retornos por Período: Estratégia vs S&P500',\n",
    "    xaxis_title='Período',\n",
    "    yaxis_title='Retorno (%)',\n",
    "    legend=dict(x=0.01, y=0.99)\n",
    ")\n",
    "\n",
    "fig_bar.show()\n"
   ]
  },
  {
   "cell_type": "markdown",
   "metadata": {},
   "source": [
    "AJEITAR O GRÁFICO QUE FICOU RUIM(provavelmente por conta da escala)"
   ]
  },
  {
   "cell_type": "markdown",
   "metadata": {},
   "source": [
    "# Exemplos"
   ]
  },
  {
   "cell_type": "markdown",
   "metadata": {},
   "source": [
    "## Gráfico de barras verticais sobrepostas "
   ]
  },
  {
   "cell_type": "code",
   "execution_count": null,
   "metadata": {},
   "outputs": [],
   "source": [
    "import plotly.graph_objects as go\n",
    "\n",
    "# Dados de exemplo\n",
    "x_values = [\"Categoria A\", \"Categoria B\", \"Categoria C\"]\n",
    "y_values_1 = [10, 20, 15]\n",
    "y_values_2 = [5, 15, 10]\n",
    "\n",
    "# Criação das barras empilhadas\n",
    "fig = go.Figure()\n",
    "\n",
    "# Primeira barra (base)\n",
    "fig.add_trace(go.Bar(\n",
    "    x=x_values,\n",
    "    y=y_values_1,\n",
    "    name='Série 1'\n",
    "))\n",
    "\n",
    "# Segunda barra (sobreposta na anterior)\n",
    "fig.add_trace(go.Bar(\n",
    "    x=x_values,\n",
    "    y=y_values_2,\n",
    "    name='Série 2'\n",
    "))\n",
    "\n",
    "# Configuração do layout para barras empilhadas\n",
    "fig.update_layout(\n",
    "    barmode='stack',\n",
    "    title='Gráfico de Barras Verticalmente Sobrepostas',\n",
    "    xaxis_title='Categorias',\n",
    "    yaxis_title='Valores'\n",
    ")\n",
    "\n",
    "# Exibe o gráfico\n",
    "fig.show()\n"
   ]
  },
  {
   "cell_type": "code",
   "execution_count": null,
   "metadata": {},
   "outputs": [],
   "source": [
    "def plot_time_serie_line_graph(serie: pd.Series, serie_title: Optional[str] = \"\", serie_xaxis_title: Optional[str] = \"\", \n",
    "                               serie_yaxis_title: Optional[str] = \"\") -> None:\n",
    "    '''\n",
    "        Description:\n",
    "            Essa função é responsável por realizar o plot de uma série temporal.\n",
    "        Args:\n",
    "            serie (pd.Series): Série temporal cujos dados serão utilizados para o plot. Os valores de tal série temporal estarão no eixo y,\n",
    "            enquanto os índices dessa série estarão no eixo x.\n",
    "            title (string):\n",
    "            xaxis_title (string):\n",
    "            yaxis_title (string):\n",
    "            \n",
    "        Return:\n",
    "            Essa função plota a série temporal, mas não retorna nada.\n",
    "    '''\n",
    "    \n",
    "    # Cria a figure onde a série temporal em questão será plotada.\n",
    "    fig = go.Figure()\n",
    "    \n",
    "    # Adiciona o gráfico da série temporal em questão ao plot.\n",
    "    fig.add_trace(go.Scatter(\n",
    "        # Define os valores do eixo x do plot.\n",
    "        x = serie.index,\n",
    "        # Define os valores do eixo y do plot.\n",
    "        y = serie.values,\n",
    "        # Define o tipo do gráfico que será plotado.\n",
    "        mode = \"lines\"\n",
    "    ))\n",
    "    \n",
    "    # Adiciona algumas legendas ao plot.\n",
    "    fig.update_layout(\n",
    "        # Adiciona um título ao plot.\n",
    "        title = serie_title,\n",
    "        # Adiciona uma legenda ao eixo x do plot.\n",
    "        xaxis_title = serie_xaxis_title,\n",
    "        # Adiciona uma legenda ao eixo y do plot.\n",
    "        yaxis_title = serie_yaxis_title\n",
    "    )\n",
    "    \n",
    "    # Exibe o plot criado.\n",
    "    fig.show()"
   ]
  },
  {
   "cell_type": "code",
   "execution_count": null,
   "metadata": {},
   "outputs": [],
   "source": [
    "'''\n",
    "# Cria um título para o plot.\n",
    "title = f\"Retornos logarítmicos diários de {ticker1}\"\n",
    "# Cria uma legenda para o eixo x do plot.\n",
    "xaxis_title = \"Data\"\n",
    "# Cria uma legenda para o eixo y do plot.\n",
    "yaxis_title = \"Valor\"\n",
    "\n",
    "# Cria o plot da série temporal dos log retornos diários do \"ticker1\".\n",
    "plot_time_serie_line_graph(ticker1_daily_logarithmic_return, title, xaxis_title, yaxis_title)\n",
    "'''"
   ]
  },
  {
   "cell_type": "code",
   "execution_count": 8,
   "metadata": {},
   "outputs": [],
   "source": [
    "def plot_multiples_time_series_line_graphs(data_list: list, serie_title: Optional[str] = \"\", serie_xaxis_title: Optional[str] = \"\", \n",
    "                               serie_yaxis_title: Optional[str] = \"\") -> None:\n",
    "    '''\n",
    "        Description:\n",
    "            Esta função exibe em um mesmo plot múltiplos gráficos de séries temporais. \n",
    "        Args:\n",
    "            data_list (list): Lista contendo as séries temporais cujos gráficos serão exibidos no plot. Os valores de tais séries temporais\n",
    "                              estarão no eixo y, enquanto os índices dessas séries estarão no eixo x.\n",
    "            title (string) [Optional]: Título do plot.\n",
    "            xaxis_title (string) [Optional]: Título do eixo x do plot.\n",
    "            yaxis_title (string) [Optional]: Título do eixo y do plot.\n",
    "        Return:\n",
    "            None: A função exibe os gráficos, mas não retorna nenhum valor.  \n",
    "        Errors:\n",
    "            TypeError: É esperado que todas os elementos da lista \"data_list\" sejam objetos do tipo pd.Series, isto é, que sejam séries temporais.\n",
    "            ValueError: É esperado que todas as séries temporais presentes na variável \"data_list\" possuam os mesmos índices. \n",
    "            TypeError: É esperado que todas as séries temporais presentes na variável data_list possuam um atributo \"name\".\n",
    "    '''    \n",
    "\n",
    "    # Verifica se todos os elementos presentes na lista \"data_list\" são séries temporais.\n",
    "    are_all_data_time_series = all(isinstance(df, pd.Series) for df in data_list)\n",
    "    \n",
    "    # Retorna um erro caso algum dos dados presentes na variável \"data_list\" não seja uma série temporal\n",
    "    if not are_all_data_time_series:\n",
    "        raise TypeError(\"Todos os dados presentes no parâmetro 'data_list' devem ser séries temporais.\")\n",
    "    \n",
    "    # Verifica se as séries temporais presentes na variável \"data_list\" possuem os mesmos índices.\n",
    "    are_all_index_equal = all(df.index.equals(data_list[0].index) for df in data_list)\n",
    "    \n",
    "    # Retorna um erro caso as séries temporais possuam índices diferentes.\n",
    "    if not are_all_index_equal:\n",
    "        raise ValueError(\"Todos as séries temporais devem possuir os mesmos índices.\")\n",
    "    \n",
    "    # Verifica se todas as séries temporais presentes na variável \"data_list\" possuem o atributo \"name\".\n",
    "    all_time_series_have_names = all(hasattr(df,\"name\") for df in data_list)\n",
    "    \n",
    "    # Retorna um erro caso uma das séries temporais presentes na variável \"data_list\" não possua o atributo \"name\".\n",
    "    if not all_time_series_have_names:\n",
    "        raise TypeError(\"Todas as séries temporais devem possuir o atributo 'name'\")\n",
    "    \n",
    "    # Cria uma lista de timestamps que representará o eixo x do gráfico que será plotado.\n",
    "    x_axis = data_list[0].index.tolist() # Observe que só podemos fazer isso pois temos certeza que todas as séries temporais possuem os mesmos índices.\n",
    "    # Cria a figura onde será plotado o gráfico.\n",
    "    fig = go.Figure()\n",
    "\n",
    "    # Adiciona cada série temporal ao gráfico.\n",
    "    for time_serie in data_list:\n",
    "        # Plota o gráfico (Data x Valor da Ação) do ticker em questão.\n",
    "        fig.add_trace(go.Scatter(x=x_axis, y=time_serie.values, mode=\"lines\", name=time_serie.name))\n",
    "    \n",
    "    # Atualiza o layout para permitir destaque ao clicar na legenda.\n",
    "    fig.update_layout(\n",
    "        # Seta um título para o plot.\n",
    "        title=serie_title,\n",
    "        # Seta um título para o eixo x do plot.\n",
    "        xaxis_title=serie_xaxis_title,\n",
    "        # Seta um título para o eixo y do plot.\n",
    "        yaxis_title=serie_yaxis_title,   \n",
    "    )\n",
    "    \n",
    "    # Exibe o gráfico criado.\n",
    "    fig.show()"
   ]
  },
  {
   "cell_type": "markdown",
   "metadata": {},
   "source": [
    "#"
   ]
  },
  {
   "cell_type": "code",
   "execution_count": 3,
   "metadata": {},
   "outputs": [],
   "source": [
    "setup = {\n",
    "    #\n",
    "    \"monthly_results_sheets\": ['resultados_portfolio_mensal_full_1.xlsx', 'resultados_portfolio_mensal_full_2.xlsx',\n",
    "                               'resultados_portfolio_mensal_full_3.xlsx', 'resultados_portfolio_mensal_full_4.xlsx'],\n",
    "    #\n",
    "    \"weekly_results_sheets\": ['resultados_portfolio_semanal_full_1.xlsx']\n",
    "}"
   ]
  },
  {
   "cell_type": "code",
   "execution_count": 2,
   "metadata": {},
   "outputs": [],
   "source": [
    "def process_file_and_get_results(filename: str) -> pd.DataFrame:\n",
    "    '''\n",
    "        Description:\n",
    "\n",
    "        Args:\n",
    "\n",
    "        Return:\n",
    "    '''\n",
    "\n",
    "    # Ler todas as planilhas do arquivo Excel\n",
    "    dfs = pd.read_excel(filename, sheet_name=None)\n",
    "    \n",
    "    #\n",
    "    first_trading_day = dfs['Período 1'][dfs['Período 1'].columns[0]][0].split(\" - \")[0]\n",
    "    #\n",
    "    first_trading_day = np.datetime64(first_trading_day)\n",
    "    \n",
    "    #\n",
    "    results = pd.DataFrame({\n",
    "        \"Retorno\": 0\n",
    "    }, index=[first_trading_day])\n",
    "    \n",
    "    # Acessar e trabalhar com cada DataFrame\n",
    "    for period, df in dfs.items():\n",
    "        if not df.empty:\n",
    "            #\n",
    "            period_last_trading_day = df[df.columns[0]][0].split(\" - \")[1]\n",
    "            #\n",
    "            period_last_trading_day = np.datetime64(period_last_trading_day)\n",
    "            #\n",
    "            tickers_to_trade = math.ceil(df.shape[0]*0.1)\n",
    "            #\n",
    "            period_return = df.iloc[:tickers_to_trade]['Retorno Real'].mean() # Trocar por um .sum() ?\n",
    "            #\n",
    "            result = pd.DataFrame({\n",
    "                \"Retorno\": period_return,\n",
    "            },index=[period_last_trading_day])\n",
    "            #\n",
    "            results = pd.concat([results, result])\n",
    "    \n",
    "    return results\n",
    "            "
   ]
  },
  {
   "cell_type": "code",
   "execution_count": 12,
   "metadata": {},
   "outputs": [],
   "source": [
    "results = []\n",
    "for xlsx_number, xlsx in enumerate(setup['monthly_results_sheets']):\n",
    "    result = process_file_and_get_results(xlsx)['Retorno']\n",
    "    result.name = f\"Retorno da previsão {xlsx_number}\"\n",
    "    results.append(result)"
   ]
  },
  {
   "cell_type": "code",
   "execution_count": 14,
   "metadata": {},
   "outputs": [
    {
     "data": {
      "application/vnd.plotly.v1+json": {
       "config": {
        "plotlyServerURL": "https://plot.ly"
       },
       "data": [
        {
         "mode": "lines",
         "name": "Retorno da previsão 0",
         "type": "scatter",
         "x": [
          "2019-02-22T00:00:00",
          "2019-03-21T00:00:00",
          "2019-04-18T00:00:00",
          "2019-05-17T00:00:00",
          "2019-06-17T00:00:00",
          "2019-07-16T00:00:00",
          "2019-08-13T00:00:00",
          "2019-09-11T00:00:00",
          "2019-10-09T00:00:00",
          "2019-11-06T00:00:00",
          "2019-12-05T00:00:00",
          "2020-01-06T00:00:00",
          "2020-02-04T00:00:00",
          "2020-03-04T00:00:00",
          "2020-04-30T00:00:00",
          "2020-05-29T00:00:00",
          "2020-06-26T00:00:00",
          "2020-07-27T00:00:00",
          "2020-08-24T00:00:00",
          "2020-09-22T00:00:00",
          "2020-10-20T00:00:00",
          "2020-11-17T00:00:00",
          "2020-12-16T00:00:00",
          "2021-01-15T00:00:00",
          "2021-02-16T00:00:00",
          "2021-03-16T00:00:00",
          "2021-04-14T00:00:00",
          "2021-05-12T00:00:00",
          "2021-06-10T00:00:00",
          "2021-07-09T00:00:00",
          "2021-08-06T00:00:00",
          "2021-09-03T00:00:00",
          "2021-10-04T00:00:00",
          "2021-11-01T00:00:00",
          "2021-11-30T00:00:00",
          "2021-12-29T00:00:00",
          "2022-01-27T00:00:00",
          "2022-02-25T00:00:00",
          "2022-03-25T00:00:00",
          "2022-04-25T00:00:00",
          "2022-05-23T00:00:00",
          "2022-06-22T00:00:00",
          "2022-07-21T00:00:00",
          "2022-08-18T00:00:00",
          "2022-09-16T00:00:00",
          "2022-10-14T00:00:00",
          "2022-11-11T00:00:00",
          "2022-12-12T00:00:00",
          "2023-01-11T00:00:00",
          "2023-02-09T00:00:00",
          "2023-03-10T00:00:00",
          "2023-04-10T00:00:00",
          "2023-05-08T00:00:00",
          "2023-06-06T00:00:00",
          "2023-07-06T00:00:00",
          "2023-08-03T00:00:00",
          "2023-08-31T00:00:00",
          "2023-09-29T00:00:00",
          "2023-10-27T00:00:00",
          "2023-11-27T00:00:00",
          "2023-12-26T00:00:00"
         ],
         "y": [
          0,
          4.859427486368004,
          4.864098372357599,
          5.933390868756282,
          5.581318702631878,
          4.994662229632373,
          7.934921350414186,
          5.93106486087755,
          3.4673244546351016,
          5.7493615391373165,
          5.5302703166862335,
          5.09478099612606,
          7.30712274801139,
          2.6443912850614986,
          12.15016578082063,
          11.734903984363106,
          5.552704853248197,
          8.45978573800713,
          7.017342536370333,
          1.92996731252533,
          11.836693431776412,
          10.860488041436911,
          4.165929939274814,
          7.996652060015634,
          10.165910806287984,
          9.835284083311283,
          8.133025513029104,
          3.3530957700740225,
          8.135921341264602,
          5.187008557723567,
          3.7557510853352296,
          4.8523274946454436,
          2.6956721882917263,
          6.567841778480622,
          0.13127851889019837,
          8.90539695263146,
          1.5513089870296037,
          4.933856081295453,
          5.379266153754601,
          5.841420211464431,
          6.478601870307211,
          -1.7973120840268113,
          9.048720916646595,
          10.851716286388456,
          -0.008002588492220176,
          4.492893464313664,
          17.407590412432164,
          9.510259508422841,
          6.889651233626151,
          6.383086517439294,
          -1.001818687259759,
          7.314631217321169,
          6.2447055868225885,
          2.368478887447659,
          4.666315825649187,
          4.978492875680257,
          1.3738544087511166,
          2.502945965880123,
          4.109963400164442,
          6.950655651248887,
          7.329662870849914
         ]
        },
        {
         "mode": "lines",
         "name": "Retorno da previsão 1",
         "type": "scatter",
         "x": [
          "2019-02-22T00:00:00",
          "2019-03-21T00:00:00",
          "2019-04-18T00:00:00",
          "2019-05-17T00:00:00",
          "2019-06-17T00:00:00",
          "2019-07-16T00:00:00",
          "2019-08-13T00:00:00",
          "2019-09-11T00:00:00",
          "2019-10-09T00:00:00",
          "2019-11-06T00:00:00",
          "2019-12-05T00:00:00",
          "2020-01-06T00:00:00",
          "2020-02-04T00:00:00",
          "2020-03-04T00:00:00",
          "2020-04-30T00:00:00",
          "2020-05-29T00:00:00",
          "2020-06-26T00:00:00",
          "2020-07-27T00:00:00",
          "2020-08-24T00:00:00",
          "2020-09-22T00:00:00",
          "2020-10-20T00:00:00",
          "2020-11-17T00:00:00",
          "2020-12-16T00:00:00",
          "2021-01-15T00:00:00",
          "2021-02-16T00:00:00",
          "2021-03-16T00:00:00",
          "2021-04-14T00:00:00",
          "2021-05-12T00:00:00",
          "2021-06-10T00:00:00",
          "2021-07-09T00:00:00",
          "2021-08-06T00:00:00",
          "2021-09-03T00:00:00",
          "2021-10-04T00:00:00",
          "2021-11-01T00:00:00",
          "2021-11-30T00:00:00",
          "2021-12-29T00:00:00",
          "2022-01-27T00:00:00",
          "2022-02-25T00:00:00",
          "2022-03-25T00:00:00",
          "2022-04-25T00:00:00",
          "2022-05-23T00:00:00",
          "2022-06-22T00:00:00",
          "2022-07-21T00:00:00",
          "2022-08-18T00:00:00",
          "2022-09-16T00:00:00",
          "2022-10-14T00:00:00",
          "2022-11-11T00:00:00",
          "2022-12-12T00:00:00",
          "2023-01-11T00:00:00",
          "2023-02-09T00:00:00",
          "2023-03-10T00:00:00",
          "2023-04-10T00:00:00",
          "2023-05-08T00:00:00",
          "2023-06-06T00:00:00",
          "2023-07-06T00:00:00",
          "2023-08-03T00:00:00",
          "2023-08-31T00:00:00",
          "2023-09-29T00:00:00",
          "2023-10-27T00:00:00",
          "2023-11-27T00:00:00",
          "2023-12-26T00:00:00"
         ],
         "y": [
          0,
          6.2673454454281625,
          4.779837148673759,
          5.699338409539649,
          5.581320164977771,
          4.22124485078088,
          6.932008301443439,
          6.286466026442904,
          3.1677773490874475,
          5.356496802656058,
          5.530267520349427,
          5.330675996137388,
          7.307131507542792,
          2.6444092448554866,
          12.15016578082063,
          11.029935507838706,
          5.95285716906996,
          8.459780440845794,
          7.051770545124866,
          1.9395097624937674,
          12.141460238856544,
          10.860480451497644,
          3.7237148897834302,
          7.996652847722589,
          10.165907468368207,
          9.83529169111484,
          8.133017484497845,
          3.2269261951067705,
          8.135926768909663,
          5.7357181834729065,
          4.274951787304968,
          5.498437084206512,
          2.6453582267111826,
          7.851201330394868,
          0.5002510605131263,
          8.867811184405044,
          2.4954338755620347,
          4.933854659035739,
          6.437017695614712,
          4.88485646119481,
          6.4786027358093765,
          -1.797302340936374,
          8.693770019101073,
          10.851721105389457,
          0.13625131772929744,
          4.492889936944813,
          18.066072302594684,
          9.187248468863398,
          6.889646809935641,
          6.383088859616765,
          -1.0018219954370333,
          7.31463509754781,
          6.299515803267278,
          2.3684770735453213,
          4.6663160362036535,
          4.9784947824351615,
          1.373856628019598,
          2.5029410660623252,
          4.253323866559242,
          6.74691823805844,
          7.329657798237269
         ]
        },
        {
         "mode": "lines",
         "name": "Retorno da previsão 2",
         "type": "scatter",
         "x": [
          "2019-02-22T00:00:00",
          "2019-03-21T00:00:00",
          "2019-04-18T00:00:00",
          "2019-05-17T00:00:00",
          "2019-06-17T00:00:00",
          "2019-07-16T00:00:00",
          "2019-08-13T00:00:00",
          "2019-09-11T00:00:00",
          "2019-10-09T00:00:00",
          "2019-11-06T00:00:00",
          "2019-12-05T00:00:00",
          "2020-01-06T00:00:00",
          "2020-02-04T00:00:00",
          "2020-03-04T00:00:00",
          "2020-04-30T00:00:00",
          "2020-05-29T00:00:00",
          "2020-06-26T00:00:00",
          "2020-07-27T00:00:00",
          "2020-08-24T00:00:00",
          "2020-09-22T00:00:00",
          "2020-10-20T00:00:00",
          "2020-11-17T00:00:00",
          "2020-12-16T00:00:00",
          "2021-01-15T00:00:00",
          "2021-02-16T00:00:00",
          "2021-03-16T00:00:00",
          "2021-04-14T00:00:00",
          "2021-05-12T00:00:00",
          "2021-06-10T00:00:00",
          "2021-07-09T00:00:00",
          "2021-08-06T00:00:00",
          "2021-09-03T00:00:00",
          "2021-10-04T00:00:00",
          "2021-11-01T00:00:00",
          "2021-11-30T00:00:00",
          "2021-12-29T00:00:00",
          "2022-01-27T00:00:00",
          "2022-02-25T00:00:00",
          "2022-03-25T00:00:00",
          "2022-04-25T00:00:00",
          "2022-05-23T00:00:00",
          "2022-06-22T00:00:00",
          "2022-07-21T00:00:00",
          "2022-08-18T00:00:00",
          "2022-09-16T00:00:00",
          "2022-10-14T00:00:00",
          "2022-11-11T00:00:00",
          "2022-12-12T00:00:00",
          "2023-01-11T00:00:00",
          "2023-02-09T00:00:00",
          "2023-03-10T00:00:00",
          "2023-04-10T00:00:00",
          "2023-05-08T00:00:00",
          "2023-06-06T00:00:00",
          "2023-07-06T00:00:00",
          "2023-08-03T00:00:00",
          "2023-08-31T00:00:00",
          "2023-09-29T00:00:00",
          "2023-10-27T00:00:00",
          "2023-11-27T00:00:00",
          "2023-12-26T00:00:00"
         ],
         "y": [
          0,
          5.3145187591008165,
          4.692802246652621,
          6.40099000443323,
          5.637725208738631,
          4.625252773371466,
          7.934925147484975,
          6.2864566521662,
          3.097045297881809,
          5.35649111406264,
          5.530268531602318,
          5.694741685843456,
          7.9322385799640625,
          -3.151978508160359,
          12.15016578082063,
          11.734901006415749,
          5.952860797123476,
          8.459780780476425,
          7.051773050883211,
          2.0534746297765314,
          12.141468138822896,
          9.535939987641283,
          2.609586538603275,
          7.996662654460093,
          10.16589968031086,
          9.83528843442337,
          8.27919532398425,
          2.7509465307072825,
          8.45348995294867,
          5.186999827237457,
          4.274958579654561,
          5.128516017721468,
          3.042111068496884,
          7.894307587012489,
          -0.17083759499093598,
          9.34562273687194,
          2.4954351033008058,
          4.933843031246377,
          6.124391829224136,
          6.907753291735142,
          6.478595578479544,
          -1.7973063111851613,
          9.04870685453727,
          10.439935951807435,
          -0.28694252160128125,
          4.383638536942469,
          18.158693362379616,
          9.540748324078598,
          6.889650185204642,
          6.383088281177421,
          -1.1579314679384818,
          7.91081283663487,
          6.299523778864861,
          2.368475522353605,
          4.666313260604293,
          4.9784892392515605,
          1.3738500568123604,
          2.5029446417619026,
          4.826801111179963,
          6.950659572399822,
          7.329660598229009
         ]
        },
        {
         "mode": "lines",
         "name": "Retorno da previsão 3",
         "type": "scatter",
         "x": [
          "2019-02-22T00:00:00",
          "2019-03-21T00:00:00",
          "2019-04-18T00:00:00",
          "2019-05-17T00:00:00",
          "2019-06-17T00:00:00",
          "2019-07-16T00:00:00",
          "2019-08-13T00:00:00",
          "2019-09-11T00:00:00",
          "2019-10-09T00:00:00",
          "2019-11-06T00:00:00",
          "2019-12-05T00:00:00",
          "2020-01-06T00:00:00",
          "2020-02-04T00:00:00",
          "2020-03-04T00:00:00",
          "2020-04-30T00:00:00",
          "2020-05-29T00:00:00",
          "2020-06-26T00:00:00",
          "2020-07-27T00:00:00",
          "2020-08-24T00:00:00",
          "2020-09-22T00:00:00",
          "2020-10-20T00:00:00",
          "2020-11-17T00:00:00",
          "2020-12-16T00:00:00",
          "2021-01-15T00:00:00",
          "2021-02-16T00:00:00",
          "2021-03-16T00:00:00",
          "2021-04-14T00:00:00",
          "2021-05-12T00:00:00",
          "2021-06-10T00:00:00",
          "2021-07-09T00:00:00",
          "2021-08-06T00:00:00",
          "2021-09-03T00:00:00",
          "2021-10-04T00:00:00",
          "2021-11-01T00:00:00",
          "2021-11-30T00:00:00",
          "2021-12-29T00:00:00",
          "2022-01-27T00:00:00",
          "2022-02-25T00:00:00",
          "2022-03-25T00:00:00",
          "2022-04-25T00:00:00",
          "2022-05-23T00:00:00",
          "2022-06-22T00:00:00",
          "2022-07-21T00:00:00",
          "2022-08-18T00:00:00",
          "2022-09-16T00:00:00",
          "2022-10-14T00:00:00",
          "2022-11-11T00:00:00",
          "2022-12-12T00:00:00",
          "2023-01-11T00:00:00",
          "2023-02-09T00:00:00",
          "2023-03-10T00:00:00",
          "2023-04-10T00:00:00",
          "2023-05-08T00:00:00",
          "2023-06-06T00:00:00",
          "2023-07-06T00:00:00",
          "2023-08-03T00:00:00",
          "2023-08-31T00:00:00",
          "2023-09-29T00:00:00",
          "2023-10-27T00:00:00",
          "2023-11-27T00:00:00",
          "2023-12-26T00:00:00"
         ],
         "y": [
          0,
          6.59726544093007,
          5.603095526039801,
          4.596369837451778,
          4.739015605602981,
          3.9488322199822194,
          6.932003554752832,
          6.286478182190008,
          3.2181325490740846,
          5.35649211285738,
          4.992915524041306,
          5.094788633317629,
          7.307114460717321,
          1.962938848079547,
          12.15016578082063,
          11.029921980947131,
          5.552708799289606,
          8.459788370091783,
          6.620346440460873,
          2.0534770454249522,
          12.141459823529805,
          10.860491634551419,
          2.4879575276166705,
          8.184372960236615,
          10.165899852000498,
          9.835283018344859,
          7.651269695019674,
          2.75094706595272,
          8.453498410254333,
          5.735715439251328,
          4.274947404300983,
          5.023037053941736,
          2.419013329343602,
          7.731312968051204,
          -0.17083944239780627,
          7.555929673749223,
          2.495436222862337,
          4.933858270999392,
          5.4457110607141725,
          5.84142383015561,
          6.47859264476196,
          -1.7973067339195523,
          9.048713860903986,
          10.439931970318941,
          0.13623852693695454,
          4.493467191124538,
          18.15868668294805,
          9.5407545360253,
          6.88965355672522,
          6.383078887959228,
          -1.1579370878977842,
          7.557105765994374,
          6.299512049657018,
          2.3684801285530765,
          4.666316623804753,
          5.916359473692365,
          1.3287033471084464,
          2.502942991845816,
          4.253327113288832,
          6.950657906433112,
          7.329656834154872
         ]
        }
       ],
       "layout": {
        "template": {
         "data": {
          "bar": [
           {
            "error_x": {
             "color": "#2a3f5f"
            },
            "error_y": {
             "color": "#2a3f5f"
            },
            "marker": {
             "line": {
              "color": "#E5ECF6",
              "width": 0.5
             },
             "pattern": {
              "fillmode": "overlay",
              "size": 10,
              "solidity": 0.2
             }
            },
            "type": "bar"
           }
          ],
          "barpolar": [
           {
            "marker": {
             "line": {
              "color": "#E5ECF6",
              "width": 0.5
             },
             "pattern": {
              "fillmode": "overlay",
              "size": 10,
              "solidity": 0.2
             }
            },
            "type": "barpolar"
           }
          ],
          "carpet": [
           {
            "aaxis": {
             "endlinecolor": "#2a3f5f",
             "gridcolor": "white",
             "linecolor": "white",
             "minorgridcolor": "white",
             "startlinecolor": "#2a3f5f"
            },
            "baxis": {
             "endlinecolor": "#2a3f5f",
             "gridcolor": "white",
             "linecolor": "white",
             "minorgridcolor": "white",
             "startlinecolor": "#2a3f5f"
            },
            "type": "carpet"
           }
          ],
          "choropleth": [
           {
            "colorbar": {
             "outlinewidth": 0,
             "ticks": ""
            },
            "type": "choropleth"
           }
          ],
          "contour": [
           {
            "colorbar": {
             "outlinewidth": 0,
             "ticks": ""
            },
            "colorscale": [
             [
              0,
              "#0d0887"
             ],
             [
              0.1111111111111111,
              "#46039f"
             ],
             [
              0.2222222222222222,
              "#7201a8"
             ],
             [
              0.3333333333333333,
              "#9c179e"
             ],
             [
              0.4444444444444444,
              "#bd3786"
             ],
             [
              0.5555555555555556,
              "#d8576b"
             ],
             [
              0.6666666666666666,
              "#ed7953"
             ],
             [
              0.7777777777777778,
              "#fb9f3a"
             ],
             [
              0.8888888888888888,
              "#fdca26"
             ],
             [
              1,
              "#f0f921"
             ]
            ],
            "type": "contour"
           }
          ],
          "contourcarpet": [
           {
            "colorbar": {
             "outlinewidth": 0,
             "ticks": ""
            },
            "type": "contourcarpet"
           }
          ],
          "heatmap": [
           {
            "colorbar": {
             "outlinewidth": 0,
             "ticks": ""
            },
            "colorscale": [
             [
              0,
              "#0d0887"
             ],
             [
              0.1111111111111111,
              "#46039f"
             ],
             [
              0.2222222222222222,
              "#7201a8"
             ],
             [
              0.3333333333333333,
              "#9c179e"
             ],
             [
              0.4444444444444444,
              "#bd3786"
             ],
             [
              0.5555555555555556,
              "#d8576b"
             ],
             [
              0.6666666666666666,
              "#ed7953"
             ],
             [
              0.7777777777777778,
              "#fb9f3a"
             ],
             [
              0.8888888888888888,
              "#fdca26"
             ],
             [
              1,
              "#f0f921"
             ]
            ],
            "type": "heatmap"
           }
          ],
          "heatmapgl": [
           {
            "colorbar": {
             "outlinewidth": 0,
             "ticks": ""
            },
            "colorscale": [
             [
              0,
              "#0d0887"
             ],
             [
              0.1111111111111111,
              "#46039f"
             ],
             [
              0.2222222222222222,
              "#7201a8"
             ],
             [
              0.3333333333333333,
              "#9c179e"
             ],
             [
              0.4444444444444444,
              "#bd3786"
             ],
             [
              0.5555555555555556,
              "#d8576b"
             ],
             [
              0.6666666666666666,
              "#ed7953"
             ],
             [
              0.7777777777777778,
              "#fb9f3a"
             ],
             [
              0.8888888888888888,
              "#fdca26"
             ],
             [
              1,
              "#f0f921"
             ]
            ],
            "type": "heatmapgl"
           }
          ],
          "histogram": [
           {
            "marker": {
             "pattern": {
              "fillmode": "overlay",
              "size": 10,
              "solidity": 0.2
             }
            },
            "type": "histogram"
           }
          ],
          "histogram2d": [
           {
            "colorbar": {
             "outlinewidth": 0,
             "ticks": ""
            },
            "colorscale": [
             [
              0,
              "#0d0887"
             ],
             [
              0.1111111111111111,
              "#46039f"
             ],
             [
              0.2222222222222222,
              "#7201a8"
             ],
             [
              0.3333333333333333,
              "#9c179e"
             ],
             [
              0.4444444444444444,
              "#bd3786"
             ],
             [
              0.5555555555555556,
              "#d8576b"
             ],
             [
              0.6666666666666666,
              "#ed7953"
             ],
             [
              0.7777777777777778,
              "#fb9f3a"
             ],
             [
              0.8888888888888888,
              "#fdca26"
             ],
             [
              1,
              "#f0f921"
             ]
            ],
            "type": "histogram2d"
           }
          ],
          "histogram2dcontour": [
           {
            "colorbar": {
             "outlinewidth": 0,
             "ticks": ""
            },
            "colorscale": [
             [
              0,
              "#0d0887"
             ],
             [
              0.1111111111111111,
              "#46039f"
             ],
             [
              0.2222222222222222,
              "#7201a8"
             ],
             [
              0.3333333333333333,
              "#9c179e"
             ],
             [
              0.4444444444444444,
              "#bd3786"
             ],
             [
              0.5555555555555556,
              "#d8576b"
             ],
             [
              0.6666666666666666,
              "#ed7953"
             ],
             [
              0.7777777777777778,
              "#fb9f3a"
             ],
             [
              0.8888888888888888,
              "#fdca26"
             ],
             [
              1,
              "#f0f921"
             ]
            ],
            "type": "histogram2dcontour"
           }
          ],
          "mesh3d": [
           {
            "colorbar": {
             "outlinewidth": 0,
             "ticks": ""
            },
            "type": "mesh3d"
           }
          ],
          "parcoords": [
           {
            "line": {
             "colorbar": {
              "outlinewidth": 0,
              "ticks": ""
             }
            },
            "type": "parcoords"
           }
          ],
          "pie": [
           {
            "automargin": true,
            "type": "pie"
           }
          ],
          "scatter": [
           {
            "fillpattern": {
             "fillmode": "overlay",
             "size": 10,
             "solidity": 0.2
            },
            "type": "scatter"
           }
          ],
          "scatter3d": [
           {
            "line": {
             "colorbar": {
              "outlinewidth": 0,
              "ticks": ""
             }
            },
            "marker": {
             "colorbar": {
              "outlinewidth": 0,
              "ticks": ""
             }
            },
            "type": "scatter3d"
           }
          ],
          "scattercarpet": [
           {
            "marker": {
             "colorbar": {
              "outlinewidth": 0,
              "ticks": ""
             }
            },
            "type": "scattercarpet"
           }
          ],
          "scattergeo": [
           {
            "marker": {
             "colorbar": {
              "outlinewidth": 0,
              "ticks": ""
             }
            },
            "type": "scattergeo"
           }
          ],
          "scattergl": [
           {
            "marker": {
             "colorbar": {
              "outlinewidth": 0,
              "ticks": ""
             }
            },
            "type": "scattergl"
           }
          ],
          "scattermapbox": [
           {
            "marker": {
             "colorbar": {
              "outlinewidth": 0,
              "ticks": ""
             }
            },
            "type": "scattermapbox"
           }
          ],
          "scatterpolar": [
           {
            "marker": {
             "colorbar": {
              "outlinewidth": 0,
              "ticks": ""
             }
            },
            "type": "scatterpolar"
           }
          ],
          "scatterpolargl": [
           {
            "marker": {
             "colorbar": {
              "outlinewidth": 0,
              "ticks": ""
             }
            },
            "type": "scatterpolargl"
           }
          ],
          "scatterternary": [
           {
            "marker": {
             "colorbar": {
              "outlinewidth": 0,
              "ticks": ""
             }
            },
            "type": "scatterternary"
           }
          ],
          "surface": [
           {
            "colorbar": {
             "outlinewidth": 0,
             "ticks": ""
            },
            "colorscale": [
             [
              0,
              "#0d0887"
             ],
             [
              0.1111111111111111,
              "#46039f"
             ],
             [
              0.2222222222222222,
              "#7201a8"
             ],
             [
              0.3333333333333333,
              "#9c179e"
             ],
             [
              0.4444444444444444,
              "#bd3786"
             ],
             [
              0.5555555555555556,
              "#d8576b"
             ],
             [
              0.6666666666666666,
              "#ed7953"
             ],
             [
              0.7777777777777778,
              "#fb9f3a"
             ],
             [
              0.8888888888888888,
              "#fdca26"
             ],
             [
              1,
              "#f0f921"
             ]
            ],
            "type": "surface"
           }
          ],
          "table": [
           {
            "cells": {
             "fill": {
              "color": "#EBF0F8"
             },
             "line": {
              "color": "white"
             }
            },
            "header": {
             "fill": {
              "color": "#C8D4E3"
             },
             "line": {
              "color": "white"
             }
            },
            "type": "table"
           }
          ]
         },
         "layout": {
          "annotationdefaults": {
           "arrowcolor": "#2a3f5f",
           "arrowhead": 0,
           "arrowwidth": 1
          },
          "autotypenumbers": "strict",
          "coloraxis": {
           "colorbar": {
            "outlinewidth": 0,
            "ticks": ""
           }
          },
          "colorscale": {
           "diverging": [
            [
             0,
             "#8e0152"
            ],
            [
             0.1,
             "#c51b7d"
            ],
            [
             0.2,
             "#de77ae"
            ],
            [
             0.3,
             "#f1b6da"
            ],
            [
             0.4,
             "#fde0ef"
            ],
            [
             0.5,
             "#f7f7f7"
            ],
            [
             0.6,
             "#e6f5d0"
            ],
            [
             0.7,
             "#b8e186"
            ],
            [
             0.8,
             "#7fbc41"
            ],
            [
             0.9,
             "#4d9221"
            ],
            [
             1,
             "#276419"
            ]
           ],
           "sequential": [
            [
             0,
             "#0d0887"
            ],
            [
             0.1111111111111111,
             "#46039f"
            ],
            [
             0.2222222222222222,
             "#7201a8"
            ],
            [
             0.3333333333333333,
             "#9c179e"
            ],
            [
             0.4444444444444444,
             "#bd3786"
            ],
            [
             0.5555555555555556,
             "#d8576b"
            ],
            [
             0.6666666666666666,
             "#ed7953"
            ],
            [
             0.7777777777777778,
             "#fb9f3a"
            ],
            [
             0.8888888888888888,
             "#fdca26"
            ],
            [
             1,
             "#f0f921"
            ]
           ],
           "sequentialminus": [
            [
             0,
             "#0d0887"
            ],
            [
             0.1111111111111111,
             "#46039f"
            ],
            [
             0.2222222222222222,
             "#7201a8"
            ],
            [
             0.3333333333333333,
             "#9c179e"
            ],
            [
             0.4444444444444444,
             "#bd3786"
            ],
            [
             0.5555555555555556,
             "#d8576b"
            ],
            [
             0.6666666666666666,
             "#ed7953"
            ],
            [
             0.7777777777777778,
             "#fb9f3a"
            ],
            [
             0.8888888888888888,
             "#fdca26"
            ],
            [
             1,
             "#f0f921"
            ]
           ]
          },
          "colorway": [
           "#636efa",
           "#EF553B",
           "#00cc96",
           "#ab63fa",
           "#FFA15A",
           "#19d3f3",
           "#FF6692",
           "#B6E880",
           "#FF97FF",
           "#FECB52"
          ],
          "font": {
           "color": "#2a3f5f"
          },
          "geo": {
           "bgcolor": "white",
           "lakecolor": "white",
           "landcolor": "#E5ECF6",
           "showlakes": true,
           "showland": true,
           "subunitcolor": "white"
          },
          "hoverlabel": {
           "align": "left"
          },
          "hovermode": "closest",
          "mapbox": {
           "style": "light"
          },
          "paper_bgcolor": "white",
          "plot_bgcolor": "#E5ECF6",
          "polar": {
           "angularaxis": {
            "gridcolor": "white",
            "linecolor": "white",
            "ticks": ""
           },
           "bgcolor": "#E5ECF6",
           "radialaxis": {
            "gridcolor": "white",
            "linecolor": "white",
            "ticks": ""
           }
          },
          "scene": {
           "xaxis": {
            "backgroundcolor": "#E5ECF6",
            "gridcolor": "white",
            "gridwidth": 2,
            "linecolor": "white",
            "showbackground": true,
            "ticks": "",
            "zerolinecolor": "white"
           },
           "yaxis": {
            "backgroundcolor": "#E5ECF6",
            "gridcolor": "white",
            "gridwidth": 2,
            "linecolor": "white",
            "showbackground": true,
            "ticks": "",
            "zerolinecolor": "white"
           },
           "zaxis": {
            "backgroundcolor": "#E5ECF6",
            "gridcolor": "white",
            "gridwidth": 2,
            "linecolor": "white",
            "showbackground": true,
            "ticks": "",
            "zerolinecolor": "white"
           }
          },
          "shapedefaults": {
           "line": {
            "color": "#2a3f5f"
           }
          },
          "ternary": {
           "aaxis": {
            "gridcolor": "white",
            "linecolor": "white",
            "ticks": ""
           },
           "baxis": {
            "gridcolor": "white",
            "linecolor": "white",
            "ticks": ""
           },
           "bgcolor": "#E5ECF6",
           "caxis": {
            "gridcolor": "white",
            "linecolor": "white",
            "ticks": ""
           }
          },
          "title": {
           "x": 0.05
          },
          "xaxis": {
           "automargin": true,
           "gridcolor": "white",
           "linecolor": "white",
           "ticks": "",
           "title": {
            "standoff": 15
           },
           "zerolinecolor": "white",
           "zerolinewidth": 2
          },
          "yaxis": {
           "automargin": true,
           "gridcolor": "white",
           "linecolor": "white",
           "ticks": "",
           "title": {
            "standoff": 15
           },
           "zerolinecolor": "white",
           "zerolinewidth": 2
          }
         }
        },
        "title": {
         "text": "Retornos de diferentes previsões do modelo"
        },
        "xaxis": {
         "title": {
          "text": "Data"
         }
        },
        "yaxis": {
         "title": {
          "text": "Retorno"
         }
        }
       }
      }
     },
     "metadata": {},
     "output_type": "display_data"
    }
   ],
   "source": [
    "plot_multiples_time_series_line_graphs(results,\"Retornos de diferentes previsões do modelo\", \"Data\", \"Retorno\")"
   ]
  },
  {
   "cell_type": "code",
   "execution_count": 15,
   "metadata": {},
   "outputs": [],
   "source": [
    "results = []\n",
    "for xlsx_number, xlsx in enumerate(setup['monthly_results_sheets']):\n",
    "    result = process_file_and_get_results(xlsx)['Retorno'].cumsum()\n",
    "    result.dropna(inplace=True)\n",
    "    result.name = f\"Retorno da previsão {xlsx_number}\"\n",
    "    results.append(result)"
   ]
  },
  {
   "cell_type": "code",
   "execution_count": 16,
   "metadata": {},
   "outputs": [
    {
     "data": {
      "application/vnd.plotly.v1+json": {
       "config": {
        "plotlyServerURL": "https://plot.ly"
       },
       "data": [
        {
         "mode": "lines",
         "name": "Retorno da previsão 0",
         "type": "scatter",
         "x": [
          "2019-02-22T00:00:00",
          "2019-03-21T00:00:00",
          "2019-04-18T00:00:00",
          "2019-05-17T00:00:00",
          "2019-06-17T00:00:00",
          "2019-07-16T00:00:00",
          "2019-08-13T00:00:00",
          "2019-09-11T00:00:00",
          "2019-10-09T00:00:00",
          "2019-11-06T00:00:00",
          "2019-12-05T00:00:00",
          "2020-01-06T00:00:00",
          "2020-02-04T00:00:00",
          "2020-03-04T00:00:00",
          "2020-04-30T00:00:00",
          "2020-05-29T00:00:00",
          "2020-06-26T00:00:00",
          "2020-07-27T00:00:00",
          "2020-08-24T00:00:00",
          "2020-09-22T00:00:00",
          "2020-10-20T00:00:00",
          "2020-11-17T00:00:00",
          "2020-12-16T00:00:00",
          "2021-01-15T00:00:00",
          "2021-02-16T00:00:00",
          "2021-03-16T00:00:00",
          "2021-04-14T00:00:00",
          "2021-05-12T00:00:00",
          "2021-06-10T00:00:00",
          "2021-07-09T00:00:00",
          "2021-08-06T00:00:00",
          "2021-09-03T00:00:00",
          "2021-10-04T00:00:00",
          "2021-11-01T00:00:00",
          "2021-11-30T00:00:00",
          "2021-12-29T00:00:00",
          "2022-01-27T00:00:00",
          "2022-02-25T00:00:00",
          "2022-03-25T00:00:00",
          "2022-04-25T00:00:00",
          "2022-05-23T00:00:00",
          "2022-06-22T00:00:00",
          "2022-07-21T00:00:00",
          "2022-08-18T00:00:00",
          "2022-09-16T00:00:00",
          "2022-10-14T00:00:00",
          "2022-11-11T00:00:00",
          "2022-12-12T00:00:00",
          "2023-01-11T00:00:00",
          "2023-02-09T00:00:00",
          "2023-03-10T00:00:00",
          "2023-04-10T00:00:00",
          "2023-05-08T00:00:00",
          "2023-06-06T00:00:00",
          "2023-07-06T00:00:00",
          "2023-08-03T00:00:00",
          "2023-08-31T00:00:00",
          "2023-09-29T00:00:00",
          "2023-10-27T00:00:00",
          "2023-11-27T00:00:00",
          "2023-12-26T00:00:00"
         ],
         "y": [
          0,
          4.859427486368004,
          9.723525858725603,
          15.656916727481885,
          21.23823543011376,
          26.232897659746133,
          34.167819010160315,
          40.09888387103786,
          43.56620832567297,
          49.315569864810286,
          54.84584018149652,
          59.94062117762258,
          67.24774392563397,
          69.89213521069547,
          82.0423009915161,
          93.7772049758792,
          99.3299098291274,
          107.78969556713453,
          114.80703810350487,
          116.7370054160302,
          128.5736988478066,
          139.43418688924353,
          143.60011682851834,
          151.59676888853397,
          161.76267969482197,
          171.59796377813325,
          179.73098929116236,
          183.08408506123638,
          191.22000640250099,
          196.40701496022456,
          200.16276604555978,
          205.0150935402052,
          207.71076572849694,
          214.27860750697755,
          214.40988602586776,
          223.31528297849923,
          224.86659196552884,
          229.8004480468243,
          235.1797142005789,
          241.02113441204332,
          247.49973628235054,
          245.70242419832374,
          254.75114511497034,
          265.6028614013588,
          265.59485881286656,
          270.08775227718024,
          287.4953426896124,
          297.00560219803526,
          303.8952534316614,
          310.27833994910065,
          309.2765212618409,
          316.5911524791621,
          322.83585806598467,
          325.20433695343235,
          329.8706527790815,
          334.8491456547618,
          336.2230000635129,
          338.72594602939307,
          342.8359094295575,
          349.7865650808064,
          357.1162279516563
         ]
        },
        {
         "mode": "lines",
         "name": "Retorno da previsão 1",
         "type": "scatter",
         "x": [
          "2019-02-22T00:00:00",
          "2019-03-21T00:00:00",
          "2019-04-18T00:00:00",
          "2019-05-17T00:00:00",
          "2019-06-17T00:00:00",
          "2019-07-16T00:00:00",
          "2019-08-13T00:00:00",
          "2019-09-11T00:00:00",
          "2019-10-09T00:00:00",
          "2019-11-06T00:00:00",
          "2019-12-05T00:00:00",
          "2020-01-06T00:00:00",
          "2020-02-04T00:00:00",
          "2020-03-04T00:00:00",
          "2020-04-30T00:00:00",
          "2020-05-29T00:00:00",
          "2020-06-26T00:00:00",
          "2020-07-27T00:00:00",
          "2020-08-24T00:00:00",
          "2020-09-22T00:00:00",
          "2020-10-20T00:00:00",
          "2020-11-17T00:00:00",
          "2020-12-16T00:00:00",
          "2021-01-15T00:00:00",
          "2021-02-16T00:00:00",
          "2021-03-16T00:00:00",
          "2021-04-14T00:00:00",
          "2021-05-12T00:00:00",
          "2021-06-10T00:00:00",
          "2021-07-09T00:00:00",
          "2021-08-06T00:00:00",
          "2021-09-03T00:00:00",
          "2021-10-04T00:00:00",
          "2021-11-01T00:00:00",
          "2021-11-30T00:00:00",
          "2021-12-29T00:00:00",
          "2022-01-27T00:00:00",
          "2022-02-25T00:00:00",
          "2022-03-25T00:00:00",
          "2022-04-25T00:00:00",
          "2022-05-23T00:00:00",
          "2022-06-22T00:00:00",
          "2022-07-21T00:00:00",
          "2022-08-18T00:00:00",
          "2022-09-16T00:00:00",
          "2022-10-14T00:00:00",
          "2022-11-11T00:00:00",
          "2022-12-12T00:00:00",
          "2023-01-11T00:00:00",
          "2023-02-09T00:00:00",
          "2023-03-10T00:00:00",
          "2023-04-10T00:00:00",
          "2023-05-08T00:00:00",
          "2023-06-06T00:00:00",
          "2023-07-06T00:00:00",
          "2023-08-03T00:00:00",
          "2023-08-31T00:00:00",
          "2023-09-29T00:00:00",
          "2023-10-27T00:00:00",
          "2023-11-27T00:00:00",
          "2023-12-26T00:00:00"
         ],
         "y": [
          0,
          6.2673454454281625,
          11.047182594101923,
          16.746521003641572,
          22.327841168619344,
          26.549086019400225,
          33.48109432084367,
          39.76756034728657,
          42.93533769637401,
          48.291834499030074,
          53.8221020193795,
          59.15277801551689,
          66.45990952305968,
          69.10431876791516,
          81.25448454873579,
          92.28442005657449,
          98.23727722564445,
          106.69705766649024,
          113.7488282116151,
          115.68833797410888,
          127.82979821296541,
          138.69027866446305,
          142.41399355424647,
          150.41064640196907,
          160.57655387033728,
          170.4118455614521,
          178.54486304594997,
          181.77178924105675,
          189.9077160099664,
          195.6434341934393,
          199.91838598074426,
          205.41682306495076,
          208.06218129166194,
          215.91338262205682,
          216.41363368256995,
          225.281444866975,
          227.77687874253704,
          232.71073340157278,
          239.1477510971875,
          244.0326075583823,
          250.51121029419167,
          248.7139079532553,
          257.4076779723564,
          268.25939907774585,
          268.3956503954752,
          272.88854033242,
          290.9546126350147,
          300.1418611038781,
          307.03150791381375,
          313.4145967734305,
          312.4127747779935,
          319.7274098755413,
          326.0269256788086,
          328.3954027523539,
          333.0617187885575,
          338.0402135709927,
          339.4140701990123,
          341.9170112650746,
          346.17033513163386,
          352.9172533696923,
          360.24691116792957
         ]
        },
        {
         "mode": "lines",
         "name": "Retorno da previsão 2",
         "type": "scatter",
         "x": [
          "2019-02-22T00:00:00",
          "2019-03-21T00:00:00",
          "2019-04-18T00:00:00",
          "2019-05-17T00:00:00",
          "2019-06-17T00:00:00",
          "2019-07-16T00:00:00",
          "2019-08-13T00:00:00",
          "2019-09-11T00:00:00",
          "2019-10-09T00:00:00",
          "2019-11-06T00:00:00",
          "2019-12-05T00:00:00",
          "2020-01-06T00:00:00",
          "2020-02-04T00:00:00",
          "2020-03-04T00:00:00",
          "2020-04-30T00:00:00",
          "2020-05-29T00:00:00",
          "2020-06-26T00:00:00",
          "2020-07-27T00:00:00",
          "2020-08-24T00:00:00",
          "2020-09-22T00:00:00",
          "2020-10-20T00:00:00",
          "2020-11-17T00:00:00",
          "2020-12-16T00:00:00",
          "2021-01-15T00:00:00",
          "2021-02-16T00:00:00",
          "2021-03-16T00:00:00",
          "2021-04-14T00:00:00",
          "2021-05-12T00:00:00",
          "2021-06-10T00:00:00",
          "2021-07-09T00:00:00",
          "2021-08-06T00:00:00",
          "2021-09-03T00:00:00",
          "2021-10-04T00:00:00",
          "2021-11-01T00:00:00",
          "2021-11-30T00:00:00",
          "2021-12-29T00:00:00",
          "2022-01-27T00:00:00",
          "2022-02-25T00:00:00",
          "2022-03-25T00:00:00",
          "2022-04-25T00:00:00",
          "2022-05-23T00:00:00",
          "2022-06-22T00:00:00",
          "2022-07-21T00:00:00",
          "2022-08-18T00:00:00",
          "2022-09-16T00:00:00",
          "2022-10-14T00:00:00",
          "2022-11-11T00:00:00",
          "2022-12-12T00:00:00",
          "2023-01-11T00:00:00",
          "2023-02-09T00:00:00",
          "2023-03-10T00:00:00",
          "2023-04-10T00:00:00",
          "2023-05-08T00:00:00",
          "2023-06-06T00:00:00",
          "2023-07-06T00:00:00",
          "2023-08-03T00:00:00",
          "2023-08-31T00:00:00",
          "2023-09-29T00:00:00",
          "2023-10-27T00:00:00",
          "2023-11-27T00:00:00",
          "2023-12-26T00:00:00"
         ],
         "y": [
          0,
          5.3145187591008165,
          10.007321005753438,
          16.40831101018667,
          22.046036218925302,
          26.671288992296766,
          34.60621413978174,
          40.89267079194794,
          43.98971608982975,
          49.34620720389239,
          54.87647573549471,
          60.57121742133816,
          68.50345600130223,
          65.35147749314187,
          77.5016432739625,
          89.23654428037825,
          95.18940507750173,
          103.64918585797815,
          110.70095890886137,
          112.7544335386379,
          124.8959016774608,
          134.43184166510207,
          137.04142820370535,
          145.03809085816545,
          155.20399053847632,
          165.0392789728997,
          173.31847429688395,
          176.06942082759124,
          184.52291078053992,
          189.70991060777737,
          193.98486918743194,
          199.1133852051534,
          202.1554962736503,
          210.0498038606628,
          209.87896626567186,
          219.2245890025438,
          221.7200241058446,
          226.65386713709097,
          232.7782589663151,
          239.68601225805023,
          246.16460783652977,
          244.3673015253446,
          253.41600837988187,
          263.85594433168933,
          263.569001810088,
          267.95264034703047,
          286.1113337094101,
          295.6520820334887,
          302.5417322186933,
          308.92482049987075,
          307.7668890319323,
          315.67770186856717,
          321.977225647432,
          324.3457011697856,
          329.0120144303899,
          333.9905036696415,
          335.3643537264539,
          337.8672983682158,
          342.6940994793958,
          349.64475905179563,
          356.97441965002463
         ]
        },
        {
         "mode": "lines",
         "name": "Retorno da previsão 3",
         "type": "scatter",
         "x": [
          "2019-02-22T00:00:00",
          "2019-03-21T00:00:00",
          "2019-04-18T00:00:00",
          "2019-05-17T00:00:00",
          "2019-06-17T00:00:00",
          "2019-07-16T00:00:00",
          "2019-08-13T00:00:00",
          "2019-09-11T00:00:00",
          "2019-10-09T00:00:00",
          "2019-11-06T00:00:00",
          "2019-12-05T00:00:00",
          "2020-01-06T00:00:00",
          "2020-02-04T00:00:00",
          "2020-03-04T00:00:00",
          "2020-04-30T00:00:00",
          "2020-05-29T00:00:00",
          "2020-06-26T00:00:00",
          "2020-07-27T00:00:00",
          "2020-08-24T00:00:00",
          "2020-09-22T00:00:00",
          "2020-10-20T00:00:00",
          "2020-11-17T00:00:00",
          "2020-12-16T00:00:00",
          "2021-01-15T00:00:00",
          "2021-02-16T00:00:00",
          "2021-03-16T00:00:00",
          "2021-04-14T00:00:00",
          "2021-05-12T00:00:00",
          "2021-06-10T00:00:00",
          "2021-07-09T00:00:00",
          "2021-08-06T00:00:00",
          "2021-09-03T00:00:00",
          "2021-10-04T00:00:00",
          "2021-11-01T00:00:00",
          "2021-11-30T00:00:00",
          "2021-12-29T00:00:00",
          "2022-01-27T00:00:00",
          "2022-02-25T00:00:00",
          "2022-03-25T00:00:00",
          "2022-04-25T00:00:00",
          "2022-05-23T00:00:00",
          "2022-06-22T00:00:00",
          "2022-07-21T00:00:00",
          "2022-08-18T00:00:00",
          "2022-09-16T00:00:00",
          "2022-10-14T00:00:00",
          "2022-11-11T00:00:00",
          "2022-12-12T00:00:00",
          "2023-01-11T00:00:00",
          "2023-02-09T00:00:00",
          "2023-03-10T00:00:00",
          "2023-04-10T00:00:00",
          "2023-05-08T00:00:00",
          "2023-06-06T00:00:00",
          "2023-07-06T00:00:00",
          "2023-08-03T00:00:00",
          "2023-08-31T00:00:00",
          "2023-09-29T00:00:00",
          "2023-10-27T00:00:00",
          "2023-11-27T00:00:00",
          "2023-12-26T00:00:00"
         ],
         "y": [
          0,
          6.59726544093007,
          12.200360966969871,
          16.79673080442165,
          21.53574641002463,
          25.484578630006848,
          32.416582184759676,
          38.703060366949686,
          41.92119291602377,
          47.27768502888115,
          52.27060055292246,
          57.36538918624009,
          64.67250364695741,
          66.63544249503695,
          78.78560827585758,
          89.81553025680472,
          95.36823905609432,
          103.82802742618611,
          110.44837386664699,
          112.50185091207194,
          124.64331073560174,
          135.50380237015315,
          137.9917598977698,
          146.17613285800644,
          156.34203271000695,
          166.1773157283518,
          173.82858542337146,
          176.57953248932418,
          185.0330308995785,
          190.76874633882983,
          195.0436937431308,
          200.06673079707255,
          202.48574412641617,
          210.21705709446738,
          210.04621765206957,
          217.6021473258188,
          220.09758354868114,
          225.03144181968054,
          230.4771528803947,
          236.3185767105503,
          242.79716935531226,
          240.9998626213927,
          250.04857648229668,
          260.48850845261563,
          260.6247469795526,
          265.1182141706771,
          283.27690085362514,
          292.81765538965044,
          299.70730894637563,
          306.0903878343349,
          304.9324507464371,
          312.4895565124315,
          318.7890685620885,
          321.1575486906416,
          325.8238653144463,
          331.7402247881387,
          333.0689281352471,
          335.57187112709295,
          339.8251982403818,
          346.7758561468149,
          354.10551298096976
         ]
        }
       ],
       "layout": {
        "template": {
         "data": {
          "bar": [
           {
            "error_x": {
             "color": "#2a3f5f"
            },
            "error_y": {
             "color": "#2a3f5f"
            },
            "marker": {
             "line": {
              "color": "#E5ECF6",
              "width": 0.5
             },
             "pattern": {
              "fillmode": "overlay",
              "size": 10,
              "solidity": 0.2
             }
            },
            "type": "bar"
           }
          ],
          "barpolar": [
           {
            "marker": {
             "line": {
              "color": "#E5ECF6",
              "width": 0.5
             },
             "pattern": {
              "fillmode": "overlay",
              "size": 10,
              "solidity": 0.2
             }
            },
            "type": "barpolar"
           }
          ],
          "carpet": [
           {
            "aaxis": {
             "endlinecolor": "#2a3f5f",
             "gridcolor": "white",
             "linecolor": "white",
             "minorgridcolor": "white",
             "startlinecolor": "#2a3f5f"
            },
            "baxis": {
             "endlinecolor": "#2a3f5f",
             "gridcolor": "white",
             "linecolor": "white",
             "minorgridcolor": "white",
             "startlinecolor": "#2a3f5f"
            },
            "type": "carpet"
           }
          ],
          "choropleth": [
           {
            "colorbar": {
             "outlinewidth": 0,
             "ticks": ""
            },
            "type": "choropleth"
           }
          ],
          "contour": [
           {
            "colorbar": {
             "outlinewidth": 0,
             "ticks": ""
            },
            "colorscale": [
             [
              0,
              "#0d0887"
             ],
             [
              0.1111111111111111,
              "#46039f"
             ],
             [
              0.2222222222222222,
              "#7201a8"
             ],
             [
              0.3333333333333333,
              "#9c179e"
             ],
             [
              0.4444444444444444,
              "#bd3786"
             ],
             [
              0.5555555555555556,
              "#d8576b"
             ],
             [
              0.6666666666666666,
              "#ed7953"
             ],
             [
              0.7777777777777778,
              "#fb9f3a"
             ],
             [
              0.8888888888888888,
              "#fdca26"
             ],
             [
              1,
              "#f0f921"
             ]
            ],
            "type": "contour"
           }
          ],
          "contourcarpet": [
           {
            "colorbar": {
             "outlinewidth": 0,
             "ticks": ""
            },
            "type": "contourcarpet"
           }
          ],
          "heatmap": [
           {
            "colorbar": {
             "outlinewidth": 0,
             "ticks": ""
            },
            "colorscale": [
             [
              0,
              "#0d0887"
             ],
             [
              0.1111111111111111,
              "#46039f"
             ],
             [
              0.2222222222222222,
              "#7201a8"
             ],
             [
              0.3333333333333333,
              "#9c179e"
             ],
             [
              0.4444444444444444,
              "#bd3786"
             ],
             [
              0.5555555555555556,
              "#d8576b"
             ],
             [
              0.6666666666666666,
              "#ed7953"
             ],
             [
              0.7777777777777778,
              "#fb9f3a"
             ],
             [
              0.8888888888888888,
              "#fdca26"
             ],
             [
              1,
              "#f0f921"
             ]
            ],
            "type": "heatmap"
           }
          ],
          "heatmapgl": [
           {
            "colorbar": {
             "outlinewidth": 0,
             "ticks": ""
            },
            "colorscale": [
             [
              0,
              "#0d0887"
             ],
             [
              0.1111111111111111,
              "#46039f"
             ],
             [
              0.2222222222222222,
              "#7201a8"
             ],
             [
              0.3333333333333333,
              "#9c179e"
             ],
             [
              0.4444444444444444,
              "#bd3786"
             ],
             [
              0.5555555555555556,
              "#d8576b"
             ],
             [
              0.6666666666666666,
              "#ed7953"
             ],
             [
              0.7777777777777778,
              "#fb9f3a"
             ],
             [
              0.8888888888888888,
              "#fdca26"
             ],
             [
              1,
              "#f0f921"
             ]
            ],
            "type": "heatmapgl"
           }
          ],
          "histogram": [
           {
            "marker": {
             "pattern": {
              "fillmode": "overlay",
              "size": 10,
              "solidity": 0.2
             }
            },
            "type": "histogram"
           }
          ],
          "histogram2d": [
           {
            "colorbar": {
             "outlinewidth": 0,
             "ticks": ""
            },
            "colorscale": [
             [
              0,
              "#0d0887"
             ],
             [
              0.1111111111111111,
              "#46039f"
             ],
             [
              0.2222222222222222,
              "#7201a8"
             ],
             [
              0.3333333333333333,
              "#9c179e"
             ],
             [
              0.4444444444444444,
              "#bd3786"
             ],
             [
              0.5555555555555556,
              "#d8576b"
             ],
             [
              0.6666666666666666,
              "#ed7953"
             ],
             [
              0.7777777777777778,
              "#fb9f3a"
             ],
             [
              0.8888888888888888,
              "#fdca26"
             ],
             [
              1,
              "#f0f921"
             ]
            ],
            "type": "histogram2d"
           }
          ],
          "histogram2dcontour": [
           {
            "colorbar": {
             "outlinewidth": 0,
             "ticks": ""
            },
            "colorscale": [
             [
              0,
              "#0d0887"
             ],
             [
              0.1111111111111111,
              "#46039f"
             ],
             [
              0.2222222222222222,
              "#7201a8"
             ],
             [
              0.3333333333333333,
              "#9c179e"
             ],
             [
              0.4444444444444444,
              "#bd3786"
             ],
             [
              0.5555555555555556,
              "#d8576b"
             ],
             [
              0.6666666666666666,
              "#ed7953"
             ],
             [
              0.7777777777777778,
              "#fb9f3a"
             ],
             [
              0.8888888888888888,
              "#fdca26"
             ],
             [
              1,
              "#f0f921"
             ]
            ],
            "type": "histogram2dcontour"
           }
          ],
          "mesh3d": [
           {
            "colorbar": {
             "outlinewidth": 0,
             "ticks": ""
            },
            "type": "mesh3d"
           }
          ],
          "parcoords": [
           {
            "line": {
             "colorbar": {
              "outlinewidth": 0,
              "ticks": ""
             }
            },
            "type": "parcoords"
           }
          ],
          "pie": [
           {
            "automargin": true,
            "type": "pie"
           }
          ],
          "scatter": [
           {
            "fillpattern": {
             "fillmode": "overlay",
             "size": 10,
             "solidity": 0.2
            },
            "type": "scatter"
           }
          ],
          "scatter3d": [
           {
            "line": {
             "colorbar": {
              "outlinewidth": 0,
              "ticks": ""
             }
            },
            "marker": {
             "colorbar": {
              "outlinewidth": 0,
              "ticks": ""
             }
            },
            "type": "scatter3d"
           }
          ],
          "scattercarpet": [
           {
            "marker": {
             "colorbar": {
              "outlinewidth": 0,
              "ticks": ""
             }
            },
            "type": "scattercarpet"
           }
          ],
          "scattergeo": [
           {
            "marker": {
             "colorbar": {
              "outlinewidth": 0,
              "ticks": ""
             }
            },
            "type": "scattergeo"
           }
          ],
          "scattergl": [
           {
            "marker": {
             "colorbar": {
              "outlinewidth": 0,
              "ticks": ""
             }
            },
            "type": "scattergl"
           }
          ],
          "scattermapbox": [
           {
            "marker": {
             "colorbar": {
              "outlinewidth": 0,
              "ticks": ""
             }
            },
            "type": "scattermapbox"
           }
          ],
          "scatterpolar": [
           {
            "marker": {
             "colorbar": {
              "outlinewidth": 0,
              "ticks": ""
             }
            },
            "type": "scatterpolar"
           }
          ],
          "scatterpolargl": [
           {
            "marker": {
             "colorbar": {
              "outlinewidth": 0,
              "ticks": ""
             }
            },
            "type": "scatterpolargl"
           }
          ],
          "scatterternary": [
           {
            "marker": {
             "colorbar": {
              "outlinewidth": 0,
              "ticks": ""
             }
            },
            "type": "scatterternary"
           }
          ],
          "surface": [
           {
            "colorbar": {
             "outlinewidth": 0,
             "ticks": ""
            },
            "colorscale": [
             [
              0,
              "#0d0887"
             ],
             [
              0.1111111111111111,
              "#46039f"
             ],
             [
              0.2222222222222222,
              "#7201a8"
             ],
             [
              0.3333333333333333,
              "#9c179e"
             ],
             [
              0.4444444444444444,
              "#bd3786"
             ],
             [
              0.5555555555555556,
              "#d8576b"
             ],
             [
              0.6666666666666666,
              "#ed7953"
             ],
             [
              0.7777777777777778,
              "#fb9f3a"
             ],
             [
              0.8888888888888888,
              "#fdca26"
             ],
             [
              1,
              "#f0f921"
             ]
            ],
            "type": "surface"
           }
          ],
          "table": [
           {
            "cells": {
             "fill": {
              "color": "#EBF0F8"
             },
             "line": {
              "color": "white"
             }
            },
            "header": {
             "fill": {
              "color": "#C8D4E3"
             },
             "line": {
              "color": "white"
             }
            },
            "type": "table"
           }
          ]
         },
         "layout": {
          "annotationdefaults": {
           "arrowcolor": "#2a3f5f",
           "arrowhead": 0,
           "arrowwidth": 1
          },
          "autotypenumbers": "strict",
          "coloraxis": {
           "colorbar": {
            "outlinewidth": 0,
            "ticks": ""
           }
          },
          "colorscale": {
           "diverging": [
            [
             0,
             "#8e0152"
            ],
            [
             0.1,
             "#c51b7d"
            ],
            [
             0.2,
             "#de77ae"
            ],
            [
             0.3,
             "#f1b6da"
            ],
            [
             0.4,
             "#fde0ef"
            ],
            [
             0.5,
             "#f7f7f7"
            ],
            [
             0.6,
             "#e6f5d0"
            ],
            [
             0.7,
             "#b8e186"
            ],
            [
             0.8,
             "#7fbc41"
            ],
            [
             0.9,
             "#4d9221"
            ],
            [
             1,
             "#276419"
            ]
           ],
           "sequential": [
            [
             0,
             "#0d0887"
            ],
            [
             0.1111111111111111,
             "#46039f"
            ],
            [
             0.2222222222222222,
             "#7201a8"
            ],
            [
             0.3333333333333333,
             "#9c179e"
            ],
            [
             0.4444444444444444,
             "#bd3786"
            ],
            [
             0.5555555555555556,
             "#d8576b"
            ],
            [
             0.6666666666666666,
             "#ed7953"
            ],
            [
             0.7777777777777778,
             "#fb9f3a"
            ],
            [
             0.8888888888888888,
             "#fdca26"
            ],
            [
             1,
             "#f0f921"
            ]
           ],
           "sequentialminus": [
            [
             0,
             "#0d0887"
            ],
            [
             0.1111111111111111,
             "#46039f"
            ],
            [
             0.2222222222222222,
             "#7201a8"
            ],
            [
             0.3333333333333333,
             "#9c179e"
            ],
            [
             0.4444444444444444,
             "#bd3786"
            ],
            [
             0.5555555555555556,
             "#d8576b"
            ],
            [
             0.6666666666666666,
             "#ed7953"
            ],
            [
             0.7777777777777778,
             "#fb9f3a"
            ],
            [
             0.8888888888888888,
             "#fdca26"
            ],
            [
             1,
             "#f0f921"
            ]
           ]
          },
          "colorway": [
           "#636efa",
           "#EF553B",
           "#00cc96",
           "#ab63fa",
           "#FFA15A",
           "#19d3f3",
           "#FF6692",
           "#B6E880",
           "#FF97FF",
           "#FECB52"
          ],
          "font": {
           "color": "#2a3f5f"
          },
          "geo": {
           "bgcolor": "white",
           "lakecolor": "white",
           "landcolor": "#E5ECF6",
           "showlakes": true,
           "showland": true,
           "subunitcolor": "white"
          },
          "hoverlabel": {
           "align": "left"
          },
          "hovermode": "closest",
          "mapbox": {
           "style": "light"
          },
          "paper_bgcolor": "white",
          "plot_bgcolor": "#E5ECF6",
          "polar": {
           "angularaxis": {
            "gridcolor": "white",
            "linecolor": "white",
            "ticks": ""
           },
           "bgcolor": "#E5ECF6",
           "radialaxis": {
            "gridcolor": "white",
            "linecolor": "white",
            "ticks": ""
           }
          },
          "scene": {
           "xaxis": {
            "backgroundcolor": "#E5ECF6",
            "gridcolor": "white",
            "gridwidth": 2,
            "linecolor": "white",
            "showbackground": true,
            "ticks": "",
            "zerolinecolor": "white"
           },
           "yaxis": {
            "backgroundcolor": "#E5ECF6",
            "gridcolor": "white",
            "gridwidth": 2,
            "linecolor": "white",
            "showbackground": true,
            "ticks": "",
            "zerolinecolor": "white"
           },
           "zaxis": {
            "backgroundcolor": "#E5ECF6",
            "gridcolor": "white",
            "gridwidth": 2,
            "linecolor": "white",
            "showbackground": true,
            "ticks": "",
            "zerolinecolor": "white"
           }
          },
          "shapedefaults": {
           "line": {
            "color": "#2a3f5f"
           }
          },
          "ternary": {
           "aaxis": {
            "gridcolor": "white",
            "linecolor": "white",
            "ticks": ""
           },
           "baxis": {
            "gridcolor": "white",
            "linecolor": "white",
            "ticks": ""
           },
           "bgcolor": "#E5ECF6",
           "caxis": {
            "gridcolor": "white",
            "linecolor": "white",
            "ticks": ""
           }
          },
          "title": {
           "x": 0.05
          },
          "xaxis": {
           "automargin": true,
           "gridcolor": "white",
           "linecolor": "white",
           "ticks": "",
           "title": {
            "standoff": 15
           },
           "zerolinecolor": "white",
           "zerolinewidth": 2
          },
          "yaxis": {
           "automargin": true,
           "gridcolor": "white",
           "linecolor": "white",
           "ticks": "",
           "title": {
            "standoff": 15
           },
           "zerolinecolor": "white",
           "zerolinewidth": 2
          }
         }
        },
        "title": {
         "text": "Retornos cumulativos de diferentes previsões do modelo"
        },
        "xaxis": {
         "title": {
          "text": "Data"
         }
        },
        "yaxis": {
         "title": {
          "text": "Retorno"
         }
        }
       }
      }
     },
     "metadata": {},
     "output_type": "display_data"
    }
   ],
   "source": [
    "plot_multiples_time_series_line_graphs(results,\"Retornos cumulativos de diferentes previsões do modelo\", \"Data\", \"Retorno\")"
   ]
  },
  {
   "cell_type": "markdown",
   "metadata": {},
   "source": [
    "## **Sugestões**"
   ]
  },
  {
   "cell_type": "markdown",
   "metadata": {},
   "source": [
    "**Gŕaficos a serem feitos:** *(Ver em quais gráficos deve ser plotada uma região de confiança)*\n",
    "\n",
    "    - Gráfico de série temporal com o maior retorno acumulado, menor retorno acumulado e retorno médio acumulado da estratégia.\n",
    "  \n",
    "    - Gráfico de série temporal com o retorno médio acumulado da estratégia (logarítmico) x retorno médio acumulado do S&P500 (logarítmico).\n",
    "  \n",
    "    - Gráfico de série temporal com o retorno médio por período da estratégia x sharpe ratio por período da estratégia x sortino ratio por  período da estratégia.\n",
    "  \n",
    "    - Histograma com a distribuição dos retornos médios por período da estratégia *(plotar sobre os histogramas uma linha de distribuição normal ajustada)*. Para esse histograma, é importante calcular a assimetria (quanto mais próximo de 0, mais \"normal\" é a distribuição) e a kurtosis (quanto mais próximo de 3, mais \"normal\" é a distribuição).\n",
    "  \n",
    "    - Gráfico de barras com os retornos médios por período da estratégia x retornos por período do S&P 500."
   ]
  }
 ],
 "metadata": {
  "kernelspec": {
   "display_name": "Python 3",
   "language": "python",
   "name": "python3"
  },
  "language_info": {
   "codemirror_mode": {
    "name": "ipython",
    "version": 3
   },
   "file_extension": ".py",
   "mimetype": "text/x-python",
   "name": "python",
   "nbconvert_exporter": "python",
   "pygments_lexer": "ipython3",
   "version": "3.10.12"
  }
 },
 "nbformat": 4,
 "nbformat_minor": 2
}
