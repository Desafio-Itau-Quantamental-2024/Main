{
 "cells": [
  {
   "cell_type": "markdown",
   "metadata": {},
   "source": [
    "#### *Instalando as bibliotecas que serão necessárias*"
   ]
  },
  {
   "cell_type": "code",
   "execution_count": 1,
   "metadata": {},
   "outputs": [
    {
     "name": "stdout",
     "output_type": "stream",
     "text": [
      "Defaulting to user installation because normal site-packages is not writeable\n",
      "Requirement already satisfied: pandas in /home/user/.local/lib/python3.10/site-packages (2.0.3)\n",
      "Requirement already satisfied: pytz>=2020.1 in /home/user/.local/lib/python3.10/site-packages (from pandas) (2024.1)\n",
      "Requirement already satisfied: tzdata>=2022.1 in /home/user/.local/lib/python3.10/site-packages (from pandas) (2024.1)\n",
      "Requirement already satisfied: numpy>=1.21.0 in /home/user/.local/lib/python3.10/site-packages (from pandas) (1.24.3)\n",
      "Requirement already satisfied: python-dateutil>=2.8.2 in /home/user/.local/lib/python3.10/site-packages (from pandas) (2.9.0.post0)\n",
      "Requirement already satisfied: six>=1.5 in /usr/lib/python3/dist-packages (from python-dateutil>=2.8.2->pandas) (1.16.0)\n"
     ]
    }
   ],
   "source": [
    "# Instala a biblioteca \"pandas\" que será usada para manipulação de dados.\n",
    "!pip install pandas"
   ]
  },
  {
   "cell_type": "code",
   "execution_count": 2,
   "metadata": {},
   "outputs": [
    {
     "name": "stdout",
     "output_type": "stream",
     "text": [
      "Defaulting to user installation because normal site-packages is not writeable\n",
      "Requirement already satisfied: numpy in /home/user/.local/lib/python3.10/site-packages (1.24.3)\n"
     ]
    }
   ],
   "source": [
    "# Instala a biblioteca \"numpy\" que será usada para operações numéricas.\n",
    "!pip install numpy"
   ]
  },
  {
   "cell_type": "code",
   "execution_count": 3,
   "metadata": {},
   "outputs": [
    {
     "name": "stdout",
     "output_type": "stream",
     "text": [
      "Defaulting to user installation because normal site-packages is not writeable\n",
      "Requirement already satisfied: yfinance in /home/user/.local/lib/python3.10/site-packages (0.2.41)\n",
      "Requirement already satisfied: pytz>=2022.5 in /home/user/.local/lib/python3.10/site-packages (from yfinance) (2024.1)\n",
      "Requirement already satisfied: multitasking>=0.0.7 in /home/user/.local/lib/python3.10/site-packages (from yfinance) (0.0.11)\n",
      "Requirement already satisfied: numpy>=1.16.5 in /home/user/.local/lib/python3.10/site-packages (from yfinance) (1.24.3)\n",
      "Requirement already satisfied: requests>=2.31 in /home/user/.local/lib/python3.10/site-packages (from yfinance) (2.31.0)\n",
      "Requirement already satisfied: pandas>=1.3.0 in /home/user/.local/lib/python3.10/site-packages (from yfinance) (2.0.3)\n",
      "Requirement already satisfied: peewee>=3.16.2 in /home/user/.local/lib/python3.10/site-packages (from yfinance) (3.17.6)\n",
      "Requirement already satisfied: beautifulsoup4>=4.11.1 in /home/user/.local/lib/python3.10/site-packages (from yfinance) (4.12.3)\n",
      "Requirement already satisfied: frozendict>=2.3.4 in /home/user/.local/lib/python3.10/site-packages (from yfinance) (2.4.4)\n",
      "Requirement already satisfied: lxml>=4.9.1 in /home/user/.local/lib/python3.10/site-packages (from yfinance) (5.2.2)\n",
      "Requirement already satisfied: html5lib>=1.1 in /home/user/.local/lib/python3.10/site-packages (from yfinance) (1.1)\n",
      "Requirement already satisfied: platformdirs>=2.0.0 in /home/user/.local/lib/python3.10/site-packages (from yfinance) (4.2.0)\n",
      "Requirement already satisfied: soupsieve>1.2 in /home/user/.local/lib/python3.10/site-packages (from beautifulsoup4>=4.11.1->yfinance) (2.5)\n",
      "Requirement already satisfied: webencodings in /home/user/.local/lib/python3.10/site-packages (from html5lib>=1.1->yfinance) (0.5.1)\n",
      "Requirement already satisfied: six>=1.9 in /usr/lib/python3/dist-packages (from html5lib>=1.1->yfinance) (1.16.0)\n",
      "Requirement already satisfied: python-dateutil>=2.8.2 in /home/user/.local/lib/python3.10/site-packages (from pandas>=1.3.0->yfinance) (2.9.0.post0)\n",
      "Requirement already satisfied: tzdata>=2022.1 in /home/user/.local/lib/python3.10/site-packages (from pandas>=1.3.0->yfinance) (2024.1)\n",
      "Requirement already satisfied: certifi>=2017.4.17 in /usr/lib/python3/dist-packages (from requests>=2.31->yfinance) (2020.6.20)\n",
      "Requirement already satisfied: urllib3<3,>=1.21.1 in /usr/lib/python3/dist-packages (from requests>=2.31->yfinance) (1.26.5)\n",
      "Requirement already satisfied: charset-normalizer<4,>=2 in /home/user/.local/lib/python3.10/site-packages (from requests>=2.31->yfinance) (3.3.2)\n",
      "Requirement already satisfied: idna<4,>=2.5 in /usr/lib/python3/dist-packages (from requests>=2.31->yfinance) (3.3)\n"
     ]
    }
   ],
   "source": [
    "# Instala a biblioteca \"yfinance\" que será usada para obter dados financeiros.\n",
    "!pip install yfinance"
   ]
  },
  {
   "cell_type": "code",
   "execution_count": 4,
   "metadata": {},
   "outputs": [
    {
     "name": "stdout",
     "output_type": "stream",
     "text": [
      "Defaulting to user installation because normal site-packages is not writeable\n",
      "Requirement already satisfied: plotly in /home/user/.local/lib/python3.10/site-packages (5.23.0)\n",
      "Requirement already satisfied: tenacity>=6.2.0 in /home/user/.local/lib/python3.10/site-packages (from plotly) (8.2.3)\n",
      "Requirement already satisfied: packaging in /home/user/.local/lib/python3.10/site-packages (from plotly) (23.1)\n"
     ]
    }
   ],
   "source": [
    "# Instala a biblioteca \"plotly\" que será usada para a exibição de gráficos. \n",
    "!pip install plotly"
   ]
  },
  {
   "cell_type": "markdown",
   "metadata": {},
   "source": [
    "#### *Importando as bibliotecas que serão necessárias*"
   ]
  },
  {
   "cell_type": "code",
   "execution_count": 5,
   "metadata": {},
   "outputs": [
    {
     "name": "stderr",
     "output_type": "stream",
     "text": [
      "2024-11-14 12:20:43.927443: I external/local_xla/xla/tsl/cuda/cudart_stub.cc:32] Could not find cuda drivers on your machine, GPU will not be used.\n",
      "2024-11-14 12:20:44.444060: I external/local_xla/xla/tsl/cuda/cudart_stub.cc:32] Could not find cuda drivers on your machine, GPU will not be used.\n",
      "2024-11-14 12:20:44.895312: E external/local_xla/xla/stream_executor/cuda/cuda_fft.cc:485] Unable to register cuFFT factory: Attempting to register factory for plugin cuFFT when one has already been registered\n",
      "2024-11-14 12:20:45.529377: E external/local_xla/xla/stream_executor/cuda/cuda_dnn.cc:8454] Unable to register cuDNN factory: Attempting to register factory for plugin cuDNN when one has already been registered\n",
      "2024-11-14 12:20:45.599819: E external/local_xla/xla/stream_executor/cuda/cuda_blas.cc:1452] Unable to register cuBLAS factory: Attempting to register factory for plugin cuBLAS when one has already been registered\n",
      "2024-11-14 12:20:45.962711: I tensorflow/core/platform/cpu_feature_guard.cc:210] This TensorFlow binary is optimized to use available CPU instructions in performance-critical operations.\n",
      "To enable the following instructions: AVX2 FMA, in other operations, rebuild TensorFlow with the appropriate compiler flags.\n",
      "2024-11-14 12:20:49.852189: W tensorflow/compiler/tf2tensorrt/utils/py_utils.cc:38] TF-TRT Warning: Could not find TensorRT\n"
     ]
    }
   ],
   "source": [
    "# Importa a biblioteca \"pandas\", que será usada para manipulação de dados.\n",
    "import pandas as pd\n",
    "\n",
    "# Importa a biblioteca \"numpy\", que será usada para operações numéricas.\n",
    "import numpy as np\n",
    "\n",
    "# Importa a biblioteca \"yfinance\" para obter alguns dados de certas ações.\n",
    "import yfinance as yf\n",
    "\n",
    "# Importa o módulo \"graph_objects\" da biblioteca \"plotly\" para lidar com a exibição de gráficos.\n",
    "import plotly.graph_objects as go\n",
    "\n",
    "# Importa o módulo datetime da biblioteca \"datetime\" para lidar com datas.\n",
    "from datetime import datetime, timedelta\n",
    "\n",
    "# Importa a biblioteca \"math\" para lidar com certas operações matemáticas.\n",
    "import math\n",
    "\n",
    "# Importa o módulo Optional da biblioteca \"typing\" para lidar com a padronização dos tipos de parâmetros opcionais das funções.\n",
    "from typing import Optional\n",
    "\n",
    "# Importa a classe Ticker da \"biblioteca\" Ticker para lidar com ativos financeiros. \n",
    "from Ticker import Ticker\n",
    "\n",
    "# Importa a classe Model da \"biblioteca\" Model para lidar com redes neurais do tipo LSTM.\n",
    "from Model import Model\n",
    "\n",
    "# Importa o módulo MinMaxScaler da biblioteca \"sklearn\", que será utilizado para realizar a \"desnormalização\" \n",
    "# das variáveis target que foram usadas no modelo LSTM.\n",
    "from sklearn.preprocessing import MinMaxScaler"
   ]
  },
  {
   "cell_type": "markdown",
   "metadata": {},
   "source": [
    "#### *Definindo funções para processar os arquivos .xlsx*"
   ]
  },
  {
   "cell_type": "code",
   "execution_count": 6,
   "metadata": {},
   "outputs": [],
   "source": [
    "def process_file_and_get_results(filename: str) -> pd.DataFrame:\n",
    "    '''\n",
    "        Description:\n",
    "\n",
    "        Args:\n",
    "\n",
    "        Return:\n",
    "    '''\n",
    "\n",
    "    # Ler todas as planilhas do arquivo Excel\n",
    "    dfs = pd.read_excel(filename, sheet_name=None)\n",
    "    \n",
    "    #\n",
    "    first_trading_day = dfs['Período 1'][dfs['Período 1'].columns[0]][0].split(\" - \")[0]\n",
    "    #\n",
    "    first_trading_day = np.datetime64(first_trading_day)\n",
    "    \n",
    "    #\n",
    "    results = pd.DataFrame({\n",
    "        \"Retorno\": 0\n",
    "    }, index=[first_trading_day])\n",
    "    \n",
    "    # Acessar e trabalhar com cada DataFrame\n",
    "    for period, df in dfs.items():\n",
    "        if not df.empty:\n",
    "            #\n",
    "            period_last_trading_day = df[df.columns[0]][0].split(\" - \")[1]\n",
    "            #\n",
    "            period_last_trading_day = np.datetime64(period_last_trading_day)\n",
    "            #\n",
    "            tickers_to_trade = math.ceil(df.shape[0]*0.1)\n",
    "            #\n",
    "            period_return = df.iloc[:tickers_to_trade]['Retorno Real'].mean() # Trocar por um .sum() ?\n",
    "            #\n",
    "            result = pd.DataFrame({\n",
    "                \"Retorno\": period_return,\n",
    "            },index=[period_last_trading_day])\n",
    "            #\n",
    "            results = pd.concat([results, result])\n",
    "    \n",
    "    return results\n",
    "            "
   ]
  },
  {
   "cell_type": "code",
   "execution_count": 7,
   "metadata": {},
   "outputs": [],
   "source": [
    "def process_files_and_get_results(filesname: list) -> list:\n",
    "    '''\n",
    "        Description:\n",
    "\n",
    "        Args:\n",
    "\n",
    "        Return:\n",
    "    '''\n",
    "    \n",
    "    #\n",
    "    results = []\n",
    "    \n",
    "    #\n",
    "    for xlsx_number, xlsx in enumerate(filesname):\n",
    "        #\n",
    "        result = process_file_and_get_results(xlsx)['Retorno']\n",
    "        #\n",
    "        result.name = f\"Retornos da Estratégia na Previsão {xlsx_number}\"\n",
    "        #\n",
    "        results.append(result)\n",
    "        \n",
    "    return results"
   ]
  },
  {
   "cell_type": "code",
   "execution_count": 8,
   "metadata": {},
   "outputs": [],
   "source": [
    "def get_average_result(results: list) -> pd.Series:\n",
    "    '''\n",
    "        Description:\n",
    "\n",
    "        Args:\n",
    "\n",
    "        Return:\n",
    "\n",
    "    '''\n",
    "    \n",
    "    # Garantir que todos os resultados em results tenham o mesmo tamanho (para poder inicializar o average_result).\n",
    "    \n",
    "    \n",
    "    average_result = np.zeros(len(results[0]))\n",
    "        \n",
    "    for result in results:\n",
    "        average_result += result\n",
    "    \n",
    "    average_result = average_result/len(results)\n",
    "    \n",
    "    average_result.name = \"Retornos da Média das Previsões\"\n",
    "    \n",
    "    return average_result"
   ]
  },
  {
   "cell_type": "code",
   "execution_count": 9,
   "metadata": {},
   "outputs": [],
   "source": [
    "def get_ticker_standardized_returns(symbol, reference_data, strategy_time_period: str, \n",
    "                                    standardized_returns_name=\"\", standardized_cumulative_returns_name=\"\") -> pd.Series:\n",
    "    '''\n",
    "        Description:\n",
    "\n",
    "        Args:\n",
    "\n",
    "        Return:\n",
    "    '''\n",
    "\n",
    "    #\n",
    "    period = 5 if (strategy_time_period == \"W\") else 20\n",
    "    #\n",
    "    periods_number = len(reference_data)\n",
    "    \n",
    "    #\n",
    "    result = np.zeros(periods_number)\n",
    "    \n",
    "    #\n",
    "    data_extraction_initial_day = reference_data.index[0]\n",
    "    #\n",
    "    data_extraction_final_day = reference_data.index[-1] + timedelta(1) # O time delta 1 é por que o yf não inclui o último dia de \n",
    "                                                                        # negociação passado como parâmetro. Logo, somando um timedelta(1),\n",
    "                                                                        # tal dia será incluido na extração de dados do S&P500 index.\n",
    "                                                                            \n",
    "    #\n",
    "    adj_close = yf.download(symbol, data_extraction_initial_day, data_extraction_final_day)['Adj Close']\n",
    "    \n",
    "    #\n",
    "    result[0] = np.log((adj_close[period - 1])/adj_close[0])*100\n",
    "    #\n",
    "    for period_number in range(1, periods_number):\n",
    "        #\n",
    "        result[period_number] = np.log((adj_close[(period)*period_number - 1 + (period)])/(adj_close[(period)*period_number]))*100\n",
    "        \n",
    "    #\n",
    "    result = pd.Series(result, reference_data.index)\n",
    "    #\n",
    "    cumulative_result = result.cumsum()\n",
    "    #\n",
    "    result.name = standardized_returns_name\n",
    "    #\n",
    "    cumulative_result.name = standardized_cumulative_returns_name\n",
    "    \n",
    "    return result, cumulative_result"
   ]
  },
  {
   "cell_type": "markdown",
   "metadata": {},
   "source": [
    "#### *Definindo algumas variáveis que serão importantes para a exibição de resultados*"
   ]
  },
  {
   "cell_type": "code",
   "execution_count": 10,
   "metadata": {},
   "outputs": [],
   "source": [
    "setup = {\n",
    "    #\n",
    "    \"monthly_results_sheets\": ['resultados_portfolio_mensal_full_1.xlsx', 'resultados_portfolio_mensal_full_2.xlsx',\n",
    "                               'resultados_portfolio_mensal_full_3.xlsx', 'resultados_portfolio_mensal_full_4.xlsx',\n",
    "                               'resultados_portfolio_mensal_full_5.xlsx'],\n",
    "    #\n",
    "    \"weekly_results_sheets\": ['resultados_portfolio_semanal_full_1.xlsx']\n",
    "}"
   ]
  },
  {
   "cell_type": "code",
   "execution_count": 11,
   "metadata": {},
   "outputs": [],
   "source": [
    "# Ler todas as planilhas do arquivo Excel\n",
    "dfs = pd.read_excel(setup['monthly_results_sheets'][0], sheet_name=None)"
   ]
  },
  {
   "cell_type": "code",
   "execution_count": null,
   "metadata": {},
   "outputs": [],
   "source": []
  },
  {
   "cell_type": "code",
   "execution_count": 12,
   "metadata": {},
   "outputs": [
    {
     "name": "stdout",
     "output_type": "stream",
     "text": [
      "0.8431102228519919\n",
      "     0.8431102228519919\n",
      "-4.7514211405628455\n",
      "     -3.9083109177108537\n",
      "-1.6081492749317174\n",
      "     -5.516460192642571\n",
      "-0.7846554319098937\n",
      "     -6.301115624552464\n",
      "-3.830113535500942\n",
      "     -10.131229160053406\n",
      "-4.469129020027782\n",
      "     -14.600358180081187\n",
      "-4.47867810918155\n",
      "     -19.07903628926274\n",
      "-4.972103286674195\n",
      "     -24.051139575936933\n",
      "-7.77080073863428\n",
      "     -31.821940314571215\n",
      "-2.4358754558548767\n",
      "     -34.25781577042609\n",
      "-1.572353731271965\n",
      "     -35.83016950169806\n",
      "-1.0175575759000228\n",
      "     -36.84772707759808\n",
      "-9.595008519979437\n",
      "     -46.44273559757752\n",
      "0.8212111105975942\n",
      "     -45.62152448697992\n",
      "0.9335802047119941\n",
      "     -44.68794428226793\n",
      "-12.735555306701327\n",
      "     -57.42349958896926\n",
      "-12.657417621727415\n",
      "     -70.08091721069667\n",
      "-5.390110885735258\n",
      "     -75.47102809643192\n",
      "-8.457884655203422\n",
      "     -83.92891275163535\n",
      "-3.0119453009675676\n",
      "     -86.94085805260292\n",
      "-3.211770725559668\n",
      "     -90.1526287781626\n",
      "-4.616275430579684\n",
      "     -94.76890420874227\n",
      "-5.178426661303378\n",
      "     -99.94733087004565\n",
      "-5.166619060493422\n",
      "     -105.11394993053906\n",
      "0.28836450012860076\n",
      "     -104.82558543041047\n",
      "1.2421643846318697\n",
      "     -103.5834210457786\n",
      "-7.077286380911373\n",
      "     -110.66070742668998\n",
      "-2.4888332669054267\n",
      "     -113.14954069359541\n",
      "-4.130244254173917\n",
      "     -117.27978494776933\n",
      "-3.7324806701228908\n",
      "     -121.01226561789223\n",
      "-2.1306874156548523\n",
      "     -123.14295303354707\n",
      "-5.154791636336961\n",
      "     -128.29774466988403\n",
      "-0.9093677617917908\n",
      "     -129.20711243167582\n",
      "-6.667900799041751\n",
      "     -135.87501323071757\n",
      "1.492552675603627\n",
      "     -134.38246055511394\n",
      "-14.036806668823257\n",
      "     -148.4192672239372\n",
      "-6.980162787866445\n",
      "     -155.39943001180364\n",
      "0.2588182260625322\n",
      "     -155.1406117857411\n",
      "-2.430050185195559\n",
      "     -157.57066197093667\n",
      "-9.025998070190683\n",
      "     -166.59666004112736\n",
      "-16.66702477385199\n",
      "     -183.26368481497934\n",
      "-3.401115884054172\n",
      "     -186.66480069903352\n",
      "-1.5212710428311693\n",
      "     -188.18607174186468\n",
      "-7.273736950286167\n",
      "     -195.45980869215086\n",
      "-11.37138982913156\n",
      "     -206.83119852128243\n",
      "0.40145738025903405\n",
      "     -206.42974114102338\n",
      "-0.4377728374821476\n",
      "     -206.86751397850554\n",
      "0.5364429955859624\n",
      "     -206.33107098291958\n",
      "-4.890208107023787\n",
      "     -211.22127908994338\n",
      "-11.053125886752728\n",
      "     -222.2744049766961\n",
      "2.0238913357734516\n",
      "     -220.25051364092266\n",
      "-3.611413836185277\n",
      "     -223.86192747710794\n",
      "-7.713544316407052\n",
      "     -231.575471793515\n",
      "-2.196911784386251\n",
      "     -233.77238357790125\n",
      "-4.579952611168796\n",
      "     -238.35233618907006\n",
      "-5.146577294896258\n",
      "     -243.4989134839663\n",
      "-7.393517840669989\n",
      "     -250.8924313246363\n",
      "-5.521748679980762\n",
      "     -256.4141800046171\n",
      "-3.1019480621097264\n",
      "     -259.5161280667268\n",
      "-2.8238992972051973\n",
      "     -262.340027363932\n"
     ]
    }
   ],
   "source": [
    "aux = 0\n",
    "for period in dfs:\n",
    "    \n",
    "    if not dfs[period].empty:\n",
    "        a = math.ceil(len(dfs[period])*0.1)\n",
    "        aux += dfs[period].sort_values('Retorno Predito').iloc[:a]['Retorno Real'].mean()\n",
    "        print(dfs[period].sort_values('Retorno Predito').iloc[:a]['Retorno Real'].mean())\n",
    "        print(f\"     {aux}\")"
   ]
  },
  {
   "cell_type": "code",
   "execution_count": 13,
   "metadata": {},
   "outputs": [
    {
     "data": {
      "text/plain": [
       "-262.340027363932"
      ]
     },
     "execution_count": 13,
     "metadata": {},
     "output_type": "execute_result"
    }
   ],
   "source": [
    "aux"
   ]
  },
  {
   "cell_type": "code",
   "execution_count": 14,
   "metadata": {},
   "outputs": [],
   "source": [
    "#\n",
    "monthly_results = process_files_and_get_results(setup['monthly_results_sheets'])"
   ]
  },
  {
   "cell_type": "code",
   "execution_count": 15,
   "metadata": {},
   "outputs": [],
   "source": [
    "#\n",
    "weekly_results = process_file_and_get_results(setup['weekly_results_sheets'][0]) # O .xlsx semanal é processado desse jeito pois, por hora,\n",
    "                                                                                 # só possuímos 1 dele."
   ]
  },
  {
   "cell_type": "code",
   "execution_count": 16,
   "metadata": {},
   "outputs": [],
   "source": [
    "#\n",
    "average_monthly_results = get_average_result(monthly_results)"
   ]
  },
  {
   "cell_type": "code",
   "execution_count": 17,
   "metadata": {},
   "outputs": [
    {
     "name": "stderr",
     "output_type": "stream",
     "text": [
      "[*********************100%%**********************]  1 of 1 completed\n"
     ]
    }
   ],
   "source": [
    "# Posso usar qualquer \"result\" em \"results\" como reference_data, já que, ambos \"result\" possuem as mesmas datas como índices.\n",
    "\n",
    "sp500_index_period_returns, sp500_index_cumulative_returns = get_ticker_standardized_returns('^GSPC', monthly_results[0], \"M\",\n",
    "                                                                                             \"Retornos do S&P500 Index\",\n",
    "                                                                                             \"Retornos Acumulados do S&P500 Index\")"
   ]
  },
  {
   "cell_type": "code",
   "execution_count": 18,
   "metadata": {},
   "outputs": [],
   "source": [
    "\n",
    "# Exemplo de como exportar para um arquivo Excel com duas planilhas\n",
    "with pd.ExcelWriter('sp500_returns.xlsx') as writer:\n",
    "    sp500_index_period_returns.to_excel(writer, sheet_name='Period Returns')\n",
    "    sp500_index_cumulative_returns.to_excel(writer, sheet_name='Cumulative Returns')\n"
   ]
  },
  {
   "cell_type": "markdown",
   "metadata": {},
   "source": [
    "#### *Exibindo e explicando as variáveis definidas na seção anterior*"
   ]
  },
  {
   "cell_type": "code",
   "execution_count": 19,
   "metadata": {},
   "outputs": [
    {
     "data": {
      "text/plain": [
       "2019-02-22    0.000000\n",
       "2019-03-21    4.859427\n",
       "2019-04-18    4.864098\n",
       "2019-05-17    5.933391\n",
       "2019-06-17    5.581319\n",
       "                ...   \n",
       "2023-08-31    1.373854\n",
       "2023-09-29    2.502946\n",
       "2023-10-27    4.109963\n",
       "2023-11-27    6.950656\n",
       "2023-12-26    7.329663\n",
       "Name: Retornos da Estratégia na Previsão 0, Length: 61, dtype: float64"
      ]
     },
     "execution_count": 19,
     "metadata": {},
     "output_type": "execute_result"
    }
   ],
   "source": [
    "#\n",
    "monthly_results[0]"
   ]
  },
  {
   "cell_type": "code",
   "execution_count": 20,
   "metadata": {},
   "outputs": [
    {
     "data": {
      "text/plain": [
       "2019-02-22    0.000000\n",
       "2019-03-21    4.859427\n",
       "2019-04-18    4.864098\n",
       "2019-05-17    5.933391\n",
       "2019-06-17    5.581319\n",
       "                ...   \n",
       "2023-08-31    1.373854\n",
       "2023-09-29    2.502946\n",
       "2023-10-27    4.109963\n",
       "2023-11-27    6.950656\n",
       "2023-12-26    7.329663\n",
       "Name: Retornos da Estratégia na Previsão 0, Length: 61, dtype: float64"
      ]
     },
     "execution_count": 20,
     "metadata": {},
     "output_type": "execute_result"
    }
   ],
   "source": [
    "#\n",
    "monthly_results[0]"
   ]
  },
  {
   "cell_type": "code",
   "execution_count": 21,
   "metadata": {},
   "outputs": [
    {
     "data": {
      "text/plain": [
       "2019-02-22    0.000000\n",
       "2019-03-21    5.577003\n",
       "2019-04-18    5.178876\n",
       "2019-05-17    5.855372\n",
       "2019-06-17    5.292026\n",
       "                ...   \n",
       "2023-08-31    1.364823\n",
       "2023-09-29    2.502944\n",
       "2023-10-27    4.364492\n",
       "2023-11-27    7.130327\n",
       "2023-12-26    7.537228\n",
       "Name: Retornos da Média das Previsões, Length: 61, dtype: float64"
      ]
     },
     "execution_count": 21,
     "metadata": {},
     "output_type": "execute_result"
    }
   ],
   "source": [
    "#\n",
    "average_monthly_results"
   ]
  },
  {
   "cell_type": "code",
   "execution_count": 22,
   "metadata": {},
   "outputs": [
    {
     "data": {
      "text/html": [
       "<div>\n",
       "<style scoped>\n",
       "    .dataframe tbody tr th:only-of-type {\n",
       "        vertical-align: middle;\n",
       "    }\n",
       "\n",
       "    .dataframe tbody tr th {\n",
       "        vertical-align: top;\n",
       "    }\n",
       "\n",
       "    .dataframe thead th {\n",
       "        text-align: right;\n",
       "    }\n",
       "</style>\n",
       "<table border=\"1\" class=\"dataframe\">\n",
       "  <thead>\n",
       "    <tr style=\"text-align: right;\">\n",
       "      <th></th>\n",
       "      <th>Retorno</th>\n",
       "    </tr>\n",
       "  </thead>\n",
       "  <tbody>\n",
       "    <tr>\n",
       "      <th>2019-01-31</th>\n",
       "      <td>0.000000</td>\n",
       "    </tr>\n",
       "    <tr>\n",
       "      <th>2019-02-06</th>\n",
       "      <td>-0.119412</td>\n",
       "    </tr>\n",
       "    <tr>\n",
       "      <th>2019-02-13</th>\n",
       "      <td>-0.023905</td>\n",
       "    </tr>\n",
       "    <tr>\n",
       "      <th>2019-02-21</th>\n",
       "      <td>0.110191</td>\n",
       "    </tr>\n",
       "    <tr>\n",
       "      <th>2019-02-28</th>\n",
       "      <td>0.447097</td>\n",
       "    </tr>\n",
       "    <tr>\n",
       "      <th>...</th>\n",
       "      <td>...</td>\n",
       "    </tr>\n",
       "    <tr>\n",
       "      <th>2023-11-27</th>\n",
       "      <td>-0.243826</td>\n",
       "    </tr>\n",
       "    <tr>\n",
       "      <th>2023-12-04</th>\n",
       "      <td>0.677020</td>\n",
       "    </tr>\n",
       "    <tr>\n",
       "      <th>2023-12-11</th>\n",
       "      <td>0.474322</td>\n",
       "    </tr>\n",
       "    <tr>\n",
       "      <th>2023-12-18</th>\n",
       "      <td>-0.061220</td>\n",
       "    </tr>\n",
       "    <tr>\n",
       "      <th>2023-12-26</th>\n",
       "      <td>0.507751</td>\n",
       "    </tr>\n",
       "  </tbody>\n",
       "</table>\n",
       "<p>244 rows × 1 columns</p>\n",
       "</div>"
      ],
      "text/plain": [
       "             Retorno\n",
       "2019-01-31  0.000000\n",
       "2019-02-06 -0.119412\n",
       "2019-02-13 -0.023905\n",
       "2019-02-21  0.110191\n",
       "2019-02-28  0.447097\n",
       "...              ...\n",
       "2023-11-27 -0.243826\n",
       "2023-12-04  0.677020\n",
       "2023-12-11  0.474322\n",
       "2023-12-18 -0.061220\n",
       "2023-12-26  0.507751\n",
       "\n",
       "[244 rows x 1 columns]"
      ]
     },
     "execution_count": 22,
     "metadata": {},
     "output_type": "execute_result"
    }
   ],
   "source": [
    "#\n",
    "weekly_results"
   ]
  },
  {
   "cell_type": "code",
   "execution_count": 23,
   "metadata": {},
   "outputs": [
    {
     "data": {
      "text/plain": [
       "2019-02-22    0.000000\n",
       "2019-03-21    4.859427\n",
       "2019-04-18    4.864098\n",
       "2019-05-17    5.933391\n",
       "2019-06-17    5.581319\n",
       "                ...   \n",
       "2023-08-31    1.373854\n",
       "2023-09-29    2.502946\n",
       "2023-10-27    4.109963\n",
       "2023-11-27    6.950656\n",
       "2023-12-26    7.329663\n",
       "Name: Retornos da Estratégia na Previsão 0, Length: 61, dtype: float64"
      ]
     },
     "execution_count": 23,
     "metadata": {},
     "output_type": "execute_result"
    }
   ],
   "source": [
    "#\n",
    "monthly_results[0]"
   ]
  },
  {
   "cell_type": "code",
   "execution_count": 24,
   "metadata": {},
   "outputs": [
    {
     "data": {
      "text/plain": [
       "2019-02-22    2.203167\n",
       "2019-03-21    3.657078\n",
       "2019-04-18   -1.679795\n",
       "2019-05-17    1.725725\n",
       "2019-06-17    2.914529\n",
       "                ...   \n",
       "2023-08-31    0.659504\n",
       "2023-09-29   -5.174368\n",
       "2023-10-27   -4.069676\n",
       "2023-11-27    8.806866\n",
       "2023-12-26    4.714021\n",
       "Name: Retornos do S&P500 Index, Length: 61, dtype: float64"
      ]
     },
     "execution_count": 24,
     "metadata": {},
     "output_type": "execute_result"
    }
   ],
   "source": [
    "#\n",
    "sp500_index_period_returns"
   ]
  },
  {
   "cell_type": "code",
   "execution_count": 25,
   "metadata": {},
   "outputs": [
    {
     "data": {
      "text/plain": [
       "2019-02-22     2.203167\n",
       "2019-03-21     5.860246\n",
       "2019-04-18     4.180451\n",
       "2019-05-17     5.906176\n",
       "2019-06-17     8.820705\n",
       "                ...    \n",
       "2023-08-31    52.594225\n",
       "2023-09-29    47.419857\n",
       "2023-10-27    43.350180\n",
       "2023-11-27    52.157046\n",
       "2023-12-26    56.871067\n",
       "Name: Retornos Acumulados do S&P500 Index, Length: 61, dtype: float64"
      ]
     },
     "execution_count": 25,
     "metadata": {},
     "output_type": "execute_result"
    }
   ],
   "source": [
    "#\n",
    "sp500_index_cumulative_returns"
   ]
  },
  {
   "cell_type": "markdown",
   "metadata": {},
   "source": [
    "#### *Definindo algumas funções que serão úteis para plotar gráficos*"
   ]
  },
  {
   "cell_type": "code",
   "execution_count": 26,
   "metadata": {},
   "outputs": [],
   "source": [
    "def plot_time_serie_line_graph(serie: pd.Series, serie_title: Optional[str] = \"\", serie_xaxis_title: Optional[str] = \"\", \n",
    "                               serie_yaxis_title: Optional[str] = \"\", annotation_text: Optional[str] = \"\") -> None:\n",
    "    '''\n",
    "        Description:\n",
    "            Essa função é responsável por realizar o plot de uma série temporal.\n",
    "        Args:\n",
    "            serie (pd.Series): Série temporal cujos dados serão utilizados para o plot. Os valores de tal série temporal estarão no eixo y,\n",
    "            enquanto os índices dessa série estarão no eixo x.\n",
    "            title (string):\n",
    "            xaxis_title (string):\n",
    "            yaxis_title (string):\n",
    "            \n",
    "        Return:\n",
    "            Essa função plota a série temporal, mas não retorna nada.\n",
    "    '''\n",
    "    \n",
    "    # Cria a figure onde a série temporal em questão será plotada.\n",
    "    fig = go.Figure()\n",
    "    \n",
    "    # Adiciona o gráfico da série temporal em questão ao plot.\n",
    "    fig.add_trace(go.Scatter(\n",
    "        # Define os valores do eixo x do plot.\n",
    "        x = serie.index,\n",
    "        # Define os valores do eixo y do plot.\n",
    "        y = serie.values,\n",
    "        # Define o tipo do gráfico que será plotado.\n",
    "        mode = \"lines\"\n",
    "    ))\n",
    "        \n",
    "    # Adiciona a anotação ao gráfico\n",
    "    fig.add_annotation(\n",
    "        x=0.95, y=0.95, \n",
    "        text=annotation_text, \n",
    "        showarrow=False, \n",
    "        font=dict(size=12, color=\"black\"), \n",
    "        align=\"center\", \n",
    "        xref=\"paper\", yref=\"paper\", \n",
    "        bgcolor=\"white\", opacity=0.7\n",
    "    )\n",
    "    \n",
    "    # Adiciona algumas legendas ao plot.\n",
    "    fig.update_layout(\n",
    "        # Adiciona um título ao plot.\n",
    "        title = serie_title,\n",
    "        # Adiciona uma legenda ao eixo x do plot.\n",
    "        xaxis_title = serie_xaxis_title,\n",
    "        # Adiciona uma legenda ao eixo y do plot.\n",
    "        yaxis_title = serie_yaxis_title\n",
    "    )\n",
    "    \n",
    "    # Exibe o plot criado.\n",
    "    fig.show()"
   ]
  },
  {
   "cell_type": "code",
   "execution_count": 27,
   "metadata": {},
   "outputs": [],
   "source": [
    "def plot_multiples_time_series_line_graphs(data_list: list, serie_title: Optional[str] = \"\", serie_xaxis_title: Optional[str] = \"\", \n",
    "                               serie_yaxis_title: Optional[str] = \"\", annotation_text: Optional[str] = \"\") -> None:\n",
    "    '''\n",
    "        Description:\n",
    "            Esta função exibe em um mesmo plot múltiplos gráficos de séries temporais. \n",
    "        Args:\n",
    "            data_list (list): Lista contendo as séries temporais cujos gráficos serão exibidos no plot. Os valores de tais séries temporais\n",
    "                              estarão no eixo y, enquanto os índices dessas séries estarão no eixo x.\n",
    "            title (string) [Optional]: Título do plot.\n",
    "            xaxis_title (string) [Optional]: Título do eixo x do plot.\n",
    "            yaxis_title (string) [Optional]: Título do eixo y do plot.\n",
    "        Return:\n",
    "            None: A função exibe os gráficos, mas não retorna nenhum valor.  \n",
    "        Errors:\n",
    "            TypeError: É esperado que todas os elementos da lista \"data_list\" sejam objetos do tipo pd.Series, isto é, que sejam séries temporais.\n",
    "            ValueError: É esperado que todas as séries temporais presentes na variável \"data_list\" possuam os mesmos índices. \n",
    "            TypeError: É esperado que todas as séries temporais presentes na variável data_list possuam um atributo \"name\".\n",
    "    '''    \n",
    "\n",
    "    # Verifica se todos os elementos presentes na lista \"data_list\" são séries temporais.\n",
    "    are_all_data_time_series = all(isinstance(df, pd.Series) for df in data_list)\n",
    "    \n",
    "    # Retorna um erro caso algum dos dados presentes na variável \"data_list\" não seja uma série temporal\n",
    "    if not are_all_data_time_series:\n",
    "        raise TypeError(\"Todos os dados presentes no parâmetro 'data_list' devem ser séries temporais.\")\n",
    "    \n",
    "    # Verifica se as séries temporais presentes na variável \"data_list\" possuem os mesmos índices.\n",
    "    are_all_index_equal = all(df.index.equals(data_list[0].index) for df in data_list)\n",
    "    \n",
    "    # Retorna um erro caso as séries temporais possuam índices diferentes.\n",
    "    if not are_all_index_equal:\n",
    "        raise ValueError(\"Todos as séries temporais devem possuir os mesmos índices.\")\n",
    "    \n",
    "    # Verifica se todas as séries temporais presentes na variável \"data_list\" possuem o atributo \"name\".\n",
    "    all_time_series_have_names = all(hasattr(df,\"name\") for df in data_list)\n",
    "    \n",
    "    # Retorna um erro caso uma das séries temporais presentes na variável \"data_list\" não possua o atributo \"name\".\n",
    "    if not all_time_series_have_names:\n",
    "        raise TypeError(\"Todas as séries temporais devem possuir o atributo 'name'\")\n",
    "    \n",
    "    # Cria uma lista de timestamps que representará o eixo x do gráfico que será plotado.\n",
    "    x_axis = data_list[0].index.tolist() # Observe que só podemos fazer isso pois temos certeza que todas as séries temporais possuem os mesmos índices.\n",
    "    # Cria a figura onde será plotado o gráfico.\n",
    "    fig = go.Figure()\n",
    "\n",
    "    # Adiciona cada série temporal ao gráfico.\n",
    "    for time_serie in data_list:\n",
    "        # Plota o gráfico (Data x Valor da Ação) do ticker em questão.\n",
    "        fig.add_trace(go.Scatter(x=x_axis, y=time_serie.values, mode=\"lines\", name=time_serie.name))\n",
    "    \n",
    "    # Adiciona a anotação ao gráfico\n",
    "    fig.add_annotation(\n",
    "        x=0.95, y=0.95, \n",
    "        text=annotation_text, \n",
    "        showarrow=False, \n",
    "        font=dict(size=12, color=\"black\"), \n",
    "        align=\"center\", \n",
    "        xref=\"paper\", yref=\"paper\", \n",
    "        bgcolor=\"white\", opacity=0.7\n",
    "    )\n",
    "    \n",
    "    # Atualiza o layout para permitir destaque ao clicar na legenda.\n",
    "    fig.update_layout(\n",
    "        # Seta um título para o plot.\n",
    "        title=serie_title,\n",
    "        # Seta um título para o eixo x do plot.\n",
    "        xaxis_title=serie_xaxis_title,\n",
    "        # Seta um título para o eixo y do plot.\n",
    "        yaxis_title=serie_yaxis_title,   \n",
    "    )\n",
    "    \n",
    "    # Exibe o gráfico criado.\n",
    "    fig.show()"
   ]
  },
  {
   "cell_type": "markdown",
   "metadata": {},
   "source": [
    "#### *Exibindo os Resultados*"
   ]
  },
  {
   "cell_type": "markdown",
   "metadata": {},
   "source": [
    "##### **Gráfico de Retornos da Média das Previsões vs. Retornos do S&P 500 Index**"
   ]
  },
  {
   "cell_type": "code",
   "execution_count": 28,
   "metadata": {},
   "outputs": [
    {
     "data": {
      "application/vnd.plotly.v1+json": {
       "config": {
        "plotlyServerURL": "https://plot.ly"
       },
       "data": [
        {
         "mode": "lines",
         "name": "Retornos da Média das Previsões",
         "type": "scatter",
         "x": [
          "2019-02-22T00:00:00",
          "2019-03-21T00:00:00",
          "2019-04-18T00:00:00",
          "2019-05-17T00:00:00",
          "2019-06-17T00:00:00",
          "2019-07-16T00:00:00",
          "2019-08-13T00:00:00",
          "2019-09-11T00:00:00",
          "2019-10-09T00:00:00",
          "2019-11-06T00:00:00",
          "2019-12-05T00:00:00",
          "2020-01-06T00:00:00",
          "2020-02-04T00:00:00",
          "2020-03-04T00:00:00",
          "2020-04-30T00:00:00",
          "2020-05-29T00:00:00",
          "2020-06-26T00:00:00",
          "2020-07-27T00:00:00",
          "2020-08-24T00:00:00",
          "2020-09-22T00:00:00",
          "2020-10-20T00:00:00",
          "2020-11-17T00:00:00",
          "2020-12-16T00:00:00",
          "2021-01-15T00:00:00",
          "2021-02-16T00:00:00",
          "2021-03-16T00:00:00",
          "2021-04-14T00:00:00",
          "2021-05-12T00:00:00",
          "2021-06-10T00:00:00",
          "2021-07-09T00:00:00",
          "2021-08-06T00:00:00",
          "2021-09-03T00:00:00",
          "2021-10-04T00:00:00",
          "2021-11-01T00:00:00",
          "2021-11-30T00:00:00",
          "2021-12-29T00:00:00",
          "2022-01-27T00:00:00",
          "2022-02-25T00:00:00",
          "2022-03-25T00:00:00",
          "2022-04-25T00:00:00",
          "2022-05-23T00:00:00",
          "2022-06-22T00:00:00",
          "2022-07-21T00:00:00",
          "2022-08-18T00:00:00",
          "2022-09-16T00:00:00",
          "2022-10-14T00:00:00",
          "2022-11-11T00:00:00",
          "2022-12-12T00:00:00",
          "2023-01-11T00:00:00",
          "2023-02-09T00:00:00",
          "2023-03-10T00:00:00",
          "2023-04-10T00:00:00",
          "2023-05-08T00:00:00",
          "2023-06-06T00:00:00",
          "2023-07-06T00:00:00",
          "2023-08-03T00:00:00",
          "2023-08-31T00:00:00",
          "2023-09-29T00:00:00",
          "2023-10-27T00:00:00",
          "2023-11-27T00:00:00",
          "2023-12-26T00:00:00"
         ],
         "y": [
          0,
          5.577002606459757,
          5.178876013206677,
          5.855372346605575,
          5.292025736281285,
          4.676179059008398,
          7.5337557036293035,
          6.311692793635278,
          3.2075523394957193,
          5.470284865014091,
          5.3273300875386225,
          5.360704444778302,
          7.395525275095937,
          1.3488340765401197,
          12.15016578082063,
          11.452912642950313,
          5.792798035493024,
          8.403461410573232,
          7.0973760504257895,
          1.9828093966567792,
          11.712463578599076,
          10.466658344388927,
          3.4897951075350973,
          8.07174187911318,
          10.165904189049439,
          9.835286990454557,
          8.095141362635147,
          2.786259027881886,
          8.262951686549464,
          5.637537802174345,
          4.236624101444635,
          4.9529517024957155,
          2.829940381546569,
          7.429114676389931,
          0.02380181273465798,
          8.525947654612988,
          2.268174438918849,
          4.8809301690847064,
          5.863309191118724,
          5.882548606706828,
          6.478598668390863,
          -1.7973079272116557,
          8.676381494161998,
          10.60464720404058,
          -0.061876824447455736,
          4.641112841899341,
          17.769724239311717,
          9.335147217142104,
          6.848283449481576,
          6.38308724748879,
          -1.0954900123751368,
          7.597723689798504,
          6.288554243820957,
          2.429959513693066,
          4.591508921744941,
          5.1132534154941025,
          1.3648234296103903,
          2.5029441033080233,
          4.364491528355685,
          7.13032669833558,
          7.5372279063229515
         ]
        },
        {
         "mode": "lines",
         "name": "Retornos do S&P500 Index",
         "type": "scatter",
         "x": [
          "2019-02-22T00:00:00",
          "2019-03-21T00:00:00",
          "2019-04-18T00:00:00",
          "2019-05-17T00:00:00",
          "2019-06-17T00:00:00",
          "2019-07-16T00:00:00",
          "2019-08-13T00:00:00",
          "2019-09-11T00:00:00",
          "2019-10-09T00:00:00",
          "2019-11-06T00:00:00",
          "2019-12-05T00:00:00",
          "2020-01-06T00:00:00",
          "2020-02-04T00:00:00",
          "2020-03-04T00:00:00",
          "2020-04-30T00:00:00",
          "2020-05-29T00:00:00",
          "2020-06-26T00:00:00",
          "2020-07-27T00:00:00",
          "2020-08-24T00:00:00",
          "2020-09-22T00:00:00",
          "2020-10-20T00:00:00",
          "2020-11-17T00:00:00",
          "2020-12-16T00:00:00",
          "2021-01-15T00:00:00",
          "2021-02-16T00:00:00",
          "2021-03-16T00:00:00",
          "2021-04-14T00:00:00",
          "2021-05-12T00:00:00",
          "2021-06-10T00:00:00",
          "2021-07-09T00:00:00",
          "2021-08-06T00:00:00",
          "2021-09-03T00:00:00",
          "2021-10-04T00:00:00",
          "2021-11-01T00:00:00",
          "2021-11-30T00:00:00",
          "2021-12-29T00:00:00",
          "2022-01-27T00:00:00",
          "2022-02-25T00:00:00",
          "2022-03-25T00:00:00",
          "2022-04-25T00:00:00",
          "2022-05-23T00:00:00",
          "2022-06-22T00:00:00",
          "2022-07-21T00:00:00",
          "2022-08-18T00:00:00",
          "2022-09-16T00:00:00",
          "2022-10-14T00:00:00",
          "2022-11-11T00:00:00",
          "2022-12-12T00:00:00",
          "2023-01-11T00:00:00",
          "2023-02-09T00:00:00",
          "2023-03-10T00:00:00",
          "2023-04-10T00:00:00",
          "2023-05-08T00:00:00",
          "2023-06-06T00:00:00",
          "2023-07-06T00:00:00",
          "2023-08-03T00:00:00",
          "2023-08-31T00:00:00",
          "2023-09-29T00:00:00",
          "2023-10-27T00:00:00",
          "2023-11-27T00:00:00",
          "2023-12-26T00:00:00"
         ],
         "y": [
          2.203167016955355,
          3.6570784839232706,
          -1.6797947266550932,
          1.7257253784573794,
          2.9145291085460574,
          -1.9659712631527295,
          5.490688600501024,
          -3.04191518633287,
          4.611032041784017,
          1.0398942165059932,
          3.1406565876359553,
          1.8489365969256006,
          -6.330832403896731,
          -20.214003817031237,
          14.19945444360034,
          7.274674396387298,
          -1.5394079670934353,
          5.918786865844358,
          6.403662603856873,
          -3.7893702514698737,
          6.175583484835031,
          4.93976209812391,
          3.6702597340330865,
          1.2220595127124094,
          3.458410389814939,
          0.795031389352416,
          3.718026059188602,
          -2.608525991678831,
          3.0338779688359843,
          2.8343549565653663,
          1.176507276972257,
          2.2989996432413284,
          -4.9796598819998525,
          5.983211666659955,
          -1.3840691721496063,
          6.0198057834731165,
          -9.941365851047877,
          -1.070734333560089,
          3.79366153760596,
          -6.3008040684506605,
          -4.945207488338616,
          -4.716660925509215,
          5.215506888071703,
          7.817098735670681,
          -8.77279634602826,
          -8.472832615327256,
          8.216976165956384,
          0.8382247030080929,
          -1.2526929710451613,
          2.438660283843375,
          -5.757838509764697,
          6.363829009450829,
          0.7076533296937205,
          3.9200492973762526,
          3.320226644107447,
          2.3131418487960893,
          0.6595036927254397,
          -5.174368068880059,
          -4.069676452953056,
          8.80686598444981,
          4.71402053914846
         ]
        }
       ],
       "layout": {
        "annotations": [
         {
          "align": "center",
          "bgcolor": "white",
          "font": {
           "color": "black",
           "size": 12
          },
          "opacity": 0.7,
          "showarrow": false,
          "text": "",
          "x": 0.95,
          "xref": "paper",
          "y": 0.95,
          "yref": "paper"
         }
        ],
        "template": {
         "data": {
          "bar": [
           {
            "error_x": {
             "color": "#2a3f5f"
            },
            "error_y": {
             "color": "#2a3f5f"
            },
            "marker": {
             "line": {
              "color": "#E5ECF6",
              "width": 0.5
             },
             "pattern": {
              "fillmode": "overlay",
              "size": 10,
              "solidity": 0.2
             }
            },
            "type": "bar"
           }
          ],
          "barpolar": [
           {
            "marker": {
             "line": {
              "color": "#E5ECF6",
              "width": 0.5
             },
             "pattern": {
              "fillmode": "overlay",
              "size": 10,
              "solidity": 0.2
             }
            },
            "type": "barpolar"
           }
          ],
          "carpet": [
           {
            "aaxis": {
             "endlinecolor": "#2a3f5f",
             "gridcolor": "white",
             "linecolor": "white",
             "minorgridcolor": "white",
             "startlinecolor": "#2a3f5f"
            },
            "baxis": {
             "endlinecolor": "#2a3f5f",
             "gridcolor": "white",
             "linecolor": "white",
             "minorgridcolor": "white",
             "startlinecolor": "#2a3f5f"
            },
            "type": "carpet"
           }
          ],
          "choropleth": [
           {
            "colorbar": {
             "outlinewidth": 0,
             "ticks": ""
            },
            "type": "choropleth"
           }
          ],
          "contour": [
           {
            "colorbar": {
             "outlinewidth": 0,
             "ticks": ""
            },
            "colorscale": [
             [
              0,
              "#0d0887"
             ],
             [
              0.1111111111111111,
              "#46039f"
             ],
             [
              0.2222222222222222,
              "#7201a8"
             ],
             [
              0.3333333333333333,
              "#9c179e"
             ],
             [
              0.4444444444444444,
              "#bd3786"
             ],
             [
              0.5555555555555556,
              "#d8576b"
             ],
             [
              0.6666666666666666,
              "#ed7953"
             ],
             [
              0.7777777777777778,
              "#fb9f3a"
             ],
             [
              0.8888888888888888,
              "#fdca26"
             ],
             [
              1,
              "#f0f921"
             ]
            ],
            "type": "contour"
           }
          ],
          "contourcarpet": [
           {
            "colorbar": {
             "outlinewidth": 0,
             "ticks": ""
            },
            "type": "contourcarpet"
           }
          ],
          "heatmap": [
           {
            "colorbar": {
             "outlinewidth": 0,
             "ticks": ""
            },
            "colorscale": [
             [
              0,
              "#0d0887"
             ],
             [
              0.1111111111111111,
              "#46039f"
             ],
             [
              0.2222222222222222,
              "#7201a8"
             ],
             [
              0.3333333333333333,
              "#9c179e"
             ],
             [
              0.4444444444444444,
              "#bd3786"
             ],
             [
              0.5555555555555556,
              "#d8576b"
             ],
             [
              0.6666666666666666,
              "#ed7953"
             ],
             [
              0.7777777777777778,
              "#fb9f3a"
             ],
             [
              0.8888888888888888,
              "#fdca26"
             ],
             [
              1,
              "#f0f921"
             ]
            ],
            "type": "heatmap"
           }
          ],
          "heatmapgl": [
           {
            "colorbar": {
             "outlinewidth": 0,
             "ticks": ""
            },
            "colorscale": [
             [
              0,
              "#0d0887"
             ],
             [
              0.1111111111111111,
              "#46039f"
             ],
             [
              0.2222222222222222,
              "#7201a8"
             ],
             [
              0.3333333333333333,
              "#9c179e"
             ],
             [
              0.4444444444444444,
              "#bd3786"
             ],
             [
              0.5555555555555556,
              "#d8576b"
             ],
             [
              0.6666666666666666,
              "#ed7953"
             ],
             [
              0.7777777777777778,
              "#fb9f3a"
             ],
             [
              0.8888888888888888,
              "#fdca26"
             ],
             [
              1,
              "#f0f921"
             ]
            ],
            "type": "heatmapgl"
           }
          ],
          "histogram": [
           {
            "marker": {
             "pattern": {
              "fillmode": "overlay",
              "size": 10,
              "solidity": 0.2
             }
            },
            "type": "histogram"
           }
          ],
          "histogram2d": [
           {
            "colorbar": {
             "outlinewidth": 0,
             "ticks": ""
            },
            "colorscale": [
             [
              0,
              "#0d0887"
             ],
             [
              0.1111111111111111,
              "#46039f"
             ],
             [
              0.2222222222222222,
              "#7201a8"
             ],
             [
              0.3333333333333333,
              "#9c179e"
             ],
             [
              0.4444444444444444,
              "#bd3786"
             ],
             [
              0.5555555555555556,
              "#d8576b"
             ],
             [
              0.6666666666666666,
              "#ed7953"
             ],
             [
              0.7777777777777778,
              "#fb9f3a"
             ],
             [
              0.8888888888888888,
              "#fdca26"
             ],
             [
              1,
              "#f0f921"
             ]
            ],
            "type": "histogram2d"
           }
          ],
          "histogram2dcontour": [
           {
            "colorbar": {
             "outlinewidth": 0,
             "ticks": ""
            },
            "colorscale": [
             [
              0,
              "#0d0887"
             ],
             [
              0.1111111111111111,
              "#46039f"
             ],
             [
              0.2222222222222222,
              "#7201a8"
             ],
             [
              0.3333333333333333,
              "#9c179e"
             ],
             [
              0.4444444444444444,
              "#bd3786"
             ],
             [
              0.5555555555555556,
              "#d8576b"
             ],
             [
              0.6666666666666666,
              "#ed7953"
             ],
             [
              0.7777777777777778,
              "#fb9f3a"
             ],
             [
              0.8888888888888888,
              "#fdca26"
             ],
             [
              1,
              "#f0f921"
             ]
            ],
            "type": "histogram2dcontour"
           }
          ],
          "mesh3d": [
           {
            "colorbar": {
             "outlinewidth": 0,
             "ticks": ""
            },
            "type": "mesh3d"
           }
          ],
          "parcoords": [
           {
            "line": {
             "colorbar": {
              "outlinewidth": 0,
              "ticks": ""
             }
            },
            "type": "parcoords"
           }
          ],
          "pie": [
           {
            "automargin": true,
            "type": "pie"
           }
          ],
          "scatter": [
           {
            "fillpattern": {
             "fillmode": "overlay",
             "size": 10,
             "solidity": 0.2
            },
            "type": "scatter"
           }
          ],
          "scatter3d": [
           {
            "line": {
             "colorbar": {
              "outlinewidth": 0,
              "ticks": ""
             }
            },
            "marker": {
             "colorbar": {
              "outlinewidth": 0,
              "ticks": ""
             }
            },
            "type": "scatter3d"
           }
          ],
          "scattercarpet": [
           {
            "marker": {
             "colorbar": {
              "outlinewidth": 0,
              "ticks": ""
             }
            },
            "type": "scattercarpet"
           }
          ],
          "scattergeo": [
           {
            "marker": {
             "colorbar": {
              "outlinewidth": 0,
              "ticks": ""
             }
            },
            "type": "scattergeo"
           }
          ],
          "scattergl": [
           {
            "marker": {
             "colorbar": {
              "outlinewidth": 0,
              "ticks": ""
             }
            },
            "type": "scattergl"
           }
          ],
          "scattermapbox": [
           {
            "marker": {
             "colorbar": {
              "outlinewidth": 0,
              "ticks": ""
             }
            },
            "type": "scattermapbox"
           }
          ],
          "scatterpolar": [
           {
            "marker": {
             "colorbar": {
              "outlinewidth": 0,
              "ticks": ""
             }
            },
            "type": "scatterpolar"
           }
          ],
          "scatterpolargl": [
           {
            "marker": {
             "colorbar": {
              "outlinewidth": 0,
              "ticks": ""
             }
            },
            "type": "scatterpolargl"
           }
          ],
          "scatterternary": [
           {
            "marker": {
             "colorbar": {
              "outlinewidth": 0,
              "ticks": ""
             }
            },
            "type": "scatterternary"
           }
          ],
          "surface": [
           {
            "colorbar": {
             "outlinewidth": 0,
             "ticks": ""
            },
            "colorscale": [
             [
              0,
              "#0d0887"
             ],
             [
              0.1111111111111111,
              "#46039f"
             ],
             [
              0.2222222222222222,
              "#7201a8"
             ],
             [
              0.3333333333333333,
              "#9c179e"
             ],
             [
              0.4444444444444444,
              "#bd3786"
             ],
             [
              0.5555555555555556,
              "#d8576b"
             ],
             [
              0.6666666666666666,
              "#ed7953"
             ],
             [
              0.7777777777777778,
              "#fb9f3a"
             ],
             [
              0.8888888888888888,
              "#fdca26"
             ],
             [
              1,
              "#f0f921"
             ]
            ],
            "type": "surface"
           }
          ],
          "table": [
           {
            "cells": {
             "fill": {
              "color": "#EBF0F8"
             },
             "line": {
              "color": "white"
             }
            },
            "header": {
             "fill": {
              "color": "#C8D4E3"
             },
             "line": {
              "color": "white"
             }
            },
            "type": "table"
           }
          ]
         },
         "layout": {
          "annotationdefaults": {
           "arrowcolor": "#2a3f5f",
           "arrowhead": 0,
           "arrowwidth": 1
          },
          "autotypenumbers": "strict",
          "coloraxis": {
           "colorbar": {
            "outlinewidth": 0,
            "ticks": ""
           }
          },
          "colorscale": {
           "diverging": [
            [
             0,
             "#8e0152"
            ],
            [
             0.1,
             "#c51b7d"
            ],
            [
             0.2,
             "#de77ae"
            ],
            [
             0.3,
             "#f1b6da"
            ],
            [
             0.4,
             "#fde0ef"
            ],
            [
             0.5,
             "#f7f7f7"
            ],
            [
             0.6,
             "#e6f5d0"
            ],
            [
             0.7,
             "#b8e186"
            ],
            [
             0.8,
             "#7fbc41"
            ],
            [
             0.9,
             "#4d9221"
            ],
            [
             1,
             "#276419"
            ]
           ],
           "sequential": [
            [
             0,
             "#0d0887"
            ],
            [
             0.1111111111111111,
             "#46039f"
            ],
            [
             0.2222222222222222,
             "#7201a8"
            ],
            [
             0.3333333333333333,
             "#9c179e"
            ],
            [
             0.4444444444444444,
             "#bd3786"
            ],
            [
             0.5555555555555556,
             "#d8576b"
            ],
            [
             0.6666666666666666,
             "#ed7953"
            ],
            [
             0.7777777777777778,
             "#fb9f3a"
            ],
            [
             0.8888888888888888,
             "#fdca26"
            ],
            [
             1,
             "#f0f921"
            ]
           ],
           "sequentialminus": [
            [
             0,
             "#0d0887"
            ],
            [
             0.1111111111111111,
             "#46039f"
            ],
            [
             0.2222222222222222,
             "#7201a8"
            ],
            [
             0.3333333333333333,
             "#9c179e"
            ],
            [
             0.4444444444444444,
             "#bd3786"
            ],
            [
             0.5555555555555556,
             "#d8576b"
            ],
            [
             0.6666666666666666,
             "#ed7953"
            ],
            [
             0.7777777777777778,
             "#fb9f3a"
            ],
            [
             0.8888888888888888,
             "#fdca26"
            ],
            [
             1,
             "#f0f921"
            ]
           ]
          },
          "colorway": [
           "#636efa",
           "#EF553B",
           "#00cc96",
           "#ab63fa",
           "#FFA15A",
           "#19d3f3",
           "#FF6692",
           "#B6E880",
           "#FF97FF",
           "#FECB52"
          ],
          "font": {
           "color": "#2a3f5f"
          },
          "geo": {
           "bgcolor": "white",
           "lakecolor": "white",
           "landcolor": "#E5ECF6",
           "showlakes": true,
           "showland": true,
           "subunitcolor": "white"
          },
          "hoverlabel": {
           "align": "left"
          },
          "hovermode": "closest",
          "mapbox": {
           "style": "light"
          },
          "paper_bgcolor": "white",
          "plot_bgcolor": "#E5ECF6",
          "polar": {
           "angularaxis": {
            "gridcolor": "white",
            "linecolor": "white",
            "ticks": ""
           },
           "bgcolor": "#E5ECF6",
           "radialaxis": {
            "gridcolor": "white",
            "linecolor": "white",
            "ticks": ""
           }
          },
          "scene": {
           "xaxis": {
            "backgroundcolor": "#E5ECF6",
            "gridcolor": "white",
            "gridwidth": 2,
            "linecolor": "white",
            "showbackground": true,
            "ticks": "",
            "zerolinecolor": "white"
           },
           "yaxis": {
            "backgroundcolor": "#E5ECF6",
            "gridcolor": "white",
            "gridwidth": 2,
            "linecolor": "white",
            "showbackground": true,
            "ticks": "",
            "zerolinecolor": "white"
           },
           "zaxis": {
            "backgroundcolor": "#E5ECF6",
            "gridcolor": "white",
            "gridwidth": 2,
            "linecolor": "white",
            "showbackground": true,
            "ticks": "",
            "zerolinecolor": "white"
           }
          },
          "shapedefaults": {
           "line": {
            "color": "#2a3f5f"
           }
          },
          "ternary": {
           "aaxis": {
            "gridcolor": "white",
            "linecolor": "white",
            "ticks": ""
           },
           "baxis": {
            "gridcolor": "white",
            "linecolor": "white",
            "ticks": ""
           },
           "bgcolor": "#E5ECF6",
           "caxis": {
            "gridcolor": "white",
            "linecolor": "white",
            "ticks": ""
           }
          },
          "title": {
           "x": 0.05
          },
          "xaxis": {
           "automargin": true,
           "gridcolor": "white",
           "linecolor": "white",
           "ticks": "",
           "title": {
            "standoff": 15
           },
           "zerolinecolor": "white",
           "zerolinewidth": 2
          },
          "yaxis": {
           "automargin": true,
           "gridcolor": "white",
           "linecolor": "white",
           "ticks": "",
           "title": {
            "standoff": 15
           },
           "zerolinecolor": "white",
           "zerolinewidth": 2
          }
         }
        },
        "title": {
         "text": "Retornos Médios da Estratégia Vs. Retornos do S&P 500 Index"
        },
        "xaxis": {
         "title": {
          "text": "Período"
         }
        },
        "yaxis": {
         "title": {
          "text": "Retornos (Log.)"
         }
        }
       }
      }
     },
     "metadata": {},
     "output_type": "display_data"
    }
   ],
   "source": [
    "plot_multiples_time_series_line_graphs([average_monthly_results, sp500_index_period_returns], \"Retornos Médios da Estratégia Vs. Retornos do S&P 500 Index\", \"Período\", \"Retornos (Log.)\")"
   ]
  },
  {
   "cell_type": "markdown",
   "metadata": {},
   "source": [
    "##### **Gráfico de Retorno Acumulado da Estratégia vs. Retorno Acumulado do S&P 500 Index**"
   ]
  },
  {
   "cell_type": "code",
   "execution_count": 29,
   "metadata": {},
   "outputs": [
    {
     "data": {
      "application/vnd.plotly.v1+json": {
       "config": {
        "plotlyServerURL": "https://plot.ly"
       },
       "data": [
        {
         "mode": "lines",
         "name": "Retornos Acumulados da Média das Previsões",
         "type": "scatter",
         "x": [
          "2019-02-22T00:00:00",
          "2019-03-21T00:00:00",
          "2019-04-18T00:00:00",
          "2019-05-17T00:00:00",
          "2019-06-17T00:00:00",
          "2019-07-16T00:00:00",
          "2019-08-13T00:00:00",
          "2019-09-11T00:00:00",
          "2019-10-09T00:00:00",
          "2019-11-06T00:00:00",
          "2019-12-05T00:00:00",
          "2020-01-06T00:00:00",
          "2020-02-04T00:00:00",
          "2020-03-04T00:00:00",
          "2020-04-30T00:00:00",
          "2020-05-29T00:00:00",
          "2020-06-26T00:00:00",
          "2020-07-27T00:00:00",
          "2020-08-24T00:00:00",
          "2020-09-22T00:00:00",
          "2020-10-20T00:00:00",
          "2020-11-17T00:00:00",
          "2020-12-16T00:00:00",
          "2021-01-15T00:00:00",
          "2021-02-16T00:00:00",
          "2021-03-16T00:00:00",
          "2021-04-14T00:00:00",
          "2021-05-12T00:00:00",
          "2021-06-10T00:00:00",
          "2021-07-09T00:00:00",
          "2021-08-06T00:00:00",
          "2021-09-03T00:00:00",
          "2021-10-04T00:00:00",
          "2021-11-01T00:00:00",
          "2021-11-30T00:00:00",
          "2021-12-29T00:00:00",
          "2022-01-27T00:00:00",
          "2022-02-25T00:00:00",
          "2022-03-25T00:00:00",
          "2022-04-25T00:00:00",
          "2022-05-23T00:00:00",
          "2022-06-22T00:00:00",
          "2022-07-21T00:00:00",
          "2022-08-18T00:00:00",
          "2022-09-16T00:00:00",
          "2022-10-14T00:00:00",
          "2022-11-11T00:00:00",
          "2022-12-12T00:00:00",
          "2023-01-11T00:00:00",
          "2023-02-09T00:00:00",
          "2023-03-10T00:00:00",
          "2023-04-10T00:00:00",
          "2023-05-08T00:00:00",
          "2023-06-06T00:00:00",
          "2023-07-06T00:00:00",
          "2023-08-03T00:00:00",
          "2023-08-31T00:00:00",
          "2023-09-29T00:00:00",
          "2023-10-27T00:00:00",
          "2023-11-27T00:00:00",
          "2023-12-26T00:00:00"
         ],
         "y": [
          0,
          5.577002606459757,
          10.755878619666435,
          16.61125096627201,
          21.903276702553296,
          26.579455761561693,
          34.113211465191,
          40.42490425882628,
          43.632456598322,
          49.102741463336095,
          54.430071550874715,
          59.790775995653014,
          67.18630127074896,
          68.53513534728907,
          80.6853011281097,
          92.13821377106001,
          97.93101180655303,
          106.33447321712626,
          113.43184926755205,
          115.41465866420883,
          127.1271222428079,
          137.59378058719682,
          141.0835756947319,
          149.15531757384508,
          159.3212217628945,
          169.15650875334907,
          177.2516501159842,
          180.0379091438661,
          188.30086083041556,
          193.9383986325899,
          198.17502273403454,
          203.12797443653025,
          205.95791481807683,
          213.38702949446676,
          213.41083130720142,
          221.9367789618144,
          224.20495340073327,
          229.08588356981798,
          234.9491927609367,
          240.83174136764353,
          247.3103400360344,
          245.51303210882276,
          254.18941360298476,
          264.79406080702535,
          264.7321839825779,
          269.3732968244772,
          287.1430210637889,
          296.478168280931,
          303.3264517304126,
          309.7095389779014,
          308.61404896552625,
          316.21177265532475,
          322.5003268991457,
          324.93028641283877,
          329.5217953345837,
          334.63504875007783,
          335.9998721796882,
          338.50281628299626,
          342.86730781135196,
          349.99763450968754,
          357.53486241601047
         ]
        },
        {
         "mode": "lines",
         "name": "Retornos Acumulados do S&P500 Index",
         "type": "scatter",
         "x": [
          "2019-02-22T00:00:00",
          "2019-03-21T00:00:00",
          "2019-04-18T00:00:00",
          "2019-05-17T00:00:00",
          "2019-06-17T00:00:00",
          "2019-07-16T00:00:00",
          "2019-08-13T00:00:00",
          "2019-09-11T00:00:00",
          "2019-10-09T00:00:00",
          "2019-11-06T00:00:00",
          "2019-12-05T00:00:00",
          "2020-01-06T00:00:00",
          "2020-02-04T00:00:00",
          "2020-03-04T00:00:00",
          "2020-04-30T00:00:00",
          "2020-05-29T00:00:00",
          "2020-06-26T00:00:00",
          "2020-07-27T00:00:00",
          "2020-08-24T00:00:00",
          "2020-09-22T00:00:00",
          "2020-10-20T00:00:00",
          "2020-11-17T00:00:00",
          "2020-12-16T00:00:00",
          "2021-01-15T00:00:00",
          "2021-02-16T00:00:00",
          "2021-03-16T00:00:00",
          "2021-04-14T00:00:00",
          "2021-05-12T00:00:00",
          "2021-06-10T00:00:00",
          "2021-07-09T00:00:00",
          "2021-08-06T00:00:00",
          "2021-09-03T00:00:00",
          "2021-10-04T00:00:00",
          "2021-11-01T00:00:00",
          "2021-11-30T00:00:00",
          "2021-12-29T00:00:00",
          "2022-01-27T00:00:00",
          "2022-02-25T00:00:00",
          "2022-03-25T00:00:00",
          "2022-04-25T00:00:00",
          "2022-05-23T00:00:00",
          "2022-06-22T00:00:00",
          "2022-07-21T00:00:00",
          "2022-08-18T00:00:00",
          "2022-09-16T00:00:00",
          "2022-10-14T00:00:00",
          "2022-11-11T00:00:00",
          "2022-12-12T00:00:00",
          "2023-01-11T00:00:00",
          "2023-02-09T00:00:00",
          "2023-03-10T00:00:00",
          "2023-04-10T00:00:00",
          "2023-05-08T00:00:00",
          "2023-06-06T00:00:00",
          "2023-07-06T00:00:00",
          "2023-08-03T00:00:00",
          "2023-08-31T00:00:00",
          "2023-09-29T00:00:00",
          "2023-10-27T00:00:00",
          "2023-11-27T00:00:00",
          "2023-12-26T00:00:00"
         ],
         "y": [
          2.203167016955355,
          5.860245500878626,
          4.180450774223532,
          5.906176152680912,
          8.82070526122697,
          6.85473399807424,
          12.345422598575263,
          9.303507412242393,
          13.91453945402641,
          14.954433670532405,
          18.09509025816836,
          19.94402685509396,
          13.613194451197227,
          -6.60080936583401,
          7.59864507776633,
          14.873319474153629,
          13.333911507060193,
          19.25269837290455,
          25.656360976761423,
          21.86699072529155,
          28.04257421012658,
          32.98233630825049,
          36.65259604228358,
          37.87465555499599,
          41.333065944810926,
          42.12809733416334,
          45.846123393351945,
          43.23759740167311,
          46.271475370509094,
          49.10583032707446,
          50.28233760404672,
          52.58133724728805,
          47.6016773652882,
          53.58488903194815,
          52.20081985979854,
          58.22062564327166,
          48.27925979222378,
          47.20852545866369,
          51.00218699626966,
          44.701382927819,
          39.75617543948038,
          35.03951451397116,
          40.255021402042864,
          48.07212013771355,
          39.29932379168529,
          30.826491176358033,
          39.043467342314415,
          39.88169204532251,
          38.628999074277345,
          41.06765935812072,
          35.309820848356026,
          41.67364985780686,
          42.38130318750058,
          46.30135248487683,
          49.62157912898428,
          51.93472097778037,
          52.59422467050581,
          47.41985660162575,
          43.3501801486727,
          52.157046133122506,
          56.87106667227096
         ]
        }
       ],
       "layout": {
        "annotations": [
         {
          "align": "center",
          "bgcolor": "white",
          "font": {
           "color": "black",
           "size": 12
          },
          "opacity": 0.7,
          "showarrow": false,
          "text": "",
          "x": 0.95,
          "xref": "paper",
          "y": 0.95,
          "yref": "paper"
         }
        ],
        "template": {
         "data": {
          "bar": [
           {
            "error_x": {
             "color": "#2a3f5f"
            },
            "error_y": {
             "color": "#2a3f5f"
            },
            "marker": {
             "line": {
              "color": "#E5ECF6",
              "width": 0.5
             },
             "pattern": {
              "fillmode": "overlay",
              "size": 10,
              "solidity": 0.2
             }
            },
            "type": "bar"
           }
          ],
          "barpolar": [
           {
            "marker": {
             "line": {
              "color": "#E5ECF6",
              "width": 0.5
             },
             "pattern": {
              "fillmode": "overlay",
              "size": 10,
              "solidity": 0.2
             }
            },
            "type": "barpolar"
           }
          ],
          "carpet": [
           {
            "aaxis": {
             "endlinecolor": "#2a3f5f",
             "gridcolor": "white",
             "linecolor": "white",
             "minorgridcolor": "white",
             "startlinecolor": "#2a3f5f"
            },
            "baxis": {
             "endlinecolor": "#2a3f5f",
             "gridcolor": "white",
             "linecolor": "white",
             "minorgridcolor": "white",
             "startlinecolor": "#2a3f5f"
            },
            "type": "carpet"
           }
          ],
          "choropleth": [
           {
            "colorbar": {
             "outlinewidth": 0,
             "ticks": ""
            },
            "type": "choropleth"
           }
          ],
          "contour": [
           {
            "colorbar": {
             "outlinewidth": 0,
             "ticks": ""
            },
            "colorscale": [
             [
              0,
              "#0d0887"
             ],
             [
              0.1111111111111111,
              "#46039f"
             ],
             [
              0.2222222222222222,
              "#7201a8"
             ],
             [
              0.3333333333333333,
              "#9c179e"
             ],
             [
              0.4444444444444444,
              "#bd3786"
             ],
             [
              0.5555555555555556,
              "#d8576b"
             ],
             [
              0.6666666666666666,
              "#ed7953"
             ],
             [
              0.7777777777777778,
              "#fb9f3a"
             ],
             [
              0.8888888888888888,
              "#fdca26"
             ],
             [
              1,
              "#f0f921"
             ]
            ],
            "type": "contour"
           }
          ],
          "contourcarpet": [
           {
            "colorbar": {
             "outlinewidth": 0,
             "ticks": ""
            },
            "type": "contourcarpet"
           }
          ],
          "heatmap": [
           {
            "colorbar": {
             "outlinewidth": 0,
             "ticks": ""
            },
            "colorscale": [
             [
              0,
              "#0d0887"
             ],
             [
              0.1111111111111111,
              "#46039f"
             ],
             [
              0.2222222222222222,
              "#7201a8"
             ],
             [
              0.3333333333333333,
              "#9c179e"
             ],
             [
              0.4444444444444444,
              "#bd3786"
             ],
             [
              0.5555555555555556,
              "#d8576b"
             ],
             [
              0.6666666666666666,
              "#ed7953"
             ],
             [
              0.7777777777777778,
              "#fb9f3a"
             ],
             [
              0.8888888888888888,
              "#fdca26"
             ],
             [
              1,
              "#f0f921"
             ]
            ],
            "type": "heatmap"
           }
          ],
          "heatmapgl": [
           {
            "colorbar": {
             "outlinewidth": 0,
             "ticks": ""
            },
            "colorscale": [
             [
              0,
              "#0d0887"
             ],
             [
              0.1111111111111111,
              "#46039f"
             ],
             [
              0.2222222222222222,
              "#7201a8"
             ],
             [
              0.3333333333333333,
              "#9c179e"
             ],
             [
              0.4444444444444444,
              "#bd3786"
             ],
             [
              0.5555555555555556,
              "#d8576b"
             ],
             [
              0.6666666666666666,
              "#ed7953"
             ],
             [
              0.7777777777777778,
              "#fb9f3a"
             ],
             [
              0.8888888888888888,
              "#fdca26"
             ],
             [
              1,
              "#f0f921"
             ]
            ],
            "type": "heatmapgl"
           }
          ],
          "histogram": [
           {
            "marker": {
             "pattern": {
              "fillmode": "overlay",
              "size": 10,
              "solidity": 0.2
             }
            },
            "type": "histogram"
           }
          ],
          "histogram2d": [
           {
            "colorbar": {
             "outlinewidth": 0,
             "ticks": ""
            },
            "colorscale": [
             [
              0,
              "#0d0887"
             ],
             [
              0.1111111111111111,
              "#46039f"
             ],
             [
              0.2222222222222222,
              "#7201a8"
             ],
             [
              0.3333333333333333,
              "#9c179e"
             ],
             [
              0.4444444444444444,
              "#bd3786"
             ],
             [
              0.5555555555555556,
              "#d8576b"
             ],
             [
              0.6666666666666666,
              "#ed7953"
             ],
             [
              0.7777777777777778,
              "#fb9f3a"
             ],
             [
              0.8888888888888888,
              "#fdca26"
             ],
             [
              1,
              "#f0f921"
             ]
            ],
            "type": "histogram2d"
           }
          ],
          "histogram2dcontour": [
           {
            "colorbar": {
             "outlinewidth": 0,
             "ticks": ""
            },
            "colorscale": [
             [
              0,
              "#0d0887"
             ],
             [
              0.1111111111111111,
              "#46039f"
             ],
             [
              0.2222222222222222,
              "#7201a8"
             ],
             [
              0.3333333333333333,
              "#9c179e"
             ],
             [
              0.4444444444444444,
              "#bd3786"
             ],
             [
              0.5555555555555556,
              "#d8576b"
             ],
             [
              0.6666666666666666,
              "#ed7953"
             ],
             [
              0.7777777777777778,
              "#fb9f3a"
             ],
             [
              0.8888888888888888,
              "#fdca26"
             ],
             [
              1,
              "#f0f921"
             ]
            ],
            "type": "histogram2dcontour"
           }
          ],
          "mesh3d": [
           {
            "colorbar": {
             "outlinewidth": 0,
             "ticks": ""
            },
            "type": "mesh3d"
           }
          ],
          "parcoords": [
           {
            "line": {
             "colorbar": {
              "outlinewidth": 0,
              "ticks": ""
             }
            },
            "type": "parcoords"
           }
          ],
          "pie": [
           {
            "automargin": true,
            "type": "pie"
           }
          ],
          "scatter": [
           {
            "fillpattern": {
             "fillmode": "overlay",
             "size": 10,
             "solidity": 0.2
            },
            "type": "scatter"
           }
          ],
          "scatter3d": [
           {
            "line": {
             "colorbar": {
              "outlinewidth": 0,
              "ticks": ""
             }
            },
            "marker": {
             "colorbar": {
              "outlinewidth": 0,
              "ticks": ""
             }
            },
            "type": "scatter3d"
           }
          ],
          "scattercarpet": [
           {
            "marker": {
             "colorbar": {
              "outlinewidth": 0,
              "ticks": ""
             }
            },
            "type": "scattercarpet"
           }
          ],
          "scattergeo": [
           {
            "marker": {
             "colorbar": {
              "outlinewidth": 0,
              "ticks": ""
             }
            },
            "type": "scattergeo"
           }
          ],
          "scattergl": [
           {
            "marker": {
             "colorbar": {
              "outlinewidth": 0,
              "ticks": ""
             }
            },
            "type": "scattergl"
           }
          ],
          "scattermapbox": [
           {
            "marker": {
             "colorbar": {
              "outlinewidth": 0,
              "ticks": ""
             }
            },
            "type": "scattermapbox"
           }
          ],
          "scatterpolar": [
           {
            "marker": {
             "colorbar": {
              "outlinewidth": 0,
              "ticks": ""
             }
            },
            "type": "scatterpolar"
           }
          ],
          "scatterpolargl": [
           {
            "marker": {
             "colorbar": {
              "outlinewidth": 0,
              "ticks": ""
             }
            },
            "type": "scatterpolargl"
           }
          ],
          "scatterternary": [
           {
            "marker": {
             "colorbar": {
              "outlinewidth": 0,
              "ticks": ""
             }
            },
            "type": "scatterternary"
           }
          ],
          "surface": [
           {
            "colorbar": {
             "outlinewidth": 0,
             "ticks": ""
            },
            "colorscale": [
             [
              0,
              "#0d0887"
             ],
             [
              0.1111111111111111,
              "#46039f"
             ],
             [
              0.2222222222222222,
              "#7201a8"
             ],
             [
              0.3333333333333333,
              "#9c179e"
             ],
             [
              0.4444444444444444,
              "#bd3786"
             ],
             [
              0.5555555555555556,
              "#d8576b"
             ],
             [
              0.6666666666666666,
              "#ed7953"
             ],
             [
              0.7777777777777778,
              "#fb9f3a"
             ],
             [
              0.8888888888888888,
              "#fdca26"
             ],
             [
              1,
              "#f0f921"
             ]
            ],
            "type": "surface"
           }
          ],
          "table": [
           {
            "cells": {
             "fill": {
              "color": "#EBF0F8"
             },
             "line": {
              "color": "white"
             }
            },
            "header": {
             "fill": {
              "color": "#C8D4E3"
             },
             "line": {
              "color": "white"
             }
            },
            "type": "table"
           }
          ]
         },
         "layout": {
          "annotationdefaults": {
           "arrowcolor": "#2a3f5f",
           "arrowhead": 0,
           "arrowwidth": 1
          },
          "autotypenumbers": "strict",
          "coloraxis": {
           "colorbar": {
            "outlinewidth": 0,
            "ticks": ""
           }
          },
          "colorscale": {
           "diverging": [
            [
             0,
             "#8e0152"
            ],
            [
             0.1,
             "#c51b7d"
            ],
            [
             0.2,
             "#de77ae"
            ],
            [
             0.3,
             "#f1b6da"
            ],
            [
             0.4,
             "#fde0ef"
            ],
            [
             0.5,
             "#f7f7f7"
            ],
            [
             0.6,
             "#e6f5d0"
            ],
            [
             0.7,
             "#b8e186"
            ],
            [
             0.8,
             "#7fbc41"
            ],
            [
             0.9,
             "#4d9221"
            ],
            [
             1,
             "#276419"
            ]
           ],
           "sequential": [
            [
             0,
             "#0d0887"
            ],
            [
             0.1111111111111111,
             "#46039f"
            ],
            [
             0.2222222222222222,
             "#7201a8"
            ],
            [
             0.3333333333333333,
             "#9c179e"
            ],
            [
             0.4444444444444444,
             "#bd3786"
            ],
            [
             0.5555555555555556,
             "#d8576b"
            ],
            [
             0.6666666666666666,
             "#ed7953"
            ],
            [
             0.7777777777777778,
             "#fb9f3a"
            ],
            [
             0.8888888888888888,
             "#fdca26"
            ],
            [
             1,
             "#f0f921"
            ]
           ],
           "sequentialminus": [
            [
             0,
             "#0d0887"
            ],
            [
             0.1111111111111111,
             "#46039f"
            ],
            [
             0.2222222222222222,
             "#7201a8"
            ],
            [
             0.3333333333333333,
             "#9c179e"
            ],
            [
             0.4444444444444444,
             "#bd3786"
            ],
            [
             0.5555555555555556,
             "#d8576b"
            ],
            [
             0.6666666666666666,
             "#ed7953"
            ],
            [
             0.7777777777777778,
             "#fb9f3a"
            ],
            [
             0.8888888888888888,
             "#fdca26"
            ],
            [
             1,
             "#f0f921"
            ]
           ]
          },
          "colorway": [
           "#636efa",
           "#EF553B",
           "#00cc96",
           "#ab63fa",
           "#FFA15A",
           "#19d3f3",
           "#FF6692",
           "#B6E880",
           "#FF97FF",
           "#FECB52"
          ],
          "font": {
           "color": "#2a3f5f"
          },
          "geo": {
           "bgcolor": "white",
           "lakecolor": "white",
           "landcolor": "#E5ECF6",
           "showlakes": true,
           "showland": true,
           "subunitcolor": "white"
          },
          "hoverlabel": {
           "align": "left"
          },
          "hovermode": "closest",
          "mapbox": {
           "style": "light"
          },
          "paper_bgcolor": "white",
          "plot_bgcolor": "#E5ECF6",
          "polar": {
           "angularaxis": {
            "gridcolor": "white",
            "linecolor": "white",
            "ticks": ""
           },
           "bgcolor": "#E5ECF6",
           "radialaxis": {
            "gridcolor": "white",
            "linecolor": "white",
            "ticks": ""
           }
          },
          "scene": {
           "xaxis": {
            "backgroundcolor": "#E5ECF6",
            "gridcolor": "white",
            "gridwidth": 2,
            "linecolor": "white",
            "showbackground": true,
            "ticks": "",
            "zerolinecolor": "white"
           },
           "yaxis": {
            "backgroundcolor": "#E5ECF6",
            "gridcolor": "white",
            "gridwidth": 2,
            "linecolor": "white",
            "showbackground": true,
            "ticks": "",
            "zerolinecolor": "white"
           },
           "zaxis": {
            "backgroundcolor": "#E5ECF6",
            "gridcolor": "white",
            "gridwidth": 2,
            "linecolor": "white",
            "showbackground": true,
            "ticks": "",
            "zerolinecolor": "white"
           }
          },
          "shapedefaults": {
           "line": {
            "color": "#2a3f5f"
           }
          },
          "ternary": {
           "aaxis": {
            "gridcolor": "white",
            "linecolor": "white",
            "ticks": ""
           },
           "baxis": {
            "gridcolor": "white",
            "linecolor": "white",
            "ticks": ""
           },
           "bgcolor": "#E5ECF6",
           "caxis": {
            "gridcolor": "white",
            "linecolor": "white",
            "ticks": ""
           }
          },
          "title": {
           "x": 0.05
          },
          "xaxis": {
           "automargin": true,
           "gridcolor": "white",
           "linecolor": "white",
           "ticks": "",
           "title": {
            "standoff": 15
           },
           "zerolinecolor": "white",
           "zerolinewidth": 2
          },
          "yaxis": {
           "automargin": true,
           "gridcolor": "white",
           "linecolor": "white",
           "ticks": "",
           "title": {
            "standoff": 15
           },
           "zerolinecolor": "white",
           "zerolinewidth": 2
          }
         }
        },
        "title": {
         "text": "Retorno Acumulado da Estratégia vs. Retorno Acumulado do S&P 500 Index"
        },
        "xaxis": {
         "title": {
          "text": "Período"
         }
        },
        "yaxis": {
         "title": {
          "text": "Retornos Acumulado"
         }
        }
       }
      }
     },
     "metadata": {},
     "output_type": "display_data"
    }
   ],
   "source": [
    "#\n",
    "average_monthly_cumulative_returns = average_monthly_results.cumsum()\n",
    "#\n",
    "average_monthly_cumulative_returns.name = \"Retornos Acumulados da Média das Previsões\"\n",
    "#\n",
    "plot_multiples_time_series_line_graphs([average_monthly_cumulative_returns, sp500_index_cumulative_returns], \"Retorno Acumulado da Estratégia vs. Retorno Acumulado do S&P 500 Index\", \"Período\", \"Retornos Acumulado\")"
   ]
  },
  {
   "cell_type": "markdown",
   "metadata": {},
   "source": [
    "##### **Gráfico de dispersão (Adicionar área / intervalo de confiança para a linha de tendencia)**"
   ]
  },
  {
   "cell_type": "code",
   "execution_count": 30,
   "metadata": {},
   "outputs": [
    {
     "data": {
      "application/vnd.plotly.v1+json": {
       "config": {
        "plotlyServerURL": "https://plot.ly"
       },
       "data": [
        {
         "mode": "markers",
         "name": "Pontos de Dispersão",
         "type": "scatter",
         "x": [
          2.203167016955355,
          3.6570784839232706,
          -1.6797947266550932,
          1.7257253784573794,
          2.9145291085460574,
          -1.9659712631527295,
          5.490688600501024,
          -3.04191518633287,
          4.611032041784017,
          1.0398942165059932,
          3.1406565876359553,
          1.8489365969256006,
          -6.330832403896731,
          -20.214003817031237,
          14.19945444360034,
          7.274674396387298,
          -1.5394079670934353,
          5.918786865844358,
          6.403662603856873,
          -3.7893702514698737,
          6.175583484835031,
          4.93976209812391,
          3.6702597340330865,
          1.2220595127124094,
          3.458410389814939,
          0.795031389352416,
          3.718026059188602,
          -2.608525991678831,
          3.0338779688359843,
          2.8343549565653663,
          1.176507276972257,
          2.2989996432413284,
          -4.9796598819998525,
          5.983211666659955,
          -1.3840691721496063,
          6.0198057834731165,
          -9.941365851047877,
          -1.070734333560089,
          3.79366153760596,
          -6.3008040684506605,
          -4.945207488338616,
          -4.716660925509215,
          5.215506888071703,
          7.817098735670681,
          -8.77279634602826,
          -8.472832615327256,
          8.216976165956384,
          0.8382247030080929,
          -1.2526929710451613,
          2.438660283843375,
          -5.757838509764697,
          6.363829009450829,
          0.7076533296937205,
          3.9200492973762526,
          3.320226644107447,
          2.3131418487960893,
          0.6595036927254397,
          -5.174368068880059,
          -4.069676452953056,
          8.80686598444981,
          4.71402053914846
         ],
         "y": [
          0,
          5.577002606459757,
          5.178876013206677,
          5.855372346605575,
          5.292025736281285,
          4.676179059008398,
          7.5337557036293035,
          6.311692793635278,
          3.2075523394957193,
          5.470284865014091,
          5.3273300875386225,
          5.360704444778302,
          7.395525275095937,
          1.3488340765401197,
          12.15016578082063,
          11.452912642950313,
          5.792798035493024,
          8.403461410573232,
          7.0973760504257895,
          1.9828093966567792,
          11.712463578599076,
          10.466658344388927,
          3.4897951075350973,
          8.07174187911318,
          10.165904189049439,
          9.835286990454557,
          8.095141362635147,
          2.786259027881886,
          8.262951686549464,
          5.637537802174345,
          4.236624101444635,
          4.9529517024957155,
          2.829940381546569,
          7.429114676389931,
          0.02380181273465798,
          8.525947654612988,
          2.268174438918849,
          4.8809301690847064,
          5.863309191118724,
          5.882548606706828,
          6.478598668390863,
          -1.7973079272116557,
          8.676381494161998,
          10.60464720404058,
          -0.061876824447455736,
          4.641112841899341,
          17.769724239311717,
          9.335147217142104,
          6.848283449481576,
          6.38308724748879,
          -1.0954900123751368,
          7.597723689798504,
          6.288554243820957,
          2.429959513693066,
          4.591508921744941,
          5.1132534154941025,
          1.3648234296103903,
          2.5029441033080233,
          4.364491528355685,
          7.13032669833558,
          7.5372279063229515
         ]
        },
        {
         "line": {
          "color": "red",
          "dash": "dash",
          "width": 2
         },
         "mode": "lines",
         "name": "Linha de Tendência",
         "type": "scatter",
         "x": [
          2.203167016955355,
          3.6570784839232706,
          -1.6797947266550932,
          1.7257253784573794,
          2.9145291085460574,
          -1.9659712631527295,
          5.490688600501024,
          -3.04191518633287,
          4.611032041784017,
          1.0398942165059932,
          3.1406565876359553,
          1.8489365969256006,
          -6.330832403896731,
          -20.214003817031237,
          14.19945444360034,
          7.274674396387298,
          -1.5394079670934353,
          5.918786865844358,
          6.403662603856873,
          -3.7893702514698737,
          6.175583484835031,
          4.93976209812391,
          3.6702597340330865,
          1.2220595127124094,
          3.458410389814939,
          0.795031389352416,
          3.718026059188602,
          -2.608525991678831,
          3.0338779688359843,
          2.8343549565653663,
          1.176507276972257,
          2.2989996432413284,
          -4.9796598819998525,
          5.983211666659955,
          -1.3840691721496063,
          6.0198057834731165,
          -9.941365851047877,
          -1.070734333560089,
          3.79366153760596,
          -6.3008040684506605,
          -4.945207488338616,
          -4.716660925509215,
          5.215506888071703,
          7.817098735670681,
          -8.77279634602826,
          -8.472832615327256,
          8.216976165956384,
          0.8382247030080929,
          -1.2526929710451613,
          2.438660283843375,
          -5.757838509764697,
          6.363829009450829,
          0.7076533296937205,
          3.9200492973762526,
          3.320226644107447,
          2.3131418487960893,
          0.6595036927254397,
          -5.174368068880059,
          -4.069676452953056,
          8.80686598444981,
          4.71402053914846
         ],
         "y": [
          6.358597718831468,
          6.927610657196912,
          4.83893471218352,
          6.1717428271878205,
          6.637001351496913,
          4.7269346656721885,
          7.645225108939547,
          4.305845743028258,
          7.300956579115066,
          5.903331157322948,
          6.725500179826845,
          6.219963629522091,
          3.018672147850876,
          -2.414742705182352,
          11.053548486602207,
          8.343418240214897,
          4.893877454145914,
          7.81276863370462,
          8.002532986415858,
          4.013316512347718,
          7.913270350661927,
          7.4296106681271645,
          6.932769363230063,
          5.97462463895343,
          6.849858525408726,
          5.807499932423336,
          6.9514635255976955,
          4.475459962813052,
          6.683710554379647,
          6.605623835853109,
          5.956796998071228,
          6.3961034442577755,
          3.5474764556720184,
          7.837982373363844,
          4.95467192902372,
          7.85230410230527,
          1.605628580545738,
          5.077300838175874,
          6.981064754280959,
          3.030424246774771,
          3.560959984893909,
          3.6504055627185936,
          7.5375280735069925,
          8.555705215143462,
          2.0629680973198625,
          2.1803639963736017,
          8.712204036950961,
          5.824404369095958,
          5.00608823594482,
          6.450762007236648,
          3.2429230371058284,
          7.986943432915803,
          5.773303045195565,
          7.030528749987863,
          6.795777970322837,
          6.40163823652024,
          5.754458867241809,
          3.471274100812292,
          3.9036139211159218,
          8.943067433078376,
          7.341262876186508
         ]
        }
       ],
       "layout": {
        "template": {
         "data": {
          "bar": [
           {
            "error_x": {
             "color": "#2a3f5f"
            },
            "error_y": {
             "color": "#2a3f5f"
            },
            "marker": {
             "line": {
              "color": "#E5ECF6",
              "width": 0.5
             },
             "pattern": {
              "fillmode": "overlay",
              "size": 10,
              "solidity": 0.2
             }
            },
            "type": "bar"
           }
          ],
          "barpolar": [
           {
            "marker": {
             "line": {
              "color": "#E5ECF6",
              "width": 0.5
             },
             "pattern": {
              "fillmode": "overlay",
              "size": 10,
              "solidity": 0.2
             }
            },
            "type": "barpolar"
           }
          ],
          "carpet": [
           {
            "aaxis": {
             "endlinecolor": "#2a3f5f",
             "gridcolor": "white",
             "linecolor": "white",
             "minorgridcolor": "white",
             "startlinecolor": "#2a3f5f"
            },
            "baxis": {
             "endlinecolor": "#2a3f5f",
             "gridcolor": "white",
             "linecolor": "white",
             "minorgridcolor": "white",
             "startlinecolor": "#2a3f5f"
            },
            "type": "carpet"
           }
          ],
          "choropleth": [
           {
            "colorbar": {
             "outlinewidth": 0,
             "ticks": ""
            },
            "type": "choropleth"
           }
          ],
          "contour": [
           {
            "colorbar": {
             "outlinewidth": 0,
             "ticks": ""
            },
            "colorscale": [
             [
              0,
              "#0d0887"
             ],
             [
              0.1111111111111111,
              "#46039f"
             ],
             [
              0.2222222222222222,
              "#7201a8"
             ],
             [
              0.3333333333333333,
              "#9c179e"
             ],
             [
              0.4444444444444444,
              "#bd3786"
             ],
             [
              0.5555555555555556,
              "#d8576b"
             ],
             [
              0.6666666666666666,
              "#ed7953"
             ],
             [
              0.7777777777777778,
              "#fb9f3a"
             ],
             [
              0.8888888888888888,
              "#fdca26"
             ],
             [
              1,
              "#f0f921"
             ]
            ],
            "type": "contour"
           }
          ],
          "contourcarpet": [
           {
            "colorbar": {
             "outlinewidth": 0,
             "ticks": ""
            },
            "type": "contourcarpet"
           }
          ],
          "heatmap": [
           {
            "colorbar": {
             "outlinewidth": 0,
             "ticks": ""
            },
            "colorscale": [
             [
              0,
              "#0d0887"
             ],
             [
              0.1111111111111111,
              "#46039f"
             ],
             [
              0.2222222222222222,
              "#7201a8"
             ],
             [
              0.3333333333333333,
              "#9c179e"
             ],
             [
              0.4444444444444444,
              "#bd3786"
             ],
             [
              0.5555555555555556,
              "#d8576b"
             ],
             [
              0.6666666666666666,
              "#ed7953"
             ],
             [
              0.7777777777777778,
              "#fb9f3a"
             ],
             [
              0.8888888888888888,
              "#fdca26"
             ],
             [
              1,
              "#f0f921"
             ]
            ],
            "type": "heatmap"
           }
          ],
          "heatmapgl": [
           {
            "colorbar": {
             "outlinewidth": 0,
             "ticks": ""
            },
            "colorscale": [
             [
              0,
              "#0d0887"
             ],
             [
              0.1111111111111111,
              "#46039f"
             ],
             [
              0.2222222222222222,
              "#7201a8"
             ],
             [
              0.3333333333333333,
              "#9c179e"
             ],
             [
              0.4444444444444444,
              "#bd3786"
             ],
             [
              0.5555555555555556,
              "#d8576b"
             ],
             [
              0.6666666666666666,
              "#ed7953"
             ],
             [
              0.7777777777777778,
              "#fb9f3a"
             ],
             [
              0.8888888888888888,
              "#fdca26"
             ],
             [
              1,
              "#f0f921"
             ]
            ],
            "type": "heatmapgl"
           }
          ],
          "histogram": [
           {
            "marker": {
             "pattern": {
              "fillmode": "overlay",
              "size": 10,
              "solidity": 0.2
             }
            },
            "type": "histogram"
           }
          ],
          "histogram2d": [
           {
            "colorbar": {
             "outlinewidth": 0,
             "ticks": ""
            },
            "colorscale": [
             [
              0,
              "#0d0887"
             ],
             [
              0.1111111111111111,
              "#46039f"
             ],
             [
              0.2222222222222222,
              "#7201a8"
             ],
             [
              0.3333333333333333,
              "#9c179e"
             ],
             [
              0.4444444444444444,
              "#bd3786"
             ],
             [
              0.5555555555555556,
              "#d8576b"
             ],
             [
              0.6666666666666666,
              "#ed7953"
             ],
             [
              0.7777777777777778,
              "#fb9f3a"
             ],
             [
              0.8888888888888888,
              "#fdca26"
             ],
             [
              1,
              "#f0f921"
             ]
            ],
            "type": "histogram2d"
           }
          ],
          "histogram2dcontour": [
           {
            "colorbar": {
             "outlinewidth": 0,
             "ticks": ""
            },
            "colorscale": [
             [
              0,
              "#0d0887"
             ],
             [
              0.1111111111111111,
              "#46039f"
             ],
             [
              0.2222222222222222,
              "#7201a8"
             ],
             [
              0.3333333333333333,
              "#9c179e"
             ],
             [
              0.4444444444444444,
              "#bd3786"
             ],
             [
              0.5555555555555556,
              "#d8576b"
             ],
             [
              0.6666666666666666,
              "#ed7953"
             ],
             [
              0.7777777777777778,
              "#fb9f3a"
             ],
             [
              0.8888888888888888,
              "#fdca26"
             ],
             [
              1,
              "#f0f921"
             ]
            ],
            "type": "histogram2dcontour"
           }
          ],
          "mesh3d": [
           {
            "colorbar": {
             "outlinewidth": 0,
             "ticks": ""
            },
            "type": "mesh3d"
           }
          ],
          "parcoords": [
           {
            "line": {
             "colorbar": {
              "outlinewidth": 0,
              "ticks": ""
             }
            },
            "type": "parcoords"
           }
          ],
          "pie": [
           {
            "automargin": true,
            "type": "pie"
           }
          ],
          "scatter": [
           {
            "fillpattern": {
             "fillmode": "overlay",
             "size": 10,
             "solidity": 0.2
            },
            "type": "scatter"
           }
          ],
          "scatter3d": [
           {
            "line": {
             "colorbar": {
              "outlinewidth": 0,
              "ticks": ""
             }
            },
            "marker": {
             "colorbar": {
              "outlinewidth": 0,
              "ticks": ""
             }
            },
            "type": "scatter3d"
           }
          ],
          "scattercarpet": [
           {
            "marker": {
             "colorbar": {
              "outlinewidth": 0,
              "ticks": ""
             }
            },
            "type": "scattercarpet"
           }
          ],
          "scattergeo": [
           {
            "marker": {
             "colorbar": {
              "outlinewidth": 0,
              "ticks": ""
             }
            },
            "type": "scattergeo"
           }
          ],
          "scattergl": [
           {
            "marker": {
             "colorbar": {
              "outlinewidth": 0,
              "ticks": ""
             }
            },
            "type": "scattergl"
           }
          ],
          "scattermapbox": [
           {
            "marker": {
             "colorbar": {
              "outlinewidth": 0,
              "ticks": ""
             }
            },
            "type": "scattermapbox"
           }
          ],
          "scatterpolar": [
           {
            "marker": {
             "colorbar": {
              "outlinewidth": 0,
              "ticks": ""
             }
            },
            "type": "scatterpolar"
           }
          ],
          "scatterpolargl": [
           {
            "marker": {
             "colorbar": {
              "outlinewidth": 0,
              "ticks": ""
             }
            },
            "type": "scatterpolargl"
           }
          ],
          "scatterternary": [
           {
            "marker": {
             "colorbar": {
              "outlinewidth": 0,
              "ticks": ""
             }
            },
            "type": "scatterternary"
           }
          ],
          "surface": [
           {
            "colorbar": {
             "outlinewidth": 0,
             "ticks": ""
            },
            "colorscale": [
             [
              0,
              "#0d0887"
             ],
             [
              0.1111111111111111,
              "#46039f"
             ],
             [
              0.2222222222222222,
              "#7201a8"
             ],
             [
              0.3333333333333333,
              "#9c179e"
             ],
             [
              0.4444444444444444,
              "#bd3786"
             ],
             [
              0.5555555555555556,
              "#d8576b"
             ],
             [
              0.6666666666666666,
              "#ed7953"
             ],
             [
              0.7777777777777778,
              "#fb9f3a"
             ],
             [
              0.8888888888888888,
              "#fdca26"
             ],
             [
              1,
              "#f0f921"
             ]
            ],
            "type": "surface"
           }
          ],
          "table": [
           {
            "cells": {
             "fill": {
              "color": "#EBF0F8"
             },
             "line": {
              "color": "white"
             }
            },
            "header": {
             "fill": {
              "color": "#C8D4E3"
             },
             "line": {
              "color": "white"
             }
            },
            "type": "table"
           }
          ]
         },
         "layout": {
          "annotationdefaults": {
           "arrowcolor": "#2a3f5f",
           "arrowhead": 0,
           "arrowwidth": 1
          },
          "autotypenumbers": "strict",
          "coloraxis": {
           "colorbar": {
            "outlinewidth": 0,
            "ticks": ""
           }
          },
          "colorscale": {
           "diverging": [
            [
             0,
             "#8e0152"
            ],
            [
             0.1,
             "#c51b7d"
            ],
            [
             0.2,
             "#de77ae"
            ],
            [
             0.3,
             "#f1b6da"
            ],
            [
             0.4,
             "#fde0ef"
            ],
            [
             0.5,
             "#f7f7f7"
            ],
            [
             0.6,
             "#e6f5d0"
            ],
            [
             0.7,
             "#b8e186"
            ],
            [
             0.8,
             "#7fbc41"
            ],
            [
             0.9,
             "#4d9221"
            ],
            [
             1,
             "#276419"
            ]
           ],
           "sequential": [
            [
             0,
             "#0d0887"
            ],
            [
             0.1111111111111111,
             "#46039f"
            ],
            [
             0.2222222222222222,
             "#7201a8"
            ],
            [
             0.3333333333333333,
             "#9c179e"
            ],
            [
             0.4444444444444444,
             "#bd3786"
            ],
            [
             0.5555555555555556,
             "#d8576b"
            ],
            [
             0.6666666666666666,
             "#ed7953"
            ],
            [
             0.7777777777777778,
             "#fb9f3a"
            ],
            [
             0.8888888888888888,
             "#fdca26"
            ],
            [
             1,
             "#f0f921"
            ]
           ],
           "sequentialminus": [
            [
             0,
             "#0d0887"
            ],
            [
             0.1111111111111111,
             "#46039f"
            ],
            [
             0.2222222222222222,
             "#7201a8"
            ],
            [
             0.3333333333333333,
             "#9c179e"
            ],
            [
             0.4444444444444444,
             "#bd3786"
            ],
            [
             0.5555555555555556,
             "#d8576b"
            ],
            [
             0.6666666666666666,
             "#ed7953"
            ],
            [
             0.7777777777777778,
             "#fb9f3a"
            ],
            [
             0.8888888888888888,
             "#fdca26"
            ],
            [
             1,
             "#f0f921"
            ]
           ]
          },
          "colorway": [
           "#636efa",
           "#EF553B",
           "#00cc96",
           "#ab63fa",
           "#FFA15A",
           "#19d3f3",
           "#FF6692",
           "#B6E880",
           "#FF97FF",
           "#FECB52"
          ],
          "font": {
           "color": "#2a3f5f"
          },
          "geo": {
           "bgcolor": "white",
           "lakecolor": "white",
           "landcolor": "#E5ECF6",
           "showlakes": true,
           "showland": true,
           "subunitcolor": "white"
          },
          "hoverlabel": {
           "align": "left"
          },
          "hovermode": "closest",
          "mapbox": {
           "style": "light"
          },
          "paper_bgcolor": "white",
          "plot_bgcolor": "#E5ECF6",
          "polar": {
           "angularaxis": {
            "gridcolor": "white",
            "linecolor": "white",
            "ticks": ""
           },
           "bgcolor": "#E5ECF6",
           "radialaxis": {
            "gridcolor": "white",
            "linecolor": "white",
            "ticks": ""
           }
          },
          "scene": {
           "xaxis": {
            "backgroundcolor": "#E5ECF6",
            "gridcolor": "white",
            "gridwidth": 2,
            "linecolor": "white",
            "showbackground": true,
            "ticks": "",
            "zerolinecolor": "white"
           },
           "yaxis": {
            "backgroundcolor": "#E5ECF6",
            "gridcolor": "white",
            "gridwidth": 2,
            "linecolor": "white",
            "showbackground": true,
            "ticks": "",
            "zerolinecolor": "white"
           },
           "zaxis": {
            "backgroundcolor": "#E5ECF6",
            "gridcolor": "white",
            "gridwidth": 2,
            "linecolor": "white",
            "showbackground": true,
            "ticks": "",
            "zerolinecolor": "white"
           }
          },
          "shapedefaults": {
           "line": {
            "color": "#2a3f5f"
           }
          },
          "ternary": {
           "aaxis": {
            "gridcolor": "white",
            "linecolor": "white",
            "ticks": ""
           },
           "baxis": {
            "gridcolor": "white",
            "linecolor": "white",
            "ticks": ""
           },
           "bgcolor": "#E5ECF6",
           "caxis": {
            "gridcolor": "white",
            "linecolor": "white",
            "ticks": ""
           }
          },
          "title": {
           "x": 0.05
          },
          "xaxis": {
           "automargin": true,
           "gridcolor": "white",
           "linecolor": "white",
           "ticks": "",
           "title": {
            "standoff": 15
           },
           "zerolinecolor": "white",
           "zerolinewidth": 2
          },
          "yaxis": {
           "automargin": true,
           "gridcolor": "white",
           "linecolor": "white",
           "ticks": "",
           "title": {
            "standoff": 15
           },
           "zerolinecolor": "white",
           "zerolinewidth": 2
          }
         }
        },
        "title": {
         "text": "Gráfico de Dispersão dos Retornos da Estratégia vs. Retornos do S&P 500 Index"
        },
        "xaxis": {
         "title": {
          "text": "Retornos do S&P 500 Index"
         }
        },
        "yaxis": {
         "title": {
          "text": "Retornos da Estratégia"
         }
        }
       }
      }
     },
     "metadata": {},
     "output_type": "display_data"
    }
   ],
   "source": [
    "# \n",
    "fig = go.Figure(data=go.Scatter(\n",
    "    #\n",
    "    x=sp500_index_period_returns,\n",
    "    #\n",
    "    y=average_monthly_results,\n",
    "    #\n",
    "    mode='markers',\n",
    "    name=\"Pontos de Dispersão\"\n",
    "))\n",
    "\n",
    "# Calcula a linha de tendência (regressão linear)\n",
    "slope, intercept = np.polyfit(sp500_index_period_returns, average_monthly_results, 1)  # Retorna o coeficiente angular (slope) e o intercept\n",
    "line = slope * sp500_index_period_returns + intercept  # Equação da linha de tendência\n",
    "\n",
    "# Adiciona a linha de tendência\n",
    "fig.add_trace(go.Scatter(\n",
    "    x= sp500_index_period_returns, \n",
    "    y=line, \n",
    "    mode='lines', \n",
    "    name='Linha de Tendência', \n",
    "    line=dict(color='red', width=2, dash='dash')\n",
    "))\n",
    "\n",
    "# Adiciona títulos e rótulos\n",
    "fig.update_layout(\n",
    "    title=\"Gráfico de Dispersão dos Retornos da Estratégia vs. Retornos do S&P 500 Index\",\n",
    "    xaxis_title=\"Retornos do S&P 500 Index\",\n",
    "    yaxis_title=\"Retornos da Estratégia\"\n",
    ")\n",
    "\n",
    "# Exibe o gráfico\n",
    "fig.show()"
   ]
  },
  {
   "cell_type": "markdown",
   "metadata": {},
   "source": [
    "##### **Gráfico de barras dos Retornos da Estratégia vs. Retornos do S&P 500 Index**"
   ]
  },
  {
   "cell_type": "code",
   "execution_count": 31,
   "metadata": {},
   "outputs": [
    {
     "data": {
      "application/vnd.plotly.v1+json": {
       "config": {
        "plotlyServerURL": "https://plot.ly"
       },
       "data": [
        {
         "name": "Retornos da Média das Previsões",
         "type": "bar",
         "x": [
          "2019-02-22T00:00:00",
          "2019-03-21T00:00:00",
          "2019-04-18T00:00:00",
          "2019-05-17T00:00:00",
          "2019-06-17T00:00:00",
          "2019-07-16T00:00:00",
          "2019-08-13T00:00:00",
          "2019-09-11T00:00:00",
          "2019-10-09T00:00:00",
          "2019-11-06T00:00:00",
          "2019-12-05T00:00:00",
          "2020-01-06T00:00:00",
          "2020-02-04T00:00:00",
          "2020-03-04T00:00:00",
          "2020-04-30T00:00:00",
          "2020-05-29T00:00:00",
          "2020-06-26T00:00:00",
          "2020-07-27T00:00:00",
          "2020-08-24T00:00:00",
          "2020-09-22T00:00:00",
          "2020-10-20T00:00:00",
          "2020-11-17T00:00:00",
          "2020-12-16T00:00:00",
          "2021-01-15T00:00:00",
          "2021-02-16T00:00:00",
          "2021-03-16T00:00:00",
          "2021-04-14T00:00:00",
          "2021-05-12T00:00:00",
          "2021-06-10T00:00:00",
          "2021-07-09T00:00:00",
          "2021-08-06T00:00:00",
          "2021-09-03T00:00:00",
          "2021-10-04T00:00:00",
          "2021-11-01T00:00:00",
          "2021-11-30T00:00:00",
          "2021-12-29T00:00:00",
          "2022-01-27T00:00:00",
          "2022-02-25T00:00:00",
          "2022-03-25T00:00:00",
          "2022-04-25T00:00:00",
          "2022-05-23T00:00:00",
          "2022-06-22T00:00:00",
          "2022-07-21T00:00:00",
          "2022-08-18T00:00:00",
          "2022-09-16T00:00:00",
          "2022-10-14T00:00:00",
          "2022-11-11T00:00:00",
          "2022-12-12T00:00:00",
          "2023-01-11T00:00:00",
          "2023-02-09T00:00:00",
          "2023-03-10T00:00:00",
          "2023-04-10T00:00:00",
          "2023-05-08T00:00:00",
          "2023-06-06T00:00:00",
          "2023-07-06T00:00:00",
          "2023-08-03T00:00:00",
          "2023-08-31T00:00:00",
          "2023-09-29T00:00:00",
          "2023-10-27T00:00:00",
          "2023-11-27T00:00:00",
          "2023-12-26T00:00:00"
         ],
         "y": [
          0,
          5.577002606459757,
          5.178876013206677,
          5.855372346605575,
          5.292025736281285,
          4.676179059008398,
          7.5337557036293035,
          6.311692793635278,
          3.2075523394957193,
          5.470284865014091,
          5.3273300875386225,
          5.360704444778302,
          7.395525275095937,
          1.3488340765401197,
          12.15016578082063,
          11.452912642950313,
          5.792798035493024,
          8.403461410573232,
          7.0973760504257895,
          1.9828093966567792,
          11.712463578599076,
          10.466658344388927,
          3.4897951075350973,
          8.07174187911318,
          10.165904189049439,
          9.835286990454557,
          8.095141362635147,
          2.786259027881886,
          8.262951686549464,
          5.637537802174345,
          4.236624101444635,
          4.9529517024957155,
          2.829940381546569,
          7.429114676389931,
          0.02380181273465798,
          8.525947654612988,
          2.268174438918849,
          4.8809301690847064,
          5.863309191118724,
          5.882548606706828,
          6.478598668390863,
          -1.7973079272116557,
          8.676381494161998,
          10.60464720404058,
          -0.061876824447455736,
          4.641112841899341,
          17.769724239311717,
          9.335147217142104,
          6.848283449481576,
          6.38308724748879,
          -1.0954900123751368,
          7.597723689798504,
          6.288554243820957,
          2.429959513693066,
          4.591508921744941,
          5.1132534154941025,
          1.3648234296103903,
          2.5029441033080233,
          4.364491528355685,
          7.13032669833558,
          7.5372279063229515
         ]
        },
        {
         "name": "Retornos do S&P500 Index",
         "type": "bar",
         "x": [
          "2019-02-22T00:00:00",
          "2019-03-21T00:00:00",
          "2019-04-18T00:00:00",
          "2019-05-17T00:00:00",
          "2019-06-17T00:00:00",
          "2019-07-16T00:00:00",
          "2019-08-13T00:00:00",
          "2019-09-11T00:00:00",
          "2019-10-09T00:00:00",
          "2019-11-06T00:00:00",
          "2019-12-05T00:00:00",
          "2020-01-06T00:00:00",
          "2020-02-04T00:00:00",
          "2020-03-04T00:00:00",
          "2020-04-30T00:00:00",
          "2020-05-29T00:00:00",
          "2020-06-26T00:00:00",
          "2020-07-27T00:00:00",
          "2020-08-24T00:00:00",
          "2020-09-22T00:00:00",
          "2020-10-20T00:00:00",
          "2020-11-17T00:00:00",
          "2020-12-16T00:00:00",
          "2021-01-15T00:00:00",
          "2021-02-16T00:00:00",
          "2021-03-16T00:00:00",
          "2021-04-14T00:00:00",
          "2021-05-12T00:00:00",
          "2021-06-10T00:00:00",
          "2021-07-09T00:00:00",
          "2021-08-06T00:00:00",
          "2021-09-03T00:00:00",
          "2021-10-04T00:00:00",
          "2021-11-01T00:00:00",
          "2021-11-30T00:00:00",
          "2021-12-29T00:00:00",
          "2022-01-27T00:00:00",
          "2022-02-25T00:00:00",
          "2022-03-25T00:00:00",
          "2022-04-25T00:00:00",
          "2022-05-23T00:00:00",
          "2022-06-22T00:00:00",
          "2022-07-21T00:00:00",
          "2022-08-18T00:00:00",
          "2022-09-16T00:00:00",
          "2022-10-14T00:00:00",
          "2022-11-11T00:00:00",
          "2022-12-12T00:00:00",
          "2023-01-11T00:00:00",
          "2023-02-09T00:00:00",
          "2023-03-10T00:00:00",
          "2023-04-10T00:00:00",
          "2023-05-08T00:00:00",
          "2023-06-06T00:00:00",
          "2023-07-06T00:00:00",
          "2023-08-03T00:00:00",
          "2023-08-31T00:00:00",
          "2023-09-29T00:00:00",
          "2023-10-27T00:00:00",
          "2023-11-27T00:00:00",
          "2023-12-26T00:00:00"
         ],
         "y": [
          2.203167016955355,
          3.6570784839232706,
          -1.6797947266550932,
          1.7257253784573794,
          2.9145291085460574,
          -1.9659712631527295,
          5.490688600501024,
          -3.04191518633287,
          4.611032041784017,
          1.0398942165059932,
          3.1406565876359553,
          1.8489365969256006,
          -6.330832403896731,
          -20.214003817031237,
          14.19945444360034,
          7.274674396387298,
          -1.5394079670934353,
          5.918786865844358,
          6.403662603856873,
          -3.7893702514698737,
          6.175583484835031,
          4.93976209812391,
          3.6702597340330865,
          1.2220595127124094,
          3.458410389814939,
          0.795031389352416,
          3.718026059188602,
          -2.608525991678831,
          3.0338779688359843,
          2.8343549565653663,
          1.176507276972257,
          2.2989996432413284,
          -4.9796598819998525,
          5.983211666659955,
          -1.3840691721496063,
          6.0198057834731165,
          -9.941365851047877,
          -1.070734333560089,
          3.79366153760596,
          -6.3008040684506605,
          -4.945207488338616,
          -4.716660925509215,
          5.215506888071703,
          7.817098735670681,
          -8.77279634602826,
          -8.472832615327256,
          8.216976165956384,
          0.8382247030080929,
          -1.2526929710451613,
          2.438660283843375,
          -5.757838509764697,
          6.363829009450829,
          0.7076533296937205,
          3.9200492973762526,
          3.320226644107447,
          2.3131418487960893,
          0.6595036927254397,
          -5.174368068880059,
          -4.069676452953056,
          8.80686598444981,
          4.71402053914846
         ]
        }
       ],
       "layout": {
        "barmode": "stack",
        "template": {
         "data": {
          "bar": [
           {
            "error_x": {
             "color": "#2a3f5f"
            },
            "error_y": {
             "color": "#2a3f5f"
            },
            "marker": {
             "line": {
              "color": "#E5ECF6",
              "width": 0.5
             },
             "pattern": {
              "fillmode": "overlay",
              "size": 10,
              "solidity": 0.2
             }
            },
            "type": "bar"
           }
          ],
          "barpolar": [
           {
            "marker": {
             "line": {
              "color": "#E5ECF6",
              "width": 0.5
             },
             "pattern": {
              "fillmode": "overlay",
              "size": 10,
              "solidity": 0.2
             }
            },
            "type": "barpolar"
           }
          ],
          "carpet": [
           {
            "aaxis": {
             "endlinecolor": "#2a3f5f",
             "gridcolor": "white",
             "linecolor": "white",
             "minorgridcolor": "white",
             "startlinecolor": "#2a3f5f"
            },
            "baxis": {
             "endlinecolor": "#2a3f5f",
             "gridcolor": "white",
             "linecolor": "white",
             "minorgridcolor": "white",
             "startlinecolor": "#2a3f5f"
            },
            "type": "carpet"
           }
          ],
          "choropleth": [
           {
            "colorbar": {
             "outlinewidth": 0,
             "ticks": ""
            },
            "type": "choropleth"
           }
          ],
          "contour": [
           {
            "colorbar": {
             "outlinewidth": 0,
             "ticks": ""
            },
            "colorscale": [
             [
              0,
              "#0d0887"
             ],
             [
              0.1111111111111111,
              "#46039f"
             ],
             [
              0.2222222222222222,
              "#7201a8"
             ],
             [
              0.3333333333333333,
              "#9c179e"
             ],
             [
              0.4444444444444444,
              "#bd3786"
             ],
             [
              0.5555555555555556,
              "#d8576b"
             ],
             [
              0.6666666666666666,
              "#ed7953"
             ],
             [
              0.7777777777777778,
              "#fb9f3a"
             ],
             [
              0.8888888888888888,
              "#fdca26"
             ],
             [
              1,
              "#f0f921"
             ]
            ],
            "type": "contour"
           }
          ],
          "contourcarpet": [
           {
            "colorbar": {
             "outlinewidth": 0,
             "ticks": ""
            },
            "type": "contourcarpet"
           }
          ],
          "heatmap": [
           {
            "colorbar": {
             "outlinewidth": 0,
             "ticks": ""
            },
            "colorscale": [
             [
              0,
              "#0d0887"
             ],
             [
              0.1111111111111111,
              "#46039f"
             ],
             [
              0.2222222222222222,
              "#7201a8"
             ],
             [
              0.3333333333333333,
              "#9c179e"
             ],
             [
              0.4444444444444444,
              "#bd3786"
             ],
             [
              0.5555555555555556,
              "#d8576b"
             ],
             [
              0.6666666666666666,
              "#ed7953"
             ],
             [
              0.7777777777777778,
              "#fb9f3a"
             ],
             [
              0.8888888888888888,
              "#fdca26"
             ],
             [
              1,
              "#f0f921"
             ]
            ],
            "type": "heatmap"
           }
          ],
          "heatmapgl": [
           {
            "colorbar": {
             "outlinewidth": 0,
             "ticks": ""
            },
            "colorscale": [
             [
              0,
              "#0d0887"
             ],
             [
              0.1111111111111111,
              "#46039f"
             ],
             [
              0.2222222222222222,
              "#7201a8"
             ],
             [
              0.3333333333333333,
              "#9c179e"
             ],
             [
              0.4444444444444444,
              "#bd3786"
             ],
             [
              0.5555555555555556,
              "#d8576b"
             ],
             [
              0.6666666666666666,
              "#ed7953"
             ],
             [
              0.7777777777777778,
              "#fb9f3a"
             ],
             [
              0.8888888888888888,
              "#fdca26"
             ],
             [
              1,
              "#f0f921"
             ]
            ],
            "type": "heatmapgl"
           }
          ],
          "histogram": [
           {
            "marker": {
             "pattern": {
              "fillmode": "overlay",
              "size": 10,
              "solidity": 0.2
             }
            },
            "type": "histogram"
           }
          ],
          "histogram2d": [
           {
            "colorbar": {
             "outlinewidth": 0,
             "ticks": ""
            },
            "colorscale": [
             [
              0,
              "#0d0887"
             ],
             [
              0.1111111111111111,
              "#46039f"
             ],
             [
              0.2222222222222222,
              "#7201a8"
             ],
             [
              0.3333333333333333,
              "#9c179e"
             ],
             [
              0.4444444444444444,
              "#bd3786"
             ],
             [
              0.5555555555555556,
              "#d8576b"
             ],
             [
              0.6666666666666666,
              "#ed7953"
             ],
             [
              0.7777777777777778,
              "#fb9f3a"
             ],
             [
              0.8888888888888888,
              "#fdca26"
             ],
             [
              1,
              "#f0f921"
             ]
            ],
            "type": "histogram2d"
           }
          ],
          "histogram2dcontour": [
           {
            "colorbar": {
             "outlinewidth": 0,
             "ticks": ""
            },
            "colorscale": [
             [
              0,
              "#0d0887"
             ],
             [
              0.1111111111111111,
              "#46039f"
             ],
             [
              0.2222222222222222,
              "#7201a8"
             ],
             [
              0.3333333333333333,
              "#9c179e"
             ],
             [
              0.4444444444444444,
              "#bd3786"
             ],
             [
              0.5555555555555556,
              "#d8576b"
             ],
             [
              0.6666666666666666,
              "#ed7953"
             ],
             [
              0.7777777777777778,
              "#fb9f3a"
             ],
             [
              0.8888888888888888,
              "#fdca26"
             ],
             [
              1,
              "#f0f921"
             ]
            ],
            "type": "histogram2dcontour"
           }
          ],
          "mesh3d": [
           {
            "colorbar": {
             "outlinewidth": 0,
             "ticks": ""
            },
            "type": "mesh3d"
           }
          ],
          "parcoords": [
           {
            "line": {
             "colorbar": {
              "outlinewidth": 0,
              "ticks": ""
             }
            },
            "type": "parcoords"
           }
          ],
          "pie": [
           {
            "automargin": true,
            "type": "pie"
           }
          ],
          "scatter": [
           {
            "fillpattern": {
             "fillmode": "overlay",
             "size": 10,
             "solidity": 0.2
            },
            "type": "scatter"
           }
          ],
          "scatter3d": [
           {
            "line": {
             "colorbar": {
              "outlinewidth": 0,
              "ticks": ""
             }
            },
            "marker": {
             "colorbar": {
              "outlinewidth": 0,
              "ticks": ""
             }
            },
            "type": "scatter3d"
           }
          ],
          "scattercarpet": [
           {
            "marker": {
             "colorbar": {
              "outlinewidth": 0,
              "ticks": ""
             }
            },
            "type": "scattercarpet"
           }
          ],
          "scattergeo": [
           {
            "marker": {
             "colorbar": {
              "outlinewidth": 0,
              "ticks": ""
             }
            },
            "type": "scattergeo"
           }
          ],
          "scattergl": [
           {
            "marker": {
             "colorbar": {
              "outlinewidth": 0,
              "ticks": ""
             }
            },
            "type": "scattergl"
           }
          ],
          "scattermapbox": [
           {
            "marker": {
             "colorbar": {
              "outlinewidth": 0,
              "ticks": ""
             }
            },
            "type": "scattermapbox"
           }
          ],
          "scatterpolar": [
           {
            "marker": {
             "colorbar": {
              "outlinewidth": 0,
              "ticks": ""
             }
            },
            "type": "scatterpolar"
           }
          ],
          "scatterpolargl": [
           {
            "marker": {
             "colorbar": {
              "outlinewidth": 0,
              "ticks": ""
             }
            },
            "type": "scatterpolargl"
           }
          ],
          "scatterternary": [
           {
            "marker": {
             "colorbar": {
              "outlinewidth": 0,
              "ticks": ""
             }
            },
            "type": "scatterternary"
           }
          ],
          "surface": [
           {
            "colorbar": {
             "outlinewidth": 0,
             "ticks": ""
            },
            "colorscale": [
             [
              0,
              "#0d0887"
             ],
             [
              0.1111111111111111,
              "#46039f"
             ],
             [
              0.2222222222222222,
              "#7201a8"
             ],
             [
              0.3333333333333333,
              "#9c179e"
             ],
             [
              0.4444444444444444,
              "#bd3786"
             ],
             [
              0.5555555555555556,
              "#d8576b"
             ],
             [
              0.6666666666666666,
              "#ed7953"
             ],
             [
              0.7777777777777778,
              "#fb9f3a"
             ],
             [
              0.8888888888888888,
              "#fdca26"
             ],
             [
              1,
              "#f0f921"
             ]
            ],
            "type": "surface"
           }
          ],
          "table": [
           {
            "cells": {
             "fill": {
              "color": "#EBF0F8"
             },
             "line": {
              "color": "white"
             }
            },
            "header": {
             "fill": {
              "color": "#C8D4E3"
             },
             "line": {
              "color": "white"
             }
            },
            "type": "table"
           }
          ]
         },
         "layout": {
          "annotationdefaults": {
           "arrowcolor": "#2a3f5f",
           "arrowhead": 0,
           "arrowwidth": 1
          },
          "autotypenumbers": "strict",
          "coloraxis": {
           "colorbar": {
            "outlinewidth": 0,
            "ticks": ""
           }
          },
          "colorscale": {
           "diverging": [
            [
             0,
             "#8e0152"
            ],
            [
             0.1,
             "#c51b7d"
            ],
            [
             0.2,
             "#de77ae"
            ],
            [
             0.3,
             "#f1b6da"
            ],
            [
             0.4,
             "#fde0ef"
            ],
            [
             0.5,
             "#f7f7f7"
            ],
            [
             0.6,
             "#e6f5d0"
            ],
            [
             0.7,
             "#b8e186"
            ],
            [
             0.8,
             "#7fbc41"
            ],
            [
             0.9,
             "#4d9221"
            ],
            [
             1,
             "#276419"
            ]
           ],
           "sequential": [
            [
             0,
             "#0d0887"
            ],
            [
             0.1111111111111111,
             "#46039f"
            ],
            [
             0.2222222222222222,
             "#7201a8"
            ],
            [
             0.3333333333333333,
             "#9c179e"
            ],
            [
             0.4444444444444444,
             "#bd3786"
            ],
            [
             0.5555555555555556,
             "#d8576b"
            ],
            [
             0.6666666666666666,
             "#ed7953"
            ],
            [
             0.7777777777777778,
             "#fb9f3a"
            ],
            [
             0.8888888888888888,
             "#fdca26"
            ],
            [
             1,
             "#f0f921"
            ]
           ],
           "sequentialminus": [
            [
             0,
             "#0d0887"
            ],
            [
             0.1111111111111111,
             "#46039f"
            ],
            [
             0.2222222222222222,
             "#7201a8"
            ],
            [
             0.3333333333333333,
             "#9c179e"
            ],
            [
             0.4444444444444444,
             "#bd3786"
            ],
            [
             0.5555555555555556,
             "#d8576b"
            ],
            [
             0.6666666666666666,
             "#ed7953"
            ],
            [
             0.7777777777777778,
             "#fb9f3a"
            ],
            [
             0.8888888888888888,
             "#fdca26"
            ],
            [
             1,
             "#f0f921"
            ]
           ]
          },
          "colorway": [
           "#636efa",
           "#EF553B",
           "#00cc96",
           "#ab63fa",
           "#FFA15A",
           "#19d3f3",
           "#FF6692",
           "#B6E880",
           "#FF97FF",
           "#FECB52"
          ],
          "font": {
           "color": "#2a3f5f"
          },
          "geo": {
           "bgcolor": "white",
           "lakecolor": "white",
           "landcolor": "#E5ECF6",
           "showlakes": true,
           "showland": true,
           "subunitcolor": "white"
          },
          "hoverlabel": {
           "align": "left"
          },
          "hovermode": "closest",
          "mapbox": {
           "style": "light"
          },
          "paper_bgcolor": "white",
          "plot_bgcolor": "#E5ECF6",
          "polar": {
           "angularaxis": {
            "gridcolor": "white",
            "linecolor": "white",
            "ticks": ""
           },
           "bgcolor": "#E5ECF6",
           "radialaxis": {
            "gridcolor": "white",
            "linecolor": "white",
            "ticks": ""
           }
          },
          "scene": {
           "xaxis": {
            "backgroundcolor": "#E5ECF6",
            "gridcolor": "white",
            "gridwidth": 2,
            "linecolor": "white",
            "showbackground": true,
            "ticks": "",
            "zerolinecolor": "white"
           },
           "yaxis": {
            "backgroundcolor": "#E5ECF6",
            "gridcolor": "white",
            "gridwidth": 2,
            "linecolor": "white",
            "showbackground": true,
            "ticks": "",
            "zerolinecolor": "white"
           },
           "zaxis": {
            "backgroundcolor": "#E5ECF6",
            "gridcolor": "white",
            "gridwidth": 2,
            "linecolor": "white",
            "showbackground": true,
            "ticks": "",
            "zerolinecolor": "white"
           }
          },
          "shapedefaults": {
           "line": {
            "color": "#2a3f5f"
           }
          },
          "ternary": {
           "aaxis": {
            "gridcolor": "white",
            "linecolor": "white",
            "ticks": ""
           },
           "baxis": {
            "gridcolor": "white",
            "linecolor": "white",
            "ticks": ""
           },
           "bgcolor": "#E5ECF6",
           "caxis": {
            "gridcolor": "white",
            "linecolor": "white",
            "ticks": ""
           }
          },
          "title": {
           "x": 0.05
          },
          "xaxis": {
           "automargin": true,
           "gridcolor": "white",
           "linecolor": "white",
           "ticks": "",
           "title": {
            "standoff": 15
           },
           "zerolinecolor": "white",
           "zerolinewidth": 2
          },
          "yaxis": {
           "automargin": true,
           "gridcolor": "white",
           "linecolor": "white",
           "ticks": "",
           "title": {
            "standoff": 15
           },
           "zerolinecolor": "white",
           "zerolinewidth": 2
          }
         }
        },
        "title": {
         "text": "Retornos da Estratégia vs. Retornos do S&P 500 Index"
        },
        "xaxis": {
         "title": {
          "text": "Períodos"
         }
        },
        "yaxis": {
         "title": {
          "text": "Retornos"
         }
        }
       }
      }
     },
     "metadata": {},
     "output_type": "display_data"
    }
   ],
   "source": [
    "import plotly.graph_objects as go\n",
    "\n",
    "# Dados de exemplo\n",
    "x_values = average_monthly_results.index\n",
    "y_values_1 = average_monthly_results\n",
    "y_values_2 = sp500_index_period_returns\n",
    "\n",
    "# Criação das barras empilhadas\n",
    "fig = go.Figure()\n",
    "\n",
    "# Primeira barra (base)\n",
    "fig.add_trace(go.Bar(\n",
    "    x=x_values,\n",
    "    y=y_values_1,\n",
    "    name=average_monthly_results.name\n",
    "))\n",
    "\n",
    "# Segunda barra (sobreposta na anterior)\n",
    "fig.add_trace(go.Bar(\n",
    "    x=x_values,\n",
    "    y=y_values_2,\n",
    "    name=sp500_index_period_returns.name\n",
    "))\n",
    "\n",
    "# Configuração do layout para barras empilhadas\n",
    "fig.update_layout(\n",
    "    barmode='stack',\n",
    "    title='Retornos da Estratégia vs. Retornos do S&P 500 Index',\n",
    "    xaxis_title='Períodos',\n",
    "    yaxis_title='Retornos'\n",
    ")\n",
    "\n",
    "# Exibe o gráfico\n",
    "fig.show()\n"
   ]
  },
  {
   "cell_type": "markdown",
   "metadata": {},
   "source": [
    "##### **Histograma dos Retornos da Estratégia com Curva Normal Ajustada**"
   ]
  },
  {
   "cell_type": "code",
   "execution_count": 32,
   "metadata": {},
   "outputs": [
    {
     "data": {
      "application/vnd.plotly.v1+json": {
       "config": {
        "plotlyServerURL": "https://plot.ly"
       },
       "data": [
        {
         "histnorm": "probability",
         "name": "Histograma dos Retornos",
         "nbinsx": 30,
         "opacity": 0.75,
         "type": "histogram",
         "x": [
          0,
          5.577002606459757,
          5.178876013206677,
          5.855372346605575,
          5.292025736281285,
          4.676179059008398,
          7.5337557036293035,
          6.311692793635278,
          3.2075523394957193,
          5.470284865014091,
          5.3273300875386225,
          5.360704444778302,
          7.395525275095937,
          1.3488340765401197,
          12.15016578082063,
          11.452912642950313,
          5.792798035493024,
          8.403461410573232,
          7.0973760504257895,
          1.9828093966567792,
          11.712463578599076,
          10.466658344388927,
          3.4897951075350973,
          8.07174187911318,
          10.165904189049439,
          9.835286990454557,
          8.095141362635147,
          2.786259027881886,
          8.262951686549464,
          5.637537802174345,
          4.236624101444635,
          4.9529517024957155,
          2.829940381546569,
          7.429114676389931,
          0.02380181273465798,
          8.525947654612988,
          2.268174438918849,
          4.8809301690847064,
          5.863309191118724,
          5.882548606706828,
          6.478598668390863,
          -1.7973079272116557,
          8.676381494161998,
          10.60464720404058,
          -0.061876824447455736,
          4.641112841899341,
          17.769724239311717,
          9.335147217142104,
          6.848283449481576,
          6.38308724748879,
          -1.0954900123751368,
          7.597723689798504,
          6.288554243820957,
          2.429959513693066,
          4.591508921744941,
          5.1132534154941025,
          1.3648234296103903,
          2.5029441033080233,
          4.364491528355685,
          7.13032669833558,
          7.5372279063229515
         ]
        },
        {
         "line": {
          "color": "red",
          "width": 2
         },
         "mode": "lines",
         "name": "Curva Normal Ajustada",
         "type": "scatter",
         "x": [
          -1.7973079272116557,
          -1.777721308426347,
          -1.7581346896410384,
          -1.7385480708557297,
          -1.7189614520704208,
          -1.6993748332851122,
          -1.6797882144998035,
          -1.6602015957144949,
          -1.6406149769291862,
          -1.6210283581438776,
          -1.601441739358569,
          -1.5818551205732603,
          -1.5622685017879516,
          -1.542681883002643,
          -1.523095264217334,
          -1.5035086454320254,
          -1.4839220266467168,
          -1.4643354078614081,
          -1.4447487890760995,
          -1.4251621702907906,
          -1.405575551505482,
          -1.3859889327201733,
          -1.3664023139348647,
          -1.346815695149556,
          -1.3272290763642474,
          -1.3076424575789387,
          -1.28805583879363,
          -1.2684692200083214,
          -1.2488826012230128,
          -1.229295982437704,
          -1.2097093636523952,
          -1.1901227448670866,
          -1.170536126081778,
          -1.1509495072964693,
          -1.1313628885111606,
          -1.1117762697258518,
          -1.092189650940543,
          -1.0726030321552344,
          -1.0530164133699258,
          -1.0334297945846171,
          -1.0138431757993085,
          -0.9942565570139998,
          -0.9746699382286912,
          -0.9550833194433824,
          -0.9354967006580738,
          -0.9159100818727651,
          -0.8963234630874564,
          -0.8767368443021477,
          -0.8571502255168391,
          -0.8375636067315304,
          -0.8179769879462218,
          -0.798390369160913,
          -0.7788037503756045,
          -0.7592171315902956,
          -0.7396305128049869,
          -0.7200438940196783,
          -0.7004572752343696,
          -0.680870656449061,
          -0.6612840376637523,
          -0.6416974188784437,
          -0.6221108000931348,
          -0.6025241813078261,
          -0.5829375625225175,
          -0.5633509437372088,
          -0.5437643249519002,
          -0.5241777061665915,
          -0.5045910873812829,
          -0.48500446859597424,
          -0.4654178498106656,
          -0.4458312310253567,
          -0.42624461224004806,
          -0.4066579934547394,
          -0.38707137466943076,
          -0.3674847558841221,
          -0.34789813709881345,
          -0.3283115183135048,
          -0.30872489952819593,
          -0.2891382807428873,
          -0.2695516619575786,
          -0.24996504317226997,
          -0.23037842438696132,
          -0.21079180560165267,
          -0.19120518681634402,
          -0.17161856803103537,
          -0.15203194924572672,
          -0.13244533046041784,
          -0.11285871167510919,
          -0.09327209288980054,
          -0.07368547410449189,
          -0.05409885531918324,
          -0.034512236533874585,
          -0.014925617748565934,
          0.00466100103674294,
          0.02424761982205159,
          0.04383423860736024,
          0.0634208573926689,
          0.08300747617797755,
          0.1025940949632862,
          0.12218071374859485,
          0.1417673325339035,
          0.16135395131921215,
          0.18094057010452103,
          0.20052718888982968,
          0.2201138076751381,
          0.23970042646044676,
          0.25928704524575585,
          0.2788736640310645,
          0.29846028281637316,
          0.3180469016016818,
          0.33763352038699046,
          0.3572201391722991,
          0.37680675795760776,
          0.3963933767429164,
          0.41597999552822507,
          0.4355666143135337,
          0.45515323309884237,
          0.474739851884151,
          0.49432647066945967,
          0.5139130894547683,
          0.533499708240077,
          0.5530863270253861,
          0.5726729458106947,
          0.5922595645960034,
          0.611846183381312,
          0.6314328021666207,
          0.6510194209519293,
          0.670606039737238,
          0.6901926585225466,
          0.7097792773078553,
          0.7293658960931639,
          0.7489525148784726,
          0.7685391336637812,
          0.7881257524490899,
          0.8077123712343985,
          0.8272989900197072,
          0.8468856088050158,
          0.8664722275903245,
          0.8860588463756336,
          0.9056454651609422,
          0.9252320839462509,
          0.9448187027315595,
          0.9644053215168682,
          0.9839919403021768,
          1.0035785590874855,
          1.0231651778727942,
          1.0427517966581028,
          1.0623384154434115,
          1.08192503422872,
          1.1015116530140288,
          1.1210982717993374,
          1.140684890584646,
          1.1602715093699547,
          1.1798581281552638,
          1.1994447469405725,
          1.219031365725881,
          1.2386179845111898,
          1.2582046032964984,
          1.277791222081807,
          1.2973778408671157,
          1.3169644596524244,
          1.336551078437733,
          1.3561376972230417,
          1.3757243160083503,
          1.395310934793659,
          1.4148975535789676,
          1.4344841723642763,
          1.454070791149585,
          1.4736574099348936,
          1.4932440287202022,
          1.5128306475055113,
          1.53241726629082,
          1.5520038850761286,
          1.5715905038614373,
          1.591177122646746,
          1.6107637414320546,
          1.6303503602173632,
          1.6499369790026719,
          1.6695235977879805,
          1.6891102165732892,
          1.7086968353585978,
          1.7282834541439065,
          1.7478700729292151,
          1.7674566917145238,
          1.7870433104998324,
          1.8066299292851415,
          1.8262165480704502,
          1.8458031668557588,
          1.8653897856410675,
          1.8849764044263762,
          1.9045630232116848,
          1.9241496419969935,
          1.943736260782302,
          1.9633228795676108,
          1.9829094983529194,
          2.002496117138228,
          2.0220827359235365,
          2.041669354708845,
          2.061255973494154,
          2.0808425922794624,
          2.100429211064771,
          2.1200158298500797,
          2.1396024486353893,
          2.159189067420698,
          2.1787756862060066,
          2.1983623049913152,
          2.217948923776623,
          2.2375355425619317,
          2.2571221613472403,
          2.276708780132549,
          2.2962953989178585,
          2.315882017703167,
          2.335468636488476,
          2.3550552552737845,
          2.374641874059093,
          2.3942284928444018,
          2.4138151116297104,
          2.433401730415019,
          2.4529883492003277,
          2.4725749679856364,
          2.492161586770945,
          2.5117482055562537,
          2.5313348243415623,
          2.550921443126871,
          2.5705080619121796,
          2.5900946806974883,
          2.609681299482797,
          2.6292679182681056,
          2.6488545370534142,
          2.668441155838723,
          2.6880277746240315,
          2.70761439340934,
          2.727201012194649,
          2.7467876309799575,
          2.766374249765266,
          2.785960868550575,
          2.8055474873358834,
          2.825134106121192,
          2.8447207249065007,
          2.8643073436918094,
          2.883893962477118,
          2.9034805812624276,
          2.9230672000477362,
          2.942653818833045,
          2.9622404376183535,
          2.981827056403662,
          3.001413675188971,
          3.0210002939742795,
          3.040586912759588,
          3.060173531544897,
          3.0797601503302054,
          3.099346769115514,
          3.1189333879008228,
          3.1385200066861314,
          3.15810662547144,
          3.1776932442567487,
          3.1972798630420574,
          3.216866481827366,
          3.2364531006126747,
          3.2560397193979833,
          3.275626338183292,
          3.2952129569686006,
          3.3147995757539093,
          3.334386194539218,
          3.3539728133245266,
          3.373559432109835,
          3.393146050895144,
          3.4127326696804525,
          3.432319288465761,
          3.45190590725107,
          3.4714925260363785,
          3.491079144821687,
          3.510665763606996,
          3.5302523823923044,
          3.549839001177614,
          3.5694256199629226,
          3.5890122387482313,
          3.60859885753354,
          3.6281854763188486,
          3.6477720951041572,
          3.667358713889466,
          3.6869453326747745,
          3.706531951460083,
          3.726118570245392,
          3.7457051890307005,
          3.765291807816009,
          3.784878426601318,
          3.8044650453866264,
          3.824051664171935,
          3.8436382829572437,
          3.8632249017425524,
          3.882811520527861,
          3.9023981393131697,
          3.9219847580984784,
          3.941571376883787,
          3.9611579956690957,
          3.9807446144544043,
          4.000331233239713,
          4.019917852025022,
          4.03950447081033,
          4.059091089595639,
          4.078677708380948,
          4.098264327166256,
          4.117850945951565,
          4.1374375647368735,
          4.157024183522183,
          4.176610802307492,
          4.1961974210928,
          4.215784039878109,
          4.235370658663418,
          4.254957277448726,
          4.274543896234035,
          4.294130515019344,
          4.313717133804652,
          4.333303752589961,
          4.35289037137527,
          4.372476990160578,
          4.392063608945887,
          4.4116502277311955,
          4.431236846516504,
          4.450823465301813,
          4.4704100840871215,
          4.48999670287243,
          4.509583321657739,
          4.529169940443047,
          4.548756559228356,
          4.568343178013665,
          4.587929796798973,
          4.607516415584282,
          4.627103034369591,
          4.646689653154899,
          4.666276271940208,
          4.685862890725517,
          4.705449509510825,
          4.725036128296134,
          4.744622747081443,
          4.764209365866751,
          4.78379598465206,
          4.8033826034373694,
          4.822969222222678,
          4.842555841007987,
          4.862142459793295,
          4.881729078578604,
          4.901315697363913,
          4.920902316149221,
          4.94048893493453,
          4.960075553719839,
          4.979662172505147,
          4.999248791290456,
          5.018835410075765,
          5.038422028861073,
          5.058008647646382,
          5.077595266431691,
          5.097181885216999,
          5.116768504002308,
          5.1363551227876165,
          5.155941741572925,
          5.175528360358234,
          5.1951149791435425,
          5.214701597928851,
          5.23428821671416,
          5.253874835499468,
          5.273461454284777,
          5.293048073070086,
          5.312634691855394,
          5.332221310640703,
          5.351807929426012,
          5.37139454821132,
          5.390981166996629,
          5.4105677857819385,
          5.430154404567247,
          5.449741023352556,
          5.4693276421378645,
          5.488914260923173,
          5.508500879708482,
          5.52808749849379,
          5.547674117279099,
          5.567260736064408,
          5.586847354849716,
          5.606433973635025,
          5.626020592420334,
          5.645607211205642,
          5.665193829990951,
          5.68478044877626,
          5.704367067561568,
          5.723953686346877,
          5.743540305132186,
          5.763126923917494,
          5.782713542702803,
          5.802300161488112,
          5.82188678027342,
          5.841473399058729,
          5.8610600178440375,
          5.880646636629346,
          5.900233255414655,
          5.9198198741999635,
          5.939406492985272,
          5.958993111770581,
          5.978579730555889,
          5.998166349341198,
          6.017752968126507,
          6.037339586911815,
          6.056926205697125,
          6.076512824482434,
          6.096099443267742,
          6.115686062053051,
          6.1352726808383595,
          6.154859299623668,
          6.174445918408977,
          6.1940325371942855,
          6.213619155979594,
          6.233205774764902,
          6.252792393550211,
          6.272379012335519,
          6.291965631120829,
          6.3115522499061365,
          6.331138868691446,
          6.350725487476754,
          6.370312106262063,
          6.389898725047373,
          6.409485343832681,
          6.42907196261799,
          6.448658581403298,
          6.4682452001886075,
          6.487831818973915,
          6.507418437759225,
          6.527005056544533,
          6.546591675329842,
          6.56617829411515,
          6.585764912900459,
          6.605351531685767,
          6.624938150471077,
          6.6445247692563845,
          6.664111388041694,
          6.683698006827002,
          6.703284625612311,
          6.722871244397619,
          6.742457863182929,
          6.762044481968236,
          6.781631100753546,
          6.801217719538854,
          6.820804338324163,
          6.840390957109471,
          6.8599775758947805,
          6.879564194680088,
          6.899150813465398,
          6.918737432250706,
          6.938324051036015,
          6.957910669821323,
          6.977497288606632,
          6.997083907391942,
          7.01667052617725,
          7.036257144962559,
          7.055843763747867,
          7.075430382533177,
          7.095017001318484,
          7.114603620103794,
          7.134190238889102,
          7.153776857674411,
          7.173363476459719,
          7.1929500952450285,
          7.212536714030336,
          7.232123332815646,
          7.2517099516009536,
          7.271296570386263,
          7.290883189171571,
          7.31046980795688,
          7.330056426742188,
          7.349643045527498,
          7.3692296643128055,
          7.388816283098115,
          7.408402901883423,
          7.427989520668732,
          7.44757613945404,
          7.46716275823935,
          7.486749377024657,
          7.506335995809967,
          7.525922614595275,
          7.545509233380584,
          7.565095852165892,
          7.5846824709512015,
          7.604269089736511,
          7.623855708521819,
          7.643442327307128,
          7.663028946092436,
          7.682615564877746,
          7.702202183663053,
          7.721788802448363,
          7.741375421233671,
          7.76096204001898,
          7.780548658804288,
          7.800135277589598,
          7.819721896374905,
          7.839308515160215,
          7.858895133945523,
          7.878481752730832,
          7.89806837151614,
          7.9176549903014495,
          7.937241609086757,
          7.956828227872067,
          7.9764148466573745,
          7.996001465442684,
          8.015588084227993,
          8.035174703013302,
          8.05476132179861,
          8.07434794058392,
          8.093934559369227,
          8.113521178154537,
          8.133107796939845,
          8.152694415725154,
          8.172281034510462,
          8.191867653295771,
          8.21145427208108,
          8.231040890866389,
          8.250627509651698,
          8.270214128437006,
          8.289800747222316,
          8.309387366007623,
          8.328973984792933,
          8.34856060357824,
          8.36814722236355,
          8.387733841148858,
          8.407320459934168,
          8.426907078719475,
          8.446493697504785,
          8.466080316290093,
          8.485666935075402,
          8.50525355386071,
          8.52484017264602,
          8.544426791431327,
          8.564013410216637,
          8.583600029001945,
          8.603186647787254,
          8.622773266572562,
          8.642359885357871,
          8.66194650414318,
          8.681533122928489,
          8.701119741713796,
          8.720706360499106,
          8.740292979284414,
          8.759879598069723,
          8.779466216855031,
          8.79905283564034,
          8.818639454425648,
          8.838226073210958,
          8.857812691996266,
          8.877399310781575,
          8.896985929566885,
          8.916572548352192,
          8.936159167137502,
          8.95574578592281,
          8.97533240470812,
          8.994919023493427,
          9.014505642278737,
          9.034092261064044,
          9.053678879849354,
          9.073265498634662,
          9.092852117419971,
          9.112438736205279,
          9.132025354990589,
          9.151611973775896,
          9.171198592561206,
          9.190785211346514,
          9.210371830131823,
          9.229958448917131,
          9.24954506770244,
          9.269131686487748,
          9.288718305273058,
          9.308304924058366,
          9.327891542843675,
          9.347478161628983,
          9.367064780414292,
          9.3866513991996,
          9.40623801798491,
          9.425824636770217,
          9.445411255555527,
          9.464997874340835,
          9.484584493126144,
          9.504171111911454,
          9.523757730696762,
          9.543344349482071,
          9.562930968267379,
          9.582517587052688,
          9.602104205837996,
          9.621690824623306,
          9.641277443408613,
          9.660864062193923,
          9.68045068097923,
          9.70003729976454,
          9.719623918549848,
          9.739210537335158,
          9.758797156120465,
          9.778383774905775,
          9.797970393691083,
          9.817557012476392,
          9.8371436312617,
          9.85673025004701,
          9.876316868832317,
          9.895903487617627,
          9.915490106402935,
          9.935076725188244,
          9.954663343973552,
          9.974249962758861,
          9.99383658154417,
          10.013423200329479,
          10.033009819114787,
          10.052596437900096,
          10.072183056685404,
          10.091769675470713,
          10.111356294256023,
          10.13094291304133,
          10.15052953182664,
          10.170116150611948,
          10.189702769397257,
          10.209289388182565,
          10.228876006967875,
          10.248462625753183,
          10.268049244538492,
          10.2876358633238,
          10.30722248210911,
          10.326809100894417,
          10.346395719679727,
          10.365982338465034,
          10.385568957250344,
          10.405155576035652,
          10.424742194820961,
          10.444328813606269,
          10.463915432391579,
          10.483502051176886,
          10.503088669962196,
          10.522675288747504,
          10.542261907532813,
          10.561848526318121,
          10.58143514510343,
          10.601021763888738,
          10.620608382674048,
          10.640195001459356,
          10.659781620244665,
          10.679368239029973,
          10.698954857815282,
          10.71854147660059,
          10.7381280953859,
          10.75771471417121,
          10.777301332956517,
          10.796887951741827,
          10.816474570527134,
          10.836061189312444,
          10.855647808097752,
          10.875234426883061,
          10.894821045668369,
          10.914407664453678,
          10.933994283238986,
          10.953580902024296,
          10.973167520809604,
          10.992754139594913,
          11.01234075838022,
          11.03192737716553,
          11.051513995950838,
          11.071100614736148,
          11.090687233521455,
          11.110273852306765,
          11.129860471092073,
          11.149447089877382,
          11.16903370866269,
          11.188620327448,
          11.208206946233307,
          11.227793565018617,
          11.247380183803925,
          11.266966802589234,
          11.286553421374542,
          11.306140040159852,
          11.32572665894516,
          11.345313277730469,
          11.364899896515777,
          11.384486515301086,
          11.404073134086396,
          11.423659752871703,
          11.443246371657013,
          11.46283299044232,
          11.48241960922763,
          11.502006228012938,
          11.521592846798248,
          11.541179465583555,
          11.560766084368865,
          11.580352703154173,
          11.599939321939482,
          11.61952594072479,
          11.6391125595101,
          11.658699178295407,
          11.678285797080717,
          11.697872415866025,
          11.717459034651334,
          11.737045653436642,
          11.756632272221951,
          11.77621889100726,
          11.795805509792569,
          11.815392128577876,
          11.834978747363186,
          11.854565366148494,
          11.874151984933803,
          11.893738603719111,
          11.91332522250442,
          11.932911841289728,
          11.952498460075038,
          11.972085078860346,
          11.991671697645655,
          12.011258316430965,
          12.030844935216273,
          12.050431554001582,
          12.07001817278689,
          12.0896047915722,
          12.109191410357507,
          12.128778029142817,
          12.148364647928124,
          12.167951266713434,
          12.187537885498742,
          12.207124504284051,
          12.226711123069359,
          12.246297741854669,
          12.265884360639976,
          12.285470979425286,
          12.305057598210594,
          12.324644216995903,
          12.344230835781211,
          12.36381745456652,
          12.383404073351828,
          12.402990692137138,
          12.422577310922446,
          12.442163929707755,
          12.461750548493063,
          12.481337167278372,
          12.50092378606368,
          12.52051040484899,
          12.540097023634297,
          12.559683642419607,
          12.579270261204915,
          12.598856879990224,
          12.618443498775534,
          12.638030117560842,
          12.657616736346151,
          12.677203355131459,
          12.696789973916768,
          12.716376592702076,
          12.735963211487386,
          12.755549830272694,
          12.775136449058003,
          12.79472306784331,
          12.81430968662862,
          12.833896305413928,
          12.853482924199238,
          12.873069542984545,
          12.892656161769855,
          12.912242780555163,
          12.931829399340472,
          12.95141601812578,
          12.97100263691109,
          12.990589255696397,
          13.010175874481707,
          13.029762493267015,
          13.049349112052324,
          13.068935730837632,
          13.088522349622941,
          13.10810896840825,
          13.127695587193559,
          13.147282205978867,
          13.166868824764176,
          13.186455443549484,
          13.206042062334793,
          13.225628681120101,
          13.24521529990541,
          13.26480191869072,
          13.284388537476028,
          13.303975156261338,
          13.323561775046645,
          13.343148393831955,
          13.362735012617263,
          13.382321631402572,
          13.40190825018788,
          13.42149486897319,
          13.441081487758497,
          13.460668106543807,
          13.480254725329115,
          13.499841344114424,
          13.519427962899732,
          13.539014581685041,
          13.55860120047035,
          13.578187819255659,
          13.597774438040966,
          13.617361056826276,
          13.636947675611584,
          13.656534294396893,
          13.676120913182201,
          13.69570753196751,
          13.715294150752818,
          13.734880769538128,
          13.754467388323436,
          13.774054007108745,
          13.793640625894053,
          13.813227244679362,
          13.83281386346467,
          13.85240048224998,
          13.871987101035288,
          13.891573719820597,
          13.911160338605907,
          13.930746957391214,
          13.950333576176524,
          13.969920194961832,
          13.989506813747141,
          14.009093432532449,
          14.028680051317759,
          14.048266670103066,
          14.067853288888376,
          14.087439907673684,
          14.107026526458993,
          14.126613145244301,
          14.14619976402961,
          14.165786382814918,
          14.185373001600228,
          14.204959620385537,
          14.224546239170845,
          14.244132857956153,
          14.26371947674146,
          14.283306095526772,
          14.30289271431208,
          14.322479333097387,
          14.342065951882695,
          14.361652570668006,
          14.381239189453314,
          14.400825808238622,
          14.42041242702393,
          14.439999045809241,
          14.459585664594549,
          14.479172283379857,
          14.498758902165164,
          14.518345520950476,
          14.537932139735783,
          14.557518758521091,
          14.577105377306403,
          14.59669199609171,
          14.616278614877018,
          14.635865233662326,
          14.655451852447637,
          14.675038471232945,
          14.694625090018253,
          14.71421170880356,
          14.733798327588872,
          14.75338494637418,
          14.772971565159487,
          14.792558183944795,
          14.812144802730106,
          14.831731421515414,
          14.851318040300722,
          14.87090465908603,
          14.890491277871341,
          14.910077896656649,
          14.929664515441956,
          14.949251134227264,
          14.968837753012576,
          14.988424371797883,
          15.008010990583191,
          15.027597609368499,
          15.04718422815381,
          15.066770846939118,
          15.086357465724426,
          15.105944084509733,
          15.125530703295045,
          15.145117322080353,
          15.16470394086566,
          15.184290559650972,
          15.20387717843628,
          15.223463797221587,
          15.243050416006895,
          15.262637034792206,
          15.282223653577514,
          15.301810272362822,
          15.32139689114813,
          15.34098350993344,
          15.360570128718749,
          15.380156747504056,
          15.399743366289364,
          15.419329985074675,
          15.438916603859983,
          15.458503222645291,
          15.478089841430599,
          15.49767646021591,
          15.517263079001218,
          15.536849697786526,
          15.556436316571833,
          15.576022935357145,
          15.595609554142452,
          15.61519617292776,
          15.634782791713068,
          15.65436941049838,
          15.673956029283687,
          15.693542648068995,
          15.713129266854303,
          15.732715885639614,
          15.752302504424922,
          15.77188912321023,
          15.79147574199554,
          15.811062360780848,
          15.830648979566156,
          15.850235598351464,
          15.869822217136775,
          15.889408835922083,
          15.90899545470739,
          15.928582073492699,
          15.94816869227801,
          15.967755311063318,
          15.987341929848625,
          16.006928548633933,
          16.026515167419245,
          16.046101786204552,
          16.06568840498986,
          16.085275023775168,
          16.10486164256048,
          16.124448261345787,
          16.144034880131095,
          16.163621498916402,
          16.183208117701714,
          16.20279473648702,
          16.22238135527233,
          16.241967974057637,
          16.26155459284295,
          16.281141211628256,
          16.300727830413564,
          16.32031444919887,
          16.339901067984183,
          16.35948768676949,
          16.3790743055548,
          16.39866092434011,
          16.418247543125418,
          16.437834161910725,
          16.457420780696033,
          16.477007399481344,
          16.496594018266652,
          16.51618063705196,
          16.535767255837268,
          16.55535387462258,
          16.574940493407887,
          16.594527112193195,
          16.614113730978502,
          16.633700349763814,
          16.65328696854912,
          16.67287358733443,
          16.692460206119737,
          16.71204682490505,
          16.731633443690356,
          16.751220062475664,
          16.77080668126097,
          16.790393300046283,
          16.80997991883159,
          16.8295665376169,
          16.849153156402206,
          16.868739775187517,
          16.888326393972825,
          16.907913012758133,
          16.92749963154344,
          16.947086250328752,
          16.96667286911406,
          16.986259487899368,
          17.00584610668468,
          17.025432725469987,
          17.045019344255294,
          17.064605963040602,
          17.084192581825913,
          17.10377920061122,
          17.12336581939653,
          17.142952438181837,
          17.162539056967148,
          17.182125675752456,
          17.201712294537764,
          17.22129891332307,
          17.240885532108383,
          17.26047215089369,
          17.280058769679,
          17.299645388464306,
          17.319232007249617,
          17.338818626034925,
          17.358405244820233,
          17.37799186360554,
          17.397578482390852,
          17.41716510117616,
          17.436751719961467,
          17.456338338746775,
          17.475924957532087,
          17.495511576317394,
          17.515098195102702,
          17.53468481388801,
          17.55427143267332,
          17.57385805145863,
          17.593444670243937,
          17.613031289029244,
          17.632617907814556,
          17.652204526599863,
          17.67179114538517,
          17.691377764170483,
          17.71096438295579,
          17.730551001741098,
          17.750137620526406,
          17.769724239311717
         ],
         "y": [
          0.01019744899023427,
          0.010324251084133353,
          0.01045229914434981,
          0.010581600469633353,
          0.010712162329424455,
          0.010843991962565929,
          0.010977096576003409,
          0.011111483343475026,
          0.011247159404190119,
          0.011384131861497388,
          0.011522407781542312,
          0.011661994191914273,
          0.011802898080283253,
          0.011945126393026443,
          0.012088686033844671,
          0.012233583862369099,
          0.012379826692758042,
          0.012527421292284239,
          0.012676374379912628,
          0.012826692624868925,
          0.012978382645198974,
          0.013131451006319192,
          0.01328590421955824,
          0.01344174874068997,
          0.013598990968458126,
          0.013757637243092627,
          0.013917693844817851,
          0.014079166992353015,
          0.014242062841404939,
          0.01440638748315318,
          0.014572146942728124,
          0.014739347177681734,
          0.014907994076451641,
          0.015078093456818471,
          0.01524965106435676,
          0.015422672570879717,
          0.015597163572877971,
          0.01577312958995246,
          0.01595057606324203,
          0.01612950835384551,
          0.016309931741238917,
          0.01649185142168777,
          0.016675272506654956,
          0.01686020002120413,
          0.017046638902399318,
          0.017234593997700536,
          0.01742407006335604,
          0.01761507176279122,
          0.017807603664994634,
          0.018001670242901304,
          0.018197275871773517,
          0.018394424827579657,
          0.018593121285371023,
          0.018793369317657238,
          0.01899517289278028,
          0.01919853587328759,
          0.019403462014304547,
          0.01960995496190653,
          0.019818018251490925,
          0.020027655306149448,
          0.020238869435040958,
          0.020451663831765197,
          0.020666041572737746,
          0.020882005615566444,
          0.021099558797429748,
          0.02131870383345721,
          0.021539443315112497,
          0.021761779708579246,
          0.02198571535315009,
          0.02221125245961929,
          0.022438393108679077,
          0.02266713924932048,
          0.022897492697238318,
          0.02312945513324156,
          0.023363028101668584,
          0.023598213008808287,
          0.02383501112132703,
          0.024073423564702098,
          0.02431345132166165,
          0.024555095230631936,
          0.024798355984191833,
          0.025043234127535237,
          0.025289730056941642,
          0.02553784401825519,
          0.025787576105372797,
          0.026038926258741383,
          0.026291894263865013,
          0.026546479749821883,
          0.026802682187791863,
          0.027060500889594875,
          0.027319935006240366,
          0.02758098352648855,
          0.027843645275423455,
          0.028107918913038384,
          0.028373802932834268,
          0.02864129566043087,
          0.028910395252191867,
          0.029181099693863566,
          0.029453406799228067,
          0.029727314208771144,
          0.030002819388365166,
          0.030279919627967493,
          0.030558612040334863,
          0.030838893559753826,
          0.03112076094078822,
          0.03140421075704327,
          0.03168923939994738,
          0.03197584307755182,
          0.032264017813348436,
          0.03255375944510621,
          0.032845063623726585,
          0.03313792581211849,
          0.03343234128409287,
          0.03372830512327758,
          0.03402581222205279,
          0.03432485728050735,
          0.03462543480541644,
          0.03492753910924105,
          0.03523116430914946,
          0.035536304326061224,
          0.03584295288371412,
          0.03615110350775412,
          0.03646074952484923,
          0.036771884061827055,
          0.03708450004483698,
          0.03739859019853689,
          0.037714147045305,
          0.03803116290447722,
          0.0383496298916103,
          0.038669539917771126,
          0.03899088468885252,
          0.039313655704916,
          0.03963784425956172,
          0.039963441439325974,
          0.0402904381231067,
          0.04061882498161711,
          0.040948592476868016,
          0.04127973086167911,
          0.041612230179219376,
          0.04194608026257719,
          0.04228127073436037,
          0.04261779100632621,
          0.042955630279042416,
          0.043294777541578476,
          0.04363522157122851,
          0.04397695093326546,
          0.04431995398072684,
          0.0446642188542329,
          0.045009733481836664,
          0.04535648557890698,
          0.04570446264804416,
          0.04605365197902881,
          0.046404040648804275,
          0.0467556155214924,
          0.04710836324844357,
          0.047462270268320735,
          0.047817322807217746,
          0.04817350687881269,
          0.048530808284555714,
          0.048889212613892216,
          0.04924870524452129,
          0.04960927134268968,
          0.04997089586352149,
          0.05033356355138394,
          0.050697258940289064,
          0.051061966354331925,
          0.051427669908165226,
          0.05179435350751071,
          0.0521620008497072,
          0.05253059542429591,
          0.05290012051364271,
          0.053270559193597765,
          0.053641894334192704,
          0.05401410860037515,
          0.054387184452781165,
          0.054761104148545445,
          0.0551358497421492,
          0.055511403086306525,
          0.05588774583288845,
          0.05626485943388535,
          0.05664272514240772,
          0.0570213240137251,
          0.05740063690634357,
          0.0577806444831216,
          0.05816132721242444,
          0.05854266536931708,
          0.058924639036795665,
          0.05930722810705762,
          0.05969041228281032,
          0.06007417107861826,
          0.06045848382228902,
          0.060843329656297615,
          0.06122868753924954,
          0.061614536247382216,
          0.06200085437610498,
          0.06238762034157757,
          0.06277481238232678,
          0.0631624085609017,
          0.06355038676556696,
          0.0639387247120341,
          0.06432739994523132,
          0.06471638984111072,
          0.06510567160849365,
          0.06549522229095381,
          0.06588501876873769,
          0.06627503776072273,
          0.06666525582641257,
          0.06705564936796948,
          0.06744619463228389,
          0.06783686771308049,
          0.06822764455306107,
          0.06861850094608381,
          0.06900941253937871,
          0.06940035483579901,
          0.06979130319610832,
          0.07018223284130348,
          0.07057311885497256,
          0.07096393618568786,
          0.07135465964943392,
          0.0717452639320699,
          0.07213572359182609,
          0.07252601306183468,
          0.07291610665269388,
          0.07330597855506563,
          0.07369560284230621,
          0.0740849534731296,
          0.07447400429430326,
          0.0748627290433759,
          0.07525110135143702,
          0.07563909474590771,
          0.07602668265336246,
          0.07641383840238154,
          0.07680053522643362,
          0.07718674626678815,
          0.07757244457545724,
          0.07795760311816635,
          0.07834219477735387,
          0.07872619235519845,
          0.0791095685766745,
          0.07949229609263454,
          0.07987434748291865,
          0.08025569525949004,
          0.08063631186959681,
          0.08101616969895892,
          0.08139524107497996,
          0.08177349826998366,
          0.08215091350447412,
          0.08252745895041948,
          0.0829031067345586,
          0.08327782894172998,
          0.0836515976182226,
          0.08402438477514818,
          0.08439616239183391,
          0.08476690241923576,
          0.08513657678337115,
          0.08550515738877092,
          0.08587261612194959,
          0.0862389248548939,
          0.0866040554485682,
          0.08696797975643718,
          0.08733066962800423,
          0.08769209691236574,
          0.0880522334617801,
          0.08841105113525119,
          0.08876852180212544,
          0.08912461734570201,
          0.08947930966685559,
          0.08983257068767057,
          0.09018437235508689,
          0.090534686644556,
          0.09088348556370686,
          0.09123074115602124,
          0.09157642550451715,
          0.09192051073544064,
          0.09226296902196439,
          0.09260377258789314,
          0.09294289371137465,
          0.09328030472861609,
          0.09361597803760464,
          0.09394988610183215,
          0.0942820014540225,
          0.0946122966998618,
          0.09494074452172988,
          0.0952673176824329,
          0.09559198902893634,
          0.09591473149609732,
          0.09623551811039599,
          0.09655432199366493,
          0.09687111636681593,
          0.09718587455356369,
          0.09749856998414516,
          0.09780917619903452,
          0.09811766685265241,
          0.09842401571706912,
          0.09872819668570075,
          0.09903018377699804,
          0.09932995113812641,
          0.09962747304863726,
          0.09992272392412925,
          0.10021567831989925,
          0.10050631093458189,
          0.10079459661377704,
          0.10108051035366486,
          0.10136402730460711,
          0.10164512277473456,
          0.10192377223351931,
          0.10219995131533162,
          0.1024736358229805,
          0.10274480173123696,
          0.10301342519033996,
          0.10327948252948345,
          0.10354295026028447,
          0.1038038050802314,
          0.10406202387611142,
          0.10431758372741683,
          0.10457046190972923,
          0.10482063589808124,
          0.10506808337029457,
          0.1053127822102941,
          0.10555471051139717,
          0.10579384657957754,
          0.106030168936703,
          0.10626365632374633,
          0.10649428770396867,
          0.10672204226607486,
          0.10694689942733983,
          0.10716883883670564,
          0.10738784037784832,
          0.10760388417221399,
          0.10781695058202352,
          0.10802702021324527,
          0.10823407391853491,
          0.10843809280014237,
          0.10863905821278427,
          0.10883695176648246,
          0.10903175532936696,
          0.10922345103044348,
          0.10941202126232435,
          0.10959744868392289,
          0.10977971622310989,
          0.1099588070793324,
          0.11013470472619372,
          0.11030739291399434,
          0.11047685567223296,
          0.11064307731206759,
          0.11080604242873549,
          0.11096573590393216,
          0.11112214290814827,
          0.11127524890296435,
          0.11142503964330272,
          0.11157150117963595,
          0.11171461986015176,
          0.1118543823328734,
          0.1119907755477356,
          0.11212378675861506,
          0.11225340352531553,
          0.1123796137155068,
          0.11250240550661712,
          0.11262176738767896,
          0.11273768816112717,
          0.11285015694454976,
          0.11295916317239048,
          0.11306469659760293,
          0.11316674729325593,
          0.1132653056540898,
          0.11336036239802304,
          0.11345190856760917,
          0.11353993553144362,
          0.11362443498551991,
          0.11370539895453531,
          0.1137828197931453,
          0.11385669018716682,
          0.11392700315472987,
          0.1139937520473773,
          0.1140569305511126,
          0.11411653268739527,
          0.11417255281408376,
          0.11422498562632548,
          0.11427382615739429,
          0.11431906977947438,
          0.11436071220439127,
          0.114398749484289,
          0.11443317801225417,
          0.11446399452288568,
          0.11449119609281116,
          0.11451478014114903,
          0.11453474442991667,
          0.11455108706438433,
          0.11456380649337485,
          0.1145729015095091,
          0.11457837124939686,
          0.11458021519377357,
          0.11457843316758234,
          0.11457302534000183,
          0.11456399222441929,
          0.11455133467834946,
          0.11453505390329885,
          0.11451515144457569,
          0.11449162919104537,
          0.11446448937483182,
          0.1144337345709644,
          0.11439936769697072,
          0.11436139201241535,
          0.11431981111838457,
          0.1142746289569173,
          0.11422584981038213,
          0.11417347830080098,
          0.11411751938911908,
          0.11405797837442185,
          0.11399486089309846,
          0.11392817291795272,
          0.11385792075726092,
          0.11378411105377749,
          0.11370675078368794,
          0.11362584725551017,
          0.1135414081089436,
          0.11345344131366682,
          0.11336195516808402,
          0.1132669582980202,
          0.11316845965536594,
          0.11306646851667111,
          0.11296099448168927,
          0.11285204747187143,
          0.1127396377288109,
          0.11262377581263873,
          0.11250447260037023,
          0.1123817392842034,
          0.112255587369769,
          0.11212602867433297,
          0.11199307532495176,
          0.11185673975658045,
          0.11171703471013474,
          0.11157397323050658,
          0.11142756866453443,
          0.11127783465892814,
          0.1111247851581492,
          0.11096843440224684,
          0.11080879692465001,
          0.11064588754991643,
          0.11047972139143848,
          0.11031031384910706,
          0.11013768060693332,
          0.10996183763062929,
          0.10978280116514774,
          0.10960058773218154,
          0.10941521412762355,
          0.10922669741898726,
          0.10903505494278878,
          0.10884030430189073,
          0.10864246336280885,
          0.10844155025298134,
          0.10823758335800224,
          0.10803058131881889,
          0.10782056302889423,
          0.10760754763133464,
          0.1073915545159838,
          0.1071726033164834,
          0.10695071390730083,
          0.10672590640072521,
          0.10649820114383167,
          0.1062676187154152,
          0.10603417992289388,
          0.10579790579918326,
          0.10555881759954125,
          0.10531693679838543,
          0.10507228508608242,
          0.1048248843657108,
          0.1045747567497975,
          0.1043219245570291,
          0.10406641030893803,
          0.10380823672656483,
          0.10354742672709707,
          0.10328400342048542,
          0.10301799010603761,
          0.10274941026899151,
          0.10247828757706699,
          0.10220464587699853,
          0.10192850919104797,
          0.10164990171349941,
          0.10136884780713591,
          0.10108537199969925,
          0.10079949898033357,
          0.10051125359601293,
          0.10022066084795457,
          0.09992774588801745,
          0.09963253401508779,
          0.0993350506714515,
          0.09903532143915499,
          0.09873337203635432,
          0.0984292283136542,
          0.0981229162504368,
          0.09781446195118175,
          0.0975038916417776,
          0.09719123166582579,
          0.09687650848093741,
          0.09655974865502422,
          0.09624097886258369,
          0.0959202258809798,
          0.09559751658671926,
          0.09527287795172502,
          0.09494633703960656,
          0.09461792100192895,
          0.09428765707448014,
          0.09395557257353829,
          0.09362169489213894,
          0.09328605149634356,
          0.09294866992150937,
          0.09260957776856188,
          0.09226880270027013,
          0.09192637243752619,
          0.09158231475562843,
          0.09123665748057073,
          0.09088942848533668,
          0.0905406556862011,
          0.09019036703903811,
          0.08983859053563731,
          0.08948535420002861,
          0.08913068608481584,
          0.08877461426752084,
          0.08841716684693726,
          0.08805837193949627,
          0.08769825767564343,
          0.08733685219622861,
          0.08697418364890822,
          0.08661028018456193,
          0.08624516995372311,
          0.08587888110302459,
          0.08551144177165954,
          0.08514288008785904,
          0.08477322416538588,
          0.08440250210004613,
          0.08403074196621822,
          0.08365797181340104,
          0.0832842196627804,
          0.08290951350381605,
          0.08253388129084795,
          0.08215735093972415,
          0.08177995032444925,
          0.08140170727385534,
          0.0810226495682947,
          0.08064280493635599,
          0.08026220105160331,
          0.07988086552933969,
          0.07949882592339448,
          0.07911610972293615,
          0.0787327443493101,
          0.07834875715290264,
          0.07796417541003113,
          0.07757902631986086,
          0.07719333700134962,
          0.07680713449021931,
          0.07642044573595644,
          0.07603329759884042,
          0.07564571684700162,
          0.07525773015350817,
          0.07486936409348303,
          0.07448064514125093,
          0.07409159966751624,
          0.07370225393657136,
          0.07331263410353697,
          0.07292276621163335,
          0.07253267618948445,
          0.0721423898484536,
          0.0717519328800126,
          0.0713613308531433,
          0.070970609211773,
          0.07057979327224298,
          0.07018890822081164,
          0.06979797911119118,
          0.06940703086211936,
          0.06901608825496566,
          0.06862517593137278,
          0.06823431839093318,
          0.06784353998890134,
          0.06745286493394156,
          0.06706231728591228,
          0.06667192095368567,
          0.06628169969300474,
          0.06589167710437617,
          0.06550187663100024,
          0.06511232155673802,
          0.06472303500411504,
          0.06433403993236299,
          0.06394535913549818,
          0.06355701524043812,
          0.06316903070515544,
          0.06278142781686988,
          0.06239422869027804,
          0.06200745526582138,
          0.06162112930799209,
          0.06123527240367753,
          0.06084990596054258,
          0.060465051205450836,
          0.060080729182923655,
          0.05969696075363828,
          0.05931376659296397,
          0.05893116718953717,
          0.05854918284387465,
          0.05816783366702603,
          0.05778713957926393,
          0.05740712030881382,
          0.05702779539062133,
          0.05664918416515913,
          0.05627130577727149,
          0.055894179175058095,
          0.0555178231087957,
          0.0551422561298986,
          0.05476749658991714,
          0.05439356263957487,
          0.05402047222784352,
          0.053648243101056245,
          0.05327689280205901,
          0.05290643866939958,
          0.05253689783655485,
          0.05216828723119513,
          0.05180062357448684,
          0.05143392338043184,
          0.05106820295524483,
          0.050703478396767164,
          0.05033976559391837,
          0.04997708022618398,
          0.04961543776314038,
          0.049254853464015924,
          0.048895342377288716,
          0.04853691934032001,
          0.04817959897902425,
          0.04782339570757408,
          0.047468323728141665,
          0.04711439703067469,
          0.04676162939270797,
          0.04641003437920958,
          0.04605962534246195,
          0.045710415421976985,
          0.045362417544445956,
          0.04501564442372257,
          0.044670108560840506,
          0.044325822244063576,
          0.04398279754896973,
          0.043641046338567496,
          0.043300580263445236,
          0.0429614107619525,
          0.04262354906041379,
          0.04228700617337376,
          0.04195179290387383,
          0.0416179198437603,
          0.041285397374022925,
          0.040954235665164346,
          0.040624444677599396,
          0.0402960341620848,
          0.039969013660177875,
          0.03964339250472512,
          0.0393191798203791,
          0.03899638452414453,
          0.038675015325952154,
          0.038355080729260936,
          0.038036589031687384,
          0.03771954832566269,
          0.03740396649911609,
          0.03708985123618549,
          0.036777210017953456,
          0.03646605012320988,
          0.03615637862923935,
          0.03584820241263416,
          0.03554152815013169,
          0.03523636231947646,
          0.03493271120030579,
          0.03463058087505959,
          0.03432997722991275,
          0.03403090595573115,
          0.03373337254904937,
          0.03343738231307121,
          0.03314294035869143,
          0.03285005160553917,
          0.032558720783042,
          0.03226895243151096,
          0.03198075090324547,
          0.031694120363658,
          0.03140906479241849,
          0.031125587984617415,
          0.030843693551947788,
          0.030563384923905083,
          0.030284665349005393,
          0.03000753789602059,
          0.029732005455231074,
          0.02945807073969462,
          0.029185736286532017,
          0.028915004458228255,
          0.028645877443949384,
          0.028378357260874357,
          0.028112445755541695,
          0.02784814460521034,
          0.027585455319234658,
          0.02732437924045262,
          0.0270649175465876,
          0.026807071251662425,
          0.026550841207426235,
          0.02629622810479305,
          0.026043232475292066,
          0.025791854692529072,
          0.02554209497365885,
          0.025293953380867772,
          0.025047429822866788,
          0.024802524056393743,
          0.02455923568772537,
          0.024317564174197847,
          0.024077508825736227,
          0.023839068806391916,
          0.02360224313588782,
          0.02336703069117133,
          0.023133430207973878,
          0.02290144028237768,
          0.022671059372388492,
          0.022442285799514555,
          0.022215117750350986,
          0.02198955327816973,
          0.021765590304514033,
          0.021543226620797957,
          0.021322459889909596,
          0.021103287647818714,
          0.020885707305187406,
          0.020669716148984357,
          0.020455311344101668,
          0.02024248993497442,
          0.020031248847202192,
          0.01982158488917274,
          0.019613494753686848,
          0.019406975019584778,
          0.019202022153373206,
          0.0189986325108531,
          0.018796802338747608,
          0.01859652777633002,
          0.018397804857051257,
          0.01820062951016693,
          0.01800499756236308,
          0.017810904739381055,
          0.017618346667640488,
          0.017427318875860697,
          0.017237816796679833,
          0.017049835768271526,
          0.016863371035959144,
          0.016678417753826683,
          0.01649497098632682,
          0.016313025709885107,
          0.01613257681450069,
          0.015953619105342775,
          0.015776147304342972,
          0.015600156051782953,
          0.015425639907877448,
          0.015252593354352131,
          0.015081010796016219,
          0.014910886562329624,
          0.014742214908964333,
          0.014574990019359687,
          0.014409206006271696,
          0.014244856913315689,
          0.014081936716502486,
          0.01392043932576753,
          0.013760358586493231,
          0.0136016882810237,
          0.013444422130172247,
          0.013288553794721079,
          0.013134076876913241,
          0.012980984921936264,
          0.012829271419397882,
          0.012678929804793015,
          0.012529953460962393,
          0.01238233571954211,
          0.012236069862404575,
          0.012091149123090011,
          0.011947566688228849,
          0.011805315698954669,
          0.01166438925230743,
          0.011524780402627093,
          0.011386482162937242,
          0.011249487506318717,
          0.011113789367273042,
          0.01097938064307554,
          0.010846254195118001,
          0.01071440285024086,
          0.010583819402054453,
          0.010454496612249757,
          0.010326427211897958,
          0.01019960390273908,
          0.01007401935845943,
          0.009949666225957863,
          0.009826537126600506,
          0.00970462465746427,
          0.009583921392568596,
          0.00946441988409573,
          0.009346112663599112,
          0.009228992243200148,
          0.009113051116772925,
          0.008998281761117064,
          0.008884676637118517,
          0.008772228190898294,
          0.008660928854948909,
          0.008550771049258827,
          0.008441747182424363,
          0.00833384965274949,
          0.008227070849333034,
          0.008121403153143676,
          0.008016838938082223,
          0.00791337057203162,
          0.007810990417894182,
          0.00770969083461633,
          0.0076094641782008185,
          0.0075103028027060795,
          0.007412199061233082,
          0.00731514530689943,
          0.007219133893800796,
          0.00712415717795952,
          0.00703020751826057,
          0.006937277277374729,
          0.006845358822669056,
          0.006754444527104456,
          0.006664526770120679,
          0.006575597938508428,
          0.006487650427268793,
          0.006400676640459853,
          0.006314668992030645,
          0.006229619906642329,
          0.006145521820476706,
          0.006062367182032056,
          0.005980148452906186,
          0.005898858108567021,
          0.005818488639110426,
          0.005739032550005575,
          0.005660482362827573,
          0.005582830615977758,
          0.005506069865391376,
          0.005430192685232873,
          0.00535519166857872,
          0.0052810594280879135,
          0.0052077885966600995,
          0.005135371828081525,
          0.00506380179765859,
          0.004993071202839326,
          0.004923172763822796,
          0.0048540992241562445,
          0.0047858433513204065,
          0.004718397937302715,
          0.004651755799158753,
          0.004585909779561703,
          0.004520852747340123,
          0.004456577598003987,
          0.004393077254259106,
          0.004330344666509888,
          0.004268372813350663,
          0.004207154702045568,
          0.0041466833689970655,
          0.004086951880203105,
          0.004027953331703176,
          0.003969680850013149,
          0.003912127592549121,
          0.0038552867480401787,
          0.0037991515369303996,
          0.00374371521176991,
          0.0036889710575953435,
          0.003634912392299509,
          0.0035815325669906026,
          0.0035288249663408917,
          0.003476783008925077,
          0.0034254001475482556,
          0.00337466986956374,
          0.003324585697180774,
          0.003275141187762202,
          0.0032263299341121513,
          0.003178145564753963,
          0.003130581744198351,
          0.0030836321732018454,
          0.0030372905890157552,
          0.0029915507656256427,
          0.002946406513981453,
          0.0029018516822183075,
          0.0028578801558682347,
          0.0028144858580627413,
          0.0027716627497264834,
          0.0027294048297619856,
          0.0026877061352256707,
          0.002646560741495153,
          0.002605962762428032,
          0.002565906350512122,
          0.0025263856970074035,
          0.002487395032079635,
          0.0024489286249258844,
          0.0024109807838919024,
          0.002373545856581591,
          0.0023366182299586194,
          0.0023001923304402723,
          0.002264262623983619,
          0.002228823616164167,
          0.002193869852247065,
          0.002159395917250971,
          0.0021253964360046194,
          0.002091866073196338,
          0.0020587995334164625,
          0.0020261915611928583,
          0.0019940369410195815,
          0.0019623304973788334,
          0.0019310670947563066,
          0.001900241637649939,
          0.0018698490705723399,
          0.0018398843780468301,
          0.0018103425845972995,
          0.0017812187547319224,
          0.0017525079929208882,
          0.0017242054435681793,
          0.0016963062909775986,
          0.0016688057593130029,
          0.00164169911255298,
          0.0016149816544399982,
          0.0015886487284241485,
          0.0015626957176015303,
          0.0015371180446474635,
          0.00151191117174457,
          0.0014870706005058237,
          0.0014625918718926569,
          0.0014384705661282776,
          0.0014147023026062089,
          0.001391282739794234,
          0.001368207575133734,
          0.0013454725449346398,
          0.0013230734242659756,
          0.0013010060268421825,
          0.0012792662049052241,
          0.0012578498491026399,
          0.0012367528883615972,
          0.0012159712897590637,
          0.001195501058388134,
          0.0011753382372206602,
          0.0011554789069662629,
          0.0011359191859277537,
          0.0011166552298531483,
          0.0010976832317842655,
          0.0010789994219020881,
          0.0010606000673688714,
          0.0010424814721671685,
          0.0010246399769358134,
          0.0010070719588029609,
          0.000989773831216227,
          0.0009727420437700854,
          0.0009559730820305215,
          0.0009394634673570838,
          0.0009232097567223538,
          0.0009072085425289813,
          0.000891456452424295,
          0.0008759501491126206,
          0.0008606863301653311,
          0.0008456617278287456,
          0.0008308731088299288,
          0.0008163172741804779,
          0.0008019910589783424,
          0.0007878913322077801,
          0.0007740149965375067,
          0.0007603589881171087,
          0.0007469202763717722,
          0.0007336958637954302,
          0.0007206827857423704,
          0.0007078781102173806,
          0.0006952789376644732,
          0.0006828824007542979,
          0.000670685664170276,
          0.0006586859243935056,
          0.00064688040948654,
          0.0006352663788760733,
          0.0006238411231345992,
          0.0006126019637610929,
          0.0006015462529608012,
          0.0005906713734241713,
          0.0005799747381049926,
          0.0005694537899977868,
          0.0005591060019145358,
          0.000548928876260763,
          0.0005389199448110587,
          0.0005290767684840619,
          0.0005193969371169895,
          0.0005098780692397366,
          0.0005005178118486194,
          0.0004913138401797802,
          0.00048226385748233706,
          0.000473365594791304,
          0.00046461681070033894,
          0.0004560152911343485,
          0.0004475588491220235,
          0.00043924532456832225,
          0.00043107258402696563,
          0.0004230385204729618,
          0.0004151410530752373,
          0.000407378126969383,
          0.00039974771303057457,
          0.00039224780764669835,
          0.0003848764324917265,
          0.0003776316342993732,
          0.0003705114846370834,
          0.00036351407968036496,
          0.00035663753998752446,
          0.0003498800102748374,
          0.00034323965919216766,
          0.00033671467909909554,
          0.00033030328584156895
         ]
        }
       ],
       "layout": {
        "annotations": [
         {
          "align": "center",
          "bgcolor": "white",
          "font": {
           "color": "black",
           "size": 12
          },
          "opacity": 0.7,
          "showarrow": false,
          "text": "Assimetria: 0.37<br>Curtose: 1.12",
          "x": 0.95,
          "xref": "paper",
          "y": 0.95,
          "yref": "paper"
         }
        ],
        "bargap": 0.1,
        "template": {
         "data": {
          "bar": [
           {
            "error_x": {
             "color": "#2a3f5f"
            },
            "error_y": {
             "color": "#2a3f5f"
            },
            "marker": {
             "line": {
              "color": "#E5ECF6",
              "width": 0.5
             },
             "pattern": {
              "fillmode": "overlay",
              "size": 10,
              "solidity": 0.2
             }
            },
            "type": "bar"
           }
          ],
          "barpolar": [
           {
            "marker": {
             "line": {
              "color": "#E5ECF6",
              "width": 0.5
             },
             "pattern": {
              "fillmode": "overlay",
              "size": 10,
              "solidity": 0.2
             }
            },
            "type": "barpolar"
           }
          ],
          "carpet": [
           {
            "aaxis": {
             "endlinecolor": "#2a3f5f",
             "gridcolor": "white",
             "linecolor": "white",
             "minorgridcolor": "white",
             "startlinecolor": "#2a3f5f"
            },
            "baxis": {
             "endlinecolor": "#2a3f5f",
             "gridcolor": "white",
             "linecolor": "white",
             "minorgridcolor": "white",
             "startlinecolor": "#2a3f5f"
            },
            "type": "carpet"
           }
          ],
          "choropleth": [
           {
            "colorbar": {
             "outlinewidth": 0,
             "ticks": ""
            },
            "type": "choropleth"
           }
          ],
          "contour": [
           {
            "colorbar": {
             "outlinewidth": 0,
             "ticks": ""
            },
            "colorscale": [
             [
              0,
              "#0d0887"
             ],
             [
              0.1111111111111111,
              "#46039f"
             ],
             [
              0.2222222222222222,
              "#7201a8"
             ],
             [
              0.3333333333333333,
              "#9c179e"
             ],
             [
              0.4444444444444444,
              "#bd3786"
             ],
             [
              0.5555555555555556,
              "#d8576b"
             ],
             [
              0.6666666666666666,
              "#ed7953"
             ],
             [
              0.7777777777777778,
              "#fb9f3a"
             ],
             [
              0.8888888888888888,
              "#fdca26"
             ],
             [
              1,
              "#f0f921"
             ]
            ],
            "type": "contour"
           }
          ],
          "contourcarpet": [
           {
            "colorbar": {
             "outlinewidth": 0,
             "ticks": ""
            },
            "type": "contourcarpet"
           }
          ],
          "heatmap": [
           {
            "colorbar": {
             "outlinewidth": 0,
             "ticks": ""
            },
            "colorscale": [
             [
              0,
              "#0d0887"
             ],
             [
              0.1111111111111111,
              "#46039f"
             ],
             [
              0.2222222222222222,
              "#7201a8"
             ],
             [
              0.3333333333333333,
              "#9c179e"
             ],
             [
              0.4444444444444444,
              "#bd3786"
             ],
             [
              0.5555555555555556,
              "#d8576b"
             ],
             [
              0.6666666666666666,
              "#ed7953"
             ],
             [
              0.7777777777777778,
              "#fb9f3a"
             ],
             [
              0.8888888888888888,
              "#fdca26"
             ],
             [
              1,
              "#f0f921"
             ]
            ],
            "type": "heatmap"
           }
          ],
          "heatmapgl": [
           {
            "colorbar": {
             "outlinewidth": 0,
             "ticks": ""
            },
            "colorscale": [
             [
              0,
              "#0d0887"
             ],
             [
              0.1111111111111111,
              "#46039f"
             ],
             [
              0.2222222222222222,
              "#7201a8"
             ],
             [
              0.3333333333333333,
              "#9c179e"
             ],
             [
              0.4444444444444444,
              "#bd3786"
             ],
             [
              0.5555555555555556,
              "#d8576b"
             ],
             [
              0.6666666666666666,
              "#ed7953"
             ],
             [
              0.7777777777777778,
              "#fb9f3a"
             ],
             [
              0.8888888888888888,
              "#fdca26"
             ],
             [
              1,
              "#f0f921"
             ]
            ],
            "type": "heatmapgl"
           }
          ],
          "histogram": [
           {
            "marker": {
             "pattern": {
              "fillmode": "overlay",
              "size": 10,
              "solidity": 0.2
             }
            },
            "type": "histogram"
           }
          ],
          "histogram2d": [
           {
            "colorbar": {
             "outlinewidth": 0,
             "ticks": ""
            },
            "colorscale": [
             [
              0,
              "#0d0887"
             ],
             [
              0.1111111111111111,
              "#46039f"
             ],
             [
              0.2222222222222222,
              "#7201a8"
             ],
             [
              0.3333333333333333,
              "#9c179e"
             ],
             [
              0.4444444444444444,
              "#bd3786"
             ],
             [
              0.5555555555555556,
              "#d8576b"
             ],
             [
              0.6666666666666666,
              "#ed7953"
             ],
             [
              0.7777777777777778,
              "#fb9f3a"
             ],
             [
              0.8888888888888888,
              "#fdca26"
             ],
             [
              1,
              "#f0f921"
             ]
            ],
            "type": "histogram2d"
           }
          ],
          "histogram2dcontour": [
           {
            "colorbar": {
             "outlinewidth": 0,
             "ticks": ""
            },
            "colorscale": [
             [
              0,
              "#0d0887"
             ],
             [
              0.1111111111111111,
              "#46039f"
             ],
             [
              0.2222222222222222,
              "#7201a8"
             ],
             [
              0.3333333333333333,
              "#9c179e"
             ],
             [
              0.4444444444444444,
              "#bd3786"
             ],
             [
              0.5555555555555556,
              "#d8576b"
             ],
             [
              0.6666666666666666,
              "#ed7953"
             ],
             [
              0.7777777777777778,
              "#fb9f3a"
             ],
             [
              0.8888888888888888,
              "#fdca26"
             ],
             [
              1,
              "#f0f921"
             ]
            ],
            "type": "histogram2dcontour"
           }
          ],
          "mesh3d": [
           {
            "colorbar": {
             "outlinewidth": 0,
             "ticks": ""
            },
            "type": "mesh3d"
           }
          ],
          "parcoords": [
           {
            "line": {
             "colorbar": {
              "outlinewidth": 0,
              "ticks": ""
             }
            },
            "type": "parcoords"
           }
          ],
          "pie": [
           {
            "automargin": true,
            "type": "pie"
           }
          ],
          "scatter": [
           {
            "fillpattern": {
             "fillmode": "overlay",
             "size": 10,
             "solidity": 0.2
            },
            "type": "scatter"
           }
          ],
          "scatter3d": [
           {
            "line": {
             "colorbar": {
              "outlinewidth": 0,
              "ticks": ""
             }
            },
            "marker": {
             "colorbar": {
              "outlinewidth": 0,
              "ticks": ""
             }
            },
            "type": "scatter3d"
           }
          ],
          "scattercarpet": [
           {
            "marker": {
             "colorbar": {
              "outlinewidth": 0,
              "ticks": ""
             }
            },
            "type": "scattercarpet"
           }
          ],
          "scattergeo": [
           {
            "marker": {
             "colorbar": {
              "outlinewidth": 0,
              "ticks": ""
             }
            },
            "type": "scattergeo"
           }
          ],
          "scattergl": [
           {
            "marker": {
             "colorbar": {
              "outlinewidth": 0,
              "ticks": ""
             }
            },
            "type": "scattergl"
           }
          ],
          "scattermapbox": [
           {
            "marker": {
             "colorbar": {
              "outlinewidth": 0,
              "ticks": ""
             }
            },
            "type": "scattermapbox"
           }
          ],
          "scatterpolar": [
           {
            "marker": {
             "colorbar": {
              "outlinewidth": 0,
              "ticks": ""
             }
            },
            "type": "scatterpolar"
           }
          ],
          "scatterpolargl": [
           {
            "marker": {
             "colorbar": {
              "outlinewidth": 0,
              "ticks": ""
             }
            },
            "type": "scatterpolargl"
           }
          ],
          "scatterternary": [
           {
            "marker": {
             "colorbar": {
              "outlinewidth": 0,
              "ticks": ""
             }
            },
            "type": "scatterternary"
           }
          ],
          "surface": [
           {
            "colorbar": {
             "outlinewidth": 0,
             "ticks": ""
            },
            "colorscale": [
             [
              0,
              "#0d0887"
             ],
             [
              0.1111111111111111,
              "#46039f"
             ],
             [
              0.2222222222222222,
              "#7201a8"
             ],
             [
              0.3333333333333333,
              "#9c179e"
             ],
             [
              0.4444444444444444,
              "#bd3786"
             ],
             [
              0.5555555555555556,
              "#d8576b"
             ],
             [
              0.6666666666666666,
              "#ed7953"
             ],
             [
              0.7777777777777778,
              "#fb9f3a"
             ],
             [
              0.8888888888888888,
              "#fdca26"
             ],
             [
              1,
              "#f0f921"
             ]
            ],
            "type": "surface"
           }
          ],
          "table": [
           {
            "cells": {
             "fill": {
              "color": "#EBF0F8"
             },
             "line": {
              "color": "white"
             }
            },
            "header": {
             "fill": {
              "color": "#C8D4E3"
             },
             "line": {
              "color": "white"
             }
            },
            "type": "table"
           }
          ]
         },
         "layout": {
          "annotationdefaults": {
           "arrowcolor": "#2a3f5f",
           "arrowhead": 0,
           "arrowwidth": 1
          },
          "autotypenumbers": "strict",
          "coloraxis": {
           "colorbar": {
            "outlinewidth": 0,
            "ticks": ""
           }
          },
          "colorscale": {
           "diverging": [
            [
             0,
             "#8e0152"
            ],
            [
             0.1,
             "#c51b7d"
            ],
            [
             0.2,
             "#de77ae"
            ],
            [
             0.3,
             "#f1b6da"
            ],
            [
             0.4,
             "#fde0ef"
            ],
            [
             0.5,
             "#f7f7f7"
            ],
            [
             0.6,
             "#e6f5d0"
            ],
            [
             0.7,
             "#b8e186"
            ],
            [
             0.8,
             "#7fbc41"
            ],
            [
             0.9,
             "#4d9221"
            ],
            [
             1,
             "#276419"
            ]
           ],
           "sequential": [
            [
             0,
             "#0d0887"
            ],
            [
             0.1111111111111111,
             "#46039f"
            ],
            [
             0.2222222222222222,
             "#7201a8"
            ],
            [
             0.3333333333333333,
             "#9c179e"
            ],
            [
             0.4444444444444444,
             "#bd3786"
            ],
            [
             0.5555555555555556,
             "#d8576b"
            ],
            [
             0.6666666666666666,
             "#ed7953"
            ],
            [
             0.7777777777777778,
             "#fb9f3a"
            ],
            [
             0.8888888888888888,
             "#fdca26"
            ],
            [
             1,
             "#f0f921"
            ]
           ],
           "sequentialminus": [
            [
             0,
             "#0d0887"
            ],
            [
             0.1111111111111111,
             "#46039f"
            ],
            [
             0.2222222222222222,
             "#7201a8"
            ],
            [
             0.3333333333333333,
             "#9c179e"
            ],
            [
             0.4444444444444444,
             "#bd3786"
            ],
            [
             0.5555555555555556,
             "#d8576b"
            ],
            [
             0.6666666666666666,
             "#ed7953"
            ],
            [
             0.7777777777777778,
             "#fb9f3a"
            ],
            [
             0.8888888888888888,
             "#fdca26"
            ],
            [
             1,
             "#f0f921"
            ]
           ]
          },
          "colorway": [
           "#636efa",
           "#EF553B",
           "#00cc96",
           "#ab63fa",
           "#FFA15A",
           "#19d3f3",
           "#FF6692",
           "#B6E880",
           "#FF97FF",
           "#FECB52"
          ],
          "font": {
           "color": "#2a3f5f"
          },
          "geo": {
           "bgcolor": "white",
           "lakecolor": "white",
           "landcolor": "#E5ECF6",
           "showlakes": true,
           "showland": true,
           "subunitcolor": "white"
          },
          "hoverlabel": {
           "align": "left"
          },
          "hovermode": "closest",
          "mapbox": {
           "style": "light"
          },
          "paper_bgcolor": "white",
          "plot_bgcolor": "#E5ECF6",
          "polar": {
           "angularaxis": {
            "gridcolor": "white",
            "linecolor": "white",
            "ticks": ""
           },
           "bgcolor": "#E5ECF6",
           "radialaxis": {
            "gridcolor": "white",
            "linecolor": "white",
            "ticks": ""
           }
          },
          "scene": {
           "xaxis": {
            "backgroundcolor": "#E5ECF6",
            "gridcolor": "white",
            "gridwidth": 2,
            "linecolor": "white",
            "showbackground": true,
            "ticks": "",
            "zerolinecolor": "white"
           },
           "yaxis": {
            "backgroundcolor": "#E5ECF6",
            "gridcolor": "white",
            "gridwidth": 2,
            "linecolor": "white",
            "showbackground": true,
            "ticks": "",
            "zerolinecolor": "white"
           },
           "zaxis": {
            "backgroundcolor": "#E5ECF6",
            "gridcolor": "white",
            "gridwidth": 2,
            "linecolor": "white",
            "showbackground": true,
            "ticks": "",
            "zerolinecolor": "white"
           }
          },
          "shapedefaults": {
           "line": {
            "color": "#2a3f5f"
           }
          },
          "ternary": {
           "aaxis": {
            "gridcolor": "white",
            "linecolor": "white",
            "ticks": ""
           },
           "baxis": {
            "gridcolor": "white",
            "linecolor": "white",
            "ticks": ""
           },
           "bgcolor": "#E5ECF6",
           "caxis": {
            "gridcolor": "white",
            "linecolor": "white",
            "ticks": ""
           }
          },
          "title": {
           "x": 0.05
          },
          "xaxis": {
           "automargin": true,
           "gridcolor": "white",
           "linecolor": "white",
           "ticks": "",
           "title": {
            "standoff": 15
           },
           "zerolinecolor": "white",
           "zerolinewidth": 2
          },
          "yaxis": {
           "automargin": true,
           "gridcolor": "white",
           "linecolor": "white",
           "ticks": "",
           "title": {
            "standoff": 15
           },
           "zerolinecolor": "white",
           "zerolinewidth": 2
          }
         }
        },
        "title": {
         "text": "Histograma dos Retornos da Estratégia com Curva Normal Ajustada"
        },
        "xaxis": {
         "title": {
          "text": "Retornos"
         }
        },
        "yaxis": {
         "title": {
          "text": "Frequência (Probabilidade)"
         }
        }
       }
      }
     },
     "metadata": {},
     "output_type": "display_data"
    }
   ],
   "source": [
    "from scipy import stats\n",
    "\n",
    "# Suponha que 'average_monthly_results' seja o seu vetor de retornos da estratégia\n",
    "returns = average_monthly_results  # Substitua com os seus dados de retornos\n",
    "\n",
    "# Ajusta a distribuição normal aos dados (média e desvio padrão)\n",
    "mean, std_dev = stats.norm.fit(returns)\n",
    "\n",
    "# Cria o histograma\n",
    "hist_data = go.Histogram(\n",
    "    x=returns,\n",
    "    nbinsx=30,  # Defina o número de bins conforme necessário\n",
    "    name='Histograma dos Retornos',\n",
    "    opacity=0.75,\n",
    "    histnorm='probability'  # Normaliza o histograma para a probabilidade\n",
    ")\n",
    "\n",
    "# Cria a curva normal ajustada\n",
    "x_range = np.linspace(min(returns), max(returns), 1000)\n",
    "y_range = stats.norm.pdf(x_range, mean, std_dev)  # Calcula a função de densidade da normal\n",
    "\n",
    "# Adiciona a curva normal ao gráfico\n",
    "normal_curve = go.Scatter(\n",
    "    x=x_range,\n",
    "    y=y_range,\n",
    "    mode='lines',\n",
    "    name='Curva Normal Ajustada',\n",
    "    line=dict(color='red', width=2)\n",
    ")\n",
    "\n",
    "# Calcular a assimetria e a curtose\n",
    "skewness = stats.skew(returns)\n",
    "kurtosis = stats.kurtosis(returns)\n",
    "\n",
    "# Cria a figura com histograma e curva normal\n",
    "fig = go.Figure(data=[hist_data, normal_curve])\n",
    "\n",
    "# Adicionar anotações de assimetria e curtose\n",
    "fig.add_annotation(\n",
    "    x=0.95, y=0.95, \n",
    "    text=f'Assimetria: {skewness:.2f}<br>Curtose: {kurtosis:.2f}', \n",
    "    showarrow=False, \n",
    "    font=dict(size=12, color=\"black\"), \n",
    "    align=\"center\", \n",
    "    xref=\"paper\", yref=\"paper\", \n",
    "    bgcolor=\"white\", opacity=0.7\n",
    ")\n",
    "\n",
    "# Atualiza o layout com títulos e rótulos\n",
    "fig.update_layout(\n",
    "    title=\"Histograma dos Retornos da Estratégia com Curva Normal Ajustada\",\n",
    "    xaxis_title=\"Retornos\",\n",
    "    yaxis_title=\"Frequência (Probabilidade)\",\n",
    "    bargap=0.1  # Ajusta o espaçamento entre as barras\n",
    ")\n",
    "\n",
    "# Exibe o gráfico\n",
    "fig.show()\n"
   ]
  },
  {
   "cell_type": "markdown",
   "metadata": {},
   "source": [
    "*Assimetria -> quanto mais próximo de 0, mais \"normal\" é a distribuição*.\n",
    "\n",
    "*Curtose -> quanto mais próximo de 3, mais \"normal\" é a distribuição*."
   ]
  },
  {
   "cell_type": "markdown",
   "metadata": {},
   "source": [
    "A assimetria de 0,37 indica que a distribuição dos retornos é ligeiramente assimétrica para a direita (cauda direita um pouco mais longa ou mais \"gorda\"). Isso significa que, em média, existem algumas observações com retornos maiores, mas não de forma extrema. A assimetria é positiva, mas o valor de 0,37 é relativamente baixo, indicando que a distribuição não é fortemente inclinada, mas apresenta um pequeno desvio da simetria perfeita.\n",
    "\n",
    "A curtose de 1,12 é menor que 3, o que sugere que a distribuição dos retornos tem caudas mais leves do que uma distribuição normal (com curtose = 3). Em outras palavras, essa série tem menos extremos ou valores outliers comparada a uma distribuição normal. Uma curtose de 1,12 indica uma distribuição menos concentrada nas extremidades, com uma forma mais \"achatada\" no centro, em comparação com a distribuição normal.\n",
    "\n",
    "Conclusões:\n",
    "Distribuição levemente assimétrica: A assimetria positiva indica que a distribuição tem uma leve inclinação para a direita, sugerindo que, ocasionalmente, podem ocorrer retornos mais altos, mas não de forma predominante ou extrema.\n",
    "\n",
    "Distribuição com caudas leves: A curtose baixa indica que as caudas da distribuição são mais leves do que uma distribuição normal. Isso pode ser bom para estratégias de risco, pois a probabilidade de grandes perdas (ou ganhos) é menor. Contudo, também significa que a distribuição tende a ser mais concentrada perto da média.\n",
    "\n",
    "Em resumo, a série de retornos tem um comportamento levemente assimétrico para a direita e menos extremos em comparação com uma distribuição normal, o que pode indicar uma estratégia de risco mais controlado, mas também menos propensa a grandes oscilações.\n",
    "\n",
    "**By: ChatGPT**"
   ]
  },
  {
   "cell_type": "markdown",
   "metadata": {},
   "source": [
    "##### **Gráficos relacionados ao modelo MSGARCH e a LSTM**"
   ]
  },
  {
   "cell_type": "markdown",
   "metadata": {},
   "source": [
    "*Vamos utilizar as ações da Coca-Cola Company e do JPMorgan para exemplificar, em um gráfico, como nosso modelo captura a volatilidade condicional. Em seguida, usaremos as ações do JPMorgan para ilustrar, também com um gráfico, como o modelo realiza previsões.*"
   ]
  },
  {
   "cell_type": "code",
   "execution_count": 33,
   "metadata": {},
   "outputs": [],
   "source": [
    "setup = {\n",
    "    # Data inicial para a extração de dados (Deve obrigatoriamente ser um dia de negociação).\n",
    "    \"data_extraction_initial_date\": datetime(2019,1,2).date(), #  Primeiro dia de negociações do S&P500 em 2019.\n",
    "    \n",
    "    # Data final cujos dados serão coletados (Deve obrigatoriamente ser um dia de negociação e \n",
    "    # deve também obrigatoriamente suceder um dia de negociação.).\n",
    "    \"data_extraction_final_date\": datetime(2023,12,30).date(), #(Último dia de negociações do S&P500 em 2023). \n",
    "\n",
    "    # Define os períodos de tempo (janelas móveis) para o cálculo das principais features técnicas a serem usadas no modelo.\n",
    "    \"features_time_period\": {\n",
    "        # Define o período (janela móvel) para o cálculo dos retornos.\n",
    "        \"returns_time_period\": 1,\n",
    "        # Define o período (janela móvel) para o cálculo da média móvel exponencial.\n",
    "        \"exponential_moving_average_time_period\": 14,\n",
    "        # Define o período (janela móvel) para o cálculo do Índice de Força Relativa (RSI).\n",
    "        \"relative_strength_index_time_period\": 14,\n",
    "        # Define o período (janela móvel) para o cálculo da Faixa Média Verdadeira (ATR).\n",
    "        \"average_true_range_time_period\": 14,\n",
    "        # Define o período (janela móvel) para o cálculo do momentum.\n",
    "        \"momemtum_time_period\": 14,\n",
    "        # Frequência para coleta dos dados do VIX. O valor \"1d\" indica que os dados do VIX serão registrados \n",
    "        # em intervalos diários de negociação.\n",
    "        \"vix_time_period\": \"1d\",\n",
    "        # Define o período para o cálculo das mudanças percentuais (Usado no vix e no MSGARCH).\n",
    "        \"pct_change_period\": 1,\n",
    "    },\n",
    "    \n",
    "    # Período da estratégia a ser usada: define a frequência para a análise dos retornos (Ex.: 5 para análise semanal, 20 para mensal).\n",
    "    \"strategy_time_period\": 20, # Observação: São levados em conta como dias na estratégia apenas aqueles onde ocorreram negociações.\n",
    "    \n",
    "    # Define o comprimento das sequências de tempo (janelas móveis) usadas no modelo LSTM.\n",
    "    \"lstm_time_sequences_length\": 3\n",
    "}"
   ]
  },
  {
   "cell_type": "code",
   "execution_count": 34,
   "metadata": {},
   "outputs": [],
   "source": [
    "# Cria um objeto ticker para as ações da Cola Cola Company.\n",
    "coca_cola_data = Ticker(\"KO\", setup['data_extraction_initial_date'], setup['data_extraction_final_date'], setup['features_time_period'],setup['strategy_time_period'])\n",
    "\n",
    "# Cria um objeto ticker para as ações do JPMorgan.\n",
    "jpmorgan_data = Ticker(\"JPM\", setup['data_extraction_initial_date'], setup['data_extraction_final_date'], setup['features_time_period'],setup['strategy_time_period'])"
   ]
  },
  {
   "cell_type": "code",
   "execution_count": 35,
   "metadata": {},
   "outputs": [],
   "source": [
    "# Obtem o resultado da modelagem da volatilidade condicional do ticker \"KO\".\n",
    "coca_cola_conditional_volatility = coca_cola_data.__get_MSGARCH_results__()[1]\n",
    "coca_cola_conditional_volatility.name = \"Coca Cola\" # Seta o nome da série temporal \"coca_cola_conditional_volatility\".\n",
    "\n",
    "# Obtem o resultado da modelagem da volatilidade condicional do ticker \"JPM\".\n",
    "jpmorgan_conditional_volatility = jpmorgan_data.__get_MSGARCH_results__()[1]\n",
    "jpmorgan_conditional_volatility.name = \"JPMorgan\" # Seta o nome da série temporal \"jpmorgan_conditional_volatility\"."
   ]
  },
  {
   "cell_type": "code",
   "execution_count": 36,
   "metadata": {},
   "outputs": [
    {
     "data": {
      "application/vnd.plotly.v1+json": {
       "config": {
        "plotlyServerURL": "https://plot.ly"
       },
       "data": [
        {
         "mode": "lines",
         "name": "Coca Cola",
         "type": "scatter",
         "x": [
          "2019-01-25T00:00:00",
          "2019-01-28T00:00:00",
          "2019-01-29T00:00:00",
          "2019-01-30T00:00:00",
          "2019-01-31T00:00:00",
          "2019-02-01T00:00:00",
          "2019-02-04T00:00:00",
          "2019-02-05T00:00:00",
          "2019-02-06T00:00:00",
          "2019-02-07T00:00:00",
          "2019-02-08T00:00:00",
          "2019-02-11T00:00:00",
          "2019-02-12T00:00:00",
          "2019-02-13T00:00:00",
          "2019-02-14T00:00:00",
          "2019-02-15T00:00:00",
          "2019-02-19T00:00:00",
          "2019-02-20T00:00:00",
          "2019-02-21T00:00:00",
          "2019-02-22T00:00:00",
          "2019-02-25T00:00:00",
          "2019-02-26T00:00:00",
          "2019-02-27T00:00:00",
          "2019-02-28T00:00:00",
          "2019-03-01T00:00:00",
          "2019-03-04T00:00:00",
          "2019-03-05T00:00:00",
          "2019-03-06T00:00:00",
          "2019-03-07T00:00:00",
          "2019-03-08T00:00:00",
          "2019-03-11T00:00:00",
          "2019-03-12T00:00:00",
          "2019-03-13T00:00:00",
          "2019-03-14T00:00:00",
          "2019-03-15T00:00:00",
          "2019-03-18T00:00:00",
          "2019-03-19T00:00:00",
          "2019-03-20T00:00:00",
          "2019-03-21T00:00:00",
          "2019-03-22T00:00:00",
          "2019-03-25T00:00:00",
          "2019-03-26T00:00:00",
          "2019-03-27T00:00:00",
          "2019-03-28T00:00:00",
          "2019-03-29T00:00:00",
          "2019-04-01T00:00:00",
          "2019-04-02T00:00:00",
          "2019-04-03T00:00:00",
          "2019-04-04T00:00:00",
          "2019-04-05T00:00:00",
          "2019-04-08T00:00:00",
          "2019-04-09T00:00:00",
          "2019-04-10T00:00:00",
          "2019-04-11T00:00:00",
          "2019-04-12T00:00:00",
          "2019-04-15T00:00:00",
          "2019-04-16T00:00:00",
          "2019-04-17T00:00:00",
          "2019-04-18T00:00:00",
          "2019-04-22T00:00:00",
          "2019-04-23T00:00:00",
          "2019-04-24T00:00:00",
          "2019-04-25T00:00:00",
          "2019-04-26T00:00:00",
          "2019-04-29T00:00:00",
          "2019-04-30T00:00:00",
          "2019-05-01T00:00:00",
          "2019-05-02T00:00:00",
          "2019-05-03T00:00:00",
          "2019-05-06T00:00:00",
          "2019-05-07T00:00:00",
          "2019-05-08T00:00:00",
          "2019-05-09T00:00:00",
          "2019-05-10T00:00:00",
          "2019-05-13T00:00:00",
          "2019-05-14T00:00:00",
          "2019-05-15T00:00:00",
          "2019-05-16T00:00:00",
          "2019-05-17T00:00:00",
          "2019-05-20T00:00:00",
          "2019-05-21T00:00:00",
          "2019-05-22T00:00:00",
          "2019-05-23T00:00:00",
          "2019-05-24T00:00:00",
          "2019-05-28T00:00:00",
          "2019-05-29T00:00:00",
          "2019-05-30T00:00:00",
          "2019-05-31T00:00:00",
          "2019-06-03T00:00:00",
          "2019-06-04T00:00:00",
          "2019-06-05T00:00:00",
          "2019-06-06T00:00:00",
          "2019-06-07T00:00:00",
          "2019-06-10T00:00:00",
          "2019-06-11T00:00:00",
          "2019-06-12T00:00:00",
          "2019-06-13T00:00:00",
          "2019-06-14T00:00:00",
          "2019-06-17T00:00:00",
          "2019-06-18T00:00:00",
          "2019-06-19T00:00:00",
          "2019-06-20T00:00:00",
          "2019-06-21T00:00:00",
          "2019-06-24T00:00:00",
          "2019-06-25T00:00:00",
          "2019-06-26T00:00:00",
          "2019-06-27T00:00:00",
          "2019-06-28T00:00:00",
          "2019-07-01T00:00:00",
          "2019-07-02T00:00:00",
          "2019-07-03T00:00:00",
          "2019-07-05T00:00:00",
          "2019-07-08T00:00:00",
          "2019-07-09T00:00:00",
          "2019-07-10T00:00:00",
          "2019-07-11T00:00:00",
          "2019-07-12T00:00:00",
          "2019-07-15T00:00:00",
          "2019-07-16T00:00:00",
          "2019-07-17T00:00:00",
          "2019-07-18T00:00:00",
          "2019-07-19T00:00:00",
          "2019-07-22T00:00:00",
          "2019-07-23T00:00:00",
          "2019-07-24T00:00:00",
          "2019-07-25T00:00:00",
          "2019-07-26T00:00:00",
          "2019-07-29T00:00:00",
          "2019-07-30T00:00:00",
          "2019-07-31T00:00:00",
          "2019-08-01T00:00:00",
          "2019-08-02T00:00:00",
          "2019-08-05T00:00:00",
          "2019-08-06T00:00:00",
          "2019-08-07T00:00:00",
          "2019-08-08T00:00:00",
          "2019-08-09T00:00:00",
          "2019-08-12T00:00:00",
          "2019-08-13T00:00:00",
          "2019-08-14T00:00:00",
          "2019-08-15T00:00:00",
          "2019-08-16T00:00:00",
          "2019-08-19T00:00:00",
          "2019-08-20T00:00:00",
          "2019-08-21T00:00:00",
          "2019-08-22T00:00:00",
          "2019-08-23T00:00:00",
          "2019-08-26T00:00:00",
          "2019-08-27T00:00:00",
          "2019-08-28T00:00:00",
          "2019-08-29T00:00:00",
          "2019-08-30T00:00:00",
          "2019-09-03T00:00:00",
          "2019-09-04T00:00:00",
          "2019-09-05T00:00:00",
          "2019-09-06T00:00:00",
          "2019-09-09T00:00:00",
          "2019-09-10T00:00:00",
          "2019-09-11T00:00:00",
          "2019-09-12T00:00:00",
          "2019-09-13T00:00:00",
          "2019-09-16T00:00:00",
          "2019-09-17T00:00:00",
          "2019-09-18T00:00:00",
          "2019-09-19T00:00:00",
          "2019-09-20T00:00:00",
          "2019-09-23T00:00:00",
          "2019-09-24T00:00:00",
          "2019-09-25T00:00:00",
          "2019-09-26T00:00:00",
          "2019-09-27T00:00:00",
          "2019-09-30T00:00:00",
          "2019-10-01T00:00:00",
          "2019-10-02T00:00:00",
          "2019-10-03T00:00:00",
          "2019-10-04T00:00:00",
          "2019-10-07T00:00:00",
          "2019-10-08T00:00:00",
          "2019-10-09T00:00:00",
          "2019-10-10T00:00:00",
          "2019-10-11T00:00:00",
          "2019-10-14T00:00:00",
          "2019-10-15T00:00:00",
          "2019-10-16T00:00:00",
          "2019-10-17T00:00:00",
          "2019-10-18T00:00:00",
          "2019-10-21T00:00:00",
          "2019-10-22T00:00:00",
          "2019-10-23T00:00:00",
          "2019-10-24T00:00:00",
          "2019-10-25T00:00:00",
          "2019-10-28T00:00:00",
          "2019-10-29T00:00:00",
          "2019-10-30T00:00:00",
          "2019-10-31T00:00:00",
          "2019-11-01T00:00:00",
          "2019-11-04T00:00:00",
          "2019-11-05T00:00:00",
          "2019-11-06T00:00:00",
          "2019-11-07T00:00:00",
          "2019-11-08T00:00:00",
          "2019-11-11T00:00:00",
          "2019-11-12T00:00:00",
          "2019-11-13T00:00:00",
          "2019-11-14T00:00:00",
          "2019-11-15T00:00:00",
          "2019-11-18T00:00:00",
          "2019-11-19T00:00:00",
          "2019-11-20T00:00:00",
          "2019-11-21T00:00:00",
          "2019-11-22T00:00:00",
          "2019-11-25T00:00:00",
          "2019-11-26T00:00:00",
          "2019-11-27T00:00:00",
          "2019-11-29T00:00:00",
          "2019-12-02T00:00:00",
          "2019-12-03T00:00:00",
          "2019-12-04T00:00:00",
          "2019-12-05T00:00:00",
          "2019-12-06T00:00:00",
          "2019-12-09T00:00:00",
          "2019-12-10T00:00:00",
          "2019-12-11T00:00:00",
          "2019-12-12T00:00:00",
          "2019-12-13T00:00:00",
          "2019-12-16T00:00:00",
          "2019-12-17T00:00:00",
          "2019-12-18T00:00:00",
          "2019-12-19T00:00:00",
          "2019-12-20T00:00:00",
          "2019-12-23T00:00:00",
          "2019-12-24T00:00:00",
          "2019-12-26T00:00:00",
          "2019-12-27T00:00:00",
          "2019-12-30T00:00:00",
          "2019-12-31T00:00:00",
          "2020-01-02T00:00:00",
          "2020-01-03T00:00:00",
          "2020-01-06T00:00:00",
          "2020-01-07T00:00:00",
          "2020-01-08T00:00:00",
          "2020-01-09T00:00:00",
          "2020-01-10T00:00:00",
          "2020-01-13T00:00:00",
          "2020-01-14T00:00:00",
          "2020-01-15T00:00:00",
          "2020-01-16T00:00:00",
          "2020-01-17T00:00:00",
          "2020-01-21T00:00:00",
          "2020-01-22T00:00:00",
          "2020-01-23T00:00:00",
          "2020-01-24T00:00:00",
          "2020-01-27T00:00:00",
          "2020-01-28T00:00:00",
          "2020-01-29T00:00:00",
          "2020-01-30T00:00:00",
          "2020-01-31T00:00:00",
          "2020-02-03T00:00:00",
          "2020-02-04T00:00:00",
          "2020-02-05T00:00:00",
          "2020-02-06T00:00:00",
          "2020-02-07T00:00:00",
          "2020-02-10T00:00:00",
          "2020-02-11T00:00:00",
          "2020-02-12T00:00:00",
          "2020-02-13T00:00:00",
          "2020-02-14T00:00:00",
          "2020-02-18T00:00:00",
          "2020-02-19T00:00:00",
          "2020-02-20T00:00:00",
          "2020-02-21T00:00:00",
          "2020-02-24T00:00:00",
          "2020-02-25T00:00:00",
          "2020-02-26T00:00:00",
          "2020-02-27T00:00:00",
          "2020-02-28T00:00:00",
          "2020-03-02T00:00:00",
          "2020-03-03T00:00:00",
          "2020-03-04T00:00:00",
          "2020-03-05T00:00:00",
          "2020-03-06T00:00:00",
          "2020-03-09T00:00:00",
          "2020-03-10T00:00:00",
          "2020-03-11T00:00:00",
          "2020-03-12T00:00:00",
          "2020-03-13T00:00:00",
          "2020-03-16T00:00:00",
          "2020-03-17T00:00:00",
          "2020-03-18T00:00:00",
          "2020-03-19T00:00:00",
          "2020-03-20T00:00:00",
          "2020-03-23T00:00:00",
          "2020-03-24T00:00:00",
          "2020-03-25T00:00:00",
          "2020-03-26T00:00:00",
          "2020-03-27T00:00:00",
          "2020-03-30T00:00:00",
          "2020-03-31T00:00:00",
          "2020-04-01T00:00:00",
          "2020-04-02T00:00:00",
          "2020-04-03T00:00:00",
          "2020-04-06T00:00:00",
          "2020-04-07T00:00:00",
          "2020-04-08T00:00:00",
          "2020-04-09T00:00:00",
          "2020-04-13T00:00:00",
          "2020-04-14T00:00:00",
          "2020-04-15T00:00:00",
          "2020-04-16T00:00:00",
          "2020-04-17T00:00:00",
          "2020-04-20T00:00:00",
          "2020-04-21T00:00:00",
          "2020-04-22T00:00:00",
          "2020-04-23T00:00:00",
          "2020-04-24T00:00:00",
          "2020-04-27T00:00:00",
          "2020-04-28T00:00:00",
          "2020-04-29T00:00:00",
          "2020-04-30T00:00:00",
          "2020-05-01T00:00:00",
          "2020-05-04T00:00:00",
          "2020-05-05T00:00:00",
          "2020-05-06T00:00:00",
          "2020-05-07T00:00:00",
          "2020-05-08T00:00:00",
          "2020-05-11T00:00:00",
          "2020-05-12T00:00:00",
          "2020-05-13T00:00:00",
          "2020-05-14T00:00:00",
          "2020-05-15T00:00:00",
          "2020-05-18T00:00:00",
          "2020-05-19T00:00:00",
          "2020-05-20T00:00:00",
          "2020-05-21T00:00:00",
          "2020-05-22T00:00:00",
          "2020-05-26T00:00:00",
          "2020-05-27T00:00:00",
          "2020-05-28T00:00:00",
          "2020-05-29T00:00:00",
          "2020-06-01T00:00:00",
          "2020-06-02T00:00:00",
          "2020-06-03T00:00:00",
          "2020-06-04T00:00:00",
          "2020-06-05T00:00:00",
          "2020-06-08T00:00:00",
          "2020-06-09T00:00:00",
          "2020-06-10T00:00:00",
          "2020-06-11T00:00:00",
          "2020-06-12T00:00:00",
          "2020-06-15T00:00:00",
          "2020-06-16T00:00:00",
          "2020-06-17T00:00:00",
          "2020-06-18T00:00:00",
          "2020-06-19T00:00:00",
          "2020-06-22T00:00:00",
          "2020-06-23T00:00:00",
          "2020-06-24T00:00:00",
          "2020-06-25T00:00:00",
          "2020-06-26T00:00:00",
          "2020-06-29T00:00:00",
          "2020-06-30T00:00:00",
          "2020-07-01T00:00:00",
          "2020-07-02T00:00:00",
          "2020-07-06T00:00:00",
          "2020-07-07T00:00:00",
          "2020-07-08T00:00:00",
          "2020-07-09T00:00:00",
          "2020-07-10T00:00:00",
          "2020-07-13T00:00:00",
          "2020-07-14T00:00:00",
          "2020-07-15T00:00:00",
          "2020-07-16T00:00:00",
          "2020-07-17T00:00:00",
          "2020-07-20T00:00:00",
          "2020-07-21T00:00:00",
          "2020-07-22T00:00:00",
          "2020-07-23T00:00:00",
          "2020-07-24T00:00:00",
          "2020-07-27T00:00:00",
          "2020-07-28T00:00:00",
          "2020-07-29T00:00:00",
          "2020-07-30T00:00:00",
          "2020-07-31T00:00:00",
          "2020-08-03T00:00:00",
          "2020-08-04T00:00:00",
          "2020-08-05T00:00:00",
          "2020-08-06T00:00:00",
          "2020-08-07T00:00:00",
          "2020-08-10T00:00:00",
          "2020-08-11T00:00:00",
          "2020-08-12T00:00:00",
          "2020-08-13T00:00:00",
          "2020-08-14T00:00:00",
          "2020-08-17T00:00:00",
          "2020-08-18T00:00:00",
          "2020-08-19T00:00:00",
          "2020-08-20T00:00:00",
          "2020-08-21T00:00:00",
          "2020-08-24T00:00:00",
          "2020-08-25T00:00:00",
          "2020-08-26T00:00:00",
          "2020-08-27T00:00:00",
          "2020-08-28T00:00:00",
          "2020-08-31T00:00:00",
          "2020-09-01T00:00:00",
          "2020-09-02T00:00:00",
          "2020-09-03T00:00:00",
          "2020-09-04T00:00:00",
          "2020-09-08T00:00:00",
          "2020-09-09T00:00:00",
          "2020-09-10T00:00:00",
          "2020-09-11T00:00:00",
          "2020-09-14T00:00:00",
          "2020-09-15T00:00:00",
          "2020-09-16T00:00:00",
          "2020-09-17T00:00:00",
          "2020-09-18T00:00:00",
          "2020-09-21T00:00:00",
          "2020-09-22T00:00:00",
          "2020-09-23T00:00:00",
          "2020-09-24T00:00:00",
          "2020-09-25T00:00:00",
          "2020-09-28T00:00:00",
          "2020-09-29T00:00:00",
          "2020-09-30T00:00:00",
          "2020-10-01T00:00:00",
          "2020-10-02T00:00:00",
          "2020-10-05T00:00:00",
          "2020-10-06T00:00:00",
          "2020-10-07T00:00:00",
          "2020-10-08T00:00:00",
          "2020-10-09T00:00:00",
          "2020-10-12T00:00:00",
          "2020-10-13T00:00:00",
          "2020-10-14T00:00:00",
          "2020-10-15T00:00:00",
          "2020-10-16T00:00:00",
          "2020-10-19T00:00:00",
          "2020-10-20T00:00:00",
          "2020-10-21T00:00:00",
          "2020-10-22T00:00:00",
          "2020-10-23T00:00:00",
          "2020-10-26T00:00:00",
          "2020-10-27T00:00:00",
          "2020-10-28T00:00:00",
          "2020-10-29T00:00:00",
          "2020-10-30T00:00:00",
          "2020-11-02T00:00:00",
          "2020-11-03T00:00:00",
          "2020-11-04T00:00:00",
          "2020-11-05T00:00:00",
          "2020-11-06T00:00:00",
          "2020-11-09T00:00:00",
          "2020-11-10T00:00:00",
          "2020-11-11T00:00:00",
          "2020-11-12T00:00:00",
          "2020-11-13T00:00:00",
          "2020-11-16T00:00:00",
          "2020-11-17T00:00:00",
          "2020-11-18T00:00:00",
          "2020-11-19T00:00:00",
          "2020-11-20T00:00:00",
          "2020-11-23T00:00:00",
          "2020-11-24T00:00:00",
          "2020-11-25T00:00:00",
          "2020-11-27T00:00:00",
          "2020-11-30T00:00:00",
          "2020-12-01T00:00:00",
          "2020-12-02T00:00:00",
          "2020-12-03T00:00:00",
          "2020-12-04T00:00:00",
          "2020-12-07T00:00:00",
          "2020-12-08T00:00:00",
          "2020-12-09T00:00:00",
          "2020-12-10T00:00:00",
          "2020-12-11T00:00:00",
          "2020-12-14T00:00:00",
          "2020-12-15T00:00:00",
          "2020-12-16T00:00:00",
          "2020-12-17T00:00:00",
          "2020-12-18T00:00:00",
          "2020-12-21T00:00:00",
          "2020-12-22T00:00:00",
          "2020-12-23T00:00:00",
          "2020-12-24T00:00:00",
          "2020-12-28T00:00:00",
          "2020-12-29T00:00:00",
          "2020-12-30T00:00:00",
          "2020-12-31T00:00:00",
          "2021-01-04T00:00:00",
          "2021-01-05T00:00:00",
          "2021-01-06T00:00:00",
          "2021-01-07T00:00:00",
          "2021-01-08T00:00:00",
          "2021-01-11T00:00:00",
          "2021-01-12T00:00:00",
          "2021-01-13T00:00:00",
          "2021-01-14T00:00:00",
          "2021-01-15T00:00:00",
          "2021-01-19T00:00:00",
          "2021-01-20T00:00:00",
          "2021-01-21T00:00:00",
          "2021-01-22T00:00:00",
          "2021-01-25T00:00:00",
          "2021-01-26T00:00:00",
          "2021-01-27T00:00:00",
          "2021-01-28T00:00:00",
          "2021-01-29T00:00:00",
          "2021-02-01T00:00:00",
          "2021-02-02T00:00:00",
          "2021-02-03T00:00:00",
          "2021-02-04T00:00:00",
          "2021-02-05T00:00:00",
          "2021-02-08T00:00:00",
          "2021-02-09T00:00:00",
          "2021-02-10T00:00:00",
          "2021-02-11T00:00:00",
          "2021-02-12T00:00:00",
          "2021-02-16T00:00:00",
          "2021-02-17T00:00:00",
          "2021-02-18T00:00:00",
          "2021-02-19T00:00:00",
          "2021-02-22T00:00:00",
          "2021-02-23T00:00:00",
          "2021-02-24T00:00:00",
          "2021-02-25T00:00:00",
          "2021-02-26T00:00:00",
          "2021-03-01T00:00:00",
          "2021-03-02T00:00:00",
          "2021-03-03T00:00:00",
          "2021-03-04T00:00:00",
          "2021-03-05T00:00:00",
          "2021-03-08T00:00:00",
          "2021-03-09T00:00:00",
          "2021-03-10T00:00:00",
          "2021-03-11T00:00:00",
          "2021-03-12T00:00:00",
          "2021-03-15T00:00:00",
          "2021-03-16T00:00:00",
          "2021-03-17T00:00:00",
          "2021-03-18T00:00:00",
          "2021-03-19T00:00:00",
          "2021-03-22T00:00:00",
          "2021-03-23T00:00:00",
          "2021-03-24T00:00:00",
          "2021-03-25T00:00:00",
          "2021-03-26T00:00:00",
          "2021-03-29T00:00:00",
          "2021-03-30T00:00:00",
          "2021-03-31T00:00:00",
          "2021-04-01T00:00:00",
          "2021-04-05T00:00:00",
          "2021-04-06T00:00:00",
          "2021-04-07T00:00:00",
          "2021-04-08T00:00:00",
          "2021-04-09T00:00:00",
          "2021-04-12T00:00:00",
          "2021-04-13T00:00:00",
          "2021-04-14T00:00:00",
          "2021-04-15T00:00:00",
          "2021-04-16T00:00:00",
          "2021-04-19T00:00:00",
          "2021-04-20T00:00:00",
          "2021-04-21T00:00:00",
          "2021-04-22T00:00:00",
          "2021-04-23T00:00:00",
          "2021-04-26T00:00:00",
          "2021-04-27T00:00:00",
          "2021-04-28T00:00:00",
          "2021-04-29T00:00:00",
          "2021-04-30T00:00:00",
          "2021-05-03T00:00:00",
          "2021-05-04T00:00:00",
          "2021-05-05T00:00:00",
          "2021-05-06T00:00:00",
          "2021-05-07T00:00:00",
          "2021-05-10T00:00:00",
          "2021-05-11T00:00:00",
          "2021-05-12T00:00:00",
          "2021-05-13T00:00:00",
          "2021-05-14T00:00:00",
          "2021-05-17T00:00:00",
          "2021-05-18T00:00:00",
          "2021-05-19T00:00:00",
          "2021-05-20T00:00:00",
          "2021-05-21T00:00:00",
          "2021-05-24T00:00:00",
          "2021-05-25T00:00:00",
          "2021-05-26T00:00:00",
          "2021-05-27T00:00:00",
          "2021-05-28T00:00:00",
          "2021-06-01T00:00:00",
          "2021-06-02T00:00:00",
          "2021-06-03T00:00:00",
          "2021-06-04T00:00:00",
          "2021-06-07T00:00:00",
          "2021-06-08T00:00:00",
          "2021-06-09T00:00:00",
          "2021-06-10T00:00:00",
          "2021-06-11T00:00:00",
          "2021-06-14T00:00:00",
          "2021-06-15T00:00:00",
          "2021-06-16T00:00:00",
          "2021-06-17T00:00:00",
          "2021-06-18T00:00:00",
          "2021-06-21T00:00:00",
          "2021-06-22T00:00:00",
          "2021-06-23T00:00:00",
          "2021-06-24T00:00:00",
          "2021-06-25T00:00:00",
          "2021-06-28T00:00:00",
          "2021-06-29T00:00:00",
          "2021-06-30T00:00:00",
          "2021-07-01T00:00:00",
          "2021-07-02T00:00:00",
          "2021-07-06T00:00:00",
          "2021-07-07T00:00:00",
          "2021-07-08T00:00:00",
          "2021-07-09T00:00:00",
          "2021-07-12T00:00:00",
          "2021-07-13T00:00:00",
          "2021-07-14T00:00:00",
          "2021-07-15T00:00:00",
          "2021-07-16T00:00:00",
          "2021-07-19T00:00:00",
          "2021-07-20T00:00:00",
          "2021-07-21T00:00:00",
          "2021-07-22T00:00:00",
          "2021-07-23T00:00:00",
          "2021-07-26T00:00:00",
          "2021-07-27T00:00:00",
          "2021-07-28T00:00:00",
          "2021-07-29T00:00:00",
          "2021-07-30T00:00:00",
          "2021-08-02T00:00:00",
          "2021-08-03T00:00:00",
          "2021-08-04T00:00:00",
          "2021-08-05T00:00:00",
          "2021-08-06T00:00:00",
          "2021-08-09T00:00:00",
          "2021-08-10T00:00:00",
          "2021-08-11T00:00:00",
          "2021-08-12T00:00:00",
          "2021-08-13T00:00:00",
          "2021-08-16T00:00:00",
          "2021-08-17T00:00:00",
          "2021-08-18T00:00:00",
          "2021-08-19T00:00:00",
          "2021-08-20T00:00:00",
          "2021-08-23T00:00:00",
          "2021-08-24T00:00:00",
          "2021-08-25T00:00:00",
          "2021-08-26T00:00:00",
          "2021-08-27T00:00:00",
          "2021-08-30T00:00:00",
          "2021-08-31T00:00:00",
          "2021-09-01T00:00:00",
          "2021-09-02T00:00:00",
          "2021-09-03T00:00:00",
          "2021-09-07T00:00:00",
          "2021-09-08T00:00:00",
          "2021-09-09T00:00:00",
          "2021-09-10T00:00:00",
          "2021-09-13T00:00:00",
          "2021-09-14T00:00:00",
          "2021-09-15T00:00:00",
          "2021-09-16T00:00:00",
          "2021-09-17T00:00:00",
          "2021-09-20T00:00:00",
          "2021-09-21T00:00:00",
          "2021-09-22T00:00:00",
          "2021-09-23T00:00:00",
          "2021-09-24T00:00:00",
          "2021-09-27T00:00:00",
          "2021-09-28T00:00:00",
          "2021-09-29T00:00:00",
          "2021-09-30T00:00:00",
          "2021-10-01T00:00:00",
          "2021-10-04T00:00:00",
          "2021-10-05T00:00:00",
          "2021-10-06T00:00:00",
          "2021-10-07T00:00:00",
          "2021-10-08T00:00:00",
          "2021-10-11T00:00:00",
          "2021-10-12T00:00:00",
          "2021-10-13T00:00:00",
          "2021-10-14T00:00:00",
          "2021-10-15T00:00:00",
          "2021-10-18T00:00:00",
          "2021-10-19T00:00:00",
          "2021-10-20T00:00:00",
          "2021-10-21T00:00:00",
          "2021-10-22T00:00:00",
          "2021-10-25T00:00:00",
          "2021-10-26T00:00:00",
          "2021-10-27T00:00:00",
          "2021-10-28T00:00:00",
          "2021-10-29T00:00:00",
          "2021-11-01T00:00:00",
          "2021-11-02T00:00:00",
          "2021-11-03T00:00:00",
          "2021-11-04T00:00:00",
          "2021-11-05T00:00:00",
          "2021-11-08T00:00:00",
          "2021-11-09T00:00:00",
          "2021-11-10T00:00:00",
          "2021-11-11T00:00:00",
          "2021-11-12T00:00:00",
          "2021-11-15T00:00:00",
          "2021-11-16T00:00:00",
          "2021-11-17T00:00:00",
          "2021-11-18T00:00:00",
          "2021-11-19T00:00:00",
          "2021-11-22T00:00:00",
          "2021-11-23T00:00:00",
          "2021-11-24T00:00:00",
          "2021-11-26T00:00:00",
          "2021-11-29T00:00:00",
          "2021-11-30T00:00:00",
          "2021-12-01T00:00:00",
          "2021-12-02T00:00:00",
          "2021-12-03T00:00:00",
          "2021-12-06T00:00:00",
          "2021-12-07T00:00:00",
          "2021-12-08T00:00:00",
          "2021-12-09T00:00:00",
          "2021-12-10T00:00:00",
          "2021-12-13T00:00:00",
          "2021-12-14T00:00:00",
          "2021-12-15T00:00:00",
          "2021-12-16T00:00:00",
          "2021-12-17T00:00:00",
          "2021-12-20T00:00:00",
          "2021-12-21T00:00:00",
          "2021-12-22T00:00:00",
          "2021-12-23T00:00:00",
          "2021-12-27T00:00:00",
          "2021-12-28T00:00:00",
          "2021-12-29T00:00:00",
          "2021-12-30T00:00:00",
          "2021-12-31T00:00:00",
          "2022-01-03T00:00:00",
          "2022-01-04T00:00:00",
          "2022-01-05T00:00:00",
          "2022-01-06T00:00:00",
          "2022-01-07T00:00:00",
          "2022-01-10T00:00:00",
          "2022-01-11T00:00:00",
          "2022-01-12T00:00:00",
          "2022-01-13T00:00:00",
          "2022-01-14T00:00:00",
          "2022-01-18T00:00:00",
          "2022-01-19T00:00:00",
          "2022-01-20T00:00:00",
          "2022-01-21T00:00:00",
          "2022-01-24T00:00:00",
          "2022-01-25T00:00:00",
          "2022-01-26T00:00:00",
          "2022-01-27T00:00:00",
          "2022-01-28T00:00:00",
          "2022-01-31T00:00:00",
          "2022-02-01T00:00:00",
          "2022-02-02T00:00:00",
          "2022-02-03T00:00:00",
          "2022-02-04T00:00:00",
          "2022-02-07T00:00:00",
          "2022-02-08T00:00:00",
          "2022-02-09T00:00:00",
          "2022-02-10T00:00:00",
          "2022-02-11T00:00:00",
          "2022-02-14T00:00:00",
          "2022-02-15T00:00:00",
          "2022-02-16T00:00:00",
          "2022-02-17T00:00:00",
          "2022-02-18T00:00:00",
          "2022-02-22T00:00:00",
          "2022-02-23T00:00:00",
          "2022-02-24T00:00:00",
          "2022-02-25T00:00:00",
          "2022-02-28T00:00:00",
          "2022-03-01T00:00:00",
          "2022-03-02T00:00:00",
          "2022-03-03T00:00:00",
          "2022-03-04T00:00:00",
          "2022-03-07T00:00:00",
          "2022-03-08T00:00:00",
          "2022-03-09T00:00:00",
          "2022-03-10T00:00:00",
          "2022-03-11T00:00:00",
          "2022-03-14T00:00:00",
          "2022-03-15T00:00:00",
          "2022-03-16T00:00:00",
          "2022-03-17T00:00:00",
          "2022-03-18T00:00:00",
          "2022-03-21T00:00:00",
          "2022-03-22T00:00:00",
          "2022-03-23T00:00:00",
          "2022-03-24T00:00:00",
          "2022-03-25T00:00:00",
          "2022-03-28T00:00:00",
          "2022-03-29T00:00:00",
          "2022-03-30T00:00:00",
          "2022-03-31T00:00:00",
          "2022-04-01T00:00:00",
          "2022-04-04T00:00:00",
          "2022-04-05T00:00:00",
          "2022-04-06T00:00:00",
          "2022-04-07T00:00:00",
          "2022-04-08T00:00:00",
          "2022-04-11T00:00:00",
          "2022-04-12T00:00:00",
          "2022-04-13T00:00:00",
          "2022-04-14T00:00:00",
          "2022-04-18T00:00:00",
          "2022-04-19T00:00:00",
          "2022-04-20T00:00:00",
          "2022-04-21T00:00:00",
          "2022-04-22T00:00:00",
          "2022-04-25T00:00:00",
          "2022-04-26T00:00:00",
          "2022-04-27T00:00:00",
          "2022-04-28T00:00:00",
          "2022-04-29T00:00:00",
          "2022-05-02T00:00:00",
          "2022-05-03T00:00:00",
          "2022-05-04T00:00:00",
          "2022-05-05T00:00:00",
          "2022-05-06T00:00:00",
          "2022-05-09T00:00:00",
          "2022-05-10T00:00:00",
          "2022-05-11T00:00:00",
          "2022-05-12T00:00:00",
          "2022-05-13T00:00:00",
          "2022-05-16T00:00:00",
          "2022-05-17T00:00:00",
          "2022-05-18T00:00:00",
          "2022-05-19T00:00:00",
          "2022-05-20T00:00:00",
          "2022-05-23T00:00:00",
          "2022-05-24T00:00:00",
          "2022-05-25T00:00:00",
          "2022-05-26T00:00:00",
          "2022-05-27T00:00:00",
          "2022-05-31T00:00:00",
          "2022-06-01T00:00:00",
          "2022-06-02T00:00:00",
          "2022-06-03T00:00:00",
          "2022-06-06T00:00:00",
          "2022-06-07T00:00:00",
          "2022-06-08T00:00:00",
          "2022-06-09T00:00:00",
          "2022-06-10T00:00:00",
          "2022-06-13T00:00:00",
          "2022-06-14T00:00:00",
          "2022-06-15T00:00:00",
          "2022-06-16T00:00:00",
          "2022-06-17T00:00:00",
          "2022-06-21T00:00:00",
          "2022-06-22T00:00:00",
          "2022-06-23T00:00:00",
          "2022-06-24T00:00:00",
          "2022-06-27T00:00:00",
          "2022-06-28T00:00:00",
          "2022-06-29T00:00:00",
          "2022-06-30T00:00:00",
          "2022-07-01T00:00:00",
          "2022-07-05T00:00:00",
          "2022-07-06T00:00:00",
          "2022-07-07T00:00:00",
          "2022-07-08T00:00:00",
          "2022-07-11T00:00:00",
          "2022-07-12T00:00:00",
          "2022-07-13T00:00:00",
          "2022-07-14T00:00:00",
          "2022-07-15T00:00:00",
          "2022-07-18T00:00:00",
          "2022-07-19T00:00:00",
          "2022-07-20T00:00:00",
          "2022-07-21T00:00:00",
          "2022-07-22T00:00:00",
          "2022-07-25T00:00:00",
          "2022-07-26T00:00:00",
          "2022-07-27T00:00:00",
          "2022-07-28T00:00:00",
          "2022-07-29T00:00:00",
          "2022-08-01T00:00:00",
          "2022-08-02T00:00:00",
          "2022-08-03T00:00:00",
          "2022-08-04T00:00:00",
          "2022-08-05T00:00:00",
          "2022-08-08T00:00:00",
          "2022-08-09T00:00:00",
          "2022-08-10T00:00:00",
          "2022-08-11T00:00:00",
          "2022-08-12T00:00:00",
          "2022-08-15T00:00:00",
          "2022-08-16T00:00:00",
          "2022-08-17T00:00:00",
          "2022-08-18T00:00:00",
          "2022-08-19T00:00:00",
          "2022-08-22T00:00:00",
          "2022-08-23T00:00:00",
          "2022-08-24T00:00:00",
          "2022-08-25T00:00:00",
          "2022-08-26T00:00:00",
          "2022-08-29T00:00:00",
          "2022-08-30T00:00:00",
          "2022-08-31T00:00:00",
          "2022-09-01T00:00:00",
          "2022-09-02T00:00:00",
          "2022-09-06T00:00:00",
          "2022-09-07T00:00:00",
          "2022-09-08T00:00:00",
          "2022-09-09T00:00:00",
          "2022-09-12T00:00:00",
          "2022-09-13T00:00:00",
          "2022-09-14T00:00:00",
          "2022-09-15T00:00:00",
          "2022-09-16T00:00:00",
          "2022-09-19T00:00:00",
          "2022-09-20T00:00:00",
          "2022-09-21T00:00:00",
          "2022-09-22T00:00:00",
          "2022-09-23T00:00:00",
          "2022-09-26T00:00:00",
          "2022-09-27T00:00:00",
          "2022-09-28T00:00:00",
          "2022-09-29T00:00:00",
          "2022-09-30T00:00:00",
          "2022-10-03T00:00:00",
          "2022-10-04T00:00:00",
          "2022-10-05T00:00:00",
          "2022-10-06T00:00:00",
          "2022-10-07T00:00:00",
          "2022-10-10T00:00:00",
          "2022-10-11T00:00:00",
          "2022-10-12T00:00:00",
          "2022-10-13T00:00:00",
          "2022-10-14T00:00:00",
          "2022-10-17T00:00:00",
          "2022-10-18T00:00:00",
          "2022-10-19T00:00:00",
          "2022-10-20T00:00:00",
          "2022-10-21T00:00:00",
          "2022-10-24T00:00:00",
          "2022-10-25T00:00:00",
          "2022-10-26T00:00:00",
          "2022-10-27T00:00:00",
          "2022-10-28T00:00:00",
          "2022-10-31T00:00:00",
          "2022-11-01T00:00:00",
          "2022-11-02T00:00:00",
          "2022-11-03T00:00:00",
          "2022-11-04T00:00:00",
          "2022-11-07T00:00:00",
          "2022-11-08T00:00:00",
          "2022-11-09T00:00:00",
          "2022-11-10T00:00:00",
          "2022-11-11T00:00:00",
          "2022-11-14T00:00:00",
          "2022-11-15T00:00:00",
          "2022-11-16T00:00:00",
          "2022-11-17T00:00:00",
          "2022-11-18T00:00:00",
          "2022-11-21T00:00:00",
          "2022-11-22T00:00:00",
          "2022-11-23T00:00:00",
          "2022-11-25T00:00:00",
          "2022-11-28T00:00:00",
          "2022-11-29T00:00:00",
          "2022-11-30T00:00:00",
          "2022-12-01T00:00:00",
          "2022-12-02T00:00:00",
          "2022-12-05T00:00:00",
          "2022-12-06T00:00:00",
          "2022-12-07T00:00:00",
          "2022-12-08T00:00:00",
          "2022-12-09T00:00:00",
          "2022-12-12T00:00:00",
          "2022-12-13T00:00:00",
          "2022-12-14T00:00:00",
          "2022-12-15T00:00:00",
          "2022-12-16T00:00:00",
          "2022-12-19T00:00:00",
          "2022-12-20T00:00:00",
          "2022-12-21T00:00:00",
          "2022-12-22T00:00:00",
          "2022-12-23T00:00:00",
          "2022-12-27T00:00:00",
          "2022-12-28T00:00:00",
          "2022-12-29T00:00:00",
          "2022-12-30T00:00:00",
          "2023-01-03T00:00:00",
          "2023-01-04T00:00:00",
          "2023-01-05T00:00:00",
          "2023-01-06T00:00:00",
          "2023-01-09T00:00:00",
          "2023-01-10T00:00:00",
          "2023-01-11T00:00:00",
          "2023-01-12T00:00:00",
          "2023-01-13T00:00:00",
          "2023-01-17T00:00:00",
          "2023-01-18T00:00:00",
          "2023-01-19T00:00:00",
          "2023-01-20T00:00:00",
          "2023-01-23T00:00:00",
          "2023-01-24T00:00:00",
          "2023-01-25T00:00:00",
          "2023-01-26T00:00:00",
          "2023-01-27T00:00:00",
          "2023-01-30T00:00:00",
          "2023-01-31T00:00:00",
          "2023-02-01T00:00:00",
          "2023-02-02T00:00:00",
          "2023-02-03T00:00:00",
          "2023-02-06T00:00:00",
          "2023-02-07T00:00:00",
          "2023-02-08T00:00:00",
          "2023-02-09T00:00:00",
          "2023-02-10T00:00:00",
          "2023-02-13T00:00:00",
          "2023-02-14T00:00:00",
          "2023-02-15T00:00:00",
          "2023-02-16T00:00:00",
          "2023-02-17T00:00:00",
          "2023-02-21T00:00:00",
          "2023-02-22T00:00:00",
          "2023-02-23T00:00:00",
          "2023-02-24T00:00:00",
          "2023-02-27T00:00:00",
          "2023-02-28T00:00:00",
          "2023-03-01T00:00:00",
          "2023-03-02T00:00:00",
          "2023-03-03T00:00:00",
          "2023-03-06T00:00:00",
          "2023-03-07T00:00:00",
          "2023-03-08T00:00:00",
          "2023-03-09T00:00:00",
          "2023-03-10T00:00:00",
          "2023-03-13T00:00:00",
          "2023-03-14T00:00:00",
          "2023-03-15T00:00:00",
          "2023-03-16T00:00:00",
          "2023-03-17T00:00:00",
          "2023-03-20T00:00:00",
          "2023-03-21T00:00:00",
          "2023-03-22T00:00:00",
          "2023-03-23T00:00:00",
          "2023-03-24T00:00:00",
          "2023-03-27T00:00:00",
          "2023-03-28T00:00:00",
          "2023-03-29T00:00:00",
          "2023-03-30T00:00:00",
          "2023-03-31T00:00:00",
          "2023-04-03T00:00:00",
          "2023-04-04T00:00:00",
          "2023-04-05T00:00:00",
          "2023-04-06T00:00:00",
          "2023-04-10T00:00:00",
          "2023-04-11T00:00:00",
          "2023-04-12T00:00:00",
          "2023-04-13T00:00:00",
          "2023-04-14T00:00:00",
          "2023-04-17T00:00:00",
          "2023-04-18T00:00:00",
          "2023-04-19T00:00:00",
          "2023-04-20T00:00:00",
          "2023-04-21T00:00:00",
          "2023-04-24T00:00:00",
          "2023-04-25T00:00:00",
          "2023-04-26T00:00:00",
          "2023-04-27T00:00:00",
          "2023-04-28T00:00:00",
          "2023-05-01T00:00:00",
          "2023-05-02T00:00:00",
          "2023-05-03T00:00:00",
          "2023-05-04T00:00:00",
          "2023-05-05T00:00:00",
          "2023-05-08T00:00:00",
          "2023-05-09T00:00:00",
          "2023-05-10T00:00:00",
          "2023-05-11T00:00:00",
          "2023-05-12T00:00:00",
          "2023-05-15T00:00:00",
          "2023-05-16T00:00:00",
          "2023-05-17T00:00:00",
          "2023-05-18T00:00:00",
          "2023-05-19T00:00:00",
          "2023-05-22T00:00:00",
          "2023-05-23T00:00:00",
          "2023-05-24T00:00:00",
          "2023-05-25T00:00:00",
          "2023-05-26T00:00:00",
          "2023-05-30T00:00:00",
          "2023-05-31T00:00:00",
          "2023-06-01T00:00:00",
          "2023-06-02T00:00:00",
          "2023-06-05T00:00:00",
          "2023-06-06T00:00:00",
          "2023-06-07T00:00:00",
          "2023-06-08T00:00:00",
          "2023-06-09T00:00:00",
          "2023-06-12T00:00:00",
          "2023-06-13T00:00:00",
          "2023-06-14T00:00:00",
          "2023-06-15T00:00:00",
          "2023-06-16T00:00:00",
          "2023-06-20T00:00:00",
          "2023-06-21T00:00:00",
          "2023-06-22T00:00:00",
          "2023-06-23T00:00:00",
          "2023-06-26T00:00:00",
          "2023-06-27T00:00:00",
          "2023-06-28T00:00:00",
          "2023-06-29T00:00:00",
          "2023-06-30T00:00:00",
          "2023-07-03T00:00:00",
          "2023-07-05T00:00:00",
          "2023-07-06T00:00:00",
          "2023-07-07T00:00:00",
          "2023-07-10T00:00:00",
          "2023-07-11T00:00:00",
          "2023-07-12T00:00:00",
          "2023-07-13T00:00:00",
          "2023-07-14T00:00:00",
          "2023-07-17T00:00:00",
          "2023-07-18T00:00:00",
          "2023-07-19T00:00:00",
          "2023-07-20T00:00:00",
          "2023-07-21T00:00:00",
          "2023-07-24T00:00:00",
          "2023-07-25T00:00:00",
          "2023-07-26T00:00:00",
          "2023-07-27T00:00:00",
          "2023-07-28T00:00:00",
          "2023-07-31T00:00:00",
          "2023-08-01T00:00:00",
          "2023-08-02T00:00:00",
          "2023-08-03T00:00:00",
          "2023-08-04T00:00:00",
          "2023-08-07T00:00:00",
          "2023-08-08T00:00:00",
          "2023-08-09T00:00:00",
          "2023-08-10T00:00:00",
          "2023-08-11T00:00:00",
          "2023-08-14T00:00:00",
          "2023-08-15T00:00:00",
          "2023-08-16T00:00:00",
          "2023-08-17T00:00:00",
          "2023-08-18T00:00:00",
          "2023-08-21T00:00:00",
          "2023-08-22T00:00:00",
          "2023-08-23T00:00:00",
          "2023-08-24T00:00:00",
          "2023-08-25T00:00:00",
          "2023-08-28T00:00:00",
          "2023-08-29T00:00:00",
          "2023-08-30T00:00:00",
          "2023-08-31T00:00:00",
          "2023-09-01T00:00:00",
          "2023-09-05T00:00:00",
          "2023-09-06T00:00:00",
          "2023-09-07T00:00:00",
          "2023-09-08T00:00:00",
          "2023-09-11T00:00:00",
          "2023-09-12T00:00:00",
          "2023-09-13T00:00:00",
          "2023-09-14T00:00:00",
          "2023-09-15T00:00:00",
          "2023-09-18T00:00:00",
          "2023-09-19T00:00:00",
          "2023-09-20T00:00:00",
          "2023-09-21T00:00:00",
          "2023-09-22T00:00:00",
          "2023-09-25T00:00:00",
          "2023-09-26T00:00:00",
          "2023-09-27T00:00:00",
          "2023-09-28T00:00:00",
          "2023-09-29T00:00:00",
          "2023-10-02T00:00:00",
          "2023-10-03T00:00:00",
          "2023-10-04T00:00:00",
          "2023-10-05T00:00:00",
          "2023-10-06T00:00:00",
          "2023-10-09T00:00:00",
          "2023-10-10T00:00:00",
          "2023-10-11T00:00:00",
          "2023-10-12T00:00:00",
          "2023-10-13T00:00:00",
          "2023-10-16T00:00:00",
          "2023-10-17T00:00:00",
          "2023-10-18T00:00:00",
          "2023-10-19T00:00:00",
          "2023-10-20T00:00:00",
          "2023-10-23T00:00:00",
          "2023-10-24T00:00:00",
          "2023-10-25T00:00:00",
          "2023-10-26T00:00:00",
          "2023-10-27T00:00:00",
          "2023-10-30T00:00:00",
          "2023-10-31T00:00:00",
          "2023-11-01T00:00:00",
          "2023-11-02T00:00:00",
          "2023-11-03T00:00:00",
          "2023-11-06T00:00:00",
          "2023-11-07T00:00:00",
          "2023-11-08T00:00:00",
          "2023-11-09T00:00:00",
          "2023-11-10T00:00:00",
          "2023-11-13T00:00:00",
          "2023-11-14T00:00:00",
          "2023-11-15T00:00:00",
          "2023-11-16T00:00:00",
          "2023-11-17T00:00:00",
          "2023-11-20T00:00:00",
          "2023-11-21T00:00:00",
          "2023-11-22T00:00:00",
          "2023-11-24T00:00:00",
          "2023-11-27T00:00:00",
          "2023-11-28T00:00:00",
          "2023-11-29T00:00:00",
          "2023-11-30T00:00:00",
          "2023-12-01T00:00:00",
          "2023-12-04T00:00:00",
          "2023-12-05T00:00:00",
          "2023-12-06T00:00:00",
          "2023-12-07T00:00:00",
          "2023-12-08T00:00:00",
          "2023-12-11T00:00:00",
          "2023-12-12T00:00:00",
          "2023-12-13T00:00:00",
          "2023-12-14T00:00:00",
          "2023-12-15T00:00:00",
          "2023-12-18T00:00:00",
          "2023-12-19T00:00:00",
          "2023-12-20T00:00:00",
          "2023-12-21T00:00:00",
          "2023-12-22T00:00:00",
          "2023-12-26T00:00:00"
         ],
         "y": [
          1.5246499096464465,
          1.480282612726564,
          1.432717798674741,
          1.3870902826156857,
          1.3579769522287768,
          1.3184459688120969,
          1.303869740038744,
          1.2877767265620539,
          1.2468431889360343,
          1.208429773254986,
          1.1740440889658363,
          1.140326936803518,
          1.1091699223676958,
          1.079360685769097,
          1.05258458288886,
          2.277447713507819,
          2.191980580038842,
          2.1145502502584623,
          2.032649365447037,
          1.9893153772802052,
          1.9357267354344303,
          1.8689265818173786,
          1.801590383008134,
          1.7359908784508733,
          1.6815933436874904,
          1.6182915783475298,
          1.5637363689528614,
          1.5074160414436042,
          1.4566520437603683,
          1.4096115455131397,
          1.383584937826102,
          1.5099043289290264,
          1.4583201037594626,
          1.4093781721422745,
          1.3634051353590337,
          1.3367332016892008,
          1.2936193581403541,
          1.2540091407420013,
          1.2154394060946536,
          1.1791211835226407,
          1.1634138653425854,
          1.1307428178941925,
          1.1406226541602862,
          1.1091255489043992,
          1.079661353312523,
          1.0597533360385358,
          1.0366419157423241,
          1.0156136170638295,
          1.014822171794805,
          1.0013189809246996,
          0.9788300770326698,
          0.9581132300476902,
          0.9396850989460245,
          0.9218031001383206,
          0.9050268036321308,
          0.8892075001414161,
          0.8826798355962288,
          0.8694034774135341,
          0.8700827879161696,
          0.8613353693883367,
          0.8505110783781923,
          0.9273117549393495,
          0.9188095918232195,
          0.905840276045042,
          0.9113846657184714,
          0.8975014588540196,
          0.9327247960662579,
          0.9466164469239626,
          0.9345435961768702,
          0.928692674092539,
          0.9213168556317086,
          0.9371244383314679,
          0.9232200045099437,
          0.937015689002055,
          0.996368076382615,
          0.9775892561485698,
          1.0040525126690074,
          1.0071573093034834,
          1.0005921136543376,
          0.9976512855193543,
          0.9924391505643275,
          0.979895186972795,
          1.0828767566029414,
          1.057969167117108,
          1.0394977364871814,
          1.0469765466313374,
          1.051985424402675,
          1.0692621704763279,
          1.0444989155942572,
          1.0947681518012704,
          1.0658519676545914,
          1.0993510045344137,
          1.1057930040292587,
          1.076521880078107,
          1.0507954895805502,
          1.0254400013929563,
          1.0096407887480368,
          0.9885450128340136,
          0.9693292468900072,
          0.9738241366696819,
          0.9608315935863934,
          0.9648347035687045,
          0.9745095778201638,
          0.9558907543541832,
          0.9496487315205698,
          0.9346972821589651,
          0.9676149324478877,
          0.9478441749986604,
          0.9331436725606465,
          0.9650621871330664,
          0.9588016922599348,
          0.9400171371922726,
          0.9216972256300686,
          0.9069335226799093,
          0.9136831711612461,
          0.9020359757670572,
          0.8907848402194448,
          0.8763241005936552,
          0.8626914564246541,
          0.8500942534388368,
          0.8384283331575763,
          0.8317594993731394,
          0.87740273934214,
          0.868622501126529,
          1.6748077599447193,
          1.6320673587834686,
          1.6056705581554713,
          1.620014812071515,
          1.5628418809842342,
          1.5119406161891857,
          1.5411500701061713,
          1.5129561543268706,
          1.4642317990123803,
          1.4498173617613972,
          1.4258862997000545,
          1.4346041997468844,
          1.4017587367653856,
          1.3607064741701616,
          1.3202043845975209,
          1.283050540142429,
          1.2657012695582408,
          1.2847447873395568,
          1.2643715792032244,
          1.2297001489884796,
          1.2478321966408452,
          1.2121974813063858,
          1.1865143986518378,
          1.2017851100684842,
          1.2153633691996812,
          1.180608824247518,
          1.1568946442193548,
          1.124685701672502,
          1.0939750781206654,
          1.0697289076048164,
          1.0595765472971241,
          1.073638592475758,
          1.0466539869417493,
          1.0703154282169858,
          1.0451065087182723,
          1.0303109958918317,
          1.0146704307781078,
          1.0132143058810812,
          1.0004478183720265,
          0.9840622520127955,
          0.9627561861223202,
          0.9496767273473212,
          0.9722739256845443,
          0.9557200386732599,
          0.9379710096369968,
          0.9224908432604679,
          0.9092354868204725,
          0.894443400717868,
          0.8804858344463377,
          0.8700524711239137,
          1.1073257298297932,
          1.1267042546390298,
          1.135393533141415,
          1.145954868200556,
          1.1228242094722252,
          1.096471379317538,
          1.071165517320237,
          1.0582433768015282,
          1.0318147061561052,
          1.0102864326999423,
          0.9872603302186796,
          0.973057782774406,
          1.0436452710774682,
          1.0493177239793472,
          1.0393543226449495,
          1.0687799407869283,
          1.0419077603721687,
          1.0889747504831144,
          1.0645751887555337,
          1.041127427457582,
          1.0401234174917187,
          1.035067912346026,
          1.039812801346707,
          1.0736075318419338,
          1.0993387257333596,
          1.0819868545164317,
          1.0819848993075034,
          1.0550978570343679,
          1.044998696571712,
          1.0220263613316678,
          1.045086295581204,
          1.0231321355060552,
          0.9989811005987531,
          0.9879125096412134,
          0.966209134371631,
          0.947273114045415,
          0.9375372511066314,
          0.91952540058506,
          0.9055140513984534,
          0.9364032614228045,
          0.9183373266006796,
          0.9051506773146601,
          0.9007753231507875,
          0.8853096941515853,
          0.8945999336208879,
          0.8814478313320406,
          0.8718232103272006,
          0.8747005688883895,
          0.8735204428436191,
          0.8626135295737741,
          0.8529006226117346,
          0.8481811861128928,
          0.8367623632636431,
          0.8262327995770206,
          0.8504113571752859,
          0.8554385327710389,
          0.886354653995366,
          0.8728296880008449,
          0.8653154457763363,
          0.8611466099980362,
          0.8584985854118543,
          0.8475509697259428,
          0.836331046999163,
          0.8429189277714265,
          0.8442207413087056,
          0.8332992537357559,
          0.8463206431292033,
          0.8354876611577,
          0.9267724627356888,
          0.91193742985684,
          0.9285035617316445,
          0.9135892514819012,
          0.9414793524317893,
          0.9237493575145242,
          0.9073075529518295,
          0.8951737222337537,
          0.8964526322312113,
          0.8846855178015649,
          0.8736702898398573,
          0.8656095470112312,
          0.8780843700945413,
          0.8643795329575867,
          1.143487401527312,
          1.1294168229451595,
          1.099895762786541,
          1.0746298887418613,
          1.0470698904029019,
          1.0222106956944919,
          1.000388838811776,
          1.0006664079906007,
          0.9811307261552844,
          0.9637047043954479,
          0.9460217900337202,
          0.9353278018986415,
          0.9350673169637386,
          0.9207890328583772,
          0.9044429095599983,
          0.9013427955191935,
          1.0715100148589622,
          1.10200159841007,
          1.077713076210637,
          1.5376038453695329,
          1.614981629196194,
          1.889976216458826,
          1.816123316364082,
          2.1225636148830316,
          2.2258678492205934,
          2.2274590041758238,
          2.602061874928674,
          2.6220474798755653,
          2.5959069920126963,
          3.4063489328581773,
          3.3700451118715247,
          3.5970249846663496,
          3.581121061565263,
          3.625896711045399,
          3.8279503584993386,
          4.185438818165283,
          4.026818094471822,
          4.027543101574931,
          4.060841796471267,
          4.169956207512593,
          4.066048351122505,
          4.069172962562598,
          3.909645239133924,
          3.913583988743466,
          3.877890848267163,
          3.7064516027682055,
          3.8615773672449594,
          3.6913135080782102,
          3.589228374125528,
          3.4788989886553883,
          3.4800398258829808,
          3.4741987676051553,
          3.385117480606307,
          3.2476458669308372,
          3.141537317926439,
          3.10309735195162,
          3.029084459634053,
          2.9011597676645318,
          2.795807488504606,
          2.681543022491737,
          2.6601258202110944,
          2.5468807476967275,
          2.445710629668281,
          2.428346673290826,
          2.33222325549496,
          2.249599847664247,
          2.1601992909319834,
          2.102210077568397,
          2.0189375608208002,
          2.0951834238751945,
          2.033791554807761,
          1.990865497038083,
          1.9714179372349852,
          1.8982215058652232,
          1.8410551783405433,
          1.999924261572999,
          1.9350102636750883,
          1.9898948654405402,
          1.9494959646532144,
          1.8740000721734809,
          1.8824790293224374,
          1.8362997953589288,
          1.7729282391322516,
          1.7191022375572067,
          1.6601226886461533,
          1.5990807465743966,
          1.6183837785249429,
          1.5585204990918649,
          1.6067583724198373,
          1.5881524970705323,
          1.58705034279371,
          1.5418506392178277,
          2.1331381320562732,
          2.0596136360460724,
          2.0077586098223827,
          1.9407635930004625,
          1.8669608366552324,
          1.8045166947708982,
          1.8074116232513775,
          1.7446281226957192,
          1.6792056557580723,
          1.7016357675198823,
          1.6429043295445382,
          1.7455227927135424,
          1.730576674260986,
          1.6721855492077538,
          1.610545102610422,
          1.5512167340759584,
          1.5050367402657563,
          1.4516730736264893,
          1.4038811862371363,
          1.4952057070507734,
          1.5870016884311056,
          1.529368405338479,
          1.507562593800997,
          1.4774308305944504,
          1.4325466245238276,
          1.422816030191852,
          1.4232947022305034,
          1.4791804035330762,
          1.5621702830268562,
          1.5096028403185469,
          1.458584173827302,
          1.4077710721756427,
          1.369345449712988,
          1.3268316286145707,
          1.2958533010912427,
          1.2770794649825288,
          1.3303037653812868,
          1.300458157680891,
          1.2849095941558333,
          1.2497099664053377,
          1.2200092864988028,
          1.184381868275713,
          1.153388885148082,
          1.1452810451955113,
          1.1137683271325514,
          1.083813716392723,
          1.063862006286725,
          1.0409172617240032,
          1.146842745593197,
          1.1148222520385243,
          1.0857080424644299,
          1.1093721827703147,
          1.080381626925881,
          1.0582592381438454,
          1.0319540410489885,
          1.274177398947673,
          1.2440821018206079,
          1.224230820683115,
          1.549027668971757,
          1.5325035140506904,
          1.4987102072613452,
          1.561497995200361,
          1.5142248202101256,
          1.4638635426241893,
          1.4964438571953893,
          1.4434357789240562,
          1.4010751773546195,
          1.360218078366094,
          1.3210618590665122,
          1.2795694944981728,
          1.403453410928782,
          1.381195027960955,
          1.5130617233785337,
          1.4769983603165853,
          1.4250208245515892,
          1.4006226837530225,
          1.3660922879219652,
          1.3365404507376573,
          1.2969997916801768,
          1.257656045109716,
          1.2185143736171067,
          1.2033642245628013,
          1.202916755674257,
          1.2407353302666035,
          1.21222752056566,
          1.1817856179488275,
          1.2222303211105972,
          1.1868334248311154,
          1.1545312528827525,
          1.1217820119878166,
          1.1111100916668688,
          1.1194029014814266,
          1.0975382792155013,
          1.114387395959187,
          1.0878607885821419,
          1.1172443030685375,
          1.087406591626595,
          1.4188965180054143,
          1.370328742665114,
          1.3244946792729957,
          1.3085028257206952,
          1.3126440363463923,
          1.2742046097894628,
          1.239660499811694,
          1.2016400722716365,
          1.8972125579581032,
          1.927676976179268,
          1.861094273158782,
          1.8082007725544573,
          1.7478995866649927,
          1.6891241221286724,
          1.627846924037199,
          1.6425233714495506,
          1.5969657724868287,
          1.5540656172618672,
          1.4977822195926915,
          1.4630840832314655,
          1.419230618999132,
          1.3755943274693003,
          1.3696844743869183,
          1.3374986978709746,
          1.2937086917585503,
          1.2864526911138852,
          1.3318565709290873,
          1.3477597263400185,
          1.3052275641823707,
          1.2643649957721728,
          1.2327166733407529,
          1.2012657813180503,
          1.1666303999318195,
          1.1587504998131422,
          1.1820383220292596,
          1.1504030749442327,
          1.1352155987014205,
          1.1837524565455624,
          1.1497278215589701,
          1.1249807663625242,
          1.1041535396016995,
          1.1181142542965143,
          1.0880114676408756,
          1.0666893135751034,
          1.0521841158405256,
          1.3792278039090338,
          1.361311591756873,
          1.5273709664821236,
          1.4987581626193573,
          1.5372302144946337,
          1.5419059401708983,
          1.4873504096398615,
          1.434817627964464,
          1.4588471112508266,
          1.4338194061825809,
          1.3884348858424453,
          1.343366818247679,
          1.3045442435599997,
          1.2849362616545363,
          1.2508593371810346,
          1.2349952963763067,
          1.2569416285547421,
          1.2523833608587251,
          1.3128103985420374,
          1.2792181409986534,
          1.2587343411143708,
          1.2241712274567031,
          1.191622321401098,
          1.1945315046453269,
          1.1650956019875478,
          1.1379262440966287,
          1.1079478186787153,
          1.1258355826824682,
          1.108314923066706,
          1.0991587655902626,
          1.072963442954436,
          1.0854590404063287,
          1.1059433149146065,
          1.1015859556140333,
          1.073692702769086,
          1.0482817906428203,
          1.0571257215013683,
          1.181072372222812,
          1.2249539761181123,
          1.1906451134736773,
          1.157796713350347,
          1.125307521748151,
          1.1630813247816894,
          1.1941968645710346,
          1.218192775536173,
          1.2095735879575837,
          1.20500638563564,
          1.170682156773258,
          1.1770459402456546,
          1.1453514248282346,
          1.1131798842975165,
          1.131267815447372,
          1.1045142145423943,
          1.077626221769108,
          1.0633967814789982,
          1.0375930157387112,
          1.0357892214283762,
          1.1087399370861952,
          1.1348379568179385,
          1.1501657825611467,
          1.137586002546124,
          1.1108304645766585,
          1.087847063739582,
          1.0711728513696954,
          1.0441405442913088,
          1.022152212366785,
          0.9981467125123737,
          0.9777148593807825,
          0.9655227841723165,
          0.9455198170361399,
          0.932037887706146,
          0.9254258642135319,
          0.9172297721193516,
          0.9026220366020642,
          0.9052067475454533,
          0.8937384076866415,
          0.8787533472259037,
          0.9405849823271901,
          0.9235009946821223,
          0.9063754917478156,
          0.9351280797664198,
          0.9273249372656177,
          0.9333526114682975,
          0.929882269562713,
          0.9153749540633488,
          0.9266946034362187,
          0.9096873265657469,
          0.9080835403251954,
          0.9322706394358297,
          0.9246839065391566,
          0.9280356565419192,
          0.9143013330230254,
          0.8993665037030014,
          0.8957992760031581,
          0.8851067054344708,
          0.8930861665385695,
          0.87855972580526,
          0.8671636626240425,
          0.8543679119602406,
          0.8472767511170002,
          0.8563500828392698,
          0.8500900777198198,
          0.8386055195563745,
          0.8318270040471579,
          0.8228953801107893,
          0.8492819662377133,
          0.8434763931439389,
          0.8516138461630642,
          0.8442951778972707,
          0.8506017296024525,
          0.8440599900754615,
          0.8382831059395849,
          0.8308264385825935,
          0.8857890536940531,
          0.8781759892265968,
          1.0127437795353342,
          1.020137657891626,
          0.9989522855336463,
          0.9980957671458024,
          0.981359064804002,
          0.9611023761713998,
          0.9420917739674635,
          0.9429541120707315,
          0.9294972280654265,
          0.9153986935287862,
          0.9027233468984498,
          0.899048402456436,
          0.9021737493898003,
          0.8919013381600079,
          0.8869650343763241,
          0.8724987810595447,
          0.8877216553472883,
          1.019274339065594,
          0.9973600395930831,
          0.9754445875523204,
          1.0000289201373702,
          0.9778849252116439,
          1.0012852445102227,
          0.9797723927191284,
          0.9824560059191615,
          0.9611190260112007,
          0.9438654941268019,
          0.9536493486804476,
          0.9416186913331648,
          0.923403391771392,
          0.9094751378425088,
          0.8933324992625833,
          0.9487468728252643,
          0.9429169722424793,
          0.9254689244698808,
          0.9082029959246357,
          0.8935305163496934,
          0.8796225116782385,
          0.8663109758645202,
          0.8665670728644161,
          0.8584476122690877,
          0.8516672246041029,
          0.9059589616883343,
          0.9008302768436408,
          0.8916808577449663,
          0.8823341575799526,
          0.890068700661137,
          0.8754382186712372,
          0.8946128777919318,
          0.8802082045223594,
          0.8923449667837045,
          0.8784532477718516,
          0.8771602445986122,
          0.8636497686382815,
          0.851479436875097,
          0.9579161598675634,
          0.9877856394940538,
          0.9982037487989772,
          0.9832016801827449,
          0.9792861234842424,
          0.9581489084936697,
          0.9409496630197274,
          0.9534159853237464,
          1.0190214162798579,
          1.0114299771481723,
          0.9882323705662108,
          0.9667103009371195,
          0.9479596191967715,
          0.9324777870851095,
          0.9250196316328015,
          1.011756992189876,
          0.9971224673175536,
          1.0027124355696364,
          1.0082502554728012,
          0.9854807172919539,
          0.964282352324365,
          0.9821524679122832,
          0.9628112325563777,
          0.9473925695407305,
          0.9291573945052314,
          0.9116778309448713,
          0.8954162297276661,
          0.8929257974067366,
          0.8808423559385067,
          0.9024247074947596,
          0.8903518419841286,
          0.8978350503918531,
          0.8930240075086863,
          0.8786159724199483,
          0.8717845477562572,
          0.8633880006764728,
          0.9613297038455408,
          0.9646937495617962,
          0.9531079462430235,
          0.9390031246052777,
          0.9217397749603005,
          0.9072002532723721,
          0.8990141068763559,
          0.887988917070518,
          0.9028248547191009,
          0.8888257825566572,
          0.8782106397367093,
          0.8644036612320652,
          0.8543816656260664,
          0.8424256849523476,
          0.851205349521083,
          0.8519922927754292,
          0.8704977944477712,
          0.8677716567599023,
          0.8651682593690891,
          0.8678236857756183,
          0.8793720988224701,
          1.1438323074614298,
          1.1701321448347497,
          1.3724155620217195,
          1.3289876596459829,
          1.3294465122835735,
          1.3011989244198232,
          1.3945536230070679,
          1.352373530266134,
          1.3117659188931787,
          1.2715603023329467,
          1.3725548692903522,
          1.4625382152737079,
          1.4113795801859577,
          1.3663840702350876,
          1.3405663630799427,
          1.353625151058251,
          1.3120181230793215,
          1.2722495163593914,
          1.242077937702735,
          1.2038804167399901,
          1.1793598423493195,
          1.1478377586933997,
          1.1155973349966197,
          1.0884719116530275,
          1.0721784710179365,
          1.0449820693962775,
          1.0899638448545992,
          1.077325652581704,
          1.0588026505707906,
          1.0345577533470671,
          1.0099577876155028,
          0.9867114680426131,
          0.9653000408137751,
          0.9538525057664785,
          0.9514705761029768,
          0.9545115237653682,
          0.9354624349489491,
          0.9242130094714542,
          0.9165325247058556,
          0.9235366943480925,
          0.9090298551334268,
          0.8986921742558587,
          0.8833623371944809,
          0.9851863545307231,
          0.9650981424589637,
          0.9639149694747973,
          0.9717949141581846,
          0.9636492291747742,
          0.9804507395345929,
          0.9882200036521508,
          0.9767926194785557,
          1.0302106165590525,
          1.0126616492079643,
          1.0821719987598752,
          1.0634799980008605,
          1.0394708192109765,
          1.0143594492633947,
          1.0948483874557438,
          1.076165033952453,
          1.0545555971005174,
          1.065438721345869,
          1.1252819143712995,
          1.4245933825885824,
          1.3974315619542168,
          1.3551150101395508,
          1.320379658298984,
          1.2774710808141818,
          1.2373702378791513,
          1.3339680664384197,
          1.6095017057411054,
          1.553930433278697,
          1.5644059072083132,
          1.5075221481106742,
          1.515436975357475,
          1.5226558818184353,
          1.470166975232339,
          1.438719961240778,
          1.3889518548663184,
          1.3537043571176215,
          1.3108757792505386,
          1.2800304347889429,
          1.2582392386680394,
          1.235711210838345,
          1.2058253170973465,
          1.172522327241425,
          1.1386390665116635,
          1.1109138429674055,
          1.1279416006186294,
          1.1056904302489592,
          1.0768179979650745,
          1.073498386342389,
          1.0523023238073739,
          1.0348206655250225,
          1.0100915966977113,
          1.0224737934911223,
          0.9995754360729745,
          0.9814931208583038,
          0.9867197169614585,
          0.9898904351813044,
          1.0175745204193034,
          0.996772102398619,
          1.0390662164377873,
          1.041720368568379,
          1.0706609618682341,
          1.0577246972671202,
          1.053686653181846,
          1.1824045253313349,
          1.2319229892304517,
          1.2036692541089975,
          1.3752641692029057,
          1.3448625345104148,
          1.3024783125265704,
          1.2621464219056227,
          1.2452946689987523,
          1.2109098763457056,
          1.1761920585564072,
          1.2222121246268571,
          1.1875181110976172,
          1.1553885658844645,
          2.020909699593958,
          1.998893733560736,
          1.9555071991341988,
          2.01249646077953,
          1.9785218222924617,
          1.8994578138843774,
          1.8259475091902653,
          1.7595317414264167,
          1.7628870936562595,
          1.7002244911170896,
          1.6529463876470103,
          1.6190685912840541,
          1.560020793342857,
          1.5090730671530759,
          1.4629847521951815,
          1.4754225078768557,
          1.4330336121140321,
          1.3841643325489044,
          1.4960039955528306,
          1.4522507220523289,
          1.4245770643715576,
          1.381922517478231,
          1.4251846771129206,
          1.3858683747270792,
          1.3664738236466054,
          1.390650693446934,
          1.3450985439676568,
          1.3251878123429504,
          1.291847940389264,
          1.2518471117551493,
          1.3301267142596638,
          1.3543014462329168,
          1.309871170581725,
          1.2836533914727333,
          1.2451259218516526,
          1.2100562480643764,
          1.1795785296691783,
          1.15198405727948,
          1.1230317534596417,
          1.0977524467662998,
          1.1211966374325735,
          1.1388170462146112,
          1.1798500225017934,
          1.1475222846044242,
          1.1177927022570664,
          1.1093093688115985,
          1.1440166706832462,
          1.115513436513769,
          1.1515810307630316,
          1.119340899589602,
          1.0950781889548569,
          1.1190983958933318,
          1.0924465525079625,
          1.069075224814865,
          1.049042264101605,
          1.03692834480391,
          1.01197260579691,
          1.0114900614722306,
          1.0035727688936693,
          0.995040837624882,
          1.014237873274452,
          1.0074417429764713,
          0.9867606603812923,
          0.97154451866412,
          0.9514829649390198,
          1.0030396816772926,
          0.9803292522077166,
          0.959317674710835,
          0.9450545548736243,
          1.09889031257641,
          1.0812803403580147,
          1.0791453667637925,
          1.0670847430499737,
          1.044660618864834,
          1.0748720863057237,
          1.0472536216714678,
          1.107681154133469,
          1.0813992404736608,
          1.0552541521630046,
          1.0304257364722993,
          1.27969176631259,
          1.2443514358185213,
          1.2527434204358812,
          1.2139319850330559,
          1.1892728291996362,
          1.1553940294065215,
          1.142702966233842,
          1.1129031057520171,
          1.1184987276012466,
          1.131863815887019,
          1.2681363424873324,
          1.2517822889836685,
          1.2271611314890851,
          1.215126848800309,
          1.205957004679016,
          1.1707021719403221,
          1.162258996809428,
          1.2466865833381837,
          1.231793250210484,
          1.196065838486034,
          1.1609871924443702,
          1.1611689870796658,
          1.1680300762695561,
          1.2012295267095807,
          1.2023995221686516,
          1.2067861756273661,
          1.1907475835901309,
          1.2197894951625896,
          1.2390979389192636,
          1.3777662677695228,
          1.4445025039094668,
          1.404094728674839,
          1.3569571581863868,
          1.3972588531743142,
          1.400226171141065,
          1.3561636079189792,
          1.356245679442496,
          1.3114770582273927,
          1.2820487956317328,
          1.2439520322077455,
          1.2060242602605915,
          1.2204315842806714,
          1.4546834755391387,
          1.4129787799481344,
          1.3863038002967496,
          1.3405774474032865,
          1.2977320923815734,
          1.257673202847453,
          1.2284495914143114,
          1.242672752885652,
          1.207823893664145,
          1.1754759094909268,
          1.141431080485747,
          1.1095445093900078,
          1.0840723617740882,
          1.2105306208076376,
          1.175509278335582,
          1.1582067277475476,
          1.1757677909822848,
          1.141941543143135,
          1.1102385998773006,
          1.0838894581094878,
          1.0884430254922686,
          1.101836255549517,
          1.0724701886653492,
          1.045098100508501,
          1.0755827002426086,
          1.0586331635998745,
          1.0322937196708135,
          1.008044755512394,
          1.05259601585599,
          1.0432224076002692,
          1.03143102072583,
          1.0154010495561403,
          1.0233560994447581,
          1.0075227842318182,
          0.9944695093128216,
          1.0069753931149332,
          0.9842368483304867,
          1.004797568926402,
          1.0793177550485362,
          1.096718541183768,
          1.0857319081150694,
          1.059095839551014,
          1.081723813154929,
          1.056133024061542,
          1.0331512757733798,
          1.2504014511131933,
          1.2127137779281414,
          1.1835427925596964,
          1.1498785690373088,
          1.123158669962596,
          1.100896004395562,
          1.0732994423311635,
          1.0550692249419162,
          1.0297734491400603,
          1.0369383944455997,
          1.01189149328834,
          1.0754140244457204,
          1.0652783604331435,
          1.0454734005575481,
          1.0212077026021968,
          1.0088744557676863,
          0.9871519504470896,
          0.9655579675775905,
          1.018810267795665,
          1.077133761302995,
          1.04945402852716,
          1.0363147189626674,
          1.0701506821591735,
          1.052346929016079,
          1.0278775978050625,
          1.0038491804219385,
          0.9875256084257125,
          0.9660522787225323,
          0.9558162681058214,
          0.9759220910200997,
          1.0124163011215757,
          0.9969715640745102,
          1.0378632588769865,
          1.0241269645275606,
          0.9998998496643042,
          1.007556872366358,
          0.9910777508558287,
          0.9957743523247523,
          0.9763209057651309,
          0.9664464727199806,
          0.9535354435729326,
          0.9425125802912383,
          0.9492514107618787,
          0.9384951767436419,
          0.9281418532370314,
          0.9129874689640889,
          0.9729346725166361,
          0.96611631893061,
          0.9459939869872338,
          0.9405310575805929,
          0.92229671876132,
          0.9069399608344614,
          0.9002807296185575,
          0.8890374703552539,
          0.9000493354588915,
          0.8845973392856072,
          0.873173622979049,
          0.8615337208759681,
          0.8494499953798056,
          0.8533301595246326,
          0.8429834162707396,
          0.8438818018047343,
          0.833030322655122,
          0.8232817732079962,
          0.8188334416696872,
          0.8098500587200747,
          0.8029640317224466,
          0.7966489934622154,
          0.7992259058106712,
          0.7923555304871936,
          0.8019932157885824,
          0.7952379661992665,
          0.7972456050992422,
          0.8035611222665144,
          0.7956549256868367,
          0.7944817208608056,
          0.7888683287234338,
          0.8103329791998127,
          0.8022649381455315,
          0.8036785831276088,
          0.7996753795098567,
          0.7957353235889364,
          0.8377086411029144,
          0.8279683921011032,
          0.8310092596730543,
          0.8208200644129685,
          0.9619412524767549,
          0.9437090987320581,
          0.9500629788834849,
          0.951909104572136,
          0.9355583062886125,
          0.9400028042717588,
          0.9237056729449425,
          0.9147869139635937,
          1.0042656770690452,
          0.9967299935913957,
          0.9921736464638398,
          0.9713926520227418,
          0.9519098439644941,
          0.9330561696904296,
          0.922593915563802,
          0.9091671399526235,
          0.9053296961919031,
          0.9436997280972954,
          0.9385207220801983,
          0.9363563038992477,
          0.9197669939075921,
          0.9152355415828866,
          0.9370017113954875,
          0.9188722244819183,
          0.9043422867044069,
          0.9196515862035051,
          0.927198068711841,
          0.9121527878707689,
          0.9051063891743328,
          0.9042964508916745,
          0.9103363761733896,
          0.9530556152919444,
          0.9536919669823932,
          0.9370483836923099,
          0.9260649228008596,
          0.9284215452400999,
          0.9335571173687631,
          0.9169713239369816,
          0.9067510639681127,
          0.9802852546633285,
          0.9984293198932541,
          0.9759732405880117,
          0.9550802368504282,
          0.9403692918264186,
          0.9677009908833617,
          0.9786125336160798,
          0.9575173426405255,
          0.9643828758385343,
          0.9473023543640244,
          0.9303482493741929,
          0.9229551051143833,
          0.98033041218605,
          0.9750497234683163,
          0.9616351929981802,
          0.9426367433144368,
          0.9266262940945117,
          0.9131479221391597,
          0.905705941009004,
          0.906864545974998,
          0.8909616225510403,
          0.8769959476985099,
          0.8716454304034966,
          0.8855546343456304,
          0.8858006834188711,
          0.8742144165969129,
          0.8641530870761946,
          0.8569945600742757,
          0.8464884902220523,
          0.8359265197187831,
          0.8257447291751172,
          0.8585601952418338,
          0.8748045403606244,
          0.8868231831649602,
          0.8728687798046169,
          0.8817314917279979,
          0.8677518726196696,
          0.8806230404759875,
          0.9018223551472938,
          0.8873185888539603,
          0.8920948747674879,
          0.9060352796948113,
          0.9003236347705803,
          0.8870882640065166,
          0.8775699983459267,
          0.9446415133292674,
          0.926013760966997,
          0.9459724048647993,
          0.9509075254031764,
          0.9671751049468932,
          0.9497368034029446,
          0.9325587560591507,
          0.9426011813624182,
          0.9634190492458414,
          0.9450547397699007,
          1.4927900084355528,
          1.4780586546701688,
          1.4320045164922754,
          1.472578932707236,
          1.4293288912506128,
          1.4410641810621883,
          1.3913107430738465,
          1.3638947403550117,
          1.3463975370260686,
          1.3021466072619998,
          1.2659428683315679,
          1.2291116982507653,
          1.2134421884833417,
          1.3577272215862466,
          1.3267009616732404,
          1.2931957506185858,
          1.2757405645705286,
          1.2928073256821513,
          1.2584041987492045,
          1.2197098755168405,
          1.2115454053295345,
          1.186122796180701,
          1.1543861901653356,
          1.1241068239874696,
          1.094491188209257,
          1.0831020657197818,
          1.0550049968040105,
          1.0314258627028752,
          1.0083598830458615,
          0.9857389911158128,
          0.964926607863728,
          0.9453446184040416,
          0.9276817368320357,
          0.9436591186644302,
          0.9366687290729923,
          0.9197852695411424,
          0.9047868217142988,
          0.8896895405478557,
          0.8889322275066485,
          0.9132724068960445,
          0.8994369003618423,
          0.8850393578655138,
          0.8710092234532635,
          0.8585802244996307,
          0.8473653198183058,
          0.8385530837175929,
          0.843458648828656,
          0.8440477026921627,
          0.85462786427351,
          0.9199386664617468,
          0.9232338693397873,
          0.9197311207690155,
          0.9073840401209181,
          1.0270413450451645,
          1.0129313100597017,
          0.9970214207488398
         ]
        },
        {
         "mode": "lines",
         "name": "JPMorgan",
         "type": "scatter",
         "x": [
          "2019-01-25T00:00:00",
          "2019-01-28T00:00:00",
          "2019-01-29T00:00:00",
          "2019-01-30T00:00:00",
          "2019-01-31T00:00:00",
          "2019-02-01T00:00:00",
          "2019-02-04T00:00:00",
          "2019-02-05T00:00:00",
          "2019-02-06T00:00:00",
          "2019-02-07T00:00:00",
          "2019-02-08T00:00:00",
          "2019-02-11T00:00:00",
          "2019-02-12T00:00:00",
          "2019-02-13T00:00:00",
          "2019-02-14T00:00:00",
          "2019-02-15T00:00:00",
          "2019-02-19T00:00:00",
          "2019-02-20T00:00:00",
          "2019-02-21T00:00:00",
          "2019-02-22T00:00:00",
          "2019-02-25T00:00:00",
          "2019-02-26T00:00:00",
          "2019-02-27T00:00:00",
          "2019-02-28T00:00:00",
          "2019-03-01T00:00:00",
          "2019-03-04T00:00:00",
          "2019-03-05T00:00:00",
          "2019-03-06T00:00:00",
          "2019-03-07T00:00:00",
          "2019-03-08T00:00:00",
          "2019-03-11T00:00:00",
          "2019-03-12T00:00:00",
          "2019-03-13T00:00:00",
          "2019-03-14T00:00:00",
          "2019-03-15T00:00:00",
          "2019-03-18T00:00:00",
          "2019-03-19T00:00:00",
          "2019-03-20T00:00:00",
          "2019-03-21T00:00:00",
          "2019-03-22T00:00:00",
          "2019-03-25T00:00:00",
          "2019-03-26T00:00:00",
          "2019-03-27T00:00:00",
          "2019-03-28T00:00:00",
          "2019-03-29T00:00:00",
          "2019-04-01T00:00:00",
          "2019-04-02T00:00:00",
          "2019-04-03T00:00:00",
          "2019-04-04T00:00:00",
          "2019-04-05T00:00:00",
          "2019-04-08T00:00:00",
          "2019-04-09T00:00:00",
          "2019-04-10T00:00:00",
          "2019-04-11T00:00:00",
          "2019-04-12T00:00:00",
          "2019-04-15T00:00:00",
          "2019-04-16T00:00:00",
          "2019-04-17T00:00:00",
          "2019-04-18T00:00:00",
          "2019-04-22T00:00:00",
          "2019-04-23T00:00:00",
          "2019-04-24T00:00:00",
          "2019-04-25T00:00:00",
          "2019-04-26T00:00:00",
          "2019-04-29T00:00:00",
          "2019-04-30T00:00:00",
          "2019-05-01T00:00:00",
          "2019-05-02T00:00:00",
          "2019-05-03T00:00:00",
          "2019-05-06T00:00:00",
          "2019-05-07T00:00:00",
          "2019-05-08T00:00:00",
          "2019-05-09T00:00:00",
          "2019-05-10T00:00:00",
          "2019-05-13T00:00:00",
          "2019-05-14T00:00:00",
          "2019-05-15T00:00:00",
          "2019-05-16T00:00:00",
          "2019-05-17T00:00:00",
          "2019-05-20T00:00:00",
          "2019-05-21T00:00:00",
          "2019-05-22T00:00:00",
          "2019-05-23T00:00:00",
          "2019-05-24T00:00:00",
          "2019-05-28T00:00:00",
          "2019-05-29T00:00:00",
          "2019-05-30T00:00:00",
          "2019-05-31T00:00:00",
          "2019-06-03T00:00:00",
          "2019-06-04T00:00:00",
          "2019-06-05T00:00:00",
          "2019-06-06T00:00:00",
          "2019-06-07T00:00:00",
          "2019-06-10T00:00:00",
          "2019-06-11T00:00:00",
          "2019-06-12T00:00:00",
          "2019-06-13T00:00:00",
          "2019-06-14T00:00:00",
          "2019-06-17T00:00:00",
          "2019-06-18T00:00:00",
          "2019-06-19T00:00:00",
          "2019-06-20T00:00:00",
          "2019-06-21T00:00:00",
          "2019-06-24T00:00:00",
          "2019-06-25T00:00:00",
          "2019-06-26T00:00:00",
          "2019-06-27T00:00:00",
          "2019-06-28T00:00:00",
          "2019-07-01T00:00:00",
          "2019-07-02T00:00:00",
          "2019-07-03T00:00:00",
          "2019-07-05T00:00:00",
          "2019-07-08T00:00:00",
          "2019-07-09T00:00:00",
          "2019-07-10T00:00:00",
          "2019-07-11T00:00:00",
          "2019-07-12T00:00:00",
          "2019-07-15T00:00:00",
          "2019-07-16T00:00:00",
          "2019-07-17T00:00:00",
          "2019-07-18T00:00:00",
          "2019-07-19T00:00:00",
          "2019-07-22T00:00:00",
          "2019-07-23T00:00:00",
          "2019-07-24T00:00:00",
          "2019-07-25T00:00:00",
          "2019-07-26T00:00:00",
          "2019-07-29T00:00:00",
          "2019-07-30T00:00:00",
          "2019-07-31T00:00:00",
          "2019-08-01T00:00:00",
          "2019-08-02T00:00:00",
          "2019-08-05T00:00:00",
          "2019-08-06T00:00:00",
          "2019-08-07T00:00:00",
          "2019-08-08T00:00:00",
          "2019-08-09T00:00:00",
          "2019-08-12T00:00:00",
          "2019-08-13T00:00:00",
          "2019-08-14T00:00:00",
          "2019-08-15T00:00:00",
          "2019-08-16T00:00:00",
          "2019-08-19T00:00:00",
          "2019-08-20T00:00:00",
          "2019-08-21T00:00:00",
          "2019-08-22T00:00:00",
          "2019-08-23T00:00:00",
          "2019-08-26T00:00:00",
          "2019-08-27T00:00:00",
          "2019-08-28T00:00:00",
          "2019-08-29T00:00:00",
          "2019-08-30T00:00:00",
          "2019-09-03T00:00:00",
          "2019-09-04T00:00:00",
          "2019-09-05T00:00:00",
          "2019-09-06T00:00:00",
          "2019-09-09T00:00:00",
          "2019-09-10T00:00:00",
          "2019-09-11T00:00:00",
          "2019-09-12T00:00:00",
          "2019-09-13T00:00:00",
          "2019-09-16T00:00:00",
          "2019-09-17T00:00:00",
          "2019-09-18T00:00:00",
          "2019-09-19T00:00:00",
          "2019-09-20T00:00:00",
          "2019-09-23T00:00:00",
          "2019-09-24T00:00:00",
          "2019-09-25T00:00:00",
          "2019-09-26T00:00:00",
          "2019-09-27T00:00:00",
          "2019-09-30T00:00:00",
          "2019-10-01T00:00:00",
          "2019-10-02T00:00:00",
          "2019-10-03T00:00:00",
          "2019-10-04T00:00:00",
          "2019-10-07T00:00:00",
          "2019-10-08T00:00:00",
          "2019-10-09T00:00:00",
          "2019-10-10T00:00:00",
          "2019-10-11T00:00:00",
          "2019-10-14T00:00:00",
          "2019-10-15T00:00:00",
          "2019-10-16T00:00:00",
          "2019-10-17T00:00:00",
          "2019-10-18T00:00:00",
          "2019-10-21T00:00:00",
          "2019-10-22T00:00:00",
          "2019-10-23T00:00:00",
          "2019-10-24T00:00:00",
          "2019-10-25T00:00:00",
          "2019-10-28T00:00:00",
          "2019-10-29T00:00:00",
          "2019-10-30T00:00:00",
          "2019-10-31T00:00:00",
          "2019-11-01T00:00:00",
          "2019-11-04T00:00:00",
          "2019-11-05T00:00:00",
          "2019-11-06T00:00:00",
          "2019-11-07T00:00:00",
          "2019-11-08T00:00:00",
          "2019-11-11T00:00:00",
          "2019-11-12T00:00:00",
          "2019-11-13T00:00:00",
          "2019-11-14T00:00:00",
          "2019-11-15T00:00:00",
          "2019-11-18T00:00:00",
          "2019-11-19T00:00:00",
          "2019-11-20T00:00:00",
          "2019-11-21T00:00:00",
          "2019-11-22T00:00:00",
          "2019-11-25T00:00:00",
          "2019-11-26T00:00:00",
          "2019-11-27T00:00:00",
          "2019-11-29T00:00:00",
          "2019-12-02T00:00:00",
          "2019-12-03T00:00:00",
          "2019-12-04T00:00:00",
          "2019-12-05T00:00:00",
          "2019-12-06T00:00:00",
          "2019-12-09T00:00:00",
          "2019-12-10T00:00:00",
          "2019-12-11T00:00:00",
          "2019-12-12T00:00:00",
          "2019-12-13T00:00:00",
          "2019-12-16T00:00:00",
          "2019-12-17T00:00:00",
          "2019-12-18T00:00:00",
          "2019-12-19T00:00:00",
          "2019-12-20T00:00:00",
          "2019-12-23T00:00:00",
          "2019-12-24T00:00:00",
          "2019-12-26T00:00:00",
          "2019-12-27T00:00:00",
          "2019-12-30T00:00:00",
          "2019-12-31T00:00:00",
          "2020-01-02T00:00:00",
          "2020-01-03T00:00:00",
          "2020-01-06T00:00:00",
          "2020-01-07T00:00:00",
          "2020-01-08T00:00:00",
          "2020-01-09T00:00:00",
          "2020-01-10T00:00:00",
          "2020-01-13T00:00:00",
          "2020-01-14T00:00:00",
          "2020-01-15T00:00:00",
          "2020-01-16T00:00:00",
          "2020-01-17T00:00:00",
          "2020-01-21T00:00:00",
          "2020-01-22T00:00:00",
          "2020-01-23T00:00:00",
          "2020-01-24T00:00:00",
          "2020-01-27T00:00:00",
          "2020-01-28T00:00:00",
          "2020-01-29T00:00:00",
          "2020-01-30T00:00:00",
          "2020-01-31T00:00:00",
          "2020-02-03T00:00:00",
          "2020-02-04T00:00:00",
          "2020-02-05T00:00:00",
          "2020-02-06T00:00:00",
          "2020-02-07T00:00:00",
          "2020-02-10T00:00:00",
          "2020-02-11T00:00:00",
          "2020-02-12T00:00:00",
          "2020-02-13T00:00:00",
          "2020-02-14T00:00:00",
          "2020-02-18T00:00:00",
          "2020-02-19T00:00:00",
          "2020-02-20T00:00:00",
          "2020-02-21T00:00:00",
          "2020-02-24T00:00:00",
          "2020-02-25T00:00:00",
          "2020-02-26T00:00:00",
          "2020-02-27T00:00:00",
          "2020-02-28T00:00:00",
          "2020-03-02T00:00:00",
          "2020-03-03T00:00:00",
          "2020-03-04T00:00:00",
          "2020-03-05T00:00:00",
          "2020-03-06T00:00:00",
          "2020-03-09T00:00:00",
          "2020-03-10T00:00:00",
          "2020-03-11T00:00:00",
          "2020-03-12T00:00:00",
          "2020-03-13T00:00:00",
          "2020-03-16T00:00:00",
          "2020-03-17T00:00:00",
          "2020-03-18T00:00:00",
          "2020-03-19T00:00:00",
          "2020-03-20T00:00:00",
          "2020-03-23T00:00:00",
          "2020-03-24T00:00:00",
          "2020-03-25T00:00:00",
          "2020-03-26T00:00:00",
          "2020-03-27T00:00:00",
          "2020-03-30T00:00:00",
          "2020-03-31T00:00:00",
          "2020-04-01T00:00:00",
          "2020-04-02T00:00:00",
          "2020-04-03T00:00:00",
          "2020-04-06T00:00:00",
          "2020-04-07T00:00:00",
          "2020-04-08T00:00:00",
          "2020-04-09T00:00:00",
          "2020-04-13T00:00:00",
          "2020-04-14T00:00:00",
          "2020-04-15T00:00:00",
          "2020-04-16T00:00:00",
          "2020-04-17T00:00:00",
          "2020-04-20T00:00:00",
          "2020-04-21T00:00:00",
          "2020-04-22T00:00:00",
          "2020-04-23T00:00:00",
          "2020-04-24T00:00:00",
          "2020-04-27T00:00:00",
          "2020-04-28T00:00:00",
          "2020-04-29T00:00:00",
          "2020-04-30T00:00:00",
          "2020-05-01T00:00:00",
          "2020-05-04T00:00:00",
          "2020-05-05T00:00:00",
          "2020-05-06T00:00:00",
          "2020-05-07T00:00:00",
          "2020-05-08T00:00:00",
          "2020-05-11T00:00:00",
          "2020-05-12T00:00:00",
          "2020-05-13T00:00:00",
          "2020-05-14T00:00:00",
          "2020-05-15T00:00:00",
          "2020-05-18T00:00:00",
          "2020-05-19T00:00:00",
          "2020-05-20T00:00:00",
          "2020-05-21T00:00:00",
          "2020-05-22T00:00:00",
          "2020-05-26T00:00:00",
          "2020-05-27T00:00:00",
          "2020-05-28T00:00:00",
          "2020-05-29T00:00:00",
          "2020-06-01T00:00:00",
          "2020-06-02T00:00:00",
          "2020-06-03T00:00:00",
          "2020-06-04T00:00:00",
          "2020-06-05T00:00:00",
          "2020-06-08T00:00:00",
          "2020-06-09T00:00:00",
          "2020-06-10T00:00:00",
          "2020-06-11T00:00:00",
          "2020-06-12T00:00:00",
          "2020-06-15T00:00:00",
          "2020-06-16T00:00:00",
          "2020-06-17T00:00:00",
          "2020-06-18T00:00:00",
          "2020-06-19T00:00:00",
          "2020-06-22T00:00:00",
          "2020-06-23T00:00:00",
          "2020-06-24T00:00:00",
          "2020-06-25T00:00:00",
          "2020-06-26T00:00:00",
          "2020-06-29T00:00:00",
          "2020-06-30T00:00:00",
          "2020-07-01T00:00:00",
          "2020-07-02T00:00:00",
          "2020-07-06T00:00:00",
          "2020-07-07T00:00:00",
          "2020-07-08T00:00:00",
          "2020-07-09T00:00:00",
          "2020-07-10T00:00:00",
          "2020-07-13T00:00:00",
          "2020-07-14T00:00:00",
          "2020-07-15T00:00:00",
          "2020-07-16T00:00:00",
          "2020-07-17T00:00:00",
          "2020-07-20T00:00:00",
          "2020-07-21T00:00:00",
          "2020-07-22T00:00:00",
          "2020-07-23T00:00:00",
          "2020-07-24T00:00:00",
          "2020-07-27T00:00:00",
          "2020-07-28T00:00:00",
          "2020-07-29T00:00:00",
          "2020-07-30T00:00:00",
          "2020-07-31T00:00:00",
          "2020-08-03T00:00:00",
          "2020-08-04T00:00:00",
          "2020-08-05T00:00:00",
          "2020-08-06T00:00:00",
          "2020-08-07T00:00:00",
          "2020-08-10T00:00:00",
          "2020-08-11T00:00:00",
          "2020-08-12T00:00:00",
          "2020-08-13T00:00:00",
          "2020-08-14T00:00:00",
          "2020-08-17T00:00:00",
          "2020-08-18T00:00:00",
          "2020-08-19T00:00:00",
          "2020-08-20T00:00:00",
          "2020-08-21T00:00:00",
          "2020-08-24T00:00:00",
          "2020-08-25T00:00:00",
          "2020-08-26T00:00:00",
          "2020-08-27T00:00:00",
          "2020-08-28T00:00:00",
          "2020-08-31T00:00:00",
          "2020-09-01T00:00:00",
          "2020-09-02T00:00:00",
          "2020-09-03T00:00:00",
          "2020-09-04T00:00:00",
          "2020-09-08T00:00:00",
          "2020-09-09T00:00:00",
          "2020-09-10T00:00:00",
          "2020-09-11T00:00:00",
          "2020-09-14T00:00:00",
          "2020-09-15T00:00:00",
          "2020-09-16T00:00:00",
          "2020-09-17T00:00:00",
          "2020-09-18T00:00:00",
          "2020-09-21T00:00:00",
          "2020-09-22T00:00:00",
          "2020-09-23T00:00:00",
          "2020-09-24T00:00:00",
          "2020-09-25T00:00:00",
          "2020-09-28T00:00:00",
          "2020-09-29T00:00:00",
          "2020-09-30T00:00:00",
          "2020-10-01T00:00:00",
          "2020-10-02T00:00:00",
          "2020-10-05T00:00:00",
          "2020-10-06T00:00:00",
          "2020-10-07T00:00:00",
          "2020-10-08T00:00:00",
          "2020-10-09T00:00:00",
          "2020-10-12T00:00:00",
          "2020-10-13T00:00:00",
          "2020-10-14T00:00:00",
          "2020-10-15T00:00:00",
          "2020-10-16T00:00:00",
          "2020-10-19T00:00:00",
          "2020-10-20T00:00:00",
          "2020-10-21T00:00:00",
          "2020-10-22T00:00:00",
          "2020-10-23T00:00:00",
          "2020-10-26T00:00:00",
          "2020-10-27T00:00:00",
          "2020-10-28T00:00:00",
          "2020-10-29T00:00:00",
          "2020-10-30T00:00:00",
          "2020-11-02T00:00:00",
          "2020-11-03T00:00:00",
          "2020-11-04T00:00:00",
          "2020-11-05T00:00:00",
          "2020-11-06T00:00:00",
          "2020-11-09T00:00:00",
          "2020-11-10T00:00:00",
          "2020-11-11T00:00:00",
          "2020-11-12T00:00:00",
          "2020-11-13T00:00:00",
          "2020-11-16T00:00:00",
          "2020-11-17T00:00:00",
          "2020-11-18T00:00:00",
          "2020-11-19T00:00:00",
          "2020-11-20T00:00:00",
          "2020-11-23T00:00:00",
          "2020-11-24T00:00:00",
          "2020-11-25T00:00:00",
          "2020-11-27T00:00:00",
          "2020-11-30T00:00:00",
          "2020-12-01T00:00:00",
          "2020-12-02T00:00:00",
          "2020-12-03T00:00:00",
          "2020-12-04T00:00:00",
          "2020-12-07T00:00:00",
          "2020-12-08T00:00:00",
          "2020-12-09T00:00:00",
          "2020-12-10T00:00:00",
          "2020-12-11T00:00:00",
          "2020-12-14T00:00:00",
          "2020-12-15T00:00:00",
          "2020-12-16T00:00:00",
          "2020-12-17T00:00:00",
          "2020-12-18T00:00:00",
          "2020-12-21T00:00:00",
          "2020-12-22T00:00:00",
          "2020-12-23T00:00:00",
          "2020-12-24T00:00:00",
          "2020-12-28T00:00:00",
          "2020-12-29T00:00:00",
          "2020-12-30T00:00:00",
          "2020-12-31T00:00:00",
          "2021-01-04T00:00:00",
          "2021-01-05T00:00:00",
          "2021-01-06T00:00:00",
          "2021-01-07T00:00:00",
          "2021-01-08T00:00:00",
          "2021-01-11T00:00:00",
          "2021-01-12T00:00:00",
          "2021-01-13T00:00:00",
          "2021-01-14T00:00:00",
          "2021-01-15T00:00:00",
          "2021-01-19T00:00:00",
          "2021-01-20T00:00:00",
          "2021-01-21T00:00:00",
          "2021-01-22T00:00:00",
          "2021-01-25T00:00:00",
          "2021-01-26T00:00:00",
          "2021-01-27T00:00:00",
          "2021-01-28T00:00:00",
          "2021-01-29T00:00:00",
          "2021-02-01T00:00:00",
          "2021-02-02T00:00:00",
          "2021-02-03T00:00:00",
          "2021-02-04T00:00:00",
          "2021-02-05T00:00:00",
          "2021-02-08T00:00:00",
          "2021-02-09T00:00:00",
          "2021-02-10T00:00:00",
          "2021-02-11T00:00:00",
          "2021-02-12T00:00:00",
          "2021-02-16T00:00:00",
          "2021-02-17T00:00:00",
          "2021-02-18T00:00:00",
          "2021-02-19T00:00:00",
          "2021-02-22T00:00:00",
          "2021-02-23T00:00:00",
          "2021-02-24T00:00:00",
          "2021-02-25T00:00:00",
          "2021-02-26T00:00:00",
          "2021-03-01T00:00:00",
          "2021-03-02T00:00:00",
          "2021-03-03T00:00:00",
          "2021-03-04T00:00:00",
          "2021-03-05T00:00:00",
          "2021-03-08T00:00:00",
          "2021-03-09T00:00:00",
          "2021-03-10T00:00:00",
          "2021-03-11T00:00:00",
          "2021-03-12T00:00:00",
          "2021-03-15T00:00:00",
          "2021-03-16T00:00:00",
          "2021-03-17T00:00:00",
          "2021-03-18T00:00:00",
          "2021-03-19T00:00:00",
          "2021-03-22T00:00:00",
          "2021-03-23T00:00:00",
          "2021-03-24T00:00:00",
          "2021-03-25T00:00:00",
          "2021-03-26T00:00:00",
          "2021-03-29T00:00:00",
          "2021-03-30T00:00:00",
          "2021-03-31T00:00:00",
          "2021-04-01T00:00:00",
          "2021-04-05T00:00:00",
          "2021-04-06T00:00:00",
          "2021-04-07T00:00:00",
          "2021-04-08T00:00:00",
          "2021-04-09T00:00:00",
          "2021-04-12T00:00:00",
          "2021-04-13T00:00:00",
          "2021-04-14T00:00:00",
          "2021-04-15T00:00:00",
          "2021-04-16T00:00:00",
          "2021-04-19T00:00:00",
          "2021-04-20T00:00:00",
          "2021-04-21T00:00:00",
          "2021-04-22T00:00:00",
          "2021-04-23T00:00:00",
          "2021-04-26T00:00:00",
          "2021-04-27T00:00:00",
          "2021-04-28T00:00:00",
          "2021-04-29T00:00:00",
          "2021-04-30T00:00:00",
          "2021-05-03T00:00:00",
          "2021-05-04T00:00:00",
          "2021-05-05T00:00:00",
          "2021-05-06T00:00:00",
          "2021-05-07T00:00:00",
          "2021-05-10T00:00:00",
          "2021-05-11T00:00:00",
          "2021-05-12T00:00:00",
          "2021-05-13T00:00:00",
          "2021-05-14T00:00:00",
          "2021-05-17T00:00:00",
          "2021-05-18T00:00:00",
          "2021-05-19T00:00:00",
          "2021-05-20T00:00:00",
          "2021-05-21T00:00:00",
          "2021-05-24T00:00:00",
          "2021-05-25T00:00:00",
          "2021-05-26T00:00:00",
          "2021-05-27T00:00:00",
          "2021-05-28T00:00:00",
          "2021-06-01T00:00:00",
          "2021-06-02T00:00:00",
          "2021-06-03T00:00:00",
          "2021-06-04T00:00:00",
          "2021-06-07T00:00:00",
          "2021-06-08T00:00:00",
          "2021-06-09T00:00:00",
          "2021-06-10T00:00:00",
          "2021-06-11T00:00:00",
          "2021-06-14T00:00:00",
          "2021-06-15T00:00:00",
          "2021-06-16T00:00:00",
          "2021-06-17T00:00:00",
          "2021-06-18T00:00:00",
          "2021-06-21T00:00:00",
          "2021-06-22T00:00:00",
          "2021-06-23T00:00:00",
          "2021-06-24T00:00:00",
          "2021-06-25T00:00:00",
          "2021-06-28T00:00:00",
          "2021-06-29T00:00:00",
          "2021-06-30T00:00:00",
          "2021-07-01T00:00:00",
          "2021-07-02T00:00:00",
          "2021-07-06T00:00:00",
          "2021-07-07T00:00:00",
          "2021-07-08T00:00:00",
          "2021-07-09T00:00:00",
          "2021-07-12T00:00:00",
          "2021-07-13T00:00:00",
          "2021-07-14T00:00:00",
          "2021-07-15T00:00:00",
          "2021-07-16T00:00:00",
          "2021-07-19T00:00:00",
          "2021-07-20T00:00:00",
          "2021-07-21T00:00:00",
          "2021-07-22T00:00:00",
          "2021-07-23T00:00:00",
          "2021-07-26T00:00:00",
          "2021-07-27T00:00:00",
          "2021-07-28T00:00:00",
          "2021-07-29T00:00:00",
          "2021-07-30T00:00:00",
          "2021-08-02T00:00:00",
          "2021-08-03T00:00:00",
          "2021-08-04T00:00:00",
          "2021-08-05T00:00:00",
          "2021-08-06T00:00:00",
          "2021-08-09T00:00:00",
          "2021-08-10T00:00:00",
          "2021-08-11T00:00:00",
          "2021-08-12T00:00:00",
          "2021-08-13T00:00:00",
          "2021-08-16T00:00:00",
          "2021-08-17T00:00:00",
          "2021-08-18T00:00:00",
          "2021-08-19T00:00:00",
          "2021-08-20T00:00:00",
          "2021-08-23T00:00:00",
          "2021-08-24T00:00:00",
          "2021-08-25T00:00:00",
          "2021-08-26T00:00:00",
          "2021-08-27T00:00:00",
          "2021-08-30T00:00:00",
          "2021-08-31T00:00:00",
          "2021-09-01T00:00:00",
          "2021-09-02T00:00:00",
          "2021-09-03T00:00:00",
          "2021-09-07T00:00:00",
          "2021-09-08T00:00:00",
          "2021-09-09T00:00:00",
          "2021-09-10T00:00:00",
          "2021-09-13T00:00:00",
          "2021-09-14T00:00:00",
          "2021-09-15T00:00:00",
          "2021-09-16T00:00:00",
          "2021-09-17T00:00:00",
          "2021-09-20T00:00:00",
          "2021-09-21T00:00:00",
          "2021-09-22T00:00:00",
          "2021-09-23T00:00:00",
          "2021-09-24T00:00:00",
          "2021-09-27T00:00:00",
          "2021-09-28T00:00:00",
          "2021-09-29T00:00:00",
          "2021-09-30T00:00:00",
          "2021-10-01T00:00:00",
          "2021-10-04T00:00:00",
          "2021-10-05T00:00:00",
          "2021-10-06T00:00:00",
          "2021-10-07T00:00:00",
          "2021-10-08T00:00:00",
          "2021-10-11T00:00:00",
          "2021-10-12T00:00:00",
          "2021-10-13T00:00:00",
          "2021-10-14T00:00:00",
          "2021-10-15T00:00:00",
          "2021-10-18T00:00:00",
          "2021-10-19T00:00:00",
          "2021-10-20T00:00:00",
          "2021-10-21T00:00:00",
          "2021-10-22T00:00:00",
          "2021-10-25T00:00:00",
          "2021-10-26T00:00:00",
          "2021-10-27T00:00:00",
          "2021-10-28T00:00:00",
          "2021-10-29T00:00:00",
          "2021-11-01T00:00:00",
          "2021-11-02T00:00:00",
          "2021-11-03T00:00:00",
          "2021-11-04T00:00:00",
          "2021-11-05T00:00:00",
          "2021-11-08T00:00:00",
          "2021-11-09T00:00:00",
          "2021-11-10T00:00:00",
          "2021-11-11T00:00:00",
          "2021-11-12T00:00:00",
          "2021-11-15T00:00:00",
          "2021-11-16T00:00:00",
          "2021-11-17T00:00:00",
          "2021-11-18T00:00:00",
          "2021-11-19T00:00:00",
          "2021-11-22T00:00:00",
          "2021-11-23T00:00:00",
          "2021-11-24T00:00:00",
          "2021-11-26T00:00:00",
          "2021-11-29T00:00:00",
          "2021-11-30T00:00:00",
          "2021-12-01T00:00:00",
          "2021-12-02T00:00:00",
          "2021-12-03T00:00:00",
          "2021-12-06T00:00:00",
          "2021-12-07T00:00:00",
          "2021-12-08T00:00:00",
          "2021-12-09T00:00:00",
          "2021-12-10T00:00:00",
          "2021-12-13T00:00:00",
          "2021-12-14T00:00:00",
          "2021-12-15T00:00:00",
          "2021-12-16T00:00:00",
          "2021-12-17T00:00:00",
          "2021-12-20T00:00:00",
          "2021-12-21T00:00:00",
          "2021-12-22T00:00:00",
          "2021-12-23T00:00:00",
          "2021-12-27T00:00:00",
          "2021-12-28T00:00:00",
          "2021-12-29T00:00:00",
          "2021-12-30T00:00:00",
          "2021-12-31T00:00:00",
          "2022-01-03T00:00:00",
          "2022-01-04T00:00:00",
          "2022-01-05T00:00:00",
          "2022-01-06T00:00:00",
          "2022-01-07T00:00:00",
          "2022-01-10T00:00:00",
          "2022-01-11T00:00:00",
          "2022-01-12T00:00:00",
          "2022-01-13T00:00:00",
          "2022-01-14T00:00:00",
          "2022-01-18T00:00:00",
          "2022-01-19T00:00:00",
          "2022-01-20T00:00:00",
          "2022-01-21T00:00:00",
          "2022-01-24T00:00:00",
          "2022-01-25T00:00:00",
          "2022-01-26T00:00:00",
          "2022-01-27T00:00:00",
          "2022-01-28T00:00:00",
          "2022-01-31T00:00:00",
          "2022-02-01T00:00:00",
          "2022-02-02T00:00:00",
          "2022-02-03T00:00:00",
          "2022-02-04T00:00:00",
          "2022-02-07T00:00:00",
          "2022-02-08T00:00:00",
          "2022-02-09T00:00:00",
          "2022-02-10T00:00:00",
          "2022-02-11T00:00:00",
          "2022-02-14T00:00:00",
          "2022-02-15T00:00:00",
          "2022-02-16T00:00:00",
          "2022-02-17T00:00:00",
          "2022-02-18T00:00:00",
          "2022-02-22T00:00:00",
          "2022-02-23T00:00:00",
          "2022-02-24T00:00:00",
          "2022-02-25T00:00:00",
          "2022-02-28T00:00:00",
          "2022-03-01T00:00:00",
          "2022-03-02T00:00:00",
          "2022-03-03T00:00:00",
          "2022-03-04T00:00:00",
          "2022-03-07T00:00:00",
          "2022-03-08T00:00:00",
          "2022-03-09T00:00:00",
          "2022-03-10T00:00:00",
          "2022-03-11T00:00:00",
          "2022-03-14T00:00:00",
          "2022-03-15T00:00:00",
          "2022-03-16T00:00:00",
          "2022-03-17T00:00:00",
          "2022-03-18T00:00:00",
          "2022-03-21T00:00:00",
          "2022-03-22T00:00:00",
          "2022-03-23T00:00:00",
          "2022-03-24T00:00:00",
          "2022-03-25T00:00:00",
          "2022-03-28T00:00:00",
          "2022-03-29T00:00:00",
          "2022-03-30T00:00:00",
          "2022-03-31T00:00:00",
          "2022-04-01T00:00:00",
          "2022-04-04T00:00:00",
          "2022-04-05T00:00:00",
          "2022-04-06T00:00:00",
          "2022-04-07T00:00:00",
          "2022-04-08T00:00:00",
          "2022-04-11T00:00:00",
          "2022-04-12T00:00:00",
          "2022-04-13T00:00:00",
          "2022-04-14T00:00:00",
          "2022-04-18T00:00:00",
          "2022-04-19T00:00:00",
          "2022-04-20T00:00:00",
          "2022-04-21T00:00:00",
          "2022-04-22T00:00:00",
          "2022-04-25T00:00:00",
          "2022-04-26T00:00:00",
          "2022-04-27T00:00:00",
          "2022-04-28T00:00:00",
          "2022-04-29T00:00:00",
          "2022-05-02T00:00:00",
          "2022-05-03T00:00:00",
          "2022-05-04T00:00:00",
          "2022-05-05T00:00:00",
          "2022-05-06T00:00:00",
          "2022-05-09T00:00:00",
          "2022-05-10T00:00:00",
          "2022-05-11T00:00:00",
          "2022-05-12T00:00:00",
          "2022-05-13T00:00:00",
          "2022-05-16T00:00:00",
          "2022-05-17T00:00:00",
          "2022-05-18T00:00:00",
          "2022-05-19T00:00:00",
          "2022-05-20T00:00:00",
          "2022-05-23T00:00:00",
          "2022-05-24T00:00:00",
          "2022-05-25T00:00:00",
          "2022-05-26T00:00:00",
          "2022-05-27T00:00:00",
          "2022-05-31T00:00:00",
          "2022-06-01T00:00:00",
          "2022-06-02T00:00:00",
          "2022-06-03T00:00:00",
          "2022-06-06T00:00:00",
          "2022-06-07T00:00:00",
          "2022-06-08T00:00:00",
          "2022-06-09T00:00:00",
          "2022-06-10T00:00:00",
          "2022-06-13T00:00:00",
          "2022-06-14T00:00:00",
          "2022-06-15T00:00:00",
          "2022-06-16T00:00:00",
          "2022-06-17T00:00:00",
          "2022-06-21T00:00:00",
          "2022-06-22T00:00:00",
          "2022-06-23T00:00:00",
          "2022-06-24T00:00:00",
          "2022-06-27T00:00:00",
          "2022-06-28T00:00:00",
          "2022-06-29T00:00:00",
          "2022-06-30T00:00:00",
          "2022-07-01T00:00:00",
          "2022-07-05T00:00:00",
          "2022-07-06T00:00:00",
          "2022-07-07T00:00:00",
          "2022-07-08T00:00:00",
          "2022-07-11T00:00:00",
          "2022-07-12T00:00:00",
          "2022-07-13T00:00:00",
          "2022-07-14T00:00:00",
          "2022-07-15T00:00:00",
          "2022-07-18T00:00:00",
          "2022-07-19T00:00:00",
          "2022-07-20T00:00:00",
          "2022-07-21T00:00:00",
          "2022-07-22T00:00:00",
          "2022-07-25T00:00:00",
          "2022-07-26T00:00:00",
          "2022-07-27T00:00:00",
          "2022-07-28T00:00:00",
          "2022-07-29T00:00:00",
          "2022-08-01T00:00:00",
          "2022-08-02T00:00:00",
          "2022-08-03T00:00:00",
          "2022-08-04T00:00:00",
          "2022-08-05T00:00:00",
          "2022-08-08T00:00:00",
          "2022-08-09T00:00:00",
          "2022-08-10T00:00:00",
          "2022-08-11T00:00:00",
          "2022-08-12T00:00:00",
          "2022-08-15T00:00:00",
          "2022-08-16T00:00:00",
          "2022-08-17T00:00:00",
          "2022-08-18T00:00:00",
          "2022-08-19T00:00:00",
          "2022-08-22T00:00:00",
          "2022-08-23T00:00:00",
          "2022-08-24T00:00:00",
          "2022-08-25T00:00:00",
          "2022-08-26T00:00:00",
          "2022-08-29T00:00:00",
          "2022-08-30T00:00:00",
          "2022-08-31T00:00:00",
          "2022-09-01T00:00:00",
          "2022-09-02T00:00:00",
          "2022-09-06T00:00:00",
          "2022-09-07T00:00:00",
          "2022-09-08T00:00:00",
          "2022-09-09T00:00:00",
          "2022-09-12T00:00:00",
          "2022-09-13T00:00:00",
          "2022-09-14T00:00:00",
          "2022-09-15T00:00:00",
          "2022-09-16T00:00:00",
          "2022-09-19T00:00:00",
          "2022-09-20T00:00:00",
          "2022-09-21T00:00:00",
          "2022-09-22T00:00:00",
          "2022-09-23T00:00:00",
          "2022-09-26T00:00:00",
          "2022-09-27T00:00:00",
          "2022-09-28T00:00:00",
          "2022-09-29T00:00:00",
          "2022-09-30T00:00:00",
          "2022-10-03T00:00:00",
          "2022-10-04T00:00:00",
          "2022-10-05T00:00:00",
          "2022-10-06T00:00:00",
          "2022-10-07T00:00:00",
          "2022-10-10T00:00:00",
          "2022-10-11T00:00:00",
          "2022-10-12T00:00:00",
          "2022-10-13T00:00:00",
          "2022-10-14T00:00:00",
          "2022-10-17T00:00:00",
          "2022-10-18T00:00:00",
          "2022-10-19T00:00:00",
          "2022-10-20T00:00:00",
          "2022-10-21T00:00:00",
          "2022-10-24T00:00:00",
          "2022-10-25T00:00:00",
          "2022-10-26T00:00:00",
          "2022-10-27T00:00:00",
          "2022-10-28T00:00:00",
          "2022-10-31T00:00:00",
          "2022-11-01T00:00:00",
          "2022-11-02T00:00:00",
          "2022-11-03T00:00:00",
          "2022-11-04T00:00:00",
          "2022-11-07T00:00:00",
          "2022-11-08T00:00:00",
          "2022-11-09T00:00:00",
          "2022-11-10T00:00:00",
          "2022-11-11T00:00:00",
          "2022-11-14T00:00:00",
          "2022-11-15T00:00:00",
          "2022-11-16T00:00:00",
          "2022-11-17T00:00:00",
          "2022-11-18T00:00:00",
          "2022-11-21T00:00:00",
          "2022-11-22T00:00:00",
          "2022-11-23T00:00:00",
          "2022-11-25T00:00:00",
          "2022-11-28T00:00:00",
          "2022-11-29T00:00:00",
          "2022-11-30T00:00:00",
          "2022-12-01T00:00:00",
          "2022-12-02T00:00:00",
          "2022-12-05T00:00:00",
          "2022-12-06T00:00:00",
          "2022-12-07T00:00:00",
          "2022-12-08T00:00:00",
          "2022-12-09T00:00:00",
          "2022-12-12T00:00:00",
          "2022-12-13T00:00:00",
          "2022-12-14T00:00:00",
          "2022-12-15T00:00:00",
          "2022-12-16T00:00:00",
          "2022-12-19T00:00:00",
          "2022-12-20T00:00:00",
          "2022-12-21T00:00:00",
          "2022-12-22T00:00:00",
          "2022-12-23T00:00:00",
          "2022-12-27T00:00:00",
          "2022-12-28T00:00:00",
          "2022-12-29T00:00:00",
          "2022-12-30T00:00:00",
          "2023-01-03T00:00:00",
          "2023-01-04T00:00:00",
          "2023-01-05T00:00:00",
          "2023-01-06T00:00:00",
          "2023-01-09T00:00:00",
          "2023-01-10T00:00:00",
          "2023-01-11T00:00:00",
          "2023-01-12T00:00:00",
          "2023-01-13T00:00:00",
          "2023-01-17T00:00:00",
          "2023-01-18T00:00:00",
          "2023-01-19T00:00:00",
          "2023-01-20T00:00:00",
          "2023-01-23T00:00:00",
          "2023-01-24T00:00:00",
          "2023-01-25T00:00:00",
          "2023-01-26T00:00:00",
          "2023-01-27T00:00:00",
          "2023-01-30T00:00:00",
          "2023-01-31T00:00:00",
          "2023-02-01T00:00:00",
          "2023-02-02T00:00:00",
          "2023-02-03T00:00:00",
          "2023-02-06T00:00:00",
          "2023-02-07T00:00:00",
          "2023-02-08T00:00:00",
          "2023-02-09T00:00:00",
          "2023-02-10T00:00:00",
          "2023-02-13T00:00:00",
          "2023-02-14T00:00:00",
          "2023-02-15T00:00:00",
          "2023-02-16T00:00:00",
          "2023-02-17T00:00:00",
          "2023-02-21T00:00:00",
          "2023-02-22T00:00:00",
          "2023-02-23T00:00:00",
          "2023-02-24T00:00:00",
          "2023-02-27T00:00:00",
          "2023-02-28T00:00:00",
          "2023-03-01T00:00:00",
          "2023-03-02T00:00:00",
          "2023-03-03T00:00:00",
          "2023-03-06T00:00:00",
          "2023-03-07T00:00:00",
          "2023-03-08T00:00:00",
          "2023-03-09T00:00:00",
          "2023-03-10T00:00:00",
          "2023-03-13T00:00:00",
          "2023-03-14T00:00:00",
          "2023-03-15T00:00:00",
          "2023-03-16T00:00:00",
          "2023-03-17T00:00:00",
          "2023-03-20T00:00:00",
          "2023-03-21T00:00:00",
          "2023-03-22T00:00:00",
          "2023-03-23T00:00:00",
          "2023-03-24T00:00:00",
          "2023-03-27T00:00:00",
          "2023-03-28T00:00:00",
          "2023-03-29T00:00:00",
          "2023-03-30T00:00:00",
          "2023-03-31T00:00:00",
          "2023-04-03T00:00:00",
          "2023-04-04T00:00:00",
          "2023-04-05T00:00:00",
          "2023-04-06T00:00:00",
          "2023-04-10T00:00:00",
          "2023-04-11T00:00:00",
          "2023-04-12T00:00:00",
          "2023-04-13T00:00:00",
          "2023-04-14T00:00:00",
          "2023-04-17T00:00:00",
          "2023-04-18T00:00:00",
          "2023-04-19T00:00:00",
          "2023-04-20T00:00:00",
          "2023-04-21T00:00:00",
          "2023-04-24T00:00:00",
          "2023-04-25T00:00:00",
          "2023-04-26T00:00:00",
          "2023-04-27T00:00:00",
          "2023-04-28T00:00:00",
          "2023-05-01T00:00:00",
          "2023-05-02T00:00:00",
          "2023-05-03T00:00:00",
          "2023-05-04T00:00:00",
          "2023-05-05T00:00:00",
          "2023-05-08T00:00:00",
          "2023-05-09T00:00:00",
          "2023-05-10T00:00:00",
          "2023-05-11T00:00:00",
          "2023-05-12T00:00:00",
          "2023-05-15T00:00:00",
          "2023-05-16T00:00:00",
          "2023-05-17T00:00:00",
          "2023-05-18T00:00:00",
          "2023-05-19T00:00:00",
          "2023-05-22T00:00:00",
          "2023-05-23T00:00:00",
          "2023-05-24T00:00:00",
          "2023-05-25T00:00:00",
          "2023-05-26T00:00:00",
          "2023-05-30T00:00:00",
          "2023-05-31T00:00:00",
          "2023-06-01T00:00:00",
          "2023-06-02T00:00:00",
          "2023-06-05T00:00:00",
          "2023-06-06T00:00:00",
          "2023-06-07T00:00:00",
          "2023-06-08T00:00:00",
          "2023-06-09T00:00:00",
          "2023-06-12T00:00:00",
          "2023-06-13T00:00:00",
          "2023-06-14T00:00:00",
          "2023-06-15T00:00:00",
          "2023-06-16T00:00:00",
          "2023-06-20T00:00:00",
          "2023-06-21T00:00:00",
          "2023-06-22T00:00:00",
          "2023-06-23T00:00:00",
          "2023-06-26T00:00:00",
          "2023-06-27T00:00:00",
          "2023-06-28T00:00:00",
          "2023-06-29T00:00:00",
          "2023-06-30T00:00:00",
          "2023-07-03T00:00:00",
          "2023-07-05T00:00:00",
          "2023-07-06T00:00:00",
          "2023-07-07T00:00:00",
          "2023-07-10T00:00:00",
          "2023-07-11T00:00:00",
          "2023-07-12T00:00:00",
          "2023-07-13T00:00:00",
          "2023-07-14T00:00:00",
          "2023-07-17T00:00:00",
          "2023-07-18T00:00:00",
          "2023-07-19T00:00:00",
          "2023-07-20T00:00:00",
          "2023-07-21T00:00:00",
          "2023-07-24T00:00:00",
          "2023-07-25T00:00:00",
          "2023-07-26T00:00:00",
          "2023-07-27T00:00:00",
          "2023-07-28T00:00:00",
          "2023-07-31T00:00:00",
          "2023-08-01T00:00:00",
          "2023-08-02T00:00:00",
          "2023-08-03T00:00:00",
          "2023-08-04T00:00:00",
          "2023-08-07T00:00:00",
          "2023-08-08T00:00:00",
          "2023-08-09T00:00:00",
          "2023-08-10T00:00:00",
          "2023-08-11T00:00:00",
          "2023-08-14T00:00:00",
          "2023-08-15T00:00:00",
          "2023-08-16T00:00:00",
          "2023-08-17T00:00:00",
          "2023-08-18T00:00:00",
          "2023-08-21T00:00:00",
          "2023-08-22T00:00:00",
          "2023-08-23T00:00:00",
          "2023-08-24T00:00:00",
          "2023-08-25T00:00:00",
          "2023-08-28T00:00:00",
          "2023-08-29T00:00:00",
          "2023-08-30T00:00:00",
          "2023-08-31T00:00:00",
          "2023-09-01T00:00:00",
          "2023-09-05T00:00:00",
          "2023-09-06T00:00:00",
          "2023-09-07T00:00:00",
          "2023-09-08T00:00:00",
          "2023-09-11T00:00:00",
          "2023-09-12T00:00:00",
          "2023-09-13T00:00:00",
          "2023-09-14T00:00:00",
          "2023-09-15T00:00:00",
          "2023-09-18T00:00:00",
          "2023-09-19T00:00:00",
          "2023-09-20T00:00:00",
          "2023-09-21T00:00:00",
          "2023-09-22T00:00:00",
          "2023-09-25T00:00:00",
          "2023-09-26T00:00:00",
          "2023-09-27T00:00:00",
          "2023-09-28T00:00:00",
          "2023-09-29T00:00:00",
          "2023-10-02T00:00:00",
          "2023-10-03T00:00:00",
          "2023-10-04T00:00:00",
          "2023-10-05T00:00:00",
          "2023-10-06T00:00:00",
          "2023-10-09T00:00:00",
          "2023-10-10T00:00:00",
          "2023-10-11T00:00:00",
          "2023-10-12T00:00:00",
          "2023-10-13T00:00:00",
          "2023-10-16T00:00:00",
          "2023-10-17T00:00:00",
          "2023-10-18T00:00:00",
          "2023-10-19T00:00:00",
          "2023-10-20T00:00:00",
          "2023-10-23T00:00:00",
          "2023-10-24T00:00:00",
          "2023-10-25T00:00:00",
          "2023-10-26T00:00:00",
          "2023-10-27T00:00:00",
          "2023-10-30T00:00:00",
          "2023-10-31T00:00:00",
          "2023-11-01T00:00:00",
          "2023-11-02T00:00:00",
          "2023-11-03T00:00:00",
          "2023-11-06T00:00:00",
          "2023-11-07T00:00:00",
          "2023-11-08T00:00:00",
          "2023-11-09T00:00:00",
          "2023-11-10T00:00:00",
          "2023-11-13T00:00:00",
          "2023-11-14T00:00:00",
          "2023-11-15T00:00:00",
          "2023-11-16T00:00:00",
          "2023-11-17T00:00:00",
          "2023-11-20T00:00:00",
          "2023-11-21T00:00:00",
          "2023-11-22T00:00:00",
          "2023-11-24T00:00:00",
          "2023-11-27T00:00:00",
          "2023-11-28T00:00:00",
          "2023-11-29T00:00:00",
          "2023-11-30T00:00:00",
          "2023-12-01T00:00:00",
          "2023-12-04T00:00:00",
          "2023-12-05T00:00:00",
          "2023-12-06T00:00:00",
          "2023-12-07T00:00:00",
          "2023-12-08T00:00:00",
          "2023-12-11T00:00:00",
          "2023-12-12T00:00:00",
          "2023-12-13T00:00:00",
          "2023-12-14T00:00:00",
          "2023-12-15T00:00:00",
          "2023-12-18T00:00:00",
          "2023-12-19T00:00:00",
          "2023-12-20T00:00:00",
          "2023-12-21T00:00:00",
          "2023-12-22T00:00:00",
          "2023-12-26T00:00:00"
         ],
         "y": [
          0.953011708451923,
          0.9486689596325476,
          0.9371383038091133,
          0.9212273321774666,
          0.9063503530393677,
          0.9484907086916791,
          0.9333433014393226,
          0.9196221721270503,
          0.9222465105235411,
          0.9081296412506291,
          1.0071838532371018,
          1.0466827533558578,
          1.0355407256610334,
          1.1315727884797848,
          1.1001445308689308,
          1.0943948023477177,
          1.4260937810272087,
          1.3699632176081158,
          1.3156534074068107,
          1.2652272190047675,
          1.228646355130766,
          1.2196376995862162,
          1.2079619060573468,
          1.1656420788811246,
          1.1603250927914117,
          1.1200255447256546,
          1.0894023644558581,
          1.0578464513176777,
          1.0399640124927931,
          1.047753489916815,
          1.0188578306518359,
          1.0642665532116493,
          1.0421091965534748,
          1.0159409394171035,
          1.0228413305177728,
          1.050848935410042,
          1.0332435098859496,
          1.017622580005456,
          1.2320235295360689,
          1.30654940409183,
          1.6150406704945128,
          1.5652100176776516,
          1.5161136431946887,
          1.451472587032935,
          1.4234438592710403,
          1.3651970221667957,
          1.678791247114375,
          1.597346773883661,
          1.5185180924754131,
          1.471978335059081,
          1.408154683871465,
          1.3467447588081163,
          1.3187286609608195,
          1.2681146612487009,
          1.2401960000776675,
          1.902949169296535,
          1.8453645098723719,
          1.7726538612902072,
          1.9037076479179724,
          1.8213362008683653,
          1.7242405681186996,
          1.6348633285708327,
          1.5554808566402658,
          1.480045565499174,
          1.4259634946725777,
          1.4275044010175004,
          1.3640075242996677,
          1.3360795898626139,
          1.2797839973461012,
          1.2387125100767067,
          1.2347590850115366,
          1.3163971001895889,
          1.278885448163965,
          1.2290324710132385,
          1.1828154252365535,
          1.4658003157471011,
          1.4149286576040074,
          1.3609586716094035,
          1.355821364361288,
          1.312063243760728,
          1.264383659751312,
          1.216331639430563,
          1.209090474600644,
          1.346497898076309,
          1.3192114984389811,
          1.3229445812398648,
          1.273877737043136,
          1.2823591471275815,
          1.285459109017837,
          1.2386532540837878,
          1.5306007014367367,
          1.4591258094797077,
          1.3920532833185646,
          1.387578573948846,
          1.3626404705731086,
          1.3050398490607067,
          1.3302183133751138,
          1.274730139597977,
          1.2243861886077345,
          1.1974691270688669,
          1.2223356488875594,
          1.2072727998891049,
          1.1632206481989917,
          1.1520739762549579,
          1.1446733740316775,
          1.1476452895113927,
          1.1227280344876467,
          1.0881787361025617,
          1.3511405842534,
          1.3890961693414285,
          1.327717499859581,
          1.274952334040496,
          1.2334749157899347,
          1.2055734108958134,
          1.1651067419645622,
          1.1320473350481766,
          1.1276149167408862,
          1.131685159182266,
          1.1764160734726183,
          1.175852459810609,
          1.1887954002537815,
          1.1561177279743495,
          1.172174214160714,
          1.1433690780715628,
          1.2362954492767342,
          1.1922940474482215,
          1.2008048777354887,
          1.1612468892311054,
          1.1296573431549508,
          1.097863100044137,
          1.0663315818091443,
          1.3681621762263847,
          1.309266862358861,
          1.6071966747266448,
          1.5425781727296481,
          1.645717913318657,
          1.6442526984434958,
          1.5630893805917638,
          1.6217877645180219,
          1.6084896528018096,
          2.0633467801645407,
          1.9494101911374333,
          1.985057524845258,
          1.892338231362101,
          1.845499634476921,
          1.7472882028153938,
          1.6823872009957426,
          1.8059563165414632,
          1.724404143642563,
          1.6789419034418207,
          1.6188581132753601,
          1.6886170407920733,
          1.609284813223505,
          1.5865153512183345,
          1.549172507043592,
          1.6319349193402524,
          1.5503431698883856,
          1.6621041270728403,
          1.621711487158921,
          1.5414756599276476,
          1.475870235196529,
          1.5296800351082476,
          1.4925613309015229,
          1.4361264390701136,
          1.4004553330513798,
          1.345522521206815,
          1.2990063371187561,
          1.2464114587405613,
          1.2837036414776437,
          1.24046541864441,
          1.2308940512003756,
          1.1936288546740474,
          1.1509669966195204,
          1.2768604165297843,
          1.403669476200219,
          1.3436759916572356,
          1.447856636906357,
          1.3856810360077783,
          1.5281415928050848,
          1.4680841812444498,
          1.4606407043607628,
          1.4835185736353316,
          1.4148119765244087,
          1.645950580634984,
          1.567065824099648,
          1.49739001209765,
          1.4267996364440834,
          1.563034630944007,
          1.5143352128507463,
          1.4429772147990587,
          1.378297127839429,
          1.336298584544235,
          1.2824173684468927,
          1.231967120500372,
          1.2046589438267346,
          1.1861105743726663,
          1.3457026801795362,
          1.3069137216439521,
          1.2532464958189982,
          1.2041223121269038,
          1.1676281276970537,
          1.1279189923537078,
          1.101310665727535,
          1.0908127792337419,
          1.0777282593664255,
          1.0454829423684695,
          1.0352850099962332,
          1.0343427453895473,
          1.0076656789702956,
          1.0202421860848678,
          0.9945559515927528,
          0.9868115630913084,
          0.9734442216386643,
          0.9520827837408207,
          0.9348213722608942,
          0.9245082293719217,
          0.9151409263985578,
          1.0089386812901069,
          1.1532691338115049,
          1.1220736989491056,
          1.1729055948794624,
          1.1470812455565118,
          1.1080652815998484,
          1.0789613697388085,
          1.3741334135235186,
          1.3531558530385657,
          1.2978829437674237,
          1.254879065465866,
          1.207648962479205,
          1.1798961733124018,
          1.1394149338544042,
          1.1020579499482426,
          1.0685857337762157,
          1.0814491739300909,
          1.0489051390813566,
          1.0316339707464635,
          1.0140578178519097,
          1.0502029112172009,
          1.122350567776469,
          1.0875220704241053,
          1.2081957590465404,
          1.182883233737208,
          1.1431101535139387,
          1.162138130396376,
          1.145116692927524,
          1.1572808965137484,
          1.2342571649788625,
          1.1900512530193728,
          1.161815392331452,
          1.1769437475609352,
          1.13748839872185,
          1.1016111627943,
          1.3605244024148895,
          1.3383791980227067,
          1.3951566235034565,
          1.3360544988552083,
          1.3298649745984807,
          1.5489987066522213,
          1.4887389634432626,
          1.482170598846648,
          1.503149624285052,
          1.4323499631515404,
          1.3745745537344154,
          1.3180032292613835,
          1.263131600030229,
          1.2136447927816845,
          1.1700446691022364,
          1.1370002119393363,
          1.1943860089987672,
          1.2196651671605625,
          1.174231113499255,
          1.2131284232469555,
          1.4808035767561452,
          2.0504728884171333,
          1.9365482728070287,
          2.2978117213291473,
          2.6024260841496667,
          2.856362948996769,
          2.9620169588768173,
          2.883485986201973,
          3.1607462116751157,
          3.4258236700613494,
          5.475610036833376,
          5.691635645508362,
          5.548333005397166,
          5.855855119702406,
          7.982242120783271,
          8.922553515137881,
          8.561126930354453,
          8.714099316247404,
          8.158443004180008,
          7.658324667153505,
          7.374414895176299,
          7.881280846739455,
          7.458243033498025,
          7.3164536119850485,
          7.231095972717324,
          6.806609916689477,
          6.482973010730845,
          6.4085713251567995,
          6.105244780572947,
          5.794992139006576,
          5.794151923727214,
          5.432316383003627,
          5.237761732335538,
          5.679942520085591,
          5.514620414513539,
          5.240387748936545,
          5.168738215551036,
          5.000511745081424,
          5.4932781102944706,
          5.28099030810099,
          5.036036197329597,
          4.711935081553995,
          4.409418755164939,
          4.150969304738302,
          4.118015027973933,
          3.8607913168588444,
          3.7121124249015307,
          3.5548994679970565,
          3.4483999232255407,
          3.260505994243713,
          3.0592268312352533,
          2.9432400973567945,
          2.7792921128088657,
          2.6567636781951234,
          2.6877594444794033,
          2.7545981076647044,
          2.8348516090472358,
          2.9671017017589705,
          2.857654472407002,
          3.166519798704827,
          3.0467770663284583,
          3.008379133904115,
          2.859342815782579,
          2.7008204511697476,
          3.4018472093880883,
          3.6828919693486517,
          3.4901531212173955,
          3.3845424481956656,
          3.1974305173745026,
          3.000147052316846,
          3.2963491975082895,
          3.1562695464377826,
          3.28490823536899,
          3.1403622194041003,
          3.072287918343541,
          3.185028702147564,
          4.058446092066306,
          3.894403930177389,
          3.670796222519992,
          3.4467745008978707,
          3.343406002698185,
          3.1423961637811697,
          2.9764066193712746,
          2.821009374067214,
          2.6735808783641275,
          2.7519015343712847,
          2.807006361464612,
          3.202358113066561,
          3.005752378262948,
          2.8405896074436074,
          2.686220200189061,
          2.525345904019458,
          2.50041925016132,
          2.5382144899336456,
          2.4067130758721214,
          2.3834048011123756,
          2.8368171971172025,
          2.6982357942348627,
          2.5399073782541133,
          2.433369984263162,
          2.2905766676572545,
          2.2502661812100477,
          2.1448092053922245,
          2.1294840933761843,
          2.0271896015280446,
          1.9149816175915237,
          1.8302766451414214,
          1.801557999327425,
          1.7090874477950786,
          1.7854836138090182,
          1.9178938293123626,
          1.8207851859971236,
          1.7376802208117987,
          1.6624032062283536,
          1.663218326051982,
          1.5790212502192542,
          1.6466030380622578,
          1.6074117930564666,
          1.8187520278463931,
          1.7501600315600478,
          1.6729832905598618,
          1.5879469354301885,
          1.7545521410713816,
          1.7336788533794179,
          1.6439733221739619,
          1.618429605625739,
          1.5386202028980454,
          1.7061547521889249,
          1.621591982607131,
          1.6177228438492668,
          1.8498794310650977,
          1.753105402708044,
          1.8676745374790578,
          1.7677834222905537,
          1.7345946554975882,
          1.6503816351906158,
          1.7015013139660349,
          1.9917053438768422,
          1.9006720843955454,
          1.8356616254170997,
          1.7753174203940338,
          1.731403094308234,
          1.9478957065552565,
          1.8435860143598573,
          1.7921489032491407,
          1.7007600691846685,
          1.9203014555185285,
          1.8574202400906068,
          1.8461174064974215,
          1.7483323604903087,
          1.6750927630133634,
          1.8246553330226332,
          1.7552066096664454,
          1.6858970557251385,
          1.6117688198436222,
          1.5550642442667137,
          1.6150553196931188,
          1.579133537303127,
          1.5916537657710026,
          1.6385192180874508,
          1.5720238456150777,
          1.5376341280636623,
          1.568564593364902,
          1.5078352717464214,
          1.50431999872515,
          1.4368955323295927,
          1.4909653721575447,
          1.4283873120973356,
          1.4107495076148726,
          1.7445712811923146,
          1.6731161751606076,
          1.7972407783023914,
          1.822186872692984,
          1.9693205819379802,
          1.8687676541209046,
          1.7858500596908329,
          1.8281093652298535,
          1.9910274957492768,
          2.1443955983462284,
          2.398309987719129,
          2.3060322398525472,
          4.867469924241305,
          4.556602331802005,
          4.296577450896872,
          4.046039587105254,
          3.79259705113506,
          3.6598495337737558,
          3.4491245058020987,
          3.2453939147487594,
          3.0443119135942074,
          2.874471242159573,
          2.844202578737667,
          3.045202147495641,
          2.8827046127909486,
          2.7187386903695145,
          2.719558352219817,
          2.5989399043897383,
          2.5125456363192153,
          2.376663831782683,
          2.252038987361637,
          2.1280853190200975,
          2.0073789551091403,
          1.9180565901818414,
          1.8302120699127937,
          1.7476134485120918,
          1.6994887596184824,
          1.6926204327571812,
          1.6067650248815568,
          1.5575530573406724,
          1.4950142724795497,
          1.8497514926335683,
          1.8295505478425906,
          1.937430196514625,
          1.8402052833780054,
          1.7504318879392875,
          1.6635723399619768,
          1.5799647063393552,
          1.5558078329802412,
          1.5198377156025353,
          1.4538224111299227,
          2.032355991456234,
          2.176672899498798,
          2.052301374019272,
          1.9880067646459096,
          1.9363170625238246,
          1.8302641356621983,
          1.739054727599034,
          1.7612400050820407,
          1.6784583345739248,
          1.6770859516456658,
          1.6215125513209316,
          1.5672897715803025,
          1.5552916248200708,
          1.4895702821635366,
          1.7114108829660586,
          1.7082712418687842,
          1.6682448914748493,
          1.5961256257149155,
          1.7957609191876853,
          1.7330377507082753,
          1.7892319707398212,
          1.697724516584053,
          1.6775837660053279,
          1.600813496416909,
          1.5215967868394449,
          1.4545785225114813,
          1.4505837646243938,
          1.5706588604190612,
          1.495119924825923,
          1.4263846063562466,
          1.4518086066956157,
          1.4103779093864746,
          1.365356028269673,
          1.410520767199941,
          1.4298360400984396,
          1.6345153158500512,
          1.701290131217387,
          1.620172754664382,
          1.6481112234800999,
          1.6545212390310498,
          1.5712148616615906,
          1.54482185270959,
          1.4942835723324421,
          1.5723582484918142,
          1.50974186932857,
          1.4791541293020323,
          1.4241788186220319,
          1.4251852502694926,
          1.3924170701388043,
          1.4206539698677183,
          1.4657087681082452,
          1.6682421811665424,
          1.624458610732146,
          1.5578724603524403,
          1.5294137794681868,
          1.540128524773422,
          1.5630665492278375,
          1.5261834267755996,
          1.5403117092563516,
          1.4919643752023966,
          1.427987879824557,
          1.3890341698819937,
          1.408444322877908,
          1.3453709554222746,
          1.3039562761024683,
          1.2547050655859637,
          1.2782766396237053,
          1.386011577448404,
          1.3354666243670505,
          1.2947798011355292,
          1.2542054321224363,
          1.423006585245751,
          1.3793166181345713,
          1.5034060125554298,
          1.546193979777658,
          1.4719689621786862,
          1.4077571210021855,
          1.355689096598406,
          1.4262445559630974,
          1.4003349534431133,
          1.3445940743990374,
          1.3509492706258508,
          1.3497447885068712,
          1.4306657287561129,
          1.367599788370983,
          1.308791269419015,
          1.3812490631946512,
          1.3461971195767433,
          1.5148910916298826,
          1.5161176241402183,
          1.4467723333583253,
          1.4666690898299386,
          1.4275725553834313,
          1.3661298610363148,
          1.348017699991412,
          1.2975327239678454,
          1.2992237692655595,
          1.2465592480494259,
          1.2858137155893625,
          1.2351086181555784,
          1.2297865730715432,
          1.1833397894550644,
          1.1408357269764366,
          1.1023957707580463,
          1.0845036688864538,
          1.0648284917695736,
          1.1250066819702034,
          1.2165802162432726,
          1.1723772284392133,
          1.2750562410029034,
          1.3339640406337978,
          1.2914498146447448,
          1.5764904236206911,
          1.7281218118328194,
          1.7166787394918077,
          1.6301687632541668,
          1.5564794181067703,
          1.5034884414181982,
          1.4612053974838595,
          1.3937311106426407,
          1.3342409465497276,
          1.303181506707984,
          1.2810859935371584,
          1.2313145785734247,
          1.3200591954742105,
          1.2647954175561857,
          1.35394800844225,
          1.6368165691366352,
          1.6119058721820458,
          1.6178662325932658,
          1.5443124386068916,
          1.4700228018688666,
          1.6038270798846936,
          1.876101007798225,
          1.8630005745343619,
          1.8767803137496002,
          1.831028246655827,
          1.7360932664585331,
          1.6554972409098128,
          1.5737680423143647,
          1.4967368777007999,
          1.4461023166789662,
          1.4114127326507082,
          1.3586084834399392,
          1.3413704784357274,
          1.3417198595054745,
          1.337167193100913,
          1.555619931343443,
          1.4818401844335811,
          1.4575543949956766,
          1.4333413205328618,
          1.3709692852952717,
          1.37126319855621,
          1.3353219698271463,
          1.3492050939499882,
          1.3338243378945132,
          1.314305435072874,
          1.2607242963149305,
          1.268180774524232,
          1.2284241427017566,
          1.3393188627329604,
          1.2888080982344214,
          1.256226155103831,
          1.3294901040440783,
          1.280783280129234,
          1.2320116429506534,
          1.1900798734615303,
          1.1705540349065282,
          1.1331657693942314,
          1.1105813311592558,
          1.0799357028304015,
          1.1253600648672295,
          1.1883913253143614,
          1.2951742654885476,
          1.2561331161033114,
          1.207835645429544,
          1.169324282154928,
          1.5140697290217906,
          1.4423570649237687,
          1.494838543205124,
          1.774718839225121,
          1.714591115361486,
          1.7889411855415385,
          1.7077774810870927,
          1.6209776276396766,
          1.6131586197134118,
          1.6624814111981303,
          1.579792577172402,
          1.5805980923815104,
          1.503241208790343,
          1.441755092599354,
          1.375864605726065,
          1.5002425807597832,
          1.457955766158542,
          1.6532569107756054,
          1.6355090080427288,
          1.6598493528423972,
          1.5764666909291953,
          1.5406592131865386,
          1.519547289210285,
          1.4763245657807738,
          1.4626583593178701,
          1.4087606256285534,
          1.346549781780058,
          1.4736547817465815,
          1.4755489836539264,
          1.4125011614314489,
          1.3502177763403183,
          1.2953708605859564,
          1.2426270610900778,
          1.2816375369368138,
          1.2327602656291878,
          1.1957880910424397,
          1.1864934588548874,
          1.145663357869851,
          1.1073935370977581,
          1.087755061362155,
          1.0588955951857795,
          1.0639424617867084,
          1.0548055652720079,
          1.0732369937929924,
          1.1394399620391158,
          1.280345426451423,
          1.4331485994201103,
          1.3989523999095541,
          1.6791083423902362,
          1.603354160402914,
          1.6105696067272923,
          1.5476747623365856,
          1.6074324697917,
          1.6509349484455775,
          1.6050155595468296,
          1.5903230224618639,
          1.5663761548526067,
          1.4925285509632458,
          1.432100748891445,
          1.4312890051080684,
          1.3823281147913284,
          1.3510986804714453,
          1.3755641776713086,
          1.527659405758128,
          1.5819159316606164,
          1.5603148209375344,
          1.4869591010587162,
          1.4192606628812245,
          1.3632376667053445,
          1.3055131000584812,
          1.2527553188813239,
          1.2048622051689413,
          1.1620110075044339,
          1.2953217330881066,
          1.7217017104940426,
          1.7504968317093739,
          1.6870840330099477,
          1.625559750191646,
          1.544198247975474,
          1.4695625568167816,
          1.4087787680326886,
          1.3479825938220322,
          2.4080720597200433,
          2.6636249023448926,
          2.5611580571768084,
          2.4289662958659295,
          2.364714432177689,
          2.2273810083806937,
          2.122776421411799,
          2.0205170601534075,
          2.0034282341587786,
          1.9088957170008984,
          1.8492135720714673,
          1.8251510841960414,
          1.7532967905137478,
          1.689679124377094,
          1.7934711910670842,
          1.7000229725452345,
          1.7111334854500702,
          1.6256998622035015,
          1.5539795758868176,
          1.5486756357959082,
          1.5123473333651123,
          1.5049980458145775,
          1.4337919285377903,
          1.578137173105174,
          1.5049758516518394,
          1.4368351331392921,
          1.5478863109823466,
          1.7484276234947,
          1.8105948221573573,
          2.2081409467775095,
          2.4345916392844233,
          2.377411944856417,
          2.254237421201228,
          2.3273810735563805,
          2.5440953748957087,
          2.407459259050719,
          2.5936479558616288,
          2.474929225633971,
          2.452312963224973,
          2.3249291935484844,
          2.2545474542183155,
          2.550796279427818,
          2.4275059857469965,
          2.285081021159606,
          2.1573354746730256,
          2.1363083009431145,
          2.128116108552701,
          2.014832265938435,
          1.9184771755724674,
          1.8350433712674952,
          1.7371825735745237,
          1.6571814802508644,
          1.871118910157265,
          1.7919432403233848,
          1.7004480159868904,
          1.665781808514497,
          1.6549197438059504,
          1.5771133359191847,
          1.5994229932051092,
          1.5283306081759338,
          1.5075880625490374,
          1.7995572642150526,
          1.7376135711063723,
          1.7409890419070742,
          1.7677594993586372,
          1.676605349183352,
          1.6172741411958593,
          1.81744855564769,
          1.7213449455100518,
          1.913377642587654,
          1.8667722935976834,
          1.8288357742873749,
          2.0434313028697644,
          1.9463147668803855,
          1.9532251171557813,
          2.116382924499461,
          2.1701205112890727,
          2.048250727983104,
          2.0039379369474832,
          2.0664146374217616,
          1.965462277871992,
          1.8583075404790568,
          1.776039389735037,
          1.7032010306397716,
          1.9199594457902733,
          1.9097382515407866,
          1.8789556153517495,
          1.8032317514539997,
          2.606863729050371,
          2.4865711425091894,
          2.346794557609129,
          2.270765579688482,
          2.180298541436305,
          2.0652614841619177,
          2.0418666867398696,
          1.987472217384339,
          1.9405471608322586,
          1.8399180587349075,
          1.7419858984019414,
          1.7419340461256727,
          1.801478442085644,
          2.291713540252952,
          2.3811767580141856,
          2.3150332913163316,
          2.207597019904967,
          2.1643549432009044,
          2.046620631340913,
          2.0782599381074145,
          1.9736706696005175,
          1.9057680805859196,
          2.0280353696208198,
          1.9380270658578098,
          1.8421242262961512,
          1.7530845651496232,
          1.8420697282626601,
          1.783570472520926,
          1.6971916596613907,
          1.6290925087092358,
          1.7340406499914465,
          1.6498462546420154,
          1.6337804282403816,
          1.5517432706871626,
          1.515764479636416,
          1.8596070184155582,
          2.2794959801187407,
          2.1793767446147085,
          2.192884547515944,
          2.067764593269175,
          1.9601450539189698,
          1.8625718888481282,
          1.7646232342716104,
          1.758726318413261,
          1.7350153018528598,
          1.6524869246646106,
          1.573273746321667,
          1.539356478758525,
          1.5629224946279126,
          1.517132671964329,
          1.4979070215932608,
          1.7109843820147967,
          1.6796304798488821,
          1.6139573292719653,
          1.7335350750780152,
          1.7016550489928977,
          1.6895386469739875,
          1.603713425450349,
          1.5481619730430596,
          1.5057368733671719,
          1.4633239063888657,
          1.6296012187853184,
          1.6511052924139822,
          1.6080613713089902,
          1.528650884961373,
          1.6292147269045438,
          1.8990137247033154,
          1.799684144408951,
          1.7046104094867853,
          1.6332682875624425,
          1.5621603013913297,
          1.5094808548081864,
          1.4380603503171474,
          1.4891707353941188,
          1.5903336559872996,
          1.5164220406439983,
          1.484897856000513,
          1.8338298564250357,
          1.739467320029061,
          1.709376137644836,
          1.6412647642937455,
          1.5803087125281656,
          1.6486904789656467,
          1.8438352537115539,
          1.7919611078522548,
          1.8147275216807108,
          1.8696370046762005,
          1.7981917523677928,
          1.811532171624363,
          1.8133190734118376,
          1.801548552577172,
          1.9599451358529267,
          2.370795786857574,
          2.274774730593664,
          2.2544699801099077,
          2.232503740537156,
          2.1314965235876535,
          2.234487333550754,
          2.1613391156862063,
          2.6967833142915243,
          2.5834470709065305,
          2.7668909850313805,
          2.718607022962654,
          2.6421136801356893,
          2.4877143182413377,
          2.8730422338201262,
          2.6978932627530963,
          2.535714440226613,
          2.4082004932392547,
          2.2684231588172636,
          2.1652072041839485,
          2.043671321726838,
          2.005378150608468,
          1.9237770867871316,
          1.8187911815937132,
          1.9200862310199607,
          1.8201375497789438,
          1.7232359572870073,
          1.6976118424114048,
          2.068054615530174,
          1.9519377585946822,
          1.8817557209947835,
          1.8008088762174783,
          1.7053418997122474,
          1.6274426997979088,
          1.5710574764610021,
          1.511763198553955,
          1.507652381737607,
          1.4686789702779,
          1.400609789582785,
          1.4688907295752636,
          1.4856801305142835,
          1.457782483281487,
          1.4756094970956721,
          1.4374846962531387,
          1.6678491419680206,
          1.5831022629206566,
          1.5064380993830413,
          1.466449987896446,
          1.4146897137536671,
          1.4288796813145292,
          1.365817850822686,
          1.3217840326498478,
          1.5216420605140253,
          1.4687042659320586,
          1.408980655160404,
          1.3510978262463191,
          1.3336951637941945,
          1.3404125254375503,
          1.2885277614810575,
          1.2384083357657412,
          1.1986870929008078,
          1.1640292398736187,
          1.1369593460621448,
          1.1184108474505197,
          1.1138844223669844,
          1.0789579934469578,
          1.1978436264713765,
          1.16665881984045,
          1.1535444319526202,
          1.1320957677121388,
          1.0967106509170386,
          1.3184814896427215,
          1.3738985312666057,
          1.6592953233937036,
          1.6440464565594248,
          1.5616974403643498,
          1.563640420954101,
          1.5067124769236357,
          1.4401174701727937,
          1.3838475719248569,
          1.32354146115827,
          1.306173172786887,
          1.2617479591108434,
          1.2181267940654084,
          1.1874291207794452,
          1.234850689715092,
          1.1971334133998548,
          1.2072710124755885,
          1.1925479846994549,
          1.2711046480255737,
          1.2247834559100454,
          1.2192958242866436,
          1.177962705512156,
          1.1400351513383,
          1.20372786077989,
          1.160603196941885,
          1.287087093071908,
          1.2677379186267803,
          1.237235812893359,
          1.216441037535117,
          1.196025436579112,
          1.1755782358846834,
          1.1547433638922946,
          1.1763490452149707,
          1.2639872687210127,
          1.2350686974974514,
          1.547915409962219,
          1.4908648947811967,
          2.2895517027014036,
          2.295471111632659,
          2.2497006142120957,
          2.264032660937164,
          2.649647102347377,
          2.5598503604181695,
          2.7191964031253355,
          2.5731682929483424,
          2.558674239473206,
          2.5607027414168044,
          2.411263089594625,
          2.331055864276069,
          2.3694406722744175,
          2.231548201926046,
          2.103243006545568,
          1.9890848354432007,
          1.9121674430543258,
          1.8095526193672604,
          1.7772755456354117,
          1.683694261182231,
          1.599294303543006,
          1.5216204567873568,
          1.4539551981735763,
          1.38762892291705,
          1.3291187802443745,
          2.727706598542449,
          2.5722956264278976,
          2.440641255160689,
          2.298089186497387,
          2.168716933544862,
          2.0474144120382918,
          1.9328223077340738,
          1.9727327098483685,
          1.962261273958354,
          1.8965169445072128,
          1.8099798372400409,
          1.835253109523571,
          1.825851631098997,
          1.8743953356451653,
          1.837565160572131,
          1.8383692932989804,
          1.7403914418000563,
          1.661162344999673,
          1.577027411167834,
          1.5062275751614456,
          1.5205753651893874,
          1.4668777442293808,
          1.4221378441938426,
          1.6627141415529165,
          1.5919226002801148,
          1.517510882806978,
          1.4772598102662824,
          1.457844216771678,
          1.430381309197894,
          1.366013412736672,
          1.3333511303983923,
          1.2797145232995621,
          1.3084916566735736,
          1.3192282301215243,
          1.418369789732082,
          1.4007501824454311,
          1.3384953463107299,
          1.31098455049979,
          1.2568749221416367,
          1.2076416964003234,
          1.1634211766069706,
          1.1397541567996183,
          1.112815089093396,
          1.1260609349038122,
          1.0889724566123211,
          1.0750498132646287,
          1.0465984011692675,
          1.2145706408190813,
          1.187368145887416,
          1.1450938911583437,
          1.1067327488144951,
          1.0866646673656764,
          1.5195785963640907,
          1.5057391754551233,
          1.4515161113417552,
          1.4079265064069828,
          1.3920534151408526,
          1.348107995678203,
          1.298323378887869,
          1.3305056154243713,
          1.2801655043503108,
          1.2342981649681912,
          1.1973217594067476,
          1.372483681826934,
          1.3127239996567504,
          1.261072889024424,
          1.263943715881816,
          1.2474274337844968,
          1.3407763433556286,
          1.3140047785714264,
          1.2689328934244124,
          1.2811543720528886,
          1.238141695274825,
          1.2037138235823817,
          1.1760488314807784,
          1.2045732020002693,
          1.1709216083229272,
          1.1345249627818648,
          1.1026804038892635,
          1.090444031538992,
          1.1581220704819364,
          1.121285431222559,
          1.0949548731979495,
          1.0613408612780864,
          1.3453468528583477,
          1.2998056634824946,
          1.3017009086147848,
          1.248607257077219,
          1.2020560943993415,
          1.358804090212795,
          1.3126443815492683,
          1.2599488988822138,
          1.212662137502661,
          1.1696137278416001,
          1.1506261592402725,
          1.1239606707801972,
          1.1724680147450877,
          1.1330620076161724,
          1.1648417166395082,
          1.1277444467078037,
          1.1353545326473824,
          1.0974390105220253,
          1.0682390179613732,
          1.1057502987289753,
          1.0709113998692275,
          1.1957116694189456,
          1.1596809262290488,
          1.1197025603998882,
          1.0861690803104,
          1.0675935389791744,
          1.0767616598002967,
          1.1014646822853194,
          1.0737599923893029,
          1.1073950090597138,
          1.082869372664353,
          1.1115736240430651,
          1.2336300395409292,
          1.2281816050604528,
          1.213517645811293,
          1.172941291187814,
          1.1355845740534234,
          1.1905710565748355,
          1.1527264803145607,
          1.1243268574653293,
          1.0898598652567555,
          1.062482625527392,
          1.1252629625747073,
          1.090583558391137,
          1.0625800534365388,
          1.1047780221550414,
          1.0842188104005688,
          1.1916561793216893,
          1.2449530428444273,
          1.1965368806594738,
          1.172606906291507,
          1.1318926646408511,
          1.629469940480006,
          1.5926554082305793,
          1.5536832784350387,
          1.479735081520502,
          1.510703037249898,
          1.4749530129221753,
          1.4212719087501273,
          1.3581632645062969,
          1.305183893882432,
          1.2585009470628468,
          1.2874508491671366,
          1.2485345088754474,
          1.3214538615090403,
          1.2897196785461729,
          1.2810406925833924,
          1.255524389947653,
          1.2076955947172316,
          1.1675915041247846,
          1.127110844622194,
          1.0899362502765735,
          1.0623890910183704,
          1.0322895042930156,
          1.0126023183198518,
          1.0413139872374824,
          1.019802888416606,
          1.0133391746558378,
          0.9886120293893789,
          1.0374703166854133,
          1.0111703245804728,
          1.0363215323640143,
          1.0114806022048743,
          1.0175582712252846,
          0.9940003615288601,
          1.11646375371171,
          1.0999818442476437,
          1.0771346812430194,
          1.1171169580822409,
          1.1541008899283467,
          1.1239036698509648,
          1.088559987126407
         ]
        }
       ],
       "layout": {
        "annotations": [
         {
          "align": "center",
          "bgcolor": "white",
          "font": {
           "color": "black",
           "size": 12
          },
          "opacity": 0.7,
          "showarrow": false,
          "text": "",
          "x": 0.95,
          "xref": "paper",
          "y": 0.95,
          "yref": "paper"
         }
        ],
        "template": {
         "data": {
          "bar": [
           {
            "error_x": {
             "color": "#2a3f5f"
            },
            "error_y": {
             "color": "#2a3f5f"
            },
            "marker": {
             "line": {
              "color": "#E5ECF6",
              "width": 0.5
             },
             "pattern": {
              "fillmode": "overlay",
              "size": 10,
              "solidity": 0.2
             }
            },
            "type": "bar"
           }
          ],
          "barpolar": [
           {
            "marker": {
             "line": {
              "color": "#E5ECF6",
              "width": 0.5
             },
             "pattern": {
              "fillmode": "overlay",
              "size": 10,
              "solidity": 0.2
             }
            },
            "type": "barpolar"
           }
          ],
          "carpet": [
           {
            "aaxis": {
             "endlinecolor": "#2a3f5f",
             "gridcolor": "white",
             "linecolor": "white",
             "minorgridcolor": "white",
             "startlinecolor": "#2a3f5f"
            },
            "baxis": {
             "endlinecolor": "#2a3f5f",
             "gridcolor": "white",
             "linecolor": "white",
             "minorgridcolor": "white",
             "startlinecolor": "#2a3f5f"
            },
            "type": "carpet"
           }
          ],
          "choropleth": [
           {
            "colorbar": {
             "outlinewidth": 0,
             "ticks": ""
            },
            "type": "choropleth"
           }
          ],
          "contour": [
           {
            "colorbar": {
             "outlinewidth": 0,
             "ticks": ""
            },
            "colorscale": [
             [
              0,
              "#0d0887"
             ],
             [
              0.1111111111111111,
              "#46039f"
             ],
             [
              0.2222222222222222,
              "#7201a8"
             ],
             [
              0.3333333333333333,
              "#9c179e"
             ],
             [
              0.4444444444444444,
              "#bd3786"
             ],
             [
              0.5555555555555556,
              "#d8576b"
             ],
             [
              0.6666666666666666,
              "#ed7953"
             ],
             [
              0.7777777777777778,
              "#fb9f3a"
             ],
             [
              0.8888888888888888,
              "#fdca26"
             ],
             [
              1,
              "#f0f921"
             ]
            ],
            "type": "contour"
           }
          ],
          "contourcarpet": [
           {
            "colorbar": {
             "outlinewidth": 0,
             "ticks": ""
            },
            "type": "contourcarpet"
           }
          ],
          "heatmap": [
           {
            "colorbar": {
             "outlinewidth": 0,
             "ticks": ""
            },
            "colorscale": [
             [
              0,
              "#0d0887"
             ],
             [
              0.1111111111111111,
              "#46039f"
             ],
             [
              0.2222222222222222,
              "#7201a8"
             ],
             [
              0.3333333333333333,
              "#9c179e"
             ],
             [
              0.4444444444444444,
              "#bd3786"
             ],
             [
              0.5555555555555556,
              "#d8576b"
             ],
             [
              0.6666666666666666,
              "#ed7953"
             ],
             [
              0.7777777777777778,
              "#fb9f3a"
             ],
             [
              0.8888888888888888,
              "#fdca26"
             ],
             [
              1,
              "#f0f921"
             ]
            ],
            "type": "heatmap"
           }
          ],
          "heatmapgl": [
           {
            "colorbar": {
             "outlinewidth": 0,
             "ticks": ""
            },
            "colorscale": [
             [
              0,
              "#0d0887"
             ],
             [
              0.1111111111111111,
              "#46039f"
             ],
             [
              0.2222222222222222,
              "#7201a8"
             ],
             [
              0.3333333333333333,
              "#9c179e"
             ],
             [
              0.4444444444444444,
              "#bd3786"
             ],
             [
              0.5555555555555556,
              "#d8576b"
             ],
             [
              0.6666666666666666,
              "#ed7953"
             ],
             [
              0.7777777777777778,
              "#fb9f3a"
             ],
             [
              0.8888888888888888,
              "#fdca26"
             ],
             [
              1,
              "#f0f921"
             ]
            ],
            "type": "heatmapgl"
           }
          ],
          "histogram": [
           {
            "marker": {
             "pattern": {
              "fillmode": "overlay",
              "size": 10,
              "solidity": 0.2
             }
            },
            "type": "histogram"
           }
          ],
          "histogram2d": [
           {
            "colorbar": {
             "outlinewidth": 0,
             "ticks": ""
            },
            "colorscale": [
             [
              0,
              "#0d0887"
             ],
             [
              0.1111111111111111,
              "#46039f"
             ],
             [
              0.2222222222222222,
              "#7201a8"
             ],
             [
              0.3333333333333333,
              "#9c179e"
             ],
             [
              0.4444444444444444,
              "#bd3786"
             ],
             [
              0.5555555555555556,
              "#d8576b"
             ],
             [
              0.6666666666666666,
              "#ed7953"
             ],
             [
              0.7777777777777778,
              "#fb9f3a"
             ],
             [
              0.8888888888888888,
              "#fdca26"
             ],
             [
              1,
              "#f0f921"
             ]
            ],
            "type": "histogram2d"
           }
          ],
          "histogram2dcontour": [
           {
            "colorbar": {
             "outlinewidth": 0,
             "ticks": ""
            },
            "colorscale": [
             [
              0,
              "#0d0887"
             ],
             [
              0.1111111111111111,
              "#46039f"
             ],
             [
              0.2222222222222222,
              "#7201a8"
             ],
             [
              0.3333333333333333,
              "#9c179e"
             ],
             [
              0.4444444444444444,
              "#bd3786"
             ],
             [
              0.5555555555555556,
              "#d8576b"
             ],
             [
              0.6666666666666666,
              "#ed7953"
             ],
             [
              0.7777777777777778,
              "#fb9f3a"
             ],
             [
              0.8888888888888888,
              "#fdca26"
             ],
             [
              1,
              "#f0f921"
             ]
            ],
            "type": "histogram2dcontour"
           }
          ],
          "mesh3d": [
           {
            "colorbar": {
             "outlinewidth": 0,
             "ticks": ""
            },
            "type": "mesh3d"
           }
          ],
          "parcoords": [
           {
            "line": {
             "colorbar": {
              "outlinewidth": 0,
              "ticks": ""
             }
            },
            "type": "parcoords"
           }
          ],
          "pie": [
           {
            "automargin": true,
            "type": "pie"
           }
          ],
          "scatter": [
           {
            "fillpattern": {
             "fillmode": "overlay",
             "size": 10,
             "solidity": 0.2
            },
            "type": "scatter"
           }
          ],
          "scatter3d": [
           {
            "line": {
             "colorbar": {
              "outlinewidth": 0,
              "ticks": ""
             }
            },
            "marker": {
             "colorbar": {
              "outlinewidth": 0,
              "ticks": ""
             }
            },
            "type": "scatter3d"
           }
          ],
          "scattercarpet": [
           {
            "marker": {
             "colorbar": {
              "outlinewidth": 0,
              "ticks": ""
             }
            },
            "type": "scattercarpet"
           }
          ],
          "scattergeo": [
           {
            "marker": {
             "colorbar": {
              "outlinewidth": 0,
              "ticks": ""
             }
            },
            "type": "scattergeo"
           }
          ],
          "scattergl": [
           {
            "marker": {
             "colorbar": {
              "outlinewidth": 0,
              "ticks": ""
             }
            },
            "type": "scattergl"
           }
          ],
          "scattermapbox": [
           {
            "marker": {
             "colorbar": {
              "outlinewidth": 0,
              "ticks": ""
             }
            },
            "type": "scattermapbox"
           }
          ],
          "scatterpolar": [
           {
            "marker": {
             "colorbar": {
              "outlinewidth": 0,
              "ticks": ""
             }
            },
            "type": "scatterpolar"
           }
          ],
          "scatterpolargl": [
           {
            "marker": {
             "colorbar": {
              "outlinewidth": 0,
              "ticks": ""
             }
            },
            "type": "scatterpolargl"
           }
          ],
          "scatterternary": [
           {
            "marker": {
             "colorbar": {
              "outlinewidth": 0,
              "ticks": ""
             }
            },
            "type": "scatterternary"
           }
          ],
          "surface": [
           {
            "colorbar": {
             "outlinewidth": 0,
             "ticks": ""
            },
            "colorscale": [
             [
              0,
              "#0d0887"
             ],
             [
              0.1111111111111111,
              "#46039f"
             ],
             [
              0.2222222222222222,
              "#7201a8"
             ],
             [
              0.3333333333333333,
              "#9c179e"
             ],
             [
              0.4444444444444444,
              "#bd3786"
             ],
             [
              0.5555555555555556,
              "#d8576b"
             ],
             [
              0.6666666666666666,
              "#ed7953"
             ],
             [
              0.7777777777777778,
              "#fb9f3a"
             ],
             [
              0.8888888888888888,
              "#fdca26"
             ],
             [
              1,
              "#f0f921"
             ]
            ],
            "type": "surface"
           }
          ],
          "table": [
           {
            "cells": {
             "fill": {
              "color": "#EBF0F8"
             },
             "line": {
              "color": "white"
             }
            },
            "header": {
             "fill": {
              "color": "#C8D4E3"
             },
             "line": {
              "color": "white"
             }
            },
            "type": "table"
           }
          ]
         },
         "layout": {
          "annotationdefaults": {
           "arrowcolor": "#2a3f5f",
           "arrowhead": 0,
           "arrowwidth": 1
          },
          "autotypenumbers": "strict",
          "coloraxis": {
           "colorbar": {
            "outlinewidth": 0,
            "ticks": ""
           }
          },
          "colorscale": {
           "diverging": [
            [
             0,
             "#8e0152"
            ],
            [
             0.1,
             "#c51b7d"
            ],
            [
             0.2,
             "#de77ae"
            ],
            [
             0.3,
             "#f1b6da"
            ],
            [
             0.4,
             "#fde0ef"
            ],
            [
             0.5,
             "#f7f7f7"
            ],
            [
             0.6,
             "#e6f5d0"
            ],
            [
             0.7,
             "#b8e186"
            ],
            [
             0.8,
             "#7fbc41"
            ],
            [
             0.9,
             "#4d9221"
            ],
            [
             1,
             "#276419"
            ]
           ],
           "sequential": [
            [
             0,
             "#0d0887"
            ],
            [
             0.1111111111111111,
             "#46039f"
            ],
            [
             0.2222222222222222,
             "#7201a8"
            ],
            [
             0.3333333333333333,
             "#9c179e"
            ],
            [
             0.4444444444444444,
             "#bd3786"
            ],
            [
             0.5555555555555556,
             "#d8576b"
            ],
            [
             0.6666666666666666,
             "#ed7953"
            ],
            [
             0.7777777777777778,
             "#fb9f3a"
            ],
            [
             0.8888888888888888,
             "#fdca26"
            ],
            [
             1,
             "#f0f921"
            ]
           ],
           "sequentialminus": [
            [
             0,
             "#0d0887"
            ],
            [
             0.1111111111111111,
             "#46039f"
            ],
            [
             0.2222222222222222,
             "#7201a8"
            ],
            [
             0.3333333333333333,
             "#9c179e"
            ],
            [
             0.4444444444444444,
             "#bd3786"
            ],
            [
             0.5555555555555556,
             "#d8576b"
            ],
            [
             0.6666666666666666,
             "#ed7953"
            ],
            [
             0.7777777777777778,
             "#fb9f3a"
            ],
            [
             0.8888888888888888,
             "#fdca26"
            ],
            [
             1,
             "#f0f921"
            ]
           ]
          },
          "colorway": [
           "#636efa",
           "#EF553B",
           "#00cc96",
           "#ab63fa",
           "#FFA15A",
           "#19d3f3",
           "#FF6692",
           "#B6E880",
           "#FF97FF",
           "#FECB52"
          ],
          "font": {
           "color": "#2a3f5f"
          },
          "geo": {
           "bgcolor": "white",
           "lakecolor": "white",
           "landcolor": "#E5ECF6",
           "showlakes": true,
           "showland": true,
           "subunitcolor": "white"
          },
          "hoverlabel": {
           "align": "left"
          },
          "hovermode": "closest",
          "mapbox": {
           "style": "light"
          },
          "paper_bgcolor": "white",
          "plot_bgcolor": "#E5ECF6",
          "polar": {
           "angularaxis": {
            "gridcolor": "white",
            "linecolor": "white",
            "ticks": ""
           },
           "bgcolor": "#E5ECF6",
           "radialaxis": {
            "gridcolor": "white",
            "linecolor": "white",
            "ticks": ""
           }
          },
          "scene": {
           "xaxis": {
            "backgroundcolor": "#E5ECF6",
            "gridcolor": "white",
            "gridwidth": 2,
            "linecolor": "white",
            "showbackground": true,
            "ticks": "",
            "zerolinecolor": "white"
           },
           "yaxis": {
            "backgroundcolor": "#E5ECF6",
            "gridcolor": "white",
            "gridwidth": 2,
            "linecolor": "white",
            "showbackground": true,
            "ticks": "",
            "zerolinecolor": "white"
           },
           "zaxis": {
            "backgroundcolor": "#E5ECF6",
            "gridcolor": "white",
            "gridwidth": 2,
            "linecolor": "white",
            "showbackground": true,
            "ticks": "",
            "zerolinecolor": "white"
           }
          },
          "shapedefaults": {
           "line": {
            "color": "#2a3f5f"
           }
          },
          "ternary": {
           "aaxis": {
            "gridcolor": "white",
            "linecolor": "white",
            "ticks": ""
           },
           "baxis": {
            "gridcolor": "white",
            "linecolor": "white",
            "ticks": ""
           },
           "bgcolor": "#E5ECF6",
           "caxis": {
            "gridcolor": "white",
            "linecolor": "white",
            "ticks": ""
           }
          },
          "title": {
           "x": 0.05
          },
          "xaxis": {
           "automargin": true,
           "gridcolor": "white",
           "linecolor": "white",
           "ticks": "",
           "title": {
            "standoff": 15
           },
           "zerolinecolor": "white",
           "zerolinewidth": 2
          },
          "yaxis": {
           "automargin": true,
           "gridcolor": "white",
           "linecolor": "white",
           "ticks": "",
           "title": {
            "standoff": 15
           },
           "zerolinecolor": "white",
           "zerolinewidth": 2
          }
         }
        },
        "title": {
         "text": "Volatilidade Condicional das Ações da Coca-Cola e JPMorgan"
        },
        "xaxis": {
         "title": {
          "text": "Data"
         }
        },
        "yaxis": {
         "title": {
          "text": "Volatilidade condicional"
         }
        }
       }
      }
     },
     "metadata": {},
     "output_type": "display_data"
    }
   ],
   "source": [
    "plot_multiples_time_series_line_graphs([coca_cola_conditional_volatility, jpmorgan_conditional_volatility], \"Volatilidade Condicional das Ações da Coca-Cola e JPMorgan\", \"Data\", \"Volatilidade condicional\")"
   ]
  },
  {
   "cell_type": "code",
   "execution_count": 37,
   "metadata": {},
   "outputs": [],
   "source": [
    "# Cria uma instância do modelo LSTM, passando o número de features e o comprimento das sequências de tempo (janelas temporais) para \n",
    "# preparar o modelo.\n",
    "model = Model(9,setup['lstm_time_sequences_length'])\n",
    "\n",
    "# Constrói a arquitetura da rede LSTM, configurando as camadas e os parâmetros necessários para o treinamento do modelo.\n",
    "model.create_LSTM_model()"
   ]
  },
  {
   "cell_type": "code",
   "execution_count": 38,
   "metadata": {},
   "outputs": [],
   "source": [
    "def get_ticker_period_results(ticker: Ticker, predicted: pd.Series) -> list: \n",
    "    '''\n",
    "        Description:\n",
    "            ...\n",
    "        Args:\n",
    "            ticker (Ticker): Objeto do tipo Ticker que contém dados e informações relevantes do ativo.\n",
    "            predicted (pd.Series): Série temporal contendo os valores preditos do preço do ativo.\n",
    "        Return:\n",
    "            pd.DataFrame: ... \n",
    "    '''\n",
    "\n",
    "    # Redimensiona y_train para que ele seja bidimensional (Necessário para o MinMaxScaler).\n",
    "    resized_y_train = ticker.__y_train__.values.reshape(-1, 1)  \n",
    "\n",
    "    # Cria uma instancia do MinMaxScaler para o target do ticker em questão.\n",
    "    scaler_target = MinMaxScaler()\n",
    "\n",
    "    # Ajusta a instância criada acima ao conjunto de treino do target do ticker em questão.\n",
    "    scaler_target.fit_transform(resized_y_train)\n",
    "\n",
    "    # Volta os valores de \"y_test_scaled_sequences\" para a escala normal e associa a esses valores as suas datas originais, criando assim\n",
    "    # uma série temporal.\n",
    "    real_y = pd.Series(scaler_target.inverse_transform(ticker.__y_test_scaled_sequences__).flatten(),\n",
    "                    index= ticker.__y_test__.index[len(ticker.__y_test__) - len(ticker.__y_test_scaled_sequences__):]\n",
    "    )\n",
    "    \n",
    "    # Adiciona um nome a série temporal \"real_y\".\n",
    "    real_y.name = f\"Preço real de {ticker.symbol}\" # Útil para eventuais gráficos.\n",
    "\n",
    "    # Volta os valores estimados para a escala normal e associa a esses valores as suas datas originais, criando assim\n",
    "    # uma série temporal.\n",
    "    predicted_y = pd.Series(\n",
    "        scaler_target.inverse_transform(predicted).flatten(),\n",
    "        index=ticker.__y_test__.index[len(ticker.__y_test__) - len(ticker.__y_test_scaled_sequences__):]\n",
    "    )\n",
    "    \n",
    "    # Adiciona um nome a série temporal \"real_y\".\n",
    "    predicted_y.name = f\"Preço predito de {ticker.symbol}\" # Útil para eventuais gráficos.\n",
    "\n",
    "    return real_y, predicted_y"
   ]
  },
  {
   "cell_type": "code",
   "execution_count": 39,
   "metadata": {},
   "outputs": [
    {
     "name": "stdout",
     "output_type": "stream",
     "text": [
      "\u001b[1m1/1\u001b[0m \u001b[32m━━━━━━━━━━━━━━━━━━━━\u001b[0m\u001b[37m\u001b[0m \u001b[1m0s\u001b[0m 455ms/step\n"
     ]
    }
   ],
   "source": [
    "# Define o período a ser predito como sendo o período 61 da estratégia mensal.\n",
    "test_initial_day = datetime(2023,11,28).date()\n",
    "test_final_day = datetime(2023,12,27).date()\n",
    "\n",
    "\n",
    "# Obtem os dados do ticker em questão em formato adequado para que o modelo LSTM possa realizer a predição.\n",
    "X_train_scaled_sequences, X_test_scaled_sequences, y_train_scaled_sequences, y_test_scaled_sequences = jpmorgan_data.prepare_data_for_lstm(\n",
    "    test_initial_day, test_final_day, setup['lstm_time_sequences_length'])\n",
    "#\n",
    "predicted, RMSE = model.train_model_and_get_results(X_train_scaled_sequences, X_test_scaled_sequences, y_train_scaled_sequences, y_test_scaled_sequences)\n",
    "\n",
    "#\n",
    "predicted_time_series, real_time_series = get_ticker_period_results(jpmorgan_data, predicted)\n",
    "\n",
    "#\n",
    "predicted_time_series.name = f\"Valores preditos para {jpmorgan_data.symbol}\"\n",
    "real_time_series.name = f\"Valores reais de {jpmorgan_data.symbol}\"\n",
    "\n",
    "results = {\n",
    "    \"Predicted\": predicted_time_series,\n",
    "    \"Real\": real_time_series,\n",
    "    \"RMSE\": RMSE\n",
    "}\n",
    "    "
   ]
  },
  {
   "cell_type": "code",
   "execution_count": 40,
   "metadata": {},
   "outputs": [
    {
     "data": {
      "application/vnd.plotly.v1+json": {
       "config": {
        "plotlyServerURL": "https://plot.ly"
       },
       "data": [
        {
         "mode": "lines",
         "name": "Valores preditos para JPM",
         "type": "scatter",
         "x": [
          "2023-12-01T00:00:00",
          "2023-12-04T00:00:00",
          "2023-12-05T00:00:00",
          "2023-12-06T00:00:00",
          "2023-12-07T00:00:00",
          "2023-12-08T00:00:00",
          "2023-12-11T00:00:00",
          "2023-12-12T00:00:00",
          "2023-12-13T00:00:00",
          "2023-12-14T00:00:00",
          "2023-12-15T00:00:00",
          "2023-12-18T00:00:00",
          "2023-12-19T00:00:00",
          "2023-12-20T00:00:00",
          "2023-12-21T00:00:00",
          "2023-12-22T00:00:00",
          "2023-12-26T00:00:00"
         ],
         "y": [
          153.18211364746094,
          154.3052978515625,
          154.28575134277344,
          152.6644744873047,
          153.13327026367188,
          154.8229217529297,
          155.38941955566406,
          156.7762908935547,
          157.30368041992188,
          160.1653594970703,
          161.3764190673828,
          162.35311889648435,
          164.52134704589844,
          162.6656494140625,
          163.59350585937497,
          163.49581909179685,
          164.46272277832028
         ]
        },
        {
         "mode": "lines",
         "name": "Valores reais de JPM",
         "type": "scatter",
         "x": [
          "2023-12-01T00:00:00",
          "2023-12-04T00:00:00",
          "2023-12-05T00:00:00",
          "2023-12-06T00:00:00",
          "2023-12-07T00:00:00",
          "2023-12-08T00:00:00",
          "2023-12-11T00:00:00",
          "2023-12-12T00:00:00",
          "2023-12-13T00:00:00",
          "2023-12-14T00:00:00",
          "2023-12-15T00:00:00",
          "2023-12-18T00:00:00",
          "2023-12-19T00:00:00",
          "2023-12-20T00:00:00",
          "2023-12-21T00:00:00",
          "2023-12-22T00:00:00",
          "2023-12-26T00:00:00"
         ],
         "y": [
          152.3094024658203,
          153.31362915039062,
          154.41624450683594,
          155.08824157714844,
          154.7628631591797,
          154.6300506591797,
          154.910400390625,
          155.9479522705078,
          157.2075653076172,
          157.52642822265625,
          158.7735137939453,
          159.55862426757812,
          161.11984252929688,
          162.79774475097656,
          163.0913543701172,
          163.47271728515625,
          163.87681579589844
         ]
        }
       ],
       "layout": {
        "annotations": [
         {
          "align": "center",
          "bgcolor": "white",
          "font": {
           "color": "black",
           "size": 12
          },
          "opacity": 0.7,
          "showarrow": false,
          "text": "RMSE: 0.0183",
          "x": 0.95,
          "xref": "paper",
          "y": 0.95,
          "yref": "paper"
         }
        ],
        "template": {
         "data": {
          "bar": [
           {
            "error_x": {
             "color": "#2a3f5f"
            },
            "error_y": {
             "color": "#2a3f5f"
            },
            "marker": {
             "line": {
              "color": "#E5ECF6",
              "width": 0.5
             },
             "pattern": {
              "fillmode": "overlay",
              "size": 10,
              "solidity": 0.2
             }
            },
            "type": "bar"
           }
          ],
          "barpolar": [
           {
            "marker": {
             "line": {
              "color": "#E5ECF6",
              "width": 0.5
             },
             "pattern": {
              "fillmode": "overlay",
              "size": 10,
              "solidity": 0.2
             }
            },
            "type": "barpolar"
           }
          ],
          "carpet": [
           {
            "aaxis": {
             "endlinecolor": "#2a3f5f",
             "gridcolor": "white",
             "linecolor": "white",
             "minorgridcolor": "white",
             "startlinecolor": "#2a3f5f"
            },
            "baxis": {
             "endlinecolor": "#2a3f5f",
             "gridcolor": "white",
             "linecolor": "white",
             "minorgridcolor": "white",
             "startlinecolor": "#2a3f5f"
            },
            "type": "carpet"
           }
          ],
          "choropleth": [
           {
            "colorbar": {
             "outlinewidth": 0,
             "ticks": ""
            },
            "type": "choropleth"
           }
          ],
          "contour": [
           {
            "colorbar": {
             "outlinewidth": 0,
             "ticks": ""
            },
            "colorscale": [
             [
              0,
              "#0d0887"
             ],
             [
              0.1111111111111111,
              "#46039f"
             ],
             [
              0.2222222222222222,
              "#7201a8"
             ],
             [
              0.3333333333333333,
              "#9c179e"
             ],
             [
              0.4444444444444444,
              "#bd3786"
             ],
             [
              0.5555555555555556,
              "#d8576b"
             ],
             [
              0.6666666666666666,
              "#ed7953"
             ],
             [
              0.7777777777777778,
              "#fb9f3a"
             ],
             [
              0.8888888888888888,
              "#fdca26"
             ],
             [
              1,
              "#f0f921"
             ]
            ],
            "type": "contour"
           }
          ],
          "contourcarpet": [
           {
            "colorbar": {
             "outlinewidth": 0,
             "ticks": ""
            },
            "type": "contourcarpet"
           }
          ],
          "heatmap": [
           {
            "colorbar": {
             "outlinewidth": 0,
             "ticks": ""
            },
            "colorscale": [
             [
              0,
              "#0d0887"
             ],
             [
              0.1111111111111111,
              "#46039f"
             ],
             [
              0.2222222222222222,
              "#7201a8"
             ],
             [
              0.3333333333333333,
              "#9c179e"
             ],
             [
              0.4444444444444444,
              "#bd3786"
             ],
             [
              0.5555555555555556,
              "#d8576b"
             ],
             [
              0.6666666666666666,
              "#ed7953"
             ],
             [
              0.7777777777777778,
              "#fb9f3a"
             ],
             [
              0.8888888888888888,
              "#fdca26"
             ],
             [
              1,
              "#f0f921"
             ]
            ],
            "type": "heatmap"
           }
          ],
          "heatmapgl": [
           {
            "colorbar": {
             "outlinewidth": 0,
             "ticks": ""
            },
            "colorscale": [
             [
              0,
              "#0d0887"
             ],
             [
              0.1111111111111111,
              "#46039f"
             ],
             [
              0.2222222222222222,
              "#7201a8"
             ],
             [
              0.3333333333333333,
              "#9c179e"
             ],
             [
              0.4444444444444444,
              "#bd3786"
             ],
             [
              0.5555555555555556,
              "#d8576b"
             ],
             [
              0.6666666666666666,
              "#ed7953"
             ],
             [
              0.7777777777777778,
              "#fb9f3a"
             ],
             [
              0.8888888888888888,
              "#fdca26"
             ],
             [
              1,
              "#f0f921"
             ]
            ],
            "type": "heatmapgl"
           }
          ],
          "histogram": [
           {
            "marker": {
             "pattern": {
              "fillmode": "overlay",
              "size": 10,
              "solidity": 0.2
             }
            },
            "type": "histogram"
           }
          ],
          "histogram2d": [
           {
            "colorbar": {
             "outlinewidth": 0,
             "ticks": ""
            },
            "colorscale": [
             [
              0,
              "#0d0887"
             ],
             [
              0.1111111111111111,
              "#46039f"
             ],
             [
              0.2222222222222222,
              "#7201a8"
             ],
             [
              0.3333333333333333,
              "#9c179e"
             ],
             [
              0.4444444444444444,
              "#bd3786"
             ],
             [
              0.5555555555555556,
              "#d8576b"
             ],
             [
              0.6666666666666666,
              "#ed7953"
             ],
             [
              0.7777777777777778,
              "#fb9f3a"
             ],
             [
              0.8888888888888888,
              "#fdca26"
             ],
             [
              1,
              "#f0f921"
             ]
            ],
            "type": "histogram2d"
           }
          ],
          "histogram2dcontour": [
           {
            "colorbar": {
             "outlinewidth": 0,
             "ticks": ""
            },
            "colorscale": [
             [
              0,
              "#0d0887"
             ],
             [
              0.1111111111111111,
              "#46039f"
             ],
             [
              0.2222222222222222,
              "#7201a8"
             ],
             [
              0.3333333333333333,
              "#9c179e"
             ],
             [
              0.4444444444444444,
              "#bd3786"
             ],
             [
              0.5555555555555556,
              "#d8576b"
             ],
             [
              0.6666666666666666,
              "#ed7953"
             ],
             [
              0.7777777777777778,
              "#fb9f3a"
             ],
             [
              0.8888888888888888,
              "#fdca26"
             ],
             [
              1,
              "#f0f921"
             ]
            ],
            "type": "histogram2dcontour"
           }
          ],
          "mesh3d": [
           {
            "colorbar": {
             "outlinewidth": 0,
             "ticks": ""
            },
            "type": "mesh3d"
           }
          ],
          "parcoords": [
           {
            "line": {
             "colorbar": {
              "outlinewidth": 0,
              "ticks": ""
             }
            },
            "type": "parcoords"
           }
          ],
          "pie": [
           {
            "automargin": true,
            "type": "pie"
           }
          ],
          "scatter": [
           {
            "fillpattern": {
             "fillmode": "overlay",
             "size": 10,
             "solidity": 0.2
            },
            "type": "scatter"
           }
          ],
          "scatter3d": [
           {
            "line": {
             "colorbar": {
              "outlinewidth": 0,
              "ticks": ""
             }
            },
            "marker": {
             "colorbar": {
              "outlinewidth": 0,
              "ticks": ""
             }
            },
            "type": "scatter3d"
           }
          ],
          "scattercarpet": [
           {
            "marker": {
             "colorbar": {
              "outlinewidth": 0,
              "ticks": ""
             }
            },
            "type": "scattercarpet"
           }
          ],
          "scattergeo": [
           {
            "marker": {
             "colorbar": {
              "outlinewidth": 0,
              "ticks": ""
             }
            },
            "type": "scattergeo"
           }
          ],
          "scattergl": [
           {
            "marker": {
             "colorbar": {
              "outlinewidth": 0,
              "ticks": ""
             }
            },
            "type": "scattergl"
           }
          ],
          "scattermapbox": [
           {
            "marker": {
             "colorbar": {
              "outlinewidth": 0,
              "ticks": ""
             }
            },
            "type": "scattermapbox"
           }
          ],
          "scatterpolar": [
           {
            "marker": {
             "colorbar": {
              "outlinewidth": 0,
              "ticks": ""
             }
            },
            "type": "scatterpolar"
           }
          ],
          "scatterpolargl": [
           {
            "marker": {
             "colorbar": {
              "outlinewidth": 0,
              "ticks": ""
             }
            },
            "type": "scatterpolargl"
           }
          ],
          "scatterternary": [
           {
            "marker": {
             "colorbar": {
              "outlinewidth": 0,
              "ticks": ""
             }
            },
            "type": "scatterternary"
           }
          ],
          "surface": [
           {
            "colorbar": {
             "outlinewidth": 0,
             "ticks": ""
            },
            "colorscale": [
             [
              0,
              "#0d0887"
             ],
             [
              0.1111111111111111,
              "#46039f"
             ],
             [
              0.2222222222222222,
              "#7201a8"
             ],
             [
              0.3333333333333333,
              "#9c179e"
             ],
             [
              0.4444444444444444,
              "#bd3786"
             ],
             [
              0.5555555555555556,
              "#d8576b"
             ],
             [
              0.6666666666666666,
              "#ed7953"
             ],
             [
              0.7777777777777778,
              "#fb9f3a"
             ],
             [
              0.8888888888888888,
              "#fdca26"
             ],
             [
              1,
              "#f0f921"
             ]
            ],
            "type": "surface"
           }
          ],
          "table": [
           {
            "cells": {
             "fill": {
              "color": "#EBF0F8"
             },
             "line": {
              "color": "white"
             }
            },
            "header": {
             "fill": {
              "color": "#C8D4E3"
             },
             "line": {
              "color": "white"
             }
            },
            "type": "table"
           }
          ]
         },
         "layout": {
          "annotationdefaults": {
           "arrowcolor": "#2a3f5f",
           "arrowhead": 0,
           "arrowwidth": 1
          },
          "autotypenumbers": "strict",
          "coloraxis": {
           "colorbar": {
            "outlinewidth": 0,
            "ticks": ""
           }
          },
          "colorscale": {
           "diverging": [
            [
             0,
             "#8e0152"
            ],
            [
             0.1,
             "#c51b7d"
            ],
            [
             0.2,
             "#de77ae"
            ],
            [
             0.3,
             "#f1b6da"
            ],
            [
             0.4,
             "#fde0ef"
            ],
            [
             0.5,
             "#f7f7f7"
            ],
            [
             0.6,
             "#e6f5d0"
            ],
            [
             0.7,
             "#b8e186"
            ],
            [
             0.8,
             "#7fbc41"
            ],
            [
             0.9,
             "#4d9221"
            ],
            [
             1,
             "#276419"
            ]
           ],
           "sequential": [
            [
             0,
             "#0d0887"
            ],
            [
             0.1111111111111111,
             "#46039f"
            ],
            [
             0.2222222222222222,
             "#7201a8"
            ],
            [
             0.3333333333333333,
             "#9c179e"
            ],
            [
             0.4444444444444444,
             "#bd3786"
            ],
            [
             0.5555555555555556,
             "#d8576b"
            ],
            [
             0.6666666666666666,
             "#ed7953"
            ],
            [
             0.7777777777777778,
             "#fb9f3a"
            ],
            [
             0.8888888888888888,
             "#fdca26"
            ],
            [
             1,
             "#f0f921"
            ]
           ],
           "sequentialminus": [
            [
             0,
             "#0d0887"
            ],
            [
             0.1111111111111111,
             "#46039f"
            ],
            [
             0.2222222222222222,
             "#7201a8"
            ],
            [
             0.3333333333333333,
             "#9c179e"
            ],
            [
             0.4444444444444444,
             "#bd3786"
            ],
            [
             0.5555555555555556,
             "#d8576b"
            ],
            [
             0.6666666666666666,
             "#ed7953"
            ],
            [
             0.7777777777777778,
             "#fb9f3a"
            ],
            [
             0.8888888888888888,
             "#fdca26"
            ],
            [
             1,
             "#f0f921"
            ]
           ]
          },
          "colorway": [
           "#636efa",
           "#EF553B",
           "#00cc96",
           "#ab63fa",
           "#FFA15A",
           "#19d3f3",
           "#FF6692",
           "#B6E880",
           "#FF97FF",
           "#FECB52"
          ],
          "font": {
           "color": "#2a3f5f"
          },
          "geo": {
           "bgcolor": "white",
           "lakecolor": "white",
           "landcolor": "#E5ECF6",
           "showlakes": true,
           "showland": true,
           "subunitcolor": "white"
          },
          "hoverlabel": {
           "align": "left"
          },
          "hovermode": "closest",
          "mapbox": {
           "style": "light"
          },
          "paper_bgcolor": "white",
          "plot_bgcolor": "#E5ECF6",
          "polar": {
           "angularaxis": {
            "gridcolor": "white",
            "linecolor": "white",
            "ticks": ""
           },
           "bgcolor": "#E5ECF6",
           "radialaxis": {
            "gridcolor": "white",
            "linecolor": "white",
            "ticks": ""
           }
          },
          "scene": {
           "xaxis": {
            "backgroundcolor": "#E5ECF6",
            "gridcolor": "white",
            "gridwidth": 2,
            "linecolor": "white",
            "showbackground": true,
            "ticks": "",
            "zerolinecolor": "white"
           },
           "yaxis": {
            "backgroundcolor": "#E5ECF6",
            "gridcolor": "white",
            "gridwidth": 2,
            "linecolor": "white",
            "showbackground": true,
            "ticks": "",
            "zerolinecolor": "white"
           },
           "zaxis": {
            "backgroundcolor": "#E5ECF6",
            "gridcolor": "white",
            "gridwidth": 2,
            "linecolor": "white",
            "showbackground": true,
            "ticks": "",
            "zerolinecolor": "white"
           }
          },
          "shapedefaults": {
           "line": {
            "color": "#2a3f5f"
           }
          },
          "ternary": {
           "aaxis": {
            "gridcolor": "white",
            "linecolor": "white",
            "ticks": ""
           },
           "baxis": {
            "gridcolor": "white",
            "linecolor": "white",
            "ticks": ""
           },
           "bgcolor": "#E5ECF6",
           "caxis": {
            "gridcolor": "white",
            "linecolor": "white",
            "ticks": ""
           }
          },
          "title": {
           "x": 0.05
          },
          "xaxis": {
           "automargin": true,
           "gridcolor": "white",
           "linecolor": "white",
           "ticks": "",
           "title": {
            "standoff": 15
           },
           "zerolinecolor": "white",
           "zerolinewidth": 2
          },
          "yaxis": {
           "automargin": true,
           "gridcolor": "white",
           "linecolor": "white",
           "ticks": "",
           "title": {
            "standoff": 15
           },
           "zerolinecolor": "white",
           "zerolinewidth": 2
          }
         }
        },
        "title": {
         "text": "Valor Previsto vs. Valor Real das Ações do JPMorgan"
        },
        "xaxis": {
         "title": {
          "text": "Data"
         }
        },
        "yaxis": {
         "title": {
          "text": "Preço de fechamento ajustado"
         }
        }
       }
      }
     },
     "metadata": {},
     "output_type": "display_data"
    }
   ],
   "source": [
    "plot_multiples_time_series_line_graphs([results['Predicted'], results['Real']], \"Valor Previsto vs. Valor Real das Ações do JPMorgan\", \"Data\", \"Preço de fechamento ajustado\", f\"RMSE: {results['RMSE']:.4f}\")"
   ]
  }
 ],
 "metadata": {
  "kernelspec": {
   "display_name": "Python 3",
   "language": "python",
   "name": "python3"
  },
  "language_info": {
   "codemirror_mode": {
    "name": "ipython",
    "version": 3
   },
   "file_extension": ".py",
   "mimetype": "text/x-python",
   "name": "python",
   "nbconvert_exporter": "python",
   "pygments_lexer": "ipython3",
   "version": "3.10.12"
  }
 },
 "nbformat": 4,
 "nbformat_minor": 2
}
