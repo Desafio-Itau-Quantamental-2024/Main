{
 "cells": [
  {
   "cell_type": "markdown",
   "metadata": {},
   "source": [
    "#### *Instalando as bibliotecas que serão necessárias*"
   ]
  },
  {
   "cell_type": "code",
   "execution_count": 1,
   "metadata": {},
   "outputs": [
    {
     "name": "stdout",
     "output_type": "stream",
     "text": [
      "Defaulting to user installation because normal site-packages is not writeable\n",
      "Requirement already satisfied: pandas in /home/user/.local/lib/python3.10/site-packages (2.0.3)\n",
      "Requirement already satisfied: pytz>=2020.1 in /home/user/.local/lib/python3.10/site-packages (from pandas) (2024.1)\n",
      "Requirement already satisfied: numpy>=1.21.0 in /home/user/.local/lib/python3.10/site-packages (from pandas) (1.24.3)\n",
      "Requirement already satisfied: tzdata>=2022.1 in /home/user/.local/lib/python3.10/site-packages (from pandas) (2024.1)\n",
      "Requirement already satisfied: python-dateutil>=2.8.2 in /home/user/.local/lib/python3.10/site-packages (from pandas) (2.9.0.post0)\n",
      "Requirement already satisfied: six>=1.5 in /usr/lib/python3/dist-packages (from python-dateutil>=2.8.2->pandas) (1.16.0)\n"
     ]
    }
   ],
   "source": [
    "# Instala a biblioteca \"pandas\" que será usada para manipulação de dados.\n",
    "!pip install pandas"
   ]
  },
  {
   "cell_type": "code",
   "execution_count": 2,
   "metadata": {},
   "outputs": [
    {
     "name": "stdout",
     "output_type": "stream",
     "text": [
      "Defaulting to user installation because normal site-packages is not writeable\n",
      "Requirement already satisfied: numpy in /home/user/.local/lib/python3.10/site-packages (1.24.3)\n"
     ]
    }
   ],
   "source": [
    "# Instala a biblioteca \"numpy\" que será usada para operações numéricas.\n",
    "!pip install numpy"
   ]
  },
  {
   "cell_type": "code",
   "execution_count": 3,
   "metadata": {},
   "outputs": [
    {
     "name": "stdout",
     "output_type": "stream",
     "text": [
      "Defaulting to user installation because normal site-packages is not writeable\n",
      "Requirement already satisfied: yfinance in /home/user/.local/lib/python3.10/site-packages (0.2.41)\n",
      "Requirement already satisfied: numpy>=1.16.5 in /home/user/.local/lib/python3.10/site-packages (from yfinance) (1.24.3)\n",
      "Requirement already satisfied: html5lib>=1.1 in /home/user/.local/lib/python3.10/site-packages (from yfinance) (1.1)\n",
      "Requirement already satisfied: pytz>=2022.5 in /home/user/.local/lib/python3.10/site-packages (from yfinance) (2024.1)\n",
      "Requirement already satisfied: peewee>=3.16.2 in /home/user/.local/lib/python3.10/site-packages (from yfinance) (3.17.6)\n",
      "Requirement already satisfied: platformdirs>=2.0.0 in /home/user/.local/lib/python3.10/site-packages (from yfinance) (4.2.0)\n",
      "Requirement already satisfied: beautifulsoup4>=4.11.1 in /home/user/.local/lib/python3.10/site-packages (from yfinance) (4.12.3)\n",
      "Requirement already satisfied: pandas>=1.3.0 in /home/user/.local/lib/python3.10/site-packages (from yfinance) (2.0.3)\n",
      "Requirement already satisfied: lxml>=4.9.1 in /home/user/.local/lib/python3.10/site-packages (from yfinance) (5.2.2)\n",
      "Requirement already satisfied: multitasking>=0.0.7 in /home/user/.local/lib/python3.10/site-packages (from yfinance) (0.0.11)\n",
      "Requirement already satisfied: requests>=2.31 in /home/user/.local/lib/python3.10/site-packages (from yfinance) (2.31.0)\n",
      "Requirement already satisfied: frozendict>=2.3.4 in /home/user/.local/lib/python3.10/site-packages (from yfinance) (2.4.4)\n",
      "Requirement already satisfied: soupsieve>1.2 in /home/user/.local/lib/python3.10/site-packages (from beautifulsoup4>=4.11.1->yfinance) (2.5)\n",
      "Requirement already satisfied: six>=1.9 in /usr/lib/python3/dist-packages (from html5lib>=1.1->yfinance) (1.16.0)\n",
      "Requirement already satisfied: webencodings in /home/user/.local/lib/python3.10/site-packages (from html5lib>=1.1->yfinance) (0.5.1)\n",
      "Requirement already satisfied: python-dateutil>=2.8.2 in /home/user/.local/lib/python3.10/site-packages (from pandas>=1.3.0->yfinance) (2.9.0.post0)\n",
      "Requirement already satisfied: tzdata>=2022.1 in /home/user/.local/lib/python3.10/site-packages (from pandas>=1.3.0->yfinance) (2024.1)\n",
      "Requirement already satisfied: certifi>=2017.4.17 in /usr/lib/python3/dist-packages (from requests>=2.31->yfinance) (2020.6.20)\n",
      "Requirement already satisfied: charset-normalizer<4,>=2 in /home/user/.local/lib/python3.10/site-packages (from requests>=2.31->yfinance) (3.3.2)\n",
      "Requirement already satisfied: urllib3<3,>=1.21.1 in /usr/lib/python3/dist-packages (from requests>=2.31->yfinance) (1.26.5)\n",
      "Requirement already satisfied: idna<4,>=2.5 in /usr/lib/python3/dist-packages (from requests>=2.31->yfinance) (3.3)\n"
     ]
    }
   ],
   "source": [
    "# Instala a biblioteca \"yfinance\" que será usada para obter dados financeiros.\n",
    "!pip install yfinance"
   ]
  },
  {
   "cell_type": "code",
   "execution_count": 4,
   "metadata": {},
   "outputs": [
    {
     "name": "stdout",
     "output_type": "stream",
     "text": [
      "Defaulting to user installation because normal site-packages is not writeable\n",
      "Requirement already satisfied: plotly in /home/user/.local/lib/python3.10/site-packages (5.23.0)\n",
      "Requirement already satisfied: packaging in /home/user/.local/lib/python3.10/site-packages (from plotly) (23.1)\n",
      "Requirement already satisfied: tenacity>=6.2.0 in /home/user/.local/lib/python3.10/site-packages (from plotly) (8.2.3)\n"
     ]
    }
   ],
   "source": [
    "# Instala a biblioteca \"plotly\" que será usada para a exibição de gráficos. \n",
    "!pip install plotly"
   ]
  },
  {
   "cell_type": "markdown",
   "metadata": {},
   "source": [
    "#### *Importando as bibliotecas que serão necessárias*"
   ]
  },
  {
   "cell_type": "code",
   "execution_count": 5,
   "metadata": {},
   "outputs": [],
   "source": [
    "# Importa a biblioteca \"pandas\", que será usada para manipulação de dados.\n",
    "import pandas as pd\n",
    "# Importa a biblioteca \"numpy\", que será usada para operações numéricas.\n",
    "import numpy as np\n",
    "# Importa a biblioteca \"yfinance\" para obter alguns dados de certas ações.\n",
    "import yfinance as yf\n",
    "# Importa o módulo \"graph_objects\" da biblioteca \"plotly\" para lidar com a exibição de gráficos.\n",
    "import plotly.graph_objects as go\n",
    "# Importa o módulo datetime da biblioteca \"datetime\" para lidar com datas.\n",
    "from datetime import datetime, timedelta\n",
    "# Importa a biblioteca \"math\" para lidar com certas operações matemáticas.\n",
    "import math\n",
    "# Importa o módulo Optional da biblioteca \"typing\" para lidar com a padronização dos tipos de parâmetros opcionais das funções.\n",
    "from typing import Optional"
   ]
  },
  {
   "cell_type": "markdown",
   "metadata": {},
   "source": [
    "#### *Definindo funções para processar os arquivos .xlsx*"
   ]
  },
  {
   "cell_type": "code",
   "execution_count": 6,
   "metadata": {},
   "outputs": [],
   "source": [
    "def process_file_and_get_results(filename: str) -> pd.DataFrame:\n",
    "    '''\n",
    "        Description:\n",
    "\n",
    "        Args:\n",
    "\n",
    "        Return:\n",
    "    '''\n",
    "\n",
    "    # Ler todas as planilhas do arquivo Excel\n",
    "    dfs = pd.read_excel(filename, sheet_name=None)\n",
    "    \n",
    "    #\n",
    "    first_trading_day = dfs['Período 1'][dfs['Período 1'].columns[0]][0].split(\" - \")[0]\n",
    "    #\n",
    "    first_trading_day = np.datetime64(first_trading_day)\n",
    "    \n",
    "    #\n",
    "    results = pd.DataFrame({\n",
    "        \"Retorno\": 0\n",
    "    }, index=[first_trading_day])\n",
    "    \n",
    "    # Acessar e trabalhar com cada DataFrame\n",
    "    for period, df in dfs.items():\n",
    "        if not df.empty:\n",
    "            #\n",
    "            period_last_trading_day = df[df.columns[0]][0].split(\" - \")[1]\n",
    "            #\n",
    "            period_last_trading_day = np.datetime64(period_last_trading_day)\n",
    "            #\n",
    "            tickers_to_trade = math.ceil(df.shape[0]*0.1)\n",
    "            #\n",
    "            period_return = df.iloc[:tickers_to_trade]['Retorno Real'].mean() # Trocar por um .sum() ?\n",
    "            #\n",
    "            result = pd.DataFrame({\n",
    "                \"Retorno\": period_return,\n",
    "            },index=[period_last_trading_day])\n",
    "            #\n",
    "            results = pd.concat([results, result])\n",
    "    \n",
    "    return results\n",
    "            "
   ]
  },
  {
   "cell_type": "code",
   "execution_count": 7,
   "metadata": {},
   "outputs": [],
   "source": [
    "def process_files_and_get_results(filesname: list) -> list:\n",
    "    '''\n",
    "        Description:\n",
    "\n",
    "        Args:\n",
    "\n",
    "        Return:\n",
    "    '''\n",
    "    \n",
    "    #\n",
    "    results = []\n",
    "    \n",
    "    #\n",
    "    for xlsx_number, xlsx in enumerate(filesname):\n",
    "        #\n",
    "        result = process_file_and_get_results(xlsx)['Retorno']\n",
    "        #\n",
    "        result.name = f\"Retornos da Estratégia na Previsão {xlsx_number}\"\n",
    "        #\n",
    "        results.append(result)\n",
    "        \n",
    "    return results"
   ]
  },
  {
   "cell_type": "code",
   "execution_count": 8,
   "metadata": {},
   "outputs": [],
   "source": [
    "def get_average_result(results: list) -> pd.Series:\n",
    "    '''\n",
    "        Description:\n",
    "\n",
    "        Args:\n",
    "\n",
    "        Return:\n",
    "\n",
    "    '''\n",
    "    \n",
    "    # Garantir que todos os resultados em results tenham o mesmo tamanho (para poder inicializar o average_result).\n",
    "    \n",
    "    \n",
    "    average_result = np.zeros(len(results[0]))\n",
    "        \n",
    "    for result in results:\n",
    "        average_result += result\n",
    "    \n",
    "    average_result = average_result/len(results)\n",
    "    \n",
    "    average_result.name = \"Retornos da Média das Previsões\"\n",
    "    \n",
    "    return average_result"
   ]
  },
  {
   "cell_type": "code",
   "execution_count": 9,
   "metadata": {},
   "outputs": [],
   "source": [
    "def get_ticker_standardized_returns(symbol, reference_data, strategy_time_period: str, \n",
    "                                    standardized_returns_name=\"\", standardized_cumulative_returns_name=\"\") -> pd.Series:\n",
    "    '''\n",
    "        Description:\n",
    "\n",
    "        Args:\n",
    "\n",
    "        Return:\n",
    "    '''\n",
    "\n",
    "    #\n",
    "    period = 5 if (strategy_time_period == \"W\") else 20\n",
    "    #\n",
    "    periods_number = len(reference_data)\n",
    "    \n",
    "    #\n",
    "    result = np.zeros(periods_number)\n",
    "    \n",
    "    #\n",
    "    data_extraction_initial_day = reference_data.index[0]\n",
    "    #\n",
    "    data_extraction_final_day = reference_data.index[-1] + timedelta(1) # O time delta 1 é por que o yf não inclui o último dia de \n",
    "                                                                        # negociação passado como parâmetro. Logo, somando um timedelta(1),\n",
    "                                                                        # tal dia será incluido na extração de dados do S&P500 index.\n",
    "                                                                            \n",
    "    #\n",
    "    adj_close = yf.download(symbol, data_extraction_initial_day, data_extraction_final_day)['Adj Close']\n",
    "    \n",
    "    #\n",
    "    result[0] = np.log((adj_close[period - 1])/adj_close[0])*100\n",
    "    #\n",
    "    for period_number in range(1, periods_number):\n",
    "        #\n",
    "        result[period_number] = np.log((adj_close[(period)*period_number - 1 + (period)])/(adj_close[(period)*period_number]))*100\n",
    "        \n",
    "    #\n",
    "    result = pd.Series(result, reference_data.index)\n",
    "    #\n",
    "    cumulative_result = result.cumsum()\n",
    "    #\n",
    "    result.name = standardized_returns_name\n",
    "    #\n",
    "    cumulative_result.name = standardized_cumulative_returns_name\n",
    "    \n",
    "    return result, cumulative_result"
   ]
  },
  {
   "cell_type": "markdown",
   "metadata": {},
   "source": [
    "#### *Definindo algumas variáveis que serão importantes para a exibição de resultados*"
   ]
  },
  {
   "cell_type": "code",
   "execution_count": 10,
   "metadata": {},
   "outputs": [],
   "source": [
    "setup = {\n",
    "    #\n",
    "    \"monthly_results_sheets\": ['resultados_portfolio_mensal_full_1.xlsx', 'resultados_portfolio_mensal_full_2.xlsx',\n",
    "                               'resultados_portfolio_mensal_full_3.xlsx', 'resultados_portfolio_mensal_full_4.xlsx',\n",
    "                               'resultados_portfolio_mensal_full_5.xlsx'],\n",
    "    #\n",
    "    \"weekly_results_sheets\": ['resultados_portfolio_semanal_full_1.xlsx']\n",
    "}"
   ]
  },
  {
   "cell_type": "code",
   "execution_count": 11,
   "metadata": {},
   "outputs": [],
   "source": [
    "#\n",
    "monthly_results = process_files_and_get_results(setup['monthly_results_sheets'])"
   ]
  },
  {
   "cell_type": "code",
   "execution_count": 12,
   "metadata": {},
   "outputs": [],
   "source": [
    "#\n",
    "weekly_results = process_file_and_get_results(setup['weekly_results_sheets'][0]) # O .xlsx semanal é processado desse jeito pois, por hora,\n",
    "                                                                                 # só possuímos 1 dele."
   ]
  },
  {
   "cell_type": "code",
   "execution_count": 13,
   "metadata": {},
   "outputs": [],
   "source": [
    "#\n",
    "average_monthly_results = get_average_result(monthly_results)"
   ]
  },
  {
   "cell_type": "code",
   "execution_count": 14,
   "metadata": {},
   "outputs": [
    {
     "name": "stderr",
     "output_type": "stream",
     "text": [
      "[*********************100%%**********************]  1 of 1 completed\n"
     ]
    }
   ],
   "source": [
    "# Posso usar qualquer \"result\" em \"results\" como reference_data, já que, ambos \"result\" possuem as mesmas datas como índices.\n",
    "\n",
    "sp500_index_period_returns, sp500_index_cumulative_returns = get_ticker_standardized_returns('^GSPC', monthly_results[0], \"M\",\n",
    "                                                                                             \"Retornos do S&P500 Index\",\n",
    "                                                                                             \"Retornos Acumulados do S&P500 Index\")"
   ]
  },
  {
   "cell_type": "markdown",
   "metadata": {},
   "source": [
    "#### *Exibindo e explicando as variáveis definidas na seção anterior*"
   ]
  },
  {
   "cell_type": "code",
   "execution_count": 15,
   "metadata": {},
   "outputs": [
    {
     "data": {
      "text/plain": [
       "[2019-02-22    0.000000\n",
       " 2019-03-21    4.859427\n",
       " 2019-04-18    4.864098\n",
       " 2019-05-17    5.933391\n",
       " 2019-06-17    5.581319\n",
       "                 ...   \n",
       " 2023-08-31    1.373854\n",
       " 2023-09-29    2.502946\n",
       " 2023-10-27    4.109963\n",
       " 2023-11-27    6.950656\n",
       " 2023-12-26    7.329663\n",
       " Name: Retornos da Estratégia na Previsão 0, Length: 61, dtype: float64,\n",
       " 2019-02-22    0.000000\n",
       " 2019-03-21    6.267345\n",
       " 2019-04-18    4.779837\n",
       " 2019-05-17    5.699338\n",
       " 2019-06-17    5.581320\n",
       "                 ...   \n",
       " 2023-08-31    1.373857\n",
       " 2023-09-29    2.502941\n",
       " 2023-10-27    4.253324\n",
       " 2023-11-27    6.746918\n",
       " 2023-12-26    7.329658\n",
       " Name: Retornos da Estratégia na Previsão 1, Length: 61, dtype: float64,\n",
       " 2019-02-22    0.000000\n",
       " 2019-03-21    5.314519\n",
       " 2019-04-18    4.692802\n",
       " 2019-05-17    6.400990\n",
       " 2019-06-17    5.637725\n",
       "                 ...   \n",
       " 2023-08-31    1.373850\n",
       " 2023-09-29    2.502945\n",
       " 2023-10-27    4.826801\n",
       " 2023-11-27    6.950660\n",
       " 2023-12-26    7.329661\n",
       " Name: Retornos da Estratégia na Previsão 2, Length: 61, dtype: float64,\n",
       " 2019-02-22    0.000000\n",
       " 2019-03-21    6.597265\n",
       " 2019-04-18    5.603096\n",
       " 2019-05-17    4.596370\n",
       " 2019-06-17    4.739016\n",
       "                 ...   \n",
       " 2023-08-31    1.328703\n",
       " 2023-09-29    2.502943\n",
       " 2023-10-27    4.253327\n",
       " 2023-11-27    6.950658\n",
       " 2023-12-26    7.329657\n",
       " Name: Retornos da Estratégia na Previsão 3, Length: 61, dtype: float64,\n",
       " 2019-02-22    0.000000\n",
       " 2019-03-21    4.846456\n",
       " 2019-04-18    5.954547\n",
       " 2019-05-17    6.646773\n",
       " 2019-06-17    4.920749\n",
       "                 ...   \n",
       " 2023-08-31    1.373853\n",
       " 2023-09-29    2.502946\n",
       " 2023-10-27    4.379042\n",
       " 2023-11-27    8.052742\n",
       " 2023-12-26    8.367501\n",
       " Name: Retornos da Estratégia na Previsão 4, Length: 61, dtype: float64]"
      ]
     },
     "execution_count": 15,
     "metadata": {},
     "output_type": "execute_result"
    }
   ],
   "source": [
    "#\n",
    "monthly_results"
   ]
  },
  {
   "cell_type": "code",
   "execution_count": 16,
   "metadata": {},
   "outputs": [
    {
     "data": {
      "text/plain": [
       "2019-02-22    0.000000\n",
       "2019-03-21    4.859427\n",
       "2019-04-18    4.864098\n",
       "2019-05-17    5.933391\n",
       "2019-06-17    5.581319\n",
       "                ...   \n",
       "2023-08-31    1.373854\n",
       "2023-09-29    2.502946\n",
       "2023-10-27    4.109963\n",
       "2023-11-27    6.950656\n",
       "2023-12-26    7.329663\n",
       "Name: Retornos da Estratégia na Previsão 0, Length: 61, dtype: float64"
      ]
     },
     "execution_count": 16,
     "metadata": {},
     "output_type": "execute_result"
    }
   ],
   "source": [
    "#\n",
    "monthly_results[0]"
   ]
  },
  {
   "cell_type": "code",
   "execution_count": 17,
   "metadata": {},
   "outputs": [
    {
     "data": {
      "text/plain": [
       "2019-02-22    0.000000\n",
       "2019-03-21    5.577003\n",
       "2019-04-18    5.178876\n",
       "2019-05-17    5.855372\n",
       "2019-06-17    5.292026\n",
       "                ...   \n",
       "2023-08-31    1.364823\n",
       "2023-09-29    2.502944\n",
       "2023-10-27    4.364492\n",
       "2023-11-27    7.130327\n",
       "2023-12-26    7.537228\n",
       "Name: Retornos da Média das Previsões, Length: 61, dtype: float64"
      ]
     },
     "execution_count": 17,
     "metadata": {},
     "output_type": "execute_result"
    }
   ],
   "source": [
    "#\n",
    "average_monthly_results"
   ]
  },
  {
   "cell_type": "code",
   "execution_count": 18,
   "metadata": {},
   "outputs": [
    {
     "data": {
      "text/html": [
       "<div>\n",
       "<style scoped>\n",
       "    .dataframe tbody tr th:only-of-type {\n",
       "        vertical-align: middle;\n",
       "    }\n",
       "\n",
       "    .dataframe tbody tr th {\n",
       "        vertical-align: top;\n",
       "    }\n",
       "\n",
       "    .dataframe thead th {\n",
       "        text-align: right;\n",
       "    }\n",
       "</style>\n",
       "<table border=\"1\" class=\"dataframe\">\n",
       "  <thead>\n",
       "    <tr style=\"text-align: right;\">\n",
       "      <th></th>\n",
       "      <th>Retorno</th>\n",
       "    </tr>\n",
       "  </thead>\n",
       "  <tbody>\n",
       "    <tr>\n",
       "      <th>2019-01-31</th>\n",
       "      <td>0.000000</td>\n",
       "    </tr>\n",
       "    <tr>\n",
       "      <th>2019-02-06</th>\n",
       "      <td>-0.119412</td>\n",
       "    </tr>\n",
       "    <tr>\n",
       "      <th>2019-02-13</th>\n",
       "      <td>-0.023905</td>\n",
       "    </tr>\n",
       "    <tr>\n",
       "      <th>2019-02-21</th>\n",
       "      <td>0.110191</td>\n",
       "    </tr>\n",
       "    <tr>\n",
       "      <th>2019-02-28</th>\n",
       "      <td>0.447097</td>\n",
       "    </tr>\n",
       "    <tr>\n",
       "      <th>...</th>\n",
       "      <td>...</td>\n",
       "    </tr>\n",
       "    <tr>\n",
       "      <th>2023-11-27</th>\n",
       "      <td>-0.243826</td>\n",
       "    </tr>\n",
       "    <tr>\n",
       "      <th>2023-12-04</th>\n",
       "      <td>0.677020</td>\n",
       "    </tr>\n",
       "    <tr>\n",
       "      <th>2023-12-11</th>\n",
       "      <td>0.474322</td>\n",
       "    </tr>\n",
       "    <tr>\n",
       "      <th>2023-12-18</th>\n",
       "      <td>-0.061220</td>\n",
       "    </tr>\n",
       "    <tr>\n",
       "      <th>2023-12-26</th>\n",
       "      <td>0.507751</td>\n",
       "    </tr>\n",
       "  </tbody>\n",
       "</table>\n",
       "<p>244 rows × 1 columns</p>\n",
       "</div>"
      ],
      "text/plain": [
       "             Retorno\n",
       "2019-01-31  0.000000\n",
       "2019-02-06 -0.119412\n",
       "2019-02-13 -0.023905\n",
       "2019-02-21  0.110191\n",
       "2019-02-28  0.447097\n",
       "...              ...\n",
       "2023-11-27 -0.243826\n",
       "2023-12-04  0.677020\n",
       "2023-12-11  0.474322\n",
       "2023-12-18 -0.061220\n",
       "2023-12-26  0.507751\n",
       "\n",
       "[244 rows x 1 columns]"
      ]
     },
     "execution_count": 18,
     "metadata": {},
     "output_type": "execute_result"
    }
   ],
   "source": [
    "#\n",
    "weekly_results"
   ]
  },
  {
   "cell_type": "code",
   "execution_count": 19,
   "metadata": {},
   "outputs": [
    {
     "data": {
      "text/plain": [
       "2019-02-22    0.000000\n",
       "2019-03-21    4.859427\n",
       "2019-04-18    4.864098\n",
       "2019-05-17    5.933391\n",
       "2019-06-17    5.581319\n",
       "                ...   \n",
       "2023-08-31    1.373854\n",
       "2023-09-29    2.502946\n",
       "2023-10-27    4.109963\n",
       "2023-11-27    6.950656\n",
       "2023-12-26    7.329663\n",
       "Name: Retornos da Estratégia na Previsão 0, Length: 61, dtype: float64"
      ]
     },
     "execution_count": 19,
     "metadata": {},
     "output_type": "execute_result"
    }
   ],
   "source": [
    "#\n",
    "monthly_results[0]"
   ]
  },
  {
   "cell_type": "code",
   "execution_count": 20,
   "metadata": {},
   "outputs": [
    {
     "data": {
      "text/plain": [
       "2019-02-22    2.203167\n",
       "2019-03-21    3.657078\n",
       "2019-04-18   -1.679795\n",
       "2019-05-17    1.725725\n",
       "2019-06-17    2.914529\n",
       "                ...   \n",
       "2023-08-31    0.659504\n",
       "2023-09-29   -5.174368\n",
       "2023-10-27   -4.069676\n",
       "2023-11-27    8.806866\n",
       "2023-12-26    4.714021\n",
       "Name: Retornos do S&P500 Index, Length: 61, dtype: float64"
      ]
     },
     "execution_count": 20,
     "metadata": {},
     "output_type": "execute_result"
    }
   ],
   "source": [
    "#\n",
    "sp500_index_period_returns"
   ]
  },
  {
   "cell_type": "code",
   "execution_count": 21,
   "metadata": {},
   "outputs": [
    {
     "data": {
      "text/plain": [
       "2019-02-22     2.203167\n",
       "2019-03-21     5.860246\n",
       "2019-04-18     4.180451\n",
       "2019-05-17     5.906176\n",
       "2019-06-17     8.820705\n",
       "                ...    \n",
       "2023-08-31    52.594225\n",
       "2023-09-29    47.419857\n",
       "2023-10-27    43.350180\n",
       "2023-11-27    52.157046\n",
       "2023-12-26    56.871067\n",
       "Name: Retornos Acumulados do S&P500 Index, Length: 61, dtype: float64"
      ]
     },
     "execution_count": 21,
     "metadata": {},
     "output_type": "execute_result"
    }
   ],
   "source": [
    "#\n",
    "sp500_index_cumulative_returns"
   ]
  },
  {
   "cell_type": "markdown",
   "metadata": {},
   "source": [
    "#### *Definindo algumas funções que serão úteis para plotar gráficos*"
   ]
  },
  {
   "cell_type": "code",
   "execution_count": 22,
   "metadata": {},
   "outputs": [],
   "source": [
    "def plot_time_serie_line_graph(serie: pd.Series, serie_title: Optional[str] = \"\", serie_xaxis_title: Optional[str] = \"\", \n",
    "                               serie_yaxis_title: Optional[str] = \"\") -> None:\n",
    "    '''\n",
    "        Description:\n",
    "            Essa função é responsável por realizar o plot de uma série temporal.\n",
    "        Args:\n",
    "            serie (pd.Series): Série temporal cujos dados serão utilizados para o plot. Os valores de tal série temporal estarão no eixo y,\n",
    "            enquanto os índices dessa série estarão no eixo x.\n",
    "            title (string):\n",
    "            xaxis_title (string):\n",
    "            yaxis_title (string):\n",
    "            \n",
    "        Return:\n",
    "            Essa função plota a série temporal, mas não retorna nada.\n",
    "    '''\n",
    "    \n",
    "    # Cria a figure onde a série temporal em questão será plotada.\n",
    "    fig = go.Figure()\n",
    "    \n",
    "    # Adiciona o gráfico da série temporal em questão ao plot.\n",
    "    fig.add_trace(go.Scatter(\n",
    "        # Define os valores do eixo x do plot.\n",
    "        x = serie.index,\n",
    "        # Define os valores do eixo y do plot.\n",
    "        y = serie.values,\n",
    "        # Define o tipo do gráfico que será plotado.\n",
    "        mode = \"lines\"\n",
    "    ))\n",
    "    \n",
    "    # Adiciona algumas legendas ao plot.\n",
    "    fig.update_layout(\n",
    "        # Adiciona um título ao plot.\n",
    "        title = serie_title,\n",
    "        # Adiciona uma legenda ao eixo x do plot.\n",
    "        xaxis_title = serie_xaxis_title,\n",
    "        # Adiciona uma legenda ao eixo y do plot.\n",
    "        yaxis_title = serie_yaxis_title\n",
    "    )\n",
    "    \n",
    "    # Exibe o plot criado.\n",
    "    fig.show()"
   ]
  },
  {
   "cell_type": "code",
   "execution_count": 23,
   "metadata": {},
   "outputs": [],
   "source": [
    "def plot_multiples_time_series_line_graphs(data_list: list, serie_title: Optional[str] = \"\", serie_xaxis_title: Optional[str] = \"\", \n",
    "                               serie_yaxis_title: Optional[str] = \"\") -> None:\n",
    "    '''\n",
    "        Description:\n",
    "            Esta função exibe em um mesmo plot múltiplos gráficos de séries temporais. \n",
    "        Args:\n",
    "            data_list (list): Lista contendo as séries temporais cujos gráficos serão exibidos no plot. Os valores de tais séries temporais\n",
    "                              estarão no eixo y, enquanto os índices dessas séries estarão no eixo x.\n",
    "            title (string) [Optional]: Título do plot.\n",
    "            xaxis_title (string) [Optional]: Título do eixo x do plot.\n",
    "            yaxis_title (string) [Optional]: Título do eixo y do plot.\n",
    "        Return:\n",
    "            None: A função exibe os gráficos, mas não retorna nenhum valor.  \n",
    "        Errors:\n",
    "            TypeError: É esperado que todas os elementos da lista \"data_list\" sejam objetos do tipo pd.Series, isto é, que sejam séries temporais.\n",
    "            ValueError: É esperado que todas as séries temporais presentes na variável \"data_list\" possuam os mesmos índices. \n",
    "            TypeError: É esperado que todas as séries temporais presentes na variável data_list possuam um atributo \"name\".\n",
    "    '''    \n",
    "\n",
    "    # Verifica se todos os elementos presentes na lista \"data_list\" são séries temporais.\n",
    "    are_all_data_time_series = all(isinstance(df, pd.Series) for df in data_list)\n",
    "    \n",
    "    # Retorna um erro caso algum dos dados presentes na variável \"data_list\" não seja uma série temporal\n",
    "    if not are_all_data_time_series:\n",
    "        raise TypeError(\"Todos os dados presentes no parâmetro 'data_list' devem ser séries temporais.\")\n",
    "    \n",
    "    # Verifica se as séries temporais presentes na variável \"data_list\" possuem os mesmos índices.\n",
    "    are_all_index_equal = all(df.index.equals(data_list[0].index) for df in data_list)\n",
    "    \n",
    "    # Retorna um erro caso as séries temporais possuam índices diferentes.\n",
    "    if not are_all_index_equal:\n",
    "        raise ValueError(\"Todos as séries temporais devem possuir os mesmos índices.\")\n",
    "    \n",
    "    # Verifica se todas as séries temporais presentes na variável \"data_list\" possuem o atributo \"name\".\n",
    "    all_time_series_have_names = all(hasattr(df,\"name\") for df in data_list)\n",
    "    \n",
    "    # Retorna um erro caso uma das séries temporais presentes na variável \"data_list\" não possua o atributo \"name\".\n",
    "    if not all_time_series_have_names:\n",
    "        raise TypeError(\"Todas as séries temporais devem possuir o atributo 'name'\")\n",
    "    \n",
    "    # Cria uma lista de timestamps que representará o eixo x do gráfico que será plotado.\n",
    "    x_axis = data_list[0].index.tolist() # Observe que só podemos fazer isso pois temos certeza que todas as séries temporais possuem os mesmos índices.\n",
    "    # Cria a figura onde será plotado o gráfico.\n",
    "    fig = go.Figure()\n",
    "\n",
    "    # Adiciona cada série temporal ao gráfico.\n",
    "    for time_serie in data_list:\n",
    "        # Plota o gráfico (Data x Valor da Ação) do ticker em questão.\n",
    "        fig.add_trace(go.Scatter(x=x_axis, y=time_serie.values, mode=\"lines\", name=time_serie.name))\n",
    "    \n",
    "    # Atualiza o layout para permitir destaque ao clicar na legenda.\n",
    "    fig.update_layout(\n",
    "        # Seta um título para o plot.\n",
    "        title=serie_title,\n",
    "        # Seta um título para o eixo x do plot.\n",
    "        xaxis_title=serie_xaxis_title,\n",
    "        # Seta um título para o eixo y do plot.\n",
    "        yaxis_title=serie_yaxis_title,   \n",
    "    )\n",
    "    \n",
    "    # Exibe o gráfico criado.\n",
    "    fig.show()"
   ]
  },
  {
   "cell_type": "markdown",
   "metadata": {},
   "source": [
    "#### *Exibindo os Resultados*"
   ]
  },
  {
   "cell_type": "markdown",
   "metadata": {},
   "source": [
    "##### **Gráfico de Retornos da Média das Previsões vs. Retornos do S&P 500 Index**"
   ]
  },
  {
   "cell_type": "code",
   "execution_count": 24,
   "metadata": {},
   "outputs": [
    {
     "data": {
      "application/vnd.plotly.v1+json": {
       "config": {
        "plotlyServerURL": "https://plot.ly"
       },
       "data": [
        {
         "mode": "lines",
         "name": "Retornos da Média das Previsões",
         "type": "scatter",
         "x": [
          "2019-02-22T00:00:00",
          "2019-03-21T00:00:00",
          "2019-04-18T00:00:00",
          "2019-05-17T00:00:00",
          "2019-06-17T00:00:00",
          "2019-07-16T00:00:00",
          "2019-08-13T00:00:00",
          "2019-09-11T00:00:00",
          "2019-10-09T00:00:00",
          "2019-11-06T00:00:00",
          "2019-12-05T00:00:00",
          "2020-01-06T00:00:00",
          "2020-02-04T00:00:00",
          "2020-03-04T00:00:00",
          "2020-04-30T00:00:00",
          "2020-05-29T00:00:00",
          "2020-06-26T00:00:00",
          "2020-07-27T00:00:00",
          "2020-08-24T00:00:00",
          "2020-09-22T00:00:00",
          "2020-10-20T00:00:00",
          "2020-11-17T00:00:00",
          "2020-12-16T00:00:00",
          "2021-01-15T00:00:00",
          "2021-02-16T00:00:00",
          "2021-03-16T00:00:00",
          "2021-04-14T00:00:00",
          "2021-05-12T00:00:00",
          "2021-06-10T00:00:00",
          "2021-07-09T00:00:00",
          "2021-08-06T00:00:00",
          "2021-09-03T00:00:00",
          "2021-10-04T00:00:00",
          "2021-11-01T00:00:00",
          "2021-11-30T00:00:00",
          "2021-12-29T00:00:00",
          "2022-01-27T00:00:00",
          "2022-02-25T00:00:00",
          "2022-03-25T00:00:00",
          "2022-04-25T00:00:00",
          "2022-05-23T00:00:00",
          "2022-06-22T00:00:00",
          "2022-07-21T00:00:00",
          "2022-08-18T00:00:00",
          "2022-09-16T00:00:00",
          "2022-10-14T00:00:00",
          "2022-11-11T00:00:00",
          "2022-12-12T00:00:00",
          "2023-01-11T00:00:00",
          "2023-02-09T00:00:00",
          "2023-03-10T00:00:00",
          "2023-04-10T00:00:00",
          "2023-05-08T00:00:00",
          "2023-06-06T00:00:00",
          "2023-07-06T00:00:00",
          "2023-08-03T00:00:00",
          "2023-08-31T00:00:00",
          "2023-09-29T00:00:00",
          "2023-10-27T00:00:00",
          "2023-11-27T00:00:00",
          "2023-12-26T00:00:00"
         ],
         "y": [
          0,
          5.577002606459757,
          5.178876013206677,
          5.855372346605575,
          5.292025736281285,
          4.676179059008398,
          7.5337557036293035,
          6.311692793635278,
          3.2075523394957193,
          5.470284865014091,
          5.3273300875386225,
          5.360704444778302,
          7.395525275095937,
          1.3488340765401197,
          12.15016578082063,
          11.452912642950313,
          5.792798035493024,
          8.403461410573232,
          7.0973760504257895,
          1.9828093966567792,
          11.712463578599076,
          10.466658344388927,
          3.4897951075350973,
          8.07174187911318,
          10.165904189049439,
          9.835286990454557,
          8.095141362635147,
          2.786259027881886,
          8.262951686549464,
          5.637537802174345,
          4.236624101444635,
          4.9529517024957155,
          2.829940381546569,
          7.429114676389931,
          0.02380181273465798,
          8.525947654612988,
          2.268174438918849,
          4.8809301690847064,
          5.863309191118724,
          5.882548606706828,
          6.478598668390863,
          -1.7973079272116557,
          8.676381494161998,
          10.60464720404058,
          -0.061876824447455736,
          4.641112841899341,
          17.769724239311717,
          9.335147217142104,
          6.848283449481576,
          6.38308724748879,
          -1.0954900123751368,
          7.597723689798504,
          6.288554243820957,
          2.429959513693066,
          4.591508921744941,
          5.1132534154941025,
          1.3648234296103903,
          2.5029441033080233,
          4.364491528355685,
          7.13032669833558,
          7.5372279063229515
         ]
        },
        {
         "mode": "lines",
         "name": "Retornos do S&P500 Index",
         "type": "scatter",
         "x": [
          "2019-02-22T00:00:00",
          "2019-03-21T00:00:00",
          "2019-04-18T00:00:00",
          "2019-05-17T00:00:00",
          "2019-06-17T00:00:00",
          "2019-07-16T00:00:00",
          "2019-08-13T00:00:00",
          "2019-09-11T00:00:00",
          "2019-10-09T00:00:00",
          "2019-11-06T00:00:00",
          "2019-12-05T00:00:00",
          "2020-01-06T00:00:00",
          "2020-02-04T00:00:00",
          "2020-03-04T00:00:00",
          "2020-04-30T00:00:00",
          "2020-05-29T00:00:00",
          "2020-06-26T00:00:00",
          "2020-07-27T00:00:00",
          "2020-08-24T00:00:00",
          "2020-09-22T00:00:00",
          "2020-10-20T00:00:00",
          "2020-11-17T00:00:00",
          "2020-12-16T00:00:00",
          "2021-01-15T00:00:00",
          "2021-02-16T00:00:00",
          "2021-03-16T00:00:00",
          "2021-04-14T00:00:00",
          "2021-05-12T00:00:00",
          "2021-06-10T00:00:00",
          "2021-07-09T00:00:00",
          "2021-08-06T00:00:00",
          "2021-09-03T00:00:00",
          "2021-10-04T00:00:00",
          "2021-11-01T00:00:00",
          "2021-11-30T00:00:00",
          "2021-12-29T00:00:00",
          "2022-01-27T00:00:00",
          "2022-02-25T00:00:00",
          "2022-03-25T00:00:00",
          "2022-04-25T00:00:00",
          "2022-05-23T00:00:00",
          "2022-06-22T00:00:00",
          "2022-07-21T00:00:00",
          "2022-08-18T00:00:00",
          "2022-09-16T00:00:00",
          "2022-10-14T00:00:00",
          "2022-11-11T00:00:00",
          "2022-12-12T00:00:00",
          "2023-01-11T00:00:00",
          "2023-02-09T00:00:00",
          "2023-03-10T00:00:00",
          "2023-04-10T00:00:00",
          "2023-05-08T00:00:00",
          "2023-06-06T00:00:00",
          "2023-07-06T00:00:00",
          "2023-08-03T00:00:00",
          "2023-08-31T00:00:00",
          "2023-09-29T00:00:00",
          "2023-10-27T00:00:00",
          "2023-11-27T00:00:00",
          "2023-12-26T00:00:00"
         ],
         "y": [
          2.203167016955355,
          3.6570784839232706,
          -1.6797947266550932,
          1.7257253784573794,
          2.9145291085460574,
          -1.9659712631527295,
          5.490688600501024,
          -3.04191518633287,
          4.611032041784017,
          1.0398942165059932,
          3.1406565876359553,
          1.8489365969256006,
          -6.330832403896731,
          -20.214003817031237,
          14.19945444360034,
          7.274674396387298,
          -1.5394079670934353,
          5.918786865844358,
          6.403662603856873,
          -3.7893702514698737,
          6.175583484835031,
          4.93976209812391,
          3.6702597340330865,
          1.2220595127124094,
          3.458410389814939,
          0.795031389352416,
          3.718026059188602,
          -2.608525991678831,
          3.0338779688359843,
          2.8343549565653663,
          1.176507276972257,
          2.2989996432413284,
          -4.9796598819998525,
          5.983211666659955,
          -1.3840691721496063,
          6.0198057834731165,
          -9.941365851047877,
          -1.070734333560089,
          3.79366153760596,
          -6.3008040684506605,
          -4.945207488338616,
          -4.716660925509215,
          5.215506888071703,
          7.817098735670681,
          -8.77279634602826,
          -8.472832615327256,
          8.216976165956384,
          0.8382247030080929,
          -1.2526929710451613,
          2.438660283843375,
          -5.757838509764697,
          6.363829009450829,
          0.7076533296937205,
          3.9200492973762526,
          3.320226644107447,
          2.3131418487960893,
          0.6595036927254397,
          -5.174368068880059,
          -4.069676452953056,
          8.80686598444981,
          4.71402053914846
         ]
        }
       ],
       "layout": {
        "template": {
         "data": {
          "bar": [
           {
            "error_x": {
             "color": "#2a3f5f"
            },
            "error_y": {
             "color": "#2a3f5f"
            },
            "marker": {
             "line": {
              "color": "#E5ECF6",
              "width": 0.5
             },
             "pattern": {
              "fillmode": "overlay",
              "size": 10,
              "solidity": 0.2
             }
            },
            "type": "bar"
           }
          ],
          "barpolar": [
           {
            "marker": {
             "line": {
              "color": "#E5ECF6",
              "width": 0.5
             },
             "pattern": {
              "fillmode": "overlay",
              "size": 10,
              "solidity": 0.2
             }
            },
            "type": "barpolar"
           }
          ],
          "carpet": [
           {
            "aaxis": {
             "endlinecolor": "#2a3f5f",
             "gridcolor": "white",
             "linecolor": "white",
             "minorgridcolor": "white",
             "startlinecolor": "#2a3f5f"
            },
            "baxis": {
             "endlinecolor": "#2a3f5f",
             "gridcolor": "white",
             "linecolor": "white",
             "minorgridcolor": "white",
             "startlinecolor": "#2a3f5f"
            },
            "type": "carpet"
           }
          ],
          "choropleth": [
           {
            "colorbar": {
             "outlinewidth": 0,
             "ticks": ""
            },
            "type": "choropleth"
           }
          ],
          "contour": [
           {
            "colorbar": {
             "outlinewidth": 0,
             "ticks": ""
            },
            "colorscale": [
             [
              0,
              "#0d0887"
             ],
             [
              0.1111111111111111,
              "#46039f"
             ],
             [
              0.2222222222222222,
              "#7201a8"
             ],
             [
              0.3333333333333333,
              "#9c179e"
             ],
             [
              0.4444444444444444,
              "#bd3786"
             ],
             [
              0.5555555555555556,
              "#d8576b"
             ],
             [
              0.6666666666666666,
              "#ed7953"
             ],
             [
              0.7777777777777778,
              "#fb9f3a"
             ],
             [
              0.8888888888888888,
              "#fdca26"
             ],
             [
              1,
              "#f0f921"
             ]
            ],
            "type": "contour"
           }
          ],
          "contourcarpet": [
           {
            "colorbar": {
             "outlinewidth": 0,
             "ticks": ""
            },
            "type": "contourcarpet"
           }
          ],
          "heatmap": [
           {
            "colorbar": {
             "outlinewidth": 0,
             "ticks": ""
            },
            "colorscale": [
             [
              0,
              "#0d0887"
             ],
             [
              0.1111111111111111,
              "#46039f"
             ],
             [
              0.2222222222222222,
              "#7201a8"
             ],
             [
              0.3333333333333333,
              "#9c179e"
             ],
             [
              0.4444444444444444,
              "#bd3786"
             ],
             [
              0.5555555555555556,
              "#d8576b"
             ],
             [
              0.6666666666666666,
              "#ed7953"
             ],
             [
              0.7777777777777778,
              "#fb9f3a"
             ],
             [
              0.8888888888888888,
              "#fdca26"
             ],
             [
              1,
              "#f0f921"
             ]
            ],
            "type": "heatmap"
           }
          ],
          "heatmapgl": [
           {
            "colorbar": {
             "outlinewidth": 0,
             "ticks": ""
            },
            "colorscale": [
             [
              0,
              "#0d0887"
             ],
             [
              0.1111111111111111,
              "#46039f"
             ],
             [
              0.2222222222222222,
              "#7201a8"
             ],
             [
              0.3333333333333333,
              "#9c179e"
             ],
             [
              0.4444444444444444,
              "#bd3786"
             ],
             [
              0.5555555555555556,
              "#d8576b"
             ],
             [
              0.6666666666666666,
              "#ed7953"
             ],
             [
              0.7777777777777778,
              "#fb9f3a"
             ],
             [
              0.8888888888888888,
              "#fdca26"
             ],
             [
              1,
              "#f0f921"
             ]
            ],
            "type": "heatmapgl"
           }
          ],
          "histogram": [
           {
            "marker": {
             "pattern": {
              "fillmode": "overlay",
              "size": 10,
              "solidity": 0.2
             }
            },
            "type": "histogram"
           }
          ],
          "histogram2d": [
           {
            "colorbar": {
             "outlinewidth": 0,
             "ticks": ""
            },
            "colorscale": [
             [
              0,
              "#0d0887"
             ],
             [
              0.1111111111111111,
              "#46039f"
             ],
             [
              0.2222222222222222,
              "#7201a8"
             ],
             [
              0.3333333333333333,
              "#9c179e"
             ],
             [
              0.4444444444444444,
              "#bd3786"
             ],
             [
              0.5555555555555556,
              "#d8576b"
             ],
             [
              0.6666666666666666,
              "#ed7953"
             ],
             [
              0.7777777777777778,
              "#fb9f3a"
             ],
             [
              0.8888888888888888,
              "#fdca26"
             ],
             [
              1,
              "#f0f921"
             ]
            ],
            "type": "histogram2d"
           }
          ],
          "histogram2dcontour": [
           {
            "colorbar": {
             "outlinewidth": 0,
             "ticks": ""
            },
            "colorscale": [
             [
              0,
              "#0d0887"
             ],
             [
              0.1111111111111111,
              "#46039f"
             ],
             [
              0.2222222222222222,
              "#7201a8"
             ],
             [
              0.3333333333333333,
              "#9c179e"
             ],
             [
              0.4444444444444444,
              "#bd3786"
             ],
             [
              0.5555555555555556,
              "#d8576b"
             ],
             [
              0.6666666666666666,
              "#ed7953"
             ],
             [
              0.7777777777777778,
              "#fb9f3a"
             ],
             [
              0.8888888888888888,
              "#fdca26"
             ],
             [
              1,
              "#f0f921"
             ]
            ],
            "type": "histogram2dcontour"
           }
          ],
          "mesh3d": [
           {
            "colorbar": {
             "outlinewidth": 0,
             "ticks": ""
            },
            "type": "mesh3d"
           }
          ],
          "parcoords": [
           {
            "line": {
             "colorbar": {
              "outlinewidth": 0,
              "ticks": ""
             }
            },
            "type": "parcoords"
           }
          ],
          "pie": [
           {
            "automargin": true,
            "type": "pie"
           }
          ],
          "scatter": [
           {
            "fillpattern": {
             "fillmode": "overlay",
             "size": 10,
             "solidity": 0.2
            },
            "type": "scatter"
           }
          ],
          "scatter3d": [
           {
            "line": {
             "colorbar": {
              "outlinewidth": 0,
              "ticks": ""
             }
            },
            "marker": {
             "colorbar": {
              "outlinewidth": 0,
              "ticks": ""
             }
            },
            "type": "scatter3d"
           }
          ],
          "scattercarpet": [
           {
            "marker": {
             "colorbar": {
              "outlinewidth": 0,
              "ticks": ""
             }
            },
            "type": "scattercarpet"
           }
          ],
          "scattergeo": [
           {
            "marker": {
             "colorbar": {
              "outlinewidth": 0,
              "ticks": ""
             }
            },
            "type": "scattergeo"
           }
          ],
          "scattergl": [
           {
            "marker": {
             "colorbar": {
              "outlinewidth": 0,
              "ticks": ""
             }
            },
            "type": "scattergl"
           }
          ],
          "scattermapbox": [
           {
            "marker": {
             "colorbar": {
              "outlinewidth": 0,
              "ticks": ""
             }
            },
            "type": "scattermapbox"
           }
          ],
          "scatterpolar": [
           {
            "marker": {
             "colorbar": {
              "outlinewidth": 0,
              "ticks": ""
             }
            },
            "type": "scatterpolar"
           }
          ],
          "scatterpolargl": [
           {
            "marker": {
             "colorbar": {
              "outlinewidth": 0,
              "ticks": ""
             }
            },
            "type": "scatterpolargl"
           }
          ],
          "scatterternary": [
           {
            "marker": {
             "colorbar": {
              "outlinewidth": 0,
              "ticks": ""
             }
            },
            "type": "scatterternary"
           }
          ],
          "surface": [
           {
            "colorbar": {
             "outlinewidth": 0,
             "ticks": ""
            },
            "colorscale": [
             [
              0,
              "#0d0887"
             ],
             [
              0.1111111111111111,
              "#46039f"
             ],
             [
              0.2222222222222222,
              "#7201a8"
             ],
             [
              0.3333333333333333,
              "#9c179e"
             ],
             [
              0.4444444444444444,
              "#bd3786"
             ],
             [
              0.5555555555555556,
              "#d8576b"
             ],
             [
              0.6666666666666666,
              "#ed7953"
             ],
             [
              0.7777777777777778,
              "#fb9f3a"
             ],
             [
              0.8888888888888888,
              "#fdca26"
             ],
             [
              1,
              "#f0f921"
             ]
            ],
            "type": "surface"
           }
          ],
          "table": [
           {
            "cells": {
             "fill": {
              "color": "#EBF0F8"
             },
             "line": {
              "color": "white"
             }
            },
            "header": {
             "fill": {
              "color": "#C8D4E3"
             },
             "line": {
              "color": "white"
             }
            },
            "type": "table"
           }
          ]
         },
         "layout": {
          "annotationdefaults": {
           "arrowcolor": "#2a3f5f",
           "arrowhead": 0,
           "arrowwidth": 1
          },
          "autotypenumbers": "strict",
          "coloraxis": {
           "colorbar": {
            "outlinewidth": 0,
            "ticks": ""
           }
          },
          "colorscale": {
           "diverging": [
            [
             0,
             "#8e0152"
            ],
            [
             0.1,
             "#c51b7d"
            ],
            [
             0.2,
             "#de77ae"
            ],
            [
             0.3,
             "#f1b6da"
            ],
            [
             0.4,
             "#fde0ef"
            ],
            [
             0.5,
             "#f7f7f7"
            ],
            [
             0.6,
             "#e6f5d0"
            ],
            [
             0.7,
             "#b8e186"
            ],
            [
             0.8,
             "#7fbc41"
            ],
            [
             0.9,
             "#4d9221"
            ],
            [
             1,
             "#276419"
            ]
           ],
           "sequential": [
            [
             0,
             "#0d0887"
            ],
            [
             0.1111111111111111,
             "#46039f"
            ],
            [
             0.2222222222222222,
             "#7201a8"
            ],
            [
             0.3333333333333333,
             "#9c179e"
            ],
            [
             0.4444444444444444,
             "#bd3786"
            ],
            [
             0.5555555555555556,
             "#d8576b"
            ],
            [
             0.6666666666666666,
             "#ed7953"
            ],
            [
             0.7777777777777778,
             "#fb9f3a"
            ],
            [
             0.8888888888888888,
             "#fdca26"
            ],
            [
             1,
             "#f0f921"
            ]
           ],
           "sequentialminus": [
            [
             0,
             "#0d0887"
            ],
            [
             0.1111111111111111,
             "#46039f"
            ],
            [
             0.2222222222222222,
             "#7201a8"
            ],
            [
             0.3333333333333333,
             "#9c179e"
            ],
            [
             0.4444444444444444,
             "#bd3786"
            ],
            [
             0.5555555555555556,
             "#d8576b"
            ],
            [
             0.6666666666666666,
             "#ed7953"
            ],
            [
             0.7777777777777778,
             "#fb9f3a"
            ],
            [
             0.8888888888888888,
             "#fdca26"
            ],
            [
             1,
             "#f0f921"
            ]
           ]
          },
          "colorway": [
           "#636efa",
           "#EF553B",
           "#00cc96",
           "#ab63fa",
           "#FFA15A",
           "#19d3f3",
           "#FF6692",
           "#B6E880",
           "#FF97FF",
           "#FECB52"
          ],
          "font": {
           "color": "#2a3f5f"
          },
          "geo": {
           "bgcolor": "white",
           "lakecolor": "white",
           "landcolor": "#E5ECF6",
           "showlakes": true,
           "showland": true,
           "subunitcolor": "white"
          },
          "hoverlabel": {
           "align": "left"
          },
          "hovermode": "closest",
          "mapbox": {
           "style": "light"
          },
          "paper_bgcolor": "white",
          "plot_bgcolor": "#E5ECF6",
          "polar": {
           "angularaxis": {
            "gridcolor": "white",
            "linecolor": "white",
            "ticks": ""
           },
           "bgcolor": "#E5ECF6",
           "radialaxis": {
            "gridcolor": "white",
            "linecolor": "white",
            "ticks": ""
           }
          },
          "scene": {
           "xaxis": {
            "backgroundcolor": "#E5ECF6",
            "gridcolor": "white",
            "gridwidth": 2,
            "linecolor": "white",
            "showbackground": true,
            "ticks": "",
            "zerolinecolor": "white"
           },
           "yaxis": {
            "backgroundcolor": "#E5ECF6",
            "gridcolor": "white",
            "gridwidth": 2,
            "linecolor": "white",
            "showbackground": true,
            "ticks": "",
            "zerolinecolor": "white"
           },
           "zaxis": {
            "backgroundcolor": "#E5ECF6",
            "gridcolor": "white",
            "gridwidth": 2,
            "linecolor": "white",
            "showbackground": true,
            "ticks": "",
            "zerolinecolor": "white"
           }
          },
          "shapedefaults": {
           "line": {
            "color": "#2a3f5f"
           }
          },
          "ternary": {
           "aaxis": {
            "gridcolor": "white",
            "linecolor": "white",
            "ticks": ""
           },
           "baxis": {
            "gridcolor": "white",
            "linecolor": "white",
            "ticks": ""
           },
           "bgcolor": "#E5ECF6",
           "caxis": {
            "gridcolor": "white",
            "linecolor": "white",
            "ticks": ""
           }
          },
          "title": {
           "x": 0.05
          },
          "xaxis": {
           "automargin": true,
           "gridcolor": "white",
           "linecolor": "white",
           "ticks": "",
           "title": {
            "standoff": 15
           },
           "zerolinecolor": "white",
           "zerolinewidth": 2
          },
          "yaxis": {
           "automargin": true,
           "gridcolor": "white",
           "linecolor": "white",
           "ticks": "",
           "title": {
            "standoff": 15
           },
           "zerolinecolor": "white",
           "zerolinewidth": 2
          }
         }
        },
        "title": {
         "text": "Retornos da Média das Previsões vs. Retornos do S&P 500 Index"
        },
        "xaxis": {
         "title": {
          "text": "Período"
         }
        },
        "yaxis": {
         "title": {
          "text": "Retornos (Log.)"
         }
        }
       }
      }
     },
     "metadata": {},
     "output_type": "display_data"
    }
   ],
   "source": [
    "plot_multiples_time_series_line_graphs([average_monthly_results, sp500_index_period_returns], \"Retornos da Média das Previsões vs. Retornos do S&P 500 Index\", \"Período\", \"Retornos (Log.)\")"
   ]
  },
  {
   "cell_type": "markdown",
   "metadata": {},
   "source": [
    "##### **Gráfico de Retorno Acumulado da Estratégia vs. Retorno Acumulado do S&P 500 Index**"
   ]
  },
  {
   "cell_type": "code",
   "execution_count": 25,
   "metadata": {},
   "outputs": [
    {
     "data": {
      "application/vnd.plotly.v1+json": {
       "config": {
        "plotlyServerURL": "https://plot.ly"
       },
       "data": [
        {
         "mode": "lines",
         "name": "Retornos Acumulados da Média das Previsões",
         "type": "scatter",
         "x": [
          "2019-02-22T00:00:00",
          "2019-03-21T00:00:00",
          "2019-04-18T00:00:00",
          "2019-05-17T00:00:00",
          "2019-06-17T00:00:00",
          "2019-07-16T00:00:00",
          "2019-08-13T00:00:00",
          "2019-09-11T00:00:00",
          "2019-10-09T00:00:00",
          "2019-11-06T00:00:00",
          "2019-12-05T00:00:00",
          "2020-01-06T00:00:00",
          "2020-02-04T00:00:00",
          "2020-03-04T00:00:00",
          "2020-04-30T00:00:00",
          "2020-05-29T00:00:00",
          "2020-06-26T00:00:00",
          "2020-07-27T00:00:00",
          "2020-08-24T00:00:00",
          "2020-09-22T00:00:00",
          "2020-10-20T00:00:00",
          "2020-11-17T00:00:00",
          "2020-12-16T00:00:00",
          "2021-01-15T00:00:00",
          "2021-02-16T00:00:00",
          "2021-03-16T00:00:00",
          "2021-04-14T00:00:00",
          "2021-05-12T00:00:00",
          "2021-06-10T00:00:00",
          "2021-07-09T00:00:00",
          "2021-08-06T00:00:00",
          "2021-09-03T00:00:00",
          "2021-10-04T00:00:00",
          "2021-11-01T00:00:00",
          "2021-11-30T00:00:00",
          "2021-12-29T00:00:00",
          "2022-01-27T00:00:00",
          "2022-02-25T00:00:00",
          "2022-03-25T00:00:00",
          "2022-04-25T00:00:00",
          "2022-05-23T00:00:00",
          "2022-06-22T00:00:00",
          "2022-07-21T00:00:00",
          "2022-08-18T00:00:00",
          "2022-09-16T00:00:00",
          "2022-10-14T00:00:00",
          "2022-11-11T00:00:00",
          "2022-12-12T00:00:00",
          "2023-01-11T00:00:00",
          "2023-02-09T00:00:00",
          "2023-03-10T00:00:00",
          "2023-04-10T00:00:00",
          "2023-05-08T00:00:00",
          "2023-06-06T00:00:00",
          "2023-07-06T00:00:00",
          "2023-08-03T00:00:00",
          "2023-08-31T00:00:00",
          "2023-09-29T00:00:00",
          "2023-10-27T00:00:00",
          "2023-11-27T00:00:00",
          "2023-12-26T00:00:00"
         ],
         "y": [
          0,
          5.577002606459757,
          10.755878619666435,
          16.61125096627201,
          21.903276702553296,
          26.579455761561693,
          34.113211465191,
          40.42490425882628,
          43.632456598322,
          49.102741463336095,
          54.430071550874715,
          59.790775995653014,
          67.18630127074896,
          68.53513534728907,
          80.6853011281097,
          92.13821377106001,
          97.93101180655303,
          106.33447321712626,
          113.43184926755205,
          115.41465866420883,
          127.1271222428079,
          137.59378058719682,
          141.0835756947319,
          149.15531757384508,
          159.3212217628945,
          169.15650875334907,
          177.2516501159842,
          180.0379091438661,
          188.30086083041556,
          193.9383986325899,
          198.17502273403454,
          203.12797443653025,
          205.95791481807683,
          213.38702949446676,
          213.41083130720142,
          221.9367789618144,
          224.20495340073327,
          229.08588356981798,
          234.9491927609367,
          240.83174136764353,
          247.3103400360344,
          245.51303210882276,
          254.18941360298476,
          264.79406080702535,
          264.7321839825779,
          269.3732968244772,
          287.1430210637889,
          296.478168280931,
          303.3264517304126,
          309.7095389779014,
          308.61404896552625,
          316.21177265532475,
          322.5003268991457,
          324.93028641283877,
          329.5217953345837,
          334.63504875007783,
          335.9998721796882,
          338.50281628299626,
          342.86730781135196,
          349.99763450968754,
          357.53486241601047
         ]
        },
        {
         "mode": "lines",
         "name": "Retornos Acumulados do S&P500 Index",
         "type": "scatter",
         "x": [
          "2019-02-22T00:00:00",
          "2019-03-21T00:00:00",
          "2019-04-18T00:00:00",
          "2019-05-17T00:00:00",
          "2019-06-17T00:00:00",
          "2019-07-16T00:00:00",
          "2019-08-13T00:00:00",
          "2019-09-11T00:00:00",
          "2019-10-09T00:00:00",
          "2019-11-06T00:00:00",
          "2019-12-05T00:00:00",
          "2020-01-06T00:00:00",
          "2020-02-04T00:00:00",
          "2020-03-04T00:00:00",
          "2020-04-30T00:00:00",
          "2020-05-29T00:00:00",
          "2020-06-26T00:00:00",
          "2020-07-27T00:00:00",
          "2020-08-24T00:00:00",
          "2020-09-22T00:00:00",
          "2020-10-20T00:00:00",
          "2020-11-17T00:00:00",
          "2020-12-16T00:00:00",
          "2021-01-15T00:00:00",
          "2021-02-16T00:00:00",
          "2021-03-16T00:00:00",
          "2021-04-14T00:00:00",
          "2021-05-12T00:00:00",
          "2021-06-10T00:00:00",
          "2021-07-09T00:00:00",
          "2021-08-06T00:00:00",
          "2021-09-03T00:00:00",
          "2021-10-04T00:00:00",
          "2021-11-01T00:00:00",
          "2021-11-30T00:00:00",
          "2021-12-29T00:00:00",
          "2022-01-27T00:00:00",
          "2022-02-25T00:00:00",
          "2022-03-25T00:00:00",
          "2022-04-25T00:00:00",
          "2022-05-23T00:00:00",
          "2022-06-22T00:00:00",
          "2022-07-21T00:00:00",
          "2022-08-18T00:00:00",
          "2022-09-16T00:00:00",
          "2022-10-14T00:00:00",
          "2022-11-11T00:00:00",
          "2022-12-12T00:00:00",
          "2023-01-11T00:00:00",
          "2023-02-09T00:00:00",
          "2023-03-10T00:00:00",
          "2023-04-10T00:00:00",
          "2023-05-08T00:00:00",
          "2023-06-06T00:00:00",
          "2023-07-06T00:00:00",
          "2023-08-03T00:00:00",
          "2023-08-31T00:00:00",
          "2023-09-29T00:00:00",
          "2023-10-27T00:00:00",
          "2023-11-27T00:00:00",
          "2023-12-26T00:00:00"
         ],
         "y": [
          2.203167016955355,
          5.860245500878626,
          4.180450774223532,
          5.906176152680912,
          8.82070526122697,
          6.85473399807424,
          12.345422598575263,
          9.303507412242393,
          13.91453945402641,
          14.954433670532405,
          18.09509025816836,
          19.94402685509396,
          13.613194451197227,
          -6.60080936583401,
          7.59864507776633,
          14.873319474153629,
          13.333911507060193,
          19.25269837290455,
          25.656360976761423,
          21.86699072529155,
          28.04257421012658,
          32.98233630825049,
          36.65259604228358,
          37.87465555499599,
          41.333065944810926,
          42.12809733416334,
          45.846123393351945,
          43.23759740167311,
          46.271475370509094,
          49.10583032707446,
          50.28233760404672,
          52.58133724728805,
          47.6016773652882,
          53.58488903194815,
          52.20081985979854,
          58.22062564327166,
          48.27925979222378,
          47.20852545866369,
          51.00218699626966,
          44.701382927819,
          39.75617543948038,
          35.03951451397116,
          40.255021402042864,
          48.07212013771355,
          39.29932379168529,
          30.826491176358033,
          39.043467342314415,
          39.88169204532251,
          38.628999074277345,
          41.06765935812072,
          35.309820848356026,
          41.67364985780686,
          42.38130318750058,
          46.30135248487683,
          49.62157912898428,
          51.93472097778037,
          52.59422467050581,
          47.41985660162575,
          43.3501801486727,
          52.157046133122506,
          56.87106667227096
         ]
        }
       ],
       "layout": {
        "template": {
         "data": {
          "bar": [
           {
            "error_x": {
             "color": "#2a3f5f"
            },
            "error_y": {
             "color": "#2a3f5f"
            },
            "marker": {
             "line": {
              "color": "#E5ECF6",
              "width": 0.5
             },
             "pattern": {
              "fillmode": "overlay",
              "size": 10,
              "solidity": 0.2
             }
            },
            "type": "bar"
           }
          ],
          "barpolar": [
           {
            "marker": {
             "line": {
              "color": "#E5ECF6",
              "width": 0.5
             },
             "pattern": {
              "fillmode": "overlay",
              "size": 10,
              "solidity": 0.2
             }
            },
            "type": "barpolar"
           }
          ],
          "carpet": [
           {
            "aaxis": {
             "endlinecolor": "#2a3f5f",
             "gridcolor": "white",
             "linecolor": "white",
             "minorgridcolor": "white",
             "startlinecolor": "#2a3f5f"
            },
            "baxis": {
             "endlinecolor": "#2a3f5f",
             "gridcolor": "white",
             "linecolor": "white",
             "minorgridcolor": "white",
             "startlinecolor": "#2a3f5f"
            },
            "type": "carpet"
           }
          ],
          "choropleth": [
           {
            "colorbar": {
             "outlinewidth": 0,
             "ticks": ""
            },
            "type": "choropleth"
           }
          ],
          "contour": [
           {
            "colorbar": {
             "outlinewidth": 0,
             "ticks": ""
            },
            "colorscale": [
             [
              0,
              "#0d0887"
             ],
             [
              0.1111111111111111,
              "#46039f"
             ],
             [
              0.2222222222222222,
              "#7201a8"
             ],
             [
              0.3333333333333333,
              "#9c179e"
             ],
             [
              0.4444444444444444,
              "#bd3786"
             ],
             [
              0.5555555555555556,
              "#d8576b"
             ],
             [
              0.6666666666666666,
              "#ed7953"
             ],
             [
              0.7777777777777778,
              "#fb9f3a"
             ],
             [
              0.8888888888888888,
              "#fdca26"
             ],
             [
              1,
              "#f0f921"
             ]
            ],
            "type": "contour"
           }
          ],
          "contourcarpet": [
           {
            "colorbar": {
             "outlinewidth": 0,
             "ticks": ""
            },
            "type": "contourcarpet"
           }
          ],
          "heatmap": [
           {
            "colorbar": {
             "outlinewidth": 0,
             "ticks": ""
            },
            "colorscale": [
             [
              0,
              "#0d0887"
             ],
             [
              0.1111111111111111,
              "#46039f"
             ],
             [
              0.2222222222222222,
              "#7201a8"
             ],
             [
              0.3333333333333333,
              "#9c179e"
             ],
             [
              0.4444444444444444,
              "#bd3786"
             ],
             [
              0.5555555555555556,
              "#d8576b"
             ],
             [
              0.6666666666666666,
              "#ed7953"
             ],
             [
              0.7777777777777778,
              "#fb9f3a"
             ],
             [
              0.8888888888888888,
              "#fdca26"
             ],
             [
              1,
              "#f0f921"
             ]
            ],
            "type": "heatmap"
           }
          ],
          "heatmapgl": [
           {
            "colorbar": {
             "outlinewidth": 0,
             "ticks": ""
            },
            "colorscale": [
             [
              0,
              "#0d0887"
             ],
             [
              0.1111111111111111,
              "#46039f"
             ],
             [
              0.2222222222222222,
              "#7201a8"
             ],
             [
              0.3333333333333333,
              "#9c179e"
             ],
             [
              0.4444444444444444,
              "#bd3786"
             ],
             [
              0.5555555555555556,
              "#d8576b"
             ],
             [
              0.6666666666666666,
              "#ed7953"
             ],
             [
              0.7777777777777778,
              "#fb9f3a"
             ],
             [
              0.8888888888888888,
              "#fdca26"
             ],
             [
              1,
              "#f0f921"
             ]
            ],
            "type": "heatmapgl"
           }
          ],
          "histogram": [
           {
            "marker": {
             "pattern": {
              "fillmode": "overlay",
              "size": 10,
              "solidity": 0.2
             }
            },
            "type": "histogram"
           }
          ],
          "histogram2d": [
           {
            "colorbar": {
             "outlinewidth": 0,
             "ticks": ""
            },
            "colorscale": [
             [
              0,
              "#0d0887"
             ],
             [
              0.1111111111111111,
              "#46039f"
             ],
             [
              0.2222222222222222,
              "#7201a8"
             ],
             [
              0.3333333333333333,
              "#9c179e"
             ],
             [
              0.4444444444444444,
              "#bd3786"
             ],
             [
              0.5555555555555556,
              "#d8576b"
             ],
             [
              0.6666666666666666,
              "#ed7953"
             ],
             [
              0.7777777777777778,
              "#fb9f3a"
             ],
             [
              0.8888888888888888,
              "#fdca26"
             ],
             [
              1,
              "#f0f921"
             ]
            ],
            "type": "histogram2d"
           }
          ],
          "histogram2dcontour": [
           {
            "colorbar": {
             "outlinewidth": 0,
             "ticks": ""
            },
            "colorscale": [
             [
              0,
              "#0d0887"
             ],
             [
              0.1111111111111111,
              "#46039f"
             ],
             [
              0.2222222222222222,
              "#7201a8"
             ],
             [
              0.3333333333333333,
              "#9c179e"
             ],
             [
              0.4444444444444444,
              "#bd3786"
             ],
             [
              0.5555555555555556,
              "#d8576b"
             ],
             [
              0.6666666666666666,
              "#ed7953"
             ],
             [
              0.7777777777777778,
              "#fb9f3a"
             ],
             [
              0.8888888888888888,
              "#fdca26"
             ],
             [
              1,
              "#f0f921"
             ]
            ],
            "type": "histogram2dcontour"
           }
          ],
          "mesh3d": [
           {
            "colorbar": {
             "outlinewidth": 0,
             "ticks": ""
            },
            "type": "mesh3d"
           }
          ],
          "parcoords": [
           {
            "line": {
             "colorbar": {
              "outlinewidth": 0,
              "ticks": ""
             }
            },
            "type": "parcoords"
           }
          ],
          "pie": [
           {
            "automargin": true,
            "type": "pie"
           }
          ],
          "scatter": [
           {
            "fillpattern": {
             "fillmode": "overlay",
             "size": 10,
             "solidity": 0.2
            },
            "type": "scatter"
           }
          ],
          "scatter3d": [
           {
            "line": {
             "colorbar": {
              "outlinewidth": 0,
              "ticks": ""
             }
            },
            "marker": {
             "colorbar": {
              "outlinewidth": 0,
              "ticks": ""
             }
            },
            "type": "scatter3d"
           }
          ],
          "scattercarpet": [
           {
            "marker": {
             "colorbar": {
              "outlinewidth": 0,
              "ticks": ""
             }
            },
            "type": "scattercarpet"
           }
          ],
          "scattergeo": [
           {
            "marker": {
             "colorbar": {
              "outlinewidth": 0,
              "ticks": ""
             }
            },
            "type": "scattergeo"
           }
          ],
          "scattergl": [
           {
            "marker": {
             "colorbar": {
              "outlinewidth": 0,
              "ticks": ""
             }
            },
            "type": "scattergl"
           }
          ],
          "scattermapbox": [
           {
            "marker": {
             "colorbar": {
              "outlinewidth": 0,
              "ticks": ""
             }
            },
            "type": "scattermapbox"
           }
          ],
          "scatterpolar": [
           {
            "marker": {
             "colorbar": {
              "outlinewidth": 0,
              "ticks": ""
             }
            },
            "type": "scatterpolar"
           }
          ],
          "scatterpolargl": [
           {
            "marker": {
             "colorbar": {
              "outlinewidth": 0,
              "ticks": ""
             }
            },
            "type": "scatterpolargl"
           }
          ],
          "scatterternary": [
           {
            "marker": {
             "colorbar": {
              "outlinewidth": 0,
              "ticks": ""
             }
            },
            "type": "scatterternary"
           }
          ],
          "surface": [
           {
            "colorbar": {
             "outlinewidth": 0,
             "ticks": ""
            },
            "colorscale": [
             [
              0,
              "#0d0887"
             ],
             [
              0.1111111111111111,
              "#46039f"
             ],
             [
              0.2222222222222222,
              "#7201a8"
             ],
             [
              0.3333333333333333,
              "#9c179e"
             ],
             [
              0.4444444444444444,
              "#bd3786"
             ],
             [
              0.5555555555555556,
              "#d8576b"
             ],
             [
              0.6666666666666666,
              "#ed7953"
             ],
             [
              0.7777777777777778,
              "#fb9f3a"
             ],
             [
              0.8888888888888888,
              "#fdca26"
             ],
             [
              1,
              "#f0f921"
             ]
            ],
            "type": "surface"
           }
          ],
          "table": [
           {
            "cells": {
             "fill": {
              "color": "#EBF0F8"
             },
             "line": {
              "color": "white"
             }
            },
            "header": {
             "fill": {
              "color": "#C8D4E3"
             },
             "line": {
              "color": "white"
             }
            },
            "type": "table"
           }
          ]
         },
         "layout": {
          "annotationdefaults": {
           "arrowcolor": "#2a3f5f",
           "arrowhead": 0,
           "arrowwidth": 1
          },
          "autotypenumbers": "strict",
          "coloraxis": {
           "colorbar": {
            "outlinewidth": 0,
            "ticks": ""
           }
          },
          "colorscale": {
           "diverging": [
            [
             0,
             "#8e0152"
            ],
            [
             0.1,
             "#c51b7d"
            ],
            [
             0.2,
             "#de77ae"
            ],
            [
             0.3,
             "#f1b6da"
            ],
            [
             0.4,
             "#fde0ef"
            ],
            [
             0.5,
             "#f7f7f7"
            ],
            [
             0.6,
             "#e6f5d0"
            ],
            [
             0.7,
             "#b8e186"
            ],
            [
             0.8,
             "#7fbc41"
            ],
            [
             0.9,
             "#4d9221"
            ],
            [
             1,
             "#276419"
            ]
           ],
           "sequential": [
            [
             0,
             "#0d0887"
            ],
            [
             0.1111111111111111,
             "#46039f"
            ],
            [
             0.2222222222222222,
             "#7201a8"
            ],
            [
             0.3333333333333333,
             "#9c179e"
            ],
            [
             0.4444444444444444,
             "#bd3786"
            ],
            [
             0.5555555555555556,
             "#d8576b"
            ],
            [
             0.6666666666666666,
             "#ed7953"
            ],
            [
             0.7777777777777778,
             "#fb9f3a"
            ],
            [
             0.8888888888888888,
             "#fdca26"
            ],
            [
             1,
             "#f0f921"
            ]
           ],
           "sequentialminus": [
            [
             0,
             "#0d0887"
            ],
            [
             0.1111111111111111,
             "#46039f"
            ],
            [
             0.2222222222222222,
             "#7201a8"
            ],
            [
             0.3333333333333333,
             "#9c179e"
            ],
            [
             0.4444444444444444,
             "#bd3786"
            ],
            [
             0.5555555555555556,
             "#d8576b"
            ],
            [
             0.6666666666666666,
             "#ed7953"
            ],
            [
             0.7777777777777778,
             "#fb9f3a"
            ],
            [
             0.8888888888888888,
             "#fdca26"
            ],
            [
             1,
             "#f0f921"
            ]
           ]
          },
          "colorway": [
           "#636efa",
           "#EF553B",
           "#00cc96",
           "#ab63fa",
           "#FFA15A",
           "#19d3f3",
           "#FF6692",
           "#B6E880",
           "#FF97FF",
           "#FECB52"
          ],
          "font": {
           "color": "#2a3f5f"
          },
          "geo": {
           "bgcolor": "white",
           "lakecolor": "white",
           "landcolor": "#E5ECF6",
           "showlakes": true,
           "showland": true,
           "subunitcolor": "white"
          },
          "hoverlabel": {
           "align": "left"
          },
          "hovermode": "closest",
          "mapbox": {
           "style": "light"
          },
          "paper_bgcolor": "white",
          "plot_bgcolor": "#E5ECF6",
          "polar": {
           "angularaxis": {
            "gridcolor": "white",
            "linecolor": "white",
            "ticks": ""
           },
           "bgcolor": "#E5ECF6",
           "radialaxis": {
            "gridcolor": "white",
            "linecolor": "white",
            "ticks": ""
           }
          },
          "scene": {
           "xaxis": {
            "backgroundcolor": "#E5ECF6",
            "gridcolor": "white",
            "gridwidth": 2,
            "linecolor": "white",
            "showbackground": true,
            "ticks": "",
            "zerolinecolor": "white"
           },
           "yaxis": {
            "backgroundcolor": "#E5ECF6",
            "gridcolor": "white",
            "gridwidth": 2,
            "linecolor": "white",
            "showbackground": true,
            "ticks": "",
            "zerolinecolor": "white"
           },
           "zaxis": {
            "backgroundcolor": "#E5ECF6",
            "gridcolor": "white",
            "gridwidth": 2,
            "linecolor": "white",
            "showbackground": true,
            "ticks": "",
            "zerolinecolor": "white"
           }
          },
          "shapedefaults": {
           "line": {
            "color": "#2a3f5f"
           }
          },
          "ternary": {
           "aaxis": {
            "gridcolor": "white",
            "linecolor": "white",
            "ticks": ""
           },
           "baxis": {
            "gridcolor": "white",
            "linecolor": "white",
            "ticks": ""
           },
           "bgcolor": "#E5ECF6",
           "caxis": {
            "gridcolor": "white",
            "linecolor": "white",
            "ticks": ""
           }
          },
          "title": {
           "x": 0.05
          },
          "xaxis": {
           "automargin": true,
           "gridcolor": "white",
           "linecolor": "white",
           "ticks": "",
           "title": {
            "standoff": 15
           },
           "zerolinecolor": "white",
           "zerolinewidth": 2
          },
          "yaxis": {
           "automargin": true,
           "gridcolor": "white",
           "linecolor": "white",
           "ticks": "",
           "title": {
            "standoff": 15
           },
           "zerolinecolor": "white",
           "zerolinewidth": 2
          }
         }
        },
        "title": {
         "text": "Retorno Acumulado da Estratégia vs. Retorno Acumulado do S&P 500 Index"
        },
        "xaxis": {
         "title": {
          "text": "Período"
         }
        },
        "yaxis": {
         "title": {
          "text": "Retornos Acumulado"
         }
        }
       }
      }
     },
     "metadata": {},
     "output_type": "display_data"
    }
   ],
   "source": [
    "#\n",
    "average_monthly_cumulative_returns = average_monthly_results.cumsum()\n",
    "#\n",
    "average_monthly_cumulative_returns.name = \"Retornos Acumulados da Média das Previsões\"\n",
    "#\n",
    "plot_multiples_time_series_line_graphs([average_monthly_cumulative_returns, sp500_index_cumulative_returns], \"Retorno Acumulado da Estratégia vs. Retorno Acumulado do S&P 500 Index\", \"Período\", \"Retornos Acumulado\")"
   ]
  },
  {
   "cell_type": "markdown",
   "metadata": {},
   "source": [
    "##### **Gráfico de dispersão (Adicionar área / intervalo de confiança para a linha de tendencia)**"
   ]
  },
  {
   "cell_type": "code",
   "execution_count": 32,
   "metadata": {},
   "outputs": [
    {
     "data": {
      "application/vnd.plotly.v1+json": {
       "config": {
        "plotlyServerURL": "https://plot.ly"
       },
       "data": [
        {
         "mode": "markers",
         "name": "Pontos de Dispersão",
         "type": "scatter",
         "x": [
          2.203167016955355,
          3.6570784839232706,
          -1.6797947266550932,
          1.7257253784573794,
          2.9145291085460574,
          -1.9659712631527295,
          5.490688600501024,
          -3.04191518633287,
          4.611032041784017,
          1.0398942165059932,
          3.1406565876359553,
          1.8489365969256006,
          -6.330832403896731,
          -20.214003817031237,
          14.19945444360034,
          7.274674396387298,
          -1.5394079670934353,
          5.918786865844358,
          6.403662603856873,
          -3.7893702514698737,
          6.175583484835031,
          4.93976209812391,
          3.6702597340330865,
          1.2220595127124094,
          3.458410389814939,
          0.795031389352416,
          3.718026059188602,
          -2.608525991678831,
          3.0338779688359843,
          2.8343549565653663,
          1.176507276972257,
          2.2989996432413284,
          -4.9796598819998525,
          5.983211666659955,
          -1.3840691721496063,
          6.0198057834731165,
          -9.941365851047877,
          -1.070734333560089,
          3.79366153760596,
          -6.3008040684506605,
          -4.945207488338616,
          -4.716660925509215,
          5.215506888071703,
          7.817098735670681,
          -8.77279634602826,
          -8.472832615327256,
          8.216976165956384,
          0.8382247030080929,
          -1.2526929710451613,
          2.438660283843375,
          -5.757838509764697,
          6.363829009450829,
          0.7076533296937205,
          3.9200492973762526,
          3.320226644107447,
          2.3131418487960893,
          0.6595036927254397,
          -5.174368068880059,
          -4.069676452953056,
          8.80686598444981,
          4.71402053914846
         ],
         "y": [
          0,
          5.577002606459757,
          5.178876013206677,
          5.855372346605575,
          5.292025736281285,
          4.676179059008398,
          7.5337557036293035,
          6.311692793635278,
          3.2075523394957193,
          5.470284865014091,
          5.3273300875386225,
          5.360704444778302,
          7.395525275095937,
          1.3488340765401197,
          12.15016578082063,
          11.452912642950313,
          5.792798035493024,
          8.403461410573232,
          7.0973760504257895,
          1.9828093966567792,
          11.712463578599076,
          10.466658344388927,
          3.4897951075350973,
          8.07174187911318,
          10.165904189049439,
          9.835286990454557,
          8.095141362635147,
          2.786259027881886,
          8.262951686549464,
          5.637537802174345,
          4.236624101444635,
          4.9529517024957155,
          2.829940381546569,
          7.429114676389931,
          0.02380181273465798,
          8.525947654612988,
          2.268174438918849,
          4.8809301690847064,
          5.863309191118724,
          5.882548606706828,
          6.478598668390863,
          -1.7973079272116557,
          8.676381494161998,
          10.60464720404058,
          -0.061876824447455736,
          4.641112841899341,
          17.769724239311717,
          9.335147217142104,
          6.848283449481576,
          6.38308724748879,
          -1.0954900123751368,
          7.597723689798504,
          6.288554243820957,
          2.429959513693066,
          4.591508921744941,
          5.1132534154941025,
          1.3648234296103903,
          2.5029441033080233,
          4.364491528355685,
          7.13032669833558,
          7.5372279063229515
         ]
        },
        {
         "line": {
          "color": "red",
          "dash": "dash",
          "width": 2
         },
         "mode": "lines",
         "name": "Linha de Tendência",
         "type": "scatter",
         "x": [
          2.203167016955355,
          3.6570784839232706,
          -1.6797947266550932,
          1.7257253784573794,
          2.9145291085460574,
          -1.9659712631527295,
          5.490688600501024,
          -3.04191518633287,
          4.611032041784017,
          1.0398942165059932,
          3.1406565876359553,
          1.8489365969256006,
          -6.330832403896731,
          -20.214003817031237,
          14.19945444360034,
          7.274674396387298,
          -1.5394079670934353,
          5.918786865844358,
          6.403662603856873,
          -3.7893702514698737,
          6.175583484835031,
          4.93976209812391,
          3.6702597340330865,
          1.2220595127124094,
          3.458410389814939,
          0.795031389352416,
          3.718026059188602,
          -2.608525991678831,
          3.0338779688359843,
          2.8343549565653663,
          1.176507276972257,
          2.2989996432413284,
          -4.9796598819998525,
          5.983211666659955,
          -1.3840691721496063,
          6.0198057834731165,
          -9.941365851047877,
          -1.070734333560089,
          3.79366153760596,
          -6.3008040684506605,
          -4.945207488338616,
          -4.716660925509215,
          5.215506888071703,
          7.817098735670681,
          -8.77279634602826,
          -8.472832615327256,
          8.216976165956384,
          0.8382247030080929,
          -1.2526929710451613,
          2.438660283843375,
          -5.757838509764697,
          6.363829009450829,
          0.7076533296937205,
          3.9200492973762526,
          3.320226644107447,
          2.3131418487960893,
          0.6595036927254397,
          -5.174368068880059,
          -4.069676452953056,
          8.80686598444981,
          4.71402053914846
         ],
         "y": [
          6.358597718831468,
          6.927610657196912,
          4.83893471218352,
          6.1717428271878205,
          6.637001351496913,
          4.7269346656721885,
          7.645225108939547,
          4.305845743028258,
          7.300956579115066,
          5.903331157322948,
          6.725500179826845,
          6.219963629522091,
          3.018672147850876,
          -2.414742705182352,
          11.053548486602207,
          8.343418240214897,
          4.893877454145914,
          7.81276863370462,
          8.002532986415858,
          4.013316512347718,
          7.913270350661927,
          7.4296106681271645,
          6.932769363230063,
          5.97462463895343,
          6.849858525408726,
          5.807499932423336,
          6.9514635255976955,
          4.475459962813052,
          6.683710554379647,
          6.605623835853109,
          5.956796998071228,
          6.3961034442577755,
          3.5474764556720184,
          7.837982373363844,
          4.95467192902372,
          7.85230410230527,
          1.605628580545738,
          5.077300838175874,
          6.981064754280959,
          3.030424246774771,
          3.560959984893909,
          3.6504055627185936,
          7.5375280735069925,
          8.555705215143462,
          2.0629680973198625,
          2.1803639963736017,
          8.712204036950961,
          5.824404369095958,
          5.00608823594482,
          6.450762007236648,
          3.2429230371058284,
          7.986943432915803,
          5.773303045195565,
          7.030528749987863,
          6.795777970322837,
          6.40163823652024,
          5.754458867241809,
          3.471274100812292,
          3.9036139211159218,
          8.943067433078376,
          7.341262876186508
         ]
        }
       ],
       "layout": {
        "template": {
         "data": {
          "bar": [
           {
            "error_x": {
             "color": "#2a3f5f"
            },
            "error_y": {
             "color": "#2a3f5f"
            },
            "marker": {
             "line": {
              "color": "#E5ECF6",
              "width": 0.5
             },
             "pattern": {
              "fillmode": "overlay",
              "size": 10,
              "solidity": 0.2
             }
            },
            "type": "bar"
           }
          ],
          "barpolar": [
           {
            "marker": {
             "line": {
              "color": "#E5ECF6",
              "width": 0.5
             },
             "pattern": {
              "fillmode": "overlay",
              "size": 10,
              "solidity": 0.2
             }
            },
            "type": "barpolar"
           }
          ],
          "carpet": [
           {
            "aaxis": {
             "endlinecolor": "#2a3f5f",
             "gridcolor": "white",
             "linecolor": "white",
             "minorgridcolor": "white",
             "startlinecolor": "#2a3f5f"
            },
            "baxis": {
             "endlinecolor": "#2a3f5f",
             "gridcolor": "white",
             "linecolor": "white",
             "minorgridcolor": "white",
             "startlinecolor": "#2a3f5f"
            },
            "type": "carpet"
           }
          ],
          "choropleth": [
           {
            "colorbar": {
             "outlinewidth": 0,
             "ticks": ""
            },
            "type": "choropleth"
           }
          ],
          "contour": [
           {
            "colorbar": {
             "outlinewidth": 0,
             "ticks": ""
            },
            "colorscale": [
             [
              0,
              "#0d0887"
             ],
             [
              0.1111111111111111,
              "#46039f"
             ],
             [
              0.2222222222222222,
              "#7201a8"
             ],
             [
              0.3333333333333333,
              "#9c179e"
             ],
             [
              0.4444444444444444,
              "#bd3786"
             ],
             [
              0.5555555555555556,
              "#d8576b"
             ],
             [
              0.6666666666666666,
              "#ed7953"
             ],
             [
              0.7777777777777778,
              "#fb9f3a"
             ],
             [
              0.8888888888888888,
              "#fdca26"
             ],
             [
              1,
              "#f0f921"
             ]
            ],
            "type": "contour"
           }
          ],
          "contourcarpet": [
           {
            "colorbar": {
             "outlinewidth": 0,
             "ticks": ""
            },
            "type": "contourcarpet"
           }
          ],
          "heatmap": [
           {
            "colorbar": {
             "outlinewidth": 0,
             "ticks": ""
            },
            "colorscale": [
             [
              0,
              "#0d0887"
             ],
             [
              0.1111111111111111,
              "#46039f"
             ],
             [
              0.2222222222222222,
              "#7201a8"
             ],
             [
              0.3333333333333333,
              "#9c179e"
             ],
             [
              0.4444444444444444,
              "#bd3786"
             ],
             [
              0.5555555555555556,
              "#d8576b"
             ],
             [
              0.6666666666666666,
              "#ed7953"
             ],
             [
              0.7777777777777778,
              "#fb9f3a"
             ],
             [
              0.8888888888888888,
              "#fdca26"
             ],
             [
              1,
              "#f0f921"
             ]
            ],
            "type": "heatmap"
           }
          ],
          "heatmapgl": [
           {
            "colorbar": {
             "outlinewidth": 0,
             "ticks": ""
            },
            "colorscale": [
             [
              0,
              "#0d0887"
             ],
             [
              0.1111111111111111,
              "#46039f"
             ],
             [
              0.2222222222222222,
              "#7201a8"
             ],
             [
              0.3333333333333333,
              "#9c179e"
             ],
             [
              0.4444444444444444,
              "#bd3786"
             ],
             [
              0.5555555555555556,
              "#d8576b"
             ],
             [
              0.6666666666666666,
              "#ed7953"
             ],
             [
              0.7777777777777778,
              "#fb9f3a"
             ],
             [
              0.8888888888888888,
              "#fdca26"
             ],
             [
              1,
              "#f0f921"
             ]
            ],
            "type": "heatmapgl"
           }
          ],
          "histogram": [
           {
            "marker": {
             "pattern": {
              "fillmode": "overlay",
              "size": 10,
              "solidity": 0.2
             }
            },
            "type": "histogram"
           }
          ],
          "histogram2d": [
           {
            "colorbar": {
             "outlinewidth": 0,
             "ticks": ""
            },
            "colorscale": [
             [
              0,
              "#0d0887"
             ],
             [
              0.1111111111111111,
              "#46039f"
             ],
             [
              0.2222222222222222,
              "#7201a8"
             ],
             [
              0.3333333333333333,
              "#9c179e"
             ],
             [
              0.4444444444444444,
              "#bd3786"
             ],
             [
              0.5555555555555556,
              "#d8576b"
             ],
             [
              0.6666666666666666,
              "#ed7953"
             ],
             [
              0.7777777777777778,
              "#fb9f3a"
             ],
             [
              0.8888888888888888,
              "#fdca26"
             ],
             [
              1,
              "#f0f921"
             ]
            ],
            "type": "histogram2d"
           }
          ],
          "histogram2dcontour": [
           {
            "colorbar": {
             "outlinewidth": 0,
             "ticks": ""
            },
            "colorscale": [
             [
              0,
              "#0d0887"
             ],
             [
              0.1111111111111111,
              "#46039f"
             ],
             [
              0.2222222222222222,
              "#7201a8"
             ],
             [
              0.3333333333333333,
              "#9c179e"
             ],
             [
              0.4444444444444444,
              "#bd3786"
             ],
             [
              0.5555555555555556,
              "#d8576b"
             ],
             [
              0.6666666666666666,
              "#ed7953"
             ],
             [
              0.7777777777777778,
              "#fb9f3a"
             ],
             [
              0.8888888888888888,
              "#fdca26"
             ],
             [
              1,
              "#f0f921"
             ]
            ],
            "type": "histogram2dcontour"
           }
          ],
          "mesh3d": [
           {
            "colorbar": {
             "outlinewidth": 0,
             "ticks": ""
            },
            "type": "mesh3d"
           }
          ],
          "parcoords": [
           {
            "line": {
             "colorbar": {
              "outlinewidth": 0,
              "ticks": ""
             }
            },
            "type": "parcoords"
           }
          ],
          "pie": [
           {
            "automargin": true,
            "type": "pie"
           }
          ],
          "scatter": [
           {
            "fillpattern": {
             "fillmode": "overlay",
             "size": 10,
             "solidity": 0.2
            },
            "type": "scatter"
           }
          ],
          "scatter3d": [
           {
            "line": {
             "colorbar": {
              "outlinewidth": 0,
              "ticks": ""
             }
            },
            "marker": {
             "colorbar": {
              "outlinewidth": 0,
              "ticks": ""
             }
            },
            "type": "scatter3d"
           }
          ],
          "scattercarpet": [
           {
            "marker": {
             "colorbar": {
              "outlinewidth": 0,
              "ticks": ""
             }
            },
            "type": "scattercarpet"
           }
          ],
          "scattergeo": [
           {
            "marker": {
             "colorbar": {
              "outlinewidth": 0,
              "ticks": ""
             }
            },
            "type": "scattergeo"
           }
          ],
          "scattergl": [
           {
            "marker": {
             "colorbar": {
              "outlinewidth": 0,
              "ticks": ""
             }
            },
            "type": "scattergl"
           }
          ],
          "scattermapbox": [
           {
            "marker": {
             "colorbar": {
              "outlinewidth": 0,
              "ticks": ""
             }
            },
            "type": "scattermapbox"
           }
          ],
          "scatterpolar": [
           {
            "marker": {
             "colorbar": {
              "outlinewidth": 0,
              "ticks": ""
             }
            },
            "type": "scatterpolar"
           }
          ],
          "scatterpolargl": [
           {
            "marker": {
             "colorbar": {
              "outlinewidth": 0,
              "ticks": ""
             }
            },
            "type": "scatterpolargl"
           }
          ],
          "scatterternary": [
           {
            "marker": {
             "colorbar": {
              "outlinewidth": 0,
              "ticks": ""
             }
            },
            "type": "scatterternary"
           }
          ],
          "surface": [
           {
            "colorbar": {
             "outlinewidth": 0,
             "ticks": ""
            },
            "colorscale": [
             [
              0,
              "#0d0887"
             ],
             [
              0.1111111111111111,
              "#46039f"
             ],
             [
              0.2222222222222222,
              "#7201a8"
             ],
             [
              0.3333333333333333,
              "#9c179e"
             ],
             [
              0.4444444444444444,
              "#bd3786"
             ],
             [
              0.5555555555555556,
              "#d8576b"
             ],
             [
              0.6666666666666666,
              "#ed7953"
             ],
             [
              0.7777777777777778,
              "#fb9f3a"
             ],
             [
              0.8888888888888888,
              "#fdca26"
             ],
             [
              1,
              "#f0f921"
             ]
            ],
            "type": "surface"
           }
          ],
          "table": [
           {
            "cells": {
             "fill": {
              "color": "#EBF0F8"
             },
             "line": {
              "color": "white"
             }
            },
            "header": {
             "fill": {
              "color": "#C8D4E3"
             },
             "line": {
              "color": "white"
             }
            },
            "type": "table"
           }
          ]
         },
         "layout": {
          "annotationdefaults": {
           "arrowcolor": "#2a3f5f",
           "arrowhead": 0,
           "arrowwidth": 1
          },
          "autotypenumbers": "strict",
          "coloraxis": {
           "colorbar": {
            "outlinewidth": 0,
            "ticks": ""
           }
          },
          "colorscale": {
           "diverging": [
            [
             0,
             "#8e0152"
            ],
            [
             0.1,
             "#c51b7d"
            ],
            [
             0.2,
             "#de77ae"
            ],
            [
             0.3,
             "#f1b6da"
            ],
            [
             0.4,
             "#fde0ef"
            ],
            [
             0.5,
             "#f7f7f7"
            ],
            [
             0.6,
             "#e6f5d0"
            ],
            [
             0.7,
             "#b8e186"
            ],
            [
             0.8,
             "#7fbc41"
            ],
            [
             0.9,
             "#4d9221"
            ],
            [
             1,
             "#276419"
            ]
           ],
           "sequential": [
            [
             0,
             "#0d0887"
            ],
            [
             0.1111111111111111,
             "#46039f"
            ],
            [
             0.2222222222222222,
             "#7201a8"
            ],
            [
             0.3333333333333333,
             "#9c179e"
            ],
            [
             0.4444444444444444,
             "#bd3786"
            ],
            [
             0.5555555555555556,
             "#d8576b"
            ],
            [
             0.6666666666666666,
             "#ed7953"
            ],
            [
             0.7777777777777778,
             "#fb9f3a"
            ],
            [
             0.8888888888888888,
             "#fdca26"
            ],
            [
             1,
             "#f0f921"
            ]
           ],
           "sequentialminus": [
            [
             0,
             "#0d0887"
            ],
            [
             0.1111111111111111,
             "#46039f"
            ],
            [
             0.2222222222222222,
             "#7201a8"
            ],
            [
             0.3333333333333333,
             "#9c179e"
            ],
            [
             0.4444444444444444,
             "#bd3786"
            ],
            [
             0.5555555555555556,
             "#d8576b"
            ],
            [
             0.6666666666666666,
             "#ed7953"
            ],
            [
             0.7777777777777778,
             "#fb9f3a"
            ],
            [
             0.8888888888888888,
             "#fdca26"
            ],
            [
             1,
             "#f0f921"
            ]
           ]
          },
          "colorway": [
           "#636efa",
           "#EF553B",
           "#00cc96",
           "#ab63fa",
           "#FFA15A",
           "#19d3f3",
           "#FF6692",
           "#B6E880",
           "#FF97FF",
           "#FECB52"
          ],
          "font": {
           "color": "#2a3f5f"
          },
          "geo": {
           "bgcolor": "white",
           "lakecolor": "white",
           "landcolor": "#E5ECF6",
           "showlakes": true,
           "showland": true,
           "subunitcolor": "white"
          },
          "hoverlabel": {
           "align": "left"
          },
          "hovermode": "closest",
          "mapbox": {
           "style": "light"
          },
          "paper_bgcolor": "white",
          "plot_bgcolor": "#E5ECF6",
          "polar": {
           "angularaxis": {
            "gridcolor": "white",
            "linecolor": "white",
            "ticks": ""
           },
           "bgcolor": "#E5ECF6",
           "radialaxis": {
            "gridcolor": "white",
            "linecolor": "white",
            "ticks": ""
           }
          },
          "scene": {
           "xaxis": {
            "backgroundcolor": "#E5ECF6",
            "gridcolor": "white",
            "gridwidth": 2,
            "linecolor": "white",
            "showbackground": true,
            "ticks": "",
            "zerolinecolor": "white"
           },
           "yaxis": {
            "backgroundcolor": "#E5ECF6",
            "gridcolor": "white",
            "gridwidth": 2,
            "linecolor": "white",
            "showbackground": true,
            "ticks": "",
            "zerolinecolor": "white"
           },
           "zaxis": {
            "backgroundcolor": "#E5ECF6",
            "gridcolor": "white",
            "gridwidth": 2,
            "linecolor": "white",
            "showbackground": true,
            "ticks": "",
            "zerolinecolor": "white"
           }
          },
          "shapedefaults": {
           "line": {
            "color": "#2a3f5f"
           }
          },
          "ternary": {
           "aaxis": {
            "gridcolor": "white",
            "linecolor": "white",
            "ticks": ""
           },
           "baxis": {
            "gridcolor": "white",
            "linecolor": "white",
            "ticks": ""
           },
           "bgcolor": "#E5ECF6",
           "caxis": {
            "gridcolor": "white",
            "linecolor": "white",
            "ticks": ""
           }
          },
          "title": {
           "x": 0.05
          },
          "xaxis": {
           "automargin": true,
           "gridcolor": "white",
           "linecolor": "white",
           "ticks": "",
           "title": {
            "standoff": 15
           },
           "zerolinecolor": "white",
           "zerolinewidth": 2
          },
          "yaxis": {
           "automargin": true,
           "gridcolor": "white",
           "linecolor": "white",
           "ticks": "",
           "title": {
            "standoff": 15
           },
           "zerolinecolor": "white",
           "zerolinewidth": 2
          }
         }
        },
        "title": {
         "text": "Gráfico de Dispersão dos Retornos da Estratégia vs. Retornos do S&P 500 Index"
        },
        "xaxis": {
         "title": {
          "text": "Retornos do S&P 500 Index"
         }
        },
        "yaxis": {
         "title": {
          "text": "Retornos da Estratégia"
         }
        }
       }
      }
     },
     "metadata": {},
     "output_type": "display_data"
    }
   ],
   "source": [
    "# \n",
    "fig = go.Figure(data=go.Scatter(\n",
    "    #\n",
    "    x=sp500_index_period_returns,\n",
    "    #\n",
    "    y=average_monthly_results,\n",
    "    #\n",
    "    mode='markers',\n",
    "    name=\"Pontos de Dispersão\"\n",
    "))\n",
    "\n",
    "# Calcula a linha de tendência (regressão linear)\n",
    "slope, intercept = np.polyfit(sp500_index_period_returns, average_monthly_results, 1)  # Retorna o coeficiente angular (slope) e o intercept\n",
    "line = slope * sp500_index_period_returns + intercept  # Equação da linha de tendência\n",
    "\n",
    "# Adiciona a linha de tendência\n",
    "fig.add_trace(go.Scatter(\n",
    "    x= sp500_index_period_returns, \n",
    "    y=line, \n",
    "    mode='lines', \n",
    "    name='Linha de Tendência', \n",
    "    line=dict(color='red', width=2, dash='dash')\n",
    "))\n",
    "\n",
    "# Adiciona títulos e rótulos\n",
    "fig.update_layout(\n",
    "    title=\"Gráfico de Dispersão dos Retornos da Estratégia vs. Retornos do S&P 500 Index\",\n",
    "    xaxis_title=\"Retornos do S&P 500 Index\",\n",
    "    yaxis_title=\"Retornos da Estratégia\"\n",
    ")\n",
    "\n",
    "# Exibe o gráfico\n",
    "fig.show()"
   ]
  },
  {
   "cell_type": "markdown",
   "metadata": {},
   "source": [
    "##### **Gráfico de barras dos Retornos da Estratégia vs. Retornos do S&P 500 Index**"
   ]
  },
  {
   "cell_type": "code",
   "execution_count": 27,
   "metadata": {},
   "outputs": [
    {
     "data": {
      "application/vnd.plotly.v1+json": {
       "config": {
        "plotlyServerURL": "https://plot.ly"
       },
       "data": [
        {
         "name": "Retornos da Média das Previsões",
         "type": "bar",
         "x": [
          "2019-02-22T00:00:00",
          "2019-03-21T00:00:00",
          "2019-04-18T00:00:00",
          "2019-05-17T00:00:00",
          "2019-06-17T00:00:00",
          "2019-07-16T00:00:00",
          "2019-08-13T00:00:00",
          "2019-09-11T00:00:00",
          "2019-10-09T00:00:00",
          "2019-11-06T00:00:00",
          "2019-12-05T00:00:00",
          "2020-01-06T00:00:00",
          "2020-02-04T00:00:00",
          "2020-03-04T00:00:00",
          "2020-04-30T00:00:00",
          "2020-05-29T00:00:00",
          "2020-06-26T00:00:00",
          "2020-07-27T00:00:00",
          "2020-08-24T00:00:00",
          "2020-09-22T00:00:00",
          "2020-10-20T00:00:00",
          "2020-11-17T00:00:00",
          "2020-12-16T00:00:00",
          "2021-01-15T00:00:00",
          "2021-02-16T00:00:00",
          "2021-03-16T00:00:00",
          "2021-04-14T00:00:00",
          "2021-05-12T00:00:00",
          "2021-06-10T00:00:00",
          "2021-07-09T00:00:00",
          "2021-08-06T00:00:00",
          "2021-09-03T00:00:00",
          "2021-10-04T00:00:00",
          "2021-11-01T00:00:00",
          "2021-11-30T00:00:00",
          "2021-12-29T00:00:00",
          "2022-01-27T00:00:00",
          "2022-02-25T00:00:00",
          "2022-03-25T00:00:00",
          "2022-04-25T00:00:00",
          "2022-05-23T00:00:00",
          "2022-06-22T00:00:00",
          "2022-07-21T00:00:00",
          "2022-08-18T00:00:00",
          "2022-09-16T00:00:00",
          "2022-10-14T00:00:00",
          "2022-11-11T00:00:00",
          "2022-12-12T00:00:00",
          "2023-01-11T00:00:00",
          "2023-02-09T00:00:00",
          "2023-03-10T00:00:00",
          "2023-04-10T00:00:00",
          "2023-05-08T00:00:00",
          "2023-06-06T00:00:00",
          "2023-07-06T00:00:00",
          "2023-08-03T00:00:00",
          "2023-08-31T00:00:00",
          "2023-09-29T00:00:00",
          "2023-10-27T00:00:00",
          "2023-11-27T00:00:00",
          "2023-12-26T00:00:00"
         ],
         "y": [
          0,
          5.577002606459757,
          5.178876013206677,
          5.855372346605575,
          5.292025736281285,
          4.676179059008398,
          7.5337557036293035,
          6.311692793635278,
          3.2075523394957193,
          5.470284865014091,
          5.3273300875386225,
          5.360704444778302,
          7.395525275095937,
          1.3488340765401197,
          12.15016578082063,
          11.452912642950313,
          5.792798035493024,
          8.403461410573232,
          7.0973760504257895,
          1.9828093966567792,
          11.712463578599076,
          10.466658344388927,
          3.4897951075350973,
          8.07174187911318,
          10.165904189049439,
          9.835286990454557,
          8.095141362635147,
          2.786259027881886,
          8.262951686549464,
          5.637537802174345,
          4.236624101444635,
          4.9529517024957155,
          2.829940381546569,
          7.429114676389931,
          0.02380181273465798,
          8.525947654612988,
          2.268174438918849,
          4.8809301690847064,
          5.863309191118724,
          5.882548606706828,
          6.478598668390863,
          -1.7973079272116557,
          8.676381494161998,
          10.60464720404058,
          -0.061876824447455736,
          4.641112841899341,
          17.769724239311717,
          9.335147217142104,
          6.848283449481576,
          6.38308724748879,
          -1.0954900123751368,
          7.597723689798504,
          6.288554243820957,
          2.429959513693066,
          4.591508921744941,
          5.1132534154941025,
          1.3648234296103903,
          2.5029441033080233,
          4.364491528355685,
          7.13032669833558,
          7.5372279063229515
         ]
        },
        {
         "name": "Retornos do S&P500 Index",
         "type": "bar",
         "x": [
          "2019-02-22T00:00:00",
          "2019-03-21T00:00:00",
          "2019-04-18T00:00:00",
          "2019-05-17T00:00:00",
          "2019-06-17T00:00:00",
          "2019-07-16T00:00:00",
          "2019-08-13T00:00:00",
          "2019-09-11T00:00:00",
          "2019-10-09T00:00:00",
          "2019-11-06T00:00:00",
          "2019-12-05T00:00:00",
          "2020-01-06T00:00:00",
          "2020-02-04T00:00:00",
          "2020-03-04T00:00:00",
          "2020-04-30T00:00:00",
          "2020-05-29T00:00:00",
          "2020-06-26T00:00:00",
          "2020-07-27T00:00:00",
          "2020-08-24T00:00:00",
          "2020-09-22T00:00:00",
          "2020-10-20T00:00:00",
          "2020-11-17T00:00:00",
          "2020-12-16T00:00:00",
          "2021-01-15T00:00:00",
          "2021-02-16T00:00:00",
          "2021-03-16T00:00:00",
          "2021-04-14T00:00:00",
          "2021-05-12T00:00:00",
          "2021-06-10T00:00:00",
          "2021-07-09T00:00:00",
          "2021-08-06T00:00:00",
          "2021-09-03T00:00:00",
          "2021-10-04T00:00:00",
          "2021-11-01T00:00:00",
          "2021-11-30T00:00:00",
          "2021-12-29T00:00:00",
          "2022-01-27T00:00:00",
          "2022-02-25T00:00:00",
          "2022-03-25T00:00:00",
          "2022-04-25T00:00:00",
          "2022-05-23T00:00:00",
          "2022-06-22T00:00:00",
          "2022-07-21T00:00:00",
          "2022-08-18T00:00:00",
          "2022-09-16T00:00:00",
          "2022-10-14T00:00:00",
          "2022-11-11T00:00:00",
          "2022-12-12T00:00:00",
          "2023-01-11T00:00:00",
          "2023-02-09T00:00:00",
          "2023-03-10T00:00:00",
          "2023-04-10T00:00:00",
          "2023-05-08T00:00:00",
          "2023-06-06T00:00:00",
          "2023-07-06T00:00:00",
          "2023-08-03T00:00:00",
          "2023-08-31T00:00:00",
          "2023-09-29T00:00:00",
          "2023-10-27T00:00:00",
          "2023-11-27T00:00:00",
          "2023-12-26T00:00:00"
         ],
         "y": [
          2.203167016955355,
          3.6570784839232706,
          -1.6797947266550932,
          1.7257253784573794,
          2.9145291085460574,
          -1.9659712631527295,
          5.490688600501024,
          -3.04191518633287,
          4.611032041784017,
          1.0398942165059932,
          3.1406565876359553,
          1.8489365969256006,
          -6.330832403896731,
          -20.214003817031237,
          14.19945444360034,
          7.274674396387298,
          -1.5394079670934353,
          5.918786865844358,
          6.403662603856873,
          -3.7893702514698737,
          6.175583484835031,
          4.93976209812391,
          3.6702597340330865,
          1.2220595127124094,
          3.458410389814939,
          0.795031389352416,
          3.718026059188602,
          -2.608525991678831,
          3.0338779688359843,
          2.8343549565653663,
          1.176507276972257,
          2.2989996432413284,
          -4.9796598819998525,
          5.983211666659955,
          -1.3840691721496063,
          6.0198057834731165,
          -9.941365851047877,
          -1.070734333560089,
          3.79366153760596,
          -6.3008040684506605,
          -4.945207488338616,
          -4.716660925509215,
          5.215506888071703,
          7.817098735670681,
          -8.77279634602826,
          -8.472832615327256,
          8.216976165956384,
          0.8382247030080929,
          -1.2526929710451613,
          2.438660283843375,
          -5.757838509764697,
          6.363829009450829,
          0.7076533296937205,
          3.9200492973762526,
          3.320226644107447,
          2.3131418487960893,
          0.6595036927254397,
          -5.174368068880059,
          -4.069676452953056,
          8.80686598444981,
          4.71402053914846
         ]
        }
       ],
       "layout": {
        "barmode": "stack",
        "template": {
         "data": {
          "bar": [
           {
            "error_x": {
             "color": "#2a3f5f"
            },
            "error_y": {
             "color": "#2a3f5f"
            },
            "marker": {
             "line": {
              "color": "#E5ECF6",
              "width": 0.5
             },
             "pattern": {
              "fillmode": "overlay",
              "size": 10,
              "solidity": 0.2
             }
            },
            "type": "bar"
           }
          ],
          "barpolar": [
           {
            "marker": {
             "line": {
              "color": "#E5ECF6",
              "width": 0.5
             },
             "pattern": {
              "fillmode": "overlay",
              "size": 10,
              "solidity": 0.2
             }
            },
            "type": "barpolar"
           }
          ],
          "carpet": [
           {
            "aaxis": {
             "endlinecolor": "#2a3f5f",
             "gridcolor": "white",
             "linecolor": "white",
             "minorgridcolor": "white",
             "startlinecolor": "#2a3f5f"
            },
            "baxis": {
             "endlinecolor": "#2a3f5f",
             "gridcolor": "white",
             "linecolor": "white",
             "minorgridcolor": "white",
             "startlinecolor": "#2a3f5f"
            },
            "type": "carpet"
           }
          ],
          "choropleth": [
           {
            "colorbar": {
             "outlinewidth": 0,
             "ticks": ""
            },
            "type": "choropleth"
           }
          ],
          "contour": [
           {
            "colorbar": {
             "outlinewidth": 0,
             "ticks": ""
            },
            "colorscale": [
             [
              0,
              "#0d0887"
             ],
             [
              0.1111111111111111,
              "#46039f"
             ],
             [
              0.2222222222222222,
              "#7201a8"
             ],
             [
              0.3333333333333333,
              "#9c179e"
             ],
             [
              0.4444444444444444,
              "#bd3786"
             ],
             [
              0.5555555555555556,
              "#d8576b"
             ],
             [
              0.6666666666666666,
              "#ed7953"
             ],
             [
              0.7777777777777778,
              "#fb9f3a"
             ],
             [
              0.8888888888888888,
              "#fdca26"
             ],
             [
              1,
              "#f0f921"
             ]
            ],
            "type": "contour"
           }
          ],
          "contourcarpet": [
           {
            "colorbar": {
             "outlinewidth": 0,
             "ticks": ""
            },
            "type": "contourcarpet"
           }
          ],
          "heatmap": [
           {
            "colorbar": {
             "outlinewidth": 0,
             "ticks": ""
            },
            "colorscale": [
             [
              0,
              "#0d0887"
             ],
             [
              0.1111111111111111,
              "#46039f"
             ],
             [
              0.2222222222222222,
              "#7201a8"
             ],
             [
              0.3333333333333333,
              "#9c179e"
             ],
             [
              0.4444444444444444,
              "#bd3786"
             ],
             [
              0.5555555555555556,
              "#d8576b"
             ],
             [
              0.6666666666666666,
              "#ed7953"
             ],
             [
              0.7777777777777778,
              "#fb9f3a"
             ],
             [
              0.8888888888888888,
              "#fdca26"
             ],
             [
              1,
              "#f0f921"
             ]
            ],
            "type": "heatmap"
           }
          ],
          "heatmapgl": [
           {
            "colorbar": {
             "outlinewidth": 0,
             "ticks": ""
            },
            "colorscale": [
             [
              0,
              "#0d0887"
             ],
             [
              0.1111111111111111,
              "#46039f"
             ],
             [
              0.2222222222222222,
              "#7201a8"
             ],
             [
              0.3333333333333333,
              "#9c179e"
             ],
             [
              0.4444444444444444,
              "#bd3786"
             ],
             [
              0.5555555555555556,
              "#d8576b"
             ],
             [
              0.6666666666666666,
              "#ed7953"
             ],
             [
              0.7777777777777778,
              "#fb9f3a"
             ],
             [
              0.8888888888888888,
              "#fdca26"
             ],
             [
              1,
              "#f0f921"
             ]
            ],
            "type": "heatmapgl"
           }
          ],
          "histogram": [
           {
            "marker": {
             "pattern": {
              "fillmode": "overlay",
              "size": 10,
              "solidity": 0.2
             }
            },
            "type": "histogram"
           }
          ],
          "histogram2d": [
           {
            "colorbar": {
             "outlinewidth": 0,
             "ticks": ""
            },
            "colorscale": [
             [
              0,
              "#0d0887"
             ],
             [
              0.1111111111111111,
              "#46039f"
             ],
             [
              0.2222222222222222,
              "#7201a8"
             ],
             [
              0.3333333333333333,
              "#9c179e"
             ],
             [
              0.4444444444444444,
              "#bd3786"
             ],
             [
              0.5555555555555556,
              "#d8576b"
             ],
             [
              0.6666666666666666,
              "#ed7953"
             ],
             [
              0.7777777777777778,
              "#fb9f3a"
             ],
             [
              0.8888888888888888,
              "#fdca26"
             ],
             [
              1,
              "#f0f921"
             ]
            ],
            "type": "histogram2d"
           }
          ],
          "histogram2dcontour": [
           {
            "colorbar": {
             "outlinewidth": 0,
             "ticks": ""
            },
            "colorscale": [
             [
              0,
              "#0d0887"
             ],
             [
              0.1111111111111111,
              "#46039f"
             ],
             [
              0.2222222222222222,
              "#7201a8"
             ],
             [
              0.3333333333333333,
              "#9c179e"
             ],
             [
              0.4444444444444444,
              "#bd3786"
             ],
             [
              0.5555555555555556,
              "#d8576b"
             ],
             [
              0.6666666666666666,
              "#ed7953"
             ],
             [
              0.7777777777777778,
              "#fb9f3a"
             ],
             [
              0.8888888888888888,
              "#fdca26"
             ],
             [
              1,
              "#f0f921"
             ]
            ],
            "type": "histogram2dcontour"
           }
          ],
          "mesh3d": [
           {
            "colorbar": {
             "outlinewidth": 0,
             "ticks": ""
            },
            "type": "mesh3d"
           }
          ],
          "parcoords": [
           {
            "line": {
             "colorbar": {
              "outlinewidth": 0,
              "ticks": ""
             }
            },
            "type": "parcoords"
           }
          ],
          "pie": [
           {
            "automargin": true,
            "type": "pie"
           }
          ],
          "scatter": [
           {
            "fillpattern": {
             "fillmode": "overlay",
             "size": 10,
             "solidity": 0.2
            },
            "type": "scatter"
           }
          ],
          "scatter3d": [
           {
            "line": {
             "colorbar": {
              "outlinewidth": 0,
              "ticks": ""
             }
            },
            "marker": {
             "colorbar": {
              "outlinewidth": 0,
              "ticks": ""
             }
            },
            "type": "scatter3d"
           }
          ],
          "scattercarpet": [
           {
            "marker": {
             "colorbar": {
              "outlinewidth": 0,
              "ticks": ""
             }
            },
            "type": "scattercarpet"
           }
          ],
          "scattergeo": [
           {
            "marker": {
             "colorbar": {
              "outlinewidth": 0,
              "ticks": ""
             }
            },
            "type": "scattergeo"
           }
          ],
          "scattergl": [
           {
            "marker": {
             "colorbar": {
              "outlinewidth": 0,
              "ticks": ""
             }
            },
            "type": "scattergl"
           }
          ],
          "scattermapbox": [
           {
            "marker": {
             "colorbar": {
              "outlinewidth": 0,
              "ticks": ""
             }
            },
            "type": "scattermapbox"
           }
          ],
          "scatterpolar": [
           {
            "marker": {
             "colorbar": {
              "outlinewidth": 0,
              "ticks": ""
             }
            },
            "type": "scatterpolar"
           }
          ],
          "scatterpolargl": [
           {
            "marker": {
             "colorbar": {
              "outlinewidth": 0,
              "ticks": ""
             }
            },
            "type": "scatterpolargl"
           }
          ],
          "scatterternary": [
           {
            "marker": {
             "colorbar": {
              "outlinewidth": 0,
              "ticks": ""
             }
            },
            "type": "scatterternary"
           }
          ],
          "surface": [
           {
            "colorbar": {
             "outlinewidth": 0,
             "ticks": ""
            },
            "colorscale": [
             [
              0,
              "#0d0887"
             ],
             [
              0.1111111111111111,
              "#46039f"
             ],
             [
              0.2222222222222222,
              "#7201a8"
             ],
             [
              0.3333333333333333,
              "#9c179e"
             ],
             [
              0.4444444444444444,
              "#bd3786"
             ],
             [
              0.5555555555555556,
              "#d8576b"
             ],
             [
              0.6666666666666666,
              "#ed7953"
             ],
             [
              0.7777777777777778,
              "#fb9f3a"
             ],
             [
              0.8888888888888888,
              "#fdca26"
             ],
             [
              1,
              "#f0f921"
             ]
            ],
            "type": "surface"
           }
          ],
          "table": [
           {
            "cells": {
             "fill": {
              "color": "#EBF0F8"
             },
             "line": {
              "color": "white"
             }
            },
            "header": {
             "fill": {
              "color": "#C8D4E3"
             },
             "line": {
              "color": "white"
             }
            },
            "type": "table"
           }
          ]
         },
         "layout": {
          "annotationdefaults": {
           "arrowcolor": "#2a3f5f",
           "arrowhead": 0,
           "arrowwidth": 1
          },
          "autotypenumbers": "strict",
          "coloraxis": {
           "colorbar": {
            "outlinewidth": 0,
            "ticks": ""
           }
          },
          "colorscale": {
           "diverging": [
            [
             0,
             "#8e0152"
            ],
            [
             0.1,
             "#c51b7d"
            ],
            [
             0.2,
             "#de77ae"
            ],
            [
             0.3,
             "#f1b6da"
            ],
            [
             0.4,
             "#fde0ef"
            ],
            [
             0.5,
             "#f7f7f7"
            ],
            [
             0.6,
             "#e6f5d0"
            ],
            [
             0.7,
             "#b8e186"
            ],
            [
             0.8,
             "#7fbc41"
            ],
            [
             0.9,
             "#4d9221"
            ],
            [
             1,
             "#276419"
            ]
           ],
           "sequential": [
            [
             0,
             "#0d0887"
            ],
            [
             0.1111111111111111,
             "#46039f"
            ],
            [
             0.2222222222222222,
             "#7201a8"
            ],
            [
             0.3333333333333333,
             "#9c179e"
            ],
            [
             0.4444444444444444,
             "#bd3786"
            ],
            [
             0.5555555555555556,
             "#d8576b"
            ],
            [
             0.6666666666666666,
             "#ed7953"
            ],
            [
             0.7777777777777778,
             "#fb9f3a"
            ],
            [
             0.8888888888888888,
             "#fdca26"
            ],
            [
             1,
             "#f0f921"
            ]
           ],
           "sequentialminus": [
            [
             0,
             "#0d0887"
            ],
            [
             0.1111111111111111,
             "#46039f"
            ],
            [
             0.2222222222222222,
             "#7201a8"
            ],
            [
             0.3333333333333333,
             "#9c179e"
            ],
            [
             0.4444444444444444,
             "#bd3786"
            ],
            [
             0.5555555555555556,
             "#d8576b"
            ],
            [
             0.6666666666666666,
             "#ed7953"
            ],
            [
             0.7777777777777778,
             "#fb9f3a"
            ],
            [
             0.8888888888888888,
             "#fdca26"
            ],
            [
             1,
             "#f0f921"
            ]
           ]
          },
          "colorway": [
           "#636efa",
           "#EF553B",
           "#00cc96",
           "#ab63fa",
           "#FFA15A",
           "#19d3f3",
           "#FF6692",
           "#B6E880",
           "#FF97FF",
           "#FECB52"
          ],
          "font": {
           "color": "#2a3f5f"
          },
          "geo": {
           "bgcolor": "white",
           "lakecolor": "white",
           "landcolor": "#E5ECF6",
           "showlakes": true,
           "showland": true,
           "subunitcolor": "white"
          },
          "hoverlabel": {
           "align": "left"
          },
          "hovermode": "closest",
          "mapbox": {
           "style": "light"
          },
          "paper_bgcolor": "white",
          "plot_bgcolor": "#E5ECF6",
          "polar": {
           "angularaxis": {
            "gridcolor": "white",
            "linecolor": "white",
            "ticks": ""
           },
           "bgcolor": "#E5ECF6",
           "radialaxis": {
            "gridcolor": "white",
            "linecolor": "white",
            "ticks": ""
           }
          },
          "scene": {
           "xaxis": {
            "backgroundcolor": "#E5ECF6",
            "gridcolor": "white",
            "gridwidth": 2,
            "linecolor": "white",
            "showbackground": true,
            "ticks": "",
            "zerolinecolor": "white"
           },
           "yaxis": {
            "backgroundcolor": "#E5ECF6",
            "gridcolor": "white",
            "gridwidth": 2,
            "linecolor": "white",
            "showbackground": true,
            "ticks": "",
            "zerolinecolor": "white"
           },
           "zaxis": {
            "backgroundcolor": "#E5ECF6",
            "gridcolor": "white",
            "gridwidth": 2,
            "linecolor": "white",
            "showbackground": true,
            "ticks": "",
            "zerolinecolor": "white"
           }
          },
          "shapedefaults": {
           "line": {
            "color": "#2a3f5f"
           }
          },
          "ternary": {
           "aaxis": {
            "gridcolor": "white",
            "linecolor": "white",
            "ticks": ""
           },
           "baxis": {
            "gridcolor": "white",
            "linecolor": "white",
            "ticks": ""
           },
           "bgcolor": "#E5ECF6",
           "caxis": {
            "gridcolor": "white",
            "linecolor": "white",
            "ticks": ""
           }
          },
          "title": {
           "x": 0.05
          },
          "xaxis": {
           "automargin": true,
           "gridcolor": "white",
           "linecolor": "white",
           "ticks": "",
           "title": {
            "standoff": 15
           },
           "zerolinecolor": "white",
           "zerolinewidth": 2
          },
          "yaxis": {
           "automargin": true,
           "gridcolor": "white",
           "linecolor": "white",
           "ticks": "",
           "title": {
            "standoff": 15
           },
           "zerolinecolor": "white",
           "zerolinewidth": 2
          }
         }
        },
        "title": {
         "text": "Retornos da Estratégia vs. Retornos do S&P 500 Index"
        },
        "xaxis": {
         "title": {
          "text": "Períodos"
         }
        },
        "yaxis": {
         "title": {
          "text": "Retornos"
         }
        }
       }
      }
     },
     "metadata": {},
     "output_type": "display_data"
    }
   ],
   "source": [
    "import plotly.graph_objects as go\n",
    "\n",
    "# Dados de exemplo\n",
    "x_values = average_monthly_results.index\n",
    "y_values_1 = average_monthly_results\n",
    "y_values_2 = sp500_index_period_returns\n",
    "\n",
    "# Criação das barras empilhadas\n",
    "fig = go.Figure()\n",
    "\n",
    "# Primeira barra (base)\n",
    "fig.add_trace(go.Bar(\n",
    "    x=x_values,\n",
    "    y=y_values_1,\n",
    "    name=average_monthly_results.name\n",
    "))\n",
    "\n",
    "# Segunda barra (sobreposta na anterior)\n",
    "fig.add_trace(go.Bar(\n",
    "    x=x_values,\n",
    "    y=y_values_2,\n",
    "    name=sp500_index_period_returns.name\n",
    "))\n",
    "\n",
    "# Configuração do layout para barras empilhadas\n",
    "fig.update_layout(\n",
    "    barmode='stack',\n",
    "    title='Retornos da Estratégia vs. Retornos do S&P 500 Index',\n",
    "    xaxis_title='Períodos',\n",
    "    yaxis_title='Retornos'\n",
    ")\n",
    "\n",
    "# Exibe o gráfico\n",
    "fig.show()\n"
   ]
  },
  {
   "cell_type": "markdown",
   "metadata": {},
   "source": [
    "##### **"
   ]
  },
  {
   "cell_type": "code",
   "execution_count": 46,
   "metadata": {},
   "outputs": [
    {
     "data": {
      "application/vnd.plotly.v1+json": {
       "config": {
        "plotlyServerURL": "https://plot.ly"
       },
       "data": [
        {
         "histnorm": "probability",
         "name": "Histograma dos Retornos",
         "nbinsx": 30,
         "opacity": 0.75,
         "type": "histogram",
         "x": [
          0,
          5.577002606459757,
          5.178876013206677,
          5.855372346605575,
          5.292025736281285,
          4.676179059008398,
          7.5337557036293035,
          6.311692793635278,
          3.2075523394957193,
          5.470284865014091,
          5.3273300875386225,
          5.360704444778302,
          7.395525275095937,
          1.3488340765401197,
          12.15016578082063,
          11.452912642950313,
          5.792798035493024,
          8.403461410573232,
          7.0973760504257895,
          1.9828093966567792,
          11.712463578599076,
          10.466658344388927,
          3.4897951075350973,
          8.07174187911318,
          10.165904189049439,
          9.835286990454557,
          8.095141362635147,
          2.786259027881886,
          8.262951686549464,
          5.637537802174345,
          4.236624101444635,
          4.9529517024957155,
          2.829940381546569,
          7.429114676389931,
          0.02380181273465798,
          8.525947654612988,
          2.268174438918849,
          4.8809301690847064,
          5.863309191118724,
          5.882548606706828,
          6.478598668390863,
          -1.7973079272116557,
          8.676381494161998,
          10.60464720404058,
          -0.061876824447455736,
          4.641112841899341,
          17.769724239311717,
          9.335147217142104,
          6.848283449481576,
          6.38308724748879,
          -1.0954900123751368,
          7.597723689798504,
          6.288554243820957,
          2.429959513693066,
          4.591508921744941,
          5.1132534154941025,
          1.3648234296103903,
          2.5029441033080233,
          4.364491528355685,
          7.13032669833558,
          7.5372279063229515
         ]
        },
        {
         "line": {
          "color": "red",
          "width": 2
         },
         "mode": "lines",
         "name": "Curva Normal Ajustada",
         "type": "scatter",
         "x": [
          -1.7973079272116557,
          -1.777721308426347,
          -1.7581346896410384,
          -1.7385480708557297,
          -1.7189614520704208,
          -1.6993748332851122,
          -1.6797882144998035,
          -1.6602015957144949,
          -1.6406149769291862,
          -1.6210283581438776,
          -1.601441739358569,
          -1.5818551205732603,
          -1.5622685017879516,
          -1.542681883002643,
          -1.523095264217334,
          -1.5035086454320254,
          -1.4839220266467168,
          -1.4643354078614081,
          -1.4447487890760995,
          -1.4251621702907906,
          -1.405575551505482,
          -1.3859889327201733,
          -1.3664023139348647,
          -1.346815695149556,
          -1.3272290763642474,
          -1.3076424575789387,
          -1.28805583879363,
          -1.2684692200083214,
          -1.2488826012230128,
          -1.229295982437704,
          -1.2097093636523952,
          -1.1901227448670866,
          -1.170536126081778,
          -1.1509495072964693,
          -1.1313628885111606,
          -1.1117762697258518,
          -1.092189650940543,
          -1.0726030321552344,
          -1.0530164133699258,
          -1.0334297945846171,
          -1.0138431757993085,
          -0.9942565570139998,
          -0.9746699382286912,
          -0.9550833194433824,
          -0.9354967006580738,
          -0.9159100818727651,
          -0.8963234630874564,
          -0.8767368443021477,
          -0.8571502255168391,
          -0.8375636067315304,
          -0.8179769879462218,
          -0.798390369160913,
          -0.7788037503756045,
          -0.7592171315902956,
          -0.7396305128049869,
          -0.7200438940196783,
          -0.7004572752343696,
          -0.680870656449061,
          -0.6612840376637523,
          -0.6416974188784437,
          -0.6221108000931348,
          -0.6025241813078261,
          -0.5829375625225175,
          -0.5633509437372088,
          -0.5437643249519002,
          -0.5241777061665915,
          -0.5045910873812829,
          -0.48500446859597424,
          -0.4654178498106656,
          -0.4458312310253567,
          -0.42624461224004806,
          -0.4066579934547394,
          -0.38707137466943076,
          -0.3674847558841221,
          -0.34789813709881345,
          -0.3283115183135048,
          -0.30872489952819593,
          -0.2891382807428873,
          -0.2695516619575786,
          -0.24996504317226997,
          -0.23037842438696132,
          -0.21079180560165267,
          -0.19120518681634402,
          -0.17161856803103537,
          -0.15203194924572672,
          -0.13244533046041784,
          -0.11285871167510919,
          -0.09327209288980054,
          -0.07368547410449189,
          -0.05409885531918324,
          -0.034512236533874585,
          -0.014925617748565934,
          0.00466100103674294,
          0.02424761982205159,
          0.04383423860736024,
          0.0634208573926689,
          0.08300747617797755,
          0.1025940949632862,
          0.12218071374859485,
          0.1417673325339035,
          0.16135395131921215,
          0.18094057010452103,
          0.20052718888982968,
          0.2201138076751381,
          0.23970042646044676,
          0.25928704524575585,
          0.2788736640310645,
          0.29846028281637316,
          0.3180469016016818,
          0.33763352038699046,
          0.3572201391722991,
          0.37680675795760776,
          0.3963933767429164,
          0.41597999552822507,
          0.4355666143135337,
          0.45515323309884237,
          0.474739851884151,
          0.49432647066945967,
          0.5139130894547683,
          0.533499708240077,
          0.5530863270253861,
          0.5726729458106947,
          0.5922595645960034,
          0.611846183381312,
          0.6314328021666207,
          0.6510194209519293,
          0.670606039737238,
          0.6901926585225466,
          0.7097792773078553,
          0.7293658960931639,
          0.7489525148784726,
          0.7685391336637812,
          0.7881257524490899,
          0.8077123712343985,
          0.8272989900197072,
          0.8468856088050158,
          0.8664722275903245,
          0.8860588463756336,
          0.9056454651609422,
          0.9252320839462509,
          0.9448187027315595,
          0.9644053215168682,
          0.9839919403021768,
          1.0035785590874855,
          1.0231651778727942,
          1.0427517966581028,
          1.0623384154434115,
          1.08192503422872,
          1.1015116530140288,
          1.1210982717993374,
          1.140684890584646,
          1.1602715093699547,
          1.1798581281552638,
          1.1994447469405725,
          1.219031365725881,
          1.2386179845111898,
          1.2582046032964984,
          1.277791222081807,
          1.2973778408671157,
          1.3169644596524244,
          1.336551078437733,
          1.3561376972230417,
          1.3757243160083503,
          1.395310934793659,
          1.4148975535789676,
          1.4344841723642763,
          1.454070791149585,
          1.4736574099348936,
          1.4932440287202022,
          1.5128306475055113,
          1.53241726629082,
          1.5520038850761286,
          1.5715905038614373,
          1.591177122646746,
          1.6107637414320546,
          1.6303503602173632,
          1.6499369790026719,
          1.6695235977879805,
          1.6891102165732892,
          1.7086968353585978,
          1.7282834541439065,
          1.7478700729292151,
          1.7674566917145238,
          1.7870433104998324,
          1.8066299292851415,
          1.8262165480704502,
          1.8458031668557588,
          1.8653897856410675,
          1.8849764044263762,
          1.9045630232116848,
          1.9241496419969935,
          1.943736260782302,
          1.9633228795676108,
          1.9829094983529194,
          2.002496117138228,
          2.0220827359235365,
          2.041669354708845,
          2.061255973494154,
          2.0808425922794624,
          2.100429211064771,
          2.1200158298500797,
          2.1396024486353893,
          2.159189067420698,
          2.1787756862060066,
          2.1983623049913152,
          2.217948923776623,
          2.2375355425619317,
          2.2571221613472403,
          2.276708780132549,
          2.2962953989178585,
          2.315882017703167,
          2.335468636488476,
          2.3550552552737845,
          2.374641874059093,
          2.3942284928444018,
          2.4138151116297104,
          2.433401730415019,
          2.4529883492003277,
          2.4725749679856364,
          2.492161586770945,
          2.5117482055562537,
          2.5313348243415623,
          2.550921443126871,
          2.5705080619121796,
          2.5900946806974883,
          2.609681299482797,
          2.6292679182681056,
          2.6488545370534142,
          2.668441155838723,
          2.6880277746240315,
          2.70761439340934,
          2.727201012194649,
          2.7467876309799575,
          2.766374249765266,
          2.785960868550575,
          2.8055474873358834,
          2.825134106121192,
          2.8447207249065007,
          2.8643073436918094,
          2.883893962477118,
          2.9034805812624276,
          2.9230672000477362,
          2.942653818833045,
          2.9622404376183535,
          2.981827056403662,
          3.001413675188971,
          3.0210002939742795,
          3.040586912759588,
          3.060173531544897,
          3.0797601503302054,
          3.099346769115514,
          3.1189333879008228,
          3.1385200066861314,
          3.15810662547144,
          3.1776932442567487,
          3.1972798630420574,
          3.216866481827366,
          3.2364531006126747,
          3.2560397193979833,
          3.275626338183292,
          3.2952129569686006,
          3.3147995757539093,
          3.334386194539218,
          3.3539728133245266,
          3.373559432109835,
          3.393146050895144,
          3.4127326696804525,
          3.432319288465761,
          3.45190590725107,
          3.4714925260363785,
          3.491079144821687,
          3.510665763606996,
          3.5302523823923044,
          3.549839001177614,
          3.5694256199629226,
          3.5890122387482313,
          3.60859885753354,
          3.6281854763188486,
          3.6477720951041572,
          3.667358713889466,
          3.6869453326747745,
          3.706531951460083,
          3.726118570245392,
          3.7457051890307005,
          3.765291807816009,
          3.784878426601318,
          3.8044650453866264,
          3.824051664171935,
          3.8436382829572437,
          3.8632249017425524,
          3.882811520527861,
          3.9023981393131697,
          3.9219847580984784,
          3.941571376883787,
          3.9611579956690957,
          3.9807446144544043,
          4.000331233239713,
          4.019917852025022,
          4.03950447081033,
          4.059091089595639,
          4.078677708380948,
          4.098264327166256,
          4.117850945951565,
          4.1374375647368735,
          4.157024183522183,
          4.176610802307492,
          4.1961974210928,
          4.215784039878109,
          4.235370658663418,
          4.254957277448726,
          4.274543896234035,
          4.294130515019344,
          4.313717133804652,
          4.333303752589961,
          4.35289037137527,
          4.372476990160578,
          4.392063608945887,
          4.4116502277311955,
          4.431236846516504,
          4.450823465301813,
          4.4704100840871215,
          4.48999670287243,
          4.509583321657739,
          4.529169940443047,
          4.548756559228356,
          4.568343178013665,
          4.587929796798973,
          4.607516415584282,
          4.627103034369591,
          4.646689653154899,
          4.666276271940208,
          4.685862890725517,
          4.705449509510825,
          4.725036128296134,
          4.744622747081443,
          4.764209365866751,
          4.78379598465206,
          4.8033826034373694,
          4.822969222222678,
          4.842555841007987,
          4.862142459793295,
          4.881729078578604,
          4.901315697363913,
          4.920902316149221,
          4.94048893493453,
          4.960075553719839,
          4.979662172505147,
          4.999248791290456,
          5.018835410075765,
          5.038422028861073,
          5.058008647646382,
          5.077595266431691,
          5.097181885216999,
          5.116768504002308,
          5.1363551227876165,
          5.155941741572925,
          5.175528360358234,
          5.1951149791435425,
          5.214701597928851,
          5.23428821671416,
          5.253874835499468,
          5.273461454284777,
          5.293048073070086,
          5.312634691855394,
          5.332221310640703,
          5.351807929426012,
          5.37139454821132,
          5.390981166996629,
          5.4105677857819385,
          5.430154404567247,
          5.449741023352556,
          5.4693276421378645,
          5.488914260923173,
          5.508500879708482,
          5.52808749849379,
          5.547674117279099,
          5.567260736064408,
          5.586847354849716,
          5.606433973635025,
          5.626020592420334,
          5.645607211205642,
          5.665193829990951,
          5.68478044877626,
          5.704367067561568,
          5.723953686346877,
          5.743540305132186,
          5.763126923917494,
          5.782713542702803,
          5.802300161488112,
          5.82188678027342,
          5.841473399058729,
          5.8610600178440375,
          5.880646636629346,
          5.900233255414655,
          5.9198198741999635,
          5.939406492985272,
          5.958993111770581,
          5.978579730555889,
          5.998166349341198,
          6.017752968126507,
          6.037339586911815,
          6.056926205697125,
          6.076512824482434,
          6.096099443267742,
          6.115686062053051,
          6.1352726808383595,
          6.154859299623668,
          6.174445918408977,
          6.1940325371942855,
          6.213619155979594,
          6.233205774764902,
          6.252792393550211,
          6.272379012335519,
          6.291965631120829,
          6.3115522499061365,
          6.331138868691446,
          6.350725487476754,
          6.370312106262063,
          6.389898725047373,
          6.409485343832681,
          6.42907196261799,
          6.448658581403298,
          6.4682452001886075,
          6.487831818973915,
          6.507418437759225,
          6.527005056544533,
          6.546591675329842,
          6.56617829411515,
          6.585764912900459,
          6.605351531685767,
          6.624938150471077,
          6.6445247692563845,
          6.664111388041694,
          6.683698006827002,
          6.703284625612311,
          6.722871244397619,
          6.742457863182929,
          6.762044481968236,
          6.781631100753546,
          6.801217719538854,
          6.820804338324163,
          6.840390957109471,
          6.8599775758947805,
          6.879564194680088,
          6.899150813465398,
          6.918737432250706,
          6.938324051036015,
          6.957910669821323,
          6.977497288606632,
          6.997083907391942,
          7.01667052617725,
          7.036257144962559,
          7.055843763747867,
          7.075430382533177,
          7.095017001318484,
          7.114603620103794,
          7.134190238889102,
          7.153776857674411,
          7.173363476459719,
          7.1929500952450285,
          7.212536714030336,
          7.232123332815646,
          7.2517099516009536,
          7.271296570386263,
          7.290883189171571,
          7.31046980795688,
          7.330056426742188,
          7.349643045527498,
          7.3692296643128055,
          7.388816283098115,
          7.408402901883423,
          7.427989520668732,
          7.44757613945404,
          7.46716275823935,
          7.486749377024657,
          7.506335995809967,
          7.525922614595275,
          7.545509233380584,
          7.565095852165892,
          7.5846824709512015,
          7.604269089736511,
          7.623855708521819,
          7.643442327307128,
          7.663028946092436,
          7.682615564877746,
          7.702202183663053,
          7.721788802448363,
          7.741375421233671,
          7.76096204001898,
          7.780548658804288,
          7.800135277589598,
          7.819721896374905,
          7.839308515160215,
          7.858895133945523,
          7.878481752730832,
          7.89806837151614,
          7.9176549903014495,
          7.937241609086757,
          7.956828227872067,
          7.9764148466573745,
          7.996001465442684,
          8.015588084227993,
          8.035174703013302,
          8.05476132179861,
          8.07434794058392,
          8.093934559369227,
          8.113521178154537,
          8.133107796939845,
          8.152694415725154,
          8.172281034510462,
          8.191867653295771,
          8.21145427208108,
          8.231040890866389,
          8.250627509651698,
          8.270214128437006,
          8.289800747222316,
          8.309387366007623,
          8.328973984792933,
          8.34856060357824,
          8.36814722236355,
          8.387733841148858,
          8.407320459934168,
          8.426907078719475,
          8.446493697504785,
          8.466080316290093,
          8.485666935075402,
          8.50525355386071,
          8.52484017264602,
          8.544426791431327,
          8.564013410216637,
          8.583600029001945,
          8.603186647787254,
          8.622773266572562,
          8.642359885357871,
          8.66194650414318,
          8.681533122928489,
          8.701119741713796,
          8.720706360499106,
          8.740292979284414,
          8.759879598069723,
          8.779466216855031,
          8.79905283564034,
          8.818639454425648,
          8.838226073210958,
          8.857812691996266,
          8.877399310781575,
          8.896985929566885,
          8.916572548352192,
          8.936159167137502,
          8.95574578592281,
          8.97533240470812,
          8.994919023493427,
          9.014505642278737,
          9.034092261064044,
          9.053678879849354,
          9.073265498634662,
          9.092852117419971,
          9.112438736205279,
          9.132025354990589,
          9.151611973775896,
          9.171198592561206,
          9.190785211346514,
          9.210371830131823,
          9.229958448917131,
          9.24954506770244,
          9.269131686487748,
          9.288718305273058,
          9.308304924058366,
          9.327891542843675,
          9.347478161628983,
          9.367064780414292,
          9.3866513991996,
          9.40623801798491,
          9.425824636770217,
          9.445411255555527,
          9.464997874340835,
          9.484584493126144,
          9.504171111911454,
          9.523757730696762,
          9.543344349482071,
          9.562930968267379,
          9.582517587052688,
          9.602104205837996,
          9.621690824623306,
          9.641277443408613,
          9.660864062193923,
          9.68045068097923,
          9.70003729976454,
          9.719623918549848,
          9.739210537335158,
          9.758797156120465,
          9.778383774905775,
          9.797970393691083,
          9.817557012476392,
          9.8371436312617,
          9.85673025004701,
          9.876316868832317,
          9.895903487617627,
          9.915490106402935,
          9.935076725188244,
          9.954663343973552,
          9.974249962758861,
          9.99383658154417,
          10.013423200329479,
          10.033009819114787,
          10.052596437900096,
          10.072183056685404,
          10.091769675470713,
          10.111356294256023,
          10.13094291304133,
          10.15052953182664,
          10.170116150611948,
          10.189702769397257,
          10.209289388182565,
          10.228876006967875,
          10.248462625753183,
          10.268049244538492,
          10.2876358633238,
          10.30722248210911,
          10.326809100894417,
          10.346395719679727,
          10.365982338465034,
          10.385568957250344,
          10.405155576035652,
          10.424742194820961,
          10.444328813606269,
          10.463915432391579,
          10.483502051176886,
          10.503088669962196,
          10.522675288747504,
          10.542261907532813,
          10.561848526318121,
          10.58143514510343,
          10.601021763888738,
          10.620608382674048,
          10.640195001459356,
          10.659781620244665,
          10.679368239029973,
          10.698954857815282,
          10.71854147660059,
          10.7381280953859,
          10.75771471417121,
          10.777301332956517,
          10.796887951741827,
          10.816474570527134,
          10.836061189312444,
          10.855647808097752,
          10.875234426883061,
          10.894821045668369,
          10.914407664453678,
          10.933994283238986,
          10.953580902024296,
          10.973167520809604,
          10.992754139594913,
          11.01234075838022,
          11.03192737716553,
          11.051513995950838,
          11.071100614736148,
          11.090687233521455,
          11.110273852306765,
          11.129860471092073,
          11.149447089877382,
          11.16903370866269,
          11.188620327448,
          11.208206946233307,
          11.227793565018617,
          11.247380183803925,
          11.266966802589234,
          11.286553421374542,
          11.306140040159852,
          11.32572665894516,
          11.345313277730469,
          11.364899896515777,
          11.384486515301086,
          11.404073134086396,
          11.423659752871703,
          11.443246371657013,
          11.46283299044232,
          11.48241960922763,
          11.502006228012938,
          11.521592846798248,
          11.541179465583555,
          11.560766084368865,
          11.580352703154173,
          11.599939321939482,
          11.61952594072479,
          11.6391125595101,
          11.658699178295407,
          11.678285797080717,
          11.697872415866025,
          11.717459034651334,
          11.737045653436642,
          11.756632272221951,
          11.77621889100726,
          11.795805509792569,
          11.815392128577876,
          11.834978747363186,
          11.854565366148494,
          11.874151984933803,
          11.893738603719111,
          11.91332522250442,
          11.932911841289728,
          11.952498460075038,
          11.972085078860346,
          11.991671697645655,
          12.011258316430965,
          12.030844935216273,
          12.050431554001582,
          12.07001817278689,
          12.0896047915722,
          12.109191410357507,
          12.128778029142817,
          12.148364647928124,
          12.167951266713434,
          12.187537885498742,
          12.207124504284051,
          12.226711123069359,
          12.246297741854669,
          12.265884360639976,
          12.285470979425286,
          12.305057598210594,
          12.324644216995903,
          12.344230835781211,
          12.36381745456652,
          12.383404073351828,
          12.402990692137138,
          12.422577310922446,
          12.442163929707755,
          12.461750548493063,
          12.481337167278372,
          12.50092378606368,
          12.52051040484899,
          12.540097023634297,
          12.559683642419607,
          12.579270261204915,
          12.598856879990224,
          12.618443498775534,
          12.638030117560842,
          12.657616736346151,
          12.677203355131459,
          12.696789973916768,
          12.716376592702076,
          12.735963211487386,
          12.755549830272694,
          12.775136449058003,
          12.79472306784331,
          12.81430968662862,
          12.833896305413928,
          12.853482924199238,
          12.873069542984545,
          12.892656161769855,
          12.912242780555163,
          12.931829399340472,
          12.95141601812578,
          12.97100263691109,
          12.990589255696397,
          13.010175874481707,
          13.029762493267015,
          13.049349112052324,
          13.068935730837632,
          13.088522349622941,
          13.10810896840825,
          13.127695587193559,
          13.147282205978867,
          13.166868824764176,
          13.186455443549484,
          13.206042062334793,
          13.225628681120101,
          13.24521529990541,
          13.26480191869072,
          13.284388537476028,
          13.303975156261338,
          13.323561775046645,
          13.343148393831955,
          13.362735012617263,
          13.382321631402572,
          13.40190825018788,
          13.42149486897319,
          13.441081487758497,
          13.460668106543807,
          13.480254725329115,
          13.499841344114424,
          13.519427962899732,
          13.539014581685041,
          13.55860120047035,
          13.578187819255659,
          13.597774438040966,
          13.617361056826276,
          13.636947675611584,
          13.656534294396893,
          13.676120913182201,
          13.69570753196751,
          13.715294150752818,
          13.734880769538128,
          13.754467388323436,
          13.774054007108745,
          13.793640625894053,
          13.813227244679362,
          13.83281386346467,
          13.85240048224998,
          13.871987101035288,
          13.891573719820597,
          13.911160338605907,
          13.930746957391214,
          13.950333576176524,
          13.969920194961832,
          13.989506813747141,
          14.009093432532449,
          14.028680051317759,
          14.048266670103066,
          14.067853288888376,
          14.087439907673684,
          14.107026526458993,
          14.126613145244301,
          14.14619976402961,
          14.165786382814918,
          14.185373001600228,
          14.204959620385537,
          14.224546239170845,
          14.244132857956153,
          14.26371947674146,
          14.283306095526772,
          14.30289271431208,
          14.322479333097387,
          14.342065951882695,
          14.361652570668006,
          14.381239189453314,
          14.400825808238622,
          14.42041242702393,
          14.439999045809241,
          14.459585664594549,
          14.479172283379857,
          14.498758902165164,
          14.518345520950476,
          14.537932139735783,
          14.557518758521091,
          14.577105377306403,
          14.59669199609171,
          14.616278614877018,
          14.635865233662326,
          14.655451852447637,
          14.675038471232945,
          14.694625090018253,
          14.71421170880356,
          14.733798327588872,
          14.75338494637418,
          14.772971565159487,
          14.792558183944795,
          14.812144802730106,
          14.831731421515414,
          14.851318040300722,
          14.87090465908603,
          14.890491277871341,
          14.910077896656649,
          14.929664515441956,
          14.949251134227264,
          14.968837753012576,
          14.988424371797883,
          15.008010990583191,
          15.027597609368499,
          15.04718422815381,
          15.066770846939118,
          15.086357465724426,
          15.105944084509733,
          15.125530703295045,
          15.145117322080353,
          15.16470394086566,
          15.184290559650972,
          15.20387717843628,
          15.223463797221587,
          15.243050416006895,
          15.262637034792206,
          15.282223653577514,
          15.301810272362822,
          15.32139689114813,
          15.34098350993344,
          15.360570128718749,
          15.380156747504056,
          15.399743366289364,
          15.419329985074675,
          15.438916603859983,
          15.458503222645291,
          15.478089841430599,
          15.49767646021591,
          15.517263079001218,
          15.536849697786526,
          15.556436316571833,
          15.576022935357145,
          15.595609554142452,
          15.61519617292776,
          15.634782791713068,
          15.65436941049838,
          15.673956029283687,
          15.693542648068995,
          15.713129266854303,
          15.732715885639614,
          15.752302504424922,
          15.77188912321023,
          15.79147574199554,
          15.811062360780848,
          15.830648979566156,
          15.850235598351464,
          15.869822217136775,
          15.889408835922083,
          15.90899545470739,
          15.928582073492699,
          15.94816869227801,
          15.967755311063318,
          15.987341929848625,
          16.006928548633933,
          16.026515167419245,
          16.046101786204552,
          16.06568840498986,
          16.085275023775168,
          16.10486164256048,
          16.124448261345787,
          16.144034880131095,
          16.163621498916402,
          16.183208117701714,
          16.20279473648702,
          16.22238135527233,
          16.241967974057637,
          16.26155459284295,
          16.281141211628256,
          16.300727830413564,
          16.32031444919887,
          16.339901067984183,
          16.35948768676949,
          16.3790743055548,
          16.39866092434011,
          16.418247543125418,
          16.437834161910725,
          16.457420780696033,
          16.477007399481344,
          16.496594018266652,
          16.51618063705196,
          16.535767255837268,
          16.55535387462258,
          16.574940493407887,
          16.594527112193195,
          16.614113730978502,
          16.633700349763814,
          16.65328696854912,
          16.67287358733443,
          16.692460206119737,
          16.71204682490505,
          16.731633443690356,
          16.751220062475664,
          16.77080668126097,
          16.790393300046283,
          16.80997991883159,
          16.8295665376169,
          16.849153156402206,
          16.868739775187517,
          16.888326393972825,
          16.907913012758133,
          16.92749963154344,
          16.947086250328752,
          16.96667286911406,
          16.986259487899368,
          17.00584610668468,
          17.025432725469987,
          17.045019344255294,
          17.064605963040602,
          17.084192581825913,
          17.10377920061122,
          17.12336581939653,
          17.142952438181837,
          17.162539056967148,
          17.182125675752456,
          17.201712294537764,
          17.22129891332307,
          17.240885532108383,
          17.26047215089369,
          17.280058769679,
          17.299645388464306,
          17.319232007249617,
          17.338818626034925,
          17.358405244820233,
          17.37799186360554,
          17.397578482390852,
          17.41716510117616,
          17.436751719961467,
          17.456338338746775,
          17.475924957532087,
          17.495511576317394,
          17.515098195102702,
          17.53468481388801,
          17.55427143267332,
          17.57385805145863,
          17.593444670243937,
          17.613031289029244,
          17.632617907814556,
          17.652204526599863,
          17.67179114538517,
          17.691377764170483,
          17.71096438295579,
          17.730551001741098,
          17.750137620526406,
          17.769724239311717
         ],
         "y": [
          0.01019744899023427,
          0.010324251084133353,
          0.01045229914434981,
          0.010581600469633353,
          0.010712162329424455,
          0.010843991962565929,
          0.010977096576003409,
          0.011111483343475026,
          0.011247159404190119,
          0.011384131861497388,
          0.011522407781542312,
          0.011661994191914273,
          0.011802898080283253,
          0.011945126393026443,
          0.012088686033844671,
          0.012233583862369099,
          0.012379826692758042,
          0.012527421292284239,
          0.012676374379912628,
          0.012826692624868925,
          0.012978382645198974,
          0.013131451006319192,
          0.01328590421955824,
          0.01344174874068997,
          0.013598990968458126,
          0.013757637243092627,
          0.013917693844817851,
          0.014079166992353015,
          0.014242062841404939,
          0.01440638748315318,
          0.014572146942728124,
          0.014739347177681734,
          0.014907994076451641,
          0.015078093456818471,
          0.01524965106435676,
          0.015422672570879717,
          0.015597163572877971,
          0.01577312958995246,
          0.01595057606324203,
          0.01612950835384551,
          0.016309931741238917,
          0.01649185142168777,
          0.016675272506654956,
          0.01686020002120413,
          0.017046638902399318,
          0.017234593997700536,
          0.01742407006335604,
          0.01761507176279122,
          0.017807603664994634,
          0.018001670242901304,
          0.018197275871773517,
          0.018394424827579657,
          0.018593121285371023,
          0.018793369317657238,
          0.01899517289278028,
          0.01919853587328759,
          0.019403462014304547,
          0.01960995496190653,
          0.019818018251490925,
          0.020027655306149448,
          0.020238869435040958,
          0.020451663831765197,
          0.020666041572737746,
          0.020882005615566444,
          0.021099558797429748,
          0.02131870383345721,
          0.021539443315112497,
          0.021761779708579246,
          0.02198571535315009,
          0.02221125245961929,
          0.022438393108679077,
          0.02266713924932048,
          0.022897492697238318,
          0.02312945513324156,
          0.023363028101668584,
          0.023598213008808287,
          0.02383501112132703,
          0.024073423564702098,
          0.02431345132166165,
          0.024555095230631936,
          0.024798355984191833,
          0.025043234127535237,
          0.025289730056941642,
          0.02553784401825519,
          0.025787576105372797,
          0.026038926258741383,
          0.026291894263865013,
          0.026546479749821883,
          0.026802682187791863,
          0.027060500889594875,
          0.027319935006240366,
          0.02758098352648855,
          0.027843645275423455,
          0.028107918913038384,
          0.028373802932834268,
          0.02864129566043087,
          0.028910395252191867,
          0.029181099693863566,
          0.029453406799228067,
          0.029727314208771144,
          0.030002819388365166,
          0.030279919627967493,
          0.030558612040334863,
          0.030838893559753826,
          0.03112076094078822,
          0.03140421075704327,
          0.03168923939994738,
          0.03197584307755182,
          0.032264017813348436,
          0.03255375944510621,
          0.032845063623726585,
          0.03313792581211849,
          0.03343234128409287,
          0.03372830512327758,
          0.03402581222205279,
          0.03432485728050735,
          0.03462543480541644,
          0.03492753910924105,
          0.03523116430914946,
          0.035536304326061224,
          0.03584295288371412,
          0.03615110350775412,
          0.03646074952484923,
          0.036771884061827055,
          0.03708450004483698,
          0.03739859019853689,
          0.037714147045305,
          0.03803116290447722,
          0.0383496298916103,
          0.038669539917771126,
          0.03899088468885252,
          0.039313655704916,
          0.03963784425956172,
          0.039963441439325974,
          0.0402904381231067,
          0.04061882498161711,
          0.040948592476868016,
          0.04127973086167911,
          0.041612230179219376,
          0.04194608026257719,
          0.04228127073436037,
          0.04261779100632621,
          0.042955630279042416,
          0.043294777541578476,
          0.04363522157122851,
          0.04397695093326546,
          0.04431995398072684,
          0.0446642188542329,
          0.045009733481836664,
          0.04535648557890698,
          0.04570446264804416,
          0.04605365197902881,
          0.046404040648804275,
          0.0467556155214924,
          0.04710836324844357,
          0.047462270268320735,
          0.047817322807217746,
          0.04817350687881269,
          0.048530808284555714,
          0.048889212613892216,
          0.04924870524452129,
          0.04960927134268968,
          0.04997089586352149,
          0.05033356355138394,
          0.050697258940289064,
          0.051061966354331925,
          0.051427669908165226,
          0.05179435350751071,
          0.0521620008497072,
          0.05253059542429591,
          0.05290012051364271,
          0.053270559193597765,
          0.053641894334192704,
          0.05401410860037515,
          0.054387184452781165,
          0.054761104148545445,
          0.0551358497421492,
          0.055511403086306525,
          0.05588774583288845,
          0.05626485943388535,
          0.05664272514240772,
          0.0570213240137251,
          0.05740063690634357,
          0.0577806444831216,
          0.05816132721242444,
          0.05854266536931708,
          0.058924639036795665,
          0.05930722810705762,
          0.05969041228281032,
          0.06007417107861826,
          0.06045848382228902,
          0.060843329656297615,
          0.06122868753924954,
          0.061614536247382216,
          0.06200085437610498,
          0.06238762034157757,
          0.06277481238232678,
          0.0631624085609017,
          0.06355038676556696,
          0.0639387247120341,
          0.06432739994523132,
          0.06471638984111072,
          0.06510567160849365,
          0.06549522229095381,
          0.06588501876873769,
          0.06627503776072273,
          0.06666525582641257,
          0.06705564936796948,
          0.06744619463228389,
          0.06783686771308049,
          0.06822764455306107,
          0.06861850094608381,
          0.06900941253937871,
          0.06940035483579901,
          0.06979130319610832,
          0.07018223284130348,
          0.07057311885497256,
          0.07096393618568786,
          0.07135465964943392,
          0.0717452639320699,
          0.07213572359182609,
          0.07252601306183468,
          0.07291610665269388,
          0.07330597855506563,
          0.07369560284230621,
          0.0740849534731296,
          0.07447400429430326,
          0.0748627290433759,
          0.07525110135143702,
          0.07563909474590771,
          0.07602668265336246,
          0.07641383840238154,
          0.07680053522643362,
          0.07718674626678815,
          0.07757244457545724,
          0.07795760311816635,
          0.07834219477735387,
          0.07872619235519845,
          0.0791095685766745,
          0.07949229609263454,
          0.07987434748291865,
          0.08025569525949004,
          0.08063631186959681,
          0.08101616969895892,
          0.08139524107497996,
          0.08177349826998366,
          0.08215091350447412,
          0.08252745895041948,
          0.0829031067345586,
          0.08327782894172998,
          0.0836515976182226,
          0.08402438477514818,
          0.08439616239183391,
          0.08476690241923576,
          0.08513657678337115,
          0.08550515738877092,
          0.08587261612194959,
          0.0862389248548939,
          0.0866040554485682,
          0.08696797975643718,
          0.08733066962800423,
          0.08769209691236574,
          0.0880522334617801,
          0.08841105113525119,
          0.08876852180212544,
          0.08912461734570201,
          0.08947930966685559,
          0.08983257068767057,
          0.09018437235508689,
          0.090534686644556,
          0.09088348556370686,
          0.09123074115602124,
          0.09157642550451715,
          0.09192051073544064,
          0.09226296902196439,
          0.09260377258789314,
          0.09294289371137465,
          0.09328030472861609,
          0.09361597803760464,
          0.09394988610183215,
          0.0942820014540225,
          0.0946122966998618,
          0.09494074452172988,
          0.0952673176824329,
          0.09559198902893634,
          0.09591473149609732,
          0.09623551811039599,
          0.09655432199366493,
          0.09687111636681593,
          0.09718587455356369,
          0.09749856998414516,
          0.09780917619903452,
          0.09811766685265241,
          0.09842401571706912,
          0.09872819668570075,
          0.09903018377699804,
          0.09932995113812641,
          0.09962747304863726,
          0.09992272392412925,
          0.10021567831989925,
          0.10050631093458189,
          0.10079459661377704,
          0.10108051035366486,
          0.10136402730460711,
          0.10164512277473456,
          0.10192377223351931,
          0.10219995131533162,
          0.1024736358229805,
          0.10274480173123696,
          0.10301342519033996,
          0.10327948252948345,
          0.10354295026028447,
          0.1038038050802314,
          0.10406202387611142,
          0.10431758372741683,
          0.10457046190972923,
          0.10482063589808124,
          0.10506808337029457,
          0.1053127822102941,
          0.10555471051139717,
          0.10579384657957754,
          0.106030168936703,
          0.10626365632374633,
          0.10649428770396867,
          0.10672204226607486,
          0.10694689942733983,
          0.10716883883670564,
          0.10738784037784832,
          0.10760388417221399,
          0.10781695058202352,
          0.10802702021324527,
          0.10823407391853491,
          0.10843809280014237,
          0.10863905821278427,
          0.10883695176648246,
          0.10903175532936696,
          0.10922345103044348,
          0.10941202126232435,
          0.10959744868392289,
          0.10977971622310989,
          0.1099588070793324,
          0.11013470472619372,
          0.11030739291399434,
          0.11047685567223296,
          0.11064307731206759,
          0.11080604242873549,
          0.11096573590393216,
          0.11112214290814827,
          0.11127524890296435,
          0.11142503964330272,
          0.11157150117963595,
          0.11171461986015176,
          0.1118543823328734,
          0.1119907755477356,
          0.11212378675861506,
          0.11225340352531553,
          0.1123796137155068,
          0.11250240550661712,
          0.11262176738767896,
          0.11273768816112717,
          0.11285015694454976,
          0.11295916317239048,
          0.11306469659760293,
          0.11316674729325593,
          0.1132653056540898,
          0.11336036239802304,
          0.11345190856760917,
          0.11353993553144362,
          0.11362443498551991,
          0.11370539895453531,
          0.1137828197931453,
          0.11385669018716682,
          0.11392700315472987,
          0.1139937520473773,
          0.1140569305511126,
          0.11411653268739527,
          0.11417255281408376,
          0.11422498562632548,
          0.11427382615739429,
          0.11431906977947438,
          0.11436071220439127,
          0.114398749484289,
          0.11443317801225417,
          0.11446399452288568,
          0.11449119609281116,
          0.11451478014114903,
          0.11453474442991667,
          0.11455108706438433,
          0.11456380649337485,
          0.1145729015095091,
          0.11457837124939686,
          0.11458021519377357,
          0.11457843316758234,
          0.11457302534000183,
          0.11456399222441929,
          0.11455133467834946,
          0.11453505390329885,
          0.11451515144457569,
          0.11449162919104537,
          0.11446448937483182,
          0.1144337345709644,
          0.11439936769697072,
          0.11436139201241535,
          0.11431981111838457,
          0.1142746289569173,
          0.11422584981038213,
          0.11417347830080098,
          0.11411751938911908,
          0.11405797837442185,
          0.11399486089309846,
          0.11392817291795272,
          0.11385792075726092,
          0.11378411105377749,
          0.11370675078368794,
          0.11362584725551017,
          0.1135414081089436,
          0.11345344131366682,
          0.11336195516808402,
          0.1132669582980202,
          0.11316845965536594,
          0.11306646851667111,
          0.11296099448168927,
          0.11285204747187143,
          0.1127396377288109,
          0.11262377581263873,
          0.11250447260037023,
          0.1123817392842034,
          0.112255587369769,
          0.11212602867433297,
          0.11199307532495176,
          0.11185673975658045,
          0.11171703471013474,
          0.11157397323050658,
          0.11142756866453443,
          0.11127783465892814,
          0.1111247851581492,
          0.11096843440224684,
          0.11080879692465001,
          0.11064588754991643,
          0.11047972139143848,
          0.11031031384910706,
          0.11013768060693332,
          0.10996183763062929,
          0.10978280116514774,
          0.10960058773218154,
          0.10941521412762355,
          0.10922669741898726,
          0.10903505494278878,
          0.10884030430189073,
          0.10864246336280885,
          0.10844155025298134,
          0.10823758335800224,
          0.10803058131881889,
          0.10782056302889423,
          0.10760754763133464,
          0.1073915545159838,
          0.1071726033164834,
          0.10695071390730083,
          0.10672590640072521,
          0.10649820114383167,
          0.1062676187154152,
          0.10603417992289388,
          0.10579790579918326,
          0.10555881759954125,
          0.10531693679838543,
          0.10507228508608242,
          0.1048248843657108,
          0.1045747567497975,
          0.1043219245570291,
          0.10406641030893803,
          0.10380823672656483,
          0.10354742672709707,
          0.10328400342048542,
          0.10301799010603761,
          0.10274941026899151,
          0.10247828757706699,
          0.10220464587699853,
          0.10192850919104797,
          0.10164990171349941,
          0.10136884780713591,
          0.10108537199969925,
          0.10079949898033357,
          0.10051125359601293,
          0.10022066084795457,
          0.09992774588801745,
          0.09963253401508779,
          0.0993350506714515,
          0.09903532143915499,
          0.09873337203635432,
          0.0984292283136542,
          0.0981229162504368,
          0.09781446195118175,
          0.0975038916417776,
          0.09719123166582579,
          0.09687650848093741,
          0.09655974865502422,
          0.09624097886258369,
          0.0959202258809798,
          0.09559751658671926,
          0.09527287795172502,
          0.09494633703960656,
          0.09461792100192895,
          0.09428765707448014,
          0.09395557257353829,
          0.09362169489213894,
          0.09328605149634356,
          0.09294866992150937,
          0.09260957776856188,
          0.09226880270027013,
          0.09192637243752619,
          0.09158231475562843,
          0.09123665748057073,
          0.09088942848533668,
          0.0905406556862011,
          0.09019036703903811,
          0.08983859053563731,
          0.08948535420002861,
          0.08913068608481584,
          0.08877461426752084,
          0.08841716684693726,
          0.08805837193949627,
          0.08769825767564343,
          0.08733685219622861,
          0.08697418364890822,
          0.08661028018456193,
          0.08624516995372311,
          0.08587888110302459,
          0.08551144177165954,
          0.08514288008785904,
          0.08477322416538588,
          0.08440250210004613,
          0.08403074196621822,
          0.08365797181340104,
          0.0832842196627804,
          0.08290951350381605,
          0.08253388129084795,
          0.08215735093972415,
          0.08177995032444925,
          0.08140170727385534,
          0.0810226495682947,
          0.08064280493635599,
          0.08026220105160331,
          0.07988086552933969,
          0.07949882592339448,
          0.07911610972293615,
          0.0787327443493101,
          0.07834875715290264,
          0.07796417541003113,
          0.07757902631986086,
          0.07719333700134962,
          0.07680713449021931,
          0.07642044573595644,
          0.07603329759884042,
          0.07564571684700162,
          0.07525773015350817,
          0.07486936409348303,
          0.07448064514125093,
          0.07409159966751624,
          0.07370225393657136,
          0.07331263410353697,
          0.07292276621163335,
          0.07253267618948445,
          0.0721423898484536,
          0.0717519328800126,
          0.0713613308531433,
          0.070970609211773,
          0.07057979327224298,
          0.07018890822081164,
          0.06979797911119118,
          0.06940703086211936,
          0.06901608825496566,
          0.06862517593137278,
          0.06823431839093318,
          0.06784353998890134,
          0.06745286493394156,
          0.06706231728591228,
          0.06667192095368567,
          0.06628169969300474,
          0.06589167710437617,
          0.06550187663100024,
          0.06511232155673802,
          0.06472303500411504,
          0.06433403993236299,
          0.06394535913549818,
          0.06355701524043812,
          0.06316903070515544,
          0.06278142781686988,
          0.06239422869027804,
          0.06200745526582138,
          0.06162112930799209,
          0.06123527240367753,
          0.06084990596054258,
          0.060465051205450836,
          0.060080729182923655,
          0.05969696075363828,
          0.05931376659296397,
          0.05893116718953717,
          0.05854918284387465,
          0.05816783366702603,
          0.05778713957926393,
          0.05740712030881382,
          0.05702779539062133,
          0.05664918416515913,
          0.05627130577727149,
          0.055894179175058095,
          0.0555178231087957,
          0.0551422561298986,
          0.05476749658991714,
          0.05439356263957487,
          0.05402047222784352,
          0.053648243101056245,
          0.05327689280205901,
          0.05290643866939958,
          0.05253689783655485,
          0.05216828723119513,
          0.05180062357448684,
          0.05143392338043184,
          0.05106820295524483,
          0.050703478396767164,
          0.05033976559391837,
          0.04997708022618398,
          0.04961543776314038,
          0.049254853464015924,
          0.048895342377288716,
          0.04853691934032001,
          0.04817959897902425,
          0.04782339570757408,
          0.047468323728141665,
          0.04711439703067469,
          0.04676162939270797,
          0.04641003437920958,
          0.04605962534246195,
          0.045710415421976985,
          0.045362417544445956,
          0.04501564442372257,
          0.044670108560840506,
          0.044325822244063576,
          0.04398279754896973,
          0.043641046338567496,
          0.043300580263445236,
          0.0429614107619525,
          0.04262354906041379,
          0.04228700617337376,
          0.04195179290387383,
          0.0416179198437603,
          0.041285397374022925,
          0.040954235665164346,
          0.040624444677599396,
          0.0402960341620848,
          0.039969013660177875,
          0.03964339250472512,
          0.0393191798203791,
          0.03899638452414453,
          0.038675015325952154,
          0.038355080729260936,
          0.038036589031687384,
          0.03771954832566269,
          0.03740396649911609,
          0.03708985123618549,
          0.036777210017953456,
          0.03646605012320988,
          0.03615637862923935,
          0.03584820241263416,
          0.03554152815013169,
          0.03523636231947646,
          0.03493271120030579,
          0.03463058087505959,
          0.03432997722991275,
          0.03403090595573115,
          0.03373337254904937,
          0.03343738231307121,
          0.03314294035869143,
          0.03285005160553917,
          0.032558720783042,
          0.03226895243151096,
          0.03198075090324547,
          0.031694120363658,
          0.03140906479241849,
          0.031125587984617415,
          0.030843693551947788,
          0.030563384923905083,
          0.030284665349005393,
          0.03000753789602059,
          0.029732005455231074,
          0.02945807073969462,
          0.029185736286532017,
          0.028915004458228255,
          0.028645877443949384,
          0.028378357260874357,
          0.028112445755541695,
          0.02784814460521034,
          0.027585455319234658,
          0.02732437924045262,
          0.0270649175465876,
          0.026807071251662425,
          0.026550841207426235,
          0.02629622810479305,
          0.026043232475292066,
          0.025791854692529072,
          0.02554209497365885,
          0.025293953380867772,
          0.025047429822866788,
          0.024802524056393743,
          0.02455923568772537,
          0.024317564174197847,
          0.024077508825736227,
          0.023839068806391916,
          0.02360224313588782,
          0.02336703069117133,
          0.023133430207973878,
          0.02290144028237768,
          0.022671059372388492,
          0.022442285799514555,
          0.022215117750350986,
          0.02198955327816973,
          0.021765590304514033,
          0.021543226620797957,
          0.021322459889909596,
          0.021103287647818714,
          0.020885707305187406,
          0.020669716148984357,
          0.020455311344101668,
          0.02024248993497442,
          0.020031248847202192,
          0.01982158488917274,
          0.019613494753686848,
          0.019406975019584778,
          0.019202022153373206,
          0.0189986325108531,
          0.018796802338747608,
          0.01859652777633002,
          0.018397804857051257,
          0.01820062951016693,
          0.01800499756236308,
          0.017810904739381055,
          0.017618346667640488,
          0.017427318875860697,
          0.017237816796679833,
          0.017049835768271526,
          0.016863371035959144,
          0.016678417753826683,
          0.01649497098632682,
          0.016313025709885107,
          0.01613257681450069,
          0.015953619105342775,
          0.015776147304342972,
          0.015600156051782953,
          0.015425639907877448,
          0.015252593354352131,
          0.015081010796016219,
          0.014910886562329624,
          0.014742214908964333,
          0.014574990019359687,
          0.014409206006271696,
          0.014244856913315689,
          0.014081936716502486,
          0.01392043932576753,
          0.013760358586493231,
          0.0136016882810237,
          0.013444422130172247,
          0.013288553794721079,
          0.013134076876913241,
          0.012980984921936264,
          0.012829271419397882,
          0.012678929804793015,
          0.012529953460962393,
          0.01238233571954211,
          0.012236069862404575,
          0.012091149123090011,
          0.011947566688228849,
          0.011805315698954669,
          0.01166438925230743,
          0.011524780402627093,
          0.011386482162937242,
          0.011249487506318717,
          0.011113789367273042,
          0.01097938064307554,
          0.010846254195118001,
          0.01071440285024086,
          0.010583819402054453,
          0.010454496612249757,
          0.010326427211897958,
          0.01019960390273908,
          0.01007401935845943,
          0.009949666225957863,
          0.009826537126600506,
          0.00970462465746427,
          0.009583921392568596,
          0.00946441988409573,
          0.009346112663599112,
          0.009228992243200148,
          0.009113051116772925,
          0.008998281761117064,
          0.008884676637118517,
          0.008772228190898294,
          0.008660928854948909,
          0.008550771049258827,
          0.008441747182424363,
          0.00833384965274949,
          0.008227070849333034,
          0.008121403153143676,
          0.008016838938082223,
          0.00791337057203162,
          0.007810990417894182,
          0.00770969083461633,
          0.0076094641782008185,
          0.0075103028027060795,
          0.007412199061233082,
          0.00731514530689943,
          0.007219133893800796,
          0.00712415717795952,
          0.00703020751826057,
          0.006937277277374729,
          0.006845358822669056,
          0.006754444527104456,
          0.006664526770120679,
          0.006575597938508428,
          0.006487650427268793,
          0.006400676640459853,
          0.006314668992030645,
          0.006229619906642329,
          0.006145521820476706,
          0.006062367182032056,
          0.005980148452906186,
          0.005898858108567021,
          0.005818488639110426,
          0.005739032550005575,
          0.005660482362827573,
          0.005582830615977758,
          0.005506069865391376,
          0.005430192685232873,
          0.00535519166857872,
          0.0052810594280879135,
          0.0052077885966600995,
          0.005135371828081525,
          0.00506380179765859,
          0.004993071202839326,
          0.004923172763822796,
          0.0048540992241562445,
          0.0047858433513204065,
          0.004718397937302715,
          0.004651755799158753,
          0.004585909779561703,
          0.004520852747340123,
          0.004456577598003987,
          0.004393077254259106,
          0.004330344666509888,
          0.004268372813350663,
          0.004207154702045568,
          0.0041466833689970655,
          0.004086951880203105,
          0.004027953331703176,
          0.003969680850013149,
          0.003912127592549121,
          0.0038552867480401787,
          0.0037991515369303996,
          0.00374371521176991,
          0.0036889710575953435,
          0.003634912392299509,
          0.0035815325669906026,
          0.0035288249663408917,
          0.003476783008925077,
          0.0034254001475482556,
          0.00337466986956374,
          0.003324585697180774,
          0.003275141187762202,
          0.0032263299341121513,
          0.003178145564753963,
          0.003130581744198351,
          0.0030836321732018454,
          0.0030372905890157552,
          0.0029915507656256427,
          0.002946406513981453,
          0.0029018516822183075,
          0.0028578801558682347,
          0.0028144858580627413,
          0.0027716627497264834,
          0.0027294048297619856,
          0.0026877061352256707,
          0.002646560741495153,
          0.002605962762428032,
          0.002565906350512122,
          0.0025263856970074035,
          0.002487395032079635,
          0.0024489286249258844,
          0.0024109807838919024,
          0.002373545856581591,
          0.0023366182299586194,
          0.0023001923304402723,
          0.002264262623983619,
          0.002228823616164167,
          0.002193869852247065,
          0.002159395917250971,
          0.0021253964360046194,
          0.002091866073196338,
          0.0020587995334164625,
          0.0020261915611928583,
          0.0019940369410195815,
          0.0019623304973788334,
          0.0019310670947563066,
          0.001900241637649939,
          0.0018698490705723399,
          0.0018398843780468301,
          0.0018103425845972995,
          0.0017812187547319224,
          0.0017525079929208882,
          0.0017242054435681793,
          0.0016963062909775986,
          0.0016688057593130029,
          0.00164169911255298,
          0.0016149816544399982,
          0.0015886487284241485,
          0.0015626957176015303,
          0.0015371180446474635,
          0.00151191117174457,
          0.0014870706005058237,
          0.0014625918718926569,
          0.0014384705661282776,
          0.0014147023026062089,
          0.001391282739794234,
          0.001368207575133734,
          0.0013454725449346398,
          0.0013230734242659756,
          0.0013010060268421825,
          0.0012792662049052241,
          0.0012578498491026399,
          0.0012367528883615972,
          0.0012159712897590637,
          0.001195501058388134,
          0.0011753382372206602,
          0.0011554789069662629,
          0.0011359191859277537,
          0.0011166552298531483,
          0.0010976832317842655,
          0.0010789994219020881,
          0.0010606000673688714,
          0.0010424814721671685,
          0.0010246399769358134,
          0.0010070719588029609,
          0.000989773831216227,
          0.0009727420437700854,
          0.0009559730820305215,
          0.0009394634673570838,
          0.0009232097567223538,
          0.0009072085425289813,
          0.000891456452424295,
          0.0008759501491126206,
          0.0008606863301653311,
          0.0008456617278287456,
          0.0008308731088299288,
          0.0008163172741804779,
          0.0008019910589783424,
          0.0007878913322077801,
          0.0007740149965375067,
          0.0007603589881171087,
          0.0007469202763717722,
          0.0007336958637954302,
          0.0007206827857423704,
          0.0007078781102173806,
          0.0006952789376644732,
          0.0006828824007542979,
          0.000670685664170276,
          0.0006586859243935056,
          0.00064688040948654,
          0.0006352663788760733,
          0.0006238411231345992,
          0.0006126019637610929,
          0.0006015462529608012,
          0.0005906713734241713,
          0.0005799747381049926,
          0.0005694537899977868,
          0.0005591060019145358,
          0.000548928876260763,
          0.0005389199448110587,
          0.0005290767684840619,
          0.0005193969371169895,
          0.0005098780692397366,
          0.0005005178118486194,
          0.0004913138401797802,
          0.00048226385748233706,
          0.000473365594791304,
          0.00046461681070033894,
          0.0004560152911343485,
          0.0004475588491220235,
          0.00043924532456832225,
          0.00043107258402696563,
          0.0004230385204729618,
          0.0004151410530752373,
          0.000407378126969383,
          0.00039974771303057457,
          0.00039224780764669835,
          0.0003848764324917265,
          0.0003776316342993732,
          0.0003705114846370834,
          0.00036351407968036496,
          0.00035663753998752446,
          0.0003498800102748374,
          0.00034323965919216766,
          0.00033671467909909554,
          0.00033030328584156895
         ]
        }
       ],
       "layout": {
        "annotations": [
         {
          "align": "center",
          "bgcolor": "white",
          "font": {
           "color": "black",
           "size": 12
          },
          "opacity": 0.7,
          "showarrow": false,
          "text": "Assimetria: 0.37<br>Curtose: 1.12",
          "x": 0.95,
          "xref": "paper",
          "y": 0.95,
          "yref": "paper"
         }
        ],
        "bargap": 0.1,
        "template": {
         "data": {
          "bar": [
           {
            "error_x": {
             "color": "#2a3f5f"
            },
            "error_y": {
             "color": "#2a3f5f"
            },
            "marker": {
             "line": {
              "color": "#E5ECF6",
              "width": 0.5
             },
             "pattern": {
              "fillmode": "overlay",
              "size": 10,
              "solidity": 0.2
             }
            },
            "type": "bar"
           }
          ],
          "barpolar": [
           {
            "marker": {
             "line": {
              "color": "#E5ECF6",
              "width": 0.5
             },
             "pattern": {
              "fillmode": "overlay",
              "size": 10,
              "solidity": 0.2
             }
            },
            "type": "barpolar"
           }
          ],
          "carpet": [
           {
            "aaxis": {
             "endlinecolor": "#2a3f5f",
             "gridcolor": "white",
             "linecolor": "white",
             "minorgridcolor": "white",
             "startlinecolor": "#2a3f5f"
            },
            "baxis": {
             "endlinecolor": "#2a3f5f",
             "gridcolor": "white",
             "linecolor": "white",
             "minorgridcolor": "white",
             "startlinecolor": "#2a3f5f"
            },
            "type": "carpet"
           }
          ],
          "choropleth": [
           {
            "colorbar": {
             "outlinewidth": 0,
             "ticks": ""
            },
            "type": "choropleth"
           }
          ],
          "contour": [
           {
            "colorbar": {
             "outlinewidth": 0,
             "ticks": ""
            },
            "colorscale": [
             [
              0,
              "#0d0887"
             ],
             [
              0.1111111111111111,
              "#46039f"
             ],
             [
              0.2222222222222222,
              "#7201a8"
             ],
             [
              0.3333333333333333,
              "#9c179e"
             ],
             [
              0.4444444444444444,
              "#bd3786"
             ],
             [
              0.5555555555555556,
              "#d8576b"
             ],
             [
              0.6666666666666666,
              "#ed7953"
             ],
             [
              0.7777777777777778,
              "#fb9f3a"
             ],
             [
              0.8888888888888888,
              "#fdca26"
             ],
             [
              1,
              "#f0f921"
             ]
            ],
            "type": "contour"
           }
          ],
          "contourcarpet": [
           {
            "colorbar": {
             "outlinewidth": 0,
             "ticks": ""
            },
            "type": "contourcarpet"
           }
          ],
          "heatmap": [
           {
            "colorbar": {
             "outlinewidth": 0,
             "ticks": ""
            },
            "colorscale": [
             [
              0,
              "#0d0887"
             ],
             [
              0.1111111111111111,
              "#46039f"
             ],
             [
              0.2222222222222222,
              "#7201a8"
             ],
             [
              0.3333333333333333,
              "#9c179e"
             ],
             [
              0.4444444444444444,
              "#bd3786"
             ],
             [
              0.5555555555555556,
              "#d8576b"
             ],
             [
              0.6666666666666666,
              "#ed7953"
             ],
             [
              0.7777777777777778,
              "#fb9f3a"
             ],
             [
              0.8888888888888888,
              "#fdca26"
             ],
             [
              1,
              "#f0f921"
             ]
            ],
            "type": "heatmap"
           }
          ],
          "heatmapgl": [
           {
            "colorbar": {
             "outlinewidth": 0,
             "ticks": ""
            },
            "colorscale": [
             [
              0,
              "#0d0887"
             ],
             [
              0.1111111111111111,
              "#46039f"
             ],
             [
              0.2222222222222222,
              "#7201a8"
             ],
             [
              0.3333333333333333,
              "#9c179e"
             ],
             [
              0.4444444444444444,
              "#bd3786"
             ],
             [
              0.5555555555555556,
              "#d8576b"
             ],
             [
              0.6666666666666666,
              "#ed7953"
             ],
             [
              0.7777777777777778,
              "#fb9f3a"
             ],
             [
              0.8888888888888888,
              "#fdca26"
             ],
             [
              1,
              "#f0f921"
             ]
            ],
            "type": "heatmapgl"
           }
          ],
          "histogram": [
           {
            "marker": {
             "pattern": {
              "fillmode": "overlay",
              "size": 10,
              "solidity": 0.2
             }
            },
            "type": "histogram"
           }
          ],
          "histogram2d": [
           {
            "colorbar": {
             "outlinewidth": 0,
             "ticks": ""
            },
            "colorscale": [
             [
              0,
              "#0d0887"
             ],
             [
              0.1111111111111111,
              "#46039f"
             ],
             [
              0.2222222222222222,
              "#7201a8"
             ],
             [
              0.3333333333333333,
              "#9c179e"
             ],
             [
              0.4444444444444444,
              "#bd3786"
             ],
             [
              0.5555555555555556,
              "#d8576b"
             ],
             [
              0.6666666666666666,
              "#ed7953"
             ],
             [
              0.7777777777777778,
              "#fb9f3a"
             ],
             [
              0.8888888888888888,
              "#fdca26"
             ],
             [
              1,
              "#f0f921"
             ]
            ],
            "type": "histogram2d"
           }
          ],
          "histogram2dcontour": [
           {
            "colorbar": {
             "outlinewidth": 0,
             "ticks": ""
            },
            "colorscale": [
             [
              0,
              "#0d0887"
             ],
             [
              0.1111111111111111,
              "#46039f"
             ],
             [
              0.2222222222222222,
              "#7201a8"
             ],
             [
              0.3333333333333333,
              "#9c179e"
             ],
             [
              0.4444444444444444,
              "#bd3786"
             ],
             [
              0.5555555555555556,
              "#d8576b"
             ],
             [
              0.6666666666666666,
              "#ed7953"
             ],
             [
              0.7777777777777778,
              "#fb9f3a"
             ],
             [
              0.8888888888888888,
              "#fdca26"
             ],
             [
              1,
              "#f0f921"
             ]
            ],
            "type": "histogram2dcontour"
           }
          ],
          "mesh3d": [
           {
            "colorbar": {
             "outlinewidth": 0,
             "ticks": ""
            },
            "type": "mesh3d"
           }
          ],
          "parcoords": [
           {
            "line": {
             "colorbar": {
              "outlinewidth": 0,
              "ticks": ""
             }
            },
            "type": "parcoords"
           }
          ],
          "pie": [
           {
            "automargin": true,
            "type": "pie"
           }
          ],
          "scatter": [
           {
            "fillpattern": {
             "fillmode": "overlay",
             "size": 10,
             "solidity": 0.2
            },
            "type": "scatter"
           }
          ],
          "scatter3d": [
           {
            "line": {
             "colorbar": {
              "outlinewidth": 0,
              "ticks": ""
             }
            },
            "marker": {
             "colorbar": {
              "outlinewidth": 0,
              "ticks": ""
             }
            },
            "type": "scatter3d"
           }
          ],
          "scattercarpet": [
           {
            "marker": {
             "colorbar": {
              "outlinewidth": 0,
              "ticks": ""
             }
            },
            "type": "scattercarpet"
           }
          ],
          "scattergeo": [
           {
            "marker": {
             "colorbar": {
              "outlinewidth": 0,
              "ticks": ""
             }
            },
            "type": "scattergeo"
           }
          ],
          "scattergl": [
           {
            "marker": {
             "colorbar": {
              "outlinewidth": 0,
              "ticks": ""
             }
            },
            "type": "scattergl"
           }
          ],
          "scattermapbox": [
           {
            "marker": {
             "colorbar": {
              "outlinewidth": 0,
              "ticks": ""
             }
            },
            "type": "scattermapbox"
           }
          ],
          "scatterpolar": [
           {
            "marker": {
             "colorbar": {
              "outlinewidth": 0,
              "ticks": ""
             }
            },
            "type": "scatterpolar"
           }
          ],
          "scatterpolargl": [
           {
            "marker": {
             "colorbar": {
              "outlinewidth": 0,
              "ticks": ""
             }
            },
            "type": "scatterpolargl"
           }
          ],
          "scatterternary": [
           {
            "marker": {
             "colorbar": {
              "outlinewidth": 0,
              "ticks": ""
             }
            },
            "type": "scatterternary"
           }
          ],
          "surface": [
           {
            "colorbar": {
             "outlinewidth": 0,
             "ticks": ""
            },
            "colorscale": [
             [
              0,
              "#0d0887"
             ],
             [
              0.1111111111111111,
              "#46039f"
             ],
             [
              0.2222222222222222,
              "#7201a8"
             ],
             [
              0.3333333333333333,
              "#9c179e"
             ],
             [
              0.4444444444444444,
              "#bd3786"
             ],
             [
              0.5555555555555556,
              "#d8576b"
             ],
             [
              0.6666666666666666,
              "#ed7953"
             ],
             [
              0.7777777777777778,
              "#fb9f3a"
             ],
             [
              0.8888888888888888,
              "#fdca26"
             ],
             [
              1,
              "#f0f921"
             ]
            ],
            "type": "surface"
           }
          ],
          "table": [
           {
            "cells": {
             "fill": {
              "color": "#EBF0F8"
             },
             "line": {
              "color": "white"
             }
            },
            "header": {
             "fill": {
              "color": "#C8D4E3"
             },
             "line": {
              "color": "white"
             }
            },
            "type": "table"
           }
          ]
         },
         "layout": {
          "annotationdefaults": {
           "arrowcolor": "#2a3f5f",
           "arrowhead": 0,
           "arrowwidth": 1
          },
          "autotypenumbers": "strict",
          "coloraxis": {
           "colorbar": {
            "outlinewidth": 0,
            "ticks": ""
           }
          },
          "colorscale": {
           "diverging": [
            [
             0,
             "#8e0152"
            ],
            [
             0.1,
             "#c51b7d"
            ],
            [
             0.2,
             "#de77ae"
            ],
            [
             0.3,
             "#f1b6da"
            ],
            [
             0.4,
             "#fde0ef"
            ],
            [
             0.5,
             "#f7f7f7"
            ],
            [
             0.6,
             "#e6f5d0"
            ],
            [
             0.7,
             "#b8e186"
            ],
            [
             0.8,
             "#7fbc41"
            ],
            [
             0.9,
             "#4d9221"
            ],
            [
             1,
             "#276419"
            ]
           ],
           "sequential": [
            [
             0,
             "#0d0887"
            ],
            [
             0.1111111111111111,
             "#46039f"
            ],
            [
             0.2222222222222222,
             "#7201a8"
            ],
            [
             0.3333333333333333,
             "#9c179e"
            ],
            [
             0.4444444444444444,
             "#bd3786"
            ],
            [
             0.5555555555555556,
             "#d8576b"
            ],
            [
             0.6666666666666666,
             "#ed7953"
            ],
            [
             0.7777777777777778,
             "#fb9f3a"
            ],
            [
             0.8888888888888888,
             "#fdca26"
            ],
            [
             1,
             "#f0f921"
            ]
           ],
           "sequentialminus": [
            [
             0,
             "#0d0887"
            ],
            [
             0.1111111111111111,
             "#46039f"
            ],
            [
             0.2222222222222222,
             "#7201a8"
            ],
            [
             0.3333333333333333,
             "#9c179e"
            ],
            [
             0.4444444444444444,
             "#bd3786"
            ],
            [
             0.5555555555555556,
             "#d8576b"
            ],
            [
             0.6666666666666666,
             "#ed7953"
            ],
            [
             0.7777777777777778,
             "#fb9f3a"
            ],
            [
             0.8888888888888888,
             "#fdca26"
            ],
            [
             1,
             "#f0f921"
            ]
           ]
          },
          "colorway": [
           "#636efa",
           "#EF553B",
           "#00cc96",
           "#ab63fa",
           "#FFA15A",
           "#19d3f3",
           "#FF6692",
           "#B6E880",
           "#FF97FF",
           "#FECB52"
          ],
          "font": {
           "color": "#2a3f5f"
          },
          "geo": {
           "bgcolor": "white",
           "lakecolor": "white",
           "landcolor": "#E5ECF6",
           "showlakes": true,
           "showland": true,
           "subunitcolor": "white"
          },
          "hoverlabel": {
           "align": "left"
          },
          "hovermode": "closest",
          "mapbox": {
           "style": "light"
          },
          "paper_bgcolor": "white",
          "plot_bgcolor": "#E5ECF6",
          "polar": {
           "angularaxis": {
            "gridcolor": "white",
            "linecolor": "white",
            "ticks": ""
           },
           "bgcolor": "#E5ECF6",
           "radialaxis": {
            "gridcolor": "white",
            "linecolor": "white",
            "ticks": ""
           }
          },
          "scene": {
           "xaxis": {
            "backgroundcolor": "#E5ECF6",
            "gridcolor": "white",
            "gridwidth": 2,
            "linecolor": "white",
            "showbackground": true,
            "ticks": "",
            "zerolinecolor": "white"
           },
           "yaxis": {
            "backgroundcolor": "#E5ECF6",
            "gridcolor": "white",
            "gridwidth": 2,
            "linecolor": "white",
            "showbackground": true,
            "ticks": "",
            "zerolinecolor": "white"
           },
           "zaxis": {
            "backgroundcolor": "#E5ECF6",
            "gridcolor": "white",
            "gridwidth": 2,
            "linecolor": "white",
            "showbackground": true,
            "ticks": "",
            "zerolinecolor": "white"
           }
          },
          "shapedefaults": {
           "line": {
            "color": "#2a3f5f"
           }
          },
          "ternary": {
           "aaxis": {
            "gridcolor": "white",
            "linecolor": "white",
            "ticks": ""
           },
           "baxis": {
            "gridcolor": "white",
            "linecolor": "white",
            "ticks": ""
           },
           "bgcolor": "#E5ECF6",
           "caxis": {
            "gridcolor": "white",
            "linecolor": "white",
            "ticks": ""
           }
          },
          "title": {
           "x": 0.05
          },
          "xaxis": {
           "automargin": true,
           "gridcolor": "white",
           "linecolor": "white",
           "ticks": "",
           "title": {
            "standoff": 15
           },
           "zerolinecolor": "white",
           "zerolinewidth": 2
          },
          "yaxis": {
           "automargin": true,
           "gridcolor": "white",
           "linecolor": "white",
           "ticks": "",
           "title": {
            "standoff": 15
           },
           "zerolinecolor": "white",
           "zerolinewidth": 2
          }
         }
        },
        "title": {
         "text": "Histograma dos Retornos da Estratégia com Curva Normal Ajustada"
        },
        "xaxis": {
         "title": {
          "text": "Retornos"
         }
        },
        "yaxis": {
         "title": {
          "text": "Frequência (Probabilidade)"
         }
        }
       }
      }
     },
     "metadata": {},
     "output_type": "display_data"
    }
   ],
   "source": [
    "from scipy import stats\n",
    "\n",
    "# Suponha que 'average_monthly_results' seja o seu vetor de retornos da estratégia\n",
    "returns = average_monthly_results  # Substitua com os seus dados de retornos\n",
    "\n",
    "# Ajusta a distribuição normal aos dados (média e desvio padrão)\n",
    "mean, std_dev = stats.norm.fit(returns)\n",
    "\n",
    "# Cria o histograma\n",
    "hist_data = go.Histogram(\n",
    "    x=returns,\n",
    "    nbinsx=30,  # Defina o número de bins conforme necessário\n",
    "    name='Histograma dos Retornos',\n",
    "    opacity=0.75,\n",
    "    histnorm='probability'  # Normaliza o histograma para a probabilidade\n",
    ")\n",
    "\n",
    "# Cria a curva normal ajustada\n",
    "x_range = np.linspace(min(returns), max(returns), 1000)\n",
    "y_range = stats.norm.pdf(x_range, mean, std_dev)  # Calcula a função de densidade da normal\n",
    "\n",
    "# Adiciona a curva normal ao gráfico\n",
    "normal_curve = go.Scatter(\n",
    "    x=x_range,\n",
    "    y=y_range,\n",
    "    mode='lines',\n",
    "    name='Curva Normal Ajustada',\n",
    "    line=dict(color='red', width=2)\n",
    ")\n",
    "\n",
    "# Calcular a assimetria e a curtose\n",
    "skewness = stats.skew(returns)\n",
    "kurtosis = stats.kurtosis(returns)\n",
    "\n",
    "# Cria a figura com histograma e curva normal\n",
    "fig = go.Figure(data=[hist_data, normal_curve])\n",
    "\n",
    "# Adicionar anotações de assimetria e curtose\n",
    "fig.add_annotation(\n",
    "    x=0.95, y=0.95, \n",
    "    text=f'Assimetria: {skewness:.2f}<br>Curtose: {kurtosis:.2f}', \n",
    "    showarrow=False, \n",
    "    font=dict(size=12, color=\"black\"), \n",
    "    align=\"center\", \n",
    "    xref=\"paper\", yref=\"paper\", \n",
    "    bgcolor=\"white\", opacity=0.7\n",
    ")\n",
    "\n",
    "# Atualiza o layout com títulos e rótulos\n",
    "fig.update_layout(\n",
    "    title=\"Histograma dos Retornos da Estratégia com Curva Normal Ajustada\",\n",
    "    xaxis_title=\"Retornos\",\n",
    "    yaxis_title=\"Frequência (Probabilidade)\",\n",
    "    bargap=0.1  # Ajusta o espaçamento entre as barras\n",
    ")\n",
    "\n",
    "# Exibe o gráfico\n",
    "fig.show()\n"
   ]
  },
  {
   "cell_type": "markdown",
   "metadata": {},
   "source": [
    "*Assimetria -> quanto mais próximo de 0, mais \"normal\" é a distribuição*.\n",
    "\n",
    "*Kurtosis -> quanto mais próximo de 3, mais \"normal\" é a distribuição*."
   ]
  },
  {
   "cell_type": "markdown",
   "metadata": {},
   "source": [
    "# Código do backtest"
   ]
  },
  {
   "cell_type": "markdown",
   "metadata": {},
   "source": [
    "PRIMEIRO TESTE PARA O BACKTEST\n",
    "Cálculo do S&P ta errado"
   ]
  },
  {
   "cell_type": "code",
   "execution_count": 28,
   "metadata": {},
   "outputs": [
    {
     "ename": "FileNotFoundError",
     "evalue": "[Errno 2] No such file or directory: 'resultados_portfolio_mensal_full_modified.xlsx'",
     "output_type": "error",
     "traceback": [
      "\u001b[0;31m---------------------------------------------------------------------------\u001b[0m",
      "\u001b[0;31mFileNotFoundError\u001b[0m                         Traceback (most recent call last)",
      "Cell \u001b[0;32mIn[28], line 9\u001b[0m\n\u001b[1;32m      6\u001b[0m datas_portfolio \u001b[38;5;241m=\u001b[39m []\n\u001b[1;32m      8\u001b[0m \u001b[38;5;66;03m# Ler todas as planilhas do arquivo Excel\u001b[39;00m\n\u001b[0;32m----> 9\u001b[0m sheets \u001b[38;5;241m=\u001b[39m \u001b[43mpd\u001b[49m\u001b[38;5;241;43m.\u001b[39;49m\u001b[43mread_excel\u001b[49m\u001b[43m(\u001b[49m\u001b[38;5;124;43m'\u001b[39;49m\u001b[38;5;124;43mresultados_portfolio_mensal_full_modified.xlsx\u001b[39;49m\u001b[38;5;124;43m'\u001b[39;49m\u001b[43m,\u001b[49m\u001b[43m \u001b[49m\u001b[43msheet_name\u001b[49m\u001b[38;5;241;43m=\u001b[39;49m\u001b[38;5;28;43;01mNone\u001b[39;49;00m\u001b[43m,\u001b[49m\u001b[43m \u001b[49m\u001b[43mheader\u001b[49m\u001b[38;5;241;43m=\u001b[39;49m\u001b[38;5;241;43m0\u001b[39;49m\u001b[43m)\u001b[49m\n\u001b[1;32m     11\u001b[0m \u001b[38;5;28;01mfor\u001b[39;00m nome_sheet, df \u001b[38;5;129;01min\u001b[39;00m sheets\u001b[38;5;241m.\u001b[39mitems():\n\u001b[1;32m     12\u001b[0m     \u001b[38;5;66;03m# Verificar se o DataFrame está vazio\u001b[39;00m\n\u001b[1;32m     13\u001b[0m     \u001b[38;5;28;01mif\u001b[39;00m df\u001b[38;5;241m.\u001b[39mempty:\n",
      "File \u001b[0;32m~/.local/lib/python3.10/site-packages/pandas/io/excel/_base.py:478\u001b[0m, in \u001b[0;36mread_excel\u001b[0;34m(io, sheet_name, header, names, index_col, usecols, dtype, engine, converters, true_values, false_values, skiprows, nrows, na_values, keep_default_na, na_filter, verbose, parse_dates, date_parser, date_format, thousands, decimal, comment, skipfooter, storage_options, dtype_backend)\u001b[0m\n\u001b[1;32m    476\u001b[0m \u001b[38;5;28;01mif\u001b[39;00m \u001b[38;5;129;01mnot\u001b[39;00m \u001b[38;5;28misinstance\u001b[39m(io, ExcelFile):\n\u001b[1;32m    477\u001b[0m     should_close \u001b[38;5;241m=\u001b[39m \u001b[38;5;28;01mTrue\u001b[39;00m\n\u001b[0;32m--> 478\u001b[0m     io \u001b[38;5;241m=\u001b[39m \u001b[43mExcelFile\u001b[49m\u001b[43m(\u001b[49m\u001b[43mio\u001b[49m\u001b[43m,\u001b[49m\u001b[43m \u001b[49m\u001b[43mstorage_options\u001b[49m\u001b[38;5;241;43m=\u001b[39;49m\u001b[43mstorage_options\u001b[49m\u001b[43m,\u001b[49m\u001b[43m \u001b[49m\u001b[43mengine\u001b[49m\u001b[38;5;241;43m=\u001b[39;49m\u001b[43mengine\u001b[49m\u001b[43m)\u001b[49m\n\u001b[1;32m    479\u001b[0m \u001b[38;5;28;01melif\u001b[39;00m engine \u001b[38;5;129;01mand\u001b[39;00m engine \u001b[38;5;241m!=\u001b[39m io\u001b[38;5;241m.\u001b[39mengine:\n\u001b[1;32m    480\u001b[0m     \u001b[38;5;28;01mraise\u001b[39;00m \u001b[38;5;167;01mValueError\u001b[39;00m(\n\u001b[1;32m    481\u001b[0m         \u001b[38;5;124m\"\u001b[39m\u001b[38;5;124mEngine should not be specified when passing \u001b[39m\u001b[38;5;124m\"\u001b[39m\n\u001b[1;32m    482\u001b[0m         \u001b[38;5;124m\"\u001b[39m\u001b[38;5;124man ExcelFile - ExcelFile already has the engine set\u001b[39m\u001b[38;5;124m\"\u001b[39m\n\u001b[1;32m    483\u001b[0m     )\n",
      "File \u001b[0;32m~/.local/lib/python3.10/site-packages/pandas/io/excel/_base.py:1496\u001b[0m, in \u001b[0;36mExcelFile.__init__\u001b[0;34m(self, path_or_buffer, engine, storage_options)\u001b[0m\n\u001b[1;32m   1494\u001b[0m     ext \u001b[38;5;241m=\u001b[39m \u001b[38;5;124m\"\u001b[39m\u001b[38;5;124mxls\u001b[39m\u001b[38;5;124m\"\u001b[39m\n\u001b[1;32m   1495\u001b[0m \u001b[38;5;28;01melse\u001b[39;00m:\n\u001b[0;32m-> 1496\u001b[0m     ext \u001b[38;5;241m=\u001b[39m \u001b[43minspect_excel_format\u001b[49m\u001b[43m(\u001b[49m\n\u001b[1;32m   1497\u001b[0m \u001b[43m        \u001b[49m\u001b[43mcontent_or_path\u001b[49m\u001b[38;5;241;43m=\u001b[39;49m\u001b[43mpath_or_buffer\u001b[49m\u001b[43m,\u001b[49m\u001b[43m \u001b[49m\u001b[43mstorage_options\u001b[49m\u001b[38;5;241;43m=\u001b[39;49m\u001b[43mstorage_options\u001b[49m\n\u001b[1;32m   1498\u001b[0m \u001b[43m    \u001b[49m\u001b[43m)\u001b[49m\n\u001b[1;32m   1499\u001b[0m     \u001b[38;5;28;01mif\u001b[39;00m ext \u001b[38;5;129;01mis\u001b[39;00m \u001b[38;5;28;01mNone\u001b[39;00m:\n\u001b[1;32m   1500\u001b[0m         \u001b[38;5;28;01mraise\u001b[39;00m \u001b[38;5;167;01mValueError\u001b[39;00m(\n\u001b[1;32m   1501\u001b[0m             \u001b[38;5;124m\"\u001b[39m\u001b[38;5;124mExcel file format cannot be determined, you must specify \u001b[39m\u001b[38;5;124m\"\u001b[39m\n\u001b[1;32m   1502\u001b[0m             \u001b[38;5;124m\"\u001b[39m\u001b[38;5;124man engine manually.\u001b[39m\u001b[38;5;124m\"\u001b[39m\n\u001b[1;32m   1503\u001b[0m         )\n",
      "File \u001b[0;32m~/.local/lib/python3.10/site-packages/pandas/io/excel/_base.py:1371\u001b[0m, in \u001b[0;36minspect_excel_format\u001b[0;34m(content_or_path, storage_options)\u001b[0m\n\u001b[1;32m   1368\u001b[0m \u001b[38;5;28;01mif\u001b[39;00m \u001b[38;5;28misinstance\u001b[39m(content_or_path, \u001b[38;5;28mbytes\u001b[39m):\n\u001b[1;32m   1369\u001b[0m     content_or_path \u001b[38;5;241m=\u001b[39m BytesIO(content_or_path)\n\u001b[0;32m-> 1371\u001b[0m \u001b[38;5;28;01mwith\u001b[39;00m \u001b[43mget_handle\u001b[49m\u001b[43m(\u001b[49m\n\u001b[1;32m   1372\u001b[0m \u001b[43m    \u001b[49m\u001b[43mcontent_or_path\u001b[49m\u001b[43m,\u001b[49m\u001b[43m \u001b[49m\u001b[38;5;124;43m\"\u001b[39;49m\u001b[38;5;124;43mrb\u001b[39;49m\u001b[38;5;124;43m\"\u001b[39;49m\u001b[43m,\u001b[49m\u001b[43m \u001b[49m\u001b[43mstorage_options\u001b[49m\u001b[38;5;241;43m=\u001b[39;49m\u001b[43mstorage_options\u001b[49m\u001b[43m,\u001b[49m\u001b[43m \u001b[49m\u001b[43mis_text\u001b[49m\u001b[38;5;241;43m=\u001b[39;49m\u001b[38;5;28;43;01mFalse\u001b[39;49;00m\n\u001b[1;32m   1373\u001b[0m \u001b[43m\u001b[49m\u001b[43m)\u001b[49m \u001b[38;5;28;01mas\u001b[39;00m handle:\n\u001b[1;32m   1374\u001b[0m     stream \u001b[38;5;241m=\u001b[39m handle\u001b[38;5;241m.\u001b[39mhandle\n\u001b[1;32m   1375\u001b[0m     stream\u001b[38;5;241m.\u001b[39mseek(\u001b[38;5;241m0\u001b[39m)\n",
      "File \u001b[0;32m~/.local/lib/python3.10/site-packages/pandas/io/common.py:868\u001b[0m, in \u001b[0;36mget_handle\u001b[0;34m(path_or_buf, mode, encoding, compression, memory_map, is_text, errors, storage_options)\u001b[0m\n\u001b[1;32m    859\u001b[0m         handle \u001b[38;5;241m=\u001b[39m \u001b[38;5;28mopen\u001b[39m(\n\u001b[1;32m    860\u001b[0m             handle,\n\u001b[1;32m    861\u001b[0m             ioargs\u001b[38;5;241m.\u001b[39mmode,\n\u001b[0;32m   (...)\u001b[0m\n\u001b[1;32m    864\u001b[0m             newline\u001b[38;5;241m=\u001b[39m\u001b[38;5;124m\"\u001b[39m\u001b[38;5;124m\"\u001b[39m,\n\u001b[1;32m    865\u001b[0m         )\n\u001b[1;32m    866\u001b[0m     \u001b[38;5;28;01melse\u001b[39;00m:\n\u001b[1;32m    867\u001b[0m         \u001b[38;5;66;03m# Binary mode\u001b[39;00m\n\u001b[0;32m--> 868\u001b[0m         handle \u001b[38;5;241m=\u001b[39m \u001b[38;5;28;43mopen\u001b[39;49m\u001b[43m(\u001b[49m\u001b[43mhandle\u001b[49m\u001b[43m,\u001b[49m\u001b[43m \u001b[49m\u001b[43mioargs\u001b[49m\u001b[38;5;241;43m.\u001b[39;49m\u001b[43mmode\u001b[49m\u001b[43m)\u001b[49m\n\u001b[1;32m    869\u001b[0m     handles\u001b[38;5;241m.\u001b[39mappend(handle)\n\u001b[1;32m    871\u001b[0m \u001b[38;5;66;03m# Convert BytesIO or file objects passed with an encoding\u001b[39;00m\n",
      "\u001b[0;31mFileNotFoundError\u001b[0m: [Errno 2] No such file or directory: 'resultados_portfolio_mensal_full_modified.xlsx'"
     ]
    }
   ],
   "source": [
    "# Valor inicial do portfólio\n",
    "valor_portfolio_inicial = 100000\n",
    "\n",
    "# Listas para armazenar o histórico do portfólio e as datas correspondentes\n",
    "historico_portfolio = []\n",
    "datas_portfolio = []\n",
    "\n",
    "# Ler todas as planilhas do arquivo Excel\n",
    "sheets = pd.read_excel('resultados_portfolio_mensal_full_modified.xlsx', sheet_name=None, header=0)\n",
    "\n",
    "for nome_sheet, df in sheets.items():\n",
    "    # Verificar se o DataFrame está vazio\n",
    "    if df.empty:\n",
    "        print(f\"A planilha '{nome_sheet}' está vazia. Pulando este período.\")\n",
    "        continue\n",
    "\n",
    "    # Verificar se as colunas esperadas estão presentes\n",
    "    colunas_esperadas = ['Acao', 'Retorno Predito', 'Retorno Real']\n",
    "    if not all(col in df.columns for col in colunas_esperadas):\n",
    "        print(f\"A planilha '{nome_sheet}' não contém as colunas esperadas. Pulando este período.\")\n",
    "        continue\n",
    "\n",
    "    # Extrair o ticker, data de início e data de fim da coluna 'Acao'\n",
    "    try:\n",
    "        # Aplicar a extração em cada linha\n",
    "        def extrair_dados(row):\n",
    "            acao_periodo = row['Acao']\n",
    "            if pd.isnull(acao_periodo):\n",
    "                return pd.Series([np.nan, np.nan, np.nan])\n",
    "            parts = acao_periodo.split(':')\n",
    "            simbolo = parts[0].strip()\n",
    "            datas = parts[1].strip().split(' - ')\n",
    "            data_inicio = pd.to_datetime(datas[0].strip(), format='%Y-%m-%d')\n",
    "            data_fim = pd.to_datetime(datas[1].strip(), format='%Y-%m-%d')\n",
    "            return pd.Series([simbolo, data_inicio, data_fim])\n",
    "\n",
    "        df[['Simbolo', 'Data_Inicio', 'Data_Fim']] = df.apply(extrair_dados, axis=1)\n",
    "        # Remover linhas com dados ausentes\n",
    "        df.dropna(subset=['Simbolo', 'Data_Inicio', 'Data_Fim'], inplace=True)\n",
    "    except Exception as e:\n",
    "        print(f\"Erro ao extrair os dados da planilha '{nome_sheet}': {e}\")\n",
    "        continue\n",
    "\n",
    "    # Obter a data de início e fim do período a partir da primeira linha\n",
    "    data_inicio = df['Data_Inicio'].iloc[0]\n",
    "    data_fim = df['Data_Fim'].iloc[0]\n",
    "\n",
    "    # Ordenar pelo retorno predito\n",
    "    df = df.sort_values(by='Retorno Predito', ascending=False)\n",
    "\n",
    "    # Selecionar top 10%\n",
    "    n_acoes = max(int(len(df) * 0.10), 1)\n",
    "    acoes_compradas = df.head(n_acoes)\n",
    "\n",
    "    # Alocar capital igualmente entre as ações\n",
    "    valor_portfolio = valor_portfolio_inicial if not historico_portfolio else historico_portfolio[-1]\n",
    "    alocacao_por_acao = valor_portfolio / n_acoes\n",
    "\n",
    "    # Calcular o retorno real\n",
    "    retornos = acoes_compradas['Retorno Real'] / 100  # Converter porcentagem para decimal\n",
    "    valor_final = alocacao_por_acao * (1 + retornos)\n",
    "\n",
    "    # Atualizar o valor do portfólio\n",
    "    valor_portfolio = valor_final.sum()\n",
    "    historico_portfolio.append(valor_portfolio)\n",
    "    datas_portfolio.append(data_fim)\n",
    "\n",
    "    # Imprimir os resultados do período\n",
    "    print(f\"Período: {data_inicio.date()} - {data_fim.date()}\")\n",
    "    print(f\"Ações compradas: {acoes_compradas['Simbolo'].tolist()}\")\n",
    "    print(\"Retorno de cada ação:\")\n",
    "    for index, row in acoes_compradas.iterrows():\n",
    "        print(f\" - {row['Simbolo']}: {row['Retorno Real']}%\")\n",
    "    print(f\"Valor do portfólio ao final do período: ${valor_portfolio:.2f}\\n\")\n",
    "\n",
    "# Verificar se o histórico do portfólio está vazio\n",
    "if not historico_portfolio or not datas_portfolio:\n",
    "    print(\"Nenhum período foi processado com sucesso. Verifique os dados e tente novamente.\")\n",
    "else:\n",
    "    # Criar DataFrame com o histórico do portfólio\n",
    "    df_portfolio = pd.DataFrame({\n",
    "        'Data': datas_portfolio,\n",
    "        'Valor': historico_portfolio\n",
    "    })\n",
    "    # Ordenar por data\n",
    "    df_portfolio.sort_values(by='Data', inplace=True)\n",
    "    df_portfolio.reset_index(drop=True, inplace=True)\n",
    "\n",
    "    # 5. Obter dados do S&P500\n",
    "    data_inicio_total = df_portfolio['Data'].iloc[0] - timedelta(days=5)\n",
    "    data_fim_total = df_portfolio['Data'].iloc[-1] + timedelta(days=5)\n",
    "    sp500 = yf.download('^GSPC', start=data_inicio_total, end=data_fim_total)\n",
    "    print(\"Colunas disponíveis em sp500:\", sp500.columns)\n",
    "\n",
    "    # Determinar a coluna de preço a ser usada\n",
    "    if 'Adj Close' in sp500.columns:\n",
    "        price_column = 'Adj Close'\n",
    "    elif 'Close' in sp500.columns:\n",
    "        price_column = 'Close'\n",
    "    else:\n",
    "        raise KeyError(\"Nenhuma coluna de preço ('Adj Close' ou 'Close') encontrada em sp500\")\n",
    "\n",
    "    # Resetar o índice para ter a coluna 'Date'\n",
    "    sp500.reset_index(inplace=True)\n",
    "\n",
    "    # Remover informações de fuso horário da coluna 'Date'\n",
    "    sp500['Date'] = sp500['Date'].dt.tz_localize(None)\n",
    "\n",
    "    # Verificar os tipos de dados das colunas de datas\n",
    "    print(\"dtype de sp500['Date']:\", sp500['Date'].dtype)\n",
    "    print(\"dtype de df_portfolio['Data']:\", df_portfolio['Data'].dtype)\n",
    "\n",
    "    # Calcular retorno acumulado do S&P500\n",
    "    sp500['Retorno'] = sp500[price_column].pct_change().fillna(0)\n",
    "    sp500['Retorno Acumulado'] = (1 + sp500['Retorno']).cumprod()\n",
    "\n",
    "    # Interpolar o retorno acumulado do S&P500 nas datas do portfólio\n",
    "    sp500_interp = sp500[['Date', 'Retorno Acumulado']].set_index('Date').reindex(\n",
    "        df_portfolio['Data'], method='ffill')\n",
    "\n",
    "    # Após reindexar, resetamos o índice\n",
    "    sp500_interp.reset_index(inplace=True)\n",
    "\n",
    "    # Verificar as colunas e as primeiras linhas\n",
    "    print(\"Colunas de sp500_interp após reset_index:\", sp500_interp.columns)\n",
    "    print(\"Primeiras linhas de sp500_interp:\")\n",
    "    print(sp500_interp.head())\n",
    "\n",
    "    # Ajustar o acesso à coluna de datas de sp500_interp\n",
    "    if 'Date' in sp500_interp.columns:\n",
    "        date_column = 'Date'\n",
    "    elif 'index' in sp500_interp.columns:\n",
    "        date_column = 'index'\n",
    "    elif 'Data' in sp500_interp.columns:\n",
    "        date_column = 'Data'\n",
    "    else:\n",
    "        print(\"A coluna de datas não foi encontrada em sp500_interp.\")\n",
    "        print(\"Colunas disponíveis:\", sp500_interp.columns)\n",
    "        raise KeyError(\"Coluna de datas não encontrada em sp500_interp\")\n",
    "\n",
    "    # Calcular retorno acumulado da estratégia\n",
    "    df_portfolio['Retorno'] = df_portfolio['Valor'].pct_change().fillna(0)\n",
    "    df_portfolio['Retorno Acumulado'] = (1 + df_portfolio['Retorno']).cumprod()\n",
    "\n",
    "    # 6. Plotar o gráfico comparativo usando Plotly\n",
    "    trace_estrategia = go.Scatter(\n",
    "        x=df_portfolio['Data'],\n",
    "        y=df_portfolio['Retorno Acumulado'],\n",
    "        mode='lines+markers',\n",
    "        name='Retorno Acumulado da Estratégia',\n",
    "        yaxis='y1'\n",
    "    )\n",
    "\n",
    "    trace_sp500 = go.Scatter(\n",
    "        x=sp500_interp[date_column],\n",
    "        y=sp500_interp['Retorno Acumulado'],\n",
    "        mode='lines+markers',\n",
    "        name='Retorno Acumulado do S&P500',\n",
    "        yaxis='y1'\n",
    "    )\n",
    "\n",
    "    trace_capital = go.Scatter(\n",
    "        x=df_portfolio['Data'],\n",
    "        y=df_portfolio['Valor'],\n",
    "        mode='lines+markers',\n",
    "        name='Capital do Portfólio',\n",
    "        yaxis='y2'\n",
    "    )\n",
    "\n",
    "    data = [trace_estrategia, trace_sp500, trace_capital]\n",
    "\n",
    "    layout = go.Layout(\n",
    "        title='Comparação de Retorno Acumulado e Capital do Portfólio',\n",
    "        xaxis=dict(title='Data'),\n",
    "        yaxis=dict(\n",
    "            title='Retorno Acumulado',\n",
    "            side='left',\n",
    "            showgrid=False,\n",
    "            zeroline=False\n",
    "        ),\n",
    "        yaxis2=dict(\n",
    "            title='Capital do Portfólio',\n",
    "            overlaying='y',\n",
    "            side='right',\n",
    "            showgrid=False,\n",
    "            zeroline=False\n",
    "        ),\n",
    "        legend=dict(x=0.01, y=0.99)\n",
    "    )\n",
    "\n",
    "    fig = go.Figure(data=data, layout=layout)\n",
    "    fig.show()\n",
    "\n",
    "# 7. Plotar o histograma da distribuição dos retornos da estratégia\n",
    "\n",
    "# Remover possíveis NaNs ou valores infinitos\n",
    "retornos = df_portfolio['Retorno'].dropna().replace([np.inf, -np.inf], np.nan).dropna()\n",
    "\n",
    "# Criar o histograma dos retornos\n",
    "histograma = go.Figure(data=[go.Histogram(\n",
    "    x=retornos * 100,  # Converter para porcentagem\n",
    "    xbins=dict(\n",
    "        start=retornos.min() * 100,\n",
    "        end=retornos.max() * 100,\n",
    "        size=1  # Intervalo de 1% entre as barras\n",
    "    ),\n",
    "    marker_color='blue',\n",
    "    opacity=0.75\n",
    ")])\n",
    "\n",
    "histograma.update_layout(\n",
    "    title='Distribuição dos Retornos da Estratégia',\n",
    "    xaxis_title='Retorno (%)',\n",
    "    yaxis_title='Frequência',\n",
    "    bargap=0.2,\n",
    "    bargroupgap=0.1\n",
    ")"
   ]
  },
  {
   "cell_type": "markdown",
   "metadata": {},
   "source": [
    "TESTE 2 pq o primeiro tava dando problema com o S&P500\n",
    "\n",
    "Tudo fragmentado pra facilitar identificação de erro"
   ]
  },
  {
   "cell_type": "code",
   "execution_count": null,
   "metadata": {},
   "outputs": [],
   "source": [
    "import pandas as pd\n",
    "import numpy as np\n",
    "import yfinance as yf\n",
    "from datetime import timedelta\n",
    "import plotly.graph_objs as go\n",
    "\n",
    "# Valor inicial do portfólio\n",
    "valor_portfolio_inicial = 100000\n",
    "\n",
    "# Listas para armazenar o histórico do portfólio e as datas correspondentes\n",
    "historico_portfolio = []\n",
    "datas_portfolio = []\n",
    "datas_inicio_portfolio = []\n",
    "retornos_estrategia_periodo = []\n",
    "retornos_sp500_periodo = []\n",
    "\n",
    "# Nome do arquivo Excel\n",
    "arquivo_excel = 'resultados_portfolio_mensal_full_modified.xlsx'\n",
    "\n",
    "# Tentar ler o arquivo Excel\n",
    "try:\n",
    "    sheets = pd.read_excel(arquivo_excel, sheet_name=None, header=0)\n",
    "    print(f\"Arquivo '{arquivo_excel}' lido com sucesso.\")\n",
    "except FileNotFoundError:\n",
    "    print(f\"Arquivo '{arquivo_excel}' não encontrado. Verifique o caminho e o nome do arquivo.\")\n",
    "    exit()\n",
    "\n",
    "# Função para extrair dados de cada linha\n",
    "def extrair_dados(row):\n",
    "    acao_periodo = row['Acao']\n",
    "    if pd.isnull(acao_periodo):\n",
    "        return pd.Series([np.nan, np.nan, np.nan])\n",
    "    parts = acao_periodo.split(':')\n",
    "    if len(parts) != 2:\n",
    "        return pd.Series([np.nan, np.nan, np.nan])\n",
    "    simbolo = parts[0].strip()\n",
    "    datas = parts[1].strip().split(' - ')\n",
    "    if len(datas) != 2:\n",
    "        return pd.Series([np.nan, np.nan, np.nan])\n",
    "    try:\n",
    "        data_inicio = pd.to_datetime(datas[0].strip(), dayfirst=True).normalize()\n",
    "        data_fim = pd.to_datetime(datas[1].strip(), dayfirst=True).normalize()\n",
    "    except ValueError:\n",
    "        return pd.Series([np.nan, np.nan, np.nan])\n",
    "    return pd.Series([simbolo, data_inicio, data_fim])\n",
    "\n",
    "# Processar cada planilha\n",
    "for nome_sheet, df in sheets.items():\n",
    "    print(f\"\\nProcessando a planilha: {nome_sheet}\")\n",
    "    \n",
    "    # Verificar se o DataFrame está vazio\n",
    "    if df.empty:\n",
    "        print(f\"A planilha '{nome_sheet}' está vazia. Pulando este período.\")\n",
    "        continue\n",
    "\n",
    "    # Verificar se as colunas esperadas estão presentes\n",
    "    colunas_esperadas = ['Acao', 'Retorno Predito', 'Retorno Real']\n",
    "    if not all(col in df.columns for col in colunas_esperadas):\n",
    "        print(f\"A planilha '{nome_sheet}' não contém as colunas esperadas: {colunas_esperadas}. Pulando este período.\")\n",
    "        continue\n",
    "\n",
    "    # Aplicar a extração em cada linha\n",
    "    df[['Simbolo', 'Data_Inicio', 'Data_Fim']] = df.apply(extrair_dados, axis=1)\n",
    "\n",
    "    # Remover linhas com dados ausentes\n",
    "    linhas_antes = len(df)\n",
    "    df.dropna(subset=['Simbolo', 'Data_Inicio', 'Data_Fim'], inplace=True)\n",
    "    linhas_depois = len(df)\n",
    "    print(f\"Linhas processadas: {linhas_depois} (removidas {linhas_antes - linhas_depois} linhas com dados ausentes)\")\n",
    "\n",
    "    # Verificar se após a extração o DataFrame está vazio\n",
    "    if df.empty:\n",
    "        print(f\"A planilha '{nome_sheet}' não possui dados válidos após a extração. Pulando este período.\")\n",
    "        continue\n",
    "\n",
    "    # Obter a data de início e fim do período a partir da primeira linha\n",
    "    data_inicio = df['Data_Inicio'].iloc[0]\n",
    "    data_fim = df['Data_Fim'].iloc[0]\n",
    "\n",
    "    print(f\"Período: {data_inicio.date()} - {data_fim.date()}\")\n",
    "\n",
    "    # Ordenar pelo retorno predito\n",
    "    df = df.sort_values(by='Retorno Predito', ascending=False)\n",
    "\n",
    "    # Selecionar top 10%\n",
    "    n_acoes = max(int(len(df) * 0.10), 1)\n",
    "    acoes_compradas = df.head(n_acoes)\n",
    "    print(f\"Selecionadas {n_acoes} ações para o portfólio.\")\n",
    "\n",
    "    # Alocar capital igualmente entre as ações\n",
    "    if not historico_portfolio:\n",
    "        valor_portfolio_anterior = valor_portfolio_inicial\n",
    "    else:\n",
    "        valor_portfolio_anterior = historico_portfolio[-1]\n",
    "    valor_portfolio = valor_portfolio_anterior\n",
    "    alocacao_por_acao = valor_portfolio / n_acoes\n",
    "\n",
    "    # Calcular o retorno real\n",
    "    retornos = acoes_compradas['Retorno Real'] / 100  # Converter porcentagem para decimal\n",
    "    valor_final = alocacao_por_acao * (1 + retornos)\n",
    "\n",
    "    # Atualizar o valor do portfólio\n",
    "    valor_portfolio = valor_final.sum()\n",
    "    historico_portfolio.append(valor_portfolio)\n",
    "    datas_portfolio.append(data_fim)\n",
    "    datas_inicio_portfolio.append(data_inicio)\n",
    "\n",
    "    # Calcular o retorno do período\n",
    "    retorno_periodo = (valor_portfolio - valor_portfolio_anterior) / valor_portfolio_anterior * 100  # Em porcentagem\n",
    "    retornos_estrategia_periodo.append(retorno_periodo)\n",
    "\n",
    "    # Imprimir os resultados do período\n",
    "    print(f\"Ações compradas: {acoes_compradas['Simbolo'].tolist()}\")\n",
    "    print(\"Retorno de cada ação:\")\n",
    "    for index, row in acoes_compradas.iterrows():\n",
    "        print(f\" - {row['Simbolo']}: {row['Retorno Real']}%\")\n",
    "    print(f\"Retorno do período: {retorno_periodo:.2f}%\")\n",
    "    print(f\"Valor do portfólio ao final do período: ${valor_portfolio:.2f}\\n\")\n"
   ]
  },
  {
   "cell_type": "code",
   "execution_count": null,
   "metadata": {},
   "outputs": [],
   "source": [
    "# Verificar se o histórico do portfólio está vazio\n",
    "if not historico_portfolio or not datas_portfolio:\n",
    "    print(\"Nenhum período foi processado com sucesso. Verifique os dados e tente novamente.\")\n",
    "    exit()\n",
    "else:\n",
    "    # Criar DataFrame com o histórico do portfólio\n",
    "    df_portfolio = pd.DataFrame({\n",
    "        'Data': datas_portfolio,\n",
    "        'Valor': historico_portfolio\n",
    "    })\n",
    "    # Ordenar por data\n",
    "    df_portfolio.sort_values(by='Data', inplace=True)\n",
    "    df_portfolio.reset_index(drop=True, inplace=True)\n",
    "\n",
    "    print(\"\\nHistórico do Portfólio:\")\n",
    "    print(df_portfolio)\n"
   ]
  },
  {
   "cell_type": "code",
   "execution_count": null,
   "metadata": {},
   "outputs": [],
   "source": [
    "# Obter dados do S&P500\n",
    "data_inicio_total = min(datas_inicio_portfolio) - timedelta(days=5)\n",
    "data_fim_total = max(datas_portfolio) + timedelta(days=5)\n",
    "print(f\"\\nBaixando dados do S&P500 de {data_inicio_total.date()} a {data_fim_total.date()}.\")\n",
    "    \n",
    "try:\n",
    "    # Baixar dados do S&P500 sem o parâmetro 'group_by'\n",
    "    sp500 = yf.download('^GSPC', start=data_inicio_total, end=data_fim_total)\n",
    "    print(\"Dados do S&P500 baixados com sucesso.\")\n",
    "except Exception as e:\n",
    "    print(f\"Erro ao baixar dados do S&P500: {e}\")\n",
    "    exit()\n",
    "\n",
    "# Resetar o índice para transformar o índice em coluna\n",
    "sp500.reset_index(inplace=True)\n",
    "\n",
    "# Verificar se as colunas são MultiIndex\n",
    "if isinstance(sp500.columns, pd.MultiIndex):\n",
    "    # Achatar as colunas combinando os níveis\n",
    "    sp500.columns = [' '.join(col).strip() for col in sp500.columns.values]\n",
    "    print(\"Ajustando colunas de MultiIndex para nível único.\")\n",
    "else:\n",
    "    print(\"Colunas de sp500 são de nível único.\")\n",
    "\n",
    "# Converter os nomes das colunas para minúsculas para facilitar a comparação\n",
    "sp500.columns = [col.lower() for col in sp500.columns]\n",
    "print(f\"Colunas em sp500 após conversão para minúsculas: {sp500.columns.tolist()}\")\n",
    "\n",
    "# Verificar o nome da coluna de data\n",
    "date_column_name = None\n",
    "for col in sp500.columns:\n",
    "    if 'date' in col:\n",
    "        date_column_name = col\n",
    "        break\n",
    "\n",
    "if date_column_name is None:\n",
    "    print(\"Nenhuma coluna de data encontrada em sp500.\")\n",
    "    exit()\n",
    "\n",
    "if date_column_name != 'date':\n",
    "    sp500.rename(columns={date_column_name: 'date'}, inplace=True)\n",
    "    print(f\"Renomeada a coluna de data para 'date'.\")\n",
    "\n",
    "# Remover informações de fuso horário e normalizar a data\n",
    "sp500['date'] = pd.to_datetime(sp500['date']).dt.tz_localize(None).dt.normalize()\n",
    "\n",
    "# Determinar a coluna de preço a ser usada\n",
    "price_column = None\n",
    "for col in sp500.columns:\n",
    "    if 'adj close' in col.lower():\n",
    "        price_column = col\n",
    "        break\n",
    "if price_column is None:\n",
    "    for col in sp500.columns:\n",
    "        if 'close' in col.lower():\n",
    "            price_column = col\n",
    "            break\n",
    "\n",
    "if price_column is None:\n",
    "    raise KeyError(f\"Nenhuma coluna de preço ('Adj Close' ou 'Close') encontrada em sp500. Colunas disponíveis: {sp500.columns.tolist()}\")\n",
    "\n",
    "print(f\"Coluna de preço selecionada: '{price_column}'\")\n",
    "\n",
    "# Criar sp500_prices com 'date' como coluna\n",
    "sp500_prices = sp500[['date', price_column]].rename(columns={price_column: 'Price'})\n",
    "\n",
    "print(f\"Colunas em sp500_prices: {sp500_prices.columns.tolist()}\")\n",
    "\n",
    "# Calcular Retorno do S&P500 (não acumulado)\n",
    "sp500_prices['Retorno'] = sp500_prices['Price'].pct_change().fillna(0)\n",
    "\n",
    "# Verificar se 'Retorno' foi criado\n",
    "if 'Retorno' not in sp500_prices.columns:\n",
    "    print(\"Erro: A coluna 'Retorno' não foi criada em sp500_prices.\")\n",
    "    print(f\"Colunas disponíveis em sp500_prices: {sp500_prices.columns.tolist()}\")\n",
    "    exit()\n",
    "else:\n",
    "    print(\"'Retorno' criado com sucesso em sp500_prices.\")\n",
    "    print(sp500_prices[['date', 'Price', 'Retorno']].head())\n"
   ]
  },
  {
   "cell_type": "code",
   "execution_count": null,
   "metadata": {},
   "outputs": [],
   "source": [
    "# Preparar required_dates\n",
    "required_dates = pd.Series(datas_inicio_portfolio + datas_portfolio).drop_duplicates()\n",
    "required_dates = pd.to_datetime(required_dates).dt.normalize()\n",
    "required_dates = required_dates.to_frame(name='date')\n",
    "required_dates.sort_values('date', inplace=True)\n",
    "required_dates.reset_index(drop=True, inplace=True)\n",
    "\n",
    "# Garantir que não há duplicatas em required_dates\n",
    "required_dates.drop_duplicates(subset='date', inplace=True)\n",
    "\n",
    "# Realizar o merge_asof para alinhar os preços do S&P500 com as datas do portfólio\n",
    "prices_at_required_dates = pd.merge_asof(\n",
    "    required_dates.sort_values('date'),\n",
    "    sp500_prices.sort_values('date'),\n",
    "    on='date',\n",
    "    direction='backward'\n",
    ")\n",
    "\n",
    "# Verificar se há NaNs após o merge\n",
    "na_prices = prices_at_required_dates['Price'].isna().sum()\n",
    "if na_prices > 0:\n",
    "    print(f\"Atenção: {na_prices} datas no portfólio não têm correspondência no S&P500.\")\n",
    "\n",
    "# Criar um dicionário mapeando datas a preços\n",
    "date_price_dict = dict(zip(prices_at_required_dates['date'], prices_at_required_dates['Price']))\n"
   ]
  },
  {
   "cell_type": "code",
   "execution_count": null,
   "metadata": {},
   "outputs": [],
   "source": [
    "# Calcular os retornos do S&P500 para cada período\n",
    "for i in range(len(datas_inicio_portfolio)):\n",
    "    data_inicio = datas_inicio_portfolio[i].normalize()\n",
    "    data_fim = datas_portfolio[i].normalize()\n",
    "\n",
    "    price_inicio = date_price_dict.get(data_inicio)\n",
    "    price_fim = date_price_dict.get(data_fim)\n",
    "\n",
    "    if pd.isna(price_inicio) or pd.isna(price_fim):\n",
    "        print(f\"Não foi possível obter preços para o período {data_inicio.date()} - {data_fim.date()}\")\n",
    "        retorno_sp500_periodo = np.nan\n",
    "    else:\n",
    "        retorno_sp500_periodo = (price_fim - price_inicio) / price_inicio * 100\n",
    "        print(f\"Retorno do S&P500 no período {data_inicio.date()} - {data_fim.date()}: {retorno_sp500_periodo:.2f}%\")\n",
    "    retornos_sp500_periodo.append(retorno_sp500_periodo)\n"
   ]
  },
  {
   "cell_type": "code",
   "execution_count": null,
   "metadata": {},
   "outputs": [],
   "source": [
    "# Criar DataFrame com os retornos por período\n",
    "df_returns = pd.DataFrame({\n",
    "    'Data_Inicio': datas_inicio_portfolio,\n",
    "    'Data_Fim': datas_portfolio,\n",
    "    'Retorno_Estrategia': retornos_estrategia_periodo,\n",
    "    'Retorno_SP500': retornos_sp500_periodo\n",
    "})\n",
    "\n",
    "# Remover períodos onde o retorno do S&P500 é NaN\n",
    "df_returns.dropna(subset=['Retorno_SP500'], inplace=True)\n",
    "\n",
    "# Formatar as datas para serem usadas como rótulos no gráfico\n",
    "df_returns['Período'] = df_returns['Data_Fim'].dt.strftime('%Y-%m-%d')\n",
    "\n",
    "print(\"\\nDataFrame com Retornos por Período:\")\n",
    "print(df_returns)\n"
   ]
  },
  {
   "cell_type": "code",
   "execution_count": null,
   "metadata": {},
   "outputs": [],
   "source": [
    "# Plotar o gráfico de barras duplo dos retornos por período\n",
    "fig_bar = go.Figure(data=[\n",
    "    go.Bar(name='Estratégia', x=df_returns['Período'], y=df_returns['Retorno_Estrategia']),\n",
    "    go.Bar(name='S&P500', x=df_returns['Período'], y=df_returns['Retorno_SP500'])\n",
    "])\n",
    "\n",
    "fig_bar.update_layout(\n",
    "    barmode='group',\n",
    "    title='Retornos por Período: Estratégia vs S&P500',\n",
    "    xaxis_title='Período',\n",
    "    yaxis_title='Retorno (%)',\n",
    "    legend=dict(x=0.01, y=0.99)\n",
    ")\n",
    "\n",
    "fig_bar.show()\n"
   ]
  },
  {
   "cell_type": "markdown",
   "metadata": {},
   "source": [
    "AJEITAR O GRÁFICO QUE FICOU RUIM(provavelmente por conta da escala)"
   ]
  },
  {
   "cell_type": "markdown",
   "metadata": {},
   "source": [
    "# **Sugestões**"
   ]
  },
  {
   "cell_type": "markdown",
   "metadata": {},
   "source": [
    "**Gŕaficos a serem feitos:** *(Ver em quais gráficos deve ser plotada uma região de confiança)*\n",
    "\n",
    "    - Gráfico de série temporal com o maior retorno acumulado, menor retorno acumulado e retorno médio acumulado da estratégia.\n",
    "  \n",
    "    - Gráfico de série temporal com o retorno médio por período da estratégia x sharpe ratio por período da estratégia x sortino ratio por  período da estratégia."
   ]
  }
 ],
 "metadata": {
  "kernelspec": {
   "display_name": "Python 3",
   "language": "python",
   "name": "python3"
  },
  "language_info": {
   "codemirror_mode": {
    "name": "ipython",
    "version": 3
   },
   "file_extension": ".py",
   "mimetype": "text/x-python",
   "name": "python",
   "nbconvert_exporter": "python",
   "pygments_lexer": "ipython3",
   "version": "3.10.12"
  }
 },
 "nbformat": 4,
 "nbformat_minor": 2
}
