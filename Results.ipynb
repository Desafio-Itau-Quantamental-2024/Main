{
 "cells": [
  {
   "cell_type": "markdown",
   "metadata": {},
   "source": [
    "#### *Importando as bibliotecas que serão necessárias*"
   ]
  },
  {
   "cell_type": "code",
   "execution_count": null,
   "metadata": {},
   "outputs": [],
   "source": [
    "import pandas as pd\n",
    "\n",
    "import numpy as np\n",
    "\n",
    "from math import log\n",
    "\n",
    "from Ticker import Ticker\n",
    "\n",
    "from Tickers import Tickers\n",
    "\n",
    "from Model import Model\n",
    "\n",
    "from datetime import datetime\n",
    "\n",
    "# Importa a biblioteca que será utilizada para criar gráficos interativos.\n",
    "import plotly.graph_objects as go\n",
    "\n",
    "# Importa o módulo da biblioteca \"typing\" que será utilizado para tipar parâmetros opcionais de funções.\n",
    "from typing import Optional\n",
    "\n",
    "# Importa o módulo da biblioteca \"sklearn\" que será utilizado para escalar as features dos DataFrames que serão usados no modelo LSTM.\n",
    "from sklearn.preprocessing import MinMaxScaler\n"
   ]
  },
  {
   "cell_type": "markdown",
   "metadata": {},
   "source": [
    "#### *Obtendo a lista de tickers do S&P500*"
   ]
  },
  {
   "cell_type": "code",
   "execution_count": null,
   "metadata": {},
   "outputs": [],
   "source": [
    "'''\n",
    "    Essa célula será usada para se obter os tickets das companhias que fazem parte do S&P 500, com base em dados da wikipedia.\n",
    "'''\n",
    "\n",
    "# Salva em uma variável a url que contém a tabela com os tickets das companhias.\n",
    "url = 'https://en.wikipedia.org/wiki/List_of_S%26P_500_companies'\n",
    "\n",
    "# Lê todas as tabelas presentes na url acima.\n",
    "sp500_table = pd.read_html(url)\n",
    "\n",
    "# Salva a coluna \"Symbol\" da primeira tabela em uma variável (tal coluna contém todos os tickets das companhias que fazem parte do S&P 500).\n",
    "sp500_symbols= sp500_table[0]['Symbol']\n",
    "\n",
    "# Transforma os tickets obtidos em uma lista.\n",
    "sp500_symbols = sp500_symbols.tolist()\n",
    "\n",
    "# Exibe a lista de tickets criada acima.\n",
    "#sp500_symbols"
   ]
  },
  {
   "cell_type": "markdown",
   "metadata": {},
   "source": [
    "#### *Definindo alguns parâmetros que serão importantes*"
   ]
  },
  {
   "cell_type": "code",
   "execution_count": null,
   "metadata": {},
   "outputs": [],
   "source": [
    "'''\n",
    "    Essa célula será usada para criar um dicionário chamado setup, que contém os parâmetros principais que este código necessita. \n",
    "'''\n",
    "\n",
    "# Cria um dicionário para guardar alguns parâmetros importantes.\n",
    "setup = {\n",
    "    #\n",
    "    \"symbols\": sp500_symbols,\n",
    "    # Define a data inicial cujos dados serão coletados (Primeiro dia de negociações do S&P500 em 2019).\n",
    "    \"data_extraction_initial_date\": datetime(2019,1,2).date(), # Deve obrigatoriamente ser um dia de negociação.\n",
    "    # Define a data final cujos dados serão coletados (Último dia de negociações do S&P500 em 2023).\n",
    "    \"data_extraction_final_date\": datetime(2023,12,30).date(), # Deve obrigatoriamente ser um dia de negociação e deve também obrigatoriamente\n",
    "                                                               # suceder um dia de negociação.\n",
    "    # 5 -> Semanal / 20 -> Mensal\n",
    "    \"strategy_time_period\": 5,\n",
    "    \"regime_probability_threshold\": 0.9,\n",
    "    \"number_of_tickets_to_be_selected\": 50,\n",
    "    \"features_time_period\": {\n",
    "        #\n",
    "        \"returns_time_period\": 1,\n",
    "        #\n",
    "        \"exponential_moving_average_time_period\": 14,\n",
    "        #\n",
    "        \"relative_strength_index_time_period\": 14,\n",
    "        #\n",
    "        \"average_true_range_time_period\": 14,\n",
    "        #\n",
    "        \"momemtum_time_period\": 14,\n",
    "        #\n",
    "        \"vix_time_period\": \"1d\",\n",
    "        # Define o período do cálculo das mudanças percentuais (Usado no vix e no MSGARCH).\n",
    "        \"pct_change_period\": 1,\n",
    "    },\n",
    "    #\n",
    "    \"lstm_time_sequences_length\": 3\n",
    "}"
   ]
  },
  {
   "cell_type": "markdown",
   "metadata": {},
   "source": [
    "#### *Obtendo os dados dos tickers*"
   ]
  },
  {
   "cell_type": "code",
   "execution_count": null,
   "metadata": {},
   "outputs": [],
   "source": [
    "#\n",
    "tickers = Tickers(setup['symbols'], setup['data_extraction_initial_date'], setup['data_extraction_final_date'],\n",
    "                  setup['features_time_period'], setup['strategy_time_period'],\n",
    "                  setup['regime_probability_threshold'], setup['number_of_tickets_to_be_selected'])\n",
    "\n",
    "# Todos os tickers presentes na variável tickers acima estarão padronizados, isto é, possuirão os mesmos índices (esse fato será usado abaixo)."
   ]
  },
  {
   "cell_type": "markdown",
   "metadata": {},
   "source": [
    "#### *Criando o modelo LSTM*"
   ]
  },
  {
   "cell_type": "code",
   "execution_count": null,
   "metadata": {},
   "outputs": [],
   "source": [
    "#\n",
    "features_number = (tickers.symbols[0].data.shape[1] - 1)"
   ]
  },
  {
   "cell_type": "code",
   "execution_count": null,
   "metadata": {},
   "outputs": [],
   "source": [
    "model = Model(features_number,setup['lstm_sequence_length'])"
   ]
  },
  {
   "cell_type": "code",
   "execution_count": null,
   "metadata": {},
   "outputs": [],
   "source": [
    "model.create_LSTM_model()"
   ]
  },
  {
   "cell_type": "markdown",
   "metadata": {},
   "source": [
    "#### **"
   ]
  },
  {
   "cell_type": "code",
   "execution_count": null,
   "metadata": {},
   "outputs": [],
   "source": [
    "def get_ticker_period_results(ticker: Ticker, predicted: pd.Series, period_initial_date: datetime.date, period_final_date: datetime.date):\n",
    "    \n",
    "    # Redimensiona y_train para que ele seja bidimensional (Necessário para o MinMaxScaler).\n",
    "    resized_y_train = ticker.__y_train__.values.reshape(-1, 1)  \n",
    "\n",
    "    # Cria uma instancia do MinMaxScaler para o target do ticker em questão.\n",
    "    scaler_target = MinMaxScaler()\n",
    "\n",
    "    # Ajusta a instância criada acima ao conjunto de treino do target do ticker em questão.\n",
    "    scaler_target.fit_transform(resized_y_train)\n",
    "\n",
    "    # Volta os valores de \"y_test_scaled_sequences\" para a escala normal e associa a esses valores as suas datas originais, criando assim\n",
    "    # uma série temporal.\n",
    "    real_y = pd.Series(scaler_target.inverse_transform(ticker.__y_test_scaled_sequences__).flatten(),\n",
    "                    index= ticker.__y_test__.index[len(ticker.__y_test__) - len(ticker.__y_test_scaled_sequences__):]\n",
    "    )\n",
    "    # Adiciona um nome a série temporal \"real_y\"\n",
    "    real_y.name = f\"Preço real de {ticker.symbol}\"\n",
    "\n",
    "    # Volta os valores estimados para a escala normal e associa a esses valores as suas datas originais, criando assim\n",
    "    # uma série temporal.\n",
    "    predicted_y = pd.Series(\n",
    "        scaler_target.inverse_transform(predicted).flatten(),\n",
    "        index=ticker.__y_test__.index[len(ticker.__y_test__) - len(ticker.__y_test_scaled_sequences__):]\n",
    "    )\n",
    "\n",
    "    results = {\n",
    "        \"Retorno Predito\": log(predicted_y[-1]/predicted_y[0]) * 100,\n",
    "        \"Retorno Real\": log(real_y[-1]/real_y[0]) * 100\n",
    "    }\n",
    "\n",
    "    index = [ticker.symbol + \": \" + str(period_initial_date) + \" - \" + str(period_final_date)]\n",
    "    \n",
    "    return pd.DataFrame(results, index=index)"
   ]
  },
  {
   "cell_type": "code",
   "execution_count": null,
   "metadata": {},
   "outputs": [],
   "source": [
    "def process_period(tickers: Tickers, tickers_to_trade:list, period_number:int, strategy_time_period: int, indexes: list, model):\n",
    "    '''\n",
    "        Description:\n",
    "\n",
    "        Args:\n",
    "\n",
    "        Return:\n",
    "\n",
    "    '''\n",
    "    \n",
    "    #\n",
    "    period_initial_date = indexes[strategy_time_period*period_number].date()\n",
    "    #\n",
    "    period_final_date = indexes[strategy_time_period*period_number - 1 + strategy_time_period].date()\n",
    "    \n",
    "    #\n",
    "    period_results = pd.DataFrame()\n",
    "    \n",
    "    #\n",
    "    for ticker_index in tickers_to_trade: \n",
    "        #\n",
    "        X_train_scaled_sequences, X_test_scaled_sequences, y_train_scaled_sequences, y_test_scaled_sequences = \\\n",
    "        tickers.symbols[ticker_index].prepare_data_for_lstm(period_initial_date,period_final_date,setup['lstm_time_sequences_length'])\n",
    "        \n",
    "        #\n",
    "        predicted, adjusted_error = model.train_model_and_get_results(\n",
    "            X_train_scaled_sequences,X_test_scaled_sequences,y_train_scaled_sequences,y_test_scaled_sequences)\n",
    "        \n",
    "        #\n",
    "        period_results = pd.concat([period_results,get_ticker_period_results(\n",
    "            tickers.symbols[ticker_index], predicted, period_initial_date, period_final_date)])\n",
    "    \n",
    "    #\n",
    "    period_results = period_results.sort_values(by=\"Retorno Predito\", ascending=False)\n",
    "        \n",
    "    return period_results"
   ]
  },
  {
   "cell_type": "code",
   "execution_count": null,
   "metadata": {},
   "outputs": [],
   "source": [
    "#\n",
    "periods_number = (tickers.symbols[0].data.shape[0] // setup['strategy_time_period'])\n",
    "\n",
    "#\n",
    "indexes = tickers.symbols[0].data.index\n",
    "\n",
    "#\n",
    "tickers_to_trade = tickers.get_tickers_to_trade()"
   ]
  },
  {
   "cell_type": "code",
   "execution_count": null,
   "metadata": {},
   "outputs": [],
   "source": [
    "results = []\n",
    "\n",
    "for period in range(1,5):\n",
    "    period_results = process_period(tickers, tickers_to_trade[period], period, setup['strategy_time_period'], indexes, model)\n",
    "    results.append(period_results)"
   ]
  },
  {
   "cell_type": "code",
   "execution_count": null,
   "metadata": {},
   "outputs": [],
   "source": [
    "#\n",
    "output_file = 'resultados_portfolio_semanal.xlsx'\n",
    "\n",
    "with pd.ExcelWriter(output_file) as writer:\n",
    "    for period, period_results in enumerate(results):\n",
    "        sheet_name = f'Período {period+1}'\n",
    "        period_results.to_excel(writer, sheet_name=sheet_name)"
   ]
  },
  {
   "cell_type": "code",
   "execution_count": null,
   "metadata": {},
   "outputs": [],
   "source": [
    "for index in range(len(results)):\n",
    "    print(f\"O retorno no período {index+1} foi de aproximadamente {results[index]['Retorno Real'][:20].mean():.2f}%\")"
   ]
  }
 ],
 "metadata": {
  "kernelspec": {
   "display_name": "Python 3",
   "language": "python",
   "name": "python3"
  },
  "language_info": {
   "codemirror_mode": {
    "name": "ipython",
    "version": 3
   },
   "file_extension": ".py",
   "mimetype": "text/x-python",
   "name": "python",
   "nbconvert_exporter": "python",
   "pygments_lexer": "ipython3",
   "version": "3.10.12"
  }
 },
 "nbformat": 4,
 "nbformat_minor": 2
}
